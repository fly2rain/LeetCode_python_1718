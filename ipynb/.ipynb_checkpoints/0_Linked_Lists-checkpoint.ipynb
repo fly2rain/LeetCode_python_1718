{
 "cells": [
  {
   "cell_type": "markdown",
   "metadata": {
    "toc": true
   },
   "source": [
    "<h1>Table of Contents<span class=\"tocSkip\"></span></h1>\n",
    "<div class=\"toc\"><ul class=\"toc-item\"><li><span><a href=\"#21.easy-Merge-Two-Sorted-Lists\" data-toc-modified-id=\"21.easy-Merge-Two-Sorted-Lists-1\"><span class=\"toc-item-num\">1&nbsp;&nbsp;</span>21.easy-Merge Two Sorted Lists</a></span></li><li><span><a href=\"#23_hard_merge-k-Sorted-Lists\" data-toc-modified-id=\"23_hard_merge-k-Sorted-Lists-2\"><span class=\"toc-item-num\">2&nbsp;&nbsp;</span><a href=\"https://leetcode.com/problems/merge-k-sorted-lists/\" target=\"_blank\">23_hard_merge k Sorted Lists</a></a></span></li><li><span><a href=\"#Delete-node-in-Linked-List\" data-toc-modified-id=\"Delete-node-in-Linked-List-3\"><span class=\"toc-item-num\">3&nbsp;&nbsp;</span>Delete node in Linked List</a></span><ul class=\"toc-item\"><li><span><a href=\"#237.easy-Delete-Node-in-a-Linked-List\" data-toc-modified-id=\"237.easy-Delete-Node-in-a-Linked-List-3.1\"><span class=\"toc-item-num\">3.1&nbsp;&nbsp;</span><a href=\"https://leetcode.com/problems/delete-node-in-a-linked-list/description/\" target=\"_blank\">237.easy-Delete Node in a Linked List</a></a></span></li><li><span><a href=\"#203.easy-Remove-Linked-List-Elements\" data-toc-modified-id=\"203.easy-Remove-Linked-List-Elements-3.2\"><span class=\"toc-item-num\">3.2&nbsp;&nbsp;</span><a href=\"https://leetcode.com/problems/remove-linked-list-elements/description/\" target=\"_blank\">203.easy-Remove Linked List Elements</a></a></span></li><li><span><a href=\"#27.easy-Remove-Element\" data-toc-modified-id=\"27.easy-Remove-Element-3.3\"><span class=\"toc-item-num\">3.3&nbsp;&nbsp;</span><a href=\"https://leetcode.com/problems/remove-element/description/\" target=\"_blank\">27.easy-Remove Element</a></a></span></li><li><span><a href=\"#19.medium-Remove-Nth-Node-From-End-of-List\" data-toc-modified-id=\"19.medium-Remove-Nth-Node-From-End-of-List-3.4\"><span class=\"toc-item-num\">3.4&nbsp;&nbsp;</span><a href=\"https://leetcode.com/problems/remove-nth-node-from-end-of-list/description/\" target=\"_blank\">19.medium-Remove Nth Node From End of List</a></a></span></li></ul></li><li><span><a href=\"#141.easy-Linked-List-Cycle\" data-toc-modified-id=\"141.easy-Linked-List-Cycle-4\"><span class=\"toc-item-num\">4&nbsp;&nbsp;</span><a href=\"https://leetcode.com/problems/linked-list-cycle/description/\" target=\"_blank\">141.easy-Linked List Cycle</a></a></span></li><li><span><a href=\"#142_Medium_Linked-List-Cycle-II\" data-toc-modified-id=\"142_Medium_Linked-List-Cycle-II-5\"><span class=\"toc-item-num\">5&nbsp;&nbsp;</span><a href=\"https://leetcode.com/problems/linked-list-cycle-ii/description/\" target=\"_blank\">142_Medium_Linked List Cycle II</a></a></span></li><li><span><a href=\"#(精巧)-160.easy-Intersection-of-Two-Linked-Lists\" data-toc-modified-id=\"(精巧)-160.easy-Intersection-of-Two-Linked-Lists-6\"><span class=\"toc-item-num\">6&nbsp;&nbsp;</span>(精巧) <a href=\"https://leetcode.com/problems/intersection-of-two-linked-lists/description/\" target=\"_blank\">160.easy-Intersection of Two Linked Lists</a></a></span></li><li><span><a href=\"#234.easy-Palindrome-Linked-List\" data-toc-modified-id=\"234.easy-Palindrome-Linked-List-7\"><span class=\"toc-item-num\">7&nbsp;&nbsp;</span><a href=\"https://leetcode.com/problems/palindrome-linked-list/description/\" target=\"_blank\">234.easy-Palindrome Linked List</a></a></span></li><li><span><a href=\"#2/6:-Linked-List\" data-toc-modified-id=\"2/6:-Linked-List-8\"><span class=\"toc-item-num\">8&nbsp;&nbsp;</span>2/6: Linked List</a></span><ul class=\"toc-item\"><li><span><a href=\"#203.easy-Remove-Linked-List-Elements\" data-toc-modified-id=\"203.easy-Remove-Linked-List-Elements-8.1\"><span class=\"toc-item-num\">8.1&nbsp;&nbsp;</span><a href=\"https://leetcode.com/problems/remove-linked-list-elements/description/\" target=\"_blank\">203.easy-Remove Linked List Elements</a></a></span></li><li><span><a href=\"#143.medium-Reorder-List\" data-toc-modified-id=\"143.medium-Reorder-List-8.2\"><span class=\"toc-item-num\">8.2&nbsp;&nbsp;</span><a href=\"https://leetcode.com/problems/reorder-list/description/\" target=\"_blank\">143.medium-Reorder List</a></a></span></li><li><span><a href=\"#❤️147.med-Insertion-Sort-List\" data-toc-modified-id=\"❤️147.med-Insertion-Sort-List-8.3\"><span class=\"toc-item-num\">8.3&nbsp;&nbsp;</span><a href=\"https://leetcode.com/problems/insertion-sort-list/description/\" target=\"_blank\">❤️147.med-Insertion Sort List</a></a></span></li><li><span><a href=\"#待做-148_Medium_Sort-List\" data-toc-modified-id=\"待做-148_Medium_Sort-List-8.4\"><span class=\"toc-item-num\">8.4&nbsp;&nbsp;</span><a href=\"https://leetcode.com/problems/sort-list/description/\" target=\"_blank\">待做-148_Medium_Sort List</a></a></span></li><li><span><a href=\"#2.medium-Add-Two-Numbers\" data-toc-modified-id=\"2.medium-Add-Two-Numbers-8.5\"><span class=\"toc-item-num\">8.5&nbsp;&nbsp;</span>2.medium-Add Two Numbers</a></span></li><li><span><a href=\"#445.medium-Add-Two-Numbers-II\" data-toc-modified-id=\"445.medium-Add-Two-Numbers-II-8.6\"><span class=\"toc-item-num\">8.6&nbsp;&nbsp;</span><a href=\"https://leetcode.com/problems/add-two-numbers-ii/description/\" target=\"_blank\">445.medium-Add Two Numbers II</a></a></span></li><li><span><a href=\"#206.easy-Reverse-Linked-List\" data-toc-modified-id=\"206.easy-Reverse-Linked-List-8.7\"><span class=\"toc-item-num\">8.7&nbsp;&nbsp;</span><a href=\"https://leetcode.com/problems/reverse-linked-list/description/\" target=\"_blank\">206.easy-Reverse Linked List</a></a></span></li><li><span><a href=\"#❤️92.medium-Reverse-Linked-List-II\" data-toc-modified-id=\"❤️92.medium-Reverse-Linked-List-II-8.8\"><span class=\"toc-item-num\">8.8&nbsp;&nbsp;</span><a href=\"https://leetcode.com/problems/reverse-linked-list-ii/description/\" target=\"_blank\">❤️92.medium-Reverse Linked List II</a></a></span></li></ul></li><li><span><a href=\"#2/7:-Linked-List\" data-toc-modified-id=\"2/7:-Linked-List-9\"><span class=\"toc-item-num\">9&nbsp;&nbsp;</span>2/7: Linked List</a></span><ul class=\"toc-item\"><li><span><a href=\"#❤️❤️138.medium-Copy-List-with-Random-Pointer\" data-toc-modified-id=\"❤️❤️138.medium-Copy-List-with-Random-Pointer-9.1\"><span class=\"toc-item-num\">9.1&nbsp;&nbsp;</span><a href=\"https://leetcode.com/problems/copy-list-with-random-pointer/description/\" target=\"_blank\">❤️❤️138.medium-Copy List with Random Pointer</a></a></span></li><li><span><a href=\"#24.medium-Swap-Nodes-in-Pairs\" data-toc-modified-id=\"24.medium-Swap-Nodes-in-Pairs-9.2\"><span class=\"toc-item-num\">9.2&nbsp;&nbsp;</span><a href=\"https://leetcode.com/problems/swap-nodes-in-pairs/description/\" target=\"_blank\">24.medium-Swap Nodes in Pairs</a></a></span></li><li><span><a href=\"#25.medium-Reverse-Nodes-in-k-Group\" data-toc-modified-id=\"25.medium-Reverse-Nodes-in-k-Group-9.3\"><span class=\"toc-item-num\">9.3&nbsp;&nbsp;</span><a href=\"https://leetcode.com/problems/reverse-nodes-in-k-group/description/\" target=\"_blank\">25.medium-Reverse Nodes in k-Group</a></a></span></li><li><span><a href=\"#328.medium-Odd-Even-Linked-List\" data-toc-modified-id=\"328.medium-Odd-Even-Linked-List-9.4\"><span class=\"toc-item-num\">9.4&nbsp;&nbsp;</span><a href=\"https://leetcode.com/problems/odd-even-linked-list/description/\" target=\"_blank\">328.medium-Odd Even Linked List</a></a></span></li><li><span><a href=\"#61.medium-Rotate-List\" data-toc-modified-id=\"61.medium-Rotate-List-9.5\"><span class=\"toc-item-num\">9.5&nbsp;&nbsp;</span><a href=\"https://leetcode.com/problems/rotate-list/description/\" target=\"_blank\">61.medium-Rotate List</a></a></span></li><li><span><a href=\"#83.easy-Remove-Duplicates-from-Sorted-List\" data-toc-modified-id=\"83.easy-Remove-Duplicates-from-Sorted-List-9.6\"><span class=\"toc-item-num\">9.6&nbsp;&nbsp;</span><a href=\"https://leetcode.com/problems/remove-duplicates-from-sorted-list/description/\" target=\"_blank\">83.easy-Remove Duplicates from Sorted List</a></a></span></li><li><span><a href=\"#82.medium-Remove-Duplicates-from-Sorted-List-II\" data-toc-modified-id=\"82.medium-Remove-Duplicates-from-Sorted-List-II-9.7\"><span class=\"toc-item-num\">9.7&nbsp;&nbsp;</span><a href=\"https://leetcode.com/problems/remove-duplicates-from-sorted-list-ii/description/\" target=\"_blank\">82.medium-Remove Duplicates from Sorted List II</a></a></span></li></ul></li><li><span><a href=\"#补充\" data-toc-modified-id=\"补充-10\"><span class=\"toc-item-num\">10&nbsp;&nbsp;</span>补充</a></span><ul class=\"toc-item\"><li><span><a href=\"#Find-the-middle-for-a-linked-list\" data-toc-modified-id=\"Find-the-middle-for-a-linked-list-10.1\"><span class=\"toc-item-num\">10.1&nbsp;&nbsp;</span>Find the middle for a linked list</a></span></li><li><span><a href=\"#Find-Length-of-a-Linked-List-(Iterative-and-Recursive)\" data-toc-modified-id=\"Find-Length-of-a-Linked-List-(Iterative-and-Recursive)-10.2\"><span class=\"toc-item-num\">10.2&nbsp;&nbsp;</span>Find Length of a Linked List (Iterative and Recursive)</a></span></li><li><span><a href=\"#编程技巧\" data-toc-modified-id=\"编程技巧-10.3\"><span class=\"toc-item-num\">10.3&nbsp;&nbsp;</span>编程技巧</a></span></li></ul></li></ul></div>"
   ]
  },
  {
   "cell_type": "markdown",
   "metadata": {},
   "source": [
    "# Linked List\n",
    "* 题型: Two points + Top 100 Liked Questions:\n",
    "* 链接: https://leetcode.com/problemset/algorithms/?topicSlugs=linked-list&listId=79h8rn6"
   ]
  },
  {
   "cell_type": "markdown",
   "metadata": {},
   "source": [
    "## 21.easy-Merge Two Sorted Lists\n",
    "##### 题意 https://leetcode.com/problems/merge-two-sorted-lists/description/\n",
    "* Merge two sorted linked lists and return it as a new list. The new list should be made by splicing together the nodes of the first two lists.\n",
    "* 举例:\n",
    "    * Input: 1->2->4, 1->3->4\n",
    "    * Output: 1->1->2->3->4->4"
   ]
  },
  {
   "cell_type": "code",
   "execution_count": null,
   "metadata": {
    "collapsed": true
   },
   "outputs": [],
   "source": [
    "# Definition for singly-linked list.\n",
    "# class ListNode(object):\n",
    "#     def __init__(self, x):\n",
    "#         self.val = x\n",
    "#         self.next = None\n",
    "\n",
    "class Solution(object):\n",
    "    def mergeTwoLists(self, l1, l2):\n",
    "        \"\"\"\n",
    "        :type l1: ListNode\n",
    "        :type l2: ListNode\n",
    "        :rtype:   ListNode\n",
    "        \"\"\"\n",
    "        # 1 the basic case\n",
    "        if not l1: return l2\n",
    "        if not l2: return l1\n",
    "        \n",
    "        # 2 merge the two lists\n",
    "        dummy = curr = ListNode(None)\n",
    "        while l1 and l2:\n",
    "            if l1.val < l2.val:\n",
    "                curr.next = l1\n",
    "                l1 = l1.next\n",
    "            else:\n",
    "                curr.next = l2\n",
    "                l2 = l2.next\n",
    "            curr = curr.next\n",
    "            \n",
    "        curr.next = l1 or l2  # ❤️ python 碉堡了, 竟然能支持这种语法\n",
    "        # curr.next = l1 if l1 else l2 # ❤️ 其实这个也是类似的.\n",
    "        return dummy.next"
   ]
  },
  {
   "cell_type": "markdown",
   "metadata": {},
   "source": [
    "## [23_hard_merge k Sorted Lists](https://leetcode.com/problems/merge-k-sorted-lists/)\n",
    "##### 题意\n",
    "* Merge $k$ sorted linked lists and return it as one sorted list. Analyze and describe its complexity.\n",
    "* 难点: 是要处理 $k$ 个 sorted linked lists.\n",
    "* 总结: 我已经做出以下答案, 还有很多其他答案.\n",
    "\n",
    "##### 参考视频\n",
    "* Edward Shi: https://www.youtube.com/watch?v=5xT5GMTFvRI\n",
    "\n",
    "##### My solution \n",
    "* runtime: $O(nlogk)$, $n$ 表示所有 sorted linked list 包含元素的个数.\n",
    "* space complexity: 几乎是 in-place 的, 属于 constant complexity $O(1)$."
   ]
  },
  {
   "cell_type": "code",
   "execution_count": null,
   "metadata": {
    "collapsed": true
   },
   "outputs": [],
   "source": [
    "# 👍 方法1: Priority queue & heapq. ❤️❤️ 最推荐的方法, 有扩展性.\n",
    "# Time O(nlogk), space: O(n), n is the total number elements, k 是 linked list 的数量 \n",
    "# 总结: priority queue 和 heapq 是最值得推荐的, 个人更熟悉 heapq 的语法.\n",
    "from Queue import PriorityQueue\n",
    "import heapq\n",
    "class Solution(object):\n",
    "    def mergeKLists(self, lists):\n",
    "        # 1 edge condition\n",
    "        if not lists: return []\n",
    "        \n",
    "        # 2 使用 heapq 先存储第一个元素\n",
    "        q = []\n",
    "        for x in lists:\n",
    "            if x: heapq.heappush(q, (x.val, x)) # ❎❤️ 必须判断 x 是否为空, 注意必须有 heapq. \n",
    "        \n",
    "        dummy = cur = ListNode(None)\n",
    "        while len(q) > 0:\n",
    "            cur.next = heapq.heappop(q)[1]\n",
    "            cur = cur.next\n",
    "            if cur.next: heapq.heappush(q, (cur.next.val, cur.next))\n",
    "            \n",
    "        return dummy.next\n",
    "    \n",
    "    def mergeKLists(self, lists):\n",
    "        # 1 edge condition\n",
    "        if not lists: return []\n",
    "        \n",
    "        # 2 使用 priority queue. \n",
    "        q = PriorityQueue()\n",
    "        for x in lists: # 👍👍 注意语法 q.put()\n",
    "            if x: q.put((x.val, x)) # ❤️❤️ 按照 x.val 的大小, 优先级放入 priority queue 中.\n",
    "        \n",
    "        dummy = cur = ListNode(None)\n",
    "        while q.qsize() > 0: # 👍👍 注语语法 q.qsize()\n",
    "            cur.next = q.get()[1] # 👍👍 \n",
    "            cur = cur.next\n",
    "            if cur.next: q.put((cur.next.val, cur.next))\n",
    "                \n",
    "        return dummy.next"
   ]
  },
  {
   "cell_type": "code",
   "execution_count": null,
   "metadata": {
    "collapsed": true
   },
   "outputs": [],
   "source": [
    "# 方法2: david & conquer. Time O(nlogn). 有点像 tree, postorder 的题.\n",
    "class Solution(object):\n",
    "    def mergeKLists(self, lists):\n",
    "        if not lists: return []\n",
    "        return self._mergeKLists(lists, 0, len(lists)-1)\n",
    "        \n",
    "    def _mergeKLists(self, nums, l, r):\n",
    "        if l >= r: return nums[l]\n",
    "        \n",
    "        m = l + ((r-l) >> 1)\n",
    "        l1 = self._mergeKLists(nums, l, m) #👍❤️ 注意这种返回的机制.\n",
    "        l2 = self._mergeKLists(nums, m+1, r)\n",
    "        return self.merge(l1, l2)\n",
    "            \n",
    "    def merge(self, l1, l2):\n",
    "        if not l1: return l2\n",
    "        if not l2: return l1\n",
    "        \n",
    "        dummy = cur = ListNode(None)\n",
    "        while l1 and l2:\n",
    "            if l1.val < l2.val:\n",
    "                cur.next = l1\n",
    "                l1 = l1.next\n",
    "            else:\n",
    "                cur.next = l2\n",
    "                l2 = l2.next\n",
    "            cur = cur.next\n",
    "        \n",
    "        cur.next = l1 or l2\n",
    "        return dummy.next          "
   ]
  },
  {
   "cell_type": "markdown",
   "metadata": {},
   "source": [
    "## Delete node in Linked List\n",
    "##### 可能的题型\n",
    "* 指明删除<span class=\"girk\">第 i 个 node</span>, 这个简单, 计数变量从 1 开始在 loop里递增计数, 当计数变量指向 i-1时, <span class=\"girk\">.next = .next.next</span>\n",
    "* 指明删除<span class=\"girk\">倒数第 i 个 node</span>. 两条思路:\n",
    "    * [<span class=\"girk\">两轮 loop</span>] 遍历一次得到 linked list node 个数, 推出倒数第 i 个 node 是正数第 n - i 个 node. 然后按照第 1 种题型的方式删除 node.\n",
    "    * [<span class=\"girk\">一轮 loop</span>] 快慢指针的方法, 快指针比慢指针快 i + 1 个. 快指针到末尾的时候, 慢指针正好指向倒数第 i-1 个变量, 实施删除.\n",
    "* 指明删除给定 val 的 node. [思路]: 为了一轮 loop 搞定, 引入两个快慢指针法. 快指针比慢指针快一个, 快指针等于 val 时, 慢指针正好指向前一个, 删除."
   ]
  },
  {
   "cell_type": "markdown",
   "metadata": {},
   "source": [
    "### [237.easy-Delete Node in a Linked List](https://leetcode.com/problems/delete-node-in-a-linked-list/description/)\n",
    "##### INFO\n",
    "* 题意: 给定**单个** linked list 的 node, 删除该 node. [注意] 该 node 假定不是尾 node. \n",
    "* 思路: \n",
    "    * <span class=\"girk\">一般思路</span>: 该 node 前一个 node 的 next 跳过当前 node, 让它指向后一个 node. [问题]: 只给定当前 node.\n",
    "    * <span class=\"girk\">巧妙思路</span>: 将 node 后的一个 node 的值, 拷贝给当前 node, 然后删除后一个 node. 优势: 不需要前一个 node."
   ]
  },
  {
   "cell_type": "code",
   "execution_count": null,
   "metadata": {
    "collapsed": true
   },
   "outputs": [],
   "source": [
    "# Definition for singly-linked list.\n",
    "# class ListNode(object):\n",
    "#     def __init__(self, x):\n",
    "#         self.val = x\n",
    "#         self.next = None\n",
    "\n",
    "class Solution(object):\n",
    "    def deleteNode(self, node):\n",
    "        \"\"\"\n",
    "        :type node: ListNode\n",
    "        :rtype: void Do not return anything, modify node in-place instead.\n",
    "        \"\"\"\n",
    "        node.val  = node.next.val # ❤️ 很聪明简单的方法, 在 tree 中类似的思路也出现过, 但更加复杂.\n",
    "        node.next = node.next.next "
   ]
  },
  {
   "cell_type": "markdown",
   "metadata": {},
   "source": [
    "##### 扩展  & 分析:\n",
    "* 如果给定 node 是<span class=\"girk\">尾 node, 这条思路行不通</span>. 第 1 条语句就行不通了. 必然需要前一个 node. "
   ]
  },
  {
   "cell_type": "markdown",
   "metadata": {},
   "source": [
    "### [203.easy-Remove Linked List Elements](https://leetcode.com/problems/remove-linked-list-elements/description/)\n",
    "##### INFO\n",
    "* 题意: 给定linked list, <span class=\"girk\">删除所有</span> val 的 node.\n",
    "* 思路: two points, 一个比另一个快1.\n",
    "\n",
    "##### [方法1: fast and slow points](https://leetcode.com/problems/remove-linked-list-elements/discuss/)\n",
    "* 第一做完的时间 1/19/18 4:08 PM \n",
    "    * <span class=\"girk\">错误的原因</span>: 没有把删除过程画出来, 没有画面感. 总体而言, curr 每次都更新; 但删除时, prev 不变, 不删除时, 更新 prev = prev.next. \n",
    "    * 编程的心得: prev.next  = curr.next # prev.next = prev.next.next"
   ]
  },
  {
   "cell_type": "code",
   "execution_count": null,
   "metadata": {
    "collapsed": true
   },
   "outputs": [],
   "source": [
    "# Definition for singly-linked list.\n",
    "# class ListNode(object):\n",
    "#     def __init__(self, x):\n",
    "#         self.val = x\n",
    "#         self.next = None\n",
    "\n",
    "class Solution(object):\n",
    "    def removeElements(self, head, val):\n",
    "        \"\"\"\n",
    "        :type head: ListNode\n",
    "        :type val: int\n",
    "        :rtype: ListNode\n",
    "        \"\"\"\n",
    "        dummy = prev = ListNode(None)\n",
    "        curr = prev.next = head\n",
    "        \n",
    "        while curr:\n",
    "            if curr.val == val:   # ❤️ 删除时, 只是设置.next 指向, prev 节点不变.\n",
    "                prev.next = curr.next # ❤️, 改变指向, 节点本身不变....\n",
    "            else:\n",
    "                prev = prev.next\n",
    "            curr = curr.next\n",
    "            \n",
    "        return dummy.next"
   ]
  },
  {
   "cell_type": "markdown",
   "metadata": {},
   "source": [
    "##### [方法2: 递归法 - clean, short, clever but not good](https://discuss.leetcode.com/topic/12580/3-line-recursive-solution/2)\n",
    "* 复杂度应该高于 iteration. \n",
    "* python code 不能通过测试, 因为超过了最大 recursive depth. RuntimeError: maximum recursion depth exceeded."
   ]
  },
  {
   "cell_type": "code",
   "execution_count": null,
   "metadata": {
    "collapsed": true
   },
   "outputs": [],
   "source": [
    "# Definition for singly-linked list.\n",
    "# class ListNode(object):\n",
    "#     def __init__(self, x):\n",
    "#         self.val = x\n",
    "#         self.next = None\n",
    "\n",
    "class Solution(object):\n",
    "    def removeElements(self, head, val):\n",
    "        \"\"\"\n",
    "        :type head: ListNode\n",
    "        :type val: int\n",
    "        :rtype: ListNode\n",
    "        \"\"\"\n",
    "        # the basic case\n",
    "        if not head: return None\n",
    "        \n",
    "        # recursive check head.next \n",
    "        head.next = removeElements (head.next, val) # ❤️ 利用递归调用, 自然有前后两步的 指针.\n",
    "        return head.next if head.val == val else head"
   ]
  },
  {
   "cell_type": "markdown",
   "metadata": {},
   "source": [
    "### [27.easy-Remove Element](https://leetcode.com/problems/remove-element/description/)\n",
    "##### INFO\n",
    "* 题意: list 的问题, in-place 删除 list 中 等于 val 的所有元素, 返回最新长度.\n",
    "* 思路: 简单, 两个 point, 一个正常遍历, 一个记录当前的存放位置. \n",
    "\n",
    "##### [方法1: two points - 顺序 (<span class=\"burk\">适合大量相同的情况</span>) ](https://leetcode.com/problems/remove-element/solution/)\n",
    "* 第一做完的时间 1/19/18 4:40 PM, \n",
    "* 缺陷: 如果极少元素等于 val, 将需要大量的 赋值操作."
   ]
  },
  {
   "cell_type": "code",
   "execution_count": null,
   "metadata": {
    "collapsed": true
   },
   "outputs": [],
   "source": [
    "class Solution(object):\n",
    "    def removeElement(self, nums, val):\n",
    "        \"\"\"\n",
    "        :type nums: List[int]\n",
    "        :type val: int\n",
    "        :rtype: int\n",
    "        \"\"\"\n",
    "        k, nn = 0, len(nums)\n",
    "        if not nn:\n",
    "            return k\n",
    "        \n",
    "        for i, x in enumerate (nums):\n",
    "            if x == val:\n",
    "                continue\n",
    "            nums[k] = x\n",
    "            k += 1\n",
    "                \n",
    "        return k # 原来的错误, return k + 1. 大意."
   ]
  },
  {
   "cell_type": "markdown",
   "metadata": {},
   "source": [
    "\n",
    "##### [方法2: two points - 逆序 (<span class=\"burk\">适合极少相同的情况</span>)](https://leetcode.com/problems/remove-element/solution/)\n",
    "* 第一做完的时间 \t1/19/18 4:45 PM.\n",
    "* 思路: 两个指针, 一个开头, 一个结尾. 如果开头 == val, 那么将结尾的值赋给开头, n -= 1; 否则, 开头指针 k += 1.\n",
    "* 优势: 如果极少元素 == val, 那么极少有赋值操作."
   ]
  },
  {
   "cell_type": "code",
   "execution_count": null,
   "metadata": {
    "collapsed": true
   },
   "outputs": [],
   "source": [
    "# 改变了原有 list 相对的\n",
    "class Solution(object):\n",
    "    def removeElement(self, nums, val):\n",
    "        \"\"\"\n",
    "        :type nums: List[int]\n",
    "        :type val: int\n",
    "        :rtype: int\n",
    "        \"\"\"\n",
    "        if not nums: return 0\n",
    "        \n",
    "        k, n = 0, len(nums) - 1\n",
    "        while k <= n:   # ❤️\n",
    "            if nums[k] == val:\n",
    "                nums[k] = nums[n]\n",
    "                n -= 1 # ❤️ 反正每次都有变动\n",
    "            else:\n",
    "                k += 1 # ❤️ \n",
    "        return k"
   ]
  },
  {
   "cell_type": "markdown",
   "metadata": {},
   "source": [
    "### [19.medium-Remove Nth Node From End of List](https://leetcode.com/problems/remove-nth-node-from-end-of-list/description/)\n",
    "##### 题意 \n",
    "* Given a linked list, remove the n-th node from the end of list and return its head.\n",
    "* 举例:\n",
    "    * Given linked list: 1->2->3->4->5, and n = 2.\n",
    "    * After removing the second node from the end, the linked list becomes 1->2->3->5.\n",
    "* 注意:\n",
    "    * Given n will always be valid.\n",
    "    * Try to do this in one pass."
   ]
  },
  {
   "cell_type": "markdown",
   "metadata": {},
   "source": [
    "##### [方法 #2 (One pass algorithm)](https://leetcode.com/problems/remove-nth-node-from-end-of-list/solution/)\n",
    "* two points, fast point 去找 linked list 的 end, slow point 正好在需删 node 的前一个 node. 需要保证 fast point 和 slow point 之间相差 n + 1\n",
    "* 第一次写于 1/19/18 6:32 PM, 让两个 point 之间的距离正好为 n 了, 从而导致错误. 应该需要 n + 1 的."
   ]
  },
  {
   "cell_type": "code",
   "execution_count": null,
   "metadata": {
    "collapsed": true
   },
   "outputs": [],
   "source": [
    "# Definition for singly-linked list.\n",
    "# class ListNode(object):\n",
    "#     def __init__(self, x):\n",
    "#         self.val = x\n",
    "#         self.next = None\n",
    "\n",
    "class Solution(object):\n",
    "    def removeNthFromEnd(self, head, n):\n",
    "        \"\"\"\n",
    "        :type head: ListNode\n",
    "        :type n: int\n",
    "        :rtype: ListNode\n",
    "        \"\"\"\n",
    "        # 1 define auxiliary variables \n",
    "        dummy = prev = curr = ListNode(None)\n",
    "        dummy.next = head\n",
    "        \n",
    "        # 2 fast index ❤️ ❤️ 先走 n + 1 步 ❤️ ❤️\n",
    "        for i in xrange(n + 1): # ❎ 这个边界第一遍写错了.\n",
    "            curr = curr.next\n",
    "        \n",
    "        # 3 直到 fast reach the end, then the slower would be the node before the deleted node \n",
    "        while curr:\n",
    "            curr = curr.next\n",
    "            prev = prev.next\n",
    "        \n",
    "        # 4 delete it\n",
    "        prev.next = prev.next.next\n",
    "        return dummy.next "
   ]
  },
  {
   "cell_type": "markdown",
   "metadata": {},
   "source": [
    "##### [方法 #1 (Two pass algorithm)](https://leetcode.com/problems/remove-nth-node-from-end-of-list/solution/)\n",
    " - 第一次练习: **corner case 没处理好**, 另外**没有命名为 dummy**. 这样在删除第一个元素的时候变得非常困难. \n",
    " - 做这个题, 适合画个图, 从而确定边界条件, 比如 index 范围.\n",
    " - 做 linked list 问题, 无非是计数 和 index 的问题, 一般计数还是 1-based, 而 index 是 0-based."
   ]
  },
  {
   "cell_type": "code",
   "execution_count": null,
   "metadata": {
    "collapsed": true
   },
   "outputs": [],
   "source": [
    "# Definition for singly-linked list.\n",
    "# class ListNode(object):\n",
    "#     def __init__(self, x):\n",
    "#         self.val = x\n",
    "#         self.next = None\n",
    "\n",
    "class Solution(object):\n",
    "    def removeNthFromEnd(self, head, n):\n",
    "        \"\"\"\n",
    "        :type head: ListNode\n",
    "        :type n: int\n",
    "        :rtype: ListNode\n",
    "        \"\"\"\n",
    "        dummy = ListNode (None)\n",
    "        dummy.next = curr = head\n",
    "        \n",
    "        ## 1 count how many elements in the linked list\n",
    "        N   = 0 \n",
    "        while curr:\n",
    "            N += 1\n",
    "            curr = curr.next\n",
    "        \n",
    "        ## 2 locate to the previous node before the node to delete\n",
    "        k = 0\n",
    "        curr = dummy\n",
    "        while k < N - n: # 边界很难.\n",
    "            curr = curr.next\n",
    "            k += 1\n",
    "        \n",
    "        ## 3 delete the node\n",
    "        curr.next = curr.next.next\n",
    "        \n",
    "        return dummy.next"
   ]
  },
  {
   "cell_type": "code",
   "execution_count": null,
   "metadata": {
    "collapsed": true
   },
   "outputs": [],
   "source": [
    "# Definition for singly-linked list.\n",
    "# class ListNode(object):\n",
    "#     def __init__(self, x):\n",
    "#         self.val = x\n",
    "#         self.next = None\n",
    "\n",
    "class Solution(object):\n",
    "    def removeNthFromEnd(self, head, n):\n",
    "        \"\"\"\n",
    "        :type head: ListNode\n",
    "        :type n: int\n",
    "        :rtype: ListNode\n",
    "        \"\"\""
   ]
  },
  {
   "cell_type": "markdown",
   "metadata": {},
   "source": [
    "## [141.easy-Linked List Cycle](https://leetcode.com/problems/linked-list-cycle/description/)\n",
    "##### 题意\n",
    "* 给定 linked list, 判断是否包含 cycle.\n",
    "\n",
    "##### 分析\n",
    "* 方法1: 使用 hash-table, 查看每个 node 是否已经在 hash-table 中.\n",
    "* 方法2: Two points, 一个是另外一个的两倍速度,\n",
    "\n",
    "##### 技巧总\n",
    "```fast = fast.next.next``` # 一定要判断 ```if fast and fast.next```, 只有存在 ```fast.next``` 才存在 ```fast.next.next``` "
   ]
  },
  {
   "cell_type": "code",
   "execution_count": null,
   "metadata": {
    "collapsed": true
   },
   "outputs": [],
   "source": [
    "# Definition for singly-linked list.\n",
    "# class ListNode(object):\n",
    "#     def __init__(self, x):\n",
    "#         self.val = x\n",
    "#         self.next = None\n",
    "\n",
    "class Solution(object):\n",
    "    def hasCycle(self, head):\n",
    "        \"\"\"\n",
    "        :type head: ListNode\n",
    "        :rtype: bool\n",
    "        \"\"\"\n",
    "        # 1 没有元素或只有一个元素, 是不可能有 cycle 的.\n",
    "        if not head:\n",
    "            return False\n",
    "        \n",
    "        # 2: two point method to check the cycle\n",
    "        fast = slow = head  # ❤️❤️ 这种方法是非常靠谱的.\n",
    "        while fast and fast.next: \n",
    "            fast = fast.next.next # ❤️❤️ 有这句, 必须判断 fast.next 是否存在\n",
    "            slow = slow.next\n",
    "            if fast == slow:\n",
    "                return True\n",
    "            \n",
    "        return False"
   ]
  },
  {
   "cell_type": "markdown",
   "metadata": {},
   "source": [
    "## [142_Medium_Linked List Cycle II](https://leetcode.com/problems/linked-list-cycle-ii/description/)\n",
    "##### 题意\n",
    "* 对给定 linked list, 输出 cycle 开始的 node. 如果没有 cycle, 则输出是 None.\n",
    "* Note: Do not modify the linked list.\n",
    "* Follow up: Can you solve it without using extra space?\n",
    "\n",
    "##### 分析\n",
    "* 方法1: 使用 hash-table 其实很简单. 可惜需要 extra space.\n",
    "* 方法2: Approach #2 Floyd's Tortoise and Hare [Accepted]\n",
    "    * 使用 fast 和 slow 的方法找到 meet point\n",
    "    * 从 meet point 开始, slow 一步一步走. 从 head 开始, 开始一个新的 point pnew, 一步一步走.\n",
    "    * slow 和 pnew 将 meet 在 entrance. 这个通过复杂的画图就知道了.\n",
    "    \n",
    "* 方法2 的相关链接:\n",
    "    * https://leetcode.com/problems/linked-list-cycle-ii/solution/\n",
    "    * http://www.cnblogs.com/hiddenfox/p/3408931.html\n",
    "    * http://fisherlei.blogspot.com/2013/11/leetcode-linked-list-cycle-ii-solution.html\n",
    "    \n",
    "##### 根据 http://www.cnblogs.com/hiddenfox/p/3408931.html 可能的扩展问题有哪些?\n",
    "* 环的长度是多少？[答]: 先找到meet point, 再利用 fast and slow 追赶问题, 解出应用题 (slow 比 fast 快 r - 1圈). \n",
    "* 如何找到环中第一个节点（即Linked List Cycle II）？\n",
    "* 如何将有环的链表变成单链表（解除环）？[答]: (1) 找到 entrance 和 entrance 前面一个 node (2) 让它.next 指向 None. \n",
    "* 如何判断两个单链表是否有交点？如何找到第一个相交的节点？[答] 已经做过."
   ]
  },
  {
   "cell_type": "code",
   "execution_count": null,
   "metadata": {
    "collapsed": true
   },
   "outputs": [],
   "source": [
    "# Definition for singly-linked list.\n",
    "# class ListNode(object):\n",
    "#     def __init__(self, x):\n",
    "#         self.val = x\n",
    "#         self.next = None\n",
    "\n",
    "class Solution(object):\n",
    "    def detectCycle(self, head):\n",
    "        \"\"\"\n",
    "        :type head: ListNode\n",
    "        :rtype: ListNode\n",
    "        \"\"\"\n",
    "        # 1 basic case\n",
    "        if not head or not head.next:\n",
    "            return None\n",
    "        \n",
    "        # 2 check hasCycle or not\n",
    "        pa = self.hasCycle (head)\n",
    "        if not pa: return None\n",
    "        \n",
    "        # 3 check the entrance of the cycle\n",
    "        pb = head\n",
    "        while pa != pb:\n",
    "            pa = pa.next\n",
    "            pb = pb.next\n",
    "        return pa\n",
    "        \n",
    "    def hasCycle_1 (self, head): # has cycle 方法1 \n",
    "        if not head or not head.next:\n",
    "            return None\n",
    "    \n",
    "        fast = slow = head        # ❤️❤️ 这种 hasCycle 的实现更加实用可靠. 该实现完全满足我们的等式.\n",
    "        while fast and fast.next: # 所以使用这种.\n",
    "            fast = fast.next.next\n",
    "            slow = slow.next\n",
    "            if fast == slow:\n",
    "                return slow\n",
    "            \n",
    "    def hasCycle_2 (self, head): # has cycle 方法2, 其实这种实现也靠谱, 这是fast初始比 slow 快一步\n",
    "        fast = head.next         # 因此, 关于 cycle 的等式已经不能够满足. 因此, 我们需要对, 第二次\n",
    "        slow = head              # 的追赶有一个拟补.\n",
    "        while fast and fast.next:\n",
    "            if fast == slow:\n",
    "                return slow\n",
    "            fast = fast.next.next\n",
    "            slow = slow.next\n",
    "        return None"
   ]
  },
  {
   "cell_type": "markdown",
   "metadata": {},
   "source": [
    "## (精巧) [160.easy-Intersection of Two Linked Lists](https://leetcode.com/problems/intersection-of-two-linked-lists/description/)\n",
    "##### 题意\n",
    "* 给定两个 singly linked list, 返回他们 intersection 开始的 node.\n",
    "* 补充: \n",
    "    * 不能改变 singly linked list\n",
    "    * 如果没有 intersection, 则输出 None.\n",
    "    * 需要 runtime $O(n)$, space complexity $O(1)$.\n",
    "    \n",
    "##### 思路:\n",
    "* 方法1: 遍历第1个 list, 存放在 hash-table; 遍历第 2 个 list, 查看是否在 hash-table 中.\n",
    "* 方法2: Pa --> Pb,  Pb --> Pa. https://discuss.leetcode.com/topic/13419/concise-python-code-with-comments\n",
    "\n",
    "##### 经验总结\n",
    "* 判断两个 ListNode 是否是同一个, 可以使用 \"==\" 判断."
   ]
  },
  {
   "cell_type": "code",
   "execution_count": 44,
   "metadata": {},
   "outputs": [
    {
     "name": "stdout",
     "output_type": "stream",
     "text": [
      "True\n",
      "True\n"
     ]
    }
   ],
   "source": [
    "# Definition for singly-linked list.\n",
    "# class ListNode(object):\n",
    "#     def __init__(self, x):\n",
    "#         self.val = x\n",
    "#         self.next = None\n",
    "\n",
    "class Solution(object):\n",
    "    def getIntersectionNode(self, headA, headB):\n",
    "        \"\"\"\n",
    "        :type head1, head1: ListNode\n",
    "        :rtype: ListNode\n",
    "        \"\"\"\n",
    "        if not headA or not headB: ## 如果是空, 则返回 None\n",
    "            return None\n",
    "\n",
    "        pa, pb = headA, headB # 2 pointers\n",
    "        while not pa == pb:\n",
    "            # if either pointer hits the end, switch head and continue the second traversal, \n",
    "            # if not hit the end, just move on to next\n",
    "            pa = headB if pa is None else pa.next # ❤️ 判断 pa\n",
    "            pb = headA if pb is None else pb.next\n",
    "            # 要么 meet 某个位置, 或者 meet at the end\n",
    "\n",
    "        return pa # only 2 ways to get out of the loop, they meet or the both hit the end=None\n",
    "\n",
    "# the idea is if you switch head, the possible difference between length would be countered. \n",
    "# On the second traversal, they either hit or miss. \n",
    "# if they meet, pa or pb would be the node we are looking for, \n",
    "# if they didn't meet, they will hit the end at the same iteration, \n",
    "# pa == pb == None, return either one of them is the same,None"
   ]
  },
  {
   "cell_type": "markdown",
   "metadata": {},
   "source": [
    "## [234.easy-Palindrome Linked List](https://leetcode.com/problems/palindrome-linked-list/description/)\n",
    "##### 题意\n",
    "* 题意: 给定 singly linked list, 判断是否是 palindrome.\n",
    "* Follow up: do it in $O(n)$ time and $O(1)$ space\n",
    "\n",
    "##### 方法总结\n",
    "* **方法1**: 将 singly linked list 转化成 list, 然后判断. runtime is $O(n)$, 但是 space complexity is $O(n)$.\n",
    "* **方法2**: 将 singly linked reverse 之后, 对比两个 linked list value 是否一致. runtime is $O(n)$, sapce compelxity is $O(n)$.\n",
    "* **方法3**: in-place 判断, 把 linked list 前半部分 reverse, 然后把前半部分和后半部分对比是否一致. runtime is $O(n)$, space complexity is $O(1)$\n",
    "* **方法4 (great method)**: 将 singly linked list\n",
    "前半部分压进 stack 中, 然后逐一 pop 出来和 linked list 的后半部分对比. runtime $O(n)$, space complexity is $O(n)$, 但还是节省一半 space 空间. https://www.youtube.com/watch?v=Os5FM4KQtxw&t=530s\n",
    "* **方法5 (in-place 但是代码麻烦)**: 使用 two point 找到 middle, 将后半部分 in-place 反续排列, 对比前后两个 sub-list. runtime $O(n)$, space complexity is $O(1)$."
   ]
  },
  {
   "cell_type": "markdown",
   "metadata": {},
   "source": [
    "##### 方法0 - 标准答案 https://www.youtube.com/watch?v=S8Bz_9KB0-g: 和方法3 类似思路,算法更加高效. 算法大致:\n",
    "    * 快慢指针找到 middle, \n",
    "    * 对 middle 以后的 nodes reverse 顺序,\n",
    "    * 对比前后两个 sub list 是否相同."
   ]
  },
  {
   "cell_type": "code",
   "execution_count": null,
   "metadata": {
    "collapsed": true
   },
   "outputs": [],
   "source": [
    "# 4/5/2018\n",
    "class Solution(object):\n",
    "    def isPalindrome(self, head):\n",
    "        \"\"\"\n",
    "        :type head: ListNode\n",
    "        :rtype\n",
    "        \"\"\"\n",
    "        if not head or not head.next: return True\n",
    "        \n",
    "        dummy = ListNode(None)\n",
    "        fast = slow = head\n",
    "        while fast and fast.next:\n",
    "            fast = fast.next.next\n",
    "            \n",
    "            # reveser the 1st half ----\n",
    "            tmp = slow.next\n",
    "            slow.next = dummy.next\n",
    "            dummy.next = slow\n",
    "            slow = tmp\n",
    "            # -------------------------\n",
    "            \n",
    "        l1 = dummy.next\n",
    "        l2 = slow.next if fast is not None else slow\n",
    "        while l1 and l2:\n",
    "            if l1.val != l2.val:\n",
    "                return False\n",
    "            l1, l2 = l1.next, l2.next\n",
    "        return True        "
   ]
  },
  {
   "cell_type": "code",
   "execution_count": null,
   "metadata": {
    "collapsed": true
   },
   "outputs": [],
   "source": [
    "# 4/5/2018, ????????? 竟然出错了, 检查错误.\n",
    "class Solution(object):\n",
    "    def isPalindrome(self, head):\n",
    "        \"\"\"\n",
    "        :type head: ListNode\n",
    "        :rtype\n",
    "        \"\"\"\n",
    "        if not head or not head.next: return True\n",
    "        \n",
    "        dummy = ListNode(None)\n",
    "        slow = head\n",
    "        fast = head.next\n",
    "        while fast and fast.next:\n",
    "            fast = fast.next.next\n",
    "            \n",
    "            # reveser the 1st half ----\n",
    "            tmp = slow.next\n",
    "            slow.next = dummy.next\n",
    "            dummy.next = slow\n",
    "            slow = tmp\n",
    "            # -------------------------\n",
    "            \n",
    "        l1 = dummy.next\n",
    "        l2, slow.next = slow.next, None\n",
    "        while l1 and l2:\n",
    "            if l1.val != l2.val:\n",
    "                return False\n",
    "            l1, l2 = l1.next, l2.next\n",
    "        return True        "
   ]
  },
  {
   "cell_type": "markdown",
   "metadata": {},
   "source": [
    "##### 方法4 (<span class=\"girk\">评价: code 简短, 运行高效)</span>: 将 singly linked list 前半部分压进 stack, 然后逐一 pop 出来和 linked list 的后半部分对比.\n",
    "     * runtime O(n), space complexity is  O(n), 但还是节省一半 space 空间.\n",
    "     * https://www.youtube.com/watch?v=Os5FM4KQtxw&t=530s"
   ]
  },
  {
   "cell_type": "code",
   "execution_count": null,
   "metadata": {
    "collapsed": true
   },
   "outputs": [],
   "source": [
    "class Solution(object):\n",
    "    def isPalindrome(self, head):\n",
    "        \"\"\"\n",
    "        :type head: ListNode\n",
    "        :rtype: bool\n",
    "        \"\"\"\n",
    "        # 1 basic cases \n",
    "        if not head or not head.next:\n",
    "            return True\n",
    "        \n",
    "        # 2 using stack to store the first half of the linked list\n",
    "        stack = []\n",
    "        fast = cur = head # ❤️❤️ notice here, cur is in the 2nd half\n",
    "        while fast and fast.next:\n",
    "            stack.append (cur.val)\n",
    "            cur = cur.next\n",
    "            fast = fast.next.next\n",
    "        \n",
    "        # 3 comparet the 1st half of list with the 2nd half of list\n",
    "        if fast != None: cur = cur.next # ❤️❤️ 针对 odd 的情况, 此时 cur 正好指向正中间, 需要指向下半部分\n",
    "        while cur:\n",
    "            if stack.pop() != cur.val:\n",
    "                return False\n",
    "            cur = cur.next\n",
    "        return True"
   ]
  },
  {
   "cell_type": "markdown",
   "metadata": {},
   "source": [
    "## 2/6: Linked List"
   ]
  },
  {
   "cell_type": "markdown",
   "metadata": {},
   "source": [
    "### [203.easy-Remove Linked List Elements](https://leetcode.com/problems/remove-linked-list-elements/description/)\n",
    "##### 题意: 给定 linked list, 删除所有 node.val == val 的 node.\n",
    "\n",
    "##### 分析: 和 83.easy-Remove Duplicates from Sorted List 类似. 区别也存在:\n",
    "* 83 是为了去除 duplicate, 因此第一个元素不可能存在 duplicate, 因此不需要定义 dummy.\n",
    "* 203 第一个node.val 就可能 == val, 有可能需要删除. 因此, 需要定义 dummy."
   ]
  },
  {
   "cell_type": "code",
   "execution_count": null,
   "metadata": {
    "collapsed": true
   },
   "outputs": [],
   "source": [
    "class Solution(object):\n",
    "    def removeElements(self, head, val):\n",
    "        \"\"\"\n",
    "        :type head: ListNode\n",
    "        :type val: int\n",
    "        :rtype: ListNode\n",
    "        \"\"\"\n",
    "        # 1 edge case\n",
    "        if not head: return None\n",
    "        \n",
    "        # 2 search & delete the node\n",
    "        dummy = prev = ListNode(None)\n",
    "        prev.next = cur = head # ❤️ 快慢两个 point\n",
    "        while cur:\n",
    "            if cur.val == val:\n",
    "                prev.next = cur.next\n",
    "            else:\n",
    "                prev = cur\n",
    "            cur = cur.next\n",
    "        return dummy.next"
   ]
  },
  {
   "cell_type": "markdown",
   "metadata": {},
   "source": [
    "### [143.medium-Reorder List](https://leetcode.com/problems/reorder-list/description/)\n",
    "##### 题意: 重新规整 linked list 的顺序.\n",
    "* Given a singly linked list $L: L_0\\rightarrow L_1 \\rightarrow\\cdots \\rightarrow L_{n-1}  \\rightarrow L_n$,\n",
    "reorder it to: $L_0 \\rightarrow L_n \\rightarrow L_1 \\rightarrow L_{n-1}  \\rightarrow L_2 \\rightarrow L_{n-2} \\rightarrow \\cdots$\n",
    "\n",
    "* do this in-place without altering the nodes' values.\n",
    "\n",
    "##### 分析: 要求挺高的. 分为三步:\n",
    "* 首先将 linked list 一分为二. \n",
    "* 对第 2 段, reverse 顺序.\n",
    "* 拼接第 1 段  和 第 2 段 reverse."
   ]
  },
  {
   "cell_type": "code",
   "execution_count": null,
   "metadata": {
    "collapsed": true
   },
   "outputs": [],
   "source": [
    "# 思路一开始是就对的, 但是这题涉及好几部分的内容, 非常考察基本功.\n",
    "\n",
    "class Solution(object):\n",
    "    def reorderList(self, head):\n",
    "        \"\"\"\n",
    "        :type head: ListNode\n",
    "        :rtype: void Do not return anything, modify head in-place instead.\n",
    "        \"\"\"\n",
    "        # 1 edge condition\n",
    "        if not head or not head.next: return \n",
    "        \n",
    "        # 2 find the middle of the linked list\n",
    "        slow, fast = head, head.next # ❤️❤️ 不能使用 slow = fast = head 的那种找中点的方式.\n",
    "        while fast and fast.next:\n",
    "            fast = fast.next.next\n",
    "            slow = slow.next\n",
    "            \n",
    "        p2, slow.next = slow.next, None # ❤️❤️❤️❤️ 记得将第1段的结尾设成 None\n",
    "        \n",
    "        # 3 reverse the 2nd part of the linked list\n",
    "        dummy = ListNode(None)\n",
    "        cur = p2\n",
    "        while cur:\n",
    "            temp = cur.next\n",
    "            cur.next = dummy.next\n",
    "            dummy.next = cur\n",
    "            cur = temp #❎❤️❤️❤️ 错写成 cur = cur.next, 基本功不好啊..\n",
    "        p2 = dummy.next\n",
    "        \n",
    "        # 4 connected the two linked lists\n",
    "        p1, cur = head, dummy\n",
    "        while p1 and p2:\n",
    "            cur.next = p1 # ❎ 拼接的过程也存在错误.\n",
    "            p1 = p1.next\n",
    "            cur = cur.next\n",
    "            \n",
    "            cur.next = p2\n",
    "            p2 = p2.next  \n",
    "            cur = cur.next\n",
    "        cur.next = p1 or p2\n",
    "        \n",
    "        head = dummy.next # ❎❤️❤️❤️ 不需要 return, ❎在 return dummy.next"
   ]
  },
  {
   "cell_type": "markdown",
   "metadata": {},
   "source": [
    "### [❤️147.med-Insertion Sort List](https://leetcode.com/problems/insertion-sort-list/description/)\n",
    "##### 题意:  Sort a linked list using insertion sort.\n",
    "\n",
    "##### 分析: \n",
    "* 和 List 的相比, 唯一不同的是, linked list 发现 .next.val < .val, 则从头到尾重新遍历查找插入位置.\n",
    "* 非常值得看的 tutorial https://www.youtube.com/watch?v=sHRZu7lf0L4"
   ]
  },
  {
   "cell_type": "code",
   "execution_count": null,
   "metadata": {
    "collapsed": true
   },
   "outputs": [],
   "source": [
    "class Solution(object):\n",
    "    def insertionSortList(self, head):\n",
    "        \"\"\"\n",
    "        :type head: ListNode\n",
    "        :rtype: ListNode\n",
    "        \"\"\"\n",
    "        # edge condition\n",
    "        if not head or not head.next: return head\n",
    "        \n",
    "        # do the insertion sort\n",
    "        dummy = ListNode(None)\n",
    "        dummy.next = cur = head\n",
    "        while cur and cur.next:\n",
    "            if cur.val <= cur.next.val:\n",
    "                cur = cur.next\n",
    "            else:\n",
    "                tmp = cur.next # ❤️ linked list, 将 cur.next 赋给 tmp. 紧接着就是把 cur.next 更新结果\n",
    "                cur.next = cur.next.next\n",
    "                \n",
    "                prev = dummy \n",
    "                while prev.next.val <= tmp.val:\n",
    "                    prev = prev.next\n",
    "                    \n",
    "                tmp.next = prev.next # ❤️ linked list, 将 prev.next 赋给 tmp.next; 紧接着就是把 prev.next 更新结果\n",
    "                prev.next = tmp\n",
    "                \n",
    "        return dummy.next"
   ]
  },
  {
   "cell_type": "markdown",
   "metadata": {},
   "source": [
    "### [待做-148_Medium_Sort List](https://leetcode.com/problems/sort-list/description/)\n",
    "##### INFO\n",
    "* 题意: 排序 linked list, runtime $O(nlog)$, constant space complexity.\n",
    "* 分析: 只能是 merge sort 了."
   ]
  },
  {
   "cell_type": "markdown",
   "metadata": {
    "collapsed": true
   },
   "source": [
    "### 2.medium-Add Two Numbers\n",
    "##### 题意 https://leetcode.com/problems/add-two-numbers/description/\n",
    "* 从头往后相加两个数, 这两个数存放在 linked list 中.\n",
    "\n",
    "##### 经验总结:\n",
    "* Linked list 遍历, 每次需要手动拨动 node, 例如 ***node = node.next***.\n",
    "* Linked list 中, ***node = node.next*** 和 ***node.next = node.next.next*** 完全不同: \n",
    "    * 前者是 iteration 遍历\n",
    "    * 后者是deleted the next node."
   ]
  },
  {
   "cell_type": "code",
   "execution_count": null,
   "metadata": {
    "collapsed": true
   },
   "outputs": [],
   "source": [
    "# Definition for singly-linked list.\n",
    "# class ListNode(object):\n",
    "#     def __init__(self, x):\n",
    "#         self.val = x\n",
    "#         self.next = None\n",
    "\n",
    "class Solution(object):\n",
    "    def addTwoNumbers(self, l1, l2):\n",
    "        \"\"\"\n",
    "        :type l1: ListNode\n",
    "        :type l2: ListNode\n",
    "        :rtype: ListNode\n",
    "        \"\"\"\n",
    "        # 1 basic cases \n",
    "        if not l1: return l2 \n",
    "        if not l2: return l1\n",
    "        \n",
    "        #2 add the two lists\n",
    "        dummy = curr = ListNode(None) \n",
    "        carry = 0           # 引入 carry 还是很聪明的\n",
    "        while l1 or l2 or carry: # ❤️ 这个条件也非常聪明\n",
    "            s = carry       # ❤️ 我的改进, o(￣▽￣)d\n",
    "            if l1:\n",
    "                s += l1.val\n",
    "                l1 = l1.next\n",
    "            if l2:\n",
    "                s += l2.val\n",
    "                l2 = l2.next\n",
    "            carry  = s // 10\n",
    "            curr.next = ListNode (s % 10)\n",
    "            curr = curr.next\n",
    "            \n",
    "        return dummy.next"
   ]
  },
  {
   "cell_type": "markdown",
   "metadata": {},
   "source": [
    "### [445.medium-Add Two Numbers II](https://leetcode.com/problems/add-two-numbers-ii/description/)\n",
    "##### 题意: 给定两个 linked list, 把它们加起来. 和 2.medium-Add Two Numbers 类似, 唯一不同是 2 最重要的位在最后一位, 445 最重要的位在第一位.\n",
    "\n",
    "##### 分析\n",
    "* 两条思路:\n",
    "    * reverse: 将连个 linked list 翻转 + 使用 2 的方法 + 把结果翻转过来.\n",
    "    * stack: 逆序, 经典 stack 的方法.\n",
    "* 参考视频: Edward Shi https://www.youtube.com/watch?v=goqIY5rvbGc"
   ]
  },
  {
   "cell_type": "code",
   "execution_count": null,
   "metadata": {
    "collapsed": true
   },
   "outputs": [],
   "source": [
    "# 方法2: reverse. 一次性 bug-free\n",
    "class Solution(object):\n",
    "    def addTwoNumbers(self, l1, l2):\n",
    "        \"\"\"\n",
    "        :type l1: ListNode\n",
    "        :type l2: ListNode\n",
    "        :rtype: ListNode\n",
    "        \"\"\"\n",
    "        l1_reverse = self.reverse(l1)\n",
    "        l2_reverse = self.reverse(l2)\n",
    "        rst = self.addTwoNumbers_shunxu(l1_reverse, l2_reverse)\n",
    "        return self.reverse(rst)\n",
    "    \n",
    "    def addTwoNumbers_shunxu(self, l1, l2):\n",
    "        if not l1: return l2\n",
    "        if not l2: return l1\n",
    "        \n",
    "        dummy = cur = ListNode(None)\n",
    "        carry = 0\n",
    "        while l1 or l2 or carry:\n",
    "            s = carry\n",
    "            if l1:\n",
    "                s += l1.val\n",
    "                l1 = l1.next\n",
    "            if l2: \n",
    "                s += l2.val\n",
    "                l2 = l2.next\n",
    "            carry = s / 10\n",
    "            cur.next = ListNode(s % 10)\n",
    "            cur = cur.next\n",
    "        return dummy.next\n",
    "    \n",
    "    def reverse(self, node):\n",
    "        if not node or not node.next: return node\n",
    "        \n",
    "        dummy = ListNode(None)\n",
    "        while node:\n",
    "            temp = node.next\n",
    "            node.next = dummy.next\n",
    "            dummy.next = node\n",
    "            node = temp\n",
    "        return dummy.next"
   ]
  },
  {
   "cell_type": "code",
   "execution_count": null,
   "metadata": {
    "collapsed": true
   },
   "outputs": [],
   "source": [
    "# 方法1: stack\n",
    "class Solution(object):\n",
    "    def addTwoNumbers(self, l1, l2):\n",
    "        \"\"\"\n",
    "        :type l1: ListNode\n",
    "        :type l2: ListNode\n",
    "        :rtype: ListNode\n",
    "        \"\"\"\n",
    "        # 1 edge condition\n",
    "        if not l1: return l2\n",
    "        if not l2: return l1\n",
    "        \n",
    "        # 2 linked list --> stack\n",
    "        st1, st2 = [], [] # stack1 和 stack2\n",
    "        while l1:\n",
    "            st1.append(l1.val)\n",
    "            l1 = l1.next\n",
    "        while l2:\n",
    "            st2.append(l2.val)\n",
    "            l2 = l2.next\n",
    "            \n",
    "        # 3 add the given stacks\n",
    "        dummy, carry = ListNode(None), 0\n",
    "        while st1 or st2 or carry:\n",
    "            s = carry\n",
    "            if st1: s += st1.pop()\n",
    "            if st2: s += st2.pop()\n",
    "                \n",
    "            carry = s / 10\n",
    "            node = ListNode(s % 10)\n",
    "            \n",
    "            # ❤️❤️ 倒序生成结果的 linked list\n",
    "            node.next = dummy.next\n",
    "            dummy.next = node\n",
    "            \n",
    "        return dummy.next       "
   ]
  },
  {
   "cell_type": "markdown",
   "metadata": {},
   "source": [
    "### [206.easy-Reverse Linked List](https://leetcode.com/problems/reverse-linked-list/description/)\n",
    "###### 题意\n",
    "* 题意: Reverse a singly linked list.\n",
    "\n",
    "###### 分析 https://leetcode.com/problems/reverse-linked-list/solution/\n",
    "* 方法1: iteration. runtime $O(n)$, space complexity $O(1)$\n",
    "* 方法2: recursive. runtime $O(n)$, space complexity $O(n)$ because of from implicit stack space due to recursion. 在 python 中, 很容易失效, 因为 python recurse depth 最多 1000 层."
   ]
  },
  {
   "cell_type": "markdown",
   "metadata": {},
   "source": [
    "##### 方法1: iteration\n",
    "https://www.youtube.com/watch?v=sYcOK51hl-A&t=671s"
   ]
  },
  {
   "cell_type": "code",
   "execution_count": null,
   "metadata": {
    "collapsed": true
   },
   "outputs": [],
   "source": [
    "\n",
    "class Solution(object):\n",
    "    def reverseList(self, head):\n",
    "        \"\"\"\n",
    "        :type head: ListNode\n",
    "        :rtype: ListNode\n",
    "        \"\"\"\n",
    "        ######################\n",
    "        if not head or not head.next: # ❤️ 如果 linked list 没有元素或只有一个元素, 则直接返回 head.\n",
    "            return head\n",
    "        \n",
    "        dummy = ListNode (None)\n",
    "        curr  = head\n",
    "        \n",
    "        while curr:\n",
    "            temp       = curr.next   # 1 把下一个 node 地址给 node \n",
    "            curr.next  = dummy.next  # 2 把当前 node.next 重新赋值为 dummy.next\n",
    "            dummy.next = curr        # 3 把 dummy.next 指向当前 node \n",
    "            curr       = temp    # 4 把遍历到下一个 node\n",
    "            \n",
    "        return dummy.next"
   ]
  },
  {
   "cell_type": "markdown",
   "metadata": {},
   "source": [
    "##### 方法2: recursion\n",
    "* https://www.youtube.com/watch?v=MRe3UsRadKw\n",
    "* https://leetcode.com/problems/reverse-linked-list/solution/"
   ]
  },
  {
   "cell_type": "code",
   "execution_count": null,
   "metadata": {
    "collapsed": true
   },
   "outputs": [],
   "source": [
    "# 方法2: recursive\n",
    "class Solution(object):\n",
    "    def reverseList(self, head):\n",
    "        \"\"\"\n",
    "        :type head: ListNode\n",
    "        :rtype: ListNode\n",
    "        \"\"\"\n",
    "        if not head or not head.next: # ❤️ basic case\n",
    "            return head\n",
    "        \n",
    "        p = self.reverseList (head.next)\n",
    "        head.next.next = head # ❤️ great code, 返回来指向自己. \n",
    "        hear.next = None\n",
    "        return p"
   ]
  },
  {
   "cell_type": "markdown",
   "metadata": {},
   "source": [
    "### [❤️92.medium-Reverse Linked List II](https://leetcode.com/problems/reverse-linked-list-ii/description/)\n",
    "##### 题意: Reverse a linked list from position m to n. Do it in-place and in one-pass.\n",
    "* 例子: \n",
    "    * Given 1->2->3->4->5->NULL, m = 2 and n = 4,\n",
    "    * return 1->4->3->2->5->NULL.\n",
    "* Given m, n satisfy the following condition: 1 ≤ m ≤ n ≤ length of list.\n",
    "\n",
    "###"
   ]
  },
  {
   "cell_type": "code",
   "execution_count": null,
   "metadata": {
    "collapsed": true
   },
   "outputs": [],
   "source": [
    "#❤️明确清晰的算法❤️: 1) 找到需要 reverse 区间的前一个 node, 2) reverse 这一区间的 nodes, \n",
    "#               3) 将第一个 reverse node 指向后面不需要 reverse 的 node.\n",
    "# \n",
    "# 参考以下内容, 改进的算法.\n",
    "# * https://leetcode.com/problems/reverse-linked-list-ii/discuss/30672/Python-one-pass-iterative-solution\n",
    "# * https://leetcode.com/problems/reverse-linked-list-ii/discuss/30666/Simple-Java-solution-with-clear-explanation\n",
    "\n",
    "class Solution(object):\n",
    "    def reverseBetween(self, head, m, n):\n",
    "        \"\"\"\n",
    "        :type head: ListNode\n",
    "        :type m: int\n",
    "        :type n: int\n",
    "        :rtype: ListNode\n",
    "        \"\"\"\n",
    "        # 1 edge condition\n",
    "        if not head or not head.next or m == n: return head\n",
    "        \n",
    "        # 2 do the reversion between [m, n]\n",
    "        dummy = prev = ListNode(None)\n",
    "        prev.next = head\n",
    "        for i in xrange(m-1): # ❤️❤️ 2.1 找到需要 reverse 的前一个 node\n",
    "            prev = prev.next\n",
    "    \n",
    "        pivot = cur = prev.next # ❤️❤️ 2.2 找到到需要 reverse 的 node, 并进行 n-m+1 次 reverse\n",
    "        for i in xrange(n-m+1):\n",
    "            temp = cur.next\n",
    "            cur.next = prev.next\n",
    "            prev.next = cur\n",
    "            cur = temp\n",
    "            \n",
    "        pivot.next = cur # ❤️❤️ 2.3 将第一个需要 reverse 的 node 指向, 第一个不需要 reverse 的 node\n",
    "    \n",
    "        return dummy.next"
   ]
  },
  {
   "cell_type": "code",
   "execution_count": null,
   "metadata": {
    "collapsed": true
   },
   "outputs": [],
   "source": [
    "# 我的方法: 一次性 bug-free. 2/6/18 11:20 PM \n",
    "class Solution(object):\n",
    "    def reverseBetween(self, head, m, n):\n",
    "        \"\"\"\n",
    "        :type head: ListNode\n",
    "        :type m: int\n",
    "        :type n: int\n",
    "        :rtype: ListNode\n",
    "        \"\"\"\n",
    "        # 1 edge condition\n",
    "        if not head or not head.next: return head\n",
    "        \n",
    "        # 2 do the reversion between [m, n]\n",
    "        i = 1\n",
    "        dummy = prev = ListNode(None)\n",
    "        prev.next = cur = head\n",
    "        while cur and i<=n:\n",
    "            if i < m: \n",
    "                prev = cur\n",
    "                cur = cur.next\n",
    "            else: # ❤️❤️ do the reversion\n",
    "                if i == m: pivot = cur # ❤️❤️记录开始逆序的node, 需要将该 node.next 指向不需要逆序的部分\n",
    "                temp = cur.next\n",
    "                cur.next = prev.next\n",
    "                prev.next = cur\n",
    "                cur = temp\n",
    "            i += 1\n",
    "            \n",
    "        pivot.next = cur\n",
    "            \n",
    "        return dummy.next"
   ]
  },
  {
   "cell_type": "markdown",
   "metadata": {},
   "source": [
    "## 2/7: Linked List"
   ]
  },
  {
   "cell_type": "markdown",
   "metadata": {},
   "source": [
    "### [❤️❤️138.medium-Copy List with Random Pointer](https://leetcode.com/problems/copy-list-with-random-pointer/description/)\n",
    "\n",
    "##### 题意: 给定特殊的 singly linked list, deep copy it. 特殊之处在于, 每个 node 除了有 next, 还有一个 randomnext."
   ]
  },
  {
   "cell_type": "code",
   "execution_count": null,
   "metadata": {
    "collapsed": true
   },
   "outputs": [],
   "source": [
    "# ??????????????????????/\n",
    "class Solution(object):\n",
    "    def copyRandomList(self, head):\n",
    "        \"\"\"\n",
    "        :type head: RandomListNode\n",
    "        :rtype: RandomListNode\n",
    "        \"\"\"\n",
    "        dic = dict()\n",
    "        dic[None] = None\n",
    "        n = head\n",
    "        while n:\n",
    "            dic[n].label = n.label\n",
    "            dic[n].next = dic[n.next]\n",
    "            dic[n].random = dic[n.random]\n",
    "            n = n.next\n",
    "        return dic[hea]"
   ]
  },
  {
   "cell_type": "code",
   "execution_count": null,
   "metadata": {
    "collapsed": true
   },
   "outputs": [],
   "source": [
    "# Definition for singly-linked list with a random pointer.\n",
    "# class RandomListNode(object):\n",
    "#     def __init__(self, x):\n",
    "#         self.label = x\n",
    "#         self.next = None\n",
    "#         self.random = None\n",
    "\n",
    "class Solution(object):\n",
    "    def copyRandomList(self, head):\n",
    "        \"\"\"\n",
    "        :type head: RandomListNode\n",
    "        :rtype: RandomListNode\n",
    "        \"\"\"\n",
    "        dic = dict()\n",
    "        m = n = head\n",
    "        while m: # 1 ❤️❤️ 构建 node\n",
    "            dic[m] = RandomListNode(m.label)\n",
    "            m = m.next\n",
    "            \n",
    "        while n: # 2 ❤️❤️❤️ 构建连接关系\n",
    "            dic[n].next = dic.get(n.next, None) # ❤️ 必须 get 以防不存在的情况\n",
    "            dic[n].random = dic.get(n.random, None) # ❤️ 必须 get 以防不存在的情况\n",
    "            n = n.next\n",
    "        return dic.get(head)"
   ]
  },
  {
   "cell_type": "markdown",
   "metadata": {},
   "source": [
    "### [24.medium-Swap Nodes in Pairs](https://leetcode.com/problems/swap-nodes-in-pairs/description/)\n",
    "##### 题意: 给定 linked list, 交换相邻 nodes.\n",
    "* 举例: Given 1->2->3->4, you should return the list as 2->1->4->3.\n",
    "\n",
    "##### 分析, 两条思路:\n",
    "* <span class=\"girk\">思路1</span>: 将 odd 和 even 位置的 node 抽取出来, 组成sub-linked list, 然后将两个 linked list 串起来.\n",
    "* <span class=\"girk\">思路2</span>: 每次处理每两位的 nodes, 一直处理到最后的位置.\n",
    "\n",
    "##### 视频讲解\n",
    "* basketwangCoding: https://www.youtube.com/watch?v=f45_eF1gmn8\n",
    "* Edward Shi: https://www.youtube.com/watch?v=377ZjTI2NoM"
   ]
  },
  {
   "cell_type": "code",
   "execution_count": null,
   "metadata": {
    "collapsed": true
   },
   "outputs": [],
   "source": [
    "class Solution(object):\n",
    "    def swapPairs(self, head):\n",
    "        \"\"\"\n",
    "        :type head: ListNode\n",
    "        :rtype: ListNode\n",
    "        \"\"\"\n",
    "        if not head or not head.next: \n",
    "            return head\n",
    "        \n",
    "        dummy = prev = ListNode(None)\n",
    "        prev.next = cur = head\n",
    "        while cur and cur.next:\n",
    "            pivot = cur\n",
    "            for i in xrange(2):\n",
    "                tmp = cur.next\n",
    "                cur.next = prev.next # ❤️❤️ 注意 prev 起到 dummy的作用, pivot 标定 reverse 后\n",
    "                prev.next = cur  # 最后一个 node. 它需要指向后面正常的 node.\n",
    "                cur = tmp\n",
    "            prev = pivot #❤️缺了不行. 因为\n",
    "            pivot.next = cur # ❤️❤️❤️ reverse 后最后1个 node (reverse 前第1个 node) 需要指向..\n",
    "        return dummy.next"
   ]
  },
  {
   "cell_type": "code",
   "execution_count": 3,
   "metadata": {
    "collapsed": true
   },
   "outputs": [],
   "source": [
    "# 标准答案:\n",
    "#     https://www.youtube.com/watch?v=377ZjTI2NoM\n",
    "# 因为有 reverse 相邻两个 node, 属于有限步. 可以一步到位, 涉及 reverse 的方式. \n",
    "class Solution(object):\n",
    "    def swapPairs(self, head):\n",
    "        \"\"\"\n",
    "        :type head: ListNode\n",
    "        :rtype: ListNode\n",
    "        \"\"\"\n",
    "        if not head or not head.next:\n",
    "            return head\n",
    "        \n",
    "        dummy = prev = ListNode(None)\n",
    "        prev.next = cur = head\n",
    "        while cur and cur.next: #❤️ 想明白这个过程就好了, 画个图. \n",
    "            newStart = cur.next.next # ❤️❤️❤️ 很明智, 把后面的 list 的开头保存好.\n",
    "            prev.next = cur.next\n",
    "            cur.next.next = cur #❤️❤️❤️ 返回到它自己.\n",
    "            cur.next = newStart\n",
    "            prev = cur\n",
    "            cur = cur.next\n",
    "        return dummy.next"
   ]
  },
  {
   "cell_type": "code",
   "execution_count": null,
   "metadata": {
    "collapsed": true
   },
   "outputs": [],
   "source": [
    "# 方法1: 将 odd 和 even 位置的 node 抽取出来, 组成sub-linked list, 然后将两个 linked list 串起来.\n",
    "class Solution(object):\n",
    "    def swapPairs(self, head):\n",
    "        \"\"\"\n",
    "        :type head: ListNode\n",
    "        :rtype: ListNode\n",
    "        \"\"\"\n",
    "        # 1 edge condition \n",
    "        if not head or not head.next: return head\n",
    "        \n",
    "        # 2 seperate the linked list into the odd & even linked lists\n",
    "        i, node = 1, head\n",
    "        l1 = p1 = ListNode(None)\n",
    "        l2 = p2 = ListNode(None)\n",
    "        while node:\n",
    "            if i & 1: # odd nodes\n",
    "                p1.next = node\n",
    "                p1 = p1.next\n",
    "            else: # even nodes\n",
    "                p2.next = node\n",
    "                p2 = p2.next\n",
    "            node = node.next\n",
    "            i += 1\n",
    "        p1.next = p2.next = None # ❎❤️❤️ linked list 的终结指向 None.\n",
    "            \n",
    "        # 3 combine them according to the rule\n",
    "        dummy = cur = ListNode(None)\n",
    "        p1, p2 = l1.next, l2.next\n",
    "        while p1 and p2:\n",
    "            cur.next = p2\n",
    "            p2 = p2.next\n",
    "            cur = cur.next\n",
    "            \n",
    "            cur.next = p1\n",
    "            p1 = p1.next\n",
    "            cur = cur.next\n",
    "        cur.next = p1 or p2\n",
    "        return dummy.next          "
   ]
  },
  {
   "cell_type": "markdown",
   "metadata": {},
   "source": [
    "### [25.medium-Reverse Nodes in k-Group](https://leetcode.com/problems/reverse-nodes-in-k-group/description/)\n",
    "##### 题意: 给定 singly linked list, reverse the nodes of a linked list $k$ at a time and return its modified list. \n",
    "* 举例: Given this linked list: 1->2->3->4->5\n",
    "    * For k = 2, you should return: 2->1->4->3->5\n",
    "    * For k = 3, you should return: 3->2->1->4->5\n",
    "    \n",
    "##### 思路: \n",
    "* 统计 linked list 长度, 并计算能够反转几个 sub linked list.\n",
    "* 然后逐个反转 sub linked list\n",
    "* 据说有 recursive 的解法 https://www.youtube.com/watch?v=DryIN7iL4pA. 由于我们的 iteration 算法已经比较高效了, 因此, 没来得及研究 recursive 的算法."
   ]
  },
  {
   "cell_type": "code",
   "execution_count": null,
   "metadata": {
    "collapsed": true
   },
   "outputs": [],
   "source": [
    "# 一次性 bug-free. 思路如下:\n",
    "#     1. 统计 linked list 长度, 并计算能够反转几个 sub linked list.\n",
    "#     2. 逐个反转 sub linked lists.\n",
    "class Solution(object):\n",
    "    def reverseKGroup(self, head, k):\n",
    "        \"\"\"\n",
    "        :type head: ListNode\n",
    "        :type k: int\n",
    "        :rtype: ListNode\n",
    "        \"\"\"\n",
    "        # 1 edge condition # ❤️❤️❤️ 这样 edge condition 对于 linked list 基本上总是对的\n",
    "        if not head or not head.next: return head\n",
    "        \n",
    "        # 2 count the len of list\n",
    "        cnt, node = 0, head\n",
    "        while node:\n",
    "            cnt += 1\n",
    "            node = node.next\n",
    "        \n",
    "        # 3 how many times of the reversation operations\n",
    "        tm = cnt / k\n",
    "        if tm == 0: return head\n",
    "        \n",
    "        # 4 reverse the sub-lists\n",
    "        dummy = prev = ListNode(None)\n",
    "        prev.next = cur = head\n",
    "        while cur and tm:\n",
    "            prev.next = pivot = cur # ❤️❤️ 重设 pivot 的位置\n",
    "            for i in xrange(k): # ❤️❤️reverse the list k at a time❤️❤️\n",
    "                temp = cur.next\n",
    "                cur.next = prev.next\n",
    "                prev.next = cur\n",
    "                cur = temp\n",
    "            pivot.next = cur # ❤️ 连接好 反转的 list 和 后续的 list.\n",
    "            prev = pivot # ❤️❤️❤️❤️ 将 prev 跳到 当前反转的子 list 的结尾. ❤️❤️❤️❤️\n",
    "            tm -= 1\n",
    "        return dummy.next      "
   ]
  },
  {
   "cell_type": "markdown",
   "metadata": {},
   "source": [
    "### [328.medium-Odd Even Linked List](https://leetcode.com/problems/odd-even-linked-list/description/)\n",
    "##### 题意: 给定 singly linked list, 将 odd nodes 放在前面, 之后跟着 even nodes.\n",
    "* 举例: <span class=\"girk\">Given 1->2->3->4->5->NULL</span>, <span class=\"girk\">return 1->3->5->2->4->NULL</span>.\n",
    "\n",
    "##### 分析\n",
    "* 思路: 将 linked list 分成两个 sub linked list, 一个存放所有的 odd nodes, 另一个存放所有的 even nodes, 然后将它们连起来."
   ]
  },
  {
   "cell_type": "code",
   "execution_count": null,
   "metadata": {
    "collapsed": true
   },
   "outputs": [],
   "source": [
    "# 需要技巧的标准答案\n",
    "# https://leetcode.com/problems/odd-even-linked-list/discuss/78079/Simple-O(N)-time-O(1)-space-Java-solution.\n",
    "class Solution(object):\n",
    "    def oddEvenList(self, head):\n",
    "        \"\"\"\n",
    "        :type head: ListNode\n",
    "        :rtype: ListNode\n",
    "        \"\"\"\n",
    "        # 1 edge condition \n",
    "        if not head or not head.next: \n",
    "            return head\n",
    "        \n",
    "        # 2 do the connections\n",
    "        l1_head = l1 = head # odd linked nodes # ❤️❎ needs the head of two linked lists\n",
    "        l2_head = l2 = head.next # even linked nodes\n",
    "        while l2 and l2.next: \n",
    "            l1.next = l1.next.next # ❤️❤️ process odd nodes first than even nodes. Otherwise, will break the connection\n",
    "            l1 = l1.next\n",
    "            \n",
    "            l2.next = l2.next.next\n",
    "            l2 = l2.next\n",
    "    \n",
    "        l1.next = l2_head # connect odd nodes to even nodes\n",
    "        # if l2 is not None: l2.next = None # ❤️❤️❤️ no need of this line.\n",
    "            \n",
    "        return l1_head"
   ]
  },
  {
   "cell_type": "code",
   "execution_count": null,
   "metadata": {
    "collapsed": true
   },
   "outputs": [],
   "source": [
    "# 一次性 bug-free\n",
    "class Solution(object):\n",
    "    def oddEvenList(self, head):\n",
    "        \"\"\"\n",
    "        :type head: ListNode\n",
    "        :rtype: ListNode\n",
    "        \"\"\"\n",
    "        # 1 edge condition\n",
    "        if not head or not head.next: return head\n",
    "        \n",
    "        # 2 linked list --> ❤️odd list❤️ + ❤️even list❤️\n",
    "        l1 = p1 = ListNode(None)\n",
    "        l2 = p2 = ListNode(None)\n",
    "        node, i = head, 1\n",
    "        while node:\n",
    "            if i & 1: # ❤️ odd nodes\n",
    "                p1.next = node\n",
    "                p1 = p1.next\n",
    "            else: # ❤️ even nodes\n",
    "                p2.next = node\n",
    "                p2 = p2.next\n",
    "            node = node.next\n",
    "            i += 1\n",
    "        p2.next = None # 因为 even 是结尾, 所以将 even sub list 的结尾设为 None\n",
    "        p1.next = l2.next # odd 在 even 前面, 所以将 p1.next 指向 even sub list 的开头\n",
    "        return l1.next # 返回 l1 的开头."
   ]
  },
  {
   "cell_type": "markdown",
   "metadata": {},
   "source": [
    "### [61.medium-Rotate List](https://leetcode.com/problems/rotate-list/description/)\n",
    "##### 题意: Given a list, rotate the list to the right by $k$ places, where $k$ is non-negative.\n",
    "* 举例: \n",
    "    * Given 1->2->3->4->5->NULL and $k = 2$,\n",
    "    * return 4->5->1->2->3->NULL.\n",
    "\n",
    "##### 方法分析: \n",
    "* 将 linked list 分解成两个 sub linked list.\n",
    "* 利用 two points 方法, 锁定需要拆分的地方."
   ]
  },
  {
   "cell_type": "code",
   "execution_count": null,
   "metadata": {
    "collapsed": true
   },
   "outputs": [],
   "source": [
    "# 思路:\n",
    "#     1. 计算 list 的长度, 并算出真正需要 rotate 的数量 k = k % cnt\n",
    "#     2. 找到需要 rotate sub list 的前一个 node. \n",
    "#        两个操作: 将前半部 list 的结尾设为 None, 将后半部分的开头提取出来, 这是最终返回的 head.\n",
    "#     3. 将第 2 个 sub-list 的结尾 接到 第 1 个 sub-list 的开头. \n",
    "# \n",
    "# 题目没说清楚的一点是: k 如果长于 list 长度怎么办? \n",
    "class Solution(object):\n",
    "    def rotateRight(self, head, k):\n",
    "        \"\"\"\n",
    "        :type head: ListNode\n",
    "        :type k: int\n",
    "        :rtype: ListNode\n",
    "        \"\"\"\n",
    "        # 1 edge condition\n",
    "        if not head or not head.next or k == 0: return head\n",
    "        \n",
    "        # 2 count the len of the linked list\n",
    "        fast, cnt = head, 0 # ❎❤️❤️❤️原来没有考虑好 k 大于 list 长度的问题. 其实 k = len(list) 等于啥也\n",
    "        while fast: # 没干. 因此, 在下面我们需要对 k 取余数. 得到真正需要移动几位.\n",
    "            cnt += 1\n",
    "            fast = fast.next\n",
    "        k = k % cnt # ❎❤️❤️❤️❤️\n",
    "        if k == 0: return head # ❎❤️❤️❤️\n",
    "        \n",
    "        # 3 two points too find the node to be seperated.\n",
    "        slow = fast = head\n",
    "        for i in xrange(k):\n",
    "            fast = fast.next\n",
    "            \n",
    "        while fast.next: # ❤️❤️❤️❤️ 判断 fast.next, 而不是判断 fast, 其结果是 fast 停留在最后一个 node.\n",
    "            fast = fast.next\n",
    "            slow = slow.next\n",
    "            \n",
    "        slow.next, l1_head = None, slow.next  # ❤️❤️❤️ 将第1段的末尾指向 None.\n",
    "    \n",
    "        # 4 拼接回去\n",
    "        fast.next = head # ❤️❤️❤️ 巧妙的是 fast 正好在第 2 个 sub-list 的结尾.\n",
    "        return l1_head         "
   ]
  },
  {
   "cell_type": "markdown",
   "metadata": {},
   "source": [
    "### [83.easy-Remove Duplicates from Sorted List](https://leetcode.com/problems/remove-duplicates-from-sorted-list/description/)\n",
    "##### 题意: 给定 sorted linked list, 删除 duplicates, 使得每个数值只出现一次.\n",
    "\n",
    "##### 分析\n",
    "\n",
    "* 这就涉及到查找该 delete 的 nodes. \n",
    "* 除了需要查找需要 deleted 的 node, deletion 操作完全和 203.easy-Remove Linked List Elements 一样."
   ]
  },
  {
   "cell_type": "code",
   "execution_count": null,
   "metadata": {
    "collapsed": true
   },
   "outputs": [],
   "source": [
    "# 一次性 bug-free\n",
    "class Solution(object):\n",
    "    def deleteDuplicates(self, head):\n",
    "        \"\"\"\n",
    "        :type head: ListNode\n",
    "        :rtype: ListNode\n",
    "        \"\"\"\n",
    "        # 1 edge condition\n",
    "        if not head or not head.next: return head\n",
    "        \n",
    "        # 2 do the deletion\n",
    "        prev, cur = head, head.next # 不需要 dummy, 因为第1个元素肯定会保留的.\n",
    "        while cur:\n",
    "            if prev.val == cur.val: #❤️符合的 cur 需要删除. 比 203.easy-Remove Linked List Elements 多出来的.\n",
    "                prev.next = cur.next # 需要删除的时候, prev 本身不变, 只是 prev.next 跳过, 直接指向.next.next\n",
    "            else:\n",
    "                prev = cur\n",
    "            cur = cur.next\n",
    "            \n",
    "        return head"
   ]
  },
  {
   "cell_type": "markdown",
   "metadata": {},
   "source": [
    "### [82.medium-Remove Duplicates from Sorted List II](https://leetcode.com/problems/remove-duplicates-from-sorted-list-ii/description/)\n",
    "##### 题意: 给定 sorted linked list, 删除 duplicates 的每个元素.\n",
    "* 举例: \n",
    "    * Given 1->2->3->3->4->4->5, return 1->2->5.\n",
    "    * Given 1->1->1->2->3, return 2->3.\n",
    "* 82 和 83.easy-Remove Duplicates from Sorted List 不同.\n",
    "    * 83 保留 duplicates 中的一个 node\n",
    "    * 82 删除所有 linked list 的 nodes\n",
    "   \n",
    "##### 视频教程\n",
    "* basketwangCoding: https://www.youtube.com/watch?v=1I82s08OE0c&t=325s"
   ]
  },
  {
   "cell_type": "code",
   "execution_count": null,
   "metadata": {
    "collapsed": true
   },
   "outputs": [],
   "source": [
    "#❤️思路❤️: 1. 检查每个节点是否和前后都不一样, 2. 开头和结尾因为不存在, 所以有额外的条件(❤️特色条件❤️)\n",
    "class Solution(object):\n",
    "    def deleteDuplicates(self, head):\n",
    "        \"\"\"\n",
    "        :type head: ListNode\n",
    "        :rtype: ListNode\n",
    "        \"\"\"\n",
    "        if not head or not head.next: \n",
    "            return head\n",
    "        \n",
    "        dummy = prev = real = ListNode(None)\n",
    "        prev.next = cur = head\n",
    "        while cur:\n",
    "            # ❤️❤️❤️ 这个条件太牛掰了.. 原来是可以这么干..\n",
    "            if ( (prev==dummy or prev.val != cur.val) and # ❤️ 没有 prev 的特色条件\n",
    "            (cur.next is None or cur.val != cur.next.val) ): # ❤️ 没有结尾的特色条件.\n",
    "                real.next = cur\n",
    "                real = cur\n",
    "            prev = cur\n",
    "            cur = cur.next\n",
    "        real.next = None # ❎❎❎❤️❤️❤️时刻记得关闭 linked list, 否则后患无穷.\n",
    "        return dummy.next"
   ]
  },
  {
   "cell_type": "markdown",
   "metadata": {},
   "source": [
    "## 补充\n",
    "### Find the middle for a linked list"
   ]
  },
  {
   "cell_type": "code",
   "execution_count": null,
   "metadata": {
    "collapsed": true
   },
   "outputs": [],
   "source": [
    "# ❤️❤️ 两种都很好, 视问题应用其中一个.\n",
    "class Solution(object):\n",
    "    \n",
    "    # Method 1: even case (i.e., 4) find the 2nd node, odd case the same.\n",
    "    def find_middle_1 (self, head):\n",
    "        \"\"\"\n",
    "        :type head: ListNode\n",
    "        :rtype: ListNode\n",
    "        \"\"\"\n",
    "        if not head or not head.next: # ❤️ odd 中点, even 中间偏左.\n",
    "            return head\n",
    "        \n",
    "        fast = head.next\n",
    "        slow = head\n",
    "        while fast and fast.next:\n",
    "            fast = fast.next.next\n",
    "            slow = slow.next\n",
    "            \n",
    "        return slow\n",
    "    \n",
    "    # Method 2: even case (i.e., 4) find the 3rd node, odd case the same.\n",
    "    def find_middle_2 (self, head):\n",
    "        if not head or not head.next: # ❤️ odd 中间, even 中间偏右\n",
    "            return head\n",
    "\n",
    "        fast = slow = head\n",
    "        if fast and fast.next:\n",
    "            fast = fast.next.next\n",
    "            slow = slow.next\n",
    "            \n",
    "        return slow"
   ]
  },
  {
   "cell_type": "markdown",
   "metadata": {},
   "source": [
    "### Find Length of a Linked List (Iterative and Recursive)\n",
    "* https://www.youtube.com/watch?v=kX_OJsOcK8Q"
   ]
  },
  {
   "cell_type": "code",
   "execution_count": null,
   "metadata": {
    "collapsed": true
   },
   "outputs": [],
   "source": [
    "class Solution(object):\n",
    "    \n",
    "    # Method 1: iteration\n",
    "    def find_length_iteration (self, head):\n",
    "        \"\"\"\n",
    "        :type head: ListNode\n",
    "        :rtype: ListNode\n",
    "        \"\"\"\n",
    "        curr = head\n",
    "        n    = 0\n",
    "        while curr:\n",
    "            n += 1\n",
    "            curr = curr.next\n",
    "        return n\n",
    "    \n",
    "    # Method 2: recursive \n",
    "    def find_length_recursive (self, head):\n",
    "        if not head: # the basic case \n",
    "            return 0\n",
    "        return 1 + self.find_length_recursive (head.next)"
   ]
  },
  {
   "cell_type": "markdown",
   "metadata": {},
   "source": [
    "### 编程技巧\n",
    "```prev.next = curr.next``` # 表示删除 curr\n",
    "\n",
    "```curr.next.next = curr``` # 表示反方向指向 "
   ]
  }
 ],
 "metadata": {
  "kernelspec": {
   "display_name": "Python 3",
   "language": "python",
   "name": "python3"
  },
  "language_info": {
   "codemirror_mode": {
    "name": "ipython",
    "version": 3
   },
   "file_extension": ".py",
   "mimetype": "text/x-python",
   "name": "python",
   "nbconvert_exporter": "python",
   "pygments_lexer": "ipython3",
   "version": "3.6.5"
  },
  "toc": {
   "base_numbering": 1,
   "nav_menu": {},
   "number_sections": true,
   "sideBar": true,
   "skip_h1_title": true,
   "title_cell": "Table of Contents",
   "title_sidebar": "Contents",
   "toc_cell": true,
   "toc_position": {
    "height": "805px",
    "left": "0px",
    "right": "869px",
    "top": "67px",
    "width": "233px"
   },
   "toc_section_display": "block",
   "toc_window_display": true
  }
 },
 "nbformat": 4,
 "nbformat_minor": 2
}

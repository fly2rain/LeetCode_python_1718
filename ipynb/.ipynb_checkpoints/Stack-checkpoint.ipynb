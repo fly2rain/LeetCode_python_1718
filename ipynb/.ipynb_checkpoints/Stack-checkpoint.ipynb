{
 "cells": [
  {
   "cell_type": "markdown",
   "metadata": {
    "toc": true
   },
   "source": [
    "<h1>Table of Contents<span class=\"tocSkip\"></span></h1>\n",
    "<div class=\"toc\" style=\"margin-top: 1em;\"><ul class=\"toc-item\"><li><span><a href=\"#20.easy_Valid-Parentheses-括号\" data-toc-modified-id=\"20.easy_Valid-Parentheses-括号-1\"><span class=\"toc-item-num\">1&nbsp;&nbsp;</span><a href=\"https://leetcode.com/problems/valid-parentheses/description/\" target=\"_blank\">20.easy_Valid Parentheses-括号</a></a></span></li><li><span><a href=\"#待做-94.medium_Binary-Tree-Inorder-Traversal\" data-toc-modified-id=\"待做-94.medium_Binary-Tree-Inorder-Traversal-2\"><span class=\"toc-item-num\">2&nbsp;&nbsp;</span><a href=\"https://leetcode.com/problems/binary-tree-inorder-traversal/description/\" target=\"_blank\">待做-94.medium_Binary Tree Inorder Traversal</a></a></span></li><li><span><a href=\"#待做-144.medium_Binary-Tree-Preorder-Traversal\" data-toc-modified-id=\"待做-144.medium_Binary-Tree-Preorder-Traversal-3\"><span class=\"toc-item-num\">3&nbsp;&nbsp;</span><a href=\"https://leetcode.com/problems/binary-tree-preorder-traversal/description/\" target=\"_blank\">待做-144.medium_Binary Tree Preorder Traversal</a></a></span></li><li><span><a href=\"#155.easy_Min-Stack\" data-toc-modified-id=\"155.easy_Min-Stack-4\"><span class=\"toc-item-num\">4&nbsp;&nbsp;</span><a href=\"https://leetcode.com/problems/min-stack/description/\" target=\"_blank\">155.easy_Min Stack</a></a></span></li><li><span><a href=\"#待做-173.medium_Binary-Search-Tree-Iterator\" data-toc-modified-id=\"待做-173.medium_Binary-Search-Tree-Iterator-5\"><span class=\"toc-item-num\">5&nbsp;&nbsp;</span><a href=\"https://leetcode.com/problems/binary-search-tree-iterator/description/\" target=\"_blank\">待做-173.medium_Binary Search Tree Iterator</a></a></span></li><li><span><a href=\"#225.easy_Implement-Stack-using-Queues\" data-toc-modified-id=\"225.easy_Implement-Stack-using-Queues-6\"><span class=\"toc-item-num\">6&nbsp;&nbsp;</span><a href=\"https://leetcode.com/problems/implement-stack-using-queues/description/\" target=\"_blank\">225.easy_Implement Stack using Queues</a></a></span></li><li><span><a href=\"#232.easy_Implement-Queue-using-Stacks\" data-toc-modified-id=\"232.easy_Implement-Queue-using-Stacks-7\"><span class=\"toc-item-num\">7&nbsp;&nbsp;</span><a href=\"https://leetcode.com/problems/implement-queue-using-stacks/description/\" target=\"_blank\">232.easy_Implement Queue using Stacks</a></a></span></li><li><span><a href=\"#待做-496.easy_Next-Greater-Element-I\" data-toc-modified-id=\"待做-496.easy_Next-Greater-Element-I-8\"><span class=\"toc-item-num\">8&nbsp;&nbsp;</span><a href=\"https://leetcode.com/problems/next-greater-element-i/description/\" target=\"_blank\">待做-496.easy_Next Greater Element I</a></a></span></li><li><span><a href=\"#晚上做-503.medium_Next-Greater-Element-II\" data-toc-modified-id=\"晚上做-503.medium_Next-Greater-Element-II-9\"><span class=\"toc-item-num\">9&nbsp;&nbsp;</span><a href=\"https://leetcode.com/problems/next-greater-element-ii/description/\" target=\"_blank\">晚上做-503.medium_Next Greater Element II</a></a></span></li><li><span><a href=\"#待做-636.medium_Exclusive-Time-of-Functions\" data-toc-modified-id=\"待做-636.medium_Exclusive-Time-of-Functions-10\"><span class=\"toc-item-num\">10&nbsp;&nbsp;</span><a href=\"https://leetcode.com/problems/exclusive-time-of-functions/description/\" target=\"_blank\">待做-636.medium_Exclusive Time of Functions</a></a></span></li><li><span><a href=\"#682.easy_Baseball-Game\" data-toc-modified-id=\"682.easy_Baseball-Game-11\"><span class=\"toc-item-num\">11&nbsp;&nbsp;</span><a href=\"https://leetcode.com/problems/baseball-game/description/\" target=\"_blank\">682.easy_Baseball Game</a></a></span></li><li><span><a href=\"#晚上做-739.medium_Daily-Temperatures\" data-toc-modified-id=\"晚上做-739.medium_Daily-Temperatures-12\"><span class=\"toc-item-num\">12&nbsp;&nbsp;</span><a href=\"https://leetcode.com/problems/daily-temperatures/description/\" target=\"_blank\">晚上做-739.medium_Daily Temperatures</a></a></span></li></ul></div>"
   ]
  },
  {
   "cell_type": "markdown",
   "metadata": {},
   "source": [
    "# Stack\n",
    "* 题型: [Stack](https://leetcode.com/problemset/algorithms/?topicSlugs=stack)\n",
    "* 题型: [Top 100 Liked Questions + Stack](https://leetcode.com/problemset/algorithms/?topicSlugs=stack&listId=79h8rn6)"
   ]
  },
  {
   "cell_type": "markdown",
   "metadata": {},
   "source": [
    "## [20.easy_Valid Parentheses-括号](https://leetcode.com/problems/valid-parentheses/description/)\n",
    "##### 题意: 判断小括号, 中括号 和 大括号 是否是成双成对的?\n",
    "\n",
    "##### 总结\n",
    "* 成对问题, 需要 dic\n",
    "* 第2种方法最优, 其次第3种, 第一种不好."
   ]
  },
  {
   "cell_type": "code",
   "execution_count": null,
   "metadata": {
    "collapsed": true
   },
   "outputs": [],
   "source": [
    "# (最优) 总结: 和上一个算法比起来, 该算法更简短易懂. Bug free @ 1/24/18 9:29 PM \n",
    "class Solution(object):\n",
    "    def isValid(self, s):\n",
    "        \"\"\"\n",
    "        :type s: str\n",
    "        :rtype: bool\n",
    "        \"\"\"\n",
    "        # ---- 1 the basic case ------------\n",
    "        if not s: return True\n",
    "        if len(s) & 1: return False # odd length is definitely not good\n",
    "        \n",
    "        # ---- 2 the algorithm ------------\n",
    "        stack = [] \n",
    "        dic   = {'(':')', '[':']', '{':'}'} # ❤️ 成对的问题 (不完全一致), 需要 dic 中的 pair. #❤️ 和上一种方法已经不一样了\n",
    "        \n",
    "        for x in s:                \n",
    "            if x in dic:    # ❎ ❤️ 和上面算法不一样, 我们\n",
    "                stack.append (dic[x])\n",
    "            else:           # 这样逻辑更加清晰 --- \n",
    "                if not stack or stack.pop () != x: # 判断为空, 或者 pop 不相等\n",
    "                    return False\n",
    "        return True if not stack else False"
   ]
  },
  {
   "cell_type": "code",
   "execution_count": null,
   "metadata": {
    "collapsed": true
   },
   "outputs": [],
   "source": [
    "# (次优) 总结: 和上两个算法对比起来, 中间那个最好, 这个其次, 最差的是第一个. Bug free @ 1/24/18 9:29 PM \n",
    "# 该算法和第二种算法其实本质是一样的, 只是这是分开来写了.\n",
    "class Solution(object):\n",
    "    def isValid(self, s):\n",
    "        \"\"\"\n",
    "        :type s: str\n",
    "        :rtype: bool\n",
    "        \"\"\"\n",
    "        stack = []\n",
    "        for x in s:\n",
    "            if x == '(':  \n",
    "                stack.append (')')\n",
    "            elif x == '[':  \n",
    "                stack.append (']')\n",
    "            elif x == '{':   \n",
    "                stack.append ('}')\n",
    "            else:     # pop \n",
    "                if not stack or stack.pop () != x:\n",
    "                    return False\n",
    "        return True if not stack else False"
   ]
  },
  {
   "cell_type": "code",
   "execution_count": null,
   "metadata": {
    "collapsed": true
   },
   "outputs": [],
   "source": [
    "# 总结: 简单但细节一堆, 没那么容易. debug 了一下 才 bug free @ 1/24/18 9:29 PM \n",
    "class Solution(object):\n",
    "    def isValid(self, s):\n",
    "        \"\"\"\n",
    "        :type s: str\n",
    "        :rtype: bool\n",
    "        \"\"\"\n",
    "        # ---- 1 the basic case ------------\n",
    "        if not s: return True\n",
    "        if len(s) & 1: return False # odd length is definitely not good\n",
    "        \n",
    "        # ---- 2 the algorithm ------------\n",
    "        stack = [] # ❤️ the stack \n",
    "        dic   = {')':'(', ']':'[', '}':'{'} # ❤️ ❤️ 成对的问题 (不完全一致), 需要 dic 中的 pair.\n",
    "        for x in s:\n",
    "            if x in dic: # ❎ ❤️ 第2个条件原先写成了 stack.pop () == x, 但注意这是\"成对问题\", 不能按照\n",
    "                if stack and stack.pop () == dic[x]: # \"完全一致\"问题处理. # if stack # ❤️ 判断是否为空\n",
    "                    continue\n",
    "                else:\n",
    "                    return False\n",
    "            else:\n",
    "                stack.append (x)\n",
    "        return True if not stack else False"
   ]
  },
  {
   "cell_type": "markdown",
   "metadata": {},
   "source": [
    "## [155.easy_Min Stack](https://leetcode.com/problems/min-stack/description/)\n",
    "##### 题意: 设计 min stack, 实现以下功能\n",
    "* push(x) -- Push element x onto stack.\n",
    "* pop() -- Removes the element on top of the stack.\n",
    "* top() -- Get the top element.\n",
    "* getMin() -- Retrieve the minimum element in the stack.\n",
    "\n",
    "##### 分析\n",
    "##### 总结"
   ]
  },
  {
   "cell_type": "code",
   "execution_count": null,
   "metadata": {
    "collapsed": true
   },
   "outputs": [],
   "source": [
    "## 方法2 (leetcode 答案). ❤️❤️❤️ 评价: 空间换时间, 多用 space, 减少计算量. \n",
    "# leetcode 答案: https://discuss.leetcode.com/topic/11985/my-python-solution\n",
    "\n",
    "class MinStack:\n",
    "    def __init__(self):\n",
    "        self.stack = []\n",
    "\n",
    "    # @param x, an integer\n",
    "    # @return an integer\n",
    "    def push(self, x):\n",
    "        curMin = self.getMin()\n",
    "        if curMin is None or x < curMin: # ❤️❎ not curMin 有歧义 有可能是 curMin == 0,\n",
    "            curMin = x                   # 所以保险起见还是 is None 来判断.\n",
    "        self.stack.append((x, curMin)); # ❤️ 空间换时间, 每次存进元素的值, 以及它对应的 min-val, 作为一个 tuple.\n",
    "\n",
    "    # @return nothing\n",
    "    def pop(self):\n",
    "        self.stack.pop()\n",
    "\n",
    "    # @return an integer\n",
    "    def top(self):\n",
    "        if len(self.stack) == 0:\n",
    "            return None\n",
    "        else:\n",
    "            return self.stack[-1][0] # ❤️ 怪不得需要两个index, 一个用于 list, 另一个用于 tuple.\n",
    "\n",
    "    # @return an integer\n",
    "    def getMin(self):\n",
    "        if len(self.stack) == 0:\n",
    "            return None\n",
    "        else:\n",
    "            return self.stack[-1][1]"
   ]
  },
  {
   "cell_type": "code",
   "execution_count": 10,
   "metadata": {},
   "outputs": [
    {
     "name": "stdout",
     "output_type": "stream",
     "text": [
      "-2\n",
      "0\n",
      "0\n"
     ]
    }
   ],
   "source": [
    "# 方法1 (我的方法): 不难, 但是首次操作 class, 还是碰到了一些问题. 1/24/18 10:23 PM\n",
    "# 首先, 审题不清楚, top () 返回的是栈最上面的 元素, 我理解成了最大的元素.\n",
    "class MinStack(object):\n",
    "\n",
    "    def __init__(self):\n",
    "        \"\"\"\n",
    "        initialize your data structure here.\n",
    "        \"\"\"\n",
    "        self.stack  = []\n",
    "        # self.maxVal = float ('-inf')  # ❤️ 审题不认真造成的\n",
    "        self.minVal = float ('inf')\n",
    "\n",
    "    def push(self, x):\n",
    "        \"\"\"\n",
    "        :type x: int\n",
    "        :rtype: void\n",
    "        \"\"\"\n",
    "        self.stack.append (x)\n",
    "        # self.maxVal = max(self.maxVal, x) # ❤️ 审题不认真造成的\n",
    "        self.minVal = min(self.minVal, x)\n",
    "        \n",
    "    def pop(self):\n",
    "        \"\"\"\n",
    "        :rtype: void\n",
    "        \"\"\"\n",
    "        x = self.stack.pop ()\n",
    "        # if x == self.maxVal:        # ❤️ 审题不认真造成的\n",
    "        #     tmp = float ('-inf')\n",
    "        #     for y in self.stack:   \n",
    "        #         tmp = max(tmp, y)\n",
    "        #     self.maxVal = tmp   \n",
    "        if x == self.minVal:\n",
    "            tmp = float ('inf')\n",
    "            for y in self.stack:  \n",
    "                tmp = min(tmp, y)\n",
    "            self.minVal = tmp\n",
    "\n",
    "    def top(self):\n",
    "        \"\"\"\n",
    "        :rtype: int\n",
    "        \"\"\"\n",
    "        if not self.stack: # ❤️ ❎ 考虑不周 stack 为空的情况, 硬去取值会产生错误\n",
    "            return None    # IndexError: list index out of range\n",
    "        else:\n",
    "            return self.stack[-1]\n",
    "        \n",
    "\n",
    "    def getMin(self):\n",
    "        \"\"\"\n",
    "        :rtype: int\n",
    "        \"\"\"\n",
    "        return self.minVal\n",
    "    \n",
    "# Your MinStack object will be instantiated and called as such:\n",
    "# obj = MinStack()\n",
    "# obj.push(x)\n",
    "# obj.pop()\n",
    "# param_3 = obj.top()\n",
    "# param_4 = obj.getMin()"
   ]
  },
  {
   "cell_type": "code",
   "execution_count": null,
   "metadata": {
    "collapsed": true
   },
   "outputs": [],
   "source": [
    "### 网上其他方式, [空间换时间] 利用 space 减少计算量 time O(n), space O(n)\n",
    "class MinStack:\n",
    "    def __init__(self):\n",
    "        self.data = []          # Store all the data\n",
    "        self.minData  = []      # Store the minimum element so far\n",
    " \n",
    "    # @param x, an integer\n",
    "    # @return nothing\n",
    "    def push(self, x):\n",
    "        self.data.append(x)\n",
    " \n",
    "        # Check if we need to update the minimum value\n",
    "        if len(self.minData) == 0 or x <= self.minData[-1]:\n",
    "            self.minData.append(x)\n",
    " \n",
    "    # @return an integer\n",
    "    def pop(self):\n",
    "        if len(self.data) == 0:\n",
    "            # Empty stack\n",
    "            return None\n",
    "        else:\n",
    "            if self.data[-1] == self.minData[-1]:  \n",
    "                self.minData.pop()\n",
    "            return self.data.pop()\n",
    " \n",
    "    # @return an integer\n",
    "    def top(self):\n",
    "        if len(self.data) == 0: \n",
    "            return None             # Empty stack\n",
    "        else:                   \n",
    "            return self.data[-1]\n",
    " \n",
    "    # @return an integer\n",
    "    def getMin(self):\n",
    "        if len(self.minData) == 0: \n",
    "            return None         # Empty stack\n",
    "        else:                       \n",
    "            return self.minData[-1]"
   ]
  },
  {
   "cell_type": "markdown",
   "metadata": {},
   "source": [
    "## [待做-173.medium_Binary Search Tree Iterator](https://leetcode.com/problems/binary-search-tree-iterator/description/)\n",
    "##### 题意\n",
    "##### 分析\n",
    "##### 总结"
   ]
  },
  {
   "cell_type": "code",
   "execution_count": null,
   "metadata": {
    "collapsed": true
   },
   "outputs": [],
   "source": []
  },
  {
   "cell_type": "markdown",
   "metadata": {},
   "source": [
    "## [225.easy_Implement Stack using Queues](https://leetcode.com/problems/implement-stack-using-queues/description/)\n",
    "##### 题意: Implement the following operations of a stack using queues.\n",
    "* push(x) -- Push element x onto stack.\n",
    "* pop() -- Removes the element on top of the stack.\n",
    "* top() -- Get the top element.\n",
    "* empty() -- Return whether the stack is empty.\n",
    "\n",
    "额外要求:\n",
    "* only use standard operations of a queue -- which means only **push to back**, **peek/pop from front**, **size**, and is **empty** operations are valid.\n",
    "\n",
    "##### 分析\n",
    "##### 总结"
   ]
  },
  {
   "cell_type": "code",
   "execution_count": 21,
   "metadata": {},
   "outputs": [
    {
     "name": "stdout",
     "output_type": "stream",
     "text": [
      "2\n",
      "2\n"
     ]
    }
   ],
   "source": [
    "from collections import deque # ❤️ double end queue\n",
    "\n",
    "class MyStack(object):\n",
    "\n",
    "    def __init__(self):\n",
    "        \"\"\"\n",
    "        Initialize your data structure here.\n",
    "        \"\"\"\n",
    "        self.a = deque () # 主要的 deque\n",
    "        self.b = deque () # 辅助的 deque\n",
    "        \n",
    "    def push(self, x):\n",
    "        \"\"\"\n",
    "        Push element x onto stack.\n",
    "        :type x: int\n",
    "        :rtype: void\n",
    "        \"\"\"\n",
    "        self.a.append (x)\n",
    "        \n",
    "    def pop(self):\n",
    "        \"\"\"\n",
    "        Removes the element on top of the stack and returns that element.\n",
    "        :rtype: int\n",
    "        \"\"\"\n",
    "        if not self.a: return None\n",
    "        \n",
    "        # 1 ❤️ 将 a 中的元素转移到 b 中, 直到还剩下最后一个元素, 该元素就是要被 pop 出去的.\n",
    "        while len(self.a) > 1: \n",
    "            x = self.a.popleft ()\n",
    "            self.b.append (x)\n",
    "        y_to_pop = self.a.popleft () # ❤️ ❎  竟然将 .popleft () 写成了 .popleft 缺少括号了, 记住\n",
    "                                     # 这类是成员函数, 必须有括号 () 才能掉用. \n",
    "        # 2 ❤️ 将 b 中的元素重新放入主要的 queue 中, 恢复原样\n",
    "        while self.b:  \n",
    "            self.a.append ( self.b.popleft() )\n",
    "        \n",
    "        # 3 return the last element in self.a\n",
    "        return y_to_pop\n",
    "        \n",
    "    def top(self):\n",
    "        \"\"\"\n",
    "        Get the top element.\n",
    "        :rtype: int\n",
    "        \"\"\"\n",
    "        if not self.a: return None\n",
    "        \n",
    "        # 1: a --> b 直到看到最后一个.\n",
    "        while self.a:\n",
    "            x = self.a.popleft ()\n",
    "            self.b.append (x)\n",
    "        y_in_top = x\n",
    "        \n",
    "        while self.b:\n",
    "            self.a.append (self.b.popleft())  \n",
    "            \n",
    "        return y_in_top  # ❤️ 这一句竟然忘记了...\n",
    "\n",
    "    def empty(self):\n",
    "        \"\"\"\n",
    "        Returns whether the stack is empty.\n",
    "        :rtype: bool\n",
    "        \"\"\"\n",
    "        len_a = len (self.a)\n",
    "        return len_a == 0\n",
    "\n",
    "# Your MyStack object will be instantiated and called as such:\n",
    "obj = MyStack()\n",
    "obj.push(1)\n",
    "obj.push(2)\n",
    "# print obj.a\n",
    "print obj.top ()\n",
    "print obj.pop ()\n",
    "# print obj.empty ()\n",
    "# print obj.top ()"
   ]
  },
  {
   "cell_type": "markdown",
   "metadata": {},
   "source": [
    "## [232.easy_Implement Queue using Stacks](https://leetcode.com/problems/implement-queue-using-stacks/description/)\n",
    "##### 题意: Implement the following operations of a queue using stacks.\n",
    "* push(x) -- Push element x to the back of queue.\n",
    "* pop() -- Removes the element from in front of queue.\n",
    "* peek() -- Get the front element.\n",
    "* empty() -- Return whether the queue is empty.\n",
    "\n",
    "注意事项:\n",
    "*  只能使用 stack 的 **push to top**, **peek/pop from top**, **size**, and **is empty**.\n",
    "\n",
    "##### 总结"
   ]
  },
  {
   "cell_type": "code",
   "execution_count": null,
   "metadata": {
    "collapsed": true
   },
   "outputs": [],
   "source": [
    "class MyQueue(object):\n",
    "\n",
    "    def __init__(self):\n",
    "        \"\"\"\n",
    "        Initialize your data structure here.\n",
    "        \"\"\"\n",
    "        self.a = []\n",
    "        self.b = []\n",
    "\n",
    "    def push(self, x):\n",
    "        \"\"\"\n",
    "        Push element x to the back of queue.\n",
    "        :type x: int\n",
    "        :rtype: void\n",
    "        \"\"\"\n",
    "        self.a.append (x)\n",
    "        \n",
    "\n",
    "    def pop(self):\n",
    "        \"\"\"\n",
    "        Removes the element from in front of queue and returns that element.\n",
    "        :rtype: int\n",
    "        \"\"\"\n",
    "        if not self.a:  return None\n",
    "        while len(self.a) > 1:\n",
    "            self.b.append ( self.a.pop () )\n",
    "        y_to_pop = self.a.pop ()\n",
    "        \n",
    "        while self.b: \n",
    "            self.a.append( self.b.pop () )\n",
    "        return y_to_pop\n",
    "    \n",
    "    def peek(self):\n",
    "        \"\"\"\n",
    "        Get the front element.\n",
    "        :rtype: int\n",
    "        \"\"\"\n",
    "        if not self.a:  return None\n",
    "            \n",
    "        while self.a:\n",
    "            x = self.a.pop ()\n",
    "            self.b.append (x)\n",
    "        y_on_top = x\n",
    "        \n",
    "        while self.b:\n",
    "            self.a.append (self.b.pop () )\n",
    "        return y_on_top # ❎ ❤️ 又忘记这句了.z\n",
    "        \n",
    "\n",
    "    def empty(self):\n",
    "        \"\"\"\n",
    "        Returns whether the queue is empty\n",
    "        :rtype: bool\n",
    "        \"\"\"\n",
    "        return len(self.a) == 0\n",
    "        \n",
    "\n",
    "\n",
    "# Your MyQueue object will be instantiated and called as such:\n",
    "# obj = MyQueue()\n",
    "# obj.push(x)\n",
    "# param_2 = obj.pop()\n",
    "# param_3 = obj.peek()\n",
    "# param_4 = obj.empty()"
   ]
  },
  {
   "cell_type": "markdown",
   "metadata": {},
   "source": [
    "## [待做-496.easy_Next Greater Element I](https://leetcode.com/problems/next-greater-element-i/description/)\n",
    "##### 题意\n",
    "##### 分析\n",
    "##### 总结\n",
    "* https://www.youtube.com/watch?v=wg2TXOQUOd0"
   ]
  },
  {
   "cell_type": "markdown",
   "metadata": {},
   "source": [
    "## [晚上做-503.medium_Next Greater Element II](https://leetcode.com/problems/next-greater-element-ii/description/)\n",
    "##### 题意"
   ]
  },
  {
   "cell_type": "markdown",
   "metadata": {},
   "source": [
    "## [待做-636.medium_Exclusive Time of Functions](https://leetcode.com/problems/exclusive-time-of-functions/description/)\n",
    "##### 题意"
   ]
  },
  {
   "cell_type": "markdown",
   "metadata": {},
   "source": [
    "## [682.easy_Baseball Game](https://leetcode.com/problems/baseball-game/description/)\n",
    "##### 题意: baseball 比赛记分员, 分数将以一串 string形式展示, 统计最终得分.* \n",
    "* String 中包含以下四种情况:\n",
    "    * [本产得分] **interger** 整数, 表示该场比赛得分多少.\n",
    "    * [本产得分] **\"+\"** 表示本场得分是 the sum of the last two **valid** round's points.\n",
    "    * [本产得分] **\"D\"** 表示本场得分是 the **doubled** data of the **last valid** round's points.\n",
    "    * [操作符] **\"C\"** 表示 the last valid round's points you get were **invalid** and should **be removed**.\n",
    "* 每场比赛的分数可能对前后场比赛的有影响.\n",
    "* 注意实现:\n",
    "    * input size should be between 1 and 1000.\n",
    "    * every interger should be between -30000 and 30000.\n",
    "    * 要不要考虑 overflow 的问题呢? \n",
    "* ***总结***: 该题意还是非常难懂的, 需要结合网页上的例子理解.\n",
    "    \n",
    "```python\n",
    "import sys # ❤️ 输出 python int 最大范围.\n",
    "sys.maxint # 输出 9223372036854775807, 还是非常大的. \n",
    "```"
   ]
  },
  {
   "cell_type": "code",
   "execution_count": null,
   "metadata": {
    "collapsed": true
   },
   "outputs": [],
   "source": [
    "# 总结 1/25/18 4:03 PM, 刚开始觉得这个问题会巨麻烦无比. 没想到纸上画画, 搞清楚过程, 满是满简单的. 以后这种能\n",
    "# ❤️❤️ 改变前面的值, 或者依赖于以前值的, 可以方便的使用 stack.\n",
    "# Analyses: \n",
    "    # Time: O(n)\n",
    "    # Space: O(n)\n",
    "class Solution(object):\n",
    "    def calPoints(self, ops):\n",
    "        \"\"\"\n",
    "        :type ops: List[str]\n",
    "        :rtype: int\n",
    "        \"\"\"\n",
    "        # 1 the basic cases -----------\n",
    "        curSum = 0\n",
    "        if not ops:  return curSum\n",
    "        \n",
    "        # 2 do the computaion --------\n",
    "        valid_points = [] # the stack of valid points \n",
    "        for y in ops:  # ❤️ ❎ 竟然把 for 错写成了 while 了. \n",
    "            if y == 'C':    # (a) cancel the previous points\n",
    "                if not valid_points:  return None # 如果空的, 没法 cancel 以前的 points.\n",
    "                x = - valid_points.pop () # ❤️ 减号的作用. 减去 in-valid points.\n",
    "                \n",
    "            elif y == 'D':  # (b) double the previous points \n",
    "                if not valid_points: return None # 如果空, 没法 cancel\n",
    "                x = valid_points[-1] * 2 # this round's point \n",
    "                valid_points.append (x)  # push into stack \n",
    "            \n",
    "            elif y == '+':  # (c) sum of the previous points \n",
    "                if len(valid_points) < 2: return None # 没有两场的 valid points, 所以不合理.\n",
    "                x = valid_points[-1] + valid_points[-2]\n",
    "                valid_points.append (x)\n",
    "                \n",
    "            else:           # (d) the interger \n",
    "                x = int (y)\n",
    "                valid_points.append (x)\n",
    "                \n",
    "            curSum += x\n",
    "                \n",
    "        return curSum        "
   ]
  },
  {
   "cell_type": "code",
   "execution_count": null,
   "metadata": {
    "collapsed": true
   },
   "outputs": [],
   "source": [
    "# leetcode 标准答案 https://leetcode.com/problems/baseball-game/discuss/107871\n",
    "# 疑问: 真得不需要检查可靠想吗?\n",
    "# 评价: 确实非常简单, 简短地关键是把所有 valid 分数 sum 就是最后的分数. \n",
    "\n",
    "class Solution(object):\n",
    "    def calPoints(self, ops):\n",
    "        # Time: O(n)\n",
    "        # Space: O(n)\n",
    "        history = []\n",
    "        for op in ops:\n",
    "            if op == 'C':\n",
    "                history.pop()\n",
    "            elif op == 'D':\n",
    "                history.append(history[-1] * 2)\n",
    "            elif op == '+':\n",
    "                history.append(history[-1] + history[-2])\n",
    "            else:\n",
    "                history.append(int(op))\n",
    "        return sum(history)  # ❤️❤️ 这是代码简短地关键."
   ]
  },
  {
   "cell_type": "markdown",
   "metadata": {},
   "source": [
    "## [晚上做-739.medium_Daily Temperatures](https://leetcode.com/problems/daily-temperatures/description/)\n",
    "##### 题意: temperature 存在一个 list 中, 输出还要等几天才能升温.\n",
    "\n",
    "##### 分析\n",
    "* 方法1: 最简单的方式两重 for 循环 \n",
    "\n",
    "##### 总结"
   ]
  },
  {
   "cell_type": "code",
   "execution_count": 1,
   "metadata": {},
   "outputs": [
    {
     "name": "stdout",
     "output_type": "stream",
     "text": [
      "[1, 1, 4, 2, 1, 1, 0, 0]\n"
     ]
    }
   ],
   "source": [
    "# 方法1: 两重 for 循环. 评价: 代码倒是简单, 方便. 只是 不能 AC leetcode, 因为超时.\n",
    "class Solution(object):\n",
    "    def dailyTemperatures(self, temperatures):\n",
    "        \"\"\"\n",
    "        :type temperatures: List[int]\n",
    "        :rtype: List[int]\n",
    "        \"\"\"\n",
    "        nn  = len(temperatures)\n",
    "        \n",
    "        # 1 the basic cases ----\n",
    "        if nn == 0: return None\n",
    "        if nn == 1: return [0]\n",
    "        \n",
    "        # 2 do the search ------\n",
    "        rst = [0] * nn\n",
    "        for i in xrange (nn - 1):\n",
    "            cnt = 0\n",
    "            greatOrNot = False\n",
    "            xi  = temperatures[i]\n",
    "            for j in xrange (i + 1, nn):\n",
    "                xj = temperatures[j]\n",
    "                if xj > xi: \n",
    "                    greatOrNot = True\n",
    "                    break\n",
    "            rst[i] = j - i if greatOrNot else 0\n",
    "        return rst\n",
    "    \n",
    "##### testing ####\n",
    "print Solution().dailyTemperatures([73, 74, 75, 71, 69, 72, 76, 73]) # 答案是 [1, 1, 4, 2, 1, 1, 0, 0]"
   ]
  },
  {
   "cell_type": "markdown",
   "metadata": {},
   "source": [
    "## []()\n",
    "##### 题意\n",
    "##### 分析\n",
    "##### 总结"
   ]
  },
  {
   "cell_type": "markdown",
   "metadata": {},
   "source": [
    "## []()\n",
    "##### 题意\n",
    "##### 分析\n",
    "##### 总结"
   ]
  },
  {
   "cell_type": "markdown",
   "metadata": {},
   "source": [
    "## []()\n",
    "##### 题意\n",
    "##### 分析\n",
    "##### 总结"
   ]
  }
 ],
 "metadata": {
  "kernelspec": {
   "display_name": "Python 2",
   "language": "python",
   "name": "python2"
  },
  "language_info": {
   "codemirror_mode": {
    "name": "ipython",
    "version": 2
   },
   "file_extension": ".py",
   "mimetype": "text/x-python",
   "name": "python",
   "nbconvert_exporter": "python",
   "pygments_lexer": "ipython2",
   "version": "2.7.13"
  },
  "toc": {
   "nav_menu": {},
   "number_sections": false,
   "sideBar": true,
   "skip_h1_title": true,
   "toc_cell": true,
   "toc_position": {
    "height": "642px",
    "left": "0px",
    "right": "1084.28px",
    "top": "67px",
    "width": "206px"
   },
   "toc_section_display": "block",
   "toc_window_display": true
  }
 },
 "nbformat": 4,
 "nbformat_minor": 2
}

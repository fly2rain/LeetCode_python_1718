{
 "cells": [
  {
   "cell_type": "markdown",
   "metadata": {
    "toc": true
   },
   "source": [
    "<h1>Table of Contents<span class=\"tocSkip\"></span></h1>\n",
    "<div class=\"toc\" style=\"margin-top: 1em;\"><ul class=\"toc-item\"><li><span><a href=\"#2/19\" data-toc-modified-id=\"2/19-1\"><span class=\"toc-item-num\">1&nbsp;&nbsp;</span><a href=\"\" target=\"_blank\">2/19</a></a></span><ul class=\"toc-item\"><li><span><a href=\"#20.easy-Valid-Parentheses\" data-toc-modified-id=\"20.easy-Valid-Parentheses-1.1\"><span class=\"toc-item-num\">1.1&nbsp;&nbsp;</span><a href=\"https://leetcode.com/problems/valid-parentheses/description/\" target=\"_blank\">20.easy-Valid Parentheses</a></a></span></li><li><span><a href=\"#22.med-Generate-Parentheses\" data-toc-modified-id=\"22.med-Generate-Parentheses-1.2\"><span class=\"toc-item-num\">1.2&nbsp;&nbsp;</span><a href=\"https://leetcode.com/problems/generate-parentheses/description/\" target=\"_blank\">22.med-Generate Parentheses</a></a></span></li><li><span><a href=\"#14.easy-Longest-Common-Prefix\" data-toc-modified-id=\"14.easy-Longest-Common-Prefix-1.3\"><span class=\"toc-item-num\">1.3&nbsp;&nbsp;</span><a href=\"https://leetcode.com/problems/longest-common-prefix/description/\" target=\"_blank\">14.easy-Longest Common Prefix</a></a></span></li></ul></li><li><span><a href=\"#Str:-anagram-同字母异序词\" data-toc-modified-id=\"Str:-anagram-同字母异序词-2\"><span class=\"toc-item-num\">2&nbsp;&nbsp;</span><a href=\"\" target=\"_blank\">Str: anagram 同字母异序词</a></a></span><ul class=\"toc-item\"><li><span><a href=\"#242.easy-Valid-Anagram\" data-toc-modified-id=\"242.easy-Valid-Anagram-2.1\"><span class=\"toc-item-num\">2.1&nbsp;&nbsp;</span><a href=\"\" target=\"_blank\">242.easy-Valid Anagram</a></a></span></li></ul></li><li><span><a href=\"#Five-Sliding-Window-Alg-to-solve-the-substring-search-problem\" data-toc-modified-id=\"Five-Sliding-Window-Alg-to-solve-the-substring-search-problem-3\"><span class=\"toc-item-num\">3&nbsp;&nbsp;</span>Five Sliding Window Alg to solve the substring search problem</a></span><ul class=\"toc-item\"><li><span><a href=\"#3.med-Longest-Substring-Without-Repeating-Characters\" data-toc-modified-id=\"3.med-Longest-Substring-Without-Repeating-Characters-3.1\"><span class=\"toc-item-num\">3.1&nbsp;&nbsp;</span><a href=\"https://leetcode.com/problems/longest-substring-without-repeating-characters/\" target=\"_blank\">3.med-Longest Substring Without Repeating Characters</a></a></span></li><li><span><a href=\"#30.hard-Substring-with-Concatenation-of-All-Words\" data-toc-modified-id=\"30.hard-Substring-with-Concatenation-of-All-Words-3.2\"><span class=\"toc-item-num\">3.2&nbsp;&nbsp;</span><a href=\"https://leetcode.com/problems/substring-with-concatenation-of-all-words/\" target=\"_blank\">30.hard-Substring with Concatenation of All Words</a></a></span></li><li><span><a href=\"#76.hard-Minimum-Window-Substring\" data-toc-modified-id=\"76.hard-Minimum-Window-Substring-3.3\"><span class=\"toc-item-num\">3.3&nbsp;&nbsp;</span><a href=\"https://leetcode.com/problems/minimum-window-substring/description/\" target=\"_blank\">76.hard-Minimum Window Substring</a></a></span></li><li><span><a href=\"#find-substring-templates:-非常重要,-把这一类题目的-general-解题方案抽取出来\" data-toc-modified-id=\"find-substring-templates:-非常重要,-把这一类题目的-general-解题方案抽取出来-3.4\"><span class=\"toc-item-num\">3.4&nbsp;&nbsp;</span>find substring templates: 非常重要, 把这一类题目的 general 解题方案抽取出来</a></span></li><li><span><a href=\"#159.hard-Longest-Substring-with-At-Most-Two-Distinct-Characters\" data-toc-modified-id=\"159.hard-Longest-Substring-with-At-Most-Two-Distinct-Characters-3.5\"><span class=\"toc-item-num\">3.5&nbsp;&nbsp;</span><a href=\"https://leetcode.com/problems/longest-substring-with-at-most-two-distinct-characters/description/\" target=\"_blank\">159.hard-Longest Substring with At Most Two Distinct Characters</a></a></span></li><li><span><a href=\"#438.easy-Find-All-Anagrams-in-a-String\" data-toc-modified-id=\"438.easy-Find-All-Anagrams-in-a-String-3.6\"><span class=\"toc-item-num\">3.6&nbsp;&nbsp;</span><a href=\"https://leetcode.com/problems/find-all-anagrams-in-a-string/description/\" target=\"_blank\">438.easy-Find All Anagrams in a String</a></a></span></li></ul></li><li><span><a href=\"#3/8:-String---most-frequencey\" data-toc-modified-id=\"3/8:-String---most-frequencey-4\"><span class=\"toc-item-num\">4&nbsp;&nbsp;</span><a href=\"\" target=\"_blank\">3/8: String - most frequencey</a></a></span><ul class=\"toc-item\"><li><span><a href=\"#13.easy-Roman-to-Integer\" data-toc-modified-id=\"13.easy-Roman-to-Integer-4.1\"><span class=\"toc-item-num\">4.1&nbsp;&nbsp;</span><a href=\"https://leetcode.com/problems/roman-to-integer/description/\" target=\"_blank\">13.easy-Roman to Integer</a></a></span></li></ul></li></ul></div>"
   ]
  },
  {
   "cell_type": "markdown",
   "metadata": {},
   "source": [
    "# Divide and Conquer\n",
    "* 题型: [Top 100 Liked Questions + String](https://leetcode.com/problemset/algorithms/?topicSlugs=string&listId=79h8rn6)\n",
    "* 题型: [String](https://leetcode.com/problemset/algorithms/?topicSlugs=string)"
   ]
  },
  {
   "cell_type": "markdown",
   "metadata": {},
   "source": [
    "## [2/19]()"
   ]
  },
  {
   "cell_type": "markdown",
   "metadata": {},
   "source": [
    "### [20.easy-Valid Parentheses](https://leetcode.com/problems/valid-parentheses/description/)\n",
    "##### 题意: Given a string containing just the characters '(', ')', '{', '}', '[' and ']', determine if the input string is valid.\n",
    "\n",
    "##### 总结: 利用 stack"
   ]
  },
  {
   "cell_type": "code",
   "execution_count": null,
   "metadata": {
    "collapsed": true
   },
   "outputs": [],
   "source": [
    "class Solution(object):\n",
    "    def isValid(self, s):\n",
    "        \"\"\"\n",
    "        :type s: str\n",
    "        :rtype: bool\n",
    "        \"\"\"  \n",
    "        stack = []\n",
    "        for x in s:\n",
    "            if x == \"(\":\n",
    "                stack.append(\")\")\n",
    "            elif x == \"[\":\n",
    "                stack.append(\"]\")\n",
    "            elif x == \"{\":\n",
    "                stack.append(\"}\")\n",
    "            else:\n",
    "                if not stack or stack.pop() != x:\n",
    "                    return False\n",
    "        return (not stack)"
   ]
  },
  {
   "cell_type": "code",
   "execution_count": null,
   "metadata": {
    "collapsed": true
   },
   "outputs": [],
   "source": [
    "class Solution(object):\n",
    "    def isValid(self, s):\n",
    "        \"\"\"\n",
    "        :type s: str\n",
    "        :rtype: bool\n",
    "        \"\"\"\n",
    "        dic = {\"(\":\")\", \"[\":\"]\", \"{\":\"}\"}\n",
    "        stack = []\n",
    "        for x in s:\n",
    "            if x in dic:\n",
    "                stack.append(dic[x])\n",
    "            elif not stack or stack.pop() != x:\n",
    "                return False\n",
    "        return (not stack)"
   ]
  },
  {
   "cell_type": "markdown",
   "metadata": {},
   "source": [
    "### [22.med-Generate Parentheses](https://leetcode.com/problems/generate-parentheses/description/)\n",
    "##### 题意: Given $n$ pairs of parentheses, write a function to generate all combinations of well-formed parentheses.\n",
    "##### 分析\n",
    "##### 总结"
   ]
  },
  {
   "cell_type": "code",
   "execution_count": null,
   "metadata": {
    "collapsed": true
   },
   "outputs": [],
   "source": [
    "class Solution(object):\n",
    "    def generateParenthesis(self, n):\n",
    "        \"\"\"\n",
    "        :type n: int\n",
    "        :rtype: List[str]\n",
    "        \"\"\"\n",
    "        if n < 1: return []\n",
    "        \n",
    "        rst = []\n",
    "        self.helper(rst, \"\", n, 0, 0)\n",
    "        return rst\n",
    "        \n",
    "    def helper(self, rst, cur, n, left, right):\n",
    "        if right == n: # ❤️❤️ string 是 immutable 的, 因此不传递的时候是直接 copy 的,\n",
    "            rst.append(cur) # 而 list 是 mutable 的, 传参的时候, 类似引用传参.\n",
    "        \n",
    "        if left < n:\n",
    "            self.helper(rst, cur + \"(\", n, left+1, right)\n",
    "        \n",
    "        if right < left:\n",
    "            self.helper(rst, cur + \")\", n, left, right+1)"
   ]
  },
  {
   "cell_type": "markdown",
   "metadata": {},
   "source": [
    "### [14.easy-Longest Common Prefix](https://leetcode.com/problems/longest-common-prefix/description/)\n",
    "##### 题意: write a function to <span class=\"girk\">find the longest common prefix string</span> amongst an array of strings."
   ]
  },
  {
   "cell_type": "code",
   "execution_count": 8,
   "metadata": {
    "collapsed": false
   },
   "outputs": [
    {
     "name": "stdout",
     "output_type": "stream",
     "text": [
      "aa\n"
     ]
    }
   ],
   "source": [
    "# 方法看着更好一点, 没有了 min(strs, key=len)\n",
    "class Solution(object):\n",
    "    def longestCommonPrefix(self, strs):\n",
    "        \"\"\"\n",
    "        :type strs: List[str]\n",
    "        :rtype: str\n",
    "        \"\"\"\n",
    "        if not strs: return \"\"\n",
    "        \n",
    "        prefix = strs[0]\n",
    "        for i, x in enumerate(prefix): # ❎ 竟然将 prefix 写成了 strs\n",
    "            for s in strs:\n",
    "                if i < len(s) and s[i] == x:\n",
    "                    continue\n",
    "                else:\n",
    "                    return prefix[:i]\n",
    "        return prefix\n",
    "\n",
    "print Solution().longestCommonPrefix([\"aa\", \"aa\"])"
   ]
  },
  {
   "cell_type": "code",
   "execution_count": null,
   "metadata": {
    "collapsed": true
   },
   "outputs": [],
   "source": [
    "# 更高效的算法. time 38 ms\n",
    "class Solution(object):\n",
    "    def longestCommonPrefix(self, strs):\n",
    "        \"\"\"\n",
    "        :type strs: List[str]\n",
    "        :rtype: str\n",
    "        \"\"\"\n",
    "        if not strs: return \"\"\n",
    "        \n",
    "        prefix = min(strs, key=len) # ❤️❤️ 这是关键, 原来 min 和 max 也能指定 key\n",
    "        for i, x in enumerate(prefix):\n",
    "            for s in strs:\n",
    "                if s[i] != x: return prefix[:i]\n",
    "                \n",
    "        return prefix"
   ]
  },
  {
   "cell_type": "code",
   "execution_count": null,
   "metadata": {
    "collapsed": true
   },
   "outputs": [],
   "source": [
    "# 很清晰的算法, time 60 ms.\n",
    "class Solution(object):\n",
    "    def longestCommonPrefix(self, strs):\n",
    "        \"\"\"\n",
    "        :type strs: List[str]\n",
    "        :rtype: str\n",
    "        \"\"\"\n",
    "        if not strs or len(strs) == 0: return \"\"\n",
    "        \n",
    "        prefix = strs[0]\n",
    "        for i in xrange(1, len(strs)):\n",
    "            j = 0 \n",
    "            while j < min( len(strs[i]), len(prefix) ):\n",
    "                if strs[i][j] != prefix[j]:\n",
    "                    break\n",
    "                j += 1\n",
    "            prefix = prefix[:j]\n",
    "            \n",
    "        return prefix"
   ]
  },
  {
   "cell_type": "markdown",
   "metadata": {},
   "source": [
    "## [Str: anagram 同字母异序词]()"
   ]
  },
  {
   "cell_type": "markdown",
   "metadata": {},
   "source": [
    "### [242.easy-Valid Anagram]()\n",
    "##### 题意: 相同字母异序词 https://leetcode.com/problems/valid-anagram/description/\n",
    "##### 分析: 有相同数量的字母, 有相同的字母, 只是顺序不一样而已.\n",
    "##### 两种思路:\n",
    "* sorted 之后, 再逐个查看. runtime $O(n\\log n)$, space complexity $O(1)$\n",
    "* 利用 hash-table. runtime $O(n)$, space complexity $O(n)$, 可认为字母种类有限不多."
   ]
  },
  {
   "cell_type": "code",
   "execution_count": null,
   "metadata": {
    "collapsed": true
   },
   "outputs": [],
   "source": [
    "# 基于 dcitionary 的\n",
    "class Solution(object):\n",
    "    ## Th best algorithm, clean, short and compact. \n",
    "    ## Alg#2 use hash-table ##########\n",
    "    def isAnagram_1 (self, s, t):\n",
    "        \"\"\"\n",
    "        :type s: str\n",
    "        :type t: str\n",
    "        :rtype: bool\n",
    "        \"\"\"\n",
    "        if not len (s) == len(t):\n",
    "            return False\n",
    "        \n",
    "        dic = {}\n",
    "        for x in s:\n",
    "            dic[x] = dic.get (x, 0) + 1\n",
    "            \n",
    "        for x in t:\n",
    "            dic[x] = dic.get(x, 0) - 1\n",
    "            if dic[x] < 0:\n",
    "                return False   \n",
    "        return True"
   ]
  },
  {
   "cell_type": "code",
   "execution_count": null,
   "metadata": {
    "collapsed": true
   },
   "outputs": [],
   "source": [
    "# 方法2: 基于 dictionary 的\n",
    "class Solution(object):\n",
    "    def isAnagram1(self, s, t):\n",
    "        dic1, dic2 = {}, {}\n",
    "        for item in s:\n",
    "            dic1[item] = dic1.get(item, 0) + 1\n",
    "        for item in t:\n",
    "            dic2[item] = dic2.get(item, 0) + 1\n",
    "        return dic1 == dic2"
   ]
  },
  {
   "cell_type": "code",
   "execution_count": null,
   "metadata": {
    "collapsed": true
   },
   "outputs": [],
   "source": [
    "class Solution(object):\n",
    "    def isAnagram3(self, s, t):\n",
    "        return sorted(s) == sorted(t)"
   ]
  },
  {
   "cell_type": "markdown",
   "metadata": {},
   "source": [
    "## Five Sliding Window Alg to solve the substring search problem\n",
    "Substring sliding window 问题总结在如下网页中 https://leetcode.com/problems/find-all-anagrams-in-a-string/discuss/92007, 总共包含5题下:\n",
    "* [3. Longest Substring Without Repeating Characters](https://leetcode.com/problems/longest-substring-without-repeating-characters/)\n",
    "* [30. Substring with Concatenation of All Words](https://leetcode.com/problems/substring-with-concatenation-of-all-words/)\n",
    "* [76. Minimum Window Substring](https://leetcode.com/problems/minimum-window-substring/)\n",
    "* [159. Longest Substring with At Most Two Distinct Characters]( https://leetcode.com/problems/longest-substring-with-at-most-two-distinct-characters/)\n",
    "* [438. Find All Anagrams in a String](https://leetcode.com/problems/find-all-anagrams-in-a-string/)"
   ]
  },
  {
   "cell_type": "markdown",
   "metadata": {},
   "source": [
    "### [3.med-Longest Substring Without Repeating Characters](https://leetcode.com/problems/longest-substring-without-repeating-characters/)\n",
    "##### 题意 Given a string, find the length of the longest substring without repeating characters.\n",
    "* Exp: Given \"abcabcbb\", the answer is \"abc\", which the length is 3.\n",
    "\n",
    "##### 解题思路:\n",
    "* Two points: \n",
    "    * 总是有一个 index 标记当前位置,\n",
    "    * 另一个 index 表示 forget 的位置,\n",
    "    * 两个 index 之间是目标区域     \n",
    "* 标准答案来自于网页: https://leetcode.com/problems/longest-substring-without-repeating-characters/solution/"
   ]
  },
  {
   "cell_type": "code",
   "execution_count": null,
   "metadata": {
    "collapsed": true
   },
   "outputs": [],
   "source": [
    "# 标准答案来自于网页, 网页中是 java code.\n",
    "# https://leetcode.com/problems/longest-substring-without-repeating-characters/solution/\n",
    "# 107 ms\n",
    "class Solution(object):\n",
    "    def lengthOfLongestSubstring(self, s):\n",
    "        \"\"\"\n",
    "        :type s: str\n",
    "        :rtype: int\n",
    "        \"\"\"\n",
    "        if not s: return 0\n",
    "        \n",
    "        dic = {}\n",
    "        l = maxCnt = 0\n",
    "        # Two points: left point & right point ----------------\n",
    "        for r, x in enumerate (s):\n",
    "            if x in dic: # 如果已经出现过, 更新 left index\n",
    "                l = max(1+dic[x], l)\n",
    "            # 如果没有出现过, 更新 maxCnt 和 dictionary\n",
    "            maxCnt = max(maxCnt, r - l + 1) # 更新的是数字, 而非 index\n",
    "            dic[x] = r # 更新的是计数而非index, 输出是计数, 一定要统一.\n",
    "\n",
    "        return maxCnt "
   ]
  },
  {
   "cell_type": "code",
   "execution_count": null,
   "metadata": {
    "collapsed": true
   },
   "outputs": [],
   "source": [
    "class Solution(object):\n",
    "    def lengthOfLongestSubstring(self, s):\n",
    "        \"\"\"\n",
    "        :type s: str\n",
    "        :rtype: int\n",
    "        \"\"\"\n",
    "        if not s: return 0\n",
    "        \n",
    "        dic, maxLen, j = {}, 0, 0\n",
    "               \n",
    "        for i, x in enumerate(s):\n",
    "            dic[x] = dic.get(x,0) + 1\n",
    "            if dic[x] == 1: \n",
    "                maxLen = max(maxLen, i-j+1)\n",
    "            else:\n",
    "                while dic[x] > 1:\n",
    "                    dic[s[j]] -= 1\n",
    "                    j += 1\n",
    "                \n",
    "        return maxLen"
   ]
  },
  {
   "cell_type": "markdown",
   "metadata": {},
   "source": [
    "### [30.hard-Substring with Concatenation of All Words](https://leetcode.com/problems/substring-with-concatenation-of-all-words/)\n",
    "##### 题意: 给定字符串和 a list of words, 找到 word 在 string s 中的位置.\n",
    "* You are given a string, s, and a list of words, words, that are all of the same length. Find all starting indices of substring(s) in s that is a concatenation of each word in words exactly once and without any intervening characters.\n",
    "* 注意事项: <span class=\"girk\">(1)</span> words 顺序不重要, <span class=\"girk\">(2)</span> 每个 word 只能出现一回, <span class=\"girk\">(3)</span> 每个 word 具有相同的长度.\n",
    "\n",
    "##### 标准答案 (答案太难, 回头再看)\n",
    "* python 答案: https://leetcode.com/problems/substring-with-concatenation-of-all-words/discuss/13667\n",
    "* c++ 答案: https://leetcode.com/problems/substring-with-concatenation-of-all-words/discuss/13656"
   ]
  },
  {
   "cell_type": "code",
   "execution_count": null,
   "metadata": {
    "collapsed": true
   },
   "outputs": [],
   "source": [
    "\"\"\"For example, given:\n",
    "s: \"barfoothefoobarman\"\n",
    "words: [\"foo\", \"bar\"]\n",
    "\n",
    "You should return the indices: [0,9].\n",
    "(order does not matter).\n",
    "\"\"\""
   ]
  },
  {
   "cell_type": "markdown",
   "metadata": {},
   "source": [
    "### [76.hard-Minimum Window Substring](https://leetcode.com/problems/minimum-window-substring/description/)\n",
    "##### 题意: \n",
    "* Given a string S and a string T, find the minimum window in S which will contain all the characters in T in complexity $O(n)$.\n",
    "* <span class=\"burk\">Exp</span>: S = \"ADOBECODEBANC\", T = \"ABC\", Minimum window is \"BANC\".\n",
    "* Note that: (1) 如果 S 不包含 T, 输出空 string \"\".  (2) 如果存在,保证唯一存在性. \n",
    "\n",
    "##### 解题答案 https://leetcode.com/problems/minimum-window-substring/discuss/26808\n",
    "* 提供了清晰的解题答案 以及 解决这类问题的模板.\n",
    "* 首先看针对这题的答案, 然后查看解决这类问题的模板.\n",
    "    * Use <span class=\"girk\">two pointers</span>: start and end to represent a window.\n",
    "    * Move end to <span class=\"girk\">find a valid window</span>.\n",
    "    * When a <span class=\"girk\">valid window</span> is found, move start to find a smaller window."
   ]
  },
  {
   "cell_type": "code",
   "execution_count": null,
   "metadata": {
    "collapsed": true
   },
   "outputs": [],
   "source": [
    "class Solution(object):\n",
    "    def minWindow(self, s, t):\n",
    "        \"\"\"\n",
    "        :type s: str\n",
    "        :type t: str\n",
    "        :rtype: str\n",
    "        \"\"\"\n",
    "        # 1 edge condition\n",
    "        ns, nt = len(s), len(t)\n",
    "        if ns == 0 or nt == 0 or nt > ns: return \"\"\n",
    "        \n",
    "        # 2 construct the dicitonary for t\n",
    "        dic = {}\n",
    "        for x in t:\n",
    "            dic[x] = dic.get(x,0) + 1\n",
    "            \n",
    "        # 3 do the sliding window search.\n",
    "        cnt, j, rst = nt, 0, \"\"\n",
    "        for i, x in enumerate(s):\n",
    "            dic[x] = dic.get(x,0) - 1\n",
    "            if dic[x] >= 0: cnt -= 1 # >= 0 表明已经出现过\n",
    "            \n",
    "            while cnt == 0:\n",
    "                if i-j+1 < len(rst) or not rst:\n",
    "                    rst = s[j:i+1] # ❎ 注意 i 和 j 都是 index, 所以右边 i + 1\n",
    "                    \n",
    "                dic[s[j]] += 1\n",
    "                if dic[s[j]] > 0: cnt += 1\n",
    "                j += 1\n",
    "        return rst"
   ]
  },
  {
   "cell_type": "markdown",
   "metadata": {},
   "source": [
    "### find substring templates: 非常重要, 把这一类题目的 general 解题方案抽取出来"
   ]
  },
  {
   "cell_type": "code",
   "execution_count": null,
   "metadata": {
    "collapsed": true
   },
   "outputs": [],
   "source": [
    "def findSubString (s):\n",
    "    \"\"\"\n",
    "    :type s: str\n",
    "    :rtype: str\n",
    "    \"\"\"\n",
    "\n",
    "    cnt = 0 # check whether the substring is valid\n",
    "    l = r = 0 # two pointers, one point to tail and one head\n",
    "    textLen the length of substring\n",
    "    \n",
    "    dic = {}\n",
    "    for :\n",
    "        # initialize the hash map here\n",
    "        \n",
    "    for r, x in enumerate (s):\n",
    "        if dic[x] ?: # 满足什么条件\n",
    "            # modify counter here\n",
    "            \n",
    "        while ?: # counter condition\n",
    "            # update d here if finding minimum\n",
    "            \n",
    "            if dic[s[l]] ?  # modify counter here\n",
    "            \n",
    "            # increase begin to make it invalid/valid again\n",
    "        \n",
    "        return some thing;"
   ]
  },
  {
   "cell_type": "markdown",
   "metadata": {},
   "source": [
    "### [159.hard-Longest Substring with At Most Two Distinct Characters](https://leetcode.com/problems/longest-substring-with-at-most-two-distinct-characters/description/)\n",
    "##### 题意  Given a string, find the length of the <span class=\"girk\">longest substring</span> T that contains <span class=\"girk\">at most 2 distinct characters</span>.\n",
    "* <span class=\"burk\">For example</span>, given s = “eceba”, T is \"ece\" which its length is 3.\n",
    "* 分析: \n",
    "    * T 中最多有2个不同的 characters, 感觉还是 two-point 的问题, r 每次都更新, 一旦不满足什么条件, 我们需要不断更新 l.\n",
    "\n",
    "##### "
   ]
  },
  {
   "cell_type": "code",
   "execution_count": null,
   "metadata": {
    "collapsed": true
   },
   "outputs": [],
   "source": [
    "class Solution(object):\n",
    "    def lengthOfLongestSubstringTwoDistinct(self, s):\n",
    "        \"\"\"\n",
    "        :type s: str\n",
    "        :rtype: int\n",
    "        \"\"\"\n",
    "        if not s: return 0\n",
    "        \n",
    "        j, cnt, max_dist = 0, 0, 2\n",
    "        rst, dic = 0, {}\n",
    "        for i, x in enumerate(s):\n",
    "            dic[x] = dic.get(x,0) + 1\n",
    "            if dic[x] == 1: cnt += 1\n",
    "                \n",
    "            while cnt > max_dist:\n",
    "                dic[s[j]] -= 1\n",
    "                if dic[s[j]] == 0: cnt -=1\n",
    "                j += 1\n",
    "            rst = max(rst, i-j+1) # ❤️ 区别在这里\n",
    "                    \n",
    "        return rst"
   ]
  },
  {
   "cell_type": "code",
   "execution_count": null,
   "metadata": {
    "collapsed": true
   },
   "outputs": [],
   "source": [
    "class Solution(object):\n",
    "    def lengthOfLongestSubstringTwoDistinct(self, s):\n",
    "        \"\"\"\n",
    "        :type s: str\n",
    "        :rtype: int\n",
    "        \"\"\"\n",
    "        if not s: return 0\n",
    "        \n",
    "        j, cnt = 0, 0\n",
    "        rst, dic = 0, {}\n",
    "        for i, x in enumerate(s):\n",
    "            dic[x] = dic.get(x,0) + 1\n",
    "            if dic[x] == 1: cnt += 1\n",
    "            \n",
    "            if cnt <= max_dist: rst = max(rst, i-j+1)\n",
    "                \n",
    "            while cnt > 2:\n",
    "                dic[s[j]] -= 1\n",
    "                if dic[s[j]] == 0: cnt -=1\n",
    "                j += 1\n",
    "                    \n",
    "        return rst"
   ]
  },
  {
   "cell_type": "markdown",
   "metadata": {},
   "source": [
    "### [438.easy-Find All Anagrams in a String](https://leetcode.com/problems/find-all-anagrams-in-a-string/description/)\n",
    "##### 题意: \n",
    "* 两个 string, 找到 string 1 中所有 substring 的 anagrams, output 这些位置.\n",
    "* 举例 Input: s: \"cbaebabacd\" p: \"abc\", Output: [0, 6]\n",
    "\n",
    "##### 分析: \n",
    "* 最朴素的想法 compare every substrings of string s with string p.\n",
    "* 两种思路:\n",
    "    * 利用 hash-table, runtime $O(nm)$, space complexity $O(m)$, where $n$ is the size of s, $m$ is the size of p. 竟然超过时间了.\n",
    "    * two point 法. runtime $O(n)$, space complexity $O(1)$, 因为字母是有限个, 点过 256 个.\n",
    "    \n",
    "##### 答案:\n",
    "* https://www.youtube.com/watch?v=lFG63nc9zrQ\n",
    "* https://leetcode.com/problems/find-all-anagrams-in-a-string/discuss/92007 顺便解决类似的 sliding window 的类似问题.\n",
    "* https://www.geeksforgeeks.org/anagram-substring-search-search-permutations/\n",
    "* 疑问: \n",
    "* 使用 char 比如'a' 如何 index list??"
   ]
  },
  {
   "cell_type": "code",
   "execution_count": null,
   "metadata": {
    "collapsed": true
   },
   "outputs": [],
   "source": [
    "\"\"\" \n",
    "Example 1: ---------------------------------------------------------\n",
    "Input: s: \"cbaebabacd\" p: \"abc\"\n",
    "Output: [0, 6]\n",
    "\n",
    "Explanation:\n",
    "The substring with start index = 0 is \"cba\", which is an anagram of \"abc\".\n",
    "The substring with start index = 6 is \"bac\", which is an anagram of \"abc\".\n",
    "\n",
    "Example 2: ---------------------------------------------------------\n",
    "Input: s: \"abab\" p: \"ab\"\n",
    "Output: [0, 1, 2]\n",
    "\n",
    "Explanation:\n",
    "The substring with start index = 0 is \"ab\", which is an anagram of \"ab\".\n",
    "The substring with start index = 1 is \"ba\", which is an anagram of \"ab\".\n",
    "The substring with start index = 2 is \"ab\", which is an anagram of \"ab\".\n",
    "\"\"\""
   ]
  },
  {
   "cell_type": "code",
   "execution_count": null,
   "metadata": {
    "collapsed": true
   },
   "outputs": [],
   "source": [
    "class Solution(object):\n",
    "    def findAnagrams(self, s, p):\n",
    "        \"\"\"\n",
    "        :type s: str\n",
    "        :type p: str\n",
    "        :rtype: List[int]\n",
    "        \"\"\"\n",
    "        # 1 edge condition\n",
    "        ns, np = len(s), len(p)\n",
    "        if ns == 0 or np == 0 or ns < np:\n",
    "            return []\n",
    "        \n",
    "        # 2 construct the template dicitonary\n",
    "        dic = {}\n",
    "        for x in p: \n",
    "            dic[x] = dic.get(x,0) + 1 \n",
    "         \n",
    "        # 3 do the compare\n",
    "        cnt, j = np, 0\n",
    "        rst = []\n",
    "        for i, x in enumerate(s):\n",
    "            if i-j+1 > np: # ❤️❤️ keep the sliding window size is exactly as the length of p\n",
    "                dic[s[j]] += 1\n",
    "                if dic[s[j]] > 0: cnt += 1\n",
    "                j += 1\n",
    "                    \n",
    "            dic[x] = dic.get(x,0) - 1\n",
    "            if dic[x] >= 0:\n",
    "                cnt -= 1\n",
    "            \n",
    "            if cnt == 0:\n",
    "                rst.append(j)\n",
    "        return rst     "
   ]
  },
  {
   "cell_type": "markdown",
   "metadata": {},
   "source": [
    "## [3/8: String - most frequencey]()"
   ]
  },
  {
   "cell_type": "markdown",
   "metadata": {},
   "source": [
    "### [13.easy-Roman to Integer](https://leetcode.com/problems/roman-to-integer/description/)\n",
    "##### 题意: Given a roman numeral, convert it to an integer. Input is guaranteed to be within the range from 1 to 3999.\n",
    "##### 分析\n",
    "##### 总结:  最重要的规律：左边的数字如果小于右边的数字 = 右 - 左"
   ]
  },
  {
   "cell_type": "code",
   "execution_count": null,
   "metadata": {
    "collapsed": true
   },
   "outputs": [],
   "source": [
    "# Time: O(n), Space: O(1)\n",
    "# ❤❤❤ 最重要的规律：左边的数字如果小于右边的数字 = 右 - 左\n",
    "class Solution(object):\n",
    "    def romanToInt(self, s):\n",
    "        \"\"\"\n",
    "        :type s: str\n",
    "        :rtype: int\n",
    "        \"\"\"\n",
    "        if not s: return 0\n",
    "        \n",
    "        # ❤ 表格不容易记住啊\n",
    "        dic = {\"M\":1000, \"D\":500, \"C\":100, \"L\":50, \"X\":10, \"V\":5, \"I\":1}\n",
    "        \n",
    "        rst = 0\n",
    "        for i in xrange(0, len(s)-1):\n",
    "            if dic[s[i]] < dic[s[i+1]]: # ❤❤ 是对应 integer 的对比，而不是字母的对比.\n",
    "                rst -= dic[s[i]]\n",
    "            else:\n",
    "                rst += dic[s[i]]\n",
    "                \n",
    "        return rst + dic[s[-1]] # ❤ 最后一位不要忘记."
   ]
  },
  {
   "cell_type": "markdown",
   "metadata": {},
   "source": [
    "## []()\n",
    "##### 题意\n",
    "##### 分析\n",
    "##### 总结"
   ]
  },
  {
   "cell_type": "markdown",
   "metadata": {},
   "source": [
    "## []()\n",
    "##### 题意\n",
    "##### 分析\n",
    "##### 总结"
   ]
  }
 ],
 "metadata": {
  "kernelspec": {
   "display_name": "Python 2",
   "language": "python",
   "name": "python2"
  },
  "language_info": {
   "codemirror_mode": {
    "name": "ipython",
    "version": 2
   },
   "file_extension": ".py",
   "mimetype": "text/x-python",
   "name": "python",
   "nbconvert_exporter": "python",
   "pygments_lexer": "ipython2",
   "version": "2.7.13"
  },
  "toc": {
   "nav_menu": {},
   "number_sections": true,
   "sideBar": false,
   "skip_h1_title": true,
   "toc_cell": true,
   "toc_position": {
    "height": "595px",
    "left": "1170px",
    "right": "1084.28px",
    "top": "67px",
    "width": "234px"
   },
   "toc_section_display": "block",
   "toc_window_display": true
  }
 },
 "nbformat": 4,
 "nbformat_minor": 2
}

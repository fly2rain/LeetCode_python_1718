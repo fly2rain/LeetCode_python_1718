{
 "cells": [
  {
   "cell_type": "markdown",
   "metadata": {
    "toc": true
   },
   "source": [
    "<h1>Table of Contents<span class=\"tocSkip\"></span></h1>\n",
    "<div class=\"toc\" style=\"margin-top: 1em;\"><ul class=\"toc-item\"><li><span><a href=\"#2/19\" data-toc-modified-id=\"2/19-1\"><span class=\"toc-item-num\">1&nbsp;&nbsp;</span><a href=\"\" target=\"_blank\">2/19</a></a></span><ul class=\"toc-item\"><li><span><a href=\"#20.easy-Valid-Parentheses\" data-toc-modified-id=\"20.easy-Valid-Parentheses-1.1\"><span class=\"toc-item-num\">1.1&nbsp;&nbsp;</span><a href=\"https://leetcode.com/problems/valid-parentheses/description/\" target=\"_blank\">20.easy-Valid Parentheses</a></a></span></li><li><span><a href=\"#22.med-Generate-Parentheses\" data-toc-modified-id=\"22.med-Generate-Parentheses-1.2\"><span class=\"toc-item-num\">1.2&nbsp;&nbsp;</span><a href=\"https://leetcode.com/problems/generate-parentheses/description/\" target=\"_blank\">22.med-Generate Parentheses</a></a></span></li></ul></li><li><span><a href=\"#Str:-anagram-同字母异序词\" data-toc-modified-id=\"Str:-anagram-同字母异序词-2\"><span class=\"toc-item-num\">2&nbsp;&nbsp;</span><a href=\"\" target=\"_blank\">Str: anagram 同字母异序词</a></a></span><ul class=\"toc-item\"><li><span><a href=\"#242.easy-Valid-Anagram\" data-toc-modified-id=\"242.easy-Valid-Anagram-2.1\"><span class=\"toc-item-num\">2.1&nbsp;&nbsp;</span><a href=\"\" target=\"_blank\">242.easy-Valid Anagram</a></a></span></li></ul></li><li><span><a href=\"#Five-Sliding-Window-Alg-to-solve-the-substring-search-problem\" data-toc-modified-id=\"Five-Sliding-Window-Alg-to-solve-the-substring-search-problem-3\"><span class=\"toc-item-num\">3&nbsp;&nbsp;</span>Five Sliding Window Alg to solve the substring search problem</a></span><ul class=\"toc-item\"><li><span><a href=\"#3.med-Longest-Substring-Without-Repeating-Characters\" data-toc-modified-id=\"3.med-Longest-Substring-Without-Repeating-Characters-3.1\"><span class=\"toc-item-num\">3.1&nbsp;&nbsp;</span><a href=\"https://leetcode.com/problems/longest-substring-without-repeating-characters/\" target=\"_blank\">3.med-Longest Substring Without Repeating Characters</a></a></span></li><li><span><a href=\"#❓30.hard-Substring-with-Concatenation-of-All-Words\" data-toc-modified-id=\"❓30.hard-Substring-with-Concatenation-of-All-Words-3.2\"><span class=\"toc-item-num\">3.2&nbsp;&nbsp;</span><a href=\"https://leetcode.com/problems/substring-with-concatenation-of-all-words/\" target=\"_blank\">❓30.hard-Substring with Concatenation of All Words</a></a></span></li><li><span><a href=\"#76.hard-Minimum-Window-Substring\" data-toc-modified-id=\"76.hard-Minimum-Window-Substring-3.3\"><span class=\"toc-item-num\">3.3&nbsp;&nbsp;</span><a href=\"https://leetcode.com/problems/minimum-window-substring/description/\" target=\"_blank\">76.hard-Minimum Window Substring</a></a></span></li><li><span><a href=\"#find-substring-templates:-非常重要,-把这一类题目的-general-解题方案抽取出来\" data-toc-modified-id=\"find-substring-templates:-非常重要,-把这一类题目的-general-解题方案抽取出来-3.4\"><span class=\"toc-item-num\">3.4&nbsp;&nbsp;</span>find substring templates: 非常重要, 把这一类题目的 general 解题方案抽取出来</a></span></li><li><span><a href=\"#159.hard-Longest-Substring-with-At-Most-Two-Distinct-Characters\" data-toc-modified-id=\"159.hard-Longest-Substring-with-At-Most-Two-Distinct-Characters-3.5\"><span class=\"toc-item-num\">3.5&nbsp;&nbsp;</span><a href=\"https://leetcode.com/problems/longest-substring-with-at-most-two-distinct-characters/description/\" target=\"_blank\">159.hard-Longest Substring with At Most Two Distinct Characters</a></a></span></li><li><span><a href=\"#438.easy-Find-All-Anagrams-in-a-String\" data-toc-modified-id=\"438.easy-Find-All-Anagrams-in-a-String-3.6\"><span class=\"toc-item-num\">3.6&nbsp;&nbsp;</span><a href=\"https://leetcode.com/problems/find-all-anagrams-in-a-string/description/\" target=\"_blank\">438.easy-Find All Anagrams in a String</a></a></span></li></ul></li><li><span><a href=\"#3/16:-Palindromic\" data-toc-modified-id=\"3/16:-Palindromic-4\"><span class=\"toc-item-num\">4&nbsp;&nbsp;</span><a href=\"\" target=\"_blank\">3/16: Palindromic</a></a></span><ul class=\"toc-item\"><li><span><a href=\"#5.med-Longest-Palindromic-Substring\" data-toc-modified-id=\"5.med-Longest-Palindromic-Substring-4.1\"><span class=\"toc-item-num\">4.1&nbsp;&nbsp;</span><a href=\"http://localhost:8888/notebooks/0_String_Palindromic.ipynb\" target=\"_blank\">5.med-Longest Palindromic Substring</a></a></span></li><li><span><a href=\"#DP:-longest-common-substrings-&amp;-subsequences\" data-toc-modified-id=\"DP:-longest-common-substrings-&amp;-subsequences-4.2\"><span class=\"toc-item-num\">4.2&nbsp;&nbsp;</span><a href=\"\" target=\"_blank\">DP: longest common substrings &amp; subsequences</a></a></span><ul class=\"toc-item\"><li><span><a href=\"#DP:-longest-common-substrings\" data-toc-modified-id=\"DP:-longest-common-substrings-4.2.1\"><span class=\"toc-item-num\">4.2.1&nbsp;&nbsp;</span><a href=\"\" target=\"_blank\">DP: longest common substrings</a></a></span></li><li><span><a href=\"#DP:-longest-common-subsequences\" data-toc-modified-id=\"DP:-longest-common-subsequences-4.2.2\"><span class=\"toc-item-num\">4.2.2&nbsp;&nbsp;</span><a href=\"\" target=\"_blank\">DP: longest common subsequences</a></a></span></li></ul></li><li><span><a href=\"#判断-string-是否是回文?\" data-toc-modified-id=\"判断-string-是否是回文?-4.3\"><span class=\"toc-item-num\">4.3&nbsp;&nbsp;</span>判断 string 是否是回文?</a></span></li><li><span><a href=\"#266.easy-Palindrome-Permutation\" data-toc-modified-id=\"266.easy-Palindrome-Permutation-4.4\"><span class=\"toc-item-num\">4.4&nbsp;&nbsp;</span><a href=\"https://leetcode.com/problems/palindrome-permutation/description/\" target=\"_blank\">266.easy-Palindrome Permutation</a></a></span></li><li><span><a href=\"#267.med-Palindrome-Permutation-II\" data-toc-modified-id=\"267.med-Palindrome-Permutation-II-4.5\"><span class=\"toc-item-num\">4.5&nbsp;&nbsp;</span><a href=\"https://leetcode.com/problems/palindrome-permutation-ii/description/\" target=\"_blank\">267.med-Palindrome Permutation II</a></a></span></li><li><span><a href=\"#409.easy-Longest-Palindrome\" data-toc-modified-id=\"409.easy-Longest-Palindrome-4.6\"><span class=\"toc-item-num\">4.6&nbsp;&nbsp;</span><a href=\"https://leetcode.com/problems/longest-palindrome/description/\" target=\"_blank\">409.easy-Longest Palindrome</a></a></span></li><li><span><a href=\"#❤️516.med-Longest-Palindromic-Subsequence\" data-toc-modified-id=\"❤️516.med-Longest-Palindromic-Subsequence-4.7\"><span class=\"toc-item-num\">4.7&nbsp;&nbsp;</span><a href=\"https://leetcode.com/problems/longest-palindromic-subsequence/description/\" target=\"_blank\">❤️516.med-Longest Palindromic Subsequence</a></a></span></li><li><span><a href=\"#❤️647.med-Palindromic-Substrings\" data-toc-modified-id=\"❤️647.med-Palindromic-Substrings-4.8\"><span class=\"toc-item-num\">4.8&nbsp;&nbsp;</span><a href=\"https://leetcode.com/problems/palindromic-substrings/description/\" target=\"_blank\">❤️647.med-Palindromic Substrings</a></a></span></li></ul></li><li><span><a href=\"#3/8:-String---most-frequencey\" data-toc-modified-id=\"3/8:-String---most-frequencey-5\"><span class=\"toc-item-num\">5&nbsp;&nbsp;</span><a href=\"\" target=\"_blank\">3/8: String - most frequencey</a></a></span><ul class=\"toc-item\"><li><span><a href=\"#6.med-ZigZag-Conversion\" data-toc-modified-id=\"6.med-ZigZag-Conversion-5.1\"><span class=\"toc-item-num\">5.1&nbsp;&nbsp;</span><a href=\"https://leetcode.com/problems/zigzag-conversion/description/\" target=\"_blank\">6.med-ZigZag Conversion</a></a></span></li><li><span><a href=\"#13.easy-Roman-to-Integer\" data-toc-modified-id=\"13.easy-Roman-to-Integer-5.2\"><span class=\"toc-item-num\">5.2&nbsp;&nbsp;</span><a href=\"https://leetcode.com/problems/roman-to-integer/description/\" target=\"_blank\">13.easy-Roman to Integer</a></a></span></li><li><span><a href=\"#14.easy-Longest-Common-Prefix\" data-toc-modified-id=\"14.easy-Longest-Common-Prefix-5.3\"><span class=\"toc-item-num\">5.3&nbsp;&nbsp;</span><a href=\"https://leetcode.com/problems/longest-common-prefix/description/\" target=\"_blank\">14.easy-Longest Common Prefix</a></a></span></li><li><span><a href=\"#38.easy-Count-and-Say\" data-toc-modified-id=\"38.easy-Count-and-Say-5.4\"><span class=\"toc-item-num\">5.4&nbsp;&nbsp;</span><a href=\"https://leetcode.com/problems/count-and-say/description/\" target=\"_blank\">38.easy-Count and Say</a></a></span></li><li><span><a href=\"#17.med-Letter-Combinations-of-a-Phone-Number\" data-toc-modified-id=\"17.med-Letter-Combinations-of-a-Phone-Number-5.5\"><span class=\"toc-item-num\">5.5&nbsp;&nbsp;</span><a href=\"https://leetcode.com/problems/letter-combinations-of-a-phone-number/description/\" target=\"_blank\">17.med-Letter Combinations of a Phone Number</a></a></span></li><li><span><a href=\"#151.med-Reverse-Words-in-a-String\" data-toc-modified-id=\"151.med-Reverse-Words-in-a-String-5.6\"><span class=\"toc-item-num\">5.6&nbsp;&nbsp;</span><a href=\"https://leetcode.com/problems/reverse-words-in-a-string/description/\" target=\"_blank\">151.med-Reverse Words in a String</a></a></span></li><li><span><a href=\"#186.med-Reverse-Words-in-a-String-II\" data-toc-modified-id=\"186.med-Reverse-Words-in-a-String-II-5.7\"><span class=\"toc-item-num\">5.7&nbsp;&nbsp;</span><a href=\"https://leetcode.com/problems/reverse-words-in-a-string-ii/description/\" target=\"_blank\">186.med-Reverse Words in a String II</a></a></span></li><li><span><a href=\"#❤️10.hard-Regular-Expression-Matching\" data-toc-modified-id=\"❤️10.hard-Regular-Expression-Matching-5.8\"><span class=\"toc-item-num\">5.8&nbsp;&nbsp;</span><a href=\"https://leetcode.com/problems/regular-expression-matching/description/\" target=\"_blank\">❤️10.hard-Regular Expression Matching</a></a></span></li><li><span><a href=\"#67.easy-Add-Binary\" data-toc-modified-id=\"67.easy-Add-Binary-5.9\"><span class=\"toc-item-num\">5.9&nbsp;&nbsp;</span><a href=\"https://leetcode.com/problems/add-binary/description/\" target=\"_blank\">67.easy-Add Binary</a></a></span></li><li><span><a href=\"#❓146.hard-LRU-Cache\" data-toc-modified-id=\"❓146.hard-LRU-Cache-5.10\"><span class=\"toc-item-num\">5.10&nbsp;&nbsp;</span><a href=\"https://leetcode.com/problems/lru-cache/description/\" target=\"_blank\">❓146.hard-LRU Cache</a></a></span></li><li><span><a href=\"#402.med-Remove-K-Digits\" data-toc-modified-id=\"402.med-Remove-K-Digits-5.11\"><span class=\"toc-item-num\">5.11&nbsp;&nbsp;</span><a href=\"https://leetcode.com/problems/remove-k-digits/description/\" target=\"_blank\">402.med-Remove K Digits</a></a></span></li><li><span><a href=\"#771.easy-Jewels-and-Stones\" data-toc-modified-id=\"771.easy-Jewels-and-Stones-5.12\"><span class=\"toc-item-num\">5.12&nbsp;&nbsp;</span><a href=\"https://leetcode.com/problems/jewels-and-stones/description/\" target=\"_blank\">771.easy-Jewels and Stones</a></a></span></li></ul></li><li><span><a href=\"#4/6:-String---top-frequency\" data-toc-modified-id=\"4/6:-String---top-frequency-6\"><span class=\"toc-item-num\">6&nbsp;&nbsp;</span><a href=\"\" target=\"_blank\">4/6: String - top frequency</a></a></span><ul class=\"toc-item\"><li><span><a href=\"#❤️49.med-Group-Anagrams\" data-toc-modified-id=\"❤️49.med-Group-Anagrams-6.1\"><span class=\"toc-item-num\">6.1&nbsp;&nbsp;</span><a href=\"https://leetcode.com/problems/group-anagrams/description/\" target=\"_blank\">❤️49.med-Group Anagrams</a></a></span></li><li><span><a href=\"#657.easy-Judge-Route-Circle\" data-toc-modified-id=\"657.easy-Judge-Route-Circle-6.2\"><span class=\"toc-item-num\">6.2&nbsp;&nbsp;</span><a href=\"https://leetcode.com/problems/judge-route-circle/description\" target=\"_blank\">657.easy-Judge Route Circle</a></a></span></li><li><span><a href=\"#28.easy-Implement-strStr()\" data-toc-modified-id=\"28.easy-Implement-strStr()-6.3\"><span class=\"toc-item-num\">6.3&nbsp;&nbsp;</span><a href=\"https://leetcode.com/problems/implement-strstr/description/\" target=\"_blank\">28.easy-Implement strStr()</a></a></span></li><li><span><a href=\"#459.easy-Repeated-Substring-Pattern\" data-toc-modified-id=\"459.easy-Repeated-Substring-Pattern-6.4\"><span class=\"toc-item-num\">6.4&nbsp;&nbsp;</span><a href=\"https://leetcode.com/problems/repeated-substring-pattern/description/\" target=\"_blank\">459.easy-Repeated Substring Pattern</a></a></span></li><li><span><a href=\"#686.easy-Repeated-String-Match\" data-toc-modified-id=\"686.easy-Repeated-String-Match-6.5\"><span class=\"toc-item-num\">6.5&nbsp;&nbsp;</span><a href=\"https://leetcode.com/problems/repeated-string-match/description/\" target=\"_blank\">686.easy-Repeated String Match</a></a></span></li><li><span><a href=\"#72.hard-Edit-Distance\" data-toc-modified-id=\"72.hard-Edit-Distance-6.6\"><span class=\"toc-item-num\">6.6&nbsp;&nbsp;</span><a href=\"https://leetcode.com/problems/edit-distance/description/\" target=\"_blank\">72.hard-Edit Distance</a></a></span></li><li><span><a href=\"#344.easy-Reverse-String\" data-toc-modified-id=\"344.easy-Reverse-String-6.7\"><span class=\"toc-item-num\">6.7&nbsp;&nbsp;</span><a href=\"https://leetcode.com/problems/reverse-string/description/\" target=\"_blank\">344.easy-Reverse String</a></a></span></li><li><span><a href=\"#557.easy-Reverse-Words-in-a-String-III\" data-toc-modified-id=\"557.easy-Reverse-Words-in-a-String-III-6.8\"><span class=\"toc-item-num\">6.8&nbsp;&nbsp;</span><a href=\"https://leetcode.com/problems/reverse-words-in-a-string-iii/description/\" target=\"_blank\">557.easy-Reverse Words in a String III</a></a></span></li><li><span><a href=\"#387.easy-First-Unique-Character-in-a-String\" data-toc-modified-id=\"387.easy-First-Unique-Character-in-a-String-6.9\"><span class=\"toc-item-num\">6.9&nbsp;&nbsp;</span><a href=\"https://leetcode.com/problems/first-unique-character-in-a-string/description/\" target=\"_blank\">387.easy-First Unique Character in a String</a></a></span></li><li><span><a href=\"#43.med-Multiply-Strings\" data-toc-modified-id=\"43.med-Multiply-Strings-6.10\"><span class=\"toc-item-num\">6.10&nbsp;&nbsp;</span><a href=\"https://leetcode.com/problems/multiply-strings/description/\" target=\"_blank\">43.med-Multiply Strings</a></a></span></li></ul></li></ul></div>"
   ]
  },
  {
   "cell_type": "markdown",
   "metadata": {},
   "source": [
    "# Divide and Conquer\n",
    "* 题型: [Top 100 Liked Questions + String](https://leetcode.com/problemset/algorithms/?topicSlugs=string&listId=79h8rn6)\n",
    "* 题型: [String](https://leetcode.com/problemset/algorithms/?topicSlugs=string)"
   ]
  },
  {
   "cell_type": "markdown",
   "metadata": {},
   "source": [
    "## [2/19]()"
   ]
  },
  {
   "cell_type": "markdown",
   "metadata": {},
   "source": [
    "### [20.easy-Valid Parentheses](https://leetcode.com/problems/valid-parentheses/description/)\n",
    "##### 题意: Given a string containing just the characters '(', ')', '{', '}', '[' and ']', determine if the input string is valid.\n",
    "\n",
    "##### 总结: 利用 stack"
   ]
  },
  {
   "cell_type": "code",
   "execution_count": null,
   "metadata": {
    "collapsed": true
   },
   "outputs": [],
   "source": [
    "class Solution(object):\n",
    "    def isValid(self, s):\n",
    "        \"\"\"\n",
    "        :type s: str\n",
    "        :rtype: bool\n",
    "        \"\"\"  \n",
    "        stack = []\n",
    "        for x in s:\n",
    "            if x == \"(\":\n",
    "                stack.append(\")\")\n",
    "            elif x == \"[\":\n",
    "                stack.append(\"]\")\n",
    "            elif x == \"{\":\n",
    "                stack.append(\"}\")\n",
    "            else:\n",
    "                if not stack or stack.pop() != x:\n",
    "                    return False\n",
    "        return (not stack)"
   ]
  },
  {
   "cell_type": "code",
   "execution_count": null,
   "metadata": {
    "collapsed": true
   },
   "outputs": [],
   "source": [
    "class Solution(object):\n",
    "    def isValid(self, s):\n",
    "        \"\"\"\n",
    "        :type s: str\n",
    "        :rtype: bool\n",
    "        \"\"\"\n",
    "        dic = {\"(\":\")\", \"[\":\"]\", \"{\":\"}\"}\n",
    "        stack = []\n",
    "        for x in s:\n",
    "            if x in dic:\n",
    "                stack.append(dic[x])\n",
    "            elif not stack or stack.pop() != x:\n",
    "                return False\n",
    "        return (not stack)"
   ]
  },
  {
   "cell_type": "markdown",
   "metadata": {},
   "source": [
    "### [22.med-Generate Parentheses](https://leetcode.com/problems/generate-parentheses/description/)\n",
    "##### 题意: Given $n$ pairs of parentheses, write a function to generate all combinations of well-formed parentheses.\n",
    "##### 分析\n",
    "##### 总结"
   ]
  },
  {
   "cell_type": "code",
   "execution_count": null,
   "metadata": {
    "collapsed": true
   },
   "outputs": [],
   "source": [
    "class Solution(object):\n",
    "    def generateParenthesis(self, n):\n",
    "        \"\"\"\n",
    "        :type n: int\n",
    "        :rtype: List[str]\n",
    "        \"\"\"\n",
    "        if n < 1: return []\n",
    "        \n",
    "        rst = []\n",
    "        self.helper(rst, \"\", n, 0, 0)\n",
    "        return rst\n",
    "        \n",
    "    def helper(self, rst, cur, n, left, right):\n",
    "        if right == n: # ❤️❤️ string 是 immutable 的, 因此不传递的时候是直接 copy 的,\n",
    "            rst.append(cur) # 而 list 是 mutable 的, 传参的时候, 类似引用传参.\n",
    "        \n",
    "        if left < n:\n",
    "            self.helper(rst, cur + \"(\", n, left+1, right)\n",
    "        \n",
    "        if right < left:\n",
    "            self.helper(rst, cur + \")\", n, left, right+1)"
   ]
  },
  {
   "cell_type": "markdown",
   "metadata": {},
   "source": [
    "## [Str: anagram 同字母异序词]()"
   ]
  },
  {
   "cell_type": "markdown",
   "metadata": {},
   "source": [
    "### [242.easy-Valid Anagram]()\n",
    "##### 题意: 相同字母异序词 https://leetcode.com/problems/valid-anagram/description/\n",
    "##### 分析: 有相同数量的字母, 有相同的字母, 只是顺序不一样而已.\n",
    "##### 两种思路:\n",
    "* sorted 之后, 再逐个查看. runtime $O(n\\log n)$, space complexity $O(1)$\n",
    "* 利用 hash-table. runtime $O(n)$, space complexity $O(n)$, 可认为字母种类有限不多."
   ]
  },
  {
   "cell_type": "code",
   "execution_count": null,
   "metadata": {
    "collapsed": true
   },
   "outputs": [],
   "source": [
    "# 基于 dcitionary 的\n",
    "class Solution(object):\n",
    "    ## Th best algorithm, clean, short and compact. \n",
    "    ## Alg#2 use hash-table ##########\n",
    "    def isAnagram_1 (self, s, t):\n",
    "        \"\"\"\n",
    "        :type s: str\n",
    "        :type t: str\n",
    "        :rtype: bool\n",
    "        \"\"\"\n",
    "        if not len(s) == len(t):\n",
    "            return False\n",
    "        \n",
    "        dic = {}\n",
    "        for x in s:\n",
    "            dic[x] = dic.get (x, 0) + 1\n",
    "            \n",
    "        for x in t:\n",
    "            dic[x] = dic.get(x, 0) - 1\n",
    "            if dic[x] < 0:\n",
    "                return False   \n",
    "        return True"
   ]
  },
  {
   "cell_type": "code",
   "execution_count": null,
   "metadata": {
    "collapsed": true
   },
   "outputs": [],
   "source": [
    "# 方法2: 基于 dictionary 的\n",
    "class Solution(object):\n",
    "    def isAnagram1(self, s, t):\n",
    "        dic1, dic2 = {}, {}\n",
    "        for item in s:\n",
    "            dic1[item] = dic1.get(item, 0) + 1\n",
    "        for item in t:\n",
    "            dic2[item] = dic2.get(item, 0) + 1\n",
    "        return dic1 == dic2"
   ]
  },
  {
   "cell_type": "code",
   "execution_count": null,
   "metadata": {
    "collapsed": true
   },
   "outputs": [],
   "source": [
    "class Solution(object):\n",
    "    def isAnagram3(self, s, t):\n",
    "        return sorted(s) == sorted(t)"
   ]
  },
  {
   "cell_type": "markdown",
   "metadata": {},
   "source": [
    "## Five Sliding Window Alg to solve the substring search problem\n",
    "Substring sliding window 问题总结在如下网页中 https://leetcode.com/problems/find-all-anagrams-in-a-string/discuss/92007, 总共包含5题下:\n",
    "* [3. Longest Substring Without Repeating Characters](https://leetcode.com/problems/longest-substring-without-repeating-characters/)\n",
    "* [30. Substring with Concatenation of All Words](https://leetcode.com/problems/substring-with-concatenation-of-all-words/)\n",
    "* [76. Minimum Window Substring](https://leetcode.com/problems/minimum-window-substring/)\n",
    "* [159. Longest Substring with At Most Two Distinct Characters]( https://leetcode.com/problems/longest-substring-with-at-most-two-distinct-characters/)\n",
    "* [438. Find All Anagrams in a String](https://leetcode.com/problems/find-all-anagrams-in-a-string/)"
   ]
  },
  {
   "cell_type": "markdown",
   "metadata": {},
   "source": [
    "### [3.med-Longest Substring Without Repeating Characters](https://leetcode.com/problems/longest-substring-without-repeating-characters/)\n",
    "##### 题意 Given a string, find the length of the longest substring without repeating characters.\n",
    "* Exp: Given \"abcabcbb\", the answer is \"abc\", which the length is 3.\n",
    "\n",
    "##### 解题思路:\n",
    "* Two points: \n",
    "    * 总是有一个 index 标记当前位置,\n",
    "    * 另一个 index 表示 forget 的位置,\n",
    "    * 两个 index 之间是目标区域     \n",
    "* 标准答案来自于网页: https://leetcode.com/problems/longest-substring-without-repeating-characters/solution/"
   ]
  },
  {
   "cell_type": "code",
   "execution_count": null,
   "metadata": {
    "collapsed": true
   },
   "outputs": [],
   "source": [
    "# 标准答案来自于网页, 网页中是 java code.\n",
    "# https://leetcode.com/problems/longest-substring-without-repeating-characters/solution/\n",
    "# 107 ms\n",
    "class Solution(object):\n",
    "    def lengthOfLongestSubstring(self, s):\n",
    "        \"\"\"\n",
    "        :type s: str\n",
    "        :rtype: int\n",
    "        \"\"\"\n",
    "        if not s: return 0\n",
    "        \n",
    "        dic = {}\n",
    "        l = maxCnt = 0\n",
    "        # Two points: left point & right point ----------------\n",
    "        for r, x in enumerate (s):\n",
    "            if x in dic: # 如果已经出现过, 更新 left index\n",
    "                l = max(1+dic[x], l)\n",
    "            # 如果没有出现过, 更新 maxCnt 和 dictionary\n",
    "            maxCnt = max(maxCnt, r - l + 1) # 更新的是数字, 而非 index\n",
    "            dic[x] = r # 更新的是计数而非index, 输出是计数, 一定要统一.\n",
    "\n",
    "        return maxCnt "
   ]
  },
  {
   "cell_type": "code",
   "execution_count": null,
   "metadata": {
    "collapsed": true
   },
   "outputs": [],
   "source": [
    "class Solution(object):\n",
    "    def lengthOfLongestSubstring(self, s):\n",
    "        \"\"\"\n",
    "        :type s: str\n",
    "        :rtype: int\n",
    "        \"\"\"\n",
    "        if not s: return 0\n",
    "        \n",
    "        dic = {}\n",
    "        l = rst = cnt = 0\n",
    "        for r, x in enumerate(s):\n",
    "            dic[x] = dic.get(x,0) + 1\n",
    "            if dic[x] > 1: cnt += 1\n",
    "                \n",
    "            while cnt > 0:\n",
    "                dic[s[l]] -= 1\n",
    "                if dic[s[l]] > 0: cnt -= 1\n",
    "                l += 1\n",
    "            \n",
    "            rst = max(rst, r-l+1)\n",
    "        return rst"
   ]
  },
  {
   "cell_type": "markdown",
   "metadata": {},
   "source": [
    "### [❓30.hard-Substring with Concatenation of All Words](https://leetcode.com/problems/substring-with-concatenation-of-all-words/)\n",
    "##### 题意: 给定字符串和 a list of words, 找到 word 在 string s 中的位置.\n",
    "* You are given a string, s, and a list of words, words, that are all of the same length. Find all starting indices of substring(s) in s that is a concatenation of each word in words exactly once and without any intervening characters.\n",
    "* 注意事项: <span class=\"girk\">(1)</span> words 顺序不重要, <span class=\"girk\">(2)</span> 每个 word 只能出现一回, <span class=\"girk\">(3)</span> 每个 word 具有相同的长度.\n",
    "\n",
    "##### 标准答案 (答案太难, 回头再看)\n",
    "* python 答案: https://leetcode.com/problems/substring-with-concatenation-of-all-words/discuss/13667\n",
    "* c++ 答案: https://leetcode.com/problems/substring-with-concatenation-of-all-words/discuss/13656"
   ]
  },
  {
   "cell_type": "code",
   "execution_count": null,
   "metadata": {
    "collapsed": true
   },
   "outputs": [],
   "source": [
    "\"\"\"For example, given:\n",
    "s: \"barfoothefoobarman\"\n",
    "words: [\"foo\", \"bar\"]\n",
    "\n",
    "You should return the indices: [0,9].\n",
    "(order does not matter).\n",
    "\"\"\""
   ]
  },
  {
   "cell_type": "markdown",
   "metadata": {},
   "source": [
    "### [76.hard-Minimum Window Substring](https://leetcode.com/problems/minimum-window-substring/description/)\n",
    "##### 题意: \n",
    "* Given a string S and a string T, find the minimum window in S which will contain all the characters in T in complexity $O(n)$.\n",
    "* <span class=\"burk\">Exp</span>: S = \"ADOBECODEBANC\", T = \"ABC\", Minimum window is \"BANC\".\n",
    "* Note that: (1) 如果 S 不包含 T, 输出空 string \"\".  (2) 如果存在,保证唯一存在性. \n",
    "\n",
    "##### 解题答案 https://leetcode.com/problems/minimum-window-substring/discuss/26808\n",
    "* 提供了清晰的解题答案 以及 解决这类问题的模板.\n",
    "* 首先看针对这题的答案, 然后查看解决这类问题的模板.\n",
    "    * Use <span class=\"girk\">two pointers</span>: start and end to represent a window.\n",
    "    * Move end to <span class=\"girk\">find a valid window</span>.\n",
    "    * When a <span class=\"girk\">valid window</span> is found, move start to find a smaller window."
   ]
  },
  {
   "cell_type": "code",
   "execution_count": null,
   "metadata": {
    "collapsed": true
   },
   "outputs": [],
   "source": [
    "class Solution(object):\n",
    "    def minWindow(self, s, t):\n",
    "        \"\"\"\n",
    "        :type s: str\n",
    "        :type t: str\n",
    "        :rtype: str\n",
    "        \"\"\"\n",
    "        # 1 edge condition\n",
    "        ns, nt = len(s), len(t)\n",
    "        if ns == 0 or nt == 0 or nt > ns: return \"\"\n",
    "        \n",
    "        # 2 construct the dicitonary for t\n",
    "        dic = {}\n",
    "        for x in t:\n",
    "            dic[x] = dic.get(x,0) + 1\n",
    "            \n",
    "        # 3 do the sliding window search.\n",
    "        cnt, j, rst = nt, 0, \"\"\n",
    "        for i, x in enumerate(s):\n",
    "            dic[x] = dic.get(x,0) - 1\n",
    "            if dic[x] >= 0: cnt -= 1 # >= 0 表明已经出现过\n",
    "            \n",
    "            while cnt == 0:\n",
    "                if i-j+1 < len(rst) or not rst: # ❤️❎❤️ 这个条件要注意.\n",
    "                    rst = s[j:i+1] # ❎ 注意 i 和 j 都是 index, 所以右边 i + 1\n",
    "                    \n",
    "                dic[s[j]] += 1\n",
    "                if dic[s[j]] > 0: cnt += 1\n",
    "                j += 1\n",
    "        return rst"
   ]
  },
  {
   "cell_type": "markdown",
   "metadata": {},
   "source": [
    "### find substring templates: 非常重要, 把这一类题目的 general 解题方案抽取出来"
   ]
  },
  {
   "cell_type": "code",
   "execution_count": null,
   "metadata": {
    "collapsed": true
   },
   "outputs": [],
   "source": [
    "def findSubString (s):\n",
    "    \"\"\"\n",
    "    :type s: str\n",
    "    :rtype: str\n",
    "    \"\"\"\n",
    "\n",
    "    cnt = 0 # check whether the substring is valid\n",
    "    l = r = 0 # two pointers, one point to tail and one head\n",
    "    textLen the length of substring\n",
    "    \n",
    "    dic = {}\n",
    "    for :\n",
    "        # initialize the hash map here\n",
    "        \n",
    "    for r, x in enumerate (s):\n",
    "        if dic[x] ?: # 满足什么条件\n",
    "            # modify counter here\n",
    "            \n",
    "        while ?: # counter condition\n",
    "            # update d here if finding minimum\n",
    "            \n",
    "            if dic[s[l]] ?  # modify counter here\n",
    "            \n",
    "            # increase begin to make it invalid/valid again\n",
    "        \n",
    "        return some thing;"
   ]
  },
  {
   "cell_type": "markdown",
   "metadata": {},
   "source": [
    "### [159.hard-Longest Substring with At Most Two Distinct Characters](https://leetcode.com/problems/longest-substring-with-at-most-two-distinct-characters/description/)\n",
    "##### 题意  Given a string, find the length of the <span class=\"girk\">longest substring</span> T that contains <span class=\"girk\">at most 2 distinct characters</span>.\n",
    "* <span class=\"burk\">For example</span>, given s = “eceba”, T is \"ece\" which its length is 3.\n",
    "* 分析: \n",
    "    * T 中最多有2个不同的 characters, 感觉还是 two-point 的问题, r 每次都更新, 一旦不满足什么条件, 我们需要不断更新 l.\n",
    "\n",
    "##### "
   ]
  },
  {
   "cell_type": "code",
   "execution_count": null,
   "metadata": {
    "collapsed": true
   },
   "outputs": [],
   "source": [
    "class Solution(object):\n",
    "    def lengthOfLongestSubstringTwoDistinct(self, s):\n",
    "        \"\"\"\n",
    "        :type s: str\n",
    "        :rtype: int\n",
    "        \"\"\"\n",
    "        if not s: return 0\n",
    "        \n",
    "        j, cnt, max_dist = 0, 0, 2\n",
    "        rst, dic = 0, {}\n",
    "        for i, x in enumerate(s):\n",
    "            dic[x] = dic.get(x,0) + 1\n",
    "            if dic[x] == 1: cnt += 1 # ❤️❤️❤️ \n",
    "                \n",
    "            while cnt > max_dist:\n",
    "                dic[s[j]] -= 1\n",
    "                if dic[s[j]] == 0: cnt -=1\n",
    "                j += 1\n",
    "            rst = max(rst, i-j+1) # ❤️❤️❤️ 区别在这里\n",
    "                    \n",
    "        return rst"
   ]
  },
  {
   "cell_type": "markdown",
   "metadata": {},
   "source": [
    "### [438.easy-Find All Anagrams in a String](https://leetcode.com/problems/find-all-anagrams-in-a-string/description/)\n",
    "##### 题意: \n",
    "* 两个 string, 找到 string 1 中所有 substring 的 anagrams, output 这些位置.\n",
    "* 举例 Input: s: \"cbaebabacd\" p: \"abc\", Output: [0, 6]\n",
    "\n",
    "##### 分析: \n",
    "* 最朴素的想法 compare every substrings of string s with string p.\n",
    "* 两种思路:\n",
    "    * 利用 hash-table, runtime $O(nm)$, space complexity $O(m)$, where $n$ is the size of s, $m$ is the size of p. 竟然超过时间了.\n",
    "    * two point 法. runtime $O(n)$, space complexity $O(1)$, 因为字母是有限个, 点过 256 个.\n",
    "    \n",
    "##### 答案:\n",
    "* https://www.youtube.com/watch?v=lFG63nc9zrQ\n",
    "* https://leetcode.com/problems/find-all-anagrams-in-a-string/discuss/92007 顺便解决类似的 sliding window 的类似问题.\n",
    "* https://www.geeksforgeeks.org/anagram-substring-search-search-permutations/\n",
    "* 疑问: \n",
    "* 使用 char 比如'a' 如何 index list??"
   ]
  },
  {
   "cell_type": "code",
   "execution_count": null,
   "metadata": {
    "collapsed": true
   },
   "outputs": [],
   "source": [
    "\"\"\" \n",
    "Example 1: ---------------------------------------------------------\n",
    "Input: s: \"cbaebabacd\" p: \"abc\"\n",
    "Output: [0, 6]\n",
    "\n",
    "Explanation:\n",
    "The substring with start index = 0 is \"cba\", which is an anagram of \"abc\".\n",
    "The substring with start index = 6 is \"bac\", which is an anagram of \"abc\".\n",
    "\n",
    "Example 2: ---------------------------------------------------------\n",
    "Input: s: \"abab\" p: \"ab\"\n",
    "Output: [0, 1, 2]\n",
    "\n",
    "Explanation:\n",
    "The substring with start index = 0 is \"ab\", which is an anagram of \"ab\".\n",
    "The substring with start index = 1 is \"ba\", which is an anagram of \"ab\".\n",
    "The substring with start index = 2 is \"ab\", which is an anagram of \"ab\".\n",
    "\"\"\""
   ]
  },
  {
   "cell_type": "code",
   "execution_count": null,
   "metadata": {
    "collapsed": true
   },
   "outputs": [],
   "source": [
    "class Solution(object):\n",
    "    def findAnagrams(self, s, p):\n",
    "        \"\"\"\n",
    "        :type s: str\n",
    "        :type p: str\n",
    "        :rtype: List[int]\n",
    "        \"\"\"\n",
    "        # 1 edge condition\n",
    "        ns, np = len(s), len(p)\n",
    "        if ns == 0 or np == 0 or ns < np:\n",
    "            return []\n",
    "        \n",
    "        # 2 construct the template dicitonary\n",
    "        dic = {}\n",
    "        for x in p: \n",
    "            dic[x] = dic.get(x,0) + 1 \n",
    "         \n",
    "        # 3 do the compare\n",
    "        cnt, j = np, 0\n",
    "        rst = []\n",
    "        for i, x in enumerate(s):\n",
    "            if i-j+1 > np: # ❤️❤️ keep the sliding window size is exactly as the length of p\n",
    "                dic[s[j]] = y = dic[s[j]] + 1\n",
    "                if y > 0: cnt += 1\n",
    "                j += 1\n",
    "                    \n",
    "            dic[x] = dic.get(x,0) - 1\n",
    "            if dic[x] >= 0:\n",
    "                cnt -= 1\n",
    "            \n",
    "            if cnt == 0:\n",
    "                rst.append(j)\n",
    "        return rst     "
   ]
  },
  {
   "cell_type": "markdown",
   "metadata": {},
   "source": [
    "## [3/16: Palindromic]()"
   ]
  },
  {
   "cell_type": "markdown",
   "metadata": {},
   "source": [
    "### [5.med-Longest Palindromic Substring](http://localhost:8888/notebooks/0_String_Palindromic.ipynb)\n",
    "##### 题意: 确定最长回文 substring.\n",
    "\n",
    "##### 思路: 中间往两边扩展, 利用了回文中间对称的性质.\n",
    "* solve it in **$O(n^2)$ time** and using only <span class=\"girk\">constant space</span>.\n",
    "* observe that a palindrome <span class=\"girk\">mirrors around its center</span>. Therefore, a palindrome can be <span class=\"girk\">expanded from its center</span>, and there are only $2n - 1$ such centers. Why not not $n$ centers? Because we have even  (such as \"abba\") and odd (such as ”aba”) cases.\n",
    "\n",
    "##### 适用范围\n",
    "* 只适合单个 string 求最长回文的问题, 对两个 string 可以吗?\n",
    "\n",
    "##### 扩展: 题意比较明确, 可能的扩展是对 $K (K\\geq 2)$ strings 求最长回文.\n",
    "\n",
    "##### 关于 Palindromic 回文问题的资源:\n",
    "* 标准答案: https://leetcode.com/problems/longest-palindromic-substring/solution/\n",
    "* **Longest common substring problem**: https://en.wikipedia.org/wiki/Longest_common_substring_problem. \n",
    "    * 可以用 DP 求解, 上述链接给了一个很好的例子. "
   ]
  },
  {
   "cell_type": "code",
   "execution_count": 15,
   "metadata": {},
   "outputs": [
    {
     "name": "stdout",
     "output_type": "stream",
     "text": [
      "aba\n"
     ]
    }
   ],
   "source": [
    "class Solution(object):\n",
    "    def longestPalindrome(self, s):\n",
    "        \"\"\"\n",
    "        :type s: str\n",
    "        :rtype: str\n",
    "        \"\"\"\n",
    "        if len(s) < 2: return s # ❤️❤️ \n",
    "        \n",
    "        rst = \"\"\n",
    "        for i in xrange (len(s) - 1): ### 到 n 或 nn - 1 都可以的\n",
    "            # odd case, like \"aba\"\n",
    "            tmp = self.expand2sides (s, i, i)\n",
    "            if len(rst) < len (tmp):\n",
    "                rst = tmp\n",
    "                \n",
    "            # even case, like \"abba\"\n",
    "            tmp = self.expand2sides (s, i, i + 1)\n",
    "            if len (rst) < len(tmp):\n",
    "                rst = tmp\n",
    "        return rst      \n",
    "    \n",
    "    def expand2sides (self, s, l, r):\n",
    "        while l >= 0 and r < len(s) and s[l] == s[r]:\n",
    "            l -= 1\n",
    "            r += 1\n",
    "        return s[l+1:r] ### 这个边界需要注意\n",
    "        \n",
    "### testing ####################\n",
    "print Solution().longestPalindrome ('ababc')"
   ]
  },
  {
   "cell_type": "markdown",
   "metadata": {},
   "source": [
    "### [DP: longest common substrings & subsequences]()\n",
    "* The difference between <span class=\"girk\">longest common substrings</span> & <span class=\"girk\">longest common subsequences</span>. \n",
    "    * longest common substrings 两个条件: common + continues\n",
    "    * longest common subsequences 一个条件: common + in the <span class=\"girk\">same relative order</span> + <span class=\"girk\">not necessarily contiguous</span>. https://www.geeksforgeeks.org/longest-common-subsequence/\n",
    "    \n",
    "  \n",
    "* Example of two strings A = 'abcdaf', B = 'zbcdf'\n",
    "    * longest common substrings: 'bcd'\n",
    "    * longest common subsequences: 'bcdf'"
   ]
  },
  {
   "cell_type": "markdown",
   "metadata": {},
   "source": [
    "#### [DP: longest common substrings]()\n",
    "* Ref the figure and the algorithm in the DP part in the page https://en.wikipedia.org/wiki/Longest_common_substring_problem\n",
    "* Youtube tutorial (重要): https://www.youtube.com/watch?v=BysNXJHzCEs"
   ]
  },
  {
   "cell_type": "code",
   "execution_count": 4,
   "metadata": {},
   "outputs": [
    {
     "name": "stdout",
     "output_type": "stream",
     "text": [
      "bcd\n"
     ]
    }
   ],
   "source": [
    "def longestCommonSubstring (S, T):\n",
    "    \"\"\"\n",
    "    : type S: str\n",
    "    : type T: str\n",
    "    : rtype: str\n",
    "    \"\"\"\n",
    "    ns, nt = len(S) + 1, len(T) + 1\n",
    "    DP = [ [0] * (nt) for i in xrange (ns) ]\n",
    "\n",
    "    rst = ''\n",
    "    for i in xrange (1, ns):\n",
    "        for j in xrange (1, nt): # ❤️ 从 1 到 nt.\n",
    "            if S[i-1] == T[j-1]:\n",
    "                DP[i][j] = DP[i-1][j-1] + 1\n",
    "\n",
    "                # check whether DP[i][j] is the longest sub string\n",
    "                if DP[i][j] > len(rst):\n",
    "                    z = DP[i][j]\n",
    "                    rst = S[i-z : i]            \n",
    "    return rst\n",
    "\n",
    "### testing ####################\n",
    "print longestCommonSubstring ('abcdaf', 'zbcdf')"
   ]
  },
  {
   "cell_type": "code",
   "execution_count": 13,
   "metadata": {},
   "outputs": [
    {
     "name": "stdout",
     "output_type": "stream",
     "text": [
      "bcd\n"
     ]
    }
   ],
   "source": [
    "### Two rows to save the space\n",
    "def longestCommonSubstring_DP_2rows (S, T):\n",
    "    \n",
    "    if len(S) < len(T): # to create a smaller DP array\n",
    "        return self.longestCommonSubstring_DP_2rows(T, S)\n",
    "        \n",
    "    ns, nt = len(S) + 1, len(T) + 1\n",
    "    pprev, pcur = [0]*nt, [0]*nt\n",
    "    \n",
    "    rst = ''\n",
    "    for i in xrange (1, ns):\n",
    "        for j in xrange (1, nt):\n",
    "            if S[i-1] == T[j-1]:\n",
    "                pcur[j] = pprev[j-1] + 1\n",
    "                \n",
    "                if pcur[j] > len(rst):\n",
    "                    z = pcur[j]\n",
    "                    rst = S[i-z:i]\n",
    "        pcur, pprev = pprev, pcur\n",
    "        pprev[:] = pcur[:]\n",
    "        pcur[:] = [0]*nt # ❤️ 必须清空当前数据, 否则会重复利用\n",
    "    return rst\n",
    "\n",
    "### testing ####################\n",
    "print longestCommonSubstring_DP_2rows ('abcdaf', 'zbcdf')"
   ]
  },
  {
   "cell_type": "code",
   "execution_count": 6,
   "metadata": {},
   "outputs": [
    {
     "name": "stdout",
     "output_type": "stream",
     "text": [
      "bcd\n"
     ]
    }
   ],
   "source": [
    "# 1/18/18 8:54 PM, hashTable dp 节省空间\n",
    "def longestCommonSubstring_DP_hashTable (S, T):\n",
    "    ns, nt = len(S) + 1, len(T) + 1\n",
    "    dic = {}\n",
    "    \n",
    "    rst    = ''\n",
    "    for i in xrange (1, ns):\n",
    "        for j in xrange (1, nt): # ❤️ 从 1 到 nt.\n",
    "            if S[i-1] == T[j-1]: \n",
    "                dic[(i,j)] = dic.get((i-1,j-1),0) + 1\n",
    "            \n",
    "                if dic[(i,j)] > len(rst): # 只有这种情况, 才能 \"> maxLen\"\n",
    "                    z = dic[(i,j)] # 这一块 if 不能和上一个 if 平行, 因为有可能 \n",
    "                    rst = S[i-z:i] # dic[(i,j)] 不存在.           \n",
    "    return rst\n",
    "\n",
    "### testing ####################\n",
    "print longestCommonSubstring_DP_hashTable ('abcdaf', 'zbcdf')"
   ]
  },
  {
   "cell_type": "markdown",
   "metadata": {},
   "source": [
    "* This can be extended to <span class=\"girk\">more than two strings</span> by <span class=\"girk\">adding more dimensions to the table</span>.\n",
    "* The following tricks can be used to reduce the memory usage of an implementation:\n",
    "    * Keep only the last and current row of the DP table to save memory ${\\displaystyle O(\\min(r,n))}$ instead of ${\\displaystyle O(nr)}$.\n",
    "    * <span class=\"girk\">Store only non-zero values</span> in the rows. This can be done using <span class=\"girk\">hash tables</span> instead of arrays. This is useful for large alphabets."
   ]
  },
  {
   "cell_type": "markdown",
   "metadata": {},
   "source": [
    "#### [DP: longest common subsequences]()\n",
    "* https://www.geeksforgeeks.org/longest-common-subsequence/\n",
    "* https://www.youtube.com/watch?v=NnD96abizww"
   ]
  },
  {
   "cell_type": "code",
   "execution_count": 5,
   "metadata": {},
   "outputs": [
    {
     "name": "stdout",
     "output_type": "stream",
     "text": [
      "('bcdf', 4)\n"
     ]
    }
   ],
   "source": [
    "## iterations --------\n",
    "def longestCommonSubsequence (S, T):\n",
    "    \"\"\"\n",
    "    : type S: str\n",
    "    : type T: str\n",
    "    : rtype: str\n",
    "    \"\"\"\n",
    "    n, m   = len(S) + 1, len(T) + 1\n",
    "    maxLen = 0\n",
    "    subSequence = ''\n",
    "    DP = [ [0]*(m)  for i in xrange (n) ]\n",
    "    \n",
    "    for i in xrange (1, n):\n",
    "        for j in xrange (1, m):\n",
    "            \n",
    "            if S[i-1] == T[j-1]:\n",
    "                DP[i][j] = DP[i-1][j-1] + 1                \n",
    "            else: # ❤️❤️❤️❤️❤️\n",
    "                DP[i][j] = max(DP[i-1][j], DP[i][j-1]) # ❤️❤️ subsequence 的特点.\n",
    "                \n",
    "            if DP[i][j] > maxLen: # ❤️❤️❤️❤️❤️\n",
    "                maxLen = DP[i][j]\n",
    "                subSequence += S[i-1]\n",
    "                \n",
    "    return subSequence, maxLen\n",
    "\n",
    "### testing ####################\n",
    "print longestCommonSubsequence ('abcdaf', 'zbcdf')"
   ]
  },
  {
   "cell_type": "code",
   "execution_count": null,
   "metadata": {
    "collapsed": true
   },
   "outputs": [],
   "source": [
    "## Keep only the last and current row of the DP table to save memory \n",
    "# O(min(r,n)) instead of  O(nr)O(nr). \n",
    "def longestCommonSubsequence (S, T):\n",
    "    \"\"\"\n",
    "    : type S: str\n",
    "    : type T: str\n",
    "    : rtype: str\n",
    "    \"\"\"\n",
    "    n, m   = len(S) + 1, len(T) + 1\n",
    "    maxLen = 0\n",
    "    subSequence = ''\n",
    "    DP = [ [0]*m  for i in xrange (2) ]\n",
    "    \n",
    "    for i in xrange (1, n):\n",
    "        for j in xrange (1, m):\n",
    "            \n",
    "            if S[i-1] == T[j-1]:\n",
    "                DP[1][j] = DP[0][j-1] + 1                \n",
    "            else:\n",
    "                DP[1][j] = max( DP[0][j], DP[1][j-1] )\n",
    "                \n",
    "            if DP[1][j] > maxLen:\n",
    "                maxLen = DP[1][j]\n",
    "                # DP 增加的时候, 才把字母放入 sequence, 保证了 relatively order.\n",
    "                subSequence += S[i-1] \n",
    "                \n",
    "            DP[0][:] = DP[1][:]\n",
    "                \n",
    "    return subSequence, maxLen\n",
    "\n",
    "### testing ####################\n",
    "print longestCommonSubsequence ('abcdaf', 'zbcdf')"
   ]
  },
  {
   "cell_type": "markdown",
   "metadata": {},
   "source": [
    "###### elegent/compact recurisve coding \n",
    "* https://www.geeksforgeeks.org/longest-common-subsequence/\n",
    "* (-) maybe some duplication computation, but not much, so do not care\n",
    "* (-) cannot produce the subsequence characters\n",
    "* (+) not need any extra space "
   ]
  },
  {
   "cell_type": "code",
   "execution_count": null,
   "metadata": {
    "collapsed": true
   },
   "outputs": [],
   "source": [
    "## recursive calling --------\n",
    "# longestCommonSubsequence_recur\n",
    "def lcs_recur (X, Y, i, j):\n",
    "    if i == 0 or j == 0:\n",
    "        return 0\n",
    "    \n",
    "    if X[i-1] == Y[j-1]:\n",
    "        return 1 + lcs_recur(X, Y, i-1, j-1)\n",
    "    else:\n",
    "        return max ( lcs_recur(X,Y,i-1,j), lcs_recur(X,Y,i,j-1) )\n",
    "\n",
    "### testing ####################\n",
    "X = 'abcdaf'\n",
    "Y = 'zbcdf'\n",
    "print lcs_recur (X, Y, len(X), len(Y))"
   ]
  },
  {
   "cell_type": "markdown",
   "metadata": {},
   "source": [
    "### 判断 string 是否是回文?"
   ]
  },
  {
   "cell_type": "code",
   "execution_count": null,
   "metadata": {
    "collapsed": true
   },
   "outputs": [],
   "source": [
    "def isPalindrome_2 (s):\n",
    "    # Run loop from 0 to len//2 \n",
    "    for i in xrange (len(s)//2): \n",
    "        ## 注意上下标, 分 odd 和 even 情况讨论.\n",
    "        if s[i] != s[len(s)-1-i]:\n",
    "            return False\n",
    "    return True\n",
    "\n",
    "print isPalindrome_3(\"malayalam\")"
   ]
  },
  {
   "cell_type": "markdown",
   "metadata": {},
   "source": [
    "### [266.easy-Palindrome Permutation](https://leetcode.com/problems/palindrome-permutation/description/)\n",
    "##### 题意: Given a string, determine if a permutation of the string could form a palindrome.\n",
    "* For example,\n",
    "\"code\" -> False, \"aab\" -> True, \"carerac\" -> True."
   ]
  },
  {
   "cell_type": "code",
   "execution_count": null,
   "metadata": {
    "collapsed": true
   },
   "outputs": [],
   "source": [
    "class Solution(object):\n",
    "    # singe pass loop, 非常巧妙的想法.\n",
    "    def canPermutePalindrome(self, s):\n",
    "        \"\"\"\n",
    "        :type s: str\n",
    "        :rtype: bool\n",
    "        \"\"\"\n",
    "        dic = {}\n",
    "        cnt = 0\n",
    "        for x in s:\n",
    "            dic[x] = dic.get(x,0) + 1\n",
    "            \n",
    "            if dic[x] & 1:\n",
    "                cnt += 1\n",
    "            else:\n",
    "                cnt -= 1\n",
    "        return cnt <= 1"
   ]
  },
  {
   "cell_type": "markdown",
   "metadata": {},
   "source": [
    "### [267.med-Palindrome Permutation II](https://leetcode.com/problems/palindrome-permutation-ii/description/)\n",
    "##### 题意: Given a string s, return all the palindromic permutations (without duplicates) of it. Return an empty list if no palindromic permutation could be form.\n",
    "* 266 是判断能否构成回文; 267 包含266, 判断能否构成回文, 并且返回所有回文的可能.\n",
    "* 偏实现的题, 还是比较有意思的."
   ]
  },
  {
   "cell_type": "code",
   "execution_count": null,
   "metadata": {
    "collapsed": true
   },
   "outputs": [],
   "source": [
    "class Solution(object):\n",
    "    def generatePalindromes(self, s):\n",
    "        \"\"\"\n",
    "        :type s: str\n",
    "        :rtype: List[str]\n",
    "        \"\"\"\n",
    "        if not s: return []\n",
    "        \n",
    "        # 1 检查是否能构成回文的条件\n",
    "        dic, cnt = {}, 0\n",
    "        for x in s:\n",
    "            dic[x] = dic.get(x,0) + 1\n",
    "            if dic[x] & 1:\n",
    "                cnt += 1\n",
    "            else:\n",
    "                cnt -= 1\n",
    "        if cnt > 1: return []\n",
    "        \n",
    "        # 2 统计出现偶数次 和 奇数次的元素.\n",
    "        odd_s = \"\"\n",
    "        even_list = []\n",
    "        for key, val in dic.items():\n",
    "            if val & 1:\n",
    "                tmp = (val - 1) >> 1\n",
    "                odd_s = key\n",
    "            else:\n",
    "                tmp = val >> 1\n",
    "            for i in xrange(tmp):\n",
    "                even_list.append(key)\n",
    "              \n",
    "        # 3 利用 backtracking 找到所有的 permutation (假设存在重复的情况下)\n",
    "        rst = []\n",
    "        even_list.sort()\n",
    "        self.helper(even_list, 0, len(even_list), [], rst)\n",
    "        for i, x in enumerate(rst):\n",
    "            rst[i] = x + odd_s + x[::-1] \n",
    "        return rst\n",
    "        \n",
    "    def helper(self, s, d, n, cur, rst): # backttracking \n",
    "        if d == n:\n",
    "            rst.append(\"\".join(cur))\n",
    "            return\n",
    "        \n",
    "        for i in xrange(n):\n",
    "            if s[i] == \"#\": continue\n",
    "            if i > 0 and s[i] == s[i-1] and s[i-1] != \"#\": continue\n",
    "            \n",
    "            x = s[i]\n",
    "            s[i] = \"#\"\n",
    "            cur.append(x)\n",
    "            self.helper(s, d+1, n, cur, rst)\n",
    "            cur.pop()\n",
    "            s[i] = x        "
   ]
  },
  {
   "cell_type": "markdown",
   "metadata": {},
   "source": [
    "### [409.easy-Longest Palindrome](https://leetcode.com/problems/longest-palindrome/description/)\n",
    "##### 题意: 给定 string, 找出能够构造出的最长回文substring 的长度.\n",
    "\n",
    "##### 分析:\n",
    "* 字母出现是2的倍数,肯定都能计算在内. 对于不能被2整除的, 那只能多算一个数字.\n",
    "* runtime $O(n)$, space $O(1)$ 得益于有限个字母可能, ASCII 码的数量."
   ]
  },
  {
   "cell_type": "code",
   "execution_count": null,
   "metadata": {
    "collapsed": true
   },
   "outputs": [],
   "source": [
    "class Solution(object):\n",
    "    def longestPalindrome(self, s):\n",
    "        \"\"\"\n",
    "        :type s: str\n",
    "        :rtype: int\n",
    "        \"\"\"\n",
    "        cnt = 0\n",
    "        dic = {}\n",
    "        # 构建hash-table, 统计每个字母出现的次数.\n",
    "        for x in s: dic[x] = dic.get(x, 0) + 1\n",
    "            \n",
    "        # 如果字母出现是  x = 2i (即2的倍数), 它们全部算在内, 计数为 x\n",
    "        # 如果字母出现是 x = 2i + 1, 只能计算 x - 1 次. 当然允许, 单个出现一次.\n",
    "        oddExist = False\n",
    "        for x in dic.values():\n",
    "            if x & 1: # odd case\n",
    "                cnt += x - 1\n",
    "                oddExist = True\n",
    "            else: # even case \n",
    "                cnt += x\n",
    "                \n",
    "        if oddExist: cnt += 1\n",
    "        return cnt"
   ]
  },
  {
   "cell_type": "markdown",
   "metadata": {},
   "source": [
    "### [❤️516.med-Longest Palindromic Subsequence](https://leetcode.com/problems/longest-palindromic-subsequence/description/)\n",
    "##### 题意: Given a string s, find the longest palindromic subsequence's length in s. \n",
    "* You may assume that the maximum length of s is 1000.\n",
    "* 例子#1: Input: \"bbbab\". Output: 4.\n",
    "* 例子#2: Input: \"cbbd\". Output: 2.\n",
    "\n",
    "##### 分析: \n",
    "* 这里是 subsequence, 说明要保持相对顺序, 但不一定 continues.\n",
    "* max length is 1000, 说明可以使用递归, python 的最大递归深度正好是 1000."
   ]
  },
  {
   "cell_type": "code",
   "execution_count": null,
   "metadata": {
    "collapsed": true
   },
   "outputs": [],
   "source": [
    "# DP: time & space O(n^2)\n",
    "class Solution(object):\n",
    "    def longestPalindromeSubseq(self, s):\n",
    "        \"\"\"\n",
    "        :type s: str\n",
    "        :rtype: int\n",
    "        \"\"\"\n",
    "        if not s: return 0\n",
    "        \n",
    "        n = len(s)\n",
    "        dp = [[0]*n for i in xrange(n)]\n",
    "        for i in xrange(n-1, -1, -1):\n",
    "            dp[i][i] = 1\n",
    "            for j in xrange(i+1, n):\n",
    "                if s[i] == s[j]:\n",
    "                    dp[i][j] = 2 + dp[i+1][j-1]\n",
    "                else:\n",
    "                    dp[i][j] = max(dp[i+1][j], dp[i][j-1])\n",
    "                    \n",
    "        return dp[0][n-1]"
   ]
  },
  {
   "cell_type": "markdown",
   "metadata": {},
   "source": [
    "##### 参考答案\n",
    "* 最火 java code https://leetcode.com/problems/longest-palindromic-subsequence/discuss/99101 \n",
    "* 最详细 https://leetcode.com/problems/longest-palindromic-subsequence/discuss/99111\n",
    "* Python 最火 https://leetcode.com/problems/longest-palindromic-subsequence/discuss/99129"
   ]
  },
  {
   "cell_type": "markdown",
   "metadata": {},
   "source": [
    "### [❤️647.med-Palindromic Substrings](https://leetcode.com/problems/palindromic-substrings/description/)\n",
    "##### 题意: Given a string, your task is to count <span class=\"girk\">how many palindromic substrings</span> in this string. The substrings with different start indexes or end indexes are counted as different substrings even they consist of same characters."
   ]
  },
  {
   "cell_type": "code",
   "execution_count": null,
   "metadata": {
    "collapsed": true
   },
   "outputs": [],
   "source": [
    "\"\"\"\n",
    "Example 1:\n",
    "Input: \"abc\"\n",
    "Output: 3\n",
    "Explanation: Three palindromic strings: \"a\", \"b\", \"c\".\n",
    "\n",
    "Example 2:\n",
    "Input: \"aaa\"\n",
    "Output: 6\n",
    "Explanation: Six palindromic strings: \"a\", \"a\", \"a\", \"aa\", \"aa\", \"aaa\".\n",
    "\"\"\""
   ]
  },
  {
   "cell_type": "code",
   "execution_count": null,
   "metadata": {
    "collapsed": true
   },
   "outputs": [],
   "source": [
    "# Here is the our code by using the mirroring information written on 1/17/18 \n",
    "\n",
    "class Solution(object):\n",
    "    def countSubstrings(self, s):\n",
    "        \"\"\"\n",
    "        :type s: str\n",
    "        :rtype: int\n",
    "        \"\"\"\n",
    "        rst = 0 # the output variable \n",
    "        ns  = len(s)\n",
    "        if not ns: return rst\n",
    "        \n",
    "        for i in xrange (ns-1):\n",
    "            # check odd cases \n",
    "            rst += self.expand2sides (s, i, i)\n",
    "            # check even cases \n",
    "            rst += self.expand2sides (s, i, i + 1)\n",
    "            \n",
    "        # by the loop above, we cannot cover the end element in the string\n",
    "        rst += self.expand2sides (s, ns-1, ns-1)\n",
    "            \n",
    "        return rst \n",
    "    \n",
    "    def expand2sides (self, s, l, r):\n",
    "        rst = 0\n",
    "        while l >= 0 and r < len(s) and s[l] == s[r]:\n",
    "            l -= 1\n",
    "            r += 1\n",
    "            rst += 1\n",
    "        return rst \n",
    "    \n",
    "### testing ####################      \n",
    "print Solution().countSubstrings ('aaa')"
   ]
  },
  {
   "cell_type": "markdown",
   "metadata": {},
   "source": [
    "##### Analysis on the complexsity:\n",
    "* runtime $O(n^2)$, space complexit $O(1)$\n",
    "\n",
    "##### 标准答案\n",
    "* 也是使用 Expand Around Center 的方法, 详见 https://leetcode.com/problems/palindromic-substrings/solution/ "
   ]
  },
  {
   "cell_type": "markdown",
   "metadata": {},
   "source": [
    "## [3/8: String - most frequencey]()"
   ]
  },
  {
   "cell_type": "markdown",
   "metadata": {},
   "source": [
    "### [6.med-ZigZag Conversion](https://leetcode.com/problems/zigzag-conversion/description/)\n",
    "##### 题意: 给定 string, 按照 zigzag 排序后的顺序是什么?"
   ]
  },
  {
   "cell_type": "code",
   "execution_count": null,
   "metadata": {
    "collapsed": true
   },
   "outputs": [],
   "source": [
    "# ❤️ 从几个边界间跳来跳去, 有点像矩阵的一道题目.\n",
    "class Solution(object):\n",
    "    def convert(self, s, numRows):\n",
    "        \"\"\"\n",
    "        :type s: str\n",
    "        :type numRows: int\n",
    "        :rtype: str\n",
    "        \"\"\"\n",
    "        if numRows == 1 or numRows >= len(s):\n",
    "            return s\n",
    "        \n",
    "        idx, step = 0, 1\n",
    "        bucket = [\"\"] * numRows\n",
    "        for x in s:\n",
    "            bucket[idx] += x # ❤️ 从始至终都是 idx 在两个边界间 弹跳.\n",
    "            \n",
    "            if idx == 0:\n",
    "                step = 1\n",
    "            elif idx == numRows - 1:\n",
    "                step = - 1\n",
    "            idx = idx + step\n",
    "        \n",
    "        return \"\".join(bucket)"
   ]
  },
  {
   "cell_type": "markdown",
   "metadata": {},
   "source": [
    "### [13.easy-Roman to Integer](https://leetcode.com/problems/roman-to-integer/description/)\n",
    "##### 题意: Given a roman numeral, convert it to an integer. Input is guaranteed to be within the range from 1 to 3999.\n",
    "##### 分析\n",
    "##### 总结:  最重要的规律：左边的数字如果小于右边的数字 = 右 - 左"
   ]
  },
  {
   "cell_type": "code",
   "execution_count": null,
   "metadata": {
    "collapsed": true
   },
   "outputs": [],
   "source": [
    "# Time: O(n), Space: O(1)\n",
    "# ❤❤❤ 最重要的规律：左边的数字如果小于右边的数字 = 右 - 左\n",
    "class Solution(object):\n",
    "    def romanToInt(self, s):\n",
    "        \"\"\"\n",
    "        :type s: str\n",
    "        :rtype: int\n",
    "        \"\"\"\n",
    "        if not s: return 0\n",
    "        \n",
    "        # ❤ 表格不容易记住啊\n",
    "        dic = {\"M\":1000, \"D\":500, \"C\":100, \"L\":50, \"X\":10, \"V\":5, \"I\":1}\n",
    "        \n",
    "        rst = 0\n",
    "        for i in xrange(0, len(s)-1):\n",
    "            if dic[s[i]] < dic[s[i+1]]: # ❤❤ 是对应 integer 的对比，而不是字母的对比.\n",
    "                rst -= dic[s[i]]\n",
    "            else:\n",
    "                rst += dic[s[i]]\n",
    "                \n",
    "        return rst + dic[s[-1]] # ❤ 最后一位不要忘记."
   ]
  },
  {
   "cell_type": "markdown",
   "metadata": {},
   "source": [
    "### [14.easy-Longest Common Prefix](https://leetcode.com/problems/longest-common-prefix/description/)\n",
    "##### 题意: write a function to <span class=\"girk\">find the longest common prefix string</span> amongst an array of strings."
   ]
  },
  {
   "cell_type": "code",
   "execution_count": 7,
   "metadata": {},
   "outputs": [
    {
     "name": "stdout",
     "output_type": "stream",
     "text": [
      "aa\n"
     ]
    }
   ],
   "source": [
    "# 方法看着更好一点, 没有了 min(strs, key=len)\n",
    "class Solution(object):\n",
    "    def longestCommonPrefix(self, strs):\n",
    "        \"\"\"\n",
    "        :type strs: List[str]\n",
    "        :rtype: str\n",
    "        \"\"\"\n",
    "        if not strs: return \"\"\n",
    "        \n",
    "        prefix = strs[0]\n",
    "        for i, x in enumerate(prefix): # ❎ 竟然将 prefix 写成了 strs\n",
    "            for s in strs:\n",
    "                if i < len(s) and s[i] == x:\n",
    "                    continue\n",
    "                else:\n",
    "                    return prefix[:i]\n",
    "        return prefix\n",
    "\n",
    "print Solution().longestCommonPrefix([\"aa\", \"aabb\"])"
   ]
  },
  {
   "cell_type": "code",
   "execution_count": null,
   "metadata": {
    "collapsed": true
   },
   "outputs": [],
   "source": [
    "# 更高效的算法. time 38 ms\n",
    "class Solution(object):\n",
    "    def longestCommonPrefix(self, strs):\n",
    "        \"\"\"\n",
    "        :type strs: List[str]\n",
    "        :rtype: str\n",
    "        \"\"\"\n",
    "        if not strs: return \"\"\n",
    "        \n",
    "        prefix = min(strs, key=len) # ❤️❤️ 这是关键, 原来 min 和 max 也能指定 key\n",
    "        for i, x in enumerate(prefix):\n",
    "            for s in strs:\n",
    "                if s[i] != x: return prefix[:i]\n",
    "                \n",
    "        return prefix"
   ]
  },
  {
   "cell_type": "code",
   "execution_count": null,
   "metadata": {
    "collapsed": true
   },
   "outputs": [],
   "source": [
    "# 很清晰的算法, time 60 ms.\n",
    "class Solution(object):\n",
    "    def longestCommonPrefix(self, strs):\n",
    "        \"\"\"\n",
    "        :type strs: List[str]\n",
    "        :rtype: str\n",
    "        \"\"\"\n",
    "        if not strs or len(strs) == 0: return \"\"\n",
    "        \n",
    "        prefix = strs[0]\n",
    "        for i in xrange(1, len(strs)):\n",
    "            j = 0 \n",
    "            while j < min( len(strs[i]), len(prefix) ):\n",
    "                if strs[i][j] != prefix[j]:\n",
    "                    break\n",
    "                j += 1\n",
    "            prefix = prefix[:j]\n",
    "            \n",
    "        return prefix"
   ]
  },
  {
   "cell_type": "markdown",
   "metadata": {},
   "source": [
    "### [38.easy-Count and Say](https://leetcode.com/problems/count-and-say/description/)\n",
    "##### 题意:  将整型数字转化成 二进制, 然后count and say. 具体看例子:\n",
    "##### 分析\n",
    "##### 总结"
   ]
  },
  {
   "cell_type": "code",
   "execution_count": null,
   "metadata": {
    "collapsed": true
   },
   "outputs": [],
   "source": [
    "\"\"\"\n",
    "1.     1\n",
    "2.     11\n",
    "3.     21\n",
    "4.     1211\n",
    "5.     111221\n",
    "1 is read off as \"one 1\" or 11.\n",
    "11 is read off as \"two 1s\" or 21.\n",
    "21 is read off as \"one 2, then one 1\" or 1211.\n",
    "\"\"\"\n",
    "\n",
    "\"\"\"\n",
    "Example 1:\n",
    "Input: 1\n",
    "Output: \"1\"\n",
    "\n",
    "Example 2:\n",
    "Input: 4\n",
    "Output: \"1211\"\n",
    "\"\"\""
   ]
  },
  {
   "cell_type": "code",
   "execution_count": 1,
   "metadata": {},
   "outputs": [
    {
     "name": "stdout",
     "output_type": "stream",
     "text": [
      "111221\n"
     ]
    }
   ],
   "source": [
    "class Solution(object):\n",
    "    def countAndSay(self, n):\n",
    "        \"\"\"\n",
    "        :type n: int\n",
    "        :rtype: str\n",
    "        \"\"\"\n",
    "        if n < 1: return \"\"\n",
    "        \n",
    "        rst  = \"1\"\n",
    "        for i in xrange(1, n):\n",
    "            rst = self.countAndSay_1_s(rst)\n",
    "        return rst\n",
    "    \n",
    "    def countAndSay_1_s(self, s):\n",
    "        cnt = 1\n",
    "        tmp, rst = s[0], []\n",
    "        for i in xrange(1, len(s)+1): # ❤️ len(s) + 1 是为了解决最后一个元素\n",
    "            if i != len(s) and tmp == s[i]:\n",
    "                cnt += 1\n",
    "            else:\n",
    "                rst.append(str(cnt))\n",
    "                rst.append(tmp)\n",
    "                if i != len(s):\n",
    "                    tmp = s[i]\n",
    "                    cnt = 1\n",
    "                    \n",
    "        return \"\".join(rst)\n",
    "\n",
    "print Solution().countAndSay(5)"
   ]
  },
  {
   "cell_type": "markdown",
   "metadata": {},
   "source": [
    "### [17.med-Letter Combinations of a Phone Number](https://leetcode.com/problems/letter-combinations-of-a-phone-number/description/)\n",
    "#####  题意: Given a digit string, return all possible letter combinations that the number could represent.\n",
    "* A mapping of digit to letters (just like on the telephone buttons) is given below\n",
    "\n",
    "![](http://upload.wikimedia.org/wikipedia/commons/thumb/7/73/Telephone-keypad2.svg/200px-Telephone-keypad2.svg.png)"
   ]
  },
  {
   "cell_type": "code",
   "execution_count": 16,
   "metadata": {},
   "outputs": [
    {
     "name": "stdout",
     "output_type": "stream",
     "text": [
      "['adg', 'adh', 'adi', 'aeg', 'aeh', 'aei', 'afg', 'afh', 'afi', 'bdg', 'bdh', 'bdi', 'beg', 'beh', 'bei', 'bfg', 'bfh', 'bfi', 'cdg', 'cdh', 'cdi', 'ceg', 'ceh', 'cei', 'cfg', 'cfh', 'cfi']\n"
     ]
    }
   ],
   "source": [
    "class Solution(object):\n",
    "    def __init__(self):\n",
    "        self.dic = {\n",
    "            \"1\" : \"\",\n",
    "            \"2\" : \"abc\",\n",
    "            \"3\" : \"def\",\n",
    "            \"4\" : \"ghi\",\n",
    "            \"5\" : \"jkl\",\n",
    "            \"6\" : \"mno\",\n",
    "            \"7\" : \"pqrs\",\n",
    "            \"8\" : \"tuv\",\n",
    "            \"9\" : \"wxyz\"\n",
    "        }\n",
    "        \n",
    "    def letterCombinations(self, digits):\n",
    "        \"\"\"\n",
    "        :type digits: str\n",
    "        :rtype: List[str]\n",
    "        \"\"\"\n",
    "        if not digits: return []\n",
    "        \n",
    "        rst = []\n",
    "        self.helper(rst, [], digits, 0)\n",
    "        return rst\n",
    "        \n",
    "    def helper(self, rst, cur, digits, d):\n",
    "        if len(cur) == len(digits): \n",
    "            rst.append(\"\".join(cur))\n",
    "            return\n",
    "        \n",
    "        s = self.dic[digits[d]]\n",
    "        for c in s:\n",
    "            cur.append(c)\n",
    "            self.helper(rst, cur, digits, d+1) \n",
    "            cur.pop()\n",
    "            \n",
    "            \n",
    "print Solution().letterCombinations(\"234\")"
   ]
  },
  {
   "cell_type": "markdown",
   "metadata": {},
   "source": [
    "### [151.med-Reverse Words in a String](https://leetcode.com/problems/reverse-words-in-a-string/description/)\n",
    "##### 题意: Given an input string, reverse the string word by word.\n",
    "##### 分析: \n",
    "##### 总结"
   ]
  },
  {
   "cell_type": "code",
   "execution_count": null,
   "metadata": {
    "collapsed": true
   },
   "outputs": [],
   "source": [
    "\"\"\"\n",
    "For example,\n",
    "Given s = \"the sky is blue\",\n",
    "return \"blue is sky the\".\n",
    "\"\"\""
   ]
  },
  {
   "cell_type": "code",
   "execution_count": 5,
   "metadata": {},
   "outputs": [
    {
     "name": "stdout",
     "output_type": "stream",
     "text": [
      "blue is sky the\n"
     ]
    }
   ],
   "source": [
    "class Solution(object):\n",
    "    def reverseWords(self, s):\n",
    "        \"\"\"\n",
    "        :type s: str\n",
    "        :rtype: str\n",
    "        \"\"\"\n",
    "        if not s: return \"\"\n",
    "        \n",
    "        i, stack = 0, []\n",
    "        while i < len(s):\n",
    "            if s[i] != \" \":\n",
    "                start = i \n",
    "                while i < len(s) and s[i] != \" \": i += 1\n",
    "                word = s[start:i]\n",
    "                stack.append(word)\n",
    "                i -= 1\n",
    "            i += 1\n",
    "        return \" \".join(stack[::-1])\n",
    "    \n",
    "print Solution().reverseWords(\"the sky is blue\")"
   ]
  },
  {
   "cell_type": "code",
   "execution_count": 12,
   "metadata": {},
   "outputs": [
    {
     "name": "stdout",
     "output_type": "stream",
     "text": [
      "blue is sky the\n"
     ]
    }
   ],
   "source": [
    "class Solution(object):\n",
    "    def reverseWords(self, s):\n",
    "        \"\"\"\n",
    "        :type s: str\n",
    "        :rtype: str\n",
    "        \"\"\"\n",
    "        if not s: return \"\"\n",
    "        \n",
    "        i, stack = 0, []\n",
    "        while i < len(s):\n",
    "            if s[i].isalpha(): # s.isalpha() # ❤️\n",
    "                start = i\n",
    "                while i < len(s) and s[i].isalpha(): i += 1\n",
    "                stack.append(s[start:i])\n",
    "                i -= 1\n",
    "            i += 1\n",
    "            \n",
    "        return \" \".join(stack[::-1])\n",
    "\n",
    "print Solution().reverseWords(\"the sky is blue\")"
   ]
  },
  {
   "cell_type": "code",
   "execution_count": 6,
   "metadata": {},
   "outputs": [
    {
     "name": "stdout",
     "output_type": "stream",
     "text": [
      "blue is sky the\n"
     ]
    }
   ],
   "source": [
    "class Solution(object):\n",
    "    def reverseWords(self, s):\n",
    "        \"\"\"\n",
    "        :type s: str\n",
    "        :rtype: str\n",
    "        \"\"\"\n",
    "        if not s: return \"\"\n",
    "        \n",
    "        i, stack = len(s)-1, []\n",
    "        while i > -1:\n",
    "            if s[i] != \" \":\n",
    "                end = i\n",
    "                while i > - 1 and s[i] != \" \": i -= 1\n",
    "                word = s[i+1:end+1]\n",
    "                stack.append(word)\n",
    "                i += 1\n",
    "            i -= 1\n",
    "            \n",
    "        return \" \".join(stack)\n",
    "                \n",
    "print Solution().reverseWords(\"the sky is blue\")              "
   ]
  },
  {
   "cell_type": "markdown",
   "metadata": {},
   "source": [
    "### [186.med-Reverse Words in a String II](https://leetcode.com/problems/reverse-words-in-a-string-ii/description/)\n",
    "##### 题意 (4/7/18): Given an input string, reverse the string word by word. A word is defined as a sequence of non-space characters.\n",
    "* The input string does not contain leading or trailing spaces and the words are always separated by a single space.\n",
    "* Could you <span class=\"burk\">do it in-place</span> without allocating extra space?\n",
    "\n",
    "##### 相关题目: [189. Rotate Array](https://leetcode.com/problems/rotate-array/)"
   ]
  },
  {
   "cell_type": "code",
   "execution_count": null,
   "metadata": {
    "collapsed": true
   },
   "outputs": [],
   "source": [
    "\"\"\" For example,\n",
    "Given s = \"the sky is blue\",\n",
    "return \"blue is sky the\".\n",
    "\"\"\""
   ]
  },
  {
   "cell_type": "code",
   "execution_count": null,
   "metadata": {
    "collapsed": true
   },
   "outputs": [],
   "source": [
    "# time: O(n), space: O(1)\n",
    "class Solution(object):\n",
    "    def reverseWords(self, str):\n",
    "        \"\"\"\n",
    "        :type str: List[str]\n",
    "        :rtype: void Do not return anything, modify str in-place instead.\n",
    "        \"\"\"\n",
    "        if not str: return \n",
    "        \n",
    "        i, n = 0, len(str)\n",
    "        self.reverseInPlace(str, 0, n-1)\n",
    "        \n",
    "        while i < n:\n",
    "            if str[i] != \" \":\n",
    "                start = i \n",
    "                while i<n and str[i] != \" \": i += 1\n",
    "                i -= 1\n",
    "                self.reverseInPlace(str, start, i)\n",
    "            i += 1\n",
    "            \n",
    "    def reverseInPlace(self, nums, l, r):\n",
    "        if l<0 or r>=len(nums): return\n",
    "        while l < r:\n",
    "            nums[l], nums[r] = nums[r], nums[l]\n",
    "            l += 1\n",
    "            r -= 1"
   ]
  },
  {
   "cell_type": "markdown",
   "metadata": {},
   "source": [
    "### [❤️10.hard-Regular Expression Matching](https://leetcode.com/problems/regular-expression-matching/description/)\n",
    "##### 题意: Implement regular expression matching with support for '.' and '*'.\n",
    "* '.' Matches any single character.\n",
    "* '*' Matches zero or more of the <span class=\"girk\">preceding element</span>.\n",
    "\n",
    "##### 教程(好难)：https://www.youtube.com/watch?v=c5vsle60Uw8"
   ]
  },
  {
   "cell_type": "code",
   "execution_count": null,
   "metadata": {
    "collapsed": true
   },
   "outputs": [],
   "source": [
    "\"\"\"\n",
    "Some examples:\n",
    "isMatch(\"aa\",\"a\") → false\n",
    "isMatch(\"aa\",\"aa\") → true\n",
    "isMatch(\"aaa\",\"aa\") → false\n",
    "isMatch(\"aa\", \"a*\") → true\n",
    "isMatch(\"aa\", \".*\") → true\n",
    "isMatch(\"ab\", \".*\") → true\n",
    "isMatch(\"aab\", \"c*a*b\") → true\n",
    "\n",
    "isMatch(\"aa\", \".*)   → true\n",
    "isMatch(\"ab\", \".*\")  → true\n",
    "isMatch(\"aab\", \"c*a*b\") → true\n",
    "\"\"\""
   ]
  },
  {
   "cell_type": "markdown",
   "metadata": {},
   "source": [
    "### [67.easy-Add Binary](https://leetcode.com/problems/add-binary/description/)\n",
    "##### 题意: Given two binary strings, return their sum (also a binary string)."
   ]
  },
  {
   "cell_type": "code",
   "execution_count": null,
   "metadata": {
    "collapsed": true
   },
   "outputs": [],
   "source": [
    "\"\"\"\n",
    "For example,\n",
    "a = \"11\"\n",
    "b = \"1\"\n",
    "Return \"100\".\n",
    "\"\"\""
   ]
  },
  {
   "cell_type": "code",
   "execution_count": 12,
   "metadata": {},
   "outputs": [
    {
     "name": "stdout",
     "output_type": "stream",
     "text": [
      "100\n"
     ]
    }
   ],
   "source": [
    "class Solution(object):\n",
    "    def addBinary(self, a, b):\n",
    "        \"\"\"\n",
    "        :type a: str\n",
    "        :type b: str\n",
    "        :rtype: str\n",
    "        \"\"\"\n",
    "        if not a: return b\n",
    "        if not b: return a\n",
    "        \n",
    "        carry, rst = 0, \"\"\n",
    "        i, j = len(a)-1, len(b)-1\n",
    "        while i > -1 or j > -1 or carry:\n",
    "            s = carry\n",
    "            if i > -1:\n",
    "                s += a[i] == \"1\"\n",
    "                i -= 1\n",
    "                \n",
    "            if j > -1:\n",
    "                s += b[j] == \"1\"\n",
    "                j -= 1\n",
    "                \n",
    "            rst = str(s&1) + rst\n",
    "            carry = s>>1\n",
    "        \n",
    "        return rst\n",
    "    \n",
    "print Solution().addBinary(\"11\", '1')"
   ]
  },
  {
   "cell_type": "markdown",
   "metadata": {},
   "source": [
    "### [❓146.hard-LRU Cache](https://leetcode.com/problems/lru-cache/description/)\n",
    "##### 题意: "
   ]
  },
  {
   "cell_type": "markdown",
   "metadata": {},
   "source": [
    "### [402.med-Remove K Digits](https://leetcode.com/problems/remove-k-digits/description/)\n",
    "##### 题意: Given a non-negative integer num represented as a string, remove k digits from the number so that the new number is the smallest possible.\n",
    "* The length of num is less than 10002 and will be ≥ k.\n",
    "* The given num does not contain any leading zero.\n",
    "\n",
    "##### 教程: https://www.youtube.com/watch?v=jCTGSjvEyo8"
   ]
  },
  {
   "cell_type": "code",
   "execution_count": null,
   "metadata": {
    "collapsed": true
   },
   "outputs": [],
   "source": [
    "\"\"\"\n",
    "Example 1: --------------------------------------------------\n",
    "Input: num = \"1432219\", k = 3\n",
    "Output: \"1219\"\n",
    "Explanation: Remove the three digits 4, 3, and 2 to form \n",
    "the new number 1219 which is the smallest.\n",
    "\n",
    "\n",
    "Example 2: --------------------------------------------------\n",
    "Input: num = \"10200\", k = 1\n",
    "Output: \"200\"\n",
    "Explanation: Remove the leading 1 and the number is 200. \n",
    "Note that the output must not contain leading zeroes.\n",
    "\n",
    "\n",
    "Example 3: --------------------------------------------------\n",
    "Input: num = \"10\", k = 2\n",
    "Output: \"0\"\n",
    "Explanation: Remove all the digits from the number and it is left with nothing which \n",
    "\"\"\""
   ]
  },
  {
   "cell_type": "code",
   "execution_count": 37,
   "metadata": {},
   "outputs": [
    {
     "name": "stdout",
     "output_type": "stream",
     "text": [
      "1219\n",
      "200\n",
      "0\n",
      "10\n"
     ]
    }
   ],
   "source": [
    "# ❤️ 思路: 1) 删除递增到递减的转折点; 2) 不够 k 的, 接着从右边开始删除.\n",
    "class Solution(object):\n",
    "    def removeKdigits(self, num, k):\n",
    "        \"\"\"\n",
    "        :type num: str\n",
    "        :type k: int\n",
    "        :rtype: str\n",
    "        \"\"\"\n",
    "        if not num or k <= 0: return num\n",
    "        if k >= len(num): return \"0\" # ❤️ edge condition, 返回 \"0\"\n",
    "        \n",
    "        stack = []\n",
    "        for x in num: # ❤️❤️❤️ 下一句是 while, 删除所有\n",
    "            while stack and x < stack[-1] and k > 0: # ❤️ 删除所有比 x 大的元素. 有点以前做过的 stack 的题目.\n",
    "                stack.pop()\n",
    "                k -= 1\n",
    "            stack.append(x)\n",
    "            \n",
    "        while k > 0:\n",
    "            stack.pop()\n",
    "            k -= 1\n",
    "            \n",
    "        return str(int(\"\".join(stack)))\n",
    "    \n",
    "print Solution().removeKdigits(\"1432219\", 3)\n",
    "print Solution().removeKdigits(\"10200\", 1)\n",
    "print Solution().removeKdigits(\"10\", 2)\n",
    "print Solution().removeKdigits(\"1234567890\", 9)"
   ]
  },
  {
   "cell_type": "markdown",
   "metadata": {},
   "source": [
    "### [771.easy-Jewels and Stones](https://leetcode.com/problems/jewels-and-stones/description/)\n",
    "##### 找出 stones 中的 Jewels.\n",
    "* Jewels 放在 J 中.\n",
    "* Stones 放在 S 中. 其实都是字符串."
   ]
  },
  {
   "cell_type": "code",
   "execution_count": null,
   "metadata": {
    "collapsed": true
   },
   "outputs": [],
   "source": [
    "class Solution(object):\n",
    "    def numJewelsInStones(self, J, S):\n",
    "        \"\"\"\n",
    "        :type J: str\n",
    "        :type S: str\n",
    "        :rtype: int\n",
    "        \"\"\"\n",
    "        if not J or not S: return 0\n",
    "        return sum([x in J for x in S])"
   ]
  },
  {
   "cell_type": "code",
   "execution_count": null,
   "metadata": {
    "collapsed": true
   },
   "outputs": [],
   "source": [
    "class Solution(object):\n",
    "    def numJewelsInStones(self, J, S):\n",
    "        \"\"\"\n",
    "        :type J: str\n",
    "        :type S: str\n",
    "        :rtype: int\n",
    "        \"\"\"\n",
    "        if not J or not S: return 0\n",
    "        \n",
    "        dic = {}\n",
    "        for x in J:\n",
    "            dic[x] = dic.get(x,0) + 1\n",
    "          \n",
    "        rst = 0\n",
    "        for x in S:\n",
    "            if x in dic: rst += 1\n",
    "        return rst       "
   ]
  },
  {
   "cell_type": "markdown",
   "metadata": {},
   "source": [
    "## [4/6: String - top frequency]()"
   ]
  },
  {
   "cell_type": "markdown",
   "metadata": {},
   "source": [
    "### [❤️49.med-Group Anagrams](https://leetcode.com/problems/group-anagrams/description/)\n",
    "##### 题意: Given an array of strings, group anagrams together. 见例子\n",
    "* Note: All inputs will be in lower-case."
   ]
  },
  {
   "cell_type": "code",
   "execution_count": null,
   "metadata": {
    "collapsed": true
   },
   "outputs": [],
   "source": [
    "\"\"\"\n",
    "For example, given: [\"eat\", \"tea\", \"tan\", \"ate\", \"nat\", \"bat\"], \n",
    "Return:\n",
    "\n",
    "[\n",
    "  [\"ate\", \"eat\",\"tea\"],\n",
    "  [\"nat\",\"tan\"],\n",
    "  [\"bat\"]\n",
    "]\n",
    "\"\"\""
   ]
  },
  {
   "cell_type": "code",
   "execution_count": 3,
   "metadata": {},
   "outputs": [
    {
     "name": "stdout",
     "output_type": "stream",
     "text": [
      "[['tan', 'nat'], ['bat'], ['eat', 'tea', 'ate']]\n"
     ]
    }
   ],
   "source": [
    "# IDEA:\n",
    "#     1. 对每个 string sort (不能直接 sort, 需要转化成 list, 然后再转化回来)\n",
    "#     2. sorted string 具有 anagrams 的唯一性. 将 sorted string 作为 key, 看是否已经存在于dic.\n",
    "#     3. 如果存在, 则 ...; 如果不存在, 则 .... \n",
    "# Time: O(N*M*logM), where N is the number of strings, M is the length of each word, \n",
    "#     MlogM is the complexity of sorting. \n",
    "class Solution(object):\n",
    "    def groupAnagrams(self, strs):\n",
    "        \"\"\"\n",
    "        :type strs: List[str]\n",
    "        :rtype: List[List[str]]\n",
    "        \"\"\"\n",
    "        if not strs: return []\n",
    "        \n",
    "        dic = {}\n",
    "        for s in strs:\n",
    "            keyChars = sorted(list(s)) # ❤️不能直接排序string, string -> list -> sort -> string\n",
    "            keyStr = \"\".join(keyChars) \n",
    "            if keyStr in dic:\n",
    "                dic[keyStr].append(s)\n",
    "            else:\n",
    "                dic[keyStr] = [s]\n",
    "                \n",
    "        return dic.values() # ❤️ 返回 dic.values()\n",
    "    \n",
    "print Solution().groupAnagrams([\"eat\", \"tea\", \"tan\", \"ate\", \"nat\", \"bat\"])"
   ]
  },
  {
   "cell_type": "markdown",
   "metadata": {},
   "source": [
    "### [657.easy-Judge Route Circle](https://leetcode.com/problems/judge-route-circle/description)\n",
    "##### 题意: 给定 string, 只包含 \"LRUD\", 分别表示 left, right, up, down. 问机器人经过规定路线走完后, 能否 make a circle, 即意味着能否回到原位?"
   ]
  },
  {
   "cell_type": "code",
   "execution_count": null,
   "metadata": {
    "collapsed": true
   },
   "outputs": [],
   "source": [
    "\"\"\"\n",
    "Example 1:   Input: \"UD\"    Output: true\n",
    "Example 2:   Input: \"LL\"    Output: false\n",
    "\"\"\""
   ]
  },
  {
   "cell_type": "code",
   "execution_count": null,
   "metadata": {
    "collapsed": true
   },
   "outputs": [],
   "source": [
    "# IDEA: the number of \"L\" should be equal to that of \"R\". The same if for \"U\" and \"D\".\n",
    "class Solution(object):\n",
    "    def judgeCircle(self, moves):\n",
    "        \"\"\"\n",
    "        :type moves: str\n",
    "        :rtype: bool\n",
    "        \"\"\"\n",
    "        if not moves: return True\n",
    "        \n",
    "        r = c = 0\n",
    "        for x in moves:\n",
    "            if x==\"L\": r+=1\n",
    "            elif x==\"R\": r-=1\n",
    "            elif x==\"U\": c+=1\n",
    "            elif x==\"D\": c-=1\n",
    "\n",
    "        return r==0 and c==0"
   ]
  },
  {
   "cell_type": "code",
   "execution_count": null,
   "metadata": {
    "collapsed": true
   },
   "outputs": [],
   "source": [
    "class Solution(object):\n",
    "    def judgeCircle(self, moves):\n",
    "        return moves.count(\"L\") == moves.count(\"R\") and moves.count(\"U\") == moves.count(\"D\")"
   ]
  },
  {
   "cell_type": "markdown",
   "metadata": {},
   "source": [
    "### [28.easy-Implement strStr()](https://leetcode.com/problems/implement-strstr/description/)\n",
    "##### 题意: Implement strStr().\n",
    "* Return the index of the first occurrence of needle in haystack, or -1 if needle is not part of haystack."
   ]
  },
  {
   "cell_type": "code",
   "execution_count": null,
   "metadata": {
    "collapsed": true
   },
   "outputs": [],
   "source": [
    "\"\"\"\n",
    "Example 1:\n",
    "\n",
    "Input: haystack = \"hello\", needle = \"ll\"\n",
    "Output: 2\n",
    "Example 2:\n",
    "\n",
    "Input: haystack = \"aaaaa\", needle = \"bba\"\n",
    "Output: -1\n",
    "\"\"\""
   ]
  },
  {
   "cell_type": "code",
   "execution_count": null,
   "metadata": {
    "collapsed": true
   },
   "outputs": [],
   "source": [
    "class Solution(object):\n",
    "    def strStr(self, haystack, needle):\n",
    "        \"\"\"\n",
    "        :type haystack: str\n",
    "        :type needle: str\n",
    "        :rtype: int\n",
    "        \"\"\"\n",
    "        nhay = len(haystack)\n",
    "        nn = len(needle)\n",
    "        # 多种特殊情况, 都能解决: 1) needle是空, 2) haystack 长度小于 needle\n",
    "        for i in xrange(nhay-nn+1): # ❎ +1, 想想 needle 只有一个元素的情况.\n",
    "            if needle == haystack[i:i+nn]:\n",
    "                return i\n",
    "        return -1"
   ]
  },
  {
   "cell_type": "markdown",
   "metadata": {},
   "source": [
    "### [459.easy-Repeated Substring Pattern](https://leetcode.com/problems/repeated-substring-pattern/description/)\n",
    "##### 题意: 给定字符串, 判断里面是否包含重复的 pattern. \n",
    "\n",
    "##### 总结: 一般自己是想不出来的, 只能看教程 https://leetcode.com/problems/repeated-substring-pattern/discuss/94334/Easy-python-solution-with-explaination"
   ]
  },
  {
   "cell_type": "code",
   "execution_count": null,
   "metadata": {
    "collapsed": true
   },
   "outputs": [],
   "source": [
    "\"\"\"\n",
    "Example 1:\n",
    "Input: \"abab\"\n",
    "\n",
    "Output: True\n",
    "\n",
    "Explanation: It's the substring \"ab\" twice.\n",
    "Example 2:\n",
    "Input: \"aba\"\n",
    "\n",
    "Output: False\n",
    "Example 3:\n",
    "Input: \"abcabcabcabc\"\n",
    "\n",
    "Output: True\n",
    "\n",
    "Explanation: It's the substring \"abc\" four times. (And the substring \"abcabc\" twice.)\n",
    "\"\"\""
   ]
  },
  {
   "cell_type": "code",
   "execution_count": null,
   "metadata": {
    "collapsed": true
   },
   "outputs": [],
   "source": [
    "class Solution(object):\n",
    "    def repeatedSubstringPattern(self, s):\n",
    "        \"\"\"\n",
    "        :type s: str\n",
    "        :rtype: bool\n",
    "        \"\"\"\n",
    "        if not s: return False\n",
    "        \n",
    "        return s in (s + s)[1:-1] # ❤️ 非常巧妙."
   ]
  },
  {
   "cell_type": "markdown",
   "metadata": {},
   "source": [
    "### [686.easy-Repeated String Match](https://leetcode.com/problems/repeated-string-match/description/)\n",
    "##### 题目: 给定两个 string A 和 B, 问 A 至少重复几次, B 才是其结果的 substring.\n",
    "\n",
    "##### 总结 (https://leetcode.com/problems/repeated-string-match/discuss/108090/Intuitive-Python-2-liner):\n",
    "* A 的长度至少要等于 B; 所以我们需要对 A 至少重复 $n = ceil(len(B)/len(A))$\n",
    "* B 要不在 $n$ 倍的 A 中, 或者在 $n+1$ 倍的 A 中. "
   ]
  },
  {
   "cell_type": "code",
   "execution_count": null,
   "metadata": {
    "collapsed": true
   },
   "outputs": [],
   "source": [
    "class Solution(object):\n",
    "    def repeatedStringMatch(self, A, B):\n",
    "        \"\"\"\n",
    "        :type A: str\n",
    "        :type B: str\n",
    "        :rtype: int\n",
    "        \"\"\"\n",
    "        if not A: return -1\n",
    "        if not B: return 1\n",
    "        \n",
    "        n = -(-len(B) / len(A)) # ❤️❤️❤️ 这个编程很有意思, 和 ceil() 的作用是一样的.\n",
    "        if B in (n * A): # ❤️❤️❤️ 这三种情况的判断也挺有意思的. \n",
    "            return n\n",
    "        elif B in ((n+1)*A):\n",
    "            return n + 1\n",
    "        else:\n",
    "            return -1"
   ]
  },
  {
   "cell_type": "markdown",
   "metadata": {},
   "source": [
    "### [❓❓72.hard-Edit Distance](https://leetcode.com/problems/edit-distance/description/)\n",
    "##### 题意: Given two words word1 and word2, find the minimum number of steps required to convert word1 to word2. (each operation is counted as 1 step.)"
   ]
  },
  {
   "cell_type": "markdown",
   "metadata": {},
   "source": [
    "### [344.easy-Reverse String](https://leetcode.com/problems/reverse-string/description/)\n",
    "##### 题意: Write a function that takes a string as input and returns the string reversed.\n",
    "* Example: given s = \"hello\", return \"olleh\"."
   ]
  },
  {
   "cell_type": "code",
   "execution_count": null,
   "metadata": {
    "collapsed": true
   },
   "outputs": [],
   "source": [
    "class Solution(object):\n",
    "    def reverseString(self, s):\n",
    "        \"\"\"\n",
    "        :type s: str\n",
    "        :rtype: str\n",
    "        \"\"\"\n",
    "        return s[::-1] # 👍❤️❤️"
   ]
  },
  {
   "cell_type": "code",
   "execution_count": 4,
   "metadata": {},
   "outputs": [
    {
     "name": "stdout",
     "output_type": "stream",
     "text": [
      "decba\n"
     ]
    }
   ],
   "source": [
    "class Solution(object):\n",
    "    def reverseString(self, s):\n",
    "        \"\"\"\n",
    "        :type s: str\n",
    "        :rtype: str\n",
    "        \"\"\"\n",
    "        n = len(s)\n",
    "        if n < 2: return s\n",
    "        \n",
    "        s = list(s) # ❎❎必须有这句, 否则❤️❤️TypeError: 'str' object does not support item assignment\n",
    "        for i in xrange(n/2):\n",
    "            j = n-1-i\n",
    "            s[i], s[j] = s[j], s[i]\n",
    "        return \"\".join(s)\n",
    "        \n",
    "print Solution().reverseString(\"abced\")"
   ]
  },
  {
   "cell_type": "code",
   "execution_count": 3,
   "metadata": {},
   "outputs": [
    {
     "name": "stdout",
     "output_type": "stream",
     "text": [
      "decba\n"
     ]
    }
   ],
   "source": [
    "class Solution(object):\n",
    "    def reverseString(self, s):\n",
    "        \"\"\"\n",
    "        :type s: str\n",
    "        :rtype: str\n",
    "        \"\"\"\n",
    "        if len(s) < 2: return s\n",
    "        \n",
    "        rst = []\n",
    "        for i in xrange(len(s)-1, -1, -1):\n",
    "            rst.append(s[i])\n",
    "        return \"\".join(rst)\n",
    "    \n",
    "    print Solution().reverseString(\"abced\")"
   ]
  },
  {
   "cell_type": "markdown",
   "metadata": {},
   "source": [
    "### [557.easy-Reverse Words in a String III](https://leetcode.com/problems/reverse-words-in-a-string-iii/description/)\n",
    "##### 题意: 按照以下例子, reverse words. "
   ]
  },
  {
   "cell_type": "code",
   "execution_count": null,
   "metadata": {
    "collapsed": true
   },
   "outputs": [],
   "source": [
    "\"\"\"\n",
    "Example 1:\n",
    "Input: \"Let's take LeetCode contest\"\n",
    "Output: \"s'teL ekat edoCteeL tsetnoc\"\n",
    "Note: In the string, each word is separated by single space and there will not be \n",
    "any extra space in the string.\n",
    "\"\"\""
   ]
  },
  {
   "cell_type": "code",
   "execution_count": null,
   "metadata": {
    "collapsed": true
   },
   "outputs": [],
   "source": [
    "class Solution(object):\n",
    "    def reverseWords(self, s):\n",
    "        \"\"\"\n",
    "        :type s: str\n",
    "        :rtype: str\n",
    "        \"\"\"\n",
    "        if not s: return \"\"\n",
    "        \n",
    "        i, rst = 0, []\n",
    "        while i < len(s):\n",
    "            if s[i] != \" \":\n",
    "                start = i\n",
    "                while i < len(s) and s[i] != \" \": i += 1\n",
    "                word = s[start:i]\n",
    "                rst.append(word[::-1])\n",
    "                i -= 1\n",
    "            i += 1\n",
    "            \n",
    "        return \" \".join(rst)"
   ]
  },
  {
   "cell_type": "markdown",
   "metadata": {},
   "source": [
    "### [387.easy-First Unique Character in a String](https://leetcode.com/problems/first-unique-character-in-a-string/description/)\n",
    "##### 题意: Given a string, find the first non-repeating character in it and return it's index. If it doesn't exist, return -1."
   ]
  },
  {
   "cell_type": "code",
   "execution_count": null,
   "metadata": {
    "collapsed": true
   },
   "outputs": [],
   "source": [
    "\"\"\"\n",
    "Examples:\n",
    "s = \"leetcode\"\n",
    "return 0.\n",
    "\n",
    "s = \"loveleetcode\",\n",
    "return 2.\n",
    "\"\"\""
   ]
  },
  {
   "cell_type": "code",
   "execution_count": null,
   "metadata": {
    "collapsed": true
   },
   "outputs": [],
   "source": [
    "class Solution(object):\n",
    "    def firstUniqChar(self, s):\n",
    "        \"\"\"\n",
    "        :type s: str\n",
    "        :rtype: int\n",
    "        \"\"\"\n",
    "        if not s: return -1\n",
    "        \n",
    "        dic = {}\n",
    "        for x in s:\n",
    "            dic[x] = dic.get(x,0) + 1\n",
    "            \n",
    "        for i, x in enumerate(s):\n",
    "            if dic[x] == 1:\n",
    "                return i\n",
    "        return -1"
   ]
  },
  {
   "cell_type": "markdown",
   "metadata": {},
   "source": [
    "### [43.med-Multiply Strings](https://leetcode.com/problems/multiply-strings/description/)\n",
    "##### 题意: Given two non-negative integers num1 and num2 represented as strings, return the product of num1 and num2.\n",
    "##### Note:\n",
    "* The length of both num1 and num2 is < 110.\n",
    "* Both num1 and num2 contains only digits 0-9.\n",
    "* Both num1 and num2 does not contain any leading zero.\n",
    "* You must not use any built-in BigInteger library or convert the inputs to integer directly\n",
    "\n",
    "##### 解题教程: https://leetcode.com/problems/multiply-strings/discuss/17605/Easiest-JAVA-Solution-with-Graph-Explanation\n",
    "![](https://drscdn.500px.org/photo/130178585/m%3D2048/300d71f784f679d5e70fadda8ad7d68f)"
   ]
  },
  {
   "cell_type": "code",
   "execution_count": null,
   "metadata": {
    "collapsed": true
   },
   "outputs": [],
   "source": [
    "class Solution(object):\n",
    "    def multiply(self, num1, num2):\n",
    "        \"\"\"\n",
    "        :type num1: str\n",
    "        :type num2: str\n",
    "        :rtype: str\n",
    "        \"\"\"\n",
    "        m, n = len(num1), len(num2)\n",
    "        rst = [0]*(m+n)\n",
    "        for i in xrange(m-1, -1, -1):\n",
    "            for j in xrange(n-1, -1, -1):\n",
    "                p1, p2 = i+j, i+j+1\n",
    "                s = (ord(num1[i])-ord(\"0\")) * (ord(num2[j])-ord(\"0\"))\n",
    "                s += rst[p2]\n",
    "                \n",
    "                rst[p1] += s / 10  # ❤️❤️ += 非常重要\n",
    "                rst[p2] = s % 10\n",
    "                \n",
    "        if not rst: return \"0\"  # ❤️❤️ 以防全是 0, 导致 rst 为空的例子\n",
    "                \n",
    "        for i in xrange(len(rst)):\n",
    "            rst[i] = str(rst[i])\n",
    "            \n",
    "        return str(int(\"\".join(rst))) # ❤️❤️ 去除开头的零."
   ]
  }
 ],
 "metadata": {
  "kernelspec": {
   "display_name": "Python 2",
   "language": "python",
   "name": "python2"
  },
  "language_info": {
   "codemirror_mode": {
    "name": "ipython",
    "version": 2
   },
   "file_extension": ".py",
   "mimetype": "text/x-python",
   "name": "python",
   "nbconvert_exporter": "python",
   "pygments_lexer": "ipython2",
   "version": "2.7.13"
  },
  "latex_envs": {
   "LaTeX_envs_menu_present": true,
   "autocomplete": true,
   "bibliofile": "biblio.bib",
   "cite_by": "apalike",
   "current_citInitial": 1,
   "eqLabelWithNumbers": true,
   "eqNumInitial": 1,
   "hotkeys": {
    "equation": "Ctrl-E",
    "itemize": "Ctrl-I"
   },
   "labels_anchors": false,
   "latex_user_defs": false,
   "report_style_numbering": false,
   "user_envs_cfg": false
  },
  "toc": {
   "nav_menu": {},
   "number_sections": true,
   "sideBar": true,
   "skip_h1_title": true,
   "toc_cell": true,
   "toc_position": {
    "height": "746px",
    "left": "0px",
    "right": "1084.28px",
    "top": "121px",
    "width": "234px"
   },
   "toc_section_display": "block",
   "toc_window_display": true
  }
 },
 "nbformat": 4,
 "nbformat_minor": 2
}

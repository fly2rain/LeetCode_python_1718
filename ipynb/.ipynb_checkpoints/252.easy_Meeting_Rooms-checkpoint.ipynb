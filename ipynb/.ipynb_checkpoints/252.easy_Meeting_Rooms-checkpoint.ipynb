{
 "cells": [
  {
   "cell_type": "markdown",
   "metadata": {},
   "source": [
    "# 252.easy_Meeting_Rooms\n",
    "\n",
    "### 题意\n",
    "* 题目：https://leetcode.com/problems/meeting-rooms/description/\n",
    "* 给出所有会议的时间表，回答一个人能否参加所有的会议\n",
    "\n",
    "### 分析\n",
    "* 其实比 056.medium_Merge_Intervals.ipynb 简单,\n",
    "* 解题思路：先排序，然后查看上一个会议结束时，下一个会议有没有开始\n",
    "* Note that:\n",
    "    * 通过解题，才发现如果输入 intervals 是空的，输出 True；\n",
    "    * 下一个会议的开始时间和上一个会议的结束时间相同，其实输出也是 True。\n",
    "\n",
    "### 编程经验\n",
    "\n",
    "```python\n",
    "```"
   ]
  },
  {
   "cell_type": "markdown",
   "metadata": {},
   "source": [
    "# Method #1:"
   ]
  },
  {
   "cell_type": "code",
   "execution_count": null,
   "metadata": {
    "collapsed": true
   },
   "outputs": [],
   "source": [
    "# Definition for an interval.\n",
    "# class Interval(object):\n",
    "#     def __init__(self, s=0, e=0):\n",
    "#         self.start = s\n",
    "#         self.end = e\n",
    "\n",
    "class Solution(object):\n",
    "    def canAttendMeetings(self, intervals):\n",
    "        \"\"\"\n",
    "        :type intervals: List[Interval]\n",
    "        :rtype: bool\n",
    "        \"\"\"\n",
    "        if len (intervals) == 0:\n",
    "            return True\n",
    "        \n",
    "        sortedIntervals = sorted (intervals, key=lambda i: i.start )\n",
    "        tmp = sortedIntervals[0]\n",
    "        for i in xrange (1, len(sortedIntervals)):\n",
    "            x = sortedIntervals[i]\n",
    "            \n",
    "            if tmp.end > x.start:\n",
    "                return False\n",
    "            else:\n",
    "                tmp = x\n",
    "        return True\n",
    "        "
   ]
  },
  {
   "cell_type": "markdown",
   "metadata": {},
   "source": [
    "# Method #2: 标准答案\n",
    "* https://leetcode.com/problems/meeting-rooms/discuss/67812"
   ]
  },
  {
   "cell_type": "code",
   "execution_count": null,
   "metadata": {
    "collapsed": true
   },
   "outputs": [],
   "source": [
    "class Solution(object):\n",
    "    def canAttendMeetings(self, intervals):\n",
    "        \"\"\"\n",
    "        :type intervals: List[Interval]\n",
    "        :rtype: bool\n",
    "        \"\"\"\n",
    "        intervals.sort (key=lambda x : x.start)\n",
    "        \n",
    "        for i in xrange ( 1, len(intervals) ):\n",
    "            if intervals[i-1].end > intervals[i].start:\n",
    "                return False\n",
    "            \n",
    "        return True"
   ]
  }
 ],
 "metadata": {
  "kernelspec": {
   "display_name": "Python 2",
   "language": "python",
   "name": "python2"
  },
  "language_info": {
   "codemirror_mode": {
    "name": "ipython",
    "version": 2
   },
   "file_extension": ".py",
   "mimetype": "text/x-python",
   "name": "python",
   "nbconvert_exporter": "python",
   "pygments_lexer": "ipython2",
   "version": "2.7.13"
  }
 },
 "nbformat": 4,
 "nbformat_minor": 2
}

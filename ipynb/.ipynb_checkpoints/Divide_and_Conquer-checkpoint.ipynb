{
 "cells": [
  {
   "cell_type": "markdown",
   "metadata": {
    "toc": true
   },
   "source": [
    "<h1>Table of Contents<span class=\"tocSkip\"></span></h1>\n",
    "<div class=\"toc\" style=\"margin-top: 1em;\"><ul class=\"toc-item\"><li><span><a href=\"#4.hard_Median-of-Two-Sorted-Arrays\" data-toc-modified-id=\"4.hard_Median-of-Two-Sorted-Arrays-1\"><span class=\"toc-item-num\">1&nbsp;&nbsp;</span><a href=\"https://leetcode.com/problems/median-of-two-sorted-arrays/description/\" target=\"_blank\">4.hard_Median of Two Sorted Arrays</a></a></span></li><li><span><a href=\"#23.hard_Merge-k-Sorted-Lists\" data-toc-modified-id=\"23.hard_Merge-k-Sorted-Lists-2\"><span class=\"toc-item-num\">2&nbsp;&nbsp;</span><a href=\"https://leetcode.com/problems/merge-k-sorted-lists/description/\" target=\"_blank\">23.hard_Merge k Sorted Lists</a></a></span></li><li><span><a href=\"#53.easy_Maximum-Subarray\" data-toc-modified-id=\"53.easy_Maximum-Subarray-3\"><span class=\"toc-item-num\">3&nbsp;&nbsp;</span><a href=\"https://leetcode.com/problems/maximum-subarray/description/\" target=\"_blank\">53.easy_Maximum Subarray</a></a></span></li><li><span><a href=\"#169.easy_Majority-Element\" data-toc-modified-id=\"169.easy_Majority-Element-4\"><span class=\"toc-item-num\">4&nbsp;&nbsp;</span><a href=\"https://leetcode.com/problems/majority-element/description/\" target=\"_blank\">169.easy_Majority Element</a></a></span></li><li><span><a href=\"#215.medium_Kth-Largest-Element-in-an-Array\" data-toc-modified-id=\"215.medium_Kth-Largest-Element-in-an-Array-5\"><span class=\"toc-item-num\">5&nbsp;&nbsp;</span><a href=\"https://leetcode.com/problems/kth-largest-element-in-an-array/description/\" target=\"_blank\">215.medium_Kth Largest Element in an Array</a></a></span></li><li><span><a href=\"#218.hard_The-Skyline-Problem\" data-toc-modified-id=\"218.hard_The-Skyline-Problem-6\"><span class=\"toc-item-num\">6&nbsp;&nbsp;</span><a href=\"https://leetcode.com/problems/the-skyline-problem/description/\" target=\"_blank\">218.hard_The Skyline Problem</a></a></span></li><li><span><a href=\"#240.medium_Search-a-2D-Matrix-II\" data-toc-modified-id=\"240.medium_Search-a-2D-Matrix-II-7\"><span class=\"toc-item-num\">7&nbsp;&nbsp;</span><a href=\"https://leetcode.com/problems/search-a-2d-matrix-ii/description/\" target=\"_blank\">240.medium_Search a 2D Matrix II</a></a></span></li><li><span><a href=\"#312.hard_Burst-Balloons\" data-toc-modified-id=\"312.hard_Burst-Balloons-8\"><span class=\"toc-item-num\">8&nbsp;&nbsp;</span><a href=\"https://leetcode.com/problems/burst-balloons/description/\" target=\"_blank\">312.hard_Burst Balloons</a></a></span></li><li><span><a href=\"#315.hard_Count-of-Smaller-Numbers-After-Self\" data-toc-modified-id=\"315.hard_Count-of-Smaller-Numbers-After-Self-9\"><span class=\"toc-item-num\">9&nbsp;&nbsp;</span><a href=\"https://leetcode.com/problems/count-of-smaller-numbers-after-self/description/\" target=\"_blank\">315.hard_Count of Smaller Numbers After Self</a></a></span></li></ul></div>"
   ]
  },
  {
   "cell_type": "markdown",
   "metadata": {},
   "source": [
    "# Divide and Conquer\n",
    "* 题型: [Top 100 Liked Questions + Divide and Conquer](https://leetcode.com/problemset/algorithms/?listId=79h8rn6&topicSlugs=divide-and-conquer)\n",
    "* 这个问题应该挺难的, 9 道题中, 2道 easy, 2道 medium, 5 道 hard."
   ]
  },
  {
   "cell_type": "markdown",
   "metadata": {
    "collapsed": true
   },
   "source": [
    "## [4.hard_Median of Two Sorted Arrays](https://leetcode.com/problems/median-of-two-sorted-arrays/description/)"
   ]
  },
  {
   "cell_type": "markdown",
   "metadata": {},
   "source": [
    "## [23.hard_Merge k Sorted Lists](https://leetcode.com/problems/merge-k-sorted-lists/description/)"
   ]
  },
  {
   "cell_type": "markdown",
   "metadata": {},
   "source": [
    "## [53.easy_Maximum Subarray](https://leetcode.com/problems/maximum-subarray/description/)"
   ]
  },
  {
   "cell_type": "markdown",
   "metadata": {},
   "source": [
    "## [169.easy_Majority Element](https://leetcode.com/problems/majority-element/description/)\n",
    "##### 题意\n",
    "\n",
    "##### \n"
   ]
  },
  {
   "cell_type": "markdown",
   "metadata": {},
   "source": [
    "## [215.medium_Kth Largest Element in an Array](https://leetcode.com/problems/kth-largest-element-in-an-array/description/)"
   ]
  },
  {
   "cell_type": "markdown",
   "metadata": {},
   "source": [
    "## [218.hard_The Skyline Problem](https://leetcode.com/problems/the-skyline-problem/description/)"
   ]
  },
  {
   "cell_type": "markdown",
   "metadata": {},
   "source": [
    "## [240.medium_Search a 2D Matrix II](https://leetcode.com/problems/search-a-2d-matrix-ii/description/)"
   ]
  },
  {
   "cell_type": "markdown",
   "metadata": {},
   "source": [
    "## [312.hard_Burst Balloons](https://leetcode.com/problems/burst-balloons/description/)"
   ]
  },
  {
   "cell_type": "markdown",
   "metadata": {},
   "source": [
    "## [315.hard_Count of Smaller Numbers After Self](https://leetcode.com/problems/count-of-smaller-numbers-after-self/description/)"
   ]
  },
  {
   "cell_type": "markdown",
   "metadata": {},
   "source": [
    "## "
   ]
  },
  {
   "cell_type": "markdown",
   "metadata": {},
   "source": [
    "## "
   ]
  }
 ],
 "metadata": {
  "kernelspec": {
   "display_name": "Python 2",
   "language": "python",
   "name": "python2"
  },
  "language_info": {
   "codemirror_mode": {
    "name": "ipython",
    "version": 2
   },
   "file_extension": ".py",
   "mimetype": "text/x-python",
   "name": "python",
   "nbconvert_exporter": "python",
   "pygments_lexer": "ipython2",
   "version": "2.7.13"
  },
  "toc": {
   "nav_menu": {},
   "number_sections": true,
   "sideBar": true,
   "skip_h1_title": true,
   "toc_cell": true,
   "toc_position": {
    "height": "642px",
    "left": "0px",
    "right": "1084.28px",
    "top": "67px",
    "width": "117px"
   },
   "toc_section_display": "block",
   "toc_window_display": true
  }
 },
 "nbformat": 4,
 "nbformat_minor": 2
}

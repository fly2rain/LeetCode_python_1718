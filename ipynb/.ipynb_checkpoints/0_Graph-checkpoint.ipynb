{
 "cells": [
  {
   "cell_type": "markdown",
   "metadata": {
    "toc": true
   },
   "source": [
    "<h1>Table of Contents<span class=\"tocSkip\"></span></h1>\n",
    "<div class=\"toc\" style=\"margin-top: 1em;\"><ul class=\"toc-item\"><li><span><a href=\"#3/9/2018:-Graph\" data-toc-modified-id=\"3/9/2018:-Graph-1\"><span class=\"toc-item-num\">1&nbsp;&nbsp;</span><a href=\"\" target=\"_blank\">3/9/2018: Graph</a></a></span><ul class=\"toc-item\"><li><span><a href=\"#133.-Clone-Graph\" data-toc-modified-id=\"133.-Clone-Graph-1.1\"><span class=\"toc-item-num\">1.1&nbsp;&nbsp;</span><a href=\"https://leetcode.com/problems/clone-graph/description/\" target=\"_blank\">133. Clone Graph</a></a></span></li><li><span><a href=\"#207.med-Course-Schedule\" data-toc-modified-id=\"207.med-Course-Schedule-1.2\"><span class=\"toc-item-num\">1.2&nbsp;&nbsp;</span><a href=\"https://leetcode.com/problems/course-schedule/description/\" target=\"_blank\">207.med-Course Schedule</a></a></span></li></ul></li></ul></div>"
   ]
  },
  {
   "cell_type": "markdown",
   "metadata": {},
   "source": [
    "# Graph\n",
    "* 题型: [Top 100 Liked Questions + Graph](https://leetcode.com/problemset/all/?topicSlugs=graph&listId=79h8rn6)\n",
    "* 题型: [Graph](https://leetcode.com/problemset/all/?topicSlugs=graph)"
   ]
  },
  {
   "cell_type": "markdown",
   "metadata": {},
   "source": [
    "## [3/9/2018: Graph]()"
   ]
  },
  {
   "cell_type": "markdown",
   "metadata": {},
   "source": [
    "### [133. Clone Graph](https://leetcode.com/problems/clone-graph/description/)\n",
    "##### 题意: "
   ]
  },
  {
   "cell_type": "code",
   "execution_count": 1,
   "metadata": {
    "collapsed": true
   },
   "outputs": [],
   "source": [
    "# Definition for a undirected graph node\n",
    "# class UndirectedGraphNode:\n",
    "#     def __init__(self, x):\n",
    "#         self.label = x\n",
    "#         self.neighbors = []\n",
    "\n",
    "# ❤️❤️ DFS + recursion ---------\n",
    "class Solution:\n",
    "    # @param node, a undirected graph node\n",
    "    # @return a undirected graph node\n",
    "    def cloneGraph(self, node):\n",
    "        if not node: return node\n",
    "        \n",
    "        visit = {}\n",
    "        return self.helper(visit, node)\n",
    "        \n",
    "    def helper(self, visit, node):\n",
    "        # 1 ❤️❤️两个 edge condition, 一个表示到头了, 一个表示 cycle 重复 (访问过了) ❤️❤️\n",
    "        if not node: return node\n",
    "        if node.label in visit: # ❤️ 重要的终止条件.\n",
    "            return visit[node.label]\n",
    "        \n",
    "        # 2 如果没有处理过, 则处理.\n",
    "        root = UndirectedGraphNode(node.label)\n",
    "        visit[root.label] = root\n",
    "        for x in node.neighbors: # ❤️ neighbors 总要构建的. \n",
    "            clone = self.helper(visit, x)\n",
    "            root.neighbors.append(clone)\n",
    "                \n",
    "        return root"
   ]
  },
  {
   "cell_type": "code",
   "execution_count": null,
   "metadata": {
    "collapsed": true
   },
   "outputs": [],
   "source": [
    "# Definition for a undirected graph node\n",
    "# class UndirectedGraphNode:\n",
    "#     def __init__(self, x):\n",
    "#         self.label = x\n",
    "#         self.neighbors = []\n",
    "\n",
    "# ❤️❤️ DFS + stack ---------\n",
    "class Solution:\n",
    "    # @param node, a undirected graph node\n",
    "    # @return a undirected graph node\n",
    "    def cloneGraph(self, node):\n",
    "        if not node: return node\n",
    "        \n",
    "        root = UndirectedGraphNode(node.label)\n",
    "        stack = [node] # ❤️👍️👍 表示老的 graph, 遍历顺序\n",
    "        visit = {root.label : root} # ❤️ 👍👍 新的 graph 已经遍历过的\n",
    "        \n",
    "        while stack:\n",
    "            top = stack.pop()\n",
    "            \n",
    "            for n in top.neighbors:\n",
    "                if n.label not in visit: # ❤️ 是 n.label 不在 visit 中.\n",
    "                    stack.append(n)\n",
    "                    visit[n.label] = UndirectedGraphNode(n.label)\n",
    "                # ❤️👍👍 所以不用用 top.neighbors.append() 代替.\n",
    "                visit[top.label].neighbors.append(visit[n.label]) # ❤️neighbors 总要构建的.\n",
    "        return root"
   ]
  },
  {
   "cell_type": "markdown",
   "metadata": {},
   "source": [
    "### [207.med-Course Schedule](https://leetcode.com/problems/course-schedule/description/)\n",
    "##### 题意\n",
    "##### 分析\n",
    "##### 总结"
   ]
  }
 ],
 "metadata": {
  "kernelspec": {
   "display_name": "Python 2",
   "language": "python",
   "name": "python2"
  },
  "language_info": {
   "codemirror_mode": {
    "name": "ipython",
    "version": 2
   },
   "file_extension": ".py",
   "mimetype": "text/x-python",
   "name": "python",
   "nbconvert_exporter": "python",
   "pygments_lexer": "ipython2",
   "version": "2.7.13"
  },
  "toc": {
   "nav_menu": {},
   "number_sections": true,
   "sideBar": true,
   "skip_h1_title": true,
   "toc_cell": true,
   "toc_position": {
    "height": "601px",
    "left": "0px",
    "right": "1084.28px",
    "top": "108px",
    "width": "190px"
   },
   "toc_section_display": "block",
   "toc_window_display": true
  }
 },
 "nbformat": 4,
 "nbformat_minor": 2
}

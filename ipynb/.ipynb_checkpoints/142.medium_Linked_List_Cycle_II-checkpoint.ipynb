{
 "cells": [
  {
   "cell_type": "markdown",
   "metadata": {},
   "source": [
    "# 142.medium_Linked_List_Cycle_II\n",
    "\n",
    "### 题意\n",
    "* 题目：https://leetcode.com/problems/linked-list-cycle-ii/description/\n",
    "* 给定 linked list，判断哪个 node 是 cycle 的开始。\n",
    "* 该题目比 141.easy_Linked_List_Cycle.ipynb 更难。141 是判断有没有 cycle，而 142是判断哪个 node 是 cycle 的开始。\n",
    "* 额外要求：\n",
    "    * Do not modify the linked list.\n",
    "    * Follow up: Can you solve it without using extra space?\n",
    "    \n",
    "### 分析\n",
    "* 如果允许使用额外空间，用一个 hash-table 就可以了。\n",
    "* 不允许额外空间的话，怎么处理呢？\n",
    "\n",
    "### 编程经验\n",
    "\n",
    "```python\n",
    "```"
   ]
  },
  {
   "cell_type": "markdown",
   "metadata": {},
   "source": [
    "# Method #1: Hash-Table 比较简单"
   ]
  },
  {
   "cell_type": "code",
   "execution_count": null,
   "metadata": {
    "collapsed": true
   },
   "outputs": [],
   "source": [
    "# Definition for singly-linked list.\n",
    "# class ListNode(object):\n",
    "#     def __init__(self, x):\n",
    "#         self.val = x\n",
    "#         self.next = None\n",
    "\n",
    "class Solution(object):\n",
    "    def detectCycle(self, head):\n",
    "        \"\"\"\n",
    "        :type head: ListNode\n",
    "        :rtype: ListNode\n",
    "        \"\"\"\n",
    "        dic = {}\n",
    "        p   = head\n",
    "        while p:\n",
    "            if p in dic:\n",
    "                return p\n",
    "            else:\n",
    "                dic[p] = 1\n",
    "            p = p.next\n",
    "        return None"
   ]
  },
  {
   "cell_type": "markdown",
   "metadata": {},
   "source": [
    "### 以下是 wrong answer\n",
    "* 错在不该把 把 node.val 当做 dictionary 的 key。\n",
    "* 原因：node.val 很容易出现重复，我们希望把整个 node 当做 key\n",
    "    \n",
    "#### 教训：\n",
    "* dictionary 比较复杂的数据，比如 linkednode，tuple 等都可以作为 key。"
   ]
  },
  {
   "cell_type": "code",
   "execution_count": 1,
   "metadata": {},
   "outputs": [
    {
     "ename": "IndentationError",
     "evalue": "expected an indented block (<ipython-input-1-094ea55d537f>, line 14)",
     "output_type": "error",
     "traceback": [
      "\u001b[0;36m  File \u001b[0;32m\"<ipython-input-1-094ea55d537f>\"\u001b[0;36m, line \u001b[0;32m14\u001b[0m\n\u001b[0;31m    while p:\u001b[0m\n\u001b[0m            ^\u001b[0m\n\u001b[0;31mIndentationError\u001b[0m\u001b[0;31m:\u001b[0m expected an indented block\n"
     ]
    }
   ],
   "source": [
    "class Solution(object):\n",
    "    def detectCycle(self, head):\n",
    "        \"\"\"\n",
    "        :type head: ListNode\n",
    "        :rtype: ListNode\n",
    "        \"\"\"\n",
    "        p = head\n",
    "        dic = {}\n",
    "        while p:\n",
    "            if p.val in dic:\n",
    "                return p\n",
    "            else:\n",
    "                dic[p.val] = 0\n",
    "                \n",
    "            p = p.next\n",
    "                \n",
    "        return None"
   ]
  },
  {
   "cell_type": "markdown",
   "metadata": {},
   "source": [
    "# Method #2:"
   ]
  },
  {
   "cell_type": "code",
   "execution_count": null,
   "metadata": {
    "collapsed": true
   },
   "outputs": [],
   "source": []
  }
 ],
 "metadata": {
  "kernelspec": {
   "display_name": "Python 2",
   "language": "python",
   "name": "python2"
  },
  "language_info": {
   "codemirror_mode": {
    "name": "ipython",
    "version": 2
   },
   "file_extension": ".py",
   "mimetype": "text/x-python",
   "name": "python",
   "nbconvert_exporter": "python",
   "pygments_lexer": "ipython2",
   "version": "2.7.13"
  }
 },
 "nbformat": 4,
 "nbformat_minor": 2
}

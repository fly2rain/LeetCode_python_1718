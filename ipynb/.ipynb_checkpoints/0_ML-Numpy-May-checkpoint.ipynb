{
 "cells": [
  {
   "cell_type": "markdown",
   "metadata": {
    "toc": true
   },
   "source": [
    "<h1>Table of Contents<span class=\"tocSkip\"></span></h1>\n",
    "<div class=\"toc\" style=\"margin-top: 1em;\"><ul class=\"toc-item\"><li><span><a href=\"#K-means\" data-toc-modified-id=\"K-means-1\"><span class=\"toc-item-num\">1&nbsp;&nbsp;</span><a href=\"http://jonchar.net/notebooks/k-means/\" target=\"_blank\">K-means</a></a></span></li><li><span><a href=\"#Your-First-Machine-Learning-Project-in-Python-Step-By-Step\" data-toc-modified-id=\"Your-First-Machine-Learning-Project-in-Python-Step-By-Step-2\"><span class=\"toc-item-num\">2&nbsp;&nbsp;</span><a href=\"https://machinelearningmastery.com/machine-learning-in-python-step-by-step/\" target=\"_blank\">Your First Machine Learning Project in Python Step-By-Step</a></a></span><ul class=\"toc-item\"><li><span><a href=\"#Load-The-Data\" data-toc-modified-id=\"Load-The-Data-2.1\"><span class=\"toc-item-num\">2.1&nbsp;&nbsp;</span>Load The Data</a></span><ul class=\"toc-item\"><li><span><a href=\"#Import-libraries\" data-toc-modified-id=\"Import-libraries-2.1.1\"><span class=\"toc-item-num\">2.1.1&nbsp;&nbsp;</span>Import libraries</a></span></li><li><span><a href=\"#Load-Dataset\" data-toc-modified-id=\"Load-Dataset-2.1.2\"><span class=\"toc-item-num\">2.1.2&nbsp;&nbsp;</span>Load Dataset</a></span></li></ul></li><li><span><a href=\"#Data-Visualization\" data-toc-modified-id=\"Data-Visualization-2.2\"><span class=\"toc-item-num\">2.2&nbsp;&nbsp;</span>Data Visualization</a></span></li><li><span><a href=\"#Class-Distribution\" data-toc-modified-id=\"Class-Distribution-2.3\"><span class=\"toc-item-num\">2.3&nbsp;&nbsp;</span>Class Distribution</a></span></li><li><span><a href=\"#Play-with-Pandas-and-DataFrame\" data-toc-modified-id=\"Play-with-Pandas-and-DataFrame-2.4\"><span class=\"toc-item-num\">2.4&nbsp;&nbsp;</span>Play with Pandas and DataFrame</a></span></li><li><span><a href=\"#Data-Visualization\" data-toc-modified-id=\"Data-Visualization-2.5\"><span class=\"toc-item-num\">2.5&nbsp;&nbsp;</span>Data Visualization</a></span><ul class=\"toc-item\"><li><span><a href=\"#Univariate-Plots\" data-toc-modified-id=\"Univariate-Plots-2.5.1\"><span class=\"toc-item-num\">2.5.1&nbsp;&nbsp;</span>Univariate Plots</a></span></li></ul></li><li><span><a href=\"#Evaluate-Some-Algorithms\" data-toc-modified-id=\"Evaluate-Some-Algorithms-2.6\"><span class=\"toc-item-num\">2.6&nbsp;&nbsp;</span>Evaluate Some Algorithms</a></span><ul class=\"toc-item\"><li><span><a href=\"#Create-a-Validation-Dataset\" data-toc-modified-id=\"Create-a-Validation-Dataset-2.6.1\"><span class=\"toc-item-num\">2.6.1&nbsp;&nbsp;</span>Create a Validation Dataset</a></span></li><li><span><a href=\"#Test-the-Methods\" data-toc-modified-id=\"Test-the-Methods-2.6.2\"><span class=\"toc-item-num\">2.6.2&nbsp;&nbsp;</span>Test the Methods</a></span></li><li><span><a href=\"#Build-Models\" data-toc-modified-id=\"Build-Models-2.6.3\"><span class=\"toc-item-num\">2.6.3&nbsp;&nbsp;</span>Build Models</a></span></li><li><span><a href=\"#Select-Best-Model\" data-toc-modified-id=\"Select-Best-Model-2.6.4\"><span class=\"toc-item-num\">2.6.4&nbsp;&nbsp;</span>Select Best Model</a></span></li></ul></li></ul></li><li><span><a href=\"#Minist---TF:-06/01/2018\" data-toc-modified-id=\"Minist---TF:-06/01/2018-3\"><span class=\"toc-item-num\">3&nbsp;&nbsp;</span>Minist - TF: 06/01/2018</a></span><ul class=\"toc-item\"><li><span><a href=\"#各种准备\" data-toc-modified-id=\"各种准备-3.1\"><span class=\"toc-item-num\">3.1&nbsp;&nbsp;</span>各种准备</a></span></li><li><span><a href=\"#Layers-Implementation\" data-toc-modified-id=\"Layers-Implementation-3.2\"><span class=\"toc-item-num\">3.2&nbsp;&nbsp;</span>Layers Implementation</a></span><ul class=\"toc-item\"><li><span><a href=\"#Define-input\" data-toc-modified-id=\"Define-input-3.2.1\"><span class=\"toc-item-num\">3.2.1&nbsp;&nbsp;</span>Define input</a></span></li><li><span><a href=\"#Build-the-network\" data-toc-modified-id=\"Build-the-network-3.2.2\"><span class=\"toc-item-num\">3.2.2&nbsp;&nbsp;</span>Build the network</a></span></li><li><span><a href=\"#Loss-funciton-to-be-optimized\" data-toc-modified-id=\"Loss-funciton-to-be-optimized-3.2.3\"><span class=\"toc-item-num\">3.2.3&nbsp;&nbsp;</span>Loss funciton to be optimized</a></span></li><li><span><a href=\"#Optimization-Method\" data-toc-modified-id=\"Optimization-Method-3.2.4\"><span class=\"toc-item-num\">3.2.4&nbsp;&nbsp;</span>Optimization Method</a></span></li><li><span><a href=\"#Classification-Accuracy\" data-toc-modified-id=\"Classification-Accuracy-3.2.5\"><span class=\"toc-item-num\">3.2.5&nbsp;&nbsp;</span>Classification Accuracy</a></span></li><li><span><a href=\"#Getting-the-Weights\" data-toc-modified-id=\"Getting-the-Weights-3.2.6\"><span class=\"toc-item-num\">3.2.6&nbsp;&nbsp;</span>Getting the Weights</a></span></li><li><span><a href=\"#Tensorflow-Run\" data-toc-modified-id=\"Tensorflow-Run-3.2.7\"><span class=\"toc-item-num\">3.2.7&nbsp;&nbsp;</span>Tensorflow Run</a></span></li></ul></li><li><span><a href=\"#Keras:-Sequential-Model\" data-toc-modified-id=\"Keras:-Sequential-Model-3.3\"><span class=\"toc-item-num\">3.3&nbsp;&nbsp;</span>Keras: Sequential Model</a></span></li><li><span><a href=\"#Keras:-Functional-Model\" data-toc-modified-id=\"Keras:-Functional-Model-3.4\"><span class=\"toc-item-num\">3.4&nbsp;&nbsp;</span>Keras: Functional Model</a></span></li></ul></li></ul></div>"
   ]
  },
  {
   "cell_type": "markdown",
   "metadata": {},
   "source": [
    "## [K-means](http://jonchar.net/notebooks/k-means/)\n",
    "\n",
    "The algorithm goes like this:\n",
    "* Initialize the  $k$  cluster centroids.\n",
    "* Repeat:\n",
    "    * Cluster assignment: Assign each data point to the nearest cluster centroid.\n",
    "     $$c^{(i)} = argmin_{k} \\left\\lVert x^{(i)} - \\mu_k\\right\\rVert^2$$\n",
    "    * Cluster updating: For each cluster centroid, average the locations of it's corresponding points and re-assign the centroid to that location.\n",
    "    $$\\mu_k = \\frac{1}{n}[x^{(k_1)}+x^{(k_2)}+...+x^{(k_n)}]$$"
   ]
  },
  {
   "cell_type": "code",
   "execution_count": 64,
   "metadata": {
    "collapsed": true
   },
   "outputs": [],
   "source": [
    "import numpy as np\n",
    "np.random.seed(0)\n",
    "import matplotlib.pyplot as plt\n",
    "from sklearn.datasets import make_blobs\n",
    "import numpy as np\n",
    "np.random.seed(0)\n",
    "import matplotlib"
   ]
  },
  {
   "cell_type": "code",
   "execution_count": 36,
   "metadata": {},
   "outputs": [
    {
     "data": {
      "image/png": "[encoded data removed]",
      "text/plain": [
       "<matplotlib.figure.Figure at 0x112f91a50>"
      ]
     },
     "metadata": {},
     "output_type": "display_data"
    }
   ],
   "source": [
    "# Generate dataset\n",
    "X, y = make_blobs(centers=3, n_samples=500, random_state=1)\n",
    "\n",
    "# Visualize\n",
    "fig, ax = plt.subplots(figsize=(5,4))\n",
    "ax.scatter(X[:,0], X[:,1], alpha=0.5)\n",
    "ax.set_xlabel('$x_1$')\n",
    "ax.set_ylabel('$x_2$');\n",
    "plt.show()"
   ]
  },
  {
   "cell_type": "code",
   "execution_count": 71,
   "metadata": {
    "collapsed": true
   },
   "outputs": [],
   "source": [
    "##### define the functions ---------------------\n",
    "# 1) initialize centers\n",
    "def initlize_cluster(points, k):\n",
    "    \"\"\"Initializes clusters as k randomly selected points from points.\"\"\"\n",
    "    nSmp = points.shape[0]\n",
    "    return points[np.random.randint(nSmp, size=k)] # size can be tuple or ints. \n",
    "\n",
    "# 2) Function for calculating the distance between centroids\n",
    "def get_dist(center, points):\n",
    "    \"\"\"Returns the distance the center is from each data point in points.\"\"\"\n",
    "    dist = np.linalg.norm(points - center, axis=1)  \n",
    "    return dist\n",
    "\n",
    "# 3) Now let's implement K-means using k = 3.\n",
    "def kMeans(X, k, maxIter=100):\n",
    "    nSmp, nFea = X.shape\n",
    "    # 初始化 -----\n",
    "    centers = initlize_cluster(X, k)\n",
    "    classes = np.zeros(nSmp, dtype=np.uint16)\n",
    "    dist = np.zeros((nSmp, k), dtype=np.float64)\n",
    "    \n",
    "    # Loop for the maximum number of iterations\n",
    "    for it in xrange(maxIter): \n",
    "        \n",
    "        # - Step 1: Assign all points to the nearest centroid \n",
    "        for j, c in enumerate(centers): \n",
    "            dist[:,j] = get_dist(c, X)\n",
    "            \n",
    "        # Determine class membership of each point by picking the closest centroid\n",
    "        classes = np.argmin(dist, axis=1)\n",
    "        \n",
    "        # - Step 2: update the centers \n",
    "        for j in xrange(k):\n",
    "            centers[j] = np.mean(X[classes==j], axis=0)\n",
    "    return centers, classes\n",
    "\n",
    "k = 3\n",
    "maxIter = 50\n",
    "centers, classes = kMeans(X, k, maxIter)\n",
    "# print classes"
   ]
  },
  {
   "cell_type": "code",
   "execution_count": null,
   "metadata": {
    "collapsed": true
   },
   "outputs": [],
   "source": [
    "## plot the results -----\n",
    "group_colors = [\"skyblue\", \"coral\", \"lightgreen\"]\n",
    "colors = [group_colors[j] for j in classes]\n",
    "\n",
    "fig, ax = plt.subplots(figsize=(5,4))\n",
    "ax.scatter(X[:,0], X[:,1], color=colors, alpha=0.5)\n",
    "ax.scatter(centers[:,0], centers[:,1], color=['blue', 'darkred', 'green'], marker='o', lw=2)\n",
    "ax.set_xlabel(\"$x_0$\")\n",
    "ax.set_ylabel(\"$x_1$\")\n",
    "plt.show()"
   ]
  },
  {
   "cell_type": "code",
   "execution_count": 8,
   "metadata": {},
   "outputs": [
    {
     "data": {
      "image/png": "[encoded data removed]",
      "text/plain": [
       "<matplotlib.figure.Figure at 0x111fadf90>"
      ]
     },
     "metadata": {},
     "output_type": "display_data"
    }
   ],
   "source": [
    "\"\"\"\n",
    "=================\n",
    "Multiple subplots\n",
    "=================\n",
    "\n",
    "Simple demo with multiple subplots.\n",
    "\"\"\"\n",
    "import numpy as np\n",
    "import matplotlib.pyplot as plt\n",
    "\n",
    "\n",
    "x1 = np.linspace(0.0, 5.0)\n",
    "x2 = np.linspace(0.0, 2.0)\n",
    "\n",
    "y1 = np.cos(2 * np.pi * x1) * np.exp(-x1)\n",
    "y2 = np.cos(2 * np.pi * x2)\n",
    "\n",
    "plt.subplot(2, 1, 1)\n",
    "plt.plot(x1, y1, 'o-')\n",
    "plt.title('A tale of 2 subplots')\n",
    "plt.ylabel('Damped oscillation')\n",
    "\n",
    "plt.subplot(2, 1, 2)\n",
    "plt.plot(x2, y2, '.-')\n",
    "plt.xlabel('time (s)')\n",
    "plt.ylabel('Undamped')\n",
    "\n",
    "plt.show()"
   ]
  },
  {
   "cell_type": "markdown",
   "metadata": {},
   "source": [
    "## [Your First Machine Learning Project in Python Step-By-Step](https://machinelearningmastery.com/machine-learning-in-python-step-by-step/)"
   ]
  },
  {
   "cell_type": "code",
   "execution_count": 1,
   "metadata": {},
   "outputs": [
    {
     "name": "stdout",
     "output_type": "stream",
     "text": [
      "Python: 2.7.13 |Anaconda custom (x86_64)| (default, Dec 20 2016, 23:05:08) \n",
      "[GCC 4.2.1 Compatible Apple LLVM 6.0 (clang-600.0.57)]\n",
      "Python: 2.7.13 |Anaconda custom (x86_64)| (default, Dec 20 2016, 23:05:08) \n",
      "[GCC 4.2.1 Compatible Apple LLVM 6.0 (clang-600.0.57)]\n",
      "Scipy: 0.19.0\n",
      "Numpy: 1.13.3\n",
      "Pandas: 0.20.1\n",
      "sklearn: 0.18.1\n"
     ]
    }
   ],
   "source": [
    "import sys\n",
    "print(\"Python: {}\".format(sys.version))\n",
    "print \"Python: {}\".format(sys.version) # both are great.\n",
    "\n",
    "import scipy \n",
    "print(\"Scipy: {}\".format(scipy.__version__))\n",
    "\n",
    "import numpy as np\n",
    "print(\"Numpy: {}\".format(np.__version__))\n",
    "\n",
    "import pandas\n",
    "print(\"Pandas: {}\".format(pandas.__version__))\n",
    "\n",
    "import sklearn\n",
    "print(\"sklearn: {}\".format(sklearn.__version__))"
   ]
  },
  {
   "cell_type": "markdown",
   "metadata": {},
   "source": [
    "###  Load The Data"
   ]
  },
  {
   "cell_type": "markdown",
   "metadata": {},
   "source": [
    "#### Import libraries"
   ]
  },
  {
   "cell_type": "code",
   "execution_count": 2,
   "metadata": {},
   "outputs": [],
   "source": [
    "import pandas\n",
    "import pandas as pd\n",
    "from pandas.plotting import scatter_matrix\n",
    "import matplotlib.pyplot as plt\n",
    "from sklearn import model_selection\n",
    "from sklearn.metrics import classification_report, confusion_matrix\n",
    "from sklearn.linear_model import LogisticRegression\n",
    "from sklearn.tree import DecisionTreeClassifier\n",
    "from sklearn.neighbors import KNeighborsClassifier\n",
    "from sklearn.discriminant_analysis import LinearDiscriminantAnalysis\n",
    "from sklearn.naive_bayes import GaussianNB\n",
    "from sklearn.svm import SVC"
   ]
  },
  {
   "cell_type": "markdown",
   "metadata": {},
   "source": [
    "#### Load Dataset"
   ]
  },
  {
   "cell_type": "code",
   "execution_count": 3,
   "metadata": {},
   "outputs": [],
   "source": [
    "# load dataset\n",
    "url = \"https://archive.ics.uci.edu/ml/machine-learning-databases/iris/iris.data\"\n",
    "names = ['sepal-length', 'sepal-width', 'petal-length', 'petal-width', 'class']\n",
    "dataset = pandas.read_csv(url, names=names) # name 是每一列的变量的名字."
   ]
  },
  {
   "cell_type": "markdown",
   "metadata": {},
   "source": [
    "### Data Visualization"
   ]
  },
  {
   "cell_type": "code",
   "execution_count": 4,
   "metadata": {},
   "outputs": [
    {
     "name": "stdout",
     "output_type": "stream",
     "text": [
      "(150, 5)\n",
      "<class 'pandas.core.frame.DataFrame'>\n"
     ]
    }
   ],
   "source": [
    "print dataset.shape\n",
    "print type(dataset)"
   ]
  },
  {
   "cell_type": "code",
   "execution_count": 5,
   "metadata": {},
   "outputs": [
    {
     "name": "stdout",
     "output_type": "stream",
     "text": [
      "   sepal-length  sepal-width  petal-length  petal-width        class\n",
      "0           5.1          3.5           1.4          0.2  Iris-setosa\n",
      "1           4.9          3.0           1.4          0.2  Iris-setosa\n",
      "2           4.7          3.2           1.3          0.2  Iris-setosa\n",
      "3           4.6          3.1           1.5          0.2  Iris-setosa\n",
      "4           5.0          3.6           1.4          0.2  Iris-setosa\n",
      "5           5.4          3.9           1.7          0.4  Iris-setosa\n",
      "6           4.6          3.4           1.4          0.3  Iris-setosa\n",
      "7           5.0          3.4           1.5          0.2  Iris-setosa\n",
      "8           4.4          2.9           1.4          0.2  Iris-setosa\n",
      "9           4.9          3.1           1.5          0.1  Iris-setosa\n"
     ]
    }
   ],
   "source": [
    "print dataset.head(10) # peek the first 10 samples. "
   ]
  },
  {
   "cell_type": "code",
   "execution_count": 6,
   "metadata": {},
   "outputs": [
    {
     "name": "stdout",
     "output_type": "stream",
     "text": [
      "       sepal-length  sepal-width  petal-length  petal-width\n",
      "count    150.000000   150.000000    150.000000   150.000000\n",
      "mean       5.843333     3.054000      3.758667     1.198667\n",
      "std        0.828066     0.433594      1.764420     0.763161\n",
      "min        4.300000     2.000000      1.000000     0.100000\n",
      "25%        5.100000     2.800000      1.600000     0.300000\n",
      "50%        5.800000     3.000000      4.350000     1.300000\n",
      "75%        6.400000     3.300000      5.100000     1.800000\n",
      "max        7.900000     4.400000      6.900000     2.500000\n"
     ]
    }
   ],
   "source": [
    "print dataset.describe() # ❤️❤️ 把 dataset 的各种性质都罗列, 分析出来."
   ]
  },
  {
   "cell_type": "code",
   "execution_count": null,
   "metadata": {
    "collapsed": true
   },
   "outputs": [],
   "source": []
  },
  {
   "cell_type": "code",
   "execution_count": 7,
   "metadata": {},
   "outputs": [
    {
     "name": "stdout",
     "output_type": "stream",
     "text": [
      "class\n",
      "Iris-setosa        50\n",
      "Iris-versicolor    50\n",
      "Iris-virginica     50\n",
      "dtype: int64\n"
     ]
    }
   ],
   "source": [
    "print dataset.groupby(\"class\").size() # 是根据 “class” 总结信息."
   ]
  },
  {
   "cell_type": "markdown",
   "metadata": {},
   "source": [
    "### Class Distribution"
   ]
  },
  {
   "cell_type": "markdown",
   "metadata": {},
   "source": [
    "### Play with Pandas and DataFrame"
   ]
  },
  {
   "cell_type": "code",
   "execution_count": 8,
   "metadata": {},
   "outputs": [
    {
     "data": {
      "text/html": [
       "<div>\n",
       "<style>\n",
       "    .dataframe thead tr:only-child th {\n",
       "        text-align: right;\n",
       "    }\n",
       "\n",
       "    .dataframe thead th {\n",
       "        text-align: left;\n",
       "    }\n",
       "\n",
       "    .dataframe tbody tr th {\n",
       "        vertical-align: top;\n",
       "    }\n",
       "</style>\n",
       "<table border=\"1\" class=\"dataframe\">\n",
       "  <thead>\n",
       "    <tr style=\"text-align: right;\">\n",
       "      <th></th>\n",
       "      <th>0</th>\n",
       "      <th>1</th>\n",
       "      <th>2</th>\n",
       "    </tr>\n",
       "  </thead>\n",
       "  <tbody>\n",
       "    <tr>\n",
       "      <th>count</th>\n",
       "      <td>5.000000</td>\n",
       "      <td>5.000000</td>\n",
       "      <td>5.000000</td>\n",
       "    </tr>\n",
       "    <tr>\n",
       "      <th>mean</th>\n",
       "      <td>-0.447102</td>\n",
       "      <td>0.079565</td>\n",
       "      <td>0.062584</td>\n",
       "    </tr>\n",
       "    <tr>\n",
       "      <th>std</th>\n",
       "      <td>1.344629</td>\n",
       "      <td>0.472650</td>\n",
       "      <td>1.223873</td>\n",
       "    </tr>\n",
       "    <tr>\n",
       "      <th>min</th>\n",
       "      <td>-1.908371</td>\n",
       "      <td>-0.628764</td>\n",
       "      <td>-1.436676</td>\n",
       "    </tr>\n",
       "    <tr>\n",
       "      <th>25%</th>\n",
       "      <td>-1.176732</td>\n",
       "      <td>-0.173436</td>\n",
       "      <td>-1.020531</td>\n",
       "    </tr>\n",
       "    <tr>\n",
       "      <th>50%</th>\n",
       "      <td>-0.617699</td>\n",
       "      <td>0.285809</td>\n",
       "      <td>0.519838</td>\n",
       "    </tr>\n",
       "    <tr>\n",
       "      <th>75%</th>\n",
       "      <td>-0.200968</td>\n",
       "      <td>0.446148</td>\n",
       "      <td>0.897778</td>\n",
       "    </tr>\n",
       "    <tr>\n",
       "      <th>max</th>\n",
       "      <td>1.668261</td>\n",
       "      <td>0.468065</td>\n",
       "      <td>1.352511</td>\n",
       "    </tr>\n",
       "  </tbody>\n",
       "</table>\n",
       "</div>"
      ],
      "text/plain": [
       "              0         1         2\n",
       "count  5.000000  5.000000  5.000000\n",
       "mean  -0.447102  0.079565  0.062584\n",
       "std    1.344629  0.472650  1.223873\n",
       "min   -1.908371 -0.628764 -1.436676\n",
       "25%   -1.176732 -0.173436 -1.020531\n",
       "50%   -0.617699  0.285809  0.519838\n",
       "75%   -0.200968  0.446148  0.897778\n",
       "max    1.668261  0.468065  1.352511"
      ]
     },
     "execution_count": 8,
     "metadata": {},
     "output_type": "execute_result"
    }
   ],
   "source": [
    "# play with \"pandas\" and \"DataFrame\"\n",
    "from pandas import DataFrame\n",
    "df = DataFrame(np.random.randn(5, 3))\n",
    "df.describe()"
   ]
  },
  {
   "cell_type": "markdown",
   "metadata": {},
   "source": [
    "###  Data Visualization"
   ]
  },
  {
   "cell_type": "markdown",
   "metadata": {},
   "source": [
    "#### Univariate Plots"
   ]
  },
  {
   "cell_type": "code",
   "execution_count": 9,
   "metadata": {},
   "outputs": [
    {
     "data": {
      "image/png": "[encoded data removed]",
      "text/plain": [
       "<matplotlib.figure.Figure at 0x11875fd90>"
      ]
     },
     "metadata": {},
     "output_type": "display_data"
    }
   ],
   "source": [
    "# box and whisker plots\n",
    "dataset.plot(kind=\"box\", subplots=True, layout=(2,2), sharex=False, sharey=False)\n",
    "plt.show()"
   ]
  },
  {
   "cell_type": "code",
   "execution_count": 10,
   "metadata": {},
   "outputs": [
    {
     "data": {
      "image/png": "[encoded data removed]",
      "text/plain": [
       "<matplotlib.figure.Figure at 0x11903d050>"
      ]
     },
     "metadata": {},
     "output_type": "display_data"
    }
   ],
   "source": [
    "# histograms\n",
    "dataset.hist()\n",
    "plt.show()"
   ]
  },
  {
   "cell_type": "code",
   "execution_count": 11,
   "metadata": {},
   "outputs": [
    {
     "data": {
      "image/png": "[encoded data removed]",
      "text/plain": [
       "<matplotlib.figure.Figure at 0x119555810>"
      ]
     },
     "metadata": {},
     "output_type": "display_data"
    }
   ],
   "source": [
    "# scatter plot matrix\n",
    "scatter_matrix(dataset)\n",
    "plt.show()"
   ]
  },
  {
   "cell_type": "markdown",
   "metadata": {},
   "source": [
    "### Evaluate Some Algorithms"
   ]
  },
  {
   "cell_type": "markdown",
   "metadata": {},
   "source": [
    "#### Create a Validation Dataset"
   ]
  },
  {
   "cell_type": "code",
   "execution_count": 12,
   "metadata": {},
   "outputs": [],
   "source": [
    "# split out validataion dataset\n",
    "array = dataset.values # 没有括号\n",
    "X = array[:, 0:4]\n",
    "Y = array[:, 4]\n",
    "validataion_size = 0.20\n",
    "seed = 7\n",
    "Xtr, Xvali, Ytr, Yvali = model_selection.train_test_split(X, Y, \\\n",
    "                        test_size=validataion_size, random_state=seed)"
   ]
  },
  {
   "cell_type": "markdown",
   "metadata": {},
   "source": [
    "#### Test the Methods"
   ]
  },
  {
   "cell_type": "code",
   "execution_count": 13,
   "metadata": {
    "collapsed": true
   },
   "outputs": [],
   "source": [
    "# Test options and evalution metric\n",
    "seed = 7\n",
    "scoring = \"accuracy\""
   ]
  },
  {
   "cell_type": "markdown",
   "metadata": {},
   "source": [
    "#### Build Models"
   ]
  },
  {
   "cell_type": "code",
   "execution_count": 3,
   "metadata": {},
   "outputs": [
    {
     "ename": "NameError",
     "evalue": "name 'LinearDiscriminantAnalysis' is not defined",
     "output_type": "error",
     "traceback": [
      "\u001b[0;31m---------------------------------------------------------------------------\u001b[0m",
      "\u001b[0;31mNameError\u001b[0m                                 Traceback (most recent call last)",
      "\u001b[0;32m<ipython-input-3-338fff5cd88a>\u001b[0m in \u001b[0;36m<module>\u001b[0;34m()\u001b[0m\n\u001b[1;32m      4\u001b[0m \u001b[0mmodels\u001b[0m \u001b[0;34m=\u001b[0m \u001b[0;34m[\u001b[0m\u001b[0;34m]\u001b[0m\u001b[0;34m\u001b[0m\u001b[0m\n\u001b[1;32m      5\u001b[0m \u001b[0mmodels\u001b[0m\u001b[0;34m.\u001b[0m\u001b[0mappend\u001b[0m\u001b[0;34m(\u001b[0m\u001b[0;34m(\u001b[0m\u001b[0;34m\"LR\"\u001b[0m\u001b[0;34m,\u001b[0m \u001b[0mLogisticRegression\u001b[0m\u001b[0;34m(\u001b[0m\u001b[0;34m)\u001b[0m\u001b[0;34m)\u001b[0m\u001b[0;34m)\u001b[0m\u001b[0;34m\u001b[0m\u001b[0m\n\u001b[0;32m----> 6\u001b[0;31m \u001b[0mmodels\u001b[0m\u001b[0;34m.\u001b[0m\u001b[0mappend\u001b[0m\u001b[0;34m(\u001b[0m\u001b[0;34m(\u001b[0m\u001b[0;34m\"LDA\"\u001b[0m\u001b[0;34m,\u001b[0m \u001b[0mLinearDiscriminantAnalysis\u001b[0m\u001b[0;34m(\u001b[0m\u001b[0;34m)\u001b[0m\u001b[0;34m)\u001b[0m\u001b[0;34m)\u001b[0m\u001b[0;34m\u001b[0m\u001b[0m\n\u001b[0m\u001b[1;32m      7\u001b[0m \u001b[0mmodels\u001b[0m\u001b[0;34m.\u001b[0m\u001b[0mappend\u001b[0m\u001b[0;34m(\u001b[0m\u001b[0;34m(\u001b[0m\u001b[0;34m\"KNN\"\u001b[0m\u001b[0;34m,\u001b[0m \u001b[0mKNeighborsClassifier\u001b[0m\u001b[0;34m(\u001b[0m\u001b[0;34m)\u001b[0m\u001b[0;34m)\u001b[0m\u001b[0;34m)\u001b[0m\u001b[0;34m\u001b[0m\u001b[0m\n\u001b[1;32m      8\u001b[0m \u001b[0mmodels\u001b[0m\u001b[0;34m.\u001b[0m\u001b[0mappend\u001b[0m\u001b[0;34m(\u001b[0m\u001b[0;34m(\u001b[0m\u001b[0;34m\"DecisionTree\"\u001b[0m\u001b[0;34m,\u001b[0m \u001b[0mDecisionTreeClassifier\u001b[0m\u001b[0;34m(\u001b[0m\u001b[0;34m)\u001b[0m\u001b[0;34m)\u001b[0m\u001b[0;34m)\u001b[0m\u001b[0;34m\u001b[0m\u001b[0m\n",
      "\u001b[0;31mNameError\u001b[0m: name 'LinearDiscriminantAnalysis' is not defined"
     ]
    }
   ],
   "source": [
    "# The methods to be checked\n",
    "models = []\n",
    "models.append((\"LR\", LogisticRegression()))\n",
    "models.append((\"LDA\", LinearDiscriminantAnalysis()))\n",
    "models.append((\"KNN\", KNeighborsClassifier()))\n",
    "models.append((\"DecisionTree\", DecisionTreeClassifier()))\n",
    "models.append((\"NB\", GaussianNB()))\n",
    "models.append((\"SVM\", SVC()))"
   ]
  },
  {
   "cell_type": "code",
   "execution_count": null,
   "metadata": {},
   "outputs": [],
   "source": [
    "# evaluate each model in turn\n",
    "rsts = []\n",
    "names = []\n",
    "for name, model in models:\n",
    "    kfold = model_selection.KFold(n_splits=10, random_state=seed)\n",
    "    cv_rst = model_selection.cross_val_score(model, Xtr, Ytr, \\\n",
    "                                cv=kfold, scoring=scoring)\n",
    "    rsts.append(cv_rst)\n",
    "    names.append(name)\n",
    "    msg = \"%s: %f (%f)\" % (name, cv_rst.mean(), cv_rst.std())\n",
    "    print msg"
   ]
  },
  {
   "cell_type": "markdown",
   "metadata": {},
   "source": [
    "#### Select Best Model"
   ]
  },
  {
   "cell_type": "code",
   "execution_count": null,
   "metadata": {
    "collapsed": true
   },
   "outputs": [],
   "source": [
    "# compare the algorithms\n",
    "fig = plt.figure()\n",
    "fig.suptitle(\"Algorithm Comparison\")"
   ]
  },
  {
   "cell_type": "markdown",
   "metadata": {},
   "source": [
    "## Minist - TF: 06/01/2018"
   ]
  },
  {
   "cell_type": "markdown",
   "metadata": {},
   "source": [
    "### 各种准备"
   ]
  },
  {
   "cell_type": "code",
   "execution_count": null,
   "metadata": {
    "collapsed": true
   },
   "outputs": [],
   "source": [
    "### 提前准备\n",
    "# 1 import the packages \n",
    "import matplotlib.pyplot as plt\n",
    "import tensorflow as tf\n",
    "import numpy as np\n",
    "import mat\n",
    "\n",
    "# 2 import the tensorflow and keras\n",
    "from tensorflow.python.keras.models import Sequential\n",
    "from tensorflow.python.keras.layers import InputLayer, Input\n",
    "from tensorflow.python.keras.layers import Reshape, MaxPooling2D\n",
    "from tensorflow.python.keras.layers import Conv2D, Dense, Flatten\n",
    "\n",
    "# 3 check versions\n",
    "print tf.__version__\n",
    "print tf.keras.__version__"
   ]
  },
  {
   "cell_type": "code",
   "execution_count": null,
   "metadata": {
    "collapsed": true
   },
   "outputs": [],
   "source": [
    "### load datasets\n",
    "from tensorflow.examples.tutorials.minist import input_data\n",
    "data = input_data.read_data_sets(\"data/MNIST/\", one_hot=True)\n",
    "\n",
    "print \"Size of: \"\n",
    "print \"- Training-set:\\t\\t{}\".format(len(data.train.labels))\n",
    "print \"- Test-set:\\t\\t{}\".format(len(data.test.labels))\n",
    "print \"- Validation-set:\\t\\t{}\".format(len(data.validation.labels))\n",
    "\n",
    "data.test.cls = np.argmax(data.test.labels, axis=1) # data 是一个 class 或 struct 的结构."
   ]
  },
  {
   "cell_type": "code",
   "execution_count": 4,
   "metadata": {
    "collapsed": true
   },
   "outputs": [],
   "source": [
    "### Data Dimensions\n",
    "num_classes = 10\n",
    "img_size = 28\n",
    "num_channels = 1\n",
    "img_size_flat = img_size * img_size\n",
    "img_shape = (img_size, img_size, num_channels)"
   ]
  },
  {
   "cell_type": "markdown",
   "metadata": {},
   "source": [
    "### Layers Implementation"
   ]
  },
  {
   "cell_type": "markdown",
   "metadata": {},
   "source": [
    "#### Define input"
   ]
  },
  {
   "cell_type": "code",
   "execution_count": null,
   "metadata": {
    "collapsed": true
   },
   "outputs": [],
   "source": [
    "# define the placeholder varibles\n",
    "x = tf.placeholder(tf.float32, shape=[None, img_size_flat], name=\"x\")\n",
    "x_image = tf.reshape(x, [-1, img_size, img_size, num_channels])\n",
    "\n",
    "y_true = tf.placeholder(tf.float32, shape=[None, num_classes], name=\"y_true\")\n",
    "y_true_cls = tf.argmax(y_true, dimension=1)"
   ]
  },
  {
   "cell_type": "markdown",
   "metadata": {},
   "source": [
    "#### Build the network"
   ]
  },
  {
   "cell_type": "code",
   "execution_count": null,
   "metadata": {
    "collapsed": true
   },
   "outputs": [],
   "source": [
    "### 构建 Layers Network\n",
    "# 1: input layer (input image)\n",
    "net = x_image\n",
    "\n",
    "# 2: first conv2d \n",
    "# easy to pull out a reference to a layer.\n",
    "net = tf.layers.conv2d(input=net, name=\"layer_conv1\", padding=\"same\", \\\n",
    "                      filters=16, kernel_size=5, activiation=tf.nn.relu)\n",
    "layer_conv1 = net\n",
    "\n",
    "# 3: pooling\n",
    "net = tf.max_pooling2d(input=net, pool_size=2, strides=2)\n",
    "\n",
    "# 4: second conv2d\n",
    "net = tf.layers.conv2d(input=net, name=\"lay_conv2\", padding=\"same\", \\\n",
    "                      filters=36, kernel_size=5, activiation=tf.nn.relu)\n",
    "layer_conv2 = net\n",
    "\n",
    "# 5: fully connected layer - 1st\n",
    "net = tf.layers.flatten(net)\n",
    "net = tf.layers.dense(input=net, name=\"layer_fc1\", \\\n",
    "                      units=128, activiation=tf.nn.relu)\n",
    "\n",
    "# 6: fully connected layer (output layer)\n",
    "net = tf.layers.dense(input=net, name=\"layer_fc_out\", \\\n",
    "                     units=num_classes, activiation=None) #❤️最后一层不需要激活函数\n",
    "\n",
    "\n",
    "logits = net\n",
    "y_pred = tf.nn.softmax(logits=logits)\n",
    "y_pred_cls = tf.argmax(y_pred, dimension=1)"
   ]
  },
  {
   "cell_type": "markdown",
   "metadata": {},
   "source": [
    "#### Loss funciton to be optimized"
   ]
  },
  {
   "cell_type": "code",
   "execution_count": null,
   "metadata": {
    "collapsed": true
   },
   "outputs": [],
   "source": [
    "cross_entropy = tf.nn.cross_entropy_with_logits(label=y_true, logits=logits)\n",
    "loss = tf.reduce_mean(cross_entropy)"
   ]
  },
  {
   "cell_type": "markdown",
   "metadata": {},
   "source": [
    "#### Optimization Method"
   ]
  },
  {
   "cell_type": "code",
   "execution_count": null,
   "metadata": {
    "collapsed": true
   },
   "outputs": [],
   "source": [
    "optimizer = tf.train.AdamOptimizer(learning_rate=1e-4).minimize(loss)"
   ]
  },
  {
   "cell_type": "markdown",
   "metadata": {},
   "source": [
    "#### Classification Accuracy"
   ]
  },
  {
   "cell_type": "code",
   "execution_count": null,
   "metadata": {
    "collapsed": true
   },
   "outputs": [],
   "source": [
    "# ❤️ 这块和 np 的操作不一样, np 的操作简单, 但效率不高.\n",
    "correct_prediction = tf.equal(y_pred_cls, y_true_cls)\n",
    "# \n",
    "accuracy = tf.reduce_mean(tf.cast(correct_prediction, tf.float32))"
   ]
  },
  {
   "cell_type": "markdown",
   "metadata": {},
   "source": [
    "#### Getting the Weights"
   ]
  },
  {
   "cell_type": "code",
   "execution_count": null,
   "metadata": {
    "collapsed": true
   },
   "outputs": [],
   "source": [
    "for var in tf.get_collections(tf.GraphKeys.GLOBAL_VARIABLES):\n",
    "    print var\n",
    "    \n",
    "def get_weights_varible(layer_name):\n",
    "    with tf.varible_scope(layer_name, reuse=True):\n",
    "        varible = tf.get_varible(\"kernel\")\n",
    "        \n",
    "        \n",
    "weight_conv1 = get_weights_varible(layer_name=\"layer_conv1\")\n",
    "weight_conv2 = get_weights_varible(layer_name=\"layer_conv2\")"
   ]
  },
  {
   "cell_type": "markdown",
   "metadata": {},
   "source": [
    "#### Tensorflow Run"
   ]
  },
  {
   "cell_type": "code",
   "execution_count": null,
   "metadata": {
    "collapsed": true
   },
   "outputs": [],
   "source": [
    "with tf.Session() as sess:\n",
    "    sess.run(tf.global_varible_initializer())\n"
   ]
  },
  {
   "cell_type": "markdown",
   "metadata": {},
   "source": [
    "### Keras: Sequential Model"
   ]
  },
  {
   "cell_type": "markdown",
   "metadata": {},
   "source": [
    "### Keras: Functional Model"
   ]
  }
 ],
 "metadata": {
  "kernelspec": {
   "display_name": "Python 2",
   "language": "python",
   "name": "python2"
  },
  "language_info": {
   "codemirror_mode": {
    "name": "ipython",
    "version": 2
   },
   "file_extension": ".py",
   "mimetype": "text/x-python",
   "name": "python",
   "nbconvert_exporter": "python",
   "pygments_lexer": "ipython2",
   "version": "2.7.13"
  },
  "latex_envs": {
   "LaTeX_envs_menu_present": true,
   "autocomplete": true,
   "bibliofile": "biblio.bib",
   "cite_by": "apalike",
   "current_citInitial": 1,
   "eqLabelWithNumbers": true,
   "eqNumInitial": 1,
   "hotkeys": {
    "equation": "Ctrl-E",
    "itemize": "Ctrl-I"
   },
   "labels_anchors": false,
   "latex_user_defs": false,
   "report_style_numbering": false,
   "user_envs_cfg": false
  },
  "toc": {
   "nav_menu": {},
   "number_sections": true,
   "sideBar": true,
   "skip_h1_title": true,
   "toc_cell": true,
   "toc_position": {
    "height": "707px",
    "left": "0px",
    "right": "960.369px",
    "top": "73px",
    "width": "162px"
   },
   "toc_section_display": "block",
   "toc_window_display": true
  }
 },
 "nbformat": 4,
 "nbformat_minor": 2
}

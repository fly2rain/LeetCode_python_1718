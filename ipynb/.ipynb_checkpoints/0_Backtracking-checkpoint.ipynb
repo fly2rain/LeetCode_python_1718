{
 "cells": [
  {
   "cell_type": "markdown",
   "metadata": {
    "toc": true
   },
   "source": [
    "<h1>Table of Contents<span class=\"tocSkip\"></span></h1>\n",
    "<div class=\"toc\" style=\"margin-top: 1em;\"><ul class=\"toc-item\"><li><span><a href=\"#基础知识\" data-toc-modified-id=\"基础知识-1\"><span class=\"toc-item-num\">1&nbsp;&nbsp;</span>基础知识</a></span><ul class=\"toc-item\"><li><span><a href=\"#题型要点总结:\" data-toc-modified-id=\"题型要点总结:-1.1\"><span class=\"toc-item-num\">1.1&nbsp;&nbsp;</span>题型要点总结:</a></span></li><li><span><a href=\"#排列-permutation:-顺序很重要\" data-toc-modified-id=\"排列-permutation:-顺序很重要-1.2\"><span class=\"toc-item-num\">1.2&nbsp;&nbsp;</span><a href=\"https://www.youtube.com/watch?v=zIY2BWdsbFs\" target=\"_blank\">排列 permutation: 顺序很重要</a></a></span></li><li><span><a href=\"#组合-combination:-顺序不重要\" data-toc-modified-id=\"组合-combination:-顺序不重要-1.3\"><span class=\"toc-item-num\">1.3&nbsp;&nbsp;</span><a href=\"https://www.youtube.com/watch?v=zIY2BWdsbFs\" target=\"_blank\">组合 combination: 顺序不重要</a></a></span></li></ul></li><li><span><a href=\"#2/19\" data-toc-modified-id=\"2/19-2\"><span class=\"toc-item-num\">2&nbsp;&nbsp;</span><a href=\"\" target=\"_blank\">2/19</a></a></span><ul class=\"toc-item\"><li><span><a href=\"#22.med-Generate-Parentheses\" data-toc-modified-id=\"22.med-Generate-Parentheses-2.1\"><span class=\"toc-item-num\">2.1&nbsp;&nbsp;</span><a href=\"https://leetcode.com/problems/generate-parentheses/description/\" target=\"_blank\">22.med-Generate Parentheses</a></a></span></li><li><span><a href=\"#46.med-Permutations\" data-toc-modified-id=\"46.med-Permutations-2.2\"><span class=\"toc-item-num\">2.2&nbsp;&nbsp;</span><a href=\"https://leetcode.com/problems/permutations/description/\" target=\"_blank\">46.med-Permutations</a></a></span></li><li><span><a href=\"#❤️47.med-Permutations-II\" data-toc-modified-id=\"❤️47.med-Permutations-II-2.3\"><span class=\"toc-item-num\">2.3&nbsp;&nbsp;</span><a href=\"https://leetcode.com/problems/permutations-ii/description/\" target=\"_blank\">❤️47.med-Permutations II</a></a></span></li><li><span><a href=\"#❤️78.med-Subsets\" data-toc-modified-id=\"❤️78.med-Subsets-2.4\"><span class=\"toc-item-num\">2.4&nbsp;&nbsp;</span><a href=\"https://leetcode.com/problems/subsets/description/\" target=\"_blank\">❤️78.med-Subsets</a></a></span></li><li><span><a href=\"#90.med-Subsets-II\" data-toc-modified-id=\"90.med-Subsets-II-2.5\"><span class=\"toc-item-num\">2.5&nbsp;&nbsp;</span><a href=\"https://leetcode.com/problems/subsets-ii/description/\" target=\"_blank\">90.med-Subsets II</a></a></span></li><li><span><a href=\"#39.med-Combination-Sum\" data-toc-modified-id=\"39.med-Combination-Sum-2.6\"><span class=\"toc-item-num\">2.6&nbsp;&nbsp;</span><a href=\"https://leetcode.com/problems/combination-sum/description/\" target=\"_blank\">39.med-Combination Sum</a></a></span></li><li><span><a href=\"#40.med-Combination-Sum-II\" data-toc-modified-id=\"40.med-Combination-Sum-II-2.7\"><span class=\"toc-item-num\">2.7&nbsp;&nbsp;</span><a href=\"https://leetcode.com/problems/combination-sum-ii/description/\" target=\"_blank\">40.med-Combination Sum II</a></a></span></li><li><span><a href=\"#216.med-Combination-Sum-III\" data-toc-modified-id=\"216.med-Combination-Sum-III-2.8\"><span class=\"toc-item-num\">2.8&nbsp;&nbsp;</span><a href=\"https://leetcode.com/problems/combination-sum-iii/description/\" target=\"_blank\">216.med-Combination Sum III</a></a></span></li><li><span><a href=\"#❤️377.med-Combination-Sum-IV\" data-toc-modified-id=\"❤️377.med-Combination-Sum-IV-2.9\"><span class=\"toc-item-num\">2.9&nbsp;&nbsp;</span><a href=\"https://leetcode.com/problems/combination-sum-iv/description/\" target=\"_blank\">❤️377.med-Combination Sum IV</a></a></span></li></ul></li><li><span><a href=\"#2/20\" data-toc-modified-id=\"2/20-3\"><span class=\"toc-item-num\">3&nbsp;&nbsp;</span><a href=\"\" target=\"_blank\">2/20</a></a></span><ul class=\"toc-item\"><li><span><a href=\"#79.med-Word-Search\" data-toc-modified-id=\"79.med-Word-Search-3.1\"><span class=\"toc-item-num\">3.1&nbsp;&nbsp;</span><a href=\"https://leetcode.com/problems/word-search/description/\" target=\"_blank\">79.med-Word Search</a></a></span></li><li><span><a href=\"#❤️212.hard-Word-Search-II\" data-toc-modified-id=\"❤️212.hard-Word-Search-II-3.2\"><span class=\"toc-item-num\">3.2&nbsp;&nbsp;</span><a href=\"https://leetcode.com/problems/word-search-ii/description/\" target=\"_blank\">❤️212.hard-Word Search II</a></a></span></li><li><span><a href=\"#17.med-Letter-Combinations-of-a-Phone-Number\" data-toc-modified-id=\"17.med-Letter-Combinations-of-a-Phone-Number-3.3\"><span class=\"toc-item-num\">3.3&nbsp;&nbsp;</span><a href=\"https://leetcode.com/problems/letter-combinations-of-a-phone-number/description/\" target=\"_blank\">17.med-Letter Combinations of a Phone Number</a></a></span></li></ul></li></ul></div>"
   ]
  },
  {
   "cell_type": "markdown",
   "metadata": {},
   "source": [
    "# Divide and Conquer\n",
    "* 题型: [Top 100 Liked Questions + Backtracking](https://leetcode.com/problemset/algorithms/?topicSlugs=backtracking&listId=79h8rn6)\n",
    "* 题型: [Backtracking](https://leetcode.com/tag/backtracking/)"
   ]
  },
  {
   "cell_type": "markdown",
   "metadata": {},
   "source": [
    "## 基础知识\n",
    "### 题型要点总结:\n",
    "* combination 比 permutation 多了一个记录起始位置的变量 s:\n",
    "    * combination 需要 ```d, s, n```. \n",
    "    * permutation 需要 ```d, n```. \n",
    "* combination 和 permutation 相比, for 循环的区别:\n",
    "    * combination: ```for i in xrange(s, n):```\n",
    "    * permutation: \n",
    "        * ```for i in xrange(n)```, \n",
    "        * 然后多了一个检查使用过与否的变量 ```if used[i]: continue```\n",
    "* permutation 为了避免重复元素, 需要对 nums sort, 然后多出一个条件\n",
    "    * ```if i > 0 and nums[i] == nums[i-1] and not used[i-1]: conitnue```\n",
    "* combination 为了避免重复元素, 需要对 nums sort, 然后多出一个条件:\n",
    "    * ```if i > s and nums[i] == nums[i-1]: continue```\n",
    "    \n",
    "* Combination sum to a target:\n",
    "    * 如果 nums 元素全不是 positive 的, 可以要求每个元素可以使用无数次, 可以通过 nums[i] > target 退出. 为了更好的剪枝, 对 nums sort 一下.\n",
    "    * 如果 nums 没有全部 positive, 则只能通过数 d == n 来返回."
   ]
  },
  {
   "cell_type": "markdown",
   "metadata": {},
   "source": [
    "### [排列 permutation: 顺序很重要](https://www.youtube.com/watch?v=zIY2BWdsbFs)"
   ]
  },
  {
   "cell_type": "code",
   "execution_count": 77,
   "metadata": {},
   "outputs": [
    {
     "name": "stdout",
     "output_type": "stream",
     "text": [
      "[[1, 2, 3], [1, 3, 2], [2, 1, 3], [2, 3, 1], [3, 1, 2], [3, 2, 1]]\n"
     ]
    }
   ],
   "source": [
    "def permutation(nums):\n",
    "    if not nums: return []\n",
    "    \n",
    "    n, rst = len(nums), []\n",
    "    # P(nums, n, 0, rst, [], [False]*n)\n",
    "    P2(nums, n, 0, rst, [])\n",
    "    return rst\n",
    "    \n",
    "def P(nums, n, d, rst, cur, used): # ❤️❤️ P(n, d), n 是表示目标深度 ❤️❤️\n",
    "    if n == d: # ❤️ depth, 关键在这里 dfs 剪枝\n",
    "        rst.append(cur[:])\n",
    "        return \n",
    "    \n",
    "    for i in xrange(len(nums)): # ❎ 注意这类是 len(nums), 不是 n.\n",
    "        if used[i]: continue # use a boolen array to record used or not\n",
    "            \n",
    "        used[i] = True\n",
    "        cur.append(nums[i])\n",
    "        P(nums, n, d+1, rst, cur, used)\n",
    "        cur.pop()\n",
    "        used[i] = False\n",
    "        \n",
    "def P2(nums, n, d, rst, cur):\n",
    "    if n == d: \n",
    "        rst.append(cur[:])\n",
    "        return \n",
    "    \n",
    "    for i in xrange(len(nums)):\n",
    "        if nums[i]==\"#\": continue\n",
    "            \n",
    "        x = nums[i] # ❤️ 巧妙的方法避免额外空间, 用于标记 used or not.\n",
    "        nums[i] = \"#\" # ❤️ 只是觉得 nums 很短, 没有必要这么做. \n",
    "        cur.append(x)\n",
    "        P2(nums, n, d+1, rst, cur)\n",
    "        cur.pop()\n",
    "        nums[i] = x # ❤️ 巧妙的方法避免额外空间, 用于标记 used or not.\n",
    "        \n",
    "########## Testing ############\n",
    "print permutation([1,2,3])\n",
    "\n",
    "# rst = []\n",
    "# P([1,2,3], 2, 0, rst, [], [False]*3) # P_n^2 的情况\n",
    "# print rst"
   ]
  },
  {
   "cell_type": "markdown",
   "metadata": {},
   "source": [
    "### [组合 combination: 顺序不重要](https://www.youtube.com/watch?v=zIY2BWdsbFs)"
   ]
  },
  {
   "cell_type": "code",
   "execution_count": 32,
   "metadata": {},
   "outputs": [
    {
     "name": "stdout",
     "output_type": "stream",
     "text": [
      "[[1, 2], [1, 3], [2, 3]]\n"
     ]
    }
   ],
   "source": [
    "# C_len(nums)^n\n",
    "def C(nums, n, d, s, cur, rst):\n",
    "    if n == d: # ❤️❤️ 剪枝的关键\n",
    "        rst.append(cur[:])\n",
    "        return\n",
    "        \n",
    "    for i in xrange(s, len(nums)): # ❤️❤️ 和 permutation 的区别, 从 s 开始\n",
    "        cur.append(nums[i])\n",
    "        C(nums, n, d+1, i+1, cur, rst) # ❎ 错在 s+1, 这里需要 i+1.\n",
    "        cur.pop()\n",
    "        \n",
    "########### Testing ############\n",
    "rst = []\n",
    "C([1,2,3], 2, 0, 0, [], rst)\n",
    "print rst"
   ]
  },
  {
   "cell_type": "code",
   "execution_count": 34,
   "metadata": {},
   "outputs": [
    {
     "name": "stdout",
     "output_type": "stream",
     "text": [
      "[[], [1], [1, 2], [1, 2, 3], [1, 3], [2], [2, 3], [3]]\n"
     ]
    }
   ],
   "source": [
    "# combination 的所有 subset\n",
    "def C(nums, d, s, cur, rst):\n",
    "    if d <= len(nums): # ❤️ s 能够起到 basic case 的作用, s >= len(nums) 则不会进入 for 循环, 退出.\n",
    "        rst.append(cur[:]) # ❎ 错在多了一个 return, 其实不能有 return 了. 否则永远只有输出 [[]]\n",
    "    \n",
    "    for i in xrange(s, len(nums)):\n",
    "        cur.append(nums[i])\n",
    "        C(nums, d+1, i+1, cur, rst)\n",
    "        cur.pop()\n",
    "\n",
    "########### Testing ############\n",
    "rst = []\n",
    "C([1,2,3], 0, 0, [], rst)\n",
    "print rst        "
   ]
  },
  {
   "cell_type": "code",
   "execution_count": 35,
   "metadata": {},
   "outputs": [
    {
     "name": "stdout",
     "output_type": "stream",
     "text": [
      "[[], [1], [2], [3], [1, 2], [1, 3], [2, 3], [1, 2, 3]]\n"
     ]
    }
   ],
   "source": [
    "# combination 的所有 subset, 并且按照size 从小到大输出. 没有其他条件的花和上述结果一样. 但是有\n",
    "# sum = target 等复杂条件, 效果就不一样了.\n",
    "def C(nums, n, d, s, cur, rst):\n",
    "    if d == n: # ❤️❤️ dfs 剪枝的条件.\n",
    "        rst.append(cur[:]) # ❎ 错在多了一个 return, 其实不能有 return 了. 否则永远只有输出 [[]]\n",
    "        return\n",
    "    \n",
    "    for i in xrange(s, len(nums)):\n",
    "        cur.append(nums[i])\n",
    "        C(nums, n, d+1, i+1, cur, rst)\n",
    "        cur.pop()\n",
    "        \n",
    "def combination(nums):\n",
    "    if not nums: return []\n",
    "    \n",
    "    nn, rst = len(nums), []\n",
    "    for i in xrange(0, nn+1): # ❤️ 按照 size, 从小到大调用 ❤️ 漂亮\n",
    "        C(nums, i, 0, 0, [], rst)\n",
    "    return rst\n",
    "        \n",
    "\n",
    "########### Testing ############\n",
    "print combination([1,2,3])        "
   ]
  },
  {
   "cell_type": "markdown",
   "metadata": {},
   "source": [
    "## [2/19]()"
   ]
  },
  {
   "cell_type": "markdown",
   "metadata": {},
   "source": [
    "### [22.med-Generate Parentheses](https://leetcode.com/problems/generate-parentheses/description/)\n",
    "##### 题意: Given $n$ pairs of parentheses, write a function to generate all combinations of well-formed parentheses.\n",
    "\n",
    "##### 参考视频\n",
    "* 可以写成 binary tree. https://www.youtube.com/watch?v=PCb1Ca_j6OU\n",
    "* 卡特兰数: https://www.youtube.com/watch?v=SwyEvjkUnPU\n",
    "* Catalan number: https://en.wikipedia.org/wiki/Catalan_number"
   ]
  },
  {
   "cell_type": "code",
   "execution_count": 3,
   "metadata": {},
   "outputs": [
    {
     "name": "stdout",
     "output_type": "stream",
     "text": [
      "['((()))', '(()())', '(())()', '()(())', '()()()']\n"
     ]
    }
   ],
   "source": [
    "# Time: O(n!), space: O(n)\n",
    "class Solution(object):\n",
    "    def generateParenthesis(self, n):\n",
    "        \"\"\"\n",
    "        :type n: int\n",
    "        :rtype: List[str]\n",
    "        \"\"\"\n",
    "        rst = []\n",
    "        self.helper(\"\", rst, n, 0, 0)\n",
    "        return rst\n",
    "\n",
    "    # ❤️ binary tree 的问题 + 特殊的处理. # ❤️❤️❤️ 实质上是 dfs, 有点剪枝.\n",
    "    # ❤️ left 指的是 (, right 指的是 ).\n",
    "    def helper(self, cur, rst, n, left, right):\n",
    "        if right == n: # 如果 right==n, 说明已经满了.\n",
    "            rst.append(cur)\n",
    "            return \n",
    "        \n",
    "        if left < n: # ❤️ 树的两支都遍历了, 左枝 # ❤️ 剪枝1\n",
    "            self.helper(cur+\"(\", rst, n, left+1, right)\n",
    "            \n",
    "        if right < left: # ❤️ 树的右枝, right 必然<= left, 否则即不匹配了. # ❤️ 剪枝2.\n",
    "            self.helper(cur+\")\", rst, n, left, right+1)\n",
    "            \n",
    "            \n",
    "print Solution().generateParenthesis(3)"
   ]
  },
  {
   "cell_type": "markdown",
   "metadata": {},
   "source": [
    "### [46.med-Permutations](https://leetcode.com/problems/permutations/description/)\n",
    "##### 题意: Given a collection of distinct numbers, return all possible permutations.\n",
    "* 举例, 比如 $nums = [1,2,3]$, 则输\n",
    "```python\n",
    "[\n",
    "  [1,2,3],\n",
    "  [1,3,2],\n",
    "  [2,1,3],\n",
    "  [2,3,1],\n",
    "  [3,1,2],\n",
    "  [3,2,1]\n",
    "]\n",
    "```\n",
    "\n",
    "##### 分析\n",
    "* https://www.youtube.com/watch?v=43w8tXWKSLw&t=714s\n",
    "* https://www.youtube.com/watch?v=4sROSJN_I6E&t=344s\n",
    "\n",
    "##### 总结: 有点像 有点像 tree 中从 root 到 leaf 满足什么条件的 path"
   ]
  },
  {
   "cell_type": "code",
   "execution_count": null,
   "metadata": {
    "collapsed": true
   },
   "outputs": [],
   "source": [
    "class Solution(object):\n",
    "    def permute(self, nums):\n",
    "        \"\"\"\n",
    "        :type nums: List[int]\n",
    "        :rtype: List[List[int]]\n",
    "        \"\"\"\n",
    "        if not nums: return []\n",
    "        \n",
    "        n, rst = len(nums), []\n",
    "        self.helper(nums, n, 0, [], rst)\n",
    "        return rst\n",
    "    \n",
    "    def helper(self, nums, n, d, cur, rst):\n",
    "        if n == d:\n",
    "            rst.append(cur[:]) # ❎❎ 写成 cur, 而不是 cur[:] 了\n",
    "            return \n",
    "        \n",
    "        for i in xrange(n):\n",
    "            if nums[i] == \"#\": continue\n",
    "                \n",
    "            x = nums[i]\n",
    "            nums[i] = \"#\"\n",
    "            cur.append(x)\n",
    "            self.helper(nums, n, d+1, cur, rst)\n",
    "            cur.pop()\n",
    "            nums[i] = x "
   ]
  },
  {
   "cell_type": "markdown",
   "metadata": {},
   "source": [
    "### [❤️47.med-Permutations II](https://leetcode.com/problems/permutations-ii/description/)\n",
    "##### 题意: Given a collection of numbers that might contain duplicates, return all possible unique permutations.\n",
    "* For example,\n",
    "    *[1,1,2] have the following unique permutations:\n",
    "    ```\n",
    "        [\n",
    "          [1,1,2],\n",
    "          [1,2,1],\n",
    "          [2,1,1]\n",
    "        ]\n",
    "    ```\n"
   ]
  },
  {
   "cell_type": "code",
   "execution_count": 55,
   "metadata": {},
   "outputs": [
    {
     "name": "stdout",
     "output_type": "stream",
     "text": [
      "[[1, 1, 2], [1, 2, 1], [2, 1, 1]]\n"
     ]
    }
   ],
   "source": [
    "class Solution(object):\n",
    "    def permuteUnique(self, nums):\n",
    "        \"\"\"\n",
    "        :type nums: List[int]\n",
    "        :rtype: List[List[int]]\n",
    "        \"\"\"\n",
    "        if not nums: return []\n",
    "        \n",
    "        n, rst = len(nums), []\n",
    "        nums.sort() # ❎❎❤️❤️ 为了排除重复元素, 需要排序.\n",
    "        self.permutation(nums, n, 0, [], rst)\n",
    "        return rst\n",
    "        \n",
    "    def permutation(self, nums, n, d, cur, used, rst):\n",
    "        if n == d:\n",
    "            rst.append(cur[:])\n",
    "            return \n",
    "        \n",
    "        for i in xrange(len(nums)):\n",
    "            if used[i]: continue\n",
    "            # ❤️❤️ 表示 和前一个相等, 并且前一个没有用过.\n",
    "            if i>0 and nums[i]==nums[i-1] and not used[i-1]: continue # ❎❎❤️❤️最关键的条件 \n",
    "            \n",
    "            used[i] = True\n",
    "            cur.append(nums[i])\n",
    "            self.permutation(nums, n, d+1, cur, used, rst)\n",
    "            cur.pop()       \n",
    "            used[i] = False\n",
    "            \n",
    "print Solution().permuteUnique([1,1,2])"
   ]
  },
  {
   "cell_type": "markdown",
   "metadata": {},
   "source": [
    "### [❤️78.med-Subsets](https://leetcode.com/problems/subsets/description/)\n",
    "##### 题意: Given a set of distinct integers, nums, return all possible subsets (the power set).\n",
    "\n",
    "##### 分析: 和 46 题非常类似.\n",
    "\n",
    "在数学上这个很容易：$C_3^0 + C_3^1 + C_3^2 + C_3^3 = 1 + 3 + 3 + 1 = 8$。编程如何实现呢？\n",
    "\n",
    "##### 总结"
   ]
  },
  {
   "cell_type": "code",
   "execution_count": null,
   "metadata": {
    "collapsed": true
   },
   "outputs": [],
   "source": [
    "class Solution(object):\n",
    "    def subsets(self, nums):\n",
    "        \"\"\"\n",
    "        :type nums: List[int]\n",
    "        :rtype: List[List[int]]\n",
    "        \"\"\"\n",
    "        if not nums: return []\n",
    "        \n",
    "        n, rst = len(nums), []\n",
    "        self.helper(nums, n, 0, 0, [], rst)\n",
    "        return rst\n",
    "    \n",
    "    def helper(self, nums, n, d, s, cur, rst):\n",
    "        if d <= n: rst.append(cur[:])  # ❎又错, 错在浅拷贝, 这里需要 deep copy 的. \n",
    "        \n",
    "        for i in xrange(s, len(nums)):  # ❤️❤️❤️ subset 和 permutation 的区别, 每次排除之前\n",
    "            cur.append(nums[i]) # 使用过的. 所以不用考虑是否存在 duplicate 的情况.\n",
    "            self.helper(nums, n, d+1, i+1, cur, rst)\n",
    "            cur.pop()"
   ]
  },
  {
   "cell_type": "markdown",
   "metadata": {},
   "source": [
    "### [90.med-Subsets II](https://leetcode.com/problems/subsets-ii/description/)\n",
    "##### 题意: Given a collection of integers that might contain duplicates, nums, return all possible subsets (the power set).\n",
    "* 和 78.medium-Subsets 的区别是, 可能存在 duplicates.\n",
    "\n",
    "##### 总结: 如果存在 duplicate, 第一步就是要 sort, 这样可以对比前后 element 的关系, 排除 duplicate 的 case."
   ]
  },
  {
   "cell_type": "code",
   "execution_count": null,
   "metadata": {
    "collapsed": true
   },
   "outputs": [],
   "source": [
    "class Solution(object):\n",
    "    def subsetsWithDup(self, nums):\n",
    "        \"\"\"\n",
    "        :type nums: List[int]\n",
    "        :rtype: List[List[int]]\n",
    "        \"\"\"\n",
    "        if not nums: return []\n",
    "        \n",
    "        nums.sort() # ❎❤️ 错在没有 sort, 否则存在大量 duplscates.\n",
    "        rst, n = [], len(nums)\n",
    "        self.helper(nums, n, 0, 0, [], rst)\n",
    "        return rst\n",
    "    \n",
    "    def helper(self, nums, n, d, s, cur, rst):\n",
    "        if d <= n:\n",
    "            rst.append(cur[:])\n",
    "        else:\n",
    "            return \n",
    "        \n",
    "        for i in xrange(s, len(nums)):\n",
    "            if i != s and nums[i] == nums[i-1]: # ❤️ 只执行第一个数字, 以后重复的跳过.\n",
    "                continue # ❤️ 前面的重复数字肯定已经用过了, 我们真正要关心的是排除后面的.\n",
    "            cur.append(nums[i])\n",
    "            self.helper(nums, n, d+1, i+1, cur, rst)\n",
    "            cur.pop()"
   ]
  },
  {
   "cell_type": "markdown",
   "metadata": {},
   "source": [
    "### [39.med-Combination Sum](https://leetcode.com/problems/combination-sum/description/)\n",
    "##### 题意: Given a set of candidate numbers (C) (<span class=\"girk\">without duplicates</span>) and a target number (T), <span class=\"girk\">find all unique combinations in C</span> where the candidate numbers sums to T.\n",
    "* The same repeated number may be chosen from C <span class=\"girk\">unlimited number of times</span>. (这个条件有点猛)\n",
    "* Note:\n",
    "    * All numbers (including target) will be <span class=\"girk\">positive integers</span>.\n",
    "    * The solution set <span class=\"girk\">must not contain duplicate combinations</span>.\n",
    "    \n",
    "* 举例 For example, given candidate set [2, 3, 6, 7] and target 7, a solution set is: \n",
    "[\n",
    "  [7],\n",
    "  [2, 2, 3]\n",
    "]\n",
    "\n",
    "\n",
    "##### 分析: 符合条件的 combination 问题.\n",
    "##### 总结的非常好的 tutorial: https://www.youtube.com/watch?v=zIY2BWdsbFs"
   ]
  },
  {
   "cell_type": "code",
   "execution_count": 36,
   "metadata": {},
   "outputs": [
    {
     "name": "stdout",
     "output_type": "stream",
     "text": [
      "[[2, 2, 3], [7]]\n"
     ]
    }
   ],
   "source": [
    "# 比起 combination 多了一个条件, 加和为 target.\n",
    "class Solution(object):\n",
    "    def combinationSum(self, nums, target):\n",
    "        \"\"\"\n",
    "        :type nums: List[int]\n",
    "        :type target: int\n",
    "        :rtype: List[List[int]]\n",
    "        \"\"\"\n",
    "        if not nums: return []\n",
    "        \n",
    "        nums.sort() # ❤️❤️ sort 一把, 目的: dfs 剪很多枝.\n",
    "        rst = []\n",
    "        self.combination(nums, target, 0, [], rst)\n",
    "        return rst\n",
    "        \n",
    "    def combination(self, nums, target, s, cur, rst): \n",
    "        if target == 0: # ❤️❤️❤️ 不需要 d 作为终止条件, 只需要 target 作为终止条件 ❤️❤️❤️\n",
    "            rst.append(cur[:])\n",
    "            return # ❤️ target == 0 时, 没有必要再加了, 都是 postive 的缘故.\n",
    "            \n",
    "        for i in xrange(s, len(nums)):\n",
    "            if nums[i] > target: # ❤️❤️ 剪了很多枝\n",
    "                break \n",
    "            cur.append(nums[i])\n",
    "            self.combination(nums, target-nums[i], i, cur, rst) # ❎ 错在写成 s, 应该是 s.\n",
    "            cur.pop()\n",
    "            \n",
    "######## Testing #############\n",
    "print Solution().combinationSum([2, 3, 6, 7], 7)"
   ]
  },
  {
   "cell_type": "code",
   "execution_count": 41,
   "metadata": {},
   "outputs": [
    {
     "name": "stdout",
     "output_type": "stream",
     "text": [
      "[[7], [2, 2, 3]]\n"
     ]
    }
   ],
   "source": [
    "# 额外要求, 按照 size 从小到大组合\n",
    "class Solution(object):\n",
    "    def combinationSum(self, nums, target):\n",
    "        \"\"\"\n",
    "        :type nums: List[int]\n",
    "        :type target: int\n",
    "        :rtype: List[List[int]]\n",
    "        \"\"\"\n",
    "        if not nums: return []\n",
    "        \n",
    "        n, rst = len(nums), []\n",
    "        nums.sort() \n",
    "        for i in xrange(1, int(target/nums[0]) + 2):\n",
    "            self.C(nums, target, i, 0, 0, [], rst)\n",
    "        return rst\n",
    "        \n",
    "    def C(self, nums, target, n, d, s, cur, rst): # ❤️❤️ 多了两个变量 n, d\n",
    "        if d == n and target == 0: # ❤️❤️ 多了一个条件, 得到 size 从小到大的输出.\n",
    "            rst.append(cur[:])\n",
    "            return\n",
    "        \n",
    "        for i in xrange(s, len(nums)):\n",
    "            if nums[i] > target: break\n",
    "                \n",
    "            cur.append(nums[i])\n",
    "            self.C(nums, target-nums[i], n, d+1, i, cur, rst)\n",
    "            cur.pop()\n",
    "\n",
    "######## Testing #############\n",
    "print Solution().combinationSum([2, 3, 6, 7], 7)"
   ]
  },
  {
   "cell_type": "markdown",
   "metadata": {},
   "source": [
    "### [40.med-Combination Sum II](https://leetcode.com/problems/combination-sum-ii/description/)\n",
    "##### 题意: Given a collection of candidate numbers (C) and a target number (T), find all unique combinations in C where the candidate numbers sums to T.\n",
    "* 和 39.Combination Sum 不同的地方总结:\n",
    "    * 39 每个元素可以<span class=\"girk\">使用多次</span>, 40 每个元素<span class=\"girk\">只能使用一次</span>. \n",
    "    * 39 题中 candidate 各元素和 target 元素都是 <span class=\"girk\">positive 的</span>, 40题没有这个要求.\n",
    "    * 39 题假设 candidates <span class=\"girk\">不存在 duplicates</span>, 40 题是存在 duplicates 的.\n",
    "* Each number in C may only be used once in the combination.\n",
    "\n",
    "##### 举例:\n",
    "* For example, given candidate set [10, 1, 2, 7, 6, 1, 5] and target 8, \n",
    "* A solution set is: \n",
    "    ```\n",
    "    [\n",
    "      [1, 7],\n",
    "      [1, 2, 5],\n",
    "      [2, 6],\n",
    "      [1, 1, 6]\n",
    "    ]\n",
    "    ```\n",
    "    \n",
    "##### 注意事项: 1. negative, 2. 存在 duplicates."
   ]
  },
  {
   "cell_type": "code",
   "execution_count": 52,
   "metadata": {},
   "outputs": [
    {
     "name": "stdout",
     "output_type": "stream",
     "text": [
      "[1, 1, 2, 5, 6, 7, 10]\n",
      "[[1, 1, 6], [1, 2, 5], [1, 7], [2, 6]]\n"
     ]
    }
   ],
   "source": [
    "class Solution(object):\n",
    "    def combinationSum2(self, nums, target):\n",
    "        \"\"\"\n",
    "        :type nums: List[int]\n",
    "        :type target: int\n",
    "        :rtype: List[List[int]]\n",
    "        \"\"\"\n",
    "        if not nums: return []\n",
    "        \n",
    "        nums.sort() # ❎❎❎ 忘记 sort 了. 目的: 1) 排除 duplicate元素, 2) 剪 dfs 的很多枝.\n",
    "        n, rst = len(nums), []\n",
    "        self.combination(nums, n, 0, 0, target, [], rst)\n",
    "        return rst\n",
    "    \n",
    "    # ❤️特殊的 combination 问题: 1) 有 target; 2) 没有 positive 的要求; 3) 可能存在 duplicates.\n",
    "    def combination(self, nums, n, d, s, target, cur, rst):\n",
    "        if d > n: return  # ❤️ 39 all postive 允许多次, 可以通过 sum 得到 basic case. 40 不允许一个元素多次 \n",
    "        if target == 0: # ❤️只能通过计算元素个数得到 basic case 停止条件\n",
    "            rst.append(cur[:])\n",
    "            return\n",
    "            \n",
    "        for i in xrange(s, n):\n",
    "            if nums[i] > target: break\n",
    "            if i != s and nums[i] == nums[i-1]: continue # ❎❎ 应对 duplicate 的情况\n",
    "            \n",
    "            cur.append(nums[i])\n",
    "            self.combination(nums, n, d+1, i+1, target-nums[i], cur, rst)\n",
    "            cur.pop()\n",
    "            \n",
    "######## Testing #############\n",
    "print Solution().combinationSum2([10,1,2,7,6,1,5], 8)"
   ]
  },
  {
   "cell_type": "markdown",
   "metadata": {},
   "source": [
    "### [216.med-Combination Sum III](https://leetcode.com/problems/combination-sum-iii/description/)\n",
    "##### 题意: Find all possible combinations of <span class=\"girk\">k numbers</span> that <span class=\"girk\">add up to a number n</span>, given that <span class=\"girk\">only numbers from 1 to 9</span> can be used and each combination should be a unique set of numbers.\n",
    "* 举例1: Input: k = 3, n = 7\n",
    "    * Output: [[1,2,4]]\n",
    "* 举例2: Input: k = 3, n = 9\n",
    "    * Output: [[1,2,6], [1,3,5], [2,3,4]]\n",
    "    \n",
    "##### 特点: 1) all positive, 2) 所有元素 $[1,\\cdots,9]$, 3) \n",
    "    \n",
    "##### (待看) 花花 https://www.youtube.com/watch?v=UwdX19UvoCI"
   ]
  },
  {
   "cell_type": "code",
   "execution_count": 54,
   "metadata": {},
   "outputs": [
    {
     "name": "stdout",
     "output_type": "stream",
     "text": [
      "[]\n"
     ]
    }
   ],
   "source": [
    "class Solution(object):\n",
    "    def combinationSum3(self, n, target):\n",
    "        \"\"\"\n",
    "        :type n: int\n",
    "        :type target: int\n",
    "        :rtype: List[List[int]]\n",
    "        \"\"\"\n",
    "        if target < 1: return []\n",
    "        \n",
    "        rst = []\n",
    "        nums = range(1,10)\n",
    "        self.combination(nums, n, 0, 0, target, [], rst) # ❎❎❎ 错将 n 设成 len(nums)\n",
    "        return rst\n",
    "        \n",
    "    def combination(self, nums, n, d, s, target, cur, rst):\n",
    "        if n == d: # ❤️ 停止条件\n",
    "            if target == 0: rst.append(cur[:])\n",
    "            return \n",
    "        \n",
    "        for i in xrange(s, len(nums)):\n",
    "            if target < nums[i]: # ❎❎❎ 错将 nums[i] 写成 nums[s]\n",
    "                break \n",
    "                \n",
    "            cur.append(nums[i])\n",
    "            self.combination(nums, n, d+1, i+1, target-nums[i], cur, rst)\n",
    "            cur.pop()\n",
    "            \n",
    "            \n",
    "######## Testing #############\n",
    "print Solution().combinationSum3(3, 7)"
   ]
  },
  {
   "cell_type": "markdown",
   "metadata": {},
   "source": [
    "### [❤️377.med-Combination Sum IV](https://leetcode.com/problems/combination-sum-iv/description/)\n",
    "##### 题意: Given an integer array with <span class=\"girk\">all positive numbers</span> and <span class=\"girk\">no duplicates</span>, find <span class=\"girk\">the number</span> of <span class=\"girk\">possible combinations</span> that <span class=\"girk\">add up to a positive</span> integer target.\n",
    "* 举例: nums = [1, 2, 3], target = 4. \n",
    "    * The possible combination ways are:\n",
    "        ```\n",
    "            (1, 1, 1, 1)\n",
    "            (1, 1, 2)\n",
    "            (1, 2, 1)\n",
    "            (1, 3)\n",
    "            (2, 1, 1)\n",
    "            (2, 2)\n",
    "            (3, 1)\n",
    "        ```\n",
    "    * <span class=\"burk\">Note that</span> different sequences are counted as different combinations. Therefore the output is 7.\n",
    "\n",
    "##### Follow ups\n",
    "* What if negative numbers are allowed in the given array?\n",
    "* How does it change the problem?\n",
    "* What limitation we need to add to the question to allow negative numbers?\n",
    "\n",
    "##### Tag: dynamic programming + backtracking.\n",
    "##### 教程: 花花 https://www.youtube.com/watch?v=niZlmOtG4jM\n",
    "##### 总结"
   ]
  },
  {
   "cell_type": "code",
   "execution_count": null,
   "metadata": {
    "collapsed": true
   },
   "outputs": [],
   "source": [
    "# 方法1: Recursion + Memorization.\n",
    "#    * 优点: 避免不必要的计算. \n",
    "#    * 缺点: max recursion 深度的问题. 如果 target 太大, 而 nums 中有 1, 则递归深度会非常大的.\n",
    "\n",
    "class Solution(object): # ❤️❤️ 就是普普通通的 recursion + memeorization\n",
    "    def combinationSum4(self, nums, target):\n",
    "        \"\"\"\n",
    "        :type nums: List[int]\n",
    "        :type target: int\n",
    "        :rtype: int\n",
    "        \"\"\"\n",
    "        mem = [-1] * (target + 1)\n",
    "        mem[0] = 1 # ❓ 为什么 mem[0] = 1 呢?\n",
    "        return self.dfs(nums, mem, target) \n",
    "        \n",
    "    def dfs(self, nums, mem, target):\n",
    "        if target < 0: return 0 # ❤️ 递归, 终止条件是最重要的. ❎ 注意这里终止条件 target < 0.\n",
    "        if mem[target] != -1: return mem[target] # 不等于 -1, 表明已经计算过了.\n",
    "        \n",
    "        cnt = 0 # ❎❎ 必须这么计算, =cnt, 否则出错\n",
    "        for x in nums:\n",
    "            cnt += self.dfs(nums, mem, target-x)\n",
    "        mem[target] = cnt\n",
    "        return cnt"
   ]
  },
  {
   "cell_type": "code",
   "execution_count": null,
   "metadata": {
    "collapsed": true
   },
   "outputs": [],
   "source": [
    "# 方法2: Dynamic Programeming (iteration). \n",
    "#   * 优点: 没有 max recursion 深度的问题. 但依旧不能应对 negative 的问题.\n",
    "#   * 缺点: 不能避免不必要的计算, iteration 从头到尾.\n",
    "# 总结: DP 将大问题化解为小问题, 然后不断融合小的问题. 这里的融合指的是加和合适条件的项.\n",
    "class Solution(object):\n",
    "    def combinationSum4(self, nums, target):\n",
    "        \"\"\"\n",
    "        :type nums: List[int]\n",
    "        :type target: int\n",
    "        :rtype: int\n",
    "        \"\"\"\n",
    "        mem = [0] * (target + 1)\n",
    "        mem[0] = 1 # ❤️ 为什么 mem[0] = 1 呢? 如果 mem[0] = 0, 一切都是零了. \n",
    "        for i in xrange(1, target+1):\n",
    "            cnt = 0\n",
    "            for x in nums:\n",
    "                if i-x >= 0: cnt += mem[i-x] # 不符合条件的, 不加进来. \n",
    "            mem[i] = cnt\n",
    "        return mem[target]"
   ]
  },
  {
   "cell_type": "markdown",
   "metadata": {},
   "source": [
    "## [2/20]()"
   ]
  },
  {
   "cell_type": "markdown",
   "metadata": {},
   "source": [
    "### [79.med-Word Search](https://leetcode.com/problems/word-search/description/)\n",
    "##### 题意: Given a 2D board and a word, find if the word exists in the grid.\n",
    "* The word can be constructed from letters of <span class=\"girk\">sequentially adjacent cell</span>, where \"adjacent\" cells are those <span class=\"girk\">horizontally or vertically neighboring</span>. The same letter cell <span class=\"girk\">may not be used more than once</span>.\n",
    "* 举例: 请查看 https://leetcode.com/problems/word-search/description/\n",
    "\n",
    "##### 参考视频: 花花 https://www.youtube.com/watch?v=oUeGFKZvoo4&t=605s\n",
    "\n",
    "##### 总结: 类似于<span class=\"burk\">走迷宫的题</span>. <span class=\"burk\">本质上是搜索问题</span>, 可以使用<span class=\"burk\">dfs (深度优先搜索)</span> 或 <span class=\"burk\">bfs (广度优先搜索)</span>. \n",
    "* 使用 dfs 更好, 因为是<span class=\"girk\">找唯一解</span>, 并且<span class=\"girk\">长度是固定的</span> (即字符串长度). 比起 bfs 没有任何缺点. 时间复杂度是一样的, 但是空间复杂度远远小于 广度搜索.\n",
    "* Board 搜索问题, 可以理解为一个种特殊的树, 每个 node 顶多有四个节点. 因为大多数 node 有四个子节点, 因此算是比较 balanced. 比较 balanced 的情况适合使用 DFS, not balanced 的情况比较合适使用 BFS."
   ]
  },
  {
   "cell_type": "code",
   "execution_count": null,
   "metadata": {
    "collapsed": true
   },
   "outputs": [],
   "source": [
    "# DFS 广度优先搜索问题, 类似于 Binary Tree 的 DFS.\n",
    "# 复杂度: time O(m*n*4^l) worst case, ❤️ space O(m*n + l) ❤️,\n",
    "#         where m, n are the number of rows and columns, l is the word length\n",
    "class Solution(object):\n",
    "    def __init__(self):\n",
    "        self.r, self.c, self.d = 0, 0, 0 # 1) ❤️ 成员变量, 使得传参数非常方便.\n",
    "        \n",
    "    def exist(self, board, word):\n",
    "        \"\"\"\n",
    "        :type board: List[List[str]]\n",
    "        :type word: str\n",
    "        :rtype: bool\n",
    "        \"\"\"\n",
    "        # 1 edge condition\n",
    "        if not word: return True\n",
    "        if not board: return False\n",
    "\n",
    "        # 2 search the board \n",
    "        self.r, self.c, self.d = len(board), len(board[0]), len(word)\n",
    "        for r in xrange(self.r):\n",
    "            for c in xrange(self.c):\n",
    "                if self.dfs(board, r, c, word, 0): # 2)❤️❤️ if ...有点 or 的意思, 直接 return \n",
    "                    return True # ❤️❤️ 就是 and 的意思\n",
    "        return False\n",
    "    \n",
    "    def dfs(self, board, r, c, word, d):\n",
    "        # 1 out of range or not equal\n",
    "        if r==self.r or c==self.c or r<0 or c<0: return False\n",
    "        \n",
    "        x = board[r][c]\n",
    "        if x == '#': return False\n",
    "        if x != word[d]: return False\n",
    "        if self.d-1 == d: return True # ❎❎ 3) 注意是 self.d-1 ❤️❤️ 非常重要, 而且指放在这里，放在前面就错了．\n",
    "        \n",
    "        # 2 do the comparasion # ❤️❤️❤️ 4) 避免重复访问的一个小技巧, 不动用任何额外的空间.\n",
    "        board[r][c] = \"#\" # 👍👍👍 非常巧妙的想法.\n",
    "        found = (\n",
    "            self.dfs(board, r-1, c, word, d+1) or\n",
    "            self.dfs(board, r+1, c, word, d+1) or\n",
    "            self.dfs(board, r, c-1, word, d+1) or\n",
    "            self.dfs(board, r, c+1, word, d+1)\n",
    "        )\n",
    "        board[r][c] = x  # 👍👍👍 非常巧妙的想法.\n",
    "        return found"
   ]
  },
  {
   "cell_type": "markdown",
   "metadata": {},
   "source": [
    "### [❤️212.hard-Word Search II](https://leetcode.com/problems/word-search-ii/description/)\n",
    "##### 题意: Given a 2D board and a list of words from the dictionary, find all words in the board.\n",
    "* ❓啥意思? Each word must be constructed from letters of sequentially adjacent cell, where \"adjacent\" cells are those horizontally or vertically neighboring. The same letter cell may not be used more than once in a word.\n",
    "* 举例: https://leetcode.com/problems/word-search-ii/description/\n",
    "\n",
    "##### 分析: DFS + Trie (Prefix Tree) 的结合\n",
    "* 此题是将 board 在 Trie 中搜索. \n",
    "* 而 79 题是, word 在 board 中搜索. \n",
    "\n",
    "##### 相关视频\n",
    "* Edward Shi: https://www.youtube.com/watch?v=RbbkK1yLDrg&t=574s\n",
    "* LI Jingchen: https://www.youtube.com/watch?v=DPi32ckxCuI\n",
    "* Ziyang Jiang:  https://www.youtube.com/watch?v=x02b8zfvGFU"
   ]
  },
  {
   "cell_type": "code",
   "execution_count": 83,
   "metadata": {},
   "outputs": [
    {
     "name": "stdout",
     "output_type": "stream",
     "text": [
      "good\n",
      "good\n",
      "['oath', 'eat']\n"
     ]
    }
   ],
   "source": [
    "class TrieNode(object):\n",
    "    def __init__(self):\n",
    "        self.dic = {}\n",
    "        self.word = \"\"\n",
    "    \n",
    "class Solution(object):\n",
    "    def __init__(self):\n",
    "        self.r, self.c = 0, 0\n",
    "    \n",
    "    def findWords(self, board, words):\n",
    "        \"\"\"\n",
    "        :type board: List[List[str]]\n",
    "        :type words: List[str]\n",
    "        :rtype: List[str]\n",
    "        \"\"\"\n",
    "        root = self.buildTrie(words)\n",
    "            \n",
    "        rst = []\n",
    "        self.r, self.c = len(board), len(board[0])\n",
    "        for r in xrange(self.r):\n",
    "            for c in xrange(self.c):\n",
    "                self.dfs(board, r, c, root, rst)\n",
    "        return rst\n",
    "                    \n",
    "    def dfs(self, board, r, c, root, rst):\n",
    "        # 1 edge conditions #1\n",
    "        if r>=self.r or c>=self.c or r<0 or c<0: return\n",
    "        \n",
    "        x = board[r][c]\n",
    "        if x == \"#\":  return # ❎❎❤️ 访问过了\n",
    "        if x not in root.dic: return # ❤️ 不在 dic 中.\n",
    "        \n",
    "        # 2 basic case for recursion.\n",
    "        root = root.dic[x] # ❎❎❎ 错在把这个放在 if 后面了. 原因: \n",
    "        if root.word:\n",
    "            rst.append(root.word[:])\n",
    "            root.word = \"\"\n",
    "        \n",
    "        board[r][c] = \"#\" # 👍👍👍 非常巧妙的想法, 标记访问过与否.\n",
    "        self.dfs(board, r-1, c, root, rst)\n",
    "        self.dfs(board, r+1, c, root, rst)\n",
    "        self.dfs(board, r, c-1, root, rst)\n",
    "        self.dfs(board, r, c+1, root, rst)\n",
    "        board[r][c] = x # 👍👍👍 非常巧妙的想法, 标记访问过与否.     \n",
    "        \n",
    "    def buildTrie(self, words):\n",
    "        root = TrieNode()\n",
    "        for word in words:\n",
    "            node = root # ❎❎ 每个词都要从 root 开始\n",
    "            for x in word:\n",
    "                if x not in node.dic:\n",
    "                    node.dic[x] = TrieNode()\n",
    "                node = node.dic[x]\n",
    "            node.word = word # ❎❎ 真正的结尾存储 word, 这个和 208. Implement Trie (Prefix Tree)\n",
    "        return root # ❤️❤️ 多想想这个的拓扑结构\n",
    "    \n",
    "#### testing ####\n",
    "board = [[\"o\",\"a\",\"a\",\"n\"],[\"e\",\"t\",\"a\",\"e\"],[\"i\",\"h\",\"k\",\"r\"],[\"i\",\"f\",\"l\",\"v\"]]\n",
    "words = [\"oath\",\"pea\",\"eat\",\"rain\"]\n",
    "print Solution().findWords(board, words)"
   ]
  },
  {
   "cell_type": "markdown",
   "metadata": {},
   "source": [
    "### [17.med-Letter Combinations of a Phone Number](https://leetcode.com/problems/letter-combinations-of-a-phone-number/description/)\n",
    "##### 题意: Given a digit string, <span class=\"girk\">return all possible letter combinations</span> that the number could represent. A mapping of digit to letters (just like on the telephone buttons) is given below.\n",
    "\n",
    "![](http://upload.wikimedia.org/wikipedia/commons/thumb/7/73/Telephone-keypad2.svg/200px-Telephone-keypad2.svg.png)\n",
    "* 举例: \n",
    "    * Input:Digit string \"23\"\n",
    "    * Output: [\"ad\", \"ae\", \"af\", \"bd\", \"be\", \"bf\", \"cd\", \"ce\", \"cf\"].\n",
    "* Note: Although the above answer is in lexicographical order, your answer could be in any order you want.\n",
    "\n",
    "##### 分析: 显然 search 的问题, 使用 DFS 较合适, 非常 balanced, 深度有限. BFS 显然宽度太宽, 需要存储太多了.\n",
    "\n"
   ]
  },
  {
   "cell_type": "code",
   "execution_count": 64,
   "metadata": {},
   "outputs": [
    {
     "name": "stdout",
     "output_type": "stream",
     "text": [
      "['ad', 'ae', 'af', 'bd', 'be', 'bf', 'cd', 'ce', 'cf']\n"
     ]
    }
   ],
   "source": [
    "# DFS: time O(4^n), space O(4^n + n), where n is the length of the input.\n",
    "class Solution(object):\n",
    "    def __init__(self):\n",
    "        self.PhoneDic = {\n",
    "            \"1\" : \"\",\n",
    "            \"2\" : \"abc\",\n",
    "            \"3\" : \"def\",\n",
    "            \"4\" : \"ghi\",\n",
    "            \"5\" : \"jkl\",\n",
    "            \"6\" : \"mno\",\n",
    "            \"7\" : \"pqrs\",\n",
    "            \"8\" : \"tuv\",\n",
    "            \"9\" : \"wxyz\"  }\n",
    "        \n",
    "    def letterCombinations(self, digits):\n",
    "        \"\"\"\n",
    "        :type digits: str\n",
    "        :rtype: List[str]\n",
    "        \"\"\"\n",
    "        if not digits: return []\n",
    "        \n",
    "        rst = []\n",
    "        self.dfs(digits, 0, [], rst)\n",
    "        return rst\n",
    "        \n",
    "    def dfs(self, digits, d, cur, rst):\n",
    "        if d == len(digits):\n",
    "            rst.append(\"\".join(cur))\n",
    "            return\n",
    "        \n",
    "        # ❤️❤️❤️ 跟以前 combination 的区别是, 没有 s 并且每次 nums 都不一样.\n",
    "        n_digit = self.PhoneDic[digits[d]] # ❤️ 根据构建的 dictionary, 遍历.\n",
    "        for x in n_digit: # ❤️ string 也有这种语法\n",
    "            cur.append(x)\n",
    "            self.dfs(digits, d+1, cur, rst)\n",
    "            cur.pop() # ❎👍❤️ 必须有这句, 否则 cur 会越来越长, ❤️❤️这就是 tree search 的标配.\n",
    "                \n",
    "####### Testing #########\n",
    "print Solution().letterCombinations(\"23\")"
   ]
  },
  {
   "cell_type": "code",
   "execution_count": null,
   "metadata": {
    "collapsed": true
   },
   "outputs": [],
   "source": [
    "# BFS 待解决"
   ]
  },
  {
   "cell_type": "markdown",
   "metadata": {},
   "source": [
    "## []()\n",
    "##### 题意\n",
    "##### 分析\n",
    "##### 总结"
   ]
  }
 ],
 "metadata": {
  "kernelspec": {
   "display_name": "Python 2",
   "language": "python",
   "name": "python2"
  },
  "language_info": {
   "codemirror_mode": {
    "name": "ipython",
    "version": 2
   },
   "file_extension": ".py",
   "mimetype": "text/x-python",
   "name": "python",
   "nbconvert_exporter": "python",
   "pygments_lexer": "ipython2",
   "version": "2.7.13"
  },
  "latex_envs": {
   "LaTeX_envs_menu_present": true,
   "autocomplete": true,
   "bibliofile": "biblio.bib",
   "cite_by": "apalike",
   "current_citInitial": 1,
   "eqLabelWithNumbers": true,
   "eqNumInitial": 1,
   "hotkeys": {
    "equation": "Ctrl-E",
    "itemize": "Ctrl-I"
   },
   "labels_anchors": false,
   "latex_user_defs": false,
   "report_style_numbering": false,
   "user_envs_cfg": false
  },
  "toc": {
   "nav_menu": {},
   "number_sections": true,
   "sideBar": true,
   "skip_h1_title": true,
   "toc_cell": true,
   "toc_position": {
    "height": "642px",
    "left": "0px",
    "right": "1084.28px",
    "top": "67px",
    "width": "246px"
   },
   "toc_section_display": "block",
   "toc_window_display": true
  }
 },
 "nbformat": 4,
 "nbformat_minor": 2
}

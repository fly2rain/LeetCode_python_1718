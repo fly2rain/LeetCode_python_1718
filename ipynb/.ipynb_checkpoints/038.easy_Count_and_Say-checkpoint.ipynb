{
 "cells": [
  {
   "cell_type": "markdown",
   "metadata": {},
   "source": [
    "# 38.easy_Count_and_Say\n",
    "### 链接\n",
    "\n",
    "* 题目：https://leetcode.com/problems/count-and-say/description/\n",
    "\n",
    "### 题意\n",
    "* Given an integer n, generate the nth term of the count-and-say sequence.\n",
    "* Note: Each term of the sequence of integers will be represented as a string.\n",
    "\n",
    "\n",
    "### 分析\n",
    "* 只要保存最后两个数字即可。\n",
    "\n",
    "### 编程经验\n",
    "\n",
    "```python\n",
    "```"
   ]
  },
  {
   "cell_type": "markdown",
   "metadata": {},
   "source": [
    "# Method #1"
   ]
  },
  {
   "cell_type": "code",
   "execution_count": 9,
   "metadata": {},
   "outputs": [
    {
     "name": "stdout",
     "output_type": "stream",
     "text": [
      "1\n",
      "\n"
     ]
    }
   ],
   "source": [
    "class Solution(object):\n",
    "    def countAndSay(self, n):\n",
    "        \"\"\"\n",
    "        :type n: int\n",
    "        :rtype: str\n",
    "        \"\"\"        \n",
    "        tmp = rst = '1'\n",
    "        if n == 1:\n",
    "            return rst\n",
    "        \n",
    "        for i in xrange (n-1):\n",
    "            rst = self.count_1_seq (tmp)\n",
    "            tmp = rst\n",
    "        return rst\n",
    "    \n",
    "    def count_1_seq (self, str):\n",
    "        rst = ''\n",
    "        cnt = 1\n",
    "        l, r = 0, len(str) - 1\n",
    "        while l < r:\n",
    "            if l > 0 and str[l] == str[l-1]:\n",
    "                cnt += 1\n",
    "                \n",
    "                rst.append (cnt)\n",
    "                rst.append (str[j-1])\n",
    "                cnt = 1  # reset the cnt\n",
    "                \n",
    "        return rst\n",
    "\n",
    "# test ----\n",
    "print Solution ().countAndSay (1)\n",
    "print Solution ().countAndSay (2)"
   ]
  }
 ],
 "metadata": {
  "kernelspec": {
   "display_name": "Python 2",
   "language": "python",
   "name": "python2"
  },
  "language_info": {
   "codemirror_mode": {
    "name": "ipython",
    "version": 2
   },
   "file_extension": ".py",
   "mimetype": "text/x-python",
   "name": "python",
   "nbconvert_exporter": "python",
   "pygments_lexer": "ipython2",
   "version": "2.7.13"
  }
 },
 "nbformat": 4,
 "nbformat_minor": 2
}

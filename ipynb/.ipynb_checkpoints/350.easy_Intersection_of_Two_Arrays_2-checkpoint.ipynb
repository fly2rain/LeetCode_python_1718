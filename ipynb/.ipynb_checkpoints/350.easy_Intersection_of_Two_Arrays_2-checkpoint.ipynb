{
 "cells": [
  {
   "cell_type": "markdown",
   "metadata": {
    "toc": true
   },
   "source": [
    "<h1>Table of Contents<span class=\"tocSkip\"></span></h1>\n",
    "<div class=\"toc\" style=\"margin-top: 1em;\"><ul class=\"toc-item\"><li><span><a href=\"#链接\" data-toc-modified-id=\"链接-1\"><span class=\"toc-item-num\">1&nbsp;&nbsp;</span>链接</a></span></li><li><span><a href=\"#题意\" data-toc-modified-id=\"题意-2\"><span class=\"toc-item-num\">2&nbsp;&nbsp;</span>题意</a></span></li><li><span><a href=\"#分析\" data-toc-modified-id=\"分析-3\"><span class=\"toc-item-num\">3&nbsp;&nbsp;</span>分析</a></span></li><li><span><a href=\"#三个-Follow-up-问题-以及分析：\" data-toc-modified-id=\"三个-Follow-up-问题-以及分析：-4\"><span class=\"toc-item-num\">4&nbsp;&nbsp;</span>三个 Follow up 问题 以及分析：</a></span></li><li><span><a href=\"#编程经验\" data-toc-modified-id=\"编程经验-5\"><span class=\"toc-item-num\">5&nbsp;&nbsp;</span>编程经验</a></span></li></ul></div>"
   ]
  },
  {
   "cell_type": "markdown",
   "metadata": {},
   "source": [
    "# 350.Intersection_of_Two_Arrays_2_easy\n",
    "### 链接\n",
    "\n",
    "* 题目：https://leetcode.com/problems/intersection-of-two-arrays-ii/description/\n",
    "\n",
    "### 题意\n",
    "\n",
    "Given two arrays, write a function to compute their intersection.\n",
    "\n",
    "Example:\n",
    "Given nums1 = [1, 2, 2, 1], nums2 = [2, 2], return [2, 2].\n",
    "\n",
    "### 分析\n",
    "貌似蛮容易的，把一个 list 转化成 dict；用另一个元素不断的检索 dict 是否包含这个元素，如果有，该元素是 intersection，del dict 中该元素。\n",
    "* 【dict】不过有个问题，万一有有重复元素。这套思路就行不通了。那可以利用 dict value 来记录 key 出现的次数。利用另一个 list 元素检索，检索出一个 value - 1。【行得通】\n",
    "* 【利用 index，完全 in-place】有点类似于以前找 missing element between 1 and n 的思路。但是该方法，能够找到 interesection unique values，不能够找到重复的 intersections。【不妨，也可以程序写出来，然后验证】【这条方法行不通，这种方法的前提是，nums 元素和 index 数值范围是完全在一个 domain 中的。】\n",
    " \n",
    "### 三个 Follow up 问题 以及分析：\n",
    "What if the given array is already sorted? How would you optimize your algorithm?\n",
    "* 【sorted 方法】感觉管理连个point，no extra space (like the dict 就能搞定) 【写个程序测试一下】\n",
    "\n",
    "What if nums1's size is small compared to nums2's size? Which algorithm is better?\n",
    "* 那还是【dict】的方法比【sorted方法好】。因为 extra dict space 非常少，总而言之，可以用小的内存储开销弥补对 nums1 非常大的计算开销 (sorted)\n",
    "\n",
    "What if elements of nums2 are stored on disk, and the memory is limited such that you cannot load all elements into the memory at once?\n",
    "* 那就对 nums2 建立 dict，不需要，利用 nums1 的元素检索。\n",
    "\n",
    "### 编程经验\n",
    "* 编程正确率最主要，多几个检查语句多不了多少计算开销。多几个检查语句是只得到。"
   ]
  },
  {
   "cell_type": "markdown",
   "metadata": {},
   "source": [
    "# Method #1:【dict】方法\n",
    "* run time O(d), d = max(m, n) \n",
    "* space complexity O(k), k = min(m,n)"
   ]
  },
  {
   "cell_type": "code",
   "execution_count": 8,
   "metadata": {
    "collapsed": true
   },
   "outputs": [],
   "source": [
    "class Solution(object):\n",
    "    def intersect(self, nums1, nums2):\n",
    "        \"\"\"\n",
    "        :type nums1: List[int]\n",
    "        :type nums2: List[int]\n",
    "        :rtype: List[int]\n",
    "        \"\"\"\n",
    "        rst = []\n",
    "        # 如果两个 list，任何一个是空的，则没有 intersection，直接返回空 list。\n",
    "        if (not nums1) or (not nums2):\n",
    "            return rst\n",
    "        \n",
    "        # 最小化extra space 开销：把较小的数组，分配给 nums1。这个是浅层次的 copy，开销不大。\n",
    "        if len(nums1) > len(nums2):\n",
    "            nums1, nums2 = nums2, nums1\n",
    "            \n",
    "        dic = {}\n",
    "        for x in nums1:\n",
    "            try: # 如果 dic[x] 存在，则value + 1\n",
    "                dic[x] += 1\n",
    "            except: # 如果 dic[x] 不存在，则创建并初始化 value 为 1\n",
    "                dic[x] = 1 # 注意：初始化为 1， 我就是坑在这里的 ---------\n",
    "                \n",
    "        for x in nums2:\n",
    "            if x not in dic:\n",
    "                continue\n",
    "                \n",
    "            if dic[x]:\n",
    "                rst.append (x)\n",
    "                dic[x] -= 1 \n",
    "                \n",
    "        return rst"
   ]
  },
  {
   "cell_type": "code",
   "execution_count": 10,
   "metadata": {},
   "outputs": [
    {
     "name": "stdout",
     "output_type": "stream",
     "text": [
      "[1, 2]\n"
     ]
    }
   ],
   "source": [
    "#  Testing ----\n",
    "if __name__ == '__main__':\n",
    "    print Solution ().intersect ([1, 2, 2, 1], [ 1, 2])"
   ]
  },
  {
   "cell_type": "markdown",
   "metadata": {},
   "source": [
    "# Method #2:  如果给定sorted lists, 如何优化:\n",
    "* 优化目标是：linear runtime，no extra space."
   ]
  },
  {
   "cell_type": "code",
   "execution_count": 7,
   "metadata": {
    "collapsed": true
   },
   "outputs": [],
   "source": [
    "class Solution2 (object):\n",
    "    def intersect(self, nums1, nums2):\n",
    "        \"\"\"\n",
    "        :type nums1: List[int]\n",
    "        :type nums2: List[int]\n",
    "        :rtype: List[int]\n",
    "        \"\"\"\n",
    "        rst = []\n",
    "        m, n = len (nums1), len (nums2)\n",
    "        if m < 1 or n < 1:\n",
    "            return rst\n",
    "        \n",
    "        # suppose the given lists are not sorted.\n",
    "        nums1.sort ()\n",
    "        nums2.sort ()\n",
    "    \n",
    "        while m > 0 and n > 0:\n",
    "            x = nums1[m-1] - nums2[n-1]\n",
    "            if x > 0:\n",
    "                m -= 1\n",
    "            elif x < 0:\n",
    "                n -= 1\n",
    "            else:\n",
    "                rst.append ( nums1[m-1] )\n",
    "                m -= 1\n",
    "                n -= 1\n",
    "        return rst                "
   ]
  },
  {
   "cell_type": "code",
   "execution_count": 8,
   "metadata": {},
   "outputs": [
    {
     "name": "stdout",
     "output_type": "stream",
     "text": [
      "2 4 2\n",
      "1 2 1\n",
      "[2, 1]\n"
     ]
    }
   ],
   "source": [
    "#  Testing ----\n",
    "if __name__ == '__main__':\n",
    "    print Solution2().intersect ([1, 2, 2, 1], [ 1, 2])"
   ]
  },
  {
   "cell_type": "markdown",
   "metadata": {
    "collapsed": true
   },
   "source": [
    "# Method #3: 使用 python 高级函数 【感觉考察不了编程技巧】"
   ]
  },
  {
   "cell_type": "code",
   "execution_count": null,
   "metadata": {
    "collapsed": true
   },
   "outputs": [],
   "source": [
    "from collections import Counter\n",
    "\n",
    "class Solution(object):\n",
    "    def intersect(self, nums1, nums2):\n",
    "        c1, c2 = Counter(nums1), Counter(nums2)\n",
    "        return sum( [[x] * min(c1[x], c2[x]) for x in c1 & c2], [] )"
   ]
  }
 ],
 "metadata": {
  "kernelspec": {
   "display_name": "Python 2",
   "language": "python",
   "name": "python2"
  },
  "language_info": {
   "codemirror_mode": {
    "name": "ipython",
    "version": 2
   },
   "file_extension": ".py",
   "mimetype": "text/x-python",
   "name": "python",
   "nbconvert_exporter": "python",
   "pygments_lexer": "ipython2",
   "version": "2.7.13"
  },
  "toc": {
   "nav_menu": {},
   "number_sections": true,
   "sideBar": true,
   "skip_h1_title": true,
   "toc_cell": true,
   "toc_position": {},
   "toc_section_display": "block",
   "toc_window_display": true
  }
 },
 "nbformat": 4,
 "nbformat_minor": 2
}

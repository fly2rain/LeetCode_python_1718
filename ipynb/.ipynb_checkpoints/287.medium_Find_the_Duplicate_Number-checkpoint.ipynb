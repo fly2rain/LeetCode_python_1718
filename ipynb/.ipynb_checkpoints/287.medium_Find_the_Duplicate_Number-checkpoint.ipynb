{
 "cells": [
  {
   "cell_type": "markdown",
   "metadata": {
    "toc": true
   },
   "source": [
    "<h1>Table of Contents<span class=\"tocSkip\"></span></h1>\n",
    "<div class=\"toc\" style=\"margin-top: 1em;\"><ul class=\"toc-item\"><li><span><a href=\"#链接\" data-toc-modified-id=\"链接-1\"><span class=\"toc-item-num\">1&nbsp;&nbsp;</span>链接</a></span></li><li><span><a href=\"#题意\" data-toc-modified-id=\"题意-2\"><span class=\"toc-item-num\">2&nbsp;&nbsp;</span>题意</a></span></li><li><span><a href=\"#分析\" data-toc-modified-id=\"分析-3\"><span class=\"toc-item-num\">3&nbsp;&nbsp;</span>分析</a></span></li><li><span><a href=\"#总结\" data-toc-modified-id=\"总结-4\"><span class=\"toc-item-num\">4&nbsp;&nbsp;</span>总结</a></span></li></ul></div>"
   ]
  },
  {
   "cell_type": "code",
   "execution_count": null,
   "metadata": {
    "collapsed": true
   },
   "outputs": [],
   "source": []
  },
  {
   "cell_type": "markdown",
   "metadata": {},
   "source": [
    "# 287.medium_Find_the_Duplicate_Number\n",
    "\n",
    "### 链接\n",
    "* [Tags: Top 100 Liked Questions + Binary Search](https://leetcode.com/problemset/algorithms/?listId=79h8rn6&topicSlugs=binary-search)\n",
    "* 题目：https://leetcode.com/problems/find-the-duplicate-number/description/\n",
    "\n",
    "### 题意\n",
    "* 给定 array 包含 n + 1 个整数，它们都在 1 到 n 之间，所以势必有元素出现多次。找到这个元素，并返回。\n",
    "* 注意：\n",
    " - 这里假设只有一个元素 duplicate，但它不一定 duplicate 两次，而是出现非常多的次数。\n",
    " - 不能改变 array 中的元素\n",
    " - runtime complexity 少于 $O(n^2)$，constant extra space $O(1)$\n",
    "\n",
    "### 分析\n",
    "* 第一印象是sort一把。但是因为不能改变 array 中元素，且constant extra space $O(1)$，所以不能 sort.\n",
    "* 好在这里 runtime complexity 少于 $O(n^2)$，时间复杂度要求较松。\n",
    "\n",
    "### 总结\n",
    "* 【题意的 key point】n + 1 个 element 都在 1 到 n 之间。如果没有重复全覆盖，index均值和 value 均值将重复。而这里有且有一个元素重复，其他只出现一次，该重复的因素会加重某部分的比重。利用该信息不断 binary search，不断缩小范围，直到找到所要的元素。\n",
    "* 原来 binary search (logarithmic search or binary chop) 不一定需要给定 sorted array。\n",
    "```python\n",
    "```"
   ]
  },
  {
   "cell_type": "markdown",
   "metadata": {},
   "source": [
    "# Method #1：假设允许改变array, 或允许额外space\n",
    "* 假设允许改变array, 或允许额外space, 总之可以 sort.\n",
    "* 这么设定，问题一下子由原来的 medium 变成 easy."
   ]
  },
  {
   "cell_type": "code",
   "execution_count": null,
   "metadata": {
    "collapsed": true
   },
   "outputs": [],
   "source": [
    "class Solution(object):\n",
    "    def findDuplicate(self, nums):\n",
    "        \"\"\"\n",
    "        :type nums: List[int]\n",
    "        :rtype: int\n",
    "        \"\"\"\n",
    "        if not nums: # 如果输入是空的，那么直接返回 None\n",
    "            return None\n",
    "        nums.sort ()\n",
    "        for i in range ( len(nums) ):\n",
    "            ## 这样写及其危险，有个错误, 就是漏掉第一个了。\n",
    "            # if i > 0 and nums[i] != nums[i-1]:\n",
    "            #     continue\n",
    "            # return nums[i]\n",
    "            if i > 0 and nums[i] == nums[i-1]:\n",
    "                return nums[i]\n",
    "        return None"
   ]
  },
  {
   "cell_type": "code",
   "execution_count": null,
   "metadata": {
    "collapsed": true
   },
   "outputs": [],
   "source": [
    "#  Testing ----\n",
    "if __name__ == '__main__':\n",
    "    print Solution_2 (). "
   ]
  },
  {
   "cell_type": "markdown",
   "metadata": {},
   "source": [
    "# Method #2: 按照原题要求（当做 follow ups）\n",
    "* https://discuss.leetcode.com/topic/25580/two-solutions-with-explanation-o-nlog-n-and-o-n-time-o-1-space-without-changing-the-input-array"
   ]
  },
  {
   "cell_type": "code",
   "execution_count": 6,
   "metadata": {
    "collapsed": true
   },
   "outputs": [],
   "source": [
    "class Solution(object):\n",
    "    def findDuplicate(self, nums):\n",
    "        \"\"\"\n",
    "        :type nums: List[int]\n",
    "        :rtype: int\n",
    "        \"\"\"\n",
    "        low, high = 0, len(nums) - 1\n",
    "        while low < high:\n",
    "            cnts = 0\n",
    "            med  = (low + high) / 2\n",
    "            for i in xrange (low, high + 1):\n",
    "                if nums[i] <= med:\n",
    "                    cnts += 1\n",
    "            if cnts < med:\n",
    "                high = med - 1\n",
    "            else:\n",
    "                low  = med + 1\n",
    "        return low\n",
    "                \n",
    "                    "
   ]
  }
 ],
 "metadata": {
  "kernelspec": {
   "display_name": "Python 2",
   "language": "python",
   "name": "python2"
  },
  "language_info": {
   "codemirror_mode": {
    "name": "ipython",
    "version": 2
   },
   "file_extension": ".py",
   "mimetype": "text/x-python",
   "name": "python",
   "nbconvert_exporter": "python",
   "pygments_lexer": "ipython2",
   "version": "2.7.13"
  },
  "toc": {
   "nav_menu": {},
   "number_sections": true,
   "sideBar": true,
   "skip_h1_title": true,
   "toc_cell": true,
   "toc_position": {},
   "toc_section_display": "block",
   "toc_window_display": false
  }
 },
 "nbformat": 4,
 "nbformat_minor": 2
}

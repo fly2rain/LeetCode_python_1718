{
 "cells": [
  {
   "cell_type": "markdown",
   "metadata": {
    "toc": true
   },
   "source": [
    "<h1>Table of Contents<span class=\"tocSkip\"></span></h1>\n",
    "<div class=\"toc\" style=\"margin-top: 1em;\"><ul class=\"toc-item\"><li><span><a href=\"#Useful-links:\" data-toc-modified-id=\"Useful-links:-1\"><span class=\"toc-item-num\">1&nbsp;&nbsp;</span>Useful links:</a></span><ul class=\"toc-item\"><li><span><a href=\"#链接\" data-toc-modified-id=\"链接-1.1\"><span class=\"toc-item-num\">1.1&nbsp;&nbsp;</span>链接</a></span></li></ul></li><li><span><a href=\"#Quicksort-()\" data-toc-modified-id=\"Quicksort-()-2\"><span class=\"toc-item-num\">2&nbsp;&nbsp;</span>Quicksort ()</a></span></li></ul></div>"
   ]
  },
  {
   "cell_type": "markdown",
   "metadata": {},
   "source": [
    "## Useful links:\n",
    "* [**MIT 6.006 Introduction to Algorithms, Fall 2011**](https://www.youtube.com/watch?v=HtSuA80QTyo&list=PLUl4u3cNGP61Oq3tWYp6V_F-5jb5L2iHb)\n",
    "\n",
    "* [**Divide and conquer algorithms**](https://www.khanacademy.org/computing/computer-science/algorithms/merge-sort/a/divide-and-conquer-algorithms)【Khan academy 的网页资料，没有视频，但是还是很清楚】\n",
    "    \n",
    "* [**Data structures & algorithms**](https://www.youtube.com/playlist?list=PL88gHdbavLXrlZgy97sqyd0rnViz0JTJ9) 【Khan academy 的教程视频，值得看看】\n",
    "    \n",
    "* [**Data Structures: Heaps**](https://www.youtube.com/watch?v=t0Cq6tVNRBA)\n",
    "\n",
    "* [**Heaps and Heap Sort**](https://www.youtube.com/watch?v=B7hVxCmfPtM)\n",
    "    \n",
    "    \n",
    "# 1. Sort \n",
    "### 链接\n",
    "\n",
    "* wiki-link: https://en.wikipedia.org/wiki/Sorting_algorithm\n",
    "\n",
    "## Quicksort ()"
   ]
  },
  {
   "cell_type": "code",
   "execution_count": 2,
   "metadata": {},
   "outputs": [
    {
     "name": "stdout",
     "output_type": "stream",
     "text": [
      "[1, 1, 2, 3, 6, 8, 10]\n"
     ]
    }
   ],
   "source": [
    "## 这不是 in-place sorting，容易理解，但是算法不是最优。\n",
    "def quicksort(arr):\n",
    "    if len(arr) <= 1:\n",
    "        return arr\n",
    "    \n",
    "    # 找到 pivot \n",
    "    pivot = arr[len(arr) // 2]\n",
    "    left = [x for x in arr if x < pivot]\n",
    "    middle = [x for x in arr if x == pivot]\n",
    "    right = [x for x in arr if x > pivot]\n",
    "    return quicksort(left) + middle + quicksort(right)\n",
    "\n",
    "print(quicksort([3,6,8,10,1,2,1]))"
   ]
  },
  {
   "cell_type": "code",
   "execution_count": 2,
   "metadata": {},
   "outputs": [
    {
     "name": "stdout",
     "output_type": "stream",
     "text": [
      "[1, 1, 2, 3, 6, 8, 10]\n"
     ]
    }
   ],
   "source": [
    "#=======================================================================\n",
    "#  Author: Isai Damier\n",
    "#  Title: QuickSort\n",
    "#  Project: geekviewpoint\n",
    "#  Package: algorithm.sorting\n",
    "#\n",
    "#  Statement: Given a disordered list of integers (or any other items),\n",
    "#  rearrange the integers in natural order.\n",
    "#\n",
    "#  Sample Input: [8,5,3,1,9,6,0,7,4,2]\n",
    "#\n",
    "#  Sample Output: [0,1,2,3,4,5,6,7,8,9]\n",
    "#\n",
    "#  Time Complexity of Solution:\n",
    "#  Best = Average = O(nlog(n)); Worst = O(n^2).\n",
    "#=======================================================================\n",
    "# http://www.geekviewpoint.com/python/sorting/quicksort\n",
    "import random\n",
    " \n",
    "def quicksort( aList ):\n",
    "    _quicksort( aList, 0, len( aList ) - 1 )\n",
    "    return aList\n",
    "\n",
    "def _quicksort( aList, first, last ):\n",
    "    if first < last:\n",
    "        pivot = partition( aList, first, last )\n",
    "        _quicksort( aList, first, pivot - 1 )\n",
    "        _quicksort( aList, pivot + 1, last )\n",
    " \n",
    " \n",
    "def partition( aList, first, last ) :\n",
    "    pivot = first + random.randrange( last - first + 1 )\n",
    "    swap( aList, pivot, last )\n",
    "    for i in xrange( first, last ):\n",
    "        if aList[i] <= aList[last]:\n",
    "            swap( aList, i, first )\n",
    "            first += 1\n",
    " \n",
    "    swap( aList, first, last )\n",
    "    return first\n",
    " \n",
    "def swap( A, x, y ):\n",
    "    A[x], A[y]=A[y], A[x]\n",
    "\n",
    "print(quicksort([3,6,8,10,1,2,1]))"
   ]
  },
  {
   "cell_type": "code",
   "execution_count": 72,
   "metadata": {},
   "outputs": [
    {
     "name": "stdout",
     "output_type": "stream",
     "text": [
      "[1, 1, 2, 3, 6, 8, 10]\n"
     ]
    }
   ],
   "source": [
    "## 自已实现与　12/20/2017 \n",
    "import random \n",
    "\n",
    "def quicksort (nums):\n",
    "    if len(nums) <= 1:\n",
    "        return nums\n",
    "    _quicksort (nums, 0, len(nums) - 1)\n",
    "    return nums\n",
    "\n",
    "def _quicksort (nums, ll, rr):\n",
    "    if ll < rr:\n",
    "        pivot = partition (nums, ll, rr)\n",
    "        _quicksort (nums, ll, pivot - 1)\n",
    "        _quicksort (nums, pivot + 1, rr)\n",
    "    \n",
    "def partition (nums, ll, rr):\n",
    "    # select the random element as the pivot\n",
    "    pivot = random.randint (ll, rr)\n",
    "    swap (nums, pivot, rr)\n",
    "    \n",
    "    for j in xrange (ll, rr):\n",
    "        if nums[j] > nums[rr]:\n",
    "            continue\n",
    "        swap (nums, ll, j)\n",
    "        ll += 1\n",
    "    swap (nums, ll, rr)\n",
    "    return ll\n",
    "    \n",
    "def swap (nums, i, j):\n",
    "    nums[i], nums[j] = nums[j], nums[i]\n",
    "    \n",
    "print  quicksort ([3,6,8,10,1,2,1])"
   ]
  },
  {
   "cell_type": "code",
   "execution_count": 1,
   "metadata": {},
   "outputs": [
    {
     "name": "stdout",
     "output_type": "stream",
     "text": [
      "[1, 1, 2, 3, 6, 8, 10]\n"
     ]
    }
   ],
   "source": [
    "# 1/18/2018 written when Chenjing Mao had the road test\n",
    "\n",
    "import random\n",
    "\n",
    "def quicksort (nums):\n",
    "    if len(nums) <= 1:\n",
    "        return nums\n",
    "    __quicksort (nums, 0, len(nums) - 1)\n",
    "    return nums\n",
    "\n",
    "def __quicksort (nums, l, r):\n",
    "    if l < r:\n",
    "        pivot = partition (nums, l, r)\n",
    "        __quicksort (nums, l, pivot-1)\n",
    "        __quicksort (nums, pivot+1, r)\n",
    "\n",
    "def partition (nums, l, r):\n",
    "    pivot = random.randint (l, r)\n",
    "    swap (nums, r, pivot)\n",
    "    \n",
    "    for i in xrange (l, r):\n",
    "        if nums[i] > nums[r]:\n",
    "            continue\n",
    "        swap (nums, i, l)\n",
    "        l += 1\n",
    "    swap (nums, l, r)\n",
    "    return l\n",
    "    \n",
    "def swap (nums, l, r):\n",
    "    nums[l], nums[r] = nums[r], nums[l]\n",
    "    \n",
    "\n",
    "print  quicksort ([3,6,8,10,1,2,1])\n"
   ]
  },
  {
   "cell_type": "code",
   "execution_count": 6,
   "metadata": {},
   "outputs": [
    {
     "name": "stdout",
     "output_type": "stream",
     "text": [
      "[1, 1, 2, 3, 6, 8, 10]\n"
     ]
    }
   ],
   "source": [
    "# 1/18/2018 晚上-not bug free yet\n",
    "\n",
    "import random \n",
    "\n",
    "def quicksort (nums):\n",
    "    if len(nums) <= 1: ##? 写成 len(s) 了\n",
    "        return nums\n",
    "    \n",
    "    _quicksort (nums, 0, len(nums) - 1)\n",
    "    return nums\n",
    "\n",
    "def _quicksort (nums, l, r):\n",
    "    if l < r:\n",
    "        pivot = partition (nums, l, r)\n",
    "        _quicksort (nums, l, pivot-1)\n",
    "        _quicksort (nums, pivot+1, r)\n",
    "    \n",
    "def partition (nums, l, r):\n",
    "    pivot = random.randint (l, r)\n",
    "    swap (nums, pivot, r)\n",
    "    \n",
    "    # 其实这句以下和 pivot 就没啥关系了......\n",
    "    # 刚开始 r 的位置是 pivot, 最终 l 的位置才是 pivot.\n",
    "    for i in xrange (l, r):\n",
    "        if nums[i] > nums[r]:\n",
    "            continue\n",
    "        swap (nums, i, l)\n",
    "        l += 1     ##? 忘记这一句了 \n",
    "    swap (nums, l, r) ## 这一句 写成了 swap (nums, l, pivot)\n",
    "    \n",
    "    return l ##? 这一句写成了 return pivot\n",
    "    \n",
    "    \n",
    "def swap (nums, i, j):\n",
    "    nums[i], nums[j] = nums[j], nums[i]\n",
    "    \n",
    "print  quicksort ([3,6,8,10,1,2,1])"
   ]
  },
  {
   "cell_type": "code",
   "execution_count": 7,
   "metadata": {},
   "outputs": [
    {
     "name": "stdout",
     "output_type": "stream",
     "text": [
      "[1, 1, 2, 3, 6, 8, 10]\n"
     ]
    }
   ],
   "source": [
    "# bug-free code at 1/18/18 7:53 PM \n",
    "import random \n",
    "\n",
    "def quicksort (nums):\n",
    "    if len(nums) <= 1:\n",
    "        return nums\n",
    "    \n",
    "    _quicksort (nums, 0, len(nums) - 1 )\n",
    "    return nums\n",
    "\n",
    "def _quicksort (nums, l, r):\n",
    "    if l < r :\n",
    "        pivot = partition (nums, l, r)\n",
    "        _quicksort (nums, l, pivot - 1)\n",
    "        _quicksort (nums, pivot + 1, r)\n",
    "        \n",
    "def partition (nums, l, r):\n",
    "    pivot = random.randint (l, r)\n",
    "    swap (nums, pivot, r)\n",
    "    \n",
    "    for i in xrange (l, r):\n",
    "        if nums[i] > nums[r]:\n",
    "            continue\n",
    "        swap (nums, i, l)\n",
    "        l += 1\n",
    "    swap (nums, l, r)\n",
    "    return l\n",
    "    \n",
    "def swap (nums, l, r):\n",
    "    nums[l], nums[r] = nums[r], nums[l]\n",
    "\n",
    "\n",
    "print  quicksort ([3,6,8,10,1,2,1])"
   ]
  },
  {
   "cell_type": "code",
   "execution_count": 3,
   "metadata": {},
   "outputs": [
    {
     "name": "stdout",
     "output_type": "stream",
     "text": [
      "[1, 1, 2, 3, 6, 8, 10]\n"
     ]
    }
   ],
   "source": [
    "## 自已实现与　12/20/2017 \n",
    "def quicksort (nums):\n",
    "    if not nums:\n",
    "        return nums\n",
    "    pivot = nums [len(nums) // 2]\n",
    "    left   = [x for x in nums if x < pivot]\n",
    "    middle = [x for x in nums if x == pivot]\n",
    "    right  = [x for x in nums if x > pivot]\n",
    "    \n",
    "    return quicksort(left) + middle + quicksort(right)\n",
    "    \n",
    "print  quicksort ([3,6,8,10,1,2,1])\n"
   ]
  },
  {
   "cell_type": "code",
   "execution_count": null,
   "metadata": {
    "collapsed": true
   },
   "outputs": [],
   "source": [
    "## 自已实现与　12/20/2017 \n",
    "import random \n",
    "\n",
    "def quicksort (nums):\n",
    "    nn = len (nums)\n",
    "    if nn <= 1:\n",
    "        return nums\n",
    "    \n",
    "    _quicksort (nums, 0, nn - 1)\n",
    "    return nums\n",
    "\n",
    "def _quicksort (nums, l, r):\n",
    "    if l < r:\n",
    "        pivot = partition (nums, l, r)\n",
    "        _quicksort (nums, l, pivot - 1)\n",
    "        _quicksort (nums, pivot + 1, r)\n",
    "        \n",
    "def partition (nums, l, r):\n",
    "    pivot = random.randint (l, r)\n",
    "    swap (nums, r, pivot)\n",
    "    for i in xrange (l, r):\n",
    "        if nums[i] > nums[r]:\n",
    "            continue\n",
    "        swap (nums, i, l)\n",
    "        l += 1\n",
    "    swap (nums, l, r)\n",
    "    return l\n",
    "        \n",
    "def swap (nums, l, r):\n",
    "    nums[l], nums[r] = nums[r], nums[l]\n",
    "    \n",
    "print  quicksort ([3,6,8,10,1,2,1])"
   ]
  }
 ],
 "metadata": {
  "kernelspec": {
   "display_name": "Python 2",
   "language": "python",
   "name": "python2"
  },
  "language_info": {
   "codemirror_mode": {
    "name": "ipython",
    "version": 2
   },
   "file_extension": ".py",
   "mimetype": "text/x-python",
   "name": "python",
   "nbconvert_exporter": "python",
   "pygments_lexer": "ipython2",
   "version": "2.7.13"
  },
  "toc": {
   "nav_menu": {},
   "number_sections": true,
   "sideBar": true,
   "skip_h1_title": true,
   "toc_cell": true,
   "toc_position": {},
   "toc_section_display": "block",
   "toc_window_display": false
  }
 },
 "nbformat": 4,
 "nbformat_minor": 2
}

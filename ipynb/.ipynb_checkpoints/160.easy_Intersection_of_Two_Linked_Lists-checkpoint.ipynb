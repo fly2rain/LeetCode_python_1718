{
 "cells": [
  {
   "cell_type": "markdown",
   "metadata": {},
   "source": [
    "# 160.easy_Intersection_of_Two_Linked_Lists\n",
    "### 链接\n",
    "\n",
    "* 题目：https://leetcode.com/problems/intersection-of-two-linked-lists/description/\n",
    "* 三个标准的解题思路：https://leetcode.com/problems/intersection-of-two-linked-lists/solution/\n",
    "    * brute force\n",
    "    * Hash Table\n",
    "    * Two points\n",
    "\n",
    "### 题意\n",
    "* 找到两个 linked list 的 intersection 开始的 node。\n",
    "* 链接中 example 很好地展示了题意。\n",
    "\n",
    "### 分析\n",
    "* linked list 只能逐个游走。brute force 方法是， 逐个检查 linked list A 中每个 node 是否在 linked list B 中。\n",
    "* 疑问1：如何确定连个 linked list A 的 node 是在 B 中呢？【原来python 中可以判断 reference 是否相等的】\n",
    "\n",
    "### 编程经验\n",
    "\n",
    "```python\n",
    "```"
   ]
  },
  {
   "cell_type": "markdown",
   "metadata": {},
   "source": [
    "# Method #1: 标准答案 - Two points\n",
    "思路：\n",
    "* list_a 跑完之后，跑 list_b；另一个按照相反的顺序，跑。\n",
    "* 如果两个 list 有公共部分，则两种跑法相遇在公共部分。\n",
    "* 如果两个 list 没有任何公共部分，则一直跑到结束也遇不到。\n",
    " \n",
    "复杂度分析：\n",
    "* runtime：$O(m+n)$\n",
    "* space complexity：$O(1)$"
   ]
  },
  {
   "cell_type": "code",
   "execution_count": null,
   "metadata": {
    "collapsed": true
   },
   "outputs": [],
   "source": [
    "# Definition for singly-linked list.\n",
    "class ListNode(object):\n",
    "    def __init__(self, x):\n",
    "        self.val = x\n",
    "        self.next = None\n",
    "\n",
    "class Solution(object):\n",
    "    def getIntersectionNode(self, headA, headB):\n",
    "        \"\"\"\n",
    "        :type headA, headB: ListNode\n",
    "        :rtype: ListNode\n",
    "        \"\"\"\n",
    "        curA = headA\n",
    "        curB = headB\n",
    "        \n",
    "        while curA != curB:\n",
    "            if not curA:\n",
    "                curA = headB\n",
    "            else:\n",
    "                curA = curA.next\n",
    "                \n",
    "            if not curB:\n",
    "                curB = headA\n",
    "            else:\n",
    "                curB = curB.next\n",
    "                \n",
    "        return curA\n",
    "# On the second traversal, they either hit or miss. \n",
    "# if they meet, pa or pb would be the node we are looking for, \n",
    "# if they didn't meet, they will hit the end at the same iteration, \n",
    "# pa == pb == None, return either one of them is the same,None                "
   ]
  },
  {
   "cell_type": "markdown",
   "metadata": {},
   "source": [
    "# Method #2: 标准答案 - Hash table\n",
    "思路：\n",
    "* 将一个 list-a 转化成 hash table，逐渐询问 list-b 中每个元素是否在 list-a 的 hash table 中\n",
    "\n",
    "分析：\n",
    "* Time complexity: $O(m+n)$.\n",
    "* Space complexity: $O(m)$ or $O(n)$."
   ]
  },
  {
   "cell_type": "code",
   "execution_count": 1,
   "metadata": {
    "collapsed": true
   },
   "outputs": [],
   "source": [
    "class Solution(object):\n",
    "    def getIntersectionNode(self, headA, headB):\n",
    "        \"\"\"\n",
    "        :type head1, head1: ListNode\n",
    "        :rtype: ListNode\n",
    "        \"\"\"\n",
    "        ha, hb = headA, headB\n",
    "        \n",
    "        dicA = {}\n",
    "        while ha:\n",
    "            dicA[ha] = 1\n",
    "            ha = ha.next\n",
    "            \n",
    "        while hb:\n",
    "            if hb in dicA:\n",
    "                return hb\n",
    "            \n",
    "            hb = hb.next\n",
    "            \n",
    "        return None"
   ]
  },
  {
   "cell_type": "code",
   "execution_count": null,
   "metadata": {
    "collapsed": true
   },
   "outputs": [],
   "source": []
  }
 ],
 "metadata": {
  "kernelspec": {
   "display_name": "Python 2",
   "language": "python",
   "name": "python2"
  },
  "language_info": {
   "codemirror_mode": {
    "name": "ipython",
    "version": 2
   },
   "file_extension": ".py",
   "mimetype": "text/x-python",
   "name": "python",
   "nbconvert_exporter": "python",
   "pygments_lexer": "ipython2",
   "version": "2.7.13"
  }
 },
 "nbformat": 4,
 "nbformat_minor": 2
}

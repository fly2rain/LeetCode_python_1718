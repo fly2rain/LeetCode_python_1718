{
 "cells": [
  {
   "cell_type": "markdown",
   "metadata": {},
   "source": [
    "# 067.easy_Add_Binary\n",
    "### 链接\n",
    "\n",
    "* 题目: https://leetcode.com/problems/add-binary/description/\n",
    "\n",
    "### 题意\n",
    "* 两个 string 存放的都是 binary number，将他们相加，输出相加后的 string 结果\n",
    "* 关键是： binary 进制 和 string\n",
    "\n",
    "### 分析\n",
    "*\n",
    "\n",
    "### 编程经验\n",
    "\n",
    "```python\n",
    "```"
   ]
  },
  {
   "cell_type": "markdown",
   "metadata": {},
   "source": [
    "# Method #1:"
   ]
  },
  {
   "cell_type": "code",
   "execution_count": 5,
   "metadata": {},
   "outputs": [
    {
     "name": "stdout",
     "output_type": "stream",
     "text": [
      "110\n",
      "1000\n",
      "10101\n"
     ]
    }
   ],
   "source": [
    "class Solution(object):\n",
    "    def addBinary(self, a, b):\n",
    "        \"\"\"\n",
    "        :type a: str\n",
    "        :type b: str\n",
    "        :rtype: str\n",
    "        \"\"\"\n",
    "        na, nb, i  = len (a), len(b), 0\n",
    "        if na == 0: return b\n",
    "        if nb == 0: return a\n",
    "        \n",
    "        rst  = ''\n",
    "        base, incr = 2, 0\n",
    "        while i < na or i < nb or incr:\n",
    "            s = 0\n",
    "            if i < na:\n",
    "                s += int(a[na-i-1]) # 注意: index，是从高数值位 到 低数值位的。\n",
    "            if i < nb:\n",
    "                s += int(b[nb-i-1])\n",
    "            s += incr\n",
    "            \n",
    "            incr = s / base\n",
    "            # 注意: index，是从高数值位 到 低数值位的。\n",
    "            rst  = str (s % base) + rst\n",
    "            i += 1\n",
    "            \n",
    "        return rst\n",
    "\n",
    "# Testing \n",
    "print Solution ().addBinary ('101', '1')\n",
    "print Solution ().addBinary ('111', '1')\n",
    "print Solution ().addBinary ('1010', '1011')"
   ]
  },
  {
   "cell_type": "markdown",
   "metadata": {},
   "source": [
    "# Method #2: 标准答案\n",
    "* https://leetcode.com/problems/add-binary/discuss/24500"
   ]
  },
  {
   "cell_type": "code",
   "execution_count": null,
   "metadata": {
    "collapsed": true
   },
   "outputs": [],
   "source": [
    "class Solution:\n",
    "    def addBinary(self, a, b):\n",
    "        if len(a)==0: return b\n",
    "        if len(b)==0: return a\n",
    "        if a[-1] == '1' and b[-1] == '1':\n",
    "            return self.addBinary( self.addBinary(a[0:-1], b[0:-1]), '1') + '0'\n",
    "        else:\n",
    "            return self.addBinary(a[0:-1], b[0:-1]) + str(int(a[-1]) + int(b[-1]))"
   ]
  }
 ],
 "metadata": {
  "kernelspec": {
   "display_name": "Python 2",
   "language": "python",
   "name": "python2"
  },
  "language_info": {
   "codemirror_mode": {
    "name": "ipython",
    "version": 2
   },
   "file_extension": ".py",
   "mimetype": "text/x-python",
   "name": "python",
   "nbconvert_exporter": "python",
   "pygments_lexer": "ipython2",
   "version": "2.7.13"
  }
 },
 "nbformat": 4,
 "nbformat_minor": 2
}

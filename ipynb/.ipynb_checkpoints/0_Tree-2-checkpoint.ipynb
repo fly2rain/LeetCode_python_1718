{
 "cells": [
  {
   "cell_type": "markdown",
   "metadata": {
    "toc": true
   },
   "source": [
    "<h1>Table of Contents<span class=\"tocSkip\"></span></h1>\n",
    "<div class=\"toc\" style=\"margin-top: 1em;\"><ul class=\"toc-item\"><li><span><a href=\"#Resources:\" data-toc-modified-id=\"Resources:-1\"><span class=\"toc-item-num\">1&nbsp;&nbsp;</span>Resources:</a></span></li><li><span><a href=\"#Tree-的题经验总结\" data-toc-modified-id=\"Tree-的题经验总结-2\"><span class=\"toc-item-num\">2&nbsp;&nbsp;</span>Tree 的题经验总结</a></span><ul class=\"toc-item\"><li><span><a href=\"#经验1:-binary-tree-改变时,-将左子树的结果返回接到左连接点,-类似的需要右子树对应的操作,-i.e.,-root.left-=-self.dfs(root.left),-root.right-=-self.dfs(root.right)\" data-toc-modified-id=\"经验1:-binary-tree-改变时,-将左子树的结果返回接到左连接点,-类似的需要右子树对应的操作,-i.e.,-root.left-=-self.dfs(root.left),-root.right-=-self.dfs(root.right)-2.1\"><span class=\"toc-item-num\">2.1&nbsp;&nbsp;</span>经验1: binary tree 改变时, 将左子树的结果返回接到左连接点, 类似的需要右子树对应的操作, i.e., <span class=\"girk\">root.left = self.dfs(root.left)</span>, <span class=\"girk\">root.right = self.dfs(root.right)</span></a></span></li></ul></li><li><span><a href=\"#Challenging-problems\" data-toc-modified-id=\"Challenging-problems-3\"><span class=\"toc-item-num\">3&nbsp;&nbsp;</span><a href=\"\" target=\"_blank\">Challenging problems</a></a></span><ul class=\"toc-item\"><li><span><a href=\"#❤️114.med-Flatten-Binary-Tree-to-Linked-List\" data-toc-modified-id=\"❤️114.med-Flatten-Binary-Tree-to-Linked-List-3.1\"><span class=\"toc-item-num\">3.1&nbsp;&nbsp;</span><a href=\"https://leetcode.com/problems/flatten-binary-tree-to-linked-list/description/\" target=\"_blank\">❤️114.med-Flatten Binary Tree to Linked List</a></a></span></li><li><span><a href=\"#❤️98.med-Validate-Binary-Search-Tree\" data-toc-modified-id=\"❤️98.med-Validate-Binary-Search-Tree-3.2\"><span class=\"toc-item-num\">3.2&nbsp;&nbsp;</span><a href=\"https://leetcode.com/problems/validate-binary-search-tree/description/\" target=\"_blank\">❤️98.med-Validate Binary Search Tree</a></a></span></li><li><span><a href=\"#❤️❤️99.-Recover-Binary-Search-Tree\" data-toc-modified-id=\"❤️❤️99.-Recover-Binary-Search-Tree-3.3\"><span class=\"toc-item-num\">3.3&nbsp;&nbsp;</span><a href=\"https://leetcode.com/problems/recover-binary-search-tree/description/\" target=\"_blank\">❤️❤️99. Recover Binary Search Tree</a></a></span></li><li><span><a href=\"#❤️96.med-Unique-Binary-Search-Trees\" data-toc-modified-id=\"❤️96.med-Unique-Binary-Search-Trees-3.4\"><span class=\"toc-item-num\">3.4&nbsp;&nbsp;</span><a href=\"https://leetcode.com/problems/unique-binary-search-trees/description/\" target=\"_blank\">❤️96.med-Unique Binary Search Trees</a></a></span></li><li><span><a href=\"#❤️95.med-Unique-Binary-Search-Trees-II\" data-toc-modified-id=\"❤️95.med-Unique-Binary-Search-Trees-II-3.5\"><span class=\"toc-item-num\">3.5&nbsp;&nbsp;</span><a href=\"https://leetcode.com/problems/unique-binary-search-trees-ii/description/\" target=\"_blank\">❤️95.med-Unique Binary Search Trees II</a></a></span></li><li><span><a href=\"#❤️606.easy-Construct-String-from-Binary-Tree\" data-toc-modified-id=\"❤️606.easy-Construct-String-from-Binary-Tree-3.6\"><span class=\"toc-item-num\">3.6&nbsp;&nbsp;</span><a href=\"https://leetcode.com/problems/construct-string-from-binary-tree/description/\" target=\"_blank\">❤️606.easy-Construct String from Binary Tree</a></a></span></li><li><span><a href=\"#536.med-Construct-Binary-Tree-from-String\" data-toc-modified-id=\"536.med-Construct-Binary-Tree-from-String-3.7\"><span class=\"toc-item-num\">3.7&nbsp;&nbsp;</span><a href=\"https://leetcode.com/problems/construct-binary-tree-from-string/description/\" target=\"_blank\">536.med-Construct Binary Tree from String</a></a></span></li><li><span><a href=\"#297.hard-Serialize-and-Deserialize-Binary-Tree\" data-toc-modified-id=\"297.hard-Serialize-and-Deserialize-Binary-Tree-3.8\"><span class=\"toc-item-num\">3.8&nbsp;&nbsp;</span><a href=\"https://leetcode.com/problems/serialize-and-deserialize-binary-tree/description/\" target=\"_blank\">297.hard-Serialize and Deserialize Binary Tree</a></a></span></li><li><span><a href=\"#❤️449.med-Serialize-and-Deserialize-BST\" data-toc-modified-id=\"❤️449.med-Serialize-and-Deserialize-BST-3.9\"><span class=\"toc-item-num\">3.9&nbsp;&nbsp;</span><a href=\"https://leetcode.com/problems/serialize-and-deserialize-bst/description/\" target=\"_blank\">❤️449.med-Serialize and Deserialize BST</a></a></span></li><li><span><a href=\"#❤️652.med-Find-Duplicate-Subtrees\" data-toc-modified-id=\"❤️652.med-Find-Duplicate-Subtrees-3.10\"><span class=\"toc-item-num\">3.10&nbsp;&nbsp;</span><a href=\"https://leetcode.com/problems/find-duplicate-subtrees/description/\" target=\"_blank\">❤️652.med-Find Duplicate Subtrees</a></a></span></li><li><span><a href=\"#116.med-Populating-Next-Right-Pointers-in-Each-Node\" data-toc-modified-id=\"116.med-Populating-Next-Right-Pointers-in-Each-Node-3.11\"><span class=\"toc-item-num\">3.11&nbsp;&nbsp;</span><a href=\"https://leetcode.com/problems/populating-next-right-pointers-in-each-node/description/\" target=\"_blank\">116.med-Populating Next Right Pointers in Each Node</a></a></span></li><li><span><a href=\"#117.med-Populating-Next-Right-Pointers-in-Each-Node-II\" data-toc-modified-id=\"117.med-Populating-Next-Right-Pointers-in-Each-Node-II-3.12\"><span class=\"toc-item-num\">3.12&nbsp;&nbsp;</span><a href=\"https://leetcode.com/problems/populating-next-right-pointers-in-each-node-ii/description/\" target=\"_blank\">117.med-Populating Next Right Pointers in Each Node II</a></a></span></li><li><span><a href=\"#❤️623.med-Add-One-Row-to-Tree\" data-toc-modified-id=\"❤️623.med-Add-One-Row-to-Tree-3.13\"><span class=\"toc-item-num\">3.13&nbsp;&nbsp;</span><a href=\"https://leetcode.com/problems/add-one-row-to-tree/description/\" target=\"_blank\">❤️623.med-Add One Row to Tree</a></a></span></li><li><span><a href=\"#285.med-Inorder-Successor-in-BST\" data-toc-modified-id=\"285.med-Inorder-Successor-in-BST-3.14\"><span class=\"toc-item-num\">3.14&nbsp;&nbsp;</span><a href=\"https://leetcode.com/problems/inorder-successor-in-bst/description/\" target=\"_blank\">285.med-Inorder Successor in BST</a></a></span></li><li><span><a href=\"#❤️❤️250.med-Count-Univalue-Subtrees\" data-toc-modified-id=\"❤️❤️250.med-Count-Univalue-Subtrees-3.15\"><span class=\"toc-item-num\">3.15&nbsp;&nbsp;</span><a href=\"https://leetcode.com/problems/count-univalue-subtrees/description/\" target=\"_blank\">❤️❤️250.med-Count Univalue Subtrees</a></a></span></li></ul></li><li><span><a href=\"#2/2:-Tree\" data-toc-modified-id=\"2/2:-Tree-4\"><span class=\"toc-item-num\">4&nbsp;&nbsp;</span><a href=\"\" target=\"_blank\">2/2: Tree</a></a></span><ul class=\"toc-item\"><li><span><a href=\"#❤️105.med-Construct-Binary-Tree-from-Preorder-and-Inorder-Traversal\" data-toc-modified-id=\"❤️105.med-Construct-Binary-Tree-from-Preorder-and-Inorder-Traversal-4.1\"><span class=\"toc-item-num\">4.1&nbsp;&nbsp;</span><a href=\"https://leetcode.com/problems/construct-binary-tree-from-preorder-and-inorder-traversal/description/\" target=\"_blank\">❤️105.med-Construct Binary Tree from Preorder and Inorder Traversal</a></a></span></li><li><span><a href=\"#❤️106.med-Construct-Binary-Tree-from-Inorder-and-Postorder-Traversal\" data-toc-modified-id=\"❤️106.med-Construct-Binary-Tree-from-Inorder-and-Postorder-Traversal-4.2\"><span class=\"toc-item-num\">4.2&nbsp;&nbsp;</span><a href=\"https://leetcode.com/problems/construct-binary-tree-from-inorder-and-postorder-traversal/description/\" target=\"_blank\">❤️106.med-Construct Binary Tree from Inorder and Postorder Traversal</a></a></span></li><li><span><a href=\"#513.med-Find-Bottom-Left-Tree-Value\" data-toc-modified-id=\"513.med-Find-Bottom-Left-Tree-Value-4.3\"><span class=\"toc-item-num\">4.3&nbsp;&nbsp;</span><a href=\"https://leetcode.com/problems/find-bottom-left-tree-value/description/\" target=\"_blank\">513.med-Find Bottom Left Tree Value</a></a></span></li><li><span><a href=\"#515.med-Find-Largest-Value-in-Each-Tree-Row\" data-toc-modified-id=\"515.med-Find-Largest-Value-in-Each-Tree-Row-4.4\"><span class=\"toc-item-num\">4.4&nbsp;&nbsp;</span><a href=\"https://leetcode.com/problems/find-largest-value-in-each-tree-row/description/\" target=\"_blank\">515.med-Find Largest Value in Each Tree Row</a></a></span></li><li><span><a href=\"#662.med-Maximum-Width-of-Binary-Tree\" data-toc-modified-id=\"662.med-Maximum-Width-of-Binary-Tree-4.5\"><span class=\"toc-item-num\">4.5&nbsp;&nbsp;</span><a href=\"https://leetcode.com/problems/maximum-width-of-binary-tree/description/\" target=\"_blank\">662.med-Maximum Width of Binary Tree</a></a></span></li></ul></li><li><span><a href=\"#2/3:-Tree\" data-toc-modified-id=\"2/3:-Tree-5\"><span class=\"toc-item-num\">5&nbsp;&nbsp;</span><a href=\"\" target=\"_blank\">2/3: Tree</a></a></span><ul class=\"toc-item\"><li><span><a href=\"#451.med-Sort-Characters-By-Frequency\" data-toc-modified-id=\"451.med-Sort-Characters-By-Frequency-5.1\"><span class=\"toc-item-num\">5.1&nbsp;&nbsp;</span><a href=\"https://leetcode.com/problems/sort-characters-by-frequency/description/\" target=\"_blank\">451.med-Sort Characters By Frequency</a></a></span></li><li><span><a href=\"#508.med-Most-Frequent-Subtree-Sum\" data-toc-modified-id=\"508.med-Most-Frequent-Subtree-Sum-5.2\"><span class=\"toc-item-num\">5.2&nbsp;&nbsp;</span><a href=\"https://leetcode.com/problems/most-frequent-subtree-sum/description/\" target=\"_blank\">508.med-Most Frequent Subtree Sum</a></a></span></li></ul></li><li><span><a href=\"#2/4---2/5:-Tree\" data-toc-modified-id=\"2/4---2/5:-Tree-6\"><span class=\"toc-item-num\">6&nbsp;&nbsp;</span>2/4 - 2/5: Tree</a></span><ul class=\"toc-item\"><li><span><a href=\"#669.easy-Trim-a-Binary-Search-Tree\" data-toc-modified-id=\"669.easy-Trim-a-Binary-Search-Tree-6.1\"><span class=\"toc-item-num\">6.1&nbsp;&nbsp;</span><a href=\"https://leetcode.com/problems/trim-a-binary-search-tree/description/\" target=\"_blank\">669.easy-Trim a Binary Search Tree</a></a></span></li><li><span><a href=\"#450.med-Delete-Node-in-a-BST\" data-toc-modified-id=\"450.med-Delete-Node-in-a-BST-6.2\"><span class=\"toc-item-num\">6.2&nbsp;&nbsp;</span><a href=\"https://leetcode.com/problems/delete-node-in-a-bst/description/\" target=\"_blank\">450.med-Delete Node in a BST</a></a></span></li></ul></li><li><span><a href=\"#2/8:-Tree\" data-toc-modified-id=\"2/8:-Tree-7\"><span class=\"toc-item-num\">7&nbsp;&nbsp;</span>2/8: Tree</a></span><ul class=\"toc-item\"><li><span><a href=\"#366.medium-Find-Leaves-of-Binary-Tree\" data-toc-modified-id=\"366.medium-Find-Leaves-of-Binary-Tree-7.1\"><span class=\"toc-item-num\">7.1&nbsp;&nbsp;</span><a href=\"https://leetcode.com/problems/find-leaves-of-binary-tree/description/\" target=\"_blank\">366.medium-Find Leaves of Binary Tree</a></a></span></li><li><span><a href=\"#199.medium-Binary-Tree-Right-Side-View\" data-toc-modified-id=\"199.medium-Binary-Tree-Right-Side-View-7.2\"><span class=\"toc-item-num\">7.2&nbsp;&nbsp;</span><a href=\"https://leetcode.com/problems/binary-tree-right-side-view/description/\" target=\"_blank\">199.medium-Binary Tree Right Side View</a></a></span></li><li><span><a href=\"#129.medium-Sum-Root-to-Leaf-Numbers\" data-toc-modified-id=\"129.medium-Sum-Root-to-Leaf-Numbers-7.3\"><span class=\"toc-item-num\">7.3&nbsp;&nbsp;</span><a href=\"https://leetcode.com/problems/sum-root-to-leaf-numbers/description/\" target=\"_blank\">129.medium-Sum Root to Leaf Numbers</a></a></span></li></ul></li><li><span><a href=\"#2/28:-Tree-&amp;-String\" data-toc-modified-id=\"2/28:-Tree-&amp;-String-8\"><span class=\"toc-item-num\">8&nbsp;&nbsp;</span><a href=\"\" target=\"_blank\">2/28: Tree &amp; String</a></a></span><ul class=\"toc-item\"><li><span><a href=\"#❤️124.hard-Binary-Tree-Maximum-Path-Sum\" data-toc-modified-id=\"❤️124.hard-Binary-Tree-Maximum-Path-Sum-8.1\"><span class=\"toc-item-num\">8.1&nbsp;&nbsp;</span><a href=\"https://leetcode.com/problems/binary-tree-maximum-path-sum/description/\" target=\"_blank\">❤️124.hard-Binary Tree Maximum Path Sum</a></a></span></li><li><span><a href=\"#22.med-House-Robber-III\" data-toc-modified-id=\"22.med-House-Robber-III-8.2\"><span class=\"toc-item-num\">8.2&nbsp;&nbsp;</span><a href=\"https://leetcode.com/problems/house-robber-iii/description/\" target=\"_blank\">22.med-House Robber III</a></a></span></li></ul></li><li><span><a href=\"#3/1:-Prefix-Tree-(Trie)\" data-toc-modified-id=\"3/1:-Prefix-Tree-(Trie)-9\"><span class=\"toc-item-num\">9&nbsp;&nbsp;</span><a href=\"\" target=\"_blank\">3/1: Prefix Tree (Trie)</a></a></span><ul class=\"toc-item\"><li><span><a href=\"#208.med-Implement-Trie-(Prefix-Tree)\" data-toc-modified-id=\"208.med-Implement-Trie-(Prefix-Tree)-9.1\"><span class=\"toc-item-num\">9.1&nbsp;&nbsp;</span><a href=\"https://leetcode.com/problems/implement-trie-prefix-tree/description/\" target=\"_blank\">208.med-Implement Trie (Prefix Tree)</a></a></span></li><li><span><a href=\"#211.med-Add-and-Search-Word---Data-structure-design\" data-toc-modified-id=\"211.med-Add-and-Search-Word---Data-structure-design-9.2\"><span class=\"toc-item-num\">9.2&nbsp;&nbsp;</span><a href=\"https://leetcode.com/problems/add-and-search-word-data-structure-design/description/\" target=\"_blank\">211.med-Add and Search Word - Data structure design</a></a></span></li><li><span><a href=\"#648.med-Replace-Words\" data-toc-modified-id=\"648.med-Replace-Words-9.3\"><span class=\"toc-item-num\">9.3&nbsp;&nbsp;</span><a href=\"https://leetcode.com/problems/replace-words/description/\" target=\"_blank\">648.med-Replace Words</a></a></span></li><li><span><a href=\"#❓676.med-Implement-Magic-Dictionary\" data-toc-modified-id=\"❓676.med-Implement-Magic-Dictionary-9.4\"><span class=\"toc-item-num\">9.4&nbsp;&nbsp;</span><a href=\"https://leetcode.com/problems/implement-magic-dictionary/description/\" target=\"_blank\">❓676.med-Implement Magic Dictionary</a></a></span></li></ul></li><li><span><a href=\"#❤️-3/4:-Tree\" data-toc-modified-id=\"❤️-3/4:-Tree-10\"><span class=\"toc-item-num\">10&nbsp;&nbsp;</span><a href=\"\" target=\"_blank\">❤️ 3/4: Tree</a></a></span><ul class=\"toc-item\"><li><span><a href=\"#270.easy-Closest-Binary-Search-Tree-Value\" data-toc-modified-id=\"270.easy-Closest-Binary-Search-Tree-Value-10.1\"><span class=\"toc-item-num\">10.1&nbsp;&nbsp;</span><a href=\"https://leetcode.com/problems/closest-binary-search-tree-value/description/\" target=\"_blank\">270.easy-Closest Binary Search Tree Value</a></a></span></li><li><span><a href=\"#❓272.hard-Closest-Binary-Search-Tree-Value-II\" data-toc-modified-id=\"❓272.hard-Closest-Binary-Search-Tree-Value-II-10.2\"><span class=\"toc-item-num\">10.2&nbsp;&nbsp;</span><a href=\"https://leetcode.com/problems/closest-binary-search-tree-value-ii/description/\" target=\"_blank\">❓272.hard-Closest Binary Search Tree Value II</a></a></span></li><li><span><a href=\"#222.med-Count-Complete-Tree-Nodes\" data-toc-modified-id=\"222.med-Count-Complete-Tree-Nodes-10.3\"><span class=\"toc-item-num\">10.3&nbsp;&nbsp;</span><a href=\"https://leetcode.com/problems/count-complete-tree-nodes/description/\" target=\"_blank\">222.med-Count Complete Tree Nodes</a></a></span></li></ul></li></ul></div>"
   ]
  },
  {
   "cell_type": "markdown",
   "metadata": {},
   "source": [
    "# Tree-2: 主要关于 medium 的题.\n",
    "* 题型: [Top 100 Liked Questions + Tree](https://leetcode.com/problemset/algorithms/?topicSlugs=tree&listId=79h8rn6)\n",
    "* 题型: [Tree](https://leetcode.com/problemset/algorithms/?topicSlugs=tree)\n",
    "* Tree 果然很重要的 topic, 这么多题目"
   ]
  },
  {
   "cell_type": "markdown",
   "metadata": {
    "collapsed": true
   },
   "source": [
    "## Resources:\n",
    "* **Delete a node** from Binary Search Tree: https://www.youtube.com/watch?v=gcULXE7ViZw&t=2s \n",
    "    * 看起来挺复杂, 看明白之后发现挺简单的. 主要分为**两步**:\n",
    "        * 根据输入值, 找到要delete node. 这里需要 <span class=\"girk\">recursive call deletion.\n",
    "        * 找到之后, delete 该 node. \n",
    "        \n",
    "    * 关于 Node Deletion 有**三种情况**:\n",
    "        * **node 没有 children**. 直接将该 node 设成 None, 并释放它占用的内存.\n",
    "        * **node 只有一个 children**. 总体而言, 跳过当前 node, 指向 children 赋值. 操作起来有点不同, 是通过赋值和替代完成.\n",
    "        * **node 有两个 children**. 不能直接删除 node, 而是找到 <span class=\"girk\">***right 这边的 minimum node</span>***</span> 或者 <span class=\"girk\">***left 这边的 maximum node***</span>. 将其中一个 node 的值赋给当前 node, 然后递归调用 delete **删除 min or max node**.\n",
    "        \n",
    "    * <span class=\"burk\">评价</span>: 这是一个非常精彩的 recursion 和 R & D 的算法. 估计, 基本不可能写成 iteration."
   ]
  },
  {
   "cell_type": "markdown",
   "metadata": {},
   "source": [
    "## Tree 的题经验总结\n",
    "### 经验1: binary tree 改变时, 将左子树的结果返回接到左连接点, 类似的需要右子树对应的操作, i.e., <span class=\"girk\">root.left = self.dfs(root.left)</span>, <span class=\"girk\">root.right = self.dfs(root.right)</span>\n",
    "* 617.easy_Merge Two Binary Trees\n",
    "* 450.medium-Delete Node in a BST\n"
   ]
  },
  {
   "cell_type": "code",
   "execution_count": null,
   "metadata": {
    "collapsed": true
   },
   "outputs": [],
   "source": [
    "class TreeNode(object):\n",
    "    def __init__(self, x):\n",
    "        self.val = x\n",
    "        self.left = None\n",
    "        self.right = None\n",
    "        \n",
    "class BST(object):\n",
    "    def __init__(self):\n",
    "        self.root = None\n",
    "        \n",
    "    def inorder(self, node):\n",
    "        if not node: return\n",
    "        \n",
    "        self.inorder(node.left)\n",
    "        print node.val\n",
    "        self.inorder(node.right)\n",
    "    \n",
    "    # ❤️❤️ insert ------------------------------- ❤️❤️\n",
    "    # 要点: 1) 遇到 None node 创建, 2) left, right 衔接好, 3) 返回结果.\n",
    "    def insert(self, node, val):\n",
    "        if not node: \n",
    "            return TreeNode(val)\n",
    "        \n",
    "        if val < node.val:\n",
    "            node.left = self.insert(node.left, val)\n",
    "        else:\n",
    "            node.right = self.insert(node.right, val)\n",
    "        return node\n",
    "\n",
    "    def minValTree(self, node):\n",
    "        cur = node\n",
    "        while cur.left:\n",
    "            cur = cur.left\n",
    "        return cur\n",
    "    \n",
    "    def deleteNode(self, node, val):\n",
    "        if not node: return None\n",
    "        \n",
    "        if val < node.val:\n",
    "            node.left = self.deleteNode(node.left, val)\n",
    "        if val > node.val:\n",
    "            node.right = self.deleteNode(node.right, val)\n",
    "        else:\n",
    "            # case 1: one child or no child\n",
    "            if not node.left:\n",
    "                return node.right\n",
    "            elif not node.right:\n",
    "                return node.left\n",
    "            \n",
    "            # case 2: two childrens\n",
    "            else:\n",
    "                temp = self.minValTree(node.right)\n",
    "                node.val = temp.val\n",
    "                node.right = self.deleteNode(node.right, temp.val)\n",
    "        return node "
   ]
  },
  {
   "cell_type": "markdown",
   "metadata": {},
   "source": [
    "## [Challenging problems]()"
   ]
  },
  {
   "cell_type": "markdown",
   "metadata": {},
   "source": [
    "### [❤️114.med-Flatten Binary Tree to Linked List](https://leetcode.com/problems/flatten-binary-tree-to-linked-list/description/)\n",
    "##### 题意: 给定 binary tree, in-place 转化成 linked list.\n",
    "\n",
    "##### 参考视频\n",
    "* 公瑾讲解: https://www.youtube.com/watch?v=LfKRZ_qCmYQ 很清晰"
   ]
  },
  {
   "cell_type": "code",
   "execution_count": null,
   "metadata": {
    "collapsed": true
   },
   "outputs": [],
   "source": [
    "\"\"\"\n",
    "Given \n",
    "         1\n",
    "        / \\\n",
    "       2   5\n",
    "      / \\   \\\n",
    "     3   4   6\n",
    "The flattened tree should look like:\n",
    "       1\n",
    "        \\\n",
    "         2\n",
    "          \\\n",
    "           3\n",
    "            \\\n",
    "             4\n",
    "              \\\n",
    "               5\n",
    "                \\\n",
    "                 6\n",
    "\"\"\""
   ]
  },
  {
   "cell_type": "code",
   "execution_count": null,
   "metadata": {
    "collapsed": true
   },
   "outputs": [],
   "source": [
    "# 思路 (不懂多看看视频讲解)\n",
    "#  1. right -> left -> root 顺序, \n",
    "#  2. 每一步将当前 node.right = self.prev, node.left = None \n",
    " class Solution(object):\n",
    "    def __init__(self):\n",
    "        self.prev = None\n",
    "        \n",
    "    def flatten(self, root): #❤️❤️ right -> left -> root 的顺序. \n",
    "        \"\"\"\n",
    "        :type root: TreeNode\n",
    "        :rtype: void Do not return anything, modify root in-place instead.\n",
    "        \"\"\"\n",
    "        if not root: return None\n",
    "        \n",
    "        self.flatten(root.right)\n",
    "        self.flatten(root.left)\n",
    "        \n",
    "        root.right = self.prev\n",
    "        root.left = None # 因为是上述顺序, 不可能没有处理 left 就把 left 给砍掉的.\n",
    "        self.prev = root"
   ]
  },
  {
   "cell_type": "markdown",
   "metadata": {},
   "source": [
    "### [❤️98.med-Validate Binary Search Tree](https://leetcode.com/problems/validate-binary-search-tree/description/)\n",
    "##### 题意: 给定 binary tree, 判断它是否是 BST?\n",
    "\n",
    "##### 分析\n",
    "* 给定 binary tree, 无非就是判断 left <= root <= right? 还不够的, <span class=\"girk\">不仅需要对比 left/right node 和 current node 关系, 还要对比 left sub-tree 和 current node 关系.</span> 因为有时, 虽然 left node 符合条件, 但它的子树中节点有不满足条件. \n",
    "* 根据条件, 是 left-subtree <= root <= right-subtree.\n",
    "\n",
    "##### 参考视频:\n",
    "* 花花: https://www.youtube.com/watch?v=Jq0Wk9xeQ0U 讲得非常清楚. 通过"
   ]
  },
  {
   "cell_type": "code",
   "execution_count": null,
   "metadata": {
    "collapsed": true
   },
   "outputs": [],
   "source": [
    "# 方法1: up down 方法, 自然, 明了, 省去了传多个参数的麻烦. TC: O(n), SC: O(h)\n",
    "#   1) 给 root 设置一个范围, 充当 min & max, \n",
    "#   2) preorder 从上到下遍历 tree 节点, 改变每个left & right节点的 min & max 逐渐缩小范围.\n",
    "#   3) 递归调用左右节点, 检查每个节点是否满足 min < root < max.\n",
    "class Solution(object):\n",
    "    def isValidBST(self, root):\n",
    "        \"\"\"\n",
    "        :type root: TreeNode\n",
    "        :rtype: bool\n",
    "        \"\"\"\n",
    "        if not root: return True\n",
    "        return self.dfs(root, float(\"-inf\"), float(\"inf\"))\n",
    "      \n",
    "    def dfs(self, node, minval, maxval):\n",
    "        if not node: return True # ❤️ 这个条件蛮关键的.\n",
    "        \n",
    "        return (\n",
    "            minval < node.val < maxval and \n",
    "            self.dfs(node.left, minval, node.val) and \n",
    "            self.dfs(node.right, node.val, maxval)\n",
    "        )"
   ]
  },
  {
   "cell_type": "code",
   "execution_count": null,
   "metadata": {
    "collapsed": true
   },
   "outputs": [],
   "source": [
    "# 方法2: [inorder 遍历, prev < cur]\n",
    "#     1. 抓住 BST inorder (left -> root -> right) 是升序的特点.\n",
    "#     2. 每次检查 prev < cur 是否满足.\n",
    "class Solution(object): ### iteration ########################\n",
    "    def isValidBST(self, root):\n",
    "        \"\"\"\n",
    "        :type root: TreeNode\n",
    "        :rtype: bool\n",
    "        \"\"\"\n",
    "        if not root: return True\n",
    "        \n",
    "        stack, node, prev = [], root, float(\"-inf\")\n",
    "        while stack or node:\n",
    "            while node:\n",
    "                stack.append(node)\n",
    "                node = node.left\n",
    "                \n",
    "            node = stack.pop()\n",
    "            if prev >= node.val:\n",
    "                return False\n",
    "            \n",
    "            prev = node.val\n",
    "            node = node.right\n",
    "            \n",
    "        return True\n",
    "    \n",
    "class Solution(object): ### recursion ########################\n",
    "    def __init__(self): #👍👍👍 因为 inorder 需要返回 node.val 和 true (false), 所以引入成员变量.\n",
    "        self.isBST = True\n",
    "        self.prev = float(\"-inf\")\n",
    "        \n",
    "    def isValidBST(self, root):\n",
    "        \"\"\"\n",
    "        :type root: TreeNode\n",
    "        :rtype: bool\n",
    "        \"\"\"\n",
    "        if not root: return True\n",
    "        self.inorder(root)\n",
    "        return self.isBST\n",
    "    \n",
    "    def inorder(self, node):\n",
    "        if not node: return float(\"-inf\")\n",
    "        \n",
    "        self.inorder(node.left)\n",
    "        self.isBST = self.isBST and node.val > self.prev\n",
    "        self.prev = node.val\n",
    "        self.inorder(node.right)"
   ]
  },
  {
   "cell_type": "markdown",
   "metadata": {},
   "source": [
    "### [❤️❤️99. Recover Binary Search Tree](https://leetcode.com/problems/recover-binary-search-tree/description/)\n",
    "##### 题意: Two elements of a binary search tree (BST) are swapped by mistake.\n",
    "* Recover the tree without changing its structure.\n",
    "* 额外要求: O(n) space is pretty straight forward. Could you devise a constant space solution? constant space 需要 morris traversal, 太难了."
   ]
  },
  {
   "cell_type": "code",
   "execution_count": null,
   "metadata": {
    "collapsed": true
   },
   "outputs": [],
   "source": [
    "class Solution(object):\n",
    "    def recoverTree(self, root):\n",
    "        \"\"\"\n",
    "        :type root: TreeNode\n",
    "        :rtype: void Do not return anything, modify root in-place instead.\n",
    "        \"\"\"\n",
    "        if not root: return \n",
    "        \n",
    "        prev = first = second = None\n",
    "        stack, node = [], root\n",
    "        while stack or node:\n",
    "            while node:\n",
    "                stack.append(node)\n",
    "                node = node.left\n",
    "            \n",
    "            node = stack.pop()\n",
    "            if prev and prev.val > node.val:\n",
    "                if first is None:\n",
    "                    first = prev\n",
    "                second = node # ❤️❤️ 技巧, 这里不能 else, 万一只有两个 node. \n",
    "                    \n",
    "            prev = node\n",
    "            node = node.right\n",
    "            \n",
    "    \n",
    "        first.val, second.val = second.val, first.val"
   ]
  },
  {
   "cell_type": "markdown",
   "metadata": {},
   "source": [
    "### [❤️96.med-Unique Binary Search Trees](https://leetcode.com/problems/unique-binary-search-trees/description/)\n",
    "##### 题意: Given n, how many structurally unique BST's (binary search trees) that store values 1...n?\n",
    "* 题意的关键是 BST, 所以极大的限制了树的可能性, 构造的🌲 必须满足 BST 的性质.\n",
    "* Dynamic programming 问题.\n",
    "\n",
    "##### 参考视频\n",
    "* Edward Shi:\n",
    "    * 视频 https://www.youtube.com/watch?v=ZAq5BoTes8o\n",
    "    * code: https://github.com/EdwardShi92/Leetcode-Solution-Code/blob/master/UniqueBinarySearchTrees.java"
   ]
  },
  {
   "cell_type": "code",
   "execution_count": null,
   "metadata": {
    "collapsed": true
   },
   "outputs": [],
   "source": [
    "\"\"\"\n",
    " * 96. Unique Binary Search Trees\n",
    " * Given n, how many structurally unique BST's (binary search trees) that store values 1...n?\n",
    "     For example,\n",
    "     Given n = 3, there are a total of 5 unique BST's.\n",
    "     1         3     3      2      1\n",
    "      \\       /     /      / \\      \\\n",
    "       3     2     1      1   3      2\n",
    "      /     /       \\                 \\\n",
    "     2     1         2                 3\n",
    "     n = 3\n",
    "     root : 1   left : 0 right : 2   f(0) * f(2);\n",
    "     root : 2   left : 1 right : 1   f(1) * f(1);\n",
    "     root : 3   left : 2 right : 0   f(2) * f(0);\n",
    "     f(n) = f(0)*f(n-1) + f(1)*f(n-2) + ... + f(n-2)*f(1) + f(n-1)*f(0) #❤️👍👍 0 和 n -1 表示左右子树的节点个数\n",
    "     time : O(n);\n",
    "     space : O(n);\n",
    " * @param n\n",
    " * @return\n",
    "\"\"\"\n",
    "# 动态规划方程: f(n) = f(0)*f(n-1) + f(1)*f(n-2) + ... + f(n-2)*f(1) + f(n-1)*f(0)\n",
    "# ❤️❤️ 因为 f(n) 和其他所有项都相关, 因此不能做存储方面的简化. ❤️❤️\n",
    "\n",
    "class Solution(object):\n",
    "    def numTrees(self, n):\n",
    "        \"\"\"\n",
    "        :type n: int\n",
    "        :rtype: int\n",
    "        \"\"\"\n",
    "        F = [0] * (n+1) #❤️👍 第 0 - n 个元素. \n",
    "        F[0] = 1 # ❤️❤️❤️ dynamic programming 总是设初始值, 否则结果不能积累.\n",
    "        for i in xrange(1, n+1):\n",
    "            for j in xrange(i):\n",
    "                F[i] += F[j] * F[i-j-1] # ❎ F[i] 不是 F(n)\n",
    "                \n",
    "        return F[n]"
   ]
  },
  {
   "cell_type": "markdown",
   "metadata": {},
   "source": [
    "### [❤️95.med-Unique Binary Search Trees II](https://leetcode.com/problems/unique-binary-search-trees-ii/description/)\n",
    "##### 题意: Given an integer n, generate all structurally unique BST's (binary search trees) that store values 1...n.\n",
    "* 96 题是计数, 95 题是遍历所有可能的结构. 难度大了非常多.\n",
    "\n",
    "##### 教程\n",
    "* Jikai Tang: https://www.youtube.com/watch?v=dMFXgAhvdYY&t=58s\n",
    "* Edward Shi: https://www.youtube.com/watch?v=n5a4maM4eb8\n",
    "\n",
    "* 举例:"
   ]
  },
  {
   "cell_type": "code",
   "execution_count": null,
   "metadata": {
    "collapsed": true
   },
   "outputs": [],
   "source": [
    "\"\"\" Given n = 3, your program should return all 5 unique BST's shown below.\n",
    "\n",
    "   1         3     3      2      1\n",
    "    \\       /     /      / \\      \\\n",
    "     3     2     1      1   3      2\n",
    "    /     /       \\                 \\\n",
    "   2     1         2                 3\n",
    "\"\"\""
   ]
  },
  {
   "cell_type": "code",
   "execution_count": 3,
   "metadata": {},
   "outputs": [
    {
     "name": "stdout",
     "output_type": "stream",
     "text": [
      "[]\n"
     ]
    }
   ],
   "source": [
    "class Solution(object):\n",
    "    def generateTrees(self, n):\n",
    "        \"\"\"\n",
    "        :type n: int\n",
    "        :rtype: List[TreeNode]\n",
    "        \"\"\"\n",
    "        if n <= 0: return []\n",
    "        return self.buildTrees(1, n)\n",
    "        \n",
    "    def buildTrees(self, start, end):\n",
    "        rst = []\n",
    "        if start > end: # ❤️ rst 的一种可能, 直接 return\n",
    "            rst.append(None)\n",
    "            return rst\n",
    "        \n",
    "        for i in xrange(start, end+1): # ❎❤️ end + 1\n",
    "            leftTree = self.buildTrees(start, i-1)\n",
    "            rightTree = self.buildTrees(i+1, end)\n",
    "            \n",
    "            for left in leftTree:\n",
    "                for right in rightTree:\n",
    "                    node = TreeNode(i)\n",
    "                    \n",
    "                    node.left = left\n",
    "                    node.right = right\n",
    "                    rst.append(node) # ❤️ rst 的另一种生成可能\n",
    "        return rst \n",
    "    \n",
    "    \n",
    "print Solution().generateTrees(0)"
   ]
  },
  {
   "cell_type": "markdown",
   "metadata": {},
   "source": [
    "### [❤️606.easy-Construct String from Binary Tree](https://leetcode.com/problems/construct-string-from-binary-tree/description/)\n",
    "##### 题意: 将 binary tree 转化成 string (数字 + 括号), \n",
    "* 每次进入 sub-tree 加括号, left sub-tree 用()包含起来, right sub-tree 用()包含起来.\n",
    "* 省略两条规则\n",
    "    * 如果two children are empty, 省略所有的空括号\n",
    "    * 如果有 left child, 没有 right child, 则省略右边的空括号."
   ]
  },
  {
   "cell_type": "code",
   "execution_count": null,
   "metadata": {
    "collapsed": true
   },
   "outputs": [],
   "source": [
    "\"\"\" Example 1 ***************************************************************\n",
    "Input: Binary tree: [1,2,3,4]\n",
    "       1\n",
    "     /   \\\n",
    "    2     3\n",
    "   /    \n",
    "  4     \n",
    "  \n",
    "Output: \"1(2(4))(3)\"\n",
    "\n",
    "Explanation: Originallay it needs to be \"1(2(4)())(3()())\", \n",
    "but you need to omit all the unnecessary empty parenthesis pairs. \n",
    "And it will be \"1(2(4))(3)\"\n",
    "\"\"\"\n",
    "\n",
    "\"\"\" Example 2 ***************************************************************\n",
    "Input: Binary tree: [1,2,3,null,4]\n",
    "       1\n",
    "     /   \\\n",
    "    2     3\n",
    "     \\  \n",
    "      4 \n",
    "\n",
    "Output: \"1(2()(4))(3)\"\n",
    "\n",
    "Explanation: Almost the same as the first example, \n",
    "except we can't omit the first parenthesis pair to break the one-to-one mapping \n",
    "relationship between the input and the output.\n",
    "\"\"\""
   ]
  },
  {
   "cell_type": "code",
   "execution_count": null,
   "metadata": {
    "collapsed": true
   },
   "outputs": [],
   "source": [
    "# 思路: 暴力 string +, 各种 string +, 分很多种情况讨论\n",
    "# https://leetcode.com/problems/construct-string-from-binary-tree/solution/\n",
    "\n",
    "class Solution(object):        \n",
    "    def tree2str(self, t):\n",
    "        \"\"\"\n",
    "        :type t: TreeNode\n",
    "        :rtype: str\n",
    "        \"\"\"\n",
    "        if not t: return \"\"\n",
    "        \n",
    "        s = str(t.val) # ❤️❤️❤️ 利用变量减少大量冗余的代码.\n",
    "        l = self.tree2str(t.left)\n",
    "        r = self.tree2str(t.right)\n",
    "         \n",
    "        if not t.left and not t.right:\n",
    "            return s\n",
    "\n",
    "        if not t.right:\n",
    "            return s + \"(\" + l + \")\"\n",
    "            \n",
    "        # ❎ 竟然少了几个 + 号.\n",
    "        return s + \"(\" + l + \")(\" + r + \")\"   "
   ]
  },
  {
   "cell_type": "markdown",
   "metadata": {},
   "source": [
    "### [536.med-Construct Binary Tree from String](https://leetcode.com/problems/construct-binary-tree-from-string/description/)\n",
    "##### 题意: 和  606.easy-Construct String from Binary Tree 相反. 给定 string 构造出 binary tree.\n",
    "* <span class=\"girk\">String 的特点</span>: \n",
    "    * has zero, one or two pairs of parenthesis.\n",
    "    * The integer represents the root's value and a pair of parenthesis contains a child binary tree with the same structure.\n",
    "    * You always start to construct the left child node of the parent first if it exists.\n",
    "* Note that:\n",
    "    * There will only be '(', ')', '-' and '0' ~ '9' in the input string.\n",
    "    * An empty tree is represented by \"\" instead of \"()\".\n",
    "* 举例: "
   ]
  },
  {
   "cell_type": "code",
   "execution_count": null,
   "metadata": {
    "collapsed": true
   },
   "outputs": [],
   "source": [
    "\"\"\" example #1 --------------------------------\n",
    "Input: \"4(2(3)(1))(6(5))\"\n",
    "Output: return the tree root node representing the following tree:\n",
    "\n",
    "       4\n",
    "     /   \\\n",
    "    2     6\n",
    "   / \\   / \n",
    "  3   1 5 \n",
    "  \n",
    "只能碰到四种情况:\n",
    "1. empty\n",
    "2. [integer]\n",
    "3. [integer] ( [tree] )\n",
    "4. [integer] ( [tree] ) ( [tree] )\n",
    "\"\"\""
   ]
  },
  {
   "cell_type": "code",
   "execution_count": null,
   "metadata": {
    "collapsed": true
   },
   "outputs": [],
   "source": [
    "# 思路: 将 string 分为三段: 1) 头, 2) (left tree), 3) (right tree). 然后递归\n",
    "# 调用构建左子树和右子树.\n",
    "class Solution(object):\n",
    "    def str2tree(self, s):\n",
    "        \"\"\"\n",
    "        :type s: str\n",
    "        :rtype: TreeNode\n",
    "        \"\"\"\n",
    "        if not s: return None\n",
    "        \n",
    "        i = s.find(\"(\")\n",
    "        if i < 0: return TreeNode(int(s))\n",
    "        \n",
    "        cnt = 0\n",
    "        for j, x in enumerate(s):\n",
    "            if x == \"(\":\n",
    "                cnt += 1\n",
    "            elif x == \")\":\n",
    "                cnt -= 1\n",
    "            if j > i and cnt == 0: # \n",
    "                break\n",
    "        \n",
    "        node = TreeNode( int(s[:i]) )\n",
    "        node.left = self.str2tree( s[i+1:j] ) # ❤️❤️ 注意下标\n",
    "        node.right = self.str2tree( s[j+2:-1] ) # ❤️❤️ 注意下标\n",
    "        return node"
   ]
  },
  {
   "cell_type": "markdown",
   "metadata": {},
   "source": [
    "### [297.hard-Serialize and Deserialize Binary Tree](https://leetcode.com/problems/serialize-and-deserialize-binary-tree/description/)\n",
    "##### 题意: 将 binary tree 转化成 string (便于 storage 和 传输), 反过来将 string 转化成 binary tree.\n",
    "\n",
    "##### 思路: BFS serialize 和 deserialize. \n",
    "\n",
    "##### 参考视频:\n",
    "* Edward Shi: https://www.youtube.com/watch?v=8UKHhUhXugo\n",
    "* huahua: https://www.youtube.com/watch?v=8UKHhUhXugo"
   ]
  },
  {
   "cell_type": "markdown",
   "metadata": {},
   "source": [
    "```python\n",
    "for loop: # ❤️❤️ 有以下几句语句就能 level order traversal ❤️❤️\n",
    "    node = q.popleft()\n",
    "    \n",
    "    q.append(node.left)\n",
    "    q.append(node.right)\n",
    "```"
   ]
  },
  {
   "cell_type": "code",
   "execution_count": null,
   "metadata": {
    "collapsed": true
   },
   "outputs": [],
   "source": [
    "# time & space: O(n)\n",
    "# ❤️思路❤️: 严格的 BFS 遍历, 缺陷是浪费大量的空间存储 \"#\"\n",
    "\n",
    "from collections import deque\n",
    "class Codec:\n",
    "    def serialize(self, root):\n",
    "        \"\"\"Encodes a tree to a single string.\n",
    "        :type root: TreeNode\n",
    "        :rtype: str\n",
    "        \"\"\"\n",
    "        if not root: return \"\"\n",
    "        \n",
    "        rst = []\n",
    "        q = deque([root])\n",
    "        while q:\n",
    "            node = q.popleft()\n",
    "            if not node:\n",
    "                rst.append(\"#\")\n",
    "                continue\n",
    "            \n",
    "            rst.append(str(node.val))\n",
    "            q.append(node.left)\n",
    "            q.append(node.right)\n",
    "            \n",
    "        return \" \".join(rst)\n",
    "            \n",
    "\n",
    "    def deserialize(self, data): # ❤️❤️ 第一次看到这样的代码.\n",
    "        \"\"\"Decodes your encoded data to tree.\n",
    "        :type data: str\n",
    "        :rtype: TreeNode\n",
    "        \"\"\"\n",
    "        if not data: return None\n",
    "        \n",
    "        s = deque(data.split(\" \")) # ❤️ 这个地方和下面那种方法不同, 更加简便.\n",
    "        root = TreeNode(int(s.popleft()))\n",
    "        q = deque([root])\n",
    "        while s:\n",
    "            node = q.popleft()\n",
    "            \n",
    "            x = s.popleft()\n",
    "            if not x == \"#\": # ❤️❤️👍 只有有\"内容\"的项目才创建, 以为tree默认None\n",
    "                node.left = TreeNode(int(x))\n",
    "                q.append(node.left)\n",
    "            \n",
    "            x = s.popleft()\n",
    "            if not x == \"#\": # ❤️❤️👍 只有有\"内容\"的项目才创建, 以为tree默认None\n",
    "                node.right = TreeNode(int(x))\n",
    "                q.append(node.right)\n",
    "                \n",
    "        return root"
   ]
  },
  {
   "cell_type": "markdown",
   "metadata": {},
   "source": [
    "### [❤️449.med-Serialize and Deserialize BST](https://leetcode.com/problems/serialize-and-deserialize-bst/description/)\n",
    "##### 题意: 对 BST 的 serialize & deserialize.\n",
    "\n",
    "##### <span class=\"burk\">总结</span>: 利用 BST preorder 的特点, 节省大量的空间. <span class=\"girk\">root -> left -> right</span>, 其中 <span class=\"girk\">left 总是小于 root</span>, 利用这个性质自然<span class=\"girk\">区分开 left tree 和 right tree</span>."
   ]
  },
  {
   "cell_type": "code",
   "execution_count": null,
   "metadata": {
    "collapsed": true
   },
   "outputs": [],
   "source": [
    "# time & space: O(n)\n",
    "\n",
    "# Definition for a binary tree node.\n",
    "# class TreeNode(object):\n",
    "#     def __init__(self, x):\n",
    "#         self.val = x\n",
    "#         self.left = None\n",
    "#         self.right = None\n",
    "\n",
    "from collections import deque\n",
    "class Codec:\n",
    "    def serialize(self, root):\n",
    "        \"\"\"Encodes a tree to a single string.\n",
    "        \n",
    "        :type root: TreeNode\n",
    "        :rtype: str\n",
    "        \"\"\"\n",
    "        if not root: return \"\"\n",
    "        \n",
    "        rst, stack = [], [root]\n",
    "        while stack:\n",
    "            node = stack.pop() \n",
    "            rst.append(str(node.val))\n",
    "            \n",
    "            if node.right: stack.append(node.right)\n",
    "            if node.left: stack.append(node.left)\n",
    "                \n",
    "        return \" \".join(rst)\n",
    "\n",
    "        \n",
    "    def deserialize(self, data):\n",
    "        \"\"\"Decodes your encoded data to tree.\n",
    "        \n",
    "        :type data: str\n",
    "        :rtype: TreeNode\n",
    "        \"\"\"\n",
    "        if not data: return None\n",
    "        \n",
    "        q = deque()\n",
    "        for x in data.split(\" \"):\n",
    "            q.append(int(x))\n",
    "        return self.helper(q)\n",
    "        \n",
    "    def helper(self, q):\n",
    "        if not q: return None\n",
    "         \n",
    "        small_q = deque()\n",
    "        root = TreeNode(q.popleft()) \n",
    "        \n",
    "        while q and q[0] < root.val: # ❤️❎❤️ 没有写 q\n",
    "            small_q.append(q.popleft())\n",
    "            \n",
    "        root.left = self.helper(small_q)\n",
    "        root.right = self.helper(q)\n",
    "        return root\n",
    "        \n",
    "        \n",
    "# Your Codec object will be instantiated and called as such:\n",
    "# codec = Codec()\n",
    "# codec.deserialize(codec.serialize(root))"
   ]
  },
  {
   "cell_type": "markdown",
   "metadata": {},
   "source": [
    "### [❤️652.med-Find Duplicate Subtrees](https://leetcode.com/problems/find-duplicate-subtrees/description/)\n",
    "##### 题意: Given a binary tree, return all duplicate subtrees. For each kind of duplicate subtrees, you only need to return the root node of any one of them.\n",
    "* Two trees are duplicate if they have the same structure with same node values."
   ]
  },
  {
   "cell_type": "code",
   "execution_count": null,
   "metadata": {
    "collapsed": true
   },
   "outputs": [],
   "source": [
    "\"\"\"\n",
    "Example 1: \n",
    "        1\n",
    "       / \\\n",
    "      2   3\n",
    "     /   / \\\n",
    "    4   2   4\n",
    "       /\n",
    "      4\n",
    "      \n",
    "The following are two duplicate subtrees:\n",
    "      2\n",
    "     /\n",
    "    4\n",
    "and\n",
    "    4\n",
    "    \n",
    "Therefore, you need to return above trees' root in the form of a list.\n",
    "\"\"\""
   ]
  },
  {
   "cell_type": "code",
   "execution_count": null,
   "metadata": {
    "collapsed": true
   },
   "outputs": [],
   "source": [
    "# ❤️IDEA❤️: 给每个 unique subtree 赋一个 id, 然后利用 (node.val, id(node.left), id(node.right)) \n",
    "# 标记一个 node 结构. Time & space: O(n)\n",
    "\n",
    "class Solution(object):\n",
    "    def findDuplicateSubtrees(self, root):\n",
    "        \"\"\"\n",
    "        :type root: TreeNode\n",
    "        :rtype: List[TreeNode]\n",
    "        \"\"\"\n",
    "        if not root: return []\n",
    "        \n",
    "        dic, rst = {}, []\n",
    "        self.helper(root, dic, rst)\n",
    "        return rst\n",
    "        \n",
    "    def helper(self, root, dic, rst):\n",
    "        if not root: return 0\n",
    "        \n",
    "        left = self.helper(root.left, dic, rst)\n",
    "        right = self.helper(root.right, dic, rst)\n",
    "        \n",
    "        key = root.val << 32 | left << 16 | right\n",
    "        \n",
    "        if key in dic:\n",
    "            dic[key][0] += 1\n",
    "            idx = dic[key][1]\n",
    "        else:\n",
    "            idx = len(dic) + 1\n",
    "            dic[key] = [1, idx]\n",
    "        \n",
    "        if dic[key][0] == 2: rst.append(root)\n",
    "            \n",
    "        return idx"
   ]
  },
  {
   "cell_type": "markdown",
   "metadata": {},
   "source": [
    "### [116.med-Populating Next Right Pointers in Each Node](https://leetcode.com/problems/populating-next-right-pointers-in-each-node/description/)\n",
    "##### 题意: 将 level 层次的 node 也连接起来. \n",
    "* If there is <span class=\"girk\">no next right node (<span class=\"burk\">和117有区别的地方</span>)</span>, the next pointer should be set to NULL.\n",
    "\n",
    "##### 教程: https://www.youtube.com/watch?v=3MFL7L8HnUc\n",
    "\n",
    "##### 具体如下例所示:"
   ]
  },
  {
   "cell_type": "code",
   "execution_count": null,
   "metadata": {
    "collapsed": true
   },
   "outputs": [],
   "source": [
    "\"\"\" For example, given the following ❤️perfect binary tree❤️,\n",
    "         1\n",
    "       /  \\\n",
    "      2    3\n",
    "     / \\  / \\\n",
    "    4  5  6  7\n",
    "After calling your function, the tree should look like:\n",
    "         1 -> NULL\n",
    "       /  \\\n",
    "      2 -> 3 -> NULL\n",
    "     / \\  / \\\n",
    "    4->5->6->7 -> NULL\n",
    "\"\"\""
   ]
  },
  {
   "cell_type": "code",
   "execution_count": null,
   "metadata": {
    "collapsed": true
   },
   "outputs": [],
   "source": [
    "# Definition for binary tree with next pointer.\n",
    "# class TreeLinkNode:\n",
    "#     def __init__(self, x):\n",
    "#         self.val = x\n",
    "#         self.left = None\n",
    "#         self.right = None\n",
    "#         self.next = None"
   ]
  },
  {
   "cell_type": "code",
   "execution_count": null,
   "metadata": {
    "collapsed": true
   },
   "outputs": [],
   "source": [
    "# ❤️❤️牛掰方法❤️❤️ time: O(n), space: O(1)\n",
    "class Solution:\n",
    "    # @param root, a tree link node\n",
    "    # @return nothing\n",
    "    def connect(self, root):\n",
    "        if not root: return \n",
    "        \n",
    "        cur = root\n",
    "        while cur:\n",
    "            head = cur.left\n",
    "            while cur:\n",
    "                if cur.left and cur.right:\n",
    "                    cur.left.next = cur.right\n",
    "                \n",
    "                if cur.right and cur.next:\n",
    "                    cur.right.next = cur.next.left\n",
    "                cur = cur.next\n",
    "            cur = head"
   ]
  },
  {
   "cell_type": "code",
   "execution_count": null,
   "metadata": {
    "collapsed": true
   },
   "outputs": [],
   "source": [
    "# DFS: time: O(n), space: O(1). ❤️ 因为 Balanced, 所以推荐使用 DFS ❤️\n",
    "class Solution:\n",
    "    # @param root, a tree link node\n",
    "    # @return nothing\n",
    "    def connect(self, root):\n",
    "        if not root: return\n",
    "        \n",
    "        if root.left and root.right:\n",
    "            root.left.next = root.right\n",
    "            \n",
    "        if root.right and root.next:\n",
    "            root.right.next = root.next.left\n",
    "            \n",
    "        self.connect(root.left)\n",
    "        self.connect(root.right)"
   ]
  },
  {
   "cell_type": "code",
   "execution_count": null,
   "metadata": {
    "collapsed": true
   },
   "outputs": [],
   "source": [
    "# BFS: time: O(n), space: O(w) 即 O(n).\n",
    "from collections import deque\n",
    "class Solution:\n",
    "    # @param root, a tree link node\n",
    "    # @return nothing\n",
    "    def connect(self, root):\n",
    "        if not root: return \n",
    "        \n",
    "        q = deque([root])\n",
    "        while q:\n",
    "            n, prev = len(q), None\n",
    "            for i in xrange(n):\n",
    "                node = q.popleft()\n",
    "                if prev is not None:  # ❤️  多出一个 prev\n",
    "                    prev.next = node\n",
    "                prev = node # ❎❤️ 更新 node\n",
    "                \n",
    "                if node.left: q.append(node.left)\n",
    "                if node.right: q.append(node.right)\n",
    "            # node.next = None # ❤️❤️ 可以不用, .next 默认是 None."
   ]
  },
  {
   "cell_type": "markdown",
   "metadata": {},
   "source": [
    "### [117.med-Populating Next Right Pointers in Each Node II](https://leetcode.com/problems/populating-next-right-pointers-in-each-node-ii/description/)\n",
    "##### 题意: 和 116 区别, <span class=\"girk\">不再是 balanced tree</span>, you may only use <span class=\"girk\">constant extra space</span>."
   ]
  },
  {
   "cell_type": "code",
   "execution_count": null,
   "metadata": {
    "collapsed": true
   },
   "outputs": [],
   "source": [
    "\"\"\"\n",
    "For example, given the following binary tree,\n",
    "         1\n",
    "       /  \\\n",
    "      2    3\n",
    "     / \\    \\\n",
    "    4   5    7\n",
    "After calling your function, the tree should look like:\n",
    "         1 -> NULL\n",
    "       /  \\\n",
    "      2 -> 3 -> NULL\n",
    "     / \\    \\\n",
    "    4-> 5 -> 7 -> NULL\n",
    "\"\"\""
   ]
  },
  {
   "cell_type": "code",
   "execution_count": null,
   "metadata": {
    "collapsed": true
   },
   "outputs": [],
   "source": [
    "# Definition for binary tree with next pointer.\n",
    "# class TreeLinkNode:\n",
    "#     def __init__(self, x):\n",
    "#         self.val = x\n",
    "#         self.left = None\n",
    "#         self.right = None\n",
    "#         self.next = None"
   ]
  },
  {
   "cell_type": "code",
   "execution_count": null,
   "metadata": {
    "collapsed": true
   },
   "outputs": [],
   "source": [
    "# 两个方向的遍历: ❤️纵向 & 横向❤️\n",
    "# time: O(n), space: O(1)\n",
    "class Solution:\n",
    "    # @param root, a tree link node\n",
    "    # @return nothing\n",
    "    def connect(self, root):\n",
    "        if not root: return\n",
    "        \n",
    "        cur = root\n",
    "        while cur:\n",
    "            head, prev = None, None\n",
    "            while cur:\n",
    "                if cur.left:  # 1) left subtree --------\n",
    "                    if prev:\n",
    "                        prev.next = cur.left # ❤️ 如果 prev 和 cur.left 都存在, 横向连接.\n",
    "                    else:\n",
    "                        head = cur.left # ❤️ 记录下一层的开头\n",
    "                    prev = cur.left # ❤️ 横向跟新 prev node.\n",
    "                \n",
    "                if cur.right: # 2) right subtree -------\n",
    "                    if prev:\n",
    "                        prev.next = cur.right\n",
    "                    else:\n",
    "                        head = cur.right\n",
    "                    prev = cur.right\n",
    "                cur = cur.next\n",
    "            cur = head"
   ]
  },
  {
   "cell_type": "code",
   "execution_count": null,
   "metadata": {
    "collapsed": true
   },
   "outputs": [],
   "source": [
    "# BFS: time: O(n), space: O(w) 即 O(n).\n",
    "from collections import deque\n",
    "class Solution:\n",
    "    # @param root, a tree link node\n",
    "    # @return nothing\n",
    "    def connect(self, root):\n",
    "        if not root: return \n",
    "        \n",
    "        q = deque([root])\n",
    "        while q:\n",
    "            n, prev = len(q), None\n",
    "            for i in xrange(n):\n",
    "                node = q.popleft()\n",
    "                if prev is not None:  # ❤️  多出一个 prev\n",
    "                    prev.next = node\n",
    "                prev = node # ❎❤️ 更新 node\n",
    "                \n",
    "                if node.left: q.append(node.left)\n",
    "                if node.right: q.append(node.right)\n",
    "            # node.next = None # ❤️❤️ 可以不用, .next 默认是 None."
   ]
  },
  {
   "cell_type": "markdown",
   "metadata": {},
   "source": [
    "### [❤️623.med-Add One Row to Tree](https://leetcode.com/problems/add-one-row-to-tree/description/)\n",
    "##### 题意: 给定 value 和 depth, 在 binary tree 中插入一层.\n",
    "\n",
    "##### 分析: 在上一层动手. \n",
    "\n",
    "##### 总结"
   ]
  },
  {
   "cell_type": "code",
   "execution_count": null,
   "metadata": {
    "collapsed": true
   },
   "outputs": [],
   "source": [
    "\"\"\" 例子 1 ---------------------------------------------------\n",
    "Input: \n",
    "A binary tree as following:\n",
    "       4\n",
    "     /   \\\n",
    "    2     6\n",
    "   / \\   / \n",
    "  3   1 5   \n",
    "\n",
    "v = 1  d = 2\n",
    "\n",
    "Output: \n",
    "       4\n",
    "      / \\\n",
    "     1   1\n",
    "    /     \\\n",
    "   2       6\n",
    "  / \\     / \n",
    " 3   1   5   \n",
    "\"\"\"\n",
    " \n",
    "\"\"\" 例子 2 ---------------------------------------------------\n",
    "Input: \n",
    "A binary tree as following:\n",
    "      4\n",
    "     /   \n",
    "    2    \n",
    "   / \\   \n",
    "  3   1    \n",
    "\n",
    "v = 1  d = 3\n",
    "\n",
    "Output: \n",
    "      4\n",
    "     /   \n",
    "    2\n",
    "   / \\    \n",
    "  1   1\n",
    " /     \\  \n",
    "3       1\n",
    "\"\"\""
   ]
  },
  {
   "cell_type": "code",
   "execution_count": null,
   "metadata": {
    "collapsed": true
   },
   "outputs": [],
   "source": [
    "# 思路: \n",
    "#     1. 找到 d - 1 层, 比如 node. 并新建 left = TreeNode(v), right = TreeNode(v)\n",
    "#     2. 检查 node.left 和 node.right 是否存在. 若存在, 拼接到 left.left 和 right.right 上去.\n",
    "#     3. 将 left 和 right 对接到 node.left 和 node.right 上面.\n",
    "from collections import deque\n",
    "class Solution(object):\n",
    "    def addOneRow(self, root, v, d):\n",
    "        \"\"\"\n",
    "        :type root: TreeNode\n",
    "        :type v: int\n",
    "        :type d: int\n",
    "        :rtype: TreeNode\n",
    "        \"\"\"\n",
    "        dummy = TreeNode(None)\n",
    "        dummy.left = root\n",
    "        queue = deque([dummy])\n",
    "        depth = 1\n",
    "        while queue:\n",
    "            n = len(queue)\n",
    "            for i in xrange(n):\n",
    "                node = queue.popleft()\n",
    "                if depth == d:\n",
    "                    # ----------------\n",
    "                    left = TreeNode(v)\n",
    "                    right = TreeNode(v)\n",
    "                    if node.left: left.left = node.left\n",
    "                    if node.right: right.right = node.right\n",
    "                        \n",
    "                    node.left = left #❎❎❎ 理解错误,原来无论如何 node.left 和 node.right\n",
    "                    node.right = right # 都会得到新的 left node 和 right node.\n",
    "                    continue # ❤️❤️❤️❎❎❎ 超赞的编程, 处理完这一层, queue 为空, 自然就跳出循环. \n",
    "                    # ----------------\n",
    "                    \n",
    "                if node.left: queue.append(node.left)\n",
    "                if node.right: queue.append(node.right)\n",
    "            depth += 1 # ❎❎❎❎ 错在 depth += 1 和 上一行的 if 对齐了. 几个 for 玄幻表示几个 depth.\n",
    "        return dummy.left"
   ]
  },
  {
   "cell_type": "markdown",
   "metadata": {},
   "source": [
    "### [285.med-Inorder Successor in BST](https://leetcode.com/problems/inorder-successor-in-bst/description/)\n",
    "##### 题意: Given a binary search tree and a node in it, find the in-order successor of that node in the BST. 如果不存在 successor, 则返回 null."
   ]
  },
  {
   "cell_type": "code",
   "execution_count": null,
   "metadata": {
    "collapsed": true
   },
   "outputs": [],
   "source": [
    "# time: log(n), space: 1. 过程分析: 一条路劲从 root -> leaf 下来.\n",
    "class Solution(object):\n",
    "    def inorderSuccessor(self, root, p):\n",
    "        \"\"\"\n",
    "        :type root: TreeNode\n",
    "        :type p: TreeNode\n",
    "        :rtype: TreeNode\n",
    "        \"\"\"\n",
    "        if not root: return None\n",
    "        \n",
    "        succ = None\n",
    "        while root:\n",
    "            if p.val < root.val: # ❤️❤️❤️ 说明 root 是 p 的后续节点, 赶紧\n",
    "                succ = root\n",
    "                root = root.left\n",
    "            else:\n",
    "                root = root.right\n",
    "        return succ"
   ]
  },
  {
   "cell_type": "code",
   "execution_count": null,
   "metadata": {
    "collapsed": true
   },
   "outputs": [],
   "source": [
    "# time & space: O(n)\n",
    "class Solution(object):\n",
    "    def inorderSuccessor(self, root, p):\n",
    "        \"\"\"\n",
    "        :type root: TreeNode\n",
    "        :type p: TreeNode\n",
    "        :rtype: TreeNode\n",
    "        \"\"\"\n",
    "        if not root: return None\n",
    "        \n",
    "        isFound, rst = False, None\n",
    "        stack, node = [], root\n",
    "        while stack or node:\n",
    "            while node:\n",
    "                stack.append(node)\n",
    "                node = node.left\n",
    "        \n",
    "            node = stack.pop()\n",
    "            if isFound and rst is None:\n",
    "                rst = node\n",
    "                break\n",
    "                \n",
    "            if node is p: isFound = True\n",
    "            \n",
    "            node = node.right\n",
    "        return rst\n",
    "            "
   ]
  },
  {
   "cell_type": "markdown",
   "metadata": {},
   "source": [
    "### [❤️❤️250.med-Count Univalue Subtrees](https://leetcode.com/problems/count-univalue-subtrees/description/)\n",
    "##### 题意: Given a binary tree, count the number of uni-value subtrees.\n",
    "* A Uni-value subtree means all nodes of the subtree have the same value."
   ]
  },
  {
   "cell_type": "code",
   "execution_count": null,
   "metadata": {
    "collapsed": true
   },
   "outputs": [],
   "source": [
    "\"\"\"For example: given binary tree,\n",
    "              5\n",
    "             / \\\n",
    "            1   5\n",
    "           / \\   \\\n",
    "          5   5   5\n",
    "return 4.\n",
    "\"\"\""
   ]
  },
  {
   "cell_type": "code",
   "execution_count": null,
   "metadata": {
    "collapsed": true
   },
   "outputs": [],
   "source": [
    "class Solution(object):\n",
    "    def __init__(self):\n",
    "        self.cnt = 0\n",
    "        \n",
    "    def countUnivalSubtrees(self, root):\n",
    "        \"\"\"\n",
    "        :type root: TreeNode\n",
    "        :rtype: int\n",
    "        \"\"\"\n",
    "        if not root: return 0\n",
    "        self.helper(root)\n",
    "        return self.cnt\n",
    "    \n",
    "    def helper(self, root):\n",
    "        if not root: return True\n",
    "        \n",
    "        left = self.helper(root.left)\n",
    "        right = self.helper(root.right)\n",
    "        if left and right:\n",
    "            if root.left and root.val != root.left.val: # ❤️ 是 leaf node, 则直接 +1\n",
    "                return False # ❤️❤️ False 表示存在不相等的情况, 那么这一枝全部剪枝.\n",
    "            if root.right and root.val != root.right.val:\n",
    "                return False\n",
    "            self.cnt += 1\n",
    "            return True\n",
    "        return False"
   ]
  },
  {
   "cell_type": "markdown",
   "metadata": {},
   "source": [
    "## [2/2: Tree]()"
   ]
  },
  {
   "cell_type": "markdown",
   "metadata": {},
   "source": [
    "### [❤️105.med-Construct Binary Tree from Preorder and Inorder Traversal](https://leetcode.com/problems/construct-binary-tree-from-preorder-and-inorder-traversal/description/)\n",
    "##### 题意: 给定 preorder 和 inorder 的 list representation, 构造 binary tree.\n",
    "* 首先明确 binary tree 和 Array representation of Binary tree 的关系.\n",
    "* 一种比较通用无歧义的方式是 BFS. 参考: https://en.wikipedia.org/wiki/Binary_tree\n",
    "    * Binary trees can also be stored in breadth-first order as an implicit data structure in arrays, and if the tree is a <span class=\"girk\">complete binary tree</span>, this method wastes no space. \n",
    "    * <span class=\"burk\">parent index --> children index</span>: if a node has an index i, its children are found at indices <span class=\"girk\">${\\displaystyle 2i+1}$ (for the left child)</span> and <span class=\"girk\">${\\displaystyle 2i+2}$ (for the right)</span>,\n",
    "    * <span class=\"burk\">children index --> parent index</span>: while its parent (if any) is found at index ${\\displaystyle \\left\\lfloor {\\frac {i-1}{2}}\\right\\rfloor }$  (assuming the root has index zero)</span>.\n",
    "* 这里给出了 preorder 和 inorder 的 lists, 因为省略了 None, 给出任意一个存在奇异. 使用两个排除奇异.\n",
    "\n",
    "##### 分析: 利用了 pre-order 和 in-order 的性质.\n",
    "* <span class=\"burk\">pre-order: root -> left -> right</span>. preorder 的第一个元素永远是当前 node 的值. 并且接下来是 left subtree + right subtree.\n",
    "* <span class=\"burk\">in-order: left -> root -> right</span>. inorder  arr 中 root 将 left subtree nodes 和 right subtree nodes, 从中间一分为二. 凭此, 可以知道 left subtree size. \n",
    "\n",
    "##### 参考视频\n",
    "* Edward Shi: https://www.youtube.com/watch?v=biuI5hdtH58&t=337s 讲得还是非常清楚的."
   ]
  },
  {
   "cell_type": "code",
   "execution_count": null,
   "metadata": {
    "collapsed": true
   },
   "outputs": [],
   "source": [
    "# TC & SC: O(n), 77ms. 加速 5 倍 仅仅因为使用 dict 存储 inorder, 避免了每次在 inorder 中搜索.\n",
    "class Solution(object):\n",
    "    def buildTree(self, preorder, inorder):\n",
    "        \"\"\"\n",
    "        :type preorder: List[int]\n",
    "        :type inorder: List[int]\n",
    "        :rtype: TreeNode\n",
    "        \"\"\"\n",
    "        if not preorder or not inorder or len(preorder) != len(inorder): \n",
    "            return None\n",
    "        \n",
    "        dic = {}\n",
    "        for i, x in enumerate(inorder): \n",
    "            dic[x] = i\n",
    "        return self.helper(dic, preorder, 0, len(inorder)-1, 0, len(inorder)-1)\n",
    "        \n",
    "    # ❤️❤️ recursion 思路❤️❤️: 充分体现了处理完当前情况, 然后递归调用就就可以了.\n",
    "    def helper(self, dic, preorder, preLow, preHigh, inLow, inHigh):\n",
    "        if preLow > preHigh or inLow > inHigh: \n",
    "            return None\n",
    "        \n",
    "        node = TreeNode(preorder[preLow])\n",
    "        inIdx = dic[node.val]\n",
    "        \n",
    "        node.left = self.helper(dic, preorder,\n",
    "                                preLow+1, preLow+(inIdx-inLow), \n",
    "                                inLow, inIdx-1)\n",
    "        node.right = self.helper(dic, preorder,\n",
    "                                preLow+(inIdx-inLow)+1, preHigh,\n",
    "                                inIdx+1, inHigh)\n",
    "        return node"
   ]
  },
  {
   "cell_type": "markdown",
   "metadata": {},
   "source": [
    "### [❤️106.med-Construct Binary Tree from Inorder and Postorder Traversal](https://leetcode.com/problems/construct-binary-tree-from-inorder-and-postorder-traversal/description/)\n",
    "##### 题意: 给定 postorder 和 inorder 的 list representation, 构造 binary tree.\n",
    "* postorder: left -> right -> root\n",
    "* inorder: left -> root -> right\n",
    "\n",
    "##### 总结\n",
    "* 和 105.medium-Construct Binary Tree from Preorder and Inorder Traversal 大同小异.\n",
    " "
   ]
  },
  {
   "cell_type": "code",
   "execution_count": null,
   "metadata": {
    "collapsed": true
   },
   "outputs": [],
   "source": [
    "class Solution(object):\n",
    "    def buildTree(self, inorder, postorder):\n",
    "        \"\"\"\n",
    "        :type inorder: List[int]\n",
    "        :type postorder: List[int]\n",
    "        :rtype: TreeNode\n",
    "        \"\"\"\n",
    "        if not inorder or not postorder or len(inorder) != len(postorder):\n",
    "            return None\n",
    "        \n",
    "        indic = {}\n",
    "        for i, x in enumerate(inorder):\n",
    "            indic[x] = i\n",
    "        return self.helper(indic, postorder, 0, len(inorder)-1, 0, len(inorder)-1)\n",
    "    \n",
    "    def helper(self, indic, postorder, inLow, inHigh, poLow, poHigh):\n",
    "        if poLow > poHigh or inLow > inHigh:\n",
    "            return None\n",
    "        \n",
    "        node = TreeNode(postorder[poHigh])\n",
    "        inIdx = indic[node.val]\n",
    "\n",
    "        left_length = inIdx - inLow\n",
    "        node.left = self.helper(indic, postorder, \n",
    "                                inLow, inIdx-1,\n",
    "                                poLow, poLow+left_length-1)\n",
    "        node.right = self.helper(indic, postorder, \n",
    "                                 inIdx+1, inHigh, #❎ 写成 poHigh, \n",
    "                                 poLow+left_length, poHigh-1) # 而不是 poHigh - 1\n",
    "        return node"
   ]
  },
  {
   "cell_type": "markdown",
   "metadata": {},
   "source": [
    "### [513.med-Find Bottom Left Tree Value](https://leetcode.com/problems/find-bottom-left-tree-value/description/)\n",
    "##### 题意: 给定 binary tree, 返回最后一行的 leftmost value.\n",
    "##### 分析:\n",
    "* 难点: 不知道什么时候是最后一行. 那就遍历每一行, 用新的最后一行的 leftmost 的值替代.\n",
    "* <span class=\"burk\">几条思路</span>:\n",
    "    * <span class=\"girk\">方法1: BFS 每一层 <span class=\"girk\">right -> left 游走, 到了最后一层, 自然 the leftmost 元素是最后的.\n",
    "    * <span class=\"girk\">方法2: BFS 每一层 left -> right 游走, 最后一层, 记录第一个(即是 left most), 但需要一个记录变量 i == 0.</span>\n",
    "    * <span class=\"girk\">方法3: DFS 通过辅助变量 height 标定最新的 depth, 如果有更深的 height, 则表明这是最后一层. 比较巧妙的是, 这里只保留第一次到达最高 height 的值. 所以, preorder, inorder, postorder 都可以, 因为都能保证 left 优先于 right</span>\n",
    "    \n",
    "##### 参考\n",
    "* Edward Shi: https://www.youtube.com/watch?v=ZJ7DXi4eCXw"
   ]
  },
  {
   "cell_type": "code",
   "execution_count": null,
   "metadata": {
    "collapsed": true
   },
   "outputs": [],
   "source": [
    "# 方法1: BFS 每一层 right -> left 游走, 到了最后一层, 自然 the leftmost 元素是最后的.\n",
    "from collections import deque\n",
    "class Solution(object):\n",
    "    def findBottomLeftValue(self, root):\n",
    "        \"\"\"\n",
    "        :type root: TreeNode\n",
    "        :rtype: int\n",
    "        \"\"\"\n",
    "        # 1 edge condtion\n",
    "        if not root: return None\n",
    "        \n",
    "        # 2 find it via BFS iteration\n",
    "        queue, rst = deque([root]), None        \n",
    "        while queue:\n",
    "            node = queue.popleft()\n",
    "            rst = node.val\n",
    "            \n",
    "            if node.right: queue.append(node.right) # 👍👍👍 点睛之笔在于先右后左, 保证最后一个元素\n",
    "            if node.left: queue.append(node.left) # 是最后一层的最左边那个元素.\n",
    "        return rst"
   ]
  },
  {
   "cell_type": "code",
   "execution_count": null,
   "metadata": {
    "collapsed": true
   },
   "outputs": [],
   "source": [
    "# 方法2: BFS 每一层 left -> right 游走, 最后一层, 记录第一个(即是 left most), 但需要一个记录变量 i == 0.\n",
    "from collections import deque\n",
    "class Solution(object):\n",
    "    def findBottomLeftValue(self, root):\n",
    "        \"\"\"\n",
    "        :type root: TreeNode\n",
    "        :rtype: int\n",
    "        \"\"\"\n",
    "        # 1 edge condtion\n",
    "        if not root: return None\n",
    "        \n",
    "        # 2 find it via BFS iteration\n",
    "        queue, rst = deque([root]), None        \n",
    "        while queue:\n",
    "            n = len(queue)\n",
    "            for i in xrange(n):\n",
    "                node = queue.popleft()\n",
    "                if i == 0: rst = node.val\n",
    "                    \n",
    "                if node.left: queue.append(node.left) # ❎❎❎ 竟然把这两条语句写到 for 循环外面了.\n",
    "                if node.right: queue.append(node.right)  \n",
    "                \n",
    "        return rst"
   ]
  },
  {
   "cell_type": "code",
   "execution_count": null,
   "metadata": {
    "collapsed": true
   },
   "outputs": [],
   "source": [
    "# 方法3: DFS 通过辅助变量 height 标定最新的 depth, 如果有更深的 height, 则表明这是最后一层. 比较巧妙的是,\n",
    "# 这里只保留第一次到达最高 height 的值. 所以, preorder, inorder, postorder 都可以, 因为都能保证 left 优先于 right\n",
    "\n",
    "class Solution(object):\n",
    "    def __init__(self):\n",
    "        self.height, self.rst = 0, None\n",
    "        \n",
    "    def findBottomLeftValue(self, root):\n",
    "        \"\"\"\n",
    "        :type root: TreeNode\n",
    "        :rtype: int\n",
    "        \"\"\"\n",
    "        # 1 edge case \n",
    "        if not root: return None\n",
    "        \n",
    "        # 2 do the coputation\n",
    "        self.dfs(root, 1) # ❎ 输入的是 1, 可 root 是第一层.\n",
    "        return self.rst\n",
    "        \n",
    "    def dfs(self, node, depth): # 👍👍👍 只要是 dfs, 前序 中序 和 后序倒无所谓, 只要 left 先于 right\n",
    "        if not node: return \n",
    "        \n",
    "        if depth > self.height: # 👍👍👍 点睛之笔, 只能考虑第一次出现的 node.\n",
    "            self.height = depth\n",
    "            self.rst = node.val\n",
    "            \n",
    "        self.dfs(node.left, depth + 1)\n",
    "        self.dfs(node.right, depth + 1)"
   ]
  },
  {
   "cell_type": "markdown",
   "metadata": {},
   "source": [
    "### [515.med-Find Largest Value in Each Tree Row](https://leetcode.com/problems/find-largest-value-in-each-tree-row/description/)\n",
    "##### 题意: 给定 binary tree, 找到每一行的最大值. \n",
    "\n",
    "##### 分析: 典型 BFS 的问题.\n",
    "* <span class=\"girk\">方法1: 显然可以使用 BFS 游走每一行, 对比出最大的值.</span>\n",
    "* <span class=\"girk\">方法2: DFS 可以吗? 也应该可以, 需要一个辅助变量记录当前 depth, 对比 depth 一样的 node.val 的大小, 返回最大值.</span>\n",
    "\n",
    "##### 总结"
   ]
  },
  {
   "cell_type": "code",
   "execution_count": null,
   "metadata": {
    "collapsed": true
   },
   "outputs": [],
   "source": [
    "# 方法1: 显然可以使用 BFS 游走每一行, 对比出最大的值..\n",
    "from collections import deque\n",
    "class Solution(object):\n",
    "    def largestValues(self, root):\n",
    "        \"\"\"\n",
    "        :type root: TreeNode\n",
    "        :rtype: List[int]\n",
    "        \"\"\"\n",
    "        # 1 edge condition\n",
    "        if not root: return []\n",
    "        \n",
    "        # 2 find them\n",
    "        rst = []\n",
    "        queue = deque([root]) # ❤️❤️ BFS 使用 queue 就可以了, 不需要玩技巧使用 stack.\n",
    "        while queue:\n",
    "            n, maxval = len(queue), -1<<31\n",
    "            for i in xrange(n):\n",
    "                node = queue.popleft()\n",
    "                maxval = max(maxval, node.val)\n",
    "                \n",
    "                if node.left: queue.append(node.left) # ❎👍❤️ 很容易把 append 这两句写到 for 循环外面.\n",
    "                if node.right: queue.append(node.right)\n",
    "            rst.append(maxval)\n",
    "            \n",
    "        return rst"
   ]
  },
  {
   "cell_type": "code",
   "execution_count": null,
   "metadata": {
    "collapsed": true
   },
   "outputs": [],
   "source": [
    "# 方法2: DFS 可以吗? 也应该可以, 需要一个辅助变量记录当前 depth, 对比 depth 一样的 element 的元素大小, 返回最大的那个\n",
    "class Solution(object):\n",
    "    def __init__(self):\n",
    "        self.rst = []\n",
    "        \n",
    "    def largestValues(self, root):\n",
    "        \"\"\"\n",
    "        :type root: TreeNode\n",
    "        :rtype: List[int]\n",
    "        \"\"\"\n",
    "        self.dfs(root, 0)\n",
    "        return self.rst\n",
    "        \n",
    "    def dfs(self, node, depth):\n",
    "        if not node: return \n",
    "        \n",
    "        while len(self.rst) < depth + 1: # ❎ 注意 depth + 1, depth 是 index 不是计数.\n",
    "            self.rst.append(float(\"-inf\"))\n",
    "        self.rst[depth] = max(self.rst[depth], node.val)\n",
    "        \n",
    "        self.dfs(node.left, depth + 1)\n",
    "        self.dfs(node.right, depth + 1)"
   ]
  },
  {
   "cell_type": "markdown",
   "metadata": {},
   "source": [
    "### [662.med-Maximum Width of Binary Tree](https://leetcode.com/problems/maximum-width-of-binary-tree/description/)\n",
    "##### 题意: 求 binary tree 各 level的 max width \n",
    "* 注意: 这里的 width 比较特别. The width of one level is defined as the length <span class=\"girk\">between the end-nodes</span> (the leftmost and right most non-null nodes in the level, where the null nodes between the end-nodes are also counted into the length calculation.\n",
    "* 问题的关键是:  <span class=\"girk\">width 定义在 endnodes 之间, null 的也算在 node 中</span>.\n",
    "\n",
    "##### 分析\n",
    "* <span class=\"girk\">方法1: BFS, 使用 queue, 存放每个 node 的时候把 node 的 index 也存进去.</span>\n",
    "    * 第一层 index 是 $2*0$\n",
    "    * 第二层 index 是 $2*0$ for left, $2*0 + 1=1$ for right\n",
    "    * 第三层 index 是 $2*0$ for left.left, $2*0 + 1$ for left.right, $2*1$ for right.left, $2*1+1$ for right.right\n",
    "    \n",
    "* <span class=\"girk\">方法2: DFS 稍微麻烦一些, 也能做. 需要很多辅助变量.</span>\n",
    "\n",
    "##### 总结: 也可以使用这种标准的 index 方法.\n",
    "* 首先明确 binary tree 和 Array representation of Binary tree 的关系.\n",
    "* 一种比较通用无歧义的方式是 BFS. 参考: https://en.wikipedia.org/wiki/Binary_tree\n",
    "    * Binary trees can also be stored in breadth-first order as an implicit data structure in arrays, and if the tree is a complete binary tree, this method wastes no space. \n",
    "    * <span class=\"burk\">parent index --> children index</span>: if a node has an index i, its children are found at indices <span class=\"girk\">${\\displaystyle 2i+1}$ (for the left child)</span> and <span class=\"girk\">${\\displaystyle 2i+2}$ (for the right)</span>,\n",
    "    * <span class=\"burk\">children index --> parent index</span>: while its parent (if any) is found at index ${\\displaystyle \\left\\lfloor {\\frac {i-1}{2}}\\right\\rfloor }$  (assuming the root has index zero)."
   ]
  },
  {
   "cell_type": "code",
   "execution_count": null,
   "metadata": {
    "collapsed": true
   },
   "outputs": [],
   "source": [
    "# 方法1: 使用 BFS list 标准的 representation, 使用 queue, 存放每个 node\n",
    "# 的时候把 node 的 index 也存进去.\n",
    "from collections import deque\n",
    "class Solution(object):\n",
    "    def widthOfBinaryTree(self, root):\n",
    "        \"\"\"\n",
    "        :type root: TreeNode\n",
    "        :rtype: int\n",
    "        \"\"\"\n",
    "        # edge condition\n",
    "        if not root: return 0\n",
    "        \n",
    "        maxWidth = 0\n",
    "        queue = deque([(root, 0)])  # 👍👍👍,添加 node + index\n",
    "        while queue:\n",
    "            n = len(queue)\n",
    "            # ❎❎ 这放在 for 循环之后就出错了. 👍👍 每次构造玩 queue 之后, 测量长度. 就像 n = len(queue) 一样.\n",
    "            maxWidth = max(maxWidth, queue[-1][1] - queue[0][1] + 1) # 👍👍👍 deque 也有 [-1] 的方便索引.\n",
    "            for i in xrange(n):\n",
    "                node, ind = queue.popleft()\n",
    "                if node.left: queue.append((node.left, 2*ind + 1)) # 👍👍👍,添加 node + index\n",
    "                if node.right: queue.append((node.right, 2*ind + 2))\n",
    "        return maxWidth             "
   ]
  },
  {
   "cell_type": "code",
   "execution_count": null,
   "metadata": {
    "collapsed": true
   },
   "outputs": [],
   "source": [
    "# 方法2: BFS, 使用 queue, 存放每个 node 的时候把 node 的 index 也存进去.\n",
    "from collections import deque\n",
    "class Solution(object):\n",
    "    def widthOfBinaryTree(self, root):\n",
    "        \"\"\"\n",
    "        :type root: TreeNode\n",
    "        :rtype: int\n",
    "        \"\"\"\n",
    "        # edge condition\n",
    "        if not root: return 0\n",
    "        \n",
    "        maxWidth = 0\n",
    "        queue = deque([(root, 0)])  # 👍👍👍,添加 node + index\n",
    "        while queue:\n",
    "            n = len(queue)\n",
    "            # ❎❎ 这放在 for 循环之后就出错了. 👍👍 每次构造玩 queue 之后, 测量长度. 就像 n = len(queue) 一样.\n",
    "            maxWidth = max(maxWidth, queue[-1][1] - queue[0][1] + 1) # 👍👍👍 deque 也有 [-1] 的方便索引.\n",
    "            for i in xrange(n):\n",
    "                node, ind = queue.popleft()\n",
    "                if node.left: queue.append((node.left, 2*ind)) # 👍👍👍,添加 node + index\n",
    "                if node.right: queue.append((node.right, 2*ind + 1))\n",
    "        return maxWidth             "
   ]
  },
  {
   "cell_type": "code",
   "execution_count": null,
   "metadata": {
    "collapsed": true
   },
   "outputs": [],
   "source": [
    "# 方法3: DFS 稍微麻烦一些, 也能做. 需要很多辅助变量\n",
    "Solution(object):\n",
    "    def __init__(self):\n",
    "        self.nums, self.maxwidth = [], 0 # self.num 存放每个 level 的 min index 和 max index\n",
    "        \n",
    "    def widthOfBinaryTree(self, root):\n",
    "        \"\"\"\n",
    "        :type root: TreeNode\n",
    "        :rtype: int\n",
    "        \"\"\"\n",
    "        if not root: return 0\n",
    "        self.dfs(root, 0, 0)\n",
    "        return self.maxwidth\n",
    "        \n",
    "    def dfs(self, node, depth, ind):\n",
    "        # edge case\n",
    "        if not node: return \n",
    "        \n",
    "        if 1 + depth > len(self.nums): # ❎❎ 原来写的是 1 + depth, 注意 depth 是 index 不是计数, 所以要加 1.\n",
    "            self.nums.append([float(\"inf\"), 0])\n",
    "            \n",
    "        self.nums[depth][0] = min(self.nums[depth][0], ind)\n",
    "        self.nums[depth][1] = max(self.nums[depth][1], ind)\n",
    "        if self.nums[depth][0] != float(\"inf\"):\n",
    "            self.maxwidth = max(self.maxwidth, self.nums[depth][1] - self.nums[depth][0] + 1)\n",
    "        \n",
    "        self.dfs(node.left, depth + 1, 2*ind)\n",
    "        self.dfs(node.right, depth + 1, 2*ind + 1)"
   ]
  },
  {
   "cell_type": "markdown",
   "metadata": {},
   "source": [
    "## [2/3: Tree]()"
   ]
  },
  {
   "cell_type": "markdown",
   "metadata": {},
   "source": [
    "### [451.med-Sort Characters By Frequency](https://leetcode.com/problems/sort-characters-by-frequency/description/)\n",
    "##### 题意: Given a string, sort it in decreasing order based on the frequency of characters.\n",
    "\n",
    "##### 总结\n",
    "* 跟 tree 没啥关系, 净考察 dictionary, list sorting 了."
   ]
  },
  {
   "cell_type": "code",
   "execution_count": null,
   "metadata": {
    "collapsed": true
   },
   "outputs": [],
   "source": [
    "\"\"\"\n",
    "Input: \"tree\"   Output: \"eert\" or \"eetr\" # 顺序不重要\n",
    "\n",
    "Input: \"cccaaa\"  Output: \"cccaaa\"\n",
    "\n",
    "Input: \"Aabb\"    Output: \"bbAa\"\n",
    "\"\"\""
   ]
  },
  {
   "cell_type": "code",
   "execution_count": null,
   "metadata": {
    "collapsed": true
   },
   "outputs": [],
   "source": [
    "# T & S: O(n) \n",
    "class Solution(object):\n",
    "    def frequencySort(self, s):\n",
    "        \"\"\"\n",
    "        :type s: str\n",
    "        :rtype: str\n",
    "        \"\"\"\n",
    "        if not s: return \"\"\n",
    "            \n",
    "        dic, maxCnt = {}, 0\n",
    "        for x in s:\n",
    "            dic[x] = dic.get(x,0) + 1\n",
    "            maxCnt = max(maxCnt, dic[x])\n",
    "            \n",
    "        bucket = [[] for i in xrange(maxCnt)]\n",
    "        for key, cnt in dic.items():\n",
    "            bucket[cnt-1].append(key)\n",
    "        \n",
    "        rst = \"\"\n",
    "        for cnt in xrange(maxCnt-1, -1, -1):\n",
    "            xxx = bucket[cnt]\n",
    "            for y in xxx:\n",
    "                rst += y * (cnt+1)\n",
    "        return rst"
   ]
  },
  {
   "cell_type": "code",
   "execution_count": null,
   "metadata": {
    "collapsed": true
   },
   "outputs": [],
   "source": [
    "# 跟 tree 没啥关系, 净考察 dictionary, list sorting 了.\n",
    "# 思路:\n",
    "#     1 对 letter 统计数量, 使用 hash table\n",
    "#     2 将 hash table 转化成 list of tuples, 并根据词频排序 (个性化排序规则 + reverse=True 降序)\n",
    "#     3 根据排序结果拼接出最终结果. \n",
    "class Solution(object):\n",
    "    def frequencySort(self, s):\n",
    "        \"\"\" \n",
    "        :type s: str\n",
    "        :rtype: str\n",
    "        \"\"\"\n",
    "        # 1 edge condition\n",
    "        if not s: return \"\" # ❎ 注意返回条件.\n",
    "        \n",
    "        #2 统计词频\n",
    "        dic = {}\n",
    "        for c in s:  dic[c] = dic.get(c, 0) + 1 \n",
    "        \n",
    "        #3 将 dic 结果转化成 list, 并个性化 sort 设置.\n",
    "        freqlist = dic.items()\n",
    "        freqlist.sort(key=lambda x: x[1], reverse=True) #👍👍 按照元素第2个元素, 降序. 👍 reverse=True\n",
    "        \n",
    "        # 4 根据排序结果拼接出最终的结果. \n",
    "        rst = \"\"\n",
    "        for x in freqlist:\n",
    "            rst += x[0]*x[1] # 👍❤️❤️ string 还有这种操作.\n",
    "        return rst          "
   ]
  },
  {
   "cell_type": "code",
   "execution_count": null,
   "metadata": {
    "collapsed": true
   },
   "outputs": [],
   "source": [
    "# 编程总结: 关于 python sort 的牛之处\n",
    "#   http://peiqiang.net/2015/01/20/in-python-you-sort-with-a-tuple.html\n",
    "#   https://developers.google.com/edu/python/sorting\n",
    "\n",
    "# ❤️👍👍 先按元组的第一个元素进行排序, 再按第二个元素进行排序\n",
    ">>> items = [(1, 'B'), (1, 'A'), (2, 'A'), (0, 'B'), (0, 'a')]\n",
    ">>> sorted(items)\n",
    "[(0, 'B'), (0, 'a'), (1, 'A'), (1, 'B'), (2, 'A')]\n",
    "\n",
    "# ❤️👍 按照元组第二个元素排序.\n",
    ">>> items = [(1, 'B'), (1, 'A'), (2, 'A'), (0, 'B'), (0, 'a')]\n",
    ">>> items.sort(key = lambda x: x[1])\n",
    "[(1, 'A'), (2, 'A'), (1, 'B'), (0, 'B'), (0, 'a')]\n",
    "\n",
    "# 👍❤️ 先按元组的第一个元素进行排序, 再按第二个元素的小写排序\n",
    ">>> sorted(items, key=lambda x: (x[0], x[1].lower()))\n",
    ">>> [(0, 'a'), (0, 'B'), (1, 'A'), (1, 'B'), (2, 'A')]"
   ]
  },
  {
   "cell_type": "code",
   "execution_count": 3,
   "metadata": {},
   "outputs": [
    {
     "name": "stdout",
     "output_type": "stream",
     "text": [
      "{'a': 1, 'b': 3, 'e': 10, 'd': 10}\n",
      "[('a', 1), ('b', 3), ('e', 10), ('d', 10)]\n"
     ]
    }
   ],
   "source": [
    "# python 字典和list 的关系\n",
    "# 👍❤️ python dic ---> python list tuple (list 中的元素是 tuple).\n",
    "x = {\"a\": 1, \"b\":3, \"d\":10, \"e\":10}\n",
    "y = x.items()\n",
    "print x\n",
    "print y"
   ]
  },
  {
   "cell_type": "markdown",
   "metadata": {},
   "source": [
    "### [508.med-Most Frequent Subtree Sum](https://leetcode.com/problems/most-frequent-subtree-sum/description/)\n",
    "##### 题意: 求解最高频的 subtree sum.\n",
    "* 什么叫 subtree sum? The subtree sum of a node is defined as the sum of all the node values formed by the subtree rooted at that node (including the node itself). \n",
    "* 说白了, 就是 left sub-tree + right sub-tree + node.val\n",
    "\n",
    "##### 总结: 原本以为和 501. Find Mode in Binary Search Tree比较接近, 可以不适用额外空间就可以搞定.\n",
    "* 实际上, 不可以. 501 有一个优势条件, 它是 BST, inorder 遍历是递增的. "
   ]
  },
  {
   "cell_type": "code",
   "execution_count": 4,
   "metadata": {
    "collapsed": true
   },
   "outputs": [],
   "source": [
    "# 需额外空间, 需要 dic 统计频率. \n",
    "# 注意事项: 有可能出现 max 次数的 不止一个.\n",
    "class Solution(object): \n",
    "    def __init__(self):\n",
    "        self.maxcnt = 0\n",
    "        self.dic = {}\n",
    "        \n",
    "    def findFrequentTreeSum(self, root):\n",
    "        \"\"\"\n",
    "        :type root: TreeNode\n",
    "        :rtype: List[int]\n",
    "        \"\"\"\n",
    "        #1 edge condtion\n",
    "        if not root: return [] #❎ 错在写成 return None 了. \n",
    "        #❎ 总结: 返回类型是 List 的, 如果没有什么返回, 则返回空 List 即 []\n",
    "        \n",
    "        #2 get the frequencey of sums\n",
    "        self.dfs(root)\n",
    "        \n",
    "        #3 get the results according to the dic and self.maxcnt\n",
    "        rst = []\n",
    "        for key, cnt in self.dic.items(): # dic.items() 实际上是 list, 每个元素是 tuple.\n",
    "            if cnt == self.maxcnt: rst.append(key)\n",
    "        return rst\n",
    "\n",
    "    #❎❎❎ postorder 遍历, 需要先处理 left 和 right, 然后合并 left 和 right 结果的, \n",
    "    # 都需要 post order. 这个是 bottom up 结构.\n",
    "    def dfs(self, node): \n",
    "        if not node: return 0\n",
    "        \n",
    "        left = self.dfs(node.left)\n",
    "        right = self.dfs(node.right)\n",
    "        \n",
    "        curSum = left + right + node.val\n",
    "        self.dic[curSum] = self.dic.get(curSum, 0) + 1\n",
    "        self.maxcnt = max(self.maxcnt, self.dic[curSum])\n",
    "        return curSum"
   ]
  },
  {
   "cell_type": "markdown",
   "metadata": {},
   "source": [
    "## 2/4 - 2/5: Tree\n",
    "* 2-5号的任务主要是复习已经刷过的题了. "
   ]
  },
  {
   "cell_type": "markdown",
   "metadata": {},
   "source": [
    "### [669.easy-Trim a Binary Search Tree](https://leetcode.com/problems/trim-a-binary-search-tree/description/)\n",
    "##### 题目: 给定 BST 和 上下界范围 [L, R], (i.e., 闭合范围). 删除所有不在范围内的 nodes. \n",
    "\n",
    "##### 参考视频\n",
    "* 花花: https://www.youtube.com/watch?v=L_t2x3nH61k\n",
    "* Leetcode 答案: https://leetcode.com/problems/trim-a-binary-search-tree/discuss/107013/clear-python-solution\n",
    "* mycodeschool (删除 node.val == 给定 val 的 node)\n",
    " https://www.youtube.com/watch?v=gcULXE7ViZw&t=978s (BST 标准 deletion 操作)"
   ]
  },
  {
   "cell_type": "code",
   "execution_count": null,
   "metadata": {
    "collapsed": true
   },
   "outputs": [],
   "source": [
    "class Solution(object):\n",
    "    def trimBST(self, root, L, R):\n",
    "        \"\"\"\n",
    "        :type root: TreeNode\n",
    "        :type L: int\n",
    "        :type R: int\n",
    "        :rtype: TreeNode\n",
    "        \"\"\"\n",
    "        if not root: return None\n",
    "        if root.val < L: #❤️❤️ 一般调用时 root.right = f(root.right), 这里这么调用说明, 删除当前节点.\n",
    "            return self.trimBST(root.right, L, R) \n",
    "        if root.val > R: \n",
    "            return self.trimBST(root.left, L, R)\n",
    "        \n",
    "        # 不符合上述情况的每个节点只重新一遍, 重连接一遍. \n",
    "        root.left = self.trimBST(root.left, L, R)\n",
    "        root.right = self.trimBST(root.right, L, R)\n",
    "        return root        "
   ]
  },
  {
   "cell_type": "markdown",
   "metadata": {},
   "source": [
    "### [450.med-Delete Node in a BST](https://leetcode.com/problems/delete-node-in-a-bst/description/)\n",
    "##### 题意: 给定 BST 根节点和 key, 删除 BST 中所有key 等于给定值得 node.\n",
    "\n",
    "##### 基本是基本给定的题."
   ]
  },
  {
   "cell_type": "code",
   "execution_count": null,
   "metadata": {
    "collapsed": true
   },
   "outputs": [],
   "source": [
    "/** c++ \n",
    " * Definition for a binary tree node.\n",
    " * struct TreeNode {\n",
    " *     int val;\n",
    " *     TreeNode *left;\n",
    " *     TreeNode *right;\n",
    " *     TreeNode(int x) : val(x), left(NULL), right(NULL) {}\n",
    " * };\n",
    " */\n",
    "class Solution {\n",
    "public:\n",
    "    TreeNode* deleteNode(TreeNode* root, int key) {\n",
    "        if(!root) return root;\n",
    "        \n",
    "        if(key < root->val) \n",
    "            root->left = deleteNode(root->left, key);\n",
    "        else if(key > root->val)\n",
    "            root->right = deleteNode(root->right, key);\n",
    "        else{\n",
    "            if(!root->left) {\n",
    "                TreeNode *right = root->right;\n",
    "                delete root;\n",
    "                return right;\n",
    "            } else if(!root->right) {\n",
    "                TreeNode *left = root->left;\n",
    "                delete root;\n",
    "                return left;\n",
    "            } else {\n",
    "                TreeNode* succ = findMinValNode(root->right);\n",
    "                root->val = succ->val;\n",
    "                root->right = deleteNode(root->right, root->val);\n",
    "            }\n",
    "        }\n",
    "        return root;\n",
    "    }\n",
    "    \n",
    "private:\n",
    "    TreeNode* findMinValNode(TreeNode* root) {\n",
    "        if(!root) return root;\n",
    "        while(root->left) \n",
    "            root = root->left;\n",
    "        return root; \n",
    "    }\n",
    "};"
   ]
  },
  {
   "cell_type": "code",
   "execution_count": null,
   "metadata": {
    "collapsed": true
   },
   "outputs": [],
   "source": [
    "# Definition for a binary tree node.\n",
    "# class TreeNode(object):\n",
    "#     def __init__(self, x):\n",
    "#         self.val = x\n",
    "#         self.left = None\n",
    "#         self.right = None\n",
    "\n",
    "class Solution(object):\n",
    "    def deleteNode(self, root, key):\n",
    "        \"\"\"\n",
    "        :type root: TreeNode\n",
    "        :type key: int\n",
    "        :rtype: TreeNode\n",
    "        \"\"\"\n",
    "        if not root: return None\n",
    "        \n",
    "        if key < root.val:\n",
    "            root.left = self.deleteNode(root.left, key)\n",
    "        elif key > root.val:\n",
    "            root.right = self.deleteNode(root.right, key)\n",
    "        else:\n",
    "            if not root.left:\n",
    "                return root.right #❤️ 这里比上述 code 简便, 直接跳过 root, 相当于删除.\n",
    "            elif not root.right:\n",
    "                return root.left\n",
    "            else:\n",
    "                temp = self.findMinNode(root.right)\n",
    "                root.val = temp.val\n",
    "                root.right = self.deleteNode(root.right, root.val)\n",
    "        return root\n",
    "    \n",
    "    def findMinNode(self, node):\n",
    "        if not node: return None\n",
    "        while node.left:\n",
    "            node = node.left\n",
    "        return node "
   ]
  },
  {
   "cell_type": "code",
   "execution_count": null,
   "metadata": {
    "collapsed": true
   },
   "outputs": [],
   "source": [
    "class Solution(object):\n",
    "    def deleteNode(self, root, key):\n",
    "        \"\"\" \n",
    "        :type root: TreeNode\n",
    "        :type key: int\n",
    "        :rtype: TreeNode\n",
    "        \"\"\"\n",
    "        if not root: return root\n",
    "        \n",
    "        if key < root.val: # ❎❤️ 写成 key < root.left, 笔误笔误.\n",
    "            root.left = self.deleteNode(root.left, key) # 传回来的值, 一定接着, 否则就没法把结果传回来了.\n",
    "        elif key > root.val:\n",
    "            root.right = self.deleteNode(root.right, key)\n",
    "        else:\n",
    "            # case 1: no chidlren or one children # ❤️❤️ 1个或0个 child 的情况, 可以合并. 想想没有子节点的情况\n",
    "            if not root.left:\n",
    "                temp = root.right\n",
    "                del root\n",
    "                return temp\n",
    "            if not root.right:\n",
    "                temp = root.left\n",
    "                del root\n",
    "                return temp\n",
    "            \n",
    "            # case 2: two children\n",
    "            else:\n",
    "                temp = self.minValTree(root.right)\n",
    "                root.val = temp.val\n",
    "                root.right = self.deleteNode(root.right, root.val) #❤️❎ 没有写 root.right, 没法把结果传回来.\n",
    "                \n",
    "        return root\n",
    "            \n",
    "    def minValTree(self, node):\n",
    "        while node.left:\n",
    "            node = node.left\n",
    "        return node"
   ]
  },
  {
   "cell_type": "markdown",
   "metadata": {},
   "source": [
    "## 2/8: Tree"
   ]
  },
  {
   "cell_type": "markdown",
   "metadata": {},
   "source": [
    "### [366.medium-Find Leaves of Binary Tree](https://leetcode.com/problems/find-leaves-of-binary-tree/description/)\n",
    "##### 题意: Collect and remove all leaves, repeat until the tree is empty.\n",
    "\n",
    "##### 参考资料 (值得查看)\n",
    "* Edward Shi: https://www.youtube.com/watch?v=qJOHOKMnHdM"
   ]
  },
  {
   "cell_type": "code",
   "execution_count": null,
   "metadata": {
    "collapsed": true
   },
   "outputs": [],
   "source": [
    "# 总结: 输出有顺序,需要考虑一个 level 的问题.  因为是考虑 leaf 节点, 因此需要考虑\n",
    "# 本题是从 leaf 到 root 数 level.\n",
    "class Solution(object):\n",
    "    def __init__(self):\n",
    "        self.rst = []\n",
    "        \n",
    "    def findLeaves(self, root):\n",
    "        \"\"\"\n",
    "        :type root: TreeNode\n",
    "        :rtype: List[List[int]]\n",
    "        \"\"\"\n",
    "        # edge condition\n",
    "        if not root: return []\n",
    "        \n",
    "        # search and remove\n",
    "        rst = []\n",
    "        self.dfs(root, rst)\n",
    "        return rst            \n",
    "            \n",
    "    def dfs(self, node, rst):\n",
    "        # edge condition\n",
    "        if not node: return -1 # ❤️ return -1 非常特别.\n",
    "        \n",
    "        # postorder traversal\n",
    "        left = self.dfs(node.left, rst)\n",
    "        right = self.dfs(node.right, rst)\n",
    "        \n",
    "        level = 1 + max(left, right)\n",
    "        if level + 1 > len(rst): # if 和 while 都行.\n",
    "            rst.append([])\n",
    "        rst[level].append(node.val)\n",
    "        node.left = node.right = None # ❤️ 删除 node\n",
    "        return level    "
   ]
  },
  {
   "cell_type": "markdown",
   "metadata": {},
   "source": [
    "### [199.medium-Binary Tree Right Side View](https://leetcode.com/problems/binary-tree-right-side-view/description/)\n",
    "##### 给定 Binary tree, 设想你在 tree 的右边, 能看到哪些 node? 请将能看到的 nodes, 从上往下打印下来.\n",
    "\n",
    "* 参考视频: https://www.youtube.com/watch?v=obLedSdUSow"
   ]
  },
  {
   "cell_type": "code",
   "execution_count": null,
   "metadata": {
    "collapsed": true
   },
   "outputs": [],
   "source": [
    "# 方法1: BFS\n",
    "from collections import deque\n",
    "class Solution(object):\n",
    "    def rightSideView(self, root):\n",
    "        \"\"\"\n",
    "        :type root: TreeNode\n",
    "        :rtype: List[int]\n",
    "        \"\"\"\n",
    "        if not root: return []\n",
    "        \n",
    "        rst = []\n",
    "        q = deque([root])\n",
    "        while q:\n",
    "            n = len(q)\n",
    "            for i in xrange(n):\n",
    "                node = q.popleft()\n",
    "                tmp = node.val\n",
    "                if node.left: q.append(node.left)\n",
    "                if node.right: q.append(node.right)\n",
    "            rst.append(tmp)\n",
    "        return rst"
   ]
  },
  {
   "cell_type": "code",
   "execution_count": null,
   "metadata": {
    "collapsed": true
   },
   "outputs": [],
   "source": [
    "# 方法2: root -> right -> left\n",
    "class Solution(object):\n",
    "    def rightSideView(self, root):\n",
    "        \"\"\"\n",
    "        :type root: TreeNode\n",
    "        :rtype: List[int]\n",
    "        \"\"\"\n",
    "        rst = []\n",
    "        self.dfs(root, 0, rst)\n",
    "        return rst\n",
    "        \n",
    "    def dfs(self, node, level, rst):\n",
    "        if not node: return\n",
    "        \n",
    "        if level == len(rst): # ❤️❤️ 先遍历右边, 这个条件确保只存第一个, 也就是最右边的.\n",
    "            rst.append(node.val)\n",
    "            \n",
    "        self.dfs(node.right, level + 1, rst)\n",
    "        self.dfs(node.left, level + 1, rst)"
   ]
  },
  {
   "cell_type": "markdown",
   "metadata": {},
   "source": [
    "### [129.medium-Sum Root to Leaf Numbers](https://leetcode.com/problems/sum-root-to-leaf-numbers/description/)\n",
    "##### 题意: root -> leaf 表示一个数, 将所有的这些数相加.\n",
    "\n",
    "##### 分析\n",
    "* 先提取出来所有 root -> leaf 的数字, 转化成 string, 最后转化成 int 相加.\n",
    "* 核心: 有多少个 leaf node 表示有多少个数字."
   ]
  },
  {
   "cell_type": "code",
   "execution_count": null,
   "metadata": {
    "collapsed": true
   },
   "outputs": [],
   "source": [
    "class Solution(object):\n",
    "    def __init__(self):\n",
    "        self.sum = 0\n",
    "        \n",
    "    def sumNumbers(self, root):\n",
    "        \"\"\"\n",
    "        :type root: TreeNode\n",
    "        :rtype: int\n",
    "        \"\"\"\n",
    "        if not root: return 0\n",
    "        self.helper(root, [])\n",
    "        return self.sum\n",
    "        \n",
    "    def helper(self, root, cur):\n",
    "        if not root: return\n",
    "        if not root.left and not root.right: # ❤️❤️❤️ 必须在 leaf 节点这边做个了断, \n",
    "            cur.append(str(root.val)) # ❤️❤️❤️ 之前在 root = None 时才处理.\n",
    "            self.sum += int(\"\".join(cur))\n",
    "            cur.pop()\n",
    "            return \n",
    "        \n",
    "        cur.append(str(root.val))\n",
    "        self.helper(root.left, cur)\n",
    "        self.helper(root.right, cur)\n",
    "        cur.pop()"
   ]
  },
  {
   "cell_type": "markdown",
   "metadata": {},
   "source": [
    "## [2/28: Tree & String]()"
   ]
  },
  {
   "cell_type": "markdown",
   "metadata": {},
   "source": [
    "### [❤️124.hard-Binary Tree Maximum Path Sum](https://leetcode.com/problems/binary-tree-maximum-path-sum/description/)\n",
    "##### 题意: Given a binary tree, find the maximum path sum.\n",
    "* For this problem, a path is defined as any sequence of nodes from some starting node to any node in the tree along the parent-child connections. \n",
    "* The path must contain at least one node and does not need to go through the root."
   ]
  },
  {
   "cell_type": "code",
   "execution_count": null,
   "metadata": {
    "collapsed": true
   },
   "outputs": [],
   "source": [
    "\"\"\" For example: given the below binary tree, return 6.\n",
    "       1\n",
    "      / \\\n",
    "     2   3\n",
    "\"\"\""
   ]
  },
  {
   "cell_type": "code",
   "execution_count": null,
   "metadata": {
    "collapsed": true
   },
   "outputs": [],
   "source": [
    "# 3/2/18 12:40 AM, 一次性 bug-free.\n",
    "class Solution(object):\n",
    "    def __init__(self):\n",
    "        self.max_sum = -1<<31\n",
    "        \n",
    "    def maxPathSum(self, root):\n",
    "        \"\"\"\n",
    "        :type root: TreeNode\n",
    "        :rtype: int\n",
    "        \"\"\"\n",
    "        self.dfs(root)\n",
    "        return self.max_sum\n",
    "        \n",
    "    def dfs(self, root):\n",
    "        if not root: return 0\n",
    "        \n",
    "        # ❤️ max 操作 121.easy-Best Time to Buy and Sell Stock\n",
    "        left = max(0, self.dfs(root.left)) # 而 left, right 借助 \n",
    "        right = max(0, self.dfs(root.right))\n",
    "        \n",
    "        # ❤️ 借助很多 tree 的题目\n",
    "        tmp_sum = left + right + root.val\n",
    "        self.max_sum = max(self.max_sum, tmp_sum)\n",
    "        \n",
    "        # 借助\n",
    "        return root.val + max(left,right)"
   ]
  },
  {
   "cell_type": "markdown",
   "metadata": {},
   "source": [
    "### [22.med-House Robber III](https://leetcode.com/problems/house-robber-iii/description/)\n",
    "##### 题意: Binary tree 找出算法, 能够将所有不相邻的 node.val 相加, 最大. 找到最大值.\n",
    "* 例子:"
   ]
  },
  {
   "cell_type": "code",
   "execution_count": null,
   "metadata": {
    "collapsed": true
   },
   "outputs": [],
   "source": [
    "\"\"\" Example 1: -------------------\n",
    "    \"3\"\n",
    "    / \\\n",
    "   2   3\n",
    "    \\   \\ \n",
    "    \"3\" \"1\"\n",
    "Maximum amount of money the thief can rob = 3 + 3 + 1 = 7.\n",
    "\"\"\"\n",
    "\n",
    "\"\"\" Example 2: -------------------\n",
    "     3\n",
    "    / \\\n",
    "  \"4\" \"5\"\n",
    "  / \\   \\ \n",
    " 1   3   1\n",
    "Maximum amount of money the thief can rob = 4 + 5 = 9.\n",
    "\"\"\""
   ]
  },
  {
   "cell_type": "code",
   "execution_count": null,
   "metadata": {
    "collapsed": true
   },
   "outputs": [],
   "source": [
    "# Definition for a binary tree node.\n",
    "# class TreeNode(object):\n",
    "#     def __init__(self, x):\n",
    "#         self.val = x\n",
    "#         self.left = None\n",
    "#         self.right = None\n",
    "\n",
    "class Solution(object):\n",
    "    def rob(self, root):\n",
    "        \"\"\"\n",
    "        :type root: TreeNode\n",
    "        :rtype: int\n",
    "        \"\"\"\n",
    "        if not root: return 0\n",
    "        return max(self.helper(root))\n",
    "        \n",
    "        \n",
    "    def helper(self, root):\n",
    "        if not root: return (0,0)\n",
    "        \n",
    "        left = self.helper(root.left)\n",
    "        right = self.helper(root.right)\n",
    "        \n",
    "        no_rob = max(left) + max(right)\n",
    "        rob = root.val + left[0] + right[0]\n",
    "        return (no_rob, rob)"
   ]
  },
  {
   "cell_type": "markdown",
   "metadata": {},
   "source": [
    "## [3/1: Prefix Tree (Trie)]()"
   ]
  },
  {
   "cell_type": "markdown",
   "metadata": {},
   "source": [
    "### [208.med-Implement Trie (Prefix Tree)](https://leetcode.com/problems/implement-trie-prefix-tree/description/)\n",
    "##### 题意: 构建前缀树, prefix tree. 完成 insert, search, and startsWith 功能.\n",
    "\n",
    "##### 分析\n",
    "##### 总结\n",
    "* 视频教程: 花花 https://www.youtube.com/watch?v=f48wGD-MuQw\n",
    "* Leetcode 答案: https://leetcode.com/problems/implement-trie-prefix-tree/discuss/58989/My-python-solution"
   ]
  },
  {
   "cell_type": "code",
   "execution_count": null,
   "metadata": {
    "collapsed": true
   },
   "outputs": [],
   "source": [
    "class TrieNode(object):\n",
    "    def __init__(self):\n",
    "        self.word = False\n",
    "        self.children = {}\n",
    "        \n",
    "class Trie(object):\n",
    "    def __init__(self):\n",
    "        \"\"\"\n",
    "        Initialize your data structure here.\n",
    "        \"\"\"\n",
    "        self.root = TrieNode() # ❎❎❎ 关键, 很容易写成 self.root = None, 这样就没有\"根\"了.\n",
    "\n",
    "    def insert(self, word):\n",
    "        \"\"\"\n",
    "        Inserts a word into the trie.\n",
    "        :type word: str\n",
    "        :rtype: void\n",
    "        \"\"\"\n",
    "        node = self.root\n",
    "        for c in word:\n",
    "            if c not in node.children: # ❤️ Trier 和 binary tree (BT) 类似. BT 使用 left \n",
    "                node.children[c] = TrieNode() # 和 right 表示子node. Trier 有多个 node (每个node\n",
    "            node = node.children[c] # 的子 node 个数不一定). 所以使用 Hash table 索引子 node.\n",
    "        node.word = True # Trier 使用 key 存储内容, children 表达了结构. \n",
    "\n",
    "    def search(self, word):\n",
    "        \"\"\"\n",
    "        Returns if the word is in the trie.\n",
    "        :type word: str\n",
    "        :rtype: bool\n",
    "        \"\"\"\n",
    "        node = self.root\n",
    "        for c in word:\n",
    "            if c not in node.children:\n",
    "                return False\n",
    "            node = node.children[c]\n",
    "        return node.word # ❎ 几乎和 startswith 一样, 差别就在这里. \n",
    "        \n",
    "    def startsWith(self, prefix):\n",
    "        \"\"\"\n",
    "        Returns if there is any word in the trie that starts with the given prefix.\n",
    "        :type prefix: str\n",
    "        :rtype: bool\n",
    "        \"\"\"\n",
    "        node = self.root\n",
    "        for c in prefix:\n",
    "            if c not in node.children:\n",
    "                return False\n",
    "            node = node.children[c] # 和 search () 一样, 差别仅仅在这里.\n",
    "        return True\n",
    "\n",
    "# Your Trie object will be instantiated and called as such:\n",
    "# obj = Trie()\n",
    "# obj.insert(word)\n",
    "# param_2 = obj.search(word)\n",
    "# param_3 = obj.startsWith(prefix)"
   ]
  },
  {
   "cell_type": "markdown",
   "metadata": {},
   "source": [
    "### [211.med-Add and Search Word - Data structure design](https://leetcode.com/problems/add-and-search-word-data-structure-design/description/)\n",
    "##### 题意: Design a data structure that supports the following two operations:\n",
    "* ```void addWord(word)```: \n",
    "* ```bool search(word)```: search(word) can search a literal word or a regular expression string containing <span class=\"girk\">only letters a-z</span> or <span class=\"girk\">.</span>. A <span class=\"girk\">.</span> means it can <span class=\"girk\">represent any one letter</span>. [只有 search 的时候会出现特殊的字符 .]\n",
    "\n",
    "* 例子:"
   ]
  },
  {
   "cell_type": "code",
   "execution_count": null,
   "metadata": {
    "collapsed": true
   },
   "outputs": [],
   "source": [
    "\"\"\" 例子: \n",
    "addWord(\"bad\")\n",
    "addWord(\"dad\")\n",
    "addWord(\"mad\")\n",
    "search(\"pad\") -> false\n",
    "search(\"bad\") -> true\n",
    "search(\".ad\") -> true\n",
    "search(\"b..\") -> true\n",
    "\"\"\""
   ]
  },
  {
   "cell_type": "code",
   "execution_count": null,
   "metadata": {
    "collapsed": true
   },
   "outputs": [],
   "source": [
    "class TrieNode(object):\n",
    "    def __init__(self):\n",
    "        self.dic = {}\n",
    "        self.word = False\n",
    "        \n",
    "class WordDictionary(object):\n",
    "    def __init__(self):\n",
    "        \"\"\"\n",
    "        Initialize your data structure here.\n",
    "        \"\"\"\n",
    "        self.root = TrieNode()\n",
    "        \n",
    "\n",
    "    def addWord(self, word):\n",
    "        \"\"\"\n",
    "        Adds a word into the data structure.\n",
    "        :type word: str\n",
    "        :rtype: void\n",
    "        \"\"\"\n",
    "        node = self.root\n",
    "        for x in word:\n",
    "            if x not in node.dic:\n",
    "                node.dic[x] = TrieNode()\n",
    "            node = node.dic[x]\n",
    "        node.word = True\n",
    "        \n",
    "\n",
    "    def search(self, word):\n",
    "        \"\"\"\n",
    "        Returns if the word is in the data structure. A word could contain the dot character '.' to represent any one letter.\n",
    "        :type word: str\n",
    "        :rtype: bool\n",
    "        \"\"\"\n",
    "        return self.dfs(self.root, word)\n",
    "        \n",
    "                \n",
    "    def dfs(self, node, word): # ❤️❤️❤️ 还有这么复杂的, 递归方法.\n",
    "        for i, x in enumerate(word): \n",
    "            if x == \".\": # 👍 \".\" 时 遍历所以节点.\n",
    "                for k in node.dic: # ❤️❤️ 遍历 dictionary keys, 这里是 k, 下一行业是 k.\n",
    "                    if self.dfs(node.dic[k], word[i+1:]): # 👍 string 是 immutable, 是 copy 传参. 所以这种操作一点也不麻烦.\n",
    "                        return True\n",
    "                return False\n",
    "            \n",
    "            elif x not in node.dic:\n",
    "                return False\n",
    "            \n",
    "            else:\n",
    "                node = node.dic[x]\n",
    "        return node.word\n",
    "\n",
    "# Your WordDictionary object will be instantiated and called as such:\n",
    "# obj = WordDictionary()\n",
    "# obj.addWord(word)\n",
    "# param_2 = obj.search(word)"
   ]
  },
  {
   "cell_type": "code",
   "execution_count": 5,
   "metadata": {},
   "outputs": [
    {
     "name": "stdout",
     "output_type": "stream",
     "text": [
      "a\n",
      "b\n"
     ]
    }
   ],
   "source": [
    "dic = {\"a\":1, \"b\":2} # 演示 如何遍历 dic keys\n",
    "for x in dic:\n",
    "    print x"
   ]
  },
  {
   "cell_type": "markdown",
   "metadata": {},
   "source": [
    "### [648.med-Replace Words](https://leetcode.com/problems/replace-words/description/)\n",
    "##### 题意: 将 sentence 的词, 替换成 prefix 模式."
   ]
  },
  {
   "cell_type": "code",
   "execution_count": null,
   "metadata": {
    "collapsed": true
   },
   "outputs": [],
   "source": [
    "\"\"\"\n",
    "Example 1:\n",
    "Input: dict = [\"cat\", \"bat\", \"rat\"]\n",
    "sentence = \"the cattle was rattled by the battery\"\n",
    "Output: \"the cat was rat by the bat\"\n",
    "\"\"\""
   ]
  },
  {
   "cell_type": "code",
   "execution_count": 23,
   "metadata": {},
   "outputs": [
    {
     "name": "stdout",
     "output_type": "stream",
     "text": [
      "['a', 'aa', 'a', 'aaaa', 'aaa', 'aaa', 'aaa', 'aaaaaa', 'bbb', 'baba', 'ababa']\n",
      "['a', 'a', 'a', 'a', 'a', 'a', 'a', 'a', 'bbb', 'baba', 'a']\n"
     ]
    }
   ],
   "source": [
    "class TrieNode(object):\n",
    "    def __init__(self):\n",
    "        self.dic = {}\n",
    "        self.word = \"\"\n",
    "        \n",
    "class Solution(object):\n",
    "    def replaceWords(self, dict, sentence):\n",
    "        \"\"\"\n",
    "        :type dict: List[str]\n",
    "        :type sentence: str\n",
    "        :rtype: str\n",
    "        \"\"\"\n",
    "        if not dict or not sentence: return \"\"\n",
    "        \n",
    "        root = self.buildTrie(dict) # ❎❎ 忘记调用该函数了.\n",
    "        rst = []\n",
    "        words = sentence.split(\" \") # ❤️❤️ 重要的 string 操作, 将 word 分开, 分到 list 中.\n",
    "        for word in words:\n",
    "            node, tmp = root, word # ❎ 初设默认值, 非常重要\n",
    "            for x in word:\n",
    "                if node.word:\n",
    "                    tmp = node.word\n",
    "                    break\n",
    "                if x not in node.dic:\n",
    "                    break\n",
    "                node = node.dic[x]\n",
    "            rst.append(tmp)\n",
    "        return \" \".join(rst)\n",
    "        \n",
    "    def buildTrie(self, words): # ❤️❤️ 对多一个 word 构架 trie tree\n",
    "        root = TrieNode()\n",
    "        for word in words:\n",
    "            node = root\n",
    "            for x in word:\n",
    "                if x not in node.dic:\n",
    "                    node.dic[x] = TrieNode()\n",
    "                node = node.dic[x]\n",
    "            node.word = word\n",
    "        return root\n",
    "\n",
    "\n",
    "########## testing #############\n",
    "# dict = [\"cat\", \"bat\", \"rat\"]\n",
    "# sentence = \"the cattle was rattled by the battery\"\n",
    "# print sentence\n",
    "# print Solution().replaceWords(dict, sentence)\n",
    "\n",
    "dict = [\"a\", \"aa\", \"aaa\", \"aaaa\"]\n",
    "sentence = \"a aa a aaaa aaa aaa aaa aaaaaa bbb baba ababa\"\n",
    "print Solution().replaceWords(dict, sentence)\n",
    "\n",
    "\n",
    "########## testing #############\n",
    "# dict = [\"cat\", \"bat\", \"rat\"]\n",
    "# sentence = \"the cattle was rattled by the battery\"\n",
    "# print sentence\n",
    "# print Solution().replaceWords(dict, sentence)\n",
    "\n",
    "dict = [\"a\", \"aa\", \"aaa\", \"aaaa\"]\n",
    "sentence = \"a aa a aaaa aaa aaa aaa aaaaaa bbb baba ababa\"\n",
    "print Solution().replaceWords(dict, sentence)"
   ]
  },
  {
   "cell_type": "markdown",
   "metadata": {},
   "source": [
    "### [❓676.med-Implement Magic Dictionary](https://leetcode.com/problems/implement-magic-dictionary/description/)\n",
    "##### 题意: Implement a magic directory with <span class=\"girk\">buildDict</span>, and <span class=\"girk\">search</span> methods.\n",
    "* For the method <span class=\"girk\">buildDict</span>, you'll be given a list of non-repetitive words to build a dictionary.\n",
    "* For the method <span class=\"girk\">search</span>, you'll be given a word, and judge whether if you <span class=\"girk\">modify exactly one character into another character</span> in this word, the modified word is in the dictionary you just built. 需要改变一个, 不改变的话是不可以的.\n",
    "\n",
    "* https://www.youtube.com/watch?v=wq9XjoKMxek&t=723s"
   ]
  },
  {
   "cell_type": "code",
   "execution_count": null,
   "metadata": {
    "collapsed": true
   },
   "outputs": [],
   "source": [
    "\"\"\" Example 1: --------------------\n",
    "Input: buildDict([\"hello\", \"leetcode\"]), Output: Null\n",
    "Input: search(\"hello\"), Output: False\n",
    "Input: search(\"hhllo\"), Output: True\n",
    "Input: search(\"hell\"), Output: False\n",
    "Input: search(\"leetcoded\"), Output: False\n",
    "\"\"\""
   ]
  },
  {
   "cell_type": "code",
   "execution_count": null,
   "metadata": {
    "collapsed": true
   },
   "outputs": [],
   "source": [
    "class TrieNode(object):\n",
    "    def __init__(self):\n",
    "        self.dic = {}\n",
    "        self.word = False\n",
    "        \n",
    "class MagicDictionary(object):\n",
    "    def __init__(self):\n",
    "        \"\"\"\n",
    "        Initialize your data structure here.\n",
    "        \"\"\"\n",
    "        self.root = TrieNode()\n",
    "        \n",
    "\n",
    "    def buildDict(self, dict):\n",
    "        \"\"\"\n",
    "        Build a dictionary through a list of words\n",
    "        :type dict: List[str]\n",
    "        :rtype: void\n",
    "        \"\"\"\n",
    "        for word in dict:\n",
    "            node = self.root\n",
    "            for x in word:\n",
    "                if x not in node.dic:\n",
    "                    node.dic[x] = TrieNode()\n",
    "                node = node.dic[x]\n",
    "            node.word = True\n",
    "                    \n",
    "        \n",
    "    def search(self, word):\n",
    "        \"\"\"\n",
    "        Returns if there is any word in the trie that equals to the given word after modifying exactly one character\n",
    "        :type word: str\n",
    "        :rtype: bool\n",
    "        \"\"\"\n",
    "        return self.dfs(word, self.root, 0)\n",
    "        \n",
    "    def dfs(self, word, node, cnt):\n",
    "        \n",
    "        for i, x in enumerate(word):\n",
    "            if x not in node.dic:\n",
    "                cnt += 1\n",
    "                if cnt > 1: return False\n",
    "                for k in node.dic:\n",
    "                    if self.dfs(word[i+1:], node.dic[k], cnt) and cnt == 1:\n",
    "                        return True\n",
    "                return False\n",
    "            else:\n",
    "                node = node.dic[x]\n",
    "        return node.word and cnt == 1\n",
    "\n",
    "\n",
    "# Your MagicDictionary object will be instantiated and called as such:\n",
    "# obj = MagicDictionary()\n",
    "# obj.buildDict(dict)\n",
    "# param_2 = obj.search(word)"
   ]
  },
  {
   "cell_type": "markdown",
   "metadata": {},
   "source": [
    "## [❤️ 3/4: Tree]()"
   ]
  },
  {
   "cell_type": "markdown",
   "metadata": {},
   "source": [
    "### [270.easy-Closest Binary Search Tree Value](https://leetcode.com/problems/closest-binary-search-tree-value/description/)\n",
    "##### 题意: 给定非空 BST 和 target, 在 BST 找到和 target 最相近 node 的 value.\n",
    "* 注意: \n",
    "    * Given target value is a floating point.\n",
    "    * You are guaranteed to have only one unique value in the BST that is closest to the target.\n",
    "    \n",
    "##### 分析:\n",
    "* 根据 BST 的性质, left <= root <= right, 所以最小差异, <span class=\"girk\">存在于 left -- root 或 right -- root 之间</span>, 也就是是<span class=\"girk\">存在一个搜索路径中</span>. 而不是 left 和 right 之间.\n",
    "#####"
   ]
  },
  {
   "cell_type": "code",
   "execution_count": null,
   "metadata": {
    "collapsed": true
   },
   "outputs": [],
   "source": [
    "# 方法1: iteration. ❤️ better ❤️  \n",
    "class Solution(object):\n",
    "    def closestValue(self, root, target):\n",
    "        \"\"\"\n",
    "        :type root: TreeNode\n",
    "        :type target: float\n",
    "        :rtype: int\n",
    "        \"\"\"    \n",
    "        rst = None\n",
    "        minDist = float(\"inf\")\n",
    "        while root:\n",
    "            dist = abs(target - root.val)\n",
    "            if dist < minDist: \n",
    "                rst = root.val\n",
    "                minDist = dist \n",
    "                \n",
    "            if target < root.val:\n",
    "                root = root.left\n",
    "            else:\n",
    "                root = root.right\n",
    "        return rst"
   ]
  },
  {
   "cell_type": "code",
   "execution_count": null,
   "metadata": {
    "collapsed": true
   },
   "outputs": [],
   "source": [
    "# 方法2: recursion\n",
    "class Solution(object):\n",
    "    def __init__(self):\n",
    "        self.min, self.rst = float(\"inf\"), None\n",
    "        \n",
    "    def closestValue(self, root, target):\n",
    "        \"\"\"\n",
    "        :type root: TreeNode\n",
    "        :type target: float\n",
    "        :rtype: int\n",
    "        \"\"\"\n",
    "        self.inorder(root, target)\n",
    "        return self.rst\n",
    "    \n",
    "    def inorder(self, node, target):\n",
    "        if not node: return \n",
    "        \n",
    "        tmp = abs(node.val - target)\n",
    "        if tmp < self.min:\n",
    "            self.min = tmp\n",
    "            self.rst = node.val\n",
    "            \n",
    "        if target < node.val: # ❤️❤️ 截枝, 截去大量的枝.\n",
    "            self.inorder(node.left, target)\n",
    "        elif target > node.val:\n",
    "            self.inorder(node.right, target)"
   ]
  },
  {
   "cell_type": "markdown",
   "metadata": {},
   "source": [
    "### [❓272.hard-Closest Binary Search Tree Value II](https://leetcode.com/problems/closest-binary-search-tree-value-ii/description/)"
   ]
  },
  {
   "cell_type": "code",
   "execution_count": null,
   "metadata": {
    "collapsed": true
   },
   "outputs": [],
   "source": [
    "from collections import deque\n",
    "class Solution(object):\n",
    "    def closestKValues(self, root, target, k):\n",
    "        \"\"\"\n",
    "        :type root: TreeNode\n",
    "        :type target: float\n",
    "        :type k: int\n",
    "        :rtype: List[int]\n",
    "        \"\"\"\n",
    "        if not root: return []\n",
    "        \n",
    "        q = deque()\n",
    "        stack, node = [], root\n",
    "        while stack or node:\n",
    "            while node: \n",
    "                stack.append(node)\n",
    "                node = node.left\n",
    "                \n",
    "            node = stack.pop()\n",
    "            if len(q) == k:\n",
    "                if abs(node.val-target) < abs(q[0]-target):\n",
    "                    q.popleft()\n",
    "                    q.append(node.val)\n",
    "            else:\n",
    "                q.append(node.val)\n",
    "\n",
    "            node = node.right\n",
    "        return [x for x in q] # 或者 list(q) 也可以, ❎❎❎ 输出值要求是 List, 不能将 q 直接输出."
   ]
  },
  {
   "cell_type": "markdown",
   "metadata": {},
   "source": [
    "### [222.med-Count Complete Tree Nodes](https://leetcode.com/problems/count-complete-tree-nodes/description/)\n",
    "##### 题意: Given a complete binary tree, count the number of nodes.\n",
    "* In a <span class=\"girk\">complete binary tree</span> every level, except possibly the last, is completely filled, and all nodes in the last level are <span class=\"girk\">as far left as possible</span>. It can have between 1 and 2h nodes inclusive at the last level h.\n",
    "\n",
    "\n",
    "* <span class=\"burk\">额外要求</span>: 小于线性复杂度\n",
    "\n",
    "##### 总结: <span class=\"girk\">数 left 和 right 的深度, 如果相等, 则立马计算出来</span>."
   ]
  },
  {
   "cell_type": "code",
   "execution_count": null,
   "metadata": {
    "collapsed": true
   },
   "outputs": [],
   "source": [
    "# Time: O(logn*logn), \n",
    "#     * left 和 right 计算是 logn 复杂度,\n",
    "#     * countNodes 可能深入到最底层, 同样是 logn 的复杂度.\n",
    "class Solution(object):\n",
    "    def countNodes(self, root):\n",
    "        \"\"\"\n",
    "        :type root: TreeNode\n",
    "        :rtype: int\n",
    "        \"\"\"\n",
    "        if not root: return 0\n",
    "        \n",
    "        left = self.treeDepth(root, True) #❤️是 root depth, 不是 root.left 或 root.right 的 depth.\n",
    "        right = self.treeDepth(root, False)\n",
    "        if left == right:\n",
    "            return (1<<left) - 1\n",
    "        else:\n",
    "            return 1 + self.countNodes(root.left) + self.countNodes(root.right)\n",
    "    \n",
    "    def treeDepth(self, root, isLeft): # ❤️❤️ left 和 right depth 二合一 ❤️❤️\n",
    "        cnt = 0 \n",
    "        while root:\n",
    "            cnt += 1\n",
    "            root = root.left if isLeft else root.right\n",
    "        return cnt"
   ]
  },
  {
   "cell_type": "code",
   "execution_count": null,
   "metadata": {
    "collapsed": true
   },
   "outputs": [],
   "source": [
    "class Solution(object):\n",
    "    def countNodes(self, root):\n",
    "        \"\"\"\n",
    "        :type root: TreeNode\n",
    "        :rtype: int\n",
    "        \"\"\"\n",
    "        if not root: return 0\n",
    "        \n",
    "        left = self.leftDepth(root) \n",
    "        right = self.rightDepth(root)\n",
    "        if left == right:\n",
    "            return (1<<left) - 1\n",
    "        else:\n",
    "            return 1 + self.countNodes(root.left) + self.countNodes(root.right)\n",
    "        \n",
    "    def leftDepth(self, root):\n",
    "        cnt = 0\n",
    "        while root:\n",
    "            cnt += 1\n",
    "            root = root.left\n",
    "        return cnt\n",
    "        \n",
    "    def rightDepth(self, root):\n",
    "        cnt = 0\n",
    "        while root:\n",
    "            cnt += 1\n",
    "            root = root.right\n",
    "        return cnt"
   ]
  }
 ],
 "metadata": {
  "kernelspec": {
   "display_name": "Python 2",
   "language": "python",
   "name": "python2"
  },
  "language_info": {
   "codemirror_mode": {
    "name": "ipython",
    "version": 2
   },
   "file_extension": ".py",
   "mimetype": "text/x-python",
   "name": "python",
   "nbconvert_exporter": "python",
   "pygments_lexer": "ipython2",
   "version": "2.7.13"
  },
  "toc": {
   "nav_menu": {},
   "number_sections": true,
   "sideBar": true,
   "skip_h1_title": true,
   "toc_cell": true,
   "toc_position": {
    "height": "601px",
    "left": "0px",
    "right": "1084.28px",
    "top": "108px",
    "width": "227px"
   },
   "toc_section_display": "block",
   "toc_window_display": true
  }
 },
 "nbformat": 4,
 "nbformat_minor": 2
}

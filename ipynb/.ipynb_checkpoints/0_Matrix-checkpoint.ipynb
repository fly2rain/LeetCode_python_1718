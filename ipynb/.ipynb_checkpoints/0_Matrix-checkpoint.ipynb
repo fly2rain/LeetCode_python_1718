{
 "cells": [
  {
   "cell_type": "markdown",
   "metadata": {
    "toc": true
   },
   "source": [
    "<h1>Table of Contents<span class=\"tocSkip\"></span></h1>\n",
    "<div class=\"toc\" style=\"margin-top: 1em;\"><ul class=\"toc-item\"><li><span><a href=\"#3/26:-Top-frequency\" data-toc-modified-id=\"3/26:-Top-frequency-1\"><span class=\"toc-item-num\">1&nbsp;&nbsp;</span><a href=\"\" target=\"_blank\">3/26: Top frequency</a></a></span><ul class=\"toc-item\"><li><span><a href=\"#48.med-Rotate-Image\" data-toc-modified-id=\"48.med-Rotate-Image-1.1\"><span class=\"toc-item-num\">1.1&nbsp;&nbsp;</span><a href=\"https://leetcode.com/problems/rotate-image/description/\" target=\"_blank\">48.med-Rotate Image</a></a></span><ul class=\"toc-item\"><li><span><a href=\"#clockwise-rotate-90\" data-toc-modified-id=\"clockwise-rotate-90-1.1.1\"><span class=\"toc-item-num\">1.1.1&nbsp;&nbsp;</span>clockwise rotate 90</a></span></li><li><span><a href=\"#anticlockwise-rotate-90\" data-toc-modified-id=\"anticlockwise-rotate-90-1.1.2\"><span class=\"toc-item-num\">1.1.2&nbsp;&nbsp;</span>anticlockwise rotate 90</a></span></li><li><span><a href=\"#rotate-180\" data-toc-modified-id=\"rotate-180-1.1.3\"><span class=\"toc-item-num\">1.1.3&nbsp;&nbsp;</span>rotate 180</a></span></li></ul></li><li><span><a href=\"#85.hard-Maximal-Rectangle\" data-toc-modified-id=\"85.hard-Maximal-Rectangle-1.2\"><span class=\"toc-item-num\">1.2&nbsp;&nbsp;</span><a href=\"https://leetcode.com/problems/maximal-rectangle/description/\" target=\"_blank\">85.hard-Maximal Rectangle</a></a></span></li><li><span><a href=\"#54.med-Spiral-Matrix\" data-toc-modified-id=\"54.med-Spiral-Matrix-1.3\"><span class=\"toc-item-num\">1.3&nbsp;&nbsp;</span><a href=\"https://leetcode.com/problems/spiral-matrix/description/\" target=\"_blank\">54.med-Spiral Matrix</a></a></span></li><li><span><a href=\"#59.med-Spiral-Matrix-II\" data-toc-modified-id=\"59.med-Spiral-Matrix-II-1.4\"><span class=\"toc-item-num\">1.4&nbsp;&nbsp;</span><a href=\"https://leetcode.com/problems/spiral-matrix-ii/description/\" target=\"_blank\">59.med-Spiral Matrix II</a></a></span></li><li><span><a href=\"#❤️73.med-Set-Matrix-Zeroes\" data-toc-modified-id=\"❤️73.med-Set-Matrix-Zeroes-1.5\"><span class=\"toc-item-num\">1.5&nbsp;&nbsp;</span><a href=\"https://leetcode.com/problems/set-matrix-zeroes/description/\" target=\"_blank\">❤️73.med-Set Matrix Zeroes</a></a></span></li><li><span><a href=\"#74.med-Search-a-2D-Matrix\" data-toc-modified-id=\"74.med-Search-a-2D-Matrix-1.6\"><span class=\"toc-item-num\">1.6&nbsp;&nbsp;</span><a href=\"https://leetcode.com/problems/search-a-2d-matrix/description/\" target=\"_blank\">74.med-Search a 2D Matrix</a></a></span></li><li><span><a href=\"#240.med-Search-a-2D-Matrix-II\" data-toc-modified-id=\"240.med-Search-a-2D-Matrix-II-1.7\"><span class=\"toc-item-num\">1.7&nbsp;&nbsp;</span><a href=\"https://leetcode.com/problems/search-a-2d-matrix-ii/description/\" target=\"_blank\">240.med-Search a 2D Matrix II</a></a></span></li><li><span><a href=\"#566.easy-Reshape-the-Matrix\" data-toc-modified-id=\"566.easy-Reshape-the-Matrix-1.8\"><span class=\"toc-item-num\">1.8&nbsp;&nbsp;</span><a href=\"https://leetcode.com/problems/reshape-the-matrix/description/\" target=\"_blank\">566.easy-Reshape the Matrix</a></a></span></li><li><span><a href=\"#221.med-Maximal-Square\" data-toc-modified-id=\"221.med-Maximal-Square-1.9\"><span class=\"toc-item-num\">1.9&nbsp;&nbsp;</span><a href=\"https://leetcode.com/problems/maximal-square/description/\" target=\"_blank\">221.med-Maximal Square</a></a></span></li><li><span><a href=\"#378.med-Kth-Smallest-Element-in-a-Sorted-Matrix\" data-toc-modified-id=\"378.med-Kth-Smallest-Element-in-a-Sorted-Matrix-1.10\"><span class=\"toc-item-num\">1.10&nbsp;&nbsp;</span><a href=\"https://leetcode.com/problems/kth-smallest-element-in-a-sorted-matrix/description/\" target=\"_blank\">378.med-Kth Smallest Element in a Sorted Matrix</a></a></span></li><li><span><a href=\"#311.med-Sparse-Matrix-Multiplication\" data-toc-modified-id=\"311.med-Sparse-Matrix-Multiplication-1.11\"><span class=\"toc-item-num\">1.11&nbsp;&nbsp;</span><a href=\"https://leetcode.com/problems/sparse-matrix-multiplication/description/\" target=\"_blank\">311.med-Sparse Matrix Multiplication</a></a></span></li><li><span><a href=\"#547.med-Friend-Circles\" data-toc-modified-id=\"547.med-Friend-Circles-1.12\"><span class=\"toc-item-num\">1.12&nbsp;&nbsp;</span><a href=\"https://leetcode.com/problems/friend-circles/description/\" target=\"_blank\">547.med-Friend Circles</a></a></span></li><li><span><a href=\"#766.easy-Toeplitz-Matrix\" data-toc-modified-id=\"766.easy-Toeplitz-Matrix-1.13\"><span class=\"toc-item-num\">1.13&nbsp;&nbsp;</span><a href=\"https://leetcode.com/problems/toeplitz-matrix/description/\" target=\"_blank\">766.easy-Toeplitz Matrix</a></a></span></li></ul></li><li><span><a href=\"#4/6:-Top-frequency\" data-toc-modified-id=\"4/6:-Top-frequency-2\"><span class=\"toc-item-num\">2&nbsp;&nbsp;</span><a href=\"\" target=\"_blank\">4/6: Top frequency</a></a></span><ul class=\"toc-item\"><li><span><a href=\"#419.med-Battleships-in-a-Board\" data-toc-modified-id=\"419.med-Battleships-in-a-Board-2.1\"><span class=\"toc-item-num\">2.1&nbsp;&nbsp;</span><a href=\"https://leetcode.com/problems/battleships-in-a-board/description/\" target=\"_blank\">419.med-Battleships in a Board</a></a></span></li><li><span><a href=\"#62.med-Unique-Paths\" data-toc-modified-id=\"62.med-Unique-Paths-2.2\"><span class=\"toc-item-num\">2.2&nbsp;&nbsp;</span><a href=\"https://leetcode.com/problems/unique-paths/description/\" target=\"_blank\">62.med-Unique Paths</a></a></span></li><li><span><a href=\"#63.med-Unique-Paths-II\" data-toc-modified-id=\"63.med-Unique-Paths-II-2.3\"><span class=\"toc-item-num\">2.3&nbsp;&nbsp;</span><a href=\"https://leetcode.com/problems/unique-paths-ii/description/\" target=\"_blank\">63.med-Unique Paths II</a></a></span></li><li><span><a href=\"#64.med-Minimum-Path-Sum\" data-toc-modified-id=\"64.med-Minimum-Path-Sum-2.4\"><span class=\"toc-item-num\">2.4&nbsp;&nbsp;</span><a href=\"https://leetcode.com/problems/minimum-path-sum/description/\" target=\"_blank\">64.med-Minimum Path Sum</a></a></span></li><li><span><a href=\"#36.med-Valid-Sudoku\" data-toc-modified-id=\"36.med-Valid-Sudoku-2.5\"><span class=\"toc-item-num\">2.5&nbsp;&nbsp;</span><a href=\"https://leetcode.com/problems/valid-sudoku/description/\" target=\"_blank\">36.med-Valid Sudoku</a></a></span></li><li><span><a href=\"#37.hard-Sudoku-Solver\" data-toc-modified-id=\"37.hard-Sudoku-Solver-2.6\"><span class=\"toc-item-num\">2.6&nbsp;&nbsp;</span><a href=\"https://leetcode.com/problems/sudoku-solver/description/\" target=\"_blank\">37.hard-Sudoku Solver</a></a></span></li></ul></li></ul></div>"
   ]
  },
  {
   "cell_type": "markdown",
   "metadata": {},
   "source": [
    "# Matrix\n",
    "* 题型: https://leetcode.com/problemset/algorithms/?search=matrix"
   ]
  },
  {
   "cell_type": "markdown",
   "metadata": {
    "collapsed": true
   },
   "source": [
    "## [3/26: Top frequency]()"
   ]
  },
  {
   "cell_type": "markdown",
   "metadata": {},
   "source": [
    "### [48.med-Rotate Image](https://leetcode.com/problems/rotate-image/description/)\n",
    "##### 题意: 给定 $n\\times n$ matrix, 90° (clockwise) rotate the matrix <span class=\"girk\">in place</span>.\n",
    "\n",
    "##### 思路: 所有的旋转可通过两次对折实现 (1. 纵向对折, 2. 沿对角线对折). https://leetcode.com/problems/rotate-image/discuss/18872/A-common-method-to-rotate-the-image"
   ]
  },
  {
   "cell_type": "markdown",
   "metadata": {},
   "source": [
    "#### clockwise rotate 90"
   ]
  },
  {
   "cell_type": "code",
   "execution_count": null,
   "metadata": {
    "collapsed": true
   },
   "outputs": [],
   "source": [
    "\"\"\" clockwise rotate 90\n",
    "Example 1: -----------------------------------\n",
    "clockwise rotate\n",
    "❤️思路❤️: 1.first reverse up to down, 2.swap the symmetry \n",
    "  1 2 3     7 8 9     7 4 1\n",
    "  4 5 6  => 4 5 6  => 8 5 2\n",
    "  7 8 9     1 2 3     9 6 3\n",
    "\"\"\""
   ]
  },
  {
   "cell_type": "code",
   "execution_count": 3,
   "metadata": {},
   "outputs": [
    {
     "name": "stdout",
     "output_type": "stream",
     "text": [
      "[[7, 4, 1], [8, 5, 2], [9, 6, 3]]\n"
     ]
    }
   ],
   "source": [
    "class Solution(object):\n",
    "    def rotate(self, mat):\n",
    "        \"\"\"\n",
    "        :type mat: List[List[int]]\n",
    "        :rtype: void Do not return anything, modify matrix in-place instead.\n",
    "        \"\"\"\n",
    "        if not mat or (len(mat)==1 and len(mat[0])<2): return # ❤️ 不能返回结果\n",
    "        \n",
    "        n = len(mat)\n",
    "        # 1: reserse up to down\n",
    "        mat[:] = mat[::-1]\n",
    "        \n",
    "        # 2: flip along the diagonal line\n",
    "        for r in xrange(n):\n",
    "            for c in xrange(r):\n",
    "                mat[r][c], mat[c][r] = mat[c][r], mat[r][c]\n",
    "        return mat\n",
    "print Solution().rotate([\n",
    "  [1,2,3],\n",
    "  [4,5,6],\n",
    "  [7,8,9]\n",
    "])"
   ]
  },
  {
   "cell_type": "markdown",
   "metadata": {},
   "source": [
    "#### anticlockwise rotate 90"
   ]
  },
  {
   "cell_type": "code",
   "execution_count": null,
   "metadata": {
    "collapsed": true
   },
   "outputs": [],
   "source": [
    "\"\"\" anticlockwise rotate 90\n",
    "Example 1: -----------------------------------\n",
    "clockwise rotate\n",
    "❤️思路❤️: 1.first reverse up to down, 2.swap the symmetry \n",
    "  1 2 3     3 2 1     3 6 9\n",
    "  4 5 6  => 6 5 4  => 2 5 8\n",
    "  7 8 9     9 8 7     1 4 7\n",
    "\"\"\""
   ]
  },
  {
   "cell_type": "code",
   "execution_count": 7,
   "metadata": {},
   "outputs": [
    {
     "name": "stdout",
     "output_type": "stream",
     "text": [
      "[[1, 2, 3], [4, 5, 6], [7, 8, 9]]\n",
      "[[1, 2, 3], [4, 5, 6], [7, 8, 9]]\n",
      "[[3, 6, 9], [2, 5, 8], [1, 4, 7]]\n"
     ]
    }
   ],
   "source": [
    "class Solution(object):\n",
    "    def rotate(self, mat):\n",
    "        \"\"\"\n",
    "        :type mat: List[List[int]]\n",
    "        :rtype: void Do not return anything, modify matrix in-place instead.\n",
    "        \"\"\"\n",
    "        if not mat or (len(mat)==1 and len(mat[0])<2): return \n",
    "        \n",
    "        n = len(mat)\n",
    "        # print mat\n",
    "        # mat[:][:] = mat[:][::-1]\n",
    "        # print mat\n",
    "        for r in xrange(n):\n",
    "            for c in xrange(n/2):\n",
    "                mat[r][c], mat[r][-(c+1)] = mat[r][-(c+1)], mat[r][c]\n",
    "        \n",
    "        for r in xrange(n):\n",
    "            for c in xrange(r):\n",
    "                mat[r][c], mat[c][r] = mat[c][r], mat[r][c]\n",
    "        return mat\n",
    "                \n",
    "print Solution().rotate([\n",
    "  [1,2,3],\n",
    "  [4,5,6],\n",
    "  [7,8,9]\n",
    "],)\n",
    "            "
   ]
  },
  {
   "cell_type": "markdown",
   "metadata": {},
   "source": [
    "#### rotate 180"
   ]
  },
  {
   "cell_type": "code",
   "execution_count": null,
   "metadata": {
    "collapsed": true
   },
   "outputs": [],
   "source": [
    "\"\"\" clockwise rotate 180. 先换行, 然后再倒列\n",
    "  1 2 3     7 8 9     9 8 7\n",
    "  4 5 6  => 4 5 6  => 6 5 4\n",
    "  7 8 9     1 2 3     3 2 1\n",
    "\"\"\""
   ]
  },
  {
   "cell_type": "code",
   "execution_count": null,
   "metadata": {
    "collapsed": true
   },
   "outputs": [],
   "source": [
    "\"\"\" anticlockwise 180: 先换行, 然后再倒列 \n",
    "  1 2 3     7 8 9     9 8 7\n",
    "  4 5 6  => 4 5 6  => 6 5 4\n",
    "  7 8 9     1 2 3     3 2 1\n",
    "\"\"\""
   ]
  },
  {
   "cell_type": "code",
   "execution_count": null,
   "metadata": {
    "collapsed": true
   },
   "outputs": [],
   "source": [
    "def rotate180(mat):\n",
    "    n = len(mat)\n",
    "    mat[:] = mat[::-1]\n",
    "    for i in xrange(n):\n",
    "        for j in xrange(n/2):\n",
    "            mat[i][j], mat[i][-(j+1)] = mat[i][-(j+1)], mat[i][j]"
   ]
  },
  {
   "cell_type": "markdown",
   "metadata": {},
   "source": [
    "### [85.hard-Maximal Rectangle](https://leetcode.com/problems/maximal-rectangle/description/)\n",
    "##### 题意: Given a 2D binary matrix filled with 0's and 1's, find the largest rectangle containing only 1's and return its area."
   ]
  },
  {
   "cell_type": "code",
   "execution_count": null,
   "metadata": {
    "collapsed": true
   },
   "outputs": [],
   "source": [
    "\"\"\"\n",
    "For example, given the following matrix:\n",
    "1 0 1 0 0\n",
    "1 0 1 1 1\n",
    "1 1 1 1 1\n",
    "1 0 0 1 0\n",
    "\n",
    "Return 6.\n",
    "\"\"\""
   ]
  },
  {
   "cell_type": "code",
   "execution_count": null,
   "metadata": {
    "collapsed": true
   },
   "outputs": [],
   "source": [
    "# Time: O(R*C^2), space: O(C)\n",
    "class Solution(object):\n",
    "    def maximalRectangle(self, mat):\n",
    "        \"\"\"\n",
    "        :type mat: List[List[str]]\n",
    "        :rtype: int\n",
    "        \"\"\"\n",
    "        # 1 edge condition \n",
    "        if not mat or (len(mat) == 1 and not mat[0]): return 0\n",
    "        \n",
    "        # 2 construct the histogram for each row and calculate the largest rectangle area.\n",
    "        nr, nc = len(mat), len(mat[0])\n",
    "        hist = [0] * nc\n",
    "        rst = 0\n",
    "        for r in xrange(nr):\n",
    "            for c in xrange(nc):\n",
    "                hist[c] = 0 if mat[r][c] == \"0\" else hist[c] + 1 # ❎ 错在没有 int()\n",
    "            area = self.largestRectangleArea(hist)\n",
    "            rst = max(rst, area)\n",
    "        return rst\n",
    "            \n",
    "    def largestRectangleArea(self, hist): # 84 题的解\n",
    "        if not hist: return 0\n",
    "        \n",
    "        hist.append(0)\n",
    "        stack, rst = [], 0\n",
    "        for i, x in enumerate(hist):\n",
    "            while stack and x < hist[stack[-1]]:\n",
    "                h = hist[stack.pop()]\n",
    "                w = i if not stack else i-stack[-1]-1\n",
    "                rst = max(rst, w*h)\n",
    "            stack.append(i)\n",
    "        hist.pop() # ❤️ hist 是多行共用的, 开头有append, 结尾就必须有pop, 类似于 backtracking\n",
    "        return rst                                     \n",
    "    \n",
    "######### Testing #######\n",
    "tmp = [[1,0,1,0,0],[1,0,1,1,1],[1,1,1,1,1],[1,0,0,1,0]]\n",
    "print Solution().maximalRectangle(tmp)"
   ]
  },
  {
   "cell_type": "markdown",
   "metadata": {},
   "source": [
    "### [54.med-Spiral Matrix](https://leetcode.com/problems/spiral-matrix/description/)\n",
    "##### 题意: 给定 $m\\times n$ 矩阵, 输出所有元素, 按照螺旋形顺序.\n",
    "##### 分析\n",
    "##### 总结"
   ]
  },
  {
   "cell_type": "code",
   "execution_count": null,
   "metadata": {
    "collapsed": true
   },
   "outputs": [],
   "source": [
    "\"\"\"\n",
    "For example,\n",
    "Given the following matrix:\n",
    "\n",
    "[\n",
    " [ 1, 2, 3 ],\n",
    " [ 4, 5, 6 ],\n",
    " [ 7, 8, 9 ]\n",
    "]\n",
    "You should return [1,2,3,6,9,8,7,4,5].\n",
    "\"\"\""
   ]
  },
  {
   "cell_type": "code",
   "execution_count": null,
   "metadata": {
    "collapsed": true
   },
   "outputs": [],
   "source": [
    "# IDEA: 先赋值操作, 再探索下一步的合法性, 一个 for 循环搞定.\n",
    "# time & space: O(m*n)\n",
    "class Solution(object):\n",
    "    def spiralOrder(self, mat):\n",
    "        \"\"\"\n",
    "        :type mat: List[List[int]]\n",
    "        :rtype: List[int]\n",
    "        \"\"\" \n",
    "        if not mat or (len(mat)==1 and not mat[0]): return []\n",
    "\n",
    "        directions = ( (0,1), (1,0), (0,-1), (-1,0) )\n",
    "        \n",
    "        nr, nc = len(mat), len(mat[0])\n",
    "        r = c = idx = 0\n",
    "        rst, step = [], directions[idx]\n",
    "        \n",
    "        for i in xrange(nr*nc):\n",
    "            rst.append(mat[r][c])\n",
    "            mat[r][c] = \"#\"\n",
    "    \n",
    "            r2 = r + step[0]\n",
    "            c2 = c + step[1]\n",
    "            if r2<0 or r2>=nr or c2<0 or c2>=nc or mat[r2][c2]==\"#\":\n",
    "                idx += 1\n",
    "                step = directions[idx%4]\n",
    "                r = r + step[0]\n",
    "                c = c + step[1]\n",
    "            else:\n",
    "                r, c = r2, c2\n",
    "        return rst"
   ]
  },
  {
   "cell_type": "markdown",
   "metadata": {},
   "source": [
    "### [59.med-Spiral Matrix II](https://leetcode.com/problems/spiral-matrix-ii/description/)\n",
    "##### 题意: 给定整数 $n$, 生成一个 $n\\times n$ 的矩阵, $1$ 到 $n^2$ 元素按照螺旋结构排放在矩阵中."
   ]
  },
  {
   "cell_type": "code",
   "execution_count": null,
   "metadata": {
    "collapsed": true
   },
   "outputs": [],
   "source": [
    "\"\"\"\n",
    "For example,\n",
    "Given n = 3,\n",
    "\n",
    "You should return the following matrix:\n",
    "[\n",
    " [ 1, 2, 3 ],\n",
    " [ 8, 9, 4 ],\n",
    " [ 7, 6, 5 ]\n",
    "]\n",
    "\"\"\""
   ]
  },
  {
   "cell_type": "code",
   "execution_count": null,
   "metadata": {
    "collapsed": true
   },
   "outputs": [],
   "source": [
    "class Solution(object):\n",
    "    def generateMatrix(self, n):\n",
    "        \"\"\"\n",
    "        :type n: int\n",
    "        :rtype: List[List[int]]\n",
    "        \"\"\"\n",
    "        if n < 1: return []\n",
    "        \n",
    "        directions = ( (0,1), (1,0), (0,-1), (-1,0) )\n",
    "        \n",
    "        nn = n*n + 1 \n",
    "        r = c = idx = 0\n",
    "        step = directions[idx]\n",
    "        mat = [[0]*n for i in xrange(n)]\n",
    "        for i in xrange(1, nn):\n",
    "            mat[r][c] = i\n",
    "            \n",
    "            r2 = r + step[0]\n",
    "            c2 = c + step[1]\n",
    "            if r2<0 or r2>=n or c2<0 or c2>=n or mat[r2][c2] != 0:\n",
    "                idx += 1\n",
    "                step = directions[idx%4]\n",
    "                r += step[0]\n",
    "                c += step[1]\n",
    "            else:\n",
    "                r, c = r2, c2\n",
    "        return mat"
   ]
  },
  {
   "cell_type": "markdown",
   "metadata": {},
   "source": [
    "### [❤️73.med-Set Matrix Zeroes](https://leetcode.com/problems/set-matrix-zeroes/description/)\n",
    "##### 题意: Given a $m \\times n$ matrix, if an element is 0, set its entire row and column to 0. <span class=\"burk\">Do it in place</span>."
   ]
  },
  {
   "cell_type": "code",
   "execution_count": 34,
   "metadata": {},
   "outputs": [
    {
     "name": "stdout",
     "output_type": "stream",
     "text": [
      "[[0, 0, 0, 0, 0], [0, 0, 0, 0, 0], [2147483647, 2, -9, -6, 0]]\n"
     ]
    }
   ],
   "source": [
    "# IDEA: 难点在于元素会相互干扰, 做法利用第一行第一列处理.\n",
    "# time: O(m*n), space: O(1)\n",
    "class Solution(object):\n",
    "    def setZeroes(self, mat):\n",
    "        \"\"\"\n",
    "        :type mat: List[List[int]]\n",
    "        :rtype: void Do not return anything, modify matrix in-place instead.\n",
    "        \"\"\"\n",
    "        if not mat or (len(mat)==1 and not mat[0]): return \n",
    "        \n",
    "        nr, nc = len(mat), len(mat[0])\n",
    "        first_row_zero = first_col_zero = False\n",
    "        for r in xrange(nr):\n",
    "            for c in xrange(nc):\n",
    "                if mat[r][c] == 0:\n",
    "                    mat[r][0] = mat[0][c] = 0\n",
    "                    if r == 0: first_row_zero = True\n",
    "                    if c == 0: first_col_zero = True\n",
    "                        \n",
    "        for r in xrange(1, nr):\n",
    "            if mat[r][0] == 0:\n",
    "                for c in xrange(1, nc): mat[r][c] = 0\n",
    "            \n",
    "        for c in xrange(1, nc):\n",
    "            if mat[0][c] == 0:\n",
    "                for r in xrange(1, nr): mat[r][c] = 0\n",
    "                    \n",
    "        if first_row_zero: \n",
    "            for c in xrange(nc): mat[0][c] = 0\n",
    "        if first_col_zero:\n",
    "            for r in xrange(nr): mat[r][0] = 0\n",
    "                \n",
    "                \n",
    "mat = [[-4,-2147483648,6,-7,0],[-8,6,-8,-6,0],[2147483647,2,-9,-6,-10]]\n",
    "Solution().setZeroes(mat)\n",
    "print mat"
   ]
  },
  {
   "cell_type": "markdown",
   "metadata": {},
   "source": [
    "### [74.med-Search a 2D Matrix](https://leetcode.com/problems/search-a-2d-matrix/description/)\n",
    "##### 题意: Write an efficient algorithm that searches for a value in an $m \\times n$ matrix. This matrix has the following properties:\n",
    "* Integers in each row are sorted from left to right.\n",
    "* The first integer of each row is greater than the last integer of the previous row."
   ]
  },
  {
   "cell_type": "code",
   "execution_count": null,
   "metadata": {
    "collapsed": true
   },
   "outputs": [],
   "source": [
    "\"\"\"\n",
    "For example,\n",
    "\n",
    "Consider the following matrix:\n",
    "\n",
    "[\n",
    "  [1,   3,  5,  7],\n",
    "  [10, 11, 16, 20],\n",
    "  [23, 30, 34, 50]\n",
    "]\n",
    "Given target = 3, return true.\n",
    "\"\"\""
   ]
  },
  {
   "cell_type": "code",
   "execution_count": null,
   "metadata": {
    "collapsed": true
   },
   "outputs": [],
   "source": [
    "# Binay search, time: O(log(m*n)) = O(log(m) + log(n))\n",
    "class Solution(object):\n",
    "    def searchMatrix(self, mat, target):\n",
    "        \"\"\"\n",
    "        :type mat: List[List[int]]\n",
    "        :type target: int\n",
    "        :rtype: bool\n",
    "        \"\"\"\n",
    "        if not mat or (len(mat)==1 and not mat[0]): return False\n",
    "        \n",
    "        nr, nc = len(mat), len(mat[0])\n",
    "        l, r = 0, nr*nc - 1\n",
    "        while l <= r:\n",
    "            m = l + ((r-l)>>1)\n",
    "            x = mat[m/nc][m%nc]\n",
    "            \n",
    "            if x < target:\n",
    "                l = m + 1\n",
    "            elif x > target:\n",
    "                r = m - 1\n",
    "            else:\n",
    "                return True\n",
    "        return False"
   ]
  },
  {
   "cell_type": "code",
   "execution_count": null,
   "metadata": {
    "collapsed": true
   },
   "outputs": [],
   "source": [
    "# Special search, time: O(m + n)\n",
    "class Solution(object):\n",
    "    def searchMatrix(self, mat, target):\n",
    "        \"\"\"\n",
    "        :type mat: List[List[int]]\n",
    "        :type target: int\n",
    "        :rtype: bool\n",
    "        \"\"\"\n",
    "        if not mat or (len(mat)==1 and not mat[0]): return False\n",
    "        if target is None: return True\n",
    "        \n",
    "        nr, nc = len(mat), len(mat[0])\n",
    "        r, c = 0, nc - 1\n",
    "        while r < nr and c > -1:\n",
    "            if mat[r][c] < target:\n",
    "                r += 1\n",
    "            elif mat[r][c] > target:\n",
    "                c -= 1\n",
    "            else:\n",
    "                return True\n",
    "        return False"
   ]
  },
  {
   "cell_type": "markdown",
   "metadata": {},
   "source": [
    "### [240.med-Search a 2D Matrix II](https://leetcode.com/problems/search-a-2d-matrix-ii/description/)\n",
    "##### 题意: Write an efficient algorithm that searches for a value in an m x n matrix. This matrix has the following properties:\n",
    "* Integers in each row are sorted in ascending from left to right.\n",
    "* Integers in each column are sorted in ascending from top to bottom.\n",
    "<span class=\"burk\">和 74 区别: 74 要求下一行第一个元素比前一行的最后一个元素要大.</span>"
   ]
  },
  {
   "cell_type": "code",
   "execution_count": null,
   "metadata": {
    "collapsed": true
   },
   "outputs": [],
   "source": [
    "\"\"\"\n",
    "For example,\n",
    "\n",
    "Consider the following matrix:\n",
    "\n",
    "[\n",
    "  [1,   4,  7, 11, 15],\n",
    "  [2,   5,  8, 12, 19],\n",
    "  [3,   6,  9, 16, 22],\n",
    "  [10, 13, 14, 17, 24],\n",
    "  [18, 21, 23, 26, 30]\n",
    "]\n",
    "Given target = 5, return true.\n",
    "\n",
    "Given target = 20, return false.\n",
    "\"\"\""
   ]
  },
  {
   "cell_type": "code",
   "execution_count": null,
   "metadata": {
    "collapsed": true
   },
   "outputs": [],
   "source": [
    "class Solution(object):\n",
    "    def searchMatrix(self, mat, target):\n",
    "        \"\"\"\n",
    "        :type matrix: List[List[int]]\n",
    "        :type target: int\n",
    "        :rtype: bool\n",
    "        \"\"\"\n",
    "        if not mat or (len(mat)==1 and not mat[0]): return False\n",
    "        if target is None: return True\n",
    "        \n",
    "        nr, nc = len(mat), len(mat[0])\n",
    "        r, c = 0, nc - 1\n",
    "        \n",
    "        while r < nr and c > -1:\n",
    "            if mat[r][c] < target:\n",
    "                r += 1\n",
    "            elif mat[r][c] > target:\n",
    "                c -= 1\n",
    "            else:\n",
    "                return True\n",
    "        return False\n",
    "        "
   ]
  },
  {
   "cell_type": "markdown",
   "metadata": {},
   "source": [
    "### [566.easy-Reshape the Matrix](https://leetcode.com/problems/reshape-the-matrix/description/)\n",
    "##### 题意: reshape the matrix\n",
    "* row-traversing order\n",
    "* 输入不合理, 返回输入 matrix"
   ]
  },
  {
   "cell_type": "code",
   "execution_count": null,
   "metadata": {
    "collapsed": true
   },
   "outputs": [],
   "source": [
    "class Solution(object):\n",
    "    def matrixReshape(self, nums, r, c):\n",
    "        \"\"\"\n",
    "        :type nums: List[List[int]]\n",
    "        :type r: int\n",
    "        :type c: int\n",
    "        :rtype: List[List[int]]\n",
    "        \"\"\"\n",
    "        if not nums or (len(nums)==1 and not nums[0]): \n",
    "            return nums\n",
    "        \n",
    "        nr, nc = len(nums), len(nums[0])\n",
    "        nSmp = nr*nc\n",
    "        if not nSmp == r*c: return nums\n",
    "        \n",
    "        mat = [[0]*c for i in xrange(r)] # ❎ 构造矩阵的时候 r 和 c 别用错了.\n",
    "        for i in xrange(nSmp):\n",
    "            mat[i/c][i%c] = nums[i/nc][i%nc]\n",
    "        return mat"
   ]
  },
  {
   "cell_type": "markdown",
   "metadata": {},
   "source": [
    "### [221.med-Maximal Square](https://leetcode.com/problems/maximal-square/description/)\n",
    "##### 题意: 给定 2D binary matrix, 输出最大的由 \"1\" 组成的正方形面积."
   ]
  },
  {
   "cell_type": "code",
   "execution_count": null,
   "metadata": {
    "collapsed": true
   },
   "outputs": [],
   "source": [
    "\"\"\"\n",
    "For example, given the following matrix:\n",
    "\n",
    "1 0 1 0 0\n",
    "1 0 1 1 1\n",
    "1 1 1 1 1\n",
    "1 0 0 1 0\n",
    "Return 4.\n",
    "\"\"\""
   ]
  },
  {
   "cell_type": "code",
   "execution_count": null,
   "metadata": {
    "collapsed": true
   },
   "outputs": [],
   "source": [
    "class Solution(object):\n",
    "    def maximalSquare(self, mat):\n",
    "        \"\"\"\n",
    "        :type mat: List[List[str]]\n",
    "        :rtype: int\n",
    "        \"\"\"\n",
    "        if not mat or (len(mat)==1 and not mat[0]): return 0\n",
    "        \n",
    "        nr, nc = len(mat)+1, len(mat[0])+1\n",
    "        dq = [[0]*nc for i in xrange(nr)]\n",
    "        \n",
    "        rst = 0\n",
    "        for r in xrange(1, nr):\n",
    "            for c in xrange(1, nc):\n",
    "                if mat[r-1][c-1] == \"1\":\n",
    "                    dq[r][c] = 1 + min(min(dq[r-1][c], dq[r][c-1]), dq[r-1][c-1])\n",
    "                    \n",
    "                    rst = max(dq[r][c], rst)\n",
    "        return rst * rst"
   ]
  },
  {
   "cell_type": "markdown",
   "metadata": {},
   "source": [
    "### [378.med-Kth Smallest Element in a Sorted Matrix](https://leetcode.com/problems/kth-smallest-element-in-a-sorted-matrix/description/)\n",
    "##### 题意: 给定 sorted 矩阵, 每行每列升序. 输出第 k 小的元素."
   ]
  },
  {
   "cell_type": "code",
   "execution_count": null,
   "metadata": {
    "collapsed": true
   },
   "outputs": [],
   "source": [
    "\"\"\" Example:\n",
    "matrix = [\n",
    "   [ 1,  5,  9],\n",
    "   [10, 11, 13],\n",
    "   [12, 13, 15] ],\n",
    "k = 8,\n",
    "return 13.\n",
    "\"\"\""
   ]
  },
  {
   "cell_type": "code",
   "execution_count": null,
   "metadata": {
    "collapsed": true
   },
   "outputs": [],
   "source": [
    "import heapq\n",
    "class Solution(object):\n",
    "    def kthSmallest(self, mat, k):\n",
    "        \"\"\"\n",
    "        :type mat: List[List[int]]\n",
    "        :type k: int\n",
    "        :rtype: int \n",
    "        \"\"\"\n",
    "        if not mat or (len(mat)==1 and not mat[0]): \n",
    "            return None\n",
    "        \n",
    "        nr, nc = len(mat), len(mat[0])\n",
    "        q, r = [], 0\n",
    "        for c in xrange(nc):\n",
    "            heapq.heappush(q, (mat[r][c], r, c))\n",
    "            \n",
    "        for i in xrange (k-1):\n",
    "            val, r, c = heapq.heappop(q)\n",
    "            if r < nr-1:\n",
    "                r += 1\n",
    "                heapq.heappush(q, (mat[r][c], r, c))\n",
    "                \n",
    "        val, r, c = heapq.heappop(q)\n",
    "        return val"
   ]
  },
  {
   "cell_type": "markdown",
   "metadata": {},
   "source": [
    "### [311.med-Sparse Matrix Multiplication](https://leetcode.com/problems/sparse-matrix-multiplication/description/)\n",
    "##### 题意: 给定两个 spare 矩阵, 计算他们的矩阵相乘."
   ]
  },
  {
   "cell_type": "code",
   "execution_count": null,
   "metadata": {
    "collapsed": true
   },
   "outputs": [],
   "source": [
    "class Solution(object):\n",
    "    def multiply(self, A, B):\n",
    "        \"\"\"\n",
    "        :type A: List[List[int]]\n",
    "        :type B: List[List[int]]\n",
    "        :rtype: List[List[int]]\n",
    "        \"\"\"\n",
    "        ar, ac = len(A), len(A[0])\n",
    "        br, bc = len(B), len(B[0])\n",
    "        \n",
    "        if ac != br:\n",
    "            return -1 # error: A's column must be equal to B's row\n",
    "        \n",
    "        mat = [[0]*bc for i in xrange(ar)]\n",
    "        for i in xrange(ar):\n",
    "            for k in xrange(ac):\n",
    "                if not A[i][k] == 0:\n",
    "                    for j in xrange(bc):\n",
    "                        if not B[k][j] == 0:\n",
    "                            mat[i][j] += A[i][k] * B[k][j] # ❤️❤️ 有一项为零, 则略过.\n",
    "        return mat"
   ]
  },
  {
   "cell_type": "markdown",
   "metadata": {},
   "source": [
    "### [547.med-Friend Circles](https://leetcode.com/problems/friend-circles/description/)\n",
    "##### 题意: N个学生组成朋友圈, 假定朋友的朋友属于朋友, 寻找有多少个朋友圈."
   ]
  },
  {
   "cell_type": "code",
   "execution_count": null,
   "metadata": {
    "collapsed": true
   },
   "outputs": [],
   "source": [
    "\"\"\"\n",
    "Example 1: -------------------------\n",
    "Input: \n",
    "[[1,1,0],\n",
    " [1,1,0],\n",
    " [0,0,1]]\n",
    "Output: 2\n",
    "Explanation:The 0th and 1st students are direct friends, so they are in a friend circle. \n",
    "The 2nd student himself is in a friend circle. So return 2.\n",
    "\n",
    "Example 2: -------------------------\n",
    "Input: \n",
    "[[1,1,0],\n",
    " [1,1,1],\n",
    " [0,1,1]]\n",
    "Output: 1\n",
    "Explanation:The 0th and 1st students are direct friends, the 1st and 2nd students are direct friends, \n",
    "so the 0th and 2nd students are indirect friends. All of them are in the same friend circle, so return 1.\n",
    "\"\"\""
   ]
  },
  {
   "cell_type": "code",
   "execution_count": null,
   "metadata": {
    "collapsed": true
   },
   "outputs": [],
   "source": [
    "class Solution(object):\n",
    "    def findCircleNum(self, M):\n",
    "        \"\"\"\n",
    "        :type M: List[List[int]]\n",
    "        :rtype: int\n",
    "        \"\"\"\n",
    "        if not M: return 0\n",
    "        \n",
    "        n = len(M)\n",
    "        visited = [False] * n\n",
    "        rst = 0\n",
    "        for i in xrange(n):\n",
    "            if visited[i]: continue\n",
    "            rst += 1\n",
    "            self.dfs(visited, i, n, M)\n",
    "        return rst\n",
    "            \n",
    "    def dfs(self, visited, cur, n, M):\n",
    "        if visited[cur]: return \n",
    "        \n",
    "        visited[cur] = True\n",
    "        for i in xrange(n):\n",
    "            if M[cur][i]==1 and visited[i] is False: # 把为访问过的朋友都设为 visited.\n",
    "                self.dfs(visited, i, n, M)"
   ]
  },
  {
   "cell_type": "markdown",
   "metadata": {},
   "source": [
    "### [766.easy-Toeplitz Matrix](https://leetcode.com/problems/toeplitz-matrix/description/)\n",
    "##### 题意: toeplitz 矩阵指的是对角元素完全相等的矩阵, 给定矩阵, 判断是否是 teoplitz 矩阵."
   ]
  },
  {
   "cell_type": "code",
   "execution_count": null,
   "metadata": {
    "collapsed": true
   },
   "outputs": [],
   "source": [
    "\"\"\"\n",
    "Input: matrix:\n",
    "1 2 3 4\n",
    "5 1 2 3\n",
    "9 5 1 2\n",
    "Output: True\n",
    "\n",
    "In the above grid, the diagonals are \"[9]\", \"[5, 5]\", \"[1, 1, 1]\", \"[2, 2, 2]\", \"[3, 3]\", \"[4]\", and in each diagonal all elements are the same, so the answer is True.\n",
    "\"\"\""
   ]
  },
  {
   "cell_type": "code",
   "execution_count": null,
   "metadata": {
    "collapsed": true
   },
   "outputs": [],
   "source": [
    "class Solution(object):\n",
    "    def isToeplitzMatrix(self, mat):\n",
    "        \"\"\"\n",
    "        :type mat: List[List[int]]\n",
    "        :rtype: bool\n",
    "        \"\"\"\n",
    "        if not mat or (len(mat)==1 and not mat[0]): return True\n",
    "        \n",
    "        nr, nc = len(mat), len(mat[0])\n",
    "        for r in xrange(nr-1):\n",
    "            for c in xrange(nc-1):\n",
    "                if mat[r][c] != mat[r+1][c+1]: # ❤️❤️ 查考的核心关系\n",
    "                    return False\n",
    "        return True"
   ]
  },
  {
   "cell_type": "code",
   "execution_count": null,
   "metadata": {
    "collapsed": true
   },
   "outputs": [],
   "source": [
    "class Solution(object):\n",
    "    def isToeplitzMatrix(self, mat):\n",
    "        \"\"\"\n",
    "        :type mat: List[List[int]]\n",
    "        :rtype: bool\n",
    "        \"\"\"\n",
    "        if not mat or (len(mat)==1 and not mat[0]): return True\n",
    "        \n",
    "        nr, nc = len(mat), len(mat[0])\n",
    "        for r in xrange(nr):\n",
    "            if not self.helper(mat, r, 0, nr, nc, None):\n",
    "                return False\n",
    "        for c in xrange(nc):\n",
    "            if not self.helper(mat, 0, c, nr, nc, None):\n",
    "                return False\n",
    "        return True\n",
    "        \n",
    "    def helper(self, mat, r, c, nr, nc, prev):\n",
    "        if r<0 or r>=nr or c<0 or c>=nc:\n",
    "            return True\n",
    "        \n",
    "        x = mat[r][c]\n",
    "        return (\n",
    "            (prev is None or x == prev) and\n",
    "            self.helper(mat, r+1, c+1, nr, nc, x)\n",
    "        )"
   ]
  },
  {
   "cell_type": "markdown",
   "metadata": {},
   "source": [
    "## [4/6: Top frequency]()"
   ]
  },
  {
   "cell_type": "markdown",
   "metadata": {},
   "source": [
    "### [419.med-Battleships in a Board](https://leetcode.com/problems/battleships-in-a-board/description/)\n",
    "##### 题意: 给定 2D board, 包含 \"X\" 或 \".\", 其中 \"X\" 表示船, \".\" 表示 empty. 需要检车 2D board 中有多少条船?\n",
    "* 注意事项: 连续的\"X\"表示一条船, 并且船只能是一行或一列, 不会转弯. \n",
    "* 额外要求: <span class=\"burk\">O(1) space, O(n) 并且 one pass 完成</span>."
   ]
  },
  {
   "cell_type": "code",
   "execution_count": null,
   "metadata": {
    "collapsed": true
   },
   "outputs": [],
   "source": [
    "\"\"\"\n",
    "Example: ----------------------\n",
    "X..X\n",
    "...X\n",
    "...X\n",
    "In the above board there are 2 battleships.\n",
    "\n",
    "Invalid Example: ----------------------\n",
    "...X\n",
    "XXXX\n",
    "...X\n",
    "This is an invalid board that you will not receive - as battleships will always have a cell separating between them.\n",
    "\"\"\""
   ]
  },
  {
   "cell_type": "code",
   "execution_count": 3,
   "metadata": {
    "collapsed": true
   },
   "outputs": [],
   "source": [
    "# 总结: 这套思路能否用在计算 island 的数量呢? 不能, 这套思路只能用在这种 横或竖的例子. \n",
    "# 一个反例是, 下述方法会检测出来 2, 但是标准答案是 1.\n",
    "# 1 1 1\n",
    "# 0 1 0\n",
    "# 1 1 1\n",
    "class Solution(object):\n",
    "    def countBattleships(self, board):\n",
    "        \"\"\"\n",
    "        :type board: List[List[str]]\n",
    "        :rtype: int\n",
    "        \"\"\"\n",
    "        # 1 edge condition\n",
    "        if not board or (len(board)==1 and not board[0]): return 0\n",
    "        \n",
    "        # 2 search the board\n",
    "        cnt = 0\n",
    "        nr, nc = len(board), len(board[0])\n",
    "        for r in xrange(nr):\n",
    "            for c in xrange(nc):\n",
    "                if board[r][c] == \".\": continue\n",
    "                if r>0 and board[r-1][c]==\"X\": continue # ❤️❤️❤️ 如果前一行是\"X\", 不需要重新计算.\n",
    "                if c>0 and board[r][c-1]==\"X\": continue # ❤️❤️❤️ 如果前一列是\"X\", 不需要重新计算.\n",
    "                cnt += 1\n",
    "\n",
    "        return cnt"
   ]
  },
  {
   "cell_type": "markdown",
   "metadata": {},
   "source": [
    "### [62.med-Unique Paths](https://leetcode.com/problems/unique-paths/description/)\n",
    "##### 题意: 给定 $m\\times n$ board, 机器人在左上角, 问有多少种 unique path 能够走到右下角?\n",
    "* Note: m and n will be at most 100.\n",
    "\n",
    "##### 类似题目:  [119.easy-Pascal's Triangle II](https://leetcode.com/problems/pascals-triangle-ii/description/)\n",
    "\n",
    "##### 教程: https://www.youtube.com/watch?v=mWV1b9IbosY&t=525s\n",
    "![](https://leetcode.com/static/images/problemset/robot_maze.png)\n",
    "\n",
    "##### <span class=\"burk\">总结: 关于计数的问题, 往往 dynamic programming 问题.</span>"
   ]
  },
  {
   "cell_type": "code",
   "execution_count": null,
   "metadata": {
    "collapsed": true
   },
   "outputs": [],
   "source": [
    "# State Transition Equation:\n",
    "#     dp[r][c] = dp[r-1][c] + dp[r][c-1]"
   ]
  },
  {
   "cell_type": "code",
   "execution_count": null,
   "metadata": {
    "collapsed": true
   },
   "outputs": [],
   "source": [
    "# 方法2: dynamic programming. 优点: 快; 缺点: corner case 复杂.\n",
    "class Solution(object):\n",
    "    def uniquePaths(self, m, n): # ❤️ time O(m*n), space O(min(m, n))\n",
    "        \"\"\"\n",
    "        :type m: int\n",
    "        :type n: int\n",
    "        :rtype: int\n",
    "        \"\"\"\n",
    "        if n > m: return self.uniquePaths(n, m)\n",
    "    \n",
    "        dp = [0] * n\n",
    "        dp[0] = 1    \n",
    "        for i in xrange(m):\n",
    "            for j in xrange(1, n):\n",
    "                dp[j] = dp[j] + dp[j-1]\n",
    "        return dp[n-1]\n",
    "            \n",
    "    def uniquePaths2(self, m, n): # ❤️ time O(m*n), space O(min(m, n))\n",
    "        if m > n:\n",
    "            return self.uniquePaths2(n, m)\n",
    "        \n",
    "        cur = [1] * m # ❤️❤️ current column\n",
    "        pre = [1] * m # ❤️❤️ previous column\n",
    "        for j in xrange(1, n):\n",
    "            for i in xrange(1, m):\n",
    "                cur[i] = cur[i-1] + pre[i]\n",
    "            \n",
    "            cur, pre = pre, cur\n",
    "        return pre[m-1]\n",
    "            \n",
    "    def uniquePaths3 (self, m, n): # ❤️ time O(m*n), space O(m*n)\n",
    "        \"\"\"\n",
    "        :type m: int\n",
    "        :type n: int\n",
    "        :rtype: int\n",
    "        \"\"\"\n",
    "        if m < 0 or n < 0: return 0\n",
    "        if m == 1 and n == 1: return 1\n",
    "        \n",
    "        dp = [[1]*n for i in xrange(m)] # 第一行和第一列, path 的可能都是 1.\n",
    "        for i in xrange(1, m):\n",
    "            for j in xrange(1, n):\n",
    "                    dp[i][j] = dp[i-1][j] + dp[i][j-1]\n",
    "        return dp[m-1][n-1]\n",
    "    "
   ]
  },
  {
   "cell_type": "code",
   "execution_count": 6,
   "metadata": {},
   "outputs": [
    {
     "name": "stdout",
     "output_type": "stream",
     "text": [
      "1 2\n",
      "0 2\n",
      "0 1\n",
      "0 0\n",
      "1\n"
     ]
    }
   ],
   "source": [
    "# 方法1: recursion + memorization. 优点: 代码容易理解; 缺点: 慢. \n",
    "class Solution(object):\n",
    "    def uniquePaths(self, m, n):\n",
    "        \"\"\"\n",
    "        :type m: int\n",
    "        :type n: int\n",
    "        :rtype: int\n",
    "        \"\"\"\n",
    "        if m < 0 or n < 0: return 0\n",
    "        if m == 1 and n == 1: return 1\n",
    "        \n",
    "        dp = [[0]*(n+1) for i in xrange(m+1)]\n",
    "        return self.uniquePaths_recursive(dp, m, n)\n",
    "        \n",
    "    def uniquePaths_recursive(self, dp, m, n):\n",
    "        if m<0 or n<0: return 0\n",
    "        if m==1 and n==1: return 1\n",
    "        if dp[m][n] > 0: return dp[m][n]\n",
    "        \n",
    "        left = self.uniquePaths_recursive(dp, m, n-1)\n",
    "        top = self.uniquePaths_recursive(dp, m-1, n)\n",
    "        dp[m][n] = cnt = left + top\n",
    "        return cnt"
   ]
  },
  {
   "cell_type": "markdown",
   "metadata": {},
   "source": [
    "### [63.med-Unique Paths II](https://leetcode.com/problems/unique-paths-ii/description/)\n",
    "##### 题意: Follow up for \"Unique Paths\". 给定 grid, 1 表示障碍, 0 表示可以走的路径. 从左上角出发, 问总共有多少种路径到右下角?"
   ]
  },
  {
   "cell_type": "code",
   "execution_count": null,
   "metadata": {
    "collapsed": true
   },
   "outputs": [],
   "source": [
    "\"\"\" For example,\n",
    "There is one obstacle in the middle of a 3x3 grid as illustrated below.\n",
    "\n",
    "[\n",
    "  [0,0,0],\n",
    "  [0,1,0],\n",
    "  [0,0,0]\n",
    "]\n",
    "The total number of unique paths is 2.\n",
    "\n",
    "Note: m and n will be at most 100.\n",
    "\"\"\""
   ]
  },
  {
   "cell_type": "code",
   "execution_count": null,
   "metadata": {
    "collapsed": true
   },
   "outputs": [],
   "source": [
    "# State Transition Equation:\n",
    "#     dp[r][c] = dp[r-1][c] + dp[r][c-1]"
   ]
  },
  {
   "cell_type": "code",
   "execution_count": null,
   "metadata": {
    "collapsed": true
   },
   "outputs": [],
   "source": [
    "class Solution(object):\n",
    "    def uniquePathsWithObstacles(self, grid):\n",
    "        \"\"\"\n",
    "        :type grid: List[List[int]]\n",
    "        :rtype: int\n",
    "        \"\"\"\n",
    "        m, n = len(grid), len(grid[0])\n",
    "        rst = [0] * n\n",
    "        rst[0] = 1 # ❤️❤️❤️\n",
    "        for i in xrange(m):\n",
    "            for j in xrange(n):\n",
    "                if grid[i][j] == 1: # ❤️❤️❤️ \n",
    "                    rst[j] = 0\n",
    "                elif j > 0:\n",
    "                    rst[j] += rst[j-1]\n",
    "        return rst[n-1]"
   ]
  },
  {
   "cell_type": "code",
   "execution_count": null,
   "metadata": {
    "collapsed": true
   },
   "outputs": [],
   "source": [
    "class Solution(object):\n",
    "    def uniquePathsWithObstacles(self, grid):\n",
    "        \"\"\"\n",
    "        :type grid: List[List[int]]\n",
    "        :rtype: int\n",
    "        \"\"\"\n",
    "        m, n = len(grid), len(grid[0])\n",
    "        dp = [[0]*n for i in xrange(m)]\n",
    "        dp[0][0] = 1\n",
    "        for i in xrange(m):\n",
    "            for j in xrange(n):\n",
    "                if grid[i][j] == 1:\n",
    "                    dp[i][j] = 0\n",
    "                elif i > 0 and j > 0:\n",
    "                    dp[i][j] = dp[i-1][j] + dp[i][j-1]\n",
    "                elif i > 0:\n",
    "                    dp[i][j] = dp[i-1][j]\n",
    "                elif j > 0:\n",
    "                    dp[i][j] = dp[i][j-1]\n",
    "        return dp[m-1][n-1]"
   ]
  },
  {
   "cell_type": "markdown",
   "metadata": {},
   "source": [
    "### [64.med-Minimum Path Sum](https://leetcode.com/problems/minimum-path-sum/description/)\n",
    "##### 题意: Given a m x n grid filled with non-negative numbers, find a path from top left to bottom right which minimizes the sum of all numbers along its path.\n",
    "* Note: You can only <span class=\"burk\">move either down or right</span> at any point in time."
   ]
  },
  {
   "cell_type": "code",
   "execution_count": null,
   "metadata": {
    "collapsed": true
   },
   "outputs": [],
   "source": [
    "\"\"\" Example 1:\n",
    "[[1,3,1],\n",
    " [1,5,1],\n",
    " [4,2,1]]\n",
    "Given the above grid map, return 7. Because the path 1→3→1→1→1 minimizes the sum.\n",
    "\"\"\""
   ]
  },
  {
   "cell_type": "code",
   "execution_count": null,
   "metadata": {
    "collapsed": true
   },
   "outputs": [],
   "source": [
    "# In-place \"DP\" \n",
    "class Solution(object):\n",
    "    def minPathSum(self, grid):\n",
    "        \"\"\"\n",
    "        :type grid: List[List[int]]\n",
    "        :rtype: int\n",
    "        \"\"\"\n",
    "        if not grid or (len(grid)==1 and not grid[0]): \n",
    "            return 0\n",
    "        \n",
    "        nr, nc = len(grid), len(grid[0])\n",
    "        for r in xrange(nr):\n",
    "            for c in xrange(nc):\n",
    "                if r==0 and c!=0:\n",
    "                    grid[r][c] += grid[r][c-1]\n",
    "                elif r!=0 and c==0:\n",
    "                    grid[r][c] += grid[r-1][c]\n",
    "                elif r!=0 and c!=0:\n",
    "                    grid[r][c] += min(grid[r-1][c], grid[r][c-1])\n",
    "        return grid[nr-1][nc-1]"
   ]
  },
  {
   "cell_type": "markdown",
   "metadata": {},
   "source": [
    "### [36.med-Valid Sudoku](https://leetcode.com/problems/valid-sudoku/description/)\n",
    "##### 题意: Determine if a Sudoku is valid, 即每行, 每列, 每个 cube 中不能出现重复的数字.\n",
    "\n",
    "![](http://upload.wikimedia.org/wikipedia/commons/thumb/f/ff/Sudoku-by-L2G-20050714.svg/250px-Sudoku-by-L2G-20050714.svg.png)"
   ]
  },
  {
   "cell_type": "code",
   "execution_count": null,
   "metadata": {
    "collapsed": true
   },
   "outputs": [],
   "source": [
    "class Solution(object):\n",
    "    def isValidSudoku(self, board):\n",
    "        \"\"\"\n",
    "        :type board: List[List[str]]\n",
    "        :rtype: bool\n",
    "        \"\"\"\n",
    "        seen = set()\n",
    "        nr, nc = len(board), len(board[0])\n",
    "        for r in xrange(nr):\n",
    "            for c in xrange(nc):\n",
    "                cur = board[r][c]\n",
    "                if cur == \".\":\n",
    "                    continue\n",
    "                if (r,cur) in seen or (cur,c) in seen or (r/3,c/3,cur) in seen: # ❤️❤️ 利用了 set 的强大功能\n",
    "                    return False\n",
    "                seen.add((r,cur))       # ❤️❤️ 列的编码\n",
    "                seen.add((cur,c))       # ❤️❤️ 行的编码\n",
    "                seen.add((r/3,c/3,cur)) # ❤️❤️ cube 的编码\n",
    "        return True"
   ]
  },
  {
   "cell_type": "markdown",
   "metadata": {},
   "source": [
    "### [37.hard-Sudoku Solver](https://leetcode.com/problems/sudoku-solver/description/)\n",
    "##### 题意: Write a program to solve a Sudoku puzzle by filling the empty cells. \".\" 表示空格.\n",
    "* you may assume that there will be only one unique solution.\n",
    "\n",
    "![](http://upload.wikimedia.org/wikipedia/commons/thumb/f/ff/Sudoku-by-L2G-20050714.svg/250px-Sudoku-by-L2G-20050714.svg.png)\n",
    "![](http://upload.wikimedia.org/wikipedia/commons/thumb/3/31/Sudoku-by-L2G-20050714_solution.svg/250px-Sudoku-by-L2G-20050714_solution.svg.png)"
   ]
  },
  {
   "cell_type": "code",
   "execution_count": null,
   "metadata": {
    "collapsed": true
   },
   "outputs": [],
   "source": [
    "class Solution(object):\n",
    "    def solveSudoku(self, board):\n",
    "        \"\"\"\n",
    "        :type board: List[List[str]]\n",
    "        :rtype: void Do not return anything, modify board in-place instead.\n",
    "        \"\"\"\n",
    "        if not board: return \n",
    "        self.solve(board)\n",
    "        \n",
    "    def solve(self, board):\n",
    "        nr, nc = len(board), len(board[0])\n",
    "        \n",
    "        for r in xrange(nr):\n",
    "            for c in xrange(nc):\n",
    "                if board[r][c] == \".\":\n",
    "                    for k in xrange(1,10):\n",
    "                        k = str(k)\n",
    "                        if self.isValid(board, r, c, k):\n",
    "                            board[r][c] = k\n",
    "                            \n",
    "                            if self.solve(board):\n",
    "                                return True\n",
    "                            else:\n",
    "                                board[r][c] = \".\"\n",
    "                    return False\n",
    "        return True\n",
    "    \n",
    "    def isValid(self, board, r, c, k):\n",
    "        for i in xrange(9):\n",
    "            if board[r][i] != \".\" and board[r][i] == k: return False\n",
    "            if board[i][c] != \".\" and board[i][c] == k: return False\n",
    "            if board[3*(r/3)+i/3][3*(c/3)+i%3] != \".\" and board[3*(r/3)+i/3][3*(c/3)+i%3] == k: \n",
    "                return False\n",
    "        return True"
   ]
  }
 ],
 "metadata": {
  "kernelspec": {
   "display_name": "Python 2",
   "language": "python",
   "name": "python2"
  },
  "language_info": {
   "codemirror_mode": {
    "name": "ipython",
    "version": 2
   },
   "file_extension": ".py",
   "mimetype": "text/x-python",
   "name": "python",
   "nbconvert_exporter": "python",
   "pygments_lexer": "ipython2",
   "version": "2.7.13"
  },
  "toc": {
   "nav_menu": {},
   "number_sections": true,
   "sideBar": true,
   "skip_h1_title": true,
   "toc_cell": true,
   "toc_position": {
    "height": "805px",
    "left": "0px",
    "right": "1084.28px",
    "top": "67px",
    "width": "232px"
   },
   "toc_section_display": "block",
   "toc_window_display": true
  }
 },
 "nbformat": 4,
 "nbformat_minor": 2
}

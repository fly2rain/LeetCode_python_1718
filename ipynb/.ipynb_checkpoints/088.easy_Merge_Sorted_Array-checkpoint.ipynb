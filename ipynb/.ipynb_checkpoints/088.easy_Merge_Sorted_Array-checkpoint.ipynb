{
 "cells": [
  {
   "cell_type": "markdown",
   "metadata": {
    "toc": true
   },
   "source": [
    "<h1>Table of Contents<span class=\"tocSkip\"></span></h1>\n",
    "<div class=\"toc\" style=\"margin-top: 1em;\"><ul class=\"toc-item\"><li><span><a href=\"#链接\" data-toc-modified-id=\"链接-1\"><span class=\"toc-item-num\">1&nbsp;&nbsp;</span>链接</a></span></li><li><span><a href=\"#题意\" data-toc-modified-id=\"题意-2\"><span class=\"toc-item-num\">2&nbsp;&nbsp;</span>题意</a></span></li><li><span><a href=\"#分析\" data-toc-modified-id=\"分析-3\"><span class=\"toc-item-num\">3&nbsp;&nbsp;</span>分析</a></span></li><li><span><a href=\"#编程经验\" data-toc-modified-id=\"编程经验-4\"><span class=\"toc-item-num\">4&nbsp;&nbsp;</span>编程经验</a></span></li></ul></div>"
   ]
  },
  {
   "cell_type": "markdown",
   "metadata": {},
   "source": [
    "# 088.Merge_Sorted_Array_easy\n",
    "### 链接\n",
    "\n",
    "* 题目：https://leetcode.com/problems/merge-sorted-array/description/\n",
    "\n",
    "### 题意\n",
    "* 给定两个 sorted array，将第二个 array merge 到第一个 array。\n",
    "* 假设第一个 array 有足够大的空间，能够包含第二个 array 的所有元素。\n",
    "\n",
    "### 分析\n",
    "* 应该是管理两个 index 的问题吧。\n",
    "\n",
    "### 编程经验\n",
    "* 出现奇怪、非常隐蔽的问题，很有可能就是 python 缩进出问题。\n",
    "\n",
    "```python\n",
    "```"
   ]
  },
  {
   "cell_type": "markdown",
   "metadata": {},
   "source": [
    "# Method # 1"
   ]
  },
  {
   "cell_type": "code",
   "execution_count": null,
   "metadata": {
    "collapsed": true
   },
   "outputs": [],
   "source": [
    "class Solution(object):\n",
    "    def merge(self, nums1, m, nums2, n):\n",
    "        \"\"\"\n",
    "        :type nums1: List[int]\n",
    "        :type m: int\n",
    "        :type nums2: List[int]\n",
    "        :type n: int\n",
    "        :rtype: void Do not return anything, modify nums1 in-place instead.\n",
    "        \"\"\"        \n",
    "        while m > 0 and n > 0: # 因为 m,n 是数字，不是 index，所以这里不需要 >= \n",
    "            if nums1[m-1] > nums2[n-1]:\n",
    "                nums1[m+n-1] = nums1[m-1]\n",
    "                m -= 1\n",
    "            else:\n",
    "                nums1[m+n-1] = nums2[n-1]\n",
    "                n -= 1\n",
    "        \n",
    "        # 就因为这里 if 缩进不对，变成 while 里面了，导致运行结果不对，非常难找。\n",
    "        if n > 0:\n",
    "                nums1[:n] = nums2[:n]\n",
    "                "
   ]
  },
  {
   "cell_type": "code",
   "execution_count": null,
   "metadata": {
    "collapsed": true
   },
   "outputs": [],
   "source": [
    "## 标准 code ---------------------\n",
    "class Solution(object):\n",
    "     def merge(self, nums1, m, nums2, n):\n",
    "        while m > 0 and n > 0:\n",
    "            if nums1[m-1] >= nums2[n-1]:\n",
    "                nums1[m+n-1] = nums1[m-1]\n",
    "                m -= 1\n",
    "            else:\n",
    "                nums1[m+n-1] = nums2[n-1]\n",
    "                n -= 1\n",
    "        if n > 0:\n",
    "            nums1[:n] = nums2[:n]"
   ]
  }
 ],
 "metadata": {
  "kernelspec": {
   "display_name": "Python 2",
   "language": "python",
   "name": "python2"
  },
  "language_info": {
   "codemirror_mode": {
    "name": "ipython",
    "version": 2
   },
   "file_extension": ".py",
   "mimetype": "text/x-python",
   "name": "python",
   "nbconvert_exporter": "python",
   "pygments_lexer": "ipython2",
   "version": "2.7.13"
  },
  "toc": {
   "nav_menu": {},
   "number_sections": true,
   "sideBar": true,
   "skip_h1_title": true,
   "toc_cell": true,
   "toc_position": {},
   "toc_section_display": "block",
   "toc_window_display": true
  }
 },
 "nbformat": 4,
 "nbformat_minor": 2
}

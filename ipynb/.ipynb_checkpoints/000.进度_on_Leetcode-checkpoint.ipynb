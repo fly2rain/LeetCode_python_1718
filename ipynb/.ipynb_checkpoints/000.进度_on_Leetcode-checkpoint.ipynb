{
 "cells": [
  {
   "cell_type": "markdown",
   "metadata": {},
   "source": [
    "# 1. 第一轮\n",
    "### 顺序 \n",
    "\t1. (v) Array\n",
    "\t2. (v) Hash Table\n",
    "\t3. (v) Linked List\n",
    "\t4. (v) Math\n",
    "\t5. (v) Two Pointers\n",
    "\t6. (v) String\n",
    "\t7. (v) Binary Search\n",
    "\t8. (v) Divide and Conquer\n",
    "\t9. Dynamic Programming\n",
    "\t10. Backtracking\n",
    "\t11. (v) Stack\n",
    "\t12. Heap\n",
    "\t13. Greedy\n",
    "\t14. (v) Sort\n",
    "\t15. (v) Bit Manipulation\n",
    "\t16. Tree\n",
    "\t17. Depth-first Search\n",
    "\t18. Breadth-first Search\n",
    "\t19. Union Find\n",
    "\t20. Graph\n",
    "\t21. Design\n",
    "\t22. Topological Sort\n",
    "\t23. Trie\n",
    "\t24. Binary Indexed Tree\n",
    "\t25. Segment Tree\n",
    "\t26. Binary Search Tree\n",
    "\t27. (v) Recursion\n",
    "\t28. Brainteaser   \n",
    "\t29. Memoization\n",
    "\t30. Queue\n",
    "\t31. Minimax\n",
    "\t32. Reservoir Sampling\n",
    "\t33. Map\n",
    "\t34. Geometry\n",
    "\n",
    "\n",
    "### 题意\n",
    "\n",
    "\n",
    "### 分析\n",
    "\n",
    "### 编程经验\n",
    "\n",
    "```python\n",
    "```"
   ]
  }
 ],
 "metadata": {
  "kernelspec": {
   "display_name": "Python 2",
   "language": "python",
   "name": "python2"
  },
  "language_info": {
   "codemirror_mode": {
    "name": "ipython",
    "version": 2
   },
   "file_extension": ".py",
   "mimetype": "text/x-python",
   "name": "python",
   "nbconvert_exporter": "python",
   "pygments_lexer": "ipython2",
   "version": "2.7.13"
  }
 },
 "nbformat": 4,
 "nbformat_minor": 2
}

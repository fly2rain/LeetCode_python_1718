{
 "cells": [
  {
   "cell_type": "markdown",
   "metadata": {
    "toc": true
   },
   "source": [
    "<h1>Table of Contents<span class=\"tocSkip\"></span></h1>\n",
    "<div class=\"toc\" style=\"margin-top: 1em;\"><ul class=\"toc-item\"><li><span><a href=\"#3/11\" data-toc-modified-id=\"3/11-1\"><span class=\"toc-item-num\">1&nbsp;&nbsp;</span><a href=\"\" target=\"_blank\">3/11</a></a></span><ul class=\"toc-item\"><li><span><a href=\"#695.med-Max-Area-of-Island\" data-toc-modified-id=\"695.med-Max-Area-of-Island-1.1\"><span class=\"toc-item-num\">1.1&nbsp;&nbsp;</span><a href=\"https://leetcode.com/problems/max-area-of-island/description/\" target=\"_blank\">695.med-Max Area of Island</a></a></span></li><li><span><a href=\"#200.med-Number-of-Islands\" data-toc-modified-id=\"200.med-Number-of-Islands-1.2\"><span class=\"toc-item-num\">1.2&nbsp;&nbsp;</span><a href=\"https://leetcode.com/problems/number-of-islands/description/\" target=\"_blank\">200.med-Number of Islands</a></a></span></li><li><span><a href=\"#463.easy-Island-Perimeter\" data-toc-modified-id=\"463.easy-Island-Perimeter-1.3\"><span class=\"toc-item-num\">1.3&nbsp;&nbsp;</span><a href=\"https://leetcode.com/problems/island-perimeter/description/\" target=\"_blank\">463.easy-Island Perimeter</a></a></span></li><li><span><a href=\"#128.hard-Longest-Consecutive-Sequence\" data-toc-modified-id=\"128.hard-Longest-Consecutive-Sequence-1.4\"><span class=\"toc-item-num\">1.4&nbsp;&nbsp;</span><a href=\"https://leetcode.com/problems/longest-consecutive-sequence/description/\" target=\"_blank\">128.hard-Longest Consecutive Sequence</a></a></span></li><li><span><a href=\"#298.med-Binary-Tree-Longest-Consecutive-Sequence\" data-toc-modified-id=\"298.med-Binary-Tree-Longest-Consecutive-Sequence-1.5\"><span class=\"toc-item-num\">1.5&nbsp;&nbsp;</span><a href=\"https://leetcode.com/problems/binary-tree-longest-consecutive-sequence/description/\" target=\"_blank\">298.med-Binary Tree Longest Consecutive Sequence</a></a></span></li><li><span><a href=\"#547.med-Friend-Circles\" data-toc-modified-id=\"547.med-Friend-Circles-1.6\"><span class=\"toc-item-num\">1.6&nbsp;&nbsp;</span><a href=\"https://leetcode.com/problems/friend-circles/description/\" target=\"_blank\">547.med-Friend Circles</a></a></span></li><li><span><a href=\"#130.med-Surrounded-Regions\" data-toc-modified-id=\"130.med-Surrounded-Regions-1.7\"><span class=\"toc-item-num\">1.7&nbsp;&nbsp;</span><a href=\"https://leetcode.com/problems/surrounded-regions/description/\" target=\"_blank\">130.med-Surrounded Regions</a></a></span></li><li><span><a href=\"#❓261.med-Graph-Valid-Tree\" data-toc-modified-id=\"❓261.med-Graph-Valid-Tree-1.8\"><span class=\"toc-item-num\">1.8&nbsp;&nbsp;</span><a href=\"https://leetcode.com/problems/graph-valid-tree/description/\" target=\"_blank\">❓261.med-Graph Valid Tree</a></a></span></li><li><span><a href=\"#❓305.hard-Number-of-Islands-II\" data-toc-modified-id=\"❓305.hard-Number-of-Islands-II-1.9\"><span class=\"toc-item-num\">1.9&nbsp;&nbsp;</span><a href=\"https://leetcode.com/problems/number-of-islands-ii/description/\" target=\"_blank\">❓305.hard-Number of Islands II</a></a></span></li></ul></li></ul></div>"
   ]
  },
  {
   "cell_type": "markdown",
   "metadata": {},
   "source": [
    "# [Union Find](https://leetcode.com/tag/union-find/)"
   ]
  },
  {
   "cell_type": "markdown",
   "metadata": {
    "collapsed": true
   },
   "source": [
    "## [3/11]()"
   ]
  },
  {
   "cell_type": "markdown",
   "metadata": {},
   "source": [
    "### [695.med-Max Area of Island](https://leetcode.com/problems/max-area-of-island/description/)\n",
    "##### 给定矩阵(模拟一个岛屿), 求最大的岛屿."
   ]
  },
  {
   "cell_type": "code",
   "execution_count": null,
   "metadata": {
    "collapsed": true
   },
   "outputs": [],
   "source": [
    "class Solution(object):\n",
    "    def __init__(self):\n",
    "        self.area = 0\n",
    "        \n",
    "    def maxAreaOfIsland(self, grid):\n",
    "        \"\"\"\n",
    "        :type grid: List[List[int]]\n",
    "        :rtype: int\n",
    "        \"\"\"\n",
    "        if not grid or (len(grid)==1 and not grid[0]): \n",
    "            return 0\n",
    "        \n",
    "        maxArea = 0\n",
    "        nr, nc = len(grid), len(grid[0])\n",
    "        for r in xrange(nr):\n",
    "            for c in xrange(nc):\n",
    "                if grid[r][c] == 1:\n",
    "                    self.area = 0\n",
    "                    self.helper(grid, r, c, nr, nc)\n",
    "                    maxArea = max(maxArea, self.area)\n",
    "        return maxArea\n",
    "    \n",
    "    def helper(self, grid, r, c, nr, nc):\n",
    "        if r<0 or c<0 or r>=nr or c>=nc: return\n",
    "        if grid[r][c] == 0: return \n",
    "        \n",
    "        self.area += 1\n",
    "        grid[r][c] = 0\n",
    "        self.helper(grid, r-1, c, nr, nc)\n",
    "        self.helper(grid, r+1, c, nr, nc)\n",
    "        self.helper(grid, r, c-1, nr, nc)\n",
    "        self.helper(grid, r, c+1, nr, nc)       "
   ]
  },
  {
   "cell_type": "markdown",
   "metadata": {},
   "source": [
    "### [200.med-Number of Islands](https://leetcode.com/problems/number-of-islands/description/)\n",
    "##### 题意\n",
    "##### 分析\n",
    "##### 总结"
   ]
  },
  {
   "cell_type": "code",
   "execution_count": null,
   "metadata": {
    "collapsed": true
   },
   "outputs": [],
   "source": [
    "\"\"\"\n",
    "Example 1, answer: 1 ------------------------------------\n",
    "11110\n",
    "11010\n",
    "11000\n",
    "00000\n",
    "\n",
    "Example 2, answer: 3 ------------------------------------\n",
    "11000\n",
    "11000\n",
    "00100\n",
    "00011\n",
    "\"\"\""
   ]
  },
  {
   "cell_type": "code",
   "execution_count": null,
   "metadata": {
    "collapsed": true
   },
   "outputs": [],
   "source": [
    "# ❤️ 原来可以在矩阵中 dfs 的.\n",
    "class Solution(object):\n",
    "    def numIslands(self, grid):\n",
    "        \"\"\"\n",
    "        :type grid: List[List[str]]\n",
    "        :rtype: int\n",
    "        \"\"\"\n",
    "        if not grid or (len(grid)==1 and not grid[0]): return 0\n",
    "        \n",
    "        rst = 0\n",
    "        nr, nc = len(grid), len(grid[0])\n",
    "        for r in xrange(nr):\n",
    "            for c in xrange(nc):\n",
    "                \n",
    "                rst += grid[r][c] == \"1\" # ❤️\n",
    "                self.dfs(grid, r, c, nr, nc)\n",
    "        return rst\n",
    "                \n",
    "    def dfs(self, grid, r, c, nr, nc): # ❤️ 将与当前\"1\"连接的所有节点设为\"0\n",
    "        # 1 edge condition\n",
    "        if r<0 or c<0 or r>=nr or c>=nc: return \n",
    "        if grid[r][c] == \"0\": return \n",
    "        \n",
    "        # 2 do the dfs operation\n",
    "        grid[r][c] = \"0\"\n",
    "        self.dfs(grid, r-1, c, nr, nc)\n",
    "        self.dfs(grid, r+1, c, nr, nc)\n",
    "        self.dfs(grid, r, c-1, nr, nc)\n",
    "        self.dfs(grid, r, c+1, nr, nc)  "
   ]
  },
  {
   "cell_type": "markdown",
   "metadata": {},
   "source": [
    "### [463.easy-Island Perimeter](https://leetcode.com/problems/island-perimeter/description/)\n",
    "##### 题意: 计算 island 周长.\n",
    "* Answer: 16\n",
    "Explanation: The perimeter is the 16 yellow stripes in the image below:\n",
    "![](https://leetcode.com/static/images/problemset/island.png)"
   ]
  },
  {
   "cell_type": "code",
   "execution_count": 9,
   "metadata": {},
   "outputs": [
    {
     "name": "stdout",
     "output_type": "stream",
     "text": [
      "16\n",
      "4\n"
     ]
    }
   ],
   "source": [
    "# ❤️IDEA❤️: 对于每个 island 对周长的贡献是: 4 - nn (number of neighbors)\n",
    "class Solution(object):\n",
    "    def islandPerimeter(self, grid):\n",
    "        \"\"\"\n",
    "        :type grid: List[List[int]]\n",
    "        :rtype: int\n",
    "        \"\"\"\n",
    "        if not grid or (len(grid)==1 and not grid[0]): return 0\n",
    "\n",
    "        rst = 0\n",
    "        nr, nc = len(grid), len(grid[0])\n",
    "        directions = ((0,1),(0,-1),(1,0),(-1,0))\n",
    "        for r in xrange(nr):\n",
    "            for c in xrange(nc):\n",
    "                if grid[r][c] == 1:\n",
    "                    nn = self.helper(grid, r, c, nr, nc, directions)\n",
    "                    rst += 4 - nn\n",
    "        return rst\n",
    "        \n",
    "    def helper(self, grid, r2, c2, nr, nc, directions):\n",
    "        nn = 0\n",
    "        for step in directions:\n",
    "            r = r2 + step[0]\n",
    "            c = c2 + step[1]\n",
    "            if r<0 or r>=nr or c<0 or c>=nc or grid[r][c]==0:\n",
    "                continue\n",
    "            nn += 1\n",
    "        return nn\n",
    "    \n",
    "print Solution().islandPerimeter([[0,1,0,0],[1,1,1,0],[0,1,0,0],[1,1,0,0]])\n",
    "print Solution().islandPerimeter([[1]])"
   ]
  },
  {
   "cell_type": "markdown",
   "metadata": {},
   "source": [
    "### [128.hard-Longest Consecutive Sequence](https://leetcode.com/problems/longest-consecutive-sequence/description/)\n",
    "##### 题意: Given an unsorted array of integers, find the length of the longest consecutive elements sequence.\n",
    "* For example,\n",
    "    * Given [100, 4, 200, 1, 3, 2],\n",
    "    * The longest consecutive elements sequence is [1, 2, 3, 4]. Return its length: 4.\n",
    "* Your algorithm should run in O(n) complexity.\n",
    "\n",
    "##### 教程-❤️花花❤️: https://www.youtube.com/watch?v=rc2QdQ7U78I"
   ]
  },
  {
   "cell_type": "code",
   "execution_count": 2,
   "metadata": {},
   "outputs": [
    {
     "name": "stdout",
     "output_type": "stream",
     "text": [
      "4\n"
     ]
    }
   ],
   "source": [
    "# ❤️❤️ 边界最重要.\n",
    "class Solution(object):\n",
    "    def longestConsecutive(self, nums):\n",
    "        \"\"\"\n",
    "        :type nums: List[int]\n",
    "        :rtype: int\n",
    "        \"\"\"\n",
    "        if not nums: return 0\n",
    "        \n",
    "        rst, dic = 0, {}\n",
    "        for x in nums:\n",
    "            if x not in dic: # ❤️❤️ 重复则跳过.\n",
    "                left = dic.get(x-1, 0)\n",
    "                right = dic.get(x+1, 0) \n",
    "                \n",
    "                tmp_len = left + right + 1 # ❤️❤️ keep track of the max length ❤️❤️\n",
    "                rst = max(rst, tmp_len)\n",
    "                \n",
    "                # ❤️ extend the length to the boundary(s) of the sequence\n",
    "                # will do nothing if n has no neighbors\n",
    "                dic[x] = dic[x-left] = dic[x+right] = tmp_len # ❤️ -left, +right\n",
    "                \n",
    "            else:\n",
    "                continue\n",
    "        return rst \n",
    "\n",
    "print Solution().longestConsecutive([100,4,200,1,3,2])"
   ]
  },
  {
   "cell_type": "markdown",
   "metadata": {},
   "source": [
    "### [298.med-Binary Tree Longest Consecutive Sequence](https://leetcode.com/problems/binary-tree-longest-consecutive-sequence/description/)\n",
    "##### 题意: 最长连续 parent -> child 子序列, 切记只能是 parent -> child 递增."
   ]
  },
  {
   "cell_type": "code",
   "execution_count": null,
   "metadata": {
    "collapsed": true
   },
   "outputs": [],
   "source": [
    "# DFS 有点类似于 确定 BST 的那道题.\n",
    "# 该题和 Union Found 没啥关系.\n",
    "class Solution(object):\n",
    "    def __init__(self):\n",
    "        self.maxlen = 1 # ❤️ 是 1\n",
    "        \n",
    "    def longestConsecutive(self, root):\n",
    "        \"\"\"\n",
    "        :type root: TreeNode\n",
    "        :rtype: int\n",
    "        \"\"\"\n",
    "        if not root: return 0\n",
    "        self.helper(root, root.val, 0)\n",
    "        return self.maxlen\n",
    "        \n",
    "    def helper(self, root, target, cur):\n",
    "        if not root: return 0\n",
    "        \n",
    "        if root.val == target:\n",
    "            cur += 1\n",
    "        else:\n",
    "            cur = 1\n",
    "            \n",
    "        self.maxlen = max(self.maxlen, cur)\n",
    "        self.helper(root.left, root.val+1, cur)\n",
    "        self.helper(root.right, root.val+1, cur)"
   ]
  },
  {
   "cell_type": "markdown",
   "metadata": {},
   "source": [
    "### [547.med-Friend Circles](https://leetcode.com/problems/friend-circles/description/)\n",
    "##### 题意: 找到班级朋友圈的个数, 和  200.med-Number of Islands 很像. 也有区别 \n",
    "##### 思路: 逐行分析朋友圈, 有一个 visited 作为标记变量.\n",
    "##### 教程-花花: https://www.youtube.com/watch?v=HHiHno66j40"
   ]
  },
  {
   "cell_type": "code",
   "execution_count": null,
   "metadata": {
    "collapsed": true
   },
   "outputs": [],
   "source": [
    "# dfs 有辅助变量 time: O(n^2), space: O(n)\n",
    "# 思路: 检查学生 i 访问过没有, 如没有, 圈子数+1; 将他和他的朋友圈统统设为访问过的.\n",
    "class Solution(object):\n",
    "    def findCircleNum(self, mat):\n",
    "        \"\"\"\n",
    "        :type M: List[List[int]]\n",
    "        :rtype: int\n",
    "        \"\"\"\n",
    "        if not mat or (len(mat)==1 and not mat[0]): return 0\n",
    "        \n",
    "        rst = 0\n",
    "        n = len(mat)\n",
    "        visit = [0] * n\n",
    "        for i in xrange(n):\n",
    "            if visit[i]: continue\n",
    "            rst += 1\n",
    "            self.dfs(mat, i, n, visit)\n",
    "        return rst\n",
    "    \n",
    "    def dfs(self, mat, cur, n, visit):\n",
    "        if visit[cur]: return # 如果已经访问过, 则返回\n",
    "        \n",
    "        visit[cur] = 1 # 没有访问过, 则标记成访问过\n",
    "        # 和200不一样, 200只有上下左右四个邻居, 而本题邻居有多个, 并不物理相连.\n",
    "        for i in xrange(n): # ❤️ 访问他的朋友. \n",
    "            if mat[cur][i] and visit[i] == 0: \n",
    "                self.dfs(mat, i, n, visit)"
   ]
  },
  {
   "cell_type": "code",
   "execution_count": null,
   "metadata": {
    "collapsed": true
   },
   "outputs": [],
   "source": [
    "# dfs 有辅助变量 time: O(n^2), space: O(1). \n",
    "# 核心思想: 使用 mat[i][i] 标记没有没有访问过.\n",
    "\n",
    "class Solution(object):\n",
    "    def findCircleNum(self, mat):\n",
    "        \"\"\"\n",
    "        :type M: List[List[int]]\n",
    "        :rtype: int\n",
    "        \"\"\"\n",
    "        if not mat: return 0\n",
    "        \n",
    "        rst, n = 0, len(mat)\n",
    "        for i in xrange(n):\n",
    "            if mat[i][i] == 0: continue #❤️ 访问过了.\n",
    "            rst += 1\n",
    "            self.helper(mat, i, n)\n",
    "        return rst\n",
    "    \n",
    "    def helper(self, mat, cur, n):\n",
    "        if mat[cur][cur] == 0: return \n",
    "        \n",
    "        mat[cur][cur] = 0\n",
    "        for i in xrange(n):\n",
    "            if mat[cur][i] and mat[i][i]: #❤️ 1) 表示是 cur 的朋友圈, 2) 表示 i 没有访问过.\n",
    "                self.helper(mat, i, n)"
   ]
  },
  {
   "cell_type": "markdown",
   "metadata": {},
   "source": [
    "### [130.med-Surrounded Regions](https://leetcode.com/problems/surrounded-regions/description/)\n",
    "##### 题意: Given a 2D board containing 'X' and 'O' (the letter O), 将 board 中所有被 \"X\" 围住的 \"O\" 用 \"X\" 替换.\n",
    "##### 思路: 边界的 \"O\"不能被围住, 从这些 \"O\" 开始 BFS 或 DFS 出所有 \"O\"\n",
    "##### 总结"
   ]
  },
  {
   "cell_type": "code",
   "execution_count": null,
   "metadata": {
    "collapsed": true
   },
   "outputs": [],
   "source": [
    "\"\"\"\n",
    "For example,\n",
    "X X X X\n",
    "X O O X\n",
    "X X O X\n",
    "X O X X\n",
    "\n",
    "After running your function, the board should be:\n",
    "X X X X\n",
    "X X X X\n",
    "X X X X\n",
    "X O X X\n",
    "\"\"\""
   ]
  },
  {
   "cell_type": "code",
   "execution_count": null,
   "metadata": {
    "collapsed": true
   },
   "outputs": [],
   "source": [
    "# 思路:\n",
    "#     1. 四边边界找 \"O\" 的元素.\n",
    "#     2. 从这些元素开始 DFS, 将和这些 \"O\" 相连的元素全部转换成 \"#\".\n",
    "#     3. 将所有 \"#\" 元素, 转化回 \"O\".\n",
    "class Solution(object):\n",
    "    def solve(self, board):\n",
    "        \"\"\"\n",
    "        :type board: List[List[str]]\n",
    "        :rtype: void Do not return anything, modify board in-place instead.\n",
    "        \"\"\"\n",
    "        if not board or (len(board)==1 and not board[0]): return \n",
    "        \n",
    "        nr, nc = len(board), len(board[0])\n",
    "        for c in xrange(nc):\n",
    "            r = 0\n",
    "            if board[r][c] == \"O\": \n",
    "                self.dfs(board, r, c, nr, nc)\n",
    "            r = nr - 1\n",
    "            if board[r][c] == \"O\": \n",
    "                self.dfs(board, r, c, nr, nc)\n",
    "                \n",
    "        for r in xrange(nr):\n",
    "            c = 0\n",
    "            if board[r][c] == \"O\": \n",
    "                self.dfs(board, r, c, nr, nc)\n",
    "            c = nc - 1\n",
    "            if board[r][c] == \"O\": \n",
    "                self.dfs(board, r, c, nr, nc)\n",
    "                \n",
    "        for r in xrange(nr):\n",
    "            for c in xrange(nc):\n",
    "                if board[r][c] == \"O\":\n",
    "                    board[r][c] = \"X\"\n",
    "                elif board[r][c] == \"#\":\n",
    "                    board[r][c] = \"O\"\n",
    "                \n",
    "    def dfs(self, board, r, c, nr, nc):\n",
    "        if r<0 or c<0 or r>=nr or c>=nc: return \n",
    "        if board[r][c] != \"O\": return \n",
    "        \n",
    "        board[r][c] = \"#\"\n",
    "        self.dfs(board, r-1, c, nr, nc)\n",
    "        self.dfs(board, r+1, c, nr, nc)\n",
    "        self.dfs(board, r, c-1, nr, nc)\n",
    "        self.dfs(board, r, c+1, nr, nc)"
   ]
  },
  {
   "cell_type": "markdown",
   "metadata": {},
   "source": [
    "### [❓261.med-Graph Valid Tree](https://leetcode.com/problems/graph-valid-tree/description/)\n",
    "##### 题意\n",
    "##### 分析\n",
    "##### 总结"
   ]
  },
  {
   "cell_type": "markdown",
   "metadata": {},
   "source": [
    "### [❓305.hard-Number of Islands II](https://leetcode.com/problems/number-of-islands-ii/description/)\n",
    "##### 题意: 不断在 walter 中放入岛, 问有多少个独立的岛?\n",
    "##### 分析\n",
    "##### 教程: https://www.youtube.com/watch?v=A6FeeG2JVnk"
   ]
  },
  {
   "cell_type": "code",
   "execution_count": null,
   "metadata": {
    "collapsed": true
   },
   "outputs": [],
   "source": [
    "\"\"\"\n",
    "Example:\n",
    "\n",
    "Given m = 3, n = 3, positions = [[0,0], [0,1], [1,2], [2,1]].\n",
    "Initially, the 2d grid grid is filled with water. (Assume 0 represents water and 1 represents land).\n",
    "\n",
    "0 0 0\n",
    "0 0 0\n",
    "0 0 0\n",
    "Operation #1: addLand(0, 0) turns the water at grid[0][0] into a land.\n",
    "\n",
    "1 0 0\n",
    "0 0 0   Number of islands = 1\n",
    "0 0 0\n",
    "Operation #2: addLand(0, 1) turns the water at grid[0][1] into a land.\n",
    "\n",
    "1 1 0\n",
    "0 0 0   Number of islands = 1\n",
    "0 0 0\n",
    "Operation #3: addLand(1, 2) turns the water at grid[1][2] into a land.\n",
    "\n",
    "1 1 0\n",
    "0 0 1   Number of islands = 2\n",
    "0 0 0\n",
    "Operation #4: addLand(2, 1) turns the water at grid[2][1] into a land.\n",
    "\n",
    "1 1 0\n",
    "0 0 1   Number of islands = 3\n",
    "0 1 0\n",
    "We return the result as an array: [1, 1, 2, 3]\n",
    "\"\"\""
   ]
  }
 ],
 "metadata": {
  "kernelspec": {
   "display_name": "Python 2",
   "language": "python",
   "name": "python2"
  },
  "language_info": {
   "codemirror_mode": {
    "name": "ipython",
    "version": 2
   },
   "file_extension": ".py",
   "mimetype": "text/x-python",
   "name": "python",
   "nbconvert_exporter": "python",
   "pygments_lexer": "ipython2",
   "version": "2.7.13"
  },
  "toc": {
   "nav_menu": {},
   "number_sections": true,
   "sideBar": true,
   "skip_h1_title": true,
   "toc_cell": true,
   "toc_position": {
    "height": "805px",
    "left": "0px",
    "right": "1084.28px",
    "top": "67px",
    "width": "257px"
   },
   "toc_section_display": "block",
   "toc_window_display": false
  }
 },
 "nbformat": 4,
 "nbformat_minor": 2
}

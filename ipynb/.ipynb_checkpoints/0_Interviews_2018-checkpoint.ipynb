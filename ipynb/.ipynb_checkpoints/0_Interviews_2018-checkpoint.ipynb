{
 "cells": [
  {
   "cell_type": "markdown",
   "metadata": {
    "toc": true
   },
   "source": [
    "<h1>Table of Contents<span class=\"tocSkip\"></span></h1>\n",
    "<div class=\"toc\" style=\"margin-top: 1em;\"><ul class=\"toc-item\"><li><span><a href=\"#LG\" data-toc-modified-id=\"LG-1\"><span class=\"toc-item-num\">1&nbsp;&nbsp;</span>LG</a></span><ul class=\"toc-item\"><li><span><a href=\"#LG:-05/29/2018\" data-toc-modified-id=\"LG:-05/29/2018-1.1\"><span class=\"toc-item-num\">1.1&nbsp;&nbsp;</span>LG: 05/29/2018</a></span></li><li><span><a href=\"#Tusimple:-5/30/2018\" data-toc-modified-id=\"Tusimple:-5/30/2018-1.2\"><span class=\"toc-item-num\">1.2&nbsp;&nbsp;</span>Tusimple: 5/30/2018</a></span></li></ul></li></ul></div>"
   ]
  },
  {
   "cell_type": "markdown",
   "metadata": {},
   "source": [
    "## LG"
   ]
  },
  {
   "cell_type": "markdown",
   "metadata": {},
   "source": [
    "### LG: 05/29/2018"
   ]
  },
  {
   "cell_type": "markdown",
   "metadata": {},
   "source": [
    "### Tusimple: 5/30/2018"
   ]
  },
  {
   "cell_type": "code",
   "execution_count": null,
   "metadata": {
    "collapsed": true
   },
   "outputs": [],
   "source": [
    "import random\n",
    "def K_largestNum(nums, k):\n",
    "    # edge coniditon\n",
    "    if k > len(nums) or k < 0: reuturn -1 # invalid K\n",
    "    \n",
    "    # search ---------- \n",
    "    n = len(nums)\n",
    "    target = n - k\n",
    "    l, r = 0, n - 1\n",
    "    while l <= r:\n",
    "        pivot = partition(nums, l, r)\n",
    "        if pivot < target:\n",
    "            l = pivot + 1\n",
    "        elif pivot > target:\n",
    "            r = pivot - 1\n",
    "        else:\n",
    "            return nums[target] \n",
    "    \n",
    "def partition(nums, l, r):\n",
    "    pivot = random.randint(l, r)\n",
    "    swap(nums, pivot, r)\n",
    "    for i in xrange(l, r): \n",
    "        if nums[i] > nums[r]: # pivot is r \n",
    "            continue \n",
    "        swap(nums, l, i)\n",
    "        l += 1\n",
    "    swap(nums, l, r)\n",
    "    return l\n",
    "  \n",
    "def swap(nums, l, r):\n",
    "    nums[l], nums[r] = nums[r], nums[l]"
   ]
  }
 ],
 "metadata": {
  "kernelspec": {
   "display_name": "Python 2",
   "language": "python",
   "name": "python2"
  },
  "language_info": {
   "codemirror_mode": {
    "name": "ipython",
    "version": 2
   },
   "file_extension": ".py",
   "mimetype": "text/x-python",
   "name": "python",
   "nbconvert_exporter": "python",
   "pygments_lexer": "ipython2",
   "version": "2.7.13"
  },
  "latex_envs": {
   "LaTeX_envs_menu_present": true,
   "autocomplete": true,
   "bibliofile": "biblio.bib",
   "cite_by": "apalike",
   "current_citInitial": 1,
   "eqLabelWithNumbers": true,
   "eqNumInitial": 1,
   "hotkeys": {
    "equation": "Ctrl-E",
    "itemize": "Ctrl-I"
   },
   "labels_anchors": false,
   "latex_user_defs": false,
   "report_style_numbering": false,
   "user_envs_cfg": false
  },
  "toc": {
   "nav_menu": {},
   "number_sections": true,
   "sideBar": true,
   "skip_h1_title": true,
   "toc_cell": true,
   "toc_position": {
    "height": "887px",
    "left": "0px",
    "right": "960.369px",
    "top": "73px",
    "width": "210px"
   },
   "toc_section_display": "block",
   "toc_window_display": true
  }
 },
 "nbformat": 4,
 "nbformat_minor": 2
}

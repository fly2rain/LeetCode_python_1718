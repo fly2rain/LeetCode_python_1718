{
 "cells": [
  {
   "cell_type": "markdown",
   "metadata": {
    "toc": true
   },
   "source": [
    "<h1>Table of Contents<span class=\"tocSkip\"></span></h1>\n",
    "<div class=\"toc\" style=\"margin-top: 1em;\"><ul class=\"toc-item\"><li><span><a href=\"#Sort-总结\" data-toc-modified-id=\"Sort-总结-1\"><span class=\"toc-item-num\">1&nbsp;&nbsp;</span><a href=\"\" target=\"_blank\">Sort 总结</a></a></span><ul class=\"toc-item\"><li><span><a href=\"#Bubble-Sort\" data-toc-modified-id=\"Bubble-Sort-1.1\"><span class=\"toc-item-num\">1.1&nbsp;&nbsp;</span><a href=\"\" target=\"_blank\">Bubble Sort</a></a></span></li><li><span><a href=\"#Selection-Sort\" data-toc-modified-id=\"Selection-Sort-1.2\"><span class=\"toc-item-num\">1.2&nbsp;&nbsp;</span><a href=\"\" target=\"_blank\">Selection Sort</a></a></span></li><li><span><a href=\"#Insertion-Sort\" data-toc-modified-id=\"Insertion-Sort-1.3\"><span class=\"toc-item-num\">1.3&nbsp;&nbsp;</span><a href=\"\" target=\"_blank\">Insertion Sort</a></a></span></li><li><span><a href=\"#Bucket-Sort\" data-toc-modified-id=\"Bucket-Sort-1.4\"><span class=\"toc-item-num\">1.4&nbsp;&nbsp;</span><a href=\"\" target=\"_blank\">Bucket Sort</a></a></span></li><li><span><a href=\"#Heap-Sort\" data-toc-modified-id=\"Heap-Sort-1.5\"><span class=\"toc-item-num\">1.5&nbsp;&nbsp;</span><a href=\"\" target=\"_blank\">Heap Sort</a></a></span></li><li><span><a href=\"#Quicksort(-)\" data-toc-modified-id=\"Quicksort(-)-1.6\"><span class=\"toc-item-num\">1.6&nbsp;&nbsp;</span><a href=\"\" target=\"_blank\">Quicksort( )</a></a></span></li><li><span><a href=\"#Mergesort(-)\" data-toc-modified-id=\"Mergesort(-)-1.7\"><span class=\"toc-item-num\">1.7&nbsp;&nbsp;</span><a href=\"\" target=\"_blank\">Mergesort( )</a></a></span><ul class=\"toc-item\"><li><span><a href=\"#Standard-code\" data-toc-modified-id=\"Standard-code-1.7.1\"><span class=\"toc-item-num\">1.7.1&nbsp;&nbsp;</span>Standard code</a></span></li><li><span><a href=\"#148.med-Sort-List\" data-toc-modified-id=\"148.med-Sort-List-1.7.2\"><span class=\"toc-item-num\">1.7.2&nbsp;&nbsp;</span><a href=\"https://leetcode.com/problems/sort-list/description/\" target=\"_blank\">148.med-Sort List</a></a></span></li><li><span><a href=\"#23_hard-merge-k-Sorted-Lists\" data-toc-modified-id=\"23_hard-merge-k-Sorted-Lists-1.7.3\"><span class=\"toc-item-num\">1.7.3&nbsp;&nbsp;</span><a href=\"https://leetcode.com/problems/merge-k-sorted-lists/\" target=\"_blank\">23_hard-merge k Sorted Lists</a></a></span></li></ul></li></ul></li><li><span><a href=\"#2/17:-Sort\" data-toc-modified-id=\"2/17:-Sort-2\"><span class=\"toc-item-num\">2&nbsp;&nbsp;</span><a href=\"\" target=\"_blank\">2/17: Sort</a></a></span><ul class=\"toc-item\"><li><span><a href=\"#75.medium-Sort-Colors\" data-toc-modified-id=\"75.medium-Sort-Colors-2.1\"><span class=\"toc-item-num\">2.1&nbsp;&nbsp;</span><a href=\"https://leetcode.com/problems/sort-colors/description/\" target=\"_blank\">75.medium-Sort Colors</a></a></span></li><li><span><a href=\"#56.medium-Merge-Intervals\" data-toc-modified-id=\"56.medium-Merge-Intervals-2.2\"><span class=\"toc-item-num\">2.2&nbsp;&nbsp;</span><a href=\"https://leetcode.com/problems/merge-intervals/description/\" target=\"_blank\">56.medium-Merge Intervals</a></a></span></li><li><span><a href=\"#57.hard-Insert-Interval\" data-toc-modified-id=\"57.hard-Insert-Interval-2.3\"><span class=\"toc-item-num\">2.3&nbsp;&nbsp;</span><a href=\"https://leetcode.com/problems/insert-interval/description/\" target=\"_blank\">57.hard-Insert Interval</a></a></span></li><li><span><a href=\"#252.easy-Meeting-Rooms\" data-toc-modified-id=\"252.easy-Meeting-Rooms-2.4\"><span class=\"toc-item-num\">2.4&nbsp;&nbsp;</span><a href=\"https://leetcode.com/problems/meeting-rooms/description/\" target=\"_blank\">252.easy-Meeting Rooms</a></a></span></li><li><span><a href=\"#❤️253.medium-Meeting-Rooms-II\" data-toc-modified-id=\"❤️253.medium-Meeting-Rooms-II-2.5\"><span class=\"toc-item-num\">2.5&nbsp;&nbsp;</span><a href=\"https://leetcode.com/problems/meeting-rooms-ii/description/\" target=\"_blank\">❤️253.medium-Meeting Rooms II</a></a></span></li></ul></li><li><span><a href=\"#2/18\" data-toc-modified-id=\"2/18-3\"><span class=\"toc-item-num\">3&nbsp;&nbsp;</span><a href=\"\" target=\"_blank\">2/18</a></a></span><ul class=\"toc-item\"><li><span><a href=\"#❤️147.med-Insertion-Sort-List\" data-toc-modified-id=\"❤️147.med-Insertion-Sort-List-3.1\"><span class=\"toc-item-num\">3.1&nbsp;&nbsp;</span><a href=\"https://leetcode.com/problems/insertion-sort-list/description/\" target=\"_blank\">❤️147.med-Insertion Sort List</a></a></span></li><li><span><a href=\"#❤️148.med-Sort-List\" data-toc-modified-id=\"❤️148.med-Sort-List-3.2\"><span class=\"toc-item-num\">3.2&nbsp;&nbsp;</span><a href=\"https://leetcode.com/problems/sort-list/description/\" target=\"_blank\">❤️148.med-Sort List</a></a></span></li></ul></li></ul></div>"
   ]
  },
  {
   "cell_type": "markdown",
   "metadata": {},
   "source": [
    "# Sort\n",
    "* 题型: [Top 100 Liked Questions + Sort](https://leetcode.com/problemset/algorithms/?topicSlugs=sort&listId=79h8rn6)\n",
    "* 题型: [Sort](https://leetcode.com/problemset/algorithms/?topicSlugs=sort)"
   ]
  },
  {
   "cell_type": "markdown",
   "metadata": {},
   "source": [
    "## [Sort 总结]()\n",
    "\n",
    "##### 链接\n",
    "* wiki-link: https://en.wikipedia.org/wiki/Sorting_algorithm\n",
    "\n",
    "##### 分类\n",
    "* comparison based sorting algorithm [ 最低计算复杂度 $O(nlogn)$ ]. cannot do better than nLogn.\n",
    "    * bucket sort\n",
    "    * selection sort\n",
    "    * insertion sort\n",
    "    * Merge Sort, \n",
    "    * Heap Sort, \n",
    "    * Quick-Sort.\n",
    "* Other:\n",
    "    * Counting sort\n",
    "    * Bucket sort "
   ]
  },
  {
   "cell_type": "markdown",
   "metadata": {},
   "source": [
    "### [Bubble Sort]()\n",
    "Video 教程:\n",
    "* https://www.youtube.com/watch?v=lyZQPjUT5B4\n",
    "\n",
    "Coding 和 文本教程:\n",
    "* https://www.geeksforgeeks.org/python-program-for-bubble-sort/\n",
    "* http://interactivepython.org/runestone/static/pythonds/SortSearch/TheBubbleSort.html"
   ]
  },
  {
   "cell_type": "code",
   "execution_count": null,
   "metadata": {
    "collapsed": true
   },
   "outputs": [],
   "source": [
    "def bubbleSort(arr):\n",
    "    n = len(arr)\n",
    "    \n",
    "    # Traverse through all array elements\n",
    "    for i in range(n): # ❤️❤️❤️ 计数用的, 用于统计 arr 末尾已经排好序的 elements.\n",
    "        # Last i elements are already in place\n",
    "        for j in range(0, n-i-1): # ❤️ 注意范围\n",
    "            # traverse the array from 0 to n-i-1\n",
    "            # Swap if the element found is greater\n",
    "            # than the next element\n",
    "            if arr[j] > arr[j+1] :\n",
    "                swap(arr, j, j + 1)\n",
    "    return arr\n",
    "                \n",
    "def swap(nums, i, j):\n",
    "    nums[i], nums[j] = nums[j], nums[i]\n",
    "\n",
    "########## testing ###########\n",
    "# Driver code to test above\n",
    "arr = [64, 34, 25, 12, 22, 11, 90]\n",
    "bubbleSort(arr)\n",
    "print arr"
   ]
  },
  {
   "cell_type": "markdown",
   "metadata": {},
   "source": [
    "### [Selection Sort]()\n",
    "* https://www.geeksforgeeks.org/selection-sort/"
   ]
  },
  {
   "cell_type": "code",
   "execution_count": 5,
   "metadata": {},
   "outputs": [
    {
     "name": "stdout",
     "output_type": "stream",
     "text": [
      "[11, 12, 22, 25, 34, 64, 90]\n",
      "[11, 12, 22, 25, 34, 64, 90]\n"
     ]
    }
   ],
   "source": [
    "# 每次找到最小值, 放到开头.\n",
    "def selectSort_left(nums): # from large too small\n",
    "    n = len(nums)\n",
    "    if n < 2: return nums\n",
    "    \n",
    "    for i in xrange(n): # ❤️ 对比的起始位置\n",
    "        minIdx = i\n",
    "        for j in xrange(i, n): # ❤️ 对比的范围\n",
    "            if nums[j] < nums[minIdx]:\n",
    "                minIdx = j\n",
    "        swap(nums, i, minIdx)\n",
    "    return nums\n",
    "    \n",
    "# 每次找到最大值, 放到结尾.\n",
    "def selectSort_right(nums): # from large too small\n",
    "    n = len(nums)\n",
    "    if n < 2: return nums\n",
    "    \n",
    "    for i in xrange(n-1,-1,-1): # ❤️ 对比的起始位置\n",
    "        maxIdx = i\n",
    "        for j in xrange(i): # ❤️ 对比的范围\n",
    "            if nums[j] > nums[maxIdx]:\n",
    "                maxIdx = j\n",
    "        swap(nums, maxIdx, i)\n",
    "    return nums\n",
    "\n",
    "def swap(nums, i, j):\n",
    "    nums[i], nums[j] = nums[j], nums[i]\n",
    "\n",
    "########## testing ###########\n",
    "arr = [64, 34, 25, 12, 22, 11, 90]\n",
    "print selectSort_left(arr)\n",
    "print selectSort_right(arr)"
   ]
  },
  {
   "cell_type": "markdown",
   "metadata": {},
   "source": [
    "### [Insertion Sort]()\n",
    "* https://www.geeksforgeeks.org/insertion-sort/"
   ]
  },
  {
   "cell_type": "code",
   "execution_count": 39,
   "metadata": {},
   "outputs": [
    {
     "name": "stdout",
     "output_type": "stream",
     "text": [
      "[11, 12, 22, 25, 34, 64, 90]\n"
     ]
    }
   ],
   "source": [
    "# sort#3: insertion sort ---------------------------------\n",
    "# 一段是排好序的, 每次将新元素和排好序的元素对比, 如果小于则不断往前移动.\n",
    "def insertSort(nums):\n",
    "    nn = len(nums)\n",
    "    if nn < 2: return nums\n",
    "    \n",
    "    for i in xrange(1, nn): # ❤️ 处理 (insert) 第 i 个元素.\n",
    "        k = i\n",
    "        for j in xrange(i-1,-1,-1): # ❤️ insert 元素和排好序的元素对比.\n",
    "            if nums[k] < nums[j]:\n",
    "                swap(nums, j, k)\n",
    "                k = j\n",
    "            else:\n",
    "                break\n",
    "    return nums\n",
    "\n",
    "def swap(nums, i, j):\n",
    "    nums[i], nums[j] = nums[j], nums[i]\n",
    "    \n",
    "########## testing ###########\n",
    "arr = [64, 34, 25, 12, 22, 11, 90]\n",
    "print insertSort(arr)"
   ]
  },
  {
   "cell_type": "markdown",
   "metadata": {},
   "source": [
    "### [Bucket Sort]()\n",
    "* 资源#1: https://www.geeksforgeeks.org/bucket-sort-2/\n",
    "* 资源(代码): http://www.growingwiththeweb.com/2015/06/bucket-sort.html\n",
    "* 适用场景: Bucket sort is <span class=\"girk\">mainly useful</span> when input is <span class=\"girk\">❤️❤️uniformly distributed over a range❤️❤️</span>.\n",
    "    * For example, consider the following problem. Sort a large set of floating point numbers which are in range from 0.0 to 1.0 and are uniformly distributed across the range. How do we sort the numbers efficiently?\n",
    "* 复杂度分析:\n",
    "    * If we assume that insertion in a bucket takes O(1) time then bucket clearly take O(n) time."
   ]
  },
  {
   "cell_type": "code",
   "execution_count": 3,
   "metadata": {},
   "outputs": [
    {
     "name": "stdout",
     "output_type": "stream",
     "text": [
      "[1, 2, 11, 12, 22, 25, 34, 64, 88, 90]\n"
     ]
    }
   ],
   "source": [
    "# 用 heapq 更加简便. \n",
    "import heapq\n",
    "def bucketSort(nums, bucketSize=5):\n",
    "    if len(nums) < 2: return nums\n",
    "    \n",
    "    maxv = minv = nums[0]\n",
    "    for x in nums:\n",
    "        maxv = max(maxv, x)\n",
    "        minv = min(minv, x)\n",
    "        \n",
    "    bucketCnt = int((maxv-minv)/bucketSize) + 1\n",
    "    bucket = [[] for i in xrange(bucketCnt)]\n",
    "    for x in nums:\n",
    "        idx = (x-minv) / bucketSize\n",
    "        bucket[idx].append(x)\n",
    "        \n",
    "    rst, tmp = [], []\n",
    "    for x in bucket:\n",
    "        for i in x:\n",
    "            heapq.heappush(tmp, i)\n",
    "        while tmp:\n",
    "            rst.append(heapq.heappop(tmp))\n",
    "    return rst\n",
    "\n",
    "arr = [64, 34, 25, 12, 22, 11, 90, 2, 1, 88]\n",
    "print bucketSort(arr, 2) "
   ]
  },
  {
   "cell_type": "code",
   "execution_count": 6,
   "metadata": {},
   "outputs": [
    {
     "name": "stdout",
     "output_type": "stream",
     "text": [
      "[11, 12, 22, 25, 34, 64, 90]\n"
     ]
    }
   ],
   "source": [
    "# ❤️❤️思路 bucket + insert sort 的结合:\n",
    "# 1. build bucket:\n",
    "#     a. 找到 minVal, maxVal. 根据最值以及 bucketsize 求得 bucketCnt\n",
    "#     b. 构建 bucket.\n",
    "# 2. 利用 insert sort 对 bucket 中每个子 bucket 排序. ❤️核心❤️: 利用 bucket 减少 n 的大小, 极大地降低 n^2 的复杂度.\n",
    "# 3. 将排序结果串起来即是最终的结果. \n",
    "def bucketSort(nums, bucketSize = 5):\n",
    "    # 1 edge condition\n",
    "    nn = len(nums)\n",
    "    if nn < 2: return nums\n",
    "    \n",
    "    # 2 determine minimum and maximum values\n",
    "    minVal = maxVal = nums[0]\n",
    "    for x in nums:\n",
    "        minVal = min(minVal, x)\n",
    "        maxVal = max(maxVal, x)\n",
    "    \n",
    "    # 3 initialize buckets\n",
    "    bucketCnt = int( (maxVal - minVal) / bucketSize ) + 1 # ❤️❤️❤️ + 1\n",
    "    bucket = [[] for i in xrange(bucketCnt)]\n",
    "    for x in nums:\n",
    "        idx = int( (x - minVal) / bucketSize ) # ❤️❤️❤️\n",
    "        bucket[idx].append(x)\n",
    "        \n",
    "    # 4 Sort buckets and place back into input array\n",
    "    rst = []\n",
    "    for x in bucket:\n",
    "        insertSort(x)\n",
    "        for j in x:\n",
    "            rst.append(j)\n",
    "    return rst\n",
    "\n",
    "def insertSort(nums):\n",
    "    nn = len(nums)\n",
    "    for i in xrange(1, nn):\n",
    "        k = i \n",
    "        for j in xrange(i-1,-1,-1):\n",
    "            if nums[j] > nums[k]:\n",
    "                nums[j], nums[k] = nums[k], nums[j]\n",
    "                k = j \n",
    "    return nums\n",
    "        \n",
    "########## testing ###########\n",
    "arr = [64, 34, 25, 12, 22, 11, 90]\n",
    "print bucketSort(arr, 2) "
   ]
  },
  {
   "cell_type": "markdown",
   "metadata": {},
   "source": [
    "### [Heap Sort]()\n",
    "* https://www.youtube.com/watch?v=PqS5T9ZKZno\n",
    "* 和 great tree 或 less tree 紧密相关. [heap 是 complete tree: 只允许最后一层为空, 并优先排好左边的 leaf nodes.]\n",
    "    * Heapify 的原理: 递归检查每个左右节点是否大于根节点. 如是, 调换数值. 直到满足条件.\n",
    "    * Heappop 的原理: 从 arr 的角度来看, 交换第一个元素和最后一个元素, 删除最后一个元素. 对剩余元素做 heapify 操作, 然后成为 heap queue."
   ]
  },
  {
   "cell_type": "markdown",
   "metadata": {},
   "source": [
    "### [Quicksort( )]()"
   ]
  },
  {
   "cell_type": "code",
   "execution_count": null,
   "metadata": {
    "collapsed": true
   },
   "outputs": [],
   "source": [
    "# 📚版本1: 不是 in-place sorting，容易理解，但是算法不是最优。\n",
    "def quicksort(arr):\n",
    "    if len(arr) <= 1:\n",
    "        return arr\n",
    "    \n",
    "    # 找到 pivot \n",
    "    pivot = arr[len(arr) // 2]\n",
    "    left = [x for x in arr if x < pivot]\n",
    "    middle = [x for x in arr if x == pivot]\n",
    "    right = [x for x in arr if x > pivot]\n",
    "    return quicksort(left) + middle + quicksort(right)\n",
    "\n",
    "########## testing ###########\n",
    "print(quicksort([3,6,8,10,1,2,1]))"
   ]
  },
  {
   "cell_type": "code",
   "execution_count": null,
   "metadata": {
    "collapsed": true
   },
   "outputs": [],
   "source": [
    "# 📚版本2: in-place version.\n",
    "# 1/18/2018 written when Chenjing Mao had the road test\n",
    "import random\n",
    "def quickSort (nums):\n",
    "    if len(nums) < 2:  return nums\n",
    "    _quicksort (nums, 0, len(nums) - 1)\n",
    "    return nums\n",
    "\n",
    "def _quickSort (nums, l, r):\n",
    "    if l < r:\n",
    "        pivot = partition(nums, l, r)\n",
    "        _quickSort(nums, l, pivot-1)\n",
    "        _quickSort(nums, pivot+1, r)\n",
    "\n",
    "def partition(nums, l, r):\n",
    "    pivot = random.randint(l, r)\n",
    "    swap(nums, r, pivot)\n",
    "    \n",
    "    for i in xrange(l, r):\n",
    "        if nums[i] > nums[r]:\n",
    "            continue\n",
    "        swap(nums, i, l)\n",
    "        l += 1\n",
    "    swap(nums, l, r)\n",
    "    return l\n",
    "    \n",
    "def swap (nums, l, r):\n",
    "    nums[l], nums[r] = nums[r], nums[l]\n",
    "    \n",
    "    \n",
    "########## testing ###########\n",
    "print quickSort([3,6,8,10,1,2,1])\n",
    "print quickSort([64, 34, 25, 12, 22, 11, 90])"
   ]
  },
  {
   "cell_type": "markdown",
   "metadata": {},
   "source": [
    "### [Mergesort( )]()\n",
    "* GeeksforGeeks: https://www.geeksforgeeks.org/merge-sort/\n",
    "* https://gist.github.com/jvashishtha/2720700\n",
    "* http://interactivepython.org/runestone/static/pythonds/SortSearch/TheMergeSort.html\n",
    "* https://pythonandr.com/2015/07/05/the-merge-sort-python-code/\n",
    "\n",
    "#### Standard code"
   ]
  },
  {
   "cell_type": "code",
   "execution_count": 4,
   "metadata": {},
   "outputs": [
    {
     "name": "stdout",
     "output_type": "stream",
     "text": [
      "[11, 12, 22, 25, 34, 64, 90]\n",
      "[1, 1, 2, 3, 6, 8, 10]\n"
     ]
    }
   ],
   "source": [
    "# 5 mergesort -----------------------------------\n",
    "# merge sort main function ---------\n",
    "def mergeSort(nums, l, r):\n",
    "    if l < r: # ❤️注意条件\n",
    "        m = l + ((r - l) >> 1)\n",
    "        mergeSort(nums, l, m) # ❤️ 和后面 L = ... R = ... 是关联起来的.\n",
    "        mergeSort(nums, m+1, r)\n",
    "        merge(nums, l, m+1, r+1) # ❤️❤️👍❤️❤️ 注意 m+1, r+1, 这是按照 index [ ) 的规则 👍❤️❤️❤️\n",
    "    return nums\n",
    "\n",
    "# Merges two subarrays of arr[] -----\n",
    "#   * First subarray is arr[l..m]\n",
    "#   * Second subarray is arr[m+1..r]\n",
    "def merge(nums, l, m, r):\n",
    "    L = nums[l:m] # ❤️ deep copy\n",
    "    R = nums[m:r]\n",
    "\n",
    "    # Merge the temp arrays back into nums[l..r]\n",
    "    i = 0     # Initial index of first subarray\n",
    "    j = 0     # Initial index of second subarray\n",
    "    k = l     # Initial index of merged subarray\n",
    "    while i < len(L) and j < len(R):\n",
    "        if L[i] < R[j]:\n",
    "            nums[k] = L[i]\n",
    "            i += 1\n",
    "        else:\n",
    "            nums[k] = R[j]\n",
    "            j += 1\n",
    "        k += 1\n",
    "        \n",
    "    while i < len(L): # Copy the remaining elements of L[], if there are any\n",
    "        nums[k] = L[i]\n",
    "        i += 1\n",
    "        k += 1\n",
    "    while j < len(R): # Copy the remaining elements of R[], if there are any\n",
    "        nums[k] = R[j]\n",
    "        j += 1\n",
    "        k += 1\n",
    "    \n",
    "########## testing ###########\n",
    "arr = [64, 34, 25, 12, 22, 11, 90]\n",
    "brr = [3,6,8,10,1,2,1]\n",
    "\n",
    "print mergeSort(arr, 0, len(arr)-1)\n",
    "print mergeSort(brr, 0, len(brr)-1)"
   ]
  },
  {
   "cell_type": "markdown",
   "metadata": {},
   "source": [
    "#### [148.med-Sort List](https://leetcode.com/problems/sort-list/description/)\n",
    "##### 题意: Sort a linked list in <span class=\"girk\">O(n log n) time</span> using <span class=\"girk\">constant space complexity</span>.\n",
    "##### 分析: 题意很明确, 难在 constant space, O(nlogn) time. 所以应该是 merge sort 的方法.\n",
    "* 利用 fast and slow 找到 linked list 的中间, 将 linked list 一分为二. \n",
    "* 对两个子 linked list 分别排序. \n",
    "* 参考视频: https://www.youtube.com/watch?v=RXm1-fvdkCs"
   ]
  },
  {
   "cell_type": "code",
   "execution_count": null,
   "metadata": {
    "collapsed": true
   },
   "outputs": [],
   "source": [
    "# Definition for singly-linked list.\n",
    "# class ListNode(object):\n",
    "#     def __init__(self, x):\n",
    "#         self.val = x\n",
    "#         self.next = None\n",
    "\n",
    "class Solution(object):\n",
    "    def sortList(self, head):\n",
    "        \"\"\"\n",
    "        :type head: ListNode\n",
    "        :rtype: ListNode\n",
    "        \"\"\"\n",
    "        return self.mergeSort(head) # ❎❎ 错在调用 sortList 本身了, 导致 maximum recursion.\n",
    "        \n",
    "    def mergeSort(self, head):\n",
    "        # 1 edge condition\n",
    "        if not head or not head.next: return head\n",
    "        \n",
    "        # 2 find the middle of the linked list\n",
    "        fast, slow = head.next, head\n",
    "        while fast and fast.next:\n",
    "            fast = fast.next.next\n",
    "            slow = slow.next # ❤️❤️ 重要, 将前半段截断, 通过 None\n",
    "        slow.next, mid = None, slow.next # ❎❎ 错在没有把1个 part 的 list 断开, 即 slow.next = None.  \n",
    "            \n",
    "        # 3 recursively call the left part and right part of the linked list\n",
    "        left = self.mergeSort(head)\n",
    "        right = self.mergeSort(mid)\n",
    "        \n",
    "        # 4 merge the left and right\n",
    "        return self.merge(left, right)\n",
    "       \n",
    "    ########### merge two sorted linked lists ###########\n",
    "    def merge(self, l1, l2):\n",
    "        if not l1: return l2\n",
    "        if not l2: return l1\n",
    "        \n",
    "        dummy = cur = ListNode(None)\n",
    "        while l1 and l2:\n",
    "            if l1.val < l2.val:\n",
    "                cur.next = l1\n",
    "                l1 = l1.next\n",
    "            else:\n",
    "                cur.next = l2\n",
    "                l2 = l2.next\n",
    "            cur = cur.next\n",
    "        cur.next = l1 or l2\n",
    "        return dummy.next"
   ]
  },
  {
   "cell_type": "markdown",
   "metadata": {},
   "source": [
    "#### [23_hard-merge k Sorted Lists](https://leetcode.com/problems/merge-k-sorted-lists/)\n",
    "##### 题意\n",
    "* Merge $k$ <span class=\"girk\">sorted linked lists</span> and return it as one sorted list. Analyze and describe its complexity.\n",
    "* 难点: 是要处理 $k$ 个 sorted linked lists.\n",
    "* 总结: 我已经做出以下答案, 还有很多其他答案.\n",
    "\n",
    "##### 参考视频\n",
    "* Edward Shi: https://www.youtube.com/watch?v=5xT5GMTFvRI\n",
    "\n",
    "##### My solution \n",
    "* runtime: $O(kN)$, $n$ 表示所有 sorted linked list 包含元素的个数.\n",
    "* space complexity: 几乎是 in-place 的, 属于 constant complexity $O(1)$."
   ]
  },
  {
   "cell_type": "code",
   "execution_count": null,
   "metadata": {
    "collapsed": true
   },
   "outputs": [],
   "source": [
    "# 方法2: david & conquer. Time O(nlogk). 有点像 tree, postorder 的题.\n",
    "class Solution(object):\n",
    "    def mergeKLists(self, lists):\n",
    "        if not lists: return []\n",
    "        return self._mergeKLists(lists, 0, len(lists)-1)\n",
    "        \n",
    "    def _mergeKLists(self, nums, l, r):\n",
    "        if l >= r: return nums[l]\n",
    "        \n",
    "        m = l + ((r-l) >> 1)\n",
    "        l1 = self._mergeKLists(nums, l, m) #👍❤️ 注意这种返回的机制.\n",
    "        l2 = self._mergeKLists(nums, m+1, r)\n",
    "        return self.merge(l1, l2)\n",
    "            \n",
    "    def merge(self, l1, l2):\n",
    "        if not l1: return l2\n",
    "        if not l2: return l1\n",
    "        \n",
    "        dummy = cur = ListNode(None)\n",
    "        while l1 and l2:\n",
    "            if l1.val < l2.val:\n",
    "                cur.next = l1\n",
    "                l1 = l1.next\n",
    "            else:\n",
    "                cur.next = l2\n",
    "                l2 = l2.next\n",
    "            cur = cur.next\n",
    "        \n",
    "        cur.next = l1 or l2\n",
    "        return dummy.next          "
   ]
  },
  {
   "cell_type": "code",
   "execution_count": null,
   "metadata": {
    "collapsed": true
   },
   "outputs": [],
   "source": [
    "# 👍 方法1: Priority queue & heapq. \n",
    "# ❤️❤️❤️ Time O(nlogk), where n is the total elements and k is the size of list; Space O(n)\n",
    "# ❤️❤️❤️ 最推荐的方法, 有扩展性.\n",
    "# 总结: priority queue 和 heapq 是最值得推荐的, 个人更熟悉 heapq 的语法.\n",
    "from Queue import PriorityQueue\n",
    "import heapq\n",
    "class Solution(object):\n",
    "    def mergeKLists(self, lists): # method #1: heapq --------------\n",
    "        # 1 edge condition\n",
    "        if not lists: return []\n",
    "        \n",
    "        # 2 使用 heapq 先存储第一个元素\n",
    "        q = []\n",
    "        for x in lists:\n",
    "            if x: heapq.heappush(q, (x.val, x)) # ❤️❤️ 注意必须有 heapq. \n",
    "        \n",
    "        dummy = cur = ListNode(None)\n",
    "        while len(q) > 0:\n",
    "            cur.next = heapq.heappop(q)[1]\n",
    "            cur = cur.next\n",
    "            if cur.next: \n",
    "                heapq.heappush(q, (cur.next.val, cur.next))\n",
    "            \n",
    "        return dummy.next\n",
    "    \n",
    "    def mergeKLists(self, lists): # method #2: Priority Queue --------------\n",
    "        # 1 edge condition\n",
    "        if not lists: return []\n",
    "        \n",
    "        # 2 使用 priority queue. \n",
    "        q = PriorityQueue()\n",
    "        for x in lists: # 👍👍 注意语法 q.put()\n",
    "            if x: q.put((x.val, x)) # ❤️❤️ 按照 x.val 的大小, 优先级放入 priority queue 中.\n",
    "        \n",
    "        dummy = cur = ListNode(None)\n",
    "        while q.qsize() > 0: # 👍👍 注语语法 q.qsize()\n",
    "            cur.next = q.get()[1] # 👍👍 \n",
    "            cur = cur.next\n",
    "            if cur.next: q.put((cur.next.val, cur.next))\n",
    "                \n",
    "        return dummy.next"
   ]
  },
  {
   "cell_type": "markdown",
   "metadata": {},
   "source": [
    "## [2/17: Sort]()"
   ]
  },
  {
   "cell_type": "markdown",
   "metadata": {},
   "source": [
    "### [75.medium-Sort Colors](https://leetcode.com/problems/sort-colors/description/)\n",
    "##### 题意: <span class=\"burk\">in-place sort colors</span> 使得相同颜色相邻, 这里 red, white 和 blue 分别用 0 , 1,  2 表示.\n",
    "##### 分析: in-place 是关键, 需要真正改变那块内存, 而不能把该内存指向未知."
   ]
  },
  {
   "cell_type": "code",
   "execution_count": null,
   "metadata": {
    "collapsed": true
   },
   "outputs": [],
   "source": [
    "# 方法1: bucket sort 的思路, time O(n), space O(3).\n",
    "class Solution(object):\n",
    "    def sortColors(self, nums):\n",
    "        \"\"\"\n",
    "        :type nums: List[int]\n",
    "        :rtype: void Do not return anything, modify nums in-place instead.\n",
    "        \"\"\"\n",
    "        if len(nums) < 2: return \n",
    "        \n",
    "        bucket = [0] * 3\n",
    "        while nums:  # ❤️❤️ in-place 操作的关键是, pop 所有元素, 并且 append 所有元素.\n",
    "            x = nums.pop()\n",
    "            bucket[x] += 1\n",
    "        \n",
    "        for i, x in enumerate(bucket):\n",
    "            for j in xrange(x):\n",
    "                nums.append(i)         "
   ]
  },
  {
   "cell_type": "code",
   "execution_count": null,
   "metadata": {
    "collapsed": true
   },
   "outputs": [],
   "source": [
    "# 方法2: in-place switch ❤️❤️❤️❤️\n",
    "class Solution(object):\n",
    "    def sortColors(self, nums):\n",
    "        \"\"\"\n",
    "        :type nums: List[int]\n",
    "        :rtype: void Do not return anything, modify nums in-place instead.\n",
    "        \"\"\"\n",
    "        l, r, i = 0, len(nums)-1, 0\n",
    "        while l <= r and i <= r:\n",
    "            if nums[i] == 0:\n",
    "                self.swap(nums, l, i)\n",
    "                i += 1\n",
    "                l += 1\n",
    "            elif nums[i] == 1:\n",
    "                i += 1\n",
    "            elif nums[i] == 2:\n",
    "                self.swap(nums, r, i)\n",
    "                r -= 1               \n",
    "            \n",
    "    def swap(self, nums, i, j):\n",
    "        nums[i], nums[j] = nums[j], nums[i]"
   ]
  },
  {
   "cell_type": "markdown",
   "metadata": {},
   "source": [
    "### [56.medium-Merge Intervals](https://leetcode.com/problems/merge-intervals/description/)\n",
    "##### 题意: Given a collection of intervals, merge all overlapping intervals.\n",
    "* For example,\n",
    "    * Given [1,3],[2,6],[8,10],[15,18],\n",
    "    * return [1,6],[8,10],[15,18].\n",
    "    \n",
    "##### 分析: 按照第一个元素 sorting, 然后对比前后输入的第二个元素."
   ]
  },
  {
   "cell_type": "code",
   "execution_count": null,
   "metadata": {
    "collapsed": true
   },
   "outputs": [],
   "source": [
    "# Definition for an interval.\n",
    "# class Interval(object):\n",
    "#     def __init__(self, s=0, e=0):\n",
    "#         self.start = s\n",
    "#         self.end = e\n",
    "\n",
    "class Solution(object):\n",
    "    def merge(self, intervals):\n",
    "        \"\"\"\n",
    "        :type intervals: List[Interval]\n",
    "        :rtype: List[Interval]\n",
    "        \"\"\"\n",
    "        # 1 edge condition\n",
    "        if len(intervals) < 2: return intervals\n",
    "        \n",
    "        # 2 sort and do the job\n",
    "        intervals.sort(key=lambda x: x.start) # ❎❎❎ 个性化 sort 的语法, 原先错在缺少 key = \n",
    "        rst = [intervals[0]]\n",
    "        for y in intervals:\n",
    "            if rst[-1].end >= y.start:\n",
    "                rst[-1].end = max(rst[-1].end, y.end)\n",
    "            else:\n",
    "                rst.append(y)\n",
    "        return rst        "
   ]
  },
  {
   "cell_type": "markdown",
   "metadata": {},
   "source": [
    "### [57.hard-Insert Interval](https://leetcode.com/problems/insert-interval/description/)\n",
    "##### 题意: Given a set of non-overlapping intervals, insert a new interval into the intervals (merge if necessary).\n",
    "* You may assume that the intervals were initially sorted according to their start times.\n",
    "* 举例1: \n",
    "    * Given intervals [1,3],[6,9], \n",
    "    * insert [2,5]\n",
    "    * merge and return [1,5],[6,9].\n",
    "* 举例2:\n",
    "    * Given [1,2],[3,5],[6,7],[8,10],[12,16], \n",
    "    * insert [4,9] \n",
    "    * merge and return [1,2],[3,10],[12,16].\n",
    "    \n",
    "##### 方法分析: \n",
    "* 方法1 two steps:\n",
    "    * 第一个 while 循环, 找到需要插入 interval 的位置, 使得按照 start 排序.\n",
    "    * 第二次 while 循环, 调用 56 的程序. 对 overlapd 的 interval 进行融合.\n",
    "* 方法2: 三段法, 前段后段容易, 中间困难. https://www.youtube.com/watch?v=DxPhUGtPBek"
   ]
  },
  {
   "cell_type": "code",
   "execution_count": null,
   "metadata": {
    "collapsed": true
   },
   "outputs": [],
   "source": [
    "# Definition for an interval.\n",
    "# class Interval(object):\n",
    "#     def __init__(self, s=0, e=0):\n",
    "#         self.start = s\n",
    "#         self.end = e\n",
    "\n",
    "# Time: O(n), 76 ms\n",
    "# 思路: 分三段考虑, 前段和后段简单, 中断麻烦.\n",
    "class Solution(object):\n",
    "    def insert(self, intervals, newInterval):\n",
    "        \"\"\"\n",
    "        :type intervals: List[Interval]\n",
    "        :type newInterval: Interval\n",
    "        :rtype: List[Interval]\n",
    "        \"\"\"\n",
    "        if not newInterval: return intervals\n",
    "        if not intervals: return [newInterval]\n",
    "        \n",
    "        rst = []\n",
    "        nn, i = len(intervals), 0\n",
    "        while i < nn and intervals[i].end < newInterval.start:\n",
    "            rst.append(intervals[i])\n",
    "            i += 1\n",
    "        \n",
    "        while i < nn and intervals[i].start <= newInterval.end: # ❎ 注意条件.\n",
    "            newInterval.start = min(newInterval.start, intervals[i].start)\n",
    "            newInterval.end = max(newInterval.end, intervals[i].end)\n",
    "            i += 1\n",
    "        rst.append(newInterval) # ❎ 缺了这一句.\n",
    "            \n",
    "        while i < nn:\n",
    "            rst.append(intervals[i])\n",
    "            i += 1\n",
    "        return rst"
   ]
  },
  {
   "cell_type": "code",
   "execution_count": null,
   "metadata": {
    "collapsed": true
   },
   "outputs": [],
   "source": [
    "# Time: O(n), 80ms\n",
    "# 思路: \n",
    "class Solution(object):\n",
    "    def insert(self, intervals, newInterval):\n",
    "        \"\"\"\n",
    "        :type intervals: List[Interval]\n",
    "        :type newInterval: Interval\n",
    "        :rtype: List[Interval]\n",
    "        \"\"\"\n",
    "        # 1 edge condition\n",
    "        if not intervals: return [newInterval]\n",
    "        if not newInterval: return intervals\n",
    "        \n",
    "        # 2 insert and sort the new intervals via the insertion sort, time O(n)\n",
    "        intervals.append(newInterval)\n",
    "        nn = len(intervals)\n",
    "        for i in xrange(nn-1, 0, -1):\n",
    "            if intervals[i].start < intervals[i-1].start:\n",
    "                self.swap(intervals, i, i-1)\n",
    "            else:\n",
    "                break\n",
    "        \n",
    "        # 3 merge the new intervals\n",
    "        rst = [intervals[0]]\n",
    "        for x in intervals:\n",
    "            if rst[-1].end >= x.start:\n",
    "                rst[-1].end = max(rst[-1].end, x.end)\n",
    "            else:\n",
    "                rst.append(x)\n",
    "        return rst\n",
    "        \n",
    "    \n",
    "    def swap(self, nums, i, j):\n",
    "        nums[i], nums[j] = nums[j], nums[i]"
   ]
  },
  {
   "cell_type": "markdown",
   "metadata": {},
   "source": [
    "### [252.easy-Meeting Rooms](https://leetcode.com/problems/meeting-rooms/description/)\n",
    "##### 题目: Given an array of meeting time intervals consisting of start and end times $[[s_1,e_1],[s_2,e_2],...] (s_i < e_i)$, determine if a person could attend all meetings.\n",
    "* For example,\n",
    "    * Given [[0, 30],[5, 10],[15, 20]],\n",
    "    * return false.\n",
    " \n",
    "##### 分析: 对比前一个 meeting 的结束时间是否晚于下一个 meeting 的开始时间. \n",
    "* 非常重要的 tutorial: https://www.youtube.com/watch?v=0roQnDBC27o"
   ]
  },
  {
   "cell_type": "code",
   "execution_count": null,
   "metadata": {
    "collapsed": true
   },
   "outputs": [],
   "source": [
    "# Definition for an interval.\n",
    "# class Interval(object):\n",
    "#     def __init__(self, s=0, e=0):\n",
    "#         self.start = s\n",
    "#         self.end = e\n",
    "\n",
    "class Solution(object):\n",
    "    def canAttendMeetings(self, intervals):\n",
    "        \"\"\"\n",
    "        :type intervals: List[Interval]\n",
    "        :rtype\n",
    "        \"\"\"\n",
    "        nn = len(intervals)\n",
    "        if nn < 2: return True\n",
    "        \n",
    "        start, end = [], []\n",
    "        for x in intervals:\n",
    "            start.append(x.start)\n",
    "            end.append(x.end)\n",
    "        \n",
    "        start.sort()\n",
    "        end.sort()\n",
    "        for i in xrange(1, nn):\n",
    "            if start[i] < end[i-1]:\n",
    "                return False\n",
    "        return True"
   ]
  },
  {
   "cell_type": "code",
   "execution_count": null,
   "metadata": {
    "collapsed": true
   },
   "outputs": [],
   "source": [
    "# Definition for an interval.\n",
    "# class Interval(object):\n",
    "#     def __init__(self, s=0, e=0):\n",
    "#         self.start = s\n",
    "#         self.end = e\n",
    "\n",
    "class Solution(object):\n",
    "    def canAttendMeetings(self, intervals):\n",
    "        \"\"\"\n",
    "        :type intervals: List[Interval]\n",
    "        :rtype: bool\n",
    "        \"\"\"\n",
    "        nn = len(intervals)\n",
    "        if nn < 2: return True\n",
    "        \n",
    "        intervals.sort(key = lambda x: x.start) # ❎❎❎ 忘记对 meeting start time 排序了.\n",
    "        for i in xrange(1, nn):\n",
    "            if intervals[i-1].end > intervals[i].start:\n",
    "                return False\n",
    "        return True"
   ]
  },
  {
   "cell_type": "markdown",
   "metadata": {},
   "source": [
    "### [❤️253.medium-Meeting Rooms II](https://leetcode.com/problems/meeting-rooms-ii/description/)\n",
    "##### 题意: Given an array of meeting time intervals consisting of start and end times [[s1,e1],[s2,e2],...] (si < ei), find the <span class=\"girk\">minimum number</span> of conference rooms required.\n",
    "* 举例: \n",
    "    * Given [[0, 30],[5, 10],[15, 20]],\n",
    "    * return 2.\n",
    "  \n",
    "##### 分析: \n",
    "* 非常重要的 tutorial: https://www.youtube.com/watch?v=0roQnDBC27o\n",
    "* 重要, 和上面思路完全一致 https://www.youtube.com/watch?v=jUpuIio_oYo"
   ]
  },
  {
   "cell_type": "code",
   "execution_count": null,
   "metadata": {
    "collapsed": true
   },
   "outputs": [],
   "source": [
    "# Definition for an interval.\n",
    "# class Interval(object):\n",
    "#     def __init__(self, s=0, e=0):\n",
    "#         self.start = s\n",
    "#         self.end = e\n",
    "class Solution(object):\n",
    "    def minMeetingRooms(self, intervals):\n",
    "        \"\"\"\n",
    "        :type intervals: List[Interval]\n",
    "        :rtype: int\n",
    "        \"\"\"\n",
    "        nn = len(intervals)\n",
    "        # 1 edge condition\n",
    "        if nn < 2: return nn\n",
    "        \n",
    "        # 2 summarize the start and end time and sort them\n",
    "        start, end = [], []\n",
    "        for x in intervals:\n",
    "            start.append(x.start)\n",
    "            end.append(x.end)\n",
    "        start.sort()\n",
    "        end.sort()\n",
    "        \n",
    "        # 3 do the caculation\n",
    "        cnt, r = 0, 0 # ❤️❤️👍👍 这一块是本算法的核心. \n",
    "        for l in xrange(nn): # ❤️ 需要细细品味. \n",
    "            if start[l] < end[r]: # ❤️ 新的会议开始时间比结束时间早, 另开一个会场. \n",
    "                cnt += 1\n",
    "            else: # 否则, 用关闭的会场开新的会议, 并检查下一个会议结束的时间. \n",
    "                r += 1 #\n",
    "        return cnt"
   ]
  },
  {
   "cell_type": "markdown",
   "metadata": {},
   "source": [
    "## [2/18]()"
   ]
  },
  {
   "cell_type": "markdown",
   "metadata": {},
   "source": [
    "### [❤️147.med-Insertion Sort List](https://leetcode.com/problems/insertion-sort-list/description/)\n",
    "##### 题意:  Sort a linked list using insertion sort.\n",
    "\n",
    "##### 分析: \n",
    "* 和 List 的相比, 唯一不同的是, linked list 发现 .next.val < .val, 则从头到尾重新遍历查找插入位置.\n",
    "* 非常值得看的 tutorial https://www.youtube.com/watch?v=sHRZu7lf0L4"
   ]
  },
  {
   "cell_type": "code",
   "execution_count": null,
   "metadata": {
    "collapsed": true
   },
   "outputs": [],
   "source": [
    "# Definition for singly-linked list.\n",
    "# class ListNode(object):\n",
    "#     def __init__(self, x):\n",
    "#         self.val = x\n",
    "#         self.next = None\n",
    "\n",
    "class Solution(object):\n",
    "    def insertionSortList(self, head):\n",
    "        \"\"\"\n",
    "        :type head: ListNode\n",
    "        :rtype: ListNode\n",
    "        \"\"\"\n",
    "        if not head or not head.next: \n",
    "            return head\n",
    "        \n",
    "        dummy = ListNode(None)\n",
    "        dummy.next = cur = head\n",
    "        while cur and cur.next:\n",
    "            if cur.val <= cur.next.val:\n",
    "                cur = cur.next\n",
    "            else:\n",
    "                temp = cur.next\n",
    "                cur.next = temp.next\n",
    "                prev = dummy\n",
    "                while prev.next.val <= temp.val: # ❤️ 不用检查 prev.next 存在与否, 注意是检查 prev.next 和 temp 对比大小.\n",
    "                    prev = prev.next # 肯定存在 prev.next.val > temp.val\n",
    "                temp.next = prev.next # ❎ 这一块很容易错. \n",
    "                prev.next = temp\n",
    "                \n",
    "        return dummy.next"
   ]
  },
  {
   "cell_type": "markdown",
   "metadata": {},
   "source": [
    "### [❤️148.med-Sort List](https://leetcode.com/problems/sort-list/description/)\n",
    "##### 题意: Sort a linked list in <span class=\"girk\">O(n log n) time</span> using <span class=\"girk\">constant space complexity</span>.\n",
    "##### 分析: 题意很明确, 难在 constant space, O(nlogn) time. 所以应该是 merge sort 的方法.\n",
    "* 利用 fast and slow 找到 linked list 的中间, 将 linked list 一分为二. \n",
    "* 对两个子 linked list 分别排序. \n",
    "* 参考视频: https://www.youtube.com/watch?v=RXm1-fvdkCs\n",
    "\n",
    "##### 编程总结\n",
    "```python\n",
    "# 两句等价的 python 语句\n",
    "# 1 通用于各种语言包括 c++, java 等等\n",
    "temp = mid.next\n",
    "mid.next = None\n",
    "mid = temp\n",
    "# 2 只适用于 python, 但非常简便.\n",
    "mid.next, mid = None, mid.next # 赋值是同时完成的\n",
    "# 类似的语句还有\n",
    "nums[i], nums[j] = nums[j], nums[i]\n",
    "```"
   ]
  },
  {
   "cell_type": "code",
   "execution_count": null,
   "metadata": {
    "collapsed": true
   },
   "outputs": [],
   "source": [
    "# Definition for singly-linked list.\n",
    "# class ListNode(object):\n",
    "#     def __init__(self, x):\n",
    "#         self.val = x\n",
    "#         self.next = None\n",
    "\n",
    "class Solution(object):\n",
    "    def sortList(self, head):\n",
    "        \"\"\"\n",
    "        :type head: ListNode\n",
    "        :rtype: ListNode\n",
    "        \"\"\"\n",
    "        return self.mergeSort(head) # ❎❎ 错在调用 sortList 本身了, 导致 maximum recursion.\n",
    "        \n",
    "    def mergeSort(self, head):\n",
    "        # 1 edge condition\n",
    "        if not head or not head.next: return head\n",
    "        \n",
    "        # 2 find the middle of the linked list\n",
    "        fast, slow = head.next, head\n",
    "        while fast and fast.next:\n",
    "            fast = fast.next.next\n",
    "            slow = slow.next # ❤️❤️ 重要, 将前半段截断, 通过 None\n",
    "        slow.next, mid = None, slow.next # ❎❎ 错在没有把1个 part 的 list 断开, 即 mid.next = None.  \n",
    "            \n",
    "        # 3 recursively call the left part and right part of the linked list\n",
    "        left = self.mergeSort(head)\n",
    "        right = self.mergeSort(mid)\n",
    "        \n",
    "        # 4 merge the left and right\n",
    "        return self.merge(left, right)\n",
    "       \n",
    "    ########### merge two sorted linked lists ###########\n",
    "    def merge(self, l1, l2):\n",
    "        if not l1: return l2\n",
    "        if not l2: return l1\n",
    "        \n",
    "        dummy = cur = ListNode(None)\n",
    "        while l1 and l2:\n",
    "            if l1.val < l2.val:\n",
    "                cur.next = l1\n",
    "                l1 = l1.next\n",
    "            else:\n",
    "                cur.next = l2\n",
    "                l2 = l2.next\n",
    "            cur = cur.next\n",
    "        cur.next = l1 or l2\n",
    "        return dummy.next"
   ]
  }
 ],
 "metadata": {
  "kernelspec": {
   "display_name": "Python 2",
   "language": "python",
   "name": "python2"
  },
  "language_info": {
   "codemirror_mode": {
    "name": "ipython",
    "version": 2
   },
   "file_extension": ".py",
   "mimetype": "text/x-python",
   "name": "python",
   "nbconvert_exporter": "python",
   "pygments_lexer": "ipython2",
   "version": "2.7.13"
  },
  "toc": {
   "nav_menu": {},
   "number_sections": true,
   "sideBar": true,
   "skip_h1_title": true,
   "toc_cell": true,
   "toc_position": {
    "height": "805px",
    "left": "0px",
    "right": "1084.28px",
    "top": "67px",
    "width": "182px"
   },
   "toc_section_display": "block",
   "toc_window_display": false
  }
 },
 "nbformat": 4,
 "nbformat_minor": 2
}

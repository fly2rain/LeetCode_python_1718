{
 "cells": [
  {
   "cell_type": "markdown",
   "metadata": {
    "toc": true
   },
   "source": [
    "<h1>Table of Contents<span class=\"tocSkip\"></span></h1>\n",
    "<div class=\"toc\" style=\"margin-top: 1em;\"><ul class=\"toc-item\"><li><span><a href=\"#242.-Valid-Anagram-(easy)\" data-toc-modified-id=\"242.-Valid-Anagram-(easy)-1\"><span class=\"toc-item-num\">1&nbsp;&nbsp;</span>242. Valid Anagram (easy)</a></span><ul class=\"toc-item\"><li><span><a href=\"#INFO\" data-toc-modified-id=\"INFO-1.1\"><span class=\"toc-item-num\">1.1&nbsp;&nbsp;</span>INFO</a></span></li><li><span><a href=\"#Algorithms\" data-toc-modified-id=\"Algorithms-1.2\"><span class=\"toc-item-num\">1.2&nbsp;&nbsp;</span>Algorithms</a></span></li><li><span><a href=\"#经验总结:\" data-toc-modified-id=\"经验总结:-1.3\"><span class=\"toc-item-num\">1.3&nbsp;&nbsp;</span>经验总结:</a></span></li></ul></li><li><span><a href=\"#Five-Sliding-Window-Alg-to-solve-all-the-substring-search-problem\" data-toc-modified-id=\"Five-Sliding-Window-Alg-to-solve-all-the-substring-search-problem-2\"><span class=\"toc-item-num\">2&nbsp;&nbsp;</span>Five Sliding Window Alg to solve all the substring search problem</a></span><ul class=\"toc-item\"><li><span><a href=\"#3.-Longest-Substring-Without-Repeating-Characters-(Medium)\" data-toc-modified-id=\"3.-Longest-Substring-Without-Repeating-Characters-(Medium)-2.1\"><span class=\"toc-item-num\">2.1&nbsp;&nbsp;</span>3. Longest Substring Without Repeating Characters (Medium)</a></span></li><li><span><a href=\"#待解决-30.-Substring-with-Concatenation-of-All-Words-(Hard)\" data-toc-modified-id=\"待解决-30.-Substring-with-Concatenation-of-All-Words-(Hard)-2.2\"><span class=\"toc-item-num\">2.2&nbsp;&nbsp;</span>待解决 30. Substring with Concatenation of All Words (Hard)</a></span></li><li><span><a href=\"#76.-Minimum-Window-Substring-(Hard)\" data-toc-modified-id=\"76.-Minimum-Window-Substring-(Hard)-2.3\"><span class=\"toc-item-num\">2.3&nbsp;&nbsp;</span>76. Minimum Window Substring (Hard)</a></span></li><li><span><a href=\"#159.-Longest-Substring-with-At-Most-Two-Distinct-Characters-(Hard)\" data-toc-modified-id=\"159.-Longest-Substring-with-At-Most-Two-Distinct-Characters-(Hard)-2.4\"><span class=\"toc-item-num\">2.4&nbsp;&nbsp;</span>159. Longest Substring with At Most Two Distinct Characters (Hard)</a></span></li><li><span><a href=\"#438.-Find-All-Anagrams-in-a-String-(easy)\" data-toc-modified-id=\"438.-Find-All-Anagrams-in-a-String-(easy)-2.5\"><span class=\"toc-item-num\">2.5&nbsp;&nbsp;</span>438. Find All Anagrams in a String (easy)</a></span></li></ul></li></ul></div>"
   ]
  },
  {
   "cell_type": "markdown",
   "metadata": {},
   "source": [
    "# 1. String Anagram\n",
    "\n",
    "## 242. Valid Anagram (easy)\n",
    "### INFO\n",
    "* 题意: 相同字母异序词 https://leetcode.com/problems/valid-anagram/description/\n",
    "* 分析: 有相同数量的字母, 有相同的字母, 只是顺序不一样而已.\n",
    "* 两种思路:\n",
    "    * sorted 之后, 再逐个查看. runtime $O(n\\log n)$, space complexity $O(1)$\n",
    "    * 利用 hash-table. runtime $O(n)$, space complexity $O(1)$, 可认为字母种类有限不多.\n",
    "    \n",
    "### Algorithms"
   ]
  },
  {
   "cell_type": "code",
   "execution_count": null,
   "metadata": {
    "collapsed": true
   },
   "outputs": [],
   "source": [
    "class Solution(object):\n",
    "    ## Th best algorithm, clean, short and compact. \n",
    "    ## Alg#2 use hash-table ##########\n",
    "    def isAnagram_1 (self, s, t):\n",
    "        \"\"\"\n",
    "        :type s: str\n",
    "        :type t: str\n",
    "        :rtype: bool\n",
    "        \"\"\"\n",
    "        if not len (s) == len(t):\n",
    "            return False\n",
    "        \n",
    "        dic = {}\n",
    "        for x in s:\n",
    "            dic[x] = dic.get (x, 0) + 1\n",
    "            \n",
    "        for x in t:\n",
    "            dic[x] = dic.get(x, 0) - 1\n",
    "            if dic[x] < 0:\n",
    "                return False   \n",
    "        return True\n",
    "    \n",
    "    ## Alg#1 use hash-table ##########\n",
    "    def isAnagram_1 (self, s, t):\n",
    "        \"\"\"\n",
    "        :type s: str\n",
    "        :type t: str\n",
    "        :rtype: bool\n",
    "        \"\"\"\n",
    "        if not len (s) == len(t):\n",
    "            return False\n",
    "        \n",
    "        dic = { }\n",
    "        cnt = 0\n",
    "        for x in s:\n",
    "            dic[x] = dic.get (x, 0) + 1\n",
    "                \n",
    "        for x in t:\n",
    "            # 有且相同数量\n",
    "            ## 原先 x in dic and dic[x] >= 0 是错的\n",
    "            ## 这个 x in dic and dic[x] > 0 才是对的\n",
    "            if x in dic: \n",
    "                dic[x] -= 1 \n",
    "            else:\n",
    "                return False\n",
    "        \n",
    "            if dic[x] < 0:\n",
    "                return False\n",
    "        return True        \n",
    "    ## Alg#3 find it after sorting ##########\n",
    "    def isAnagram_3 (self, s, t):\n",
    "        if not len(s) == len(t):\n",
    "            return False\n",
    "        \n",
    "        s = sorted (s)\n",
    "        t = sorted (t)\n",
    "        for i in xrange (len(s)):\n",
    "            if not s[i] == t[i]:\n",
    "                return False\n",
    "        return True\n"
   ]
  },
  {
   "cell_type": "markdown",
   "metadata": {},
   "source": [
    "### 经验总结:\n",
    "下述等价表述\n",
    "```python\n",
    "if x in dic:\n",
    "   dic[x] += 1\n",
    "else:\n",
    "   dic[x] = 1\n",
    "  \n",
    "## 等价于下述表述, 非常明智而又简洁的表述\n",
    "dic[x] = dic.get (x, 0) + 1 \n",
    "```\n",
    "\n",
    "string 没有 sort () 成员函数, 但是可以使用 sorted () 排序"
   ]
  },
  {
   "cell_type": "code",
   "execution_count": 1,
   "metadata": {},
   "outputs": [
    {
     "name": "stdout",
     "output_type": "stream",
     "text": [
      "['a', 'a', 'a', 'b', 'd', 'd', 'f', 'j', 'j', 'k', 'k', 'l']\n"
     ]
    },
    {
     "ename": "AttributeError",
     "evalue": "'str' object has no attribute 'sort'",
     "output_type": "error",
     "traceback": [
      "\u001b[0;31m---------------------------------------------------------------------------\u001b[0m",
      "\u001b[0;31mAttributeError\u001b[0m                            Traceback (most recent call last)",
      "\u001b[0;32m<ipython-input-1-ff0577b35e2b>\u001b[0m in \u001b[0;36m<module>\u001b[0;34m()\u001b[0m\n\u001b[1;32m      1\u001b[0m \u001b[0mxx\u001b[0m \u001b[0;34m=\u001b[0m \u001b[0;34m'abkdjakfjdla'\u001b[0m\u001b[0;34m\u001b[0m\u001b[0m\n\u001b[1;32m      2\u001b[0m \u001b[0;32mprint\u001b[0m \u001b[0msorted\u001b[0m \u001b[0;34m(\u001b[0m\u001b[0mxx\u001b[0m\u001b[0;34m)\u001b[0m\u001b[0;34m\u001b[0m\u001b[0m\n\u001b[0;32m----> 3\u001b[0;31m \u001b[0mxx\u001b[0m\u001b[0;34m.\u001b[0m\u001b[0msort\u001b[0m \u001b[0;34m(\u001b[0m\u001b[0;34m)\u001b[0m\u001b[0;34m\u001b[0m\u001b[0m\n\u001b[0m\u001b[1;32m      4\u001b[0m \u001b[0;32mprint\u001b[0m \u001b[0mxx\u001b[0m\u001b[0;34m\u001b[0m\u001b[0m\n",
      "\u001b[0;31mAttributeError\u001b[0m: 'str' object has no attribute 'sort'"
     ]
    }
   ],
   "source": [
    "xx = 'abkdjakfjdla'\n",
    "print sorted (xx)\n",
    "xx.sort () ## 'str' object has no attribute 'sort'\n",
    "print xx"
   ]
  },
  {
   "cell_type": "markdown",
   "metadata": {},
   "source": [
    "## Five Sliding Window Alg to solve all the substring search problem\n",
    "Substring sliding window 问题总结在如下网页中 https://leetcode.com/problems/find-all-anagrams-in-a-string/discuss/92007, 总共包含5题下:\n",
    "* [3. Longest Substring Without Repeating Characters](https://leetcode.com/problems/longest-substring-without-repeating-characters/)\n",
    "* [30. Substring with Concatenation of All Words](https://leetcode.com/problems/substring-with-concatenation-of-all-words/)\n",
    "* [76. Minimum Window Substring](https://leetcode.com/problems/minimum-window-substring/)\n",
    "* [159. Longest Substring with At Most Two Distinct Characters]( https://leetcode.com/problems/longest-substring-with-at-most-two-distinct-characters/)\n",
    "* [438. Find All Anagrams in a String](https://leetcode.com/problems/find-all-anagrams-in-a-string/)"
   ]
  },
  {
   "cell_type": "markdown",
   "metadata": {},
   "source": [
    "### 3. Longest Substring Without Repeating Characters (Medium) \n",
    "* 题意 https://leetcode.com/problems/longest-substring-without-repeating-characters/\n",
    "    * Given a string, find the length of the longest substring without repeating characters.\n",
    "    * Exp: Given \"abcabcbb\", the answer is \"abc\", which the length is 3.\n",
    "* 解题思路:\n",
    "    * Two points: \n",
    "        * 总是有一个 index 标记当前位置,\n",
    "        * 另一个 index 表示 forget 的位置,\n",
    "        * 两个 index 之间是目标区域     \n",
    "    * 标准答案来自于网页: https://leetcode.com/problems/longest-substring-without-repeating-characters/solution/"
   ]
  },
  {
   "cell_type": "code",
   "execution_count": 47,
   "metadata": {},
   "outputs": [
    {
     "name": "stdout",
     "output_type": "stream",
     "text": [
      "3\n",
      "1\n",
      "3\n",
      "5\n"
     ]
    }
   ],
   "source": [
    "# 标准答案来自于网页, 网页中是 java code.\n",
    "# https://leetcode.com/problems/longest-substring-without-repeating-characters/solution/\n",
    "# 107 ms\n",
    "class Solution(object):\n",
    "    def lengthOfLongestSubstring(self, s):\n",
    "        \"\"\"\n",
    "        :type s: str\n",
    "        :rtype: int\n",
    "        \"\"\"\n",
    "        dic = {}\n",
    "        l = maxCnt = 0\n",
    "        \n",
    "        # Two points: left point & right point ----------------\n",
    "        for r, x in enumerate (s):\n",
    "            if x in dic: # 如果已经出现过, 更新 left index\n",
    "                l = max( dic[x], l )\n",
    "            # 如果没有出现过, 更新 maxCnt 和 dictionary\n",
    "            maxCnt = max(maxCnt, r - l + 1) # 更新的是数字, 而非 index\n",
    "            dic[x] = r + 1 # 更新的是计数而非index, 输出是计数, 一定要统一.\n",
    "\n",
    "        return maxCnt \n",
    "    \n",
    "#### Tesing ############\n",
    "print Solution().lengthOfLongestSubstring ( \"abcabcbb\" ) ## should be 3\n",
    "print Solution().lengthOfLongestSubstring ( \"bbbbb\" )   ## should be 1\n",
    "print Solution().lengthOfLongestSubstring ( \"pwwkew\" )  ## should be 3\n",
    "print Solution().lengthOfLongestSubstring ( \"tmmzuxt\" ) ## should be 4"
   ]
  },
  {
   "cell_type": "code",
   "execution_count": 2,
   "metadata": {},
   "outputs": [
    {
     "name": "stdout",
     "output_type": "stream",
     "text": [
      "3\n",
      "1\n",
      "3\n"
     ]
    }
   ],
   "source": [
    "# 这一题和 159 题写得非常类似, 可以参考.\n",
    "class Solution(object):\n",
    "    def lengthOfLongestSubstring(self, s):\n",
    "        \"\"\"\n",
    "        :type s: str\n",
    "        :rtype: int\n",
    "        \"\"\"\n",
    "        if not s: return 0\n",
    "        \n",
    "        rst = 0\n",
    "        dic = {}\n",
    "        l = cnt = 0\n",
    "        for r, x in enumerate (s):\n",
    "            dic[x] = dic.get(x, 0) + 1\n",
    "            if dic[x] > 1: # 表明存在 duplicate\n",
    "                cnt += 1\n",
    "                \n",
    "            if not cnt: # 不存在 duplicate \n",
    "                rst = max(rst, r + 1 -l)\n",
    "                    \n",
    "            while cnt: # 移动 l, 去除 duplicate\n",
    "                y = s[l]\n",
    "                if dic[y] > 1: cnt -=1 \n",
    "                dic[y] -= 1\n",
    "                l += 1\n",
    "                    \n",
    "        return rst           \n",
    "                    \n",
    "#### Tesing ############\n",
    "print Solution().lengthOfLongestSubstring ( \"abcabcbb\" ) ## should be 3\n",
    "print Solution().lengthOfLongestSubstring ( \"bbbbb\" ) ## should be 1\n",
    "print Solution().lengthOfLongestSubstring ( \"pwwkew\" ) ## should be 3"
   ]
  },
  {
   "cell_type": "markdown",
   "metadata": {},
   "source": [
    "### 待解决 30. Substring with Concatenation of All Words (Hard)\n",
    "##### 题意: https://leetcode.com/problems/substring-with-concatenation-of-all-words/\n",
    "* 找到满足条件的 sub-string, which is <span class=\"girk\">a concatenation of each word</span> in words <span class=\"girk\">exactly once</span> and <span class=\"girk\">without any intervening characters</span>.\n",
    "* For example, given:\n",
    "    * s: \"barfoothefoobarman\"\n",
    "    * words: [\"foo\", \"bar\"]\n",
    "    * You should return the indices: [0,9].\n",
    "* 注意事项: (1) words 顺序不重要, (2) 每个 word 只能出现一回, (3) 每个 word 具有相同的长度.\n",
    "\n",
    "##### 标准答案 (答案太难, 回头再看)\n",
    "* python 答案: https://leetcode.com/problems/substring-with-concatenation-of-all-words/discuss/13667\n",
    "* c++ 答案: https://leetcode.com/problems/substring-with-concatenation-of-all-words/discuss/13656"
   ]
  },
  {
   "cell_type": "code",
   "execution_count": 20,
   "metadata": {},
   "outputs": [
    {
     "name": "stdout",
     "output_type": "stream",
     "text": [
      "2\n",
      "hello 1\n",
      "hello 0\n",
      "hello\n",
      "hello 1\n",
      "hello 0\n",
      "hello\n",
      "['barf', 'hefoob']\n"
     ]
    }
   ],
   "source": [
    "class Solution(object):\n",
    "    def findSubstring(self, s, words):\n",
    "        \"\"\"\n",
    "        :type s: str\n",
    "        :type words: List[str]\n",
    "        :rtype: List[int]\n",
    "        \"\"\"\n",
    "        rst = []\n",
    "        ns, nw, lw = len(s), len(words), len(words[0])\n",
    "        if ns < nw*lw or nw*lw == 0:\n",
    "            return rst\n",
    "        \n",
    "        dic = {}\n",
    "        for x in words:\n",
    "            dic[x] = dic.get(x,0) + 1\n",
    "            \n",
    "        l, cnt = 0, nw\n",
    "        print cnt\n",
    "        for r in xrange (ns-lw):\n",
    "            # 1 满足, 则更新 left point\n",
    "            if r - l == nw * lw:\n",
    "                x = s[l:l+lw]\n",
    "                if x in dic:\n",
    "                    if dic[x] >= 0:\n",
    "                        cnt  += 1\n",
    "                    dic[x] += 1\n",
    "                l += 1  \n",
    "                \n",
    "            # 2 \n",
    "            x = s[r:r+lw]\n",
    "            if x in dic:\n",
    "                if dic[x] >= 1:\n",
    "                    cnt -= 1 \n",
    "                dic[x] -= 1\n",
    "                print 'hell\n",
    "                o', cnt\n",
    "                \n",
    "            if cnt == 0 and :\n",
    "                print 'hello'\n",
    "                rst.append (s[l:r+1])\n",
    "                \n",
    "        return rst\n",
    "    \n",
    "#### Tesing ############\n",
    "print Solution().findSubstring ( \"barfoothefoobarman\", [\"foo\", \"bar\"] ) ## should be 3\n",
    "# print Solution().lengthOfLongestSubstring ( \"bbbbb\" ) ## should be 1\n",
    "# print Solution().lengthOfLongestSubstring ( \"pwwkew\" ) ## should be 3   "
   ]
  },
  {
   "cell_type": "markdown",
   "metadata": {},
   "source": [
    "### 76. Minimum Window Substring (Hard)\n",
    "##### 题意: https://leetcode.com/problems/minimum-window-substring/description/\n",
    "* Given a string S and a string T, find the minimum window in S which will contain all the characters in T in complexity $O(n)$.\n",
    "* Exp: S = \"ADOBECODEBANC\", T = \"ABC\", Minimum window is \"BANC\".\n",
    "* Note that: (1) 如果 S 不包含 T, 输出空 string \"\".  (2) 如果存在,保证唯一存在性. \n",
    "\n",
    "##### 解题答案 https://leetcode.com/problems/minimum-window-substring/discuss/26808\n",
    "* 提供了清晰的解题答案 以及 解决这类问题的模板.\n",
    "* 首先看针对这题的答案, 然后查看解决这类问题的模板.\n",
    "    * Use <span class=\"girk\">two pointers</span>: start and end to represent a window.\n",
    "    * Move end to <span class=\"girk\">find a valid window</span>.\n",
    "    * When a <span class=\"girk\">valid window</span> is found, move start to find a smaller window."
   ]
  },
  {
   "cell_type": "code",
   "execution_count": 2,
   "metadata": {},
   "outputs": [
    {
     "name": "stdout",
     "output_type": "stream",
     "text": [
      "BANC\n"
     ]
    }
   ],
   "source": [
    "class Solution(object):\n",
    "    def minWindow(self, s, t):\n",
    "        \"\"\"\n",
    "        :type s: str\n",
    "        :type t: str\n",
    "        :rtype: str\n",
    "        \"\"\"\n",
    "        rst    = ''\n",
    "        ns, nt = len(s), len(t)\n",
    "        if ns < nt or nt == 0: # basic case\n",
    "            return rst\n",
    "        \n",
    "        dic = {} # construct the dictionary for the target string\n",
    "        for x in t:\n",
    "            dic[x] = dic.get (x, 0) + 1\n",
    "        \n",
    "        l = r = 0 # two points\n",
    "        cnt, minLen = nt, ns\n",
    "        for r, x in enumerate (s): # 如果cnt不等于零, 右边边界r每次增加一个.\n",
    "            \n",
    "            dic[x] = dic.get(x, 0) - 1\n",
    "            if dic[x] >= 0: cnt -= 1 # >= 0 表明已经出现过\n",
    "            \n",
    "            while cnt == 0: # 如果满足条件, 则增加左边边界 l \n",
    "                if r - l < minLen: # ❎ 就是 r - l 而不是 r + l + 1\n",
    "                    minLen = r - l # ❎ 更新最终 rst 和 move l 都应该在 while 循环中以内. 之前把这一块放在外面了.\n",
    "                    rst = s[l:r+1] # ❎ 注意 r 和 l 都是 index, 所以右边 r + 1\n",
    "                    \n",
    "                y = s[l]        \n",
    "                if dic[y] >= 0: cnt += 1\n",
    "                dic[y] += 1\n",
    "                l += 1\n",
    "        return rst \n",
    "    \n",
    "#### Tesing ############\n",
    "print Solution().minWindow ( \"ADOBECODEBANC\", \"ABC\")"
   ]
  },
  {
   "cell_type": "markdown",
   "metadata": {},
   "source": [
    "* <span class=\"burk\">find substring templates: 非常重要, 把这一类题目的 general 解题方案抽取出来</span> "
   ]
  },
  {
   "cell_type": "code",
   "execution_count": null,
   "metadata": {
    "collapsed": true
   },
   "outputs": [],
   "source": [
    "def findSubString (s):\n",
    "    \"\"\"\n",
    "    :type s: str\n",
    "    :rtype: str\n",
    "    \"\"\"\n",
    "\n",
    "    cnt = 0 # check whether the substring is valid\n",
    "    l = r = 0 # two pointers, one point to tail and one  head\n",
    "    extLen the length of substring\n",
    "    \n",
    "    dic = {}\n",
    "    for :\n",
    "        # initialize the hash map here\n",
    "        \n",
    "    for r, x in enumerate (s):\n",
    "        if dic[x] ?: # 满足什么天津\n",
    "            # modify counter here\n",
    "            \n",
    "        while ?: # counter condition\n",
    "            # update d here if finding minimum\n",
    "            \n",
    "            if dic[s[l]] ?  # modify counter here\n",
    "            \n",
    "            # increase begin to make it invalid/valid again\n",
    "        \n",
    "        return some thing;"
   ]
  },
  {
   "cell_type": "markdown",
   "metadata": {},
   "source": [
    "* 以下是我自己的 code, 大致写对了, 但有点不清楚, 还是对照以上答案 code 比较好一点."
   ]
  },
  {
   "cell_type": "markdown",
   "metadata": {},
   "source": [
    "### 159. Longest Substring with At Most Two Distinct Characters (Hard)\n",
    "##### 题意 https://leetcode.com/problems/longest-substring-with-at-most-two-distinct-characters/description/\n",
    "* Given a string, find the length of the <span class=\"girk\">longest substring</span> T that contains <span class=\"girk\">at most 2 distinct characters</span>.\n",
    "* For example, Given s = “eceba”, T is \"ece\" which its length is 3.\n",
    "* 分析: \n",
    "    * T 中最多有2个不同的 characters, 感觉还是 two-point 的问题, r 每次都更新, 一旦不满足什么条件, 我们需要不断更新 l.\n",
    "\n",
    "##### "
   ]
  },
  {
   "cell_type": "code",
   "execution_count": null,
   "metadata": {
    "collapsed": true
   },
   "outputs": [],
   "source": [
    "# bug-free, AC @ Leetcode 1/22/18 8:12 PM \n",
    "\n",
    "class Solution(object):\n",
    "    def lengthOfLongestSubstringTwoDistinct(self, s):\n",
    "        \"\"\"\n",
    "        :type s: str\n",
    "        :rtype: int\n",
    "        \"\"\"\n",
    "        if not s: return 0\n",
    "        \n",
    "        dic = {}\n",
    "        l = cnt = maxLen = 0\n",
    "        for r, x in enumerate (s):\n",
    "            dic[x] = dic.get(x, 0) + 1\n",
    "            cnt += (dic[x] == 1) # ❎ 没有使用 dic[x] == 1 的条件.\n",
    "            \n",
    "            if cnt <= 2:\n",
    "                maxLen = max(maxLen, r - l + 1)\n",
    "                \n",
    "            while cnt > 2:\n",
    "                y = s[l]\n",
    "                if dic[y] == 1: cnt -= 1 # ❎ 和上面类似 没有使用上述了解, 及其怀疑这两个条件是对应一致的.\n",
    "                dic[y] -= 1\n",
    "                l += 1\n",
    "                \n",
    "        return maxLen"
   ]
  },
  {
   "cell_type": "code",
   "execution_count": 15,
   "metadata": {},
   "outputs": [
    {
     "name": "stdout",
     "output_type": "stream",
     "text": [
      "3\n",
      "2\n"
     ]
    }
   ],
   "source": [
    "class Solution(object):\n",
    "    def lengthOfLongestSubstringTwoDistinct(self, s):\n",
    "        \"\"\"\n",
    "        :type s: str\n",
    "        :rtype: int\n",
    "        \"\"\"\n",
    "        rst, ns, MAX_DIST = 0, len(s), 2 # 定义关键参数 和 output 参数\n",
    "        if not ns: # basic cases \n",
    "            return rst\n",
    "        \n",
    "        dic = {}\n",
    "        l   = cnt = 0 # l point, cnt 表示 dictinct 字母的个数.\n",
    "        for r, x in enumerate (s):            \n",
    "            ## 1 构建 dictionary 记录 sliding window 中的字母情况.\n",
    "            dic[x] = dic.get(x,0) + 1\n",
    "            if dic[x] == 1: # 表明存在新来的字母, 所以赶紧更新 distinct 字母的个数. \n",
    "                cnt += 1\n",
    "                \n",
    "            ## 2 如果不满条件, 极速更新 left point ----------\n",
    "            while cnt > MAX_DIST: \n",
    "                if dic[s[l]] == 1: ## 准备 pop l point letter, \n",
    "                    cnt -= 1\n",
    "                dic[s[l]] -= 1\n",
    "                l += 1\n",
    "                \n",
    "            # 经过步骤2的处理, cnt <= MAX_DIST 肯定满足, 因此更新长度.\n",
    "            ## 3 更新最终结果 ---------- \n",
    "            rst = max (rst, r - l + 1) # 从 index 模式转化成 计数模式, 需要 + 1. 因为\n",
    "            # index 模式中 0 表示计数模式中的 1, 因此我们需要对最终的结果 +1\n",
    "\n",
    "        return rst\n",
    "    \n",
    "#### Tesing ############\n",
    "print Solution ().lengthOfLongestSubstringTwoDistinct ( \"eceba\" )\n",
    "print Solution ().lengthOfLongestSubstringTwoDistinct ( \"abc\" )"
   ]
  },
  {
   "cell_type": "markdown",
   "metadata": {},
   "source": [
    "### 438. Find All Anagrams in a String (easy)\n",
    "##### 题意: https://leetcode.com/problems/find-all-anagrams-in-a-string/description/\n",
    "* 两个 string, 找到 string 1 中所有 substring 的 anagrams, output 这些位置.\n",
    "* 举例 Input: s: \"cbaebabacd\" p: \"abc\", Output: [0, 6]\n",
    "\n",
    "##### 分析: \n",
    "* 最朴素的想法 compare every substrings of string s with string p.\n",
    "* 两种思路:\n",
    "    * 利用 hash-table, runtime $O(nm)$, space complexity $O(m)$, where $n$ is the size of s, $m$ is the size of p. 竟然超过时间了.\n",
    "    * two point 法. runtime $O(n)$, space complexity $O(1)$, 因为字母是有限个, 点过 256 个.\n",
    "    \n",
    "##### 答案:\n",
    "* https://www.youtube.com/watch?v=lFG63nc9zrQ\n",
    "* https://leetcode.com/problems/find-all-anagrams-in-a-string/discuss/92007 顺便解决类似的 sliding window 的类似问题.\n",
    "* https://www.geeksforgeeks.org/anagram-substring-search-search-permutations/\n",
    "* 疑问: \n",
    "* 使用 char 比如'a' 如何 index list??"
   ]
  },
  {
   "cell_type": "code",
   "execution_count": 1,
   "metadata": {},
   "outputs": [
    {
     "name": "stdout",
     "output_type": "stream",
     "text": [
      "[0, 1, 2]\n",
      "[0, 6]\n",
      "[1]\n"
     ]
    }
   ],
   "source": [
    "#### 方法 1: sliding window, runtime O(n), space complexity O(1) 因为英文字母有限.\n",
    "# 非常精巧的方法: https://www.youtube.com/watch?v=lFG63nc9zrQ\n",
    "class Solution(object):\n",
    "    def findAnagrams(self, s, p):\n",
    "        \"\"\"\n",
    "        :type s: str\n",
    "        :type p: str\n",
    "        :rtype: List[int]\n",
    "        \"\"\"\n",
    "        rst = []\n",
    "        ns, np = len (s), len(p)\n",
    "        \n",
    "        # 满足这三个条件中的一个, 提前结束\n",
    "        if np > ns or np == 0 or ns == 0:\n",
    "            return rst\n",
    "        \n",
    "        # 构建 pattern 的 dictionary, 虽然在 c++/java 可以使用 list, 但 python 还是 dicitonary 最方便.\n",
    "        dic = {}\n",
    "        for x in p:\n",
    "            dic[x] = dic.get(x,0) + 1\n",
    "            \n",
    "        l, cnt = 0, np\n",
    "        for r, x in enumerate (s):\n",
    "            # 1 更新 left point, 进而影响 cnt\n",
    "            if r - l == np:\n",
    "                if dic[s[l]] >= 0:\n",
    "                    cnt += 1\n",
    "                dic[s[l]] += 1\n",
    "                l += 1\n",
    "            \n",
    "            # 2: 如果出现过, 则 cnt -= 1, 则剩下的\n",
    "            dic[x] = dic.get(x, 0) - 1\n",
    "            if dic[x] >= 0:\n",
    "                cnt -= 1\n",
    "                \n",
    "            # 3: cnt == 0 表明已经包含 p 的所有元素, 记录下来开始的位置.\n",
    "            if cnt == 0:\n",
    "                rst.append (l)\n",
    "                \n",
    "        return rst            \n",
    "            \n",
    "#### Tesing ############\n",
    "print Solution().findAnagrams ( \"abab\", \"ab\")\n",
    "print Solution().findAnagrams ( \"cbaebabacd\", \"abc\")\n",
    "print Solution().findAnagrams ( \"baa\", \"aa\")"
   ]
  },
  {
   "cell_type": "code",
   "execution_count": 12,
   "metadata": {},
   "outputs": [
    {
     "name": "stdout",
     "output_type": "stream",
     "text": [
      "[0, 1, 2]\n",
      "[0, 6]\n"
     ]
    }
   ],
   "source": [
    "#### 方法2 (超时了): 构建 pattern 的 hash table, 将 s 的逐个片段和 hash table 对比. \n",
    "class Solution(object):\n",
    "    def findAnagrams(self, s, p):\n",
    "        \"\"\"\n",
    "        :type s: str\n",
    "        :type p: str\n",
    "        :rtype: List[int]\n",
    "        \"\"\"\n",
    "        rst = []\n",
    "        ns, np = len(s), len(p)\n",
    "        if np > ns:\n",
    "            return rst\n",
    "        \n",
    "        # 构造 sub-string 的 dictionary.\n",
    "        dic = {}\n",
    "        for x in p:\n",
    "            dic[x] = dic.get(x, 0) + 1\n",
    "            \n",
    "        for i in xrange (ns - np + 1):\n",
    "             if self.isAnagrams (s[i:np+i], dic.copy() ):\n",
    "                    rst.append (i)\n",
    "        return rst\n",
    "                    \n",
    "    def isAnagrams (self, xxx, dicp):\n",
    "        for x in xxx:\n",
    "            dicp[x] = dicp.get(x, 0) - 1\n",
    "            if dicp[x] < 0:\n",
    "                return False\n",
    "        return True\n",
    "    \n",
    "    \n",
    "#### Tesing ############\n",
    "print Solution().findAnagrams ( \"abab\", \"ab\")\n",
    "print Solution().findAnagrams ( \"cbaebabacd\", \"abc\")\n",
    "\n",
    "                    \n",
    "                "
   ]
  }
 ],
 "metadata": {
  "kernelspec": {
   "display_name": "Python 2",
   "language": "python",
   "name": "python2"
  },
  "language_info": {
   "codemirror_mode": {
    "name": "ipython",
    "version": 2
   },
   "file_extension": ".py",
   "mimetype": "text/x-python",
   "name": "python",
   "nbconvert_exporter": "python",
   "pygments_lexer": "ipython2",
   "version": "2.7.13"
  },
  "toc": {
   "nav_menu": {},
   "number_sections": true,
   "sideBar": true,
   "skip_h1_title": true,
   "toc_cell": true,
   "toc_position": {
    "height": "556px",
    "left": "0px",
    "right": "914.2px",
    "top": "68px",
    "width": "124px"
   },
   "toc_section_display": "block",
   "toc_window_display": true
  }
 },
 "nbformat": 4,
 "nbformat_minor": 2
}

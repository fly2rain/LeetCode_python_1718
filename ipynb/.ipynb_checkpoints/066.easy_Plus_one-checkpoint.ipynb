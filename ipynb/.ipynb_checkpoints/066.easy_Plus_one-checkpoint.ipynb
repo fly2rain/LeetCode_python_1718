{
 "cells": [
  {
   "cell_type": "markdown",
   "metadata": {},
   "source": [
    "# 066.Plus_one_easy\n",
    "### 链接\n",
    "\n",
    "* 题目：https://leetcode.com/problems/plus-one/description/\n",
    "\n",
    "### 题意\n",
    "非负整数表示为list，最重要的位在 list 的开头。假设除了 0，第一位不能为 0.\n",
    "\n",
    "### 分析\n",
    "* 方法一：最直接的方法是讲 list 转化成整数，加完1后得到新的整数，然后再转化为 list。但是该方法的复杂度较高 O( log(D) ), 这里 D 表示数值大小。\n",
    "* 方法二：对 list 直接加1。出现两个问题：第一，最重要位在list 开头，需要 index 倒序；第二，最开头位如果满位，需要在开头加一位。\n",
    "\n",
    "### 开始编程前询问：\n",
    "* 原来这里 digit 和 int 是不是按照10进制的，这里是按照2进制的。\n",
    "\n",
    "### 编程经验\n",
    "在python中，判断空 list 的两种方法：\n",
    "``` python\n",
    "# 方法1: 空的列表相当于false，直接在相关语句中使用即可\n",
    "if alist: \n",
    "    # 列表不为空\n",
    "else:\n",
    "    # 列表为空\n",
    "    \n",
    "# 方法2: 使用len()函数\n",
    "if 0 == len( alist ): \n",
    "    #列表为空\n",
    "```\n",
    "\n",
    "关于 list insert 的有意思用法\n",
    "```python\n",
    "# insert before the 1st element\n",
    "rst.insert (0, nums % 10 ) \n",
    "\n",
    "# the following two commands are equivalent.\n",
    "a.insert (len(a), x)\n",
    "a.append (x)\n",
    "```"
   ]
  },
  {
   "cell_type": "markdown",
   "metadata": {},
   "source": [
    "# Method # 1 --- 两重转化法 int2list, list2int"
   ]
  },
  {
   "cell_type": "code",
   "execution_count": 17,
   "metadata": {
    "collapsed": true
   },
   "outputs": [],
   "source": [
    "class Solution(object):\n",
    "    def plusOne(self, digits):\n",
    "        \"\"\"\n",
    "        :type digits: List[int]\n",
    "        :rtype: List[int]\n",
    "        \"\"\"\n",
    "        num = self.list2int (digits)\n",
    "        # print num\n",
    "        rst = self.int2list (num + 1)\n",
    "        return rst\n",
    "        \n",
    "    def int2list (self, num):\n",
    "        \"\"\"\n",
    "        :type num: int\n",
    "        :rtype List[int]\n",
    "        \"\"\"\n",
    "        rst = []\n",
    "        while num: # important 抓住整数的特性，0-9 / 10 == 0，个位数不满足该条件。\n",
    "            rst.insert (0, num % 10 ) # insert before the 1st element\n",
    "            num = num / 10\n",
    "        return rst            \n",
    "        \n",
    "    def list2int (self, digits):\n",
    "        \"\"\"\n",
    "        :type digits: List[int]\n",
    "        :rtype int\n",
    "        \"\"\"\n",
    "        rst = 0\n",
    "        if not digits: # 如果空list，马上返回\n",
    "            return rst\n",
    "        \n",
    "        for x in digits:\n",
    "            # key: 到底是 digit[::-1] 还是 digit 非常重要！ \n",
    "            rst = 10*rst + x\n",
    "        return rst        "
   ]
  },
  {
   "cell_type": "code",
   "execution_count": 18,
   "metadata": {},
   "outputs": [
    {
     "name": "stdout",
     "output_type": "stream",
     "text": [
      "10\n",
      "[1, 1]\n"
     ]
    }
   ],
   "source": [
    "if __name__ == \"__main__\":\n",
    "    print Solution().plusOne ([1, 0])"
   ]
  },
  {
   "cell_type": "markdown",
   "metadata": {},
   "source": [
    "# Method # 2：对 digits 直接加1"
   ]
  },
  {
   "cell_type": "code",
   "execution_count": 19,
   "metadata": {
    "collapsed": true
   },
   "outputs": [],
   "source": [
    "class Solution_2 (object):\n",
    "    def plusOne(self, digits):\n",
    "        \"\"\"\n",
    "        :type digits: List[int]\n",
    "        :rtype: List[int]\n",
    "        \"\"\"\n",
    "        nd = len (digits)\n",
    "        \n",
    "        for i in xrange (nd-1, -1, -1): # the index range here is also interesting\n",
    "            # key: the condition i > 0 is extremely important. The 1st digit is so special\n",
    "            if i > 0 and digits[i] + 1 == 10:\n",
    "            # -----------------------------------------------------\n",
    "                digits[i] = 0\n",
    "            else:\n",
    "                digits[i] += 1\n",
    "                break\n",
    "                 \n",
    "        if digits[0] == 10:\n",
    "            digits[0] = 0\n",
    "            digits.insert (0, 1)\n",
    "        \n",
    "        return digits   "
   ]
  },
  {
   "cell_type": "code",
   "execution_count": 20,
   "metadata": {},
   "outputs": [
    {
     "name": "stdout",
     "output_type": "stream",
     "text": [
      "[1, 1]\n"
     ]
    }
   ],
   "source": [
    "if __name__ == \"__main__\":\n",
    "    print Solution_2 ().plusOne ([1, 0])"
   ]
  },
  {
   "cell_type": "markdown",
   "metadata": {},
   "source": [
    "# Method #3 --- 类似于 Method #2，只是实现略有不同\n",
    "总结而言不同点有二：\n",
    "* 关于 for 循环的条件不一样\n",
    "* 最后对于首位 (即最后一个 if) 的处理不一样，该方法对问题想得更透彻"
   ]
  },
  {
   "cell_type": "code",
   "execution_count": 21,
   "metadata": {
    "collapsed": true
   },
   "outputs": [],
   "source": [
    "class Solution(object):\n",
    "    def plusOne (self, digits):\n",
    "        \"\"\"\n",
    "        :type digits: List[int]\n",
    "        :rtype: List[int]\n",
    "        \"\"\"\n",
    "        N = len (digits)\n",
    "    \n",
    "        for i in range (N-1,-1,-1):\n",
    "            \n",
    "            if digits[i] + 1 == 10:\n",
    "                digits[i] = 0\n",
    "            else:\n",
    "                digits[i] += 1 \n",
    "                return digits\n",
    "\n",
    "            if digits[0] == 0:\n",
    "                # method 2中是将第一位变为0，并在前插入1。这里的实现对问题理解更加透彻\n",
    "                digits[0] = 1\n",
    "                digits.append (0)\n",
    "\n",
    "        return digits"
   ]
  },
  {
   "cell_type": "code",
   "execution_count": 22,
   "metadata": {},
   "outputs": [
    {
     "name": "stdout",
     "output_type": "stream",
     "text": [
      "[1, 1]\n"
     ]
    }
   ],
   "source": [
    "if __name__ == \"__main__\":\n",
    "    print Solution_2 ().plusOne ([1, 0])"
   ]
  },
  {
   "cell_type": "code",
   "execution_count": null,
   "metadata": {
    "collapsed": true
   },
   "outputs": [],
   "source": [
    "class Solution(object):\n",
    "    def plusOne(self, digits):\n",
    "        \"\"\"\n",
    "        :type digits: List[int]\n",
    "        :rtype: List[int]\n",
    "        \"\"\"\n",
    "        tmp  = 1\n",
    "        for i in xrange( len(digits)-1, -1, -1 ):\n",
    "            s   = digits[i] + tmp\n",
    "            tmp = s / 10\n",
    "            digits[i] = s % 10\n",
    "            if not tmp:\n",
    "                return digits\n",
    "            \n",
    "        if  tmp:\n",
    "            digits.insert (0, tmp)\n",
    "            \n",
    "        return digits"
   ]
  }
 ],
 "metadata": {
  "kernelspec": {
   "display_name": "Python 2",
   "language": "python",
   "name": "python2"
  },
  "language_info": {
   "codemirror_mode": {
    "name": "ipython",
    "version": 2
   },
   "file_extension": ".py",
   "mimetype": "text/x-python",
   "name": "python",
   "nbconvert_exporter": "python",
   "pygments_lexer": "ipython2",
   "version": "2.7.13"
  }
 },
 "nbformat": 4,
 "nbformat_minor": 2
}

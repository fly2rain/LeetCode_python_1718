{
 "cells": [
  {
   "cell_type": "markdown",
   "metadata": {
    "toc": true
   },
   "source": [
    "<h1>Table of Contents<span class=\"tocSkip\"></span></h1>\n",
    "<div class=\"toc\"><ul class=\"toc-item\"><li><span><a href=\"#Heap\" data-toc-modified-id=\"Heap-1\"><span class=\"toc-item-num\">1&nbsp;&nbsp;</span>Heap</a></span><ul class=\"toc-item\"><li><span><a href=\"#❤️215.medium-Kth-Largest-Element-in-an-Array\" data-toc-modified-id=\"❤️215.medium-Kth-Largest-Element-in-an-Array-1.1\"><span class=\"toc-item-num\">1.1&nbsp;&nbsp;</span><a href=\"https://leetcode.com/problems/kth-largest-element-in-an-array/description/\" target=\"_blank\">❤️215.medium-Kth Largest Element in an Array</a></a></span></li><li><span><a href=\"#❤️378.medium-Kth-Smallest-Element-in-a-Sorted-Matrix\" data-toc-modified-id=\"❤️378.medium-Kth-Smallest-Element-in-a-Sorted-Matrix-1.2\"><span class=\"toc-item-num\">1.2&nbsp;&nbsp;</span><a href=\"https://leetcode.com/problems/kth-smallest-element-in-a-sorted-matrix/description/\" target=\"_blank\">❤️378.medium-Kth Smallest Element in a Sorted Matrix</a></a></span></li><li><span><a href=\"#347.medium-Top-K-Frequent-Elements\" data-toc-modified-id=\"347.medium-Top-K-Frequent-Elements-1.3\"><span class=\"toc-item-num\">1.3&nbsp;&nbsp;</span><a href=\"https://leetcode.com/problems/top-k-frequent-elements/description/\" target=\"_blank\">347.medium-Top K Frequent Elements</a></a></span></li><li><span><a href=\"#692.medium-Top-K-Frequent-Words\" data-toc-modified-id=\"692.medium-Top-K-Frequent-Words-1.4\"><span class=\"toc-item-num\">1.4&nbsp;&nbsp;</span><a href=\"https://leetcode.com/problems/top-k-frequent-words/description/\" target=\"_blank\">692.medium-Top K Frequent Words</a></a></span></li><li><span><a href=\"#23_hard-merge-k-Sorted-Lists\" data-toc-modified-id=\"23_hard-merge-k-Sorted-Lists-1.5\"><span class=\"toc-item-num\">1.5&nbsp;&nbsp;</span><a href=\"https://leetcode.com/problems/merge-k-sorted-lists/\" target=\"_blank\">23_hard-merge k Sorted Lists</a></a></span></li><li><span><a href=\"#239.hard-Sliding-Window-Maximum\" data-toc-modified-id=\"239.hard-Sliding-Window-Maximum-1.6\"><span class=\"toc-item-num\">1.6&nbsp;&nbsp;</span><a href=\"https://leetcode.com/problems/sliding-window-maximum/description/\" target=\"_blank\">239.hard-Sliding Window Maximum</a></a></span></li></ul></li><li><span><a href=\"#Dynamic-Programming\" data-toc-modified-id=\"Dynamic-Programming-2\"><span class=\"toc-item-num\">2&nbsp;&nbsp;</span>Dynamic Programming</a></span><ul class=\"toc-item\"><li><span><a href=\"#121.easy-Best-Time-to-Buy-and-Sell-Stock\" data-toc-modified-id=\"121.easy-Best-Time-to-Buy-and-Sell-Stock-2.1\"><span class=\"toc-item-num\">2.1&nbsp;&nbsp;</span><a href=\"https://leetcode.com/problems/best-time-to-buy-and-sell-stock/description/\" target=\"_blank\">121.easy-Best Time to Buy and Sell Stock</a></a></span></li><li><span><a href=\"#122.easy-Best-Time-to-Buy-and-Sell-Stock-II\" data-toc-modified-id=\"122.easy-Best-Time-to-Buy-and-Sell-Stock-II-2.2\"><span class=\"toc-item-num\">2.2&nbsp;&nbsp;</span><a href=\"https://leetcode.com/problems/best-time-to-buy-and-sell-stock-ii/description/\" target=\"_blank\">122.easy-Best Time to Buy and Sell Stock II</a></a></span></li><li><span><a href=\"#309.med-Best-Time-to-Buy-and-Sell-Stock-with-Cooldown\" data-toc-modified-id=\"309.med-Best-Time-to-Buy-and-Sell-Stock-with-Cooldown-2.3\"><span class=\"toc-item-num\">2.3&nbsp;&nbsp;</span><a href=\"https://leetcode.com/problems/best-time-to-buy-and-sell-stock-with-cooldown/description/\" target=\"_blank\">309.med-Best Time to Buy and Sell Stock with Cooldown</a></a></span></li><li><span><a href=\"#714.med-Best-Time-to-Buy-and-Sell-Stock-with-Transaction-Fee\" data-toc-modified-id=\"714.med-Best-Time-to-Buy-and-Sell-Stock-with-Transaction-Fee-2.4\"><span class=\"toc-item-num\">2.4&nbsp;&nbsp;</span><a href=\"https://leetcode.com/problems/best-time-to-buy-and-sell-stock-with-transaction-fee/description/\" target=\"_blank\">714.med-Best Time to Buy and Sell Stock with Transaction Fee</a></a></span></li><li><span><a href=\"#53.easy-Maximum-Subarray\" data-toc-modified-id=\"53.easy-Maximum-Subarray-2.5\"><span class=\"toc-item-num\">2.5&nbsp;&nbsp;</span><a href=\"https://leetcode.com/problems/maximum-subarray/description/\" target=\"_blank\">53.easy-Maximum Subarray</a></a></span></li><li><span><a href=\"#152.med-Maximum-Product-Subarray\" data-toc-modified-id=\"152.med-Maximum-Product-Subarray-2.6\"><span class=\"toc-item-num\">2.6&nbsp;&nbsp;</span><a href=\"https://leetcode.com/problems/maximum-product-subarray/description/\" target=\"_blank\">152.med-Maximum Product Subarray</a></a></span></li><li><span><a href=\"#70.easy-Climbing-Stairs\" data-toc-modified-id=\"70.easy-Climbing-Stairs-2.7\"><span class=\"toc-item-num\">2.7&nbsp;&nbsp;</span><a href=\"https://leetcode.com/problems/climbing-stairs/description/\" target=\"_blank\">70.easy-Climbing Stairs</a></a></span></li><li><span><a href=\"#❤️746.easy-Min-Cost-Climbing-Stairs\" data-toc-modified-id=\"❤️746.easy-Min-Cost-Climbing-Stairs-2.8\"><span class=\"toc-item-num\">2.8&nbsp;&nbsp;</span><a href=\"https://leetcode.com/problems/min-cost-climbing-stairs/description/\" target=\"_blank\">❤️746.easy-Min Cost Climbing Stairs</a></a></span></li><li><span><a href=\"#338.medium-Counting-Bits\" data-toc-modified-id=\"338.medium-Counting-Bits-2.9\"><span class=\"toc-item-num\">2.9&nbsp;&nbsp;</span><a href=\"https://leetcode.com/problems/counting-bits/description/\" target=\"_blank\">338.medium-Counting Bits</a></a></span></li><li><span><a href=\"#115.easy-House-Robber\" data-toc-modified-id=\"115.easy-House-Robber-2.10\"><span class=\"toc-item-num\">2.10&nbsp;&nbsp;</span><a href=\"https://leetcode.com/problems/house-robber/description/\" target=\"_blank\">115.easy-House Robber</a></a></span></li><li><span><a href=\"#213.med-House-Robber-II\" data-toc-modified-id=\"213.med-House-Robber-II-2.11\"><span class=\"toc-item-num\">2.11&nbsp;&nbsp;</span><a href=\"https://leetcode.com/problems/house-robber-ii/description/\" target=\"_blank\">213.med-House Robber II</a></a></span></li><li><span><a href=\"#337.med-House-Robber-III\" data-toc-modified-id=\"337.med-House-Robber-III-2.12\"><span class=\"toc-item-num\">2.12&nbsp;&nbsp;</span><a href=\"https://leetcode.com/problems/house-robber-iii/description/\" target=\"_blank\">337.med-House Robber III</a></a></span></li></ul></li><li><span><a href=\"#Stack\" data-toc-modified-id=\"Stack-3\"><span class=\"toc-item-num\">3&nbsp;&nbsp;</span>Stack</a></span><ul class=\"toc-item\"><li><span><a href=\"#20.easy_Valid-Parentheses-括号\" data-toc-modified-id=\"20.easy_Valid-Parentheses-括号-3.1\"><span class=\"toc-item-num\">3.1&nbsp;&nbsp;</span><a href=\"https://leetcode.com/problems/valid-parentheses/description/\" target=\"_blank\">20.easy_Valid Parentheses-括号</a></a></span></li><li><span><a href=\"#155.easy-Min-Stack\" data-toc-modified-id=\"155.easy-Min-Stack-3.2\"><span class=\"toc-item-num\">3.2&nbsp;&nbsp;</span><a href=\"https://leetcode.com/problems/min-stack/description/\" target=\"_blank\">155.easy-Min Stack</a></a></span></li><li><span><a href=\"#❤️739.med-Daily-Temperatures\" data-toc-modified-id=\"❤️739.med-Daily-Temperatures-3.3\"><span class=\"toc-item-num\">3.3&nbsp;&nbsp;</span><a href=\"https://leetcode.com/problems/daily-temperatures/description/\" target=\"_blank\">❤️739.med-Daily Temperatures</a></a></span></li><li><span><a href=\"#496.easy-Next-Greater-Element-I\" data-toc-modified-id=\"496.easy-Next-Greater-Element-I-3.4\"><span class=\"toc-item-num\">3.4&nbsp;&nbsp;</span><a href=\"https://leetcode.com/problems/next-greater-element-i/description/\" target=\"_blank\">496.easy-Next Greater Element I</a></a></span></li><li><span><a href=\"#503.med-Next-Greater-Element-II\" data-toc-modified-id=\"503.med-Next-Greater-Element-II-3.5\"><span class=\"toc-item-num\">3.5&nbsp;&nbsp;</span><a href=\"https://leetcode.com/problems/next-greater-element-ii/description/\" target=\"_blank\">503.med-Next Greater Element II</a></a></span></li><li><span><a href=\"#556.med-Next-Greater-Element-III\" data-toc-modified-id=\"556.med-Next-Greater-Element-III-3.6\"><span class=\"toc-item-num\">3.6&nbsp;&nbsp;</span><a href=\"https://leetcode.com/problems/next-&lt;span class=&quot;girk&quot;&gt;greater&lt;/span&gt;-element-iii/description/\" target=\"_blank\">556.med-Next Greater Element III</a></a></span></li><li><span><a href=\"#150.med-Evaluate-Reverse-Polish-Notation\" data-toc-modified-id=\"150.med-Evaluate-Reverse-Polish-Notation-3.7\"><span class=\"toc-item-num\">3.7&nbsp;&nbsp;</span><a href=\"https://leetcode.com/problems/evaluate-reverse-polish-notation/description/\" target=\"_blank\">150.med-Evaluate Reverse Polish Notation</a></a></span></li></ul></li></ul></div>"
   ]
  },
  {
   "cell_type": "markdown",
   "metadata": {},
   "source": [
    "# Heap\n",
    "* 题型: [Top 100 Liked Questions + Heap](https://leetcode.com/problemset/algorithms/?topicSlugs=heap&listId=79h8rn6)\n",
    "* 题型: [Heap](https://leetcode.com/tag/heap/)"
   ]
  },
  {
   "cell_type": "markdown",
   "metadata": {},
   "source": [
    "## Heap"
   ]
  },
  {
   "cell_type": "markdown",
   "metadata": {},
   "source": [
    "### [❤️215.medium-Kth Largest Element in an Array](https://leetcode.com/problems/kth-largest-element-in-an-array/description/)\n",
    "##### 题意(❤️非常重要): Find the <span class=\"girk\">kth largest element</span> in an unsorted array. \n",
    "* Note that it is the kth largest element in the sorted order, not the kth distinct element.\n",
    "* For example, given $[3,2,1,5,6,4]$ and $k = 2$, return $5$.\n",
    "* Note: you may assume k is always valid, 1 ≤ k ≤ array's length.\n",
    "\n",
    "##### 两种算法 (非常重要❤️❤️)\n",
    "* Quickselect\n",
    "* Priory queue.\n",
    "* Edward Shi: https://www.youtube.com/watch?v=ow04KXJ0kG4"
   ]
  },
  {
   "cell_type": "code",
   "execution_count": null,
   "metadata": {
    "collapsed": true
   },
   "outputs": [],
   "source": [
    "# 方法0: heapq 方法, time O(nlogk), space O(k)\n",
    "# ❤️❤️❤️❤️❤️ 👍👍👍👍👍  太没天理了吧, 也太简单了. 而且比 quickselect 快太多了, 太多了. \n",
    "import heapq\n",
    "class Solution(object):\n",
    "    def findKthLargest(self, nums, k):\n",
    "        q = []\n",
    "        for x in nums:\n",
    "            heapq.heappush(q, x)\n",
    "            if len(q) > k: heapq.heappop(q) # ❤️❤️ 保持 q 不占用太多空间的关键.\n",
    "        return heapq.heappop(q)"
   ]
  },
  {
   "cell_type": "code",
   "execution_count": null,
   "metadata": {
    "collapsed": true
   },
   "outputs": [],
   "source": [
    "# 方法0.5: quickselect iteration, time O(n), space O(1), 简化版本.\n",
    "# : 和 quicksort 类似, 只是\n",
    "class Solution(object):\n",
    "    def findKthLargest(self, nums, k):\n",
    "        \"\"\"\n",
    "        :type nums: List[int]\n",
    "        :type k: int\n",
    "        :rtype: int\n",
    "        \"\"\"\n",
    "        if not nums: return -1\n",
    "        l, r = 0, len(nums)-1\n",
    "        \n",
    "        while l < r: ## 注意终止条件\n",
    "            pivot = self.partition(nums, l, r)\n",
    "            if pivot + 1 < k: # k 是计数, 转化成 index.\n",
    "                l = pivot + 1\n",
    "            elif pivot + 1 > k: # k 是计数, 转化成 index.\n",
    "                r = pivot - 1\n",
    "            else: break\n",
    "        return nums[k-1] # k 是计数, 转化成 index.\n",
    "            \n",
    "    def partition(self, nums, l, r): # 这里的 partition 和 quicksort 的类似.\n",
    "        for i in xrange(l, r):\n",
    "            if nums[i] < nums[r]: continue\n",
    "            nums[i], nums[l] = nums[l], nums[i]\n",
    "            l += 1\n",
    "        nums[l], nums[r] = nums[r], nums[l]\n",
    "        return l\n"
   ]
  },
  {
   "cell_type": "code",
   "execution_count": 19,
   "metadata": {},
   "outputs": [
    {
     "name": "stdout",
     "output_type": "stream",
     "text": [
      "10\n"
     ]
    }
   ],
   "source": [
    "# 方法1: quickselect ❤️❤️iteration❤️❤️, time O(n), space O(1)\n",
    "# : 和 quicksort 类似, 只是\n",
    "class Solution(object):\n",
    "    def findKthLargest(self, nums, k):\n",
    "        \"\"\"\n",
    "        :type nums: List[int]\n",
    "        :type k: int\n",
    "        :rtype: int\n",
    "        \"\"\"\n",
    "        if not nums: return -1\n",
    "        return self.quickSelect(nums, 0, len(nums)-1, k)\n",
    "        \n",
    "    def quickSelect(self, nums, l, r, k): # ❤️ \n",
    "        if not nums: return -1\n",
    "        while l < r: ## 👍 注意终止条件\n",
    "            pivot = self.partition(nums, l, r)\n",
    "            if pivot + 1 < k: # ❤️ k 是计数, 转化成 index.\n",
    "                l = pivot + 1\n",
    "            elif pivot + 1 > k: # ❤️ k 是计数, 转化成 index.\n",
    "                r = pivot - 1\n",
    "            else: break\n",
    "        return nums[k-1] # ❤️ k 是计数, 转化成 index.\n",
    "            \n",
    "    def partition(self, nums, l, r): # ❤️ 这里的 partition 和 quicksort 的类似.\n",
    "        for i in xrange(l, r):\n",
    "            if nums[i] < nums[r]: continue\n",
    "            self.swap(nums, i, l)\n",
    "            l += 1\n",
    "        self.swap(nums, l, r)\n",
    "        return l\n",
    "    \n",
    "    def swap(self, nums, i, j):\n",
    "        nums[i], nums[j] = nums[j], nums[i]\n",
    "        \n",
    "print  Solution().findKthLargest([3,6,8,10,1,2,1], 1)"
   ]
  },
  {
   "cell_type": "code",
   "execution_count": null,
   "metadata": {
    "collapsed": true
   },
   "outputs": [],
   "source": [
    "# 方法2: quickselect, recursive. time O(n), space O(1)\n",
    "class Solution(object):\n",
    "    def findKthLargest(self, nums, k):\n",
    "        \"\"\"\n",
    "        :type nums: List[int]\n",
    "        :type k: int\n",
    "        :rtype: int\n",
    "        \"\"\"\n",
    "        if not nums: return - 1\n",
    "        return self.quickSelect(nums, 0, len(nums)-1, k)\n",
    "        \n",
    "    def quickSelect(self, nums, l, r, k): # 👍❤️ recursive solution, 和上述略有不同.\n",
    "        if l <= r: # ❤️❤️❤️ 该条件和 iteration 的条件略有不同. \n",
    "            pivot = self.partition(nums, l, r)\n",
    "            if pivot + 1 < k: # ❤️ k 是计数, 转化成 index.\n",
    "                return self.quickSelect(nums, pivot + 1, r, k)\n",
    "            elif pivot + 1 > k: # ❤️ k 是计数, 转化成 index.\n",
    "                return self.quickSelect(nums, l, pivot - 1, k)\n",
    "            else: \n",
    "                return nums[k-1] # ❤️ k 是计数, 转化成 index.\n",
    "        \n",
    "    def partition(self, nums, l, r):\n",
    "        for i in xrange(l, r):\n",
    "            if nums[i] < nums[r]:\n",
    "                continue\n",
    "            self.swap(nums, i, l)\n",
    "            l += 1\n",
    "        self.swap(nums, l, r)\n",
    "        return l\n",
    "            \n",
    "    def swap(self, nums, l, r):\n",
    "        nums[l], nums[r] = nums[r], nums[l]"
   ]
  },
  {
   "cell_type": "code",
   "execution_count": null,
   "metadata": {
    "collapsed": true
   },
   "outputs": [],
   "source": [
    "class Solution(object):\n",
    "    # 方法3: sorting. O(nlogn) time\n",
    "    def findKthLargest(self, nums, k):\n",
    "        return sorted(nums)[-k]\n",
    "    \n",
    "    # 方法4: O(nk) time, bubble sort idea, TLE\n",
    "    def findKthLargest_bubble(self, nums, k):\n",
    "        for i in xrange(k):\n",
    "            for j in xrange(len(nums)-i-1):\n",
    "                if nums[j] > nums[j+1]:\n",
    "                    nums[j], nums[j+1] = nums[j+1], nums[j]\n",
    "                    \n",
    "        return nums[-k]\n",
    "                \n",
    "    # 方法5: O(nk) time, selection sort idea\n",
    "    def findKthLargest_selection(self, nums, k):\n",
    "        nn = len(nums)\n",
    "        for i in xrange(nn-1, nn-1-k, -1):\n",
    "            maxIdx = i\n",
    "            for j in xrange(i):\n",
    "                if nums[j] > nums[maxIdx]:\n",
    "                    maxIdx = j\n",
    "            nums[maxIdx], nums[i] = nums[i], nums[maxIdx]\n",
    "        return nums[-k]"
   ]
  },
  {
   "cell_type": "markdown",
   "metadata": {},
   "source": [
    "##### 锻炼编程: quicksort + delete tree node"
   ]
  },
  {
   "cell_type": "code",
   "execution_count": 6,
   "metadata": {},
   "outputs": [
    {
     "name": "stdout",
     "output_type": "stream",
     "text": [
      "[1, 1, 2, 3, 6, 8, 10]\n"
     ]
    }
   ],
   "source": [
    "# quicksort: 锻炼\n",
    "import random\n",
    "def quicksort(nums):\n",
    "    if len(nums) <= 1: return nums\n",
    "    __quicksort(nums, 0, len(nums) - 1)\n",
    "    return nums\n",
    "\n",
    "def __quicksort(nums, l, r):\n",
    "    if l < r:\n",
    "        pivot = partition(nums, l, r)\n",
    "        __quicksort(nums, l, pivot - 1)\n",
    "        __quicksort(nums, pivot + 1, r)\n",
    "\n",
    "def partition(nums, l, r):\n",
    "    pivot = random.randint(l, r)\n",
    "    swap(nums, r, pivot)\n",
    "    for i in xrange(l, r):\n",
    "        if nums[i] > nums[r]:\n",
    "            continue\n",
    "        swap(nums, i, l)\n",
    "        l += 1\n",
    "    swap(nums, l, r)\n",
    "    return l\n",
    "\n",
    "def swap(nums, i, j):\n",
    "    nums[i], nums[j] = nums[j], nums[i]\n",
    "    \n",
    "print  quicksort ([3,6,8,10,1,2,1])"
   ]
  },
  {
   "cell_type": "code",
   "execution_count": null,
   "metadata": {
    "collapsed": true
   },
   "outputs": [],
   "source": [
    "class Solution(object):\n",
    "    def deleteNode(self, root, target):\n",
    "        if not root: return \n",
    "        \n",
    "        if target < root.val:\n",
    "            root.left = self.deleteNode(root.left, target)\n",
    "        elif target > root.val:\n",
    "            root.right = self.deleteNode(root.right, target)\n",
    "        else:\n",
    "            if not root.left:\n",
    "                return root.right\n",
    "            elif not root.right:\n",
    "                return root.left\n",
    "            else:\n",
    "                node = root.right\n",
    "                while node.left:\n",
    "                    node = node.left\n",
    "                \n",
    "                root.val = node.val\n",
    "                root.right = self.deleteNode(root.right, root.val)\n",
    "                \n",
    "        return root"
   ]
  },
  {
   "cell_type": "markdown",
   "metadata": {},
   "source": [
    "### [❤️378.medium-Kth Smallest Element in a Sorted Matrix](https://leetcode.com/problems/kth-smallest-element-in-a-sorted-matrix/description/)\n",
    "##### 题意: 给定 $n\\times n$ 矩阵, 高效算法找出第  $k$ 小的元素. 矩阵性质如下: \n",
    "* each of the rows and columns are sorted in ascending order\n",
    "* You may assume k is always valid, $1 \\leq k \\leq n^2$.\n",
    "* Note that it is <span class=\"girk\">the kth smallest element</span> in the sorted order, <span class=\"girk\">not the kth distinct element</span>.\n",
    "\n",
    "\n",
    "##### 分析\n",
    "##### 总结"
   ]
  },
  {
   "cell_type": "code",
   "execution_count": null,
   "metadata": {
    "collapsed": true
   },
   "outputs": [],
   "source": [
    "# ❤️❤️ 方法1: heapq + 一行一行处理, 有点像 merge k sorted linked lists\n",
    "# ❤️❤️ time: O(min(k,n)logn), space: O(n)\n",
    "import heapq\n",
    "class Solution(object):\n",
    "    def kthSmallest(self, mat, k):\n",
    "        \"\"\"\n",
    "        :type mat: List[List[int]]\n",
    "        :type k: int\n",
    "        :rtype: int\n",
    "        \"\"\"\n",
    "        nr, nc = len(mat), len(mat[0]) # nn is the number of rows and columns in the mat\n",
    "        \n",
    "        # 1 edge condition\n",
    "        if not mat or (nr==1 and not mat[0]): \n",
    "            return -1\n",
    "        \n",
    "        # 2 build heapq # ❤️❤️❤️ 仔细想想为什么可以先存入一行, 然后处理其他, 想明白很重要.\n",
    "        hq, r = [], 0\n",
    "        for c in xrange(nc):\n",
    "            heapq.heappush(hq, (mat[r][c], r, c))\n",
    "        \n",
    "        for i in xrange(k-1): # ❤️❤️ pop k-1 次是关键\n",
    "            val, r, c = heapq.heappop(hq)\n",
    "            if r == nr-1: continue # ❤️❤️ 是关键.\n",
    "            heapq.heappush(hq, (mat[r+1][c], r+1, c))\n",
    "            \n",
    "        val, r, c = heapq.heappop(hq)\n",
    "        return val"
   ]
  },
  {
   "cell_type": "code",
   "execution_count": null,
   "metadata": {
    "collapsed": true
   },
   "outputs": [],
   "source": [
    "# ❤️❤️ 方法0: binary search + search in special mat\n",
    "import heapq\n",
    "class Solution(object):\n",
    "    def kthSmallest(self, mat, k):\n",
    "        \"\"\"\n",
    "        :type mat: List[List[int]]\n",
    "        :type k: int\n",
    "        :rtype: int\n",
    "        \"\"\"\n",
    "        l = mat[0][0]\n",
    "        r = mat[-1][-1]\n",
    "        while l < r:\n",
    "            m = l + ((r-l)>>1)\n",
    "            cnt = self.countSmall(mat, m)\n",
    "            if cnt > k:\n",
    "                r = m - 1\n",
    "            else:\n",
    "                l = m\n",
    "        return mat[]\n",
    "            \n",
    "    def countSmall(self, mat, m):\n",
    "        nr, nc = len(mat), len(mat[0])\n",
    "        \n",
    "        cnt = 0\n",
    "        r, c = 0, nc-1\n",
    "        while r < nr and c > -1:\n",
    "            if mat[r][c] <= m:\n",
    "                cnt += c + 1\n",
    "                r += 1\n",
    "            else:\n",
    "                c -= 1\n",
    "        return cnt"
   ]
  },
  {
   "cell_type": "code",
   "execution_count": null,
   "metadata": {
    "collapsed": true
   },
   "outputs": [],
   "source": [
    "# 方法2: heapq, 效果不佳. 复杂度太高.\n",
    "# 和 215 非常类似, 只是将找最小值问题, 转化成找最大值的问题.\n",
    "import heapq\n",
    "class Solution(object):\n",
    "    def kthSmallest(self, mat, k):\n",
    "        \"\"\"\n",
    "        :type mat: List[List[int]]\n",
    "        :type k: int\n",
    "        :rtype: int\n",
    "        \"\"\"\n",
    "        nr, nc = len(mat), len(mat[0]) # nn is the number of rows and columns in the mat\n",
    "        \n",
    "        # 1 edge condition\n",
    "        if not mat or (nr==1 and not mat[0]): \n",
    "            return -1\n",
    "        \n",
    "        # 2 build the heap queue (i.e., priority queue)\n",
    "        q = [] # the heap queue              \n",
    "        for i in xrange(nr*nc):\n",
    "            heapq.heappush(q, -mat[i/nc][i%nc])  # 每次存放 value, row 和 column.\n",
    "            if len(q) > k: heapq.heappop(q)\n",
    "                \n",
    "        return -heapq.heappop(q)"
   ]
  },
  {
   "cell_type": "markdown",
   "metadata": {},
   "source": [
    "### [347.medium-Top K Frequent Elements](https://leetcode.com/problems/top-k-frequent-elements/description/)\n",
    "##### 总结: 取 top 1 - k 个元素, 需要 bucket + heap + hash 结合.\n",
    "##### 题意: Given a <span class=\"girk\">non-empty array of integers</span>, return the <span class=\"girk\">k most frequent</span> elements.\n",
    "* 举例, given [1,1,1,2,2,3] and k = 2, return [1,2].\n",
    "* 注意:\n",
    "    * You may assume k is <span class=\"girk\">always valid</span>, 1 ≤ k ≤ number of unique elements.\n",
    "    * Your algorithm's time complexity <span class=\"burk\">must be better than</span> <span class=\"girk\">O(n log n)</span>, where <span class=\"girk\">n is the array's size</span>.\n",
    "    \n",
    "##### 分析\n",
    "* **方法1**: 统计 frequency, sorting, 找到top frequency 的 value, 最后找出大于等于 value 的 dictionary keys. time: O(nlogn), space O(n).\n",
    "* **方法2**: \n",
    "\n",
    "##### 总结\n",
    "```python\n",
    " threshhold = sortVal[-k] # ❤️❤️ -k 表示倒数第 k 个元素, 非常实用的写法.\n",
    "```"
   ]
  },
  {
   "cell_type": "code",
   "execution_count": null,
   "metadata": {
    "collapsed": true
   },
   "outputs": [],
   "source": [
    "# 👍👍👍 方法1: bucket sort. ❤️❤️ Time & space: O(n).\n",
    "# ❤️❤️ 记住统计 top frequency 的问题, 适用 bucket 的思路最优.\n",
    "class Solution(object):\n",
    "    def topKFrequent(self, nums, k):\n",
    "        \n",
    "        # 1 dic to count the frequency of the unique values \n",
    "        dic, maxCnt = {}, 0 # ❤️ maxCnt 是为了确定 bucket 的大小.\n",
    "        for x in nums: \n",
    "            dic[x] = dic.get(x,0) + 1\n",
    "            maxCnt = max(maxCnt, dic[x])\n",
    "            \n",
    "        # 2 build bucket\n",
    "        bucket = [ [] for i in xrange(maxCnt) ]\n",
    "        for key, cnt in dic.items():\n",
    "            bucket[cnt-1].append(key) # ❤️❤️ 注意 cnt 是计数, 要转化成 index...\n",
    "            \n",
    "        # 3 obtain the rst\n",
    "        rst = []\n",
    "        for j in xrange(maxCnt-1, -1, -1):\n",
    "            for x in bucket[j]: # ❤️ 注意 top k frequency, 不考虑 duplicate frequency 的情况.\n",
    "                rst.append(x)\n",
    "                k -= 1\n",
    "                if k < 1: return rst\n",
    "        return rst      "
   ]
  },
  {
   "cell_type": "markdown",
   "metadata": {},
   "source": [
    "### [692.medium-Top K Frequent Words](https://leetcode.com/problems/top-k-frequent-words/description/)\n",
    "##### 总结: 取 top 1 - k 个元素, 需要 bucket + heap + hash 结合.\n",
    "\n",
    "##### 题意: Given a non-empty list of words, return the $k$ most frequent elements.\n",
    "* Your answer should be <span class=\"girk\">sorted by frequency</span> from highest to lowest. \n",
    "* If two words have the same frequency, then the word with the lower alphabetical order comes first.\n",
    "* <span class=\"burk\">Note</span>:\n",
    "    * You may assume k is always valid, <span class=\"girk\">1 ≤ k ≤ number of unique elements</span>.\n",
    "    * Input words contain only lowercase letters.\n",
    "* <span class=\"burk\">Follow ups</span>:\n",
    "    * Try to solve it in <span class=\"girk\">O(n log k) time</span> and <span class=\"girk\">O(n) extra space</span>."
   ]
  },
  {
   "cell_type": "code",
   "execution_count": null,
   "metadata": {
    "collapsed": true
   },
   "outputs": [],
   "source": [
    "# 方法2: hash + bucket + heapq\n",
    "import heapq\n",
    "class Solution(object):\n",
    "    def topKFrequent(self, words, k):\n",
    "        \"\"\"\n",
    "        :type words: List[str]\n",
    "        :type k: int\n",
    "        :rtype: List[str]\n",
    "        \"\"\"\n",
    "        # 1 edge condition\n",
    "        if not words: return []\n",
    "        \n",
    "        # 2 get the frequency \n",
    "        dic, maxCnt = {}, 0\n",
    "        for x in words:\n",
    "            dic[x] = dic.get(x,0) + 1\n",
    "            maxCnt = max(maxCnt, dic[x])\n",
    "            \n",
    "        # 3 build the bucket\n",
    "        bucket = [[] for i in xrange(maxCnt)]\n",
    "        for key, cnt in dic.items():\n",
    "            bucket[cnt-1].append(key)\n",
    "        \n",
    "        # 4 find the word in the bucket from high ordering to low ordering\n",
    "        rst = [] # ❤️❤️ 从 bucket 抽取是关键.\n",
    "        for j in xrange(maxCnt-1, -1, -1):\n",
    "            temp = [] # ❤️❤️ 利用 temp 临时存储, 并且作排序. 将排完序的结果, 放到 rst 中.\n",
    "            for y in bucket[j]: \n",
    "                heapq.heappush(temp, y) # ❤️❤️ 原先使用 sort 对 temp 排序, 但这样运算复杂度不对. 如果所有\n",
    "            while temp: #  word 出现一次, 并且, k = 3 eg, 则 sort 复杂度是 nlogn, 太多了.\n",
    "                rst.append(heapq.heappop(temp))\n",
    "                k -= 1\n",
    "                if k < 1: return rst # 用 heap 就省事多了. 不知道具体复杂度, 但应该小于等于 nlogk, 说不定是 n.\n",
    "        return rst"
   ]
  },
  {
   "cell_type": "code",
   "execution_count": null,
   "metadata": {
    "collapsed": true
   },
   "outputs": [],
   "source": [
    "# 方法2: hash + bucket\n",
    "import heapq\n",
    "class Solution(object):\n",
    "    def topKFrequent(self, words, k):\n",
    "        \"\"\"\n",
    "        :type words: List[str]\n",
    "        :type k: int\n",
    "        :rtype: List[str]\n",
    "        \"\"\"\n",
    "        # 1 edge condition\n",
    "        if not words: return []\n",
    "        \n",
    "        # 2 get the frequency \n",
    "        dic, maxCnt = {}, 0\n",
    "        for x in words:\n",
    "            dic[x] = dic.get(x,0) + 1\n",
    "            maxCnt = max(maxCnt, dic[x])\n",
    "            \n",
    "        # 3 build the bucket\n",
    "        bucket = [[] for i in xrange(maxCnt)]\n",
    "        for key, cnt in dic.items():\n",
    "            bucket[cnt-1].append(key)\n",
    "        \n",
    "        # 4 find the word in the bucket from high ordering to low ordering\n",
    "        rst, j = [], maxCnt - 1 # ❤️❤️ 从 bucket 抽取是关键.\n",
    "        while j > -1:\n",
    "            xx, temp = bucket[j], [] # ❤️❤️ 利用 temp 临时存储, 并且作排序. 将排完序的结果, 放到 rst 中.\n",
    "            for y in xx:\n",
    "                temp.append(y)\n",
    "            for y in sorted(temp): # ❎ 利用 sort 不可取.\n",
    "                if k > 0:\n",
    "                    k -= 1\n",
    "                    rst.append(y)\n",
    "                else: \n",
    "                    break\n",
    "            if k < 1: break  \n",
    "            j -= 1\n",
    "        return rst"
   ]
  },
  {
   "cell_type": "code",
   "execution_count": null,
   "metadata": {
    "collapsed": true
   },
   "outputs": [],
   "source": [
    "# 👍👍👍 方法2: quick select 的方法. ❤️ Time & space: O(n).\n",
    "class Solution(object):\n",
    "    def topKFrequent(self, nums, k):\n",
    "        \n",
    "        # 1 dic to count the frequency of the unique values \n",
    "        dic = {} # ❤️ maxCnt 是为了确定 bucket 的大小.\n",
    "        for x in nums: \n",
    "            dic[x] = dic.get(x,0) + 1\n",
    "        \n",
    "        # 2 quick select to find the top k frequency cnts\n",
    "        arr = dic.values()\n",
    "        thresh_cnt = self.quickSelect(arr, 0, len(arr)-1, k)\n",
    "        \n",
    "        # 3 obtain rst\n",
    "        rst = []\n",
    "        for key, cnt in dic.items():\n",
    "            if cnt >= thresh_cnt:\n",
    "                rst.append(key)\n",
    "        return rst\n",
    "        \n",
    "    def quickSelect(self, nums, l, r, k):\n",
    "        while l < r:\n",
    "            pivot = self.partition(nums, l, r)\n",
    "            if pivot + 1 < k:   # ❤️ k 是计数, 和 index 化作等效作用\n",
    "                l = pivot + 1\n",
    "            elif pivot + 1 > k: # ❤️ k 是计数, 和 index 化作等效作用\n",
    "                r = pivot - 1\n",
    "            else: break\n",
    "        return nums[k-1] # ❤️ k 是计数, 和 index 化作等效作用\n",
    "            \n",
    "    def partition(self, nums, l, r):\n",
    "        for i in xrange(l, r):\n",
    "            if nums[i] < nums[r]:\n",
    "                continue\n",
    "            self.swap(nums, i, l)\n",
    "            l += 1\n",
    "        self.swap(nums, l, r)\n",
    "        return l\n",
    "    \n",
    "    def swap(self, nums, i, j):\n",
    "        nums[i], nums[j] = nums[j], nums[i]"
   ]
  },
  {
   "cell_type": "code",
   "execution_count": null,
   "metadata": {
    "collapsed": true
   },
   "outputs": [],
   "source": [
    "# 方法3: heapq sort 的方法.\n",
    "from heapq import heapify, heappop, heappush\n",
    "\n",
    "class Solution(object):\n",
    "    def topKFrequent(self, nums, k):\n",
    "        \"\"\"\n",
    "        :type nums: List[int]\n",
    "        :type k: int\n",
    "        :rtype: List[int]\n",
    "        \"\"\"\n",
    "        # 1 dic to count the frequency of the unique values \n",
    "        dic = {}\n",
    "        for x in nums: \n",
    "            dic[x] = dic.get(x,0) + 1\n",
    "           \n",
    "        # 2 find the kth largest count\n",
    "        temp = dic.values()\n",
    "        heapify(temp)\n",
    "        sortVal = [heappop(temp) for i in xrange(len(temp))]\n",
    "        threshhold = sortVal[-k] # ❤️❤️ -k 表示倒数第 k 个元素, \n",
    "        \n",
    "        # 3 push the key that is the k most frequent value.\n",
    "        rst = []\n",
    "        for key, val in dic.items():\n",
    "            if val >= threshhold:\n",
    "                rst.append(key)\n",
    "                \n",
    "        return rst  "
   ]
  },
  {
   "cell_type": "code",
   "execution_count": null,
   "metadata": {
    "collapsed": true
   },
   "outputs": [],
   "source": [
    "# 方法4: 普通 sorting 的方法.\n",
    "from heapq import heappush, heappop\n",
    "class Solution(object):\n",
    "    def topKFrequent(self, nums, k):\n",
    "        \"\"\"\n",
    "        :type nums: List[int]\n",
    "        :type k: int\n",
    "        :rtype: List[int]\n",
    "        \"\"\"\n",
    "        dic = {}\n",
    "        for x in nums: dic[x] = dic.get(x,0) + 1\n",
    "        \n",
    "        freq = dic.values()\n",
    "        heap = []\n",
    "        for x in freq:\n",
    "            heappush(heap, x)\n",
    "        \n",
    "        sortFreq = [heappop(heap) for i in xrange(len(heap))]\n",
    "        threshold = sortFreq[-k]\n",
    "        \n",
    "        rst = []\n",
    "        for key, val in dic.items():\n",
    "            if val >= threshold:\n",
    "                rst.append(key)\n",
    "                \n",
    "        return rst"
   ]
  },
  {
   "cell_type": "markdown",
   "metadata": {},
   "source": [
    "### [23_hard-merge k Sorted Lists](https://leetcode.com/problems/merge-k-sorted-lists/)\n",
    "##### 题意\n",
    "* Merge $k$ sorted linked lists and return it as one sorted list. Analyze and describe its complexity.\n",
    "* 难点: 是要处理 $k$ 个 sorted linked lists.\n",
    "* 总结: 我已经做出以下答案, 还有很多其他答案.\n",
    "\n",
    "##### 参考视频\n",
    "* Edward Shi: https://www.youtube.com/watch?v=5xT5GMTFvRI\n",
    "\n",
    "##### My solution \n",
    "* runtime: $O(kN)$, $n$ 表示所有 sorted linked list 包含元素的个数.\n",
    "* space complexity: 几乎是 in-place 的, 属于 constant complexity $O(1)$."
   ]
  },
  {
   "cell_type": "code",
   "execution_count": null,
   "metadata": {
    "collapsed": true
   },
   "outputs": [],
   "source": [
    "# 👍 方法1: Priority queue & heapq. \n",
    "# ❤️❤️❤️ Time O(nlogk), k the number linked list; Space O(n)\n",
    "# ❤️❤️❤️ 最推荐的方法, 有扩展性.\n",
    "# 总结: priority queue 和 heapq 是最值得推荐的, 个人更熟悉 heapq 的语法.\n",
    "from Queue import PriorityQueue\n",
    "import heapq\n",
    "class Solution(object):\n",
    "    def mergeKLists(self, lists): # method #1: heapq --------------\n",
    "        # 1 edge condition\n",
    "        if not lists: return []\n",
    "        \n",
    "        # 2 使用 heapq 先存储第一个元素\n",
    "        q = []\n",
    "        for x in lists:\n",
    "            if x: heapq.heappush(q, (x.val, x)) # ❤️❤️ 注意必须有 heapq. \n",
    "        \n",
    "        dummy = cur = ListNode(None)\n",
    "        while len(q) > 0:\n",
    "            cur.next = heapq.heappop(q)[1]\n",
    "            cur = cur.next\n",
    "            if cur.next: heapq.heappush(q, (cur.next.val, cur.next))\n",
    "            \n",
    "        return dummy.next\n",
    "    \n",
    "    def mergeKLists(self, lists): # method #2: Priority Queue --------------\n",
    "        # 1 edge condition\n",
    "        if not lists: return []\n",
    "        \n",
    "        # 2 使用 priority queue. \n",
    "        q = PriorityQueue()\n",
    "        for x in lists: # 👍👍 注意语法 q.put()\n",
    "            if x: q.put((x.val, x)) # ❤️❤️ 按照 x.val 的大小, 优先级放入 priority queue 中.\n",
    "        \n",
    "        dummy = cur = ListNode(None)\n",
    "        while q.qsize() > 0: # 👍👍 注语语法 q.qsize()\n",
    "            cur.next = q.get()[1] # 👍👍 \n",
    "            cur = cur.next\n",
    "            if cur.next: q.put((cur.next.val, cur.next))\n",
    "                \n",
    "        return dummy.next"
   ]
  },
  {
   "cell_type": "code",
   "execution_count": null,
   "metadata": {
    "collapsed": true
   },
   "outputs": [],
   "source": [
    "# 方法2: david & conquer. Time O(nlogn). 有点像 tree, postorder 的题.\n",
    "class Solution(object):\n",
    "    def mergeKLists(self, lists):\n",
    "        if not lists: return []\n",
    "        return self._mergeKLists(lists, 0, len(lists)-1)\n",
    "        \n",
    "    def _mergeKLists(self, nums, l, r):\n",
    "        if l >= r: return nums[l]\n",
    "        \n",
    "        m = l + ((r-l) >> 1)\n",
    "        l1 = self._mergeKLists(nums, l, m) #👍❤️ 注意这种返回的机制.\n",
    "        l2 = self._mergeKLists(nums, m+1, r)\n",
    "        return self.merge(l1, l2)\n",
    "            \n",
    "    def merge(self, l1, l2):\n",
    "        if not l1: return l2\n",
    "        if not l2: return l1\n",
    "        \n",
    "        dummy = cur = ListNode(None)\n",
    "        while l1 and l2:\n",
    "            if l1.val < l2.val:\n",
    "                cur.next = l1\n",
    "                l1 = l1.next\n",
    "            else:\n",
    "                cur.next = l2\n",
    "                l2 = l2.next\n",
    "            cur = cur.next\n",
    "        \n",
    "        cur.next = l1 or l2\n",
    "        return dummy.next          "
   ]
  },
  {
   "cell_type": "markdown",
   "metadata": {},
   "source": [
    "### [239.hard-Sliding Window Maximum](https://leetcode.com/problems/sliding-window-maximum/description/)\n",
    "##### 题意: 给定 arr, 找出大小为 k 的 sliding window 中的最大值, 每次. "
   ]
  },
  {
   "cell_type": "code",
   "execution_count": null,
   "metadata": {
    "collapsed": true
   },
   "outputs": [],
   "source": [
    "\"\"\"\n",
    "Input: nums = [1,3,-1,-3,5,3,6,7], and k = 3\n",
    "Output: [3,3,5,5,6,7] \n",
    "Explanation: \n",
    "\n",
    "Window position                Max\n",
    "---------------               -----\n",
    "[1  3  -1] -3  5  3  6  7       3\n",
    " 1 [3  -1  -3] 5  3  6  7       3\n",
    " 1  3 [-1  -3  5] 3  6  7       5\n",
    " 1  3  -1 [-3  5  3] 6  7       5\n",
    " 1  3  -1  -3 [5  3  6] 7       6\n",
    " 1  3  -1  -3  5 [3  6  7]      7\n",
    "\"\"\""
   ]
  },
  {
   "cell_type": "code",
   "execution_count": null,
   "metadata": {
    "collapsed": true
   },
   "outputs": [],
   "source": [
    "from collections import deque\n",
    "class Solution(object):\n",
    "    def maxSlidingWindow(self, nums, k):\n",
    "        \"\"\"\n",
    "        :type nums: List[int]\n",
    "        :type k: int\n",
    "        :rtype: List[int]\n",
    "        \"\"\"\n",
    "        if not nums: return []\n",
    "        \n",
    "        rst = []\n",
    "        q = deque()\n",
    "        for i, x in enumerate(nums):\n",
    "            if q and q[0][1] < i-k+1:\n",
    "                q.popleft()\n",
    "                \n",
    "            while q and q[-1][0] <= x:\n",
    "                q.pop()\n",
    "                \n",
    "            q.append((x, i))\n",
    "            if i >= k-1: rst.append(q[0][0])\n",
    "        return rst"
   ]
  },
  {
   "cell_type": "markdown",
   "metadata": {},
   "source": [
    "## Dynamic Programming"
   ]
  },
  {
   "cell_type": "markdown",
   "metadata": {},
   "source": [
    "### [121.easy-Best Time to Buy and Sell Stock](https://leetcode.com/problems/best-time-to-buy-and-sell-stock/description/)\n",
    "##### 题意: Say you have an array for which the ith element is the price of a given stock on day i.\n",
    "* If you were only permitted to complete <span class=\"girk\">at most one transaction</span> (ie, buy one and sell one share of the stock), design an algorithm to find the maximum profit.\n",
    "* 举例#1:\n",
    "   ```\n",
    "   Input: [7, 1, 5, 3, 6, 4]\n",
    "   Output: 5\n",
    "\n",
    "   max. difference = 6-1 = 5 (not 7-1 = 6, as selling price needs to be larger than buying price)\n",
    "   ```\n",
    "* 举例#2:\n",
    "    ```\n",
    "    Input: [7, 6, 4, 3, 1]\n",
    "    Output: 0\n",
    "\n",
    "    In this case, no transaction is done, i.e. max profit = 0.\n",
    "    ```\n",
    "   \n",
    "##### 分析: 1d 动态规划题, 两种方法. \n",
    "* 本质上求两个元素的最大差问题. 即求最小值, 然后求证当前值和最小值之间的差异是否是最大???\n",
    "\n",
    "##### 总结: https://www.youtube.com/watch?v=8pVhUpF1INw"
   ]
  },
  {
   "cell_type": "code",
   "execution_count": null,
   "metadata": {
    "collapsed": true
   },
   "outputs": [],
   "source": [
    "class Solution(object):\n",
    "    def maxProfit(self, prices):\n",
    "        \"\"\"\n",
    "        :type prices: List[int]\n",
    "        :rtype: int\n",
    "        \"\"\"\n",
    "        if not prices: return 0\n",
    "        \n",
    "        minPrice, maxProfit = prices[0], 0\n",
    "        for x in prices:\n",
    "            minPrice = min(x, minPrice) # ❤️ minPrice 本身是动态规划的一个变量 \n",
    "            maxProfit = max(maxProfit, x - minPrice)\n",
    "            \n",
    "        return maxProfit"
   ]
  },
  {
   "cell_type": "markdown",
   "metadata": {},
   "source": [
    "### [122.easy-Best Time to Buy and Sell Stock II](https://leetcode.com/problems/best-time-to-buy-and-sell-stock-ii/description/)\n",
    "##### 允许多次买卖, 但是一天不能进行多次操作.  和 121的区别仅仅在于, 一天多次交易."
   ]
  },
  {
   "cell_type": "code",
   "execution_count": null,
   "metadata": {
    "collapsed": true
   },
   "outputs": [],
   "source": [
    "class Solution(object):\n",
    "    def maxProfit(self, prices):\n",
    "        \"\"\"\n",
    "        :type prices: List[int]\n",
    "        :rtype: int\n",
    "        \"\"\"\n",
    "        if not prices: return 0\n",
    "        \n",
    "        rst = 0\n",
    "        for i in xrange(1, len(prices)):\n",
    "            rst += max(0, prices[i]-prices[i-1])\n",
    "        return rst"
   ]
  },
  {
   "cell_type": "markdown",
   "metadata": {},
   "source": [
    "### [309.med-Best Time to Buy and Sell Stock with Cooldown](https://leetcode.com/problems/best-time-to-buy-and-sell-stock-with-cooldown/description/)\n",
    "##### 题意: Say you have an array for which the ith element is the price of a given stock on day i.\n",
    "* 设计算法获得最大利润, 但是需要满足以下条件:\n",
    "    * 可以<span class=\"girk\">完成多起交易</span>, 但需要先买入后卖出, 之后才能进行下一次交易.\n",
    "    * 买入卖出 到 下一次买入卖出间需要 cooldown 1 day. 必须相隔 1 天.\n",
    "* Example:\n",
    "```\n",
    "prices = [1, 2, 3, 0, 2]\n",
    "maxProfit = 3\n",
    "transactions = [buy, sell, cooldown, buy, sell]\n",
    "```\n",
    "\n",
    "\n",
    "##### 分析\n",
    "##### 总结: https://www.youtube.com/watch?v=oL6mRyTn56M"
   ]
  },
  {
   "cell_type": "code",
   "execution_count": null,
   "metadata": {
    "collapsed": true
   },
   "outputs": [],
   "source": [
    "class Solution(object):\n",
    "    def maxProfit(self, prices): # space: O(1)\n",
    "        if not prices: return 0\n",
    "        \n",
    "        pre_hold = float(\"-inf\")\n",
    "        pre_sold = pre_rest = 0\n",
    "        for price in prices:\n",
    "            sold = pre_hold + price\n",
    "            hold = max(pre_hold, pre_rest - price)\n",
    "            rest = max(pre_rest, pre_sold)\n",
    "            \n",
    "            # update the old variables \n",
    "            pre_sold, pre_hold, pre_rest = sold, hold, rest           \n",
    "            \n",
    "        return max(rest, sold)"
   ]
  },
  {
   "cell_type": "code",
   "execution_count": null,
   "metadata": {
    "collapsed": true
   },
   "outputs": [],
   "source": [
    "# ❤️❤️ 解决动态规划问题的标准范式 ❤️❤️ ------------------\n",
    "# 0 状态: sold, hold, rest.\n",
    "# 1 状态转移方程 # ❤️ 因为第 i 项之和 i-1 项有关, 所以可以减少 space 开销的.\n",
    "#     sold[i] = hold[i-1] + prices[i]\n",
    "#     hold[i] = max(hold[i-1], rest[i-1] - prices[i])\n",
    "#     rest[i] = max(rest[i-1], sold[i-1])\n",
    "# 2 状态初始化\n",
    "#     sold[0] = rest[0] = 0,  hold[0] = -inf\n",
    "# 3 最终输出\n",
    "#     max(sold[i], rest[i])\n",
    "# 4 complexity analysis\n",
    "#     time: O(n),  space: O(n) -> O(1)\n",
    "\n",
    "class Solution(object):\n",
    "    def maxProfit(self, prices): # space: O(n)\n",
    "        \"\"\"\n",
    "        :type prices: List[int]\n",
    "        :rtype: int\n",
    "        \"\"\"\n",
    "        if not prices: return 0\n",
    "        \n",
    "        n = len(prices)\n",
    "        sold = [0] * (n + 1)\n",
    "        hold = [0] * (n + 1)\n",
    "        rest = [0] * (n + 1)\n",
    "        sold[0] = rest[0] = 0\n",
    "        hold[0] = float(\"-inf\")\n",
    "        \n",
    "        for i in xrange(1, n + 1):\n",
    "            sold[i] = hold[i-1] + prices[i-1] # ❤️  prices[i-1] because the index shift in the prices\n",
    "            hold[i] = max(hold[i-1], rest[i-1] - prices[i-1])\n",
    "            rest[i] = max(rest[i-1], sold[i-1])\n",
    "        return max(sold[i], rest[i])   "
   ]
  },
  {
   "cell_type": "markdown",
   "metadata": {},
   "source": [
    "### [714.med-Best Time to Buy and Sell Stock with Transaction Fee](https://leetcode.com/problems/best-time-to-buy-and-sell-stock-with-transaction-fee/description/)\n",
    "##### 题意: Your are given an array of <span class=\"girk\">integers prices</span>, for which the $i$-th element is the price of a given stock on day $i$; and a <span class=\"girk\">non-negative integer fee</span> representing a transaction fee.\n",
    "* You may <span class=\"girk\">complete as many transactions as you like</span>, but you need to pay the transaction fee for each transaction.\n",
    "* You may not buy more than 1 share of a stock at a time (ie. you must sell the stock share before you buy again.)\n",
    "* Return the maximum profit you can make.\n",
    "\n",
    "##### 举例"
   ]
  },
  {
   "cell_type": "code",
   "execution_count": null,
   "metadata": {
    "collapsed": true
   },
   "outputs": [],
   "source": [
    "\"\"\"\n",
    "Input: prices = [1, 3, 2, 8, 4, 9], fee = 2\n",
    "Output: 8\n",
    "Explanation: The maximum profit can be achieved by:\n",
    "Buying at prices[0] = 1\n",
    "Selling at prices[3] = 8\n",
    "Buying at prices[4] = 4\n",
    "Selling at prices[5] = 9\n",
    "The total profit is ((8 - 1) - 2) + ((9 - 4) - 2) = 8.\n",
    "\"\"\""
   ]
  },
  {
   "cell_type": "code",
   "execution_count": null,
   "metadata": {
    "collapsed": true
   },
   "outputs": [],
   "source": [
    "class Solution(object):\n",
    "    def maxProfit(self, prices, fee):\n",
    "        \"\"\"\n",
    "        :type prices: List[int]\n",
    "        :type fee: int\n",
    "        :rtype: int\n",
    "        \"\"\"\n",
    "        if not prices: return 0\n",
    "        \n",
    "        pre_rest = pre_sold = 0\n",
    "        pre_hold = float(\"-inf\")\n",
    "        for x in prices:\n",
    "            sold = pre_hold + x - fee\n",
    "            hold = max(pre_hold, max(pre_rest-x, pre_sold-x))\n",
    "            rest = max(pre_rest, pre_sold)\n",
    "                       \n",
    "            pre_rest, pre_sold, pre_hold = rest, sold, hold\n",
    "                       \n",
    "        return max(rest, sold)"
   ]
  },
  {
   "cell_type": "code",
   "execution_count": null,
   "metadata": {
    "collapsed": true
   },
   "outputs": [],
   "source": [
    "# 1 状态转移方程 # ❤️ 因为第 i 项之和 i-1 项有关, 所以可以减少 space 开销的.\n",
    "#     sold[i] = hold[i-1] + prices[i] - fee\n",
    "#     hold[i] = max(hold[i-1], max(rest[i-1]-prices[i], sold[i-1]-price[i]))\n",
    "#     rest[i] = max(rest[i-1], sold[i-1])\n",
    "# 2 状态初始化\n",
    "#     sold[0] = rest[0] = 0,  hold[0] = -inf\n",
    "# 3 最终输出\n",
    "#     max(sold[i], rest[i])\n",
    "# 4 complexity analysis\n",
    "#     time: O(n),  space: O(n) -> O(1)\n",
    "class Solution(object):\n",
    "    def maxProfit(self, prices, fee):\n",
    "        \"\"\"\n",
    "        :type prices: List[int]\n",
    "        :type fee: int\n",
    "        :rtype: int\n",
    "        \"\"\"\n",
    "        if not prices: return 0\n",
    "        \n",
    "        n = len(prices)\n",
    "        sold = [0] * (n + 1)\n",
    "        hold = [0] * (n + 1)\n",
    "        rest = [0] * (n + 1)\n",
    "        \n",
    "        sold[0] = rest[0] = 0\n",
    "        hold[0] = float(\"-inf\")\n",
    "        \n",
    "        for i in xrange(1, n + 1):\n",
    "            sold[i] = hold[i-1] + prices[i-1] - fee # because the trans. fees\n",
    "            hold[i] = max( hold[i-1], max(rest[i-1]-prices[i-1], sold[i-1]-prices[i-1]) )\n",
    "            rest[i] = max(rest[i-1], sold[i-1])\n",
    "            \n",
    "        return max(rest[n], sold[n])"
   ]
  },
  {
   "cell_type": "markdown",
   "metadata": {},
   "source": [
    "### [53.easy-Maximum Subarray](https://leetcode.com/problems/maximum-subarray/description/)\n",
    "##### 题意: Find the <span class=\"girk\">contiguous subarray within an array</span> (containing at least one number) which has the <span class=\"girk\">largest sum</span>\n",
    "* For example, \n",
    "``` given the array [-2,1,-3,4,-1,2,1,-5,4], the contiguous subarray [4,-1,2,1] has the largest sum = 6. ```\n",
    "\n",
    "##### 分析: 每一步, 分析加上之前的有好处呢? 还是重新开始有好处?"
   ]
  },
  {
   "cell_type": "code",
   "execution_count": null,
   "metadata": {
    "collapsed": true
   },
   "outputs": [],
   "source": [
    "# dynamic programming 的简便写法. time O(n), space O(1)\n",
    "class Solution(object):\n",
    "    def maxSubArray(self, nums):\n",
    "        \"\"\"\n",
    "        :type nums: List[int]\n",
    "        :rtype: int\n",
    "        \"\"\"\n",
    "        if not nums: return -1\n",
    "        \n",
    "        n, rst, maxRst = len(nums), nums[0], nums[0]  # ❎ 初始化要非常非常小心.\n",
    "        for i in xrange(1, n): # ❤️❤️ 从 1 开始.\n",
    "            rst = max(0, rst) + nums[i] # ❤️ 1) 分析现有结果是正数还是负数, 2) 如果是负数贡献为负, 不如归零.\n",
    "            maxRst = max(rst, maxRst)\n",
    "        return maxRst            "
   ]
  },
  {
   "cell_type": "code",
   "execution_count": null,
   "metadata": {
    "collapsed": true
   },
   "outputs": [],
   "source": [
    "# 严格 dynamic programming 的写法. time O(n), space O(n)\n",
    "class Solution(object):\n",
    "    # nums = [-2, 1, -3, 4, -1, 2, 1, -5, 4]\n",
    "    # f    = [-2, 1, -2, 4,  3, 5, 6,  1, 5]\n",
    "    # 状态转移方程: \n",
    "    #    f[i] = max(f[i-1], 0) + nums[i] # 发现状态转移方程 i 只和 i - 1 有关, 所以减少空间.\n",
    "    def maxSubArray(self, nums):\n",
    "        if not nums: return -1\n",
    "        \n",
    "        n = len(nums)\n",
    "        f = [0] * n\n",
    "        f[0] = maxRst = nums[0]\n",
    "        for i in xrange(1, n):\n",
    "            f[i] = max(f[i-1], 0) + nums[i]\n",
    "            maxRst = max(maxRst, f[i])\n",
    "        return maxRst"
   ]
  },
  {
   "cell_type": "markdown",
   "metadata": {},
   "source": [
    "### [152.med-Maximum Product Subarray](https://leetcode.com/problems/maximum-product-subarray/description/)\n",
    "##### 题意: Find the contiguous subarray within an array (containing at least one number) which has the largest product.\n",
    "* For example, given the array [2,3,-2,4],\n",
    "* the contiguous subarray [2,3] has the largest product = 6.\n",
    "\n",
    "##### 教程 (Edward Shi): https://www.youtube.com/watch?v=0KGesmEtA5o"
   ]
  },
  {
   "cell_type": "code",
   "execution_count": null,
   "metadata": {
    "collapsed": true
   },
   "outputs": [],
   "source": [
    "# 维持 max, min, rst 三个值. time O(n), space O(1)\n",
    "# 4/4/2018\n",
    "class Solution(object):\n",
    "    def maxProduct(self, nums):\n",
    "        \"\"\"\n",
    "        :type nums: List[int]\n",
    "        :rtype: int\n",
    "        \"\"\"\n",
    "        if not nums: return 0\n",
    "        \n",
    "        prev_max = prev_min = rst = nums[0]\n",
    "        for i in xrange(1, len(nums)):\n",
    "            x = nums[i]\n",
    "            maxv = max(max(prev_max*x, prev_min*x), x)\n",
    "            minv = min(min(prev_max*x, prev_min*x), x)\n",
    "            prev_max, prev_min = maxv, minv\n",
    "            rst = max(rst, maxv)\n",
    "        return rst"
   ]
  },
  {
   "cell_type": "markdown",
   "metadata": {},
   "source": [
    "### [70.easy-Climbing Stairs](https://leetcode.com/problems/climbing-stairs/description/)\n",
    "##### 题意: You are climbing a stair case. It takes n steps to reach to the top.\n",
    "* Each time you can either climb 1 or 2 steps. In how many distinct ways can you climb to the top?\n",
    "* Note: Given n will be a positive integer.\n",
    "\n",
    "* 举例#1:\n",
    "    ```\n",
    "    Input: 2\n",
    "    Output:  2\n",
    "    Explanation:  There are two ways to climb to the top.\n",
    "\n",
    "    1. 1 step + 1 step\n",
    "    2. 2 steps\n",
    "    ```\n",
    "* 举例#2: \n",
    "    ```\n",
    "    Input: 3\n",
    "    Output:  3\n",
    "    Explanation:  There are three ways to climb to the top.\n",
    "\n",
    "    1. 1 step + 1 step + 1 step\n",
    "    2. 1 step + 2 steps\n",
    "    3. 2 steps + 1 step\n",
    "    ```\n",
    "    \n",
    "##### 动态规划: 计数问题."
   ]
  },
  {
   "cell_type": "code",
   "execution_count": null,
   "metadata": {
    "collapsed": true
   },
   "outputs": [],
   "source": [
    "# 方法2: 简化的 dynamic programming, ❤️ time O(n), space O(1) ❤️ \n",
    "# 状态转移方程是: f(n) = f(n-1) + f(n-2), 当前项只和前两项相关, 所以简化 space 消耗.\n",
    "class Solution(object):\n",
    "    def climbStairs(self, n):\n",
    "        if n < 3: return n # ❤️ n=1时, 返回 1; n=2时, 返回2.\n",
    "        \n",
    "        first, second = 1, 2 \n",
    "        for i in xrange(2, n):\n",
    "            third = first + second\n",
    "            second, first = third, second\n",
    "        return third"
   ]
  },
  {
   "cell_type": "code",
   "execution_count": null,
   "metadata": {
    "collapsed": true
   },
   "outputs": [],
   "source": [
    "# 方法1: 严格意义的 dynamic programming, ❤️ time O(n), space O(n) ❤️\n",
    "class Solution(object):\n",
    "    # 状态方程是: f(n) = f(n-1) + f(n-2)\n",
    "    def climbStairs(self, n):\n",
    "        \"\"\"\n",
    "        :type n: int\n",
    "        :rtype: int\n",
    "        \"\"\"\n",
    "        if n < 3: return n\n",
    "        \n",
    "        f = [0] * n\n",
    "        f[0], f[1] = 1, 2\n",
    "        for i in xrange(2, n):\n",
    "            f[i] = f[i-1] + f[i-2]\n",
    "        return f[n-1]"
   ]
  },
  {
   "cell_type": "code",
   "execution_count": null,
   "metadata": {
    "collapsed": true
   },
   "outputs": [],
   "source": [
    "# 方法3: recursion + memorization, ❤️ time O(n), space O(n) ❤️\n",
    "class Solution(object):\n",
    "    def climbStairs(self, n):\n",
    "        rst = [0] * (n + 1)\n",
    "        return self.helper(n, rst)\n",
    "        \n",
    "    def helper(self, n, rst):\n",
    "        if n < 3: return n\n",
    "        \n",
    "        if rst[n] > 0: return rst[n] # ❤️ > 0 \n",
    "        \n",
    "        rst[n] = self.helper(n-1, rst) + self.helper(n-2, rst)\n",
    "        return rst [n]    "
   ]
  },
  {
   "cell_type": "markdown",
   "metadata": {},
   "source": [
    "### [❤️746.easy-Min Cost Climbing Stairs](https://leetcode.com/problems/min-cost-climbing-stairs/description/)\n",
    "##### 题意: 每次可以爬 1 或 2个 step, 但是每次都需要交过路费, 问最少交多少过路费, 就能爬到 顶部. 可以选择从 0 或 1 step 开始爬.\n",
    "\n",
    "##### 视频教程: https://www.youtube.com/watch?v=v3WqNLmmBdk"
   ]
  },
  {
   "cell_type": "code",
   "execution_count": null,
   "metadata": {
    "collapsed": true
   },
   "outputs": [],
   "source": [
    "# (方法1) dp[n]: the min cost to climb to the n-th step\n",
    "# 状态转移方程:\n",
    "#     dp[n] = min(dp[n-1] + cost[n-1], dp[n-2] + cost[n-2])\n",
    "class Solution(object):\n",
    "    def minCostClimbingStairs(self, cost):\n",
    "        \"\"\"\n",
    "        :type cost: List[int]\n",
    "        :rtype: int\n",
    "        \"\"\"\n",
    "        if not cost: return 0\n",
    "        \n",
    "        n = len(cost) # ❎❤️ 不能将 O(n) 的 space 复杂度, 降低到 O(1)\n",
    "        dp = [0] * (n + 1)\n",
    "        for i in xrange(2, n+1):\n",
    "            dp[i] = min(dp[i-1]+cost[i-1], dp[i-2]+cost[i-2])\n",
    "        return dp[n]"
   ]
  },
  {
   "cell_type": "code",
   "execution_count": null,
   "metadata": {
    "collapsed": true
   },
   "outputs": [],
   "source": [
    "# (方法2) dp[n]: the min cost before leaving the n-th step\n",
    "# 状态转移方程:\n",
    "#     dp[n] = min(dp[n-1], dp[n-2]) + cost[n]\n",
    "class Solution(object):\n",
    "    def minCostClimbingStairs(self, cost):\n",
    "        \"\"\"\n",
    "        :type cost: List[int]\n",
    "        :rtype: int\n",
    "        \"\"\"\n",
    "        if not cost: return 0\n",
    "        \n",
    "        n = len(cost)\n",
    "        if n < 2: return cost[0]\n",
    "        \n",
    "        dp = [0] * n\n",
    "        dp[0] = cost[0]\n",
    "        dp[1] = cost[1]\n",
    "        for i in xrange(2, n):\n",
    "            dp[i] = min(dp[i-1], dp[i-2]) + cost[i]\n",
    "        return min(dp[n-1], dp[n-2])"
   ]
  },
  {
   "cell_type": "markdown",
   "metadata": {},
   "source": [
    "### [338.medium-Counting Bits](https://leetcode.com/problems/counting-bits/description/)\n",
    "##### 题意: 给定非负整数  $n$, 对于所有数值 $0\\leq i \\leq n$, 计算其中的 1's 数量, 然后返回到 array 中.\n",
    "* 举例: For num = 5 you should return [0,1,1,2,1,2].\n",
    "* <span class=\"burk\">Follow ups</span>:\n",
    "    * It is very easy to come up with a solution with run time **O(n*sizeof(integer))**. But can you do it in **linear time O(n)**/possibly in a **single pass**?\n",
    "    * **Space complexity should be O(n)**."
   ]
  },
  {
   "cell_type": "code",
   "execution_count": null,
   "metadata": {
    "collapsed": true
   },
   "outputs": [],
   "source": [
    "class Solution(object):\n",
    "    def countBits(self, n):\n",
    "        \"\"\"\n",
    "        :type n: int\n",
    "        :rtype: List[int]\n",
    "        \"\"\"\n",
    "        rst = [0] * (n + 1) # ❤️ n + 1 是因为 0 <= i <= n\n",
    "        for i in xrange(1, n + 1): # ❤️ 从 1 开始是因为下一行的 i - 1.\n",
    "            rst[i] = rst[i&(i-1)] + 1\n",
    "        return rst"
   ]
  },
  {
   "cell_type": "markdown",
   "metadata": {},
   "source": [
    "### [115.easy-House Robber](https://leetcode.com/problems/house-robber/description/)\n",
    "##### 题意: 给定 list 模拟各house的钱, 小偷只能隔着偷 (不能偷相连的 house), 问小偷最多能偷多少钱?\n",
    "\n",
    "##### 总结:\n",
    "* 典型的 dynamic programming 问题, <span class=\"girk\">搞清楚四个要素</span>: 1) 状态, 2) 初始化, 3) 转移方程, 4) 结果.\n",
    "* House robber 问题在下述视频 https://www.youtube.com/watch?v=-i2BFAU25Zk&t=22s 中, 阐述的非常清楚."
   ]
  },
  {
   "cell_type": "code",
   "execution_count": 3,
   "metadata": {},
   "outputs": [
    {
     "name": "stdout",
     "output_type": "stream",
     "text": [
      "4\n"
     ]
    }
   ],
   "source": [
    "# \"Dynamic programming\" 最重要的是: 状态转移方程 + 初始化(边界条件)\n",
    "# ❤️❤️❤️❤️ 本题的状态转移方程式: ❤️❤️❤️❤️\n",
    "#      r[i]  = nr[i-1] + nums[i]\n",
    "#      nr[i] = max(r[i-1], nr[i-1]) # nr[i], 前一个时刻, 可偷也可不偷, 随意最佳策略是找最大值.\n",
    "\n",
    "class Solution(object):\n",
    "    def rob(self, nums):\n",
    "        \"\"\"\n",
    "        :type nums: List[int]\n",
    "        :rtype: int\n",
    "        \"\"\"\n",
    "        if not nums: return 0\n",
    "        \n",
    "        # r is rob, u is not rob, pre_r: the preious rob\n",
    "        pre_r = pre_u = 0\n",
    "        for x in nums:\n",
    "            r = pre_u + x\n",
    "            u = max(pre_u, pre_r)\n",
    "            \n",
    "            pre_r, pre_u = r, u\n",
    "            \n",
    "        return max(r, u)\n",
    "    \n",
    "print Solution().rob([1, 4, 2])"
   ]
  },
  {
   "cell_type": "code",
   "execution_count": 2,
   "metadata": {},
   "outputs": [
    {
     "name": "stdout",
     "output_type": "stream",
     "text": [
      "4\n"
     ]
    }
   ],
   "source": [
    "class Solution(object):\n",
    "    def rob(self, nums):\n",
    "        \"\"\"\n",
    "        :type nums: List[int]\n",
    "        :rtype: int\n",
    "        \"\"\"\n",
    "        if not nums: return 0\n",
    "        \n",
    "        # r is rob, u is not rob, r_prev: the previous rob\n",
    "        r = u = prev = 0\n",
    "        for x in nums: # ❤️❤️ 减少一个变量\n",
    "            prev = max(r, u)\n",
    "            r = u + x\n",
    "            u = prev\n",
    "            \n",
    "        return max(r, u)\n",
    "    \n",
    "print Solution().rob([1, 4, 2])"
   ]
  },
  {
   "cell_type": "markdown",
   "metadata": {},
   "source": [
    "### [213.med-House Robber II](https://leetcode.com/problems/house-robber-ii/description/)\n",
    "##### 题意: 假设给定 array <span class=\"girk\">首尾元素</span>是相邻的 (即是 circle 的), 小偷不能连续偷相邻的元素, 请问最多能偷多少?\n",
    "\n",
    "##### 分析: 多了一个 circle 的设定, 转移方程如何处理, 应该多了一些 constraints 吧?\n",
    "\n",
    "##### 教程: https://www.youtube.com/watch?v=-i2BFAU25Zk&t=22s"
   ]
  },
  {
   "cell_type": "code",
   "execution_count": null,
   "metadata": {
    "collapsed": true
   },
   "outputs": [],
   "source": [
    "# 基本的状态转移方程仍旧是 \n",
    "#      r[i] = nr[i-1] + nums[i]\n",
    "#     nr[i] = max(nr[i-1], r[i-1])\n",
    "# 核心内容:\n",
    "#     * 有两套上述转移公式, 然后最终融合对比.\n",
    "#     * 只有一栋的时候, \n",
    "class Solution(object):\n",
    "    def rob(self, nums):\n",
    "        \"\"\"\n",
    "        :type nums: List[int]\n",
    "        :rtype: int\n",
    "        \"\"\"\n",
    "        if not nums: return 0\n",
    "        if len(nums) == 1: return nums[0] # ❎❎ 只有一栋房子, 则返回它里面的值.\n",
    "        \n",
    "        no_1_rob = [0, 0] # ❤️ 不从第一栋开始. 0 表示不偷当前, 1 表示偷当前\n",
    "        rob = [0, nums[0]] # ❤️ 从第一栋开始. 0 表示不偷当前, 1 表示偷当前\n",
    "        \n",
    "        for i in xrange(1, len(nums)):\n",
    "            prev = max(no_1_rob)\n",
    "            no_1_rob[1] = no_1_rob[0] + nums[i]\n",
    "            no_1_rob[0] = prev\n",
    "            \n",
    "            prev = max(rob)\n",
    "            rob[1] = rob[0] + nums[i]\n",
    "            rob[0] = prev\n",
    "            \n",
    "        return max(rob[0], max(no_1_rob))"
   ]
  },
  {
   "cell_type": "markdown",
   "metadata": {},
   "source": [
    "### [337.med-House Robber III](https://leetcode.com/problems/house-robber-iii/description/)\n",
    "##### 题意: 假设给定 binary tree 结构的 house 排列, 小偷仍旧不能偷相邻的房子, 请问最多能偷多少?\n",
    "\n",
    "##### 分析: \n",
    "* 规则依旧, 数据结构变了.\n",
    "\n",
    "##### 教程: https://www.youtube.com/watch?v=-i2BFAU25Zk&t=22s"
   ]
  },
  {
   "cell_type": "code",
   "execution_count": null,
   "metadata": {
    "collapsed": true
   },
   "outputs": [],
   "source": [
    "# 状态转移方程: 对于节点 root\n",
    "#     nrob = max(left) + max(right)\n",
    "#     rob  = left[0] + right[0] + root.val\n",
    "\n",
    "# ❤️ 总结: tree 的题多用递归, 站在一个 node 的角度, 考虑左子树和右子树的返回, 融合到当前节点的问题.\n",
    "class Solution(object):\n",
    "    def rob(self, root):\n",
    "        \"\"\"\n",
    "        :type root: TreeNode\n",
    "        :rtype: int\n",
    "        \"\"\"\n",
    "        if not root: return 0\n",
    "        \n",
    "        rst = self.helper(root)\n",
    "        return max(rst)\n",
    "        \n",
    "    def helper(self, root):\n",
    "        if not root: return (0, 0)\n",
    "        \n",
    "        left = self.helper(root.left)\n",
    "        right = self.helper(root.right)\n",
    "        \n",
    "        nrob = max(left) + max(right) # ❤️❤️ \n",
    "        rob = left[0] + right[0] + root.val # ❤️❤️\n",
    "        return (nrob, rob)"
   ]
  },
  {
   "cell_type": "code",
   "execution_count": null,
   "metadata": {},
   "outputs": [],
   "source": [
    "### [121.easy-Best Time to Buy and Sell Stock](https://leetcode.com/problems/best-time-to-buy-and-sell-stock/description/)\n",
    "##### 题意: Say you have an array for which the ith element is the price of a given stock on day i.\n",
    "* If you were only permitted to complete <span class=\"girk\">at most one transaction</span> (ie, buy one and sell one share of the stock), design an algorithm to find the maximum profit.\n",
    "* 举例#1:\n",
    "   ```\n",
    "   Input: [7, 1, 5, 3, 6, 4]\n",
    "   Output: 5\n",
    "\n",
    "   max. difference = 6-1 = 5 (not 7-1 = 6, as selling price needs to be larger than buying price)\n",
    "   ```\n",
    "* 举例#2:\n",
    "    ```\n",
    "    Input: [7, 6, 4, 3, 1]\n",
    "    Output: 0\n",
    "\n",
    "    In this case, no transaction is done, i.e. max profit = 0.\n",
    "    ```\n",
    "   \n",
    "##### 分析: 1d 动态规划题, 两种方法. \n",
    "* 本质上求两个元素的最大差问题. 即求最小值, 然后求证当前值和最小值之间的差异是否是最大???\n",
    "\n",
    "##### 总结: https://www.youtube.com/watch?v=8pVhUpF1INw\n",
    "\n",
    "class Solution(object):\n",
    "    def maxProfit(self, prices):\n",
    "        \"\"\"\n",
    "        :type prices: List[int]\n",
    "        :rtype: int\n",
    "        \"\"\"\n",
    "        if not prices: return 0\n",
    "        \n",
    "        minPrice, maxProfit = prices[0], 0\n",
    "        for x in prices:\n",
    "            minPrice = min(x, minPrice) # ❤️ minPrice 本身是动态规划的一个变量 \n",
    "            maxProfit = max(maxProfit, x - minPrice)\n",
    "            \n",
    "        return maxProfit\n",
    "\n",
    "### [122.easy-Best Time to Buy and Sell Stock II](https://leetcode.com/problems/best-time-to-buy-and-sell-stock-ii/description/)\n",
    "##### 允许多次买卖, 但是一天不能进行多次操作.  和 121的区别仅仅在于, 一天多次交易.\n",
    "\n",
    "class Solution(object):\n",
    "    def maxProfit(self, prices):\n",
    "        \"\"\"\n",
    "        :type prices: List[int]\n",
    "        :rtype: int\n",
    "        \"\"\"\n",
    "        if not prices: return 0\n",
    "        \n",
    "        rst = 0\n",
    "        for i in xrange(1, len(prices)):\n",
    "            rst += max(0, prices[i]-prices[i-1])\n",
    "        return rst\n",
    "\n",
    "### [309.med-Best Time to Buy and Sell Stock with Cooldown](https://leetcode.com/problems/best-time-to-buy-and-sell-stock-with-cooldown/description/)\n",
    "##### 题意: Say you have an array for which the ith element is the price of a given stock on day i.\n",
    "* 设计算法获得最大利润, 但是需要满足以下条件:\n",
    "    * 可以<span class=\"girk\">完成多起交易</span>, 但需要先买入后卖出, 之后才能进行下一次交易.\n",
    "    * 买入卖出 到 下一次买入卖出间需要 cooldown 1 day. 必须相隔 1 天.\n",
    "* Example:\n",
    "```\n",
    "prices = [1, 2, 3, 0, 2]\n",
    "maxProfit = 3\n",
    "transactions = [buy, sell, cooldown, buy, sell]\n",
    "```\n",
    "\n",
    "\n",
    "##### 分析\n",
    "##### 总结: https://www.youtube.com/watch?v=oL6mRyTn56M\n",
    "\n",
    "class Solution(object):\n",
    "    def maxProfit(self, prices): # space: O(1)\n",
    "        if not prices: return 0\n",
    "        \n",
    "        pre_hold = float(\"-inf\")\n",
    "        pre_sold = pre_rest = 0\n",
    "        for price in prices:\n",
    "            sold = pre_hold + price\n",
    "            hold = max(pre_hold, pre_rest - price)\n",
    "            rest = max(pre_rest, pre_sold)\n",
    "            \n",
    "            # update the old variables \n",
    "            pre_sold, pre_hold, pre_rest = sold, hold, rest           \n",
    "            \n",
    "        return max(rest, sold)\n",
    "\n",
    "# ❤️❤️ 解决动态规划问题的标准范式 ❤️❤️ ------------------\n",
    "# 0 状态: sold, hold, rest.\n",
    "# 1 状态转移方程 # ❤️ 因为第 i 项之和 i-1 项有关, 所以可以减少 space 开销的.\n",
    "#     sold[i] = hold[i-1] + prices[i]\n",
    "#     hold[i] = max(hold[i-1], rest[i-1] - prices[i])\n",
    "#     rest[i] = max(rest[i-1], sold[i-1])\n",
    "# 2 状态初始化\n",
    "#     sold[0] = rest[0] = 0,  hold[0] = -inf\n",
    "# 3 最终输出\n",
    "#     max(sold[i], rest[i])\n",
    "# 4 complexity analysis\n",
    "#     time: O(n),  space: O(n) -> O(1)\n",
    "\n",
    "class Solution(object):\n",
    "    def maxProfit(self, prices): # space: O(n)\n",
    "        \"\"\"\n",
    "        :type prices: List[int]\n",
    "        :rtype: int\n",
    "        \"\"\"\n",
    "        if not prices: return 0\n",
    "        \n",
    "        n = len(prices)\n",
    "        sold = [0] * (n + 1)\n",
    "        hold = [0] * (n + 1)\n",
    "        rest = [0] * (n + 1)\n",
    "        sold[0] = rest[0] = 0\n",
    "        hold[0] = float(\"-inf\")\n",
    "        \n",
    "        for i in xrange(1, n + 1):\n",
    "            sold[i] = hold[i-1] + prices[i-1] # ❤️  prices[i-1] because the index shift in the prices\n",
    "            hold[i] = max(hold[i-1], rest[i-1] - prices[i-1])\n",
    "            rest[i] = max(rest[i-1], sold[i-1])\n",
    "        return max(sold[i], rest[i])   \n",
    "\n",
    "### [714.med-Best Time to Buy and Sell Stock with Transaction Fee](https://leetcode.com/problems/best-time-to-buy-and-sell-stock-with-transaction-fee/description/)\n",
    "##### 题意: Your are given an array of <span class=\"girk\">integers prices</span>, for which the $i$-th element is the price of a given stock on day $i$; and a <span class=\"girk\">non-negative integer fee</span> representing a transaction fee.\n",
    "* You may <span class=\"girk\">complete as many transactions as you like</span>, but you need to pay the transaction fee for each transaction.\n",
    "* You may not buy more than 1 share of a stock at a time (ie. you must sell the stock share before you buy again.)\n",
    "* Return the maximum profit you can make.\n",
    "\n",
    "##### 举例\n",
    "\n",
    "\"\"\"\n",
    "Input: prices = [1, 3, 2, 8, 4, 9], fee = 2\n",
    "Output: 8\n",
    "Explanation: The maximum profit can be achieved by:\n",
    "Buying at prices[0] = 1\n",
    "Selling at prices[3] = 8\n",
    "Buying at prices[4] = 4\n",
    "Selling at prices[5] = 9\n",
    "The total profit is ((8 - 1) - 2) + ((9 - 4) - 2) = 8.\n",
    "\"\"\"\n",
    "\n",
    "class Solution(object):\n",
    "    def maxProfit(self, prices, fee):\n",
    "        \"\"\"\n",
    "        :type prices: List[int]\n",
    "        :type fee: int\n",
    "        :rtype: int\n",
    "        \"\"\"\n",
    "        if not prices: return 0\n",
    "        \n",
    "        pre_rest = pre_sold = 0\n",
    "        pre_hold = float(\"-inf\")\n",
    "        for x in prices:\n",
    "            sold = pre_hold + x - fee\n",
    "            hold = max(pre_hold, max(pre_rest-x, pre_sold-x))\n",
    "            rest = max(pre_rest, pre_sold)\n",
    "                       \n",
    "            pre_rest, pre_sold, pre_hold = rest, sold, hold\n",
    "                       \n",
    "        return max(rest, sold)\n",
    "\n",
    "# 1 状态转移方程 # ❤️ 因为第 i 项之和 i-1 项有关, 所以可以减少 space 开销的.\n",
    "#     sold[i] = hold[i-1] + prices[i] - fee\n",
    "#     hold[i] = max(hold[i-1], max(rest[i-1]-prices[i], sold[i-1]-price[i]))\n",
    "#     rest[i] = max(rest[i-1], sold[i-1])\n",
    "# 2 状态初始化\n",
    "#     sold[0] = rest[0] = 0,  hold[0] = -inf\n",
    "# 3 最终输出\n",
    "#     max(sold[i], rest[i])\n",
    "# 4 complexity analysis\n",
    "#     time: O(n),  space: O(n) -> O(1)\n",
    "class Solution(object):\n",
    "    def maxProfit(self, prices, fee):\n",
    "        \"\"\"\n",
    "        :type prices: List[int]\n",
    "        :type fee: int\n",
    "        :rtype: int\n",
    "        \"\"\"\n",
    "        if not prices: return 0\n",
    "        \n",
    "        n = len(prices)\n",
    "        sold = [0] * (n + 1)\n",
    "        hold = [0] * (n + 1)\n",
    "        rest = [0] * (n + 1)\n",
    "        \n",
    "        sold[0] = rest[0] = 0\n",
    "        hold[0] = float(\"-inf\")\n",
    "        \n",
    "        for i in xrange(1, n + 1):\n",
    "            sold[i] = hold[i-1] + prices[i-1] - fee # because the trans. fees\n",
    "            hold[i] = max( hold[i-1], max(rest[i-1]-prices[i-1], sold[i-1]-prices[i-1]) )\n",
    "            rest[i] = max(rest[i-1], sold[i-1])\n",
    "            \n",
    "        return max(rest[n], sold[n])"
   ]
  },
  {
   "cell_type": "markdown",
   "metadata": {},
   "source": [
    "## Stack"
   ]
  },
  {
   "cell_type": "markdown",
   "metadata": {},
   "source": [
    "### [20.easy_Valid Parentheses-括号](https://leetcode.com/problems/valid-parentheses/description/)\n",
    "##### 题意: 判断小括号, 中括号 和 大括号 是否是成双成对的?\n",
    "\n",
    "##### 总结\n",
    "* 成对问题, 需要 dic\n",
    "* 第2种方法最优, 其次第3种, 第一种不好."
   ]
  },
  {
   "cell_type": "code",
   "execution_count": null,
   "metadata": {
    "collapsed": true
   },
   "outputs": [],
   "source": [
    "# (最优) 总结: 和上一个算法比起来, 该算法更简短易懂. Bug free @ 1/24/18 9:29 PM \n",
    "class Solution(object):\n",
    "    def isValid(self, s):\n",
    "        \"\"\"\n",
    "        :type s: str\n",
    "        :rtype: bool\n",
    "        \"\"\"\n",
    "        # ---- 1 the basic case ------------\n",
    "        if not s: return True\n",
    "        if len(s) & 1: return False # odd length is definitely not good\n",
    "        \n",
    "        # ---- 2 the algorithm ------------\n",
    "        stack = [] \n",
    "        dic   = {'(':')', '[':']', '{':'}'} # ❤️ 成对的问题 (不完全一致), 需要 dic 中的 pair. #❤️ 和上一种方法已经不一样了\n",
    "        \n",
    "        for x in s:                \n",
    "            if x in dic:    # ❎ ❤️ 和上面算法不一样, 我们\n",
    "                stack.append (dic[x])\n",
    "            else:           # 这样逻辑更加清晰 --- \n",
    "                if not stack or stack.pop () != x: # 判断为空, 或者 pop 不相等\n",
    "                    return False\n",
    "        return True if not stack else False"
   ]
  },
  {
   "cell_type": "code",
   "execution_count": null,
   "metadata": {
    "collapsed": true
   },
   "outputs": [],
   "source": [
    "# (次优) 总结: 和上两个算法对比起来, 中间那个最好, 这个其次, 最差的是第一个. Bug free @ 1/24/18 9:29 PM \n",
    "# 该算法和第二种算法其实本质是一样的, 只是这是分开来写了.\n",
    "class Solution(object):\n",
    "    def isValid(self, s):\n",
    "        \"\"\"\n",
    "        :type s: str\n",
    "        :rtype: bool\n",
    "        \"\"\"\n",
    "        stack = []\n",
    "        for x in s:\n",
    "            if x == '(':  \n",
    "                stack.append (')')\n",
    "            elif x == '[':  \n",
    "                stack.append (']')\n",
    "            elif x == '{':   \n",
    "                stack.append ('}')\n",
    "            else:     # pop \n",
    "                if not stack or stack.pop () != x:\n",
    "                    return False\n",
    "        return True if not stack else False"
   ]
  },
  {
   "cell_type": "markdown",
   "metadata": {},
   "source": [
    "### [155.easy-Min Stack](https://leetcode.com/problems/min-stack/description/)\n",
    "##### 题意: 设计 min stack, 实现以下功能\n",
    "* push(x) -- Push element x onto stack.\n",
    "* pop() -- Removes the element on top of the stack.\n",
    "* top() -- Get the top element.\n",
    "* getMin() -- Retrieve the minimum element in the stack.\n",
    "\n",
    "##### 分析\n",
    "##### 总结"
   ]
  },
  {
   "cell_type": "markdown",
   "metadata": {},
   "source": [
    "### [❤️739.med-Daily Temperatures](https://leetcode.com/problems/daily-temperatures/description/)\n",
    "\n",
    "##### 题意: temperature 存在一个 list 中, 输出还要等几天才能升温.\n",
    "* Given a list of daily temperatures, produce a list that, for each day in the input, tells you how many days you would have to wait until a warmer temperature. \n",
    "* If there is no future day for which this is possible, put 0 instead.\n",
    "* <span class=\"burk\">举例</span>: For example, given the list temperatures = [73, 74, 75, 71, 69, 72, 76, 73], your output should be [1, 1, 4, 2, 1, 1, 0, 0].\n",
    "* <span class=\"burk\">注意事项</span>: (Note): the length of temperatures will be in the range [1, 30000]. Each temperature will be an integer in the range [30, 100]\n",
    "\n",
    "##### 秘诀: https://leetcode.com/problems/daily-temperatures/solution/\n",
    "* 从后往前逐个进行.\n",
    "* 利用 stack 一直保存 index, 只保存 ```stack[index] > T[i]``` 的数值.\n",
    "\n",
    "##### 总结"
   ]
  },
  {
   "cell_type": "code",
   "execution_count": null,
   "metadata": {
    "collapsed": true
   },
   "outputs": [],
   "source": [
    "# Time Complexity: O(N), where NN is the length of T and W is the number of allowed values for T[i]. Each index gets pushed and popped at most once from the stack.\n",
    "# Space Complexity: O(W). The size of the stack is bounded as it represents strictly increasing temperatures.\n",
    "\n",
    "class Solution(object):\n",
    "    def dailyTemperatures(self, temp):\n",
    "        \"\"\"\n",
    "        :type temp: List[int]\n",
    "        :rtype: List[int]\n",
    "        \"\"\"\n",
    "        if not temp: return []\n",
    "        \n",
    "        nn = len(temp)\n",
    "        rst = [0] * nn\n",
    "        stack = []\n",
    "        for i in xrange(nn-1, -1, -1): # ❤️❤️❤️ 倒序 push to stack, stack pop 出来还是顺序 ❤️❤️❤️\n",
    "            while stack and temp[i] >= temp[stack[-1]]: # ❤️❤️ 保证 stack 中严格升序.\n",
    "                stack.pop()\n",
    "                \n",
    "            if stack:\n",
    "                rst[i] = stack[-1] - i # ❤️ 保存 index 的意义, 找出相距多远.\n",
    "    \n",
    "            stack.append(i)"
   ]
  },
  {
   "cell_type": "markdown",
   "metadata": {},
   "source": [
    "### [496.easy-Next Greater Element I](https://leetcode.com/problems/next-greater-element-i/description/)\n",
    "##### 题意, 分析, 教程 https://www.youtube.com/watch?v=wg2TXOQUOd0&t=297s\n",
    "* 例子: \n",
    "```python\n",
    "Input: nums1 = [4,1,2], nums2 = [1,3,4,2].\n",
    "Output: [-1,3,-1]\n",
    "```\n",
    "\n",
    "##### 分析\n",
    "##### 总结"
   ]
  },
  {
   "cell_type": "code",
   "execution_count": 28,
   "metadata": {},
   "outputs": [
    {
     "name": "stdout",
     "output_type": "stream",
     "text": [
      "[-1, 3, -1]\n"
     ]
    }
   ],
   "source": [
    "# Time & Space: O(n)\n",
    "# 思路和 739 的一样. 教程和该思路不一样.\n",
    "# https://www.youtube.com/watch?v=wg2TXOQUOd0&t=297s\n",
    "class Solution(object):\n",
    "    def nextGreaterElement(self, findNums, nums):\n",
    "        \"\"\"\n",
    "        :type findNums: List[int]\n",
    "        :type nums: List[int]\n",
    "        :rtype: List[int]\n",
    "        \"\"\"\n",
    "        if not nums: return []\n",
    "        \n",
    "        dic, stack = {}, []\n",
    "        for i in xrange(len(nums)-1, -1, -1):\n",
    "            x = nums[i]\n",
    "            while stack and x >= stack[-1]: # ❤️ 1) 和739不一样的是, 这里关心的是值, 不是 index\n",
    "                stack.pop()\n",
    "            \n",
    "            if stack: dic[x] = stack[-1]\n",
    "                \n",
    "            stack.append(x)\n",
    "            \n",
    "        rst = []\n",
    "        for x in findNums: \n",
    "            rst.append(dic.get(x,-1)) # ❤️ 3) 和739不一样, 这里 dic 存放的是n ums 的结果.\n",
    "        return rst\n",
    "\n",
    "#### Testing ######\n",
    "print Solution().nextGreaterElement([4,1,2], [1,3,4,2])"
   ]
  },
  {
   "cell_type": "markdown",
   "metadata": {},
   "source": [
    "### [503.med-Next Greater Element II](https://leetcode.com/problems/next-greater-element-ii/description/)\n",
    "##### 题意: Given a <span class=\"girk\">circular array</span> (the next element of the last element is the first element of the array), print the Next Greater Number for every element.\n",
    "* If it doesn't exist, output -1 for this number.\n",
    "* 举例:\n",
    "```python\n",
    "Input: [1,2,1]\n",
    "Output: [2,-1,2]\n",
    "```"
   ]
  },
  {
   "cell_type": "code",
   "execution_count": 32,
   "metadata": {},
   "outputs": [
    {
     "name": "stdout",
     "output_type": "stream",
     "text": [
      "[2, -1, 2]\n"
     ]
    }
   ],
   "source": [
    "class Solution(object):\n",
    "    def nextGreaterElements(self, nums):\n",
    "        \"\"\"\n",
    "        :type nums: List[int]\n",
    "        :rtype: List[int]\n",
    "        \"\"\"\n",
    "        if not nums: return []\n",
    "        \n",
    "        n, stack = len(nums), []\n",
    "        rst = [-1] * n\n",
    "        for i in xrange(2*n-1, -1, -1): # ❤️ 应对循环的方法, 不一定真的将 nums 拼成原来的两倍.\n",
    "            x = nums[i%n] # ❤️ 处理循环的方法\n",
    "            \n",
    "            while stack and x >= stack[-1]: \n",
    "                stack.pop()\n",
    "            \n",
    "            if stack and i < n:\n",
    "                rst[i] = stack[-1] # ❤️❤️ 就这里和没有循环的有些不同.\n",
    "                \n",
    "            stack.append(x)\n",
    "            \n",
    "        return rst\n",
    "    \n",
    "####### Testing #######\n",
    "print Solution().nextGreaterElements([1,2,1])"
   ]
  },
  {
   "cell_type": "code",
   "execution_count": 29,
   "metadata": {},
   "outputs": [
    {
     "name": "stdout",
     "output_type": "stream",
     "text": [
      "[2, -1, 2]\n"
     ]
    }
   ],
   "source": [
    "# Time & Space: O(n)\n",
    "# 思路和 496, 739 类似. 都是从后往前, 逐个处理.\n",
    "class Solution(object):\n",
    "    def nextGreaterElements(self, nums):\n",
    "        \"\"\"\n",
    "        :type nums: List[int]\n",
    "        :rtype: List[int]\n",
    "        \"\"\"\n",
    "        if not nums: return []\n",
    "        \n",
    "        stack = []\n",
    "        tmp_nums = nums * 2 # ❤️❤️ 循环的特殊处理方法, 其实不需要真的组成拼成原来的两倍.\n",
    "        rst = [-1] * len(tmp_nums)\n",
    "        for i in xrange(len(tmp_nums)-1, -1, -1):\n",
    "            x = tmp_nums[i]\n",
    "            while stack and x >= stack[-1]:\n",
    "                stack.pop()\n",
    "                \n",
    "            if stack: rst[i] = stack[-1]\n",
    "                \n",
    "            stack.append(x)\n",
    "            \n",
    "        return rst[:len(nums)]\n",
    "\n",
    "####### Testing #######\n",
    "print Solution().nextGreaterElements([1,2,1])      "
   ]
  },
  {
   "cell_type": "markdown",
   "metadata": {},
   "source": [
    "### [556.med-Next Greater Element III](https://leetcode.com/problems/next-<span class=\"girk\">greater</span>-element-iii/description/)\n",
    "##### 题意: Given a positive <span class=\"girk\">32-bit integer n</span>, you need to find the <span class=\"girk\">smallest</span> 32-bit integer which has <span class=\"girk\">exactly the same digits</span> existing in the integer n and is <span class=\"girk\">greater</span> in value than n.\n",
    "* If no such positive 32-bit integer exists, you need to \n",
    "* 举例1:\n",
    "```python\n",
    "Input: 12\n",
    "Output: 21\n",
    "```\n",
    "* 举例2:\n",
    "```python\n",
    "Input: 21\n",
    "Output: -1\n",
    "```\n",
    "\n",
    "##### 教程: https://leetcode.com/problems/next-greater-element-iii/discuss/101824/Simple-Java-solution-(4ms)-with-explanation."
   ]
  },
  {
   "cell_type": "code",
   "execution_count": 42,
   "metadata": {},
   "outputs": [
    {
     "name": "stdout",
     "output_type": "stream",
     "text": [
      "6 5 2\n",
      "13222344\n"
     ]
    }
   ],
   "source": [
    "# 感觉这题不咋地, 出的.\n",
    "class Solution(object):\n",
    "    def nextGreaterElement(self, n):\n",
    "        \"\"\"\n",
    "        :type n: int\n",
    "        :rtype: int\n",
    "        \"\"\"\n",
    "        # 1 edge condition\n",
    "        if n < 10: return -1\n",
    "        \n",
    "        # 2 interger to arr\n",
    "        nums = []\n",
    "        while n:\n",
    "            nums.append(n % 10)\n",
    "            n /= 10\n",
    "        \n",
    "        # 3 find the \n",
    "        swapOrNot, i = False, 1\n",
    "        while i < len(nums):\n",
    "            if nums[i-1] > nums[i]: # ❤️❤️ 1) 找到需要交换的位置\n",
    "                swapOrNot = True\n",
    "                break\n",
    "            i += 1\n",
    "            \n",
    "        if not swapOrNot: return -1\n",
    "        small_indx = i-1\n",
    "        for j in xrange(i):\n",
    "            if nums[i] < nums[j] < nums[small_indx]: # ❤️❤️ 2) 找到之前的最小值.\n",
    "                small_indx = j\n",
    "        nums[i], nums[small_indx] = nums[small_indx], nums[i]       \n",
    "        \n",
    "        # 4 nums --> integer\n",
    "        nums[0:i] = sorted(nums[0:i], reverse=True) # ❤️❤️ 3) 将之前的降序排列.\n",
    "        rst = 0\n",
    "        while nums: rst = 10*rst + nums.pop()\n",
    "        if rst > 2**31: return -1 # ❎❎ 巨坑, 以后出现 32 bit integer, 联想到超出范围的处理方案.\n",
    "        return rst\n",
    "\n",
    "#### Testing ####\n",
    "# print Solution().nextGreaterElement(230241)\n",
    "print Solution().nextGreaterElement(12443322) # 13222344"
   ]
  },
  {
   "cell_type": "markdown",
   "metadata": {},
   "source": [
    "### [150.med-Evaluate Reverse Polish Notation](https://leetcode.com/problems/evaluate-reverse-polish-notation/description/)\n",
    "##### 题意: Evaluate the value of an arithmetic expression in Reverse Polish Notation.\n",
    "* Valid operators are +, -, *, /. Each operand may be an integer or another expression."
   ]
  },
  {
   "cell_type": "code",
   "execution_count": 11,
   "metadata": {},
   "outputs": [
    {
     "name": "stdout",
     "output_type": "stream",
     "text": [
      "False\n"
     ]
    },
    {
     "data": {
      "text/plain": [
       "-1"
      ]
     },
     "execution_count": 11,
     "metadata": {},
     "output_type": "execute_result"
    }
   ],
   "source": [
    "\"\"\"\n",
    "Some examples:\n",
    "  [\"2\", \"1\", \"+\", \"3\", \"*\"] -> ((2 + 1) * 3) -> 9\n",
    "  [\"4\", \"13\", \"5\", \"/\", \"+\"] -> (4 + (13 / 5)) -> 6\n",
    "\"\"\"\n",
    "## 编程注意事项:\n",
    "print \"-11\".isdigit() # python isdigit() 只认正数, 不认负数. \n",
    "-1 / 10 # python 整数相除, 往低的取整."
   ]
  },
  {
   "cell_type": "code",
   "execution_count": 9,
   "metadata": {},
   "outputs": [
    {
     "name": "stdout",
     "output_type": "stream",
     "text": [
      "0\n",
      "0\n",
      "22\n"
     ]
    }
   ],
   "source": [
    "class Solution(object):\n",
    "    def evalRPN(self, s):\n",
    "        \"\"\"\n",
    "        :type s: List[str]\n",
    "        :rtype: int\n",
    "        \"\"\"\n",
    "        if not s: return 0\n",
    "        \n",
    "        stack = []\n",
    "        for x in s:\n",
    "            if x == \"+\" or x == \"-\" or x == \"*\" or x == \"/\":\n",
    "                if not stack: return -1\n",
    "                y1 = stack.pop()\n",
    "                if not stack: return -1\n",
    "                y2 = stack.pop()\n",
    "                if x == \"+\":\n",
    "                    tmp = y2 + y1\n",
    "                elif x == \"-\":\n",
    "                    tmp = y2 - y1\n",
    "                elif x == \"*\":\n",
    "                    tmp = y2 * y1\n",
    "                elif x == \"/\":\n",
    "                    tmp = y2 / y1\n",
    "                    if tmp < 0 and y2 % y1: tmp += 1\n",
    "                stack.append(tmp)\n",
    "            else:\n",
    "                stack.append(int(x))\n",
    "        return stack.pop()\n",
    "    \n",
    "\n",
    "print Solution().evalRPN([\"6\",\"-132\", \"/\"]) # 0\n",
    "print Solution().evalRPN([\"10\",\"6\",\"9\",\"3\",\"+\",\"-11\",\"*\",\"/\",\"*\"]) # 0\n",
    "print Solution().evalRPN([\"10\",\"6\",\"9\",\"3\",\"+\",\"-11\",\"*\",\"/\",\"*\",\"17\",\"+\",\"5\",\"+\"]) # 22"
   ]
  },
  {
   "cell_type": "code",
   "execution_count": null,
   "metadata": {
    "collapsed": true
   },
   "outputs": [],
   "source": [
    "## 方法2 (leetcode 答案). ❤️❤️❤️ 评价: 空间换时间, 多用 space, 减少计算量. \n",
    "# leetcode 答案: https://discuss.leetcode.com/topic/11985/my-python-solution\n",
    "\n",
    "class MinStack:\n",
    "    def __init__(self):\n",
    "        self.stack = []\n",
    "\n",
    "    # @param x, an integer\n",
    "    # @return an integer\n",
    "    def push(self, x):\n",
    "        curMin = self.getMin()\n",
    "        if curMin is None or x < curMin: # ❤️❎ not curMin 有歧义 有可能是 curMin == 0,\n",
    "            curMin = x                   # 所以保险起见还是 is None 来判断.\n",
    "        self.stack.append((x, curMin)); # ❤️ 空间换时间, 每次存进元素的值, 以及它对应的 min-val, 作为一个 tuple.\n",
    "\n",
    "    # @return nothing\n",
    "    def pop(self):\n",
    "        self.stack.pop()\n",
    "\n",
    "    # @return an integer\n",
    "    def top(self):\n",
    "        if len(self.stack) == 0:\n",
    "            return None\n",
    "        else:\n",
    "            return self.stack[-1][0] # ❤️ 怪不得需要两个index, 一个用于 list, 另一个用于 tuple.\n",
    "\n",
    "    # @return an integer\n",
    "    def getMin(self):\n",
    "        if len(self.stack) == 0:\n",
    "            return None\n",
    "        else:\n",
    "            return self.stack[-1][1]"
   ]
  }
 ],
 "metadata": {
  "kernelspec": {
   "display_name": "Python 3",
   "language": "python",
   "name": "python3"
  },
  "language_info": {
   "codemirror_mode": {
    "name": "ipython",
    "version": 3
   },
   "file_extension": ".py",
   "mimetype": "text/x-python",
   "name": "python",
   "nbconvert_exporter": "python",
   "pygments_lexer": "ipython3",
   "version": "3.6.5"
  },
  "toc": {
   "base_numbering": 1,
   "nav_menu": {},
   "number_sections": true,
   "sideBar": true,
   "skip_h1_title": true,
   "title_cell": "Table of Contents",
   "title_sidebar": "Contents",
   "toc_cell": true,
   "toc_position": {
    "height": "642px",
    "left": "0px",
    "right": "1084.28px",
    "top": "67px",
    "width": "225px"
   },
   "toc_section_display": "block",
   "toc_window_display": true
  }
 },
 "nbformat": 4,
 "nbformat_minor": 2
}

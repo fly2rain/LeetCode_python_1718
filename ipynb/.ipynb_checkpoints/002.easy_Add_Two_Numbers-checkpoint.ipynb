{
 "cells": [
  {
   "cell_type": "markdown",
   "metadata": {
    "toc": true
   },
   "source": [
    "<h1>Table of Contents<span class=\"tocSkip\"></span></h1>\n",
    "<div class=\"toc\" style=\"margin-top: 1em;\"><ul class=\"toc-item\"><li><span><a href=\"#链接\" data-toc-modified-id=\"链接-1\"><span class=\"toc-item-num\">1&nbsp;&nbsp;</span>链接</a></span></li><li><span><a href=\"#题意\" data-toc-modified-id=\"题意-2\"><span class=\"toc-item-num\">2&nbsp;&nbsp;</span>题意</a></span></li><li><span><a href=\"#分析\" data-toc-modified-id=\"分析-3\"><span class=\"toc-item-num\">3&nbsp;&nbsp;</span>分析</a></span></li><li><span><a href=\"#编程经验\" data-toc-modified-id=\"编程经验-4\"><span class=\"toc-item-num\">4&nbsp;&nbsp;</span>编程经验</a></span></li></ul></div>"
   ]
  },
  {
   "cell_type": "markdown",
   "metadata": {},
   "source": [
    "# 002.easy_Add_Two_Numbers\n",
    "### 链接\n",
    "\n",
    "* 题目：https://leetcode.com/problems/add-two-numbers/description/\n",
    "\n",
    "### 题意\n",
    "* 给定两个**非空** linked lists，list 的每一位存放一个**非负**的整数.\n",
    "* 数字存放是逆序的。这样的反而更加方便于计算。\n",
    "\n",
    "### 分析\n",
    "* 挺简单的，除了 access 操作，貌似比 list digits 相加更方便\n",
    "* 难点：两个 list 长度不一样; 最高位有进位，还需额外处理。\n",
    "\n",
    "### 编程经验\n",
    "\n",
    "```python\n",
    "```"
   ]
  },
  {
   "cell_type": "markdown",
   "metadata": {},
   "source": [
    "# Method # 1"
   ]
  },
  {
   "cell_type": "code",
   "execution_count": null,
   "metadata": {
    "collapsed": true
   },
   "outputs": [],
   "source": [
    "# Definition for singly-linked list.\n",
    "# class ListNode(object):\n",
    "#     def __init__(self, x):\n",
    "#         self.val = x\n",
    "#         self.next = None\n",
    "\n",
    "class Solution(object):\n",
    "    def addTwoNumbers(self, l1, l2):\n",
    "        \"\"\"\n",
    "        :type l1: ListNode\n",
    "        :type l2: ListNode\n",
    "        :rtype: ListNode\n",
    "        \"\"\"\n",
    "        dummy = curr = ListNode (-1)\n",
    "        \n",
    "        carry = 0\n",
    "        while l1 or l2 or carry:\n",
    "            s = 0\n",
    "            if l1:\n",
    "                s += l1.val\n",
    "                l1 = l1.next\n",
    "            if l2:\n",
    "                s += l2.val\n",
    "                l2 = l2.next\n",
    "            s += carry\n",
    "            \n",
    "            carry = s // 10\n",
    "            curr.next = ListNode (s % 10)\n",
    "            curr = curr.next\n",
    "                \n",
    "        return dummy.next"
   ]
  },
  {
   "cell_type": "code",
   "execution_count": null,
   "metadata": {
    "collapsed": true
   },
   "outputs": [],
   "source": [
    "#  Testing ----\n",
    "if __name__ == '__main__':\n",
    "    print Solution_2 (). "
   ]
  },
  {
   "cell_type": "markdown",
   "metadata": {},
   "source": [
    "# Method # 2"
   ]
  },
  {
   "cell_type": "code",
   "execution_count": 6,
   "metadata": {
    "collapsed": true
   },
   "outputs": [],
   "source": []
  },
  {
   "cell_type": "code",
   "execution_count": 7,
   "metadata": {},
   "outputs": [
    {
     "name": "stdout",
     "output_type": "stream",
     "text": [
      "[0, 1]\n"
     ]
    }
   ],
   "source": [
    "#  Testing ----\n",
    "if __name__ == '__main__':\n",
    "    print Solution_2 ()."
   ]
  }
 ],
 "metadata": {
  "kernelspec": {
   "display_name": "Python 2",
   "language": "python",
   "name": "python2"
  },
  "language_info": {
   "codemirror_mode": {
    "name": "ipython",
    "version": 2
   },
   "file_extension": ".py",
   "mimetype": "text/x-python",
   "name": "python",
   "nbconvert_exporter": "python",
   "pygments_lexer": "ipython2",
   "version": "2.7.13"
  },
  "toc": {
   "nav_menu": {},
   "number_sections": true,
   "sideBar": true,
   "skip_h1_title": true,
   "toc_cell": true,
   "toc_position": {},
   "toc_section_display": "block",
   "toc_window_display": true
  }
 },
 "nbformat": 4,
 "nbformat_minor": 2
}

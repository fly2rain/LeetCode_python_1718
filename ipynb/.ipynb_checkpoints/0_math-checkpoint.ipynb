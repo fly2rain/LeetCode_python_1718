{
 "cells": [
  {
   "cell_type": "markdown",
   "metadata": {
    "toc": true
   },
   "source": [
    "<h1>Table of Contents<span class=\"tocSkip\"></span></h1>\n",
    "<div class=\"toc\" style=\"margin-top: 1em;\"><ul class=\"toc-item\"><li><span><a href=\"#3/12\" data-toc-modified-id=\"3/12-1\"><span class=\"toc-item-num\">1&nbsp;&nbsp;</span><a href=\"\" target=\"_blank\">3/12</a></a></span><ul class=\"toc-item\"><li><span><a href=\"#9.easy-Palindrome-Number\" data-toc-modified-id=\"9.easy-Palindrome-Number-1.1\"><span class=\"toc-item-num\">1.1&nbsp;&nbsp;</span><a href=\"\" target=\"_blank\">9.easy-Palindrome Number</a></a></span></li><li><span><a href=\"#7.easy-Reverse-Integer\" data-toc-modified-id=\"7.easy-Reverse-Integer-1.2\"><span class=\"toc-item-num\">1.2&nbsp;&nbsp;</span><a href=\"https://leetcode.com/problems/reverse-integer/description/\" target=\"_blank\">7.easy-Reverse Integer</a></a></span></li><li><span><a href=\"#535.med-Encode-and-Decode-TinyURL\" data-toc-modified-id=\"535.med-Encode-and-Decode-TinyURL-1.3\"><span class=\"toc-item-num\">1.3&nbsp;&nbsp;</span><a href=\"https://leetcode.com/problems/encode-and-&lt;span class=&quot;girk&quot;&gt;decode&lt;/span&gt;-tinyurl/description/\" target=\"_blank\">535.med-Encode and Decode TinyURL</a></a></span></li><li><span><a href=\"#66.easy-Plus-One\" data-toc-modified-id=\"66.easy-Plus-One-1.4\"><span class=\"toc-item-num\">1.4&nbsp;&nbsp;</span><a href=\"https://leetcode.com/problems/plus-one/description/\" target=\"_blank\">66.easy-Plus One</a></a></span></li><li><span><a href=\"#258.easy-Add-Digits\" data-toc-modified-id=\"258.easy-Add-Digits-1.5\"><span class=\"toc-item-num\">1.5&nbsp;&nbsp;</span><a href=\"https://leetcode.com/problems/add-digits/description/\" target=\"_blank\">258.easy-Add Digits</a></a></span></li><li><span><a href=\"#202.easy-Happy-Number\" data-toc-modified-id=\"202.easy-Happy-Number-1.6\"><span class=\"toc-item-num\">1.6&nbsp;&nbsp;</span><a href=\"https://leetcode.com/problems/happy-number/description/\" target=\"_blank\">202.easy-Happy Number</a></a></span></li><li><span><a href=\"#❤️172.easy-Factorial-Trailing-Zeroes\" data-toc-modified-id=\"❤️172.easy-Factorial-Trailing-Zeroes-1.7\"><span class=\"toc-item-num\">1.7&nbsp;&nbsp;</span><a href=\"https://leetcode.com/problems/factorial-trailing-zeroes/description/\" target=\"_blank\">❤️172.easy-Factorial Trailing Zeroes</a></a></span></li><li><span><a href=\"#❤️50.med-Pow(x,-n)\" data-toc-modified-id=\"❤️50.med-Pow(x,-n)-1.8\"><span class=\"toc-item-num\">1.8&nbsp;&nbsp;</span><a href=\"https://leetcode.com/problems/powx-n/description/\" target=\"_blank\">❤️50.med-Pow(x, n)</a></a></span></li><li><span><a href=\"#171.easy-Excel-Sheet-Column-Number\" data-toc-modified-id=\"171.easy-Excel-Sheet-Column-Number-1.9\"><span class=\"toc-item-num\">1.9&nbsp;&nbsp;</span><a href=\"https://leetcode.com/problems/excel-sheet-column-number/description/\" target=\"_blank\">171.easy-Excel Sheet Column Number</a></a></span></li><li><span><a href=\"#168.easy-Excel-Sheet-Column-Title\" data-toc-modified-id=\"168.easy-Excel-Sheet-Column-Title-1.10\"><span class=\"toc-item-num\">1.10&nbsp;&nbsp;</span><a href=\"https://leetcode.com/problems/excel-sheet-column-title/description/\" target=\"_blank\">168.easy-Excel Sheet Column Title</a></a></span></li><li><span><a href=\"#319.med-Bulb-Switcher\" data-toc-modified-id=\"319.med-Bulb-Switcher-1.11\"><span class=\"toc-item-num\">1.11&nbsp;&nbsp;</span><a href=\"https://leetcode.com/problems/bulb-switcher/description/\" target=\"_blank\">319.med-Bulb Switcher</a></a></span></li><li><span><a href=\"#8.med-String-to-Integer-(atoi)\" data-toc-modified-id=\"8.med-String-to-Integer-(atoi)-1.12\"><span class=\"toc-item-num\">1.12&nbsp;&nbsp;</span><a href=\"https://leetcode.com/problems/string-to-integer-atoi/description/\" target=\"_blank\">8.med-String to Integer (atoi)</a></a></span></li><li><span><a href=\"#223.med-Rectangle-Area\" data-toc-modified-id=\"223.med-Rectangle-Area-1.13\"><span class=\"toc-item-num\">1.13&nbsp;&nbsp;</span><a href=\"https://leetcode.com/problems/rectangle-area/description/\" target=\"_blank\">223.med-Rectangle Area</a></a></span></li></ul></li><li><span><a href=\"#Most-Frequent\" data-toc-modified-id=\"Most-Frequent-2\"><span class=\"toc-item-num\">2&nbsp;&nbsp;</span><a href=\"\" target=\"_blank\">Most Frequent</a></a></span><ul class=\"toc-item\"><li><span><a href=\"#❤️268.easy-Missing-Number\" data-toc-modified-id=\"❤️268.easy-Missing-Number-2.1\"><span class=\"toc-item-num\">2.1&nbsp;&nbsp;</span><a href=\"https://leetcode.com/problems/missing-number/description/\" target=\"_blank\">❤️268.easy-Missing Number</a></a></span></li><li><span><a href=\"#43.med-Multiply-Strings\" data-toc-modified-id=\"43.med-Multiply-Strings-2.2\"><span class=\"toc-item-num\">2.2&nbsp;&nbsp;</span><a href=\"https://leetcode.com/problems/multiply-strings/description/\" target=\"_blank\">43.med-Multiply Strings</a></a></span></li><li><span><a href=\"#415.easy-Add-Strings\" data-toc-modified-id=\"415.easy-Add-Strings-2.3\"><span class=\"toc-item-num\">2.3&nbsp;&nbsp;</span><a href=\"https://leetcode.com/problems/add-strings/description/\" target=\"_blank\">415.easy-Add Strings</a></a></span></li><li><span><a href=\"#728.easy-Self-Dividing-Numbers\" data-toc-modified-id=\"728.easy-Self-Dividing-Numbers-2.4\"><span class=\"toc-item-num\">2.4&nbsp;&nbsp;</span><a href=\"https://leetcode.com/problems/self-dividing-numbers/description/\" target=\"_blank\">728.easy-Self Dividing Numbers</a></a></span></li><li><span><a href=\"#458.easy-Poor-Pigs\" data-toc-modified-id=\"458.easy-Poor-Pigs-2.5\"><span class=\"toc-item-num\">2.5&nbsp;&nbsp;</span><a href=\"https://leetcode.com/problems/poor-pigs/description/\" target=\"_blank\">458.easy-Poor Pigs</a></a></span></li><li><span><a href=\"#279.med-Perfect-Squares\" data-toc-modified-id=\"279.med-Perfect-Squares-2.6\"><span class=\"toc-item-num\">2.6&nbsp;&nbsp;</span><a href=\"https://leetcode.com/problems/perfect-squares/description/\" target=\"_blank\">279.med Perfect Squares</a></a></span></li><li><span><a href=\"#231.easy-Power-of-Two\" data-toc-modified-id=\"231.easy-Power-of-Two-2.7\"><span class=\"toc-item-num\">2.7&nbsp;&nbsp;</span><a href=\"https://leetcode.com/problems/power-of-two/description/\" target=\"_blank\">231.easy-Power of Two</a></a></span></li><li><span><a href=\"#263.easy-Ugly-Number\" data-toc-modified-id=\"263.easy-Ugly-Number-2.8\"><span class=\"toc-item-num\">2.8&nbsp;&nbsp;</span><a href=\"https://leetcode.com/problems/ugly-number/description/\" target=\"_blank\">263.easy-Ugly Number</a></a></span></li><li><span><a href=\"#204.easy-Count-Primes\" data-toc-modified-id=\"204.easy-Count-Primes-2.9\"><span class=\"toc-item-num\">2.9&nbsp;&nbsp;</span><a href=\"https://leetcode.com/problems/count-primes/description/\" target=\"_blank\">204.easy-Count Primes</a></a></span></li><li><span><a href=\"#❓149.hard-Max-Points-on-a-Line\" data-toc-modified-id=\"❓149.hard-Max-Points-on-a-Line-2.10\"><span class=\"toc-item-num\">2.10&nbsp;&nbsp;</span><a href=\"https://leetcode.com/problems/max-points-on-a-line/description/\" target=\"_blank\">❓149.hard-Max Points on a Line</a></a></span></li><li><span><a href=\"#❓233.hard-Number-of-Digit-One\" data-toc-modified-id=\"❓233.hard-Number-of-Digit-One-2.11\"><span class=\"toc-item-num\">2.11&nbsp;&nbsp;</span><a href=\"https://leetcode.com/problems/number-of-digit-one/description/\" target=\"_blank\">❓233.hard-Number of Digit One</a></a></span></li><li><span><a href=\"#❓273.hard-Integer-to-English-Words\" data-toc-modified-id=\"❓273.hard-Integer-to-English-Words-2.12\"><span class=\"toc-item-num\">2.12&nbsp;&nbsp;</span><a href=\"https://leetcode.com/problems/integer-to-english-words/description/\" target=\"_blank\">❓273.hard-Integer to English Words</a></a></span></li><li><span><a href=\"#❓335.hard-Self-Crossing\" data-toc-modified-id=\"❓335.hard-Self-Crossing-2.13\"><span class=\"toc-item-num\">2.13&nbsp;&nbsp;</span><a href=\"https://leetcode.com/problems/self-crossing/description/\" target=\"_blank\">❓335.hard-Self Crossing</a></a></span></li></ul></li></ul></div>"
   ]
  },
  {
   "cell_type": "markdown",
   "metadata": {},
   "source": [
    "# Math"
   ]
  },
  {
   "cell_type": "markdown",
   "metadata": {},
   "source": [
    "## [3/12]()"
   ]
  },
  {
   "cell_type": "markdown",
   "metadata": {},
   "source": [
    "### [9.easy-Palindrome Number]()\n",
    "##### 题意: constant space 判断 int 值是否是回文?\n",
    "##### 分析\n",
    "##### 总结"
   ]
  },
  {
   "cell_type": "code",
   "execution_count": null,
   "metadata": {
    "collapsed": true
   },
   "outputs": [],
   "source": [
    "# 思路: 将 x 反过来的结果和 原数对比.\n",
    "class Solution(object):\n",
    "    def isPalindrome(self, x):\n",
    "        \"\"\"\n",
    "        :type x: int\n",
    "        :rtype: bool\n",
    "        \"\"\"\n",
    "        # 1 edge condition. <0 或 1000 这种例子\n",
    "        if x < 0: # ❤️ edge condition 需要注意.\n",
    "            return False\n",
    "        \n",
    "        num, rev = x, 0 # ❎ 记得复制 x\n",
    "        while x:\n",
    "            rev = rev*10 + x%10\n",
    "            x /= 10\n",
    "        return num == rev"
   ]
  },
  {
   "cell_type": "markdown",
   "metadata": {},
   "source": [
    "### [7.easy-Reverse Integer](https://leetcode.com/problems/reverse-integer/description/)\n",
    "##### 题意: 给定 <span class=\"girk\">32-bit signed integer</span>, 写出它的倒序输出.\n",
    "##### 分析: 两个知识点: 1. 32bit 不要overflow, 2. signed."
   ]
  },
  {
   "cell_type": "code",
   "execution_count": null,
   "metadata": {
    "collapsed": true
   },
   "outputs": [],
   "source": [
    "\"\"\"\n",
    "Example 1:\n",
    "Input: 123\n",
    "Output:  321\n",
    "\n",
    "Example 2: # ❤️❤️ 要注意符号\n",
    "Input: -123\n",
    "Output: -321\n",
    "\n",
    "Example 3:\n",
    "Input: 120\n",
    "Output: 21\n",
    "\"\"\""
   ]
  },
  {
   "cell_type": "code",
   "execution_count": null,
   "metadata": {
    "collapsed": true
   },
   "outputs": [],
   "source": [
    "# IDEA:\n",
    "#     1) 32 bit, 容易 overflow\n",
    "#     2) 输入可能是 negative, 需要考虑\n",
    "#     3) 倒序.\n",
    "class Solution(object):\n",
    "    def reverse(self, x):\n",
    "        \"\"\"\n",
    "        :type x: int\n",
    "        :rtype: int\n",
    "        \"\"\"\n",
    "        is_negative = x < 0 \n",
    "        \n",
    "        revs, y = 0, abs(x)\n",
    "        while y:\n",
    "            revs = revs*10 + y%10\n",
    "            y /= 10\n",
    "        \n",
    "        if is_negative: revs = -revs\n",
    "            \n",
    "        if revs > (1<<31)-1 or revs<-1<<31: # ❎ 没有考虑 overflow 的问题. ❤️ 注意取值范围. 因为非负部分包含0, 所以少一位.\n",
    "            return 0\n",
    "        else:\n",
    "            return revs"
   ]
  },
  {
   "cell_type": "markdown",
   "metadata": {},
   "source": [
    "### [535.med-Encode and Decode TinyURL](https://leetcode.com/problems/encode-and-<span class=\"girk\">decode</span>-tinyurl/description/)\n",
    "##### 题意: 方便起见, 将长的 <span class=\"girk\">URL encode</span> 和 <span class=\"girk\">decode</span>.\n",
    "##### 分析\n",
    "##### 总结"
   ]
  },
  {
   "cell_type": "code",
   "execution_count": null,
   "metadata": {
    "collapsed": true
   },
   "outputs": [],
   "source": [
    "import string\n",
    "class Codec:\n",
    "    def __init__(self):\n",
    "        self.tiny_full = {}\n",
    "        self.full_tiny = {}\n",
    "        self.letters = string.ascii_letters + string.digits\n",
    "        self.len_letter = len(self.letters)\n",
    "        self.basic_url = \"http://tinyurl.com/\"\n",
    "        self.global_cnt = 0\n",
    "        \n",
    "    def encode(self, longUrl):\n",
    "        \"\"\"Encodes a URL to a shortened URL.\n",
    "        \n",
    "        :type longUrl: str\n",
    "        :rtype: str\n",
    "        \"\"\"\n",
    "        if longUrl not in self.full_tiny:\n",
    "            suffix = self.num2letters() # ❤️ 1) 创建两个字典, full_tiny, tiny_full\n",
    "            self.full_tiny[longUrl] = suffix \n",
    "            self.tiny_full[suffix] = longUrl\n",
    "            self.global_cnt += 1 # ❤️ 全局序号更新 \n",
    "        else:\n",
    "            suffix = self.full_tiny[longUrl]\n",
    "        return self.basic_url + suffix \n",
    "    \n",
    "    def num2letters(self): # 2) 根据序号转化为 62 位编码\n",
    "        suffix, x = \"\", self.global_cnt \n",
    "        while x:\n",
    "            suffix = suffix + self.letters[x%self.global_cnt]\n",
    "            x /= self.global_cnt\n",
    "        return suffix        \n",
    "\n",
    "    def decode(self, shortUrl): # 3) 根据 short Url 返回来检索长编码. \n",
    "        \"\"\"Decodes a shortened URL to its original URL.\n",
    "        \n",
    "        :type shortUrl: str\n",
    "        :rtype: str\n",
    "        \"\"\"\n",
    "        suffix = shortUrl.split(\"/\")[1]  # ❎ 之前没有把 \"/\" 后面的东西提取出来.\n",
    "        return self.tiny_full.get(suffix, \"\")\n",
    "        \n",
    "\n",
    "# Your Codec object will be instantiated and called as such:\n",
    "# codec = Codec()\n",
    "# codec.decode(codec.encode(url))"
   ]
  },
  {
   "cell_type": "markdown",
   "metadata": {},
   "source": [
    "### [66.easy-Plus One](https://leetcode.com/problems/plus-one/description/)\n",
    "##### 题意: 非负整数表示为 list，最重要的位在 list 的开头, 加 1。假设除了 0，第一位不能为 0.\n",
    "##### 分析\n",
    "##### 总结"
   ]
  },
  {
   "cell_type": "code",
   "execution_count": 8,
   "metadata": {},
   "outputs": [
    {
     "name": "stdout",
     "output_type": "stream",
     "text": [
      "[1, 0, 0]\n"
     ]
    }
   ],
   "source": [
    "# IDEA: 从右到左, 逐位处理, 只有当 digits[i] == 9 时 才有进位.\n",
    "class Solution(object):\n",
    "    def plusOne(self, digits):\n",
    "        \"\"\"\n",
    "        :type digits: List[int]\n",
    "        :rtype: List[int]\n",
    "        \"\"\"\n",
    "        if not digits: return 1\n",
    "    \n",
    "        for i in xrange(len(digits)-1, -1, -1): # ❤️ 1) 从尾到头 \n",
    "            if digits[i] == 9:\n",
    "                digits[i] = 0\n",
    "            else:\n",
    "                digits[i] += 1 # 2) ❤️ 如果不等于9, 则+1, 退出.\n",
    "                return digits\n",
    "            \n",
    "        if digits[0] == 0: # 3) ❎ 放在 for 循环里面了, 出错了. ❤️❤️ \n",
    "            digits[0] = 1\n",
    "            digits.append(0)\n",
    "        return digits\n",
    "\n",
    "print Solution().plusOne([9, 9])"
   ]
  },
  {
   "cell_type": "markdown",
   "metadata": {},
   "source": [
    "### [258.easy-Add Digits](https://leetcode.com/problems/add-digits/description/)\n",
    "##### 题意: 给定 non-negative integer num, 把每位相加, 直到只有一个元素为止. \n",
    "##### 见例子: Given num = 38, the process is like: 3 + 8 = 11, 1 + 1 = 2. Since 2 has only one digit, return it.\n",
    "##### Follow up: Could you do it without any loop/recursion in <span class=\"burk\">O(1) runtime</span>?"
   ]
  },
  {
   "cell_type": "code",
   "execution_count": null,
   "metadata": {
    "collapsed": true
   },
   "outputs": [],
   "source": [
    "# IDEA: 要求 O(1) time & space\n",
    "# ❤️❤️❤️ dr(n) = 1 + (n - 1) % 9 ❤️❤️❤️ \n",
    "# ~input: 0 1 2 3 4 …\n",
    "# output: 0 1 2 3 4 5 6 7 8 9 1 2 3 4 5 6 7 8 9 1 2 3 …\n",
    "\n",
    "class Solution(object):\n",
    "    def addDigits(self, num):\n",
    "        \"\"\"\n",
    "        :type num: int\n",
    "        :rtype: int\n",
    "        \"\"\"\n",
    "        if num == 0: return 0\n",
    "        \n",
    "        return 1 + (num - 1) % 9 # ❤️"
   ]
  },
  {
   "cell_type": "code",
   "execution_count": 6,
   "metadata": {},
   "outputs": [
    {
     "name": "stdout",
     "output_type": "stream",
     "text": [
      "6\n"
     ]
    }
   ],
   "source": [
    "class Solution(object):\n",
    "    def addDigits(self, num):\n",
    "        \"\"\"\n",
    "        :type num: int\n",
    "        :rtype: int\n",
    "        \"\"\"\n",
    "        if num < 10: return num\n",
    "        \n",
    "        while num > 9: \n",
    "            y = num\n",
    "            num = 0\n",
    "            while y:\n",
    "                num = num + y%10\n",
    "                y = y / 10\n",
    "        return num\n",
    "    \n",
    "print Solution().addDigits(15)"
   ]
  },
  {
   "cell_type": "markdown",
   "metadata": {},
   "source": [
    "### [202.easy-Happy Number](https://leetcode.com/problems/happy-number/description/)\n",
    "##### 题意: Write an algorithm to <span class=\"girk\">determine if a number is \"happy\"</span>."
   ]
  },
  {
   "cell_type": "code",
   "execution_count": null,
   "metadata": {
    "collapsed": true
   },
   "outputs": [],
   "source": [
    "\"\"\" Example: 19 is a happy number\n",
    "1^2 + 9^2 = 82\n",
    "8^2 + 2^2 = 68\n",
    "6^2 + 8^2 = 100\n",
    "1^2 + 0^2 + 0^2 = 1\n",
    "\"\"\""
   ]
  },
  {
   "cell_type": "code",
   "execution_count": null,
   "metadata": {
    "collapsed": true
   },
   "outputs": [],
   "source": [
    "class Solution(object):\n",
    "    def isHappy(self, n):\n",
    "        \"\"\"\n",
    "        :type n: int\n",
    "        :rtype: bool\n",
    "        \"\"\"\n",
    "        seen = set()\n",
    "        while n not in seen:\n",
    "            seen.add(n) # ❤️❤️ 可以用 set() 作为hash set, 考察有没有重复出现.\n",
    "            n = sum([int(i) ** 2 for i in str(n)])\n",
    "        return n == 1"
   ]
  },
  {
   "cell_type": "markdown",
   "metadata": {},
   "source": [
    "### [❤️172.easy-Factorial Trailing Zeroes](https://leetcode.com/problems/factorial-trailing-zeroes/description/)\n",
    "##### 题意: Given an integer n, return the number of trailing zeroes in n!.\n",
    "* Note: Your solution should be in logarithmic time complexity.\n",
    "\n",
    "##### 分析\n",
    "##### 教程: ❤️ https://www.youtube.com/watch?v=iOxnYC3Kw7k"
   ]
  },
  {
   "cell_type": "code",
   "execution_count": null,
   "metadata": {
    "collapsed": true
   },
   "outputs": [],
   "source": [
    "# ❤️ IDEA ❤️:\n",
    "#     1) 0 的个数等同于 2 * 5 的个数\n",
    "#     2) 2 的个数远远大于5的个数, 转化为数5的个数\n",
    "#     3) 然后就是递归调用, 查找5的个数\n",
    "# \n",
    "# Multiple of 5 provides one 5, multiple of 25 provides two 5 and so on.\n",
    "#     return n/5 + n/25 + n/125 + n/625 + n/3125+...\n",
    "\n",
    "class Solution(object):\n",
    "    def trailingZeroes(self, n):\n",
    "        \"\"\"\n",
    "        :type n: int\n",
    "        :rtype: int\n",
    "        \"\"\"\n",
    "        if n == 0: return 0\n",
    "        \n",
    "        # 5 的出现次数, 只能是5 的倍数; n! 阶乘只关心5的\n",
    "        return n / 5 + self.trailingZeroes(n / 5)\n",
    "        "
   ]
  },
  {
   "cell_type": "markdown",
   "metadata": {},
   "source": [
    "### [❤️50.med-Pow(x, n)](https://leetcode.com/problems/powx-n/description/)\n",
    "##### 题意: Implement pow(x, n).\n",
    "##### 分析\n",
    "##### 总结"
   ]
  },
  {
   "cell_type": "code",
   "execution_count": null,
   "metadata": {
    "collapsed": true
   },
   "outputs": [],
   "source": [
    "# ❤️❤️ 注意事项 ❤️❤️ \n",
    "#     1) invalid inputs 和 float 相等只能是某个 threshold 下面相等.\n",
    "#     2) n 如果是 negative 的处理.\n",
    "#     3) n 次方的高效二分处理的方法.\n",
    "class Solution(object):\n",
    "    def __init__(self):\n",
    "        self.invalid_inputs = False\n",
    "        \n",
    "    def myPow(self, x, n):\n",
    "        \"\"\"\n",
    "        :type x: float\n",
    "        :type n: int\n",
    "        :rtype: float\n",
    "        \"\"\"\n",
    "        # ❤️ 1 edge condition\n",
    "        self.invalid_input = False\n",
    "        if self.isEqual(x, 0) and n < 0: # 1) invalid inputs 和 float 相等只能是某个 threshold 下面相等.\n",
    "            self.invalid_input = True\n",
    "            return 0.0 # invalide inputs\n",
    "        \n",
    "        # 2 do the computation\n",
    "        is_negative = n < 0 # 2) n 如果是 negative 的处理\n",
    "        rst = self.helper(x, abs(n))\n",
    "        return rst if not is_negative else 1.0/rst\n",
    "    \n",
    "    def isEqual(self, x, y):\n",
    "        return abs(x - y) < 1e-10\n",
    "    \n",
    "    def helper(self, x, n):\n",
    "        if n == 0: return 1\n",
    "        \n",
    "        # 3) n 次方的高效二分处理的方法.\n",
    "        rst = self.helper(x, n>>1) # ❤️❤️ n >> 1 等价于 n / 2, 当 n > 0 时放心使用\n",
    "        rst = rst * rst\n",
    "        if n & 1: # odd case, ❤️其中 n & 1 等价于 n % 2\n",
    "            rst = rst * x\n",
    "        return rst\n",
    "    \n",
    "print Solution().myPow(2, -1)"
   ]
  },
  {
   "cell_type": "markdown",
   "metadata": {},
   "source": [
    "### [171.easy-Excel Sheet Column Number](https://leetcode.com/problems/excel-sheet-column-number/description/)\n",
    "##### 题意: 将 excel 利用 ABCDEDF 的编码转化成 \n",
    "```python\n",
    "ord(\"A\") # 65, 将 ascaii 码转化成 index \n",
    "ord(\"a\") # 97\n",
    "ord(\"C\") - ord(\"A\") + 1 # ❤️ \"A\" 为 1 时, 其他字母的计数.\n",
    "ord(\"C\") - ord(\"A\") # ❤️ \"A\" 为 0 时, 其他字母的计数, 偏移量.\n",
    "```"
   ]
  },
  {
   "cell_type": "code",
   "execution_count": null,
   "metadata": {
    "collapsed": true
   },
   "outputs": [],
   "source": [
    "\"\"\"\n",
    "    A -> 1\n",
    "    B -> 2\n",
    "    C -> 3\n",
    "    ...\n",
    "    Z -> 26\n",
    "    AA -> 27\n",
    "    AB -> 28 \n",
    "\"\"\""
   ]
  },
  {
   "cell_type": "code",
   "execution_count": null,
   "metadata": {
    "collapsed": true
   },
   "outputs": [],
   "source": [
    "# ❤️教训❤️: 口头跑例子很重要, 能够排除基本的例子.\n",
    "class Solution(object):\n",
    "    def titleToNumber(self, s):\n",
    "        \"\"\"\n",
    "        :type s: str\n",
    "        :rtype: int\n",
    "        \"\"\"\n",
    "        if not s: return 0\n",
    "        \n",
    "        rst = 0\n",
    "        for x in s:\n",
    "            rst = rst * 26 + (ord(x) - ord(\"A\") + 1)\n",
    "        return rst"
   ]
  },
  {
   "cell_type": "markdown",
   "metadata": {},
   "source": [
    "### [168.easy-Excel Sheet Column Title](https://leetcode.com/problems/excel-sheet-column-title/description/)\n",
    "##### 题意: Given a positive integer, return its corresponding column title as appear in an Excel sheet."
   ]
  },
  {
   "cell_type": "code",
   "execution_count": null,
   "metadata": {
    "collapsed": true
   },
   "outputs": [],
   "source": [
    "\"\"\" For example:\n",
    "    1 -> A\n",
    "    2 -> B\n",
    "    3 -> C\n",
    "    ...\n",
    "    26 -> Z\n",
    "    27 -> AA\n",
    "    28 -> AB \n",
    "\"\"\""
   ]
  },
  {
   "cell_type": "code",
   "execution_count": null,
   "metadata": {
    "collapsed": true
   },
   "outputs": [],
   "source": [
    "import string\n",
    "class Solution(object):\n",
    "    def convertToTitle(self, n):\n",
    "        \"\"\"\n",
    "        :type n: int\n",
    "        :rtype: str\n",
    "        \"\"\"\n",
    "        if n < 1: return \"\"\n",
    "        \n",
    "        letter = string.ascii_uppercase # ❤️❤️ string 如何调出 ascii_uppercase, ascii_lowercase\n",
    "        LEN = len(letter)\n",
    "        \n",
    "        rst = []\n",
    "        while n:\n",
    "            rst.append( letter[(n-1)%LEN] ) # ❤️❤️ 为了将 1-based, 转化成 0-based\n",
    "            n = (n-1)/LEN\n",
    "        return \"\".join(rst[::-1])"
   ]
  },
  {
   "cell_type": "markdown",
   "metadata": {},
   "source": [
    "### [319.med-Bulb Switcher](https://leetcode.com/problems/bulb-switcher/description/)\n",
    "##### 题意: n 个灯泡刚开始全关着, 第1次每1个灯泡都变动开关, 第2次每2个灯泡都变动开关, 第3次每3个灯泡都变动一次开关.\n",
    "##### 分析:\n",
    "##### 总结:"
   ]
  },
  {
   "cell_type": "code",
   "execution_count": null,
   "metadata": {
    "collapsed": true
   },
   "outputs": [],
   "source": [
    "\"\"\"\n",
    "Call them bulb 1 to bulb n. \n",
    "* Bulb i is switched in round d if and only if d divides i. \n",
    "* So bulb i ends up on if and only if it has an odd number of divisors.\n",
    "\n",
    "❤️Divisors come in pairs❤️, like i=12 has divisors 1 and 12, 2 and 6, and 3 and 4. \n",
    "* Except when i is a square, like 36 has divisors 1 and 36, 2 and 18, 3 and 12, 4 and 9, and double divisor 6.\n",
    "* So bulb i ends up on if and only if i is a square.\n",
    "\"\"\""
   ]
  },
  {
   "cell_type": "code",
   "execution_count": null,
   "metadata": {
    "collapsed": true
   },
   "outputs": [],
   "source": [
    "class Solution(object):\n",
    "    def bulbSwitch(self, n):\n",
    "        \"\"\"\n",
    "        :type n: int\n",
    "        :rtype: int\n",
    "        \"\"\"\n",
    "        return int(n**0.5) # ❤️ python 没有 built-in sqrt 貌似."
   ]
  },
  {
   "cell_type": "markdown",
   "metadata": {},
   "source": [
    "### [8.med-String to Integer (atoi)](https://leetcode.com/problems/string-to-integer-atoi/description/)\n",
    "##### 题意: string 转化为 int, 难点在多种边界条件\n",
    "* -+号\n",
    "* 非数字, 比如字母,\n",
    "* 越界\n",
    "\n",
    "##### 分析\n",
    "##### 总结"
   ]
  },
  {
   "cell_type": "code",
   "execution_count": 1,
   "metadata": {},
   "outputs": [
    {
     "name": "stdout",
     "output_type": "stream",
     "text": [
      "1232\n"
     ]
    }
   ],
   "source": [
    "# 多种边界条件¶\n",
    "# 1) -+号\n",
    "# 2) 非数字, 比如字母,\n",
    "# 3) 越界\n",
    "class Solution(object):\n",
    "    def myAtoi(self, s):\n",
    "        \"\"\"\n",
    "        :type s: str\n",
    "        :rtype: int\n",
    "        \"\"\"\n",
    "        s = s.strip() # ❤️❎竟然是这种语法. 去掉❤️前后❤️的空格 \" \"\n",
    "        if not s: return 0\n",
    "        \n",
    "        sign, start = 1, 0\n",
    "        if s[0] == \"+\":\n",
    "            start += 1\n",
    "            sign = 1\n",
    "        elif s[0] == \"-\":\n",
    "            start += 1\n",
    "            sign = -1\n",
    "        \n",
    "        i = start\n",
    "        while i < len(s) and s[i].isdigit(): i += 1\n",
    "        rst = s[start:i]\n",
    "        \n",
    "        if not rst: return 0 # ❎❎ 万一只有 + 或 - 号\n",
    "        rst = int(rst)\n",
    "        \n",
    "        INT_MIN, INT_MAX = -1<<31, (1<<31)-1 # ❤️❤️ 范围, 减法优先级高于 << 运算.\n",
    "        if sign == 1:\n",
    "            return min(INT_MAX, rst)\n",
    "        else:\n",
    "            return max(INT_MIN, -rst)\n",
    "        \n",
    "print Solution().myAtoi(\"   1232 \")"
   ]
  },
  {
   "cell_type": "markdown",
   "metadata": {},
   "source": [
    "### [223.med-Rectangle Area](https://leetcode.com/problems/rectangle-area/description/)\n",
    "##### 题意: 求两个长方形的面积. 要点: 抛去重合部分.\n",
    "![](https://leetcode.com/static/images/problemset/rectangle_area.png)\n",
    "\n",
    "##### 分析\n",
    "##### 总结"
   ]
  },
  {
   "cell_type": "code",
   "execution_count": null,
   "metadata": {
    "collapsed": true
   },
   "outputs": [],
   "source": [
    "class Solution(object):\n",
    "    def computeArea(self, A, B, C, D, E, F, G, H):\n",
    "        \"\"\"\n",
    "        :type A: int\n",
    "        :type B: int\n",
    "        :type C: int\n",
    "        :type D: int\n",
    "        :type E: int\n",
    "        :type F: int\n",
    "        :type G: int\n",
    "        :type H: int\n",
    "        :rtype: int\n",
    "        \"\"\"\n",
    "        areaA = (D - B) * (C - A)\n",
    "        areaB = (H - F) * (G - E)\n",
    "        \n",
    "        # ❤️❤️ overlap 长方形的上下左右.\n",
    "        left = max(A, E)\n",
    "        right = min(C, G)\n",
    "        top = min(D, H)\n",
    "        bottom = max(B, F)\n",
    "        \n",
    "        areaOverlap = 0\n",
    "        if right > left and top > bottom:\n",
    "            areaOverlap = (top - bottom) * (right - left)\n",
    "        return areaA + areaB - areaOverlap"
   ]
  },
  {
   "cell_type": "markdown",
   "metadata": {},
   "source": [
    "## [Most Frequent]()"
   ]
  },
  {
   "cell_type": "markdown",
   "metadata": {},
   "source": [
    "### [❤️268.easy-Missing Number](https://leetcode.com/problems/missing-number/description/)\n",
    "##### 题意: Given an array containing n distinct numbers taken from 0, 1, 2, ..., n, find the one that is missing from the array."
   ]
  },
  {
   "cell_type": "code",
   "execution_count": null,
   "metadata": {
    "collapsed": true
   },
   "outputs": [],
   "source": [
    "\"\"\"\n",
    "Example 1\n",
    "\n",
    "Input: [3,0,1]\n",
    "Output: 2\n",
    "Example 2\n",
    "\n",
    "Input: [9,6,4,2,3,5,7,0,1]\n",
    "Output: 8\n",
    "\n",
    "❤️Note❤️:\n",
    "Your algorithm should run in linear runtime complexity.\n",
    "Could you implement it using only constant extra space complexity?\n",
    "\"\"\""
   ]
  },
  {
   "cell_type": "code",
   "execution_count": null,
   "metadata": {
    "collapsed": true
   },
   "outputs": [],
   "source": [
    "# IDEA 2: 利用 Bit Manipulation. Time: O(n), Space: O(1). With example 1\n",
    "# missing = 4∧(0∧0)∧(1∧1)∧(2∧3)∧(3∧4)\n",
    "#         = (4∧4)∧(0∧0)∧(1∧1)∧(3∧3)∧2\n",
    "#         = 0∧0∧0∧0∧2=2\n",
    "class Solution(object):\n",
    "    def missingNumber(self, nums):\n",
    "        \"\"\"\n",
    "        :type nums: List[int]\n",
    "        :rtype: int\n",
    "        \"\"\"\n",
    "        missing = len(nums)\n",
    "        for i, x in enumerate(nums):\n",
    "            missing ^= i ^ x\n",
    "        return missing"
   ]
  },
  {
   "cell_type": "code",
   "execution_count": null,
   "metadata": {
    "collapsed": true
   },
   "outputs": [],
   "source": [
    "# IDEA 1: 利用 hashset. Time: O(n), Space: O(1)\n",
    "class Solution(object):\n",
    "    def missingNumber(self, nums):\n",
    "        \"\"\"\n",
    "        :type nums: List[int]\n",
    "        :rty\n",
    "        \"\"\"\n",
    "        dic = set(nums)\n",
    "        for x in xrange(len(nums)+1):\n",
    "            if x not in dic:\n",
    "                return x"
   ]
  },
  {
   "cell_type": "markdown",
   "metadata": {},
   "source": [
    "### [43.med-Multiply Strings](https://leetcode.com/problems/multiply-strings/description/)\n",
    "##### 题意: Given two non-negative integers num1 and num2 represented as strings, return the product of num1 and num2.\n",
    "##### Note:\n",
    "* The length of both num1 and num2 is < 110.\n",
    "* Both num1 and num2 contains only digits 0-9.\n",
    "* Both num1 and num2 does not contain any leading zero.\n",
    "* You must not use any built-in BigInteger library or convert the inputs to integer directly\n",
    "\n",
    "##### 解题教程: https://leetcode.com/problems/multiply-strings/discuss/17605/Easiest-JAVA-Solution-with-Graph-Explanation\n",
    "![](https://drscdn.500px.org/photo/130178585/m%3D2048/300d71f784f679d5e70fadda8ad7d68f)"
   ]
  },
  {
   "cell_type": "code",
   "execution_count": null,
   "metadata": {
    "collapsed": true
   },
   "outputs": [],
   "source": [
    "class Solution(object):\n",
    "    def multiply(self, num1, num2):\n",
    "        \"\"\"\n",
    "        :type num1: str\n",
    "        :type num2: str\n",
    "        :rtype: str\n",
    "        \"\"\"\n",
    "        m, n = len(num1), len(num2)\n",
    "        rst = [0]*(m+n)\n",
    "        for i in xrange(m-1, -1, -1):\n",
    "            for j in xrange(n-1, -1, -1):\n",
    "                p1, p2 = i+j, i+j+1\n",
    "                s = (ord(num1[i])-ord(\"0\")) * (ord(num2[j])-ord(\"0\"))\n",
    "                s += rst[p2]\n",
    "                \n",
    "                rst[p1] += s / 10  # ❤️❤️ += 非常重要\n",
    "                rst[p2] = s % 10\n",
    "                \n",
    "        if not rst: return \"0\"  # ❤️❤️ 以防全是 0, 导致 rst 为空的例子\n",
    "        for i in xrange(len(rst)):\n",
    "            rst[i] = str(rst[i])\n",
    "            \n",
    "        return str(int(\"\".join(rst))) # ❤️❤️ 去除开头的零."
   ]
  },
  {
   "cell_type": "markdown",
   "metadata": {},
   "source": [
    "### [415.easy-Add Strings](https://leetcode.com/problems/add-strings/description/)\n",
    "##### 题意: Given two non-negative integers num1 and num2 represented as string, return the sum of num1 and num2.\n",
    "##### Note: \n",
    "* The length of both num1 and num2 is < 5100.\n",
    "* Both num1 and num2 contains only digits 0-9.\n",
    "* Both num1 and num2 does not contain any leading zero.\n",
    "* You must not use any built-in BigInteger library or convert the inputs to integer directly."
   ]
  },
  {
   "cell_type": "code",
   "execution_count": null,
   "metadata": {
    "collapsed": true
   },
   "outputs": [],
   "source": [
    "class Solution(object):\n",
    "    def addStrings(self, num1, num2):\n",
    "        \"\"\"\n",
    "        :type num1: str\n",
    "        :type num2: str\n",
    "        :rtype: str\n",
    "        \"\"\"\n",
    "        if not num1: return num2\n",
    "        if not num2: return num1\n",
    "        \n",
    "        rst = []\n",
    "        carry = 0\n",
    "        i, j = len(num1)-1, len(num2)-1\n",
    "        while i > -1 or j > -1 or carry:\n",
    "            s = carry\n",
    "            if i > -1:\n",
    "                s += int(num1[i])\n",
    "                i -= 1\n",
    "            if j > -1:\n",
    "                s += int(num2[j])\n",
    "                j -= 1\n",
    "            \n",
    "            carry = s / 10\n",
    "            rst.append(str(s%10))\n",
    "        \n",
    "        return  \"\".join(rst[::-1])"
   ]
  },
  {
   "cell_type": "markdown",
   "metadata": {},
   "source": [
    "### [728.easy-Self Dividing Numbers](https://leetcode.com/problems/self-dividing-numbers/description/)\n",
    "##### 题意: 给定 [left, right], 返回所有 self-dividing numbers\n",
    "* A self-dividing number is a number that is divisible by every digit it contains. For example, 128 is a self-dividing number because 128 % 1 == 0, 128 % 2 == 0, and 128 % 8 == 0."
   ]
  },
  {
   "cell_type": "code",
   "execution_count": null,
   "metadata": {
    "collapsed": true
   },
   "outputs": [],
   "source": [
    "\"\"\"\n",
    "Example 1:\n",
    "Input: \n",
    "left = 1, right = 22\n",
    "Output: [1, 2, 3, 4, 5, 6, 7, 8, 9, 11, 12, 15, 22]\n",
    "Note:\n",
    "\n",
    "The boundaries of each input argument are 1 <= left <= right <= 10000.\n",
    "\"\"\""
   ]
  },
  {
   "cell_type": "code",
   "execution_count": null,
   "metadata": {
    "collapsed": true
   },
   "outputs": [],
   "source": [
    "class Solution(object):\n",
    "    def selfDividingNumbers(self, left, right):\n",
    "        \"\"\"\n",
    "        :type left: int\n",
    "        :type right: int\n",
    "        :rtype: List[int]\n",
    "        \"\"\"\n",
    "        if right < left: return []\n",
    "        \n",
    "        rst = []\n",
    "        for x in xrange(left, right+1):\n",
    "            if self.helper(x):\n",
    "                rst.append(x)\n",
    "        return rst\n",
    "        \n",
    "    def helper(self, x):\n",
    "        if not x: return False\n",
    "        \n",
    "        for i in str(x):\n",
    "            i = int(i)\n",
    "            if i==0 or x%i: # ❤️❤️❎❎\n",
    "                return False\n",
    "        return True"
   ]
  },
  {
   "cell_type": "markdown",
   "metadata": {},
   "source": [
    "### [458.easy-Poor Pigs](https://leetcode.com/problems/poor-pigs/description/)\n",
    "##### 题意: There are 1000 buckets, one and only one of them contains poison, the rest are filled with water. They all look the same. If a pig drinks that poison it will die within 15 minutes. What is the minimum amount of pigs you need to figure out which bucket contains the poison within one hour.\n",
    "##### Follow ups: If there are n buckets and a pig drinking poison will die within m minutes, how many pigs (x) you need to figure out the \"poison\" bucket within p minutes? There is exact one bucket with poison.\n",
    "\n",
    "##### 教程: https://leetcode.com/problems/poor-pigs/discuss/94266/Another-explanation-and-solution"
   ]
  },
  {
   "cell_type": "code",
   "execution_count": null,
   "metadata": {
    "collapsed": true
   },
   "outputs": [],
   "source": [
    "# IDEA: 通多过个 dimension 搜索.\n",
    "class Solution(object):\n",
    "    def poorPigs(self, buckets, minutesToDie, minutesToTest):\n",
    "        \"\"\"\n",
    "        :type buckets: int\n",
    "        :type minutesToDie: int\n",
    "        :type minutesToTest: int\n",
    "        :rtype: int\n",
    "        \"\"\"\n",
    "        pigs = 0\n",
    "        while (minutesToTest / minutesToDie + 1) ** pigs < buckets:\n",
    "            pigs += 1\n",
    "        return pigs"
   ]
  },
  {
   "cell_type": "markdown",
   "metadata": {},
   "source": [
    "### [279.med Perfect Squares](https://leetcode.com/problems/perfect-squares/description/)\n",
    "##### 题意: Given a positive integer n, find the least number of perfect square numbers (for example, 1, 4, 9, 16, ...) which sum to n.\n",
    "##### For example, given n = 12, return 3 because 12 = 4 + 4 + 4; given n = 13, return 2 because 13 = 4 + 9.\n",
    "##### 教程: https://www.youtube.com/watch?v=NFFM1G6xEfU"
   ]
  },
  {
   "cell_type": "code",
   "execution_count": null,
   "metadata": {
    "collapsed": true
   },
   "outputs": [],
   "source": [
    "# ❤️IDEA❤️: O(n*sqrt(n)), 有点类似一道做过的题目. DP, BFS.\n",
    "class Solution(object):\n",
    "    def numSquares(self, n):\n",
    "        \"\"\"\n",
    "        :type n: int\n",
    "        :rtype: int\n",
    "        \"\"\"\n",
    "        # 1 define the dp storage \n",
    "        MAX_INT = 1<<32\n",
    "        rst = [MAX_INT] * (n + 1)\n",
    "        rst[0] = 0\n",
    "        \n",
    "        # 2 BFS or dynamic programming to solve the problem\n",
    "        for i in xrange(n + 1):\n",
    "            j = 1\n",
    "            while j*j <= i:\n",
    "                rst[i] = min(rst[i], rst[i-j*j] + 1)\n",
    "                j += 1\n",
    "        return rst[n]"
   ]
  },
  {
   "cell_type": "markdown",
   "metadata": {},
   "source": [
    "### [231.easy-Power of Two](https://leetcode.com/problems/power-of-two/description/)\n",
    "##### 题目: Given an integer, write a function to determine if it is a power of two."
   ]
  },
  {
   "cell_type": "code",
   "execution_count": null,
   "metadata": {
    "collapsed": true
   },
   "outputs": [],
   "source": [
    "class Solution(object):\n",
    "    def isPowerOfTwo(self, n):\n",
    "        \"\"\"\n",
    "        :type n: int\n",
    "        :rtype: bool\n",
    "        \"\"\"\n",
    "        return n > 0 and (n & (n-1) == 0)"
   ]
  },
  {
   "cell_type": "markdown",
   "metadata": {},
   "source": [
    "### [263.easy-Ugly Number](https://leetcode.com/problems/ugly-number/description/)\n",
    "##### 题意: Write a program to check whether a given number is an ugly number. 定义如下:\n",
    "* Ugly numbers are positive numbers whose prime factors only include 2, 3, 5. \n",
    "* For example, 6, 8 are ugly while 14 is not ugly since it includes another prime factor 7.\n",
    "\n",
    "##### Note that:\n",
    "* 1 is typically treated as an ugly number.\n",
    "* Input is within the 32-bit signed integer range.\n",
    "\n",
    "##### 教程: https://www.youtube.com/watch?v=1wpe7yeqZd0\n",
    "* <span class=\"burk\">ugly number 的特性: 任何 ugly number</span> $== 2^i 3^j 5^k$"
   ]
  },
  {
   "cell_type": "code",
   "execution_count": null,
   "metadata": {
    "collapsed": true
   },
   "outputs": [],
   "source": [
    "class Solution(object):\n",
    "    def isUgly(self, num):\n",
    "        \"\"\"\n",
    "        :type num: int\n",
    "        :rtype: bool\n",
    "        \"\"\"\n",
    "        if num == 0: return False\n",
    "        \n",
    "        for x in (2,3,5):\n",
    "            while num > 0 and num % x == 0:\n",
    "                num /= x\n",
    "        return num == 1"
   ]
  },
  {
   "cell_type": "markdown",
   "metadata": {},
   "source": [
    "### [204.easy-Count Primes](https://leetcode.com/problems/count-primes/description/)\n",
    "##### 题意: Count the number of prime numbers <span class=\"burk\">less than</span> a non-negative number, n.\n",
    "##### 教程: 必须查看, 才能容易懂 https://www.youtube.com/watch?v=Kwo2jkHOyPY"
   ]
  },
  {
   "cell_type": "code",
   "execution_count": null,
   "metadata": {
    "collapsed": true
   },
   "outputs": [],
   "source": [
    "# Time: O(n loglogn) 约等于 O(n), Space: O(n)\n",
    "class Solution(object):\n",
    "    def countPrimes(self, n):\n",
    "        \"\"\"\n",
    "        :type n: int\n",
    "        :rtype: int\n",
    "        \"\"\"\n",
    "        # 1 edge condition\n",
    "        if n < 3: return 0\n",
    "        \n",
    "        # 2 \n",
    "        q = [1] * n # ❤️❤️ 是 n 而不是 n + 1\n",
    "        q[0] = q[1] = 0\n",
    "        \n",
    "        sqrt_n = int(n ** 0.5) # ❤️❤️ n ** 0.5 得出来的 float, 要强制转化成 int 型.\n",
    "        for i in xrange(2, sqrt_n + 1):\n",
    "            if q[i] == 0: continue\n",
    "                \n",
    "            for j in xrange(i*i, n, i): # ❤️❤️ 范围很重要\n",
    "                q[j] = 0\n",
    "                \n",
    "        return sum(q)\n",
    "                "
   ]
  },
  {
   "cell_type": "markdown",
   "metadata": {},
   "source": [
    "### [❓149.hard-Max Points on a Line](https://leetcode.com/problems/max-points-on-a-line/description/)"
   ]
  },
  {
   "cell_type": "markdown",
   "metadata": {},
   "source": [
    "### [❓233.hard-Number of Digit One](https://leetcode.com/problems/number-of-digit-one/description/)"
   ]
  },
  {
   "cell_type": "markdown",
   "metadata": {},
   "source": [
    "### [❓273.hard-Integer to English Words](https://leetcode.com/problems/integer-to-english-words/description/)\n",
    "##### 题意: Convert a non-negative integer to its english words representation. Given input is guaranteed to be less than $2^{31} -1$.\n"
   ]
  },
  {
   "cell_type": "code",
   "execution_count": null,
   "metadata": {
    "collapsed": true
   },
   "outputs": [],
   "source": [
    "\"\"\"\n",
    "For example,\n",
    "123 -> \"One Hundred Twenty Three\"\n",
    "12345 -> \"Twelve Thousand Three Hundred Forty Five\"\n",
    "1234567 -> \"One Million Two Hundred Thirty Four Thousand Five Hundred Sixty Seven\"\n",
    "\"\"\""
   ]
  },
  {
   "cell_type": "markdown",
   "metadata": {},
   "source": [
    "### [❓335.hard-Self Crossing](https://leetcode.com/problems/self-crossing/description/)\n",
    "##### 题意: You are given an array x of n positive numbers. You start at point (0,0) and moves x[0] metres to the north, then x[1] metres to the west, x[2] metres to the south, x[3] metres to the east and so on. In other words, after each move your direction changes counter-clockwise.\n",
    "* Write a one-pass algorithm with O(1) extra space to determine, if your path crosses itself, or not."
   ]
  }
 ],
 "metadata": {
  "kernelspec": {
   "display_name": "Python 2",
   "language": "python",
   "name": "python2"
  },
  "language_info": {
   "codemirror_mode": {
    "name": "ipython",
    "version": 2
   },
   "file_extension": ".py",
   "mimetype": "text/x-python",
   "name": "python",
   "nbconvert_exporter": "python",
   "pygments_lexer": "ipython2",
   "version": "2.7.13"
  },
  "toc": {
   "nav_menu": {},
   "number_sections": true,
   "sideBar": true,
   "skip_h1_title": true,
   "toc_cell": true,
   "toc_position": {
    "height": "805px",
    "left": "0px",
    "right": "1084.28px",
    "top": "67px",
    "width": "230px"
   },
   "toc_section_display": "block",
   "toc_window_display": true
  }
 },
 "nbformat": 4,
 "nbformat_minor": 2
}

{
 "cells": [
  {
   "cell_type": "markdown",
   "metadata": {
    "toc": true
   },
   "source": [
    "<h1>Table of Contents<span class=\"tocSkip\"></span></h1>\n",
    "<div class=\"toc\" style=\"margin-top: 1em;\"><ul class=\"toc-item\"><li><span><a href=\"#[3/6:-DFS---top-frequency]\" data-toc-modified-id=\"[3/6:-DFS---top-frequency]-1\"><span class=\"toc-item-num\">1&nbsp;&nbsp;</span>[3/6: DFS - top frequency]</a></span><ul class=\"toc-item\"><li><span><a href=\"#200.med-Number-of-Islands\" data-toc-modified-id=\"200.med-Number-of-Islands-1.1\"><span class=\"toc-item-num\">1.1&nbsp;&nbsp;</span><a href=\"https://leetcode.com/problems/number-of-islands/description/\" target=\"_blank\">200.med-Number of Islands</a></a></span></li><li><span><a href=\"#124.hard-Binary-Tree-Maximum-Path-Sum\" data-toc-modified-id=\"124.hard-Binary-Tree-Maximum-Path-Sum-1.2\"><span class=\"toc-item-num\">1.2&nbsp;&nbsp;</span><a href=\"https://leetcode.com/problems/binary-tree-maximum-path-sum/description/\" target=\"_blank\">124.hard-Binary Tree Maximum Path Sum</a></a></span></li><li><span><a href=\"#❓99.hard-Recover-Binary-Search-Tree\" data-toc-modified-id=\"❓99.hard-Recover-Binary-Search-Tree-1.3\"><span class=\"toc-item-num\">1.3&nbsp;&nbsp;</span><a href=\"https://leetcode.com/problems/recover-binary-search-tree/description/\" target=\"_blank\">❓99.hard-Recover Binary Search Tree</a></a></span></li><li><span><a href=\"#❓301.hard-Remove-Invalid-Parentheses\" data-toc-modified-id=\"❓301.hard-Remove-Invalid-Parentheses-1.4\"><span class=\"toc-item-num\">1.4&nbsp;&nbsp;</span><a href=\"https://leetcode.com/problems/remove-invalid-parentheses/description/\" target=\"_blank\">❓301.hard-Remove Invalid Parentheses</a></a></span></li></ul></li></ul></div>"
   ]
  },
  {
   "cell_type": "markdown",
   "metadata": {},
   "source": [
    "# [Depth first search](https://leetcode.com/problemset/all/?topicSlugs=depth-first-search)"
   ]
  },
  {
   "cell_type": "markdown",
   "metadata": {},
   "source": [
    "## [3/6: DFS - top frequency]"
   ]
  },
  {
   "cell_type": "markdown",
   "metadata": {},
   "source": [
    "### [200.med-Number of Islands](https://leetcode.com/problems/number-of-islands/description/)\n",
    "##### 题意: 给定矩阵, 只包含 0 或 1, 1 表示 陆地, 求 总共有多少个独立的 island?\n",
    "\n",
    "##### 总结: 找到 island, DFS 找到为  1 的所有元素, 将这些元素设为零."
   ]
  },
  {
   "cell_type": "code",
   "execution_count": null,
   "metadata": {
    "collapsed": true
   },
   "outputs": [],
   "source": [
    "\"\"\"\n",
    "Example 1, answer: 1 ------------------------------------\n",
    "11110\n",
    "11010\n",
    "11000\n",
    "00000\n",
    "\n",
    "Example 2, answer: 3 ------------------------------------\n",
    "11000\n",
    "11000\n",
    "00100\n",
    "00011\n",
    "\"\"\""
   ]
  },
  {
   "cell_type": "code",
   "execution_count": null,
   "metadata": {
    "collapsed": true
   },
   "outputs": [],
   "source": [
    "# ❤️ 原来可以在矩阵中 dfs 的.\n",
    "class Solution(object):\n",
    "    def numIslands(self, grid):\n",
    "        \"\"\"\n",
    "        :type grid: List[List[str]]\n",
    "        :rtype: int\n",
    "        \"\"\"\n",
    "        if not grid or (len(grid)==1 and not grid[0]): return 0\n",
    "        \n",
    "        rst = 0\n",
    "        nr, nc = len(grid), len(grid[0])\n",
    "        for r in xrange(nr):\n",
    "            for c in xrange(nc):\n",
    "                rst += grid[r][c] == \"1\" # ❤️\n",
    "                self.dfs(grid, r, c, nr, nc)\n",
    "        return rst\n",
    "                \n",
    "    def dfs(self, grid, r, c, nr, nc): # ❤️ 将与当前\"1\"连接的所有节点设为\"0\n",
    "        # 1 edge condition\n",
    "        if r<0 or c<0 or r>=nr or c>=nc: return \n",
    "        if grid[r][c] == \"0\": return \n",
    "        \n",
    "        # 2 do the dfs operation\n",
    "        grid[r][c] = \"0\"\n",
    "        self.dfs(grid, r-1, c, nr, nc)\n",
    "        self.dfs(grid, r+1, c, nr, nc)\n",
    "        self.dfs(grid, r, c-1, nr, nc)\n",
    "        self.dfs(grid, r, c+1, nr, nc)  "
   ]
  },
  {
   "cell_type": "markdown",
   "metadata": {},
   "source": [
    "### [124.hard-Binary Tree Maximum Path Sum](https://leetcode.com/problems/binary-tree-maximum-path-sum/description/)\n",
    "##### 题意: 找到 binary tree 任意节点之间 path 的 最大 sum."
   ]
  },
  {
   "cell_type": "code",
   "execution_count": null,
   "metadata": {
    "collapsed": true
   },
   "outputs": [],
   "source": [
    "class Solution(object):\n",
    "    def __init__(self):\n",
    "        self.maxSum = -1<<31\n",
    "        \n",
    "    def maxPathSum(self, root):\n",
    "        \"\"\"\n",
    "        :type root: TreeNode\n",
    "        :rtype: int\n",
    "        \"\"\"\n",
    "        if not root: return 0\n",
    "        self.dfs(root)\n",
    "        return self.maxSum\n",
    "        \n",
    "    def dfs(self, root):\n",
    "        if not root: return 0\n",
    "        \n",
    "        left = max(self.dfs(root.left), 0) # 👍👍 ❤️❤️ \n",
    "        right = max(self.dfs(root.right), 0) # 👍👍 ❤️❤️ \n",
    "        \n",
    "        self.maxSum = max(self.maxSum,  root.val + left + right)\n",
    "        return root.val + max(left, right)        "
   ]
  },
  {
   "cell_type": "markdown",
   "metadata": {},
   "source": [
    "### [❓99.hard-Recover Binary Search Tree](https://leetcode.com/problems/recover-binary-search-tree/description/)\n",
    "##### 题意: Two elements of a binary search tree (BST) are swapped by mistake. Recover the tree without changing its structure."
   ]
  },
  {
   "cell_type": "markdown",
   "metadata": {},
   "source": [
    "### [❓301.hard-Remove Invalid Parentheses](https://leetcode.com/problems/remove-invalid-parentheses/description/)\n",
    "##### 题意\n",
    "##### 分析\n",
    "##### 总结: https://www.youtube.com/watch?v=2k_rS_u6EBk"
   ]
  },
  {
   "cell_type": "markdown",
   "metadata": {},
   "source": [
    "## []()\n",
    "##### 题意\n",
    "##### 分析\n",
    "##### 总结"
   ]
  },
  {
   "cell_type": "markdown",
   "metadata": {},
   "source": [
    "## []()\n",
    "##### 题意\n",
    "##### 分析\n",
    "##### 总结"
   ]
  },
  {
   "cell_type": "markdown",
   "metadata": {},
   "source": [
    "## []()\n",
    "##### 题意\n",
    "##### 分析\n",
    "##### 总结"
   ]
  },
  {
   "cell_type": "markdown",
   "metadata": {},
   "source": [
    "## []()\n",
    "##### 题意\n",
    "##### 分析\n",
    "##### 总结"
   ]
  },
  {
   "cell_type": "markdown",
   "metadata": {},
   "source": [
    "## []()\n",
    "##### 题意\n",
    "##### 分析\n",
    "##### 总结"
   ]
  },
  {
   "cell_type": "markdown",
   "metadata": {},
   "source": [
    "## []()\n",
    "##### 题意\n",
    "##### 分析\n",
    "##### 总结"
   ]
  },
  {
   "cell_type": "markdown",
   "metadata": {},
   "source": [
    "## []()\n",
    "##### 题意\n",
    "##### 分析\n",
    "##### 总结"
   ]
  },
  {
   "cell_type": "markdown",
   "metadata": {},
   "source": [
    "## []()\n",
    "##### 题意\n",
    "##### 分析\n",
    "##### 总结"
   ]
  },
  {
   "cell_type": "markdown",
   "metadata": {},
   "source": [
    "## []()\n",
    "##### 题意\n",
    "##### 分析\n",
    "##### 总结"
   ]
  }
 ],
 "metadata": {
  "kernelspec": {
   "display_name": "Python 2",
   "language": "python",
   "name": "python2"
  },
  "language_info": {
   "codemirror_mode": {
    "name": "ipython",
    "version": 2
   },
   "file_extension": ".py",
   "mimetype": "text/x-python",
   "name": "python",
   "nbconvert_exporter": "python",
   "pygments_lexer": "ipython2",
   "version": "2.7.13"
  },
  "toc": {
   "nav_menu": {},
   "number_sections": true,
   "sideBar": true,
   "skip_h1_title": true,
   "toc_cell": true,
   "toc_position": {
    "height": "601px",
    "left": "0px",
    "right": "1084.28px",
    "top": "108px",
    "width": "207px"
   },
   "toc_section_display": "block",
   "toc_window_display": true
  }
 },
 "nbformat": 4,
 "nbformat_minor": 2
}

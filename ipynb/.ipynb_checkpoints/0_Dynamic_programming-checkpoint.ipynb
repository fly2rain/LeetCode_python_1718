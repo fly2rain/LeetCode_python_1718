{
 "cells": [
  {
   "cell_type": "markdown",
   "metadata": {
    "toc": true
   },
   "source": [
    "<h1>Table of Contents<span class=\"tocSkip\"></span></h1>\n",
    "<div class=\"toc\" style=\"margin-top: 1em;\"><ul class=\"toc-item\"><li><span><a href=\"#基础知识\" data-toc-modified-id=\"基础知识-1\"><span class=\"toc-item-num\">1&nbsp;&nbsp;</span>基础知识</a></span><ul class=\"toc-item\"><li><span><a href=\"#Dynamic-programming-&amp;-Divide-and-conquer\" data-toc-modified-id=\"Dynamic-programming-&amp;-Divide-and-conquer-1.1\"><span class=\"toc-item-num\">1.1&nbsp;&nbsp;</span>Dynamic programming &amp; Divide and conquer</a></span></li></ul></li><li><span><a href=\"#2/26\" data-toc-modified-id=\"2/26-2\"><span class=\"toc-item-num\">2&nbsp;&nbsp;</span><a href=\"\" target=\"_blank\">2/26</a></a></span><ul class=\"toc-item\"><li><span><a href=\"#121.easy-Best-Time-to-Buy-and-Sell-Stock\" data-toc-modified-id=\"121.easy-Best-Time-to-Buy-and-Sell-Stock-2.1\"><span class=\"toc-item-num\">2.1&nbsp;&nbsp;</span><a href=\"https://leetcode.com/problems/best-time-to-buy-and-sell-stock/description/\" target=\"_blank\">121.easy-Best Time to Buy and Sell Stock</a></a></span></li><li><span><a href=\"#309.med-Best-Time-to-Buy-and-Sell-Stock-with-Cooldown\" data-toc-modified-id=\"309.med-Best-Time-to-Buy-and-Sell-Stock-with-Cooldown-2.2\"><span class=\"toc-item-num\">2.2&nbsp;&nbsp;</span><a href=\"https://leetcode.com/problems/best-time-to-buy-and-sell-stock-with-cooldown/description/\" target=\"_blank\">309.med-Best Time to Buy and Sell Stock with Cooldown</a></a></span></li><li><span><a href=\"#714.med-Best-Time-to-Buy-and-Sell-Stock-with-Transaction-Fee\" data-toc-modified-id=\"714.med-Best-Time-to-Buy-and-Sell-Stock-with-Transaction-Fee-2.3\"><span class=\"toc-item-num\">2.3&nbsp;&nbsp;</span><a href=\"https://leetcode.com/problems/best-time-to-buy-and-sell-stock-with-transaction-fee/description/\" target=\"_blank\">714.med-Best Time to Buy and Sell Stock with Transaction Fee</a></a></span></li><li><span><a href=\"#❓123.hard-Best-Time-to-Buy-and-Sell-Stock-III\" data-toc-modified-id=\"❓123.hard-Best-Time-to-Buy-and-Sell-Stock-III-2.4\"><span class=\"toc-item-num\">2.4&nbsp;&nbsp;</span><a href=\"https://leetcode.com/problems/best-time-to-buy-and-sell-stock-iii/description/\" target=\"_blank\">❓123.hard-Best Time to Buy and Sell Stock III</a></a></span></li><li><span><a href=\"#❓188.hard-Best-Time-to-Buy-and-Sell-Stock-IV\" data-toc-modified-id=\"❓188.hard-Best-Time-to-Buy-and-Sell-Stock-IV-2.5\"><span class=\"toc-item-num\">2.5&nbsp;&nbsp;</span><a href=\"https://leetcode.com/problems/best-time-to-buy-and-sell-stock-iv/description/\" target=\"_blank\">❓188.hard-Best Time to Buy and Sell Stock IV</a></a></span></li><li><span><a href=\"#53.easy-Maximum-Subarray\" data-toc-modified-id=\"53.easy-Maximum-Subarray-2.6\"><span class=\"toc-item-num\">2.6&nbsp;&nbsp;</span><a href=\"https://leetcode.com/problems/maximum-subarray/description/\" target=\"_blank\">53.easy-Maximum Subarray</a></a></span></li><li><span><a href=\"#70.easy-Climbing-Stairs\" data-toc-modified-id=\"70.easy-Climbing-Stairs-2.7\"><span class=\"toc-item-num\">2.7&nbsp;&nbsp;</span><a href=\"https://leetcode.com/problems/climbing-stairs/description/\" target=\"_blank\">70.easy-Climbing Stairs</a></a></span></li><li><span><a href=\"#❤️746.easy-Min-Cost-Climbing-Stairs\" data-toc-modified-id=\"❤️746.easy-Min-Cost-Climbing-Stairs-2.8\"><span class=\"toc-item-num\">2.8&nbsp;&nbsp;</span><a href=\"https://leetcode.com/problems/min-cost-climbing-stairs/description/\" target=\"_blank\">❤️746.easy-Min Cost Climbing Stairs</a></a></span></li><li><span><a href=\"#338.medium-Counting-Bits\" data-toc-modified-id=\"338.medium-Counting-Bits-2.9\"><span class=\"toc-item-num\">2.9&nbsp;&nbsp;</span><a href=\"https://leetcode.com/problems/counting-bits/description/\" target=\"_blank\">338.medium-Counting Bits</a></a></span></li></ul></li><li><span><a href=\"#3/2:-house-robber\" data-toc-modified-id=\"3/2:-house-robber-3\"><span class=\"toc-item-num\">3&nbsp;&nbsp;</span><a href=\"\" target=\"_blank\">3/2: house robber</a></a></span><ul class=\"toc-item\"><li><span><a href=\"#115.easy-House-Robber\" data-toc-modified-id=\"115.easy-House-Robber-3.1\"><span class=\"toc-item-num\">3.1&nbsp;&nbsp;</span><a href=\"https://leetcode.com/problems/house-robber/description/\" target=\"_blank\">115.easy-House Robber</a></a></span></li><li><span><a href=\"#213.med-House-Robber-II\" data-toc-modified-id=\"213.med-House-Robber-II-3.2\"><span class=\"toc-item-num\">3.2&nbsp;&nbsp;</span><a href=\"https://leetcode.com/problems/house-robber-ii/description/\" target=\"_blank\">213.med-House Robber II</a></a></span></li><li><span><a href=\"#337.med-House-Robber-III\" data-toc-modified-id=\"337.med-House-Robber-III-3.3\"><span class=\"toc-item-num\">3.3&nbsp;&nbsp;</span><a href=\"https://leetcode.com/problems/house-robber-iii/description/\" target=\"_blank\">337.med-House Robber III</a></a></span></li></ul></li><li><span><a href=\"#3/3:-Dynamic-programming\" data-toc-modified-id=\"3/3:-Dynamic-programming-4\"><span class=\"toc-item-num\">4&nbsp;&nbsp;</span><a href=\"\" target=\"_blank\">3/3: Dynamic programming</a></a></span></li></ul></div>"
   ]
  },
  {
   "cell_type": "markdown",
   "metadata": {},
   "source": [
    "# Dynamic & Programming\n",
    "* 题型: [Top 100 Liked Questions + Dynamic & Programming](https://leetcode.com/problemset/algorithms/?topicSlugs=dynamic-programming&listId=79h8rn6)\n",
    "* 题型: [Dynamic & Programming](https://leetcode.com/problemset/algorithms/?topicSlugs=dynamic-programming)"
   ]
  },
  {
   "cell_type": "markdown",
   "metadata": {},
   "source": [
    "## 基础知识\n",
    "### Dynamic programming & Divide and conquer\n",
    "* 两个方法都是把大的 (复杂的) 问题分解成子 (简单的) 问题, 通过对子问题的求解, 合并, 求解出原问题.\n",
    "* 区别在于:\n",
    "    * <span class=\"girk\">divide & conquer</span> 适合于子问题没有重合的情况, 子问题相互独立, 不存在<span class=\"girk\">大量的重复计算</span>问题.\n",
    "    * <span class=\"girk\">dynamic programming</span> 适合于子问题存在严重重合的情况. 通过数据记录存储子问题的解, 调出子问题的解, 从而避免重复计算子问题的缺陷. 感觉 recursion + memoerization 非常类似, 有什么区别呢?"
   ]
  },
  {
   "cell_type": "markdown",
   "metadata": {},
   "source": [
    "## [2/26]()"
   ]
  },
  {
   "cell_type": "markdown",
   "metadata": {},
   "source": [
    "### [121.easy-Best Time to Buy and Sell Stock](https://leetcode.com/problems/best-time-to-buy-and-sell-stock/description/)\n",
    "##### 题意: Say you have an array for which the ith element is the price of a given stock on day i.\n",
    "* If you were only permitted to complete <span class=\"girk\">at most one transaction</span> (ie, buy one and sell one share of the stock), design an algorithm to find the maximum profit.\n",
    "* 举例#1:\n",
    "   ```\n",
    "   Input: [7, 1, 5, 3, 6, 4]\n",
    "   Output: 5\n",
    "\n",
    "   max. difference = 6-1 = 5 (not 7-1 = 6, as selling price needs to be larger than buying price)\n",
    "   ```\n",
    "* 举例#2:\n",
    "    ```\n",
    "    Input: [7, 6, 4, 3, 1]\n",
    "    Output: 0\n",
    "\n",
    "    In this case, no transaction is done, i.e. max profit = 0.\n",
    "    ```\n",
    "   \n",
    "##### 分析: 1d 动态规划题, 两种方法. \n",
    "* 本质上求两个元素的最大差问题. 即求最小值, 然后求证当前值和最小值之间的差异是否是最大???\n",
    "\n",
    "##### 总结: https://www.youtube.com/watch?v=8pVhUpF1INw"
   ]
  },
  {
   "cell_type": "code",
   "execution_count": null,
   "metadata": {
    "collapsed": true
   },
   "outputs": [],
   "source": [
    "class Solution(object):\n",
    "    def maxProfit(self, prices):\n",
    "        \"\"\"\n",
    "        :type prices: List[int]\n",
    "        :rtype: int\n",
    "        \"\"\"\n",
    "        if not prices: return 0\n",
    "        \n",
    "        minPrice, maxProfit = prices[0], 0\n",
    "        for x in prices:\n",
    "            minPrice = min(x, minPrice) # ❤️ minPrice 本身是动态规划的一个变量 \n",
    "            maxProfit = max(maxProfit, x - minPrice)\n",
    "            \n",
    "        return maxProfit"
   ]
  },
  {
   "cell_type": "markdown",
   "metadata": {},
   "source": [
    "### [309.med-Best Time to Buy and Sell Stock with Cooldown](https://leetcode.com/problems/best-time-to-buy-and-sell-stock-with-cooldown/description/)\n",
    "##### 题意: Say you have an array for which the ith element is the price of a given stock on day i.\n",
    "* 设计算法获得最大利润, 但是需要满足以下条件:\n",
    "    * 可以<span class=\"girk\">完成多起交易</span>, 但需要先买入后卖出, 之后才能进行下一次交易.\n",
    "    * 买入卖出 到 下一次买入卖出间需要 cooldown 1 day. 必须相隔 1 天.\n",
    "* Example:\n",
    "```\n",
    "prices = [1, 2, 3, 0, 2]\n",
    "maxProfit = 3\n",
    "transactions = [buy, sell, cooldown, buy, sell]\n",
    "```\n",
    "\n",
    "\n",
    "##### 分析\n",
    "##### 总结: https://www.youtube.com/watch?v=oL6mRyTn56M"
   ]
  },
  {
   "cell_type": "code",
   "execution_count": null,
   "metadata": {
    "collapsed": true
   },
   "outputs": [],
   "source": [
    "# ❤️❤️ 解决动态规划问题的标准范式 ❤️❤️ ------------------\n",
    "# 0 状态: sold, hold, rest.\n",
    "# 1 状态转移方程 # ❤️ 因为第 i 项之和 i-1 项有关, 所以可以减少 space 开销的.\n",
    "#     sold[i] = hold[i-1] + prices[i]\n",
    "#     hold[i] = max(hold[i-1], rest[i-1] - prices[i])\n",
    "#     rest[i] = max(rest[i-1], sold[i-1])\n",
    "# 2 状态初始化\n",
    "#     sold[0] = rest[0] = 0,  hold[0] = -inf\n",
    "# 3 最终输出\n",
    "#     max(sold[i], rest[i])\n",
    "# 4 complexity analysis\n",
    "#     time: O(n),  space: O(n) -> O(1)\n",
    "\n",
    "class Solution(object):\n",
    "    def maxProfit(self, prices): # space: O(n)\n",
    "        \"\"\"\n",
    "        :type prices: List[int]\n",
    "        :rtype: int\n",
    "        \"\"\"\n",
    "        if not prices: return 0\n",
    "        \n",
    "        n = len(prices)\n",
    "        sold = [0] * (n + 1)\n",
    "        hold = [0] * (n + 1)\n",
    "        rest = [0] * (n + 1)\n",
    "        sold[0] = rest[0] = 0\n",
    "        hold[0] = float(\"-inf\")\n",
    "        \n",
    "        for i in xrange(1, n + 1):\n",
    "            sold[i] = hold[i-1] + prices[i-1] # ❤️  prices[i-1] because the index shift in the prices\n",
    "            hold[i] = max(hold[i-1], rest[i-1] - prices[i-1])\n",
    "            rest[i] = max(rest[i-1], sold[i-1])\n",
    "        return max(sold[i], rest[i])   "
   ]
  },
  {
   "cell_type": "code",
   "execution_count": null,
   "metadata": {
    "collapsed": true
   },
   "outputs": [],
   "source": [
    "class Solution(object):\n",
    "    def maxProfit(self, prices): # space: O(1)\n",
    "        if not prices: return 0\n",
    "        \n",
    "        pre_hold = float(\"-inf\")\n",
    "        pre_sold = pre_rest = 0\n",
    "        for price in prices:\n",
    "            sold = pre_hold + price\n",
    "            hold = max(pre_hold, pre_rest - price)\n",
    "            rest = max(pre_rest, pre_sold)\n",
    "            \n",
    "            # update the old variables \n",
    "            pre_sold, pre_hold, pre_rest = sold, hold, rest           \n",
    "            \n",
    "        return max(rest, sold)"
   ]
  },
  {
   "cell_type": "markdown",
   "metadata": {},
   "source": [
    "### [714.med-Best Time to Buy and Sell Stock with Transaction Fee](https://leetcode.com/problems/best-time-to-buy-and-sell-stock-with-transaction-fee/description/)\n",
    "##### 题意: Your are given an array of <span class=\"girk\">integers prices</span>, for which the $i$-th element is the price of a given stock on day $i$; and a <span class=\"girk\">non-negative integer fee</span> representing a transaction fee.\n",
    "* You may <span class=\"girk\">complete as many transactions as you like</span>, but you need to pay the transaction fee for each transaction.\n",
    "* You may not buy more than 1 share of a stock at a time (ie. you must sell the stock share before you buy again.)\n",
    "* Return the maximum profit you can make.\n",
    "\n",
    "##### 举例"
   ]
  },
  {
   "cell_type": "code",
   "execution_count": null,
   "metadata": {
    "collapsed": true
   },
   "outputs": [],
   "source": [
    "\"\"\"\n",
    "Input: prices = [1, 3, 2, 8, 4, 9], fee = 2\n",
    "Output: 8\n",
    "Explanation: The maximum profit can be achieved by:\n",
    "Buying at prices[0] = 1\n",
    "Selling at prices[3] = 8\n",
    "Buying at prices[4] = 4\n",
    "Selling at prices[5] = 9\n",
    "The total profit is ((8 - 1) - 2) + ((9 - 4) - 2) = 8.\n",
    "\"\"\""
   ]
  },
  {
   "cell_type": "code",
   "execution_count": null,
   "metadata": {
    "collapsed": true
   },
   "outputs": [],
   "source": [
    "# 1 状态转移方程 # ❤️ 因为第 i 项之和 i-1 项有关, 所以可以减少 space 开销的.\n",
    "#     sold[i] = hold[i-1] + prices[i] - fee\n",
    "#     hold[i] = max(hold[i-1], max(rest[i-1]-prices[i], sold[i-1]-price[i]))\n",
    "#     rest[i] = max(rest[i-1], sold[i-1])\n",
    "# 2 状态初始化\n",
    "#     sold[0] = rest[0] = 0,  hold[0] = -inf\n",
    "# 3 最终输出\n",
    "#     max(sold[i], rest[i])\n",
    "# 4 complexity analysis\n",
    "#     time: O(n),  space: O(n) -> O(1)\n",
    "class Solution(object):\n",
    "    def maxProfit(self, prices, fee):\n",
    "        \"\"\"\n",
    "        :type prices: List[int]\n",
    "        :type fee: int\n",
    "        :rtype: int\n",
    "        \"\"\"\n",
    "        if not prices: return 0\n",
    "        \n",
    "        n = len(prices)\n",
    "        sold = [0] * (n + 1)\n",
    "        hold = [0] * (n + 1)\n",
    "        rest = [0] * (n + 1)\n",
    "        \n",
    "        sold[0] = rest[0] = 0\n",
    "        hold[0] = float(\"-inf\")\n",
    "        \n",
    "        for i in xrange(1, n + 1):\n",
    "            sold[i] = hold[i-1] + prices[i-1] - fee # because the trans. fees\n",
    "            hold[i] = max( hold[i-1], max(rest[i-1]-prices[i-1], sold[i-1]-prices[i-1]) )\n",
    "            rest[i] = max(rest[i-1], sold[i-1])\n",
    "            \n",
    "        return max(rest[n], sold[n])"
   ]
  },
  {
   "cell_type": "code",
   "execution_count": null,
   "metadata": {
    "collapsed": true
   },
   "outputs": [],
   "source": [
    "class Solution(object):\n",
    "    def maxProfit(self, prices, fee):\n",
    "        \"\"\"\n",
    "        :type prices: List[int]\n",
    "        :type fee: int\n",
    "        :rtype: int\n",
    "        \"\"\"\n",
    "        if not prices: return 0\n",
    "        \n",
    "        pre_rest = pre_sold = 0\n",
    "        pre_hold = float(\"-inf\")\n",
    "        for x in prices:\n",
    "            sold = pre_hold + x - fee\n",
    "            hold = max(pre_hold, max(pre_rest-x, pre_sold-x))\n",
    "            rest = max(pre_rest, pre_sold)\n",
    "                       \n",
    "            pre_rest, pre_sold, pre_hold = rest, sold, hold\n",
    "                       \n",
    "        return max(rest, sold)"
   ]
  },
  {
   "cell_type": "markdown",
   "metadata": {},
   "source": [
    "### [❓123.hard-Best Time to Buy and Sell Stock III](https://leetcode.com/problems/best-time-to-buy-and-sell-stock-iii/description/)\n",
    "##### 题意: Say you have an array for which the $i$th element is the price of a given stock on day $i$.\n",
    "* Design an algorithm to find the maximum profit. You may <span class=\"girk\">complete at most two transactions</span>.\n",
    "* Note: you may not engage in multiple transactions at the same time (ie, you must sell the stock before you buy again)."
   ]
  },
  {
   "cell_type": "markdown",
   "metadata": {},
   "source": [
    "### [❓188.hard-Best Time to Buy and Sell Stock IV](https://leetcode.com/problems/best-time-to-buy-and-sell-stock-iv/description/)\n",
    "##### 题意: "
   ]
  },
  {
   "cell_type": "markdown",
   "metadata": {},
   "source": [
    "### [53.easy-Maximum Subarray](https://leetcode.com/problems/maximum-subarray/description/)\n",
    "##### 题意: Find the <span class=\"girk\">contiguous subarray within an array</span> (containing at least one number) which has the <span class=\"girk\">largest sum</span>\n",
    "* For example, \n",
    "``` given the array [-2,1,-3,4,-1,2,1,-5,4], the contiguous subarray [4,-1,2,1] has the largest sum = 6. ```\n",
    "\n",
    "##### 分析: 每一步, 分析加上之前的有好处呢? 还是重新开始有好处?"
   ]
  },
  {
   "cell_type": "code",
   "execution_count": null,
   "metadata": {
    "collapsed": true
   },
   "outputs": [],
   "source": [
    "# dynamic programming 的简便写法. time O(n), space O(1)\n",
    "class Solution(object):\n",
    "    def maxSubArray(self, nums):\n",
    "        \"\"\"\n",
    "        :type nums: List[int]\n",
    "        :rtype: int\n",
    "        \"\"\"\n",
    "        if not nums: return -1\n",
    "        \n",
    "        n, rst, maxRst = len(nums), nums[0], nums[0]  # ❎ 初始化要非常非常小心.\n",
    "        for i in xrange(1, n):\n",
    "            rst = max(0, rst) + nums[i] # ❤️ 1) 分析现有结果是正数还是负数, 2) 如果是负数贡献为负, 不如归零.\n",
    "            maxRst = max(rst, maxRst)\n",
    "        return maxRst            "
   ]
  },
  {
   "cell_type": "code",
   "execution_count": null,
   "metadata": {
    "collapsed": true
   },
   "outputs": [],
   "source": [
    "# 严格 dynamic programming 的写法. time O(n), space O(n)\n",
    "class Solution(object):\n",
    "    # nums = [-2, 1, -3, 4, -1, 2, 1, -5, 4]\n",
    "    # f    = [-2, 1, -2, 4,  3, 5, 6,  1, 5]\n",
    "    # 状态转移方程: \n",
    "    #    f[i] = max(f[i-1], 0) + nums[i] # 发现状态转移方程 i 只和 i - 1 有关, 所以减少空间.\n",
    "    def maxSubArray(self, nums):\n",
    "        if not nums: return -1\n",
    "        \n",
    "        n = len(nums)\n",
    "        f = [0] * n\n",
    "        f[0] = maxRst = nums[0]\n",
    "        for i in xrange(1, n):\n",
    "            f[i] = max(f[i-1], 0) + nums[i]\n",
    "            maxRst = max(maxRst, f[i])\n",
    "        return maxRst"
   ]
  },
  {
   "cell_type": "markdown",
   "metadata": {},
   "source": [
    "### [70.easy-Climbing Stairs](https://leetcode.com/problems/climbing-stairs/description/)\n",
    "##### 题意: You are climbing a stair case. It takes n steps to reach to the top.\n",
    "* Each time you can either climb 1 or 2 steps. In how many distinct ways can you climb to the top?\n",
    "* Note: Given n will be a positive integer.\n",
    "\n",
    "* 举例#1:\n",
    "    ```\n",
    "    Input: 2\n",
    "    Output:  2\n",
    "    Explanation:  There are two ways to climb to the top.\n",
    "\n",
    "    1. 1 step + 1 step\n",
    "    2. 2 steps\n",
    "    ```\n",
    "* 举例#2: \n",
    "    ```\n",
    "    Input: 3\n",
    "    Output:  3\n",
    "    Explanation:  There are three ways to climb to the top.\n",
    "\n",
    "    1. 1 step + 1 step + 1 step\n",
    "    2. 1 step + 2 steps\n",
    "    3. 2 steps + 1 step\n",
    "    ```\n",
    "    \n",
    "##### 动态规划: 计数问题."
   ]
  },
  {
   "cell_type": "code",
   "execution_count": null,
   "metadata": {
    "collapsed": true
   },
   "outputs": [],
   "source": [
    "# 方法2: 简化的 dynamic programming, ❤️ time O(n), space O(1) ❤️ \n",
    "# 状态转移方程是: f(n) = f(n-1) + f(n-2), 当前项只和前两项相关, 所以简化 space 消耗.\n",
    "class Solution(object):\n",
    "    def climbStairs(self, n):\n",
    "        if n < 3: return n # ❤️ n=1时, 返回 1; n=2时, 返回2.\n",
    "        \n",
    "        first, second = 1, 2 \n",
    "        for i in xrange(2, n):\n",
    "            third = first + second\n",
    "            second, first = third, second\n",
    "        return third"
   ]
  },
  {
   "cell_type": "code",
   "execution_count": null,
   "metadata": {
    "collapsed": true
   },
   "outputs": [],
   "source": [
    "# 方法1: 严格意义的 dynamic programming, ❤️ time O(n), space O(n) ❤️\n",
    "class Solution(object):\n",
    "    # 状态方程是: f(n) = f(n-1) + f(n-2)\n",
    "    def climbStairs(self, n):\n",
    "        \"\"\"\n",
    "        :type n: int\n",
    "        :rtype: int\n",
    "        \"\"\"\n",
    "        if n < 3: return n\n",
    "        \n",
    "        f = [0] * n\n",
    "        f[0], f[1] = 1, 2\n",
    "        for i in xrange(2, n):\n",
    "            f[i] = f[i-1] + f[i-2]\n",
    "        return f[n-1]"
   ]
  },
  {
   "cell_type": "code",
   "execution_count": null,
   "metadata": {
    "collapsed": true
   },
   "outputs": [],
   "source": [
    "# 方法3: recursion + memorization, ❤️ time O(n), space O(n) ❤️\n",
    "class Solution(object):\n",
    "    def climbStairs(self, n):\n",
    "        rst = [0] * (n + 1)\n",
    "        return self.helper(n, rst)\n",
    "        \n",
    "    def helper(self, n, rst):\n",
    "        if n < 3: return n\n",
    "        \n",
    "        if rst[n] > 0: return rst[n] # ❤️ > 0 \n",
    "        \n",
    "        rst[n] = self.helper(n-1, rst) + self.helper(n-2, rst)\n",
    "        return rst [n]    "
   ]
  },
  {
   "cell_type": "markdown",
   "metadata": {},
   "source": [
    "### [❤️746.easy-Min Cost Climbing Stairs](https://leetcode.com/problems/min-cost-climbing-stairs/description/)\n",
    "##### 题意: \n",
    "\n",
    "##### 视频教程: https://www.youtube.com/watch?v=v3WqNLmmBdk"
   ]
  },
  {
   "cell_type": "code",
   "execution_count": null,
   "metadata": {
    "collapsed": true
   },
   "outputs": [],
   "source": [
    "# (方法1) dp[n]: the min cost to climb to the n-th step\n",
    "# 状态转移方程:\n",
    "#     dp[n] = min(dp[n-1] + cost[n-1], dp[n-2] + cost[n-2])\n",
    "class Solution(object):\n",
    "    def minCostClimbingStairs(self, cost):\n",
    "        \"\"\"\n",
    "        :type cost: List[int]\n",
    "        :rtype: int\n",
    "        \"\"\"\n",
    "        n = len(cost)\n",
    "        if not cost: return 0\n",
    "        \n",
    "        dp = [0] * (n + 1)\n",
    "        dp[0] = \n",
    "        for i in xrange(2, n+1):\n",
    "            dp[i] = min(dp[i-1], dp[i-2]) + cost[i-1]\n",
    "        return dp[n]"
   ]
  },
  {
   "cell_type": "code",
   "execution_count": null,
   "metadata": {
    "collapsed": true
   },
   "outputs": [],
   "source": [
    "# (方法2) dp[n]: the min cost before leaving the n-th step\n",
    "# 状态转移方程:\n",
    "#     dp[n] = min(dp[n-1], dp[n-2]) + cost[n]\n",
    "\n",
    "class Solution(object):\n",
    "    def minCostClimbingStairs(self, cost):\n",
    "        \"\"\"\n",
    "        :type cost: List[int]\n",
    "        :rtype: int\n",
    "        \"\"\""
   ]
  },
  {
   "cell_type": "markdown",
   "metadata": {},
   "source": [
    "### [338.medium-Counting Bits](https://leetcode.com/problems/counting-bits/description/)\n",
    "##### 题意: 给定非负整数  $n$, 对于所有数值 $0\\leq i \\leq n$, 计算其中的 1's 数量, 然后返回到 array 中.\n",
    "* 举例: For num = 5 you should return [0,1,1,2,1,2].\n",
    "* <span class=\"burk\">Follow ups</span>:\n",
    "    * It is very easy to come up with a solution with run time **O(n*sizeof(integer))**. But can you do it in **linear time O(n)**/possibly in a **single pass**?\n",
    "    * **Space complexity should be O(n)**."
   ]
  },
  {
   "cell_type": "code",
   "execution_count": null,
   "metadata": {
    "collapsed": true
   },
   "outputs": [],
   "source": [
    "class Solution(object):\n",
    "    def countBits(self, n):\n",
    "        \"\"\"\n",
    "        :type n: int\n",
    "        :rtype: List[int]\n",
    "        \"\"\"\n",
    "        rst = [0] * (n + 1) # ❤️ n + 1 是因为 0 <= i <= n\n",
    "        for i in xrange(1, n + 1): # ❤️ 从 1 开始是因为下一行的 i - 1.\n",
    "            rst[i] = rst[i&(i-1)] + 1\n",
    "        return rst"
   ]
  },
  {
   "cell_type": "markdown",
   "metadata": {},
   "source": [
    "## [3/2: house robber]()"
   ]
  },
  {
   "cell_type": "markdown",
   "metadata": {},
   "source": [
    "### [115.easy-House Robber](https://leetcode.com/problems/house-robber/description/)\n",
    "##### 题意: 给定 list 模拟各house的钱, 小偷只能隔着偷 (不能偷相连的 house), 问小偷最多能偷多少钱?\n",
    "\n",
    "##### 总结:\n",
    "* 典型的 dynamic programming 问题, <span class=\"girk\">搞清楚四个要素</span>: 1) 状态, 2) 初始化, 3) 转移方程, 4) 结果.\n",
    "* House robber 问题在下述视频 https://www.youtube.com/watch?v=-i2BFAU25Zk&t=22s 中, 阐述的非常清楚."
   ]
  },
  {
   "cell_type": "code",
   "execution_count": 3,
   "metadata": {},
   "outputs": [
    {
     "name": "stdout",
     "output_type": "stream",
     "text": [
      "4\n"
     ]
    }
   ],
   "source": [
    "# \"Dynamic programming\" 最重要的是: 状态转移方程 + 初始化(边界条件)\n",
    "# ❤️❤️❤️❤️ 本题的状态转移方程式: ❤️❤️❤️❤️\n",
    "#      r[i]  = nr[i-1] + nums[i]\n",
    "#      nr[i] = max(r[i-1], nr[i-1]) # nr[i], 前一个时刻, 可偷也可不偷, 随意最佳策略是找最大值.\n",
    "\n",
    "class Solution(object):\n",
    "    def rob(self, nums):\n",
    "        \"\"\"\n",
    "        :type nums: List[int]\n",
    "        :rtype: int\n",
    "        \"\"\"\n",
    "        if not nums: return 0\n",
    "        \n",
    "        # r is rob, nr is not rob, pre_r: the preious rob\n",
    "        pre_r = pre_nr = 0\n",
    "        for x in nums:\n",
    "            r = pre_nr + x\n",
    "            nr = max(pre_nr, pre_r)\n",
    "            \n",
    "            pre_r, pre_nr = r, nr\n",
    "            \n",
    "        return max(r, nr)\n",
    "    \n",
    "print Solution().rob([1, 4, 2])"
   ]
  },
  {
   "cell_type": "code",
   "execution_count": 2,
   "metadata": {},
   "outputs": [
    {
     "name": "stdout",
     "output_type": "stream",
     "text": [
      "4\n"
     ]
    }
   ],
   "source": [
    "class Solution(object):\n",
    "    def rob(self, nums):\n",
    "        \"\"\"\n",
    "        :type nums: List[int]\n",
    "        :rtype: int\n",
    "        \"\"\"\n",
    "        if not nums: return 0\n",
    "        \n",
    "        # r is rob, nr is not rob, r_prev: the previous rob\n",
    "        r = nr = prev = 0\n",
    "        for x in nums: # ❤️❤️ 减少一个变量\n",
    "            prev = max(r, nr)\n",
    "            r = nr + x\n",
    "            nr = prev\n",
    "            \n",
    "        return max(r, nr)\n",
    "    \n",
    "print Solution().rob([1, 4, 2])"
   ]
  },
  {
   "cell_type": "markdown",
   "metadata": {},
   "source": [
    "### [213.med-House Robber II](https://leetcode.com/problems/house-robber-ii/description/)\n",
    "##### 题意: 假设给定 array <span class=\"girk\">首尾元素</span>是相邻的 (即是 circle 的), 小偷不能连续偷相邻的元素, 请问最多能偷多少?\n",
    "\n",
    "##### 分析: 多了一个 circle 的设定, 转移方程如何处理, 应该多了一些 constraints 吧?\n",
    "\n",
    "##### 教程: https://www.youtube.com/watch?v=-i2BFAU25Zk&t=22s"
   ]
  },
  {
   "cell_type": "code",
   "execution_count": null,
   "metadata": {
    "collapsed": true
   },
   "outputs": [],
   "source": [
    "# 基本的状态转移方程仍旧是 \n",
    "#      r[i] = nr[i-1] + nums[i]\n",
    "#     nr[i] = max(nr[i-1], r[i-1])\n",
    "# 核心内容:\n",
    "#     * 有两套上述转移公式, 然后最终融合对比.\n",
    "#     * 只有一栋的时候, \n",
    "class Solution(object):\n",
    "    def rob(self, nums):\n",
    "        \"\"\"\n",
    "        :type nums: List[int]\n",
    "        :rtype: int\n",
    "        \"\"\"\n",
    "        if not nums: return 0\n",
    "        if len(nums) == 1: return nums[0] # ❎❎ 只有一栋房子, 则返回它里面的值.\n",
    "        \n",
    "        no_1_rob = [0, 0] # ❤️ 不从第一栋开始. 0 表示不偷当前, 1 表示偷当前\n",
    "        rob = [0, nums[0]] # ❤️ 从第一栋开始. 0 表示不偷当前, 1 表示偷当前\n",
    "        \n",
    "        for i in xrange(1, len(nums)):\n",
    "            prev = max(no_1_rob)\n",
    "            no_1_rob[1] = no_1_rob[0] + nums[i]\n",
    "            no_1_rob[0] = prev\n",
    "            \n",
    "            prev = max(rob)\n",
    "            rob[1] = rob[0] + nums[i]\n",
    "            rob[0] = prev\n",
    "            \n",
    "        return max(rob[0], max(no_1_rob))"
   ]
  },
  {
   "cell_type": "markdown",
   "metadata": {},
   "source": [
    "### [337.med-House Robber III](https://leetcode.com/problems/house-robber-iii/description/)\n",
    "##### 题意: 假设给定 binary tree 结构的 house 排列, 小偷仍旧不能偷相邻的房子, 请问最多能偷多少?\n",
    "\n",
    "##### 分析: \n",
    "* 规则依旧, 数据结构变了.\n",
    "\n",
    "##### 教程: https://www.youtube.com/watch?v=-i2BFAU25Zk&t=22s"
   ]
  },
  {
   "cell_type": "code",
   "execution_count": null,
   "metadata": {
    "collapsed": true
   },
   "outputs": [],
   "source": [
    "# 状态转移方程: 对于节点 root\n",
    "#     nrob = max(left) + max(right)\n",
    "#     rob  = left[0] + right[0] + root.val\n",
    "\n",
    "# ❤️ 总结: tree 的题多用递归, 站在一个 node 的角度, 考虑左子树和右子树的返回, 融合到当前节点的问题.\n",
    "class Solution(object):\n",
    "    def rob(self, root):\n",
    "        \"\"\"\n",
    "        :type root: TreeNode\n",
    "        :rtype: int\n",
    "        \"\"\"\n",
    "        if not root: return 0\n",
    "        \n",
    "        rst = self.helper(root)\n",
    "        return max(rst)\n",
    "        \n",
    "    def helper(self, root):\n",
    "        if not root: return (0, 0)\n",
    "        \n",
    "        left = self.helper(root.left)\n",
    "        right = self.helper(root.right)\n",
    "        \n",
    "        nrob = max(left) + max(right) # ❤️❤️ \n",
    "        rob = left[0] + right[0] + root.val # ❤️❤️\n",
    "        return (nrob, rob)"
   ]
  },
  {
   "cell_type": "markdown",
   "metadata": {},
   "source": [
    "## [3/3: Dynamic programming]()"
   ]
  },
  {
   "cell_type": "markdown",
   "metadata": {},
   "source": [
    "##### 题意: 给定包含整数的 array, 找到介于 $i$ 到  $j$ 元素之和 ($i$ 和 $j$ 是包含的).\n",
    "* Note:\n",
    "    * You may assume that the array does not change.\n",
    "    * There are <span class=\"girk\">many calls to sumRange function</span>.\n",
    "    \n",
    "##### 分析: 把累加和算好, 然后直接把对应位置的累加和 相减 就可以得到结果.\n",
    "##### 总结"
   ]
  },
  {
   "cell_type": "code",
   "execution_count": null,
   "metadata": {
    "collapsed": true
   },
   "outputs": [],
   "source": [
    "\"\"\" Example:\n",
    "Given nums = [-2, 0, 3, -5, 2, -1]\n",
    "\n",
    "sumRange(0, 2) -> 1\n",
    "sumRange(2, 5) -> -1\n",
    "sumRange(0, 5) -> -3\n",
    "\"\"\""
   ]
  },
  {
   "cell_type": "code",
   "execution_count": null,
   "metadata": {
    "collapsed": true
   },
   "outputs": [],
   "source": [
    "# ❤️❤️ 因为需要 call the sumRange many times, 所以计算并存储好 cumSum 非常重要. ❤️❤️ \n",
    "class NumArray(object):\n",
    "    def __init__(self, nums):\n",
    "        \"\"\"\n",
    "        :type nums: List[int]\n",
    "        \"\"\"\n",
    "        n = len(nums) \n",
    "        cumSum = [0] * (n + 1) # ❤️❤️ 因为 i 和 j 都是 sum 的范围.\n",
    "        for i in xrange(1, n+1):\n",
    "            cumSum[i] = nums[i-1] + cumSum[i-1]\n",
    "        self.cumSum = cumSum\n",
    "        \n",
    "        \n",
    "    def sumRange(self, i, j):\n",
    "        \"\"\"\n",
    "        :type i: int\n",
    "        :type j: int\n",
    "        :rtype: int\n",
    "        \"\"\"\n",
    "        if i > j or j > len(self.cumSum)-2:\n",
    "            return -1 # invalid inputs\n",
    "        \n",
    "        return self.cumSum[j+1] - self.cumSum[i] # ❤️ 因为 i 和 j 都是 sum 的范围.\n",
    "               \n",
    "\n",
    "# Your NumArray object will be instantiated and called as such:\n",
    "# obj = NumArray(nums)\n",
    "# param_1 = obj.sumRange(i,j)"
   ]
  },
  {
   "cell_type": "markdown",
   "metadata": {},
   "source": [
    "## []()\n",
    "##### 题意\n",
    "##### 分析\n",
    "##### 总结"
   ]
  },
  {
   "cell_type": "markdown",
   "metadata": {},
   "source": [
    "## []()\n",
    "##### 题意\n",
    "##### 分析\n",
    "##### 总结"
   ]
  },
  {
   "cell_type": "markdown",
   "metadata": {},
   "source": [
    "## []()\n",
    "##### 题意\n",
    "##### 分析\n",
    "##### 总结"
   ]
  },
  {
   "cell_type": "markdown",
   "metadata": {},
   "source": [
    "## []()\n",
    "##### 题意\n",
    "##### 分析\n",
    "##### 总结"
   ]
  },
  {
   "cell_type": "markdown",
   "metadata": {},
   "source": [
    "## []()\n",
    "##### 题意\n",
    "##### 分析\n",
    "##### 总结"
   ]
  }
 ],
 "metadata": {
  "kernelspec": {
   "display_name": "Python 2",
   "language": "python",
   "name": "python2"
  },
  "language_info": {
   "codemirror_mode": {
    "name": "ipython",
    "version": 2
   },
   "file_extension": ".py",
   "mimetype": "text/x-python",
   "name": "python",
   "nbconvert_exporter": "python",
   "pygments_lexer": "ipython2",
   "version": "2.7.13"
  },
  "toc": {
   "nav_menu": {},
   "number_sections": true,
   "sideBar": true,
   "skip_h1_title": true,
   "toc_cell": true,
   "toc_position": {
    "height": "642px",
    "left": "0px",
    "right": "1084.28px",
    "top": "67px",
    "width": "228px"
   },
   "toc_section_display": "block",
   "toc_window_display": true
  }
 },
 "nbformat": 4,
 "nbformat_minor": 2
}

{
 "cells": [
  {
   "cell_type": "markdown",
   "metadata": {
    "toc": true
   },
   "source": [
    "<h1>Table of Contents<span class=\"tocSkip\"></span></h1>\n",
    "<div class=\"toc\" style=\"margin-top: 1em;\"><ul class=\"toc-item\"><li><span><a href=\"#2/26\" data-toc-modified-id=\"2/26-1\"><span class=\"toc-item-num\">1&nbsp;&nbsp;</span><a href=\"\" target=\"_blank\">2/26</a></a></span><ul class=\"toc-item\"><li><span><a href=\"#121.easy-Best-Time-to-Buy-and-Sell-Stock\" data-toc-modified-id=\"121.easy-Best-Time-to-Buy-and-Sell-Stock-1.1\"><span class=\"toc-item-num\">1.1&nbsp;&nbsp;</span><a href=\"https://leetcode.com/problems/best-time-to-buy-and-sell-stock/description/\" target=\"_blank\">121.easy-Best Time to Buy and Sell Stock</a></a></span></li><li><span><a href=\"#53.easy-Maximum-Subarray\" data-toc-modified-id=\"53.easy-Maximum-Subarray-1.2\"><span class=\"toc-item-num\">1.2&nbsp;&nbsp;</span><a href=\"https://leetcode.com/problems/maximum-subarray/description/\" target=\"_blank\">53.easy-Maximum Subarray</a></a></span></li><li><span><a href=\"#70.easy-Climbing-Stairs\" data-toc-modified-id=\"70.easy-Climbing-Stairs-1.3\"><span class=\"toc-item-num\">1.3&nbsp;&nbsp;</span><a href=\"https://leetcode.com/problems/climbing-stairs/description/\" target=\"_blank\">70.easy-Climbing Stairs</a></a></span></li><li><span><a href=\"#338.medium-Counting-Bits\" data-toc-modified-id=\"338.medium-Counting-Bits-1.4\"><span class=\"toc-item-num\">1.4&nbsp;&nbsp;</span><a href=\"https://leetcode.com/problems/counting-bits/description/\" target=\"_blank\">338.medium-Counting Bits</a></a></span></li><li><span><a href=\"#309.med-Best-Time-to-Buy-and-Sell-Stock-with-Cooldown\" data-toc-modified-id=\"309.med-Best-Time-to-Buy-and-Sell-Stock-with-Cooldown-1.5\"><span class=\"toc-item-num\">1.5&nbsp;&nbsp;</span><a href=\"https://leetcode.com/problems/best-time-to-buy-and-sell-stock-with-cooldown/description/\" target=\"_blank\">309.med-Best Time to Buy and Sell Stock with Cooldown</a></a></span></li></ul></li></ul></div>"
   ]
  },
  {
   "cell_type": "markdown",
   "metadata": {},
   "source": [
    "# Dynamic & Programming\n",
    "* 题型: [Top 100 Liked Questions + Dynamic & Programming](https://leetcode.com/problemset/algorithms/?topicSlugs=dynamic-programming&listId=79h8rn6)\n",
    "* 题型: [Dynamic & Programming](https://leetcode.com/problemset/algorithms/?topicSlugs=dynamic-programming)"
   ]
  },
  {
   "cell_type": "markdown",
   "metadata": {},
   "source": [
    "## [2/26]()"
   ]
  },
  {
   "cell_type": "markdown",
   "metadata": {},
   "source": [
    "### [121.easy-Best Time to Buy and Sell Stock](https://leetcode.com/problems/best-time-to-buy-and-sell-stock/description/)\n",
    "##### 题意: Say you have an array for which the ith element is the price of a given stock on day i.\n",
    "* If you were only permitted to complete <span class=\"girk\">at most one transaction</span> (ie, buy one and sell one share of the stock), design an algorithm to find the maximum profit.\n",
    "* 举例#1:\n",
    "   ```\n",
    "   Input: [7, 1, 5, 3, 6, 4]\n",
    "   Output: 5\n",
    "\n",
    "   max. difference = 6-1 = 5 (not 7-1 = 6, as selling price needs to be larger than buying price)\n",
    "   ```\n",
    "* 举例#2:\n",
    "    ```\n",
    "    Input: [7, 6, 4, 3, 1]\n",
    "    Output: 0\n",
    "\n",
    "    In this case, no transaction is done, i.e. max profit = 0.\n",
    "    ```\n",
    "   \n",
    "##### 分析: 1d 动态规划题, 两种方法. \n",
    "* 本质上求两个元素的最大差问题. 即求最小值, 然后求证当前值和最小值之间的差异是否是最大???\n",
    "\n",
    "##### 总结: https://www.youtube.com/watch?v=8pVhUpF1INw"
   ]
  },
  {
   "cell_type": "code",
   "execution_count": null,
   "metadata": {
    "collapsed": true
   },
   "outputs": [],
   "source": [
    "# \n",
    "class Solution(object):\n",
    "    def maxProfit(self, prices):\n",
    "        \"\"\"\n",
    "        :type prices: List[int]\n",
    "        :rtype: int\n",
    "        \"\"\"\n",
    "        if not prices: return 0\n",
    "        \n",
    "        minPrice, maxProfit = prices[0], 0\n",
    "        for x in prices:\n",
    "            minPrice = min(x, minPrice) # ❤️ minPrice 本身是动态规划的一个变量 \n",
    "            maxProfit = max(maxProfit, x - minPrice)\n",
    "            \n",
    "        return maxProfit"
   ]
  },
  {
   "cell_type": "markdown",
   "metadata": {},
   "source": [
    "### [53.easy-Maximum Subarray](https://leetcode.com/problems/maximum-subarray/description/)\n",
    "##### 题意: Find the <span class=\"girk\">contiguous subarray within an array</span> (containing at least one number) which has the <span class=\"girk\">largest sum</span>.\n",
    "* For example, \n",
    "``` given the array [-2,1,-3,4,-1,2,1,-5,4], the contiguous subarray [4,-1,2,1] has the largest sum = 6. ```\n",
    "\n",
    "##### 分析: 每一步, 分析加上之前的有好处呢? 还是重新开始有好处?"
   ]
  },
  {
   "cell_type": "code",
   "execution_count": null,
   "metadata": {
    "collapsed": true
   },
   "outputs": [],
   "source": [
    "# dynamic programming 的简便写法. time O(n), space O(1)\n",
    "class Solution(object):\n",
    "    def maxSubArray(self, nums):\n",
    "        \"\"\"\n",
    "        :type nums: List[int]\n",
    "        :rtype: int\n",
    "        \"\"\"\n",
    "        if not nums: return -1\n",
    "        \n",
    "        n, rst, maxRst = len(nums), nums[0], nums[0]  # ❎ 初始化要非常非常小心.\n",
    "        for i in xrange(1, n):\n",
    "            rst = max(0, rst) + nums[i] # ❤️ 1) 分析现有结果是正数还是负数, 2) 如果是负数贡献为负, 不如归零.\n",
    "            maxRst = max(rst, maxRst)\n",
    "        return maxRst            "
   ]
  },
  {
   "cell_type": "code",
   "execution_count": null,
   "metadata": {
    "collapsed": true
   },
   "outputs": [],
   "source": [
    "# 严格 dynamic programming 的写法. time O(n), space O(n)\n",
    "class Solution(object):\n",
    "    # nums = [-2, 1, -3, 4, -1, 2, 1, -5, 4]\n",
    "    # f    = [-2, 1, -2, 4,  3, 5, 6,  1, 5]\n",
    "    # 状态转移方程: f[i] = max(f[i-1], 0) + nums[i] # 发现状态转移方程 i 只和 i - 1 有关, 所以减少空间.\n",
    "    def maxSubArray(self, nums):\n",
    "        if not nums: return -1\n",
    "        \n",
    "        n = len(nums)\n",
    "        f = [0] * n\n",
    "        f[0] = maxRst = nums[0]\n",
    "        for i in xrange(1, n):\n",
    "            f[i] = max(f[i-1], 0) + nums[i]\n",
    "            maxRst = max(maxRst, f[i])\n",
    "        return maxRst"
   ]
  },
  {
   "cell_type": "markdown",
   "metadata": {},
   "source": [
    "### [70.easy-Climbing Stairs](https://leetcode.com/problems/climbing-stairs/description/)\n",
    "##### 题意: You are climbing a stair case. It takes n steps to reach to the top.\n",
    "* Each time you can either climb 1 or 2 steps. In how many distinct ways can you climb to the top?\n",
    "* Note: Given n will be a positive integer.\n",
    "\n",
    "* 举例#1:\n",
    "    ```\n",
    "    Input: 2\n",
    "    Output:  2\n",
    "    Explanation:  There are two ways to climb to the top.\n",
    "\n",
    "    1. 1 step + 1 step\n",
    "    2. 2 steps\n",
    "    ```\n",
    "* 举例#2: \n",
    "    ```\n",
    "    Input: 3\n",
    "    Output:  3\n",
    "    Explanation:  There are three ways to climb to the top.\n",
    "\n",
    "    1. 1 step + 1 step + 1 step\n",
    "    2. 1 step + 2 steps\n",
    "    3. 2 steps + 1 step\n",
    "    ```\n",
    "    \n",
    "##### 动态规划: 计数问题."
   ]
  },
  {
   "cell_type": "code",
   "execution_count": null,
   "metadata": {
    "collapsed": true
   },
   "outputs": [],
   "source": [
    "# 方法2: 简化的 dynamic programming, ❤️ time O(n), space O(1) ❤️ \n",
    "# 状态转移方程是: f(n) = f(n-1) + f(n-2), 当前项只和前两项相关, 所以简化 space 消耗.\n",
    "class Solution(object):\n",
    "    def climbStairs(self, n):\n",
    "        if n < 3: return n # ❤️ n=1时, 返回 1;n=2时, 返回2.\n",
    "        \n",
    "        first, second = 1, 2\n",
    "        for i in xrange(2, n):\n",
    "            third = first + second\n",
    "            second, first = third, second\n",
    "        return third"
   ]
  },
  {
   "cell_type": "code",
   "execution_count": null,
   "metadata": {
    "collapsed": true
   },
   "outputs": [],
   "source": [
    "# 方法1: 严格意义的 dynamic programming, ❤️ time O(n), space O(n) ❤️\n",
    "class Solution(object):\n",
    "    # 状态方程是: f(n) = f(n-1) + f(n-2)\n",
    "    def climbStairs(self, n):\n",
    "        \"\"\"\n",
    "        :type n: int\n",
    "        :rtype: int\n",
    "        \"\"\"\n",
    "        if n < 3: return n\n",
    "        \n",
    "        f = [0] * n\n",
    "        f[0], f[1] = 1, 2\n",
    "        for i in xrange(2, n):\n",
    "            f[i] = f[i-1] + f[i-2]\n",
    "        return f[n-1]"
   ]
  },
  {
   "cell_type": "code",
   "execution_count": null,
   "metadata": {
    "collapsed": true
   },
   "outputs": [],
   "source": [
    "# 方法3: recursion + memorization, ❤️ time O(n), space O(n) ❤️\n",
    "class Solution(object):\n",
    "    def climbStairs(self, n):\n",
    "        rst = [0] * (n + 1)\n",
    "        return self.helper(n, rst)\n",
    "        \n",
    "    def helper(self, n, rst):\n",
    "        if n < 3: return n\n",
    "        \n",
    "        if rst[n] > 0: return rst[n] # ❤️ > 0 \n",
    "        \n",
    "        rst[n] = self.helper(n-1, rst) + self.helper(n-2, rst)\n",
    "        return rst [n]    "
   ]
  },
  {
   "cell_type": "markdown",
   "metadata": {},
   "source": [
    "### [746.easy-Min Cost Climbing Stairs](https://leetcode.com/problems/min-cost-climbing-stairs/description/)\n",
    "##### 题意: \n",
    "\n",
    "https://www.youtube.com/watch?v=v3WqNLmmBdk"
   ]
  },
  {
   "cell_type": "code",
   "execution_count": null,
   "metadata": {
    "collapsed": true
   },
   "outputs": [],
   "source": [
    "class Solution(object):\n",
    "    def minCostClimbingStairs(self, cost):\n",
    "        \"\"\"\n",
    "        :type cost: List[int]\n",
    "        :rtype: int\n",
    "        \"\"\"\n",
    "        "
   ]
  },
  {
   "cell_type": "markdown",
   "metadata": {},
   "source": [
    "### [338.medium-Counting Bits](https://leetcode.com/problems/counting-bits/description/)\n",
    "##### 题意: 给定非负整数  $n$, 对于所有数值 $0\\leq i \\leq n$, 计算其中的 1's 数量, 然后返回到 array 中.\n",
    "* 举例: For num = 5 you should return [0,1,1,2,1,2].\n",
    "* <span class=\"burk\">Follow ups</span>:\n",
    "    * It is very easy to come up with a solution with run time **O(n*sizeof(integer))**. But can you do it in **linear time O(n)**/possibly in a **single pass**?\n",
    "    * **Space complexity should be O(n)**."
   ]
  },
  {
   "cell_type": "code",
   "execution_count": null,
   "metadata": {
    "collapsed": true
   },
   "outputs": [],
   "source": [
    "class Solution(object):\n",
    "    def countBits(self, n):\n",
    "        \"\"\"\n",
    "        :type n: int\n",
    "        :rtype: List[int]\n",
    "        \"\"\"\n",
    "        rst = [0] * (n + 1) # ❤️ n + 1 是因为 0 <= i <= n\n",
    "        for i in xrange(1, n + 1): # ❤️ 从 1 开始是因为下一行的 i - 1.\n",
    "            rst[i] = rst[i&(i-1)] + 1\n",
    "        return rst"
   ]
  },
  {
   "cell_type": "markdown",
   "metadata": {},
   "source": [
    "### [309.med-Best Time to Buy and Sell Stock with Cooldown](https://leetcode.com/problems/best-time-to-buy-and-sell-stock-with-cooldown/description/)\n",
    "##### 题意: Say you have an array for which the ith element is the price of a given stock on day i.\n",
    "* 设计算法获得最大利润, 但是需要满足以下条件:\n",
    "    * 可以完成多起交易, 但需要先买入后卖出, 之后才能进行下一次交易.\n",
    "    * 买入卖出 到 下一次买入卖出间需要 cooldown 1 day. 必须相隔 1 天.\n",
    "* Example:\n",
    "```\n",
    "prices = [1, 2, 3, 0, 2]\n",
    "maxProfit = 3\n",
    "transactions = [buy, sell, cooldown, buy, sell]\n",
    "```\n",
    "\n",
    "\n",
    "##### 分析\n",
    "##### 总结"
   ]
  },
  {
   "cell_type": "code",
   "execution_count": null,
   "metadata": {
    "collapsed": true
   },
   "outputs": [],
   "source": [
    "class Solution(object):\n",
    "    def maxProfit(self, prices):\n",
    "        \"\"\"\n",
    "        :type prices: List[int]\n",
    "        :rtype: int\n",
    "        \"\"\"\n",
    "        "
   ]
  },
  {
   "cell_type": "markdown",
   "metadata": {},
   "source": [
    "## []()\n",
    "##### 题意\n",
    "##### 分析\n",
    "##### 总结"
   ]
  },
  {
   "cell_type": "markdown",
   "metadata": {},
   "source": [
    "## []()\n",
    "##### 题意\n",
    "##### 分析\n",
    "##### 总结"
   ]
  },
  {
   "cell_type": "markdown",
   "metadata": {},
   "source": [
    "## []()\n",
    "##### 题意\n",
    "##### 分析\n",
    "##### 总结"
   ]
  },
  {
   "cell_type": "markdown",
   "metadata": {},
   "source": [
    "## []()\n",
    "##### 题意\n",
    "##### 分析\n",
    "##### 总结"
   ]
  },
  {
   "cell_type": "markdown",
   "metadata": {},
   "source": [
    "## []()\n",
    "##### 题意\n",
    "##### 分析\n",
    "##### 总结"
   ]
  },
  {
   "cell_type": "markdown",
   "metadata": {},
   "source": [
    "## []()\n",
    "##### 题意\n",
    "##### 分析\n",
    "##### 总结"
   ]
  },
  {
   "cell_type": "markdown",
   "metadata": {},
   "source": [
    "## []()\n",
    "##### 题意\n",
    "##### 分析\n",
    "##### 总结"
   ]
  },
  {
   "cell_type": "markdown",
   "metadata": {},
   "source": [
    "## []()\n",
    "##### 题意\n",
    "##### 分析\n",
    "##### 总结"
   ]
  }
 ],
 "metadata": {
  "kernelspec": {
   "display_name": "Python 2",
   "language": "python",
   "name": "python2"
  },
  "language_info": {
   "codemirror_mode": {
    "name": "ipython",
    "version": 2
   },
   "file_extension": ".py",
   "mimetype": "text/x-python",
   "name": "python",
   "nbconvert_exporter": "python",
   "pygments_lexer": "ipython2",
   "version": "2.7.13"
  },
  "toc": {
   "nav_menu": {},
   "number_sections": true,
   "sideBar": true,
   "skip_h1_title": true,
   "toc_cell": true,
   "toc_position": {
    "height": "642px",
    "left": "0px",
    "right": "1084.28px",
    "top": "67px",
    "width": "205px"
   },
   "toc_section_display": "block",
   "toc_window_display": true
  }
 },
 "nbformat": 4,
 "nbformat_minor": 2
}

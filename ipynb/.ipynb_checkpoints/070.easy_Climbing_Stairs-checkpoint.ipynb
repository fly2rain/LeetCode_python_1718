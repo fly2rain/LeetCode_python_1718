{
 "cells": [
  {
   "cell_type": "markdown",
   "metadata": {},
   "source": [
    "# 070.easy_Climbing_Stairs\n",
    "\n",
    "### 链接\n",
    "* [**Tags: Top 100 Liked Questions + Dynamic Programming**](https://leetcode.com/problemset/algorithms/?listId=79h8rn6&topicSlugs=dynamic-programming)\n",
    "* 题目：https://leetcode.com/problems/best-time-to-buy-and-sell-stock/description/\n",
    "\n",
    "\n",
    "### 题意\n",
    "\n",
    "### 分析\n",
    "* https://leetcode.com/problems/climbing-stairs/solution/\n",
    "\n",
    "### 编程经验\n",
    "\n",
    "```python\n",
    "```"
   ]
  },
  {
   "cell_type": "markdown",
   "metadata": {},
   "source": [
    "# Method #1: recursive + memorize"
   ]
  },
  {
   "cell_type": "code",
   "execution_count": null,
   "metadata": {
    "collapsed": true
   },
   "outputs": [],
   "source": [
    "class Solution(object):\n",
    "    def climbStairs(self, n):\n",
    "        \"\"\"\n",
    "        :type n: int\n",
    "        :rtype: int\n",
    "        \"\"\"\n",
    "        dic  = {}\n",
    "        return self.climbStairs_recur (n, dic)\n",
    "        \n",
    "    \n",
    "    def __climbStairs (self, n, dic):\n",
    "        \n",
    "        # base case \n",
    "        if n == 1:\n",
    "            return 1\n",
    "        elif n == 2:\n",
    "            return 2 # 1, 1 and 2\n",
    "        \n",
    "        if n in dic:\n",
    "            xx = dic[n]\n",
    "        else:\n",
    "            xx = self.__climbStairs (n - 1, dic) + self.__climbStairs (n - 2, dic)\n",
    "            dic[n] = xx\n",
    "        \n",
    "        return xx\n",
    "    \n",
    "\n",
    "     def __climbStairs_2 (self, n, dic):\n",
    "        \n",
    "        # base case \n",
    "        if n == 1:\n",
    "            return 1\n",
    "        elif n == 2:\n",
    "            return 2 # 1, 1 and 2\n",
    "        \n",
    "        # 上面使用 if else\n",
    "        try:\n",
    "            xx = dic[n]\n",
    "        except:\n",
    "            xx = self.__climbStairs (n - 1, dic) + self.__climbStairs (n - 2, dic)\n",
    "            dic[n] = xx\n",
    "        \n",
    "        return xx"
   ]
  },
  {
   "cell_type": "code",
   "execution_count": null,
   "metadata": {
    "collapsed": true
   },
   "outputs": [],
   "source": [
    "if __name__ == '__main__'\n",
    "print Solution ()."
   ]
  },
  {
   "cell_type": "markdown",
   "metadata": {},
   "source": [
    "# Method #2: dynamic programming"
   ]
  },
  {
   "cell_type": "code",
   "execution_count": null,
   "metadata": {
    "collapsed": true
   },
   "outputs": [],
   "source": [
    "class Solution(object):\n",
    "    def climbStairs(self, n):\n",
    "        \"\"\"\n",
    "        :type n: int\n",
    "        :rtype: int\n",
    "        \"\"\"\n",
    "        if n == 1:\n",
    "            return 1\n",
    "        elif n == 2:\n",
    "            return 2\n",
    "            \n",
    "        dp = [None] * (n)\n",
    "        dp[0] = 1\n",
    "        dp[1] = 2\n",
    "        \n",
    "        for i in xrange (2, n):\n",
    "            dp[i] = dp[i-1] + dp[i-2]\n",
    "        \n",
    "        return dp[-1]"
   ]
  },
  {
   "cell_type": "markdown",
   "metadata": {},
   "source": [
    "# Method #3: Fibonacci Number"
   ]
  },
  {
   "cell_type": "code",
   "execution_count": null,
   "metadata": {
    "collapsed": true
   },
   "outputs": [],
   "source": [
    "class Solution(object):\n",
    "    def climbStairs(self, n):\n",
    "        \"\"\"\n",
    "        :type n: int\n",
    "        :rtype: int\n",
    "        \"\"\"\n",
    "        if n == 1:\n",
    "            return 1\n",
    "        elif n == 2:\n",
    "            return 2\n",
    "        \n",
    "        first, second = 1, 2\n",
    "        for i in xrange (2, n):\n",
    "            third  = first + second\n",
    "            # 以下赋值顺序很重要,我第一次写错了.\n",
    "            first  = second\n",
    "            second = third\n",
    "            \n",
    "        return third\n",
    "            "
   ]
  }
 ],
 "metadata": {
  "kernelspec": {
   "display_name": "Python 2",
   "language": "python",
   "name": "python2"
  },
  "language_info": {
   "codemirror_mode": {
    "name": "ipython",
    "version": 2
   },
   "file_extension": ".py",
   "mimetype": "text/x-python",
   "name": "python",
   "nbconvert_exporter": "python",
   "pygments_lexer": "ipython2",
   "version": "2.7.13"
  }
 },
 "nbformat": 4,
 "nbformat_minor": 2
}

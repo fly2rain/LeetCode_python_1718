{
 "cells": [
  {
   "cell_type": "markdown",
   "metadata": {},
   "source": [
    "# 000.Project_规范\n",
    "### 链接\n"
   ]
  },
  {
   "cell_type": "markdown",
   "metadata": {},
   "source": [
    "## 1.1. 很好的例子，说明规范文件系统"
   ]
  },
  {
   "cell_type": "code",
   "execution_count": null,
   "metadata": {
    "collapsed": true
   },
   "outputs": [],
   "source": [
    "├── ui\n",
    "│   └── itscaffold\n",
    "│       ├── Gemfile\n",
    "│       ├── Gemfile.lock\n",
    "│       ├── README.md\n",
    "│       ├── Rakefile\n",
    "│       ├── app\n",
    "│       │   ├── assets\n",
    "│       │   │   ├── images\n",
    "│       │   │   │   ├── about\n",
    "│       │   │   │   │   ├── accounting.png\n",
    "│       │   │   │   │   ├── datamanagement.png\n",
    "│       │   │   │   │   ├── employeemanagement.png\n",
    "│       │   │   │   │   ├── enterprise.png\n",
    "│       │   │   │   │   ├── marketing.png\n",
    "│       │   │   │   │   └── mobile.png\n",
    "│       │   │   │   ├── header-bg.jpg\n",
    "│       │   │   │   ├── header-logo-white.png\n",
    "│       │   │   │   ├── header-logo.png\n",
    "│       │   │   │   ├── logos\n",
    "│       │   │   │   │   ├── aetuts.jpg\n",
    "│       │   │   │   │   ├── creative-market.jpg\n",
    "│       │   │   │   │   ├── designmodo.jpg\n",
    "│       │   │   │   │   ├── envato.jpg\n",
    "│       │   │   │   │   ├── microlancer.jpg\n",
    "│       │   │   │   │   ├── themeforest.jpg\n",
    "│       │   │   │   │   └── wordpress.jpg"
   ]
  },
  {
   "cell_type": "markdown",
   "metadata": {},
   "source": [
    "# Method # 2"
   ]
  },
  {
   "cell_type": "code",
   "execution_count": 6,
   "metadata": {
    "collapsed": true
   },
   "outputs": [],
   "source": []
  },
  {
   "cell_type": "code",
   "execution_count": 7,
   "metadata": {
    "collapsed": false
   },
   "outputs": [
    {
     "name": "stdout",
     "output_type": "stream",
     "text": [
      "[0, 1]\n"
     ]
    }
   ],
   "source": [
    "#  Testing ----\n",
    "if __name__ == '__main__':\n",
    "    print Solution_2 ()."
   ]
  }
 ],
 "metadata": {
  "kernelspec": {
   "display_name": "Python 2",
   "language": "python",
   "name": "python2"
  },
  "language_info": {
   "codemirror_mode": {
    "name": "ipython",
    "version": 2
   },
   "file_extension": ".py",
   "mimetype": "text/x-python",
   "name": "python",
   "nbconvert_exporter": "python",
   "pygments_lexer": "ipython2",
   "version": "2.7.13"
  }
 },
 "nbformat": 4,
 "nbformat_minor": 2
}

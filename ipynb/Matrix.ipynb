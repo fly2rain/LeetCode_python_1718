{
 "cells": [
  {
   "cell_type": "markdown",
   "metadata": {
    "toc": true
   },
   "source": [
    "<h1>Table of Contents<span class=\"tocSkip\"></span></h1>\n",
    "<div class=\"toc\" style=\"margin-top: 1em;\"><ul class=\"toc-item\"><li><span><a href=\"#3/26:-Top-frequency\" data-toc-modified-id=\"3/26:-Top-frequency-1\"><span class=\"toc-item-num\">1&nbsp;&nbsp;</span><a href=\"\" target=\"_blank\">3/26: Top frequency</a></a></span><ul class=\"toc-item\"><li><span><a href=\"#48.med-Rotate-Image\" data-toc-modified-id=\"48.med-Rotate-Image-1.1\"><span class=\"toc-item-num\">1.1&nbsp;&nbsp;</span><a href=\"https://leetcode.com/problems/rotate-image/description/\" target=\"_blank\">48.med-Rotate Image</a></a></span></li></ul></li></ul></div>"
   ]
  },
  {
   "cell_type": "markdown",
   "metadata": {},
   "source": [
    "# Matrix\n",
    "* 题型: https://leetcode.com/problemset/algorithms/?search=matrix"
   ]
  },
  {
   "cell_type": "markdown",
   "metadata": {
    "collapsed": true
   },
   "source": [
    "## [3/26: Top frequency]()"
   ]
  },
  {
   "cell_type": "markdown",
   "metadata": {},
   "source": [
    "### [48.med-Rotate Image](https://leetcode.com/problems/rotate-image/description/)\n",
    "##### 题意: 给定 $n\\times n$ matrix, 90° (clockwise) rotate the matrix <span class=\"girk\">in place</span>.\n",
    "\n",
    "##### 思路: 所有的旋转可通过两次对折实现 (1. 纵向对折, 2. 沿对角线对折). https://leetcode.com/problems/rotate-image/discuss/18872/A-common-method-to-rotate-the-image"
   ]
  },
  {
   "cell_type": "code",
   "execution_count": null,
   "metadata": {
    "collapsed": true
   },
   "outputs": [],
   "source": [
    "\"\"\" clockwise rotate 90\n",
    "Example 1: -----------------------------------\n",
    "clockwise rotate\n",
    "❤️思路❤️: 1.first reverse up to down, 2.swap the symmetry \n",
    "  1 2 3     7 8 9     7 4 1\n",
    "  4 5 6  => 4 5 6  => 8 5 2\n",
    "  7 8 9     1 2 3     9 6 3\n",
    "\"\"\""
   ]
  },
  {
   "cell_type": "code",
   "execution_count": null,
   "metadata": {
    "collapsed": true
   },
   "outputs": [],
   "source": [
    "class Solution(object):\n",
    "    def rotate(self, mat):\n",
    "        \"\"\"\n",
    "        :type mat: List[List[int]]\n",
    "        :rtype: void Do not return anything, modify matrix in-place instead.\n",
    "        \"\"\"\n",
    "        if not mat or (len(mat)==1 and len(mat[0])<2): return # ❤️ 不能返回结果\n",
    "        \n",
    "        n = len(mat)\n",
    "        # 1: reserse up to down\n",
    "        mat[:] = mat[::-1]\n",
    "        \n",
    "        # 2: flip along the diagonal line\n",
    "        for i in xrange(n):\n",
    "            for j in xrange(i):\n",
    "                mat[i][j], mat[j][i] = mat[j][i], mat[i][j]"
   ]
  },
  {
   "cell_type": "code",
   "execution_count": null,
   "metadata": {
    "collapsed": true
   },
   "outputs": [],
   "source": [
    "\"\"\" anticlockwise rotate 90\n",
    "Example 1: -----------------------------------\n",
    "clockwise rotate\n",
    "❤️思路❤️: 1.first reverse up to down, 2.swap the symmetry \n",
    "  1 2 3     3 2 1     3 6 9\n",
    "  4 5 6  => 6 5 4  => 2 5 8\n",
    "  7 8 9     9 8 7     1 4 7\n",
    "\"\"\""
   ]
  },
  {
   "cell_type": "code",
   "execution_count": null,
   "metadata": {
    "collapsed": true
   },
   "outputs": [],
   "source": [
    "class Solution(object):\n",
    "    def rotate(self, mat):\n",
    "        \"\"\"\n",
    "        :type mat: List[List[int]]\n",
    "        :rtype: void Do not return anything, modify matrix in-place instead.\n",
    "        \"\"\"\n",
    "        if not mat or (len(mat)==1 and len(mat[0])<2): return \n",
    "        \n",
    "        n = len(mat)\n",
    "        for i in xrange(n):\n",
    "            for j in xrange(n/2):\n",
    "                mat[i][j], mat[i][-(j+1)] = mat[i][-(j+1)], mat[i][j]\n",
    "        \n",
    "        for i in xrange(n):\n",
    "            for j in xrange(i):\n",
    "                mat[i][j], mat[j][i] = mat[j][i], mat[i][j]\n",
    "            "
   ]
  },
  {
   "cell_type": "markdown",
   "metadata": {},
   "source": [
    "## []()\n",
    "##### 题意\n",
    "##### 分析\n",
    "##### 总结"
   ]
  },
  {
   "cell_type": "markdown",
   "metadata": {},
   "source": [
    "## []()\n",
    "##### 题意\n",
    "##### 分析\n",
    "##### 总结"
   ]
  },
  {
   "cell_type": "markdown",
   "metadata": {},
   "source": [
    "## []()\n",
    "##### 题意\n",
    "##### 分析\n",
    "##### 总结"
   ]
  },
  {
   "cell_type": "markdown",
   "metadata": {},
   "source": [
    "## []()\n",
    "##### 题意\n",
    "##### 分析\n",
    "##### 总结"
   ]
  },
  {
   "cell_type": "markdown",
   "metadata": {},
   "source": [
    "## []()\n",
    "##### 题意\n",
    "##### 分析\n",
    "##### 总结"
   ]
  },
  {
   "cell_type": "markdown",
   "metadata": {},
   "source": [
    "## []()\n",
    "##### 题意\n",
    "##### 分析\n",
    "##### 总结"
   ]
  },
  {
   "cell_type": "markdown",
   "metadata": {},
   "source": [
    "## []()\n",
    "##### 题意\n",
    "##### 分析\n",
    "##### 总结"
   ]
  },
  {
   "cell_type": "markdown",
   "metadata": {},
   "source": [
    "## []()\n",
    "##### 题意\n",
    "##### 分析\n",
    "##### 总结"
   ]
  },
  {
   "cell_type": "markdown",
   "metadata": {},
   "source": [
    "## []()\n",
    "##### 题意\n",
    "##### 分析\n",
    "##### 总结"
   ]
  },
  {
   "cell_type": "markdown",
   "metadata": {},
   "source": [
    "## []()\n",
    "##### 题意\n",
    "##### 分析\n",
    "##### 总结"
   ]
  },
  {
   "cell_type": "markdown",
   "metadata": {},
   "source": [
    "## []()\n",
    "##### 题意\n",
    "##### 分析\n",
    "##### 总结"
   ]
  }
 ],
 "metadata": {
  "kernelspec": {
   "display_name": "Python 2",
   "language": "python",
   "name": "python2"
  },
  "language_info": {
   "codemirror_mode": {
    "name": "ipython",
    "version": 2
   },
   "file_extension": ".py",
   "mimetype": "text/x-python",
   "name": "python",
   "nbconvert_exporter": "python",
   "pygments_lexer": "ipython2",
   "version": "2.7.13"
  },
  "toc": {
   "nav_menu": {},
   "number_sections": true,
   "sideBar": true,
   "skip_h1_title": true,
   "toc_cell": true,
   "toc_position": {
    "height": "601px",
    "left": "0px",
    "right": "1084.28px",
    "top": "108px",
    "width": "188px"
   },
   "toc_section_display": "block",
   "toc_window_display": true
  }
 },
 "nbformat": 4,
 "nbformat_minor": 2
}

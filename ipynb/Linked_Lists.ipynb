{
 "cells": [
  {
   "cell_type": "markdown",
   "metadata": {
    "toc": true
   },
   "source": [
    "<h1>Table of Contents<span class=\"tocSkip\"></span></h1>\n",
    "<div class=\"toc\" style=\"margin-top: 1em;\"><ul class=\"toc-item\"><li><span><a href=\"#2.-Add-Two-Numbers-(Medium)\" data-toc-modified-id=\"2.-Add-Two-Numbers-(Medium)-1\"><span class=\"toc-item-num\">1&nbsp;&nbsp;</span>2. Add Two Numbers (Medium)</a></span></li><li><span><a href=\"#21.-Merge-Two-Sorted-Lists-(easy)\" data-toc-modified-id=\"21.-Merge-Two-Sorted-Lists-(easy)-2\"><span class=\"toc-item-num\">2&nbsp;&nbsp;</span>21. Merge Two Sorted Lists (easy)</a></span></li><li><span><a href=\"#23_hard_merge-k-Sorted-Lists\" data-toc-modified-id=\"23_hard_merge-k-Sorted-Lists-3\"><span class=\"toc-item-num\">3&nbsp;&nbsp;</span><a href=\"https://leetcode.com/problems/merge-k-sorted-lists/\" target=\"_blank\">23_hard_merge k Sorted Lists</a></a></span><ul class=\"toc-item\"><li><span><a href=\"#My-solution\" data-toc-modified-id=\"My-solution-3.1\"><span class=\"toc-item-num\">3.1&nbsp;&nbsp;</span>My solution</a></span></li></ul></li><li><span><a href=\"#Delete-node-in-Linked-List\" data-toc-modified-id=\"Delete-node-in-Linked-List-4\"><span class=\"toc-item-num\">4&nbsp;&nbsp;</span>Delete node in Linked List</a></span><ul class=\"toc-item\"><li><span><a href=\"#237.-Delete-Node-in-a-Linked-List-(easy)\" data-toc-modified-id=\"237.-Delete-Node-in-a-Linked-List-(easy)-4.1\"><span class=\"toc-item-num\">4.1&nbsp;&nbsp;</span><a href=\"https://leetcode.com/problems/delete-node-in-a-linked-list/description/\" target=\"_blank\">237. Delete Node in a Linked List (easy)</a></a></span></li><li><span><a href=\"#203.-Remove-Linked-List-Elements-(easy)\" data-toc-modified-id=\"203.-Remove-Linked-List-Elements-(easy)-4.2\"><span class=\"toc-item-num\">4.2&nbsp;&nbsp;</span><a href=\"https://leetcode.com/problems/remove-linked-list-elements/description/\" target=\"_blank\">203. Remove Linked List Elements (easy)</a></a></span></li><li><span><a href=\"#27.-Remove-Element-(easy)\" data-toc-modified-id=\"27.-Remove-Element-(easy)-4.3\"><span class=\"toc-item-num\">4.3&nbsp;&nbsp;</span><a href=\"https://leetcode.com/problems/remove-element/description/\" target=\"_blank\">27. Remove Element (easy)</a></a></span></li><li><span><a href=\"#19.-Remove-Nth-Node-From-End-of-List-(Medium)\" data-toc-modified-id=\"19.-Remove-Nth-Node-From-End-of-List-(Medium)-4.4\"><span class=\"toc-item-num\">4.4&nbsp;&nbsp;</span>19. Remove Nth Node From End of List (Medium)</a></span></li></ul></li><li><span><a href=\"#148_Medium_Sort-List\" data-toc-modified-id=\"148_Medium_Sort-List-5\"><span class=\"toc-item-num\">5&nbsp;&nbsp;</span><a href=\"https://leetcode.com/problems/sort-list/description/\" target=\"_blank\">148_Medium_Sort List</a></a></span></li><li><span><a href=\"#141_easy_Linked-List-Cycle\" data-toc-modified-id=\"141_easy_Linked-List-Cycle-6\"><span class=\"toc-item-num\">6&nbsp;&nbsp;</span><a href=\"https://leetcode.com/problems/linked-list-cycle/description/\" target=\"_blank\">141_easy_Linked List Cycle</a></a></span></li><li><span><a href=\"#142_Medium_Linked-List-Cycle-II\" data-toc-modified-id=\"142_Medium_Linked-List-Cycle-II-7\"><span class=\"toc-item-num\">7&nbsp;&nbsp;</span><a href=\"https://leetcode.com/problems/linked-list-cycle-ii/description/\" target=\"_blank\">142_Medium_Linked List Cycle II</a></a></span></li><li><span><a href=\"#待做148_Medium_Sort-List\" data-toc-modified-id=\"待做148_Medium_Sort-List-8\"><span class=\"toc-item-num\">8&nbsp;&nbsp;</span><a href=\"https://leetcode.com/problems/sort-list/description/\" target=\"_blank\">待做148_Medium_Sort List</a></a></span></li><li><span><a href=\"#(精巧)-160.-Intersection-of-Two-Linked-Lists-(easy)\" data-toc-modified-id=\"(精巧)-160.-Intersection-of-Two-Linked-Lists-(easy)-9\"><span class=\"toc-item-num\">9&nbsp;&nbsp;</span>(精巧) <a href=\"https://leetcode.com/problems/intersection-of-two-linked-lists/description/\" target=\"_blank\">160. Intersection of Two Linked Lists (easy)</a></a></span></li><li><span><a href=\"#206.-Reverse-Linked-List-(easy)\" data-toc-modified-id=\"206.-Reverse-Linked-List-(easy)-10\"><span class=\"toc-item-num\">10&nbsp;&nbsp;</span><a href=\"https://leetcode.com/problems/reverse-linked-list/description/\" target=\"_blank\">206. Reverse Linked List (easy)</a></a></span></li><li><span><a href=\"#234.-Palindrome-Linked-List-(easy)\" data-toc-modified-id=\"234.-Palindrome-Linked-List-(easy)-11\"><span class=\"toc-item-num\">11&nbsp;&nbsp;</span><a href=\"https://leetcode.com/problems/palindrome-linked-list/description/\" target=\"_blank\">234. Palindrome Linked List (easy)</a></a></span></li><li><span><a href=\"#补充\" data-toc-modified-id=\"补充-12\"><span class=\"toc-item-num\">12&nbsp;&nbsp;</span>补充</a></span><ul class=\"toc-item\"><li><span><a href=\"#Find-the-middle-for-a-linked-list\" data-toc-modified-id=\"Find-the-middle-for-a-linked-list-12.1\"><span class=\"toc-item-num\">12.1&nbsp;&nbsp;</span>Find the middle for a linked list</a></span></li><li><span><a href=\"#Find-Length-of-a-Linked-List-(Iterative-and-Recursive)\" data-toc-modified-id=\"Find-Length-of-a-Linked-List-(Iterative-and-Recursive)-12.2\"><span class=\"toc-item-num\">12.2&nbsp;&nbsp;</span>Find Length of a Linked List (Iterative and Recursive)</a></span></li></ul></li></ul></div>"
   ]
  },
  {
   "cell_type": "markdown",
   "metadata": {},
   "source": [
    "# Linked List\n",
    "* 题型: Two points + Top 100 Liked Questions:\n",
    "* 链接: https://leetcode.com/problemset/algorithms/?topicSlugs=linked-list&listId=79h8rn6"
   ]
  },
  {
   "cell_type": "markdown",
   "metadata": {
    "collapsed": true
   },
   "source": [
    "## 2. Add Two Numbers (Medium)\n",
    "##### 题意 https://leetcode.com/problems/add-two-numbers/description/\n",
    "* 从头往后相加两个数, 这两个数存放在 linked list 中.\n",
    "\n",
    "##### 经验总结:\n",
    "* Linked list 遍历, 每次需要手动拨动 node, 例如 ***node = node.next***.\n",
    "* Linked list 中, ***node = node.next*** 和 ***node.next = node.next.next*** 完全不同: \n",
    "    * 前者是 iteration 遍历\n",
    "    * 后者是deleted the next node."
   ]
  },
  {
   "cell_type": "code",
   "execution_count": null,
   "metadata": {
    "collapsed": true
   },
   "outputs": [],
   "source": [
    "# Definition for singly-linked list.\n",
    "# class ListNode(object):\n",
    "#     def __init__(self, x):\n",
    "#         self.val = x\n",
    "#         self.next = None\n",
    "\n",
    "class Solution(object):\n",
    "    def addTwoNumbers(self, l1, l2):\n",
    "        \"\"\"\n",
    "        :type l1: ListNode\n",
    "        :type l2: ListNode\n",
    "        :rtype: ListNode\n",
    "        \"\"\"\n",
    "        dummy = curr = ListNode (None)\n",
    "        carry = 0\n",
    "        \n",
    "        while l1 or l2 or carry:\n",
    "            s = carry\n",
    "            if l1:\n",
    "                s += l1.val\n",
    "                l1 = l1.next\n",
    "            if l2:\n",
    "                s += l2.val\n",
    "                l2 = l2.next\n",
    "                \n",
    "            carry = s // 10\n",
    "            curr.next = ListNode (s % 10)\n",
    "            curr = curr.next\n",
    "        \n",
    "        return dummy.next"
   ]
  },
  {
   "cell_type": "markdown",
   "metadata": {},
   "source": [
    "## 21. Merge Two Sorted Lists (easy)\n",
    "##### 题意 https://leetcode.com/problems/merge-two-sorted-lists/description/\n",
    "* Merge two sorted linked lists and return it as a new list. The new list should be made by splicing together the nodes of the first two lists.\n",
    "* 举例:\n",
    "    * Input: 1->2->4, 1->3->4\n",
    "    * Output: 1->1->2->3->4->4"
   ]
  },
  {
   "cell_type": "code",
   "execution_count": null,
   "metadata": {
    "collapsed": true
   },
   "outputs": [],
   "source": [
    "# Definition for singly-linked list.\n",
    "# class ListNode(object):\n",
    "#     def __init__(self, x):\n",
    "#         self.val = x\n",
    "#         self.next = None\n",
    "\n",
    "class Solution(object):\n",
    "    def mergeTwoLists(self, l1, l2):\n",
    "        \"\"\"\n",
    "        :type l1: ListNode\n",
    "        :type l2: ListNode\n",
    "        :rtype:   ListNode\n",
    "        \"\"\"\n",
    "        dummy = curr = ListNode (None)\n",
    "        \n",
    "        while l1 and l2:\n",
    "            if l1.val < l2.val:\n",
    "                curr.next = l1\n",
    "                l1 = l1.next\n",
    "            else:\n",
    "                curr.next = l2\n",
    "                l2 = l2.next\n",
    "            curr = curr.next \n",
    "        \n",
    "        curr.next = l1 or l2\n",
    "        # curr.next = l1 if l1 else l2\n",
    "        return dummy.next"
   ]
  },
  {
   "cell_type": "markdown",
   "metadata": {},
   "source": [
    "## [23_hard_merge k Sorted Lists](https://leetcode.com/problems/merge-k-sorted-lists/)\n",
    "##### 题意\n",
    "* Merge $k$ sorted linked lists and return it as one sorted list. Analyze and describe its complexity.\n",
    "* 难点: 是要处理 $k$ 个 sorted linked lists.\n",
    "* 总结: 我已经做出以下答案, 还有很多其他答案.\n",
    "\n",
    "### My solution \n",
    "* runtime: $O(n)$, $n$ 表示所有 sorted linked list 包含元素的个数.\n",
    "* space complexity: 几乎是 in-place 的, 属于 constant complexity $O(1)$."
   ]
  },
  {
   "cell_type": "code",
   "execution_count": null,
   "metadata": {
    "collapsed": true
   },
   "outputs": [],
   "source": [
    "# Definition for singly-linked list.\n",
    "# class ListNode(object):\n",
    "#     def __init__(self, x):\n",
    "#         self.val = x\n",
    "#         self.next = None\n",
    "\n",
    "class Solution(object):\n",
    "    def mergeKLists(self, lists):\n",
    "        \"\"\"\n",
    "        :type lists: List[ListNode]\n",
    "        :rtype: ListNode\n",
    "        \"\"\"\n",
    "        if not lists: # 如果空 lists, 直接返回 空结果 \n",
    "            return []\n",
    "        \n",
    "        while len (lists) > 1:\n",
    "            l1 = lists.pop ()\n",
    "            l2 = lists.pop ()\n",
    "            \n",
    "            newlist = self.__merge2lists (l1, l2)\n",
    "            lists.append ( newlist )\n",
    "            \n",
    "        return lists[0]            \n",
    "            \n",
    "    def __merge2lists (self, l1, l2): ## merge two lists \n",
    "        dummy = curr = ListNode (None)\n",
    "        while l1 and l2:\n",
    "            if l1.val < l2.val:\n",
    "                curr.next = l1\n",
    "                l1 = l1.next\n",
    "            else:\n",
    "                curr.next = l2\n",
    "                l2 = l2.next\n",
    "            curr = curr.next\n",
    "\n",
    "        curr.next = l1 or l2\n",
    "\n",
    "        return dummy.next"
   ]
  },
  {
   "cell_type": "code",
   "execution_count": null,
   "metadata": {
    "collapsed": true
   },
   "outputs": [],
   "source": [
    "# Definition for singly-linked list.\n",
    "# class ListNode(object):\n",
    "#     def __init__(self, x):\n",
    "#         self.val = x\n",
    "#         self.next = None\n",
    "\n",
    "class Solution(object):\n",
    "    def mergeKLists(self, lists):\n",
    "        \"\"\"\n",
    "        :type lists: List[ListNode]\n",
    "        :rtype: ListNode\n",
    "        \"\"\"\n",
    "        \n",
    "    def __mergeKlists (self, lists):\n",
    "        K = len(lists)\n",
    "        \n",
    "        if  K == 1:\n",
    "            return lists[0]\n",
    "        \n",
    "        elif K > 2: # reduce the K merge problem into a K-1 problem\n",
    "            self.__merge2lists( lists[-1], __mergeKlists (lists[:K]) )\n",
    "            \n",
    "        elif K == 2: # merge two sorted linked lists \n",
    "            return self.__merge2lists (lists[0], lists[1])\n",
    "            \n",
    "            \n",
    "    def __merge2lists (self, l1, l2):\n",
    "        \n",
    "        dummy = curr = ListNode (None)\n",
    "        while l1 and l2:\n",
    "            if l1.val < l2.val:\n",
    "                curr.next = l1\n",
    "                l1 = l1.next\n",
    "            else:\n",
    "                curr.next = l2\n",
    "                l2 = l2.next\n",
    "            curr = curr.next\n",
    "\n",
    "        curr.next = l1 or l2\n",
    "\n",
    "        return dummy.next"
   ]
  },
  {
   "cell_type": "markdown",
   "metadata": {},
   "source": [
    "## Delete node in Linked List\n",
    "##### 可能的题型\n",
    "* 指明删除<span class=\"girk\">第 i 个 node</span>, 这个简单, 计数变量从 1 开始在 loop里递增计数, 当计数变量指向 i-1时, <span class=\"girk\">.next = .next.next</span>\n",
    "* 指明删除<span class=\"girk\">倒数第 i 个 node</span>. 两条思路:\n",
    "    * [<span class=\"girk\">两轮 loop</span>] 遍历一次得到 linked list node 个数, 推出倒数第 i 个 node 是正数第 n - i 个 node. 然后按照第 1 种题型的方式删除 node.\n",
    "    * [<span class=\"girk\">一轮 loop</span>] 快慢指针的方法, 快指针比慢指针快 i + 1 个. 快指针到末尾的时候, 慢指针正好指向倒数第 i-1 个变量, 实施删除.\n",
    "* 指明删除给定 val 的 node. [思路]: 为了一轮 loop 搞定, 引入两个快慢指针法. 快指针比慢指针快一个, 快指针等于 val 时, 慢指针正好指向前一个, 删除."
   ]
  },
  {
   "cell_type": "markdown",
   "metadata": {},
   "source": [
    "### [237. Delete Node in a Linked List (easy)](https://leetcode.com/problems/delete-node-in-a-linked-list/description/)\n",
    "##### INFO\n",
    "* 题意: 给定**单个** linked list 的 node, 删除该 node. [注意] 该 node 假定不是尾 node. \n",
    "* 思路: \n",
    "    * <span class=\"girk\">一般思路</span>: 该 node 前一个 node 的 next 跳过当前 node, 让它指向后一个 node. [问题]: 只给定当前 node.\n",
    "    * <span class=\"girk\">巧妙思路</span>: 将 node 后的一个 node 的值, 拷贝给当前 node, 然后删除后一个 node. 优势: 不需要前一个 node."
   ]
  },
  {
   "cell_type": "code",
   "execution_count": null,
   "metadata": {
    "collapsed": true
   },
   "outputs": [],
   "source": [
    "# Definition for singly-linked list.\n",
    "# class ListNode(object):\n",
    "#     def __init__(self, x):\n",
    "#         self.val = x\n",
    "#         self.next = None\n",
    "\n",
    "class Solution(object):\n",
    "    def deleteNode(self, node):\n",
    "        \"\"\"\n",
    "        :type node: ListNode\n",
    "        :rtype: void Do not return anything, modify node in-place instead.\n",
    "        \"\"\"\n",
    "        node.val  = node.next.val\n",
    "        node.next = node.next.next "
   ]
  },
  {
   "cell_type": "markdown",
   "metadata": {},
   "source": [
    "##### 扩展  & 分析:\n",
    "* 如果给定 node 是<span class=\"girk\">尾 node, 这条思路行不通</span>. 第 1 条语句就行不通了. 必然需要前一个 node. "
   ]
  },
  {
   "cell_type": "markdown",
   "metadata": {},
   "source": [
    "### [203. Remove Linked List Elements (easy)](https://leetcode.com/problems/remove-linked-list-elements/description/)\n",
    "##### INFO\n",
    "* 题意: 给定linked list, 删除所有 val 的 node.\n",
    "* 思路: two points, 一个比另一个快1.\n",
    "\n",
    "##### [方法1: fast and slow points](https://leetcode.com/problems/remove-linked-list-elements/discuss/)\n",
    "* 第一做完的时间 1/19/18 4:08 PM \n",
    "    * <span class=\"girk\">错误的原因</span>: 没有把删除过程画出来, 没有画面感. 总体而言, curr 每次都更新; 但删除时, prev 不变, 不删除时, 更新 prev = prev.next. \n",
    "    * 编程的心得: prev.next  = curr.next # prev.next = prev.next.next"
   ]
  },
  {
   "cell_type": "code",
   "execution_count": null,
   "metadata": {
    "collapsed": true
   },
   "outputs": [],
   "source": [
    "# Definition for singly-linked list.\n",
    "# class ListNode(object):\n",
    "#     def __init__(self, x):\n",
    "#         self.val = x\n",
    "#         self.next = None\n",
    "\n",
    "class Solution(object):\n",
    "    def removeElements(self, head, val):\n",
    "        \"\"\"\n",
    "        :type head: ListNode\n",
    "        :type val: int\n",
    "        :rtype: ListNode\n",
    "        \"\"\"\n",
    "        dummy = prev = ListNode (None)\n",
    "        curr = prev.next = head\n",
    "        \n",
    "        while curr:\n",
    "            if curr.val == val:\n",
    "                prev.next = curr.next\n",
    "            else:\n",
    "                prev = prev.next\n",
    "                \n",
    "            curr = curr.next\n",
    "            \n",
    "        return dummy.next"
   ]
  },
  {
   "cell_type": "markdown",
   "metadata": {},
   "source": [
    "##### [方法2: 递归法 - clean, short, clever but not good](https://discuss.leetcode.com/topic/12580/3-line-recursive-solution/2)\n",
    "* 复杂度应该高于 iteration. \n",
    "* python code 不能通过测试, 因为超过了最大 recursive depth. RuntimeError: maximum recursion depth exceeded."
   ]
  },
  {
   "cell_type": "code",
   "execution_count": null,
   "metadata": {
    "collapsed": true
   },
   "outputs": [],
   "source": [
    "# Definition for singly-linked list.\n",
    "# class ListNode(object):\n",
    "#     def __init__(self, x):\n",
    "#         self.val = x\n",
    "#         self.next = None\n",
    "\n",
    "class Solution(object):\n",
    "    def removeElements(self, head, val):\n",
    "        \"\"\"\n",
    "        :type head: ListNode\n",
    "        :type val: int\n",
    "        :rtype: ListNode\n",
    "        \"\"\"\n",
    "        # the basic case\n",
    "        if not head: return None\n",
    "        \n",
    "        # recursive check head.next \n",
    "        head.next = removeElements (head.next, val)\n",
    "        return head.next if head.val == val else head"
   ]
  },
  {
   "cell_type": "markdown",
   "metadata": {},
   "source": [
    "### [27. Remove Element (easy)](https://leetcode.com/problems/remove-element/description/)\n",
    "##### INFO\n",
    "* 题意: list 的问题, in-place 删除 list 中 等于 val 的所有元素, 返回最新长度.\n",
    "* 思路: 简单, 两个 point, 一个正常遍历, 一个记录当前的存放位置. \n",
    "\n",
    "##### [方法1: two points - 顺序 (<span class=\"burk\">适合大量相同的情况</span>) ](https://leetcode.com/problems/remove-element/solution/)\n",
    "* 第一做完的时间 1/19/18 4:40 PM, \n",
    "* 缺陷: 如果极少元素等于 val, 将需要大量的 赋值操作."
   ]
  },
  {
   "cell_type": "code",
   "execution_count": null,
   "metadata": {
    "collapsed": true
   },
   "outputs": [],
   "source": [
    "class Solution(object):\n",
    "    def removeElement(self, nums, val):\n",
    "        \"\"\"\n",
    "        :type nums: List[int]\n",
    "        :type val: int\n",
    "        :rtype: int\n",
    "        \"\"\"\n",
    "        k, nn = 0, len(nums)\n",
    "        if not nn:\n",
    "            return k\n",
    "        \n",
    "        for i, x in enumerate (nums):\n",
    "            if x == val:\n",
    "                continue\n",
    "            nums[k] = x\n",
    "            k += 1\n",
    "                \n",
    "        return k # 原来的错误, return k + 1. 大意."
   ]
  },
  {
   "cell_type": "markdown",
   "metadata": {},
   "source": [
    "\n",
    "##### [方法2: two points - 逆序 (<span class=\"burk\">适合极少相同的情况</span>)](https://leetcode.com/problems/remove-element/solution/)\n",
    "* 第一做完的时间 \t1/19/18 4:45 PM.\n",
    "* 思路: 两个指针, 一个开头, 一个结尾. 如果开头 == val, 那么将结尾的值赋给开头, n -= 1; 否则, 开头指针 k += 1.\n",
    "* 优势: 如果极少元素 == val, 那么极少有赋值操作."
   ]
  },
  {
   "cell_type": "code",
   "execution_count": null,
   "metadata": {
    "collapsed": true
   },
   "outputs": [],
   "source": [
    "class Solution(object):\n",
    "    def removeElement(self, nums, val):\n",
    "        \"\"\"\n",
    "        :type nums: List[int]\n",
    "        :type val: int\n",
    "        :rtype: int\n",
    "        \"\"\"\n",
    "        k, n = 0, len(nums) - 1\n",
    "        if not n:\n",
    "            return k\n",
    "        \n",
    "        while k < n:\n",
    "            if nums[k] == val:\n",
    "                nums[k] = nums[n-1]\n",
    "                n -= 1\n",
    "            else:\n",
    "                k += 1\n",
    "                \n",
    "        return k"
   ]
  },
  {
   "cell_type": "markdown",
   "metadata": {},
   "source": [
    "### 19. Remove Nth Node From End of List (Medium)\n",
    "##### 题意 https://leetcode.com/problems/remove-nth-node-from-end-of-list/description/\n",
    "* Given a linked list, remove the n-th node from the end of list and return its head.\n",
    "* 举例:\n",
    "    * Given linked list: 1->2->3->4->5, and n = 2.\n",
    "    * After removing the second node from the end, the linked list becomes 1->2->3->5.\n",
    "* 注意:\n",
    "    * Given n will always be valid.\n",
    "    * Try to do this in one pass.\n",
    "    \n",
    "##### [方法 #1 (Two pass algorithm)](https://leetcode.com/problems/remove-nth-node-from-end-of-list/solution/)\n",
    " - 第一次练习: **corner case 没处理好**, 另外**没有命名为 dummy**. 这样在删除第一个元素的时候变得非常困难. \n",
    " - 做这个题, 适合画个图, 从而确定边界条件, 比如 index 范围.\n",
    " - 做 linked list 问题, 无非是计数 和 index 的问题, 一般计数还是 1-based, 而 index 是 0-based."
   ]
  },
  {
   "cell_type": "code",
   "execution_count": null,
   "metadata": {
    "collapsed": true
   },
   "outputs": [],
   "source": [
    "# Definition for singly-linked list.\n",
    "# class ListNode(object):\n",
    "#     def __init__(self, x):\n",
    "#         self.val = x\n",
    "#         self.next = None\n",
    "\n",
    "class Solution(object):\n",
    "    def removeNthFromEnd(self, head, n):\n",
    "        \"\"\"\n",
    "        :type head: ListNode\n",
    "        :type n: int\n",
    "        :rtype: ListNode\n",
    "        \"\"\"\n",
    "        dummy      = ListNode (None)\n",
    "        dummy.next = curr = head\n",
    "        \n",
    "        ## 1 count how many elements in the linked list\n",
    "        N   = 0 \n",
    "        while curr:\n",
    "            N += 1\n",
    "            curr = curr.next\n",
    "        \n",
    "        ## 2 locate to the previous node before the node to delete\n",
    "        k = 0\n",
    "        curr = dummy\n",
    "        while k < N - n: # 边界很难.\n",
    "            curr = curr.next\n",
    "            k += 1\n",
    "        \n",
    "        ## 3 delete the node\n",
    "        curr.next = curr.next.next\n",
    "        \n",
    "        return dummy.next"
   ]
  },
  {
   "cell_type": "markdown",
   "metadata": {},
   "source": [
    "##### [方法 #2 (One pass algorithm)](https://leetcode.com/problems/remove-nth-node-from-end-of-list/solution/)\n",
    "* two points, fast point 去找 linked list 的 end, slow point 正好在需删 node 的前一个 node. 需要保证 fast point 和 slow point 之间相差 n + 1\n",
    "* 第一次写于 1/19/18 6:32 PM, 让两个 point 之间的距离正好为 n 了, 从而导致错误. 应该需要 n + 1 的."
   ]
  },
  {
   "cell_type": "code",
   "execution_count": null,
   "metadata": {
    "collapsed": true
   },
   "outputs": [],
   "source": [
    "# Definition for singly-linked list.\n",
    "# class ListNode(object):\n",
    "#     def __init__(self, x):\n",
    "#         self.val = x\n",
    "#         self.next = None\n",
    "\n",
    "class Solution(object):\n",
    "    def removeNthFromEnd(self, head, n):\n",
    "        \"\"\"\n",
    "        :type head: ListNode\n",
    "        :type n: int\n",
    "        :rtype: ListNode\n",
    "        \"\"\"\n",
    "        # 1 define auxiliary variables \n",
    "        dummy = prev = curr = ListNode (None)\n",
    "        dummy.next = head\n",
    "        \n",
    "        # 2 fast index 先走 n + 1 步\n",
    "        for i in xrange (n + 1): # 这个边界第一遍写错了.\n",
    "            curr = curr.next\n",
    "        \n",
    "        # 3 直到 fast reach the end, then the slower would be the node before the deleted node \n",
    "        while curr:\n",
    "            curr = curr.next\n",
    "            prev = prev.next\n",
    "        \n",
    "        # 4 delete it\n",
    "        prev.next = prev.next.next\n",
    "        return dummy.next "
   ]
  },
  {
   "cell_type": "markdown",
   "metadata": {},
   "source": [
    "## [148_Medium_Sort List](https://leetcode.com/problems/sort-list/description/)\n",
    "##### INFO\n",
    "* 题意: 排序 linked list, runtime $O(nlog)$, constant space complexity.\n",
    "* 分析: 只能是 merge sort 了."
   ]
  },
  {
   "cell_type": "markdown",
   "metadata": {},
   "source": [
    "## [141_easy_Linked List Cycle](https://leetcode.com/problems/linked-list-cycle/description/)\n",
    "##### 题意\n",
    "* 给定 linked list, 判断是否包含 cycle.\n",
    "\n",
    "#####\n",
    "* 方法1: 使用 hash-table, 查看每个 node 是否已经在 hash-table 中.\n",
    "* 方法2: Two points, 一个是另外一个的两倍速度, "
   ]
  },
  {
   "cell_type": "code",
   "execution_count": null,
   "metadata": {
    "collapsed": true
   },
   "outputs": [],
   "source": [
    "# Definition for singly-linked list.\n",
    "# class ListNode(object):\n",
    "#     def __init__(self, x):\n",
    "#         self.val = x\n",
    "#         self.next = None\n",
    "\n",
    "class Solution(object):\n",
    "    def hasCycle(self, head):\n",
    "        \"\"\"\n",
    "        :type head: ListNode\n",
    "        :rtype: bool\n",
    "        \"\"\"\n",
    "        # 1 没有元素或只有一个元素, 是不可能有 cycle 的.\n",
    "        if not head or not head.next: \n",
    "            return False\n",
    "        \n",
    "        # 2: two point method to check the cycle\n",
    "        slow = head\n",
    "        fast = head.next\n",
    "        while fast and fast.next:\n",
    "            if fast == slow:\n",
    "                return True\n",
    "            fast = fast.next.next # 如果 fast.next 不是 None; 则 fast.next.next 是存在的, 至少也是个 None.\n",
    "            slow = slow.next\n",
    "        return False            "
   ]
  },
  {
   "cell_type": "markdown",
   "metadata": {},
   "source": [
    "## [142_Medium_Linked List Cycle II](https://leetcode.com/problems/linked-list-cycle-ii/description/)\n",
    "##### 题意\n",
    "* 对给定 linked list, 输出 cycle 开始的 node. 如果没有 cycle, 则输出是 None.\n",
    "* Note: Do not modify the linked list.\n",
    "* Follow up: Can you solve it without using extraZ`` space?\n",
    "\n",
    "##### 分析\n",
    "* 方法1: 使用 hash-table 其实很简单. 可惜需要 extra space.\n",
    "* 方法2: Approach #2 Floyd's Tortoise and Hare [Accepted]\n",
    "    * 使用 fast 和 slow 的方法找到 meet point\n",
    "    * 从 meet point 开始, slow 一步一步走. 从 head 开始, 开始一个新的 point pnew, 一步一步走.\n",
    "    * slow 和 pnew 将 meet 在 entrance. 这个通过复杂的画图就知道了.\n",
    "    \n",
    "* 方法2 的相关链接:\n",
    "    * https://leetcode.com/problems/linked-list-cycle-ii/solution/\n",
    "    * http://www.cnblogs.com/hiddenfox/p/3408931.html\n",
    "    * http://fisherlei.blogspot.com/2013/11/leetcode-linked-list-cycle-ii-solution.html\n",
    "    \n",
    "##### 根据 http://www.cnblogs.com/hiddenfox/p/3408931.html 可能的扩展问题有哪些?\n",
    "* 环的长度是多少？[答]: 先找到meet point, 再利用 fast and slow 追赶问题, 解出应用题 (slow 比 fast 快 r - 1圈). \n",
    "* 如何找到环中第一个节点（即Linked List Cycle II）？\n",
    "* 如何将有环的链表变成单链表（解除环）？[答]: (1) 找到 entrance 和 entrance 前面一个 node (2) 让它.next 指向 None. \n",
    "* 如何判断两个单链表是否有交点？如何找到第一个相交的节点？[答] 已经做过."
   ]
  },
  {
   "cell_type": "code",
   "execution_count": null,
   "metadata": {
    "collapsed": true
   },
   "outputs": [],
   "source": [
    "# Definition for singly-linked list.\n",
    "# class ListNode(object):\n",
    "#     def __init__(self, x):\n",
    "#         self.val = x\n",
    "#         self.next = None\n",
    "\n",
    "class Solution(object):\n",
    "    def detectCycle(self, head):\n",
    "        \"\"\"\n",
    "        :type head: ListNode\n",
    "        :rtype: ListNode\n",
    "        \"\"\"\n",
    "        curr = head\n",
    "        dic  = {}\n",
    "        \n",
    "        while curr:\n",
    "            if curr in dic:\n",
    "                return curr\n",
    "            else:\n",
    "                dic[curr] = 0\n",
    "            curr = curr.next\n",
    "        return None"
   ]
  },
  {
   "cell_type": "markdown",
   "metadata": {},
   "source": [
    "## [待做148_Medium_Sort List](https://leetcode.com/problems/sort-list/description/)"
   ]
  },
  {
   "cell_type": "markdown",
   "metadata": {},
   "source": [
    "## (精巧) [160. Intersection of Two Linked Lists (easy)](https://leetcode.com/problems/intersection-of-two-linked-lists/description/)\n",
    "##### 题意\n",
    "* 给定两个 singly linked list, 返回他们 intersection 开始的 node.\n",
    "* 补充: \n",
    "    * 不能改变 singly linked list\n",
    "    * 如果没有 intersection, 则输出 None.\n",
    "    * 需要 runtime $O(n)$, space complexity $O(1)$.\n",
    "    \n",
    "##### 思路:\n",
    "* 方法1: 遍历第1个 list, 存放在 hash-table; 遍历第 2 个 list, 查看是否在 hash-table 中.\n",
    "* 方法2: Pa --> Pb,  Pb --> Pa. https://discuss.leetcode.com/topic/13419/concise-python-code-with-comments\n",
    "\n",
    "##### 经验总结\n",
    "* 判断两个 ListNode 是否是同一个, 可以使用 \"==\" 判断."
   ]
  },
  {
   "cell_type": "code",
   "execution_count": 44,
   "metadata": {},
   "outputs": [
    {
     "name": "stdout",
     "output_type": "stream",
     "text": [
      "True\n",
      "True\n"
     ]
    }
   ],
   "source": [
    "# Definition for singly-linked list.\n",
    "# class ListNode(object):\n",
    "#     def __init__(self, x):\n",
    "#         self.val = x\n",
    "#         self.next = None\n",
    "\n",
    "class Solution(object):\n",
    "    def getIntersectionNode(self, headA, headB):\n",
    "        \"\"\"\n",
    "        :type head1, head1: ListNode\n",
    "        :rtype: ListNode\n",
    "        \"\"\"\n",
    "        if not headA or not headB: ## 如果是空, 则返回 None\n",
    "            return None\n",
    "\n",
    "        pa, pb = headA, headB # 2 pointers\n",
    "\n",
    "        while pa is not pb:\n",
    "            # if either pointer hits the end, switch head and continue the second traversal, \n",
    "            # if not hit the end, just move on to next\n",
    "            pa = headB if pa is None else pa.next\n",
    "            pb = headA if pb is None else pb.next\n",
    "            # 要么 meet 某个位置, 或者 meet at the end\n",
    "\n",
    "        return pa # only 2 ways to get out of the loop, they meet or the both hit the end=None\n",
    "\n",
    "# the idea is if you switch head, the possible difference between length would be countered. \n",
    "# On the second traversal, they either hit or miss. \n",
    "# if they meet, pa or pb would be the node we are looking for, \n",
    "# if they didn't meet, they will hit the end at the same iteration, \n",
    "# pa == pb == None, return either one of them is the same,None"
   ]
  },
  {
   "cell_type": "markdown",
   "metadata": {},
   "source": [
    "## [206. Reverse Linked List (easy)](https://leetcode.com/problems/reverse-linked-list/description/)\n",
    "###### 题意\n",
    "* 题意: Reverse a singly linked list.\n",
    "\n",
    "###### 分析 https://leetcode.com/problems/reverse-linked-list/solution/\n",
    "* 方法1: iteration. runtime $O(n)$, space complexity $O(1)$\n",
    "* 方法2: recursive. runtime $O(n)$, space complexity $O(n)$ because of from implicit stack space due to recursion. 在 python 中, 很容易失效, 因为 python recurse depth 最多 1000 层."
   ]
  },
  {
   "cell_type": "code",
   "execution_count": null,
   "metadata": {
    "collapsed": true
   },
   "outputs": [],
   "source": [
    "# Definition for singly-linked list.\n",
    "# class ListNode(object):\n",
    "#     def __init__(self, x):`\n",
    "#         self.val = x\n",
    "#         self.next = None"
   ]
  },
  {
   "cell_type": "markdown",
   "metadata": {},
   "source": [
    "##### 方法1: iteration\n",
    "https://www.youtube.com/watch?v=sYcOK51hl-A&t=671s"
   ]
  },
  {
   "cell_type": "code",
   "execution_count": null,
   "metadata": {
    "collapsed": true
   },
   "outputs": [],
   "source": [
    "\n",
    "class Solution(object):\n",
    "    def reverseList(self, head):\n",
    "        \"\"\"\n",
    "        :type head: ListNode\n",
    "        :rtype: ListNode\n",
    "        \"\"\"\n",
    "        ######################\n",
    "        if not head or not head.next: # 如果 linked list 没有元素或只有一个元素, 则直接返回 head.\n",
    "            return head\n",
    "        \n",
    "        dummy = ListNode (None)\n",
    "        curr  = head\n",
    "        \n",
    "        while curr:\n",
    "            temp       = curr.next   # 1 把下一个 node 地址给 node \n",
    "            curr.next  = dummy.next  # 2 把当前 node.next 重新赋值为 dummy.next\n",
    "            dummy.next = curr        # 3 把 dummy.next 指向当前 node \n",
    "            curr       = temp    # 4 把遍历到下一个 node\n",
    "            \n",
    "        return dummy.next"
   ]
  },
  {
   "cell_type": "markdown",
   "metadata": {},
   "source": [
    "##### 方法2: recursion\n",
    "* https://www.youtube.com/watch?v=MRe3UsRadKw\n",
    "* https://leetcode.com/problems/reverse-linked-list/solution/"
   ]
  },
  {
   "cell_type": "code",
   "execution_count": null,
   "metadata": {
    "collapsed": true
   },
   "outputs": [],
   "source": [
    "# 方法2: recursive\n",
    "class Solution(object):\n",
    "    def reverseList(self, head):\n",
    "        \"\"\"\n",
    "        :type head: ListNode\n",
    "        :rtype: ListNode\n",
    "        \"\"\"\n",
    "        if not head or not head.next:\n",
    "            return head\n",
    "        \n",
    "        p = self.reverseList (head.next)\n",
    "        head.next.next = head ################ great code \n",
    "        hear.next = None\n",
    "        return p"
   ]
  },
  {
   "cell_type": "markdown",
   "metadata": {},
   "source": [
    "## [234. Palindrome Linked List (easy)](https://leetcode.com/problems/palindrome-linked-list/description/)\n",
    "##### 题意\n",
    "* 题意: 给定 singly linked list, 判断是否是 palindrome.\n",
    "* Follow up: do it in $O(n)$ time and $O(1)$ space\n",
    "\n",
    "##### 方法总结\n",
    "* **方法1**: 将 singly linked list 转化成 list, 然后判断. runtime is $O(n)$, 但是 space complexity is $O(n)$.\n",
    "* **方法2**: 将 singly linked reverse 之后, 对比两个 linked list value 是否一致. runtime is $O(n)$, sapce compelxity is $O(n)$.\n",
    "* **方法3**: in-place 判断, 把 linked list 前半部分 reverse, 然后把前半部分和后半部分对比是否一致. runtime is $O(n)$, space complexity is $O(1)$\n",
    "* **方法4 (great method)**: 将 singly linked list\n",
    "前半部分压进 stack 中, 然后逐一 pop 出来和 linked list 的后半部分对比. runtime $O(n)$, space complexity is $O(n)$, 但还是节省一半 space 空间. https://www.youtube.com/watch?v=Os5FM4KQtxw&t=530s\n",
    "* **方法5 (in-place 但是代码麻烦)**: 使用 two point 找到 middle, 将后半部分 in-place 反续排列, 对比前后两个 sub-list. runtime $O(n)$, space complexity is $O(1)$."
   ]
  },
  {
   "cell_type": "code",
   "execution_count": 35,
   "metadata": {
    "collapsed": true
   },
   "outputs": [],
   "source": [
    "# Definition for singly-linked list.\n",
    "# class ListNode(object):\n",
    "#     def __init__(self, x):\n",
    "#         self.val = x\n",
    "#         self.next = None"
   ]
  },
  {
   "cell_type": "markdown",
   "metadata": {},
   "source": [
    "* 方法4 (<span class=\"girk\">评价: code 简短, 运行高效)</span>: 将 singly linked list 前半部分压进 stack, 然后逐一 pop 出来和 linked list 的后半部分对比.\n",
    "     * runtime O(n), space complexity is  O(n), 但还是节省一半 space 空间.\n",
    "     * https://www.youtube.com/watch?v=Os5FM4KQtxw&t=530s"
   ]
  },
  {
   "cell_type": "code",
   "execution_count": null,
   "metadata": {
    "collapsed": true
   },
   "outputs": [],
   "source": [
    "class Solution(object):\n",
    "    def isPalindrome(self, head):\n",
    "        \"\"\"\n",
    "        :type head: ListNode\n",
    "        :rtype: bool\n",
    "        \"\"\"\n",
    "        # 1 basic cases \n",
    "        if not head or not head.next:\n",
    "            return True\n",
    "        \n",
    "        # 2 using stack to store th first half of the linked list\n",
    "        stack = []\n",
    "        fast = curr = head ######### notice here, curr is in the 2nd half\n",
    "        while fast and fast.next:\n",
    "            stack.append (curr.val)\n",
    "            curr = curr.next\n",
    "            fast = fast.next.next\n",
    "        \n",
    "        # 3 comparet the 1st half of list with the 2nd half of list\n",
    "        if fast != None: curr = curr.next\n",
    "        while curr:\n",
    "            if not stack.pop () == curr.val:\n",
    "                return False\n",
    "            curr = curr.next\n",
    "        return True"
   ]
  },
  {
   "cell_type": "markdown",
   "metadata": {},
   "source": [
    "* 方法0 - 标准答案 https://www.youtube.com/watch?v=S8Bz_9KB0-g: 和方法3 类似思路,算法更加高效. 算法大致:\n",
    "    * 快慢指针找到 middle, \n",
    "    * 对 middle 以后的 nodes reverse 顺序,\n",
    "    * 对比前后两个 sub list 是否相同."
   ]
  },
  {
   "cell_type": "code",
   "execution_count": null,
   "metadata": {
    "collapsed": true
   },
   "outputs": [],
   "source": [
    "# 方法0: \n",
    "class Solution(object):\n",
    "    def isPalindrome(self, head):\n",
    "        \"\"\"\n",
    "        :type head: ListNode\n",
    "        :rtype: bool\n",
    "        \"\"\"\n",
    "        # 1 basic cases\n",
    "        if not head or not head.next:\n",
    "            return True\n",
    "        \n",
    "        # 2 (**) fast and slow point to find the middle point\n",
    "        l1 = head\n",
    "        middle = self.findMiddlePlaces(head)\n",
    "        \n",
    "        # 3 reverse the 2nd half part in the list\n",
    "        l2 = self.reverseList (middle.next)\n",
    "        \n",
    "        #4 compare the nodes in the 1st half and the 2nd half part\n",
    "        while l1 or l2:\n",
    "            if not l1.val == l2.val:\n",
    "                return False        \n",
    "        return True\n",
    "    \n",
    "    def findMiddlePlaces (self, head):\n",
    "        if not head or not head.next:\n",
    "            return head\n",
    "            \n",
    "        fast = head.next\n",
    "        slow = head\n",
    "        while fast and fast.next:\n",
    "            fast = fast.next.next\n",
    "            slow = slow.next\n",
    "        return slow\n",
    "    \n",
    "    def reverseList (self, head):\n",
    "        if not head or not head.next:\n",
    "            return head\n",
    "        dummy = ListNode (None)\n",
    "        curr  = head\n",
    "        \n",
    "        while curr:\n",
    "            temp = curr.next\n",
    "            curr.next = dummy.next\n",
    "            dummy.next = curr\n",
    "            curr  = temp\n",
    "        return dummy.next"
   ]
  },
  {
   "cell_type": "code",
   "execution_count": null,
   "metadata": {
    "collapsed": true
   },
   "outputs": [],
   "source": [
    "### 方法1: 将 singly linked list 转化成 list, 然后判断. runtime is O(n), 但是 space complexity is O(n) too.\n",
    "class Solution(object):\n",
    "    def isPalindrome(self, head):\n",
    "        \"\"\"\n",
    "        :type head: ListNode\n",
    "        :rtype: bool\n",
    "        \"\"\"        \n",
    "        # 1 reverse the linked list\n",
    "        curr1 = revsersedList = self.reverseLinkedList (head)\n",
    "        curr2 = head\n",
    "        # 2 check each element's value one by one\n",
    "        while curr1:\n",
    "            if not curr1.val == curr2.val:\n",
    "                return False\n",
    "        return True\n",
    "            \n",
    "    def reverseLinkedList (self, head):\n",
    "        if not head or not head.next:\n",
    "            return head\n",
    "        \n",
    "        dummy = ListNode (None)\n",
    "        curr  = head\n",
    "        while curr:\n",
    "            tmp = curr.next\n",
    "            curr.next = dummy.next\n",
    "            dummy.next = curr\n",
    "            curr   = tmp\n",
    "            \n",
    "        return dummy.next"
   ]
  },
  {
   "cell_type": "code",
   "execution_count": null,
   "metadata": {
    "collapsed": true
   },
   "outputs": [],
   "source": [
    "### 方法2: 将 singly linked reverse 之后, 对比两个 linked list value 是否一致. runtime is O(n),\n",
    "### sapce compelxity is O(n).\n",
    "class Solution(object):\n",
    "    def isPalindrome(self, head):\n",
    "        \"\"\"\n",
    "        :type head: ListNode\n",
    "        :rtype: bool\n",
    "        \"\"\"\n",
    "        if not head or not head.next:\n",
    "            return True\n",
    "        \n",
    "        nums = []\n",
    "        curr = head\n",
    "        while curr:\n",
    "            nums.append (curr.val)\n",
    "            curr = curr.next\n",
    "            \n",
    "        return self.isPalindrome_list_1 (nums)\n",
    "            \n",
    "    # 1to determine isPalindrome_list\n",
    "    def isPalindrome_list_1 (self, nums):\n",
    "        n = len (nums)\n",
    "        for i in xrange ( n // 2 ):\n",
    "            if not nums[i] == nums[n-i-1]:\n",
    "                return False\n",
    "        return True # 空 list 被认为是 Palindrome\n",
    "    \n",
    "    # 2 to determine isPalindrome_list\n",
    "    def isPalindrome_list_2 (self, nums):\n",
    "        return nums == nums[::-1]\n",
    "    \n",
    "    \n",
    "    # 3 to determine isPalindrome_list\n",
    "    def isPalindrome_list_3 (self, nums):\n",
    "        n = len(nums)\n",
    "        k = n // 2\n",
    "        if n % 2: # odd case\n",
    "            return self.expand2sides (nums, k, k)\n",
    "        else: # even case\n",
    "            return self.expand2sides (nums, k-1, k)\n",
    "        \n",
    "    def expand2sides (self, nums, l, r):\n",
    "        while l > 0 and r < len(nums):\n",
    "            if nums[l] == nums[r]:\n",
    "                l -= 1\n",
    "                r += 1\n",
    "            else:\n",
    "                return False\n",
    "        return True"
   ]
  },
  {
   "cell_type": "code",
   "execution_count": null,
   "metadata": {
    "collapsed": true
   },
   "outputs": [],
   "source": [
    "### 方法3: in-place 判断, 把 linked list 前半部分 reverse, 然后把前半部分和后半部分对比是否一致. \n",
    "### runtime is O(n), space complexity is O(1)\n",
    "class Solution(object):\n",
    "    def isPalindrome(self, head):\n",
    "        \"\"\"\n",
    "        :type head: ListNode\n",
    "        :rtype: bool\n",
    "        \"\"\"\n",
    "        if not head or not head.next:\n",
    "            return True\n",
    "        \n",
    "        l1, l2 = self.split_linkedList (head)\n",
    "        l1     = self.in_place_reverse_LinkedList (l1)\n",
    "        \n",
    "        while l1:\n",
    "            if not l1.val == l2.val:\n",
    "                return False\n",
    "            \n",
    "        return True   \n",
    "        \n",
    "    def count_linkedList (self, curr):\n",
    "        n = 0\n",
    "        while curr:\n",
    "            n += 1\n",
    "            curr = head.next\n",
    "    \n",
    "    def split_linkedList (self, curr):\n",
    "        \"\"\"seperate the linked list into two lists of the similar size\"\"\"\n",
    "        \n",
    "        n = self.count_linkedList (head)\n",
    "        k = n // 2\n",
    "         \n",
    "        j = 0\n",
    "        l1 = curr = head\n",
    "        while j < k: # the 1st sub-list \n",
    "            curr = curr.next\n",
    "            j += 1\n",
    "        temp = curr.next\n",
    "        curr.next = None\n",
    "        \n",
    "        l2 = temp.next if n % 2 else temp     \n",
    "        \n",
    "        return l1, l2\n",
    "    \n",
    "    def in_place_reverse_LinkedList (self, head):\n",
    "        if not head or not head.next:\n",
    "            return head\n",
    "        \n",
    "        dummy = ListNode (None)\n",
    "        curr  = head\n",
    "        while curr:\n",
    "            temp = curr.next\n",
    "            curr.next = dummy.next\n",
    "            dummy.next = curr\n",
    "            curr   = tmp\n",
    "            \n",
    "        return dummy.next"
   ]
  },
  {
   "cell_type": "code",
   "execution_count": null,
   "metadata": {
    "collapsed": true
   },
   "outputs": [],
   "source": []
  },
  {
   "cell_type": "markdown",
   "metadata": {},
   "source": [
    "## "
   ]
  },
  {
   "cell_type": "markdown",
   "metadata": {},
   "source": [
    "## "
   ]
  },
  {
   "cell_type": "markdown",
   "metadata": {},
   "source": [
    "## "
   ]
  },
  {
   "cell_type": "markdown",
   "metadata": {},
   "source": [
    "## "
   ]
  },
  {
   "cell_type": "markdown",
   "metadata": {},
   "source": [
    "## 补充\n",
    "### Find the middle for a linked list"
   ]
  },
  {
   "cell_type": "code",
   "execution_count": null,
   "metadata": {
    "collapsed": true
   },
   "outputs": [],
   "source": [
    "class Solution(object):\n",
    "    \n",
    "    # Method 1: even case (i.e., 4) find the 2nd node, odd case the same.\n",
    "    def find_middle_1 (self, head):\n",
    "        \"\"\"\n",
    "        :type head: ListNode\n",
    "        :rtype: ListNode\n",
    "        \"\"\"\n",
    "        if not head or not head.next: # 必须有\n",
    "            return head\n",
    "        \n",
    "        fast = head.next\n",
    "        slow = head\n",
    "        while fast and fast.next:\n",
    "            fast = fast.next.next\n",
    "            slow = slow.next\n",
    "            \n",
    "        return slow\n",
    "    \n",
    "    # Method 2: even case (i.e., 4) find the 3rd node, odd case the same.\n",
    "    def find_middle_2 (self, head):\n",
    "        if not head or not head.next: # 有和没有对结果没啥影响\n",
    "            return head\n",
    "\n",
    "        fast = slow = head\n",
    "        if fast and fast.next:\n",
    "            fast = fast.next.next\n",
    "            slow = slow.next\n",
    "            \n",
    "        return slow"
   ]
  },
  {
   "cell_type": "markdown",
   "metadata": {},
   "source": [
    "### Find Length of a Linked List (Iterative and Recursive)\n",
    "* https://www.youtube.com/watch?v=kX_OJsOcK8Q"
   ]
  },
  {
   "cell_type": "code",
   "execution_count": null,
   "metadata": {
    "collapsed": true
   },
   "outputs": [],
   "source": [
    "class Solution(object):\n",
    "    \n",
    "    # Method 1: iteration\n",
    "    def find_length_iteration (self, head):\n",
    "        \"\"\"\n",
    "        :type head: ListNode\n",
    "        :rtype: ListNode\n",
    "        \"\"\"\n",
    "        curr = head\n",
    "        n    = 0\n",
    "        while curr:\n",
    "            n += 1\n",
    "            curr = curr.next\n",
    "        return n\n",
    "    \n",
    "    # Method 2: recursive \n",
    "    def find_length_recursive (self, head):\n",
    "        if not head: # the basic case \n",
    "            return 0\n",
    "        return 1 + self.find_length_recursive (head.next)\n",
    "    \n",
    "    "
   ]
  }
 ],
 "metadata": {
  "kernelspec": {
   "display_name": "Python 2",
   "language": "python",
   "name": "python2"
  },
  "language_info": {
   "codemirror_mode": {
    "name": "ipython",
    "version": 2
   },
   "file_extension": ".py",
   "mimetype": "text/x-python",
   "name": "python",
   "nbconvert_exporter": "python",
   "pygments_lexer": "ipython2",
   "version": "2.7.13"
  },
  "toc": {
   "nav_menu": {},
   "number_sections": true,
   "sideBar": true,
   "skip_h1_title": true,
   "toc_cell": true,
   "toc_position": {
    "height": "642px",
    "left": "0px",
    "right": "869px",
    "top": "67px",
    "width": "151px"
   },
   "toc_section_display": "block",
   "toc_window_display": true
  }
 },
 "nbformat": 4,
 "nbformat_minor": 2
}

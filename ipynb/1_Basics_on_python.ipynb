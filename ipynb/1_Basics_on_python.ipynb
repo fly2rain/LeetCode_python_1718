{
 "cells": [
  {
   "cell_type": "markdown",
   "metadata": {
    "toc": true
   },
   "source": [
    "<h1>Table of Contents<span class=\"tocSkip\"></span></h1>\n",
    "<div class=\"toc\" style=\"margin-top: 1em;\"><ul class=\"toc-item\"><li><ul class=\"toc-item\"><li><ul class=\"toc-item\"><li><span><a href=\"#链接\" data-toc-modified-id=\"链接-0.0.1\"><span class=\"toc-item-num\">0.0.1&nbsp;&nbsp;</span>链接</a></span></li></ul></li></ul></li><li><span><a href=\"#1.1-List-的重要操作\" data-toc-modified-id=\"1.1-List-的重要操作-1\"><span class=\"toc-item-num\">1&nbsp;&nbsp;</span>1.1 List 的重要操作</a></span></li><li><span><a href=\"#1.2-Using-List-as-Stack\" data-toc-modified-id=\"1.2-Using-List-as-Stack-2\"><span class=\"toc-item-num\">2&nbsp;&nbsp;</span>1.2 Using List as Stack</a></span></li><li><span><a href=\"#1.3-Using-List-as-Queues\" data-toc-modified-id=\"1.3-Using-List-as-Queues-3\"><span class=\"toc-item-num\">3&nbsp;&nbsp;</span>1.3 Using List as Queues</a></span></li><li><span><a href=\"#1.4-List-Comprehensions\" data-toc-modified-id=\"1.4-List-Comprehensions-4\"><span class=\"toc-item-num\">4&nbsp;&nbsp;</span>1.4 List Comprehensions</a></span></li></ul></div>"
   ]
  },
  {
   "cell_type": "markdown",
   "metadata": {},
   "source": [
    "# 1. Python List \n",
    "#### 链接\n",
    "https://docs.python.org/2/tutorial/datastructures.html\n",
    "\n",
    "## 1.1 List 的重要操作\n",
    "\n",
    "``` python \n",
    "list.insert(i, x) # Insert an item before a given position. \n",
    "# Two examples ------------------------\n",
    "a.insert(0, x) # inserts at the front of the list\n",
    "a.insert(len(a), x) # is equivalent to a.append(x).\n",
    "``` \n",
    "  \n",
    "```python\n",
    "list.remove(x) # Remove the first item from the list whose value is x. 没有则报错.\n",
    "```\n",
    "\n",
    "```python\n",
    "list.pop([i]) # Remove the item at the given position in the list, and return it.\n",
    "# If no index is specified, a.pop() removes and returns the last item in the list.\n",
    "```\n",
    "\n",
    "```python\n",
    "list.index(x) # Return the index in the list of the first item whose value is x. It is an error if there is no such item.\n",
    "```\n",
    "\n",
    "```python\n",
    "list.count(x) # Return the number of times x appears in the list. 没有则返回0\n",
    "```\n",
    "\n",
    "\n",
    "```python\n",
    "list.sort(cmp=None, key=None, reverse=False) # Sort the items of the list in place，关键是 in-place.\n",
    "```\n",
    "\n",
    "```python\n",
    "list.reverse() # in-place reverse the elements of the list\n",
    "```"
   ]
  },
  {
   "cell_type": "code",
   "execution_count": 1,
   "metadata": {},
   "outputs": [
    {
     "name": "stdout",
     "output_type": "stream",
     "text": [
      "2 1 0\n"
     ]
    }
   ],
   "source": [
    "# Exp for list.count ()\n",
    "a = [66.25, 333, 333, 1, 1234.5]\n",
    "print a.count(333), a.count(66.25), a.count('x')"
   ]
  },
  {
   "cell_type": "code",
   "execution_count": 2,
   "metadata": {},
   "outputs": [
    {
     "name": "stdout",
     "output_type": "stream",
     "text": [
      "[66.25, 333, -1, 333, 1, 1234.5]\n"
     ]
    }
   ],
   "source": [
    "# Exp for list.insert ()\n",
    "a = [66.25, 333, 333, 1, 1234.5]\n",
    "a.insert (2, -1)\n",
    "print a"
   ]
  },
  {
   "cell_type": "code",
   "execution_count": 1,
   "metadata": {},
   "outputs": [
    {
     "data": {
      "text/plain": [
       "[]"
      ]
     },
     "execution_count": 1,
     "metadata": {},
     "output_type": "execute_result"
    }
   ],
   "source": [
    "# Exp for del 非常牛的一个功能，可以删除list 的一个，一串或所有元素。\n",
    ">>> a = [-1, 1, 66.25, 333, 333, 1234.5]\n",
    ">>> del a[0]   # 删除一个\n",
    ">>> a\n",
    "[1, 66.25, 333, 333, 1234.5]\n",
    ">>> del a[2:4] # 删除一串\n",
    ">>> a\n",
    "[1, 66.25, 1234.5]\n",
    ">>> del a[:]   # 删除所有\n",
    ">>> a\n",
    "[]"
   ]
  },
  {
   "cell_type": "markdown",
   "metadata": {},
   "source": [
    "## 1.2 Using List as Stack\n",
    "* Stack 相当于放盘子，或压子弹弹夹，也就是 last in first out (LIFO) 机制的线性存储单元。\n",
    "* List 只需要两个函数即可完成stack的功能。它们是 list.append () 和 list.pop ()。第一个函数是在 list 尾部压入值，第二是把尾部的值弹出。\n",
    "* Stack 使用 List 实现，还是比较高效的。"
   ]
  },
  {
   "cell_type": "code",
   "execution_count": 20,
   "metadata": {},
   "outputs": [
    {
     "name": "stdout",
     "output_type": "stream",
     "text": [
      "[3, 4, 5, 6, 7]\n"
     ]
    }
   ],
   "source": [
    "# Exps \n",
    "stack = [3, 4, 5]\n",
    "stack.append(6)\n",
    "stack.append(7)\n",
    "print stack"
   ]
  },
  {
   "cell_type": "code",
   "execution_count": 21,
   "metadata": {},
   "outputs": [
    {
     "name": "stdout",
     "output_type": "stream",
     "text": [
      "[3, 4, 5, 6]\n"
     ]
    }
   ],
   "source": [
    "stack.pop()\n",
    "print stack"
   ]
  },
  {
   "cell_type": "markdown",
   "metadata": {},
   "source": [
    "## 1.3 Using List as Queues \n",
    "* Queues 的机制是 “first-in, first-out”，类似于传送带。\n",
    "* 但是 list 用作queues 不高效。\n",
    "  * While appends and pops from the end of list are fast, doing inserts or pops from the beginning of a list is slow\n",
    "  * because all of the other elements have to be shifted by one。\n",
    "* To implement a queue, use _**collections.deque**_ which was designed to **have fast appends and pops from <span class=\"girk\">both ends</span>**.\n",
    "  * deque 默认是 pop ( ) 右边的，除非指定 popleft ( )\n",
    "  * pop ( ) 类函数总是return pop 的值的。\n",
    "  * list 和 deque 是基本的数据结构，而 queue 和 stack 是衍生出来的、应用级别的数据结构"
   ]
  },
  {
   "cell_type": "code",
   "execution_count": 22,
   "metadata": {},
   "outputs": [
    {
     "data": {
      "text/plain": [
       "deque(['Michael', 'Terry', 'Graham'])"
      ]
     },
     "execution_count": 22,
     "metadata": {},
     "output_type": "execute_result"
    }
   ],
   "source": [
    ">>> from collections import deque\n",
    ">>> queue = deque([\"Eric\", \"John\", \"Michael\"])\n",
    ">>> queue.append(\"Terry\")           # Terry arrives\n",
    ">>> queue.append(\"Graham\")          # Graham arrives\n",
    ">>> queue.popleft()                 # The first to arrive now leaves\n",
    "'Eric'\n",
    ">>> queue.popleft()                 # The second to arrive now leaves\n",
    "'John'\n",
    ">>> queue "
   ]
  },
  {
   "cell_type": "code",
   "execution_count": 23,
   "metadata": {},
   "outputs": [
    {
     "data": {
      "text/plain": [
       "deque(['Eric', 'John', 'Michael'])"
      ]
     },
     "execution_count": 23,
     "metadata": {},
     "output_type": "execute_result"
    }
   ],
   "source": [
    ">>> from collections import deque\n",
    ">>> stack = deque([\"Eric\", \"John\", \"Michael\"])\n",
    ">>> stack.append(\"Terry\")           # Terry arrives\n",
    ">>> stack.append(\"Graham\")          # Graham arrives\n",
    ">>> stack.pop ()                 # The first to arrive now leaves\n",
    "'Graham'\n",
    ">>> stack.pop ()                 # The second to arrive now leaves\n",
    "'Terry'\n",
    ">>> stack "
   ]
  },
  {
   "cell_type": "markdown",
   "metadata": {},
   "source": [
    "## 1.4 List Comprehensions\n",
    "A list comprehension consists of brackets containing an expression followed by a for clause 子句, then zero or more for or if clauses. 以下用一个例子说明。以下三个代码完成的是同一个功能"
   ]
  },
  {
   "cell_type": "code",
   "execution_count": 18,
   "metadata": {
    "collapsed": true
   },
   "outputs": [],
   "source": [
    "# 代码 #1 \n",
    ">>> squares = []\n",
    ">>> for x in range(10):\n",
    "...     squares.append(x**2)\n",
    "...\n",
    ">>> squares\n",
    "\n",
    "# 代码 #2\n",
    "squares = [x**2 for x in range(10)] # \n",
    "\n",
    "# 代码 #3, more concise and readable.\n",
    "squares = map(lambda x: x**2, range(10))"
   ]
  },
  {
   "cell_type": "markdown",
   "metadata": {},
   "source": [
    "# 2. Python Set"
   ]
  },
  {
   "cell_type": "code",
   "execution_count": null,
   "metadata": {
    "collapsed": true
   },
   "outputs": [],
   "source": [
    "len(s)              #number of elements in set s (cardinality)\n",
    "x in s              #test x for membership in s\n",
    "x not in s          # test x for non-membership in s\n",
    "s.issubset(t)       s <= t #  test whether every element in s is in t\n",
    "s.issuperset(t)     s >= t # test whether every element in t is in s\n",
    "s.union(t)          s | t  # new set with elements from both s and t\n",
    "s.intersection(t)   s & t  # new set with elements common to s and t\n",
    "s.difference(t)     s - t  # new set with elements in s but not in t\n",
    "s.symmetric_difference(t)   s ^ t  # new set with elements in either s or t but not both\n",
    "s.copy()                   # new set with a shallow copy of s"
   ]
  },
  {
   "cell_type": "code",
   "execution_count": null,
   "metadata": {
    "collapsed": true
   },
   "outputs": [],
   "source": [
    ">>> basket = ['apple', 'orange', 'apple', 'pear', 'orange', 'banana']\n",
    ">>> fruit = set(basket)               # create a set without duplicates\n",
    ">>> fruit\n",
    "set(['orange', 'pear', 'apple', 'banana'])\n",
    ">>> 'orange' in fruit                 # fast membership testing\n",
    "True\n",
    ">>> 'crabgrass' in fruit\n",
    "False\n",
    "\n",
    ">>> # Demonstrate set operations on unique letters from two words\n",
    "...\n",
    ">>> a = set('abracadabra')  # ❤️ 🐂 原来直接可以将 string 转化成 set ...\n",
    ">>> b = set('alacazam')  \n",
    ">>> a                                  # ❤️ 🐂 unique letters in a\n",
    "set(['a', 'r', 'b', 'c', 'd'])\n",
    ">>> a - b                              # ❤️ 🐂, letters in a but not in b\n",
    "set(['r', 'd', 'b'])\n",
    ">>> a | b                              # letters in either a or b\n",
    "set(['a', 'c', 'r', 'd', 'b', 'm', 'z', 'l'])\n",
    ">>> a & b                              # letters in both a and b\n",
    "set(['a', 'c'])\n",
    ">>> a ^ b                              # letters in a or b but not both\n",
    "set(['r', 'd', 'b', 'm', 'z', 'l'])"
   ]
  },
  {
   "cell_type": "markdown",
   "metadata": {},
   "source": [
    "# 3 Dictionaries\n",
    "* https://docs.python.org/2/tutorial/datastructures.html#dictionaries"
   ]
  },
  {
   "cell_type": "code",
   "execution_count": null,
   "metadata": {
    "collapsed": true
   },
   "outputs": [],
   "source": [
    ">>> tel = {'jack': 4098, 'sape': 4139}\n",
    ">>> tel['guido'] = 4127\n",
    ">>> tel\n",
    "{'sape': 4139, 'guido': 4127, 'jack': 4098}\n",
    ">>> tel['jack']\n",
    "4098\n",
    "\n",
    ">>> del tel['sape'] # ❤️ 和 del list 某个元素是一样的语法\n",
    ">>> tel['irv'] = 4127\n",
    ">>> tel\n",
    "{'guido': 4127, 'irv': 4127, 'jack': 4098}\n",
    "\n",
    ">>> tel.keys()\n",
    "['guido', 'irv', 'jack']\n",
    "\n",
    ">>> 'guido' in tel\n",
    "True\n",
    "\n",
    "\n",
    "# dict comprehensions can be used to create dictionaries from arbitrary key and value expressions:\n",
    ">>> {x: x**2 for x in (2, 4, 6)}\n",
    "{2: 4, 4: 16, 6: 36}\n",
    "\n",
    "# When the keys are simple strings, it is sometimes easier to specify pairs using keyword arguments:\n",
    ">>> dict(sape=4139, guido=4127, jack=4098)\n",
    "{'sape': 4139, 'jack': 4098, 'guido': 4127}"
   ]
  }
 ],
 "metadata": {
  "kernelspec": {
   "display_name": "Python 2",
   "language": "python",
   "name": "python2"
  },
  "language_info": {
   "codemirror_mode": {
    "name": "ipython",
    "version": 2
   },
   "file_extension": ".py",
   "mimetype": "text/x-python",
   "name": "python",
   "nbconvert_exporter": "python",
   "pygments_lexer": "ipython2",
   "version": "2.7.13"
  },
  "toc": {
   "nav_menu": {},
   "number_sections": true,
   "sideBar": true,
   "skip_h1_title": true,
   "toc_cell": true,
   "toc_position": {},
   "toc_section_display": "block",
   "toc_window_display": true
  }
 },
 "nbformat": 4,
 "nbformat_minor": 2
}

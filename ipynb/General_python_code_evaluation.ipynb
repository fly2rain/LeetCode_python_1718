{
 "cells": [
  {
   "cell_type": "markdown",
   "metadata": {
    "toc": true
   },
   "source": [
    "<h1>Table of Contents<span class=\"tocSkip\"></span></h1>\n",
    "<div class=\"toc\" style=\"margin-top: 1em;\"><ul class=\"toc-item\"><li><span><a href=\"#Evaluate-the-two-methods-creating-the-2-d-lists\" data-toc-modified-id=\"Evaluate-the-two-methods-creating-the-2-d-lists-1\"><span class=\"toc-item-num\">1&nbsp;&nbsp;</span>Evaluate the two methods creating the 2-d lists</a></span></li></ul></div>"
   ]
  },
  {
   "cell_type": "markdown",
   "metadata": {},
   "source": [
    "# 各种 Testing (不懂就 testing 一把)"
   ]
  },
  {
   "cell_type": "markdown",
   "metadata": {},
   "source": [
    "## Evaluate the two methods creating the 2-d lists"
   ]
  },
  {
   "cell_type": "code",
   "execution_count": 26,
   "metadata": {},
   "outputs": [
    {
     "name": "stdout",
     "output_type": "stream",
     "text": [
      "Time1: 0.0019s, \n",
      "Time2: 0.0618s, \n",
      "Time1/Time: 3.137%\n"
     ]
    }
   ],
   "source": [
    "##### evaluate the two methods creating the 2-d lists #######\n",
    "import time \n",
    "NN   = 1000\n",
    "m, n = 10, 20\n",
    "\n",
    "# Alg 1: [ [None] * m ]  * n \n",
    "start = time.clock ()\n",
    "for i in xrange (NN):\n",
    "    tmp = [ [None]*n ] * m\n",
    "timeSpend1 = time.clock () - start\n",
    "\n",
    "# Alg 2:  [ [None] * m ]  * n \n",
    "start = time.clock ()\n",
    "for i in xrange (NN):\n",
    "    tmp = [ [None for j in xrange(n)] for k in xrange (m)  ]\n",
    "timeSpend2 = time.clock () - start\n",
    "\n",
    "print 'Time1: %.4fs, \\nTime2: %.4fs, \\nTime1/Time: %.3f%%' % (timeSpend1, timeSpend2, timeSpend1/timeSpend2*100)\n",
    "# Conclusion: Alg 2 is much better than Alg 1 in speed"
   ]
  },
  {
   "cell_type": "code",
   "execution_count": 5,
   "metadata": {},
   "outputs": [
    {
     "name": "stdout",
     "output_type": "stream",
     "text": [
      "The matrix a is not good\n",
      "[[0, 10, 0, 0], [0, 10, 0, 0]]\n",
      "The matrix b is good\n",
      "[[0, 0, 0, 0], [0, 10, 0, 0]]\n"
     ]
    }
   ],
   "source": [
    "## 虽然第2种方法速度比较快, 它不可取. 因为这种方法把几行都绑定在一起了, 对任意一行操作, \n",
    "## 其他几行也出现了同样的结果. 这并不是我们想要的.\n",
    "## 虽然第1种方法速度比较慢, 它才是真正实现预想结果的. \n",
    "\n",
    "## 方法一: 及其怀疑是2个名字指向同一块内存\n",
    "a = [ [0]  * 4 ] * 2\n",
    "a[1][1] = 10\n",
    "\n",
    "## 方法二 \n",
    "b = [ [0]*4 for i in xrange (2)]\n",
    "b[1][1] = 10\n",
    "\n",
    "print 'The matrix a is not good'\n",
    "print a\n",
    "print 'The matrix b is good'\n",
    "print b"
   ]
  },
  {
   "cell_type": "markdown",
   "metadata": {},
   "source": [
    "## 检查 string 相等\n",
    "两种 case:\n",
    "* 整体检查\n",
    "* iteration 逐个检查"
   ]
  },
  {
   "cell_type": "code",
   "execution_count": 12,
   "metadata": {},
   "outputs": [
    {
     "name": "stdout",
     "output_type": "stream",
     "text": [
      "time-1: 0.933s\t time-2: 0.014\t time-1/time-2: 68.720\n"
     ]
    }
   ],
   "source": [
    "import time\n",
    "\n",
    "nn = 100000\n",
    "x = 'jfdajlfjdlajflajdfjaldljjdalfjdlajfldajfkalf'\n",
    "y = 'kjfkdajlfjdafjadfjlajflasjdflajfdjlfjaldfjal'\n",
    "\n",
    "# Method #1: iteration 分别对比 ----------\n",
    "start = time.clock ()\n",
    "for j in xrange (nn):\n",
    "    for i in xrange (len(x)):\n",
    "        x[i] == y[i]\n",
    "time_1 = time.clock () - start\n",
    "\n",
    "# Method #2: ----------\n",
    "start = time.clock ()\n",
    "for j in xrange (nn):\n",
    "    x == y\n",
    "time_2 = time.clock () - start\n",
    "\n",
    "print 'time-1: %.3fs\\t time-2: %.3fs\\t time-1/time-2: %.3f' % (time_1, time_2, time_1/time_2)"
   ]
  },
  {
   "cell_type": "markdown",
   "metadata": {},
   "source": [
    "查看代码发现, 两者时间相差悬殊, 所以看起来整体对比的效果更优越."
   ]
  }
 ],
 "metadata": {
  "kernelspec": {
   "display_name": "Python 2",
   "language": "python",
   "name": "python2"
  },
  "language_info": {
   "codemirror_mode": {
    "name": "ipython",
    "version": 2
   },
   "file_extension": ".py",
   "mimetype": "text/x-python",
   "name": "python",
   "nbconvert_exporter": "python",
   "pygments_lexer": "ipython2",
   "version": "2.7.13"
  },
  "toc": {
   "nav_menu": {},
   "number_sections": true,
   "sideBar": true,
   "skip_h1_title": true,
   "toc_cell": true,
   "toc_position": {},
   "toc_section_display": "block",
   "toc_window_display": false
  }
 },
 "nbformat": 4,
 "nbformat_minor": 2
}

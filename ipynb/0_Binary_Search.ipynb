{
 "cells": [
  {
   "cell_type": "markdown",
   "metadata": {
    "toc": true
   },
   "source": [
    "<h1>Table of Contents<span class=\"tocSkip\"></span></h1>\n",
    "<div class=\"toc\"><ul class=\"toc-item\"><li><span><a href=\"#题型总结-(必须给定-sorted-array)\" data-toc-modified-id=\"题型总结-(必须给定-sorted-array)-1\"><span class=\"toc-item-num\">1&nbsp;&nbsp;</span><a href=\"https://www.tangjikai.com/algorithms/leetcode-binary-search\" target=\"_blank\">题型总结 (必须给定 sorted array)</a></a></span><ul class=\"toc-item\"><li><span><a href=\"#BS-具体的数\" data-toc-modified-id=\"BS-具体的数-1.1\"><span class=\"toc-item-num\">1.1&nbsp;&nbsp;</span>BS 具体的数</a></span></li><li><span><a href=\"#BS-寻找-&gt;=-问题-https://www.youtube.com/watch?v=s0-ehX4Jj5Q\" data-toc-modified-id=\"BS-寻找->=-问题-https://www.youtube.com/watch?v=s0-ehX4Jj5Q-1.2\"><span class=\"toc-item-num\">1.2&nbsp;&nbsp;</span>BS 寻找 &gt;= 问题 <a href=\"https://www.youtube.com/watch?v=s0-ehX4Jj5Q\" target=\"_blank\">https://www.youtube.com/watch?v=s0-ehX4Jj5Q</a></a></span></li><li><span><a href=\"#BS-寻找-&lt;=-问题\" data-toc-modified-id=\"BS-寻找-<=-问题-1.3\"><span class=\"toc-item-num\">1.3&nbsp;&nbsp;</span>BS 寻找 &lt;= 问题</a></span></li><li><span><a href=\"#BS-a-range-in-a-sorted-array\" data-toc-modified-id=\"BS-a-range-in-a-sorted-array-1.4\"><span class=\"toc-item-num\">1.4&nbsp;&nbsp;</span>BS a range in a sorted array</a></span></li><li><span><a href=\"#Search-in-Rotated-Sorted-Array\" data-toc-modified-id=\"Search-in-Rotated-Sorted-Array-1.5\"><span class=\"toc-item-num\">1.5&nbsp;&nbsp;</span>Search in Rotated Sorted Array</a></span><ul class=\"toc-item\"><li><span><a href=\"#without-Duplicates\" data-toc-modified-id=\"without-Duplicates-1.5.1\"><span class=\"toc-item-num\">1.5.1&nbsp;&nbsp;</span>without Duplicates</a></span></li><li><span><a href=\"#with-Duplicates\" data-toc-modified-id=\"with-Duplicates-1.5.2\"><span class=\"toc-item-num\">1.5.2&nbsp;&nbsp;</span>with Duplicates</a></span></li></ul></li><li><span><a href=\"#Find-Minimum-in-Rotated-Sorted-Array\" data-toc-modified-id=\"Find-Minimum-in-Rotated-Sorted-Array-1.6\"><span class=\"toc-item-num\">1.6&nbsp;&nbsp;</span><a href=\"https://www.tangjikai.com/algorithms/leetcode-binary-search\" target=\"_blank\">Find Minimum in Rotated Sorted Array</a></a></span><ul class=\"toc-item\"><li><span><a href=\"#without-Duplicates\" data-toc-modified-id=\"without-Duplicates-1.6.1\"><span class=\"toc-item-num\">1.6.1&nbsp;&nbsp;</span>without Duplicates</a></span></li><li><span><a href=\"#With-Duplicates\" data-toc-modified-id=\"With-Duplicates-1.6.2\"><span class=\"toc-item-num\">1.6.2&nbsp;&nbsp;</span>With Duplicates</a></span></li></ul></li><li><span><a href=\"#rotated-sorted-array-求解最大值-(假设-duplicates)\" data-toc-modified-id=\"rotated-sorted-array-求解最大值-(假设-duplicates)-1.7\"><span class=\"toc-item-num\">1.7&nbsp;&nbsp;</span>rotated sorted array 求解最大值 (假设 duplicates)</a></span></li></ul></li><li><span><a href=\"#题:-BS-具体的数\" data-toc-modified-id=\"题:-BS-具体的数-2\"><span class=\"toc-item-num\">2&nbsp;&nbsp;</span>题: BS 具体的数</a></span><ul class=\"toc-item\"><li><span><a href=\"#74.medium_Search-a-2D-Matrix\" data-toc-modified-id=\"74.medium_Search-a-2D-Matrix-2.1\"><span class=\"toc-item-num\">2.1&nbsp;&nbsp;</span><a href=\"https://leetcode.com/problems/search-a-2d-matrix/description/\" target=\"_blank\">74.medium_Search a 2D Matrix</a></a></span></li><li><span><a href=\"#240.medium_Search-a-2D-Matrix-II\" data-toc-modified-id=\"240.medium_Search-a-2D-Matrix-II-2.2\"><span class=\"toc-item-num\">2.2&nbsp;&nbsp;</span><a href=\"https://leetcode.com/problems/search-a-2d-matrix-ii/description/\" target=\"_blank\">240.medium_Search a 2D Matrix II</a></a></span></li><li><span><a href=\"#167.easy_Two-Sum-II---Input-array-is-sorted\" data-toc-modified-id=\"167.easy_Two-Sum-II---Input-array-is-sorted-2.3\"><span class=\"toc-item-num\">2.3&nbsp;&nbsp;</span><a href=\"https://leetcode.com/problems/two-sum-ii-input-array-is-sorted/description/\" target=\"_blank\">167.easy_Two Sum II - Input array is sorted</a></a></span></li><li><span><a href=\"#❤️275.medium-H-Index-II\" data-toc-modified-id=\"❤️275.medium-H-Index-II-2.4\"><span class=\"toc-item-num\">2.4&nbsp;&nbsp;</span><a href=\"https://leetcode.com/problems/h-index-ii/description/\" target=\"_blank\">❤️275.medium-H-Index II</a></a></span></li><li><span><a href=\"#❤️274.medium-H-Index\" data-toc-modified-id=\"❤️274.medium-H-Index-2.5\"><span class=\"toc-item-num\">2.5&nbsp;&nbsp;</span><a href=\"https://leetcode.com/problems/h-index/description/\" target=\"_blank\">❤️274.medium-H-Index</a></a></span></li><li><span><a href=\"#367.easy_Valid-Perfect-Square\" data-toc-modified-id=\"367.easy_Valid-Perfect-Square-2.6\"><span class=\"toc-item-num\">2.6&nbsp;&nbsp;</span><a href=\"https://leetcode.com/problems/valid-perfect-square/description/\" target=\"_blank\">367.easy_Valid Perfect Square</a></a></span></li><li><span><a href=\"#374.easy_Guess-Number-Higher-or-Lower\" data-toc-modified-id=\"374.easy_Guess-Number-Higher-or-Lower-2.7\"><span class=\"toc-item-num\">2.7&nbsp;&nbsp;</span><a href=\"https://leetcode.com/problems/guess-number-higher-or-lower/description/\" target=\"_blank\">374.easy_Guess Number Higher or Lower</a></a></span></li></ul></li><li><span><a href=\"#题:--BS-&gt;=\" data-toc-modified-id=\"题:--BS->=-3\"><span class=\"toc-item-num\">3&nbsp;&nbsp;</span>题:  BS &gt;=</a></span><ul class=\"toc-item\"><li><span><a href=\"#35.easy-Search-Insert-Position\" data-toc-modified-id=\"35.easy-Search-Insert-Position-3.1\"><span class=\"toc-item-num\">3.1&nbsp;&nbsp;</span><a href=\"https://leetcode.com/problems/search-insert-position/description/\" target=\"_blank\">35.easy-Search Insert Position</a></a></span></li><li><span><a href=\"#744.easy-Find-Smallest-Letter-Greater-Than-Target\" data-toc-modified-id=\"744.easy-Find-Smallest-Letter-Greater-Than-Target-3.2\"><span class=\"toc-item-num\">3.2&nbsp;&nbsp;</span><a href=\"https://leetcode.com/problems/find-smallest-letter-greater-than-target/description/\" target=\"_blank\">744.easy-Find Smallest Letter Greater Than Target</a></a></span></li></ul></li><li><span><a href=\"#题:-BS-&lt;=\" data-toc-modified-id=\"题:-BS-<=-4\"><span class=\"toc-item-num\">4&nbsp;&nbsp;</span>题: BS &lt;=</a></span><ul class=\"toc-item\"><li><span><a href=\"#69.easy_Sqrt(x)\" data-toc-modified-id=\"69.easy_Sqrt(x)-4.1\"><span class=\"toc-item-num\">4.1&nbsp;&nbsp;</span><a href=\"https://leetcode.com/problems/sqrtx/description/\" target=\"_blank\">69.easy_Sqrt(x)</a></a></span></li><li><span><a href=\"#441.easy_Arranging-Coins\" data-toc-modified-id=\"441.easy_Arranging-Coins-4.2\"><span class=\"toc-item-num\">4.2&nbsp;&nbsp;</span><a href=\"https://leetcode.com/problems/arranging-coins/description/\" target=\"_blank\">441.easy_Arranging Coins</a></a></span></li></ul></li><li><span><a href=\"#题:-BS-Rrange\" data-toc-modified-id=\"题:-BS-Rrange-5\"><span class=\"toc-item-num\">5&nbsp;&nbsp;</span>题: BS Rrange</a></span><ul class=\"toc-item\"><li><span><a href=\"#34.medium_Search-for-a-Range\" data-toc-modified-id=\"34.medium_Search-for-a-Range-5.1\"><span class=\"toc-item-num\">5.1&nbsp;&nbsp;</span><a href=\"https://leetcode.com/problems/search-for-a-range/description/\" target=\"_blank\">34.medium_Search for a Range</a></a></span></li></ul></li><li><span><a href=\"#题:--BS-rotated-sorted-array\" data-toc-modified-id=\"题:--BS-rotated-sorted-array-6\"><span class=\"toc-item-num\">6&nbsp;&nbsp;</span>题:  BS rotated sorted array</a></span><ul class=\"toc-item\"><li><span><a href=\"#33.medium-Search-in-Rotated-Sorted-Array\" data-toc-modified-id=\"33.medium-Search-in-Rotated-Sorted-Array-6.1\"><span class=\"toc-item-num\">6.1&nbsp;&nbsp;</span><a href=\"https://leetcode.com/problems/search-in-rotated-sorted-array/description/\" target=\"_blank\">33.medium-Search in Rotated Sorted Array</a></a></span></li><li><span><a href=\"#81.medium-Search-in-Rotated-Sorted-Array-II\" data-toc-modified-id=\"81.medium-Search-in-Rotated-Sorted-Array-II-6.2\"><span class=\"toc-item-num\">6.2&nbsp;&nbsp;</span><a href=\"https://leetcode.com/problems/search-in-rotated-sorted-array-ii/description/\" target=\"_blank\">81.medium-Search in Rotated Sorted Array II</a></a></span></li><li><span><a href=\"#153.medium-Find-Minimum-in-Rotated-Sorted-Array\" data-toc-modified-id=\"153.medium-Find-Minimum-in-Rotated-Sorted-Array-6.3\"><span class=\"toc-item-num\">6.3&nbsp;&nbsp;</span><a href=\"https://leetcode.com/problems/find-minimum-in-rotated-sorted-array/description/\" target=\"_blank\">153.medium-Find Minimum in Rotated Sorted Array</a></a></span></li><li><span><a href=\"#154.hard-Find-Minimum-in-Rotated-Sorted-Array-II\" data-toc-modified-id=\"154.hard-Find-Minimum-in-Rotated-Sorted-Array-II-6.4\"><span class=\"toc-item-num\">6.4&nbsp;&nbsp;</span><a href=\"https://leetcode.com/problems/find-minimum-in-rotated-sorted-array-ii/description/\" target=\"_blank\">154.hard-Find Minimum in Rotated Sorted Array II</a></a></span></li></ul></li><li><span><a href=\"#题:-BS-取半类\" data-toc-modified-id=\"题:-BS-取半类-7\"><span class=\"toc-item-num\">7&nbsp;&nbsp;</span>题: BS 取半类</a></span><ul class=\"toc-item\"><li><span><a href=\"#50.medium_Pow(x,-n)-https://leetcode.com/problems/powx-n/description/\" data-toc-modified-id=\"50.medium_Pow(x,-n)-https://leetcode.com/problems/powx-n/description/-7.1\"><span class=\"toc-item-num\">7.1&nbsp;&nbsp;</span>50.medium_Pow(x, n) <a href=\"https://leetcode.com/problems/powx-n/description/\" target=\"_blank\">https://leetcode.com/problems/powx-n/description/</a></a></span></li><li><span><a href=\"#❤️❤️-4.hard_Median-of-Two-Sorted-Arrays\" data-toc-modified-id=\"❤️❤️-4.hard_Median-of-Two-Sorted-Arrays-7.2\"><span class=\"toc-item-num\">7.2&nbsp;&nbsp;</span><a href=\"https://leetcode.com/problems/median-of-two-sorted-arrays/description/\" target=\"_blank\">❤️❤️ 4.hard_Median of Two Sorted Arrays</a></a></span></li></ul></li><li><span><a href=\"#其他\" data-toc-modified-id=\"其他-8\"><span class=\"toc-item-num\">8&nbsp;&nbsp;</span><a href=\"\" target=\"_blank\">其他</a></a></span><ul class=\"toc-item\"><li><span><a href=\"#❤️29.medium_Divide-Two-Integers\" data-toc-modified-id=\"❤️29.medium_Divide-Two-Integers-8.1\"><span class=\"toc-item-num\">8.1&nbsp;&nbsp;</span><a href=\"https://leetcode.com/problems/divide-two-integers/description/\" target=\"_blank\">❤️29.medium_Divide Two Integers</a></a></span></li><li><span><a href=\"#❤️❤️❤️300.-Longest-Increasing-Subsequence\" data-toc-modified-id=\"❤️❤️❤️300.-Longest-Increasing-Subsequence-8.2\"><span class=\"toc-item-num\">8.2&nbsp;&nbsp;</span><a href=\"https://leetcode.com/problems/longest-increasing-subsequence/description/\" target=\"_blank\">❤️❤️❤️300. Longest Increasing Subsequence</a></a></span></li><li><span><a href=\"#❤️❤️162.med-Find-Peak-Element\" data-toc-modified-id=\"❤️❤️162.med-Find-Peak-Element-8.3\"><span class=\"toc-item-num\">8.3&nbsp;&nbsp;</span><a href=\"https://leetcode.com/problems/find-peak-element/description/\" target=\"_blank\">❤️❤️162.med-Find Peak Element</a></a></span><ul class=\"toc-item\"><li><span><a href=\"#Extend:-find-minimal-Element\" data-toc-modified-id=\"Extend:-find-minimal-Element-8.3.1\"><span class=\"toc-item-num\">8.3.1&nbsp;&nbsp;</span><a href=\"\" target=\"_blank\">Extend: find minimal Element</a></a></span></li></ul></li><li><span><a href=\"#540.med-Single-Element-in-a-Sorted-Array\" data-toc-modified-id=\"540.med-Single-Element-in-a-Sorted-Array-8.4\"><span class=\"toc-item-num\">8.4&nbsp;&nbsp;</span><a href=\"https://leetcode.com/problems/single-element-in-a-sorted-array/description/\" target=\"_blank\">540.med-Single Element in a Sorted Array</a></a></span></li><li><span><a href=\"#❤️❤️287.medium-Find-the-Duplicate-Number\" data-toc-modified-id=\"❤️❤️287.medium-Find-the-Duplicate-Number-8.5\"><span class=\"toc-item-num\">8.5&nbsp;&nbsp;</span><a href=\"https://leetcode.com/problems/find-the-duplicate-number/description/\" target=\"_blank\">❤️❤️287.medium-Find the Duplicate Number</a></a></span></li><li><span><a href=\"#实现-sqrt(n,-p)\" data-toc-modified-id=\"实现-sqrt(n,-p)-8.6\"><span class=\"toc-item-num\">8.6&nbsp;&nbsp;</span><a href=\"\" target=\"_blank\">实现 sqrt(n, p)</a></a></span></li></ul></li></ul></div>"
   ]
  },
  {
   "cell_type": "markdown",
   "metadata": {},
   "source": [
    "# Binary Search\n",
    "* 题型: [Top 100 Liked Questions + Binary Search](https://leetcode.com/problemset/algorithms/?listId=79h8rn6&topicSlugs=binary-search)"
   ]
  },
  {
   "cell_type": "markdown",
   "metadata": {},
   "source": [
    "## [题型总结 (必须给定 sorted array)]( https://www.tangjikai.com/algorithms/leetcode-binary-search)\n",
    "\n",
    "###### 缩写\n",
    "* BS: binary search"
   ]
  },
  {
   "cell_type": "markdown",
   "metadata": {},
   "source": [
    "### BS 具体的数\n",
    "* https://www.youtube.com/watch?v=p9W1UI9HbJ4"
   ]
  },
  {
   "cell_type": "code",
   "execution_count": 29,
   "metadata": {},
   "outputs": [
    {
     "name": "stdout",
     "output_type": "stream",
     "text": [
      "3\n",
      "3\n"
     ]
    }
   ],
   "source": [
    "###### Method 1: iteration  ######################\n",
    "def binarySearch_iteration (nums, l, r, x):\n",
    "    \"\"\"here nums is definitely sorted in ascending order\"\"\"\n",
    "    if l < 0 or r > len(nums)-1 or l > r:  # ❎ 注意条件\n",
    "            return -1\n",
    "    if nums[l] > x or nums[r] < x:\n",
    "            return -1\n",
    "        \n",
    "    while l <= r: # ❎ 之前是 <, 其实应该是 <=\n",
    "        mid = l + (r - l) / 2\n",
    "        if nums[mid] < x:\n",
    "            l = mid + 1 # 关键 mid + 1\n",
    "        elif nums[mid] > x:\n",
    "            r = mid - 1 # 关键 mid - 1\n",
    "        else:\n",
    "            return mid\n",
    "    return -1\n",
    "\n",
    "###### Method 2: recursive  ######################\n",
    "# https://www.geeksforgeeks.org/binary-search/\n",
    "def binarySearch_recursive (nums, l, r, x):\n",
    "    # 1 the basic cases\n",
    "    if l < 0 or r > len(nums) - 1 or l > r:  # ❎ 注意条件\n",
    "            return -1\n",
    "    if nums[l] > x or nums[r] < x:\n",
    "            return -1\n",
    "    \n",
    "    #2 solve the problem recursively\n",
    "    mid = l + (r -  l) / 2\n",
    "    if nums[mid] < x: # larger than mid, then it can only be present in right subarray\n",
    "        return binarySearch_recursive (nums, mid + 1, r, x) # ❎: 没有 return\n",
    "        \n",
    "    elif nums[mid] > x: # smaller than mid, then it can only be present in left subarray\n",
    "        return binarySearch_recursive (nums, l, mid - 1, x) # ❎: 没有 return\n",
    "        \n",
    "    else: # exist at mid\n",
    "         return mid\n",
    "\n",
    "##### testing -------------\n",
    "arr = [ 2, 3, 4, 10, 40 ]\n",
    "print binarySearch_iteration (arr, 0, len(arr) - 1, 10)\n",
    "print binarySearch_recursive (arr, 0, len(arr) - 1, 10)"
   ]
  },
  {
   "cell_type": "markdown",
   "metadata": {},
   "source": [
    "### BS 寻找 >= 问题 https://www.youtube.com/watch?v=s0-ehX4Jj5Q\n",
    "* https://www.tangjikai.com/algorithms/leetcode-binary-search"
   ]
  },
  {
   "cell_type": "code",
   "execution_count": null,
   "metadata": {
    "collapsed": true
   },
   "outputs": [],
   "source": [
    "### 寻找 ❤️大于❤️ 的情况\n",
    "\"\"\"\n",
    "1. ❤️❤️ l < r: since don't return anything in while loop. ❤️❤️\n",
    "2. r = mid and l = mid + 1: r may be solution since return the first element \n",
    "   that larger than target from left-end.\n",
    "3. return l: Finally l = r, return l or r.\n",
    "\"\"\"\n",
    "def findUpperBound(array, l, r, target):\n",
    "    if l > r: return - 1\n",
    "    \n",
    "    while l < r: # ❤️❤️ 和 标准 binary search 不同的地方\n",
    "        mid = l + (r - l) / 2\n",
    "\n",
    "        if array[mid] > target:\n",
    "            r = mid # ❤️ mid 可能是候选点, 不能跳过\n",
    "        else:\n",
    "            l = mid + 1 # ❤️ mid 肯定不是候选点, 跳过.\n",
    "    return l # ❤️ l 和 r 应该重合了.\n",
    "\n",
    "## Testing ---------\n",
    "nums = [2,3,5,6,11,13,17]\n",
    "ind = findUpperBound(nums, 0, len(nums)-1, 11)\n",
    "print nums[ind]"
   ]
  },
  {
   "cell_type": "code",
   "execution_count": 13,
   "metadata": {},
   "outputs": [
    {
     "name": "stdout",
     "output_type": "stream",
     "text": [
      "11\n"
     ]
    }
   ],
   "source": [
    "# 寻找 ❤️大于等于❤️ 的情况\n",
    "# Only change mid > target to mid >= target.\n",
    "def findLooseUpperBound(nums, l, r, target):\n",
    "    while l < r:\n",
    "        mid = l + (r - l) / 2\n",
    "        if nums[mid] >= target: #❤️❤️ 和上面相比, >= 和上面的 > 不同.\n",
    "            r = mid            \n",
    "        else:\n",
    "            l = mid + 1  \n",
    "    return l   \n",
    "\n",
    "## Testing ---------\n",
    "nums = [2,3,5,6,11,13,17]\n",
    "ind = findLooseUpperBound(nums, 0, len(nums)-1, 11)\n",
    "print nums[ind]"
   ]
  },
  {
   "cell_type": "markdown",
   "metadata": {},
   "source": [
    "### BS 寻找 <= 问题"
   ]
  },
  {
   "cell_type": "code",
   "execution_count": 16,
   "metadata": {},
   "outputs": [
    {
     "name": "stdout",
     "output_type": "stream",
     "text": [
      "6\n"
     ]
    }
   ],
   "source": [
    "\"\"\"----- 寻找 ❤️< 小于❤️ 的问题 ------\n",
    "1.❤️❤️ l < r: since don't return anything in while loop.\n",
    "2. mid = l + (r - l + 1) / 2, ❤️Must ceiling mid❤️: \n",
    "    👍 if floor, when l+1=r, mid will be at l, array[l] < target will 👍 dead cycle.\n",
    "3. l = mid and r = mid - 1: l may be solution since return the first element that smaller\n",
    "    than target from right-end.\n",
    "4. return r: Finally l = r, return l or r.\n",
    "\"\"\"\n",
    "def findLowerBound(nums, l, r, target):\n",
    "    if l > r: return -1\n",
    "    \n",
    "    while l < r: \n",
    "        mid = l + (r - l + 1) / 2 # ❤️❤️👍👍\n",
    "        if nums[mid] < target:\n",
    "            l = mid\n",
    "        else:\n",
    "            r = mid - 1\n",
    "    return r\n",
    "\n",
    "## Testing ---------\n",
    "nums = [2,3,5,6,11,13,17]\n",
    "ind = findLowerBound(nums, 0, len(nums)-1, 11)\n",
    "print nums[ind]"
   ]
  },
  {
   "cell_type": "code",
   "execution_count": 17,
   "metadata": {},
   "outputs": [
    {
     "name": "stdout",
     "output_type": "stream",
     "text": [
      "11\n"
     ]
    }
   ],
   "source": [
    "# 寻找 <= 的问题\n",
    "# Only change mid < target to mid <= target.\n",
    "def findLooseLowerBound(nums, l, r, target):\n",
    "    if l > r: return -1\n",
    "    while l < r:\n",
    "        mid = l + ((r-l+1)>>1)\n",
    "        if nums[mid] <= target: # ❤️❤️ 多出来的部分\n",
    "            l = mid\n",
    "        else:\n",
    "            r = mid - 1\n",
    "    return r\n",
    "\n",
    "## Testing ---------\n",
    "nums = [2,3,5,6,11,13,17]\n",
    "ind = findLooseLowerBound(nums, 0, len(nums)-1, 11)\n",
    "print nums[ind]"
   ]
  },
  {
   "cell_type": "markdown",
   "metadata": {},
   "source": [
    "### BS a range in a sorted array\n",
    "* How to find a duplicate target range?\n",
    "* For example:\n",
    "    * array = [2, 3, 5, 6, 11, 11, 11, 13, 17], target = 11     \n",
    "    * return [4, 6] (start from index of 4 to 6)\n",
    "* We can use <span class=\"girk\">findLooseLowerBound()</span> and <span class=\"girk\">findLooseUpperBound()</span> to find the first element <= target from right-end and >= target from left-end."
   ]
  },
  {
   "cell_type": "code",
   "execution_count": 5,
   "metadata": {},
   "outputs": [
    {
     "name": "stdout",
     "output_type": "stream",
     "text": [
      "[4, 6]\n"
     ]
    }
   ],
   "source": [
    "def findTargetRange(nums, target):\n",
    "    if not nums: return [-1, -1]\n",
    "    l, r = 0, len(nums)-1\n",
    "\n",
    "    left = findLooseUpperBound(nums, l, r, target) # ❤️❤️ find the first element >= target \n",
    "    left = left if nums[left] == target else -1 #  from left-end, return red '11'\n",
    "    if left == -1: return [-1, -1]\n",
    "    \n",
    "    right = findLooseLowerBound(nums, left, r, target) # ❤️left, r❤️ find the first element <= target.\n",
    "    right = right if nums[right] == target else -1 # from right-end in nums[red '11': end], return blue '11'\n",
    "\n",
    "    return [left, right]\n",
    "\n",
    "def findLooseUpperBound(nums, l, r, target):\n",
    "    if l > r: return -1\n",
    "    while l < r:\n",
    "        m = l + ((r-l)>>1)\n",
    "        if nums[m] >= target:\n",
    "            r = m \n",
    "        else:\n",
    "            l = m + 1\n",
    "    return l\n",
    "\n",
    "def findLooseLowerBound(nums, l, r, target):\n",
    "    if l > r: return -1\n",
    "    while l < r:\n",
    "        m = l + ((r-l+1) >> 1)\n",
    "        if nums[m] <= target:\n",
    "            l = m \n",
    "        else:\n",
    "            r = m - 1\n",
    "    return r\n",
    "\n",
    "print findTargetRange([2, 3, 5, 6, 11, 11, 11, 13, 17], 11)"
   ]
  },
  {
   "cell_type": "markdown",
   "metadata": {},
   "source": [
    "### Search in Rotated Sorted Array"
   ]
  },
  {
   "cell_type": "markdown",
   "metadata": {},
   "source": [
    "#### without Duplicates\n",
    "* For example:  array = [11, 13, 17, 2, 3, 5, 6]    target = 3    return 4(index of target)\n",
    "![](https://www.tangjikai.com/uploads/2/7/7/3/27735981/4956640_orig.png)"
   ]
  },
  {
   "cell_type": "code",
   "execution_count": null,
   "metadata": {
    "collapsed": true
   },
   "outputs": [],
   "source": [
    "\"\"\"\n",
    "The idea is also binary search, except more complicated decision conditions. \n",
    "1. nums[mid] == target: return mid\n",
    "2. nums[mid] >= nums[l]: Figure (a)\n",
    "      If nums[l] <= target < nums[mid]: orange zone, r = mid - 1\n",
    "      else: l = mid + 1\n",
    "3. nums[mid] < nums[l]: Figure (b)\n",
    "      If nums[mid] < target <= nums[r]: orange zone, l = mid + 1\n",
    "      else: r = mid - 1\n",
    "\"\"\"\n",
    "class Solution:\n",
    "    # @param {integer[]} nums\n",
    "    # @param {integer} target\n",
    "    # @return {integer}\n",
    "    def search(self, nums, target):\n",
    "        l, r = 0, len(nums) - 1\n",
    "        \n",
    "        while l <= r:\n",
    "            mid = l + (r - l) / 2\n",
    "            \n",
    "            if nums[mid] == target:\n",
    "                return mid\n",
    "            elif nums[mid] >= nums[l]:\n",
    "                if nums[l] <= target < nums[mid]:\n",
    "                    r = mid - 1\n",
    "                else:\n",
    "                    l = mid + 1\n",
    "            else:\n",
    "                if nums[mid] < target <= nums[r]:\n",
    "                    l = mid + 1\n",
    "                else:\n",
    "                    r = mid - 1\n",
    "        \n",
    "        return -1"
   ]
  },
  {
   "cell_type": "markdown",
   "metadata": {},
   "source": [
    "#### with Duplicates\n",
    "For example: \n",
    "array = [6, 6, 11, 13, 17, 2, 3, 5, 6, 6, 6, 6]    target = 3    return 6(index of target)\n",
    "\n",
    "![](https://www.tangjikai.com/uploads/2/7/7/3/27735981/525336.png?468)"
   ]
  },
  {
   "cell_type": "code",
   "execution_count": 6,
   "metadata": {},
   "outputs": [
    {
     "name": "stdout",
     "output_type": "stream",
     "text": [
      "4\n"
     ]
    }
   ],
   "source": [
    "\"\"\"\n",
    "❤️❤️❤️ Only change: If nums[mid] == nums[l]: l++\n",
    "\n",
    "* O(n) worst time complexity: [1,1,1,1,2] target = 2. \n",
    "  The algorithm moves n steps to find target.\n",
    "\"\"\"\n",
    "class Solution:\n",
    "    # @param {integer[]} nums\n",
    "    # @param {integer} target\n",
    "    # @return {boolean}\n",
    "    def search(self, nums, target):\n",
    "        l, r = 0, len(nums) - 1\n",
    "        \n",
    "        while l <= r:\n",
    "            mid = l + (r - l) / 2\n",
    "            \n",
    "            if nums[mid] == target:\n",
    "                return True\n",
    "            \n",
    "            elif nums[mid] > nums[l]:\n",
    "                if nums[l] <= target < nums[mid]:\n",
    "                    r = mid - 1\n",
    "                else:\n",
    "                    l = mid + 1\n",
    "            elif nums[mid] < nums[l]:\n",
    "                if nums[mid] < target <= nums[r]:\n",
    "                    l = mid + 1\n",
    "                else:\n",
    "                    r = mid - 1\n",
    "            else:\n",
    "                l += 1\n",
    "        \n",
    "        return False\n",
    "    \n",
    "    \n",
    "print Solution().search( [11, 13, 17, 2, 3, 5, 6], 3 )"
   ]
  },
  {
   "cell_type": "markdown",
   "metadata": {},
   "source": [
    "### [Find Minimum in Rotated Sorted Array](https://www.tangjikai.com/algorithms/leetcode-binary-search)"
   ]
  },
  {
   "cell_type": "markdown",
   "metadata": {},
   "source": [
    "#### without Duplicates\n",
    "![](https://www.tangjikai.com/uploads/2/7/7/3/27735981/5840275.png?886)"
   ]
  },
  {
   "cell_type": "code",
   "execution_count": 14,
   "metadata": {},
   "outputs": [
    {
     "data": {
      "text/plain": [
       "0"
      ]
     },
     "execution_count": 14,
     "metadata": {},
     "output_type": "execute_result"
    }
   ],
   "source": [
    "def search(nums):\n",
    "    l, r = 0, len(nums)-1\n",
    "    \n",
    "    while l < r and nums[r] <= nums[l]:\n",
    "        m = l + ((r-l)>>1)\n",
    "        if nums[m] > nums[l]:\n",
    "            l = m + 1\n",
    "        elif nums[m] < nums[l]:\n",
    "            r = m \n",
    "        else:\n",
    "            l += 1\n",
    "    return nums[l]\n",
    "\n",
    "search([4,5,5,6,7,8,0,0,0,1,2,2,3])"
   ]
  },
  {
   "cell_type": "code",
   "execution_count": null,
   "metadata": {
    "collapsed": true
   },
   "outputs": [],
   "source": [
    "\"\"\"\n",
    "1. First make sure nums[l] > nums[r], namle it's rotated sorted at first, \n",
    "    otherwise return nums[l].\n",
    "2. If nums[mid] >= nums[l]: Figure (a) minimum in the orange zone, l = mid + 1\n",
    "3. If nums[mid] < nums[l]: Figure (b) minimum in the orange, r = mid \n",
    "    (nums[mid] may be minimum)\n",
    "\"\"\"\n",
    "class Solution:\n",
    "    # @param {integer[]} nums\n",
    "    # @return {integer}\n",
    "    def findMin(self, nums):\n",
    "        l, r = 0, len(nums) - 1\n",
    "        \n",
    "        while l < r and nums[l] > nums[r]:\n",
    "            mid = l + (r - l) / 2\n",
    "            \n",
    "            if nums[mid] >= nums[l]:\n",
    "                l = mid + 1\n",
    "            else:\n",
    "                r = mid\n",
    "        \n",
    "        return nums[l]"
   ]
  },
  {
   "cell_type": "markdown",
   "metadata": {},
   "source": [
    "#### With Duplicates\n",
    "##### For example: given [4,5,5,6,7,8,0,0,0,1,2,2,3]  <span class=\"girk\">return</span> 0\n",
    "\n",
    "![](https://www.tangjikai.com/uploads/2/7/7/3/27735981/6574203.png?470)"
   ]
  },
  {
   "cell_type": "code",
   "execution_count": null,
   "metadata": {
    "collapsed": true
   },
   "outputs": [],
   "source": [
    "\"\"\"\n",
    "##### Only changes:\n",
    "1. while l < r and nums[l] >= nums[r]: nums[l] may equal nums[r]. (i.e. [1,1,1,1,2,3,4,1])\n",
    "2. if nums[mid] == nums[l]: l ++\n",
    "\"\"\"\n",
    "class Solution:\n",
    "    # @param {integer[]} nums\n",
    "    # @return {integer}\n",
    "    def findMin(self, nums):\n",
    "        \n",
    "        l, r = 0, len(nums) - 1\n",
    "        \n",
    "        while l < r and nums[l] >= nums[r]: # ❤️ >= 和上面不同, 上面是 >\n",
    "            mid = l + (r - l) / 2\n",
    "            \n",
    "            if nums[mid] > nums[l]: # ❤️ > 和上面不同, 上面是 >=\n",
    "                l = mid + 1\n",
    "            elif nums[mid] < nums[l]:\n",
    "                r = mid\n",
    "            else:\n",
    "                l += 1\n",
    "        \n",
    "        return nums[l]"
   ]
  },
  {
   "cell_type": "markdown",
   "metadata": {},
   "source": [
    "### rotated sorted array 求解最大值 (假设 duplicates)"
   ]
  },
  {
   "cell_type": "code",
   "execution_count": 16,
   "metadata": {},
   "outputs": [
    {
     "name": "stdout",
     "output_type": "stream",
     "text": [
      "10\n"
     ]
    }
   ],
   "source": [
    "# <= 的例子, worst case TIME O(n)\n",
    "def findMax(nums):\n",
    "    if not nums: return -1\n",
    "    \n",
    "    l, r = 0, len(nums) - 1\n",
    "    while l < r and nums[r] <= nums[l]:\n",
    "        m = l + ((r-l+1)>>1)\n",
    "        if nums[m] > nums[l]:\n",
    "            l = m\n",
    "        elif nums[m] < nums[l]:\n",
    "            r = m - 1\n",
    "        else:\n",
    "            l += 1\n",
    "    return nums[r]\n",
    "            \n",
    "    \n",
    "print findMax([4,5,5,6,7,8,10,10,10,1,2,2,3])"
   ]
  },
  {
   "cell_type": "markdown",
   "metadata": {},
   "source": [
    "## 题: BS 具体的数"
   ]
  },
  {
   "cell_type": "markdown",
   "metadata": {},
   "source": [
    "### [74.medium_Search a 2D Matrix](https://leetcode.com/problems/search-a-2d-matrix/description/)\n",
    "##### 题意: 给定排好序的二维矩阵，问改矩阵内是否有target这个数字"
   ]
  },
  {
   "cell_type": "code",
   "execution_count": null,
   "metadata": {
    "collapsed": true
   },
   "outputs": [],
   "source": [
    "class Solution(object):\n",
    "    def searchMatrix(self, mat, target):\n",
    "        \"\"\"\n",
    "        :type mat: List[List[int]]\n",
    "        :type target: int\n",
    "        :rtype: bool\n",
    "        \"\"\"\n",
    "        # 1 the basic case ----------\n",
    "        if not mat: \n",
    "            return False # 空输入\n",
    "        if len(mat) == 1 and not mat[0]:\n",
    "            return False # 空矩阵\n",
    "        \n",
    "        # 2 do the search -----------\n",
    "        m, n = len(mat), len(mat[0]) # m row, n column\n",
    "        l, r = 0, m*n - 1\n",
    "        \n",
    "        while l <= r:\n",
    "            mid  = l + (r - l) / 2\n",
    "            yy   = mat[mid/n][mid%n] # ❤️❤️ ind 2 row & column 很厉害\n",
    "            # binary serach \n",
    "            if yy < target:\n",
    "                l = mid + 1\n",
    "            elif yy > target:\n",
    "                r = mid - 1\n",
    "            else:\n",
    "                return True\n",
    "        return False"
   ]
  },
  {
   "cell_type": "markdown",
   "metadata": {},
   "source": [
    "### [240.medium_Search a 2D Matrix II](https://leetcode.com/problems/search-a-2d-matrix-ii/description/)\n",
    "##### 题意: 编写一个高效的算法，从一个m × n矩阵中寻找一个值。矩阵具有如下性质：\n",
    "* 每一行的整数从左向右递增\n",
    "* 每一列的整数从上往下递增\n",
    "\n",
    "##### 总结: 从左上角 或 右下角开始都可以."
   ]
  },
  {
   "cell_type": "code",
   "execution_count": null,
   "metadata": {
    "collapsed": true
   },
   "outputs": [],
   "source": [
    "class Solution(object):\n",
    "    def searchMatrix(self, mat, target):\n",
    "        \"\"\"\n",
    "        :type mat: List[List[int]]\n",
    "        :type target: int\n",
    "        :rtype: bool\n",
    "        \"\"\"\n",
    "        # 1 the basic case\n",
    "        if not mat: return False\n",
    "        if len(mat) == 1 and not mat[0]: return False\n",
    "        \n",
    "        # 2 do the search algorithm\n",
    "        m, n = len(mat), len(mat[0]) # m row, n column\n",
    "        i, j = 0, n - 1\n",
    "        while i < m and j >= 0:\n",
    "            x = mat[i][j]\n",
    "            if x < target:\n",
    "                i += 1\n",
    "            elif x > target:\n",
    "                j -= 1\n",
    "            else: \n",
    "                return True\n",
    "        return False"
   ]
  },
  {
   "cell_type": "markdown",
   "metadata": {},
   "source": [
    "### [167.easy_Two Sum II - Input array is sorted](https://leetcode.com/problems/two-sum-ii-input-array-is-sorted/description/)\n",
    "##### 题意: 给定已排序 arr 和 target, 返回两个 element 之和等于 target 的 index. 这里的 index 是 1-based. \n",
    "* 这里假设组合唯一存在, 反而极大地降低了难度.\n",
    "\n",
    "##### 分析, 三种方法: \n",
    "* <span class=\"girk\">方法1</span>: two points, 刚开始 arr 的两端, 逐步缩小范围.\n",
    "* <span class=\"girk\">方法2</span>: 因为是 sorted arr, 所以自然想到 binary search.\n",
    "* <span class=\"girk\">方法3</span>: 甚至不考虑排序的因素, 直接 hash-table. 这样, runtime $O(n)$, space complexity is $O(n)$.\n",
    "\n",
    "##### 总结\n",
    "* 对于已排序的 arr, 查找 value 是否在 arr 中, 一上来可以有以下几个判断语句\n",
    "\n",
    "```python\n",
    "if nums[0]*2 > target or nums[-1]*2 < target: \n",
    "    return rst\n",
    "```\n",
    "\n",
    "##### 方法1: two points\n",
    "* runtime $O(n)$, space complexity $O(1)$"
   ]
  },
  {
   "cell_type": "code",
   "execution_count": null,
   "metadata": {
    "collapsed": true
   },
   "outputs": [],
   "source": [
    "class Solution(object):\n",
    "    def twoSum(self, nums, target):\n",
    "        \"\"\"\n",
    "        :type numbers: List[int]\n",
    "        :type target: int\n",
    "        :rtype: List[int]\n",
    "        \"\"\"\n",
    "        # 1 basic case\n",
    "        rst = []\n",
    "        if not nums or len(nums) < 2:   return rst\n",
    "        if nums[0]*2 > target or nums[-1]*2 < target: return rst\n",
    "        \n",
    "        # 2 start to search two sides towards the center\n",
    "        l, r = 0, len(nums) - 1\n",
    "        while l < r:\n",
    "            s = nums[l] + nums[r] - target\n",
    "            if s < 0:\n",
    "                l += 1\n",
    "            elif s > 0:\n",
    "                r -= 1\n",
    "            else: \n",
    "                rst = [l + 1, r + 1]\n",
    "                return rst\n",
    "                # rst.append( [l+1, r+1] ) # ❎ 这里的实现难度比题目要求, 允许不唯一, 找出所有 unique 解.\n",
    "                # while l < r and nums[l] == nums[l+1]:\n",
    "                #     l += 1\n",
    "                # while l < r and nums[r] == nums[r-1]:\n",
    "                #     r -= 1\n",
    "                # l += 1\n",
    "                # r -= 1\n",
    "        return rst"
   ]
  },
  {
   "cell_type": "markdown",
   "metadata": {},
   "source": [
    "##### 方法2: binary search\n",
    "* runtime $O(nlogn)$, space $O(1)$"
   ]
  },
  {
   "cell_type": "code",
   "execution_count": null,
   "metadata": {
    "collapsed": true
   },
   "outputs": [],
   "source": [
    "class Solution(object):\n",
    "    def twoSum(self, nums, target):\n",
    "        \"\"\"\n",
    "        :type numbers: List[int]\n",
    "        :type target: int\n",
    "        :rtype: List[int]\n",
    "        \"\"\"\n",
    "        rst = []\n",
    "        if not nums or len(nums) < 2:\n",
    "            return rst\n",
    "        \n",
    "        for i in xrange ( len(nums) - 1 ):\n",
    "            ind = self.binarySearch_recur (nums, i + 1, len(nums) - 1, target - nums[i] )\n",
    "            if ind != -1:\n",
    "                rst = [i+1, ind+1]\n",
    "                break\n",
    "        return rst\n",
    "    \n",
    "    def binarySearch_recur (self, nums, l, r, x):\n",
    "        if l > r or l < 0 or r > len(nums) - 1: \n",
    "            return -1\n",
    "        if nums[l] > x or nums[r] < x: \n",
    "            return -1\n",
    "        \n",
    "        mid = l + (r - l) / 2\n",
    "        if nums[mid] < x:\n",
    "            return self.binarySearch_recur (nums, mid + 1, r, x)\n",
    "        elif nums[mid] > x:\n",
    "            return self.binarySearch_recur (nums, l, mid - 1, x)\n",
    "        else:\n",
    "            return mid "
   ]
  },
  {
   "cell_type": "markdown",
   "metadata": {},
   "source": [
    "### [❤️275.medium-H-Index II](https://leetcode.com/problems/h-index-ii/description/)\n",
    "##### 题意: 给定 sorted array, 每个元素表示文章引用的次数, 计算 H-index (即引用超过 h 次的文章有 h 篇). \n",
    "\n",
    "##### 充分分析 h 引用次数 和 下标的问题."
   ]
  },
  {
   "cell_type": "code",
   "execution_count": null,
   "metadata": {
    "collapsed": true
   },
   "outputs": [],
   "source": [
    "\"\"\" https://leetcode.com/problems/h-index-ii/discuss/71063/Standard-binary-search\n",
    "Just binary search, each time check citations[mid]\n",
    "case 1: citations[mid] == len-mid, then it means there are citations[mid] papers that have \n",
    "        at least citations[mid] citations.\n",
    "case 2: citations[mid] > len-mid, then it means there are citations[mid] papers that have\n",
    "        more than citations[mid] citations, so we should continue searching in the left half\n",
    "case 3: citations[mid] < len-mid, we should continue searching in the right side\n",
    "\n",
    "After iteration, it is guaranteed that right+1 is the one we need to find\n",
    "        (i.e. len-(right+1) papars have at least len-(righ+1) citations)\n",
    "\"\"\"\n",
    "class Solution(object):\n",
    "    def hIndex(self, citations):\n",
    "        \"\"\"\n",
    "        :type citations: List[int]\n",
    "        :rtype: int\n",
    "        \"\"\"\n",
    "        # edge condition\n",
    "        if not citations: return 0\n",
    "        \n",
    "        # search the H index\n",
    "        n = len(citations)\n",
    "        l, r = 0, n - 1\n",
    "        while l <= r:\n",
    "            mid = l + (r -l) / 2\n",
    "            \n",
    "            if citations[mid] == n - mid:\n",
    "                return n - mid\n",
    "            elif citations[mid] > n - mid:\n",
    "                r = mid - 1\n",
    "            else:\n",
    "                l = mid + 1\n",
    "        return n - l      \n",
    "              "
   ]
  },
  {
   "cell_type": "markdown",
   "metadata": {},
   "source": [
    "### [❤️274.medium-H-Index](https://leetcode.com/problems/h-index/description/)\n",
    "##### 题意: 计算引文的 H-index 指标. 和 275 的区别是, 274 的 citations 没有 sorted.\n",
    "\n",
    "##### 思路: 1. 先排序, 2. 使用 Hash-table."
   ]
  },
  {
   "cell_type": "code",
   "execution_count": null,
   "metadata": {
    "collapsed": true
   },
   "outputs": [],
   "source": [
    "# bucket sort. time: O(n), space: O(n)\n",
    "class Solution(object):\n",
    "    def hIndex(self, citations):\n",
    "        \"\"\"\n",
    "        :type citations: List[int]\n",
    "        :rtype: int\n",
    "        \"\"\"\n",
    "        if not citations: return 0\n",
    "        \n",
    "        nn = len(citations)\n",
    "        bucket = [0] * (nn + 1)\n",
    "        for x in citations:\n",
    "            if x > nn:\n",
    "                bucket[nn] += 1\n",
    "            else:\n",
    "                bucket[x] += 1\n",
    "        \n",
    "        cnt = 0\n",
    "        for i in xrange(nn, -1, -1):\n",
    "            cnt += bucket[i]\n",
    "            if cnt >= i:\n",
    "                return i # ❎ 容易错在返回 cnt.\n",
    "        return 0"
   ]
  },
  {
   "cell_type": "code",
   "execution_count": null,
   "metadata": {
    "collapsed": true
   },
   "outputs": [],
   "source": [
    "# time: O(nlogn), space: O(1)\n",
    "class Solution(object):\n",
    "    def hIndex(self, nums):\n",
    "        \"\"\"\n",
    "        :type citations: List[int]\n",
    "        :rtype: int\n",
    "        \"\"\"\n",
    "        if not nums: return 0\n",
    "        \n",
    "        l, r, n = 0, len(nums)-1, len(nums)\n",
    "        \n",
    "        nums.sort()\n",
    "        while l <= r:\n",
    "            m = l + ((r-l)>>1)\n",
    "            if nums[m] < n - m:\n",
    "                l = m + 1\n",
    "            elif nums[m] > n - m:\n",
    "                r = m - 1\n",
    "            else:\n",
    "                return n - m\n",
    "        return n - l"
   ]
  },
  {
   "cell_type": "markdown",
   "metadata": {},
   "source": [
    "### [367.easy_Valid Perfect Square](https://leetcode.com/problems/valid-perfect-square/description/)\n",
    "##### 题意\n",
    "* 给定 positive integer num, 确定是否是 perfect square\n",
    "* 举例: nums = 16 是 perfect square, 而 num = 14 不是.\n",
    "\n",
    "##### 分析\n",
    "* binary search x, 它的平方能否等于 nums, 不能则不是, 能则是.\n",
    "* 因为 positive interger num, 所以不需要检查条件\n",
    "\n",
    "##### 总结"
   ]
  },
  {
   "cell_type": "code",
   "execution_count": null,
   "metadata": {
    "collapsed": true
   },
   "outputs": [],
   "source": [
    "class Solution(object):\n",
    "    def isPerfectSquare(self, num):\n",
    "        \"\"\"\n",
    "        :type num: int\n",
    "        :rtype: bool\n",
    "        \"\"\"\n",
    "        if num < 0: return -1\n",
    "        \n",
    "        l, r = 0, num\n",
    "        while l <= r:\n",
    "            m = l + ((r-l)>>1)\n",
    "            y = m * m \n",
    "            if y < num:\n",
    "                l = m + 1\n",
    "            elif y > num:\n",
    "                r = m - 1\n",
    "            else:\n",
    "                return True\n",
    "        return False"
   ]
  },
  {
   "cell_type": "markdown",
   "metadata": {},
   "source": [
    "### [374.easy_Guess Number Higher or Lower](https://leetcode.com/problems/guess-number-higher-or-lower/description/)\n",
    "\n",
    "##### 题意\n",
    "* 如标题所示, 题意挺明确的. 只是 -1 表示 lower, +1 表示 higher, 0 表示猜到了.\n",
    "* 分析有什么难点呢? 和 binary search 唯一的不同是, 这里是 1 到 n 里面pick value, 然后我们猜测.\n",
    "\n",
    "##### 总结\n",
    "* 这完全是 standard binary search problem, 刚开始只是审题错误."
   ]
  },
  {
   "cell_type": "code",
   "execution_count": null,
   "metadata": {
    "collapsed": true
   },
   "outputs": [],
   "source": [
    "# -1 : My number is lower   # ❎ ❤️ 刚开始这部分题意读反了..\n",
    "#  1 : My number is higher\n",
    "#  0 : Congrats! You got it!\n",
    "    \n",
    "class Solution(object):\n",
    "    def guessNumber(self, n):\n",
    "        \"\"\"\n",
    "        :type n: int\n",
    "        :rtype: int\n",
    "        \"\"\"\n",
    "        l, r = 1, n\n",
    "        while l <= r:\n",
    "            m = l + (r - l) / 2\n",
    "            y = guess (m)\n",
    "            if y < 0:      # ❎ ❤️ 刚开始这部分题意读反了, 导致错误.\n",
    "                r = m - 1\n",
    "            elif y > 0:\n",
    "                l = m + 1\n",
    "            else:\n",
    "                return m  \n",
    "        return - 1"
   ]
  },
  {
   "cell_type": "code",
   "execution_count": 32,
   "metadata": {},
   "outputs": [
    {
     "name": "stdout",
     "output_type": "stream",
     "text": [
      "True\n"
     ]
    }
   ],
   "source": [
    "# 总结: 和 binary search 几乎一致, 却别被 ❤️ 标识.\n",
    "class Solution(object):\n",
    "    #### 第 1 类方法 #############################\n",
    "    def isPerfectSquare_1 (self, x):\n",
    "        \"\"\"\n",
    "        :type x: int\n",
    "        :rtype: bool\n",
    "        \"\"\"\n",
    "        if x == 0 or x == 1: return True # ❎ 很容易忽略这类细节, 因为没有这句, 出错...\n",
    "        \n",
    "        l, r = 0, x - 1\n",
    "        while l <= r:\n",
    "            m = l + (r - l) / 2\n",
    "            yy = m * m  # ❤️ 判断条件不同\n",
    "            if yy < x:\n",
    "                l = m + 1\n",
    "            elif yy > x:\n",
    "                r = m - 1\n",
    "            else: return True # ❤️ 返回结果不同\n",
    "        return False  \n",
    "    \n",
    "    def isPerfectSquare_2 (self, x):\n",
    "        \"\"\"\n",
    "        :type x: int\n",
    "        :rtype: bool\n",
    "        \"\"\"\n",
    "        # if x == 0 or x == 1: return True # ❎ 因为返回考虑了 x == 1的情况, 可以没有这一句了..\n",
    "        \n",
    "        l, r = 0, x - 1\n",
    "        while l <= r:\n",
    "            m = l + (r - l) / 2\n",
    "            yy = m * m  \n",
    "            if yy < x:\n",
    "                l = m + 1\n",
    "            elif yy > x:\n",
    "                r = m - 1\n",
    "            else: \n",
    "                return True \n",
    "        return l * l == x  # ❤️ 返回避免了上面的语句. \n",
    "    \n",
    "    #### 第 2 类方法 #############################\n",
    "    def isPerfectSquare_3 (self, x):\n",
    "        if x == 0 or x == 1: return True\n",
    "        \n",
    "        l, r = 0, x - 1\n",
    "        while l + 1 < r:\n",
    "            m = l + (r -l) // 2\n",
    "            yy = m * m\n",
    "            \n",
    "            if yy < x:\n",
    "                l = m\n",
    "            elif yy > x:\n",
    "                r = m\n",
    "            else: \n",
    "                return True\n",
    "            \n",
    "        if l * l == x or r * r == x:\n",
    "            return True\n",
    "        else: \n",
    "            return False\n",
    "        \n",
    "#### Testing ---\n",
    "print Solution().isPerfectSquare (1)\n",
    "# print Solution().isPerfectSquare (16)\n",
    "# print Solution().isPerfectSquare (17)\n"
   ]
  },
  {
   "cell_type": "markdown",
   "metadata": {},
   "source": [
    "## 题:  BS >="
   ]
  },
  {
   "cell_type": "markdown",
   "metadata": {},
   "source": [
    "### [35.easy-Search Insert Position](https://leetcode.com/problems/search-insert-position/description/)\n",
    "##### 题意\n",
    "* 给定 sorted array, binary search the value.\n",
    "    * 如果在 array 中, 返回它的 index. \n",
    "    * 如果不在 array 中, 将 value insert to array, 返回 insert index, 以保证 sorted order\n",
    "\n",
    "##### 分析\n",
    "* 比 binary search 多了一项. 找到就找到了, 否则找到该插入的位置. \n",
    "\n",
    "##### Standard Method \n",
    "* 几乎和标准的 binary search 完全一样, 只是如果找不到, 返回的 index 略有不同. 标准, 返回的是 -1, 这里返回的是 low.\n",
    "* https://leetcode.com/problems/search-insert-position/discuss/\n",
    "* https://discuss.leetcode.com/topic/15955/c-o-logn-binary-search-that-handles-duplicate"
   ]
  },
  {
   "cell_type": "code",
   "execution_count": null,
   "metadata": {
    "collapsed": true
   },
   "outputs": [],
   "source": [
    "# ❤️ binary search 只在中间, 0 和 n-1 外面需要另外考虑\n",
    "class Solution(object):\n",
    "    def searchInsert(self, nums, target):\n",
    "        \"\"\"\n",
    "        :type nums: List[int]\n",
    "        :type target: int\n",
    "        :rtype: int\n",
    "        \"\"\"\n",
    "        # edge condition\n",
    "        if not nums: return 0\n",
    "        if nums[0] > target: return 0\n",
    "        if nums[-1] < target: return len(nums)\n",
    "        \n",
    "        # search it. >= 问题\n",
    "        l, r = 0, len(nums)-1\n",
    "        while l < r:\n",
    "            m = l + (r - l) / 2\n",
    "            if nums[m] >= target:\n",
    "                r = m\n",
    "            else:\n",
    "                l = m + 1\n",
    "        return l"
   ]
  },
  {
   "cell_type": "code",
   "execution_count": null,
   "metadata": {
    "collapsed": true
   },
   "outputs": [],
   "source": [
    "# 以前的方法: 最终 l, r 相邻, i.e., l + 1 = r\n",
    "class Solution(object):\n",
    "    def searchInsert(self, nums, target):\n",
    "        \"\"\"\n",
    "        :type nums: List[int]\n",
    "        :type target: int\n",
    "        :rtype: int\n",
    "        \"\"\"\n",
    "        # edge condition \n",
    "        if not nums: return 0\n",
    "        if nums[0] > target: return 0 # ❤️❤️ 很重要.\n",
    "        if nums[-1] < target: return len(nums)\n",
    "        \n",
    "        # search the position\n",
    "        l, r = 0, len(nums) - 1\n",
    "        while l + 1 < r:\n",
    "            m = l + (r - l) / 2\n",
    "            # --------------------------------------------\n",
    "            if nums[m] < target: # ❤️ 但凡运行过这两条指令, 都能满足 num[l] < target < nums[r].\n",
    "                l = m  # ❤️ 怕就怕, l 和  r 从未被赋值为 m. 此时, 不能保证 l 和 r 满足上述条件.\n",
    "            elif nums[m] > target: # ❤️  所以, 最后对 l 和 r 检查是必要的.\n",
    "                r = m \n",
    "            # --------------------------------------------\n",
    "            else:\n",
    "                return m\n",
    "            \n",
    "        if nums[l] >= target: return l # ❤️ l, r 相邻的情况, 因为 l 和 r 有可能从来没检查过条件, \n",
    "        else: return r # ❤️❤️ 因此, 最后检查 l 和 r 必须的."
   ]
  },
  {
   "cell_type": "markdown",
   "metadata": {},
   "source": [
    "### [744.easy-Find Smallest Letter Greater Than Target](https://leetcode.com/problems/find-smallest-letter-greater-than-target/description/)\n",
    "##### 题意: 给定 sorted 字母 (只包含小写字母) 和 target, 找到比 target大的最小 字母.\n",
    "* Letters also wrap around. For example, if the target is target = 'z' and letters = ['a', 'b'], the answer is 'a'.\n",
    "* Note that: \n",
    "    * letters has a length in range [2, 10000].\n",
    "    * letters consists of lowercase letters, and contains at least 2 unique letters.\n",
    "    * target is a lowercase letter.\n",
    "\n",
    "##### 分析: 边界查找问题."
   ]
  },
  {
   "cell_type": "code",
   "execution_count": null,
   "metadata": {
    "collapsed": true
   },
   "outputs": [],
   "source": [
    "class Solution(object):\n",
    "    def nextGreatestLetter(self, letters, target):\n",
    "        \"\"\"\n",
    "        :type letters: List[str]\n",
    "        :type target: str\n",
    "        :rtype: str\n",
    "        \"\"\"\n",
    "        # edge condition\n",
    "        if letters[0] > target or letters[-1] <= target: # ❎ <= 处出错.\n",
    "            return letters[0]\n",
    "        \n",
    "        # search it > \n",
    "        l, r = 0, len(letters) - 1\n",
    "        while l < r:\n",
    "            m = l + (r - l) / 2\n",
    "            if letters[m] > target:\n",
    "                r = m\n",
    "            else:\n",
    "                l = m + 1\n",
    "                \n",
    "        return letters[l]"
   ]
  },
  {
   "cell_type": "code",
   "execution_count": null,
   "metadata": {
    "collapsed": true
   },
   "outputs": [],
   "source": [
    "class Solution(object):\n",
    "    def nextGreatestLetter(self, letters, target):\n",
    "        \"\"\"\n",
    "        :type letters: List[str]\n",
    "        :type target: str\n",
    "        :rtype: str\n",
    "        \"\"\"\n",
    "        # edge condition\n",
    "        if letters[0] > target or letters[-1] <= target:\n",
    "            return letters[0]\n",
    "        \n",
    "        # search it \n",
    "        l, r = 0, len(letters) - 1\n",
    "        while l + 1 < r:\n",
    "            m = l + (r - l) / 2\n",
    "            if letters[m] > target:\n",
    "                r = m\n",
    "            else:\n",
    "                l = m \n",
    "                \n",
    "        if letters[l] > target: \n",
    "            return letters[l]\n",
    "        else:\n",
    "            return letters[r]"
   ]
  },
  {
   "cell_type": "markdown",
   "metadata": {},
   "source": [
    "## 题: BS <="
   ]
  },
  {
   "cell_type": "markdown",
   "metadata": {},
   "source": [
    "### [69.easy_Sqrt(x)](https://leetcode.com/problems/sqrtx/description/)\n",
    "\n",
    "##### 题意\n",
    "* 实现 int sqrt(int x),  x 肯定是非负整数. 这是 binary search 问题.\n",
    "* Example: Input 8; Output 2. The square root of 8 is 2.82842..., and since we want to return an integer, the decimal part will be truncated.\n",
    "\n",
    "##### 分析\n",
    "* 非负, 所以应该包含 0 "
   ]
  },
  {
   "cell_type": "code",
   "execution_count": null,
   "metadata": {
    "collapsed": true
   },
   "outputs": [],
   "source": [
    "# <= 问题 ---\n",
    "class Solution(object):\n",
    "    def mySqrt(self, x):\n",
    "        \"\"\"\n",
    "        :type x: int\n",
    "        :rtype: int\n",
    "        \"\"\"\n",
    "        if x == 0 or x == 1: return x\n",
    "        \n",
    "        l, r = 0, x - 1 \n",
    "        while l < r:\n",
    "            m = l + (r - l + 1) / 2\n",
    "            yy = m * m \n",
    "            if yy <= x:\n",
    "                l = m\n",
    "            else:\n",
    "                r = m - 1\n",
    "        return r"
   ]
  },
  {
   "cell_type": "code",
   "execution_count": 7,
   "metadata": {},
   "outputs": [
    {
     "name": "stdout",
     "output_type": "stream",
     "text": [
      "2\n"
     ]
    }
   ],
   "source": [
    "# ❤️❤️❤️ 思路是对的 iteration\n",
    "class Solution(object):\n",
    "    def mySqrt(self, x):\n",
    "        \"\"\"\n",
    "        :type x: int\n",
    "        :rtype: int\n",
    "        \"\"\"\n",
    "        if x == 0 or x == 1: return x\n",
    "        \n",
    "        l, r = 0, x  # ✡️ 类似于找 region 的left or right, 找到边界\n",
    "        while l + 1 < r: # ❤️ 所以边界条件要相似, 该条件满足找到相邻的两个数 l < 和 r >, 此时的 l \n",
    "            m = l + (r - l) / 2 # 最大满足条件的数 \n",
    "            yy = m * m\n",
    "            if yy > x: # ❤️ 我们只关心 <= 两种情况, 所以将 > 分开来归为一类.\n",
    "                r = m\n",
    "            else:   \n",
    "                l = m\n",
    "        return l\n",
    "    \n",
    "    def mySqrt_2 (self, x): # ❤️ 思路是对的, 但算法理论更高效, 但代码更长. iteration method.\n",
    "        if x == 0 or x == 1: return x\n",
    "        \n",
    "        l, r = 0, x\n",
    "        while l + 1 < r: # ❤️ 该条件的终止条件是 l 和 r 相等, 或相差 1\n",
    "            m = l + (r - l) >> 1 # ❤️  r - l 肯定非负, 位操作更高效.\n",
    "            yy = m * m \n",
    "            if yy < x:\n",
    "                l = m    # 因为 l + 1 < r 的终止条件, 所以这里 l = m, 而不是 l = m - 1. \n",
    "            elif yy > x: # 所以 l = m 和 l + 1 < r 是一对. 这里不能随便 l = m - 1 还有一个原因\n",
    "                r = m    # 就怕, 随便移动一个, 这个边界就守不住了.\n",
    "            else:\n",
    "                return m\n",
    "        return l\n",
    "            \n",
    "###### testing \n",
    "print Solution ().mySqrt (8)"
   ]
  },
  {
   "cell_type": "code",
   "execution_count": 20,
   "metadata": {},
   "outputs": [
    {
     "name": "stdout",
     "output_type": "stream",
     "text": [
      "2\n"
     ]
    }
   ],
   "source": [
    "# ❤️ recursive method \n",
    "class Solution(object):\n",
    "    def mySqrt(self, x):\n",
    "        \"\"\"\n",
    "        :type x: int\n",
    "        :rtype: int\n",
    "        \"\"\"\n",
    "        if x == 0 or x == 1:  return x\n",
    "        return self.mySqrt_recur (0, x, x)\n",
    "        \n",
    "    def mySqrt_recur (self, l, r, x):\n",
    "        # 1 basic case\n",
    "        if l > r or l < 0 or r > x:\n",
    "            return -1\n",
    "        if l + 1 >= r:  return l\n",
    "        \n",
    "        # 2 do the computation \n",
    "        m = l + (r - l) // 2  # ❎ 就错在 >> 1 了, 不知道为什么???\n",
    "        yy = m * m \n",
    "        if yy < x:\n",
    "            return self.mySqrt_recur (m, r, x)\n",
    "        elif yy > x:\n",
    "            return self.mySqrt_recur (l, m, x)\n",
    "        else:\n",
    "            return m       \n",
    "            \n",
    "###### testing \n",
    "print Solution ().mySqrt (8)"
   ]
  },
  {
   "cell_type": "markdown",
   "metadata": {},
   "source": [
    "### [441.easy_Arranging Coins](https://leetcode.com/problems/arranging-coins/description/)\n",
    "##### 题意\n",
    "* 给定 n 个 coin, 按照台阶排列, 确定最大能填满第几级 row.\n",
    "* 假设 $x$ 表示第 $x$-th row, 那么存在以下等式\n",
    "$$ 1 + 2 + \\cdots + x = \\frac{(1+x)x}{2} = n$$ \n",
    "我们有\n",
    "$$ x^2 + x = 2n $$\n",
    "根据上述等数, 我们找到一个最大整数 $x$ 接近 (小于或等于) $2n$.\n",
    "\n",
    "##### 总结: \n",
    "* 给定单调函数 $f(x)$ 和 $y$, 找到最接近 $y$ 的整数 $x$ 值. 这类搜索问题, 都可以使用 binary search.\n",
    "* 给定这种寻找边界的问题, 比如找 region 的边界, 找最大 rows for the arranging coin problem 等等, 我可以使用以下我们的 code.\n",
    "\n",
    "##### my solution (靠边搜索问题) 1/23/18 8:48 PM"
   ]
  },
  {
   "cell_type": "code",
   "execution_count": null,
   "metadata": {
    "collapsed": true
   },
   "outputs": [],
   "source": [
    "# <= 的问题 \n",
    "class Solution(object):\n",
    "    def arrangeCoins(self, n):\n",
    "        \"\"\"\n",
    "        :type n: int\n",
    "        :rtype: int\n",
    "        \"\"\"\n",
    "        if n == 0 or n == 1: return n # ❤️❤️❤️ \n",
    "        \n",
    "        l, r, target = 0, n-1, 2*n\n",
    "        while l < r:\n",
    "            m = l + (r - l + 1) / 2\n",
    "            yy = m * (m + 1)\n",
    "            if yy <= target:\n",
    "                l = m\n",
    "            else:\n",
    "                r = m - 1\n",
    "        return r"
   ]
  },
  {
   "cell_type": "code",
   "execution_count": 37,
   "metadata": {},
   "outputs": [
    {
     "name": "stdout",
     "output_type": "stream",
     "text": [
      "good\n",
      "1\n",
      "3\n"
     ]
    }
   ],
   "source": [
    "class Solution(object):\n",
    "    def arrangeCoins(self, n):\n",
    "        \"\"\"\n",
    "        :type n: int\n",
    "        :rtype: int\n",
    "        \"\"\"\n",
    "        # 1 the basic case\n",
    "        if n == 0 or n == 1: return n\n",
    "        \n",
    "        # 2 do the search\n",
    "        l, r, target = 0, n, 2*n\n",
    "        while l + 1 < r:\n",
    "            m = l + (r - l) // 2\n",
    "            yy = m * (m + 1)\n",
    "            if yy < target:\n",
    "                l = m   # ❤️ = m, 使得 l 永远 < \n",
    "            elif yy > target:\n",
    "                r = m   # ❤️ = m 使得 r 永远 >\n",
    "            else:\n",
    "                return m\n",
    "        return l\n",
    "    \n",
    "### testing ######\n",
    "print Solution().arrangeCoins (1)\n",
    "print Solution().arrangeCoins (8)"
   ]
  },
  {
   "cell_type": "markdown",
   "metadata": {},
   "source": [
    "## 题: BS Rrange"
   ]
  },
  {
   "cell_type": "markdown",
   "metadata": {},
   "source": [
    "### [34.medium_Search for a Range](https://leetcode.com/problems/search-for-a-range/description/)\n",
    "##### 题意 ( <span class=\"girk\">>= 和 <= 问题</span> )\n",
    "* 给定 sorted array, 寻找等于 value 的 region.\n",
    "\n",
    "##### 总结\n",
    "* 给定 sorted array, 一定要想到 binary search.\n",
    "* https://www.youtube.com/watch?v=pZ7ypg3mU64\n",
    "* https://www.youtube.com/watch?v=NlLP8Op_4zw\n",
    "* https://discuss.leetcode.com/topic/5891/clean-iterative-solution-with-two-binary-searches-with-explanation/2"
   ]
  },
  {
   "cell_type": "code",
   "execution_count": null,
   "metadata": {
    "collapsed": true
   },
   "outputs": [],
   "source": [
    "class Solution(object):\n",
    "    def searchRange(self, nums, target):\n",
    "        \"\"\"\n",
    "        :type nums: List[int]\n",
    "        :type target: int\n",
    "        :rtype: List[int]\n",
    "        \"\"\"\n",
    "        if not nums: return [-1, -1]\n",
    "        \n",
    "        left = self.findLooseUpperBound(nums, 0, len(nums)-1, target)\n",
    "        if nums[left] != target: \n",
    "            return [-1, -1]\n",
    "        \n",
    "        right = self.findLooseLowerBound(nums, 0, len(nums)-1, target)\n",
    "        \n",
    "        return [left, right]\n",
    "        \n",
    "    def findLooseUpperBound(self, nums, l, r, target):\n",
    "        while l < r:\n",
    "            m = l + (r - l) / 2\n",
    "            if nums[m] >= target:\n",
    "                r = m \n",
    "            else:\n",
    "                l = m + 1\n",
    "        return l\n",
    "        \n",
    "    def findLooseLowerBound(self, nums, l, r, target):\n",
    "        while l < r:\n",
    "            m = l + (r - l + 1) / 2\n",
    "            if nums[m] <= target:\n",
    "                l = m\n",
    "            else:\n",
    "                r = m - 1\n",
    "        return r"
   ]
  },
  {
   "cell_type": "code",
   "execution_count": null,
   "metadata": {
    "collapsed": true
   },
   "outputs": [],
   "source": [
    "class Solution(object):\n",
    "    def searchRange(self, nums, target):\n",
    "        \"\"\"\n",
    "        :type nums: List[int]\n",
    "        :type target: int\n",
    "        :rtype: List[int]\n",
    "        \"\"\"\n",
    "        rst = [-1, -1]\n",
    "        # 1 edge condition\n",
    "        if not nums: return rst\n",
    "        \n",
    "        # 2 search the left edge\n",
    "        left = self.searchLeft(nums, 0, len(nums)-1, target)\n",
    "        if left == -1: return rst\n",
    "        else: rst[0] = left\n",
    "         \n",
    "        # 3 search the right edge\n",
    "        rst[1] = self.searchRight(nums, 0, len(nums)-1, target)\n",
    "        return rst        \n",
    "        \n",
    "    def searchLeft(self, nums, l, r, target):\n",
    "        if l > r or nums[l] > target or nums[r] < target:  return -1\n",
    "        \n",
    "        while l + 1 < r:\n",
    "            m = l + (r - l) / 2\n",
    "            if nums[m] < target:  # ❤️❤️ 保证 nums[l] <= target 始终\n",
    "                l = m \n",
    "            else:\n",
    "                r = m \n",
    "                \n",
    "        if nums[l] == target: return l # ❎ ❤️ 竟然没有考虑输入是 [2,2] 和 2 的情况\n",
    "        elif nums[r] == target: return r\n",
    "        else: return -1\n",
    "        # return r if nums[r] == x else -1 # ❎ ❤️, 尽然写错了, return 竟然在 while 循环里面了\n",
    "    \n",
    "    def searchRight(self, nums, l, r, target):\n",
    "        if l > r or nums[l] > target or nums[r] < target: return - 1\n",
    "        \n",
    "        while l + 1 < r:\n",
    "            m = l + (r - l) / 2\n",
    "            if nums[m] > target: # ❤️❤️ 保证 nums[l] >= target 始终\n",
    "                r = m \n",
    "            else:\n",
    "                l = m \n",
    "        \n",
    "        if nums[r] == target: return r\n",
    "        elif nums[l] == target: return l\n",
    "        else: reutrn -1\n",
    "        # return l if nums[l] == x else -1 ❎ ❤️ 竟然没有考虑输入是 [2,2] 和 2 的情况"
   ]
  },
  {
   "cell_type": "markdown",
   "metadata": {},
   "source": [
    "## 题:  BS rotated sorted array"
   ]
  },
  {
   "cell_type": "markdown",
   "metadata": {},
   "source": [
    "### [33.medium-Search in Rotated Sorted Array](https://leetcode.com/problems/search-in-rotated-sorted-array/description/)\n",
    "##### 题意: binary search  数字 x 是否在数列 nums 中, 请返回位置.  nums 基本是一个单调递增的数列, 但是它里面可能存在几重逆序.\n",
    "* 关于 rotated array 的概念, 请参照 https://www.youtube.com/watch?v=viaha1SnpT4\n",
    "* 其实有一个 sub-list 本来在 list 开头, 现在整体移到 list 结尾.\n",
    "\n",
    "##### 分析\n",
    "* 方法1: **两次 binary search**, **第一次**找到 pivot 即最值 index, **第二次** binary search giving sorted array. 详情参考 https://www.youtube.com/watch?v=6pSzsJH56BA 和 https://www.ideserve.co.in/learn/find-an-element-in-a-sorted-rotated-array.\n",
    "* 方法2: 将 nums 分解成几个 sub-list, 每个 sub-list 均是严格的单调递增数列. 逐个 binary search. 这种方法不可取, 还不如 linear search 呢?\n",
    "\n",
    "##### 总结"
   ]
  },
  {
   "cell_type": "code",
   "execution_count": null,
   "metadata": {
    "collapsed": true
   },
   "outputs": [],
   "source": [
    "# 👍❤️ 牛掰的方法: 考虑了 duplicate 的情况, 涵盖了没有 duplicate 的情况 ❤️👍\n",
    "class Solution(object):\n",
    "    def search(self, nums, target):\n",
    "        \"\"\"\n",
    "        :type nums: List[int]\n",
    "        :type target: int\n",
    "        :rtype: int\n",
    "        \"\"\"\n",
    "        if not nums: return -1\n",
    "        \n",
    "        l, r = 0, len(nums) - 1\n",
    "        while l <= r: # 👍❤️❤️👍 \n",
    "            m = l + (r - l) / 2\n",
    "            if nums[m] == target:\n",
    "                return m\n",
    "            \n",
    "            elif nums[m] > nums[l]:\n",
    "                if nums[l] <= target < nums[m]:\n",
    "                    r = m - 1\n",
    "                else:\n",
    "                    l = m + 1\n",
    "                    \n",
    "            elif nums[m] < nums[l]:\n",
    "                if nums[m] < target <= nums[r]:\n",
    "                    l = m + 1\n",
    "                else:\n",
    "                    r = m - 1\n",
    "            else:\n",
    "                l += 1\n",
    "        return -1"
   ]
  },
  {
   "cell_type": "markdown",
   "metadata": {},
   "source": [
    "##### 方法1: 两次binary search @ 1/22/18 8:29 PM "
   ]
  },
  {
   "cell_type": "code",
   "execution_count": null,
   "metadata": {
    "collapsed": true
   },
   "outputs": [],
   "source": [
    "class Solution(object):\n",
    "    def search(self, nums, target):\n",
    "        \"\"\"\n",
    "        :type nums: List[int]\n",
    "        :type target: int\n",
    "        :rtype: int\n",
    "        \"\"\"\n",
    "        if not nums: return -1\n",
    "        pivot = self.find_pivot (nums)\n",
    "        \n",
    "        ind = self.binary_search (nums, 0, pivot - 1, target)\n",
    "        if ind != -1: return ind\n",
    "        ind = self.binary_search (nums, pivot, len(nums) - 1, target)\n",
    "        return ind\n",
    "        \n",
    "    def find_pivot (self, nums): # ⚛ ⚛ ⚛ ⚛ 重要\n",
    "        # ---- 1 basic cases -----------------\n",
    "        if not nums:   return -1 # ❎ 要习惯, 出意外时, 返回 -1\n",
    "        if len(nums) < 2 or nums[0] < nums[-1]:   return 0\n",
    "        \n",
    "        # ---- 2 the algorithm ---------------\n",
    "        l, r = 0, len(nums) - 1\n",
    "        while l <= r:\n",
    "            mid = l + (r - l) // 2\n",
    "            if nums[mid] > nums[mid + 1]: # ❎ 这里三个条件有些奇怪\n",
    "                return mid + 1\n",
    "            \n",
    "            if nums[l] <= nums[mid]: # ❎ 这里是 <= 而不是 <, 说明左半部分是正常的\n",
    "                l = mid + 1               \n",
    "            else: # 否则, 则说明右半部分没问题.\n",
    "                r = mid - 1\n",
    "        return -1\n",
    "    \n",
    "    def binary_search (self, nums, l, r, x):\n",
    "        if l > r or l < 0 or r > len(nums) - 1:\n",
    "            return -1\n",
    "        if nums[l] > x or nums[r] < x:\n",
    "            return -1\n",
    "        \n",
    "        while l <= r:\n",
    "            mid = l + (r - l) / 2\n",
    "            if nums[mid] < x:\n",
    "                l = mid + 1\n",
    "            elif nums[mid] > x:\n",
    "                r = mid - 1\n",
    "            else:\n",
    "                return mid\n",
    "        return -1"
   ]
  },
  {
   "cell_type": "markdown",
   "metadata": {},
   "source": [
    "### [81.medium-Search in Rotated Sorted Array II](https://leetcode.com/problems/search-in-rotated-sorted-array-ii/description/)\n",
    "##### 题意: 存在 duplicates 时, 对给定 rotated sorted array, 查看是否包含 x, 请返回 bool 值."
   ]
  },
  {
   "cell_type": "code",
   "execution_count": null,
   "metadata": {
    "collapsed": true
   },
   "outputs": [],
   "source": [
    "class Solution(object):\n",
    "    def search(self, nums, target):\n",
    "        \"\"\"\n",
    "        :type nums: List[int]\n",
    "        :type target: int\n",
    "        :rtype: bool\n",
    "        \"\"\"\n",
    "        if not nums: return False\n",
    "        \n",
    "        l, r = 0, len(nums) - 1\n",
    "        while l <= r:\n",
    "            m = l + (r - l) / 2\n",
    "            if nums[m] == target:\n",
    "                return True\n",
    "            \n",
    "            elif nums[m] > nums[l]:\n",
    "                if nums[l] <= target < nums[m]:\n",
    "                    r = m - 1\n",
    "                else:\n",
    "                    l = m + 1\n",
    "                    \n",
    "            elif nums[m] < nums[l]:\n",
    "                if nums[m] < target <= nums[r]:\n",
    "                    l = m + 1\n",
    "                else:\n",
    "                    r = m - 1\n",
    "            else:\n",
    "                l += 1\n",
    "        return False"
   ]
  },
  {
   "cell_type": "markdown",
   "metadata": {},
   "source": [
    "### [153.medium-Find Minimum in Rotated Sorted Array](https://leetcode.com/problems/find-minimum-in-rotated-sorted-array/description/)\n",
    "##### 题意: 给定 rotated sorted array, 找到 minimum 的位置, 假设不存在 duplicates."
   ]
  },
  {
   "cell_type": "code",
   "execution_count": null,
   "metadata": {
    "collapsed": true
   },
   "outputs": [],
   "source": [
    "class Solution(object):\n",
    "    def findMin(self, nums):\n",
    "        \"\"\"\n",
    "        :type nums: List[int]\n",
    "        :rtype: int\n",
    "        \"\"\"\n",
    "        if not nums: return -1\n",
    "        \n",
    "        l, r = 0, len(nums) - 1\n",
    "        while l < r and nums[l] >= nums[r]: # \n",
    "            m = l + (r - l) / 2\n",
    "\n",
    "            if nums[m] > nums[l]:\n",
    "                l = m + 1\n",
    "            elif nums[m] < nums[l]:\n",
    "                r = m\n",
    "            else:\n",
    "                l += 1\n",
    "        \n",
    "        return nums[l]"
   ]
  },
  {
   "cell_type": "markdown",
   "metadata": {},
   "source": [
    "### [154.hard-Find Minimum in Rotated Sorted Array II](https://leetcode.com/problems/find-minimum-in-rotated-sorted-array-ii/description/)\n",
    "##### 题意: 给定 rotated sorted array, 找到 minimum 的位置, 假设存在 duplicates.¶"
   ]
  },
  {
   "cell_type": "code",
   "execution_count": null,
   "metadata": {
    "collapsed": true
   },
   "outputs": [],
   "source": [
    "# 怎么转化成 >= 问题的呢?\n",
    "class Solution(object):\n",
    "    def findMin(self, nums):\n",
    "        \"\"\"\n",
    "        :type nums: List[int]\n",
    "        :rtype: int\n",
    "        \"\"\"\n",
    "        if not nums: return -1\n",
    "        \n",
    "        l, r = 0, len(nums) - 1\n",
    "        while l < r and nums[l] >= nums[r]: # \n",
    "            m = l + (r - l) / 2\n",
    "\n",
    "            if nums[m] > nums[l]:\n",
    "                l = m + 1\n",
    "            elif nums[m] < nums[l]:\n",
    "                r = m\n",
    "            else:\n",
    "                l += 1\n",
    "        \n",
    "        return nums[l]"
   ]
  },
  {
   "cell_type": "markdown",
   "metadata": {},
   "source": [
    "## 题: BS 取半类"
   ]
  },
  {
   "cell_type": "markdown",
   "metadata": {},
   "source": [
    "### 50.medium_Pow(x, n) https://leetcode.com/problems/powx-n/description/\n",
    "##### 题意\n",
    "* 实现 pow(x, n). \n",
    "* 举例: Input: 2.00000, 10.  Output: 1024.00000\n",
    "\n",
    "##### 分析: 这题是比较麻烦的题, 需要大量的考虑和分析\n",
    "* 异常输入分析: n < 0, n == 0, x == 0.\n",
    "* "
   ]
  },
  {
   "cell_type": "code",
   "execution_count": 8,
   "metadata": {},
   "outputs": [
    {
     "name": "stdout",
     "output_type": "stream",
     "text": [
      "0.5\n"
     ]
    }
   ],
   "source": [
    "class Solution(object):\n",
    "    def __init__(self):\n",
    "        self.g_invalidInput = False\n",
    "        \n",
    "    def myPow(self, x, n):\n",
    "        \"\"\"\n",
    "        :type x: float\n",
    "        :type n: int\n",
    "        :rtype: float\n",
    "        \"\"\"\n",
    "        # ❤️ edge condition\n",
    "        self.g_invalidInput = False\n",
    "        if self.equal(x, 0) and n < 0:\n",
    "            self.g_invalidInput = True\n",
    "            return 0.0\n",
    "        \n",
    "        # do the computation \n",
    "        rst = self.myPower_unsigned(x, abs(n))\n",
    "        return 1.0/rst if n < 0 else rst\n",
    "        \n",
    "    def myPower_unsigned(self, x, n):\n",
    "        # edge condition\n",
    "        if n == 0: return 1\n",
    "        if n == 1: return x\n",
    "        \n",
    "        # do the computation\n",
    "        rst = self.myPower_unsigned(x, n >> 1) # ❤️❤️ n >> 1 等价于 n / 2, 当 n > 0 时放心使用\n",
    "        rst *= rst\n",
    "        \n",
    "        if n & 1: # odd case, ❤️其中 n & 1 等价于 n % 2\n",
    "            rst *= x\n",
    "        return rst\n",
    "    \n",
    "    def equal(self, x, y):\n",
    "        return abs(x-y) < 1e-10\n",
    "        \n",
    "print Solution().myPow(2, -1)"
   ]
  },
  {
   "cell_type": "markdown",
   "metadata": {},
   "source": [
    "##### 方法2: my solution at\t1/22/18 8:29 PM \n",
    "* 这种方法不可取, 还不如 linear search 呢?"
   ]
  },
  {
   "cell_type": "code",
   "execution_count": null,
   "metadata": {
    "collapsed": true
   },
   "outputs": [],
   "source": [
    "class Solution(object):\n",
    "    def search(self, nums, target):\n",
    "        \"\"\"\n",
    "        :type nums: List[int]\n",
    "        :type target: int\n",
    "        :rtype: int\n",
    "        \"\"\"\n",
    "        if not nums: return -1\n",
    "        \n",
    "        l, n, x = 0, len(nums), target\n",
    "        for i in xrange (n - 1):\n",
    "            if nums[i] <= nums[i+1]:\n",
    "                continue\n",
    "            r   = i\n",
    "            ind = self.binary_search(nums, l, r, x)\n",
    "            if ind != -1: return ind\n",
    "            l = i + 1\n",
    "        r = n - 1\n",
    "        ind = self.binary_search(nums, l, r, x)\n",
    "        return ind\n",
    "        \n",
    "    def binarySearch (self, nums, l, r, x):\n",
    "        \"\"\"here nums is definitely sorted in ascending order\"\"\"\n",
    "        if l < 0 or r > len(nums) - 1 or l > r:\n",
    "            return -1\n",
    "        if nums[l] > x or nums[r] < x:\n",
    "            return -1\n",
    "        \n",
    "        while l <= r:\n",
    "            mid = l + (r - l) // 2\n",
    "            if nums[mid] < x:\n",
    "                l = mid + 1\n",
    "            elif nums[mid] > x:\n",
    "                r = mid - 1\n",
    "            else:\n",
    "                return mid\n",
    "        return -1"
   ]
  },
  {
   "cell_type": "code",
   "execution_count": 24,
   "metadata": {},
   "outputs": [
    {
     "name": "stdout",
     "output_type": "stream",
     "text": [
      "3\n",
      "3\n"
     ]
    }
   ],
   "source": [
    "# 方法2: 最终 l, r 交错开来\n",
    "class Solution(object):\n",
    "    def searchInsert(self, nums, target):\n",
    "        \"\"\"\n",
    "        :type nums: List[int]\n",
    "        :type target: int\n",
    "        :rtype: int\n",
    "        \"\"\"\n",
    "        # 1 basic case\n",
    "        if not nums: return 0\n",
    "        \n",
    "        # 2 do the search \n",
    "        l, r = 0, len(nums) - 1\n",
    "        while l <= r: #❤️❤️ 两种结束条件: 1.要么找到, 2. l = r + 1. 总而言之, m 检查了每一块区域. \n",
    "            m = l + (r - l) / 2  # ❤️ ❎ 这范围很重要 ## ❤️❤️ 所以不需要对最后的结果检查...\n",
    "            if nums[m] < target:\n",
    "                l = m + 1\n",
    "            elif nums[m] > target:\n",
    "                r = m - 1\n",
    "            else: \n",
    "                return m\n",
    "            \n",
    "        # 3 not searched, return the one behind the index l\n",
    "        # (1) At this point, low > high. That is, low >= high+1\n",
    "        # (2) From the invariant, we know that the index is between [low, high+1], so low <= high+1. Follwing from (1), now we know low == high+1.\n",
    "        # (3) Following from (2), the index is between [low, high+1] = [low, low], which means that low is the desired index\n",
    "        #     Therefore, we return low as the answer. You can also return high+1 as the result, since low == high+1\n",
    "        return l\n",
    "\n",
    "##### testing\n",
    "print Solution ().searchInsert ([1, 2, 3, 5, 7], 5)\n",
    "print Solution ().searchInsert ([1, 2, 3, 5, 7], 4)"
   ]
  },
  {
   "cell_type": "markdown",
   "metadata": {},
   "source": [
    "##### my solution (complex, 但和找 region 的 left 和 right 的思路非常类似) 1/23/18 6:23 PM  "
   ]
  },
  {
   "cell_type": "code",
   "execution_count": 22,
   "metadata": {},
   "outputs": [
    {
     "name": "stdout",
     "output_type": "stream",
     "text": [
      "3\n",
      "3\n"
     ]
    }
   ],
   "source": [
    "# iterations method 1/23/18 6:23 PM  \n",
    "class Solution(object):\n",
    "    def searchInsert(self, nums, target):\n",
    "        \"\"\"\n",
    "        :type nums: List[int]\n",
    "        :type target: int\n",
    "        :rtype: int\n",
    "        \"\"\"\n",
    "        # 1 如果 nums 空, 则在位置 0 插入\n",
    "        if not nums:  return 0\n",
    "        if nums[0]  > target: return 0   ## ❎ 去了这个条件, 没法处理超出left, right 边界的 insert\n",
    "        if nums[-1] < target: return len(nums) ## ❤️❤️❤️ 这两个条件很重要\n",
    "        \n",
    "        # 2 do the algorithm\n",
    "        l, r = 0, len(nums) - 1\n",
    "        while l + 1 < r: # ❤️ 最终要么找到合适的 m, 要么返回 r == l + 1\n",
    "            m = l + (r - l) // 2\n",
    "            if nums[m] < target:\n",
    "                l = m \n",
    "            elif nums[m] > target:\n",
    "                r = m\n",
    "            else:\n",
    "                return m\n",
    "            \n",
    "        # 3 final check the newest l and r \n",
    "        if nums[l] == target:  # ❎ ❤️ 因为 while 循环的终止很有可能因为 l + 1 < r, 最新的 l 和 r\n",
    "            return l           # 还没有检验是否 == target, 因此这里的判断语句是非常比哟啊的.\n",
    "        elif nums[r] == target: \n",
    "            return r\n",
    "        else: return r\n",
    "\n",
    "##### testing\n",
    "print Solution ().searchInsert ([1, 2, 3, 5, 7], 5)\n",
    "print Solution ().searchInsert ([1, 2, 3, 5, 7], 4)"
   ]
  },
  {
   "cell_type": "code",
   "execution_count": null,
   "metadata": {
    "collapsed": true
   },
   "outputs": [],
   "source": [
    "# 方法2: 142_Medium_Linked List Cycle II 的思路. \n",
    "class Solution(object):\n",
    "    def findDuplicate(self, nums):\n",
    "        \"\"\"\n",
    "        :type nums: List[int]\n",
    "        :rtype: int\n",
    "        \"\"\"\n",
    "        # --- 1 the basic case ------------\n",
    "        n = len (nums)\n",
    "        if n == 0 or n == 1:  return n\n",
    "        \n",
    "        # --- 2 do the search via finding the entrance of the cycle in linked list --------\n",
    "        slow = nums[0] # ❤️❤️ 和 142 的情况不一样的地方, 相当于先走了一步.\n",
    "        fast = nums[nums[0]]\n",
    "        while fast != slow:\n",
    "            slow = nums[slow]\n",
    "            fast = nums[nums[fast]]\n",
    "        \n",
    "        new = 0 # ❤️❤️ 这才是 142 的初始化方式.\n",
    "        while slow != new:\n",
    "            new  = nums[new]\n",
    "            slow = nums[slow]\n",
    "            \n",
    "        return slow"
   ]
  },
  {
   "cell_type": "markdown",
   "metadata": {
    "collapsed": true
   },
   "source": [
    "### [❤️❤️ 4.hard_Median of Two Sorted Arrays](https://leetcode.com/problems/median-of-two-sorted-arrays/description/)\n",
    "##### 题意: 给定两个 sorted array, 快速找到 median 值.\n",
    "##### 教程1: 花花 https://www.youtube.com/watch?v=KB9IcSCDQ9k&t=205s\n",
    "##### 教程2: Edward Shi https://www.youtube.com/watch?v=do7ibYtv5nk&t=935s"
   ]
  },
  {
   "cell_type": "code",
   "execution_count": null,
   "metadata": {
    "collapsed": true
   },
   "outputs": [],
   "source": [
    "# 复杂度要求: O(log(min(m, n)))\n",
    "class Solution(object):\n",
    "    def findMedianSortedArrays(self, nums1, nums2):\n",
    "        \"\"\"\n",
    "        :type nums1: List[int]\n",
    "        :type nums2: List[int]\n",
    "        :rtype: float\n",
    "        \"\"\"\n",
    "        if len(nums1) > len(nums2):\n",
    "            return self.findMedianSortedArrays(nums2, nums1)\n",
    "\n",
    "        n1, n2 = len(nums1), len(nums2)\n",
    "        k = (n1 + n2 + 1) >> 1 # ❤️❤️ 这个有意思.\n",
    "\n",
    "        l, r = 0, n1 # ❤️❤️ 左右边界也比较有意思.\n",
    "        while l < r: # ❤️❤️ 感觉中出 nums1[m1] >= nums2[m2-1] 的最小值. 这样自然另半边也满足了.\n",
    "            m1 = l + ((r-l)>>1) \n",
    "            m2 = k - m1\n",
    "    \n",
    "            if nums1[m1] >= nums2[m2-1]: #❓为什么不管 nums1[m1-1] < nums2[m2] 的关系.\n",
    "                r = m1 # ❤️❤️ 这本身就是为了寻找满足条件的最小值, 寻找 >= 的情况 ❤️❤️\n",
    "            else:\n",
    "                l = m1 + 1\n",
    "\n",
    "        m1, m2 = l, k - l\n",
    "        MIN_VAL, MAX_VAL = float(\"-inf\"), float(\"inf\")\n",
    "        c1 = max(MIN_VAL if m1<=0 else nums1[m1-1],\n",
    "                MIN_VAL if m2<=0 else nums2[m2-1] )\n",
    "        if (n1 + n2) & 1: return c1 # ❤️❤️ 奇数情况\n",
    "\n",
    "        c2 = min(MAX_VAL if m1>=n1 else nums1[m1],\n",
    "                MAX_VAL if m2>=n2 else nums2[m2] )\n",
    "\n",
    "        return (c1 + c2) * 0.5"
   ]
  },
  {
   "cell_type": "markdown",
   "metadata": {},
   "source": [
    "## [其他]()"
   ]
  },
  {
   "cell_type": "markdown",
   "metadata": {},
   "source": [
    "### [❤️29.medium_Divide Two Integers](https://leetcode.com/problems/divide-two-integers/description/)\n",
    "##### 题目 不用乘法, 除法 和 mod 运算, 实现 两个整数之间的除法"
   ]
  },
  {
   "cell_type": "code",
   "execution_count": 23,
   "metadata": {},
   "outputs": [
    {
     "name": "stdout",
     "output_type": "stream",
     "text": [
      "2147483647\n"
     ]
    }
   ],
   "source": [
    "# ❤️ IDEA: 利用加法 和 << 1 运算, 不断将被除数分解.\n",
    "# 一旦碰到除法, 有几点注意事项:\n",
    "# 1). sign 符号\n",
    "# 2). / 0\n",
    "# 3). 越界 - (2<<31) 和 (2<<31)-1\n",
    "class Solution(object):\n",
    "    def divide(self, dividend, divisor):\n",
    "        \"\"\"\n",
    "        :type dividend: int\n",
    "        :type divisor: int\n",
    "        :rtype: int\n",
    "        \"\"\"\n",
    "        MIN_VAL, MAX_VAL = -(1<<31), (1<<31)-1\n",
    "        \n",
    "        positive = (dividend<0) == (divisor<0)\n",
    "        x, y = abs(dividend), abs(divisor)\n",
    "        if x < y or x == 0:\n",
    "            return 0\n",
    "        if y == 0: \n",
    "            return MAX_VAL if positive else MIN_VAL \n",
    "    \n",
    "        rst = 0\n",
    "        while x >= y:\n",
    "            tmp, times = y, 1\n",
    "            while x >= tmp:\n",
    "                x -= tmp\n",
    "                rst += times\n",
    "                times <<= 1\n",
    "                tmp <<= 1\n",
    "            \n",
    "        if not positive:\n",
    "            return max(-rst, MIN_VAL)\n",
    "        else:\n",
    "            return min(rst, MAX_VAL)\n",
    "                \n",
    "print Solution().divide(-2147483648, -1)"
   ]
  },
  {
   "cell_type": "markdown",
   "metadata": {},
   "source": [
    "### [❤️❤️❤️300. Longest Increasing Subsequence](https://leetcode.com/problems/longest-increasing-subsequence/description/)\n",
    "##### 题意: Given an unsorted array of integers, find the length of longest increasing subsequence.\n",
    "##### 教程: Edward Shi: https://www.youtube.com/watch?v=bmzn9PO4I10"
   ]
  },
  {
   "cell_type": "code",
   "execution_count": null,
   "metadata": {
    "collapsed": true
   },
   "outputs": [],
   "source": [
    "\"\"\"\n",
    "For example,\n",
    "Given [10, 9, 2, 5, 3, 7, 101, 18],\n",
    "The longest increasing subsequence is [2, 3, 7, 101], therefore the length is 4.\n",
    "Note that there may be more than one LIS combination, it is only necessary for you to return the length.\n",
    "\"\"\""
   ]
  },
  {
   "cell_type": "code",
   "execution_count": null,
   "metadata": {
    "collapsed": true
   },
   "outputs": [],
   "source": [
    "# ❤️IDEA❤️: 在 rst 中搜索, binary search 找到插入现行数字的位置 (大了就直接加, 小了则替代). \n",
    "# 如果 l 和 cnt 相等, 则 cnt += 1\n",
    "# Time: O(nlogn),   Space: O(n)\n",
    "class Solution(object):\n",
    "    def lengthOfLIS(self, nums):\n",
    "        \"\"\"\n",
    "        :type nums: List[int]\n",
    "        :rtype: int\n",
    "        \"\"\"\n",
    "        if not nums: return 0\n",
    "        \n",
    "        cnt = 0\n",
    "        n = len(nums)\n",
    "        dp = [0] * n\n",
    "        for x in nums:\n",
    "            l, r = 0, cnt\n",
    "            while l != r: # ❤️❤️ 因为 dp ascending lists, 排好了序, 所以可以 binary search.\n",
    "                m = l + ((r-l)>>1)\n",
    "                if dp[m] >= x: # ❤️❤️ 找到 >= 的最小值. ❤️❤️❤️ 如果这里是 >=, 可考虑相邻元素是相等的, 而不是严格递增的\n",
    "                    r = m\n",
    "                else:\n",
    "                    l = m + 1\n",
    "            dp[l] = x # ❤️❤️ \n",
    "            if l == cnt: cnt += 1 # ❤️❤️\n",
    "        return cnt"
   ]
  },
  {
   "cell_type": "markdown",
   "metadata": {},
   "source": [
    "### [❤️❤️162.med-Find Peak Element](https://leetcode.com/problems/find-peak-element/description/)\n",
    "##### 题意: A peak element is an element that is greater than its neighbors.\n",
    "* Given an input array where <span class=\"burk\">num[i] ≠ num[i+1]</span>, find a peak element and return its index."
   ]
  },
  {
   "cell_type": "code",
   "execution_count": null,
   "metadata": {
    "collapsed": true
   },
   "outputs": [],
   "source": [
    "# IDEA: 属于寻找 >= 的例子\n",
    "class Solution(object):\n",
    "    def findPeakElement(self, nums):\n",
    "        \"\"\"\n",
    "        :type nums: List[int]\n",
    "        :rtype: int\n",
    "        \"\"\"\n",
    "        if not nums: return -1\n",
    "        \n",
    "        l, r = 0, len(nums)-1\n",
    "        while l < r:\n",
    "            m = l + ((r-l)>>1)\n",
    "            if nums[m] < nums[m+1]:\n",
    "                l = m + 1\n",
    "            else:\n",
    "                r = m\n",
    "        return l       "
   ]
  },
  {
   "cell_type": "markdown",
   "metadata": {},
   "source": [
    "#### [Extend: find minimal Element]()"
   ]
  },
  {
   "cell_type": "code",
   "execution_count": 25,
   "metadata": {},
   "outputs": [
    {
     "name": "stdout",
     "output_type": "stream",
     "text": [
      "4\n"
     ]
    }
   ],
   "source": [
    "class Solution(object):\n",
    "    def findMinimalElement(self, nums):\n",
    "        \"\"\"\n",
    "        :type nums: List[int]\n",
    "        :rtype: int\n",
    "        \"\"\"\n",
    "        if not nums: return -1\n",
    "        \n",
    "        l, r = 0, len(nums)-1\n",
    "        while l < r:\n",
    "            m = l + ((r-l)>>1)\n",
    "            if nums[m] > nums[m+1]:\n",
    "                l = m + 1\n",
    "            else:\n",
    "                r = m\n",
    "        return l \n",
    "    \n",
    "print Solution().findMinimalElement([5,4,3,2,1,2,3,4,5])"
   ]
  },
  {
   "cell_type": "markdown",
   "metadata": {},
   "source": [
    "### [540.med-Single Element in a Sorted Array](https://leetcode.com/problems/single-element-in-a-sorted-array/description/)\n",
    "##### 题意: Given a sorted array consisting of only integers where every element appears twice except for one element which appears once. Find this single element that appears only once.\n",
    "* Note: Your solution should run in <span class=\"burk\">O(log n) time and O(1)  space</span>. <span class=\"mark\">看到 sorted, 看到 log(n) time, 基本就是 binary search.</span>"
   ]
  },
  {
   "cell_type": "code",
   "execution_count": null,
   "metadata": {
    "collapsed": true
   },
   "outputs": [],
   "source": [
    "\"\"\"\n",
    "Example 1:\n",
    "Input: [1,1,2,3,3,4,4,8,8]\n",
    "Output: 2\n",
    "\n",
    "Example 2:\n",
    "Input: [3,3,7,7,10,11,11]\n",
    "Output: 10\n",
    "\"\"\""
   ]
  },
  {
   "cell_type": "code",
   "execution_count": null,
   "metadata": {
    "collapsed": true
   },
   "outputs": [],
   "source": [
    "# ❤️IDEA❤️: 在出现单个之前 m(偶数位, 0, 2, 4) 和 m+1 位数字是相等的. 如果相等, 只能出现在右边.\n",
    "class Solution(object):\n",
    "    def singleNonDuplicate(self, nums):\n",
    "        \"\"\"\n",
    "        :type nums: List[int]\n",
    "        :rtype: int\n",
    "        \"\"\"\n",
    "        if not nums: return None\n",
    "        \n",
    "        l, r = 0, len(nums) - 1\n",
    "        while l < r:\n",
    "            m = l + ((r-l)>>1)\n",
    "            if m & 1: m -= 1 # ❤️❤️❤️ 一对一对地去对比, 总是让 m 是偶数 ❤️❤️❤️\n",
    "            if nums[m] == nums[m+1]:\n",
    "                l = m + 2\n",
    "            else:\n",
    "                r = m\n",
    "                \n",
    "        return nums[l]        "
   ]
  },
  {
   "cell_type": "markdown",
   "metadata": {},
   "source": [
    "### [❤️❤️287.medium-Find the Duplicate Number](https://leetcode.com/problems/find-the-duplicate-number/description/)\n",
    "##### 题意: 给定 arr 有 $n+1$ 个元素, 均在 $[1, n]$范围内, 有且只有一个元素是 duplicate. 找到这个 duplicate 的元素. 额外的要求:\n",
    "* arr 只可读, 不可写. $O(1)$ sapce, 小于等于 $O(n^2)$ time. \n",
    "* duplicate 的元素可能出现多次.\n",
    "* https://www.youtube.com/watch?v=e5AWbVTDqqI"
   ]
  },
  {
   "cell_type": "code",
   "execution_count": null,
   "metadata": {
    "collapsed": true
   },
   "outputs": [],
   "source": [
    "# IDEA: 找到 cnt > m 的最小值, 属于寻找 > 的例子.\n",
    "class Solution(object):\n",
    "    def findDuplicate(self, nums):\n",
    "        \"\"\"\n",
    "        :type nums: List[int]\n",
    "        :rtype: int\n",
    "        \"\"\"\n",
    "        if not nums: return -1\n",
    "        \n",
    "        l, r = 0, len(nums)-1\n",
    "        while l < r:\n",
    "            m = l + ((r-l)>>1)\n",
    "            cnt = 0\n",
    "            for x in nums:\n",
    "                if x<=m: cnt += 1\n",
    "        \n",
    "            if cnt <= m:\n",
    "                l = m + 1\n",
    "            else:\n",
    "                r = m\n",
    "        return l"
   ]
  },
  {
   "cell_type": "code",
   "execution_count": null,
   "metadata": {
    "collapsed": true
   },
   "outputs": [],
   "source": [
    "## 方法1: \n",
    "class Solution(object):\n",
    "    def findDuplicate(self, nums):\n",
    "        \"\"\"\n",
    "        :type nums: List[int]\n",
    "        :rtype: int\n",
    "        \"\"\"\n",
    "        # 1 the basic case ------------\n",
    "        n = len (nums)\n",
    "        if n == 0 or n == 1: return n\n",
    "        \n",
    "        # 2 do the search -------------\n",
    "        l, r = 0, n - 1\n",
    "        while l + 1 < r:\n",
    "            m = l + (r - l) / 2\n",
    "            cnt = self.countLessEqual(nums, m) # ❤️ 还是很巧妙的, 利用\n",
    "            if cnt <= m: # ❤️ 正常区域, 为啥会出现小于, 比如对于 [2,2,2], 对于 <=1 明显等于 0.\n",
    "                l = m\n",
    "            else:        # ❤️ 不正常区域, 着重查看\n",
    "                r = m  \n",
    "                \n",
    "        if self.countLessEqual(nums, l) > l: # ❤️ 不满足 l + 1 < r 的情况, 需要重新检查一下, 空白地带.\n",
    "            return l\n",
    "        elif self.countLessEqual(nums, r) > r:\n",
    "            return r\n",
    "        else: return -1 # no duplicate\n",
    "        \n",
    "    def countLessEqual(self, nums, k):\n",
    "        cnt = 0\n",
    "        for x in nums:\n",
    "            cnt += x <= k\n",
    "        return cnt"
   ]
  },
  {
   "cell_type": "markdown",
   "metadata": {},
   "source": [
    "### [实现 sqrt(n, p)]()\n",
    "##### 题意: 对一个数进行开方，precision精确到小数点后若干位（自己定义）。sqrt(n, p), return r，只要r与真实值的差的绝对值小于precision就ok。\n",
    "* 坑：小于1，小于0，等于0\n"
   ]
  },
  {
   "cell_type": "code",
   "execution_count": null,
   "metadata": {
    "collapsed": true
   },
   "outputs": [],
   "source": [
    "def mySqrt(n, p):\n",
    "    \"\"\"\n",
    "    :type n: float\n",
    "    :p: int\n",
    "    \"\"\"\n",
    "    #1 edge condition\n",
    "    if n < 0: # ❤️❤️ 如果 p 精度太高, 会出问题的. 可能就需要使用 double 或更高精度的数据类型.\n",
    "        return -1 # errors\n",
    "    elif n == 0 or n == 1: \n",
    "        return n # fixed output\n",
    "\n",
    "    #2 set the search range\n",
    "    n = float(n) # ❤️❤️ 转化成 float 型\n",
    "    if n > 1: # ❤️❤️ left 和 right 初始化的时候要 转化成 float 型.\n",
    "        l, r = 1.0, n\n",
    "    elif n < 1:\n",
    "        l, r = 0.0, 1.0\n",
    "    eps = 10.0**(-p)\n",
    "    \n",
    "    #3 search it. \n",
    "    while l <= r:\n",
    "        m = l + ((r-l) / 2)\n",
    "        y = m * m\n",
    "        if dist(y, n, eps):\n",
    "            return m\n",
    "        elif y < n: # ❤️❤️ 注意大了小了, 不需要补位 + 1.\n",
    "            l = m \n",
    "        elif y > n:\n",
    "            r = m\n",
    "    return -1       \n",
    "    \n",
    "def dist(x, y, eps):\n",
    "    return abs(x-y) < eps\n",
    "\n",
    "print mySqrt(0.8, 10)"
   ]
  }
 ],
 "metadata": {
  "kernelspec": {
   "display_name": "Python 3",
   "language": "python",
   "name": "python3"
  },
  "language_info": {
   "codemirror_mode": {
    "name": "ipython",
    "version": 3
   },
   "file_extension": ".py",
   "mimetype": "text/x-python",
   "name": "python",
   "nbconvert_exporter": "python",
   "pygments_lexer": "ipython3",
   "version": "3.7.0"
  },
  "toc": {
   "base_numbering": 1,
   "nav_menu": {},
   "number_sections": true,
   "sideBar": true,
   "skip_h1_title": true,
   "title_cell": "Table of Contents",
   "title_sidebar": "Contents",
   "toc_cell": true,
   "toc_position": {
    "height": "642px",
    "left": "0px",
    "right": "1084.28px",
    "top": "67px",
    "width": "240px"
   },
   "toc_section_display": true,
   "toc_window_display": true
  }
 },
 "nbformat": 4,
 "nbformat_minor": 2
}

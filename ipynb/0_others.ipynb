{
 "cells": [
  {
   "cell_type": "markdown",
   "metadata": {
    "toc": true
   },
   "source": [
    "<h1>Table of Contents<span class=\"tocSkip\"></span></h1>\n",
    "<div class=\"toc\" style=\"margin-top: 1em;\"><ul class=\"toc-item\"><li><span><a href=\"#Bash\" data-toc-modified-id=\"Bash-1\"><span class=\"toc-item-num\">1&nbsp;&nbsp;</span><a href=\"\" target=\"_blank\">Bash</a></a></span><ul class=\"toc-item\"><li><span><a href=\"#193.easy-Valid-Phone-Numbers\" data-toc-modified-id=\"193.easy-Valid-Phone-Numbers-1.1\"><span class=\"toc-item-num\">1.1&nbsp;&nbsp;</span><a href=\"https://leetcode.com/problems/valid-phone-numbers/description/\" target=\"_blank\">193.easy-Valid Phone Numbers</a></a></span></li><li><span><a href=\"#195.easy-Tenth-Line\" data-toc-modified-id=\"195.easy-Tenth-Line-1.2\"><span class=\"toc-item-num\">1.2&nbsp;&nbsp;</span><a href=\"https://leetcode.com/problems/tenth-line/description/\" target=\"_blank\">195.easy-Tenth Line</a></a></span></li><li><span><a href=\"#194.med-Transpose-File\" data-toc-modified-id=\"194.med-Transpose-File-1.3\"><span class=\"toc-item-num\">1.3&nbsp;&nbsp;</span><a href=\"https://leetcode.com/problems/transpose-file/description/\" target=\"_blank\">194.med-Transpose File</a></a></span></li><li><span><a href=\"#192.med-Word-Frequency\" data-toc-modified-id=\"192.med-Word-Frequency-1.4\"><span class=\"toc-item-num\">1.4&nbsp;&nbsp;</span><a href=\"https://leetcode.com/problems/word-frequency/description/\" target=\"_blank\">192.med-Word Frequency</a></a></span></li></ul></li><li><span><a href=\"#MySQL\" data-toc-modified-id=\"MySQL-2\"><span class=\"toc-item-num\">2&nbsp;&nbsp;</span><a href=\"\" target=\"_blank\">MySQL</a></a></span><ul class=\"toc-item\"><li><span><a href=\"#❓❓175.easy-Combine-Two-Tables\" data-toc-modified-id=\"❓❓175.easy-Combine-Two-Tables-2.1\"><span class=\"toc-item-num\">2.1&nbsp;&nbsp;</span><a href=\"https://leetcode.com/problems/combine-two-tables/description/\" target=\"_blank\">❓❓175.easy-Combine Two Tables</a></a></span></li><li><span><a href=\"#595.easy-Big-Countries\" data-toc-modified-id=\"595.easy-Big-Countries-2.2\"><span class=\"toc-item-num\">2.2&nbsp;&nbsp;</span><a href=\"https://leetcode.com/problems/big-countries/description/\" target=\"_blank\">595.easy-Big Countries</a></a></span></li><li><span><a href=\"#197.easy-Rising-Temperature\" data-toc-modified-id=\"197.easy-Rising-Temperature-2.3\"><span class=\"toc-item-num\">2.3&nbsp;&nbsp;</span><a href=\"https://leetcode.com/problems/rising-temperature/description/\" target=\"_blank\">197.easy-Rising Temperature</a></a></span></li><li><span><a href=\"#176.easy-Second-Highest-Salary\" data-toc-modified-id=\"176.easy-Second-Highest-Salary-2.4\"><span class=\"toc-item-num\">2.4&nbsp;&nbsp;</span><a href=\"https://leetcode.com/problems/second-highest-salary/description/\" target=\"_blank\">176.easy-Second Highest Salary</a></a></span></li><li><span><a href=\"#627.easy-Swap-Salary\" data-toc-modified-id=\"627.easy-Swap-Salary-2.5\"><span class=\"toc-item-num\">2.5&nbsp;&nbsp;</span><a href=\"https://leetcode.com/problems/swap-salary/description/\" target=\"_blank\">627.easy-Swap Salary</a></a></span></li></ul></li></ul></div>"
   ]
  },
  {
   "cell_type": "markdown",
   "metadata": {},
   "source": [
    "# Math"
   ]
  },
  {
   "cell_type": "markdown",
   "metadata": {},
   "source": [
    "## [Bash]()"
   ]
  },
  {
   "cell_type": "markdown",
   "metadata": {},
   "source": [
    "### [193.easy-Valid Phone Numbers](https://leetcode.com/problems/valid-phone-numbers/description/)"
   ]
  },
  {
   "cell_type": "markdown",
   "metadata": {},
   "source": [
    "### [195.easy-Tenth Line](https://leetcode.com/problems/tenth-line/description/)"
   ]
  },
  {
   "cell_type": "markdown",
   "metadata": {},
   "source": [
    "### [194.med-Transpose File](https://leetcode.com/problems/transpose-file/description/)"
   ]
  },
  {
   "cell_type": "markdown",
   "metadata": {},
   "source": [
    "### [192.med-Word Frequency](https://leetcode.com/problems/word-frequency/description/)"
   ]
  },
  {
   "cell_type": "markdown",
   "metadata": {},
   "source": [
    "## [MySQL]()"
   ]
  },
  {
   "cell_type": "markdown",
   "metadata": {},
   "source": [
    "### [❓❓175.easy-Combine Two Tables](https://leetcode.com/problems/combine-two-tables/description/)"
   ]
  },
  {
   "cell_type": "code",
   "execution_count": null,
   "metadata": {
    "collapsed": true
   },
   "outputs": [],
   "source": [
    "SELECT Person.FirstName, Person.LastName, Address.City, Address.State\n",
    " from Person LEFT JOIN Address on Person.PersonId = Address.PersonId;"
   ]
  },
  {
   "cell_type": "markdown",
   "metadata": {},
   "source": [
    "### [595.easy-Big Countries](https://leetcode.com/problems/big-countries/description/)"
   ]
  },
  {
   "cell_type": "markdown",
   "metadata": {},
   "source": [
    "### [197.easy-Rising Temperature](https://leetcode.com/problems/rising-temperature/description/)"
   ]
  },
  {
   "cell_type": "markdown",
   "metadata": {},
   "source": [
    "### [176.easy-Second Highest Salary](https://leetcode.com/problems/second-highest-salary/description/)"
   ]
  },
  {
   "cell_type": "markdown",
   "metadata": {},
   "source": [
    "### [627.easy-Swap Salary](https://leetcode.com/problems/swap-salary/description/)"
   ]
  }
 ],
 "metadata": {
  "kernelspec": {
   "display_name": "Python 2",
   "language": "python",
   "name": "python2"
  },
  "language_info": {
   "codemirror_mode": {
    "name": "ipython",
    "version": 2
   },
   "file_extension": ".py",
   "mimetype": "text/x-python",
   "name": "python",
   "nbconvert_exporter": "python",
   "pygments_lexer": "ipython2",
   "version": "2.7.13"
  },
  "toc": {
   "nav_menu": {},
   "number_sections": true,
   "sideBar": true,
   "skip_h1_title": true,
   "toc_cell": true,
   "toc_position": {
    "height": "642px",
    "left": "0px",
    "right": "1084.28px",
    "top": "67px",
    "width": "195px"
   },
   "toc_section_display": "block",
   "toc_window_display": true
  }
 },
 "nbformat": 4,
 "nbformat_minor": 2
}

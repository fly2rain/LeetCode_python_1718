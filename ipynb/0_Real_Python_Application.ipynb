{
 "cells": [
  {
   "cell_type": "markdown",
   "metadata": {},
   "source": [
    "# Notes on Real Python Applications\n",
    "## about module path"
   ]
  },
  {
   "cell_type": "code",
   "execution_count": 15,
   "metadata": {},
   "outputs": [
    {
     "name": "stdout",
     "output_type": "stream",
     "text": [
      "/Users/f0z00qt/fyzhu/Github/LeetCode_python_1718/ipynb\n",
      "----------- \n",
      "\n",
      "['', '/anaconda3/lib/python36.zip', '/anaconda3/lib/python3.6', '/anaconda3/lib/python3.6/lib-dynload', '/anaconda3/lib/python3.6/site-packages', '/anaconda3/lib/python3.6/site-packages/aeosa', '/anaconda3/lib/python3.6/site-packages/IPython/extensions', '/Users/f0z00qt/.ipython', '/Users/f0z00qt/fyzhu/Github/LeetCode_python_1718/ipynb/tmp/', '/Users/f0z00qt/fyzhu/Github/LeetCode_python_1718/ipynb/tmp/', '/Users/f0z00qt/fyzhu/Github/LeetCode_python_1718/ipynb/tmp/']\n",
      "\n",
      " ----------- \n",
      "\n",
      "['', '/anaconda3/lib/python36.zip', '/anaconda3/lib/python3.6', '/anaconda3/lib/python3.6/lib-dynload', '/anaconda3/lib/python3.6/site-packages', '/anaconda3/lib/python3.6/site-packages/aeosa', '/anaconda3/lib/python3.6/site-packages/IPython/extensions', '/Users/f0z00qt/.ipython', '/Users/f0z00qt/fyzhu/Github/LeetCode_python_1718/ipynb/tmp/', '/Users/f0z00qt/fyzhu/Github/LeetCode_python_1718/ipynb/tmp/', '/Users/f0z00qt/fyzhu/Github/LeetCode_python_1718/ipynb/tmp/', '/Users/f0z00qt/fyzhu/Github/LeetCode_python_1718/ipynb/tmp/']\n",
      "\n",
      " ----------- \n",
      "\n"
     ]
    }
   ],
   "source": [
    "import sys\n",
    "import os\n",
    "\n",
    "# 1. get the current path\n",
    "filePath = os.path.dirname(os.path.abspath(\"__file__\"))\n",
    "print(filePath) # print current path\n",
    "print(\"\\n\n",
    "----------- \\n\")\n",
    "print(sys.path) # print the system paths \n",
    "print(\"\\n ----------- \\n\")\n",
    "\n",
    "# 2. add specific path to the system path, 为了加入指定路径的 module，便于其他地方访问，往往需要加入到 sys.path 中\n",
    "sys.path.append(filePath + \"/tmp/\") \n",
    "print(sys.path)\n",
    "print(\"\\n ----------- \\n\")"
   ]
  },
  {
   "cell_type": "code",
   "execution_count": null,
   "metadata": {},
   "outputs": [],
   "source": []
  }
 ],
 "metadata": {
  "kernelspec": {
   "display_name": "Python 3",
   "language": "python",
   "name": "python3"
  },
  "language_info": {
   "codemirror_mode": {
    "name": "ipython",
    "version": 3
   },
   "file_extension": ".py",
   "mimetype": "text/x-python",
   "name": "python",
   "nbconvert_exporter": "python",
   "pygments_lexer": "ipython3",
   "version": "3.6.5"
  },
  "toc": {
   "base_numbering": 1,
   "nav_menu": {},
   "number_sections": true,
   "sideBar": true,
   "skip_h1_title": false,
   "title_cell": "Table of Contents",
   "title_sidebar": "Contents",
   "toc_cell": false,
   "toc_position": {},
   "toc_section_display": true,
   "toc_window_display": false
  }
 },
 "nbformat": 4,
 "nbformat_minor": 2
}

{
 "cells": [
  {
   "cell_type": "markdown",
   "metadata": {},
   "source": [
    "# 198.easy_House_Robber\n",
    "### 链接\n",
    "* [**Tags: Top 100 Liked Questions + Dynamic Programming**](https://leetcode.com/problemset/algorithms/?listId=79h8rn6&topicSlugs=dynamic-programming)\n",
    "* 题目：https://leetcode.com/problems/house-robber/description/\n",
    "\n",
    "\n",
    "### 题意\n",
    "* 抢劫一排别墅，别墅中的钱数放在 array 中。因为安装了报警系统，如果一晚上两个相邻别墅都被抢劫则报警。\n",
    "* 目标：抢劫最多的钱而不引起金宝。\n",
    "\n",
    "### 分析\n",
    "* 所以 index 不能只加 1. 加 2 是个好主意，但有时可能要加 3.\n",
    "* https://leetcode.com/problems/house-robber/solution/\n",
    "* https://leetcode.com/problems/house-robber/discuss/\n",
    "\n",
    "### 编程经验\n",
    "\n",
    "```python\n",
    "```"
   ]
  },
  {
   "cell_type": "markdown",
   "metadata": {},
   "source": [
    "# Method #1"
   ]
  },
  {
   "cell_type": "code",
   "execution_count": null,
   "metadata": {
    "collapsed": true
   },
   "outputs": [],
   "source": []
  },
  {
   "cell_type": "code",
   "execution_count": null,
   "metadata": {
    "collapsed": true
   },
   "outputs": [],
   "source": [
    "if __name__ == '__main__'\n",
    "print Solution ()."
   ]
  },
  {
   "cell_type": "markdown",
   "metadata": {},
   "source": [
    "# Method #2"
   ]
  }
 ],
 "metadata": {
  "kernelspec": {
   "display_name": "Python 2",
   "language": "python",
   "name": "python2"
  },
  "language_info": {
   "codemirror_mode": {
    "name": "ipython",
    "version": 2
   },
   "file_extension": ".py",
   "mimetype": "text/x-python",
   "name": "python",
   "nbconvert_exporter": "python",
   "pygments_lexer": "ipython2",
   "version": "2.7.13"
  }
 },
 "nbformat": 4,
 "nbformat_minor": 2
}

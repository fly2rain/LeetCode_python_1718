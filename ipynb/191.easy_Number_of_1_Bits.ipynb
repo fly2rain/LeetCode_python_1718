{
 "cells": [
  {
   "cell_type": "markdown",
   "metadata": {},
   "source": [
    "# 191.easy_Number_of_1_Bits\n",
    "\n",
    "* 题目：https://leetcode.com/problems/number-of-1-bits/description/\n",
    "* \n",
    "\n",
    "### 题意\n",
    "* Given an array of size n, find the majority element. The majority element is the element that appears more than ⌊ n/2 ⌋ times.\n",
    "* Assumptions: the array is non-empty and the majority element always exist in the array.\n",
    "\n",
    "### 知识点\n",
    "* **Hamming weight，population count, popcount, sideways sum or bit summation** https://en.wikipedia.org/wiki/Hamming_weight.\n",
    "    * It is thus equivalent to the Hamming distance from the all-zero string of the same length. \n",
    "    * For the most typical case, a string of bits, this is the number of 1's in the string, or the digit sum of the binary representation of a given number and the ℓ₁ norm of a bit vector.\n",
    "\n",
    "### 编程经验\n",
    "``` python\n",
    "# # 移位操作 ---------\n",
    "1 << 3 # 8\n",
    "1 << 1 # 2\n",
    "1 << 2 # 4\n",
    "\n",
    "a >> 1 # 等价于 a / 2, 这里 a 是非负整数。\n",
    "```"
   ]
  },
  {
   "cell_type": "markdown",
   "metadata": {},
   "source": [
    "# Method #1"
   ]
  },
  {
   "cell_type": "code",
   "execution_count": null,
   "metadata": {
    "collapsed": true
   },
   "outputs": [],
   "source": [
    "class Solution(object):\n",
    "    def hammingWeight(self, n):\n",
    "        \"\"\"\n",
    "        :type n: int\n",
    "        :rtype: int\n",
    "        \"\"\"\n",
    "        cnt = 0\n",
    "        if n <= 0:\n",
    "            return cnt\n",
    "        \n",
    "        while n:\n",
    "            cnt += n % 2\n",
    "            n /= 2\n",
    "        \n",
    "        return cnt"
   ]
  },
  {
   "cell_type": "code",
   "execution_count": null,
   "metadata": {
    "collapsed": true
   },
   "outputs": [],
   "source": [
    "if __name__ == '__main__'\n",
    "print Solution ()."
   ]
  },
  {
   "cell_type": "markdown",
   "metadata": {},
   "source": [
    "# Method #2\n",
    "* recursive method\n",
    "* 不适合 D & P. 如果计算 $0 \\leq i \\leq n$ 比较适合 D & P, 请参照 338.medium_Counting_Bits"
   ]
  },
  {
   "cell_type": "code",
   "execution_count": null,
   "metadata": {
    "collapsed": true
   },
   "outputs": [],
   "source": [
    "class Solution(object):\n",
    "    def hammingWeight(self, n):\n",
    "        \"\"\"\n",
    "        :type n: int\n",
    "        :rtype: int\n",
    "        \"\"\"\n",
    "\n",
    "        "
   ]
  }
 ],
 "metadata": {
  "kernelspec": {
   "display_name": "Python 2",
   "language": "python",
   "name": "python2"
  },
  "language_info": {
   "codemirror_mode": {
    "name": "ipython",
    "version": 2
   },
   "file_extension": ".py",
   "mimetype": "text/x-python",
   "name": "python",
   "nbconvert_exporter": "python",
   "pygments_lexer": "ipython2",
   "version": "2.7.13"
  }
 },
 "nbformat": 4,
 "nbformat_minor": 2
}

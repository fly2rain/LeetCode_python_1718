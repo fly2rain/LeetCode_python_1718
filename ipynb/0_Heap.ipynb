{
 "cells": [
  {
   "cell_type": "markdown",
   "metadata": {
    "toc": true
   },
   "source": [
    "<h1>Table of Contents<span class=\"tocSkip\"></span></h1>\n",
    "<div class=\"toc\" style=\"margin-top: 1em;\"><ul class=\"toc-item\"><li><span><a href=\"#基本知识总结-(Heap)\" data-toc-modified-id=\"基本知识总结-(Heap)-1\"><span class=\"toc-item-num\">1&nbsp;&nbsp;</span>基本知识总结 (Heap)</a></span><ul class=\"toc-item\"><li><span><a href=\"#Abstract:\" data-toc-modified-id=\"Abstract:-1.1\"><span class=\"toc-item-num\">1.1&nbsp;&nbsp;</span>Abstract:</a></span></li><li><span><a href=\"#heapq-—-Heap-queue-algorithm\" data-toc-modified-id=\"heapq-—-Heap-queue-algorithm-1.2\"><span class=\"toc-item-num\">1.2&nbsp;&nbsp;</span>heapq — Heap queue algorithm</a></span></li><li><span><a href=\"#Quickselect\" data-toc-modified-id=\"Quickselect-1.3\"><span class=\"toc-item-num\">1.3&nbsp;&nbsp;</span><a href=\"\" target=\"_blank\">Quickselect</a></a></span></li><li><span><a href=\"#Heapq-complexity\" data-toc-modified-id=\"Heapq-complexity-1.4\"><span class=\"toc-item-num\">1.4&nbsp;&nbsp;</span><a href=\"https://stackoverflow.com/questions/38806202/whats-the-time-complexity-of-functions-in-heapq-library\" target=\"_blank\">Heapq complexity</a></a></span></li></ul></li><li><span><a href=\"#2/13\" data-toc-modified-id=\"2/13-2\"><span class=\"toc-item-num\">2&nbsp;&nbsp;</span><a href=\"\" target=\"_blank\">2/13</a></a></span><ul class=\"toc-item\"><li><span><a href=\"#❤️215.medium-Kth-Largest-Element-in-an-Array\" data-toc-modified-id=\"❤️215.medium-Kth-Largest-Element-in-an-Array-2.1\"><span class=\"toc-item-num\">2.1&nbsp;&nbsp;</span><a href=\"https://leetcode.com/problems/kth-largest-element-in-an-array/description/\" target=\"_blank\">❤️215.medium-Kth Largest Element in an Array</a></a></span></li><li><span><a href=\"#❤️378.medium-Kth-Smallest-Element-in-a-Sorted-Matrix\" data-toc-modified-id=\"❤️378.medium-Kth-Smallest-Element-in-a-Sorted-Matrix-2.2\"><span class=\"toc-item-num\">2.2&nbsp;&nbsp;</span><a href=\"https://leetcode.com/problems/kth-smallest-element-in-a-sorted-matrix/description/\" target=\"_blank\">❤️378.medium-Kth Smallest Element in a Sorted Matrix</a></a></span></li><li><span><a href=\"#347.medium-Top-K-Frequent-Elements\" data-toc-modified-id=\"347.medium-Top-K-Frequent-Elements-2.3\"><span class=\"toc-item-num\">2.3&nbsp;&nbsp;</span><a href=\"https://leetcode.com/problems/top-k-frequent-elements/description/\" target=\"_blank\">347.medium-Top K Frequent Elements</a></a></span></li><li><span><a href=\"#692.medium-Top-K-Frequent-Words\" data-toc-modified-id=\"692.medium-Top-K-Frequent-Words-2.4\"><span class=\"toc-item-num\">2.4&nbsp;&nbsp;</span><a href=\"https://leetcode.com/problems/top-k-frequent-words/description/\" target=\"_blank\">692.medium-Top K Frequent Words</a></a></span></li><li><span><a href=\"#23_hard-merge-k-Sorted-Lists\" data-toc-modified-id=\"23_hard-merge-k-Sorted-Lists-2.5\"><span class=\"toc-item-num\">2.5&nbsp;&nbsp;</span><a href=\"https://leetcode.com/problems/merge-k-sorted-lists/\" target=\"_blank\">23_hard-merge k Sorted Lists</a></a></span></li></ul></li><li><span><a href=\"#2/17\" data-toc-modified-id=\"2/17-3\"><span class=\"toc-item-num\">3&nbsp;&nbsp;</span><a href=\"\" target=\"_blank\">2/17</a></a></span><ul class=\"toc-item\"><li><span><a href=\"#239.hard-Sliding-Window-Maximum\" data-toc-modified-id=\"239.hard-Sliding-Window-Maximum-3.1\"><span class=\"toc-item-num\">3.1&nbsp;&nbsp;</span><a href=\"https://leetcode.com/problems/sliding-window-maximum/description/\" target=\"_blank\">239.hard-Sliding Window Maximum</a></a></span></li><li><span><a href=\"#❓218.hard-The-Skyline-Problem\" data-toc-modified-id=\"❓218.hard-The-Skyline-Problem-3.2\"><span class=\"toc-item-num\">3.2&nbsp;&nbsp;</span><a href=\"https://leetcode.com/problems/the-skyline-problem/description/\" target=\"_blank\">❓218.hard-The Skyline Problem</a></a></span></li></ul></li></ul></div>"
   ]
  },
  {
   "cell_type": "markdown",
   "metadata": {},
   "source": [
    "# Heap\n",
    "* 题型: [Top 100 Liked Questions + Heap](https://leetcode.com/problemset/algorithms/?topicSlugs=heap&listId=79h8rn6)\n",
    "* 题型: [Heap](https://leetcode.com/tag/heap/)"
   ]
  },
  {
   "cell_type": "markdown",
   "metadata": {},
   "source": [
    "## 基本知识总结 (Heap)"
   ]
  },
  {
   "cell_type": "markdown",
   "metadata": {},
   "source": [
    "* Wiki link: https://en.wikipedia.org/wiki/Heap_(data_structure)\n",
    "\n",
    "### Abstract:\n",
    "\n",
    "* In computer science, a **heap** is a specialized **tree-based** data structure that satisfies the **heap property**:\n",
    "    * **heap property**: if $P$ is a parent node of $C$,\n",
    "        - then the key (the value) of $P$ is either greater than or equal to (in a max heap) the key of $C$.\n",
    "        - or less than or equal to (in a min heap) the key of $C$.\n",
    "    - **图例**: Example of a binary __max-heap (看来还有 min-heap)__ with node keys being integers from 1 to 100\n",
    "        ![Example](https://upload.wikimedia.org/wikipedia/commons/thumb/3/38/Max-Heap.svg/320px-Max-Heap.svg.png)\n",
    "        \n",
    "    - **基本概念**: The node at the \"top\" of the heap (with no parents) is called the root node.\n",
    "    \n",
    "    - **用途-priority queue**: \n",
    "        - The heap is one **maximally efficient implementation** of an abstract data type called a **priority queue**, and in fact priority queues are often referred to as \"heaps\", regardless of how they may be implemented. \n",
    "    - **实现方式-binary heap/tree** : A common implementation of a heap is the binary heap, in which the tree is a binary tree (see figure)\n",
    "    \n",
    "\n",
    "- 性质:\n",
    "    - In a heap, the highest (or lowest) priority element is always stored at the root. A heap is __not a sorted__ structure and can be regarded as **partially ordered**.\n",
    "    - When a heap is a **complete binary tree**, it has a smallest possible height—a heap with N nodes and for each node $a$ branches always has $log_a N$ height.\n",
    "    - A heap is a useful data structure when you need to remove the object with the highest (or lowest) priority.\n",
    "    - The maximum number of children each node can have depends on the type of heap, but in many types it is at most two, which is known as a __binary heap__.\n",
    "    - Example of a complete binary max-heap with node keys being integers from 1 to 100 and how it would be stored in an array. https://en.wikipedia.org/wiki/Heap_(data_structure)#/media/File:Heap-as-array.svg\n",
    "    - Heaps are __usually implemented in an array__ (fixed size or dynamic array), and __do not require pointers between elements__. [具体查看 wiki 链接 的 Implementation 部分]."
   ]
  },
  {
   "cell_type": "markdown",
   "metadata": {},
   "source": [
    "### heapq — Heap queue algorithm\n",
    "Python LINK: https://docs.python.org/2/library/heapq.html\n",
    "\n",
    "\n",
    "\n",
    "- 以讨论 __heap queue__ algorithm,  also known as the __priority queue__ algorithm. 这里 priority 指的是 heap, 即 min or max.\n",
    "\n",
    "- Heaps property:\n",
    "    - heaps are binary trees where every parent node has a value less than or equal to any of its children. \n",
    "    - $heap[k] \\leq heap[2k + 1]$ and $heap[k] \\leq heap[2k + 2]$, for all $k$, __counting elements from zero__.\n",
    "    \n",
    "- Two differences from the textbook:\n",
    "    - We use __zero-based indexing__. This makes the relationship between the index for a node and the indexes for its children slightly less obvious, but is more suitable since Python uses zero-based indexing.\n",
    "    - Our pop method returns the smallest item, not the largest (called a “min heap” in textbooks; a “max heap” is more common in texts because of its suitability for in-place sorting).\n",
    " \n",
    "- These two make it possible to view the heap as a __regular Python list__ without surprises: __heap[0]__ is the smallest item, and __heap.sort()__ maintains the heap invariant (不变量), 其实 heap 是almost sorted的例子, 因此用insert sort是很合适的, 估计是 $O(n)$ runtime! \n",
    "    - To create a heap, use a list initialized to __[ ]__, \n",
    "    - or you can transform a populated list into a heap via function __heapify()__."
   ]
  },
  {
   "cell_type": "code",
   "execution_count": null,
   "metadata": {
    "collapsed": true
   },
   "outputs": [],
   "source": [
    "heapq.heappush(heap, item)\n",
    "# Push the value item onto the heap, maintaining the heap invariant.\n",
    "\n",
    "heapq.heappop(heap)\n",
    "# Pop and return the smallest item from the heap, maintaining the heap invariant.\n",
    "# If the heap is empty, IndexError is raised. To access the smallest item without \n",
    "# popping it, use heap[0].\n",
    "\n",
    "heapq.heappushpop(heap, item)\n",
    "# Push item on the heap, then pop and return the smallest item from the heap.\n",
    "# The combined action runs more efficiently than heappush() followed by a separate\n",
    "# call to heappop().\n",
    "\n",
    "heapq.heapify(x)\n",
    "# Transform list x into a heap, in-place, in linear time.\n",
    "\n",
    "heapq.heapreplace(heap, item)\n",
    "# Pop and return the smallest item from the heap, and als\n",
    "\n",
    "heapq.nsmallest(n, iterable[, key])o push the new item. \n",
    "# The heap size doesn’t change. If the heap is empty, IndexError is raised.\n",
    "#　This one step operation is more efficient than a heappop() followed by heappush()\n",
    "# and can be more appropriate when using a fixed-size heap.\n",
    "# 类似于　heapq.heappushpop(heap, item)\n",
    "\n",
    "heapq.merge(*iterables)\n",
    "# Merge multiple sorted inputs into a single sorted output.  \n",
    "# Returns an iterator over the sorted values.\n",
    "\n",
    "heapq.nsmallest(n, iterable[, key])\n",
    "heapq.nlargest(n, iterable[, key])\n",
    "# Return a list with the n smallest elements from the dataset \n",
    "# defined by iterable. key, if provide"
   ]
  },
  {
   "cell_type": "markdown",
   "metadata": {},
   "source": [
    "##### A heapsort can be implemented by <span class=\"girk\">pushing all values onto a heap</span> and then <span class=\"girk\">popping off the smallest values one at a time</span>."
   ]
  },
  {
   "cell_type": "code",
   "execution_count": 1,
   "metadata": {},
   "outputs": [
    {
     "name": "stdout",
     "output_type": "stream",
     "text": [
      "[0, 1, 2, 3, 4, 5, 6, 7, 8, 9]\n",
      "[0, 1, 2, 3, 4, 5, 6, 7, 8, 9]\n",
      "[0, 1, 2, 3, 4, 5, 6, 7, 8, 9]\n"
     ]
    }
   ],
   "source": [
    "from heapq import heappush, heappop, heapify\n",
    "\n",
    "def heapsort(iterable):\n",
    "    heap = []\n",
    "    for value in iterable:    # ❤️❤️ 利用 heappush 创建 heap. 在新创建的 list 新建 heap.\n",
    "        heappush(heap, value) # 这样需要双份存储的要求, 一份用于新建 heap, 一份用于存放 sorted list.\n",
    "    return [heappop(heap) for i in range(len(heap))]\n",
    "\n",
    "def heapsort2 (nums):\n",
    "    heap = [ ]\n",
    "    heapify(nums)  # ❤️ 利用 heapify 创建 heap. 对输入 list 改变, 对于只可读的情况不大好.\n",
    "    tmp = [heappop(nums) for i in xrange(len(nums)) ]  # 需要一份存储最终 sorted list.\n",
    "    return tmp\n",
    "\n",
    "print heapsort   ([1, 3, 5, 7, 9, 2, 4, 6, 8, 0])\n",
    "print heapsort2 ([1, 3, 5, 7, 9, 2, 4, 6, 8, 0])"
   ]
  },
  {
   "cell_type": "code",
   "execution_count": null,
   "metadata": {
    "collapsed": true
   },
   "outputs": [],
   "source": [
    ">>> from heapq import heappush, heappop\n",
    ">>> heap = []\n",
    ">>> data = [1, 3, 5, 7, 9, 2, 4, 6, 8, 0]\n",
    "\n",
    ">>> for item in data:\n",
    "...     heappush(heap, item)\n",
    "\n",
    ">>> ordered = []\n",
    ">>> while heap:\n",
    "...     ordered.append(heappop(heap))\n",
    ">>> ordered = [heappop(heap) for i in xrange(len(heap)) ]\n",
    "\n",
    "\n",
    "## Using a heap to insert items at the correct place in a priority queue:\n",
    ">>> heap = []\n",
    ">>> data = [(1, 'J'), (4, 'N'), (3, 'H'), (2, 'O')]\n",
    ">>> for item in data:\n",
    "...     heappush(heap, item)\n",
    "...\n",
    ">>> while heap:\n",
    "...     print(heappop(heap)[1])\n",
    "J\n",
    "O\n",
    "H\n",
    "N"
   ]
  },
  {
   "cell_type": "markdown",
   "metadata": {},
   "source": [
    "### [Quickselect]()\n",
    "* https://en.wikipedia.org/wiki/Quickselect\n",
    "\n",
    "* <span class=\"burk\">目的</span>: quickselect is a selection algorithm to find the <span class=\"girk\">kth smallest element</span> in an unordered list.\n",
    "* <span class=\"burk\"><span class=\"burk\">特性</span></span>: it is <span class=\"girk\">efficient in practice</span> and <span class=\"girk\">has good average-case performance</span>, but <span class=\"girk\">has poor worst-case performance</span>. \n",
    "* <span class=\"burk\">特性:</span> As with quicksort, quickselect is generally implemented as an <span class=\"girk\">in-place algorithm</span>, and beyond selecting the k'th element, it also partially sorts the data.\n",
    "* <span class=\"burk\">具体内容 (quicksort 和 quick select的关系)</span>: \n",
    "    * Quickselect uses the same overall approach as quicksort, <span class=\"girk\">choosing</span> one element as a pivot and <span class=\"girk\">partitioning</span> the data in two based on the pivot, accordingly as less than or greater than the pivot. \n",
    "    * However, instead of recursing into both sides, as in quicksort, <span class=\"girk\">quickselect only recurses into one side</span> – the side with the element it is searching for. This reduces the average complexity from $O(n log n)$ to $O(n)$, with a <span class=\"girk\">worst case of</span> $O(n^2)$.\n",
    "    * Quickselect is <span class=\"girk\">sensitive to the pivot</span> that is chosen. If good pivots are chosen, meaning ones that consistently decrease the search set by a given fraction, then the search set decreases in size exponentially and by induction (or summing the geometric series) one sees that performance is linear, as each step is linear and the overall time is a constant times this (depending on how quickly the search set reduces).\n",
    "    * However, if bad pivots are consistently chosen, such as <span class=\"girk\">decreasing by only a single element each time</span>, then worst-case performance is quadratic: $O(n^2)$. This occurs for example in searching for the maximum element of a set, using the first element as the pivot, and having sorted data."
   ]
  },
  {
   "cell_type": "markdown",
   "metadata": {},
   "source": [
    "### [Heapq complexity](https://stackoverflow.com/questions/38806202/whats-the-time-complexity-of-functions-in-heapq-library)\n",
    "* <span class=\"girk\">heapq</span> is a <span class=\"girk\">binary heap</span>, with <span class=\"girk\">O(log n) to push</span> and <span class=\"girk\">O(log n) to pop</span>.\n",
    "\n",
    "* The algorithm you show takes \n",
    "    * $O(n log n)$ <span class=\"girk\">time</span>, $O(n)$ <span class=\"girk\">space</span> to push all the items onto the heap.\n",
    "    * and then <span class=\"girk\">$O((n-k) log n)$ to find the kth largest element</span>. \n",
    "    \n",
    "* You can <span class=\"girk\">reduce time to O(n log k)</span>, using <span class=\"girk\">O(k) extra space</span> by modifying the algorithm slightly."
   ]
  },
  {
   "cell_type": "code",
   "execution_count": null,
   "metadata": {
    "collapsed": true
   },
   "outputs": [],
   "source": [
    "import heapq\n",
    "def findKthLargest(nums, k):\n",
    "    if not nums: return -1\n",
    "    \n",
    "    hq = []\n",
    "    for x in nums:\n",
    "        heapq.heappush(hq, x) # ❤️ takes O(logk) to push\n",
    "        if len(hq) > k: heapq.heappop(hq) # ❤️ takes O(logk) to pop.\n",
    "    return heapq.heappop(hq)"
   ]
  },
  {
   "cell_type": "markdown",
   "metadata": {},
   "source": [
    "## [2/13]()"
   ]
  },
  {
   "cell_type": "markdown",
   "metadata": {},
   "source": [
    "### [❤️215.medium-Kth Largest Element in an Array](https://leetcode.com/problems/kth-largest-element-in-an-array/description/)\n",
    "##### 题意(❤️非常重要): Find the <span class=\"girk\">kth largest element</span> in an unsorted array. \n",
    "* Note that it is the kth largest element in the sorted order, not the kth distinct element.\n",
    "* For example, given $[3,2,1,5,6,4]$ and $k = 2$, return $5$.\n",
    "* Note: you may assume k is always valid, 1 ≤ k ≤ array's length.\n",
    "\n",
    "##### 两种算法 (非常重要❤️❤️)\n",
    "* Quickselect\n",
    "* Priory queue.\n",
    "* Edward Shi: https://www.youtube.com/watch?v=ow04KXJ0kG4"
   ]
  },
  {
   "cell_type": "code",
   "execution_count": null,
   "metadata": {
    "collapsed": true
   },
   "outputs": [],
   "source": [
    "# 方法0: heapq 方法, time O(nlogk), space O(k)\n",
    "# ❤️❤️❤️❤️❤️ 👍👍👍👍👍  太没天理了吧, 也太简单了. 而且比 quickselect 快太多了, 太多了. \n",
    "import heapq\n",
    "class Solution(object):\n",
    "    def findKthLargest(self, nums, k):\n",
    "        q = []\n",
    "        for x in nums:\n",
    "            heapq.heappush(q, x)\n",
    "            if len(q) > k: heapq.heappop(q) # ❤️❤️ 保持 q 不占用太多空间的关键.\n",
    "        return heapq.heappop(q)"
   ]
  },
  {
   "cell_type": "code",
   "execution_count": null,
   "metadata": {
    "collapsed": true
   },
   "outputs": [],
   "source": [
    "# 方法0.5: quickselect iteration, time O(n), space O(1), 简化版本.\n",
    "# : 和 quicksort 类似, 只是\n",
    "class Solution(object):\n",
    "    def findKthLargest(self, nums, k):\n",
    "        \"\"\"\n",
    "        :type nums: List[int]\n",
    "        :type k: int\n",
    "        :rtype: int\n",
    "        \"\"\"\n",
    "        if not nums: return -1\n",
    "        l, r = 0, len(nums)-1\n",
    "        \n",
    "        while l < r: ## 注意终止条件\n",
    "            pivot = self.partition(nums, l, r)\n",
    "            if pivot + 1 < k: # k 是计数, 转化成 index.\n",
    "                l = pivot + 1\n",
    "            elif pivot + 1 > k: # k 是计数, 转化成 index.\n",
    "                r = pivot - 1\n",
    "            else: break\n",
    "        return nums[k-1] # k 是计数, 转化成 index.\n",
    "            \n",
    "    def partition(self, nums, l, r): # 这里的 partition 和 quicksort 的类似.\n",
    "        for i in xrange(l, r):\n",
    "            if nums[i] < nums[r]: continue\n",
    "            nums[i], nums[l] = nums[l], nums[i]\n",
    "            l += 1\n",
    "        nums[l], nums[r] = nums[r], nums[l]\n",
    "        return l\n"
   ]
  },
  {
   "cell_type": "code",
   "execution_count": 19,
   "metadata": {},
   "outputs": [
    {
     "name": "stdout",
     "output_type": "stream",
     "text": [
      "10\n"
     ]
    }
   ],
   "source": [
    "# 方法1: quickselect ❤️❤️iteration❤️❤️, time O(n), space O(1)\n",
    "# : 和 quicksort 类似, 只是\n",
    "class Solution(object):\n",
    "    def findKthLargest(self, nums, k):\n",
    "        \"\"\"\n",
    "        :type nums: List[int]\n",
    "        :type k: int\n",
    "        :rtype: int\n",
    "        \"\"\"\n",
    "        if not nums: return -1\n",
    "        return self.quickSelect(nums, 0, len(nums)-1, k)\n",
    "        \n",
    "    def quickSelect(self, nums, l, r, k): # ❤️ \n",
    "        if not nums: return -1\n",
    "        while l < r: ## 👍 注意终止条件\n",
    "            pivot = self.partition(nums, l, r)\n",
    "            if pivot + 1 < k: # ❤️ k 是计数, 转化成 index.\n",
    "                l = pivot + 1\n",
    "            elif pivot + 1 > k: # ❤️ k 是计数, 转化成 index.\n",
    "                r = pivot - 1\n",
    "            else: break\n",
    "        return nums[k-1] # ❤️ k 是计数, 转化成 index.\n",
    "            \n",
    "    def partition(self, nums, l, r): # ❤️ 这里的 partition 和 quicksort 的类似.\n",
    "        for i in xrange(l, r):\n",
    "            if nums[i] < nums[r]: continue\n",
    "            self.swap(nums, i, l)\n",
    "            l += 1\n",
    "        self.swap(nums, l, r)\n",
    "        return l\n",
    "    \n",
    "    def swap(self, nums, i, j):\n",
    "        nums[i], nums[j] = nums[j], nums[i]\n",
    "        \n",
    "print  Solution().findKthLargest([3,6,8,10,1,2,1], 1)"
   ]
  },
  {
   "cell_type": "code",
   "execution_count": null,
   "metadata": {
    "collapsed": true
   },
   "outputs": [],
   "source": [
    "# 方法2: quickselect, recursive. time O(n), space O(1)\n",
    "class Solution(object):\n",
    "    def findKthLargest(self, nums, k):\n",
    "        \"\"\"\n",
    "        :type nums: List[int]\n",
    "        :type k: int\n",
    "        :rtype: int\n",
    "        \"\"\"\n",
    "        if not nums: return - 1\n",
    "        return self.quickSelect(nums, 0, len(nums)-1, k)\n",
    "        \n",
    "    def quickSelect(self, nums, l, r, k): # 👍❤️ recursive solution, 和上述略有不同.\n",
    "        if l <= r: # ❤️❤️❤️ 该条件和 iteration 的条件略有不同. \n",
    "            pivot = self.partition(nums, l, r)\n",
    "            if pivot + 1 < k: # ❤️ k 是计数, 转化成 index.\n",
    "                return self.quickSelect(nums, pivot + 1, r, k)\n",
    "            elif pivot + 1 > k: # ❤️ k 是计数, 转化成 index.\n",
    "                return self.quickSelect(nums, l, pivot - 1, k)\n",
    "            else: \n",
    "                return nums[k-1] # ❤️ k 是计数, 转化成 index.\n",
    "        \n",
    "    def partition(self, nums, l, r):\n",
    "        for i in xrange(l, r):\n",
    "            if nums[i] < nums[r]:\n",
    "                continue\n",
    "            self.swap(nums, i, l)\n",
    "            l += 1\n",
    "        self.swap(nums, l, r)\n",
    "        return l\n",
    "            \n",
    "    def swap(self, nums, l, r):\n",
    "        nums[l], nums[r] = nums[r], nums[l]"
   ]
  },
  {
   "cell_type": "code",
   "execution_count": null,
   "metadata": {
    "collapsed": true
   },
   "outputs": [],
   "source": [
    "class Solution(object):\n",
    "    # 方法3: sorting. O(nlogn) time\n",
    "    def findKthLargest(self, nums, k):\n",
    "        return sorted(nums)[-k]\n",
    "    \n",
    "    # 方法4: O(nk) time, bubble sort idea, TLE\n",
    "    def findKthLargest_bubble(self, nums, k):\n",
    "        for i in xrange(k):\n",
    "            for j in xrange(len(nums)-i-1):\n",
    "                if nums[j] > nums[j+1]:\n",
    "                    nums[j], nums[j+1] = nums[j+1], nums[j]\n",
    "                    \n",
    "        return nums[-k]\n",
    "                \n",
    "    # 方法5: O(nk) time, selection sort idea\n",
    "    def findKthLargest_selection(self, nums, k):\n",
    "        nn = len(nums)\n",
    "        for i in xrange(nn-1, nn-1-k, -1):\n",
    "            maxIdx = i\n",
    "            for j in xrange(i):\n",
    "                if nums[j] > nums[maxIdx]:\n",
    "                    maxIdx = j\n",
    "            nums[maxIdx], nums[i] = nums[i], nums[maxIdx]\n",
    "        return nums[-k]"
   ]
  },
  {
   "cell_type": "markdown",
   "metadata": {},
   "source": [
    "##### 锻炼编程: quicksort + delete tree node"
   ]
  },
  {
   "cell_type": "code",
   "execution_count": 6,
   "metadata": {},
   "outputs": [
    {
     "name": "stdout",
     "output_type": "stream",
     "text": [
      "[1, 1, 2, 3, 6, 8, 10]\n"
     ]
    }
   ],
   "source": [
    "# quicksort: 锻炼\n",
    "import random\n",
    "def quicksort(nums):\n",
    "    if len(nums) <= 1: return nums\n",
    "    __quicksort(nums, 0, len(nums) - 1)\n",
    "    return nums\n",
    "\n",
    "def __quicksort(nums, l, r):\n",
    "    if l < r:\n",
    "        pivot = partition(nums, l, r)\n",
    "        __quicksort(nums, l, pivot - 1)\n",
    "        __quicksort(nums, pivot + 1, r)\n",
    "\n",
    "def partition(nums, l, r):\n",
    "    pivot = random.randint(l, r)\n",
    "    swap(nums, r, pivot)\n",
    "    for i in xrange(l, r):\n",
    "        if nums[i] > nums[r]:\n",
    "            continue\n",
    "        swap(nums, i, l)\n",
    "        l += 1\n",
    "    swap(nums, l, r)\n",
    "    return l\n",
    "\n",
    "def swap(nums, i, j):\n",
    "    nums[i], nums[j] = nums[j], nums[i]\n",
    "    \n",
    "print  quicksort ([3,6,8,10,1,2,1])"
   ]
  },
  {
   "cell_type": "code",
   "execution_count": null,
   "metadata": {
    "collapsed": true
   },
   "outputs": [],
   "source": [
    "class Solution(object):\n",
    "    def deleteNode(self, root, target):\n",
    "        if not root: return \n",
    "        \n",
    "        if target < root.val:\n",
    "            root.left = self.deleteNode(root.left, target)\n",
    "        elif target > root.val:\n",
    "            root.right = self.deleteNode(root.right, target)\n",
    "        else:\n",
    "            if not root.left:\n",
    "                return root.right\n",
    "            elif not root.right:\n",
    "                return root.left\n",
    "            else:\n",
    "                node = root.right\n",
    "                while node.left:\n",
    "                    node = node.left\n",
    "                \n",
    "                root.val = node.val\n",
    "                root.right = self.deleteNode(root.right, root.val)\n",
    "                \n",
    "        return root"
   ]
  },
  {
   "cell_type": "markdown",
   "metadata": {},
   "source": [
    "### [❤️378.medium-Kth Smallest Element in a Sorted Matrix](https://leetcode.com/problems/kth-smallest-element-in-a-sorted-matrix/description/)\n",
    "##### 题意: 给定 $n\\times n$ 矩阵, 高效算法找出第  $k$ 小的元素. 矩阵性质如下: \n",
    "* each of the rows and columns are sorted in ascending order\n",
    "* You may assume k is always valid, $1 \\leq k \\leq n^2$.\n",
    "* Note that it is <span class=\"girk\">the kth smallest element</span> in the sorted order, <span class=\"girk\">not the kth distinct element</span>.\n",
    "\n",
    "\n",
    "##### 分析\n",
    "##### 总结"
   ]
  },
  {
   "cell_type": "code",
   "execution_count": null,
   "metadata": {
    "collapsed": true
   },
   "outputs": [],
   "source": [
    "# ❤️❤️ 方法1: heapq + 一行一行处理, 有点像 merge k sorted linked lists\n",
    "# ❤️❤️ time: O(min(k,n)logn), space: O(n)\n",
    "import heapq\n",
    "class Solution(object):\n",
    "    def kthSmallest(self, mat, k):\n",
    "        \"\"\"\n",
    "        :type mat: List[List[int]]\n",
    "        :type k: int\n",
    "        :rtype: int\n",
    "        \"\"\"\n",
    "        nr, nc = len(mat), len(mat[0]) # nn is the number of rows and columns in the mat\n",
    "        \n",
    "        # 1 edge condition\n",
    "        if not mat or (nr==1 and not mat[0]): \n",
    "            return -1\n",
    "        \n",
    "        # 2 build heapq # ❤️❤️❤️ 仔细想想为什么可以先存入一行, 然后处理其他, 想明白很重要.\n",
    "        hq, r = [], 0\n",
    "        for c in xrange(nc):\n",
    "            heapq.heappush(hq, (mat[r][c], r, c))\n",
    "        \n",
    "        for i in xrange(k-1): # ❤️❤️ pop k-1 次是关键\n",
    "            val, r, c = heapq.heappop(hq)\n",
    "            if r == nr-1: continue # ❤️❤️ 是关键.\n",
    "            heapq.heappush(hq, (mat[r+1][c], r+1, c))\n",
    "            \n",
    "        val, r, c = heapq.heappop(hq)\n",
    "        return val"
   ]
  },
  {
   "cell_type": "code",
   "execution_count": null,
   "metadata": {
    "collapsed": true
   },
   "outputs": [],
   "source": [
    "# ❤️❤️ 方法0: binary search + search in special mat\n",
    "import heapq\n",
    "class Solution(object):\n",
    "    def kthSmallest(self, mat, k):\n",
    "        \"\"\"\n",
    "        :type mat: List[List[int]]\n",
    "        :type k: int\n",
    "        :rtype: int\n",
    "        \"\"\"\n",
    "        l = mat[0][0]\n",
    "        r = mat[-1][-1]\n",
    "        while l < r:\n",
    "            m = l + ((r-l)>>1)\n",
    "            cnt = self.countSmall(mat, m)\n",
    "            if cnt > k:\n",
    "                r = m - 1\n",
    "            else:\n",
    "                l = m\n",
    "        return mat[]\n",
    "            \n",
    "    def countSmall(self, mat, m):\n",
    "        nr, nc = len(mat), len(mat[0])\n",
    "        \n",
    "        cnt = 0\n",
    "        r, c = 0, nc-1\n",
    "        while r < nr and c > -1:\n",
    "            if mat[r][c] <= m:\n",
    "                cnt += c + 1\n",
    "                r += 1\n",
    "            else:\n",
    "                c -= 1\n",
    "        return cnt"
   ]
  },
  {
   "cell_type": "code",
   "execution_count": null,
   "metadata": {
    "collapsed": true
   },
   "outputs": [],
   "source": [
    "# 方法2: heapq, 效果不佳. 复杂度太高.\n",
    "# 和 215 非常类似, 只是将找最小值问题, 转化成找最大值的问题.\n",
    "import heapq\n",
    "class Solution(object):\n",
    "    def kthSmallest(self, mat, k):\n",
    "        \"\"\"\n",
    "        :type mat: List[List[int]]\n",
    "        :type k: int\n",
    "        :rtype: int\n",
    "        \"\"\"\n",
    "        nr, nc = len(mat), len(mat[0]) # nn is the number of rows and columns in the mat\n",
    "        \n",
    "        # 1 edge condition\n",
    "        if not mat or (nr==1 and not mat[0]): \n",
    "            return -1\n",
    "        \n",
    "        # 2 build the heap queue (i.e., priority queue)\n",
    "        q = [] # the heap queue              \n",
    "        for i in xrange(nr*nc):\n",
    "            heapq.heappush(q, -mat[i/nc][i%nc])  # 每次存放 value, row 和 column.\n",
    "            if len(q) > k: heapq.heappop(q)\n",
    "                \n",
    "        return -heapq.heappop(q)"
   ]
  },
  {
   "cell_type": "markdown",
   "metadata": {},
   "source": [
    "### [347.medium-Top K Frequent Elements](https://leetcode.com/problems/top-k-frequent-elements/description/)\n",
    "##### 总结: 取 top 1 - k 个元素, 需要 bucket + heap + hash 结合.\n",
    "##### 题意: Given a <span class=\"girk\">non-empty array of integers</span>, return the <span class=\"girk\">k most frequent</span> elements.\n",
    "* 举例, given [1,1,1,2,2,3] and k = 2, return [1,2].\n",
    "* 注意:\n",
    "    * You may assume k is <span class=\"girk\">always valid</span>, 1 ≤ k ≤ number of unique elements.\n",
    "    * Your algorithm's time complexity <span class=\"burk\">must be better than</span> <span class=\"girk\">O(n log n)</span>, where <span class=\"girk\">n is the array's size</span>.\n",
    "    \n",
    "##### 分析\n",
    "* **方法1**: 统计 frequency, sorting, 找到top frequency 的 value, 最后找出大于等于 value 的 dictionary keys. time: O(nlogn), space O(n).\n",
    "* **方法2**: \n",
    "\n",
    "##### 总结\n",
    "```python\n",
    " threshhold = sortVal[-k] # ❤️❤️ -k 表示倒数第 k 个元素, 非常实用的写法.\n",
    "```"
   ]
  },
  {
   "cell_type": "code",
   "execution_count": null,
   "metadata": {
    "collapsed": true
   },
   "outputs": [],
   "source": [
    "# 👍👍👍 方法1: bucket sort. ❤️❤️ Time & space: O(n).\n",
    "# ❤️❤️ 记住统计 top frequency 的问题, 适用 bucket 的思路最优.\n",
    "class Solution(object):\n",
    "    def topKFrequent(self, nums, k):\n",
    "        \n",
    "        # 1 dic to count the frequency of the unique values \n",
    "        dic, maxCnt = {}, 0 # ❤️ maxCnt 是为了确定 bucket 的大小.\n",
    "        for x in nums: \n",
    "            dic[x] = dic.get(x,0) + 1\n",
    "            maxCnt = max(maxCnt, dic[x])\n",
    "            \n",
    "        # 2 build bucket\n",
    "        bucket = [ [] for i in xrange(maxCnt) ]\n",
    "        for key, cnt in dic.items():\n",
    "            bucket[cnt-1].append(key) # ❤️❤️ 注意 cnt 是计数, 要转化成 index...\n",
    "            \n",
    "        # 3 obtain the rst\n",
    "        rst = []\n",
    "        for j in xrange(maxCnt-1, -1, -1):\n",
    "            for x in bucket[j]: # ❤️ 注意 top k frequency, 不考虑 duplicate frequency 的情况.\n",
    "                rst.append(x)\n",
    "                k -= 1\n",
    "                if k < 1: return rst\n",
    "        return rst      "
   ]
  },
  {
   "cell_type": "markdown",
   "metadata": {},
   "source": [
    "### [692.medium-Top K Frequent Words](https://leetcode.com/problems/top-k-frequent-words/description/)\n",
    "##### 总结: 取 top 1 - k 个元素, 需要 bucket + heap + hash 结合.\n",
    "\n",
    "##### 题意: Given a non-empty list of words, return the $k$ most frequent elements.\n",
    "* Your answer should be <span class=\"girk\">sorted by frequency</span> from highest to lowest. \n",
    "* If two words have the same frequency, then the word with the lower alphabetical order comes first.\n",
    "* <span class=\"burk\">Note</span>:\n",
    "    * You may assume k is always valid, <span class=\"girk\">1 ≤ k ≤ number of unique elements</span>.\n",
    "    * Input words contain only lowercase letters.\n",
    "* <span class=\"burk\">Follow ups</span>:\n",
    "    * Try to solve it in <span class=\"girk\">O(n log k) time</span> and <span class=\"girk\">O(n) extra space</span>."
   ]
  },
  {
   "cell_type": "code",
   "execution_count": null,
   "metadata": {
    "collapsed": true
   },
   "outputs": [],
   "source": [
    "# 方法2: hash + bucket + heapq\n",
    "import heapq\n",
    "class Solution(object):\n",
    "    def topKFrequent(self, words, k):\n",
    "        \"\"\"\n",
    "        :type words: List[str]\n",
    "        :type k: int\n",
    "        :rtype: List[str]\n",
    "        \"\"\"\n",
    "        # 1 edge condition\n",
    "        if not words: return []\n",
    "        \n",
    "        # 2 get the frequency \n",
    "        dic, maxCnt = {}, 0\n",
    "        for x in words:\n",
    "            dic[x] = dic.get(x,0) + 1\n",
    "            maxCnt = max(maxCnt, dic[x])\n",
    "            \n",
    "        # 3 build the bucket\n",
    "        bucket = [[] for i in xrange(maxCnt)]\n",
    "        for key, cnt in dic.items():\n",
    "            bucket[cnt-1].append(key)\n",
    "        \n",
    "        # 4 find the word in the bucket from high ordering to low ordering\n",
    "        rst = [] # ❤️❤️ 从 bucket 抽取是关键.\n",
    "        for j in xrange(maxCnt-1, -1, -1):\n",
    "            temp = [] # ❤️❤️ 利用 temp 临时存储, 并且作排序. 将排完序的结果, 放到 rst 中.\n",
    "            for y in bucket[j]: \n",
    "                heapq.heappush(temp, y) # ❤️❤️ 原先使用 sort 对 temp 排序, 但这样运算复杂度不对. 如果所有\n",
    "            while temp: #  word 出现一次, 并且, k = 3 eg, 则 sort 复杂度是 nlogn, 太多了.\n",
    "                rst.append(heapq.heappop(temp))\n",
    "                k -= 1\n",
    "                if k < 1: return rst # 用 heap 就省事多了. 不知道具体复杂度, 但应该小于等于 nlogk, 说不定是 n.\n",
    "        return rst"
   ]
  },
  {
   "cell_type": "code",
   "execution_count": null,
   "metadata": {
    "collapsed": true
   },
   "outputs": [],
   "source": [
    "# 方法2: hash + bucket\n",
    "import heapq\n",
    "class Solution(object):\n",
    "    def topKFrequent(self, words, k):\n",
    "        \"\"\"\n",
    "        :type words: List[str]\n",
    "        :type k: int\n",
    "        :rtype: List[str]\n",
    "        \"\"\"\n",
    "        # 1 edge condition\n",
    "        if not words: return []\n",
    "        \n",
    "        # 2 get the frequency \n",
    "        dic, maxCnt = {}, 0\n",
    "        for x in words:\n",
    "            dic[x] = dic.get(x,0) + 1\n",
    "            maxCnt = max(maxCnt, dic[x])\n",
    "            \n",
    "        # 3 build the bucket\n",
    "        bucket = [[] for i in xrange(maxCnt)]\n",
    "        for key, cnt in dic.items():\n",
    "            bucket[cnt-1].append(key)\n",
    "        \n",
    "        # 4 find the word in the bucket from high ordering to low ordering\n",
    "        rst, j = [], maxCnt - 1 # ❤️❤️ 从 bucket 抽取是关键.\n",
    "        while j > -1:\n",
    "            xx, temp = bucket[j], [] # ❤️❤️ 利用 temp 临时存储, 并且作排序. 将排完序的结果, 放到 rst 中.\n",
    "            for y in xx:\n",
    "                temp.append(y)\n",
    "            for y in sorted(temp): # ❎ 利用 sort 不可取.\n",
    "                if k > 0:\n",
    "                    k -= 1\n",
    "                    rst.append(y)\n",
    "                else: \n",
    "                    break\n",
    "            if k < 1: break  \n",
    "            j -= 1\n",
    "        return rst"
   ]
  },
  {
   "cell_type": "code",
   "execution_count": null,
   "metadata": {
    "collapsed": true
   },
   "outputs": [],
   "source": [
    "# 👍👍👍 方法2: quick select 的方法. ❤️ Time & space: O(n).\n",
    "class Solution(object):\n",
    "    def topKFrequent(self, nums, k):\n",
    "        \n",
    "        # 1 dic to count the frequency of the unique values \n",
    "        dic = {} # ❤️ maxCnt 是为了确定 bucket 的大小.\n",
    "        for x in nums: \n",
    "            dic[x] = dic.get(x,0) + 1\n",
    "        \n",
    "        # 2 quick select to find the top k frequency cnts\n",
    "        arr = dic.values()\n",
    "        thresh_cnt = self.quickSelect(arr, 0, len(arr)-1, k)\n",
    "        \n",
    "        # 3 obtain rst\n",
    "        rst = []\n",
    "        for key, cnt in dic.items():\n",
    "            if cnt >= thresh_cnt:\n",
    "                rst.append(key)\n",
    "        return rst\n",
    "        \n",
    "    def quickSelect(self, nums, l, r, k):\n",
    "        while l < r:\n",
    "            pivot = self.partition(nums, l, r)\n",
    "            if pivot + 1 < k:   # ❤️ k 是计数, 和 index 化作等效作用\n",
    "                l = pivot + 1\n",
    "            elif pivot + 1 > k: # ❤️ k 是计数, 和 index 化作等效作用\n",
    "                r = pivot - 1\n",
    "            else: break\n",
    "        return nums[k-1] # ❤️ k 是计数, 和 index 化作等效作用\n",
    "            \n",
    "    def partition(self, nums, l, r):\n",
    "        for i in xrange(l, r):\n",
    "            if nums[i] < nums[r]:\n",
    "                continue\n",
    "            self.swap(nums, i, l)\n",
    "            l += 1\n",
    "        self.swap(nums, l, r)\n",
    "        return l\n",
    "    \n",
    "    def swap(self, nums, i, j):\n",
    "        nums[i], nums[j] = nums[j], nums[i]"
   ]
  },
  {
   "cell_type": "code",
   "execution_count": null,
   "metadata": {
    "collapsed": true
   },
   "outputs": [],
   "source": [
    "# 方法3: heapq sort 的方法.\n",
    "from heapq import heapify, heappop, heappush\n",
    "\n",
    "class Solution(object):\n",
    "    def topKFrequent(self, nums, k):\n",
    "        \"\"\"\n",
    "        :type nums: List[int]\n",
    "        :type k: int\n",
    "        :rtype: List[int]\n",
    "        \"\"\"\n",
    "        # 1 dic to count the frequency of the unique values \n",
    "        dic = {}\n",
    "        for x in nums: \n",
    "            dic[x] = dic.get(x,0) + 1\n",
    "           \n",
    "        # 2 find the kth largest count\n",
    "        temp = dic.values()\n",
    "        heapify(temp)\n",
    "        sortVal = [heappop(temp) for i in xrange(len(temp))]\n",
    "        threshhold = sortVal[-k] # ❤️❤️ -k 表示倒数第 k 个元素, \n",
    "        \n",
    "        # 3 push the key that is the k most frequent value.\n",
    "        rst = []\n",
    "        for key, val in dic.items():\n",
    "            if val >= threshhold:\n",
    "                rst.append(key)\n",
    "                \n",
    "        return rst  "
   ]
  },
  {
   "cell_type": "code",
   "execution_count": null,
   "metadata": {
    "collapsed": true
   },
   "outputs": [],
   "source": [
    "# 方法4: 普通 sorting 的方法.\n",
    "from heapq import heappush, heappop\n",
    "class Solution(object):\n",
    "    def topKFrequent(self, nums, k):\n",
    "        \"\"\"\n",
    "        :type nums: List[int]\n",
    "        :type k: int\n",
    "        :rtype: List[int]\n",
    "        \"\"\"\n",
    "        dic = {}\n",
    "        for x in nums: dic[x] = dic.get(x,0) + 1\n",
    "        \n",
    "        freq = dic.values()\n",
    "        heap = []\n",
    "        for x in freq:\n",
    "            heappush(heap, x)\n",
    "        \n",
    "        sortFreq = [heappop(heap) for i in xrange(len(heap))]\n",
    "        threshold = sortFreq[-k]\n",
    "        \n",
    "        rst = []\n",
    "        for key, val in dic.items():\n",
    "            if val >= threshold:\n",
    "                rst.append(key)\n",
    "                \n",
    "        return rst"
   ]
  },
  {
   "cell_type": "markdown",
   "metadata": {},
   "source": [
    "### [23_hard-merge k Sorted Lists](https://leetcode.com/problems/merge-k-sorted-lists/)\n",
    "##### 题意\n",
    "* Merge $k$ sorted linked lists and return it as one sorted list. Analyze and describe its complexity.\n",
    "* 难点: 是要处理 $k$ 个 sorted linked lists.\n",
    "* 总结: 我已经做出以下答案, 还有很多其他答案.\n",
    "\n",
    "##### 参考视频\n",
    "* Edward Shi: https://www.youtube.com/watch?v=5xT5GMTFvRI\n",
    "\n",
    "##### My solution \n",
    "* runtime: $O(kN)$, $n$ 表示所有 sorted linked list 包含元素的个数.\n",
    "* space complexity: 几乎是 in-place 的, 属于 constant complexity $O(1)$."
   ]
  },
  {
   "cell_type": "code",
   "execution_count": null,
   "metadata": {
    "collapsed": true
   },
   "outputs": [],
   "source": [
    "# 👍 方法1: Priority queue & heapq. \n",
    "# ❤️❤️❤️ Time O(nlogk), k the number linked list; Space O(n)\n",
    "# ❤️❤️❤️ 最推荐的方法, 有扩展性.\n",
    "# 总结: priority queue 和 heapq 是最值得推荐的, 个人更熟悉 heapq 的语法.\n",
    "from Queue import PriorityQueue\n",
    "import heapq\n",
    "class Solution(object):\n",
    "    def mergeKLists(self, lists): # method #1: heapq --------------\n",
    "        # 1 edge condition\n",
    "        if not lists: return []\n",
    "        \n",
    "        # 2 使用 heapq 先存储第一个元素\n",
    "        q = []\n",
    "        for x in lists:\n",
    "            if x: heapq.heappush(q, (x.val, x)) # ❤️❤️ 注意必须有 heapq. \n",
    "        \n",
    "        dummy = cur = ListNode(None)\n",
    "        while len(q) > 0:\n",
    "            cur.next = heapq.heappop(q)[1]\n",
    "            cur = cur.next\n",
    "            if cur.next: heapq.heappush(q, (cur.next.val, cur.next))\n",
    "            \n",
    "        return dummy.next\n",
    "    \n",
    "    def mergeKLists(self, lists): # method #2: Priority Queue --------------\n",
    "        # 1 edge condition\n",
    "        if not lists: return []\n",
    "        \n",
    "        # 2 使用 priority queue. \n",
    "        q = PriorityQueue()\n",
    "        for x in lists: # 👍👍 注意语法 q.put()\n",
    "            if x: q.put((x.val, x)) # ❤️❤️ 按照 x.val 的大小, 优先级放入 priority queue 中.\n",
    "        \n",
    "        dummy = cur = ListNode(None)\n",
    "        while q.qsize() > 0: # 👍👍 注语语法 q.qsize()\n",
    "            cur.next = q.get()[1] # 👍👍 \n",
    "            cur = cur.next\n",
    "            if cur.next: q.put((cur.next.val, cur.next))\n",
    "                \n",
    "        return dummy.next"
   ]
  },
  {
   "cell_type": "code",
   "execution_count": null,
   "metadata": {
    "collapsed": true
   },
   "outputs": [],
   "source": [
    "# 方法2: david & conquer. Time O(nlogn). 有点像 tree, postorder 的题.\n",
    "class Solution(object):\n",
    "    def mergeKLists(self, lists):\n",
    "        if not lists: return []\n",
    "        return self._mergeKLists(lists, 0, len(lists)-1)\n",
    "        \n",
    "    def _mergeKLists(self, nums, l, r):\n",
    "        if l >= r: return nums[l]\n",
    "        \n",
    "        m = l + ((r-l) >> 1)\n",
    "        l1 = self._mergeKLists(nums, l, m) #👍❤️ 注意这种返回的机制.\n",
    "        l2 = self._mergeKLists(nums, m+1, r)\n",
    "        return self.merge(l1, l2)\n",
    "            \n",
    "    def merge(self, l1, l2):\n",
    "        if not l1: return l2\n",
    "        if not l2: return l1\n",
    "        \n",
    "        dummy = cur = ListNode(None)\n",
    "        while l1 and l2:\n",
    "            if l1.val < l2.val:\n",
    "                cur.next = l1\n",
    "                l1 = l1.next\n",
    "            else:\n",
    "                cur.next = l2\n",
    "                l2 = l2.next\n",
    "            cur = cur.next\n",
    "        \n",
    "        cur.next = l1 or l2\n",
    "        return dummy.next          "
   ]
  },
  {
   "cell_type": "markdown",
   "metadata": {},
   "source": [
    "## [2/17]()"
   ]
  },
  {
   "cell_type": "markdown",
   "metadata": {},
   "source": [
    "### [239.hard-Sliding Window Maximum](https://leetcode.com/problems/sliding-window-maximum/description/)\n",
    "##### 题意: 给定 arr, 找出大小为 k 的 sliding window 中的最大值, 每次. "
   ]
  },
  {
   "cell_type": "code",
   "execution_count": null,
   "metadata": {
    "collapsed": true
   },
   "outputs": [],
   "source": [
    "\"\"\"\n",
    "Input: nums = [1,3,-1,-3,5,3,6,7], and k = 3\n",
    "Output: [3,3,5,5,6,7] \n",
    "Explanation: \n",
    "\n",
    "Window position                Max\n",
    "---------------               -----\n",
    "[1  3  -1] -3  5  3  6  7       3\n",
    " 1 [3  -1  -3] 5  3  6  7       3\n",
    " 1  3 [-1  -3  5] 3  6  7       5\n",
    " 1  3  -1 [-3  5  3] 6  7       5\n",
    " 1  3  -1  -3 [5  3  6] 7       6\n",
    " 1  3  -1  -3  5 [3  6  7]      7\n",
    "\"\"\""
   ]
  },
  {
   "cell_type": "code",
   "execution_count": null,
   "metadata": {
    "collapsed": true
   },
   "outputs": [],
   "source": [
    "from collections import deque\n",
    "class Solution(object):\n",
    "    def maxSlidingWindow(self, nums, k):\n",
    "        \"\"\"\n",
    "        :type nums: List[int]\n",
    "        :type k: int\n",
    "        :rtype: List[int]\n",
    "        \"\"\"\n",
    "        if not nums: return []\n",
    "        \n",
    "        rst = []\n",
    "        q = deque()\n",
    "        for i, x in enumerate(nums):\n",
    "            if q and q[0][1] < i-k+1:\n",
    "                q.popleft()\n",
    "                \n",
    "            while q and q[-1][0] <= x:\n",
    "                q.pop()\n",
    "                \n",
    "            q.append((x, i))\n",
    "            if i >= k-1: rst.append(q[0][0])\n",
    "        return rst"
   ]
  },
  {
   "cell_type": "markdown",
   "metadata": {},
   "source": [
    "### [❓218.hard-The Skyline Problem](https://leetcode.com/problems/the-skyline-problem/description/)\n",
    "##### 题意: \n",
    "##### 分析\n",
    "##### 总结"
   ]
  }
 ],
 "metadata": {
  "kernelspec": {
   "display_name": "Python 2",
   "language": "python",
   "name": "python2"
  },
  "language_info": {
   "codemirror_mode": {
    "name": "ipython",
    "version": 2
   },
   "file_extension": ".py",
   "mimetype": "text/x-python",
   "name": "python",
   "nbconvert_exporter": "python",
   "pygments_lexer": "ipython2",
   "version": "2.7.13"
  },
  "toc": {
   "nav_menu": {},
   "number_sections": true,
   "sideBar": true,
   "skip_h1_title": true,
   "toc_cell": true,
   "toc_position": {
    "height": "642px",
    "left": "0px",
    "right": "1084.28px",
    "top": "67px",
    "width": "225px"
   },
   "toc_section_display": "block",
   "toc_window_display": false
  }
 },
 "nbformat": 4,
 "nbformat_minor": 2
}

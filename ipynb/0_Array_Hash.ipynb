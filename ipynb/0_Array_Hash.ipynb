{
 "cells": [
  {
   "cell_type": "markdown",
   "metadata": {
    "toc": true
   },
   "source": [
    "<h1>Table of Contents<span class=\"tocSkip\"></span></h1>\n",
    "<div class=\"toc\"><ul class=\"toc-item\"><li><span><a href=\"#Array---top-frequency\" data-toc-modified-id=\"Array---top-frequency-1\"><span class=\"toc-item-num\">1&nbsp;&nbsp;</span><a href=\"\" target=\"_blank\">Array - top frequency</a></a></span><ul class=\"toc-item\"><li><span><a href=\"#26.easy-Remove-Duplicates-from-Sorted-Array\" data-toc-modified-id=\"26.easy-Remove-Duplicates-from-Sorted-Array-1.1\"><span class=\"toc-item-num\">1.1&nbsp;&nbsp;</span><a href=\"https://leetcode.com/problems/remove-duplicates-from-sorted-array/description/\" target=\"_blank\">26.easy-Remove Duplicates from Sorted Array</a></a></span></li><li><span><a href=\"#292.easy-Nim-Game\" data-toc-modified-id=\"292.easy-Nim-Game-1.2\"><span class=\"toc-item-num\">1.2&nbsp;&nbsp;</span><a href=\"https://leetcode.com/problems/nim-game/description/\" target=\"_blank\">292.easy-Nim Game</a></a></span></li><li><span><a href=\"#561.easy-Array-Partition-I\" data-toc-modified-id=\"561.easy-Array-Partition-I-1.3\"><span class=\"toc-item-num\">1.3&nbsp;&nbsp;</span><a href=\"https://leetcode.com/problems/array-partition-i/description/\" target=\"_blank\">561.easy-Array Partition I</a></a></span></li><li><span><a href=\"#283.easy-Move-Zeroes\" data-toc-modified-id=\"283.easy-Move-Zeroes-1.4\"><span class=\"toc-item-num\">1.4&nbsp;&nbsp;</span><a href=\"https://leetcode.com/problems/move-zeroes/description/\" target=\"_blank\">283.easy-Move Zeroes</a></a></span></li><li><span><a href=\"#❤️238.med-Product-of-Array-Except-Self\" data-toc-modified-id=\"❤️238.med-Product-of-Array-Except-Self-1.5\"><span class=\"toc-item-num\">1.5&nbsp;&nbsp;</span><a href=\"https://leetcode.com/problems/product-of-array-except-self/description/\" target=\"_blank\">❤️238.med-Product of Array Except Self</a></a></span></li><li><span><a href=\"#152.med-Maximum-Product-Subarray\" data-toc-modified-id=\"152.med-Maximum-Product-Subarray-1.6\"><span class=\"toc-item-num\">1.6&nbsp;&nbsp;</span><a href=\"https://leetcode.com/problems/maximum-product-subarray/description/\" target=\"_blank\">152.med-Maximum Product Subarray</a></a></span></li><li><span><a href=\"#118.easy-Pascal's-Triangle\" data-toc-modified-id=\"118.easy-Pascal's-Triangle-1.7\"><span class=\"toc-item-num\">1.7&nbsp;&nbsp;</span><a href=\"https://leetcode.com/problems/pascals-triangle/description/\" target=\"_blank\">118.easy-Pascal's Triangle</a></a></span></li><li><span><a href=\"#119.easy-Pascal's-Triangle-II\" data-toc-modified-id=\"119.easy-Pascal's-Triangle-II-1.8\"><span class=\"toc-item-num\">1.8&nbsp;&nbsp;</span><a href=\"https://leetcode.com/problems/pascals-triangle-ii/description/\" target=\"_blank\">119.easy-Pascal's Triangle II</a></a></span></li><li><span><a href=\"#❓41.hard-First-Missing-Positive\" data-toc-modified-id=\"❓41.hard-First-Missing-Positive-1.9\"><span class=\"toc-item-num\">1.9&nbsp;&nbsp;</span><a href=\"https://leetcode.com/problems/first-missing-positive/description/\" target=\"_blank\">❓41.hard-First Missing Positive</a></a></span></li><li><span><a href=\"#228.med-Summary-Ranges\" data-toc-modified-id=\"228.med-Summary-Ranges-1.10\"><span class=\"toc-item-num\">1.10&nbsp;&nbsp;</span><a href=\"https://leetcode.com/problems/summary-ranges/description/\" target=\"_blank\">228.med-Summary Ranges</a></a></span></li><li><span><a href=\"#❤️❤️448.easy-Find-All-Numbers-Disappeared-in-an-Array\" data-toc-modified-id=\"❤️❤️448.easy-Find-All-Numbers-Disappeared-in-an-Array-1.11\"><span class=\"toc-item-num\">1.11&nbsp;&nbsp;</span><a href=\"https://leetcode.com/problems/find-all-numbers-disappeared-in-an-array/description/\" target=\"_blank\">❤️❤️448.easy-Find All Numbers Disappeared in an Array</a></a></span></li><li><span><a href=\"#❤️❤️442.med-Find-All-Duplicates-in-an-Array\" data-toc-modified-id=\"❤️❤️442.med-Find-All-Duplicates-in-an-Array-1.12\"><span class=\"toc-item-num\">1.12&nbsp;&nbsp;</span><a href=\"https://leetcode.com/problems/find-all-duplicates-in-an-array/description/\" target=\"_blank\">❤️❤️442.med-Find All Duplicates in an Array</a></a></span></li><li><span><a href=\"#❤️189.easy-Rotate-Array\" data-toc-modified-id=\"❤️189.easy-Rotate-Array-1.13\"><span class=\"toc-item-num\">1.13&nbsp;&nbsp;</span><a href=\"https://leetcode.com/problems/rotate-array/description/\" target=\"_blank\">❤️189.easy-Rotate Array</a></a></span></li><li><span><a href=\"#169.easy-Majority-Element\" data-toc-modified-id=\"169.easy-Majority-Element-1.14\"><span class=\"toc-item-num\">1.14&nbsp;&nbsp;</span><a href=\"https://leetcode.com/problems/majority-element/description/\" target=\"_blank\">169.easy-Majority Element</a></a></span></li><li><span><a href=\"#229.med-Majority-Element-II\" data-toc-modified-id=\"229.med-Majority-Element-II-1.15\"><span class=\"toc-item-num\">1.15&nbsp;&nbsp;</span><a href=\"https://leetcode.com/problems/majority-element-ii/description/\" target=\"_blank\">229.med-Majority Element II</a></a></span></li><li><span><a href=\"#697.easy-Degree-of-an-Array\" data-toc-modified-id=\"697.easy-Degree-of-an-Array-1.16\"><span class=\"toc-item-num\">1.16&nbsp;&nbsp;</span><a href=\"https://leetcode.com/problems/degree-of-an-array/description/\" target=\"_blank\">697.easy-Degree of an Array</a></a></span></li></ul></li><li><span><a href=\"#Hash---top-frequency\" data-toc-modified-id=\"Hash---top-frequency-2\"><span class=\"toc-item-num\">2&nbsp;&nbsp;</span><a href=\"\" target=\"_blank\">Hash - top frequency</a></a></span><ul class=\"toc-item\"><li><span><a href=\"#1.easy-Two-Sum\" data-toc-modified-id=\"1.easy-Two-Sum-2.1\"><span class=\"toc-item-num\">2.1&nbsp;&nbsp;</span><a href=\"https://leetcode.com/problems/two-sum/description/\" target=\"_blank\">1.easy-Two Sum</a></a></span></li><li><span><a href=\"#❤️❤️170.easy-Two-Sum-III---Data-structure-design\" data-toc-modified-id=\"❤️❤️170.easy-Two-Sum-III---Data-structure-design-2.2\"><span class=\"toc-item-num\">2.2&nbsp;&nbsp;</span><a href=\"https://leetcode.com/problems/two-sum-iii-data-structure-design/description/\" target=\"_blank\">❤️❤️170.easy-Two Sum III - Data structure design</a></a></span></li><li><span><a href=\"#217.easy-Contains-Duplicate\" data-toc-modified-id=\"217.easy-Contains-Duplicate-2.3\"><span class=\"toc-item-num\">2.3&nbsp;&nbsp;</span><a href=\"https://leetcode.com/problems/contains-duplicate/description/\" target=\"_blank\">217.easy-Contains Duplicate</a></a></span></li><li><span><a href=\"#219.easy-Contains-Duplicate-II\" data-toc-modified-id=\"219.easy-Contains-Duplicate-II-2.4\"><span class=\"toc-item-num\">2.4&nbsp;&nbsp;</span><a href=\"https://leetcode.com/problems/contains-duplicate-ii/description/\" target=\"_blank\">219.easy-Contains Duplicate II</a></a></span></li><li><span><a href=\"#❓❓220.med-Contains-Duplicate-III\" data-toc-modified-id=\"❓❓220.med-Contains-Duplicate-III-2.5\"><span class=\"toc-item-num\">2.5&nbsp;&nbsp;</span><a href=\"https://leetcode.com/problems/contains-duplicate-iii/description/\" target=\"_blank\">❓❓220.med-Contains Duplicate III</a></a></span></li><li><span><a href=\"#560.med-Subarray-Sum-Equals-K\" data-toc-modified-id=\"560.med-Subarray-Sum-Equals-K-2.6\"><span class=\"toc-item-num\">2.6&nbsp;&nbsp;</span><a href=\"https://leetcode.com/problems/subarray-sum-equals-k/description/\" target=\"_blank\">560.med-Subarray Sum Equals K</a></a></span></li><li><span><a href=\"#760.easy-Find-Anagram-Mappings\" data-toc-modified-id=\"760.easy-Find-Anagram-Mappings-2.7\"><span class=\"toc-item-num\">2.7&nbsp;&nbsp;</span><a href=\"https://leetcode.com/problems/find-anagram-mappings/description/\" target=\"_blank\">760.easy-Find Anagram Mappings</a></a></span></li></ul></li></ul></div>"
   ]
  },
  {
   "cell_type": "markdown",
   "metadata": {},
   "source": [
    "# Array\n",
    "* 题型: [Top 100 Liked Questions + Array](https://leetcode.com/problemset/algorithms/?listId=79h8rn6&topicSlugs=divide-and-conquer)"
   ]
  },
  {
   "cell_type": "markdown",
   "metadata": {
    "collapsed": true
   },
   "source": [
    "## [Array - top frequency]()"
   ]
  },
  {
   "cell_type": "markdown",
   "metadata": {},
   "source": [
    "### [26.easy-Remove Duplicates from Sorted Array](https://leetcode.com/problems/remove-duplicates-from-sorted-array/description/)\n",
    "##### 题意: 给定排好序的 array, 去除重复."
   ]
  },
  {
   "cell_type": "code",
   "execution_count": null,
   "metadata": {
    "collapsed": true
   },
   "outputs": [],
   "source": [
    "class Solution(object):\n",
    "    def removeDuplicates(self, nums):\n",
    "        \"\"\"\n",
    "        :type nums: List[int]\n",
    "        :rtype: int\n",
    "        \"\"\"\n",
    "        n = len(nums)\n",
    "        if n < 2: return n\n",
    "        \n",
    "        k = 1 # ❤️ 从 1 开始\n",
    "        for i in xrange(1, n): # ❤️ 从 1 开始\n",
    "            if nums[i-1] != nums[i]:\n",
    "                nums[k] = nums[i]\n",
    "                k += 1\n",
    "        return k"
   ]
  },
  {
   "cell_type": "code",
   "execution_count": null,
   "metadata": {
    "collapsed": true
   },
   "outputs": [],
   "source": [
    "class Solution(object):\n",
    "    def removeDuplicates(self, nums):\n",
    "        \"\"\"\n",
    "        :type nums: List[int]\n",
    "        :rtype: int\n",
    "        \"\"\"\n",
    "        n = len(nums)\n",
    "        if n < 2: return n\n",
    "        \n",
    "        k = 0\n",
    "        for i in xrange(1, n):\n",
    "            if nums[i] != nums[k]:\n",
    "                k += 1\n",
    "                nums[k] = nums[i]\n",
    "        return k + 1"
   ]
  },
  {
   "cell_type": "markdown",
   "metadata": {},
   "source": [
    "### [292.easy-Nim Game](https://leetcode.com/problems/nim-game/description/)\n",
    "##### 题意: 两个人拿石子游戏, 每次只能拿走 1-3 颗, 最后拿走那颗的人获胜."
   ]
  },
  {
   "cell_type": "code",
   "execution_count": null,
   "metadata": {
    "collapsed": true
   },
   "outputs": [],
   "source": [
    "\"\"\" 观察所得:\n",
    " 1    True\n",
    " 1    True\n",
    " 1    True\n",
    " 1    False\n",
    " 1    True\n",
    " 1    True\n",
    " 1    True\n",
    " 1    False\n",
    " 有规律, 有循环的.\n",
    "\"\"\"\n",
    "\n",
    "class Solution(object):\n",
    "    def canWinNim(self, n):\n",
    "        \"\"\"\n",
    "        :type n: int\n",
    "        :rtype: bool\n",
    "        \"\"\"\n",
    "        return n % 4 != 0"
   ]
  },
  {
   "cell_type": "markdown",
   "metadata": {},
   "source": [
    "### [561.easy-Array Partition I](https://leetcode.com/problems/array-partition-i/description/)\n",
    "##### 题意: 给定 2n 个元素, $a_i$和$b_i$ 最佳两两组合, 找到 $\\max\\sum_i \\min(a_i, b_i)$."
   ]
  },
  {
   "cell_type": "code",
   "execution_count": null,
   "metadata": {
    "collapsed": true
   },
   "outputs": [],
   "source": [
    "\"\"\"\n",
    "Example 1:\n",
    "Input: [1,4,3,2]\n",
    "\n",
    "Output: 4\n",
    "Explanation: n is 2, and the maximum sum of pairs is 4 = min(1, 2) + min(3, 4).\n",
    "Note:\n",
    "n is a positive integer, which is in the range of [1, 10000]. \n",
    "All the integers in the array will be in the range of [-10000, 10000]. # ❤️❤️ bucket sort 能够利用该性质.\n",
    "\"\"\""
   ]
  },
  {
   "cell_type": "code",
   "execution_count": 3,
   "metadata": {},
   "outputs": [
    {
     "name": "stdout",
     "output_type": "stream",
     "text": [
      "[1, 2, 3, 4]\n",
      "4\n"
     ]
    }
   ],
   "source": [
    "# time: O(nlogn), space: O(1)\n",
    "class Solution(object):\n",
    "    def arrayPairSum(self, nums):\n",
    "        \"\"\"\n",
    "        :type nums: List[int]\n",
    "        :rtype: int\n",
    "        \"\"\"\n",
    "        nums.sort()\n",
    "        return sum(nums[::2])\n",
    "\n",
    "# print Solution().arrayPairSum([1,3,2,4])"
   ]
  },
  {
   "cell_type": "code",
   "execution_count": null,
   "metadata": {
    "collapsed": true
   },
   "outputs": [],
   "source": [
    "# IDEA: 通过数组, 可以通过 bucket sort 得到结果. time & space: O(n).\n",
    "class Solution(object):\n",
    "    def arrayPairSum(self, nums):\n",
    "        \"\"\"\n",
    "        :type nums: List[int]\n",
    "        :rtype: int\n",
    "        \"\"\"\n",
    "        maxVal = 10000\n",
    "        bucket_len = 2*maxVal + 1\n",
    "        bucket = [0] * bucket_len\n",
    "        for x in nums:\n",
    "            bucket[x+maxVal] += 1\n",
    "            \n",
    "        i = 0\n",
    "        first = True\n",
    "        rst = 0\n",
    "        while i < bucket_len:\n",
    "            if bucket[i] == 0:\n",
    "                i += 1\n",
    "                continue\n",
    "                \n",
    "            if first:\n",
    "                rst += i - maxVal\n",
    "                first = False\n",
    "            else: # skip the element\n",
    "                first = True\n",
    "            bucket[i] -= 1\n",
    "        return rst"
   ]
  },
  {
   "cell_type": "markdown",
   "metadata": {},
   "source": [
    "### [283.easy-Move Zeroes](https://leetcode.com/problems/move-zeroes/description/)\n",
    "##### 题意: moving all zeros to the end of list"
   ]
  },
  {
   "cell_type": "code",
   "execution_count": null,
   "metadata": {
    "collapsed": true
   },
   "outputs": [],
   "source": [
    "class Solution(object):\n",
    "    def moveZeroes(self, nums):\n",
    "        \"\"\"\n",
    "        :type nums: List[int]\n",
    "        :rtype: void Do not return anything, modify nums in-place instead.\n",
    "        \"\"\"\n",
    "        if not nums: return \n",
    "        \n",
    "        n = len(nums)\n",
    "        k = 0\n",
    "        for x in nums:\n",
    "            if x != 0:\n",
    "                nums[k] = x\n",
    "                k += 1\n",
    "            \n",
    "        while k < n:\n",
    "            nums[k] = 0\n",
    "            k += 1     "
   ]
  },
  {
   "cell_type": "markdown",
   "metadata": {},
   "source": [
    "### [❤️238.med-Product of Array Except Self](https://leetcode.com/problems/product-of-array-except-self/description/)\n",
    "##### 题意: Given an array of n integers where n > 1, nums, return an array output such that output[i] is equal to the product of all the elements of nums except nums[i].\n",
    "* Solve it <span class=\"burk\">without division</span> and <span class=\"burk\">in O(n)</span>.\n",
    "* Could you solve it with <span class=\"burk\">constant space complexity</span>? (Note: The output array does not count as extra space for the purpose of space complexity analysis.)\n",
    "* <span class=\"burk\">For example,</span> given [1,2,3,4], return [24,12,8,6]."
   ]
  },
  {
   "cell_type": "code",
   "execution_count": null,
   "metadata": {
    "collapsed": true
   },
   "outputs": [],
   "source": [
    "class Solution(object):\n",
    "    def productExceptSelf(self, nums):\n",
    "        \"\"\"\n",
    "        :type nums: List[int]\n",
    "        :rtype: List[int]\n",
    "        \"\"\"\n",
    "        if not nums: return []\n",
    "        \n",
    "        n = len(nums)\n",
    "        rst = [1] * n\n",
    "        for i in xrange(1, n): # ❤️ 从左往右乘\n",
    "            rst[i] = rst[i-1] * nums[i-1] # ❤️❤️ 乘到前一个元素为止. \n",
    "            \n",
    "        right = 1\n",
    "        for i in xrange(n-1, -1, -1): # ❤️❤️ 从右往左乘\n",
    "            rst[i] *= right\n",
    "            right *= nums[i]\n",
    "        return rst"
   ]
  },
  {
   "cell_type": "markdown",
   "metadata": {},
   "source": [
    "### [152.med-Maximum Product Subarray](https://leetcode.com/problems/maximum-product-subarray/description/)\n",
    "##### 题意: Find the <span class=\"burk\">contiguous subarray</span> within an array (containing at least one number) which has the largest product.\n",
    "* For example, given the array [2,3,-2,4],\n",
    "* the contiguous subarray [2,3] has the largest product = 6.\n",
    "\n",
    "##### 教程 (Edward Shi): https://www.youtube.com/watch?v=0KGesmEtA5o"
   ]
  },
  {
   "cell_type": "code",
   "execution_count": 4,
   "metadata": {
    "collapsed": true
   },
   "outputs": [],
   "source": [
    "# 维持 max, min, rst 三个值. time O(n), space O(1)\n",
    "# 4/4/2018\n",
    "class Solution(object):\n",
    "    def maxProduct(self, nums):\n",
    "        \"\"\"\n",
    "        :type nums: List[int]\n",
    "        :rtype: int\n",
    "        \"\"\"\n",
    "        if not nums: return 0\n",
    "        \n",
    "        prev_max = prev_min = rst = nums[0]\n",
    "        for i in xrange(1, len(nums)):\n",
    "            x = nums[i]\n",
    "            maxv = max(max(prev_max*x, prev_min*x), x) # ❤️❤️ 如果选择 x, 则表示从这里断开了.\n",
    "            minv = min(min(prev_max*x, prev_min*x), x) # ❤️❤️ 用 tmp 替代 maxv\n",
    "            prev_max, prev_min = maxv, minv\n",
    "            rst = max(rst, maxv)\n",
    "        return rst"
   ]
  },
  {
   "cell_type": "markdown",
   "metadata": {},
   "source": [
    "### [118.easy-Pascal's Triangle](https://leetcode.com/problems/pascals-triangle/description/)\n",
    "##### 给定 numRows 生成 Pascal's Triangle"
   ]
  },
  {
   "cell_type": "code",
   "execution_count": null,
   "metadata": {
    "collapsed": true
   },
   "outputs": [],
   "source": [
    "\"\"\"\n",
    "For example, given numRows = 5,\n",
    "Return\n",
    "[\n",
    "     [1],\n",
    "    [1,1],\n",
    "   [1,2,1],\n",
    "  [1,3,3,1],\n",
    " [1,4,6,4,1]\n",
    "]\n",
    "\"\"\""
   ]
  },
  {
   "cell_type": "code",
   "execution_count": null,
   "metadata": {
    "collapsed": true
   },
   "outputs": [],
   "source": [
    "# State transition equation:\n",
    "#     dp[i][j] = dp[i-1][j-1] + dp[i-1][j] # 因为只有一个 index 重合, 所以可以使用 vector 就可以搞定.\n",
    "class Solution(object):\n",
    "    def generate(self, nr):\n",
    "        \"\"\"\n",
    "        :type nr: int\n",
    "        :rtype: List[List[int]]\n",
    "        \"\"\"\n",
    "        if nr <= 0: return []\n",
    "        \n",
    "        rst = [[1]*(i+1) for i in xrange(nr)] # ❤️ 定义三角形的方式.\n",
    "        for i in xrange(1, nr): # ❤️ 确定范围很重要\n",
    "            for j in xrange(i-1, 0, -1): # ❤️❤️ 确定范围很重要\n",
    "                rst[i][j] = rst[i-1][j-1] + rst[i-1][j] # ❤️❤️只有列标 j 是重合的.\n",
    "        return rst"
   ]
  },
  {
   "cell_type": "code",
   "execution_count": null,
   "metadata": {
    "collapsed": true
   },
   "outputs": [],
   "source": [
    "class Solution(object):\n",
    "    def generate(self, nr):\n",
    "        \"\"\"\n",
    "        :type numRows: int\n",
    "        :rtype: List[List[int]]\n",
    "        \"\"\"\n",
    "        if nr < 0: return []\n",
    "        \n",
    "        rst = [[1]*(i+1) for i in xrange(nr)]\n",
    "        for i in xrange(2, nr):\n",
    "            for j in xrange(1, i):\n",
    "                rst[i][j] = rst[i-1][j-1] + rst[i-1][j]\n",
    "        return rst"
   ]
  },
  {
   "cell_type": "markdown",
   "metadata": {},
   "source": [
    "### [119.easy-Pascal's Triangle II](https://leetcode.com/problems/pascals-triangle-ii/description/)\n",
    "##### 题意: 只要求返回第 k-th row 的 Pascal's Triangle. 要求只用 $O(k)$ 的空间.\n",
    "##### 类似题目: [62.med-Unique Paths](https://leetcode.com/problems/unique-paths/description/)"
   ]
  },
  {
   "cell_type": "code",
   "execution_count": null,
   "metadata": {
    "collapsed": true
   },
   "outputs": [],
   "source": [
    "# ❤️❤️ IDEA: 当只是用一行 list 的时候, 为了防止结果相互干扰, 我们需要 j 从大到小跟新.\n",
    "# 更新方程是 rst[i][j] = rst[i-1][j-1] + rst[i-1][j]\n",
    "class Solution(object):\n",
    "    def getRow(self, nr):\n",
    "        \"\"\"\n",
    "        :type nr: int\n",
    "        :rtype: List[int]\n",
    "        \"\"\"\n",
    "        nr += 1 # ❤️❤️❤️ 0-based index --> 1-based cnt\n",
    "        if nr <= 0: return []\n",
    "        \n",
    "        rst = [1] * nr\n",
    "        for i in xrange(1, nr):\n",
    "            for j in xrange(i-1, 0, -1): # ❤️❤️❤️ 和 118 不同的地方.\n",
    "                rst[j] += rst[j-1]\n",
    "        return rst"
   ]
  },
  {
   "cell_type": "markdown",
   "metadata": {},
   "source": [
    "### [❓41.hard-First Missing Positive](https://leetcode.com/problems/first-missing-positive/description/)\n",
    "##### 题意: Given an unsorted integer array, find the first missing positive integer. (<span class=\"burk\">要求</span>: <span class=\"girk\">O(n) time and uses constant space</span>)."
   ]
  },
  {
   "cell_type": "code",
   "execution_count": null,
   "metadata": {
    "collapsed": true
   },
   "outputs": [],
   "source": [
    "\"\"\" For example -------------\n",
    "Given [1,2,0] return 3,\n",
    "and [3,4,-1,1] return 2.\n",
    "\"\"\""
   ]
  },
  {
   "cell_type": "markdown",
   "metadata": {},
   "source": [
    "### [228.med-Summary Ranges](https://leetcode.com/problems/summary-ranges/description/)\n",
    "##### 题意: Given a sorted integer array without duplicates, return the summary of its ranges."
   ]
  },
  {
   "cell_type": "code",
   "execution_count": null,
   "metadata": {
    "collapsed": true
   },
   "outputs": [],
   "source": [
    "\"\"\"\n",
    "Example 1:\n",
    "Input: [0,1,2,4,5,7]\n",
    "Output: [\"0->2\",\"4->5\",\"7\"]\n",
    "\n",
    "Example 2:\n",
    "Input: [0,2,3,4,6,8,9]\n",
    "Output: [\"0\",\"2->4\",\"6\",\"8->9\"]\n",
    "\"\"\""
   ]
  },
  {
   "cell_type": "code",
   "execution_count": null,
   "metadata": {
    "collapsed": true
   },
   "outputs": [],
   "source": [
    "# 经验总结: 所有这种到最后一个元素总是需要处理的问题, 在 list.append 一个元素, 等结束的时候再 pop\n",
    "# 出去. 这种方式是最便捷的.\n",
    "class Solution(object):\n",
    "    def summaryRanges(self, nums):\n",
    "        \"\"\"\n",
    "        :type nums: List[int]\n",
    "        :rtype: List[str]\n",
    "        \"\"\"\n",
    "        if not nums: return []\n",
    "        \n",
    "        rst = []\n",
    "        nums.append(None) # ❤️❤️ 最大面积长方形在 histgram 类似.\n",
    "        start = nums[0]\n",
    "        for i in xrange(len(nums)-1):\n",
    "            if nums[i]+1 != nums[i+1]: # ❎❤️❤️ 很容易忘记 + 1\n",
    "                end = nums[i]\n",
    "                if end==start:\n",
    "                    tmp = str(start)\n",
    "                else:\n",
    "                    tmp = str(start) + \"->\" + str(end)\n",
    "                rst.append(tmp)\n",
    "                start = nums[i+1]\n",
    "        nums.pop() # ❤️❤️ 最大面积长方形在 histgram 类似.\n",
    "        return rst"
   ]
  },
  {
   "cell_type": "markdown",
   "metadata": {},
   "source": [
    "### [❤️❤️448.easy-Find All Numbers Disappeared in an Array](https://leetcode.com/problems/find-all-numbers-disappeared-in-an-array/description/)\n",
    "##### 题意: Given an array of integers where $1 ≤ a[i] ≤ n$ ($n$ = size of array), some elements appear twice and others appear once.\n",
    "* Find all the elements of $[1, n]$ inclusive that do not appear in this array.\n",
    "* Could you do it without extra space and in $O(n)$ runtime? You may assume the returned list does not count as extra space."
   ]
  },
  {
   "cell_type": "code",
   "execution_count": null,
   "metadata": {
    "collapsed": true
   },
   "outputs": [],
   "source": [
    "\"\"\"\n",
    "Example:\n",
    "Input: [4,3,2,7,8,2,3,1]\n",
    "Output: [5,6]\n",
    "\"\"\""
   ]
  },
  {
   "cell_type": "code",
   "execution_count": 10,
   "metadata": {},
   "outputs": [
    {
     "name": "stdout",
     "output_type": "stream",
     "text": [
      "[5, 6]\n"
     ]
    }
   ],
   "source": [
    "# IDEA: 利用 array 中 interger 范围和 index 范围吻合的特性; 通过改变 array 数值的符号, \n",
    "# 找到哪些位的符号没有改变, 从而找到 missing value.\n",
    "class Solution(object):\n",
    "    def findDisappearedNumbers(self, nums):\n",
    "        \"\"\"\n",
    "        :type nums: List[int]\n",
    "        :rtype: List[int]\n",
    "        \"\"\"\n",
    "        if not nums: return []\n",
    "        \n",
    "        for x in nums:\n",
    "            i = abs(x)-1\n",
    "            if nums[i] > 0:\n",
    "                nums[i] = -nums[i]\n",
    "        \n",
    "        rst = []\n",
    "        for i, x in enumerate(nums):\n",
    "            if x > 0: rst.append(i+1)\n",
    "        return rst\n",
    "        \n",
    "print Solution().findDisappearedNumbers([4,3,2,7,8,2,3,1])"
   ]
  },
  {
   "cell_type": "markdown",
   "metadata": {},
   "source": [
    "### [❤️❤️442.med-Find All Duplicates in an Array](https://leetcode.com/problems/find-all-duplicates-in-an-array/description/)\n",
    "##### 题意: Given an array of integers where $1 ≤ a[i] ≤ n$ ($n$ = size of array), some elements <span class=\"burk\">appear twice</span> and others appear once.\n",
    "* Find all the elements that appear twice in this array.\n",
    "* Could you <span class=\"burk\">do it without extra space</span> and in <span class=\"burk\">O(n) runtime</span>?"
   ]
  },
  {
   "cell_type": "code",
   "execution_count": null,
   "metadata": {
    "collapsed": true
   },
   "outputs": [],
   "source": [
    "\"\"\" Example:\n",
    "Input:  [4,3,2,7,8,2,3,1]\n",
    "Output: [2,3]\n",
    "\"\"\""
   ]
  },
  {
   "cell_type": "code",
   "execution_count": 16,
   "metadata": {},
   "outputs": [
    {
     "name": "stdout",
     "output_type": "stream",
     "text": [
      "[2, 3]\n"
     ]
    }
   ],
   "source": [
    "# ❤️IDEA❤️: 因为 array value 和 index 吻合的特性, 通过改变数值符号, 检查哪些位的数字改变\n",
    "# 了两次, 从而找到 duplicate number.\n",
    "class Solution(object):\n",
    "    def findDuplicates(self, nums):\n",
    "        \"\"\"\n",
    "        :type nums: List[int]\n",
    "        :rtype: List[int]\n",
    "        \"\"\"\n",
    "        if not nums: return []\n",
    "        \n",
    "        rst = []\n",
    "        for x in nums:\n",
    "            i = abs(x) - 1\n",
    "            if nums[i] > 0:\n",
    "                nums[i] = -nums[i]\n",
    "            elif nums[i] < 0: # ❤️❤️❤️ 说明之前出现过了, 第二次出现.\n",
    "                rst.append(i+1)\n",
    "        return rst\n",
    "    \n",
    "print Solution().findDuplicates([4,3,2,7,8,2,3,1])"
   ]
  },
  {
   "cell_type": "markdown",
   "metadata": {},
   "source": [
    "### [❤️189.easy-Rotate Array](https://leetcode.com/problems/rotate-array/description/)\n",
    "##### 题意 (4/7/18): Rotate an array of n elements to the right by k steps. \n",
    "\n",
    "##### ❤️教程❤️: https://www.youtube.com/watch?v=4-srx32gZYA"
   ]
  },
  {
   "cell_type": "code",
   "execution_count": null,
   "metadata": {
    "collapsed": true
   },
   "outputs": [],
   "source": [
    "\"\"\" \n",
    "For example, with n = 7 and k = 3, the array [1,2,3,4,5,6,7] is rotated to [5,6,7,1,2,3,4] \n",
    "\"\"\""
   ]
  },
  {
   "cell_type": "code",
   "execution_count": null,
   "metadata": {
    "collapsed": true
   },
   "outputs": [],
   "source": [
    "# Time: O(n),  Space: O(1)\n",
    "class Solution(object):\n",
    "    def rotate(self, nums, k):\n",
    "        \"\"\"\n",
    "        :type nums: List[int]\n",
    "        :type k: int\n",
    "        :rtype: void Do not return anything, modify nums in-place instead.\n",
    "        \"\"\"\n",
    "        if not nums: return \n",
    "        \n",
    "        n = len(nums)\n",
    "        k = k % n # ❤️❤️ 先处理 k 的范围, 很重要.\n",
    "        self.reverseArray(nums, 0, n-1) # ❤️❤️❤️ 三次反转比较巧妙.\n",
    "        self.reverseArray(nums, 0, k-1)\n",
    "        self.reverseArray(nums, k, n-1)\n",
    "        \n",
    "    def reverseArray(self, nums, l, r): # ❤️❤️❤️ 反转这个函数本身比较有意思.\n",
    "        if l<0 or r>=len(nums): return \n",
    "        while l < r:\n",
    "            nums[l], nums[r] = nums[r], nums[l]\n",
    "            l += 1\n",
    "            r -= 1"
   ]
  },
  {
   "cell_type": "code",
   "execution_count": null,
   "metadata": {
    "collapsed": true
   },
   "outputs": [],
   "source": [
    "# Time: O(n),  Space: O(n)\n",
    "class Solution(object):\n",
    "    def rotate(self, nums, k):\n",
    "        \"\"\"\n",
    "        :type nums: List[int]\n",
    "        :type k: int\n",
    "        :rtype: void Do not return anything, modify nums in-place instead.\n",
    "        \"\"\"\n",
    "        if not nums: return nums\n",
    "        \n",
    "        n = len(nums)\n",
    "        tmp = [0]*n\n",
    "        for i in xrange(n):\n",
    "            tmp[(i+k)%n] = nums[i] # ❤️❤️❤️ (i+k)%n 非常巧妙 ❤️❤️❤️ \n",
    "        \n",
    "        for i in xrange(n):\n",
    "            nums[i] = tmp[i]      "
   ]
  },
  {
   "cell_type": "markdown",
   "metadata": {},
   "source": [
    "### [169.easy-Majority Element](https://leetcode.com/problems/majority-element/description/)\n",
    "##### 题意: Given an array of size n, find the majority element. The majority element is the element that appears more than ⌊ n/2 ⌋ times.\n",
    "* You may assume that the array is non-empty and the majority element always exist in the array."
   ]
  },
  {
   "cell_type": "code",
   "execution_count": null,
   "metadata": {
    "collapsed": true
   },
   "outputs": [],
   "source": [
    "class Solution(object):\n",
    "    def majorityElement(self, nums):\n",
    "        \"\"\"\n",
    "        :type nums: List[int]\n",
    "        :rtype: int\n",
    "        \"\"\"\n",
    "        if not nums: return -1\n",
    "            \n",
    "        rst, cnt = 0, 0\n",
    "        for x in nums:\n",
    "            if cnt == 0:\n",
    "                rst = x\n",
    "                \n",
    "            if rst == x:\n",
    "                cnt += 1\n",
    "            else:\n",
    "                cnt -= 1\n",
    "        return rst\n",
    "        "
   ]
  },
  {
   "cell_type": "markdown",
   "metadata": {},
   "source": [
    "### [229.med-Majority Element II](https://leetcode.com/problems/majority-element-ii/description/)\n",
    "##### 题意: Given an integer array of size n, find all elements that appear more than ⌊ n/3 ⌋ times. The algorithm should run in linear time and in O(1) space."
   ]
  },
  {
   "cell_type": "code",
   "execution_count": null,
   "metadata": {
    "collapsed": true
   },
   "outputs": [],
   "source": [
    "class Solution(object):\n",
    "    def majorityElement(self, nums):\n",
    "        \"\"\"\n",
    "        :type nums: List[int]\n",
    "        :rtype: List[int]\n",
    "        \"\"\"\n",
    "        if not nums: return []\n",
    "        \n",
    "        val1 = cnt1 = 0\n",
    "        val2 = cnt2 = 0\n",
    "        for x in nums:\n",
    "            if x == val1: \n",
    "                cnt1 += 1\n",
    "            elif x == val2: \n",
    "                cnt2 += 1\n",
    "            elif cnt1 == 0: \n",
    "                val1 = x\n",
    "                cnt1 = 1\n",
    "            elif cnt2 == 0:\n",
    "                val2 = x\n",
    "                cnt2 = 1\n",
    "            else:\n",
    "                cnt1 -= 1\n",
    "                cnt2 -= 1\n",
    "                \n",
    "        cnt1 = cnt2 = 0\n",
    "        for x in nums:\n",
    "            if x == val1: \n",
    "                cnt1 += 1 # ❤️❤️ if.. elif.. 是避免 val1 == val2 的情况\n",
    "            elif x == val2: \n",
    "                cnt2 += 1\n",
    "                \n",
    "        rst, n = [], len(nums)\n",
    "        if cnt1 > n/3: rst.append(val1) \n",
    "        if cnt2 > n/3: rst.append(val2)\n",
    "            \n",
    "        return rst"
   ]
  },
  {
   "cell_type": "markdown",
   "metadata": {},
   "source": [
    "### [697.easy-Degree of an Array](https://leetcode.com/problems/degree-of-an-array/description/)\n",
    "##### 题意: 给定非空 array, 它的 degree 定义为出现最频繁数字的次数. 找到  (contiguous) subarray of nums 具有相同 degree, 返回这样 subarray 的长度.\n",
    "* nums.length will be between 1 and 50,000.\n",
    "* nums[i] will be an integer between 0 and 49,999."
   ]
  },
  {
   "cell_type": "code",
   "execution_count": null,
   "metadata": {
    "collapsed": true
   },
   "outputs": [],
   "source": [
    "\"\"\"\n",
    "Example 1: -----------------------------\n",
    "Input: [1, 2, 2, 3, 1]\n",
    "Output: 2\n",
    "Explanation: \n",
    "The input array has a degree of 2 because both elements 1 and 2 appear twice.\n",
    "Of the subarrays that have the same degree:\n",
    "[1, 2, 2, 3, 1], [1, 2, 2, 3], [2, 2, 3, 1], [1, 2, 2], [2, 2, 3], [2, 2]\n",
    "The shortest length is 2. So return 2.\n",
    "\n",
    "Example 2: -----------------------------\n",
    "Input: [1,2,2,3,1,4,2]\n",
    "Output: 6\n",
    "\"\"\""
   ]
  },
  {
   "cell_type": "code",
   "execution_count": 26,
   "metadata": {},
   "outputs": [
    {
     "name": "stdout",
     "output_type": "stream",
     "text": [
      "7\n"
     ]
    }
   ],
   "source": [
    "# ❤️IDEA❤️: 利用 dictionary (hash table) 来相同值出现的位置, 以及次数.\n",
    "class Solution(object):\n",
    "    def findShortestSubArray(self, nums):\n",
    "        \"\"\"\n",
    "        :type nums: List[int]\n",
    "        :rtype: int\n",
    "        \"\"\"\n",
    "        if not nums: return -1\n",
    "        \n",
    "        dic = {}\n",
    "        maxCnt = 0\n",
    "        for i, x in enumerate(nums):\n",
    "            if x in dic:\n",
    "                dic[x].append(i) # ❤️❤️ dictionary 设计成存储这样的东西非常重要.\n",
    "            else:\n",
    "                dic[x] = [i]\n",
    "                \n",
    "            if len(dic[x]) > maxCnt:\n",
    "                maxCnt = len(dic[x])\n",
    "            \n",
    "        rst = len(nums)\n",
    "        for val in dic.values():\n",
    "            if len(val) == maxCnt:\n",
    "                rst = min(rst, val[-1] - val[0] + 1) # ❤️\n",
    "        return rst\n",
    "    \n",
    "print Solution().findShortestSubArray([2,1,1,2,1,3,3,3,1,3,1,3,2])"
   ]
  },
  {
   "cell_type": "markdown",
   "metadata": {},
   "source": [
    "## [Hash - top frequency]()"
   ]
  },
  {
   "cell_type": "markdown",
   "metadata": {},
   "source": [
    "### [1.easy-Two Sum](https://leetcode.com/problems/two-sum/description/)\n",
    "##### 题目: 找出数组中两个数之和等于 target，返回 index，假设只有一组\n",
    "##### 分析: hash-table，只需要一层搜索，复杂度应该是 O(n)。\n",
    "##### 总结: hash-table, constant time to search, very suitable for the unsorted array problem."
   ]
  },
  {
   "cell_type": "code",
   "execution_count": null,
   "metadata": {
    "collapsed": true
   },
   "outputs": [],
   "source": [
    "class Solution(object):\n",
    "    def twoSum(self, nums, target):\n",
    "        \"\"\"\n",
    "        :type nums: List[int]\n",
    "        :type target: int\n",
    "        :rtype: List[int]\n",
    "        \"\"\"\n",
    "        if not nums: return []\n",
    "        \n",
    "        dic = {}\n",
    "        for i, x in enumerate(nums):\n",
    "            if x in dic:\n",
    "                return [dic[x], i]\n",
    "            else:\n",
    "                dic[target-x] = i # ❤️ 这里存放的是 target-x, 而不是 x, 不要和前面混了\n",
    "        return []"
   ]
  },
  {
   "cell_type": "code",
   "execution_count": null,
   "metadata": {
    "collapsed": true
   },
   "outputs": [],
   "source": [
    "# c++\n",
    "class Solution {\n",
    "public:\n",
    "    vector<int> twoSum(vector<int>& nums, int target) {\n",
    "        \n",
    "        // Key is the number and value is its index in the vector.\n",
    "        unordered_map<int, int> hash;\n",
    "        vector<int> rst;\n",
    "        \n",
    "        // if numberToFind is found in map, return them\n",
    "        for(int i=0; i<nums.size(); i++) {\n",
    "            int x = nums[i];\n",
    "            int y = target - x;\n",
    "            \n",
    "            if(hash.find(y) != hash.end()) { // ❎ hash.end() 有括号的\n",
    "                rst.push_back(hash[y]);\n",
    "                rst.push_back(i);\n",
    "                return rst;\n",
    "            }\n",
    "            // number was not found. Put it in the map.\n",
    "            hash[x] = i;\n",
    "        }\n",
    "        return rst;\n",
    "    }\n",
    "};"
   ]
  },
  {
   "cell_type": "markdown",
   "metadata": {},
   "source": [
    "### [❤️❤️170.easy-Two Sum III - Data structure design](https://leetcode.com/problems/two-sum-iii-data-structure-design/description/)\n",
    "##### <span class=\"burk\">题意</span>: Design and implement a TwoSum class. It should support the following operations: add and find.\n",
    "* <span class=\"burk\">add</span> - Add the number to an internal data structure.\n",
    "* <span class=\"burk\">find</span> - Find if there exists any pair of numbers which sum is equal to the value.\n",
    "\n",
    "##### <span class=\"burk\">总结</span>: 两个操作, 一个 O(1), 另一个 O(n), 需要 balance 复杂度.  需要分两种情况讨论. carefully read line 27."
   ]
  },
  {
   "cell_type": "code",
   "execution_count": 7,
   "metadata": {
    "collapsed": true
   },
   "outputs": [],
   "source": [
    "# add: t 1, s n.\n",
    "# find: t n, s 1.\n",
    "class TwoSum(object):\n",
    "    def __init__(self):\n",
    "        \"\"\"\n",
    "        Initialize your data structure here.\n",
    "        \"\"\"\n",
    "        self.dic = {}\n",
    "\n",
    "    def add(self, number):\n",
    "        \"\"\"\n",
    "        Add the number to an internal data structure..\n",
    "        :type number: int\n",
    "        :rtype: void\n",
    "        \"\"\"\n",
    "        self.dic[number] = self.dic.get(number,0) + 1\n",
    "\n",
    "    def find(self, value):\n",
    "        \"\"\"\n",
    "        Find if there exists any pair of numbers which sum is equal to the value.\n",
    "        :type value: int\n",
    "        :rtype: bool\n",
    "        \"\"\"\n",
    "        dic = self.dic\n",
    "        for x in dic: # ❤️❤️❤️ 和 x in dic.keys()\n",
    "            y = value - x\n",
    "            if (x==y and dic[x]>1) or (x!=y and y in dic): # ❤️❤️ amazing line, consider 2 cases.\n",
    "                return True\n",
    "        return False\n",
    "\n",
    "# Your TwoSum object will be instantiated and called as such:\n",
    "# obj = TwoSum()\n",
    "# obj.add(number)\n",
    "# param_2 = obj.find(value)"
   ]
  },
  {
   "cell_type": "markdown",
   "metadata": {},
   "source": [
    "### [217.easy-Contains Duplicate](https://leetcode.com/problems/contains-duplicate/description/)\n",
    "##### 题意: Given an array of integers, find if the array contains any duplicates. Your function should return true if any value appears at least twice in the array, and it should return false if every element is distinct.\n",
    "##### 分析\n",
    "##### 总结"
   ]
  },
  {
   "cell_type": "code",
   "execution_count": null,
   "metadata": {
    "collapsed": true
   },
   "outputs": [],
   "source": [
    "class Solution(object):\n",
    "    def containsDuplicate(self, nums):\n",
    "        \"\"\"\n",
    "        :type nums: List[int]\n",
    "        :rtype: bool\n",
    "        \"\"\"\n",
    "        if not nums: return False\n",
    "        \n",
    "        return len(set(nums)) != len(nums)"
   ]
  },
  {
   "cell_type": "code",
   "execution_count": null,
   "metadata": {
    "collapsed": true
   },
   "outputs": [],
   "source": [
    "# c++ \n",
    "#include <set>\n",
    "using namespace std;\n",
    "\n",
    "class Solution {\n",
    "public:\n",
    "    bool containsDuplicate(vector<int>& nums) {\n",
    "        return nums.size() > set<int>(nums.begin(), nums.end()).size();        \n",
    "    }\n",
    "};"
   ]
  },
  {
   "cell_type": "markdown",
   "metadata": {},
   "source": [
    "### [219.easy-Contains Duplicate II](https://leetcode.com/problems/contains-duplicate-ii/description/)\n",
    "##### 题意: Given an array of integers and an integer k, find out whether there are two <span class=\"burk\">distinct indices i and j</span> in the array such that <span class=\"burk\">nums[i] = nums[j]</span> and the absolute difference between i and j is at most k"
   ]
  },
  {
   "cell_type": "code",
   "execution_count": null,
   "metadata": {
    "collapsed": true
   },
   "outputs": [],
   "source": [
    "# IDEA: 简单的 hash-table 应用.\n",
    "class Solution(object):\n",
    "    def containsNearbyDuplicate(self, nums, k):\n",
    "        \"\"\"\n",
    "        :type nums: List[int]\n",
    "        :type k: int\n",
    "        :rtype: bool\n",
    "        \"\"\"\n",
    "        if not nums: return False\n",
    "        \n",
    "        dic = {}\n",
    "        for i, x in enumerate(nums):\n",
    "            if x in dic:\n",
    "                if i - dic[x] <= k: \n",
    "                    return True\n",
    "            dic[x] = i # ❎❤️❤️ 不能将 dic[x] = i 放在 else 中, 需要随时更新, 最新 index.\n",
    "        return False\n",
    "        "
   ]
  },
  {
   "cell_type": "markdown",
   "metadata": {},
   "source": [
    "### [❓❓220.med-Contains Duplicate III](https://leetcode.com/problems/contains-duplicate-iii/description/)\n",
    "##### 给定 array of integers, 判断是否存在两个元素满足以下两个条件:\n",
    "* nums[i] 和 nums[j] 的绝对差小于等于 t.\n",
    "* 下标 i 和 j 的绝对值小于等于 k."
   ]
  },
  {
   "cell_type": "code",
   "execution_count": 3,
   "metadata": {},
   "outputs": [
    {
     "name": "stdout",
     "output_type": "stream",
     "text": [
      "0 2\n",
      "2 4\n",
      "0 2\n",
      "False\n"
     ]
    }
   ],
   "source": [
    "class Solution(object):\n",
    "    def containsNearbyAlmostDuplicate(self, nums, k, t):\n",
    "        \"\"\"\n",
    "        :type nums: List[int]\n",
    "        :type k: int\n",
    "        :type t: int\n",
    "        :rtype: bool\n",
    "        \"\"\"\n",
    "        if not nums: return False\n",
    "        if k < 1 or t < 0: \n",
    "            print \"hello\"\n",
    "            return False\n",
    "        \n",
    "        dic = {}\n",
    "        for i, x in enumerate(nums):\n",
    "            d1 = x - t\n",
    "            d2 = x + t\n",
    "            print d1, d2\n",
    "            if d1 in dic and i-dic[d1]<=k:\n",
    "                return True\n",
    "            elif d2 in dic and i-dic[d2]<=k:\n",
    "                return True\n",
    "            dic[x] = i\n",
    "        return False\n",
    "\n",
    "print Solution().containsNearbyAlmostDuplicate([1,3,1], 2, 1)"
   ]
  },
  {
   "cell_type": "markdown",
   "metadata": {},
   "source": [
    "### [560.med-Subarray Sum Equals K](https://leetcode.com/problems/subarray-sum-equals-k/description/)\n",
    "##### 题意: Given an array of integers and an integer k, you need to find the total number of <span class=\"burk\">continuous subarrays</span> whose sum equals to k.\n",
    "##### Note that:\n",
    "* The length of the array is in range [1, 20,000].\n",
    "* The range of numbers in the array is [-1000, 1000] and the range of the integer k is [-1e7, 1e7]."
   ]
  },
  {
   "cell_type": "code",
   "execution_count": null,
   "metadata": {
    "collapsed": true
   },
   "outputs": [],
   "source": [
    "\"\"\" Example 1\n",
    "Input:nums = [1,1,1], k = 2\n",
    "Output: 2\n",
    "\"\"\""
   ]
  },
  {
   "cell_type": "code",
   "execution_count": null,
   "metadata": {
    "collapsed": true
   },
   "outputs": [],
   "source": [
    "# 方法1: 利用 hash-table 和 cumSum 得到结果.\n",
    "# Time & Space: O(n)\n",
    "class Solution(object):\n",
    "    def subarraySum(self, nums, k):\n",
    "        \"\"\"\n",
    "        :type nums: List[int]\n",
    "        :type k: int\n",
    "        :rtype: int\n",
    "        \"\"\"\n",
    "        if not nums: return 0\n",
    "    \n",
    "        s = cnt = 0\n",
    "        dic = {0 : 1} # ❤️❤️❤️❤️ 非常重要, k=第一个元素本身的情况, 不需要.\n",
    "        for x in nums:\n",
    "            s += x # ❤️ cumSum\n",
    "            cnt += dic.get(s-k, 0) # ❤️ 看之前有没有出现过.\n",
    "            dic[s] = dic.get(s, 0) + 1 # ❤️ 保存新的结果.\n",
    "        return cnt"
   ]
  },
  {
   "cell_type": "code",
   "execution_count": null,
   "metadata": {
    "collapsed": true
   },
   "outputs": [],
   "source": [
    "# 和上面的方法是一致的, 只是写得更加详细, 易懂. # Time & Space: O(n)\n",
    "class Solution(object):\n",
    "    def subarraySum(self, nums, k):\n",
    "        \"\"\"\n",
    "        :type nums: List[int]\n",
    "        :type k: int\n",
    "        :rtype: int\n",
    "        \"\"\"\n",
    "        if not nums: return 0\n",
    "        \n",
    "        n = len(nums)\n",
    "        cumSum = [0] * (n + 1)\n",
    "        for i in xrange(1, n+1):\n",
    "            cumSum[i] = cumSum[i-1] + nums[i-1]\n",
    "            \n",
    "        dic = {}\n",
    "        cnt = 0\n",
    "        for x in cumSum:\n",
    "            cnt += dic.get(x-k,0)\n",
    "            dic[x] = dic.get(x,0) + 1\n",
    "        return cnt"
   ]
  },
  {
   "cell_type": "code",
   "execution_count": null,
   "metadata": {
    "collapsed": true
   },
   "outputs": [],
   "source": [
    "# Time: O(n^2)    Space: O(n)    超时了.\n",
    "class Solution(object):\n",
    "    def subarraySum(self, nums, k):\n",
    "        \"\"\"\n",
    "        :type nums: List[int]\n",
    "        :type k: int\n",
    "        :rtype: int\n",
    "        \"\"\"\n",
    "        if not nums: return 0\n",
    "        \n",
    "        n = len(nums)\n",
    "        cumSum = [0] * (n + 1)\n",
    "        for i in xrange(1, n+1):\n",
    "            cumSum[i] = cumSum[i-1] + nums[i-1]\n",
    "            \n",
    "        cnt = 0\n",
    "        for i in xrange(n):\n",
    "            for j in xrange(i, n):\n",
    "                if cumSum[j+1] - cumSum[i] == k:\n",
    "                    cnt += 1\n",
    "        return cnt"
   ]
  },
  {
   "cell_type": "markdown",
   "metadata": {},
   "source": [
    "### [760.easy-Find Anagram Mappings](https://leetcode.com/problems/find-anagram-mappings/description/)\n",
    "##### 题意: Given two lists A and B, and B is an anagram of A. B is an anagram of A means B is made by randomizing the order of the elements in A.\n",
    "* We want to find an index mapping P, from A to B. A mapping P[i] = j means the ith element in A appears in B at index j.\n",
    "* These lists A and B may contain duplicates. If there are multiple answers, output any of them."
   ]
  },
  {
   "cell_type": "code",
   "execution_count": null,
   "metadata": {
    "collapsed": true
   },
   "outputs": [],
   "source": [
    "\"\"\"\n",
    "For example, given\n",
    "\n",
    "A = [12, 28, 46, 32, 50]\n",
    "B = [50, 12, 32, 46, 28]\n",
    "We should return\n",
    "[1, 4, 3, 2, 0]\n",
    "\"\"\""
   ]
  },
  {
   "cell_type": "code",
   "execution_count": null,
   "metadata": {
    "collapsed": true
   },
   "outputs": [],
   "source": [
    "class Solution(object):\n",
    "    def anagramMappings(self, A, B):\n",
    "        \"\"\"\n",
    "        :type A: List[int]\n",
    "        :type B: List[int]\n",
    "        :rtype: List[int]\n",
    "        \"\"\"\n",
    "        if len(A) != len(B) or not A: return []\n",
    "        \n",
    "        dic = {}\n",
    "        for i, x in enumerate(B):\n",
    "            if x in dic:\n",
    "                dic[x].append(i)\n",
    "            else:\n",
    "                dic[x] = [i]\n",
    "        \n",
    "        return [dic[x].pop() for x in A] # ❤️❤️ 很简洁的写法"
   ]
  }
 ],
 "metadata": {
  "kernelspec": {
   "display_name": "Python 3",
   "language": "python",
   "name": "python3"
  },
  "language_info": {
   "codemirror_mode": {
    "name": "ipython",
    "version": 3
   },
   "file_extension": ".py",
   "mimetype": "text/x-python",
   "name": "python",
   "nbconvert_exporter": "python",
   "pygments_lexer": "ipython3",
   "version": "3.7.0"
  },
  "toc": {
   "base_numbering": 1,
   "nav_menu": {},
   "number_sections": true,
   "sideBar": true,
   "skip_h1_title": true,
   "title_cell": "Table of Contents",
   "title_sidebar": "Contents",
   "toc_cell": true,
   "toc_position": {
    "height": "805px",
    "left": "0px",
    "right": "1084.28px",
    "top": "67px",
    "width": "230px"
   },
   "toc_section_display": "block",
   "toc_window_display": true
  }
 },
 "nbformat": 4,
 "nbformat_minor": 2
}

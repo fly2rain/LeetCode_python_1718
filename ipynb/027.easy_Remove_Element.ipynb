{
 "cells": [
  {
   "cell_type": "markdown",
   "metadata": {},
   "source": [
    "# 27. Remove Element（easy）\n",
    "### 链接\n",
    "\n",
    "* 题目：https://leetcode.com/problems/remove-element/description/\n",
    "\n",
    "### 题意\n",
    "给定数组和一个数x，in-place 去除数组中的所有 x\n",
    "\n",
    "### 分析\n",
    "* 简单，只 26 还要简单，只要管理好一个 index 即可\n",
    "\n",
    "### 编程经验\n",
    "\n",
    "```python\n",
    "```"
   ]
  },
  {
   "cell_type": "markdown",
   "metadata": {},
   "source": [
    "# Method"
   ]
  },
  {
   "cell_type": "code",
   "execution_count": 1,
   "metadata": {},
   "outputs": [],
   "source": [
    "class Solution(object):\n",
    "    def removeElement(self, nums, val):\n",
    "        \"\"\"\n",
    "        :type nums: List[int]\n",
    "        :type val: int\n",
    "        :rtype: int\n",
    "        \"\"\"\n",
    "        rst = 0\n",
    "        for i in xrange (len(nums)):\n",
    "            if nums[i] == val:\n",
    "                continue    \n",
    "            nums[rst] = nums[i]\n",
    "            rst += 1\n",
    "        return rst"
   ]
  },
  {
   "cell_type": "code",
   "execution_count": 2,
   "metadata": {},
   "outputs": [
    {
     "name": "stdout",
     "output_type": "stream",
     "text": [
      "2\n"
     ]
    }
   ],
   "source": [
    "if __name__ == \"__main__\":\n",
    "    print Solution().removeElement ([3,2,2,3], 3)"
   ]
  }
 ],
 "metadata": {
  "kernelspec": {
   "display_name": "Python 2",
   "language": "python",
   "name": "python2"
  },
  "language_info": {
   "codemirror_mode": {
    "name": "ipython",
    "version": 2
   },
   "file_extension": ".py",
   "mimetype": "text/x-python",
   "name": "python",
   "nbconvert_exporter": "python",
   "pygments_lexer": "ipython2",
   "version": "2.7.13"
  }
 },
 "nbformat": 4,
 "nbformat_minor": 2
}

{
 "cells": [
  {
   "cell_type": "markdown",
   "metadata": {
    "toc": true
   },
   "source": [
    "<h1>Table of Contents<span class=\"tocSkip\"></span></h1>\n",
    "<div class=\"toc\" style=\"margin-top: 1em;\"><ul class=\"toc-item\"><li><span><a href=\"#Hard-&amp;-Great-Problems\" data-toc-modified-id=\"Hard-&amp;-Great-Problems-1\"><a href=\"\" target=\"_blank\">Hard &amp; Great Problems</a></a></span><ul class=\"toc-item\"><li><span><a href=\"#❤️42.hard-Trapping-Rain-Water\" data-toc-modified-id=\"❤️42.hard-Trapping-Rain-Water-1.1\"><a href=\"https://leetcode.com/problems/trapping-rain-water/description/\" target=\"_blank\">❤️42.hard-Trapping Rain Water</a></a></span></li><li><span><a href=\"#❓407.hard-Trapping-Rain-Water-II\" data-toc-modified-id=\"❓407.hard-Trapping-Rain-Water-II-1.2\"><a href=\"https://leetcode.com/problems/trapping-rain-water-ii/description/\" target=\"_blank\">❓407.hard-Trapping Rain Water II</a></a></span></li><li><span><a href=\"#❤️84.hard-Largest-Rectangle-in-Histogram\" data-toc-modified-id=\"❤️84.hard-Largest-Rectangle-in-Histogram-1.3\"><a href=\"https://leetcode.com/problems/largest-rectangle-in-histogram/description/\" target=\"_blank\">❤️84.hard-Largest Rectangle in Histogram</a></a></span></li><li><span><a href=\"#❤️85.hard-Maximal-Rectangle\" data-toc-modified-id=\"❤️85.hard-Maximal-Rectangle-1.4\"><a href=\"https://leetcode.com/problems/maximal-rectangle/description/\" target=\"_blank\">❤️85.hard-Maximal Rectangle</a></a></span></li><li><span><a href=\"#221.med-Maximal-Square\" data-toc-modified-id=\"221.med-Maximal-Square-1.5\"><a href=\"https://leetcode.com/problems/maximal-square/description/\" target=\"_blank\">221.med-Maximal Square</a></a></span></li><li><span><a href=\"#❤️224.hard-Basic-Calculator\" data-toc-modified-id=\"❤️224.hard-Basic-Calculator-1.6\"><a href=\"https://leetcode.com/problems/basic-calculator/description/\" target=\"_blank\">❤️224.hard-Basic Calculator</a></a></span></li><li><span><a href=\"#227.med-Basic-Calculator-II\" data-toc-modified-id=\"227.med-Basic-Calculator-II-1.7\"><a href=\"https://leetcode.com/problems/basic-calculator-ii/description/\" target=\"_blank\">227.med-Basic Calculator II</a></a></span></li><li><span><a href=\"#772.❤️hard-Basic-Calculator-III\" data-toc-modified-id=\"772.❤️hard-Basic-Calculator-III-1.8\"><a href=\"https://leetcode.com/problems/basic-calculator-iii/description/\" target=\"_blank\">772.❤️hard-Basic Calculator III</a></a></span></li><li><span><a href=\"#770.-Basic-Calculator-IV\" data-toc-modified-id=\"770.-Basic-Calculator-IV-1.9\"><a href=\"https://leetcode.com/problems/basic-calculator-iv/description/\" target=\"_blank\">770. Basic Calculator IV</a></a></span></li><li><span><a href=\"#394.med-Decode-String\" data-toc-modified-id=\"394.med-Decode-String-1.10\"><a href=\"https://leetcode.com/problems/decode-string/description/s\" target=\"_blank\">394.med-Decode String</a></a></span></li></ul></li><li><span><a href=\"#1/2018\" data-toc-modified-id=\"1/2018-2\">1/2018</a></span><ul class=\"toc-item\"><li><span><a href=\"#20.easy_Valid-Parentheses-括号\" data-toc-modified-id=\"20.easy_Valid-Parentheses-括号-2.1\"><a href=\"https://leetcode.com/problems/valid-parentheses/description/\" target=\"_blank\">20.easy_Valid Parentheses-括号</a></a></span></li><li><span><a href=\"#155.easy-Min-Stack\" data-toc-modified-id=\"155.easy-Min-Stack-2.2\"><a href=\"https://leetcode.com/problems/min-stack/description/\" target=\"_blank\">155.easy-Min Stack</a></a></span></li><li><span><a href=\"#❤️225.easy-Implement-Stack-using-Queues\" data-toc-modified-id=\"❤️225.easy-Implement-Stack-using-Queues-2.3\"><a href=\"https://leetcode.com/problems/implement-stack-using-queues/description/\" target=\"_blank\">❤️225.easy-Implement Stack using Queues</a></a></span></li><li><span><a href=\"#❤️232.easy_Implement-Queue-using-Stacks\" data-toc-modified-id=\"❤️232.easy_Implement-Queue-using-Stacks-2.4\"><a href=\"https://leetcode.com/problems/implement-queue-using-stacks/description/\" target=\"_blank\">❤️232.easy_Implement Queue using Stacks</a></a></span></li><li><span><a href=\"#682.easy-Baseball-Game\" data-toc-modified-id=\"682.easy-Baseball-Game-2.5\"><a href=\"https://leetcode.com/problems/baseball-game/description/\" target=\"_blank\">682.easy-Baseball Game</a></a></span></li></ul></li><li><span><a href=\"#2/2018\" data-toc-modified-id=\"2/2018-3\">2/2018</a></span><ul class=\"toc-item\"><li><span><a href=\"#❤️739.med-Daily-Temperatures\" data-toc-modified-id=\"❤️739.med-Daily-Temperatures-3.1\"><a href=\"https://leetcode.com/problems/daily-temperatures/description/\" target=\"_blank\">❤️739.med-Daily Temperatures</a></a></span></li><li><span><a href=\"#496.easy-Next-Greater-Element-I\" data-toc-modified-id=\"496.easy-Next-Greater-Element-I-3.2\"><a href=\"https://leetcode.com/problems/next-greater-element-i/description/\" target=\"_blank\">496.easy-Next Greater Element I</a></a></span></li><li><span><a href=\"#503.med-Next-Greater-Element-II\" data-toc-modified-id=\"503.med-Next-Greater-Element-II-3.3\"><a href=\"https://leetcode.com/problems/next-greater-element-ii/description/\" target=\"_blank\">503.med-Next Greater Element II</a></a></span></li><li><span><a href=\"#556.med-Next-Greater-Element-III\" data-toc-modified-id=\"556.med-Next-Greater-Element-III-3.4\"><a href=\"https://leetcode.com/problems/next-&lt;span class=&quot;girk&quot;&gt;greater&lt;/span&gt;-element-iii/description/\" target=\"_blank\">556.med-Next Greater Element III</a></a></span></li><li><span><a href=\"#150.med-Evaluate-Reverse-Polish-Notation\" data-toc-modified-id=\"150.med-Evaluate-Reverse-Polish-Notation-3.5\"><a href=\"https://leetcode.com/problems/evaluate-reverse-polish-notation/description/\" target=\"_blank\">150.med-Evaluate Reverse Polish Notation</a></a></span></li></ul></li></ul></div>"
   ]
  },
  {
   "cell_type": "markdown",
   "metadata": {},
   "source": [
    "# Stack\n",
    "* 题型: [Stack](https://leetcode.com/problemset/algorithms/?topicSlugs=stack)\n",
    "* 题型: [Top 100 Liked Questions + Stack](https://leetcode.com/problemset/algorithms/?topicSlugs=stack&listId=79h8rn6)"
   ]
  },
  {
   "cell_type": "markdown",
   "metadata": {},
   "source": [
    "## [Hard & Great Problems]()"
   ]
  },
  {
   "cell_type": "markdown",
   "metadata": {},
   "source": [
    "### [❤️42.hard-Trapping Rain Water](https://leetcode.com/problems/trapping-rain-water/description/)\n",
    "##### 题意: Given n non-negative integers representing an elevation map where the width of each bar is 1, compute how much water it is able to trap after raining. \n",
    "* For example, given [0,1,0,2,1,0,1,3,2,1,2,1], return 6.\n",
    "![](https://leetcode.com/static/images/problemset/rainwatertrap.png)\n",
    "\n",
    "##### 分析: 问题的关键: 在 $i$, 能存储 $min(max_{left},\\  max_{right}) - height[i]$\n",
    "\n",
    "##### <span class=\"burk\">Tag</span>: <span class=\"girk\">dynamic programming</span>  + <span class=\"girk\">two points</span>\n",
    "\n",
    "##### 教程: https://leetcode.com/problems/trapping-rain-water/solution/"
   ]
  },
  {
   "cell_type": "code",
   "execution_count": null,
   "metadata": {
    "collapsed": true
   },
   "outputs": [],
   "source": [
    "# 方法2: two points ❤️ better ❤️ 巧妙的想法\n",
    "# time: O(n), space O(1)\n",
    "class Solution(object):\n",
    "    def trap(self, height):\n",
    "        \"\"\"\n",
    "        :type height: List[int]\n",
    "        :rtype: int\n",
    "        \"\"\"\n",
    "        if not height: return 0\n",
    "        \n",
    "        rst = 0\n",
    "        left, right = 0, len(height) - 1\n",
    "        max_left = max_right = 0\n",
    "        \n",
    "        while left < right:\n",
    "            if height[left] < height[right]: # ❎注意这里对比的是heights, 不是 max_left & max_right\n",
    "                if height[left] >= max_left:\n",
    "                    max_left = height[left]\n",
    "                else:\n",
    "                    rst += max_left - height[left]\n",
    "                left += 1\n",
    "            else:\n",
    "                if height[right] >= max_right:\n",
    "                    max_right = height[right]\n",
    "                else:\n",
    "                    rst += max_right - height[right]\n",
    "                right -= 1\n",
    "        return rst"
   ]
  },
  {
   "cell_type": "code",
   "execution_count": null,
   "metadata": {
    "collapsed": true
   },
   "outputs": [],
   "source": [
    "# 方法1: dynamic programming\n",
    "# time & space: O(n)\n",
    "class Solution(object):\n",
    "    def trap(self, height):\n",
    "        \"\"\"\n",
    "        :type height: List[int]\n",
    "        :rtype: int\n",
    "        \"\"\"\n",
    "        if not height: return 0\n",
    "        n = len(height)\n",
    "    \n",
    "        left_max = [0] * n\n",
    "        left_max[0] = height[0]\n",
    "        for i in xrange(1, n): # ❤️ dp 往往需要注意这类边界的问题\n",
    "            left_max[i] = max(height[i], left_max[i-1])\n",
    "            \n",
    "        right_max = [0] * n\n",
    "        right_max[n-1] = height[n-1]\n",
    "        for i in xrange(n-2, -1, -1): # ❤️ dp 需要注意边界问题\n",
    "            right_max[i] = max(height[i], right_max[i+1])\n",
    "            \n",
    "        rst = 0\n",
    "        for i in xrange(n):\n",
    "            rst += min(left_max[i], right_max[i]) - height[i]\n",
    "        return rst"
   ]
  },
  {
   "cell_type": "markdown",
   "metadata": {},
   "source": [
    "### [❓407.hard-Trapping Rain Water II](https://leetcode.com/problems/trapping-rain-water-ii/description/)"
   ]
  },
  {
   "cell_type": "markdown",
   "metadata": {},
   "source": [
    "### [❤️84.hard-Largest Rectangle in Histogram](https://leetcode.com/problems/largest-rectangle-in-histogram/description/)\n",
    "##### 题意: \n",
    "![](https://leetcode.com/static/images/problemset/histogram.png)\n",
    "![](https://leetcode.com/static/images/problemset/histogram_area.png)\n",
    "\n",
    "##### 参考资料:\n",
    "* https://www.youtube.com/watch?v=TH9UaZ6JGcA&t=568s\n",
    "* https://www.geeksforgeeks.org/largest-rectangle-under-histogram/\n",
    "* https://leetcode.com/problems/largest-rectangle-in-histogram/discuss/28900/O(n)-stack-based-JAVA-solution"
   ]
  },
  {
   "cell_type": "code",
   "execution_count": 1,
   "metadata": {},
   "outputs": [
    {
     "name": "stdout",
     "output_type": "stream",
     "text": [
      "12\n",
      "1\n"
     ]
    }
   ],
   "source": [
    "class Solution(object):\n",
    "    def largestRectangleArea(self, heights):\n",
    "        \"\"\"\n",
    "        :type heights: List[int]\n",
    "        :rtype: int\n",
    "        \"\"\"\n",
    "        if not heights: return 0\n",
    "        \n",
    "        heights.append(0) # ❎❎ 为了应对一路上升的趋势, 添加 0 是为了, 起码计算一次.\n",
    "        rst, stack = 0, []\n",
    "        \n",
    "        for i, x in enumerate(heights): # ❤️❤️ 因为需要 index 和 x value 计算 width, 所以不能 for x in heights\n",
    "            while stack and x < heights[stack[-1]]: # ❎❤️ 这里是 while 循环,\n",
    "                h = heights[stack.pop()] ## ❤️ 只要满足条件, 一直进行.\n",
    "                w = i if not stack else i-stack[-1]-1\n",
    "                rst = max(rst, h*w) # ❤️ 有 append, 就要 pop\n",
    "            stack.append(i)\n",
    "            \n",
    "        heights.pop()\n",
    "        return rst    \n",
    "    \n",
    "print Solution().largestRectangleArea([2,4,6,5,3])\n",
    "print Solution().largestRectangleArea([1])"
   ]
  },
  {
   "cell_type": "markdown",
   "metadata": {},
   "source": [
    "### [❤️85.hard-Maximal Rectangle](https://leetcode.com/problems/maximal-rectangle/description/)\n",
    "##### 题目: Given a 2D binary matrix filled with 0's and 1's, find the <span class=\"burk\">largest rectangle</span> containing only 1's and return its area.\n",
    "* 举例: For example, given the following matrix, return 6\n",
    "``` python\n",
    "1 0 1 0 0\n",
    "1 0 1 1 1\n",
    "1 1 1 1 1\n",
    "1 0 0 1 0\n",
    "```\n",
    "\n",
    "##### 分析: 利用 84 题的思路"
   ]
  },
  {
   "cell_type": "code",
   "execution_count": 10,
   "metadata": {},
   "outputs": [
    {
     "name": "stdout",
     "output_type": "stream",
     "text": [
      "6\n"
     ]
    }
   ],
   "source": [
    "# Time: O(R*C^2), space: O(C)\n",
    "class Solution(object):\n",
    "    def maximalRectangle(self, mat):\n",
    "        \"\"\"\n",
    "        :type mat: List[List[str]]\n",
    "        :rtype: int\n",
    "        \"\"\"\n",
    "        # 1 edge condition \n",
    "        if not mat or (len(mat) == 1 and not mat[0]): return 0\n",
    "        \n",
    "        # 2 construct the histogram for each row and calculate the largest rectangle area.\n",
    "        nr, nc = len(mat), len(mat[0])\n",
    "        hist = [0] * nc\n",
    "        rst = 0\n",
    "        for r in xrange(nr):\n",
    "            for c in xrange(nc):\n",
    "                hist[c] = 0 if int(mat[r][c]) == 0 else hist[c] + 1 # ❎ 错在没有 int()\n",
    "            area = self.largestRectangleArea(hist)\n",
    "            rst = max(rst, area)\n",
    "        return rst\n",
    "                \n",
    "        \n",
    "    def largestRectangleArea(self, hist): # 84 题的解\n",
    "        \n",
    "        hist.append(0)\n",
    "        stack, rst = [], 0\n",
    "        \n",
    "        for i in xrange(len(hist)):\n",
    "            while stack and hist[i] < hist[stack[-1]]:\n",
    "                h = hist[stack.pop()]\n",
    "                w = i if not stack else i-stack[-1]-1\n",
    "                rst = max(rst, w*h)\n",
    "            stack.append(i)\n",
    "        hist.pop() # ❤️ hist 是多行共用的, 开头有append, 结尾就必须有pop, 类似于 backtracking\n",
    "        return rst                                     \n",
    "    \n",
    "######### Testing #######\n",
    "tmp = [[1,0,1,0,0],[1,0,1,1,1],[1,1,1,1,1],[1,0,0,1,0]]\n",
    "print Solution().maximalRectangle(tmp)"
   ]
  },
  {
   "cell_type": "markdown",
   "metadata": {},
   "source": [
    "### [221.med-Maximal Square](https://leetcode.com/problems/maximal-square/description/)\n",
    "##### 题意: Given a 2D binary matrix filled with 0's and 1's, find the <span class=\"burk\">largest square</span> containing only 1's and return its area.\n",
    "\n",
    "\n",
    "##### 三种解法:\n",
    "* 85 的解法, time $O(n^3)$, space $O(n)$\n",
    "* 通用 dynamic programming, time $O(n^3)$, space $O(n^2)$\n",
    "* 特殊的 dynamic programming, time $O(n^3)$, space $O(n^2)$\n",
    "\n",
    "##### 参考\n",
    "* 花花 https://www.youtube.com/watch?v=vkFUB--OYy0&t=1170s\n",
    "* Edward Shi: https://www.youtube.com/watch?v=UTF6HZYPZuc&t=2s"
   ]
  },
  {
   "cell_type": "code",
   "execution_count": null,
   "metadata": {
    "collapsed": true
   },
   "outputs": [],
   "source": [
    "# 方法3:  time O(n^2), space O(n^2)\n",
    "class Solution(object):\n",
    "    def maximalSquare(self, mat):\n",
    "        \"\"\"\n",
    "        :type mat: List[List[str]]\n",
    "        :rtype: int\n",
    "        \"\"\"\n",
    "        if not mat or (len(mat)==1 and not mat[0]): return 0\n",
    "        \n",
    "        rst = 0\n",
    "        nr, nc = len(mat) + 1, len(mat[0]) + 1 # ❤️ dp 往往需要多一行.\n",
    "        dp = [[0]*nc for i in xrange(nr)]\n",
    "        for r in xrange(1, nr):\n",
    "            for c in xrange(1, nc):\n",
    "                if mat[r-1][c-1] == \"1\": # dp 时多加一行会减少太多太多麻烦了.\n",
    "                    dp[r][c]AR = min(dp[r-1][c-1], min(dp[r-1][c], dp[r][c-1])) + 1 #❤️非线性部分\n",
    "                    rst = max(rst, dp[r][c])\n",
    "        return rst*rst"
   ]
  },
  {
   "cell_type": "code",
   "execution_count": null,
   "metadata": {
    "collapsed": true
   },
   "outputs": [],
   "source": [
    "# 方法1: time O(n^3), space O(n)\n",
    "class Solution(object):\n",
    "    def maximalSquare(self, mat):\n",
    "        \"\"\"\n",
    "        \n",
    "        :type mat: List[List[str]]\n",
    "        :rtype: int\n",
    "        \"\"\"\n",
    "        if not mat or (len(mat)==1 and not mat[0]): return 0 # ❎ 缺了 0\n",
    "        \n",
    "        rst = 0\n",
    "        nr, nc = len(mat), len(mat[0])\n",
    "        hist = [0] * nc\n",
    "        for r in xrange(nr):\n",
    "            for c in xrange(nc): # ❎❎ c 和 C 总是容易搞错.\n",
    "                hist[c] = 0 if mat[r][c] == \"0\" else hist[c] + 1\n",
    "            area = self.largestSquareArea(hist)\n",
    "            rst = max(rst, area)\n",
    "        return rst\n",
    "    \n",
    "    def largestSquareArea(self, hist):\n",
    "        if not hist: return 0\n",
    "        \n",
    "        hist.append(0)\n",
    "        stack, rst = [], 0\n",
    "        for i in xrange(len(hist)):\n",
    "            while stack and hist[i] < hist[stack[-1]]:\n",
    "                h = hist[stack.pop()]\n",
    "                w = i if not stack else i-stack[-1]-1\n",
    "                tmp = min(h, w) # ❎❎ 从 rectangle 中找出最大正方形. # ❤️❤️ 和 85 不同的地方 \n",
    "                rst = max(rst, tmp*tmp) # ❤️❤️ 和 85 不同的地方.\n",
    "            stack.append(i)\n",
    "        hist.pop()\n",
    "        return rst"
   ]
  },
  {
   "cell_type": "code",
   "execution_count": 16,
   "metadata": {},
   "outputs": [
    {
     "name": "stdout",
     "output_type": "stream",
     "text": [
      "4\n"
     ]
    }
   ],
   "source": [
    "# 方法2: 普通 dynamic programming, time O(n^3), space O(n^2). 貌似超时了.\n",
    "class Solution(object):\n",
    "    def maximalSquare(self, mat):\n",
    "        \"\"\"\n",
    "        :type mat: List[List[str]]\n",
    "        :rtype: int\n",
    "        \"\"\"\n",
    "        if not mat or (len(mat)==1 and not mat): return 0\n",
    "        \n",
    "        nr, nc = len(mat) + 1, len(mat[0]) + 1\n",
    "        sums = [[0]*(nc) for i in xrange(nr)]\n",
    "        for r in xrange(1, nr):\n",
    "            for c in xrange(1, nc):\n",
    "                sums[r][c] = int(mat[r-1][c-1]) + sums[r][c-1] \\\n",
    "                            + sums[r-1][c] - sums[r-1][c-1]\n",
    "        \n",
    "        rst = 0\n",
    "        for r in xrange(1, nr):\n",
    "            for c in xrange(1, nc):\n",
    "                for k in xrange(1, min(nr-r, nc-c) + 1):\n",
    "                    sum = sums[r+k-1][c+k-1] - sums[r-1][c+k-1] \\\n",
    "                        - sums[r+k-1][c-1] + sums[r-1][c-1]\n",
    "                    \n",
    "                    if sum == k*k: rst = max(rst, sum)\n",
    "        return rst     \n",
    "    \n",
    "######## Testing ##########\n",
    "print Solution().maximalSquare([[\"1\",\"0\",\"1\",\"0\",\"0\"],[\"1\",\"0\",\"1\",\"1\",\"1\"],[\"1\",\"1\",\"1\",\"1\",\"1\"],[\"1\",\"0\",\"0\",\"1\",\"0\"]])"
   ]
  },
  {
   "cell_type": "markdown",
   "metadata": {},
   "source": [
    "### [❤️224.hard-Basic Calculator](https://leetcode.com/problems/basic-calculator/description/)\n",
    "##### 题意: Implement a <span class=\"girk\">basic calculator</span> to <span class=\"girk\">evaluate a simple expression string</span>.\n",
    "* The expression string may contain  \n",
    "    * open ( \n",
    "    * closing parentheses ), \n",
    "    * the plus + or minus sign -, \n",
    "    * <span class=\"girk\">non-negative integers</span> \n",
    "    * empty spaces.\n",
    "* You may assume that the given expression is always valid.\n",
    "* 举例:\n",
    "```\n",
    "\"1 + 1\" = 2\n",
    "\" 2-1 + 2 \" = 3\n",
    "\"(1+(4+5+2)-3)+(6+8)\" = 23\n",
    "```\n",
    "\n",
    "##### 参考资料:\n",
    "* https://www.youtube.com/watch?v=ijyUwyt5vkU\n",
    "* https://leetcode.com/problems/basic-calculator/discuss/62361/Iterative-Java-solution-with-stack\n",
    "* https://leetcode.com/problems/basic-calculator/discuss/62362/JAVA-Easy-Version-To-Understand!!!!!"
   ]
  },
  {
   "cell_type": "code",
   "execution_count": 5,
   "metadata": {},
   "outputs": [
    {
     "name": "stdout",
     "output_type": "stream",
     "text": [
      "2\n",
      "3\n",
      "14\n",
      "23\n"
     ]
    }
   ],
   "source": [
    "# 秘诀: 1) 将(号之前的运算结果存到 stack 中, 2.等()就计算好, 将两部分存好.\n",
    "class Solution(object):\n",
    "    def calculate(self, s):\n",
    "        \"\"\"\n",
    "        :type s: str\n",
    "        :rtype: int\n",
    "        \"\"\"\n",
    "        if not s: return 0\n",
    "        \n",
    "        i, stack = 0, []\n",
    "        l1, o1 = 0, 1  # ❤️ 1) level 1 result & operation \n",
    "        while i < len(s):\n",
    "            x = s[i]\n",
    "            if x.isdigit():\n",
    "                start = i # ❤️  2) 将 string 数字转化成 int 数字.\n",
    "                while i < len(s) and s[i].isdigit(): i += 1 # ❎ 原来少了 i < len(s)\n",
    "                num = int(s[start:i])\n",
    "                i -= 1 # ❎❎ while 循环结束时, 已经跑到数字外面了.\n",
    "                \n",
    "                l1 = l1 + o1*num\n",
    "            elif x == \"(\":\n",
    "                stack.append((l1, o1))\n",
    "                l1, o1 = 0, 1\n",
    "            elif x == \")\":\n",
    "                tmp = l1 # ❤️❤️❤️ \n",
    "                l1, o1 = stack.pop()\n",
    "                l1 = l1 + o1*tmp\n",
    "            elif x == \"+\":\n",
    "                o1 = 1\n",
    "            elif x == \"-\":\n",
    "                o1 = -1\n",
    "            i += 1\n",
    "        return l1  \n",
    "    \n",
    "#### Testing ##########\n",
    "print Solution().calculate(\"1 + 1\")\n",
    "print Solution().calculate(\"2-1 + 2\")\n",
    "print Solution().calculate(\"((4+5+2)- 3) + (6)\")\n",
    "print Solution().calculate(\"(1+(4+5+2)-3)+(6+8)\")"
   ]
  },
  {
   "cell_type": "markdown",
   "metadata": {},
   "source": [
    "### [227.med-Basic Calculator II](https://leetcode.com/problems/basic-calculator-ii/description/)\n",
    "##### 题意: Implement a basic calculator to evaluate a simple expression string.\n",
    "* The expression string contains only\n",
    "    * non-negative integers, \n",
    "    * +, -, *, / operators and \n",
    "    * empty spaces \n",
    "* You may assume that the given expression is always valid.\n",
    "* 例子:\n",
    "    ``` python\n",
    "    \"3+2*2\" = 7\n",
    "    \" 3/2 \" = 1\n",
    "    \" 3+5 / 2 \" = 5 # int 整数除法\n",
    "    ```\n",
    "\n",
    "    ``` python\n",
    "    -3 / 2 = -2 # ❤️❤️❤️❤️ python float 转成 int 型自动往小的数值转变.\n",
    "    3 / 2 = 1 #  正数\n",
    "    ```"
   ]
  },
  {
   "cell_type": "code",
   "execution_count": null,
   "metadata": {
    "collapsed": true
   },
   "outputs": [],
   "source": [
    "# 总结: 和 basic caclculation IV 简化版本. \n",
    "#    time & space: O(n)\n",
    "class Solution(object):\n",
    "    def calculate(self, s):\n",
    "        \"\"\"\n",
    "        :type s: str\n",
    "        :rtype: int\n",
    "        \"\"\"\n",
    "        if not s: return 0\n",
    "        \n",
    "        i, l1, o1, l2, o2 = 0, 0, 1, 1, 1\n",
    "        while i < len(s):\n",
    "            x = s[i]\n",
    "            if x.isdigit():\n",
    "                start = i\n",
    "                while i < len(s) and s[i].isdigit(): i += 1\n",
    "                num = int(s[start:i])\n",
    "                i -= 1\n",
    "                \n",
    "                if o2 == 1: # ❤️ 此处和 IV 不一样.\n",
    "                    l2 = l2 * num\n",
    "                else:\n",
    "                    l2 = l2/num + 1 if l2<0 and l2%num else l2/num\n",
    "            elif x == \"+\" or x == \"-\":\n",
    "                l1 = l1 + o1*l2 # ❤️ 碰到下一个 + - 号, 计算前面一堆 + -\n",
    "                o1 = 1 if x==\"+\" else -1\n",
    "                l2, o2 = 1, 1 # ❤️❎\n",
    "            elif x == \"*\" or x == \"/\":\n",
    "                o2 = 1 if x==\"*\" else -1\n",
    "            i += 1\n",
    "    \n",
    "        return l1 + o1*l2\n",
    "    \n",
    "##### Testing ##########\n",
    "# print Solution().calculate(\"3+2*2\")\n",
    "print Solution().calculate(\"14-3/2\")"
   ]
  },
  {
   "cell_type": "code",
   "execution_count": 22,
   "metadata": {},
   "outputs": [
    {
     "name": "stdout",
     "output_type": "stream",
     "text": [
      "13\n"
     ]
    }
   ],
   "source": [
    "class Solution(object):\n",
    "    def calculate(self, s):\n",
    "        \"\"\"\n",
    "        :type s: str\n",
    "        :rtype: int\n",
    "        \"\"\"\n",
    "        stack = []\n",
    "        i, sign = 0, \"+\"\n",
    "        while i < len(s):\n",
    "            x = s[i]\n",
    "            if x.isdigit():\n",
    "                start = i \n",
    "                while i < len(s) and s[i].isdigit(): i += 1\n",
    "                num = int(s[start:i])\n",
    "                i -= 1\n",
    "                \n",
    "            if not x.isdigit() and x != \" \" or i==len(s)-1: # ❤️❎❤️ 第三个条件 or 非常关键. 遇到下一个符号\n",
    "                if sign == \"+\":  # 才将结果存放在 stack 中.\n",
    "                    stack.append(num)\n",
    "                elif sign == \"-\": \n",
    "                    stack.append(-num)\n",
    "                elif sign == \"*\": \n",
    "                    stack.append(stack.pop() * num) # ❤️ sign 是上一个看到的符号, 而 x 是当前看到的符号.\n",
    "                elif sign == '/': # ❤️ 上述操作非常有意思. 值得学习.\n",
    "                    tmp = stack.pop()\n",
    "                    tmp = tmp/num + 1 if tmp < 0 and tmp%num!=0  else tmp/num # ❤️❤️❤️ 非常重要\n",
    "                    stack.append(tmp)\n",
    "                sign = x\n",
    "            i += 1\n",
    "        return sum(stack)\n",
    "        \n",
    "##### Testing ##########\n",
    "# print Solution().calculate(\"3+2*2\")\n",
    "print Solution().calculate(\"14-3/2\")"
   ]
  },
  {
   "cell_type": "markdown",
   "metadata": {},
   "source": [
    "### [772.❤️hard-Basic Calculator III](https://leetcode.com/problems/basic-calculator-iii/description/)\n",
    "##### 题意: Implement a basic calculator to evaluate a simple expression string.\n",
    "* The expression string contains only\n",
    "    *  open ( and closing parentheses )\n",
    "    * non-negative integers, \n",
    "    * +, -, *, / operators and \n",
    "    * empty spaces \n",
    "* You may assume that the given expression is always valid.\n",
    "* You may assume that the given expression is always valid. All intermediate results will be in the range of [-2147483648, 2147483647].\n",
    "* 例子:\n",
    "    ``` python\n",
    "    \"1 + 1\" = 2\n",
    "    \" 6-4 / 2 \" = 4\n",
    "    \"2*(5+5*2)/3+(6/2+8)\" = 21\n",
    "    \"(2+6* 3+5- (3*14/7+2)*5)+3\"=-12\n",
    "    ```\n",
    "##### 分析\n",
    "##### 总结: ❤️❤️ https://leetcode.com/problems/basic-calculator-iii/discuss/113592/Development-of-a-generic-solution-for-the-series-of-the-calculator-problems"
   ]
  },
  {
   "cell_type": "code",
   "execution_count": null,
   "metadata": {
    "collapsed": true
   },
   "outputs": [],
   "source": [
    "# ❤️❤️ General coding 范式 ❤️❤️\n",
    "public int calculate(String s) {\n",
    "    int l1 = 0, o1 = 1; // Initialization of level one\n",
    "    int l2 = 1, o2 = 1; // Initialization of level two\n",
    "    \n",
    "    for (int i = 0; i < s.length(); i++) {\n",
    "        char c = s.charAt(i);\n",
    "        \n",
    "        if (c is a digit) {\n",
    "\n",
    "           --> we have an operand of type number, so find its value \"num\"\n",
    "           --> then evaluate at level two: l2 = (o2 == 1 ? l2 * num : l2 / num\n",
    "           \"\"\"\n",
    "           ❤️❤️ We will use l1 and o1 to denote respectively the partial result and the\n",
    "            operator in effect for level one; l2 and o2 for level two. The operators have\n",
    "            the following mapping:\n",
    "             1) o1 == 1 means +; o1 == -1 means - ;\n",
    "             2) o2 == 1 means *; o2 == -1 means /.\n",
    "            By default we have l1 = 0, o1 = 1, and l2 = 1, o2 = 1.\n",
    "           \"\"\"\n",
    "       \n",
    "        } else if (c is a lowercase letter) {\n",
    "\n",
    "           --> we have an operand of type variable, so find its name \"var\"\n",
    "           --> then look up the variable mapping table to find its value \"num\";\n",
    "           --> lastly evaluate at level two: l2 = (o2 == 1 ? l2 * num : l2 / num);\n",
    "\n",
    "        } else if (c is an opening parenthesis) {\n",
    "\n",
    "           --> we have an operand of type subexpression, so find its string representation\n",
    "           --> then ❤️ recursively call the \"calculate\" function to find its value \"num\";\n",
    "           --> lastly evaluate at level two: l2 = (o2 == 1 ? l2 * num : l2 / num);\n",
    "       \n",
    "        } else if (c is a level two operator) {\n",
    "\n",
    "            --> o2 needs to be updated: o2 = (c == '*' ? 1 : -1);\n",
    "\n",
    "        } else if (c is a level one operator) {\n",
    "\n",
    "            --> demotion happens here: l1 = l1 + o1 * l2;\n",
    "            --> o1 needs to be updated: o1 = (c == '+' ? 1 : -1);\n",
    "            --> l2, o2 need to be reset: l2 = 1, o2 = 1;\n",
    "\n",
    "       }\n",
    "\n",
    "       return (l1 + o1 * l2); // end of expression reached, so demotion happens again\n",
    "}\n"
   ]
  },
  {
   "cell_type": "code",
   "execution_count": 4,
   "metadata": {},
   "outputs": [
    {
     "name": "stdout",
     "output_type": "stream",
     "text": [
      "1\n",
      "4\n"
     ]
    }
   ],
   "source": [
    "# time & space: O(n)\n",
    "class Solution(object):\n",
    "    def calculate(self, s):\n",
    "        \"\"\"\n",
    "        :type s: str\n",
    "        :rtype: int\n",
    "        \"\"\"\n",
    "        if not s: return 0\n",
    "        \n",
    "        stack, i = [], 0\n",
    "        l1, o1, l2, o2 = 0, 1, 1, 1 # ❤️\n",
    "        \n",
    "        while i < len(s):\n",
    "            x = s[i]\n",
    "            if x.isdigit():\n",
    "                start = i\n",
    "                while i < len(s) and s[i].isdigit(): i += 1\n",
    "                num = int(s[start:i])\n",
    "                i -= 1\n",
    "                \n",
    "                l2 = l2*num if o2==1 else l2/num\n",
    "\n",
    "            elif x == \"(\":\n",
    "                # First preserve the curr caclculation status\n",
    "                stack.append((l1, o1, l2, o2)) \n",
    "                # Then reset the status for the next calculation\n",
    "                l1, o1, l2, o2 = 0, 1, 1, 1 \n",
    "            elif x == \")\":\n",
    "                # First preserve the result of current calculation\n",
    "                tmp = l1 + o1*l2 # ❤️ tmp = l1 + o1*l2 和 l1 = l1 + o1*l2 不一样.\n",
    "                # Then restore previous calculation status\n",
    "                l1, o1, l2, o2 = stack.pop()\n",
    "                # Previous calculation status is now in effect\n",
    "                l2 = l2*tmp if o2==1 else l2/tmp\n",
    "                \n",
    "            elif x == \"*\" or x == \"/\":\n",
    "                o2 = 1 if x == \"*\" else -1\n",
    "                \n",
    "            elif x == \"+\" or x == \"-\":\n",
    "                l1 = l1 + o1*l2\n",
    "                o1 = 1 if x == \"+\" else -1\n",
    "                l2, o2 = 1, 1\n",
    "            i += 1\n",
    "        return l1 + o1 * l2      \n",
    "\n",
    "print Solution().calculate(\"6/4\")\n",
    "print Solution().calculate(\" 6-4 + 2 \")"
   ]
  },
  {
   "cell_type": "markdown",
   "metadata": {},
   "source": [
    "### [770. Basic Calculator IV](https://leetcode.com/problems/basic-calculator-iv/description/)\n",
    "##### 题意: "
   ]
  },
  {
   "cell_type": "markdown",
   "metadata": {},
   "source": [
    "### [394.med-Decode String](https://leetcode.com/problems/decode-string/description/s)\n",
    "##### 题意: Given an encoded string, return it's decoded string.\n",
    "* The encoding rule is: <span class=\"girk\">k[encoded_string]</span>, where the encoded_string inside the square brackets is being repeated exactly k times. Note that k is guaranteed to be a <span class=\"girk\">positive integer</span>.\n",
    "* You may assume that the input <span class=\"girk\">string</span> is <span class=\"girk\">always valid</span>; No extra white spaces, square brackets are well-formed, etc.\n",
    "* Furthermore, you may assume that the original data does not contain any digits and that <span class=\"girk\">digits are only for those repeat numbers, k</span>. For example, there won't be input like 3a or 2[4].\n",
    "```python\n",
    "s = \"3[a]2[bc]\", return \"aaabcbc\".\n",
    "s = \"3[a2[c]]\", return \"accaccacc\".\n",
    "s = \"2[abc]3[cd]ef\", return \"abcabccdcdcdef\".\n",
    "```\n",
    "\n",
    "##### 参考视频: https://www.youtube.com/watch?v=b8f27yzbeFk\n",
    "\n",
    "##### 总结"
   ]
  },
  {
   "cell_type": "code",
   "execution_count": 15,
   "metadata": {},
   "outputs": [
    {
     "name": "stdout",
     "output_type": "stream",
     "text": [
      "aaabcbc\n",
      "accaccacc\n"
     ]
    }
   ],
   "source": [
    "# Time & space: O(n)\n",
    "# ❤️ 这种有括号的题, 往往需要从括号内到外的求解, 而不是 FIFO, 一般会用到 stack. stack 用于存放碰到\n",
    "# ❤️ 括号以前的各种处理结果, 碰到括号, 存放到 stack 中, 重新开始处理.\n",
    "class Solution(object):\n",
    "    def decodeString(self, s):\n",
    "        \"\"\"\n",
    "        :type s: str\n",
    "        :rtype: str\n",
    "        \"\"\"\n",
    "        if not s: return \"\"\n",
    "        \n",
    "        i, rst = 0, \"\"\n",
    "        stack = []\n",
    "        while i < len(s):\n",
    "            x = s[i]\n",
    "            if x.isdigit():\n",
    "                start = i\n",
    "                while i < len(s) and s[i].isdigit(): i += 1\n",
    "                cnt = int(s[start:i])\n",
    "                i -= 1\n",
    "            elif x == \"[\":\n",
    "                stack.append((cnt, rst)) # ❤️ 只用一个 stack 就可以解决问题.\n",
    "                rst = \"\"\n",
    "            elif x == \"]\":\n",
    "                tmp = rst\n",
    "                cnt, rst = stack.pop()\n",
    "                for _ in xrange(cnt): # ❎ 错将 j 写成 i, 导致两个循环共用一个 iteration 变量.\n",
    "                    rst += tmp\n",
    "            else: \n",
    "                rst += s[i]\n",
    "            i += 1\n",
    "        return rst\n",
    "    \n",
    "####### Testing #########\n",
    "print Solution().decodeString(\"3[a]2[bc]\")\n",
    "print Solution().decodeString(\"3[a2[c]]\")"
   ]
  },
  {
   "cell_type": "markdown",
   "metadata": {},
   "source": [
    "## 1/2018"
   ]
  },
  {
   "cell_type": "markdown",
   "metadata": {},
   "source": [
    "### [20.easy_Valid Parentheses-括号](https://leetcode.com/problems/valid-parentheses/description/)\n",
    "##### 题意: 判断小括号, 中括号 和 大括号 是否是成双成对的?\n",
    "\n",
    "##### 总结\n",
    "* 成对问题, 需要 dic\n",
    "* 第2种方法最优, 其次第3种, 第一种不好."
   ]
  },
  {
   "cell_type": "code",
   "execution_count": null,
   "metadata": {
    "collapsed": true
   },
   "outputs": [],
   "source": [
    "# (最优) 总结: 和上一个算法比起来, 该算法更简短易懂. Bug free @ 1/24/18 9:29 PM \n",
    "class Solution(object):\n",
    "    def isValid(self, s):\n",
    "        \"\"\"\n",
    "        :type s: str\n",
    "        :rtype: bool\n",
    "        \"\"\"\n",
    "        # ---- 1 the basic case ------------\n",
    "        if not s: return True\n",
    "        if len(s) & 1: return False # odd length is definitely not good\n",
    "        \n",
    "        # ---- 2 the algorithm ------------\n",
    "        stack = [] \n",
    "        dic   = {'(':')', '[':']', '{':'}'} # ❤️ 成对的问题 (不完全一致), 需要 dic 中的 pair. #❤️ 和上一种方法已经不一样了\n",
    "        \n",
    "        for x in s:                \n",
    "            if x in dic:    # ❎ ❤️ 和上面算法不一样, 我们\n",
    "                stack.append (dic[x])\n",
    "            else:           # 这样逻辑更加清晰 --- \n",
    "                if not stack or stack.pop () != x: # 判断为空, 或者 pop 不相等\n",
    "                    return False\n",
    "        return True if not stack else False"
   ]
  },
  {
   "cell_type": "code",
   "execution_count": null,
   "metadata": {
    "collapsed": true
   },
   "outputs": [],
   "source": [
    "# (次优) 总结: 和上两个算法对比起来, 中间那个最好, 这个其次, 最差的是第一个. Bug free @ 1/24/18 9:29 PM \n",
    "# 该算法和第二种算法其实本质是一样的, 只是这是分开来写了.\n",
    "class Solution(object):\n",
    "    def isValid(self, s):\n",
    "        \"\"\"\n",
    "        :type s: str\n",
    "        :rtype: bool\n",
    "        \"\"\"\n",
    "        stack = []\n",
    "        for x in s:\n",
    "            if x == '(':  \n",
    "                stack.append (')')\n",
    "            elif x == '[':  \n",
    "                stack.append (']')\n",
    "            elif x == '{':   \n",
    "                stack.append ('}')\n",
    "            else:     # pop \n",
    "                if not stack or stack.pop () != x:\n",
    "                    return False\n",
    "        return True if not stack else False"
   ]
  },
  {
   "cell_type": "markdown",
   "metadata": {},
   "source": [
    "### [155.easy-Min Stack](https://leetcode.com/problems/min-stack/description/)\n",
    "##### 题意: 设计 min stack, 实现以下功能\n",
    "* push(x) -- Push element x onto stack.\n",
    "* pop() -- Removes the element on top of the stack.\n",
    "* top() -- Get the top element.\n",
    "* getMin() -- Retrieve the minimum element in the stack.\n",
    "\n",
    "##### 分析\n",
    "##### 总结"
   ]
  },
  {
   "cell_type": "code",
   "execution_count": null,
   "metadata": {
    "collapsed": true
   },
   "outputs": [],
   "source": [
    "## 方法2 (leetcode 答案). ❤️❤️❤️ 评价: 空间换时间, 多用 space, 减少计算量. \n",
    "# leetcode 答案: https://discuss.leetcode.com/topic/11985/my-python-solution\n",
    "\n",
    "class MinStack:\n",
    "    def __init__(self):\n",
    "        self.stack = []\n",
    "\n",
    "    # @param x, an integer\n",
    "    # @return an integer\n",
    "    def push(self, x):\n",
    "        curMin = self.getMin()\n",
    "        if curMin is None or x < curMin: # ❤️❎ not curMin 有歧义 有可能是 curMin == 0,\n",
    "            curMin = x                   # 所以保险起见还是 is None 来判断.\n",
    "        self.stack.append((x, curMin)); # ❤️ 空间换时间, 每次存进元素的值, 以及它对应的 min-val, 作为一个 tuple.\n",
    "\n",
    "    # @return nothing\n",
    "    def pop(self):\n",
    "        self.stack.pop()\n",
    "\n",
    "    # @return an integer\n",
    "    def top(self):\n",
    "        if len(self.stack) == 0:\n",
    "            return None\n",
    "        else:\n",
    "            return self.stack[-1][0] # ❤️ 怪不得需要两个index, 一个用于 list, 另一个用于 tuple.\n",
    "\n",
    "    # @return an integer\n",
    "    def getMin(self):\n",
    "        if len(self.stack) == 0:\n",
    "            return None\n",
    "        else:\n",
    "            return self.stack[-1][1]"
   ]
  },
  {
   "cell_type": "markdown",
   "metadata": {},
   "source": [
    "### [❤️225.easy-Implement Stack using Queues](https://leetcode.com/problems/implement-stack-using-queues/description/)\n",
    "##### 题意: Implement the following operations of a stack using queues.\n",
    "* push(x) -- Push element x onto stack.\n",
    "* pop() -- Removes the element on top of the stack.\n",
    "* top() -- Get the top element.\n",
    "* empty() -- Return whether the stack is empty.\n",
    "\n",
    "额外要求:\n",
    "* only use standard operations of a queue -- which means only **push to back**, **peek/pop from front**, **size**, and is **empty** operations are valid.\n",
    "\n",
    "##### 参考材料:\n",
    "* Edward Shi https://www.youtube.com/watch?v=ZnyfAAdtOzY\n",
    "* Leetcode 标准: https://leetcode.com/problems/implement-stack-using-queues/discuss/62516/Concise-1-Queue-Java-C++-Python"
   ]
  },
  {
   "cell_type": "code",
   "execution_count": 21,
   "metadata": {},
   "outputs": [
    {
     "name": "stdout",
     "output_type": "stream",
     "text": [
      "2\n",
      "2\n"
     ]
    }
   ],
   "source": [
    "# Time: append O(n), pop, peek, isempty 都是 O(1). space: O(1)\n",
    "from collections import deque\n",
    "\n",
    "class MyStack(object):\n",
    "    def __init__(self):\n",
    "        \"\"\"\n",
    "        Initialize your data structure here.\n",
    "        \"\"\"\n",
    "        self.q = deque()\n",
    "        \n",
    "    def push(self, x): # ❤️❤️ 充分利用 queue 是两头开的特点, 本代码的核心.\n",
    "        \"\"\"\n",
    "        Push element x onto stack.\n",
    "        :type x: int\n",
    "        :rtype: void\n",
    "        \"\"\"\n",
    "        self.q.append(x)\n",
    "        for i in xrange(len(self.q)-1):\n",
    "            self.q.append( self.q.popleft() )\n",
    "\n",
    "    def pop(self):\n",
    "        \"\"\"\n",
    "        Removes the element on top of the stack and returns that element.\n",
    "        :rtype: int\n",
    "        \"\"\"\n",
    "        if self.q: \n",
    "            return self.q.popleft()\n",
    "        else:\n",
    "            return None\n",
    "\n",
    "    def top(self):\n",
    "        \"\"\"\n",
    "        Get the top element.\n",
    "        :rtype: int\n",
    "        \"\"\"\n",
    "        if self.q:\n",
    "            return self.q[0]\n",
    "        else:\n",
    "            return None\n",
    "    \n",
    "    def empty(self):\n",
    "        \"\"\"\n",
    "        Returns whether the stack is empty.\n",
    "        :rtype: bool\n",
    "        \"\"\"\n",
    "        return not self.q\n",
    "        \n",
    "# Your MyStack object will be instantiated and called as such:\n",
    "# obj = MyStack()\n",
    "# obj.push(x)\n",
    "# param_2 = obj.pop()\n",
    "# param_3 = obj.top()\n",
    "# param_4 = obj.empty()"
   ]
  },
  {
   "cell_type": "markdown",
   "metadata": {},
   "source": [
    "### [❤️232.easy_Implement Queue using Stacks](https://leetcode.com/problems/implement-queue-using-stacks/description/)\n",
    "##### 题意: Implement the following operations of a queue using stacks.\n",
    "* push(x) -- Push element x to the back of queue.\n",
    "* pop() -- Removes the element from in front of queue.\n",
    "* peek() -- Get the front element.\n",
    "* empty() -- Return whether the queue is empty.\n",
    "\n",
    "注意事项:\n",
    "*  只能使用 stack 的 **push to top**, **peek/pop from top**, **size**, and **is empty**.\n",
    "\n",
    "##### 参考材料:\n",
    "* Edward Shi 的两种算法: https://www.youtube.com/watch?v=h5BCSuzM3h4\n",
    " \n",
    "##### 总结: 和 225.easy-Implement Stack using Queues 非常不一样.  Queue 是两头开的, 而 stack 是单头开的."
   ]
  },
  {
   "cell_type": "code",
   "execution_count": null,
   "metadata": {
    "collapsed": true
   },
   "outputs": [],
   "source": [
    "# 方法1: push 和 isempty 是 O(1); pop 和 peek 是 O(n).\n",
    "class MyQueue(object):\n",
    "    def __init__(self):\n",
    "        \"\"\"\n",
    "        Initialize your data structure here.\n",
    "        \"\"\"\n",
    "        self.a = []\n",
    "        self.b = []\n",
    "        \n",
    "    def push(self, x): # O(1)\n",
    "        \"\"\"\n",
    "        Push element x to the back of queue.\n",
    "        :type x: int\n",
    "        :rtype: void\n",
    "        \"\"\"\n",
    "        self.a.append(x)\n",
    "        \n",
    "\n",
    "    def pop(self): # O(n)\n",
    "        \"\"\"\n",
    "        Removes the element from in front of queue and returns that element.\n",
    "        :rtype: int\n",
    "        \"\"\"\n",
    "        if self.empty(): return None\n",
    "        self.move()\n",
    "        return self.b.pop()\n",
    "        \n",
    "        \n",
    "    def peek(self): # O(n)\n",
    "        \"\"\"\n",
    "        Get the front element.\n",
    "        :rtype: int\n",
    "        \"\"\"\n",
    "        if self.empty(): return None\n",
    "        self.move()\n",
    "        return self.b[-1]\n",
    "        \n",
    "\n",
    "    def empty(self): # O(1)\n",
    "        \"\"\"\n",
    "        Returns whether the queue is empty.\n",
    "        :rtype: bool\n",
    "        \"\"\"\n",
    "        return not self.a and not self.b\n",
    "    \n",
    "    def move(self):\n",
    "        if not self.b: # ❤️ 这个条件有意思, 等到 b 中 pop 完了, 才能将 a 中元素转移过来.\n",
    "            while self.a:\n",
    "                self.b.append(self.a.pop())\n",
    "        \n",
    "# Your MyQueue object will be instantiated and called as such:\n",
    "# obj = MyQueue()\n",
    "# obj.push(x)\n",
    "# param_2 = obj.pop()\n",
    "# param_3 = obj.peek()\n",
    "# param_4 = obj.empty()"
   ]
  },
  {
   "cell_type": "code",
   "execution_count": null,
   "metadata": {
    "collapsed": true
   },
   "outputs": [],
   "source": [
    "# 方法2: push O(n); pop, peek, isempty O(1)\n",
    "class MyQueue(object):\n",
    "    def __init__(self):\n",
    "        \"\"\"\n",
    "        Initialize your data structure here.\n",
    "        \"\"\"\n",
    "        self.a, self.b = [], []\n",
    "        \n",
    "        \n",
    "    def push(self, x): # O(n) # ❤️❤️ 因为 stack 是单边开头的, 所以需要两边倒腾\n",
    "        \"\"\"\n",
    "        Push element x to the back of queue.\n",
    "        :type x: int\n",
    "        :rtype: void\n",
    "        \"\"\"\n",
    "        while self.a: # ❤️❤️ stack 单边, 需要两边倒腾..\n",
    "            self.b.append(self.a.pop())\n",
    "            \n",
    "        self.a.append(x) ## ❤️ 永远将新元素 倒腾到 栈底.\n",
    "        while self.b:\n",
    "            self.a.append(self.b.pop())\n",
    "        \n",
    "\n",
    "    def pop(self): # O(1)\n",
    "        \"\"\"\n",
    "        Removes the element from in front of queue and returns that element.\n",
    "        :rtype: int\n",
    "        \"\"\"\n",
    "        if not self.a: return None\n",
    "        return self.a.pop()\n",
    "        \n",
    "\n",
    "    def peek(self): # O(1)\n",
    "        \"\"\"\n",
    "        Get the front element.\n",
    "        :rtype: int\n",
    "        \"\"\"\n",
    "        if not self.a:return None\n",
    "        return self.a[-1]\n",
    "        \n",
    "\n",
    "    def empty(self):\n",
    "        \"\"\"\n",
    "        Returns whether the queue is empty.\n",
    "        :rtype: bool\n",
    "        \"\"\"\n",
    "        return not self.a\n",
    "\n",
    "# Your MyQueue object will be instantiated and called as such:\n",
    "# obj = MyQueue()\n",
    "# obj.push(x)\n",
    "# param_2 = obj.pop()\n",
    "# param_3 = obj.peek()\n",
    "# param_4 = obj.empty()"
   ]
  },
  {
   "cell_type": "markdown",
   "metadata": {},
   "source": [
    "### [682.easy-Baseball Game](https://leetcode.com/problems/baseball-game/description/)\n",
    "##### 题意: baseball 比赛记分员, 分数将以一串 string形式展示, 统计最终得分.* \n",
    "* String 中包含以下四种情况:\n",
    "    * [本产得分] **interger** 整数, 表示该场比赛得分多少.\n",
    "    * [本产得分] **\"+\"** 表示本场得分是 the sum of the last two **valid** round's points.\n",
    "    * [本产得分] **\"D\"** 表示本场得分是 the **doubled** data of the **last valid** round's points.\n",
    "    * [操作符] **\"C\"** 表示 the last valid round's points you get were **invalid** and should **be removed**.\n",
    "* 每场比赛的分数可能对前后场比赛的有影响.\n",
    "* 注意实现:\n",
    "    * input size should be between 1 and 1000.\n",
    "    * every interger should be between -30000 and 30000.\n",
    "    * 要不要考虑 overflow 的问题呢? \n",
    "* ***总结***: 该题意还是非常难懂的, 需要结合网页上的例子理解.\n",
    "    \n",
    "```python\n",
    "import sys # ❤️ 输出 python int 最大范围.\n",
    "sys.maxint # 输出 9223372036854775807, 还是非常大的. \n",
    "```"
   ]
  },
  {
   "cell_type": "code",
   "execution_count": null,
   "metadata": {
    "collapsed": true
   },
   "outputs": [],
   "source": [
    "# leetcode 标准答案 https://leetcode.com/problems/baseball-game/discuss/107871\n",
    "# 疑问: 真得不需要检查可靠想吗?\n",
    "# 评价: 确实非常简单, 简短地关键是把所有 valid 分数 sum 就是最后的分数. \n",
    "\n",
    "class Solution(object):\n",
    "    def calPoints(self, ops):\n",
    "        # Time: O(n)\n",
    "        # Space: O(n)\n",
    "        history = []\n",
    "        for op in ops:\n",
    "            if op == 'C':\n",
    "                history.pop()\n",
    "            elif op == 'D':\n",
    "                history.append(history[-1] * 2)\n",
    "            elif op == '+':\n",
    "                history.append(history[-1] + history[-2])\n",
    "            else:\n",
    "                history.append(int(op))\n",
    "        return sum(history)  # ❤️❤️ 这是代码简短地关键."
   ]
  },
  {
   "cell_type": "markdown",
   "metadata": {},
   "source": [
    "## 2/2018"
   ]
  },
  {
   "cell_type": "markdown",
   "metadata": {},
   "source": [
    "### [❤️739.med-Daily Temperatures](https://leetcode.com/problems/daily-temperatures/description/)\n",
    "\n",
    "##### 题意: temperature 存在一个 list 中, 输出还要等几天才能升温.\n",
    "* Given a list of daily temperatures, produce a list that, for each day in the input, tells you how many days you would have to wait until a warmer temperature. \n",
    "* If there is no future day for which this is possible, put 0 instead.\n",
    "* <span class=\"burk\">举例</span>: For example, given the list temperatures = [73, 74, 75, 71, 69, 72, 76, 73], your output should be [1, 1, 4, 2, 1, 1, 0, 0].\n",
    "* <span class=\"burk\">注意事项</span>: (Note): the length of temperatures will be in the range [1, 30000]. Each temperature will be an integer in the range [30, 100]\n",
    "\n",
    "##### 秘诀: https://leetcode.com/problems/daily-temperatures/solution/\n",
    "* 从后往前逐个进行.\n",
    "* 利用 stack 一直保存 index, 只保存 ```stack[index] > T[i]``` 的数值.\n",
    "\n",
    "##### 总结"
   ]
  },
  {
   "cell_type": "code",
   "execution_count": null,
   "metadata": {
    "collapsed": true
   },
   "outputs": [],
   "source": [
    "# Time Complexity: O(N), where NN is the length of T and W is the number of allowed values for T[i]. Each index gets pushed and popped at most once from the stack.\n",
    "# Space Complexity: O(W). The size of the stack is bounded as it represents strictly increasing temperatures.\n",
    "\n",
    "class Solution(object):\n",
    "    def dailyTemperatures(self, temp):\n",
    "        \"\"\"\n",
    "        :type temp: List[int]\n",
    "        :rtype: List[int]\n",
    "        \"\"\"\n",
    "        if not temp: return []\n",
    "        \n",
    "        nn = len(temp)\n",
    "        rst = [0] * nn\n",
    "        stack = []\n",
    "        for i in xrange(nn-1, -1, -1): # ❤️❤️❤️ 倒序 push to stack, stack pop 出来还是顺序 ❤️❤️❤️\n",
    "            while stack and temp[i] >= temp[stack[-1]]: # ❤️❤️ 保证 stack 中严格升序.\n",
    "                stack.pop()\n",
    "                \n",
    "            if stack:\n",
    "                rst[i] = stack[-1] - i # ❤️ 保存 index 的意义, 找出相距多远.\n",
    "    \n",
    "            stack.append(i)"
   ]
  },
  {
   "cell_type": "markdown",
   "metadata": {},
   "source": [
    "### [496.easy-Next Greater Element I](https://leetcode.com/problems/next-greater-element-i/description/)\n",
    "##### 题意, 分析, 教程 https://www.youtube.com/watch?v=wg2TXOQUOd0&t=297s\n",
    "* 例子: \n",
    "```python\n",
    "Input: nums1 = [4,1,2], nums2 = [1,3,4,2].\n",
    "Output: [-1,3,-1]\n",
    "```\n",
    "\n",
    "##### 分析\n",
    "##### 总结"
   ]
  },
  {
   "cell_type": "code",
   "execution_count": 28,
   "metadata": {},
   "outputs": [
    {
     "name": "stdout",
     "output_type": "stream",
     "text": [
      "[-1, 3, -1]\n"
     ]
    }
   ],
   "source": [
    "# Time & Space: O(n)\n",
    "# 思路和 739 的一样. 教程和该思路不一样.\n",
    "# https://www.youtube.com/watch?v=wg2TXOQUOd0&t=297s\n",
    "class Solution(object):\n",
    "    def nextGreaterElement(self, findNums, nums):\n",
    "        \"\"\"\n",
    "        :type findNums: List[int]\n",
    "        :type nums: List[int]\n",
    "        :rtype: List[int]\n",
    "        \"\"\"\n",
    "        if not nums: return []\n",
    "        \n",
    "        dic, stack = {}, []\n",
    "        for i in xrange(len(nums)-1, -1, -1):\n",
    "            x = nums[i]\n",
    "            while stack and x >= stack[-1]: # ❤️ 1) 和739不一样的是, 这里关心的是值, 不是 index\n",
    "                stack.pop()\n",
    "            \n",
    "            if stack: dic[x] = stack[-1]\n",
    "                \n",
    "            stack.append(x)\n",
    "            \n",
    "        rst = []\n",
    "        for x in findNums: \n",
    "            rst.append(dic.get(x,-1)) # ❤️ 3) 和739不一样, 这里 dic 存放的是n ums 的结果.\n",
    "        return rst\n",
    "\n",
    "#### Testing ######\n",
    "print Solution().nextGreaterElement([4,1,2], [1,3,4,2])"
   ]
  },
  {
   "cell_type": "markdown",
   "metadata": {},
   "source": [
    "### [503.med-Next Greater Element II](https://leetcode.com/problems/next-greater-element-ii/description/)\n",
    "##### 题意: Given a <span class=\"girk\">circular array</span> (the next element of the last element is the first element of the array), print the Next Greater Number for every element.\n",
    "* If it doesn't exist, output -1 for this number.\n",
    "* 举例:\n",
    "```python\n",
    "Input: [1,2,1]\n",
    "Output: [2,-1,2]\n",
    "```"
   ]
  },
  {
   "cell_type": "code",
   "execution_count": 32,
   "metadata": {},
   "outputs": [
    {
     "name": "stdout",
     "output_type": "stream",
     "text": [
      "[2, -1, 2]\n"
     ]
    }
   ],
   "source": [
    "class Solution(object):\n",
    "    def nextGreaterElements(self, nums):\n",
    "        \"\"\"\n",
    "        :type nums: List[int]\n",
    "        :rtype: List[int]\n",
    "        \"\"\"\n",
    "        if not nums: return []\n",
    "        \n",
    "        n, stack = len(nums), []\n",
    "        rst = [-1] * n\n",
    "        for i in xrange(2*n-1, -1, -1): # ❤️ 应对循环的方法, 不一定真的将 nums 拼成原来的两倍.\n",
    "            x = nums[i%n] # ❤️ 处理循环的方法\n",
    "            \n",
    "            while stack and x >= stack[-1]: \n",
    "                stack.pop()\n",
    "            \n",
    "            if stack and i < n:\n",
    "                rst[i] = stack[-1] # ❤️❤️ 就这里和没有循环的有些不同.\n",
    "                \n",
    "            stack.append(x)\n",
    "            \n",
    "        return rst\n",
    "    \n",
    "####### Testing #######\n",
    "print Solution().nextGreaterElements([1,2,1])"
   ]
  },
  {
   "cell_type": "code",
   "execution_count": 29,
   "metadata": {},
   "outputs": [
    {
     "name": "stdout",
     "output_type": "stream",
     "text": [
      "[2, -1, 2]\n"
     ]
    }
   ],
   "source": [
    "# Time & Space: O(n)\n",
    "# 思路和 496, 739 类似. 都是从后往前, 逐个处理.\n",
    "class Solution(object):\n",
    "    def nextGreaterElements(self, nums):\n",
    "        \"\"\"\n",
    "        :type nums: List[int]\n",
    "        :rtype: List[int]\n",
    "        \"\"\"\n",
    "        if not nums: return []\n",
    "        \n",
    "        stack = []\n",
    "        tmp_nums = nums * 2 # ❤️❤️ 循环的特殊处理方法, 其实不需要真的组成拼成原来的两倍.\n",
    "        rst = [-1] * len(tmp_nums)\n",
    "        for i in xrange(len(tmp_nums)-1, -1, -1):\n",
    "            x = tmp_nums[i]\n",
    "            while stack and x >= stack[-1]:\n",
    "                stack.pop()\n",
    "                \n",
    "            if stack: rst[i] = stack[-1]\n",
    "                \n",
    "            stack.append(x)\n",
    "            \n",
    "        return rst[:len(nums)]\n",
    "\n",
    "####### Testing #######\n",
    "print Solution().nextGreaterElements([1,2,1])      "
   ]
  },
  {
   "cell_type": "markdown",
   "metadata": {},
   "source": [
    "### [556.med-Next Greater Element III](https://leetcode.com/problems/next-<span class=\"girk\">greater</span>-element-iii/description/)\n",
    "##### 题意: Given a positive <span class=\"girk\">32-bit integer n</span>, you need to find the <span class=\"girk\">smallest</span> 32-bit integer which has <span class=\"girk\">exactly the same digits</span> existing in the integer n and is <span class=\"girk\">greater</span> in value than n.\n",
    "* If no such positive 32-bit integer exists, you need to \n",
    "* 举例1:\n",
    "```python\n",
    "Input: 12\n",
    "Output: 21\n",
    "```\n",
    "* 举例2:\n",
    "```python\n",
    "Input: 21\n",
    "Output: -1\n",
    "```\n",
    "\n",
    "##### 教程: https://leetcode.com/problems/next-greater-element-iii/discuss/101824/Simple-Java-solution-(4ms)-with-explanation."
   ]
  },
  {
   "cell_type": "code",
   "execution_count": 42,
   "metadata": {},
   "outputs": [
    {
     "name": "stdout",
     "output_type": "stream",
     "text": [
      "6 5 2\n",
      "13222344\n"
     ]
    }
   ],
   "source": [
    "# 感觉这题不咋地, 出的.\n",
    "class Solution(object):\n",
    "    def nextGreaterElement(self, n):\n",
    "        \"\"\"\n",
    "        :type n: int\n",
    "        :rtype: int\n",
    "        \"\"\"\n",
    "        # 1 edge condition\n",
    "        if n < 10: return -1\n",
    "        \n",
    "        # 2 interger to arr\n",
    "        nums = []\n",
    "        while n:\n",
    "            nums.append(n % 10)\n",
    "            n /= 10\n",
    "        \n",
    "        # 3 find the \n",
    "        swapOrNot, i = False, 1\n",
    "        while i < len(nums):\n",
    "            if nums[i-1] > nums[i]: # ❤️❤️ 1) 找到需要交换的位置\n",
    "                swapOrNot = True\n",
    "                break\n",
    "            i += 1\n",
    "            \n",
    "        if not swapOrNot: return -1\n",
    "        small_indx = i-1\n",
    "        for j in xrange(i):\n",
    "            if nums[i] < nums[j] < nums[small_indx]: # ❤️❤️ 2) 找到之前的最小值.\n",
    "                small_indx = j\n",
    "        nums[i], nums[small_indx] = nums[small_indx], nums[i]       \n",
    "        \n",
    "        # 4 nums --> integer\n",
    "        nums[0:i] = sorted(nums[0:i], reverse=True) # ❤️❤️ 3) 将之前的降序排列.\n",
    "        rst = 0\n",
    "        while nums: rst = 10*rst + nums.pop()\n",
    "        if rst > 2**31: return -1 # ❎❎ 巨坑, 以后出现 32 bit integer, 联想到超出范围的处理方案.\n",
    "        return rst\n",
    "\n",
    "#### Testing ####\n",
    "# print Solution().nextGreaterElement(230241)\n",
    "print Solution().nextGreaterElement(12443322) # 13222344"
   ]
  },
  {
   "cell_type": "markdown",
   "metadata": {},
   "source": [
    "### [150.med-Evaluate Reverse Polish Notation](https://leetcode.com/problems/evaluate-reverse-polish-notation/description/)\n",
    "##### 题意: Evaluate the value of an arithmetic expression in Reverse Polish Notation.\n",
    "* Valid operators are +, -, *, /. Each operand may be an integer or another expression."
   ]
  },
  {
   "cell_type": "code",
   "execution_count": 11,
   "metadata": {},
   "outputs": [
    {
     "name": "stdout",
     "output_type": "stream",
     "text": [
      "False\n"
     ]
    },
    {
     "data": {
      "text/plain": [
       "-1"
      ]
     },
     "execution_count": 11,
     "metadata": {},
     "output_type": "execute_result"
    }
   ],
   "source": [
    "\"\"\"\n",
    "Some examples:\n",
    "  [\"2\", \"1\", \"+\", \"3\", \"*\"] -> ((2 + 1) * 3) -> 9\n",
    "  [\"4\", \"13\", \"5\", \"/\", \"+\"] -> (4 + (13 / 5)) -> 6\n",
    "\"\"\"\n",
    "## 编程注意事项:\n",
    "print \"-11\".isdigit() # python isdigit() 只认正数, 不认负数. \n",
    "-1 / 10 # python 整数相除, 往低的取整."
   ]
  },
  {
   "cell_type": "code",
   "execution_count": 9,
   "metadata": {},
   "outputs": [
    {
     "name": "stdout",
     "output_type": "stream",
     "text": [
      "0\n",
      "0\n",
      "22\n"
     ]
    }
   ],
   "source": [
    "class Solution(object):\n",
    "    def evalRPN(self, s):\n",
    "        \"\"\"\n",
    "        :type s: List[str]\n",
    "        :rtype: int\n",
    "        \"\"\"\n",
    "        if not s: return 0\n",
    "        \n",
    "        stack = []\n",
    "        for x in s:\n",
    "            if x == \"+\" or x == \"-\" or x == \"*\" or x == \"/\":\n",
    "                if not stack: return -1\n",
    "                y1 = stack.pop()\n",
    "                if not stack: return -1\n",
    "                y2 = stack.pop()\n",
    "                if x == \"+\":\n",
    "                    tmp = y2 + y1\n",
    "                elif x == \"-\":\n",
    "                    tmp = y2 - y1\n",
    "                elif x == \"*\":\n",
    "                    tmp = y2 * y1\n",
    "                elif x == \"/\":\n",
    "                    tmp = y2 / y1\n",
    "                    if tmp < 0 and y2 % y1: tmp += 1\n",
    "                stack.append(tmp)\n",
    "            else:\n",
    "                stack.append(int(x))\n",
    "        return stack.pop()\n",
    "    \n",
    "\n",
    "print Solution().evalRPN([\"6\",\"-132\", \"/\"]) # 0\n",
    "print Solution().evalRPN([\"10\",\"6\",\"9\",\"3\",\"+\",\"-11\",\"*\",\"/\",\"*\"]) # 0\n",
    "print Solution().evalRPN([\"10\",\"6\",\"9\",\"3\",\"+\",\"-11\",\"*\",\"/\",\"*\",\"17\",\"+\",\"5\",\"+\"]) # 22"
   ]
  }
 ],
 "metadata": {
  "kernelspec": {
   "display_name": "Python 2",
   "language": "python",
   "name": "python2"
  },
  "language_info": {
   "codemirror_mode": {
    "name": "ipython",
    "version": 2
   },
   "file_extension": ".py",
   "mimetype": "text/x-python",
   "name": "python",
   "nbconvert_exporter": "python",
   "pygments_lexer": "ipython2",
   "version": "2.7.13"
  },
  "toc": {
   "nav_menu": {},
   "number_sections": false,
   "sideBar": true,
   "skip_h1_title": true,
   "toc_cell": true,
   "toc_position": {
    "height": "805px",
    "left": "0px",
    "right": "1084.28px",
    "top": "67px",
    "width": "245px"
   },
   "toc_section_display": "block",
   "toc_window_display": false
  }
 },
 "nbformat": 4,
 "nbformat_minor": 2
}

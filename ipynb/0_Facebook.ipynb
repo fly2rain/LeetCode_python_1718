{
 "cells": [
  {
   "cell_type": "markdown",
   "metadata": {
    "toc": true
   },
   "source": [
    "<h1>Table of Contents<span class=\"tocSkip\"></span></h1>\n",
    "<div class=\"toc\" style=\"margin-top: 1em;\"><ul class=\"toc-item\"><li><span><a href=\"#Easy-4/24/2018\" data-toc-modified-id=\"Easy-4/24/2018-1\"><span class=\"toc-item-num\">1&nbsp;&nbsp;</span><a href=\"\" target=\"_blank\">Easy-4/24/2018</a></a></span><ul class=\"toc-item\"><li><span><a href=\"#283.-Move-Zeroes\" data-toc-modified-id=\"283.-Move-Zeroes-1.1\"><span class=\"toc-item-num\">1.1&nbsp;&nbsp;</span><a href=\"https://leetcode.com/problems/move-zeroes/description/\" target=\"_blank\">283. Move Zeroes</a></a></span></li></ul></li><li><span><a href=\"#Medium-4/24/2018\" data-toc-modified-id=\"Medium-4/24/2018-2\"><span class=\"toc-item-num\">2&nbsp;&nbsp;</span>Medium-4/24/2018</a></span><ul class=\"toc-item\"><li><span><a href=\"#15.-3Sum\" data-toc-modified-id=\"15.-3Sum-2.1\"><span class=\"toc-item-num\">2.1&nbsp;&nbsp;</span><a href=\"https://leetcode.com/problems/3sum/description/\" target=\"_blank\">15. 3Sum</a></a></span></li><li><span><a href=\"#17.-Letter-Combinations-of-a-Phone-Number\" data-toc-modified-id=\"17.-Letter-Combinations-of-a-Phone-Number-2.2\"><span class=\"toc-item-num\">2.2&nbsp;&nbsp;</span><a href=\"https://leetcode.com/problems/letter-combinations-of-a-phone-number/description/\" target=\"_blank\">17. Letter Combinations of a Phone Number</a></a></span></li></ul></li><li><span><a href=\"#Hard-4/24/2018\" data-toc-modified-id=\"Hard-4/24/2018-3\"><span class=\"toc-item-num\">3&nbsp;&nbsp;</span>Hard-4/24/2018</a></span><ul class=\"toc-item\"><li><span><a href=\"#301.-Remove-Invalid-Parentheses\" data-toc-modified-id=\"301.-Remove-Invalid-Parentheses-3.1\"><span class=\"toc-item-num\">3.1&nbsp;&nbsp;</span><a href=\"https://leetcode.com/problems/remove-invalid-parentheses/description/\" target=\"_blank\">301. Remove Invalid Parentheses</a></a></span></li></ul></li></ul></div>"
   ]
  },
  {
   "cell_type": "markdown",
   "metadata": {},
   "source": [
    "# [Facebook 面经]()\n",
    "* [[面试经验] FB近三个月面经整理+频次排序, pwwpche 发表于 2017-10-25 06:27:20](http://www.1point3acres.com/bbs/thread-300157-1-1.html)\n"
   ]
  },
  {
   "cell_type": "markdown",
   "metadata": {},
   "source": [
    "## [Easy-4/24/2018]()"
   ]
  },
  {
   "cell_type": "markdown",
   "metadata": {},
   "source": [
    "### [283. Move Zeroes](https://leetcode.com/problems/move-zeroes/description/)\n",
    "##### 题意: 将数组中所有的 0, 放到 nums 最后面."
   ]
  },
  {
   "cell_type": "code",
   "execution_count": null,
   "metadata": {
    "collapsed": true
   },
   "outputs": [],
   "source": [
    "# time: O(n),  operation: O(n)   in place\n",
    "class Solution(object):\n",
    "    def moveZeroes(self, nums):\n",
    "        \"\"\"\n",
    "        :type nums: List[int]\n",
    "        :rtype: void Do not return anything, modify nums in-place instead.\n",
    "        \"\"\"\n",
    "        if not nums: return \n",
    "        \n",
    "        n = len(nums)\n",
    "        k = 0\n",
    "        for i, x in enumerate(nums):\n",
    "            if x == 0:\n",
    "                continue\n",
    "            nums[k] = x\n",
    "            k += 1\n",
    "            \n",
    "        for i in xrange(k, n):\n",
    "            nums[i] = 0\n",
    "        "
   ]
  },
  {
   "cell_type": "code",
   "execution_count": 2,
   "metadata": {},
   "outputs": [
    {
     "name": "stdout",
     "output_type": "stream",
     "text": [
      "[12, 1, 3, 0, 0]\n"
     ]
    }
   ],
   "source": [
    "# Follow up: 不需要保留原数组中非零元素的相对位置, 并要求写入次数最少.\n",
    "# Two points: t O(n),   operation O()\n",
    "class Solution(object):\n",
    "    def moveZeroes(self, nums):\n",
    "        \"\"\"\n",
    "        :type nums: List[int]\n",
    "        :rtype: void Do not return anything, modify nums in-place instead.\n",
    "        \"\"\"\n",
    "        if not nums: return None\n",
    "        \n",
    "        n = len(nums)\n",
    "        l, r = 0, n - 1\n",
    "        while l <= r:\n",
    "            if nums[l] == 0:\n",
    "                nums[l], nums[r] = nums[r], nums[l]\n",
    "                r -= 1\n",
    "            else:\n",
    "                l += 1\n",
    "        return nums\n",
    "    \n",
    "print Solution().moveZeroes([0, 1, 0, 3, 12])"
   ]
  },
  {
   "cell_type": "markdown",
   "metadata": {},
   "source": [
    "## Medium-4/24/2018"
   ]
  },
  {
   "cell_type": "markdown",
   "metadata": {},
   "source": [
    "### [15. 3Sum](https://leetcode.com/problems/3sum/description/)"
   ]
  },
  {
   "cell_type": "code",
   "execution_count": null,
   "metadata": {
    "collapsed": true
   },
   "outputs": [],
   "source": [
    "# 两重循环, 复杂度是 O(n^2)\n",
    "class Solution(object):\n",
    "    def threeSum(self, nums):\n",
    "        \"\"\"\n",
    "        :type nums: List[int]\n",
    "        :rtype: List[List[int]]\n",
    "        \"\"\"\n",
    "        n = len(nums)\n",
    "        nums.sort()\n",
    "        if n<3 or nums[0]*3 > 0 or nums[-1]*3 < 0 : return []\n",
    "        \n",
    "        rst = []\n",
    "        for i in xrange(n):\n",
    "            if i > 0 and nums[i] == nums[i-1]:\n",
    "                continue\n",
    "            l, r = i+1, n-1 # ❎ i+1, 原来写成 i 了.\n",
    "            while l < r:\n",
    "                s = nums[i] + nums[l] + nums[r]\n",
    "                if s < 0:\n",
    "                    l += 1\n",
    "                elif s > 0:\n",
    "                    r -= 1\n",
    "                else:\n",
    "                    rst.append([nums[i], nums[l], nums[r]])\n",
    "                    while l < r and nums[l] == nums[l+1]:\n",
    "                        l += 1\n",
    "                    while l < r and nums[r] == nums[r-1]:\n",
    "                        r -= 1\n",
    "                    l += 1\n",
    "                    r -= 1\n",
    "        return rst"
   ]
  },
  {
   "cell_type": "markdown",
   "metadata": {},
   "source": [
    "### [17. Letter Combinations of a Phone Number](https://leetcode.com/problems/letter-combinations-of-a-phone-number/description/)\n",
    "\n",
    "![](http://upload.wikimedia.org/wikipedia/commons/thumb/7/73/Telephone-keypad2.svg/200px-Telephone-keypad2.svg.png)"
   ]
  },
  {
   "cell_type": "code",
   "execution_count": null,
   "metadata": {
    "collapsed": true
   },
   "outputs": [],
   "source": [
    "class Solution(object):\n",
    "    def __init__(self):\n",
    "        self.dic = {\n",
    "            \"1\" : \"\",\n",
    "            \"2\" : \"abc\",\n",
    "            \"3\" : \"def\", \n",
    "            \"4\" : \"ghi\",\n",
    "            \"5\" : \"jkl\",\n",
    "            \"6\" : \"mno\",\n",
    "            \"7\" : \"pqrs\",\n",
    "            \"8\" : \"tuv\",\n",
    "            \"9\" : \"wxyz\"\n",
    "        }\n",
    "        \n",
    "    def letterCombinations(self, digits):\n",
    "        \"\"\"\n",
    "        :type digits: str\n",
    "        :rtype: List[str]\n",
    "        \"\"\"\n",
    "        if not digits: return []\n",
    "        \n",
    "        rst = []\n",
    "        self.helper(digits, 0, [], rst)\n",
    "        return rst\n",
    "        \n",
    "    def helper(self, digits, s, cur, rst):\n",
    "        if len(cur) == len(digits):\n",
    "            rst.append(\"\".join(cur))\n",
    "            return\n",
    "        \n",
    "        pool = self.dic[digits[s]]\n",
    "        for x in pool:\n",
    "            cur.append(x)\n",
    "            self.helper(digits, s+1, cur, rst)\n",
    "            cur.pop()"
   ]
  },
  {
   "cell_type": "markdown",
   "metadata": {},
   "source": [
    "## Hard-4/24/2018"
   ]
  },
  {
   "cell_type": "markdown",
   "metadata": {},
   "source": [
    "### [301. Remove Invalid Parentheses](https://leetcode.com/problems/remove-invalid-parentheses/description/)"
   ]
  },
  {
   "cell_type": "code",
   "execution_count": null,
   "metadata": {
    "collapsed": true
   },
   "outputs": [],
   "source": []
  },
  {
   "cell_type": "code",
   "execution_count": null,
   "metadata": {
    "collapsed": true
   },
   "outputs": [],
   "source": []
  }
 ],
 "metadata": {
  "kernelspec": {
   "display_name": "Python 2",
   "language": "python",
   "name": "python2"
  },
  "language_info": {
   "codemirror_mode": {
    "name": "ipython",
    "version": 2
   },
   "file_extension": ".py",
   "mimetype": "text/x-python",
   "name": "python",
   "nbconvert_exporter": "python",
   "pygments_lexer": "ipython2",
   "version": "2.7.13"
  },
  "toc": {
   "nav_menu": {},
   "number_sections": true,
   "sideBar": true,
   "skip_h1_title": true,
   "toc_cell": true,
   "toc_position": {
    "height": "601px",
    "left": "0px",
    "right": "1084.28px",
    "top": "108px",
    "width": "207px"
   },
   "toc_section_display": "block",
   "toc_window_display": false
  }
 },
 "nbformat": 4,
 "nbformat_minor": 2
}

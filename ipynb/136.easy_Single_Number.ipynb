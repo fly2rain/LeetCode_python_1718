{
 "cells": [
  {
   "cell_type": "markdown",
   "metadata": {},
   "source": [
    "# 136.easy_Single_Number\n",
    "### 链接\n",
    "\n",
    "* 题目：https://leetcode.com/problems/single-number/description/\n",
    "\n",
    "### 题意\n",
    "* Given an array of integers, every element appears twice except for one. Find that single one.\n",
    "* 注意：linear runtime complexity and without using extra memory.\n",
    "\n",
    "### 分析\n",
    "* 【利用 XOR 异或的特性】相同数之间异或结果为 0，任何数和 0 异或得到它自己。\n",
    "* 【2\\*sum(unique) - sum(array)】\n",
    "* 【dict】insert 和 pop 是一对，正好相互抵消。只有剩余的一个存在于 dict 中。\n",
    "\n",
    "### 编程经验\n",
    "* XOR 的性质：https://zh.wikipedia.org/wiki/%E9%80%BB%E8%BE%91%E5%BC%82%E6%88%96\n",
    "    * 交换律： ${\\displaystyle A\\oplus B=B\\oplus A}$\n",
    "    * 结合律： ${\\displaystyle A\\oplus (B\\oplus C)=(A\\oplus B)\\oplus C}$ \n",
    "    * 恒等律： ${\\displaystyle X\\oplus 0=X}$ \n",
    "    * 归零律： ${\\displaystyle X\\oplus X=0}$\n",
    "    * 自反 (结合律+恒等律)： ${\\displaystyle A\\oplus B\\oplus B=A\\oplus 0=A}$"
   ]
  },
  {
   "cell_type": "markdown",
   "metadata": {},
   "source": [
    "# Method"
   ]
  },
  {
   "cell_type": "code",
   "execution_count": 2,
   "metadata": {
    "collapsed": true
   },
   "outputs": [],
   "source": [
    "class Solution(object):\n",
    "    # Method 1: [dict]\n",
    "    def singleNumber_1 (self, nums):\n",
    "        \"\"\"\n",
    "        :type nums: List[int]\n",
    "        :rtype: int\n",
    "        \"\"\"\n",
    "        tmpdict = {}\n",
    "        for x in nums:\n",
    "            try:\n",
    "                tmpdict.pop(x)\n",
    "            except:\n",
    "                tmpdict[x] = 1    \n",
    "        return tmpdict.popitem()[0]\n",
    "    \n",
    "    # Method 2:【2*sum(unique) - sum(array)】\n",
    "    def singleNumber (self, nums):    \n",
    "        return 2*sum(set(nums)) - sum(nums)\n",
    "    \n",
    "    # Method 3: XOR     \n",
    "    def singleNumber_3 (self, nums):\n",
    "        rst = 0\n",
    "        for x in nums:\n",
    "            rst ^= x\n",
    "        return rst"
   ]
  },
  {
   "cell_type": "code",
   "execution_count": 3,
   "metadata": {},
   "outputs": [
    {
     "name": "stdout",
     "output_type": "stream",
     "text": [
      "3\n"
     ]
    }
   ],
   "source": [
    "#  Testing ----\n",
    "if __name__ == '__main__':\n",
    "    print Solution ().singleNumber ([1,1,2,2,3]) "
   ]
  }
 ],
 "metadata": {
  "kernelspec": {
   "display_name": "Python 2",
   "language": "python",
   "name": "python2"
  },
  "language_info": {
   "codemirror_mode": {
    "name": "ipython",
    "version": 2
   },
   "file_extension": ".py",
   "mimetype": "text/x-python",
   "name": "python",
   "nbconvert_exporter": "python",
   "pygments_lexer": "ipython2",
   "version": "2.7.13"
  }
 },
 "nbformat": 4,
 "nbformat_minor": 2
}

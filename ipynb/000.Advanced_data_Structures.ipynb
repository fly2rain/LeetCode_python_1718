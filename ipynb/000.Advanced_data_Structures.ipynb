{
 "cells": [
  {
   "cell_type": "markdown",
   "metadata": {},
   "source": [
    "# File Name: 000.Advanced_data_Structures\n",
    "\n",
    "\n",
    "# 1. Heap (data structure)\n",
    "#### Important links\n",
    "* Wiki link: https://en.wikipedia.org/wiki/Heap_(data_structure)\n",
    "\n",
    "\n",
    "\n",
    "## 1.1. Abstract:\n",
    "\n",
    "* In computer science, a **heap** is a specialized **tree-based** data structure that satisfies the **heap property**:\n",
    "    * **heap property**: if $P$ is a parent node of $C$,\n",
    "        - then the key (the value) of $P$ is either greater than or equal to (in a max heap) the key of $C$.\n",
    "        - or less than or equal to (in a min heap) the key of $C$.\n",
    "    - **图例**: Example of a binary __max-heap (看来还有 min-heap)__ with node keys being integers from 1 to 100\n",
    "        ![Example](https://upload.wikimedia.org/wikipedia/commons/thumb/3/38/Max-Heap.svg/320px-Max-Heap.svg.png)\n",
    "        \n",
    "    - **基本概念**: The node at the \"top\" of the heap (with no parents) is called the root node.\n",
    "    \n",
    "    - **用途-priority queue**: \n",
    "        - The heap is one **maximally efficient implementation** of an abstract data type called a **priority queue**, and in fact priority queues are often referred to as \"heaps\", regardless of how they may be implemented. \n",
    "    - **实现方式-binary heap/tree** : A common implementation of a heap is the binary heap, in which the tree is a binary tree (see figure)\n",
    "    \n",
    "\n",
    "- 性质:\n",
    "    - In a heap, the highest (or lowest) priority element is always stored at the root. A heap is __not a sorted__ structure and can be regarded as **partially ordered**.\n",
    "    - When a heap is a **complete binary tree**, it has a smallest possible height—a heap with N nodes and for each node $a$ branches always has $log_a N$ height.\n",
    "    - A heap is a useful data structure when you need to remove the object with the highest (or lowest) priority.\n",
    "    - The maximum number of children each node can have depends on the type of heap, but in many types it is at most two, which is known as a __binary heap__.\n",
    "    - Example of a complete binary max-heap with node keys being integers from 1 to 100 and how it would be stored in an array. https://en.wikipedia.org/wiki/Heap_(data_structure)#/media/File:Heap-as-array.svg\n",
    "    - Heaps are usually implemented in an array (fixed size or dynamic array), and do not require pointers between elements. [具体查看 wiki 链接 的 Implementation 部分]."
   ]
  },
  {
   "cell_type": "markdown",
   "metadata": {},
   "source": [
    "## 1.2.  heapq — Heap queue algorithm\n",
    "Python LINK: https://docs.python.org/2/library/heapq.html\n",
    "\n",
    "\n",
    "\n",
    "- 以讨论 __heap queue__ algorithm,  also known as the __priority queue__ algorithm. 这里 priority 指的是 heap, 即 min or max.\n",
    "\n",
    "- Heaps property:\n",
    "    - heaps are binary trees where every parent node has a value less than or equal to any of its children. \n",
    "    - $heap[k] \\leq heap[2k + 1]$ and $heap[k] \\leq heap[2k + 2]$, for all $k$, __counting elements from zero__.\n",
    "    \n",
    "- Two differences from the textbook:\n",
    "    - We use __zero-based indexing__. This makes the relationship between the index for a node and the indexes for its children slightly less obvious, but is more suitable since Python uses zero-based indexing.\n",
    "    - Our pop method returns the smallest item, not the largest (called a “min heap” in textbooks; a “max heap” is more common in texts because of its suitability for in-place sorting).\n",
    " \n",
    "- These two make it possible to view the heap as a __regular Python list__ without surprises: __heap[0]__ is the smallest item, and __heap.sort()__ maintains the heap invariant (不变量), 其实 heap 是almost sorted的例子, 因此用insert sort是很合适的, 估计是 $O(n)$ runtime! \n",
    "    - To create a heap, use a list initialized to __[ ]__, \n",
    "    - or you can transform a populated list into a heap via function __heapify()__."
   ]
  },
  {
   "cell_type": "markdown",
   "metadata": {},
   "source": [
    "### 1.3. The following functions are provided"
   ]
  },
  {
   "cell_type": "code",
   "execution_count": null,
   "metadata": {
    "collapsed": true
   },
   "outputs": [],
   "source": [
    "heapq.heappush(heap, item)\n",
    "# Push the value item onto the heap, maintaining the heap invariant.\n",
    "\n",
    "heapq.heappop(heap)\n",
    "# Pop and return the smallest item from the heap, maintaining the heap invariant.\n",
    "# If the heap is empty, IndexError is raised. To access the smallest item without \n",
    "# popping it, use heap[0].\n",
    "\n",
    "heapq.heappushpop(heap, item)\n",
    "# Push item on the heap, then pop and return the smallest item from the heap.\n",
    "# The combined action runs more efficiently than heappush() followed by a separate\n",
    "# call to heappop().\n",
    "\n",
    "heapq.heapify(x)\n",
    "# Transform list x into a heap, in-place, in linear time.\n",
    "\n",
    "heapq.heapreplace(heap, item)\n",
    "# Pop and return the smallest item from the heap, and als\n",
    "\n",
    "heapq.nsmallest(n, iterable[, key])o push the new item. \n",
    "# The heap size doesn’t change. If the heap is empty, IndexError is raised.\n",
    "#　This one step operation is more efficient than a heappop() followed by heappush()\n",
    "# and can be more appropriate when using a fixed-size heap.\n",
    "# 类似于　heapq.heappushpop(heap, item)\n",
    "\n",
    "heapq.merge(*iterables)\n",
    "# Merge multiple sorted inputs into a single sorted output.  \n",
    "# Returns an iterator over the sorted values.\n",
    "\n",
    "heapq.nsmallest(n, iterable[, key])\n",
    "heapq.nlargest(n, iterable[, key])\n",
    "# Return a list with the n smallest elements from the dataset \n",
    "# defined by iterable. key, if provide"
   ]
  },
  {
   "cell_type": "markdown",
   "metadata": {},
   "source": [
    "## 1.4. Basic Examples\n",
    "\n",
    "#### Heap Sort\n",
    "A heapsort can be implemented by pushing all values onto a heap and then popping off the smallest values one at a time:"
   ]
  },
  {
   "cell_type": "code",
   "execution_count": 5,
   "metadata": {
    "collapsed": false
   },
   "outputs": [
    {
     "data": {
      "text/plain": [
       "[0, 1, 2, 3, 4, 5, 6, 7, 8, 9]"
      ]
     },
     "execution_count": 5,
     "metadata": {},
     "output_type": "execute_result"
    }
   ],
   "source": [
    "from heapq import heappush, heappop\n",
    "\n",
    "def heapsort(iterable):\n",
    "    h = []\n",
    "    for value in iterable:\n",
    "        heappush(h, value)\n",
    "    return [heappop(h) for i in range(len(h))]\n",
    "\n",
    "heapsort([1, 3, 5, 7, 9, 2, 4, 6, 8, 0])"
   ]
  },
  {
   "cell_type": "code",
   "execution_count": null,
   "metadata": {
    "collapsed": true
   },
   "outputs": [],
   "source": [
    ">>> from heapq import heappush, heappop\n",
    ">>> heap = []\n",
    ">>> data = [1, 3, 5, 7, 9, 2, 4, 6, 8, 0]\n",
    "\n",
    ">>> for item in data:\n",
    "...     heappush(heap, item)\n",
    "\n",
    ">>> ordered = []\n",
    ">>> while heap:\n",
    "...     ordered.append(heappop(heap))\n",
    ">>> ordered = [heappop (heap) for i in xrange(len(heap)) ]\n",
    "\n",
    "\n",
    "## Using a heap to insert items at the correct place in a priority queue:\n",
    ">>> heap = []\n",
    ">>> data = [(1, 'J'), (4, 'N'), (3, 'H'), (2, 'O')]\n",
    ">>> for item in data:\n",
    "...     heappush(heap, item)\n",
    "...\n",
    ">>> while heap:\n",
    "...     print(heappop(heap)[1])\n",
    "J\n",
    "O\n",
    "H\n",
    "N"
   ]
  },
  {
   "cell_type": "markdown",
   "metadata": {},
   "source": [
    "# 2. Tree\n",
    "#### Important links\n",
    "- Wiki link: https://en.wikipedia.org/wiki/Tree_(data_structure)\n",
    "\n",
    "## 2.1. Abstract\n",
    "\n",
    "- A tree is a widely used __abstract data type (ADT)__\n",
    "    - it has a hierarchical tree structure\n",
    "        - with a root value and subtrees of children,\n",
    "        - represented as a set of __linked nodes__.\n",
    "        \n",
    "- __Tree有向无环图__: A tree data structure can be defined __recursively__ as a collection of nodes (starting at a root node),\n",
    "    - where each node is a data structure consisting of a value, __together with__ a list of references to nodes (the \"children\"), \n",
    "    - with the constraints that no reference is duplicated, and none points to the root. [不要存在环]\n",
    "    \n",
    "- 查看 [wiki_link] 的 __Definition__ 部分.\n",
    "\n",
    "## 2.2. 正文\n",
    "术语\n",
    "- Root, Child, Parent, Siblings (同胞), Descendant (后裔), Ancestor,\n",
    "- Leaf (A node with no children), Edge, Path\n",
    "- Degree: the number of subtrees of a node.\n",
    "- Level: The level of a node is defined by 1 + (the number of connections between the node and the root).\n",
    "- Height of node: the number of edges on the longest path between that node and a leaf.\n",
    "- Height of tree:  the height of its root node.\n",
    "- Depth: the number of edges from the tree's root node to the node.\n",
    "- Forest: a forest is a set of $n \\geq 0$ disjoint trees.\n",
    "\n",
    "\n",
    "    \n",
    "Tree 的三种 Recursive 解读：\n",
    "- Recursively, a tree $t$ consists of a value $v$ and a list of other trees:\n",
    "$$t: v [ t[1], ..., t[k] ]$$\n",
    "\n",
    "- A forest (a list of trees), where a tree consists of a value and a forest (the subtrees of its children):\n",
    "\\begin{align*}\n",
    "f: & \\  [t[1],...,t[k]]\\\\\n",
    "t: & \\ vf\n",
    "\\end{align*}\n",
    "- A node $n$ consists of a value $v$ and a list of references to other nodes\n",
    "$$ n: v [ \\&n[1], ..., \\&n[k] ] $$\n",
    "\n",
    "- A tree defines a directed graph, 需要满足:\n",
    "    - every node (other than the root) must have exactly one parent, and the root must have no parents.\n",
    "    - one reference can point to any given node (a node has at most a single parent), and no node in the tree point to the root\n",
    " [wiki_link]:https://en.wikipedia.org/wiki/Tree_(data_structure)\n"
   ]
  },
  {
   "cell_type": "markdown",
   "metadata": {},
   "source": [
    "## 2.3. 重要的 Trees\n",
    "Important Links:\n",
    "- http://www.cs.cmu.edu/~clo/www/CMU/DataStructures/Lessons/lesson4_1.htm\n",
    "- https://en.wikipedia.org/wiki/Binary_tree\n",
    "\n",
    "### Binary Trees ( 主要参考 [wiki](https://en.wikipedia.org/wiki/Binary_tree) )\n",
    "- each node can have no more than two children is a good way to understand trees.\n",
    "- Exp below: https://pythonschool.net/data-structures-algorithms/binary-tree/"
   ]
  },
  {
   "cell_type": "code",
   "execution_count": null,
   "metadata": {
    "collapsed": true
   },
   "outputs": [],
   "source": [
    "# Implementing a binary tree can be complex. The code below shows a simple \n",
    "# implementation using a Tree Class.\n",
    "class BinaryTree():\n",
    "    def __init__(self,rootid):\n",
    "        self.left = None\n",
    "        self.right = None\n",
    "        self.rootid = rootid\n",
    "\n",
    "    def getLeftChild(self):\n",
    "        return self.left\n",
    "    def getRightChild(self):\n",
    "        return self.right\n",
    "    def setNodeValue(self,value):\n",
    "        self.rootid = value\n",
    "    def getNodeValue(self):"
   ]
  },
  {
   "cell_type": "markdown",
   "metadata": {},
   "source": [
    "- binary tree is a tuple $(L, S, R)$, where $L$ and $R$ are binary trees or the empty set and $S$ is a singleton 单件 set\n",
    "\n",
    "用途\n",
    "- Binary trees are seldom used solely for their structure. \n",
    "    - Much more typical is to define a labeling function on the nodes, which associates some value to each node.\n",
    "    - Binary trees labelled this way are used to implement __binary search trees__ and __binary heaps__, and are used for efficient __searching__ and __sorting__. \n",
    "    \n",
    "   \n",
    "### [Types of trees](https://www.quora.com/What-are-the-types-of-trees-in-data-structures)\n",
    "\n",
    "#### Binary tree 子类：\n",
    "- __full binary tree__ (e.g.  proper or plane binary tree)\n",
    "    - a tree in which every node in the tree has either 0 or 2 children.\n",
    "- __perfect binary tree__\n",
    "    - a binary tree where all interior nodes have two children and all leaves have the same depth or same level.\n",
    "    - __full binary tree__ + all leaves have the same depth or same level.\n",
    "- __complete binary tree__ \n",
    "    - 要求【__perfect binary tree__ 好像和 __complete binary tree__ 不具有包含关系】\n",
    "        - every level, except possibly the last, is completely filled, \n",
    "        - and all nodes in the last level are as far left as possible. \n",
    "    -  A complete binary tree can be efficiently represented using an array\n",
    "    \n",
    "\n",
    "- __balanced binary tree__\n",
    "    - 不懂wiki的定义？\n",
    "\n",
    "- [__Full  vs. Complete vs. Perfect__ binary tree comparisions](https://www.google.com/search?safe=active&biw=1327&bih=714&tbm=isch&sa=1&ei=FIpAWt2qC8HejwSuu5WQDA&q=Types+of+Binary+Tree&oq=Types+of+Binary+Tree&gs_l=psy-ab.12...0.0.0.204839.0.0.0.0.0.0.0.0..0.0....0...1c..64.psy-ab..0.0.0....0.2FAtdBPx-vU#imgrc=LAbdouxreudmKM)\n",
    "\n",
    "#### 其他类 tree:\n",
    "- __Binary search tree (BST)__: \n",
    "    * 【定义】BST is a binary tree where the key in each node must be greater than or equal to any key stored in the left sub-tree, and less than or equal to any key stored in the right sub-tree..简单来说，对于任意node，需要满足 $L\\leq P \\leq R$\n",
    "    * 【特性】 BST allows __fast lookup, addition and removal of items__, \n",
    "        - BST can be used to implement either __dynamic sets of items__, or __lookup tables__ that allow finding an item by its key (e.g., finding the phone number of a person by name)\n",
    "        - On average, each comparison in BST allows the operations to skip half of the tree, so that each lookup, insertion or deletion's runtime is about $\\log(n)$, where $n$ is the number of items in the tree.\n",
    "        - Better than linear time required to find items by key in an (unsorted) array, but slower than the corresponding operations on hash tables.\n",
    "    * BST 中的 search 的两种实现：\n",
    "       - Because in the worst case this algorithm must search from the root of the tree to the leaf farthest from the root, the search operation takes time proportional to the tree's height. \n",
    "       - On average, binary search trees with $n$ nodes have $O(log n)$ height. \n",
    "       - However, in the worst case, binary search trees can have $O(n)$ height, when the unbalanced tree resembles a linked list (degenerate tree)."
   ]
  },
  {
   "cell_type": "code",
   "execution_count": null,
   "metadata": {
    "collapsed": true
   },
   "outputs": [],
   "source": [
    "# 1-Searching: recursive solver ----------------------\n",
    "def search_recursively(key, node):\n",
    "    \n",
    "    # 2 base case\n",
    "    if node is None or node.key == key:\n",
    "        return node\n",
    "    \n",
    "    # 2 recursively solve\n",
    "    if key < node.key:\n",
    "        return search_recursively(key, node.left)\n",
    "    else: # key > node.key\n",
    "        return search_recursively(key, node.right)\n",
    "    \n",
    "\n",
    "# 2-Searching: iterative solver ---------------------\n",
    "def search_iteratively (key, node):\n",
    "    \n",
    "    curr = node\n",
    "    while curr is not None:\n",
    "        if key == curr.key:\n",
    "            return curr\n",
    "        elif key < curr.key:\n",
    "            curr = curr.left\n",
    "        else: # key > curr.key:\n",
    "            curr = curr.right\n",
    "    return curr"
   ]
  },
  {
   "cell_type": "markdown",
   "metadata": {},
   "source": [
    "* BST 的 insertion 操作\n",
    "    * ooo\n",
    "    * Code exps: https://www.geeksforgeeks.org/binary-search-tree-set-1-search-and-insertion/"
   ]
  },
  {
   "cell_type": "code",
   "execution_count": null,
   "metadata": {
    "collapsed": true
   },
   "outputs": [],
   "source": [
    "# Python program to demonstrate insert operation in binary search tree \n",
    " \n",
    "# A utility class that represents an individual node in a BST\n",
    "class Node:\n",
    "    def __init__ (self, key):\n",
    "        self.left = None\n",
    "        self.right = None\n",
    "        self.val = key\n",
    "        \n",
    "# A utility function to insert a new node with the given key\n",
    "def insert(root, node):\n",
    "    if root is None:\n",
    "        root = node\n",
    "    else:\n",
    "        if root.val < node.val:\n",
    "            if root.right is None:\n",
    "                root.right = node\n",
    "            else:\n",
    "                insert(root.right, node)\n",
    "        else:\n",
    "            if root.left is None:\n",
    "                root.left = node\n",
    "            else:\n",
    "                insert(root.left, node)\n",
    "\n",
    "# A utility function to do inorder tree traversal\n",
    "def inorder(root):\n",
    "    if root:\n",
    "        inorder(root.left)\n",
    "        print(root.val)\n",
    "        inorder(root.right)\n",
    " \n",
    " \n",
    "# Driver program to test the above functions\n",
    "# Let us create the following BST\n",
    "#      50\n",
    "#    /    \\\n",
    "#   30     70\n",
    "#   / \\    / \\\n",
    "#  20 40  60 80\n",
    "r = Node(50)\n",
    "insert(r,Node(30))\n",
    "insert(r,Node(20))\n",
    "insert(r,Node(40))\n",
    "insert(r,Node(70))\n",
    "insert(r,Node(60))\n",
    "insert(r,Node(80))\n",
    " \n",
    "# Print inoder traversal of the BST\n",
    "inorder(r)\n",
    " \n",
    "# This code is contributed by Bhavya Jain"
   ]
  },
  {
   "cell_type": "markdown",
   "metadata": {},
   "source": [
    "- __AVL tree or height balanced binary tree__\n",
    "- __Red-Black tree__:\n",
    "- __Splay tree__:\n",
    "- __N-ary tree__:\n",
    "- __Trie Structure__:\n",
    "- __Heap Structure__"
   ]
  }
 ],
 "metadata": {
  "kernelspec": {
   "display_name": "Python 2",
   "language": "python",
   "name": "python2"
  },
  "language_info": {
   "codemirror_mode": {
    "name": "ipython",
    "version": 2
   },
   "file_extension": ".py",
   "mimetype": "text/x-python",
   "name": "python",
   "nbconvert_exporter": "python",
   "pygments_lexer": "ipython2",
   "version": "2.7.13"
  }
 },
 "nbformat": 4,
 "nbformat_minor": 2
}

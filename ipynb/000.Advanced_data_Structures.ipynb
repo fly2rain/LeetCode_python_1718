{
 "cells": [
  {
   "cell_type": "markdown",
   "metadata": {},
   "source": [
    "# File Name: 000.Advanced_data_Structures\n",
    "\n",
    "\n",
    "# 1. Heap (data structure)\n",
    "#### Important links\n",
    "* Wiki link: https://en.wikipedia.org/wiki/Heap_(data_structure)\n",
    "\n",
    "\n",
    "\n",
    "## Abstract:\n",
    "\n",
    "* In computer science, a **heap** is a specialized **tree-based** data structure that satisfies the **heap property**:\n",
    "    * **heap property**: if $P$ is a parent node of $C$,\n",
    "        - then the key (the value) of $P$ is either greater than or equal to (in a max heap) the key of $C$.\n",
    "        - or less than or equal to (in a min heap) the key of $C$.\n",
    "    - **图例**: Example of a binary __max-heap (看来还有 min-heap)__ with node keys being integers from 1 to 100\n",
    "        ![Example](https://upload.wikimedia.org/wikipedia/commons/thumb/3/38/Max-Heap.svg/320px-Max-Heap.svg.png)\n",
    "        \n",
    "    - **基本概念**: The node at the \"top\" of the heap (with no parents) is called the root node.\n",
    "    \n",
    "    - **用途-priority queue**: \n",
    "        - The heap is one **maximally efficient implementation** of an abstract data type called a **priority queue**, and in fact priority queues are often referred to as \"heaps\", regardless of how they may be implemented. \n",
    "    - **实现方式-binary heap/tree** : A common implementation of a heap is the binary heap, in which the tree is a binary tree (see figure)\n",
    "    \n",
    "\n",
    "- 性质:\n",
    "    - In a heap, the highest (or lowest) priority element is always stored at the root. A heap is __not a sorted__ structure and can be regarded as **partially ordered**.\n",
    "    - When a heap is a **complete binary tree**, it has a smallest possible height—a heap with N nodes and for each node $a$ branches always has $log_a N$ height.\n",
    "    - A heap is a useful data structure when you need to remove the object with the highest (or lowest) priority.\n",
    "    - The maximum number of children each node can have depends on the type of heap, but in many types it is at most two, which is known as a __binary heap__.\n",
    "    - Example of a complete binary max-heap with node keys being integers from 1 to 100 and how it would be stored in an array. https://en.wikipedia.org/wiki/Heap_(data_structure)#/media/File:Heap-as-array.svg\n",
    "    - Heaps are usually implemented in an array (fixed size or dynamic array), and do not require pointers between elements. [具体查看 wiki 链接 的 Implementation 部分].\n",
    "        \n",
    "       \n",
    "       \n",
    "\n",
    "\n",
    "\n",
    "\n",
    "```python\n",
    "\n",
    "```"
   ]
  },
  {
   "cell_type": "markdown",
   "metadata": {},
   "source": [
    "# 2. Tree\n",
    "#### Important links\n",
    "- Wiki link: https://en.wikipedia.org/wiki/Tree_(data_structure)\n",
    "\n",
    "## Abstract\n",
    "\n",
    "- A tree is a widely used __abstract data type (ADT)__\n",
    "    - it has a hierarchical tree structure\n",
    "        - with a root value and subtrees of children,\n",
    "        - represented as a set of __linked nodes__.\n",
    "        \n",
    "- __Tree有向无环图__: A tree data structure can be defined __recursively__ as a collection of nodes (starting at a root node),\n",
    "    - where each node is a data structure consisting of a value, __together with__ a list of references to nodes (the \"children\"), \n",
    "    - with the constraints that no reference is duplicated, and none points to the root. [不要存在环]\n",
    "    \n",
    "- 查看 [wiki_link] 的 __Definition__ 部分.\n",
    "    \n",
    " \n",
    " \n",
    " [wiki_link]:https://en.wikipedia.org/wiki/Tree_(data_structure)\n"
   ]
  },
  {
   "cell_type": "code",
   "execution_count": null,
   "metadata": {
    "collapsed": true
   },
   "outputs": [],
   "source": [
    "\n"
   ]
  }
 ],
 "metadata": {
  "kernelspec": {
   "display_name": "Python 2",
   "language": "python",
   "name": "python2"
  },
  "language_info": {
   "codemirror_mode": {
    "name": "ipython",
    "version": 2
   },
   "file_extension": ".py",
   "mimetype": "text/x-python",
   "name": "python",
   "nbconvert_exporter": "python",
   "pygments_lexer": "ipython2",
   "version": "2.7.13"
  }
 },
 "nbformat": 4,
 "nbformat_minor": 2
}

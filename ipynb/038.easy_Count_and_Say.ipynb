{
 "cells": [
  {
   "cell_type": "markdown",
   "metadata": {},
   "source": [
    "# 38.easy_Count_and_Say\n",
    "### 链接\n",
    "\n",
    "* 题目：https://leetcode.com/problems/count-and-say/description/\n",
    "\n",
    "### 题意\n",
    "* Given an integer n, generate the nth term of the count-and-say sequence.\n",
    "* Note: Each term of the sequence of integers will be represented as a string.\n",
    "\n",
    "\n",
    "### 分析\n",
    "* 只要保存最后两个数字即可。\n",
    "\n",
    "### 编程经验\n",
    "\n",
    "```python\n",
    "```"
   ]
  },
  {
   "cell_type": "markdown",
   "metadata": {},
   "source": [
    "# Method #1"
   ]
  },
  {
   "cell_type": "code",
   "execution_count": 21,
   "metadata": {},
   "outputs": [
    {
     "name": "stdout",
     "output_type": "stream",
     "text": [
      "1\n",
      "11\n",
      "21\n",
      "1211\n",
      "111221\n"
     ]
    }
   ],
   "source": [
    "class Solution(object):\n",
    "    def counttAndSay(self, n):\n",
    "        \"\"\"\n",
    "        :type n: int\n",
    "        :rtype: str\n",
    "        \"\"\"        \n",
    "        s = '1'\n",
    "        for _ in range(n-1):\n",
    "            let, temp, cnt = s[0], '', 0\n",
    "            for l in s:\n",
    "                if let == l:\n",
    "                    cnt += 1\n",
    "                else:\n",
    "                    temp += str(cnt) + let\n",
    "                    let = l\n",
    "                    cnt = 1\n",
    "            temp += str(cnt) + let ## ???????\n",
    "            s = temp\n",
    "        return s\n",
    "\n",
    "# test ----\n",
    "print Solution ().counttAndSay (1)\n",
    "print Solution ().counttAndSay (2)\n",
    "print Solution ().counttAndSay (3)\n",
    "print Solution ().counttAndSay (4)\n",
    "print Solution ().counttAndSay (5)"
   ]
  },
  {
   "cell_type": "code",
   "execution_count": null,
   "metadata": {
    "collapsed": true
   },
   "outputs": [],
   "source": []
  }
 ],
 "metadata": {
  "kernelspec": {
   "display_name": "Python 2",
   "language": "python",
   "name": "python2"
  },
  "language_info": {
   "codemirror_mode": {
    "name": "ipython",
    "version": 2
   },
   "file_extension": ".py",
   "mimetype": "text/x-python",
   "name": "python",
   "nbconvert_exporter": "python",
   "pygments_lexer": "ipython2",
   "version": "2.7.13"
  }
 },
 "nbformat": 4,
 "nbformat_minor": 2
}

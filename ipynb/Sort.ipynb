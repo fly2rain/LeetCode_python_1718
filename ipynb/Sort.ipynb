{
 "cells": [
  {
   "cell_type": "markdown",
   "metadata": {
    "toc": true
   },
   "source": [
    "<h1>Table of Contents<span class=\"tocSkip\"></span></h1>\n",
    "<div class=\"toc\" style=\"margin-top: 1em;\"><ul class=\"toc-item\"><li><span><a href=\"#Sort-总结\" data-toc-modified-id=\"Sort-总结-1\"><span class=\"toc-item-num\">1&nbsp;&nbsp;</span><a href=\"\" target=\"_blank\">Sort 总结</a></a></span><ul class=\"toc-item\"><li><span><a href=\"#Bubble-Sort\" data-toc-modified-id=\"Bubble-Sort-1.1\"><span class=\"toc-item-num\">1.1&nbsp;&nbsp;</span><a href=\"\" target=\"_blank\">Bubble Sort</a></a></span></li><li><span><a href=\"#Selection-Sort\" data-toc-modified-id=\"Selection-Sort-1.2\"><span class=\"toc-item-num\">1.2&nbsp;&nbsp;</span><a href=\"\" target=\"_blank\">Selection Sort</a></a></span></li><li><span><a href=\"#Insertion-Sort\" data-toc-modified-id=\"Insertion-Sort-1.3\"><span class=\"toc-item-num\">1.3&nbsp;&nbsp;</span><a href=\"\" target=\"_blank\">Insertion Sort</a></a></span></li><li><span><a href=\"#Bucket-Sort\" data-toc-modified-id=\"Bucket-Sort-1.4\"><span class=\"toc-item-num\">1.4&nbsp;&nbsp;</span><a href=\"\" target=\"_blank\">Bucket Sort</a></a></span></li><li><span><a href=\"#Heap-Sort\" data-toc-modified-id=\"Heap-Sort-1.5\"><span class=\"toc-item-num\">1.5&nbsp;&nbsp;</span><a href=\"\" target=\"_blank\">Heap Sort</a></a></span></li><li><span><a href=\"#Quicksort(-)\" data-toc-modified-id=\"Quicksort(-)-1.6\"><span class=\"toc-item-num\">1.6&nbsp;&nbsp;</span><a href=\"\" target=\"_blank\">Quicksort( )</a></a></span></li><li><span><a href=\"#Mergesort(-)\" data-toc-modified-id=\"Mergesort(-)-1.7\"><span class=\"toc-item-num\">1.7&nbsp;&nbsp;</span><a href=\"\" target=\"_blank\">Mergesort( )</a></a></span></li></ul></li><li><span><a href=\"#2/16:-Sort\" data-toc-modified-id=\"2/16:-Sort-2\"><span class=\"toc-item-num\">2&nbsp;&nbsp;</span><a href=\"\" target=\"_blank\">2/16: Sort</a></a></span></li></ul></div>"
   ]
  },
  {
   "cell_type": "markdown",
   "metadata": {},
   "source": [
    "# Sort\n",
    "* 题型: [Top 100 Liked Questions + Sort](https://leetcode.com/problemset/algorithms/?topicSlugs=sort&listId=79h8rn6)\n",
    "* 题型: [Sort](https://leetcode.com/problemset/algorithms/?topicSlugs=sort)"
   ]
  },
  {
   "cell_type": "markdown",
   "metadata": {},
   "source": [
    "## [Sort 总结]()\n",
    "\n",
    "##### 链接\n",
    "* wiki-link: https://en.wikipedia.org/wiki/Sorting_algorithm\n",
    "\n",
    "##### 分类\n",
    "* comparison based sorting algorithm [ 最低计算复杂度 $O(nlogn)$ ]. cannot do better than nLogn.\n",
    "    * bucket sort\n",
    "    * selection sort\n",
    "    * insertion sort\n",
    "    * Merge Sort, \n",
    "    * Heap Sort, \n",
    "    * Quick-Sort.\n",
    "* Other:\n",
    "    * Counting sort\n",
    "    * Bucket sort "
   ]
  },
  {
   "cell_type": "markdown",
   "metadata": {},
   "source": [
    "### [Bubble Sort]()\n",
    "Video 教程:\n",
    "* https://www.youtube.com/watch?v=lyZQPjUT5B4\n",
    "\n",
    "Coding 和 文本教程:\n",
    "* https://www.geeksforgeeks.org/python-program-for-bubble-sort/\n",
    "* http://interactivepython.org/runestone/static/pythonds/SortSearch/TheBubbleSort.html"
   ]
  },
  {
   "cell_type": "code",
   "execution_count": null,
   "metadata": {
    "collapsed": true
   },
   "outputs": [],
   "source": [
    "def bubbleSort(arr):\n",
    "    n = len(arr)\n",
    "    \n",
    "    # Traverse through all array elements\n",
    "    for i in range(n): # ❤️❤️❤️ 计数用的, 用于统计 arr 末尾已经排好序的 elements.\n",
    "        # Last i elements are already in place\n",
    "        for j in range(0, n-i-1): # ❤️ 注意范围\n",
    "            # traverse the array from 0 to n-i-1\n",
    "            # Swap if the element found is greater\n",
    "            # than the next element\n",
    "            if arr[j] > arr[j+1] :\n",
    "                swap(arr, j, j + 1)\n",
    "    return arr\n",
    "                \n",
    "def swap(nums, i, j):\n",
    "    nums[i], nums[j] = nums[j], nums[i]\n",
    "\n",
    "########## testing ###########\n",
    "# Driver code to test above\n",
    "arr = [64, 34, 25, 12, 22, 11, 90]\n",
    "bubbleSort(arr)\n",
    "print arr"
   ]
  },
  {
   "cell_type": "markdown",
   "metadata": {},
   "source": [
    "### [Selection Sort]()\n",
    "* https://www.geeksforgeeks.org/selection-sort/"
   ]
  },
  {
   "cell_type": "code",
   "execution_count": 9,
   "metadata": {},
   "outputs": [
    {
     "name": "stdout",
     "output_type": "stream",
     "text": [
      "[11, 12, 22, 25, 34, 64, 90]\n",
      "[11, 12, 22, 25, 34, 64, 90]\n"
     ]
    }
   ],
   "source": [
    "# 每次找到最小值, 放到开头.\n",
    "def selectSort_left(nums): # from large too small\n",
    "    nn = len(nums)\n",
    "    if nn < 2: return nums\n",
    "    \n",
    "    for i in xrange(nn): # ❤️ 对比的起始位置\n",
    "        minIdx = i\n",
    "        for j in xrange(i, nn): # ❤️ 对比的范围\n",
    "            if nums[j] < nums[minIdx]:\n",
    "                minIdx = j\n",
    "        swap(nums, i, minIdx)\n",
    "    return nums\n",
    "    \n",
    "# 每次找到最大值, 放到结尾.\n",
    "def selectSort_right(nums): # from large too small\n",
    "    nn = len(nums)\n",
    "    if nn < 2: return nums\n",
    "    \n",
    "    for i in xrange(nn-1,-1,-1): # ❤️ 对比的起始位置\n",
    "        maxIdx = i\n",
    "        for j in xrange(i): # ❤️ 对比的范围\n",
    "            if nums[j] > nums[maxIdx]:\n",
    "                maxIdx = j\n",
    "        swap(nums, maxIdx, i)\n",
    "    return nums\n",
    "\n",
    "def swap(nums, i, j):\n",
    "    nums[i], nums[j] = nums[j], nums[i]\n",
    "\n",
    "########## testing ###########\n",
    "arr = [64, 34, 25, 12, 22, 11, 90]\n",
    "print selectSort_left(arr)\n",
    "print selectSort_right(arr)"
   ]
  },
  {
   "cell_type": "markdown",
   "metadata": {},
   "source": [
    "### [Insertion Sort]()\n",
    "* https://www.geeksforgeeks.org/insertion-sort/"
   ]
  },
  {
   "cell_type": "code",
   "execution_count": 39,
   "metadata": {},
   "outputs": [
    {
     "name": "stdout",
     "output_type": "stream",
     "text": [
      "[11, 12, 22, 25, 34, 64, 90]\n"
     ]
    }
   ],
   "source": [
    "# sort#3: insertion sort ---------------------------------\n",
    "# 一段是排好序的, 每次将新元素和排好序的元素对比, 如果小于则不断往前移动.\n",
    "def insertSort(nums):\n",
    "    nn = len(nums)\n",
    "    if nn < 2: return nums\n",
    "    \n",
    "    for i in xrange(1, nn): # ❤️ 处理 (insert) 第 i 个元素.\n",
    "        k = i\n",
    "        for j in xrange(i-1,-1,-1): # ❤️ insert 元素和排好序的元素对比.\n",
    "            if nums[k] < nums[j]:\n",
    "                swap(nums, j, k)\n",
    "                k = j\n",
    "            else:\n",
    "                break\n",
    "    return nums\n",
    "\n",
    "def swap(nums, i, j):\n",
    "    nums[i], nums[j] = nums[j], nums[i]\n",
    "    \n",
    "########## testing ###########\n",
    "arr = [64, 34, 25, 12, 22, 11, 90]\n",
    "print insertSort(arr)"
   ]
  },
  {
   "cell_type": "markdown",
   "metadata": {},
   "source": [
    "### [Bucket Sort]()\n",
    "* 资源#1: https://www.geeksforgeeks.org/bucket-sort-2/\n",
    "* 资源(代码): http://www.growingwiththeweb.com/2015/06/bucket-sort.html\n",
    "* 适用场景: Bucket sort is <span class=\"girk\">mainly useful</span> when input is <span class=\"girk\">❤️❤️uniformly distributed over a range❤️❤️</span>.\n",
    "    * For example, consider the following problem. Sort a large set of floating point numbers which are in range from 0.0 to 1.0 and are uniformly distributed across the range. How do we sort the numbers efficiently?\n",
    "* 复杂度分析:\n",
    "    * If we assume that insertion in a bucket takes O(1) time then bucket clearly take O(n) time."
   ]
  },
  {
   "cell_type": "code",
   "execution_count": 7,
   "metadata": {},
   "outputs": [
    {
     "name": "stdout",
     "output_type": "stream",
     "text": [
      "[11, 12, 22, 25, 34, 64, 90]\n"
     ]
    }
   ],
   "source": [
    "# ❤️❤️思路 bucket + insert sort 的结合:\n",
    "# 1. build bucket:\n",
    "#     a. 找到 minVal, maxVal. 根据最值以及 bucketsize 求得 bucketCnt\n",
    "#     b. 构建 bucket.\n",
    "# 2. 利用 insert sort 对 bucket 中每个子 bucket 排序. ❤️核心❤️: 利用 bucket 减少 n 的大小, 转化成 n^2 的复杂度.\n",
    "# 3. 将排序结果串起来即是最终的结果. \n",
    "def bucketSort(nums, bucketSize = 5):\n",
    "    # 1 edge condition\n",
    "    nn = len(nums)\n",
    "    if nn < 2: return nums\n",
    "    \n",
    "    # 2 determine minimum and maximum values\n",
    "    minVal = maxVal = nums[0]\n",
    "    for x in nums:\n",
    "        if x < minVal: minVal = x\n",
    "        elif x > maxVal: maxVal = x\n",
    "    \n",
    "    # 3 initialize buckets\n",
    "    bucketCnt = int( (maxVal - minVal) / bucketSize ) + 1\n",
    "    bucket = [[] for i in xrange(bucketCnt)]\n",
    "    for x in nums:\n",
    "        idx = int( (x - minVal) / bucketSize )\n",
    "        bucket[idx].append(x)\n",
    "        \n",
    "    # 4 Sort buckets and place back into input array\n",
    "    rst = []\n",
    "    for x in bucket:\n",
    "        insertSort(x)\n",
    "        for j in x:\n",
    "            rst.append(j)\n",
    "    return rst\n",
    "\n",
    "def insertSort(nums):\n",
    "    nn = len(nums)\n",
    "    for i in xrange(1, nn):\n",
    "        k = i \n",
    "        for j in xrange(i-1,-1,-1):\n",
    "            if nums[j] > nums[k]:\n",
    "                nums[j], nums[k] = nums[k], nums[j]\n",
    "                k = j \n",
    "    return nums\n",
    "        \n",
    "########## testing ###########\n",
    "arr = [64, 34, 25, 12, 22, 11, 90]\n",
    "print bucketSort(arr, 2) "
   ]
  },
  {
   "cell_type": "markdown",
   "metadata": {},
   "source": [
    "### [Heap Sort]()\n",
    "* https://www.youtube.com/watch?v=PqS5T9ZKZno\n",
    "* 和 great tree 或 less tree 紧密相关. [heap 是 complete tree: 只允许最后一层为空, 并优先排好左边的 leaf nodes.]\n",
    "    * Heapify 的原理: 递归检查每个左右节点是否大于根节点. 如是, 调换数值. 直到满足条件.\n",
    "    * Heappop 的原理: 从 arr 的角度来看, 交换第一个元素和最后一个元素, 删除最后一个元素. 对剩余元素做 heapify 操作, 然他成为 heap queue."
   ]
  },
  {
   "cell_type": "markdown",
   "metadata": {},
   "source": [
    "### [Quicksort( )]()"
   ]
  },
  {
   "cell_type": "code",
   "execution_count": null,
   "metadata": {
    "collapsed": true
   },
   "outputs": [],
   "source": [
    "# 📚版本1: 不是 in-place sorting，容易理解，但是算法不是最优。\n",
    "def quicksort(arr):\n",
    "    if len(arr) <= 1:\n",
    "        return arr\n",
    "    \n",
    "    # 找到 pivot \n",
    "    pivot = arr[len(arr) // 2]\n",
    "    left = [x for x in arr if x < pivot]\n",
    "    middle = [x for x in arr if x == pivot]\n",
    "    right = [x for x in arr if x > pivot]\n",
    "    return quicksort(left) + middle + quicksort(right)\n",
    "\n",
    "########## testing ###########\n",
    "print(quicksort([3,6,8,10,1,2,1]))"
   ]
  },
  {
   "cell_type": "code",
   "execution_count": null,
   "metadata": {
    "collapsed": true
   },
   "outputs": [],
   "source": [
    "# 📚版本2: in-place version.\n",
    "# 1/18/2018 written when Chenjing Mao had the road test\n",
    "import random\n",
    "def quickSort (nums):\n",
    "    if len(nums) < 2:  return nums\n",
    "    _quicksort (nums, 0, len(nums) - 1)\n",
    "    return nums\n",
    "\n",
    "def _quickSort (nums, l, r):\n",
    "    if l < r:\n",
    "        pivot = partition (nums, l, r)\n",
    "        _quickSort (nums, l, pivot-1)\n",
    "        _quickSort (nums, pivot+1, r)\n",
    "\n",
    "def partition (nums, l, r):\n",
    "    pivot = random.randint (l, r)\n",
    "    swap(nums, r, pivot)\n",
    "    \n",
    "    for i in xrange(l, r):\n",
    "        if nums[i] > nums[r]:\n",
    "            continue\n",
    "        swap(nums, i, l)\n",
    "        l += 1\n",
    "    swap(nums, l, r)\n",
    "    return l\n",
    "    \n",
    "def swap (nums, l, r):\n",
    "    nums[l], nums[r] = nums[r], nums[l]\n",
    "    \n",
    "    \n",
    "########## testing ###########\n",
    "print quickSort([3,6,8,10,1,2,1])\n",
    "print quickSort([64, 34, 25, 12, 22, 11, 90])"
   ]
  },
  {
   "cell_type": "markdown",
   "metadata": {},
   "source": [
    "### [Mergesort( )]()\n",
    "* GeeksforGeeks: https://www.geeksforgeeks.org/merge-sort/\n",
    "* https://gist.github.com/jvashishtha/2720700\n",
    "* http://interactivepython.org/runestone/static/pythonds/SortSearch/TheMergeSort.html\n",
    "* https://pythonandr.com/2015/07/05/the-merge-sort-python-code/"
   ]
  },
  {
   "cell_type": "code",
   "execution_count": 4,
   "metadata": {},
   "outputs": [
    {
     "name": "stdout",
     "output_type": "stream",
     "text": [
      "[11, 12, 22, 25, 34, 64, 90]\n",
      "[1, 1, 2, 3, 6, 8, 10]\n"
     ]
    }
   ],
   "source": [
    "# 5 mergesort -----------------------------------\n",
    "# merge sort main function ---------\n",
    "def mergeSort(nums, l, r):\n",
    "    if l < r: # ❤️注意条件\n",
    "        m = l + (r - l) / 2\n",
    "        mergeSort(nums, l, m) # ❤️ 和后面 L = ... R = ... 是关联起来的.\n",
    "        mergeSort(nums, m+1, r)\n",
    "        merge(nums, l, m+1, r+1) # ❤️❤️👍❤️❤️ 注意 m+1, r+1, 这是按照 index [ ) 的规则 👍❤️❤️❤️\n",
    "    return nums\n",
    "\n",
    "# Merges two subarrays of arr[] -----\n",
    "#   * First subarray is arr[l..m]\n",
    "#   * Second subarray is arr[m+1..r]\n",
    "def merge(nums, l, m, r):\n",
    "    L = nums[l:m]\n",
    "    R = nums[m:r]\n",
    "\n",
    "    # Merge the temp arrays back into nums[l..r]\n",
    "    i = 0     # Initial index \n",
    "    of first subarray\n",
    "    j = 0     # Initial index of second subarray\n",
    "    k = l     # Initial index of merged subarray\n",
    "    while i < len(L) and j < len(R):\n",
    "        if L[i] < R[j]:\n",
    "            nums[k] = L[i]\n",
    "            i += 1\n",
    "        else:\n",
    "            nums[k] = R[j]\n",
    "            j += 1\n",
    "        k += 1\n",
    "        \n",
    "    while i < len(L): # Copy the remaining elements of L[], if there are any\n",
    "        nums[k] = L[i]\n",
    "        i += 1\n",
    "        k += 1\n",
    "    while j < len(R): # Copy the remaining elements of R[], if there are any\n",
    "        nums[k] = R[j]\n",
    "        j += 1\n",
    "        k += 1\n",
    "    \n",
    "########## testing ###########\n",
    "arr = [64, 34, 25, 12, 22, 11, 90]\n",
    "brr = [3,6,8,10,1,2,1]\n",
    "\n",
    "print mergeSort(arr, 0, len(arr)-1)\n",
    "print mergeSort(brr, 0, len(brr)-1)"
   ]
  },
  {
   "cell_type": "markdown",
   "metadata": {},
   "source": [
    "## [2/16: Sort]()"
   ]
  },
  {
   "cell_type": "markdown",
   "metadata": {},
   "source": [
    "## []()\n",
    "##### 题意\n",
    "##### 分析\n",
    "##### 总结"
   ]
  },
  {
   "cell_type": "markdown",
   "metadata": {},
   "source": [
    "## []()\n",
    "##### 题意\n",
    "##### 分析\n",
    "##### 总结"
   ]
  },
  {
   "cell_type": "markdown",
   "metadata": {},
   "source": [
    "## []()\n",
    "##### 题意\n",
    "##### 分析\n",
    "##### 总结"
   ]
  },
  {
   "cell_type": "markdown",
   "metadata": {},
   "source": [
    "## []()\n",
    "##### 题意\n",
    "##### 分析\n",
    "##### 总结"
   ]
  },
  {
   "cell_type": "markdown",
   "metadata": {},
   "source": [
    "## []()\n",
    "##### 题意\n",
    "##### 分析\n",
    "##### 总结"
   ]
  },
  {
   "cell_type": "markdown",
   "metadata": {},
   "source": [
    "## []()\n",
    "##### 题意\n",
    "##### 分析\n",
    "##### 总结"
   ]
  },
  {
   "cell_type": "markdown",
   "metadata": {},
   "source": [
    "## []()\n",
    "##### 题意\n",
    "##### 分析\n",
    "##### 总结"
   ]
  },
  {
   "cell_type": "markdown",
   "metadata": {},
   "source": [
    "## []()\n",
    "##### 题意\n",
    "##### 分析\n",
    "##### 总结"
   ]
  },
  {
   "cell_type": "markdown",
   "metadata": {},
   "source": [
    "## []()\n",
    "##### 题意\n",
    "##### 分析\n",
    "##### 总结"
   ]
  },
  {
   "cell_type": "markdown",
   "metadata": {},
   "source": [
    "## []()\n",
    "##### 题意\n",
    "##### 分析\n",
    "##### 总结"
   ]
  }
 ],
 "metadata": {
  "kernelspec": {
   "display_name": "Python 2",
   "language": "python",
   "name": "python2"
  },
  "language_info": {
   "codemirror_mode": {
    "name": "ipython",
    "version": 2
   },
   "file_extension": ".py",
   "mimetype": "text/x-python",
   "name": "python",
   "nbconvert_exporter": "python",
   "pygments_lexer": "ipython2",
   "version": "2.7.13"
  },
  "toc": {
   "nav_menu": {},
   "number_sections": true,
   "sideBar": true,
   "skip_h1_title": true,
   "toc_cell": true,
   "toc_position": {
    "height": "601px",
    "left": "0px",
    "right": "1084.28px",
    "top": "108px",
    "width": "186px"
   },
   "toc_section_display": "block",
   "toc_window_display": true
  }
 },
 "nbformat": 4,
 "nbformat_minor": 2
}

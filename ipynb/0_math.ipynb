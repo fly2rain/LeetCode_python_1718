{
 "cells": [
  {
   "cell_type": "markdown",
   "metadata": {
    "toc": true
   },
   "source": [
    "<h1>Table of Contents<span class=\"tocSkip\"></span></h1>\n",
    "<div class=\"toc\" style=\"margin-top: 1em;\"><ul class=\"toc-item\"><li><span><a href=\"#3/12\" data-toc-modified-id=\"3/12-1\"><span class=\"toc-item-num\">1&nbsp;&nbsp;</span><a href=\"\" target=\"_blank\">3/12</a></a></span><ul class=\"toc-item\"><li><span><a href=\"#9.easy-Palindrome-Number\" data-toc-modified-id=\"9.easy-Palindrome-Number-1.1\"><span class=\"toc-item-num\">1.1&nbsp;&nbsp;</span><a href=\"\" target=\"_blank\">9.easy-Palindrome Number</a></a></span></li><li><span><a href=\"#7.easy-Reverse-Integer\" data-toc-modified-id=\"7.easy-Reverse-Integer-1.2\"><span class=\"toc-item-num\">1.2&nbsp;&nbsp;</span><a href=\"https://leetcode.com/problems/reverse-integer/description/\" target=\"_blank\">7.easy-Reverse Integer</a></a></span></li><li><span><a href=\"#535.med-Encode-and-Decode-TinyURL\" data-toc-modified-id=\"535.med-Encode-and-Decode-TinyURL-1.3\"><span class=\"toc-item-num\">1.3&nbsp;&nbsp;</span><a href=\"https://leetcode.com/problems/encode-and-&lt;span class=&quot;girk&quot;&gt;decode&lt;/span&gt;-tinyurl/description/\" target=\"_blank\">535.med-Encode and Decode TinyURL</a></a></span></li><li><span><a href=\"#66.easy-Plus-One\" data-toc-modified-id=\"66.easy-Plus-One-1.4\"><span class=\"toc-item-num\">1.4&nbsp;&nbsp;</span><a href=\"https://leetcode.com/problems/plus-one/description/\" target=\"_blank\">66.easy-Plus One</a></a></span></li><li><span><a href=\"#258.easy-Add-Digits\" data-toc-modified-id=\"258.easy-Add-Digits-1.5\"><span class=\"toc-item-num\">1.5&nbsp;&nbsp;</span><a href=\"https://leetcode.com/problems/add-digits/description/\" target=\"_blank\">258.easy-Add Digits</a></a></span></li><li><span><a href=\"#202.easy-Happy-Number\" data-toc-modified-id=\"202.easy-Happy-Number-1.6\"><span class=\"toc-item-num\">1.6&nbsp;&nbsp;</span><a href=\"https://leetcode.com/problems/happy-number/description/\" target=\"_blank\">202.easy-Happy Number</a></a></span></li><li><span><a href=\"#❤️172.easy-Factorial-Trailing-Zeroes\" data-toc-modified-id=\"❤️172.easy-Factorial-Trailing-Zeroes-1.7\"><span class=\"toc-item-num\">1.7&nbsp;&nbsp;</span><a href=\"https://leetcode.com/problems/factorial-trailing-zeroes/description/\" target=\"_blank\">❤️172.easy-Factorial Trailing Zeroes</a></a></span></li><li><span><a href=\"#❤️50.med-Pow(x,-n)\" data-toc-modified-id=\"❤️50.med-Pow(x,-n)-1.8\"><span class=\"toc-item-num\">1.8&nbsp;&nbsp;</span><a href=\"https://leetcode.com/problems/powx-n/description/\" target=\"_blank\">❤️50.med-Pow(x, n)</a></a></span></li><li><span><a href=\"#171.easy-Excel-Sheet-Column-Number\" data-toc-modified-id=\"171.easy-Excel-Sheet-Column-Number-1.9\"><span class=\"toc-item-num\">1.9&nbsp;&nbsp;</span><a href=\"\" target=\"_blank\">171.easy-Excel Sheet Column Number</a></a></span></li><li><span><a href=\"#319.med-Bulb-Switcher\" data-toc-modified-id=\"319.med-Bulb-Switcher-1.10\"><span class=\"toc-item-num\">1.10&nbsp;&nbsp;</span><a href=\"https://leetcode.com/problems/bulb-switcher/description/\" target=\"_blank\">319.med-Bulb Switcher</a></a></span></li><li><span><a href=\"#8.med-String-to-Integer-(atoi)\" data-toc-modified-id=\"8.med-String-to-Integer-(atoi)-1.11\"><span class=\"toc-item-num\">1.11&nbsp;&nbsp;</span><a href=\"https://leetcode.com/problems/string-to-integer-atoi/description/\" target=\"_blank\">8.med-String to Integer (atoi)</a></a></span></li><li><span><a href=\"#223.med-Rectangle-Area\" data-toc-modified-id=\"223.med-Rectangle-Area-1.12\"><span class=\"toc-item-num\">1.12&nbsp;&nbsp;</span><a href=\"https://leetcode.com/problems/rectangle-area/description/\" target=\"_blank\">223.med-Rectangle Area</a></a></span></li></ul></li></ul></div>"
   ]
  },
  {
   "cell_type": "markdown",
   "metadata": {},
   "source": [
    "# Math"
   ]
  },
  {
   "cell_type": "markdown",
   "metadata": {},
   "source": [
    "## [3/12]()"
   ]
  },
  {
   "cell_type": "markdown",
   "metadata": {},
   "source": [
    "### [9.easy-Palindrome Number]()\n",
    "##### 题意: constant space 判断 int 值是否是回文?\n",
    "##### 分析\n",
    "##### 总结"
   ]
  },
  {
   "cell_type": "code",
   "execution_count": null,
   "metadata": {
    "collapsed": true
   },
   "outputs": [],
   "source": [
    "# 思路: 将 x 反过来的结果和 原数对比.\n",
    "class Solution(object):\n",
    "    def isPalindrome(self, x):\n",
    "        \"\"\"\n",
    "        :type x: int\n",
    "        :rtype: bool\n",
    "        \"\"\"\n",
    "        # 1 edge condition. <0 或 1000 这种例子\n",
    "        if x < 0 or (x > 0 and x%10 ==0): # ❤️ edge condition 需要注意.\n",
    "            return False\n",
    "        \n",
    "        num, rev = x, 0 # ❎ 记得复制 x\n",
    "        while x:\n",
    "            rev = rev*10 + x%10\n",
    "            x /= 10\n",
    "        return num == rev"
   ]
  },
  {
   "cell_type": "markdown",
   "metadata": {},
   "source": [
    "### [7.easy-Reverse Integer](https://leetcode.com/problems/reverse-integer/description/)\n",
    "##### 题意: 给定 <span class=\"girk\">32-bit signed integer</span>, 写出它的倒序输出.\n",
    "##### 分析: 两个知识点: 1. 32bit 不要overflow, 2. signed."
   ]
  },
  {
   "cell_type": "code",
   "execution_count": null,
   "metadata": {
    "collapsed": true
   },
   "outputs": [],
   "source": [
    "\"\"\"\n",
    "Example 1:\n",
    "Input: 123\n",
    "Output:  321\n",
    "\n",
    "Example 2: # ❤️❤️ 要注意符号\n",
    "Input: -123\n",
    "Output: -321\n",
    "\n",
    "Example 3:\n",
    "Input: 120\n",
    "Output: 21\n",
    "\"\"\""
   ]
  },
  {
   "cell_type": "code",
   "execution_count": null,
   "metadata": {
    "collapsed": true
   },
   "outputs": [],
   "source": [
    "# IDEA:\n",
    "#     1) 32 bit, 容易 overflow\n",
    "#     2) 输入可能是 negative, 需要考虑\n",
    "#     3) 倒序.\n",
    "class Solution(object):\n",
    "    def reverse(self, x):\n",
    "        \"\"\"\n",
    "        :type x: int\n",
    "        :rtype: int\n",
    "        \"\"\"\n",
    "        is_negative = x < 0 \n",
    "        \n",
    "        revs, y = 0, abs(x)\n",
    "        while y:\n",
    "            revs = revs*10 + y%10\n",
    "            y /= 10\n",
    "        \n",
    "        if is_negative: revs = -revs\n",
    "            \n",
    "        if revs > 2**31-1 or revs<-2**31: # ❎ 没有考虑 overflow 的问题. ❤️ 注意取值范围. 因为非负部分包含0, 所以少一位.\n",
    "            return 0\n",
    "        else:\n",
    "            return revs"
   ]
  },
  {
   "cell_type": "markdown",
   "metadata": {},
   "source": [
    "### [535.med-Encode and Decode TinyURL](https://leetcode.com/problems/encode-and-<span class=\"girk\">decode</span>-tinyurl/description/)\n",
    "##### 题意: 方便起见, 将长的 <span class=\"girk\">URL encode</span> 和 <span class=\"girk\">decode</span>.\n",
    "##### 分析\n",
    "##### 总结"
   ]
  },
  {
   "cell_type": "code",
   "execution_count": null,
   "metadata": {
    "collapsed": true
   },
   "outputs": [],
   "source": [
    "# IDEA: 利用 dictionary 编码 short URL 和 long URL.\n",
    "#     缺点: 容易存在 collision.\n",
    "import string\n",
    "class Codec:\n",
    "    def __init__(self):\n",
    "        self.full_tiny = {}\n",
    "        self.tiny_full = {}\n",
    "        self.globalCnt = 0\n",
    "        self.letters = string.ascii_letters + string.digits\n",
    "        self.len_letters = len(self.letters)\n",
    "        self.basic_url = \"http://tinyurl.com/\"\n",
    "        \n",
    "    def encode(self, longUrl):\n",
    "        \"\"\"Encodes a URL to a shortened URL.\n",
    "        :type longUrl: str\n",
    "        :rtype: str\n",
    "        \"\"\"\n",
    "        suffix = self.cnt2letters() \n",
    "        if suffix not in self.full_tiny: # ❤️ 1) 创建两个字典, full_tiny, tiny_full\n",
    "            self.full_tiny[longUrl] = suffix\n",
    "            self.tiny_full[suffix] = longUrl\n",
    "            self.globalCnt += 1 # ❤️ 全局序号更新 \n",
    "        return self.basic_url + suffix\n",
    "        \n",
    "    def cnt2letters(self): # 2) 根据序号转化为 62 位编码\n",
    "        suffix, cnt = \"\", self.globalCnt\n",
    "        while cnt:\n",
    "            suffix = suffix + self.letters[cnt%self.len_letters]\n",
    "            cnt /= self.len_letters\n",
    "        return suffix\n",
    "        \n",
    "\n",
    "    def decode(self, shortUrl): # 3) 根据 short Url 返回来检索长编码. \n",
    "        \"\"\"Decodes a shortened URL to its original URL.\n",
    "        :type shortUrl: str\n",
    "        :rtype: str\n",
    "        \"\"\"\n",
    "        idx = shortUrl.split(\"/\")[-1] # ❎ 之前没有把 \"/\" 后面的东西提取出来.\n",
    "        if idx in self.tiny_full:\n",
    "            return self.tiny_full[idx]\n",
    "        else:\n",
    "            return \"\"\n",
    "        \n",
    "\n",
    "# Your Codec object will be instantiated and called as such:\n",
    "# codec = Codec()\n",
    "# codec.decode(codec.encode(url))"
   ]
  },
  {
   "cell_type": "markdown",
   "metadata": {},
   "source": [
    "### [66.easy-Plus One](https://leetcode.com/problems/plus-one/description/)\n",
    "##### 题意: 非负整数表示为 list，最重要的位在 list 的开头, 加 1。假设除了 0，第一位不能为 0.\n",
    "##### 分析\n",
    "##### 总结"
   ]
  },
  {
   "cell_type": "code",
   "execution_count": 8,
   "metadata": {},
   "outputs": [
    {
     "name": "stdout",
     "output_type": "stream",
     "text": [
      "[1, 0, 0]\n"
     ]
    }
   ],
   "source": [
    "# IDEA: 从右到左, 逐位处理, 只有当 digits[i] == 9 时 才有进位.\n",
    "class Solution(object):\n",
    "    def plusOne(self, digits):\n",
    "        \"\"\"\n",
    "        :type digits: List[int]\n",
    "        :rtype: List[int]\n",
    "        \"\"\"\n",
    "        if not digits: return 1\n",
    "    \n",
    "        for i in xrange(len(digits)-1, -1, -1): # ❤️ 1) 从尾到头 \n",
    "            if digits[i] == 9:\n",
    "                digits[i] = 0\n",
    "            else:\n",
    "                digits[i] += 1 # 2) ❤️ 如果不等于9, 则+1, 退出.\n",
    "                return digits\n",
    "            \n",
    "        if digits[0] == 0: # 3) ❎ 放在 for 循环里面了, 出错了. ❤️❤️ \n",
    "            digits[0] = 1\n",
    "            digits.append(0)\n",
    "        return digits\n",
    "\n",
    "print Solution().plusOne([9, 9])"
   ]
  },
  {
   "cell_type": "markdown",
   "metadata": {},
   "source": [
    "### [258.easy-Add Digits](https://leetcode.com/problems/add-digits/description/)\n",
    "##### 题意: 给定 non-negative integer num, 把每位相加, 直到只有一个元素为止. \n",
    "##### 见例子: Given num = 38, the process is like: 3 + 8 = 11, 1 + 1 = 2. Since 2 has only one digit, return it.\n",
    "##### Follow up: Could you do it without any loop/recursion in <span class=\"burk\">O(1) runtime</span>?"
   ]
  },
  {
   "cell_type": "code",
   "execution_count": null,
   "metadata": {
    "collapsed": true
   },
   "outputs": [],
   "source": [
    "# IDEA: 要求 O(1) time & space\n",
    "# ❤️❤️❤️ dr(n) = 1 + (n - 1) % 9 ❤️❤️❤️ \n",
    "# ~input: 0 1 2 3 4 …\n",
    "# output: 0 1 2 3 4 5 6 7 8 9 1 2 3 4 5 6 7 8 9 1 2 3 …\n",
    "\n",
    "class Solution(object):\n",
    "    def addDigits(self, num):\n",
    "        \"\"\"\n",
    "        :type num: int\n",
    "        :rtype: int\n",
    "        \"\"\"\n",
    "        if num == 0: return 0\n",
    "        \n",
    "        return 1 + (num - 1) % 9 # ❤️"
   ]
  },
  {
   "cell_type": "code",
   "execution_count": 6,
   "metadata": {},
   "outputs": [
    {
     "name": "stdout",
     "output_type": "stream",
     "text": [
      "6\n"
     ]
    }
   ],
   "source": [
    "class Solution(object):\n",
    "    def addDigits(self, num):\n",
    "        \"\"\"\n",
    "        :type num: int\n",
    "        :rtype: int\n",
    "        \"\"\"\n",
    "        if num < 10: return num\n",
    "        \n",
    "        while num > 9: \n",
    "            y = num\n",
    "            num = 0\n",
    "            while y:\n",
    "                num = num + y%10\n",
    "                y = y / 10\n",
    "        return num\n",
    "    \n",
    "print Solution().addDigits(15)"
   ]
  },
  {
   "cell_type": "markdown",
   "metadata": {},
   "source": [
    "### [202.easy-Happy Number](https://leetcode.com/problems/happy-number/description/)\n",
    "##### 题意: Write an algorithm to <span class=\"girk\">determine if a number is \"happy\"</span>."
   ]
  },
  {
   "cell_type": "code",
   "execution_count": null,
   "metadata": {
    "collapsed": true
   },
   "outputs": [],
   "source": [
    "\"\"\" Example: 19 is a happy number\n",
    "1^2 + 9^2 = 82\n",
    "8^2 + 2^2 = 68\n",
    "6^2 + 8^2 = 100\n",
    "1^2 + 0^2 + 0^2 = 1\n",
    "\"\"\""
   ]
  },
  {
   "cell_type": "code",
   "execution_count": null,
   "metadata": {
    "collapsed": true
   },
   "outputs": [],
   "source": [
    "class Solution(object):\n",
    "    def isHappy(self, n):\n",
    "        \"\"\"\n",
    "        :type n: int\n",
    "        :rtype: bool\n",
    "        \"\"\"\n",
    "        seen = set()\n",
    "        while n not in seen:\n",
    "            seen.add(n) # ❤️❤️ 可以用 set() 作为hash set, 考察有没有重复出现.\n",
    "            n = sum([int(i) ** 2 for i in str(n)])\n",
    "        return n == 1"
   ]
  },
  {
   "cell_type": "markdown",
   "metadata": {},
   "source": [
    "### [❤️172.easy-Factorial Trailing Zeroes](https://leetcode.com/problems/factorial-trailing-zeroes/description/)\n",
    "##### 题意: Given an integer n, return the number of trailing zeroes in n!.\n",
    "* Note: Your solution should be in logarithmic time complexity.\n",
    "\n",
    "##### 分析\n",
    "##### 教程: ❤️ https://www.youtube.com/watch?v=iOxnYC3Kw7k"
   ]
  },
  {
   "cell_type": "code",
   "execution_count": null,
   "metadata": {
    "collapsed": true
   },
   "outputs": [],
   "source": [
    "# ❤️ IDEA ❤️:\n",
    "#     1) 0 的个数等同于 2 * 5 的个数\n",
    "#     2) 2 的个数远远大于5的个数, 转化为数5的个数\n",
    "#     3) 然后就是递归调用, 查找5的个数\n",
    "# \n",
    "# Multiple of 5 provides one 5, multiple of 25 provides two 5 and so on.\n",
    "#     return n/5 + n/25 + n/125 + n/625 + n/3125+...\n",
    "\n",
    "class Solution(object):\n",
    "    def trailingZeroes(self, n):\n",
    "        \"\"\"\n",
    "        :type n: int\n",
    "        :rtype: int\n",
    "        \"\"\"\n",
    "        if n == 0: return 0\n",
    "        \n",
    "        # 5 的出现次数, 只能是5 的倍数; n! 阶乘只关心5的\n",
    "        return n / 5 + self.trailingZeroes(n / 5)\n",
    "        "
   ]
  },
  {
   "cell_type": "markdown",
   "metadata": {},
   "source": [
    "### [❤️50.med-Pow(x, n)](https://leetcode.com/problems/powx-n/description/)\n",
    "##### 题意: Implement pow(x, n).\n",
    "##### 分析\n",
    "##### 总结"
   ]
  },
  {
   "cell_type": "code",
   "execution_count": null,
   "metadata": {
    "collapsed": true
   },
   "outputs": [],
   "source": [
    "# ❤️❤️ 注意事项 ❤️❤️ \n",
    "#     1) invalid inputs 和 float 相等只能是某个 threshold 下面相等.\n",
    "#     2) n 如果是 negative 的处理.\n",
    "#     3) n 次方的高效二分处理的方法.\n",
    "class Solution(object):\n",
    "    def __init__(self):\n",
    "        self.invalid_inputs = False\n",
    "        \n",
    "    def myPow(self, x, n):\n",
    "        \"\"\"\n",
    "        :type x: float\n",
    "        :type n: int\n",
    "        :rtype: float\n",
    "        \"\"\"\n",
    "        # ❤️ 1 edge condition\n",
    "        self.invalid_input = False\n",
    "        if self.isEqual(x, 0) and n < 0: # 1) invalid inputs 和 float 相等只能是某个 threshold 下面相等.\n",
    "            self.invalid_input = True\n",
    "            return 0.0 # invalide inputs\n",
    "        \n",
    "        # 2 do the computation\n",
    "        is_negative = n < 0 # 2) n 如果是 negative 的处理\n",
    "        rst = self.helper(x, abs(n))\n",
    "        return rst if not is_negative else 1.0/rst\n",
    "    \n",
    "    def isEqual(self, x, y):\n",
    "        return abs(x - y) < 1e-8\n",
    "    \n",
    "    def helper(self, x, n):\n",
    "        if n == 0: return 1\n",
    "        if n == 1: return x\n",
    "        \n",
    "        # 3) n 次方的高效二分处理的方法.\n",
    "        rst = self.helper(x, n>>1) # ❤️❤️ n >> 1 等价于 n / 2, 当 n > 0 时放心使用\n",
    "        rst = rst * rst\n",
    "        if n & 1: # odd case, ❤️其中 n & 1 等价于 n % 2\n",
    "            rst = rst * x\n",
    "        return rst\n",
    "    \n",
    "print Solution().myPow(2, -1)"
   ]
  },
  {
   "cell_type": "markdown",
   "metadata": {},
   "source": [
    "### [171.easy-Excel Sheet Column Number]()\n",
    "##### 题意: 将 excel 利用 ABCDEDF 的编码转化成 \n",
    "##### 分析\n",
    "##### 总结\n",
    "```python\n",
    "ord(\"A\") # 65, 将 ascaii 码转化成 index \n",
    "ord(\"a\") # 97\n",
    "ord(\"C\") - ord(\"A\") + 1 # ❤️ \"A\" 为 1 时, 其他字母的计数.\n",
    "ord(\"C\") - ord(\"A\") # ❤️ \"A\" 为 0 时, 其他字母的计数, 偏移量.\n",
    "```"
   ]
  },
  {
   "cell_type": "code",
   "execution_count": null,
   "metadata": {
    "collapsed": true
   },
   "outputs": [],
   "source": [
    "# ❤️教训❤️: 口头跑例子很重要, 能够排除基本的例子.\n",
    "class Solution(object):\n",
    "    def titleToNumber(self, s):\n",
    "        \"\"\"\n",
    "        :type s: str\n",
    "        :rtype: int\n",
    "        \"\"\"\n",
    "        if not s: return 0\n",
    "        \n",
    "        rst = 0\n",
    "        for x in s:\n",
    "            rst = rst * 26 + (ord(x) - ord(\"A\") + 1)\n",
    "        return rst"
   ]
  },
  {
   "cell_type": "markdown",
   "metadata": {},
   "source": [
    "### [319.med-Bulb Switcher](https://leetcode.com/problems/bulb-switcher/description/)\n",
    "##### 题意: n 个灯泡刚开始全关着, 第1次每1个灯泡都变动开关, 第2次每2个灯泡都变动开关, 第3次每3个灯泡都变动一次开关.\n",
    "##### 分析:\n",
    "##### 总结:"
   ]
  },
  {
   "cell_type": "code",
   "execution_count": null,
   "metadata": {
    "collapsed": true
   },
   "outputs": [],
   "source": [
    "\"\"\"\n",
    "Call them bulb 1 to bulb n. \n",
    "* Bulb i is switched in round d if and only if d divides i. \n",
    "* So bulb i ends up on if and only if it has an odd number of divisors.\n",
    "\n",
    "❤️Divisors come in pairs❤️, like i=12 has divisors 1 and 12, 2 and 6, and 3 and 4. \n",
    "* Except when i is a square, like 36 has divisors 1 and 36, 2 and 18, 3 and 12, 4 and 9, and double divisor 6.\n",
    "* So bulb i ends up on if and only if i is a square.\n",
    "\"\"\""
   ]
  },
  {
   "cell_type": "code",
   "execution_count": null,
   "metadata": {
    "collapsed": true
   },
   "outputs": [],
   "source": [
    "class Solution(object):\n",
    "    def bulbSwitch(self, n):\n",
    "        \"\"\"\n",
    "        :type n: int\n",
    "        :rtype: int\n",
    "        \"\"\"\n",
    "        return int(n**0.5) # ❤️ python 没有 built-in sqrt 貌似."
   ]
  },
  {
   "cell_type": "markdown",
   "metadata": {},
   "source": [
    "### [8.med-String to Integer (atoi)](https://leetcode.com/problems/string-to-integer-atoi/description/)\n",
    "##### 题意: string 转化为 int, 难点在多种边界条件\n",
    "* -+号\n",
    "* 非数字, 比如字母,\n",
    "* 越界\n",
    "\n",
    "##### 分析\n",
    "##### 总结"
   ]
  },
  {
   "cell_type": "code",
   "execution_count": 22,
   "metadata": {},
   "outputs": [
    {
     "name": "stdout",
     "output_type": "stream",
     "text": [
      "1232\n"
     ]
    }
   ],
   "source": [
    "# 多种边界条件¶\n",
    "# 1) -+号\n",
    "# 2) 非数字, 比如字母,\n",
    "# 3) 越界\n",
    "class Solution(object):\n",
    "    def myAtoi(self, s):\n",
    "        \"\"\"\n",
    "        :type s: str\n",
    "        :rtype: int\n",
    "        \"\"\"\n",
    "        s = s.strip() # ❤️❎竟然是这种语法. 去掉❤️前后❤️的空格 \" \"\n",
    "        if not s: return 0\n",
    "        \n",
    "        sign, start = 1, 0\n",
    "        if s[0] == \"+\":\n",
    "            start += 1\n",
    "            sign = 1\n",
    "        elif s[0] == \"-\":\n",
    "            start += 1\n",
    "            sign = -1\n",
    "        \n",
    "        i = start\n",
    "        while i < len(s) and s[i].isdigit(): i += 1\n",
    "        rst = s[start:i]\n",
    "        if not rst: return 0 # ❎❎ 万一只有 + 或 - 号\n",
    "        rst = int(rst)\n",
    "        \n",
    "        MAX_INT, MIN_INT = 2**31 - 1, -2**31 # ❤️❤️ 范围.\n",
    "        if sign == 1:\n",
    "            return MAX_INT if rst > MAX_INT else rst\n",
    "        else:\n",
    "            rst = rst * sign\n",
    "            return MIN_INT if rst < MIN_INT else rst\n",
    "        \n",
    "print Solution().myAtoi(\"   1232 \")"
   ]
  },
  {
   "cell_type": "markdown",
   "metadata": {},
   "source": [
    "### [223.med-Rectangle Area](https://leetcode.com/problems/rectangle-area/description/)\n",
    "##### 题意: 求两个长方形的面积. 要点: 抛去重合部分.\n",
    "![](https://leetcode.com/static/images/problemset/rectangle_area.png)\n",
    "\n",
    "##### 分析\n",
    "##### 总结"
   ]
  },
  {
   "cell_type": "code",
   "execution_count": null,
   "metadata": {
    "collapsed": true
   },
   "outputs": [],
   "source": [
    "class Solution(object):\n",
    "    def computeArea(self, A, B, C, D, E, F, G, H):\n",
    "        \"\"\"\n",
    "        :type A: int\n",
    "        :type B: int\n",
    "        :type C: int\n",
    "        :type D: int\n",
    "        :type E: int\n",
    "        :type F: int\n",
    "        :type G: int\n",
    "        :type H: int\n",
    "        :rtype: int\n",
    "        \"\"\"\n",
    "        areaA = (D - B) * (C - A)\n",
    "        areaB = (H - F) * (G - E)\n",
    "        \n",
    "        # ❤️❤️ overlap 长方形的上下左右.\n",
    "        left = max(A, E)\n",
    "        right = min(C,G)\n",
    "        top = min(D, H)\n",
    "        bottom = max(B, F)\n",
    "        \n",
    "        areaOverlap = 0\n",
    "        if right > left and top > bottom:\n",
    "            areaOverlap = (top - bottom) * (right - left)\n",
    "        return areaA + areaB - areaOverlap"
   ]
  }
 ],
 "metadata": {
  "kernelspec": {
   "display_name": "Python 2",
   "language": "python",
   "name": "python2"
  },
  "language_info": {
   "codemirror_mode": {
    "name": "ipython",
    "version": 2
   },
   "file_extension": ".py",
   "mimetype": "text/x-python",
   "name": "python",
   "nbconvert_exporter": "python",
   "pygments_lexer": "ipython2",
   "version": "2.7.13"
  },
  "toc": {
   "nav_menu": {},
   "number_sections": true,
   "sideBar": true,
   "skip_h1_title": true,
   "toc_cell": true,
   "toc_position": {
    "height": "642px",
    "left": "0px",
    "right": "1084.28px",
    "top": "67px",
    "width": "195px"
   },
   "toc_section_display": "block",
   "toc_window_display": true
  }
 },
 "nbformat": 4,
 "nbformat_minor": 2
}

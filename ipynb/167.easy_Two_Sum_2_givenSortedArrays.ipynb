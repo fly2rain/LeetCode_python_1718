{
 "cells": [
  {
   "cell_type": "markdown",
   "metadata": {},
   "source": [
    "# 167.Two_Sum_2_givenSortedArrays_easy\n",
    "### 链接\n",
    "\n",
    "* 题目：https://leetcode.com/problems/two-sum-ii-input-array-is-sorted/description/\n",
    "\n",
    "### 题意\n",
    "* 给定 sorted array，找到 array 中的两个数，加起来正好等于 target。\n",
    "* 输出是 [index1, index2], 其中 index2 > index1. 假设只有一组数满足条件。\n",
    "\n",
    "### 分析\n",
    "* 这是简易版的 3 sum，3 sum closest, 4 sum, N_sum etc.很简单啊\n",
    "\n",
    "### 编程经验\n",
    "* \n",
    "\n",
    "```python\n",
    "len ([]) # 输出是 0， 所以以下编程不要判断 nums 是否为空\n",
    "```"
   ]
  },
  {
   "cell_type": "markdown",
   "metadata": {},
   "source": [
    "# Method"
   ]
  },
  {
   "cell_type": "code",
   "execution_count": 3,
   "metadata": {
    "collapsed": true
   },
   "outputs": [],
   "source": [
    "class Solution(object):\n",
    "    # ------------------------------------------------\n",
    "    # Method 1: two point. 时间复杂度 O(n)，空间复杂度 O(1)\n",
    "    # ----------------------------------------------\n",
    "    def twoSum(self, nums, target):\n",
    "        \"\"\"\n",
    "        :type nums: List[int]\n",
    "        :type target: int\n",
    "        :rtype: List[int]\n",
    "        \"\"\"\n",
    "        l, r = 0, len(nums) - 1 # 输出是 0， 所以以下编程不要判断 nums 是否为空\n",
    "        while l < r:\n",
    "            s = nums[l] + nums[r]\n",
    "            if s < target:\n",
    "                l += 1\n",
    "            elif s > target:\n",
    "                r -= 1\n",
    "            else: # 因为假设了只有一组满足，所以编程很简单。\n",
    "                return [l+1, r+1] # 注意，输出不是 list 的 index，而是生活意义的 index\n",
    "    \n",
    "    # ------------------------------------------------\n",
    "    # Method 2: dict, 完全没有用上 sorted ，时间复杂度 O(n)，空间复杂度 O(n)\n",
    "    # ------------------------------------------------\n",
    "    def twoSum2(self, nums, target):\n",
    "        dic = {}\n",
    "        for i, x in enumerate(nums):\n",
    "            if target-x in dic:\n",
    "                return [dic[target-x]+1, i+1]\n",
    "            dic[x] = i\n",
    "            "
   ]
  },
  {
   "cell_type": "code",
   "execution_count": 4,
   "metadata": {},
   "outputs": [
    {
     "name": "stdout",
     "output_type": "stream",
     "text": [
      "[1, 2]\n"
     ]
    }
   ],
   "source": [
    "#  Testing ----\n",
    "if __name__ == '__main__':\n",
    "    print Solution().twoSum ([2, 7, 11, 15], 9) "
   ]
  }
 ],
 "metadata": {
  "kernelspec": {
   "display_name": "Python 2",
   "language": "python",
   "name": "python2"
  },
  "language_info": {
   "codemirror_mode": {
    "name": "ipython",
    "version": 2
   },
   "file_extension": ".py",
   "mimetype": "text/x-python",
   "name": "python",
   "nbconvert_exporter": "python",
   "pygments_lexer": "ipython2",
   "version": "2.7.13"
  }
 },
 "nbformat": 4,
 "nbformat_minor": 2
}

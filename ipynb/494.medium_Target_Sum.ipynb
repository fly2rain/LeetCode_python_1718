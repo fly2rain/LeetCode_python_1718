{
 "cells": [
  {
   "cell_type": "markdown",
   "metadata": {},
   "source": [
    "# 494.medium_Target_Sum\n",
    "### 链接\n",
    "[\n",
    "][[\\\"{\n",
    "* 题目：https://leetcode.com/problems/target-sum/description/\n",
    "\n",
    "### 题意\n",
    "* 给定非负整数组成的向量 $[a_1, a_2, \\cdots, a_n]$ 和 一个 target. 每个元素都只能从 +, - 两种符号中选择一种。\n",
    "* 找到所有符号的组合方法，使其结果等于 target。\n",
    "* 例子比较明确题意。\n",
    "\n",
    "### 分析\n",
    "* 这其实是一个搜索问题，比较简单的是遍历所有可能，那就有 $2^n$ 种可能，太多了。\n",
    "\n",
    "### 编程经验\n",
    "\n",
    "```python\n",
    "```"
   ]
  },
  {
   "cell_type": "markdown",
   "metadata": {},
   "source": [
    "# Method #1"
   ]
  },
  {
   "cell_type": "code",
   "execution_count": null,
   "metadata": {
    "collapsed": true
   },
   "outputs": [],
   "source": [
    "class Solution(object):\n",
    "    \n",
    "    def findTargetSumWays ( self, nums, S ):\n",
    "        \"\"\"\n",
    "        :type nums: List[int]\n",
    "        :type S: int\n",
    "        :rtype: int\n",
    "        \"\"\"\n",
    "        if not nums:\n",
    "            return 0\n",
    "        \n",
    "        cumSum = nums[0]\n",
    "        for i, x in enumerate (nums):\n",
    "            if i:\n",
    "                cumSum.append ( cumSum[i-1] + x  )\n",
    "        \n",
    "    \n",
    "    def findTargetSumWays_Recursive ( self, nums, jj, cumSum, S ):\n",
    "        \n",
    "        # base cases\n",
    "        if cumSum[jj] > S:\n",
    "            return 0\n",
    "        elif -cumSum[jj] < S:\n",
    "            return 0\n",
    "        else:\n",
    "            return 1\n",
    "        \n",
    "        \n",
    "        "
   ]
  },
  {
   "cell_type": "code",
   "execution_count": null,
   "metadata": {
    "collapsed": true
   },
   "outputs": [],
   "source": [
    "if __name__ == '__main__'\n",
    "print Solution ()."
   ]
  },
  {
   "cell_type": "markdown",
   "metadata": {},
   "source": [
    "# Method #2"
   ]
  }
 ],
 "metadata": {
  "kernelspec": {
   "display_name": "Python 2",
   "language": "python",
   "name": "python2"
  },
  "language_info": {
   "codemirror_mode": {
    "name": "ipython",
    "version": 2
   },
   "file_extension": ".py",
   "mimetype": "text/x-python",
   "name": "python",
   "nbconvert_exporter": "python",
   "pygments_lexer": "ipython2",
   "version": "2.7.13"
  }
 },
 "nbformat": 4,
 "nbformat_minor": 2
}

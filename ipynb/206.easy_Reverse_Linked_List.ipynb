{
 "cells": [
  {
   "cell_type": "markdown",
   "metadata": {},
   "source": [
    "# 206.easy_Reverse_Linked_List\n",
    "### 链接\n",
    "\n",
    "* 题目：https://leetcode.com/problems/reverse-linked-list/description/\n",
    "\n",
    "### 题意\n",
    "* 标题已经很好地表明意思了。\n",
    "* 有两条思路，iteratively 或者 recursively \n",
    "\n",
    "### 分析\n",
    "* 分析非常清晰 https://leetcode.com/problems/reverse-linked-list/solution/\n",
    "* \n",
    "\n",
    "### 编程经验\n",
    "\n",
    "```python\n",
    "```"
   ]
  },
  {
   "cell_type": "markdown",
   "metadata": {},
   "source": [
    "# Method # 1"
   ]
  },
  {
   "cell_type": "code",
   "execution_count": null,
   "metadata": {
    "collapsed": true
   },
   "outputs": [],
   "source": [
    "# Definition for singly-linked list.\n",
    "# class ListNode(object):\n",
    "#     def __init__(self, x):\n",
    "#         self.val = x\n",
    "#         self.next = None\n",
    "\n",
    "class Solution(object):\n",
    "    def reverseList(self, head):\n",
    "        \"\"\"\n",
    "        :type head: ListNode\n",
    "        :rtype: ListNode\n",
    "        \"\"\"\n",
    "        ref = head\n",
    "        cur = head.next # the 1st node\n",
    "        ct  = 0\n",
    "        while cur.next != None:\n",
    "            head.next = ref.next\n",
    "            head.next.next = cur\n",
    "            ref_new = ref\n",
    "            ref = ref.next\n",
    "            \n",
    "            if ct < 1:\n",
    "                cur.next = None\n",
    "            ct += 1\n",
    "            \n",
    "    def insert (self, head, node):\n",
    "        head.next = \n",
    "            \n",
    "            "
   ]
  },
  {
   "cell_type": "code",
   "execution_count": null,
   "metadata": {
    "collapsed": true
   },
   "outputs": [],
   "source": [
    "# Definition for singly-linked list.\n",
    "# class ListNode(object):\n",
    "#     def __init__(self, x):\n",
    "#         self.val = x\n",
    "#         self.next = None\n",
    "\n",
    "class Solution(object):\n",
    "    # method #1: iteration\n",
    "    def reverseList(self, head):\n",
    "        \"\"\"\n",
    "        :type head: ListNode\n",
    "        :rtype: ListNode\n",
    "        \"\"\"\n",
    "        # 这里实际上有三个reference：curr，prev，tmpnext\n",
    "        # 这里除了 reverse 正常的 node，连 head 也 reverse 到结尾了。\n",
    "        prev = None\n",
    "        curr = head\n",
    "        while curr:\n",
    "            tmpnext   = curr.next # 先存好指向下一个node 的 reference\n",
    "            curr.next = prev      # 后一个 node 指向前一个 node\n",
    "            prev      = curr      # 变当前为前一个\n",
    "            curr      = tmpnext   # 当前往后挪一个，处理下一个\n",
    "        return prev\n",
    "    \n",
    "    # method#2: recursive\n",
    "    def reverseList(self, head):\n",
    "        return self._reverse(head)\n",
    "\n",
    "    def _reverse(self, node, prev=None):\n",
    "        if not node:\n",
    "            return prev\n",
    "        n = node.next\n",
    "        node.next = prev\n",
    "        return self._reverse(n, node)"
   ]
  },
  {
   "cell_type": "code",
   "execution_count": null,
   "metadata": {
    "collapsed": true
   },
   "outputs": [],
   "source": [
    "#  Testing ----\n",
    "if __name__ == '__main__':\n",
    "    print Solution_2 (). "
   ]
  },
  {
   "cell_type": "markdown",
   "metadata": {},
   "source": [
    "# Method # 2"
   ]
  },
  {
   "cell_type": "code",
   "execution_count": 6,
   "metadata": {
    "collapsed": true
   },
   "outputs": [],
   "source": []
  },
  {
   "cell_type": "code",
   "execution_count": 7,
   "metadata": {},
   "outputs": [
    {
     "name": "stdout",
     "output_type": "stream",
     "text": [
      "[0, 1]\n"
     ]
    }
   ],
   "source": [
    "#  Testing ----\n",
    "if __name__ == '__main__':\n",
    "    print Solution_2 ()."
   ]
  }
 ],
 "metadata": {
  "kernelspec": {
   "display_name": "Python 2",
   "language": "python",
   "name": "python2"
  },
  "language_info": {
   "codemirror_mode": {
    "name": "ipython",
    "version": 2
   },
   "file_extension": ".py",
   "mimetype": "text/x-python",
   "name": "python",
   "nbconvert_exporter": "python",
   "pygments_lexer": "ipython2",
   "version": "2.7.13"
  }
 },
 "nbformat": 4,
 "nbformat_minor": 2
}

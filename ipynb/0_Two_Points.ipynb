{
 "cells": [
  {
   "cell_type": "markdown",
   "metadata": {
    "toc": true
   },
   "source": [
    "<h1>Table of Contents<span class=\"tocSkip\"></span></h1>\n",
    "<div class=\"toc\"><ul class=\"toc-item\"><li><span><a href=\"#Five-Sliding-Window-Alg-to-solve-the-substring-search-problem\" data-toc-modified-id=\"Five-Sliding-Window-Alg-to-solve-the-substring-search-problem-1\"><span class=\"toc-item-num\">1&nbsp;&nbsp;</span>Five Sliding Window Alg to solve the substring search problem</a></span><ul class=\"toc-item\"><li><span><a href=\"#3.med-Longest-Substring-Without-Repeating-Characters\" data-toc-modified-id=\"3.med-Longest-Substring-Without-Repeating-Characters-1.1\"><span class=\"toc-item-num\">1.1&nbsp;&nbsp;</span><a href=\"https://leetcode.com/problems/longest-substring-without-repeating-characters/\" target=\"_blank\">3.med-Longest Substring Without Repeating Characters</a></a></span></li><li><span><a href=\"#76.hard-Minimum-Window-Substring\" data-toc-modified-id=\"76.hard-Minimum-Window-Substring-1.2\"><span class=\"toc-item-num\">1.2&nbsp;&nbsp;</span><a href=\"https://leetcode.com/problems/minimum-window-substring/description/\" target=\"_blank\">76.hard-Minimum Window Substring</a></a></span></li><li><span><a href=\"#159.hard-Longest-Substring-with-At-Most-Two-Distinct-Characters\" data-toc-modified-id=\"159.hard-Longest-Substring-with-At-Most-Two-Distinct-Characters-1.3\"><span class=\"toc-item-num\">1.3&nbsp;&nbsp;</span><a href=\"https://leetcode.com/problems/longest-substring-with-at-most-two-distinct-characters/description/\" target=\"_blank\">159.hard-Longest Substring with At Most Two Distinct Characters</a></a></span></li><li><span><a href=\"#438.easy-Find-All-Anagrams-in-a-String\" data-toc-modified-id=\"438.easy-Find-All-Anagrams-in-a-String-1.4\"><span class=\"toc-item-num\">1.4&nbsp;&nbsp;</span><a href=\"https://leetcode.com/problems/find-all-anagrams-in-a-string/description/\" target=\"_blank\">438.easy-Find All Anagrams in a String</a></a></span></li><li><span><a href=\"#5.med-Longest-Palindromic-Substring\" data-toc-modified-id=\"5.med-Longest-Palindromic-Substring-1.5\"><span class=\"toc-item-num\">1.5&nbsp;&nbsp;</span><a href=\"http://localhost:8888/notebooks/0_String_Palindromic.ipynb\" target=\"_blank\">5.med-Longest Palindromic Substring</a></a></span></li><li><span><a href=\"#❤️647.med-Palindromic-Substrings\" data-toc-modified-id=\"❤️647.med-Palindromic-Substrings-1.6\"><span class=\"toc-item-num\">1.6&nbsp;&nbsp;</span><a href=\"https://leetcode.com/problems/palindromic-substrings/description/\" target=\"_blank\">❤️647.med-Palindromic Substrings</a></a></span></li></ul></li><li><span><a href=\"#Two-pointers---most-frequent\" data-toc-modified-id=\"Two-pointers---most-frequent-2\"><span class=\"toc-item-num\">2&nbsp;&nbsp;</span><a href=\"\" target=\"_blank\">Two pointers - most frequent</a></a></span><ul class=\"toc-item\"><li><span><a href=\"#11.med-Container-With-Most-Water\" data-toc-modified-id=\"11.med-Container-With-Most-Water-2.1\"><span class=\"toc-item-num\">2.1&nbsp;&nbsp;</span><a href=\"https://leetcode.com/problems/container-with-most-water/submissions/1\" target=\"_blank\">11.med-Container With Most Water</a></a></span></li><li><span><a href=\"#141.easy-Linked-List-Cycle\" data-toc-modified-id=\"141.easy-Linked-List-Cycle-2.2\"><span class=\"toc-item-num\">2.2&nbsp;&nbsp;</span><a href=\"https://leetcode.com/problems/linked-list-cycle/description/\" target=\"_blank\">141.easy-Linked List Cycle</a></a></span></li><li><span><a href=\"#❤️42.hard-Trapping-Rain-Water\" data-toc-modified-id=\"❤️42.hard-Trapping-Rain-Water-2.3\"><span class=\"toc-item-num\">2.3&nbsp;&nbsp;</span><a href=\"https://leetcode.com/problems/trapping-rain-water/description/\" target=\"_blank\">❤️42.hard-Trapping Rain Water</a></a></span></li><li><span><a href=\"#15.med-3Sum\" data-toc-modified-id=\"15.med-3Sum-2.4\"><span class=\"toc-item-num\">2.4&nbsp;&nbsp;</span><a href=\"https://leetcode.com/problems/3sum/description/\" target=\"_blank\">15.med-3Sum</a></a></span></li><li><span><a href=\"#18.med-4Sum\" data-toc-modified-id=\"18.med-4Sum-2.5\"><span class=\"toc-item-num\">2.5&nbsp;&nbsp;</span><a href=\"https://leetcode.com/problems/4sum/description/\" target=\"_blank\">18.med-4Sum</a></a></span></li><li><span><a href=\"#454.med-4Sum-II\" data-toc-modified-id=\"454.med-4Sum-II-2.6\"><span class=\"toc-item-num\">2.6&nbsp;&nbsp;</span><a href=\"https://leetcode.com/problems/4sum-ii/description/\" target=\"_blank\">454.med-4Sum II</a></a></span></li></ul></li><li><span><a href=\"#4/6:-Two-Points---most-frequent\" data-toc-modified-id=\"4/6:-Two-Points---most-frequent-3\"><span class=\"toc-item-num\">3&nbsp;&nbsp;</span><a href=\"\" target=\"_blank\">4/6: Two Points - most frequent</a></a></span><ul class=\"toc-item\"><li><span><a href=\"#28.easy-Implement-strStr()\" data-toc-modified-id=\"28.easy-Implement-strStr()-3.1\"><span class=\"toc-item-num\">3.1&nbsp;&nbsp;</span><a href=\"https://leetcode.com/problems/implement-strstr/description/\" target=\"_blank\">28.easy-Implement strStr()</a></a></span></li></ul></li></ul></div>"
   ]
  },
  {
   "cell_type": "markdown",
   "metadata": {},
   "source": [
    "# Two Points problem\n",
    "* 题型: Two points + Top 100 Liked Questions:\n",
    "* 链接: https://leetcode.com/problemset/algorithms/?topicSlugs=two-pointers&listId=79h8rn6"
   ]
  },
  {
   "cell_type": "markdown",
   "metadata": {
    "collapsed": true
   },
   "source": [
    "## Five Sliding Window Alg to solve the substring search problem\n",
    "Substring sliding window 问题总结在如下网页中 https://leetcode.com/problems/find-all-anagrams-in-a-string/discuss/92007, 总共包含5题下:\n",
    "* [3. Longest Substring Without Repeating Characters](https://leetcode.com/problems/longest-substring-without-repeating-characters/)\n",
    "* [30. Substring with Concatenation of All Words](https://leetcode.com/problems/substring-with-concatenation-of-all-words/)\n",
    "* [76. Minimum Window Substring](https://leetcode.com/problems/minimum-window-substring/)\n",
    "* [159. Longest Substring with At Most Two Distinct Characters]( https://leetcode.com/problems/longest-substring-with-at-most-two-distinct-characters/)\n",
    "* [438. Find All Anagrams in a String](https://leetcode.com/problems/find-all-anagrams-in-a-string/)"
   ]
  },
  {
   "cell_type": "markdown",
   "metadata": {},
   "source": [
    "### [3.med-Longest Substring Without Repeating Characters](https://leetcode.com/problems/longest-substring-without-repeating-characters/)\n",
    "##### 题意 Given a string, find the length of the longest substring without repeating characters.\n",
    "* Exp: Given \"abcabcbb\", the answer is \"abc\", which the length is 3.\n",
    "\n",
    "##### 解题思路:\n",
    "* Two points: \n",
    "    * 总是有一个 index 标记当前位置,\n",
    "    * 另一个 index 表示 forget 的位置,\n",
    "    * 两个 index 之间是目标区域     \n",
    "* 标准答案来自于网页: https://leetcode.com/problems/longest-substring-without-repeating-characters/solution/"
   ]
  },
  {
   "cell_type": "code",
   "execution_count": null,
   "metadata": {
    "collapsed": true
   },
   "outputs": [],
   "source": [
    "# 标准答案来自于网页, 网页中是 java code.\n",
    "# https://leetcode.com/problems/longest-substring-without-repeating-characters/solution/\n",
    "# 107 ms\n",
    "class Solution(object):\n",
    "    def lengthOfLongestSubstring(self, s):\n",
    "        \"\"\"\n",
    "        :type s: str\n",
    "        :rtype: int\n",
    "        \"\"\"\n",
    "        if not s: return 0\n",
    "        \n",
    "        dic = {}\n",
    "        l = maxCnt = 0\n",
    "        # Two points: left point & right point ----------------\n",
    "        for r, x in enumerate (s):\n",
    "            if x in dic: # 如果已经出现过, 更新 left index\n",
    "                l = max(1+dic[x], l)\n",
    "            # 如果没有出现过, 更新 maxCnt 和 dictionary\n",
    "            maxCnt = max(maxCnt, r - l + 1) # 更新的是数字, 而非 index\n",
    "            dic[x] = r # 更新的是计数而非index, 输出是计数, 一定要统一.\n",
    "\n",
    "        return maxCnt "
   ]
  },
  {
   "cell_type": "markdown",
   "metadata": {},
   "source": [
    "### [76.hard-Minimum Window Substring](https://leetcode.com/problems/minimum-window-substring/description/)\n",
    "##### 题意: \n",
    "* Given a string S and a string T, find the minimum window in S which will contain all the characters in T in complexity $O(n)$.\n",
    "* <span class=\"burk\">Exp</span>: S = \"ADOBECODEBANC\", T = \"ABC\", Minimum window is \"BANC\".\n",
    "* Note that: (1) 如果 S 不包含 T, 输出空 string \"\".  (2) 如果存在,保证唯一存在性. \n",
    "\n",
    "##### 解题答案 https://leetcode.com/problems/minimum-window-substring/discuss/26808\n",
    "* 提供了清晰的解题答案 以及 解决这类问题的模板.\n",
    "* 首先看针对这题的答案, 然后查看解决这类问题的模板.\n",
    "    * Use <span class=\"girk\">two pointers</span>: start and end to represent a window.\n",
    "    * Move end to <span class=\"girk\">find a valid window</span>.\n",
    "    * When a <span class=\"girk\">valid window</span> is found, move start to find a smaller window."
   ]
  },
  {
   "cell_type": "code",
   "execution_count": null,
   "metadata": {
    "collapsed": true
   },
   "outputs": [],
   "source": [
    "class Solution(object):\n",
    "    def minWindow(self, s, t):\n",
    "        \"\"\"\n",
    "        :type s: str\n",
    "        :type t: str\n",
    "        :rtype: str\n",
    "        \"\"\"\n",
    "        # 1 edge condition\n",
    "        ns, nt = len(s), len(t)\n",
    "        if ns == 0 or nt == 0 or nt > ns: return \"\"\n",
    "        \n",
    "        # 2 construct the dicitonary for t\n",
    "        dic = {}\n",
    "        for x in t:\n",
    "            dic[x] = dic.get(x,0) + 1\n",
    "            \n",
    "        # 3 do the sliding window search.\n",
    "        cnt, j, rst = nt, 0, \"\"\n",
    "        for i, x in enumerate(s):\n",
    "            dic[x] = dic.get(x,0) - 1\n",
    "            if dic[x] >= 0: cnt -= 1 # >= 0 表明已经出现过\n",
    "            \n",
    "            while cnt == 0:\n",
    "                if i-j+1 < len(rst) or not rst: # ❤️❎❤️ 这个条件要注意.\n",
    "                    rst = s[j:i+1] # ❎ 注意 i 和 j 都是 index, 所以右边 i + 1\n",
    "                    \n",
    "                dic[s[j]] += 1\n",
    "                if dic[s[j]] > 0: cnt += 1\n",
    "                j += 1\n",
    "        return rst"
   ]
  },
  {
   "cell_type": "markdown",
   "metadata": {},
   "source": [
    "### [159.hard-Longest Substring with At Most Two Distinct Characters](https://leetcode.com/problems/longest-substring-with-at-most-two-distinct-characters/description/)\n",
    "##### 题意  Given a string, find the length of the <span class=\"girk\">longest substring</span> T that contains <span class=\"girk\">at most 2 distinct characters</span>.\n",
    "* <span class=\"burk\">For example</span>, given s = “eceba”, T is \"ece\" which its length is 3.\n",
    "* 分析: \n",
    "    * T 中最多有2个不同的 characters, 感觉还是 two-point 的问题, r 每次都更新, 一旦不满足什么条件, 我们需要不断更新 l.\n",
    "\n",
    "##### "
   ]
  },
  {
   "cell_type": "code",
   "execution_count": 1,
   "metadata": {
    "collapsed": true
   },
   "outputs": [],
   "source": [
    "class Solution(object):\n",
    "    def lengthOfLongestSubstringTwoDistinct(self, s):\n",
    "        \"\"\"\n",
    "        :type s: str\n",
    "        :rtype: int\n",
    "        \"\"\"\n",
    "        if not s: return 0\n",
    "        \n",
    "        j, cnt, max_dist = 0, 0, 2\n",
    "        rst, dic = 0, {}\n",
    "        for i, x in enumerate(s):\n",
    "            dic[x] = dic.get(x,0) + 1\n",
    "            if dic[x] == 1: cnt += 1 # ❤️❤️❤️ \n",
    "                \n",
    "            while cnt > max_dist:\n",
    "                dic[s[j]] -= 1\n",
    "                if dic[s[j]] == 0: cnt -=1\n",
    "                j += 1\n",
    "            rst = max(rst, i-j+1) # ❤️❤️❤️ 区别在这里\n",
    "                    \n",
    "        return rst"
   ]
  },
  {
   "cell_type": "markdown",
   "metadata": {},
   "source": [
    "### [438.easy-Find All Anagrams in a String](https://leetcode.com/problems/find-all-anagrams-in-a-string/description/)\n",
    "##### 题意: \n",
    "* 两个 string, 找到 string 1 中所有 substring 的 anagrams, output 这些位置.\n",
    "* 举例 Input: s: \"cbaebabacd\" p: \"abc\", Output: [0, 6]\n",
    "\n",
    "##### 分析: \n",
    "* 最朴素的想法 compare every substrings of string s with string p.\n",
    "* 两种思路:\n",
    "    * 利用 hash-table, runtime $O(nm)$, space complexity $O(m)$, where $n$ is the size of s, $m$ is the size of p. 竟然超过时间了.\n",
    "    * two point 法. runtime $O(n)$, space complexity $O(1)$, 因为字母是有限个, 点过 256 个.\n",
    "    \n",
    "##### 答案:\n",
    "* https://www.youtube.com/watch?v=lFG63nc9zrQ\n",
    "* https://leetcode.com/problems/find-all-anagrams-in-a-string/discuss/92007 顺便解决类似的 sliding window 的类似问题.\n",
    "* https://www.geeksforgeeks.org/anagram-substring-search-search-permutations/\n",
    "* 疑问: \n",
    "* 使用 char 比如'a' 如何 index list??"
   ]
  },
  {
   "cell_type": "code",
   "execution_count": null,
   "metadata": {
    "collapsed": true
   },
   "outputs": [],
   "source": [
    "\"\"\" \n",
    "Example 1: ---------------------------------------------------------\n",
    "Input: s: \"cbaebabacd\" p: \"abc\"\n",
    "Output: [0, 6]\n",
    "\n",
    "Explanation:\n",
    "The substring with start index = 0 is \"cba\", which is an anagram of \"abc\".\n",
    "The substring with start index = 6 is \"bac\", which is an anagram of \"abc\".\n",
    "\n",
    "Example 2: ---------------------------------------------------------\n",
    "Input: s: \"abab\" p: \"ab\"\n",
    "Output: [0, 1, 2]\n",
    "\n",
    "Explanation:\n",
    "The substring with start index = 0 is \"ab\", which is an anagram of \"ab\".\n",
    "The substring with start index = 1 is \"ba\", which is an anagram of \"ab\".\n",
    "The substring with start index = 2 is \"ab\", which is an anagram of \"ab\".\n",
    "\"\"\""
   ]
  },
  {
   "cell_type": "code",
   "execution_count": null,
   "metadata": {
    "collapsed": true
   },
   "outputs": [],
   "source": [
    "class Solution(object):\n",
    "    def findAnagrams(self, s, p):\n",
    "        \"\"\"\n",
    "        :type s: str\n",
    "        :type p: str\n",
    "        :rtype: List[int]\n",
    "        \"\"\"\n",
    "        # 1 edge condition\n",
    "        ns, np = len(s), len(p)\n",
    "        if ns == 0 or np == 0 or ns < np:\n",
    "            return []\n",
    "        \n",
    "        # 2 construct the template dicitonary\n",
    "        dic = {}\n",
    "        for x in p: \n",
    "            dic[x] = dic.get(x,0) + 1 \n",
    "         \n",
    "        # 3 do the compare\n",
    "        cnt, j = np, 0\n",
    "        rst = []\n",
    "        for i, x in enumerate(s):\n",
    "            if i-j+1 > np: # ❤️❤️ keep the sliding window size is exactly as the length of p\n",
    "                dic[s[j]] = y = dic[s[j]] + 1\n",
    "                if y > 0: cnt += 1\n",
    "                j += 1\n",
    "                    \n",
    "            dic[x] = dic.get(x,0) - 1\n",
    "            if dic[x] >= 0:\n",
    "                cnt -= 1\n",
    "            \n",
    "            if cnt == 0:\n",
    "                rst.append(j)\n",
    "        return rst     "
   ]
  },
  {
   "cell_type": "markdown",
   "metadata": {},
   "source": [
    "### [5.med-Longest Palindromic Substring](http://localhost:8888/notebooks/0_String_Palindromic.ipynb)\n",
    "##### 题意: 确定最长回文 substring.\n",
    "\n",
    "##### 思路: 中间往两边扩展, 利用了回文中间对称的性质.\n",
    "* solve it in **$O(n^2)$ time** and using only <span class=\"girk\">constant space</span>.\n",
    "* observe that a palindrome <span class=\"girk\">mirrors around its center</span>. Therefore, a palindrome can be <span class=\"girk\">expanded from its center</span>, and there are only $2n - 1$ such centers. Why not not $n$ centers? Because we have even  (such as \"abba\") and odd (such as ”aba”) cases.\n",
    "\n",
    "##### 适用范围\n",
    "* 只适合单个 string 求最长回文的问题, 对两个 string 可以吗?\n",
    "\n",
    "##### 扩展: 题意比较明确, 可能的扩展是对 $K (K\\geq 2)$ strings 求最长回文.\n",
    "\n",
    "##### 关于 Palindromic 回文问题的资源:\n",
    "* 标准答案: https://leetcode.com/problems/longest-palindromic-substring/solution/\n",
    "* **Longest common substring problem**: https://en.wikipedia.org/wiki/Longest_common_substring_problem. \n",
    "    * 可以用 DP 求解, 上述链接给了一个很好的例子. "
   ]
  },
  {
   "cell_type": "code",
   "execution_count": null,
   "metadata": {
    "collapsed": true
   },
   "outputs": [],
   "source": [
    "class Solution(object):\n",
    "    def longestPalindrome(self, s):\n",
    "        \"\"\"\n",
    "        :type s: str\n",
    "        :rtype: str\n",
    "        \"\"\"\n",
    "        if len(s) < 2: return s # ❤️❤️ \n",
    "        \n",
    "        rst = \"\"\n",
    "        for i in xrange (len(s) - 1): ### 到 n 或 nn - 1 都可以的\n",
    "            # odd case, like \"aba\"\n",
    "            tmp = self.expand2sides (s, i, i)\n",
    "            if len(rst) < len (tmp):\n",
    "                rst = tmp\n",
    "                \n",
    "            # even case, like \"abba\"\n",
    "            tmp = self.expand2sides (s, i, i + 1)\n",
    "            if len (rst) < len(tmp):\n",
    "                rst = tmp\n",
    "        return rst      \n",
    "    \n",
    "    def expand2sides (self, s, l, r):\n",
    "        while l >= 0 and r < len(s) and s[l] == s[r]:\n",
    "            l -= 1\n",
    "            r += 1\n",
    "        return s[l+1:r] ### 这个边界需要注意\n",
    "        \n",
    "### testing ####################\n",
    "print Solution().longestPalindrome ('ababc')"
   ]
  },
  {
   "cell_type": "markdown",
   "metadata": {},
   "source": [
    "### [❤️647.med-Palindromic Substrings](https://leetcode.com/problems/palindromic-substrings/description/)\n",
    "##### 题意: Given a string, your task is to count <span class=\"girk\">how many palindromic substrings</span> in this string. The substrings with different start indexes or end indexes are counted as different substrings even they consist of same characters."
   ]
  },
  {
   "cell_type": "code",
   "execution_count": null,
   "metadata": {
    "collapsed": true
   },
   "outputs": [],
   "source": [
    "\"\"\"\n",
    "Example 1:\n",
    "Input: \"abc\"\n",
    "Output: 3\n",
    "Explanation: Three palindromic strings: \"a\", \"b\", \"c\".\n",
    "\n",
    "Example 2:\n",
    "Input: \"aaa\"\n",
    "Output: 6\n",
    "Explanation: Six palindromic strings: \"a\", \"a\", \"a\", \"aa\", \"aa\", \"aaa\".\n",
    "\"\"\""
   ]
  },
  {
   "cell_type": "code",
   "execution_count": null,
   "metadata": {
    "collapsed": true
   },
   "outputs": [],
   "source": [
    "# Here is the our code by using the mirroring information written on 1/17/18 \n",
    "\n",
    "class Solution(object):\n",
    "    def countSubstrings(self, s):\n",
    "        \"\"\"\n",
    "        :type s: str\n",
    "        :rtype: int\n",
    "        \"\"\"\n",
    "        rst = 0 # the output variable \n",
    "        ns  = len(s)\n",
    "        if not ns: return rst\n",
    "        \n",
    "        for i in xrange (ns-1):\n",
    "            # check odd cases \n",
    "            rst += self.expand2sides (s, i, i)\n",
    "            # check even cases \n",
    "            rst += self.expand2sides (s, i, i + 1)\n",
    "            \n",
    "        # by the loop above, we cannot cover the end element in the string\n",
    "        rst += self.expand2sides (s, ns-1, ns-1)\n",
    "            \n",
    "        return rst \n",
    "    \n",
    "    def expand2sides (self, s, l, r):\n",
    "        rst = 0\n",
    "        while l >= 0 and r < len(s) and s[l] == s[r]:\n",
    "            l -= 1\n",
    "            r += 1\n",
    "            rst += 1\n",
    "        return rst \n",
    "    \n",
    "### testing ####################      \n",
    "print Solution().countSubstrings ('aaa')"
   ]
  },
  {
   "cell_type": "markdown",
   "metadata": {},
   "source": [
    "## [Two pointers - most frequent]()"
   ]
  },
  {
   "cell_type": "markdown",
   "metadata": {},
   "source": [
    "### [11.med-Container With Most Water](https://leetcode.com/problems/container-with-most-water/submissions/1)\n",
    "##### 题目: 给定 $n$ 个非负整数, 问围成的池子, 最多能装多少水?"
   ]
  },
  {
   "cell_type": "code",
   "execution_count": null,
   "metadata": {
    "collapsed": true
   },
   "outputs": [],
   "source": [
    "# IDEA: 那边少, 关注哪边, 移动那边. Time: O(n)\n",
    "class Solution(object):\n",
    "    def maxArea(self, height):\n",
    "        \"\"\"\n",
    "        :type height: List[int]\n",
    "        :rtype: int\n",
    "        \"\"\"\n",
    "        if not height: return 0\n",
    "        \n",
    "        rst = 0\n",
    "        l, r = 0, len(height)-1\n",
    "        while l < r:\n",
    "            x, y = height[l], height[r]\n",
    "            if x < y:\n",
    "                area = (r-l) * x\n",
    "                l += 1\n",
    "            else:\n",
    "                area = (r-l) * y\n",
    "                r -= 1\n",
    "            rst = max(rst, area)\n",
    "        return rst"
   ]
  },
  {
   "cell_type": "markdown",
   "metadata": {},
   "source": [
    "### [141.easy-Linked List Cycle](https://leetcode.com/problems/linked-list-cycle/description/)"
   ]
  },
  {
   "cell_type": "code",
   "execution_count": null,
   "metadata": {
    "collapsed": true
   },
   "outputs": [],
   "source": [
    "class Solution(object):\n",
    "    def hasCycle(self, head):\n",
    "        \"\"\"\n",
    "        :type head: ListNode\n",
    "        :rtype: bool\n",
    "        \"\"\"\n",
    "        if not head: return False\n",
    "        \n",
    "        fast = slow = head\n",
    "        while fast and fast.next:\n",
    "            fast = fast.next.next\n",
    "            slow = slow.next\n",
    "            if fast is slow:\n",
    "                return True\n",
    "        return False"
   ]
  },
  {
   "cell_type": "code",
   "execution_count": null,
   "metadata": {
    "collapsed": true
   },
   "outputs": [],
   "source": [
    "class Solution(object):\n",
    "    def hasCycle(self, head):\n",
    "        \"\"\"\n",
    "        :type head: ListNode\n",
    "        :rtype: bool\n",
    "        \"\"\"\n",
    "        if not head or not head.next: return False\n",
    "        \n",
    "        slow = head\n",
    "        fast = head.next\n",
    "        while fast and fast.next:\n",
    "            if fast == slow:\n",
    "                return True\n",
    "            fast = fast.next.next\n",
    "            slow = slow.next\n",
    "            \n",
    "        return False"
   ]
  },
  {
   "cell_type": "markdown",
   "metadata": {},
   "source": [
    "### [❤️42.hard-Trapping Rain Water](https://leetcode.com/problems/trapping-rain-water/description/)\n",
    "##### 题意: Given n non-negative integers representing an elevation map where the width of each bar is 1, compute how much water it is able to trap after raining. \n",
    "* For example, given [0,1,0,2,1,0,1,3,2,1,2,1], return 6.\n",
    "![](https://leetcode.com/static/images/problemset/rainwatertrap.png)\n",
    "\n",
    "##### 分析: 问题的关键: 在 $i$, 能存储 $min(max_{left},\\  max_{right}) - height[i]$\n",
    "\n",
    "##### <span class=\"burk\">Tag</span>: <span class=\"girk\">dynamic programming</span>  + <span class=\"girk\">two points</span>\n",
    "\n",
    "##### 教程: https://leetcode.com/problems/trapping-rain-water/solution/"
   ]
  },
  {
   "cell_type": "code",
   "execution_count": null,
   "metadata": {
    "collapsed": true
   },
   "outputs": [],
   "source": [
    "# 方法2: two points ❤️ better ❤️ 巧妙的想法\n",
    "# time: O(n), space O(1)\n",
    "class Solution(object):\n",
    "    def trap(self, height):\n",
    "        \"\"\"\n",
    "        :type height: List[int]\n",
    "        :rtype: int\n",
    "        \"\"\"\n",
    "        if not height: return 0\n",
    "        \n",
    "        n, rst = len(height), 0\n",
    "        l, r = 0, n-1\n",
    "        max_left = max_right = 0\n",
    "        \n",
    "        while l < r:\n",
    "            if height[l] < height[r]: # ❎注意这里对比的是heights, 不是 max_left & max_right\n",
    "                if height[l] >= max_left:\n",
    "                    max_left = height[l]\n",
    "                else:\n",
    "                    rst += max_left - height[l]\n",
    "                l += 1\n",
    "            else:\n",
    "                if height[r] >= max_right:\n",
    "                    max_right = height[r]\n",
    "                else:\n",
    "                    rst += max_right - height[r]\n",
    "                r -= 1\n",
    "        return rst"
   ]
  },
  {
   "cell_type": "markdown",
   "metadata": {},
   "source": [
    "### [15.med-3Sum](https://leetcode.com/problems/3sum/description/)"
   ]
  },
  {
   "cell_type": "code",
   "execution_count": 4,
   "metadata": {},
   "outputs": [
    {
     "name": "stdout",
     "output_type": "stream",
     "text": [
      "[[-1, -1, 2], [-1, 0, 1]]\n"
     ]
    }
   ],
   "source": [
    "class Solution(object):\n",
    "    def threeSum(self, nums):\n",
    "        \"\"\"\n",
    "        :type nums: List[int]\n",
    "        :rtype: List[List[int]]\n",
    "        \"\"\"\n",
    "        if len(nums) < 3: return []\n",
    "        nums.sort()\n",
    "        if 3*nums[0] > 0 or 3*nums[-1] < 0: return []\n",
    "        \n",
    "        rst = []\n",
    "        n = len(nums)\n",
    "        for i in xrange(n-2):\n",
    "            if i > 0 and nums[i] == nums[i-1]:\n",
    "                continue\n",
    "            \n",
    "            l, r = i+1, n-1 # ❎ i+1, 原来写成 i 了.\n",
    "            while l < r:\n",
    "                s = nums[i] + nums[l] + nums[r]\n",
    "                if s > 0:\n",
    "                    r -= 1\n",
    "                elif s < 0:\n",
    "                    l += 1\n",
    "                else:\n",
    "                    rst.append([nums[i], nums[l], nums[r]])\n",
    "                    while l < r and nums[l] == nums[l+1]:\n",
    "                        l += 1\n",
    "                    while l < r and nums[r] == nums[r-1]:\n",
    "                        r -= 1\n",
    "                    l += 1\n",
    "                    r -= 1\n",
    "        return rst\n",
    "    \n",
    "print Solution().threeSum([-1,0,1,2,-1,-4])"
   ]
  },
  {
   "cell_type": "code",
   "execution_count": 5,
   "metadata": {},
   "outputs": [
    {
     "name": "stdout",
     "output_type": "stream",
     "text": [
      "[[-1, -1, 2], [-1, 0, 1]]\n"
     ]
    }
   ],
   "source": [
    "# 太慢了: 结果. \n",
    "class Solution(object):\n",
    "    def threeSum(self, nums):\n",
    "        \"\"\"\n",
    "        :type nums: List[int]\n",
    "        :rtype: List[List[int]]\n",
    "        \"\"\"\n",
    "        if len(nums) < 3: return []\n",
    "        \n",
    "        nums.sort()\n",
    "        rst = []\n",
    "        self.helper(nums, 0, 0, 3, [], rst, 0)\n",
    "        return rst\n",
    "        \n",
    "    def helper(self, nums, d, s, n, cur, rst, target):\n",
    "        if d > n: return\n",
    "        if d == n and target == 0:\n",
    "            rst.append(cur[:])\n",
    "            \n",
    "        for i in xrange(s, len(nums)):\n",
    "            if i > s and nums[i] == nums[i-1]: continue\n",
    "            if nums[i] > target: break\n",
    "                \n",
    "            cur.append(nums[i])\n",
    "            self.helper(nums, d+1, i+1, n, cur, rst, target-nums[i])\n",
    "            cur.pop()\n",
    "            \n",
    "print Solution().threeSum([-1,0,1,2,-1,-4])"
   ]
  },
  {
   "cell_type": "markdown",
   "metadata": {},
   "source": [
    "### [18.med-4Sum](https://leetcode.com/problems/4sum/description/)"
   ]
  },
  {
   "cell_type": "code",
   "execution_count": null,
   "metadata": {
    "collapsed": true
   },
   "outputs": [],
   "source": []
  },
  {
   "cell_type": "code",
   "execution_count": null,
   "metadata": {
    "collapsed": true
   },
   "outputs": [],
   "source": [
    "class Solution(object):\n",
    "    def fourSum(self, nums, target):\n",
    "        \"\"\"\n",
    "        :type nums: List[int]\n",
    "        :type target: int\n",
    "        :rtype: List[List[int]]\n",
    "        \"\"\"\n",
    "        k, n = 4, len(nums)\n",
    "        if k > n: return []\n",
    "        \n",
    "        rst = []\n",
    "        nums.sort()\n",
    "        self.helper(nums, k, target, [], rst)\n",
    "        return rst\n",
    "    \n",
    "    def helper(self, nums, k, target, cur, rst):\n",
    "        if k > len(nums) or k*nums[0] > target or k*nums[-1] < target:\n",
    "            return \n",
    "        \n",
    "        if k < 2:\n",
    "            return \n",
    "        elif k == 2:\n",
    "            l, r = 0, len(nums)-1\n",
    "            while l < r:\n",
    "                s = nums[l] + nums[r]\n",
    "                if s < target:\n",
    "                    l += 1\n",
    "                elif s > target:\n",
    "                    r -= 1\n",
    "                else:\n",
    "                    rst.append(cur + [nums[l], nums[r]])\n",
    "                    while l < r and nums[l] == nums[l+1]:\n",
    "                        l += 1\n",
    "                    while l < r and nums[r] == nums[r-1]:\n",
    "                        r -= 1\n",
    "                    l += 1\n",
    "                    r -= 1\n",
    "        else:\n",
    "            for i in xrange(len(nums)):\n",
    "                if i > 0 and nums[i] == nums[i-1]:\n",
    "                    continue\n",
    "                    \n",
    "                cur.append(nums[i])\n",
    "                self.helper(nums[i+1:], k-1, target-nums[i], cur, rst)\n",
    "                cur.pop() # ❤️❤️ 要 pop, 不然 cur 会越来越大的."
   ]
  },
  {
   "cell_type": "markdown",
   "metadata": {},
   "source": [
    "### [454.med-4Sum II](https://leetcode.com/problems/4sum-ii/description/)\n",
    "##### 题意: Given four lists A, B, C, D of integer values, compute how many tuples (i, j, k, l) there are such that A[i] + B[j] + C[k] + D[l] is zero."
   ]
  },
  {
   "cell_type": "code",
   "execution_count": null,
   "metadata": {
    "collapsed": true
   },
   "outputs": [],
   "source": [
    "\"\"\"\n",
    "Example:\n",
    "\n",
    "Input:\n",
    "A = [ 1, 2]\n",
    "B = [-2,-1]\n",
    "C = [-1, 2]\n",
    "D = [ 0, 2]\n",
    "\n",
    "Output:\n",
    "2\n",
    "\n",
    "Explanation:\n",
    "The two tuples are:\n",
    "1. (0, 0, 0, 1) -> A[0] + B[0] + C[0] + D[1] = 1 + (-2) + (-1) + 2 = 0\n",
    "2. (1, 1, 0, 0) -> A[1] + B[1] + C[0] + D[0] = 2 + (-1) + (-1) + 0 = 0\n",
    "\"\"\""
   ]
  },
  {
   "cell_type": "code",
   "execution_count": null,
   "metadata": {
    "collapsed": true
   },
   "outputs": [],
   "source": [
    "class Solution(object):\n",
    "    def fourSumCount(self, A, B, C, D):\n",
    "        \"\"\"\n",
    "        :type A: List[int]\n",
    "        :type B: List[int]\n",
    "        :type C: List[int]\n",
    "        :type D: List[int]\n",
    "        :rtype: int\n",
    "        \"\"\"\n",
    "        dic = {}\n",
    "        for x in A:\n",
    "            for y in B:\n",
    "                s = x + y\n",
    "                dic[s] = dic.get(s,0) + 1\n",
    "        \n",
    "        rst = 0\n",
    "        for x in C:\n",
    "            for y in D:\n",
    "                s = -(x + y)\n",
    "                rst += dic.get(s,0)\n",
    "        return rst"
   ]
  },
  {
   "cell_type": "markdown",
   "metadata": {},
   "source": [
    "## [4/6: Two Points - most frequent]()"
   ]
  },
  {
   "cell_type": "markdown",
   "metadata": {},
   "source": [
    "### [28.easy-Implement strStr()](https://leetcode.com/problems/implement-strstr/description/)\n",
    "##### 题意: Implement strStr().\n",
    "* Return the index of the first occurrence of needle in haystack, or -1 if needle is not part of haystack."
   ]
  },
  {
   "cell_type": "code",
   "execution_count": null,
   "metadata": {
    "collapsed": true
   },
   "outputs": [],
   "source": [
    "\"\"\"\n",
    "Example 1:\n",
    "\n",
    "Input: haystack = \"hello\", needle = \"ll\"\n",
    "Output: 2\n",
    "Example 2:\n",
    "\n",
    "Input: haystack = \"aaaaa\", needle = \"bba\"\n",
    "Output: -1\n",
    "\"\"\""
   ]
  },
  {
   "cell_type": "code",
   "execution_count": null,
   "metadata": {
    "collapsed": true
   },
   "outputs": [],
   "source": [
    "class Solution(object):\n",
    "    def strStr(self, haystack, needle):\n",
    "        \"\"\"\n",
    "        :type haystack: str\n",
    "        :type needle: str\n",
    "        :rtype: int\n",
    "        \"\"\"\n",
    "        nhay = len(haystack)\n",
    "        nn = len(needle)\n",
    "        # 多种特殊情况, 都能解决: 1) needle是空, 2) haystack 长度小于 needle\n",
    "        for i in xrange(nhay-nn+1): # ❎ +1, 想想 needle 只有一个元素的情况.\n",
    "            if needle == haystack[i:i+nn]:\n",
    "                return i\n",
    "        return -1"
   ]
  }
 ],
 "metadata": {
  "kernelspec": {
   "display_name": "Python 3",
   "language": "python",
   "name": "python3"
  },
  "language_info": {
   "codemirror_mode": {
    "name": "ipython",
    "version": 3
   },
   "file_extension": ".py",
   "mimetype": "text/x-python",
   "name": "python",
   "nbconvert_exporter": "python",
   "pygments_lexer": "ipython3",
   "version": "3.6.5"
  },
  "toc": {
   "base_numbering": 1,
   "nav_menu": {},
   "number_sections": true,
   "sideBar": true,
   "skip_h1_title": true,
   "title_cell": "Table of Contents",
   "title_sidebar": "Contents",
   "toc_cell": true,
   "toc_position": {},
   "toc_section_display": "block",
   "toc_window_display": true
  }
 },
 "nbformat": 4,
 "nbformat_minor": 2
}

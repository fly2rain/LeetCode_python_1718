{
 "cells": [
  {
   "cell_type": "markdown",
   "metadata": {
    "toc": true
   },
   "source": [
    "<h1>Table of Contents<span class=\"tocSkip\"></span></h1>\n",
    "<div class=\"toc\" style=\"margin-top: 1em;\"><ul class=\"toc-item\"><li><span><a href=\"#3.-Longest-Substring-Without-Repeating-Characters\" data-toc-modified-id=\"3.-Longest-Substring-Without-Repeating-Characters-1\"><span class=\"toc-item-num\">1&nbsp;&nbsp;</span>3. Longest Substring Without Repeating Characters</a></span></li><li><span><a href=\"#3/12\" data-toc-modified-id=\"3/12-2\"><span class=\"toc-item-num\">2&nbsp;&nbsp;</span><a href=\"\" target=\"_blank\">3/12</a></a></span><ul class=\"toc-item\"><li><span><a href=\"#11.med-Container-With-Most-Water\" data-toc-modified-id=\"11.med-Container-With-Most-Water-2.1\"><span class=\"toc-item-num\">2.1&nbsp;&nbsp;</span><a href=\"https://leetcode.com/problems/container-with-most-water/submissions/1\" target=\"_blank\">11.med-Container With Most Water</a></a></span></li></ul></li></ul></div>"
   ]
  },
  {
   "cell_type": "markdown",
   "metadata": {},
   "source": [
    "# Two Points problem\n",
    "* 题型: Two points + Top 100 Liked Questions:\n",
    "* 链接: https://leetcode.com/problemset/algorithms/?topicSlugs=two-pointers&listId=79h8rn6"
   ]
  },
  {
   "cell_type": "markdown",
   "metadata": {
    "collapsed": true
   },
   "source": [
    "## 3. Longest Substring Without Repeating Characters  "
   ]
  },
  {
   "cell_type": "markdown",
   "metadata": {},
   "source": [
    "## [3/12]()"
   ]
  },
  {
   "cell_type": "markdown",
   "metadata": {},
   "source": [
    "### [11.med-Container With Most Water](https://leetcode.com/problems/container-with-most-water/submissions/1)"
   ]
  },
  {
   "cell_type": "code",
   "execution_count": null,
   "metadata": {
    "collapsed": true
   },
   "outputs": [],
   "source": [
    "class Solution(object):\n",
    "    def maxArea(self, height):\n",
    "        \"\"\"\n",
    "        :type height: List[int]\n",
    "        :rtype: int\n",
    "        \"\"\"\n",
    "        if not height: return 0\n",
    "        \n",
    "        rst = 0\n",
    "        l, r = 0, len(height)-1\n",
    "        while l < r:\n",
    "            x, y = height[l], height[r]\n",
    "            if x < y:\n",
    "                area = (r-l) * x\n",
    "                l += 1\n",
    "            else:\n",
    "                area = (r-l) *  y\n",
    "                r -= 1\n",
    "            rst = max(rst, area)\n",
    "        return rst"
   ]
  },
  {
   "cell_type": "code",
   "execution_count": null,
   "metadata": {
    "collapsed": true
   },
   "outputs": [],
   "source": []
  }
 ],
 "metadata": {
  "kernelspec": {
   "display_name": "Python 2",
   "language": "python",
   "name": "python2"
  },
  "language_info": {
   "codemirror_mode": {
    "name": "ipython",
    "version": 2
   },
   "file_extension": ".py",
   "mimetype": "text/x-python",
   "name": "python",
   "nbconvert_exporter": "python",
   "pygments_lexer": "ipython2",
   "version": "2.7.13"
  },
  "toc": {
   "nav_menu": {},
   "number_sections": true,
   "sideBar": true,
   "skip_h1_title": true,
   "toc_cell": true,
   "toc_position": {},
   "toc_section_display": "block",
   "toc_window_display": true
  }
 },
 "nbformat": 4,
 "nbformat_minor": 2
}

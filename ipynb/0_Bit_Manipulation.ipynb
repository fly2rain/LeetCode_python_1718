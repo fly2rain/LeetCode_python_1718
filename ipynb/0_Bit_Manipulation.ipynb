{
 "cells": [
  {
   "cell_type": "markdown",
   "metadata": {
    "toc": true
   },
   "source": [
    "<h1>Table of Contents<span class=\"tocSkip\"></span></h1>\n",
    "<div class=\"toc\" style=\"margin-top: 1em;\"><ul class=\"toc-item\"><li><span><a href=\"#2/11\" data-toc-modified-id=\"2/11-1\"><span class=\"toc-item-num\">1&nbsp;&nbsp;</span><a href=\"\" target=\"_blank\">2/11</a></a></span><ul class=\"toc-item\"><li><span><a href=\"#136.easy-Single-Number\" data-toc-modified-id=\"136.easy-Single-Number-1.1\"><span class=\"toc-item-num\">1.1&nbsp;&nbsp;</span><a href=\"https://leetcode.com/problems/single-number/description/\" target=\"_blank\">136.easy-Single Number</a></a></span></li><li><span><a href=\"#137.medium-Single-Number-II\" data-toc-modified-id=\"137.medium-Single-Number-II-1.2\"><span class=\"toc-item-num\">1.2&nbsp;&nbsp;</span><a href=\"https://leetcode.com/problems/single-number-ii/description/\" target=\"_blank\">137.medium-Single Number II</a></a></span></li><li><span><a href=\"#260.medium-Single-Number-III\" data-toc-modified-id=\"260.medium-Single-Number-III-1.3\"><span class=\"toc-item-num\">1.3&nbsp;&nbsp;</span><a href=\"https://leetcode.com/problems/single-number-iii/description/\" target=\"_blank\">260.medium-Single Number III</a></a></span></li><li><span><a href=\"#191.easy-Number-of-1-Bits\" data-toc-modified-id=\"191.easy-Number-of-1-Bits-1.4\"><span class=\"toc-item-num\">1.4&nbsp;&nbsp;</span><a href=\"https://leetcode.com/problems/number-of-1-bits/description/\" target=\"_blank\">191.easy-Number of 1 Bits</a></a></span></li><li><span><a href=\"#338.medium-Counting-Bits\" data-toc-modified-id=\"338.medium-Counting-Bits-1.5\"><span class=\"toc-item-num\">1.5&nbsp;&nbsp;</span><a href=\"https://leetcode.com/problems/counting-bits/description/\" target=\"_blank\">338.medium-Counting Bits</a></a></span></li><li><span><a href=\"#461.easy-Hamming-Distance\" data-toc-modified-id=\"461.easy-Hamming-Distance-1.6\"><span class=\"toc-item-num\">1.6&nbsp;&nbsp;</span><a href=\"https://leetcode.com/problems/hamming-distance/description/\" target=\"_blank\">461.easy-Hamming Distance</a></a></span></li><li><span><a href=\"#477.medium-Total-Hamming-Distance\" data-toc-modified-id=\"477.medium-Total-Hamming-Distance-1.7\"><span class=\"toc-item-num\">1.7&nbsp;&nbsp;</span><a href=\"https://leetcode.com/problems/total-hamming-distance/description/\" target=\"_blank\">477.medium-Total Hamming Distance</a></a></span></li><li><span><a href=\"#231.easy-Power-of-Two\" data-toc-modified-id=\"231.easy-Power-of-Two-1.8\"><span class=\"toc-item-num\">1.8&nbsp;&nbsp;</span><a href=\"https://leetcode.com/problems/power-of-two/description/\" target=\"_blank\">231.easy-Power of Two</a></a></span></li><li><span><a href=\"#326.easy-Power-of-Three\" data-toc-modified-id=\"326.easy-Power-of-Three-1.9\"><span class=\"toc-item-num\">1.9&nbsp;&nbsp;</span><a href=\"https://leetcode.com/problems/power-of-three/description/\" target=\"_blank\">326.easy-Power of Three</a></a></span></li><li><span><a href=\"#342.easy-Power-of-Four\" data-toc-modified-id=\"342.easy-Power-of-Four-1.10\"><span class=\"toc-item-num\">1.10&nbsp;&nbsp;</span><a href=\"https://leetcode.com/problems/power-of-four/description/\" target=\"_blank\">342.easy-Power of Four</a></a></span></li><li><span><a href=\"#190.easy-Reverse-Bits\" data-toc-modified-id=\"190.easy-Reverse-Bits-1.11\"><span class=\"toc-item-num\">1.11&nbsp;&nbsp;</span><a href=\"https://leetcode.com/problems/reverse-bits/description/\" target=\"_blank\">190.easy-Reverse Bits</a></a></span></li><li><span><a href=\"#7.easy-Reverse-Integer\" data-toc-modified-id=\"7.easy-Reverse-Integer-1.12\"><span class=\"toc-item-num\">1.12&nbsp;&nbsp;</span><a href=\"https://leetcode.com/problems/reverse-integer/description/\" target=\"_blank\">7.easy-Reverse Integer</a></a></span></li><li><span><a href=\"#371.easy-Sum-of-Two-Integers\" data-toc-modified-id=\"371.easy-Sum-of-Two-Integers-1.13\"><span class=\"toc-item-num\">1.13&nbsp;&nbsp;</span><a href=\"https://leetcode.com/problems/sum-of-two-integers/description/\" target=\"_blank\">371.easy-Sum of Two Integers</a></a></span></li></ul></li><li><span><a href=\"#2/12\" data-toc-modified-id=\"2/12-2\"><span class=\"toc-item-num\">2&nbsp;&nbsp;</span>2/12</a></span><ul class=\"toc-item\"><li><span><a href=\"#169.easy-Majority-Element\" data-toc-modified-id=\"169.easy-Majority-Element-2.1\"><span class=\"toc-item-num\">2.1&nbsp;&nbsp;</span><a href=\"https://leetcode.com/problems/majority-element/description/\" target=\"_blank\">169.easy-Majority Element</a></a></span></li><li><span><a href=\"#229.medium-Majority-Element-II\" data-toc-modified-id=\"229.medium-Majority-Element-II-2.2\"><span class=\"toc-item-num\">2.2&nbsp;&nbsp;</span><a href=\"https://leetcode.com/problems/majority-element-ii/description/\" target=\"_blank\">229.medium-Majority Element II</a></a></span></li><li><span><a href=\"#78.medium-Subsets\" data-toc-modified-id=\"78.medium-Subsets-2.3\"><span class=\"toc-item-num\">2.3&nbsp;&nbsp;</span><a href=\"https://leetcode.com/problems/subsets/description/\" target=\"_blank\">78.medium-Subsets</a></a></span></li></ul></li></ul></div>"
   ]
  },
  {
   "cell_type": "markdown",
   "metadata": {},
   "source": [
    "# Bit Manipulation\n",
    "* 题型: [Top 100 Liked Questions + Divide and Conquer](https://leetcode.com/problemset/algorithms/?topicSlugs=bit-manipulation&listId=79h8rn6)\n",
    "* 题型: [Bit Manipulation](https://leetcode.com/tag/bit-manipulation/)"
   ]
  },
  {
   "cell_type": "markdown",
   "metadata": {},
   "source": [
    "## [2/11]()\n"
   ]
  },
  {
   "cell_type": "markdown",
   "metadata": {},
   "source": [
    "### [136.easy-Single Number](https://leetcode.com/problems/single-number/description/)\n",
    "\n",
    "##### 题意: Given an array of integers, every element appears twice except for one. Find that single one.\n",
    "* **Note**: your algorithm should have a <span class=\"girk\">linear runtime complexity</span>. Could you implement it <span class=\"girk\">without using extra memory</span>?\n",
    "\n",
    "##### 分析\n",
    "* 【利用 XOR 异或的特性】相同数之间异或结果为 0，任何数和 0 异或得到它自己。\n",
    "* 【2\\*sum(unique) - sum(array)】\n",
    "* 【dict】insert 和 pop 是一对，正好相互抵消。只有剩余的一个存在于 dict 中。\n",
    "\n",
    "##### 编程经验\n",
    "* XOR 的性质：https://zh.wikipedia.org/wiki/%E9%80%BB%E8%BE%91%E5%BC%82%E6%88%96\n",
    "    * 交换律： ${\\displaystyle A\\oplus B=B\\oplus A}$\n",
    "    * 结合律： ${\\displaystyle A\\oplus (B\\oplus C)=(A\\oplus B)\\oplus C}$ \n",
    "    * 恒等律： ${\\displaystyle X\\oplus 0=X}$ \n",
    "    * 归零律： ${\\displaystyle X\\oplus X=0}$\n",
    "    * 自反 (结合律+恒等律)： ${\\displaystyle A\\oplus B\\oplus B=A\\oplus 0=A}$"
   ]
  },
  {
   "cell_type": "code",
   "execution_count": null,
   "metadata": {
    "collapsed": true
   },
   "outputs": [],
   "source": [
    "# 方法1: 利用异或的方法\n",
    "class Solution(object):\n",
    "    def singleNumber(self, nums):\n",
    "        \"\"\"\n",
    "        :type nums: List[int]\n",
    "        :rtype: int\n",
    "        \"\"\"\n",
    "        rst = 0\n",
    "        for x in nums:\n",
    "            rst ^= x\n",
    "        return rst"
   ]
  },
  {
   "cell_type": "code",
   "execution_count": null,
   "metadata": {
    "collapsed": true
   },
   "outputs": [],
   "source": [
    "# 方法2: 利用 dict\n",
    "class Solution(object):\n",
    "    def singleNumber(self, nums):\n",
    "        \"\"\"\n",
    "        :type nums: List[int]\n",
    "        :rtype: int\n",
    "        \"\"\"\n",
    "        dic = {}\n",
    "        for x in nums:\n",
    "            dic[x] = dic.get(x,0) + 1\n",
    "            if dic[x] > 1: dic.pop(x)\n",
    "                \n",
    "        return dic.popitem()[0]"
   ]
  },
  {
   "cell_type": "code",
   "execution_count": null,
   "metadata": {
    "collapsed": true
   },
   "outputs": [],
   "source": [
    "# 方法3:【2*sum(unique) - sum(array)】\n",
    "class Solution(object):   \n",
    "    def singleNumber (self, nums):    \n",
    "        return 2*sum(set(nums)) - sum(nums)"
   ]
  },
  {
   "cell_type": "markdown",
   "metadata": {},
   "source": [
    "### [137.medium-Single Number II](https://leetcode.com/problems/single-number-ii/description/)\n",
    "\n",
    "##### 题意: Given an array of integers, every element <span class=\"girk\">appears three times except for one</span>, <span class=\"girk\">which appears exactly once</span>. Find that single one.\n",
    "* Note: Your algorithm should have a linear runtime complexity. Could you implement it without using extra memory?\n",
    "\n",
    "##### 思路\n",
    "* 方法1: 利用 hash-table 统计数字出现的次数, 然后找到那个单独出现的数字.\n",
    "* 方法2: 也可以利用 set 的方法. ```[ 3*sum(set(nums)) - sum(nums) ] / 2```"
   ]
  },
  {
   "cell_type": "code",
   "execution_count": null,
   "metadata": {
    "collapsed": true
   },
   "outputs": [],
   "source": [
    "# 不用额外空间的解法, 太 tricky 了, 不好理解.\n",
    "#     https://leetcode.com/problems/single-number-ii/discuss/43294/Challenge-me-thx\n",
    "#     https://www.youtube.com/watch?v=1m5e5d_OFzU"
   ]
  },
  {
   "cell_type": "code",
   "execution_count": null,
   "metadata": {
    "collapsed": true
   },
   "outputs": [],
   "source": [
    "# 方法2: hash-table\n",
    "class Solution(object):\n",
    "    def singleNumber(self, nums):\n",
    "        \"\"\"\n",
    "        :type nums: List[int]\n",
    "        :rtype: int\n",
    "        \"\"\"\n",
    "        if not nums: return -1\n",
    "        \n",
    "        dic = {}\n",
    "        for x in nums:\n",
    "            dic[x] = dic.get(x,0) + 1\n",
    "            if dic[x] > 2: dic.pop(x) # ❤️ 和 136 不同的地方.\n",
    "                \n",
    "        return dic.popitem()[0]"
   ]
  },
  {
   "cell_type": "code",
   "execution_count": null,
   "metadata": {
    "collapsed": true
   },
   "outputs": [],
   "source": [
    "# 方法2: hash-table\n",
    "class Solution(object):\n",
    "    def singleNumber(self, nums):\n",
    "        \"\"\"\n",
    "        :type nums: List[int]\n",
    "        :rtype: int\n",
    "        \"\"\"\n",
    "        if not nums: return -1\n",
    "        \n",
    "        dic = {}\n",
    "        for x in nums:\n",
    "            dic[x] = dic.get(x, 0) + 1\n",
    "            if dic[x] > 1: dic.pop(x) # 尽量减少存储.\n",
    "            \n",
    "        for key, val in dic.items():\n",
    "            if val == 1:\n",
    "                return key\n",
    "        return -1"
   ]
  },
  {
   "cell_type": "code",
   "execution_count": null,
   "metadata": {
    "collapsed": true
   },
   "outputs": [],
   "source": [
    "# 方法3: 利用 set\n",
    "class Solution(object):\n",
    "    def singleNumber(self, nums):\n",
    "        \"\"\"\n",
    "        :type nums: List[int]\n",
    "        :rtype: int\n",
    "        \"\"\"\n",
    "        if not nums: return -1\n",
    "        \n",
    "        return ( 3*sum(set(nums)) - sum(nums) ) / 2"
   ]
  },
  {
   "cell_type": "markdown",
   "metadata": {},
   "source": [
    "### [260.medium-Single Number III](https://leetcode.com/problems/single-number-iii/description/)\n",
    "##### 题意: 给定 array, 只有2个数字只出现 1 次, 其他数字都出现了 2 次. 找出这两个数字.\n",
    "* For example: Given nums = [1, 2, 1, 3, 2, 5], return [3, 5] or [5, 3] 顺序不重要.\n",
    "* 要求: linear time, constant complexity.\n",
    "\n",
    "##### 方法\n",
    "* 方法1: 太复杂了, 考得少. https://www.youtube.com/watch?v=iHc4nr6exdY\n",
    "* 方法2: 如果能够使用 hash-table, 会非常容易."
   ]
  },
  {
   "cell_type": "code",
   "execution_count": null,
   "metadata": {
    "collapsed": true
   },
   "outputs": [],
   "source": [
    "# 方法2: hash table\n",
    "class Solution(object):\n",
    "    def singleNumber(self, nums):\n",
    "        \"\"\"\n",
    "        :type nums: List[int]\n",
    "        :rtype: List[int]\n",
    "        \"\"\"\n",
    "        dic, rst = {}, []\n",
    "        for x in nums:\n",
    "            dic[x] = dic.get(x,0) + 1\n",
    "            if dic[x] > 1: dic.pop(x) # ❤️ 尽量减少内存需求.\n",
    "            \n",
    "        for key, value in dic.items():\n",
    "            if value == 1:\n",
    "                rst.append(key)\n",
    "                \n",
    "        return rst"
   ]
  },
  {
   "cell_type": "markdown",
   "metadata": {},
   "source": [
    "### [191.easy-Number of 1 Bits](https://leetcode.com/problems/number-of-1-bits/description/)\n",
    "##### 题意: takes an unsigned integer and returns the number of ’1' bits it has (also known as the <span class=\"girk\">Hamming weight</span>."
   ]
  },
  {
   "cell_type": "code",
   "execution_count": null,
   "metadata": {
    "collapsed": true
   },
   "outputs": [],
   "source": [
    "class Solution(object):\n",
    "    def hammingWeight(self, n):\n",
    "        \"\"\"\n",
    "        :type n: int\n",
    "        :rtype: int\n",
    "        \"\"\"\n",
    "        rst = 0\n",
    "        while n:\n",
    "            if n & 1: rst += 1 # ❎❎ 将 & 错写成 ^ 了. & 按位与操作, ^ 是按位异或运算.\n",
    "            n = n >> 1\n",
    "        return rst "
   ]
  },
  {
   "cell_type": "code",
   "execution_count": null,
   "metadata": {
    "collapsed": true
   },
   "outputs": [],
   "source": [
    "# https://leetcode.com/problems/number-of-1-bits/discuss/55255/C++-Solution:-n-and-(n-1)\n",
    "\n",
    "# 优势: ❤️ only loop as many times as the number of 1 bits ❤️\n",
    "#   whereas the solutions shifting the bits of n will loop also for every 0 bit in between.\n",
    "\n",
    "class Solution(object):\n",
    "    def hammingWeight(self, n):\n",
    "        \"\"\"\n",
    "        :type n: int\n",
    "        :rtype: int\n",
    "        \"\"\"\n",
    "        rst = 0\n",
    "        while n:\n",
    "            n = n & (n - 1)\n",
    "            rst += 1\n",
    "        return rst\n",
    "    \n",
    "\"\"\" 例子:\n",
    "❤️❤️ n & (n - 1) drops the lowest set bit. It’s a neat little bit trick. ❤️❤️\n",
    "\n",
    "Let’s use n = 00101100 as an example. This binary representation has three 1s.\n",
    "\n",
    "If n = 00101100, then n - 1 = 00101011, so n & (n - 1) = 00101100 & 00101011 = 00101000. Count = 1.\n",
    "\n",
    "If n = 00101000, then n - 1 = 00100111, so n & (n - 1) = 00101000 & 00100111 = 00100000. Count = 2.\n",
    "\n",
    "If n = 00100000, then n - 1 = 00011111, so n & (n - 1) = 00100000 & 00011111 = 00000000. Count = 3.\n",
    "\n",
    "n is now zero, so the while loop ends, and the final count (the numbers of set bits) is returned.\n",
    "\"\"\""
   ]
  },
  {
   "cell_type": "markdown",
   "metadata": {},
   "source": [
    "### [338.medium-Counting Bits](https://leetcode.com/problems/counting-bits/description/)\n",
    "##### 题意: 给定非负整数  $n$, 对于所有数值 $0\\leq i \\leq n$, 计算其中的 1's 数量, 然后返回到 array 中.\n",
    "* 举例: For num = 5 you should return [0,1,1,2,1,2].\n",
    "* <span class=\"burk\">Follow ups</span>:\n",
    "    * It is very easy to come up with a solution with run time **O(n*sizeof(integer))**. But can you do it in **linear time O(n)**/possibly in a **single pass**?\n",
    "    * **Space complexity should be O(n)**."
   ]
  },
  {
   "cell_type": "code",
   "execution_count": null,
   "metadata": {
    "collapsed": true
   },
   "outputs": [],
   "source": [
    "# ❤️❤️ 有点 dynamic programming 的味道...\n",
    "class Solution(object):\n",
    "    def countBits(self, n):\n",
    "        \"\"\"\n",
    "        :type n: int\n",
    "        :rtype: List[int]\n",
    "        \"\"\"\n",
    "        rst = [0] * (n + 1)\n",
    "        for i in xrange(1, n + 1): # ❤️ 从 1 到 n\n",
    "            rst[i] = rst[i&(i-1)] + 1 # ❤️ 也太 tricky 了吧.\n",
    "        return rst"
   ]
  },
  {
   "cell_type": "code",
   "execution_count": null,
   "metadata": {
    "collapsed": true
   },
   "outputs": [],
   "source": [
    "class Solution(object):\n",
    "    def countBits(self, n):\n",
    "        \"\"\"\n",
    "        :type n: int\n",
    "        :rtype: List[int]\n",
    "        \"\"\"\n",
    "        rst = []\n",
    "        for i in xrange(n + 1):\n",
    "            rst.append(bin(i).count(\"1\"))\n",
    "        return rst"
   ]
  },
  {
   "cell_type": "markdown",
   "metadata": {},
   "source": [
    "### [461.easy-Hamming Distance](https://leetcode.com/problems/hamming-distance/description/)\n",
    "##### 题意:  给定两个整数x, y, 计算它们的 Hamming distance.\n",
    "* The Hamming distance between two integers is the number of positions at which the corresponding bits are different.\n",
    "* Note: $0 \\leq x, y < 2^{31}$. 这个条件至关重要, 出现了负数就不好了."
   ]
  },
  {
   "cell_type": "code",
   "execution_count": null,
   "metadata": {
    "collapsed": true
   },
   "outputs": [],
   "source": [
    "class Solution(object):\n",
    "    def hammingDistance(self, x, y):\n",
    "        \"\"\"\n",
    "        :type x: int\n",
    "        :type y: int\n",
    "        :rtype: int\n",
    "        \"\"\"\n",
    "        return bin(x^y).count(\"1\") # 这也太牛掰了, \n",
    "        #❤️❤️ bin(x), convert an integer number to a binary string."
   ]
  },
  {
   "cell_type": "code",
   "execution_count": null,
   "metadata": {
    "collapsed": true
   },
   "outputs": [],
   "source": [
    "class Solution(object):\n",
    "    def hammingDistance(self, x, y):\n",
    "        z, cnt = x ^ y, 0\n",
    "        while z:\n",
    "            z = z & (z - 1)\n",
    "            cnt += 1\n",
    "        return cnt"
   ]
  },
  {
   "cell_type": "code",
   "execution_count": null,
   "metadata": {
    "collapsed": true
   },
   "outputs": [],
   "source": [
    "# ❤️ 移动 flag \n",
    "class Solution(object):\n",
    "    def hammingDistance(self, x, y):\n",
    "        \"\"\"\n",
    "        :type x: int\n",
    "        :type y: int\n",
    "        :rtype: int\n",
    "        \"\"\"\n",
    "        z = x ^ y\n",
    "        rst, flag = 0, 1\n",
    "        for i in xrange(32): # ❤️ 因为知道 0 <= x, y <= 2^{31}, 因此可有限步移动 flag\n",
    "            if z & flag: rst += 1 # ❎❤️ 写成 rst += z & flag 就出错了. ❤️👍知道原因了, \n",
    "            flag <<= 1 # 因为 flag 移位之后, 1 的存在就不止是数值 1 了, 有可能是 100了. \n",
    "        return rst"
   ]
  },
  {
   "cell_type": "code",
   "execution_count": null,
   "metadata": {
    "collapsed": true
   },
   "outputs": [],
   "source": [
    "# ❤️ 移动 z = x ^ y 的结果.\n",
    "class Solution(object):\n",
    "    def hammingDistance(self, x, y):\n",
    "        \"\"\"\n",
    "        :type x: int\n",
    "        :type y: int\n",
    "        :rtype: int\n",
    "        \"\"\"\n",
    "        z = x ^ y # get the xor between x and y.\n",
    "        \n",
    "        rst = 0\n",
    "        while z: # ❤️❤️ 原来试过每次 flag >> 1, 直到 flag 移动 32次. 但发现 python 的精读太高了, 1 >> 1000 \n",
    "            if 1 & z: rst += 1 # 竟然还有值.\n",
    "            z = z >> 1\n",
    "        return rst"
   ]
  },
  {
   "cell_type": "markdown",
   "metadata": {},
   "source": [
    "### [477.medium-Total Hamming Distance](https://leetcode.com/problems/total-hamming-distance/description/)\n",
    "##### 题意: 给定一组整数, 返回 the total Hamming distance between all pairs of the given numbers.\n",
    "* Note:\n",
    "    * Elements of the given array are in the range of 0 to 10^9\n",
    "    * Length of the array will not exceed 10^4.\n",
    "\n",
    "##### 方法分析\n",
    "* 思路 (花花酱, https://www.youtube.com/watch?v=fH9clXXrS2Q&t=345s )\n",
    "    1. 对所有整数, 逐位处理.\n",
    "    2. 对于每一位, 分为两拨, 一拨为 1, 另一拨 0. Distance 存在于 0 这波和 1 这波之间."
   ]
  },
  {
   "cell_type": "code",
   "execution_count": null,
   "metadata": {
    "collapsed": true
   },
   "outputs": [],
   "source": [
    "# 方法1: 对每一位逐位处理. Time: O(32n) ~ O(n), space: O(1).\n",
    "class Solution(object):\n",
    "    def totalHammingDistance(self, nums):\n",
    "        \"\"\"\n",
    "        :type nums: List[int]\n",
    "        :rtype: int\n",
    "        \"\"\"\n",
    "        rst, nn = 0, len(nums)\n",
    "        for i in xrange(32):\n",
    "            cnt = 0\n",
    "            flag = 1 << i\n",
    "            for x in nums:\n",
    "                if x & flag: cnt += 1\n",
    "            rst += cnt * (nn - cnt) # ❤️关键, 每一位分为两拨, 一拨为 0, 另一拨为 1. Dist 存在于他们之间.\n",
    "            \n",
    "        return rst "
   ]
  },
  {
   "cell_type": "code",
   "execution_count": null,
   "metadata": {
    "collapsed": true
   },
   "outputs": [],
   "source": [
    "# 方法2: brute force: O(n^2)\n",
    "class Solution(object):\n",
    "    def totalHammingDistance(self, nums):\n",
    "        \"\"\"\n",
    "        :type nums: List[int]\n",
    "        :rtype: int\n",
    "        \"\"\"\n",
    "        if not nums: return 0\n",
    "        \n",
    "        rst = 0\n",
    "        for i in xrange(len(nums) - 1):\n",
    "            for j in xrange(i, len(nums)):\n",
    "                rst += bin(nums[i] ^ nums[j]).count(\"1\")\n",
    "        return rst              "
   ]
  },
  {
   "cell_type": "markdown",
   "metadata": {},
   "source": [
    "### [231.easy-Power of Two](https://leetcode.com/problems/power-of-two/description/)\n",
    "\n",
    "##### 题意: Given an integer, write a function to determine if it is a power of two."
   ]
  },
  {
   "cell_type": "code",
   "execution_count": null,
   "metadata": {
    "collapsed": true
   },
   "outputs": [],
   "source": [
    "\"\"\" https://www.youtube.com/watch?v=-ReYnh4zt5U\n",
    "     * 231. Power of Two\n",
    "     * Given an integer, write a function to determine if it is a power of two.\n",
    "     *\n",
    "     *\n",
    "     * 2, 4, 8, 16...\n",
    "     *\n",
    "     * 2 : 10\n",
    "     * 4 : 100\n",
    "     * 8 : 1000\n",
    "     * 16: 10000\n",
    "     *\n",
    "     *\n",
    "     * n (16) : 10000\n",
    "     * n - 1  : 01111\n",
    "     *\n",
    "     * time : O(1);\n",
    "     * space : O(1);\n",
    "\"\"\"\n",
    "class Solution(object):\n",
    "    def isPowerOfTwo(self, n):\n",
    "        \"\"\"\n",
    "        :type n: int\n",
    "        :rtype: bool\n",
    "        \"\"\"\n",
    "        return n > 0 and ( n & (n - 1) == 0 ) # ❤️❤️ 很赞的解法, pow(2) 只有一个 1. "
   ]
  },
  {
   "cell_type": "code",
   "execution_count": null,
   "metadata": {
    "collapsed": true
   },
   "outputs": [],
   "source": [
    "class Solution(object):\n",
    "    def isPowerOfTwo(self, n):\n",
    "        \"\"\"\n",
    "        :type n: int\n",
    "        :rtype: bool\n",
    "        \"\"\"\n",
    "        while n > 1: # ❤️❤️\n",
    "            if n & 1: return False\n",
    "            n >>= 1\n",
    "        return n == 1"
   ]
  },
  {
   "cell_type": "markdown",
   "metadata": {},
   "source": [
    "### [326.easy-Power of Three](https://leetcode.com/problems/power-of-three/description/)\n",
    "##### 题意: Given an integer, write a function to determine if it is a power of three.\n",
    "* Follow up: Could you do it without using any loop / recursion?\n",
    "* 参考: https://www.youtube.com/watch?v=VrVVWtz3MmA"
   ]
  },
  {
   "cell_type": "code",
   "execution_count": 5,
   "metadata": {},
   "outputs": [
    {
     "name": "stdout",
     "output_type": "stream",
     "text": [
      "False\n"
     ]
    }
   ],
   "source": [
    "# 方法1: 利用 log\n",
    "from math import log10 # ❤️ 原来 log 是 math module 中的. # ❎❎ 为啥只能是 log10, 不能是 log 呢???\n",
    "class Solution(object):\n",
    "    def isPowerOfThree(self, n):\n",
    "        \"\"\"\n",
    "        :type n: int\n",
    "        :rtype: bool\n",
    "        \"\"\"\n",
    "        return n > 0 and (log10(n) / log10(3)) % 1 == 0 # ❤️❤️ % 1 是为了判断是整数\n",
    "    \n",
    "print Solution().isPowerOfThree(243)"
   ]
  },
  {
   "cell_type": "code",
   "execution_count": 6,
   "metadata": {},
   "outputs": [
    {
     "name": "stdout",
     "output_type": "stream",
     "text": [
      "True\n"
     ]
    }
   ],
   "source": [
    "# 方法2: 利用 recursion\n",
    "class Solution(object):\n",
    "    def isPowerOfThree(self, n):\n",
    "        \"\"\"\n",
    "        :type n: int\n",
    "        :rtype: bool\n",
    "        \"\"\"\n",
    "        while n > 1: # ❤️❤️❎❎ >1 还是蛮关键的.\n",
    "            if n % 3: return False\n",
    "            n /= 3\n",
    "        return n == 1\n",
    "    \n",
    "print Solution().isPowerOfThree(243)"
   ]
  },
  {
   "cell_type": "markdown",
   "metadata": {},
   "source": [
    "### [342.easy-Power of Four](https://leetcode.com/problems/power-of-four/description/)\n",
    "\n",
    "##### 题意: Given an integer (signed 32 bits), write a function to check whether it is a power of 4.\n",
    "* **Example**: Given num = 16, return true. Given num = 5, return false.\n",
    "* **Follow up**: Could you solve it without loops/recursion?\n",
    "* 参考视频: https://www.youtube.com/watch?v=VbK0CsG9TXk"
   ]
  },
  {
   "cell_type": "code",
   "execution_count": 2,
   "metadata": {},
   "outputs": [
    {
     "name": "stdout",
     "output_type": "stream",
     "text": [
      "5\n"
     ]
    }
   ],
   "source": [
    "class Solution(object):\n",
    "    def isPowerOfFour(self, num):\n",
    "        \"\"\"\n",
    "        :type num: int\n",
    "        :rtype: bool\n",
    "        \"\"\"\n",
    "        while num > 1:\n",
    "            if num % 4: return False\n",
    "            num /= 4 # num >>= 2 是等价的\n",
    "        return num == 1"
   ]
  },
  {
   "cell_type": "code",
   "execution_count": null,
   "metadata": {
    "collapsed": true
   },
   "outputs": [],
   "source": [
    "from math import log10\n",
    "class Solution(object):\n",
    "    def isPowerOfFour(self, num):\n",
    "        \"\"\"\n",
    "        :`type num: int\n",
    "        :rtype: bool\n",
    "        \"\"\"\n",
    "        return num > 0 and (log10(num) / log10(4) % 1 == 0)"
   ]
  },
  {
   "cell_type": "markdown",
   "metadata": {},
   "source": [
    "### [190.easy-Reverse Bits](https://leetcode.com/problems/reverse-bits/description/)\n",
    "##### 题意: Reverse bits of a given <span class=\"girk\">**32 bits unsigned integer**</span>.\n",
    "* 解析: https://www.youtube.com/watch?v=u2_AFTUTpT8"
   ]
  },
  {
   "cell_type": "code",
   "execution_count": null,
   "metadata": {
    "collapsed": true
   },
   "outputs": [],
   "source": [
    "class Solution:\n",
    "    # @param n, an integer\n",
    "    # @return an integer\n",
    "    def reverseBits(self, n):\n",
    "        rst = 0   ## ❤️ 出现 32 并且 bits 运算, 就应该想到 for in xrange(32)\n",
    "        for i in xrange(32): # ❎❤️❤️ 为什么 while n 就出错呢?? 因为有 0 位也要在前面补充的.\n",
    "            rst <<= 1\n",
    "            if n & 1: rst += 1\n",
    "            n >>= 1\n",
    "        return rst"
   ]
  },
  {
   "cell_type": "markdown",
   "metadata": {},
   "source": [
    "### [7.easy-Reverse Integer](https://leetcode.com/problems/reverse-integer/description/)\n",
    "\n",
    "##### 题意: given a <span class=\"girk\">32-bit signed integer</span>, reverse digits of an integer.\n",
    "* 举例1: Input: 123, Output:  321\n",
    "* 举例1: Input: -123, Output: -321\n",
    "* 注意事项: 如果结果越界, 返回0.\n",
    "    * int 32 integer 的范围是 $[-2^{31}, 2^{31} - 1]$\n",
    "\n",
    "##### 先转化成 unsigned integer 处理.\n",
    "* 参考视频: https://www.youtube.com/watch?v=WEgObETVcPc"
   ]
  },
  {
   "cell_type": "code",
   "execution_count": null,
   "metadata": {
    "collapsed": true
   },
   "outputs": [],
   "source": [
    "# ❤️❤️ 必须 10 进制转化, 2 进制转化是错的.\n",
    "  # 13: 00010011 # 真实二进制表示, 显然不是 2进制转化的结果.\n",
    "  # 31: 00110001 # \n",
    "class Solution(object):\n",
    "    def reverse(self, x):\n",
    "        \"\"\"\n",
    "        :type x: int\n",
    "        :rtype: int\n",
    "        \"\"\"\n",
    "        # 1 edge condition\n",
    "        if abs(x) == 1 or x == 0: return x\n",
    "        \n",
    "        # 2 do the reversion\n",
    "        signOfX = x < 0 # get the sign and do it as an unsigned integer\n",
    "        y, rst = abs(x), 0\n",
    "        while y: # ❎ 必须 10 进制转化, 2 进制转化是错的\n",
    "            rst = 10*rst + y%10\n",
    "            y = y / 10\n",
    "            \n",
    "        if signOfX: rst = -rst\n",
    "            \n",
    "        # ❤️❤️👍👍 int 32 的取值范围, 是 31 次方, 因为第一位表示正负.\n",
    "        lowBound, highBound = -2**31, 2**31 - 1 ## ❎❎ 之前没有处理越界问题.\n",
    "        if lowBound > rst or rst > highBound: return 0\n",
    "        \n",
    "        return rst       "
   ]
  },
  {
   "cell_type": "markdown",
   "metadata": {},
   "source": [
    "### [371.easy-Sum of Two Integers](https://leetcode.com/problems/sum-of-two-integers/description/)\n",
    "##### 题型: Calculate the sum of two integers a and b, but you are **<span class=\"girk\">not allowed</span>** to use the operator + and -. \n",
    "\n",
    "##### 还是有错, 不知道为什么? \n",
    "\n",
    "##### 各种总结: https://leetcode.com/problems/sum-of-two-integers/discuss/84278/A-summary:-how-to-use-bit-manipulation-to-solve-problems-easily-and-efficiently"
   ]
  },
  {
   "cell_type": "code",
   "execution_count": null,
   "metadata": {
    "collapsed": true
   },
   "outputs": [],
   "source": [
    "\"\"\"\n",
    "0 + 0 = 0 # ^\n",
    "0 + 1 = 1\n",
    "1 + 0 = 1\n",
    "\n",
    "1 + 1 = 1 # &\n",
    "\"\"\"\n",
    "class Solution(object):\n",
    "    def getSum(self, a, b):\n",
    "        \"\"\"\n",
    "        :type a: int\n",
    "        :type b: int\n",
    "        :rtype: int\n",
    "        \"\"\"\n",
    "        if a == 0: return b\n",
    "        if b == 0: return a\n",
    "        \n",
    "        while b != 0:\n",
    "            carry = a & b # ❤️ 计算进位\n",
    "            a ^= b        # ❤️ 计算非进位\n",
    "            b = carry << 1 # ❤️ 下一步的加数\n",
    "            \n",
    "        return a"
   ]
  },
  {
   "cell_type": "markdown",
   "metadata": {},
   "source": [
    "## 2/12"
   ]
  },
  {
   "cell_type": "markdown",
   "metadata": {},
   "source": [
    "### [169.easy-Majority Element](https://leetcode.com/problems/majority-element/description/)\n",
    "##### 题意: 给定包含 n 个元素的 arr, majority element 指的是出现了多于 $floor(n/2)$ 次数的 element.\n",
    "* 注意: You may assume that the array is non-empty and the majority element always exist in the array.\n",
    "\n",
    "##### 分析\n",
    "* 花花: https://www.youtube.com/watch?v=LPIvL-jvGdA\n",
    "* Leetcode 标准: https://leetcode.com/problems/majority-element/discuss/51612/6-Suggested-Solutions-in-C++-with-Explanations\n",
    "\n",
    "##### 总结方法 (很多方法)\n",
    "* moore voting \n",
    "* hash-table \n",
    "* bit voting\n",
    "* david & conquere\n",
    "* sort"
   ]
  },
  {
   "cell_type": "code",
   "execution_count": null,
   "metadata": {
    "collapsed": true
   },
   "outputs": [],
   "source": [
    "# 0 Moore Voting algorithm: ❤️❤️ time O(n) space O(1) ❤️❤️\n",
    "# 思路: 每次找一对不同的元素, 如果不同, 从数组中删除它们. 直到数组为空或只有一个元素.\n",
    "# 如果最后只存在一个元素 a, 则 a 为最终的输出值.\n",
    "class Solution(object): # ❤️❤️ 因为本题的前提是总是存在 major element, 因此不需要考虑为 None 的情况.\n",
    "    def majorityElement(self, nums):\n",
    "        cnt = rst = 0\n",
    "        for x in nums:\n",
    "            if cnt == 0: rst = x\n",
    "            \n",
    "            if x == rst:\n",
    "                cnt += 1\n",
    "            else:\n",
    "                cnt -= 1\n",
    "        return rst"
   ]
  },
  {
   "cell_type": "code",
   "execution_count": null,
   "metadata": {
    "collapsed": true
   },
   "outputs": [],
   "source": [
    "# 1 hash-table: time - O(n), space - O(n)\n",
    "class Solution(object):\n",
    "    def majorityElement(self, nums):\n",
    "        \"\"\"\n",
    "        :type nums: List[int]\n",
    "        :rtype: int\n",
    "        \"\"\"\n",
    "        dic = {}\n",
    "        for x in nums:\n",
    "            dic[x] = dic.get(x,0) + 1\n",
    "            if dic[x] > len(nums) / 2:\n",
    "                return x\n",
    "        return -1"
   ]
  },
  {
   "cell_type": "code",
   "execution_count": 3,
   "metadata": {},
   "outputs": [
    {
     "name": "stdout",
     "output_type": "stream",
     "text": [
      "2147483648\n"
     ]
    }
   ],
   "source": [
    "# 2 Bit Manipulation: 出错了, 处理 Input: [-2147483648].\n",
    "# Time: O(32n), space: O(1)\n",
    "class Solution(object): # ??????? ❓\n",
    "    def majorityElement(self, nums):\n",
    "        major, nn = 0, len(nums)\n",
    "        \n",
    "        for i in xrange(32): # ❤️ 逐位处理. \n",
    "            flag = 1 << i\n",
    "            cnt = 0\n",
    "            for x in nums:\n",
    "                if flag & x: cnt += 1\n",
    "            if cnt > nn / 2: major = major | flag\n",
    "        return major\n",
    "    \n",
    "print Solution().majorityElement([-2147483648])"
   ]
  },
  {
   "cell_type": "code",
   "execution_count": null,
   "metadata": {
    "collapsed": true
   },
   "outputs": [],
   "source": [
    "# 3 David & Conquer ❤️❤️❤️👍👍 time: O(n) ~ O(nlogn), spac: O(logn)\n",
    "class Solution(object):\n",
    "    def majorityElement(self, nums):\n",
    "        if not nums: return -1\n",
    "        return self.helper(nums, 0, len(nums) - 1)\n",
    "        \n",
    "    def helper(self, nums, l, r):\n",
    "        # 1 edge condition\n",
    "        if l == r: return nums[l]\n",
    "        \n",
    "        # 2 divide & conquer\n",
    "        mid = l + ((r - l) >> 1) # ❎❎❤️ 必须 ((r - l) >> 1), 不能 (r - l) >> 1. 或者 (r - l) / 2\n",
    "        left = self.helper(nums, l, mid)\n",
    "        right = self.helper(nums, mid+1, r)\n",
    "        \n",
    "        # 3 combine\n",
    "        if left == right: return left      # combine 1\n",
    "        cnt_left = sum(1 for i in xrange(l, r+1) if nums[i] == left) # combine 2\n",
    "        cnt_right = sum(1 for i in xrange(l, r+1) if nums[i] == right)\n",
    "        return left if cnt_left > cnt_right else right"
   ]
  },
  {
   "cell_type": "code",
   "execution_count": null,
   "metadata": {
    "collapsed": true
   },
   "outputs": [],
   "source": [
    "# 4 Sort. Time: O(nlogn), space: O(1)\n",
    "class Solution(object):\n",
    "    def majorityElement(self, nums):\n",
    "        return sorted(nums)[len(nums)/2]"
   ]
  },
  {
   "cell_type": "markdown",
   "metadata": {},
   "source": [
    "### [229.medium-Majority Element II](https://leetcode.com/problems/majority-element-ii/description/)\n",
    "##### 题意: 给定 interger of size n, 找到出现过超过  $floor\\left(\\frac{n}{3}\\right)$ 次 的元素.\n",
    "* 要求: linear time and in O(1) space.\n",
    "\n",
    "##### 分析\n",
    "* Moore Voting.\n",
    "    * 有点复杂 https://www.youtube.com/watch?v=fTrgKqyiazA&t=157s\n",
    "    * Leetcode 答案: https://leetcode.com/problems/majority-element-ii/discuss/63520/Boyer-Moore-Majority-Vote-algorithm-and-my-elaboration\n",
    "* Hash table: \n",
    "\n",
    "##### 编程经验总结\n",
    "```python\n",
    "# ❤️ 体会 if elif 和 if if 的区别.\n",
    "# 1 关联的: if elif 只有在 if 不执行的情况下, 才执行 elif 语句.\n",
    "if x == num1: \n",
    "    cnt1 += 1\n",
    "elif x == num2:\n",
    "    cnt2 += 1\n",
    "    \n",
    "# 2 独立的: if 和 if 需要独立分别地去判断. \n",
    "if x == num1: \n",
    "    cnt1 += 1\n",
    "if x == num2:\n",
    "    cnt2 += 1\n",
    "```"
   ]
  },
  {
   "cell_type": "code",
   "execution_count": null,
   "metadata": {
    "collapsed": true
   },
   "outputs": [],
   "source": [
    "# Moore Voting, 太复杂了吧.\n",
    "class Solution(object):\n",
    "    def majorityElement(self, nums):\n",
    "        \"\"\"\n",
    "        :type nums: List[int]\n",
    "        :rtype: List[int]\n",
    "        \"\"\"\n",
    "        if not nums: return []\n",
    "        \n",
    "        nn = len(nums)\n",
    "        cnt1 = num1 = cnt2 = num2 = 0\n",
    "        for x in nums: # ❤️❤️ 关键代码不烦.\n",
    "            if x == num1: # ❎❎❤️❤️ 头两个条件 和 第3,4个条件不能颠倒顺序, 否则将出现严重的错误. 比如 [7,7].\n",
    "                cnt1 += 1\n",
    "            elif x == num2:\n",
    "                cnt2 += 1\n",
    "            elif cnt1 == 0:\n",
    "                num1 = x\n",
    "                cnt1 = 1\n",
    "            elif cnt2 == 0:\n",
    "                num2 = x\n",
    "                cnt2 = 1\n",
    "            else:\n",
    "                cnt1 -= 1\n",
    "                cnt2 -= 1\n",
    "        \n",
    "        rst = []\n",
    "        cnt1 = cnt2 = 0\n",
    "        for x in nums:\n",
    "            if x == num1: cnt1 += 1\n",
    "            elif x == num2: cnt2 += 1\n",
    "                \n",
    "        if cnt1 > nn/3: rst.append(num1)\n",
    "        if cnt2 > nn/3: rst.append(num2)\n",
    "        return rst"
   ]
  },
  {
   "cell_type": "code",
   "execution_count": null,
   "metadata": {
    "collapsed": true
   },
   "outputs": [],
   "source": [
    "# 1 Hash table. time & space: O(n)\n",
    "class Solution(object):\n",
    "    def majorityElement(self, nums):\n",
    "        rst, dic, nn = {}, {}, len(nums) # ❤️❤️ rst = {} 的原因是为了避免重复\n",
    "        for x in nums:\n",
    "            dic[x] = dic.get(x,0) + 1\n",
    "            if dic[x] > nn / 3 and x not in rst: rst[x] = 1 # 第二个条件是为了避免重复 \n",
    "        return rst.keys()"
   ]
  },
  {
   "cell_type": "markdown",
   "metadata": {},
   "source": [
    "### [78.medium-Subsets](https://leetcode.com/problems/subsets/description/)\n",
    "##### 题意\n",
    "##### 分析\n",
    "##### 总结"
   ]
  },
  {
   "cell_type": "markdown",
   "metadata": {},
   "source": [
    "## []()\n",
    "##### 题意\n",
    "##### 分析\n",
    "##### 总结"
   ]
  },
  {
   "cell_type": "markdown",
   "metadata": {},
   "source": [
    "## []()\n",
    "##### 题意\n",
    "##### 分析\n",
    "##### 总结"
   ]
  },
  {
   "cell_type": "markdown",
   "metadata": {},
   "source": [
    "## []()\n",
    "##### 题意\n",
    "##### 分析\n",
    "##### 总结"
   ]
  },
  {
   "cell_type": "markdown",
   "metadata": {},
   "source": [
    "## []()\n",
    "##### 题意\n",
    "##### 分析\n",
    "##### 总结"
   ]
  },
  {
   "cell_type": "markdown",
   "metadata": {},
   "source": [
    "## []()\n",
    "##### 题意\n",
    "##### 分析\n",
    "##### 总结"
   ]
  },
  {
   "cell_type": "markdown",
   "metadata": {},
   "source": [
    "## []()\n",
    "##### 题意\n",
    "##### 分析\n",
    "##### 总结"
   ]
  },
  {
   "cell_type": "markdown",
   "metadata": {},
   "source": [
    "## []()\n",
    "##### 题意\n",
    "##### 分析\n",
    "##### 总结"
   ]
  },
  {
   "cell_type": "markdown",
   "metadata": {},
   "source": [
    "## []()\n",
    "##### 题意\n",
    "##### 分析\n",
    "##### 总结"
   ]
  }
 ],
 "metadata": {
  "kernelspec": {
   "display_name": "Python 2",
   "language": "python",
   "name": "python2"
  },
  "language_info": {
   "codemirror_mode": {
    "name": "ipython",
    "version": 2
   },
   "file_extension": ".py",
   "mimetype": "text/x-python",
   "name": "python",
   "nbconvert_exporter": "python",
   "pygments_lexer": "ipython2",
   "version": "2.7.13"
  },
  "toc": {
   "nav_menu": {},
   "number_sections": true,
   "sideBar": true,
   "skip_h1_title": true,
   "toc_cell": true,
   "toc_position": {
    "height": "642px",
    "left": "0px",
    "right": "1084.28px",
    "top": "67px",
    "width": "234px"
   },
   "toc_section_display": "block",
   "toc_window_display": true
  }
 },
 "nbformat": 4,
 "nbformat_minor": 2
}

{
 "cells": [
  {
   "cell_type": "markdown",
   "metadata": {},
   "source": [
    "# 1. Two Sum（easy）\n",
    "### 链接\n",
    "\n",
    "* 题目：https://leetcode.com/problems/two-sum/description/\n",
    "\n",
    "### 题意\n",
    "找出数组中两个数之和等于 target，返回 index，假设只有一组\n",
    "\n",
    "### 分析\n",
    "* 方法一：hash-table，只需要一层搜索，复杂度应该是 O(n)。\n",
    "\n",
    "### 编程经验\n",
    "\n",
    "```python\n",
    "```"
   ]
  },
  {
   "cell_type": "markdown",
   "metadata": {},
   "source": [
    "# Method # 1 --- hash table"
   ]
  },
  {
   "cell_type": "code",
   "execution_count": 2,
   "metadata": {
    "collapsed": false
   },
   "outputs": [
    {
     "name": "stdout",
     "output_type": "stream",
     "text": [
      "[0, 1]\n"
     ]
    }
   ],
   "source": [
    "class Solution(object):\n",
    "    def twoSum(self, nums, target):\n",
    "        \"\"\"\n",
    "        :type nums: List[int]\n",
    "        :type target: int\n",
    "        :rtype: List[int]\n",
    "        \"\"\"\n",
    "        if len(nums) < 2:\n",
    "            return []\n",
    "  \n",
    "        tmp = {}\n",
    "        for i, x in enumerate (nums):\n",
    "            # target - x ------- \n",
    "            if target - x in tmp:\n",
    "            # --------------------\n",
    "                return [ tmp[target-x], i ]\n",
    "            else:\n",
    "                tmp[x] = i\n",
    "    \n",
    "#  Testing ----\n",
    "if __name__ == '__main__':\n",
    "    print Solution().twoSum ( [2, 7, 11, 15], 9 ) "
   ]
  },
  {
   "cell_type": "markdown",
   "metadata": {},
   "source": [
    "# Method # 1.1 --- hash table"
   ]
  },
  {
   "cell_type": "code",
   "execution_count": 6,
   "metadata": {
    "collapsed": true
   },
   "outputs": [],
   "source": [
    "class Solution_2 (object):\n",
    "    def twoSum(self, nums, target):\n",
    "        \"\"\"\n",
    "        :type nums: List[int]\n",
    "        :type target: int\n",
    "        :rtype: List[int]\n",
    "        \"\"\"\n",
    "        if len(nums) < 2:\n",
    "            return []\n",
    "        \n",
    "        tmp = {}\n",
    "        for i, x in enumerate (nums):\n",
    "            try:\n",
    "                return [ tmp[target-x], i]\n",
    "            except:\n",
    "                tmp[x]  = i "
   ]
  },
  {
   "cell_type": "code",
   "execution_count": 7,
   "metadata": {
    "collapsed": false
   },
   "outputs": [
    {
     "name": "stdout",
     "output_type": "stream",
     "text": [
      "[0, 1]\n"
     ]
    }
   ],
   "source": [
    "#  Testing ----\n",
    "if __name__ == '__main__':\n",
    "    print Solution_2 ().twoSum ( [2, 7, 11, 15], 9 ) "
   ]
  }
 ],
 "metadata": {
  "kernelspec": {
   "display_name": "Python 2",
   "language": "python",
   "name": "python2"
  },
  "language_info": {
   "codemirror_mode": {
    "name": "ipython",
    "version": 2
   },
   "file_extension": ".py",
   "mimetype": "text/x-python",
   "name": "python",
   "nbconvert_exporter": "python",
   "pygments_lexer": "ipython2",
   "version": "2.7.13"
  }
 },
 "nbformat": 4,
 "nbformat_minor": 2
}

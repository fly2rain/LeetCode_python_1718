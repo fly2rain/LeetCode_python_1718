{
 "cells": [
  {
   "cell_type": "markdown",
   "metadata": {
    "toc": true
   },
   "source": [
    "<h1>Table of Contents<span class=\"tocSkip\"></span></h1>\n",
    "<div class=\"toc\" style=\"margin-top: 1em;\"><ul class=\"toc-item\"><li><span><a href=\"#K-means\" data-toc-modified-id=\"K-means-1\"><span class=\"toc-item-num\">1&nbsp;&nbsp;</span><a href=\"http://jonchar.net/notebooks/k-means/\" target=\"_blank\">K-means</a></a></span></li><li><span><a href=\"#Your-First-Machine-Learning-Project-in-Python-Step-By-Step\" data-toc-modified-id=\"Your-First-Machine-Learning-Project-in-Python-Step-By-Step-2\"><span class=\"toc-item-num\">2&nbsp;&nbsp;</span><a href=\"https://machinelearningmastery.com/machine-learning-in-python-step-by-step/\" target=\"_blank\">Your First Machine Learning Project in Python Step-By-Step</a></a></span><ul class=\"toc-item\"><li><span><a href=\"#Load-The-Data\" data-toc-modified-id=\"Load-The-Data-2.1\"><span class=\"toc-item-num\">2.1&nbsp;&nbsp;</span>Load The Data</a></span><ul class=\"toc-item\"><li><span><a href=\"#Import-libraries\" data-toc-modified-id=\"Import-libraries-2.1.1\"><span class=\"toc-item-num\">2.1.1&nbsp;&nbsp;</span>Import libraries</a></span></li><li><span><a href=\"#Load-Dataset\" data-toc-modified-id=\"Load-Dataset-2.1.2\"><span class=\"toc-item-num\">2.1.2&nbsp;&nbsp;</span>Load Dataset</a></span></li></ul></li><li><span><a href=\"#Data-Visualization\" data-toc-modified-id=\"Data-Visualization-2.2\"><span class=\"toc-item-num\">2.2&nbsp;&nbsp;</span>Data Visualization</a></span></li><li><span><a href=\"#Class-Distribution\" data-toc-modified-id=\"Class-Distribution-2.3\"><span class=\"toc-item-num\">2.3&nbsp;&nbsp;</span>Class Distribution</a></span></li><li><span><a href=\"#Play-with-Pandas-and-DataFrame\" data-toc-modified-id=\"Play-with-Pandas-and-DataFrame-2.4\"><span class=\"toc-item-num\">2.4&nbsp;&nbsp;</span>Play with Pandas and DataFrame</a></span></li><li><span><a href=\"#Data-Visualization\" data-toc-modified-id=\"Data-Visualization-2.5\"><span class=\"toc-item-num\">2.5&nbsp;&nbsp;</span>Data Visualization</a></span><ul class=\"toc-item\"><li><span><a href=\"#Univariate-Plots\" data-toc-modified-id=\"Univariate-Plots-2.5.1\"><span class=\"toc-item-num\">2.5.1&nbsp;&nbsp;</span>Univariate Plots</a></span></li></ul></li><li><span><a href=\"#Evaluate-Some-Algorithms\" data-toc-modified-id=\"Evaluate-Some-Algorithms-2.6\"><span class=\"toc-item-num\">2.6&nbsp;&nbsp;</span>Evaluate Some Algorithms</a></span><ul class=\"toc-item\"><li><span><a href=\"#Create-a-Validation-Dataset\" data-toc-modified-id=\"Create-a-Validation-Dataset-2.6.1\"><span class=\"toc-item-num\">2.6.1&nbsp;&nbsp;</span>Create a Validation Dataset</a></span></li><li><span><a href=\"#Test-the-Methods\" data-toc-modified-id=\"Test-the-Methods-2.6.2\"><span class=\"toc-item-num\">2.6.2&nbsp;&nbsp;</span>Test the Methods</a></span></li><li><span><a href=\"#Build-Models\" data-toc-modified-id=\"Build-Models-2.6.3\"><span class=\"toc-item-num\">2.6.3&nbsp;&nbsp;</span>Build Models</a></span></li><li><span><a href=\"#Select-Best-Model\" data-toc-modified-id=\"Select-Best-Model-2.6.4\"><span class=\"toc-item-num\">2.6.4&nbsp;&nbsp;</span>Select Best Model</a></span></li></ul></li></ul></li></ul></div>"
   ]
  },
  {
   "cell_type": "markdown",
   "metadata": {},
   "source": [
    "## [K-means](http://jonchar.net/notebooks/k-means/)\n",
    "\n",
    "The algorithm goes like this:\n",
    "* Initialize the  $k$  cluster centroids.\n",
    "* Repeat:\n",
    "    * Cluster assignment: Assign each data point to the nearest cluster centroid.\n",
    "     $$c^{(i)} = argmin_{k} \\left\\lVert x^{(i)} - \\mu_k\\right\\rVert^2$$\n",
    "    * Cluster updating: For each cluster centroid, average the locations of it's corresponding points and re-assign the centroid to that location.\n",
    "    $$\\mu_k = \\frac{1}{n}[x^{(k_1)}+x^{(k_2)}+...+x^{(k_n)}]$$"
   ]
  },
  {
   "cell_type": "code",
   "execution_count": 64,
   "metadata": {
    "collapsed": true
   },
   "outputs": [],
   "source": [
    "import numpy as np\n",
    "np.random.seed(0)\n",
    "import matplotlib.pyplot as plt\n",
    "from sklearn.datasets import make_blobs\n",
    "import numpy as np\n",
    "np.random.seed(0)\n",
    "import matplotlib"
   ]
  },
  {
   "cell_type": "code",
   "execution_count": 36,
   "metadata": {
    "collapsed": false
   },
   "outputs": [
    {
     "data": {
      "image/png": "[encoded data removed]",
      "text/plain": [
       "<matplotlib.figure.Figure at 0x112f91a50>"
      ]
     },
     "metadata": {},
     "output_type": "display_data"
    }
   ],
   "source": [
    "# Generate dataset\n",
    "X, y = make_blobs(centers=3, n_samples=500, random_state=1)\n",
    "\n",
    "# Visualize\n",
    "fig, ax = plt.subplots(figsize=(5,4))\n",
    "ax.scatter(X[:,0], X[:,1], alpha=0.5)\n",
    "ax.set_xlabel('$x_1$')\n",
    "ax.set_ylabel('$x_2$');\n",
    "plt.show()"
   ]
  },
  {
   "cell_type": "code",
   "execution_count": 71,
   "metadata": {
    "collapsed": true
   },
   "outputs": [],
   "source": [
    "##### define the functions ---------------------\n",
    "# 1) initialize centers\n",
    "def initlize_cluster(points, k):\n",
    "    \"\"\"Initializes clusters as k randomly selected points from points.\"\"\"\n",
    "    nSmp = points.shape[0]\n",
    "    return points[np.random.randint(nSmp, size=k)] # size can be tuple or ints. \n",
    "\n",
    "# 2) Function for calculating the distance between centroids\n",
    "def get_dist(center, points):\n",
    "    \"\"\"Returns the distance the center is from each data point in points.\"\"\"\n",
    "    dist = np.linalg.norm(points - center, axis=1)  \n",
    "    return dist\n",
    "\n",
    "# 3) Now let's implement K-means using k = 3.\n",
    "def kMeans(X, k, maxIter=100):\n",
    "    nSmp, nFea = X.shape\n",
    "    # 初始化 -----\n",
    "    centers = initlize_cluster(X, k)\n",
    "    classes = np.zeros(nSmp, dtype=np.uint16)\n",
    "    dist = np.zeros((nSmp, k), dtype=np.float64)\n",
    "    \n",
    "    # Loop for the maximum number of iterations\n",
    "    for it in xrange(maxIter): \n",
    "        \n",
    "        # - Step 1: Assign all points to the nearest centroid \n",
    "        for j, c in enumerate(centers): \n",
    "            dist[:,j] = get_dist(c, X)\n",
    "            \n",
    "        # Determine class membership of each point by picking the closest centroid\n",
    "        classes = np.argmin(dist, axis=1)\n",
    "        \n",
    "        # - Step 2: update the centers \n",
    "        for j in xrange(k):\n",
    "            centers[j] = np.mean(X[classes==j], axis=0)\n",
    "    return centers, classes\n",
    "\n",
    "k = 3\n",
    "maxIter = 50\n",
    "centers, classes = kMeans(X, k, maxIter)\n",
    "# print classes"
   ]
  },
  {
   "cell_type": "code",
   "execution_count": 72,
   "metadata": {
    "collapsed": false
   },
   "outputs": [
    {
     "data": {
      "image/png": "[encoded data removed]",
      "text/plain": [
       "<matplotlib.figure.Figure at 0x1124f7b50>"
      ]
     },
     "metadata": {},
     "output_type": "display_data"
    }
   ],
   "source": [
    "## plot the results -----\n",
    "group_colors = [\"skyblue\", \"coral\", \"lightgreen\"]\n",
    "colors = [group_colors[j] for j in classes]\n",
    "\n",
    "fig, ax = plt.subplots(figsize=(5,4))\n",
    "ax.scatter(X[:,0], X[:,1], color=colors, alpha=0.5)\n",
    "ax.scatter(centers[:,0], centers[:,1], color=['blue', 'darkred', 'green'], marker='o', lw=2)\n",
    "ax.set_xlabel(\"$x_0$\")\n",
    "ax.set_ylabel(\"$x_1$\")\n",
    "plt.show()"
   ]
  },
  {
   "cell_type": "code",
   "execution_count": 8,
   "metadata": {
    "collapsed": false
   },
   "outputs": [
    {
     "data": {
      "image/png": "[encoded data removed]",
      "text/plain": [
       "<matplotlib.figure.Figure at 0x111fadf90>"
      ]
     },
     "metadata": {},
     "output_type": "display_data"
    }
   ],
   "source": [
    "\"\"\"\n",
    "=================\n",
    "Multiple subplots\n",
    "=================\n",
    "\n",
    "Simple demo with multiple subplots.\n",
    "\"\"\"\n",
    "import numpy as np\n",
    "import matplotlib.pyplot as plt\n",
    "\n",
    "\n",
    "x1 = np.linspace(0.0, 5.0)\n",
    "x2 = np.linspace(0.0, 2.0)\n",
    "\n",
    "y1 = np.cos(2 * np.pi * x1) * np.exp(-x1)\n",
    "y2 = np.cos(2 * np.pi * x2)\n",
    "\n",
    "plt.subplot(2, 1, 1)\n",
    "plt.plot(x1, y1, 'o-')\n",
    "plt.title('A tale of 2 subplots')\n",
    "plt.ylabel('Damped oscillation')\n",
    "\n",
    "plt.subplot(2, 1, 2)\n",
    "plt.plot(x2, y2, '.-')\n",
    "plt.xlabel('time (s)')\n",
    "plt.ylabel('Undamped')\n",
    "\n",
    "plt.show()"
   ]
  },
  {
   "cell_type": "markdown",
   "metadata": {},
   "source": [
    "## [Your First Machine Learning Project in Python Step-By-Step](https://machinelearningmastery.com/machine-learning-in-python-step-by-step/)"
   ]
  },
  {
   "cell_type": "code",
   "execution_count": 21,
   "metadata": {
    "collapsed": false
   },
   "outputs": [
    {
     "name": "stdout",
     "output_type": "stream",
     "text": [
      "Python: 2.7.13 |Anaconda custom (64-bit)| (default, Dec 20 2016, 23:09:15) \n",
      "[GCC 4.4.7 20120313 (Red Hat 4.4.7-1)]\n",
      "Scipy: 0.19.1\n",
      "Numpy: 1.14.1\n",
      "Pandas: 0.19.2\n",
      "sklearn: 0.18.1\n"
     ]
    }
   ],
   "source": [
    "import sys\n",
    "print(\"Python: {}\".format(sys.version))\n",
    "\n",
    "import scipy \n",
    "print(\"Scipy: {}\".format(scipy.__version__))\n",
    "\n",
    "import numpy as np\n",
    "print(\"Numpy: {}\".format(np.__version__))\n",
    "\n",
    "import pandas\n",
    "print(\"Pandas: {}\".format(pandas.__version__))\n",
    "\n",
    "import sklearn\n",
    "print(\"sklearn: {}\".format(sklearn.__version__))"
   ]
  },
  {
   "cell_type": "markdown",
   "metadata": {},
   "source": [
    "###  Load The Data"
   ]
  },
  {
   "cell_type": "markdown",
   "metadata": {},
   "source": [
    "#### Import libraries"
   ]
  },
  {
   "cell_type": "code",
   "execution_count": 75,
   "metadata": {
    "collapsed": false
   },
   "outputs": [],
   "source": [
    "import pandas\n",
    "import pandas as pd\n",
    "# from pandas.plotting import scatter_matrix\n",
    "import matplotlib.pyplot as plt\n",
    "from sklearn import model_selection\n",
    "from sklearn.metrics import classification_report\n",
    "from sklearn.metrics import confusion_matrix\n",
    "from sklearn.linear_model import LogisticRegression\n",
    "from sklearn.tree import DecisionTreeClassifier\n",
    "from sklearn.neighbors import KNeighborsClassifier\n",
    "from sklearn.discriminant_analysis import LinearDiscriminantAnalysis\n",
    "from sklearn.naive_bayes import GaussianNB\n",
    "from sklearn.svm import SVC"
   ]
  },
  {
   "cell_type": "markdown",
   "metadata": {},
   "source": [
    "#### Load Dataset"
   ]
  },
  {
   "cell_type": "code",
   "execution_count": 62,
   "metadata": {
    "collapsed": false
   },
   "outputs": [],
   "source": [
    "# load dataset\n",
    "url = \"https://archive.ics.uci.edu/ml/machine-learning-databases/iris/iris.data\"\n",
    "names = ['sepal-length', 'sepal-width', 'petal-length', 'petal-width', 'class']\n",
    "dataset = pandas.read_csv(url, names=names) # name 是每一列的变量的名字."
   ]
  },
  {
   "cell_type": "markdown",
   "metadata": {},
   "source": [
    "### Data Visualization"
   ]
  },
  {
   "cell_type": "code",
   "execution_count": 66,
   "metadata": {
    "collapsed": false
   },
   "outputs": [
    {
     "name": "stdout",
     "output_type": "stream",
     "text": [
      "(150, 5)\n",
      "<class 'pandas.core.frame.DataFrame'>\n"
     ]
    }
   ],
   "source": [
    "print dataset.shape\n",
    "print type(dataset)"
   ]
  },
  {
   "cell_type": "code",
   "execution_count": 46,
   "metadata": {
    "collapsed": false
   },
   "outputs": [
    {
     "name": "stdout",
     "output_type": "stream",
     "text": [
      "   sepal-length  sepal-width  petal-length  petal-width        class\n",
      "0           5.1          3.5           1.4          0.2  Iris-setosa\n",
      "1           4.9          3.0           1.4          0.2  Iris-setosa\n",
      "2           4.7          3.2           1.3          0.2  Iris-setosa\n",
      "3           4.6          3.1           1.5          0.2  Iris-setosa\n",
      "4           5.0          3.6           1.4          0.2  Iris-setosa\n",
      "5           5.4          3.9           1.7          0.4  Iris-setosa\n",
      "6           4.6          3.4           1.4          0.3  Iris-setosa\n",
      "7           5.0          3.4           1.5          0.2  Iris-setosa\n",
      "8           4.4          2.9           1.4          0.2  Iris-setosa\n",
      "9           4.9          3.1           1.5          0.1  Iris-setosa\n"
     ]
    }
   ],
   "source": [
    "print dataset.head(10) # peek the first 10 samples. "
   ]
  },
  {
   "cell_type": "code",
   "execution_count": 61,
   "metadata": {
    "collapsed": false
   },
   "outputs": [
    {
     "name": "stdout",
     "output_type": "stream",
     "text": [
      "       sepal-length  sepal-width  petal-length  petal-width\n",
      "count    150.000000   150.000000    150.000000   150.000000\n",
      "mean       5.843333     3.054000      3.758667     1.198667\n",
      "std        0.828066     0.433594      1.764420     0.763161\n",
      "min        4.300000     2.000000      1.000000     0.100000\n",
      "25%        5.100000     2.800000      1.600000     0.300000\n",
      "50%        5.800000     3.000000      4.350000     1.300000\n",
      "75%        6.400000     3.300000      5.100000     1.800000\n",
      "max        7.900000     4.400000      6.900000     2.500000\n"
     ]
    }
   ],
   "source": [
    "print dataset.describe()"
   ]
  },
  {
   "cell_type": "markdown",
   "metadata": {},
   "source": [
    "### Class Distribution"
   ]
  },
  {
   "cell_type": "code",
   "execution_count": 54,
   "metadata": {
    "collapsed": false
   },
   "outputs": [
    {
     "name": "stdout",
     "output_type": "stream",
     "text": [
      "class\n",
      "Iris-setosa        50\n",
      "Iris-versicolor    50\n",
      "Iris-virginica     50\n",
      "dtype: int64\n"
     ]
    }
   ],
   "source": [
    "print dataset.groupby(\"class\").size() # 是根据 “class” 总结信息."
   ]
  },
  {
   "cell_type": "markdown",
   "metadata": {},
   "source": [
    "### Play with Pandas and DataFrame"
   ]
  },
  {
   "cell_type": "code",
   "execution_count": 58,
   "metadata": {
    "collapsed": false
   },
   "outputs": [
    {
     "data": {
      "text/html": [
       "<div>\n",
       "<table border=\"1\" class=\"dataframe\">\n",
       "  <thead>\n",
       "    <tr style=\"text-align: right;\">\n",
       "      <th></th>\n",
       "      <th>0</th>\n",
       "      <th>1</th>\n",
       "      <th>2</th>\n",
       "    </tr>\n",
       "  </thead>\n",
       "  <tbody>\n",
       "    <tr>\n",
       "      <th>count</th>\n",
       "      <td>5.000000</td>\n",
       "      <td>5.000000</td>\n",
       "      <td>5.000000</td>\n",
       "    </tr>\n",
       "    <tr>\n",
       "      <th>mean</th>\n",
       "      <td>0.846274</td>\n",
       "      <td>0.720572</td>\n",
       "      <td>0.109503</td>\n",
       "    </tr>\n",
       "    <tr>\n",
       "      <th>std</th>\n",
       "      <td>0.633334</td>\n",
       "      <td>1.617890</td>\n",
       "      <td>1.504007</td>\n",
       "    </tr>\n",
       "    <tr>\n",
       "      <th>min</th>\n",
       "      <td>0.347878</td>\n",
       "      <td>-1.430095</td>\n",
       "      <td>-1.630992</td>\n",
       "    </tr>\n",
       "    <tr>\n",
       "      <th>25%</th>\n",
       "      <td>0.485809</td>\n",
       "      <td>-0.473345</td>\n",
       "      <td>-1.044252</td>\n",
       "    </tr>\n",
       "    <tr>\n",
       "      <th>50%</th>\n",
       "      <td>0.636685</td>\n",
       "      <td>1.201163</td>\n",
       "      <td>-0.031144</td>\n",
       "    </tr>\n",
       "    <tr>\n",
       "      <th>75%</th>\n",
       "      <td>0.827601</td>\n",
       "      <td>1.943684</td>\n",
       "      <td>1.450046</td>\n",
       "    </tr>\n",
       "    <tr>\n",
       "      <th>max</th>\n",
       "      <td>1.933397</td>\n",
       "      <td>2.361455</td>\n",
       "      <td>1.803858</td>\n",
       "    </tr>\n",
       "  </tbody>\n",
       "</table>\n",
       "</div>"
      ],
      "text/plain": [
       "              0         1         2\n",
       "count  5.000000  5.000000  5.000000\n",
       "mean   0.846274  0.720572  0.109503\n",
       "std    0.633334  1.617890  1.504007\n",
       "min    0.347878 -1.430095 -1.630992\n",
       "25%    0.485809 -0.473345 -1.044252\n",
       "50%    0.636685  1.201163 -0.031144\n",
       "75%    0.827601  1.943684  1.450046\n",
       "max    1.933397  2.361455  1.803858"
      ]
     },
     "execution_count": 58,
     "metadata": {},
     "output_type": "execute_result"
    }
   ],
   "source": [
    "\n",
    "# play with \"pandas\" and \"DataFrame\"\n",
    "from pandas import DataFrame\n",
    "df = DataFrame(np.random.randn(5, 3))\n",
    "df.describe()"
   ]
  },
  {
   "cell_type": "markdown",
   "metadata": {},
   "source": [
    "###  Data Visualization"
   ]
  },
  {
   "cell_type": "markdown",
   "metadata": {},
   "source": [
    "#### Univariate Plots"
   ]
  },
  {
   "cell_type": "code",
   "execution_count": 63,
   "metadata": {
    "collapsed": false
   },
   "outputs": [
    {
     "data": {
      "image/png": "[encoded data removed]",
      "text/plain": [
       "<Figure size 432x288 with 4 Axes>"
      ]
     },
     "metadata": {},
     "output_type": "display_data"
    }
   ],
   "source": [
    "# box and whisker plots\n",
    "dataset.plot(kind=\"box\", subplots=True, layout=(2,2), sharex=False, sharey=False)\n",
    "plt.show()"
   ]
  },
  {
   "cell_type": "code",
   "execution_count": 64,
   "metadata": {
    "collapsed": false
   },
   "outputs": [
    {
     "data": {
      "image/png": "[encoded data removed]",
      "text/plain": [
       "<Figure size 432x288 with 4 Axes>"
      ]
     },
     "metadata": {},
     "output_type": "display_data"
    }
   ],
   "source": [
    "# histograms\n",
    "dataset.hist()\n",
    "plt.show()"
   ]
  },
  {
   "cell_type": "code",
   "execution_count": 76,
   "metadata": {
    "collapsed": false
   },
   "outputs": [
    {
     "ename": "NameError",
     "evalue": "name 'scatter_matrix' is not defined",
     "output_type": "error",
     "traceback": [
      "\u001b[0;31m---------------------------------------------------------------------------\u001b[0m",
      "\u001b[0;31mNameError\u001b[0m                                 Traceback (most recent call last)",
      "\u001b[0;32m<ipython-input-76-e686e05d4806>\u001b[0m in \u001b[0;36m<module>\u001b[0;34m()\u001b[0m\n\u001b[1;32m      1\u001b[0m \u001b[0;31m# scatter plot matrix\u001b[0m\u001b[0;34m\u001b[0m\u001b[0;34m\u001b[0m\u001b[0m\n\u001b[0;32m----> 2\u001b[0;31m \u001b[0mscatter_matrix\u001b[0m\u001b[0;34m(\u001b[0m\u001b[0mdataset\u001b[0m\u001b[0;34m)\u001b[0m\u001b[0;34m\u001b[0m\u001b[0m\n\u001b[0m\u001b[1;32m      3\u001b[0m \u001b[0mplt\u001b[0m\u001b[0;34m.\u001b[0m\u001b[0mshow\u001b[0m\u001b[0;34m(\u001b[0m\u001b[0;34m)\u001b[0m\u001b[0;34m\u001b[0m\u001b[0m\n",
      "\u001b[0;31mNameError\u001b[0m: name 'scatter_matrix' is not defined"
     ]
    }
   ],
   "source": [
    "# scatter plot matrix\n",
    "scatter_matrix(dataset)\n",
    "plt.show()"
   ]
  },
  {
   "cell_type": "markdown",
   "metadata": {},
   "source": [
    "### Evaluate Some Algorithms"
   ]
  },
  {
   "cell_type": "markdown",
   "metadata": {},
   "source": [
    "#### Create a Validation Dataset"
   ]
  },
  {
   "cell_type": "code",
   "execution_count": 93,
   "metadata": {
    "collapsed": false
   },
   "outputs": [],
   "source": [
    "# split out validataion dataset\n",
    "array = dataset.values # 没有括号\n",
    "X = array[:, 0:4]\n",
    "Y = array[:, 4]\n",
    "validataion_size = 0.20\n",
    "seed = 7\n",
    "Xtr, Xvali, Ytr, Yvali = model_selection.train_test_split(X, Y, \\\n",
    "                        test_size=validataion_size, random_state=seed)"
   ]
  },
  {
   "cell_type": "markdown",
   "metadata": {},
   "source": [
    "#### Test the Methods"
   ]
  },
  {
   "cell_type": "code",
   "execution_count": 103,
   "metadata": {
    "collapsed": true
   },
   "outputs": [],
   "source": [
    "# Test options and evalution metric\n",
    "seed = 7\n",
    "scoring = \"accuracy\""
   ]
  },
  {
   "cell_type": "markdown",
   "metadata": {},
   "source": [
    "#### Build Models"
   ]
  },
  {
   "cell_type": "code",
   "execution_count": 109,
   "metadata": {
    "collapsed": false
   },
   "outputs": [],
   "source": [
    "# The methods to be checked\n",
    "models = []\n",
    "models.append((\"LR\", LogisticRegression()))\n",
    "models.append((\"LDA\", LinearDiscriminantAnalysis()))\n",
    "models.append((\"KNN\", KNeighborsClassifier()))\n",
    "models.append((\"DecisionTree\", DecisionTreeClassifier()))\n",
    "models.append((\"NB\", GaussianNB()))\n",
    "models.append((\"SVM\", SVC()))"
   ]
  },
  {
   "cell_type": "code",
   "execution_count": 113,
   "metadata": {
    "collapsed": false
   },
   "outputs": [
    {
     "name": "stdout",
     "output_type": "stream",
     "text": [
      "LR: 0.966667 (0.040825)\n",
      "LDA: 0.975000 (0.038188)\n",
      "KNN: 0.983333 (0.033333)\n",
      "DecisionTree: 0.975000 (0.038188)\n",
      "NB: 0.975000 (0.053359)\n",
      "SVM: 0.991667 (0.025000)\n"
     ]
    }
   ],
   "source": [
    "# evaluate each model in turn\n",
    "rsts = []\n",
    "names = []\n",
    "for name, model in models:\n",
    "    kfold = model_selection.KFold(n_splits=10, random_state=seed)\n",
    "    cv_rst = model_selection.cross_val_score(model, Xtr, Ytr, \\\n",
    "                                cv=kfold, scoring=scoring)\n",
    "    rsts.append(cv_rst)\n",
    "    names.append(name)\n",
    "    msg = \"%s: %f (%f)\" % (name, cv_rst.mean(), cv_rst.std())\n",
    "    print msg"
   ]
  },
  {
   "cell_type": "markdown",
   "metadata": {},
   "source": [
    "#### Select Best Model"
   ]
  },
  {
   "cell_type": "code",
   "execution_count": null,
   "metadata": {
    "collapsed": true
   },
   "outputs": [],
   "source": [
    "# compare the algorithms\n",
    "fig = plt.figure()\n",
    "fig.suptitle(\"Algorithm Comparison\")\n"
   ]
  }
 ],
 "metadata": {
  "kernelspec": {
   "display_name": "Python 2",
   "language": "python",
   "name": "python2"
  },
  "language_info": {
   "codemirror_mode": {
    "name": "ipython",
    "version": 2
   },
   "file_extension": ".py",
   "mimetype": "text/x-python",
   "name": "python",
   "nbconvert_exporter": "python",
   "pygments_lexer": "ipython2",
   "version": "2.7.13"
  },
  "latex_envs": {
   "LaTeX_envs_menu_present": true,
   "autocomplete": true,
   "bibliofile": "biblio.bib",
   "cite_by": "apalike",
   "current_citInitial": 1,
   "eqLabelWithNumbers": true,
   "eqNumInitial": 1,
   "hotkeys": {
    "equation": "Ctrl-E",
    "itemize": "Ctrl-I"
   },
   "labels_anchors": false,
   "latex_user_defs": false,
   "report_style_numbering": false,
   "user_envs_cfg": false
  },
  "toc": {
   "nav_menu": {},
   "number_sections": true,
   "sideBar": false,
   "skip_h1_title": true,
   "toc_cell": true,
   "toc_position": {
    "height": "323px",
    "left": "1021px",
    "right": "960.369px",
    "top": "107px",
    "width": "162px"
   },
   "toc_section_display": "block",
   "toc_window_display": true
  }
 },
 "nbformat": 4,
 "nbformat_minor": 2
}

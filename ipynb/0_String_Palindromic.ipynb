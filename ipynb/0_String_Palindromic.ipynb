{
 "cells": [
  {
   "cell_type": "markdown",
   "metadata": {
    "toc": true
   },
   "source": [
    "<h1>Table of Contents<span class=\"tocSkip\"></span></h1>\n",
    "<div class=\"toc\" style=\"margin-top: 1em;\"><ul class=\"toc-item\"><li><span><a href=\"#005.-Longest-Palindromic-Substring-(Medium)\" data-toc-modified-id=\"005.-Longest-Palindromic-Substring-(Medium)-1\"><span class=\"toc-item-num\">1&nbsp;&nbsp;</span>005. Longest Palindromic Substring (Medium)</a></span><ul class=\"toc-item\"><li><span><a href=\"#Alg:-(Longest-Common-Substring)-[Accepted]\" data-toc-modified-id=\"Alg:-(Longest-Common-Substring)-[Accepted]-1.1\"><span class=\"toc-item-num\">1.1&nbsp;&nbsp;</span>Alg: (Longest Common Substring) [Accepted]</a></span></li><li><span><a href=\"#Alg:-(Brute-Force)-[Time-Limit-Exceeded]\" data-toc-modified-id=\"Alg:-(Brute-Force)-[Time-Limit-Exceeded]-1.2\"><span class=\"toc-item-num\">1.2&nbsp;&nbsp;</span>Alg: (Brute Force) [Time Limit Exceeded]</a></span></li><li><span><a href=\"#Alg:-(重要-Dynamic-Programming)-[Accepted]\" data-toc-modified-id=\"Alg:-(重要-Dynamic-Programming)-[Accepted]-1.3\"><span class=\"toc-item-num\">1.3&nbsp;&nbsp;</span>Alg: (重要-Dynamic Programming) [Accepted]</a></span><ul class=\"toc-item\"><li><span><a href=\"#未搞定\" data-toc-modified-id=\"未搞定-1.3.1\"><span class=\"toc-item-num\">1.3.1&nbsp;&nbsp;</span>未搞定</a></span></li><li><span><a href=\"#Extend:-DP-to-find-the-longest-common-substrings-&amp;--longest-common-subsequences-of-two-strings\" data-toc-modified-id=\"Extend:-DP-to-find-the-longest-common-substrings-&amp;--longest-common-subsequences-of-two-strings-1.3.2\"><span class=\"toc-item-num\">1.3.2&nbsp;&nbsp;</span>Extend: DP to find the <span class=\"girk\">longest common substrings</span> &amp;  <span class=\"girk\">longest common subsequences</span> of two strings</a></span></li></ul></li><li><span><a href=\"#Alg:-(Expand-Around-Center)-[Accepted]\" data-toc-modified-id=\"Alg:-(Expand-Around-Center)-[Accepted]-1.4\"><span class=\"toc-item-num\">1.4&nbsp;&nbsp;</span>Alg: (Expand Around Center) [Accepted]</a></span></li><li><span><a href=\"#补充知识\" data-toc-modified-id=\"补充知识-1.5\"><span class=\"toc-item-num\">1.5&nbsp;&nbsp;</span>补充知识</a></span><ul class=\"toc-item\"><li><span><a href=\"#palindrome-string-or-not\" data-toc-modified-id=\"palindrome-string-or-not-1.5.1\"><span class=\"toc-item-num\">1.5.1&nbsp;&nbsp;</span>palindrome string or not</a></span></li></ul></li></ul></li><li><span><a href=\"#266.-Palindrome-Permutation-(easy)\" data-toc-modified-id=\"266.-Palindrome-Permutation-(easy)-2\"><span class=\"toc-item-num\">2&nbsp;&nbsp;</span>266. Palindrome Permutation (easy)</a></span></li><li><span><a href=\"#409.-Longest-Palindrome-(easy)\" data-toc-modified-id=\"409.-Longest-Palindrome-(easy)-3\"><span class=\"toc-item-num\">3&nbsp;&nbsp;</span>409. Longest Palindrome (easy)</a></span></li><li><span><a href=\"#待解决-516.-Longest-Palindromic-Subsequence-(Medium)\" data-toc-modified-id=\"待解决-516.-Longest-Palindromic-Subsequence-(Medium)-4\"><span class=\"toc-item-num\">4&nbsp;&nbsp;</span>待解决 516. Longest Palindromic Subsequence (Medium)</a></span></li><li><span><a href=\"#647.-Palindromic-Substrings-(Medium)\" data-toc-modified-id=\"647.-Palindromic-Substrings-(Medium)-5\"><span class=\"toc-item-num\">5&nbsp;&nbsp;</span>647. Palindromic Substrings (Medium)</a></span></li></ul></div>"
   ]
  },
  {
   "cell_type": "markdown",
   "metadata": {},
   "source": [
    "# String Palindromic 问题总结"
   ]
  },
  {
   "cell_type": "markdown",
   "metadata": {},
   "source": [
    "## 005. Longest Palindromic Substring (Medium)\n",
    "\n",
    "##### INFO\n",
    "* Link: https://leetcode.com/problems/longest-palindromic-substring/description/\n",
    "* 题意: 确定最长回文substring.\n",
    "* 扩展: 题意比较明确, 可能的扩展是对 $K (K\\geq 2)$ strings 求最长回文.\n",
    "\n",
    "##### 思路\n",
    "* 中间往两边扩展, 利用了回文中间对称的性质.\n",
    "\n",
    "##### 关于 Palindromic 回文问题的资源:\n",
    "* 标准答案: https://leetcode.com/problems/longest-palindromic-substring/solution/\n",
    "* **Longest common substring problem**: https://en.wikipedia.org/wiki/Longest_common_substring_problem. \n",
    "    * 可以用 DP 求解, 上述链接给了一个很好的例子. \n",
    "    \n",
    "* A generalization is the k-common substring problem."
   ]
  },
  {
   "cell_type": "markdown",
   "metadata": {},
   "source": [
    "### Alg: (Longest Common Substring) [Accepted]"
   ]
  },
  {
   "cell_type": "markdown",
   "metadata": {},
   "source": [
    "### Alg: (Brute Force) [Time Limit Exceeded]\n",
    "* 取所有可能的substring, inference whether it is a Palindromic\n",
    "* $O(N^3)$ time, constant space."
   ]
  },
  {
   "cell_type": "markdown",
   "metadata": {},
   "source": [
    "### Alg: (重要-Dynamic Programming) [Accepted]\n",
    "#### 未搞定\n",
    "\n",
    "#### Extend: DP to find the <span class=\"girk\">longest common substrings</span> &  <span class=\"girk\">longest common subsequences</span> of two strings\n",
    "* The difference between <span class=\"girk\">longest common substrings</span> & <span class=\"girk\">longest common subsequences</span>. \n",
    "    * longest common substrings 两个条件: common + continues\n",
    "    * longest common subsequences 一个条件: common + in the <span class=\"girk\">same relative order</span> + <span class=\"girk\">not necessarily contiguous</span>. https://www.geeksforgeeks.org/longest-common-subsequence/\n",
    "    \n",
    "* Example of two strings A = 'abcdaf', B = 'zbcdf'\n",
    "    * longest common substrings: 'bcd'\n",
    "    * longest common subsequences: 'bcdf'\n",
    "\n",
    "##### Extend #1: DP to find <span class=\"girk\">longest substrings</span> \n",
    "* Ref the figure and the algorithm in the DP part in the page https://en.wikipedia.org/wiki/Longest_common_substring_problem\n",
    "* Youtube tutorial (重要): https://www.youtube.com/watch?v=BysNXJHzCEs"
   ]
  },
  {
   "cell_type": "code",
   "execution_count": 24,
   "metadata": {},
   "outputs": [
    {
     "name": "stdout",
     "output_type": "stream",
     "text": [
      "('bcd', 3)\n",
      "('bcd', 3)\n"
     ]
    }
   ],
   "source": [
    "# def longestCommonSubstring (S, T):\n",
    "#     \"\"\"\n",
    "#     : type S: str\n",
    "#     : type T: str\n",
    "#     : rtype: str\n",
    "#     \"\"\"\n",
    "#     m, n = len(S), len(T)\n",
    "#     DP   = [ [0] * n  for i in xrange (m) ]\n",
    "    \n",
    "#     z   = 0\n",
    "#     rst = ''\n",
    "#     for i in xrange (m):\n",
    "#         for j in xrange (n):\n",
    "#             if S[i] == T[j]:\n",
    "#                 # set the DP value \n",
    "#                 if i == 0 or j == 0:\n",
    "#                     DP[i][j] = 1\n",
    "#                 else:\n",
    "#                     DP[i][j] = DP[i-1][j-1] + 1\n",
    "                  \n",
    "#                 # check whether DP[i][j] is the longest sub string\n",
    "#                 if DP[i][j] > z:\n",
    "#                     z   = DP[i][j]\n",
    "#                     rst = S[i-z+1 : i+1]\n",
    "#             else:\n",
    "#                 DP[i][j] = 0                 \n",
    "#     return rst, z\n",
    "\n",
    "def longestCommonSubstring (S, T):\n",
    "    \"\"\"\n",
    "    : type S: str\n",
    "    : type T: str\n",
    "    : rtype: str\n",
    "    \"\"\"\n",
    "    ns, nt = len(S) + 1, len(T) + 1\n",
    "    DP   = [ [0] * (nt) for i in xrange (ns) ]\n",
    "    \n",
    "    z   = 0\n",
    "    rst = ''\n",
    "    for i in xrange (1, nt):\n",
    "        for j in xrange (1, ns):\n",
    "            if S[i-1] == T[j-1]:\n",
    "                DP[i][j] = DP[i-1][j-1] + 1\n",
    "\n",
    "                # check whether DP[i][j] is the longest sub string\n",
    "                if DP[i][j] > z:\n",
    "                    z   = DP[i][j]\n",
    "                    rst = S[i-z : i]  \n",
    "            else: ## 这部分可以省略掉的\n",
    "                DP[i][j] = 0              \n",
    "    return rst, z\n",
    "\n",
    "### testing ####################\n",
    "print longestCommonSubstring ('abcdaf', 'zbcdf')\n",
    "print longestCommonSubstring_v2 ('abcdaf', 'zbcdf')    "
   ]
  },
  {
   "cell_type": "code",
   "execution_count": 13,
   "metadata": {},
   "outputs": [
    {
     "name": "stdout",
     "output_type": "stream",
     "text": [
      "bcd\n",
      "bcd\n",
      "b\n"
     ]
    }
   ],
   "source": [
    "# Good, 1/18/18 8:54 PM \n",
    "def longestCommonSubstring_DP (S, T):\n",
    "    \"\"\"\n",
    "    : type S: str\n",
    "    : type T: str\n",
    "    : rtype: str\n",
    "    \"\"\"\n",
    "    ns, nt = len(S) + 1, len(T) + 1\n",
    "    DP = [ [0]*nt for i in xrange (ns)]\n",
    "    \n",
    "    maxLen = 0\n",
    "    rst    = ''\n",
    "    for i in xrange (1, ns):\n",
    "        for j in xrange (1, nt):\n",
    "            if S[i-1] == T[j-1]:\n",
    "                DP[i][j] = DP[i-1][j-1] + 1\n",
    "                \n",
    "                if maxLen < DP[i][j]: # 只有这种情况, 才能 \"> maxLen\", 所以这一层 if 在上一层 if 里面是没啥问题的\n",
    "                    maxLen = DP[i][j]\n",
    "                    rst    = S[i-maxLen:i]\n",
    "                \n",
    "    return rst\n",
    "\n",
    "\n",
    "# Good, 1/18/18 8:54 PM \n",
    "def longestCommonSubstring_DP_hashTable (S, T):\n",
    "    ns, nt = len(S) + 1, len(T) + 1\n",
    "    dic = {}\n",
    "    \n",
    "    maxLen = 0\n",
    "    rst    = ''\n",
    "    \n",
    "    for i in xrange (1, ns):\n",
    "        for j in xrange (1, nt):\n",
    "            if S[i-1] == T[j-1]: \n",
    "                dic[(i,j)] = dic[(i-1,j-1)] + 1 if (i-1, j-1) in dic else 1\n",
    "            \n",
    "                if dic[(i,j)] > maxLen: # 只有这种情况, 才能 \"> maxLen\"\n",
    "                    maxLen = dic[(i,j)] # 这一块 if 不能和上一个 if 平行, 因为有可能 \n",
    "                    rst    = S[i-maxLen:i] # dic[(i,j)] 不存在.\n",
    "                \n",
    "    return rst\n",
    "\n",
    "### 行不通, 不知道为啥\n",
    "def longestCommonSubstring_DP_2rows (S, T):\n",
    "    \n",
    "    if len (S) < len (T): # to create a smaller DP array\n",
    "        T, S = S, T\n",
    "        \n",
    "    ns, nt = len(S) + 1, len(T) + 1\n",
    "    DP = [[0]*nt for i in xrange (2)]\n",
    "    \n",
    "    maxLen = 0\n",
    "    rst    = ''\n",
    "    for i in xrange (1, ns):\n",
    "        for j in xrange (1, nt):\n",
    "            \n",
    "            if S[i-1] == T[j-1]:\n",
    "                DP[1][j] = DP[0][j-1] + 1\n",
    "                \n",
    "                if DP[1][j] > maxLen:\n",
    "                    maxLen = DP[1][j]\n",
    "                    rst    = S[i-maxLen:i]\n",
    "\n",
    "                DP[0][:] = DP[1][:]\n",
    "            else:\n",
    "                DP[0][:] = [0]* nt\n",
    "            \n",
    "    return rst\n",
    "\n",
    "### testing ####################\n",
    "print longestCommonSubstring_DP ('abcdaf', 'zbcdf')\n",
    "print longestCommonSubstring_DP_hashTable ('abcdaf', 'zbcdf')\n",
    "print longestCommonSubstring_DP_2rows ('abcdaf', 'zbcdf')"
   ]
  },
  {
   "cell_type": "markdown",
   "metadata": {},
   "source": [
    "* This can be extended to <span class=\"girk\">more than two strings</span> by <span class=\"girk\">adding more dimensions to the table</span>.\n",
    "* The following tricks can be used to reduce the memory usage of an implementation:\n",
    "    * Keep only the last and current row of the DP table to save memory ${\\displaystyle O(\\min(r,n))}$ instead of ${\\displaystyle O(nr)}$.\n",
    "    * <span class=\"girk\">Store only non-zero values</span> in the rows. This can be done using <span class=\"girk\">hash tables</span> instead of arrays. This is useful for large alphabets.\n",
    "    \n",
    "    \n",
    "    \n",
    "###### 以下代码将使用 dictionary 存放 DP 的值, 只存储非零的值, 从而大大降低存储方面的开销."
   ]
  },
  {
   "cell_type": "code",
   "execution_count": 26,
   "metadata": {},
   "outputs": [
    {
     "name": "stdout",
     "output_type": "stream",
     "text": [
      "('bcd', 3)\n",
      "('bcd', 3)\n"
     ]
    }
   ],
   "source": [
    "### using dictionary to save spaces -----------\n",
    "\n",
    "## python index \n",
    "def longestCommonSubstring_v3 (S, T):\n",
    "    \"\"\"\n",
    "    : type S: str\n",
    "    : type T: str\n",
    "    : rtype: str\n",
    "    \"\"\"\n",
    "    ns, nt = len(S), len(T)\n",
    "    DP  = {}\n",
    "    \n",
    "    z   = 0\n",
    "    rst = ''\n",
    "    for i in xrange (ns):\n",
    "        for j in xrange (nt):\n",
    "            \n",
    "            if S[i] == T[j]:\n",
    "                if (i-1, j-1) in DP:\n",
    "                    DP[(i, j)] = DP[(i-1,j-1)] + 1\n",
    "                else:\n",
    "                    DP[(i,j)]  = 1\n",
    "\n",
    "                # check whether DP[i][j] is the longest sub string\n",
    "                if DP[(i,j)] > z:\n",
    "                    z   = DP[(i,j)]\n",
    "                    rst = S[i-z+1 : i+1]    ######        \n",
    "    return rst, z\n",
    "\n",
    "##  绝对数值\n",
    "def longestCommonSubstring_v4 (S, T):\n",
    "    \"\"\"\n",
    "    : type S: str\n",
    "    : type T: str\n",
    "    : rtype: str\n",
    "    \"\"\"\n",
    "    m, n = len(S) + 1, len(T) + 1\n",
    "    DP  = {}\n",
    "    \n",
    "    z   = 0\n",
    "    rst = ''\n",
    "\n",
    "    for i in xrange (1, m):\n",
    "        for j in xrange (1, n):\n",
    "\n",
    "            if S[i-1] == T[j-1]:\n",
    "                # if (i-1, j-1) in DP:\n",
    "                #     DP[(i, j)] = DP[(i-1,j-1)] + 1\n",
    "                # else:\n",
    "                #     DP[(i,j)]  = 1\n",
    "                ## 或者这样的代码更紧凑一些, 但更难看懂一些\n",
    "                DP[(i,j)] = DP[(i-1,j-1)] + 1 if (i-1,j-1) in DP else 1\n",
    "\n",
    "                # check whether DP[i][j] is the longest sub string\n",
    "                if DP[(i,j)] > z:\n",
    "                    z   = DP[(i,j)]\n",
    "                    rst = S[i-z : i] # 原来和 _v3 的差别是, 在于绝对数值和 index 的区别.      \n",
    "    return rst, z\n",
    "\n",
    "### testing ####################\n",
    "print longestCommonSubstring_v3 ('abcdaf', 'zbcdf')\n",
    "print longestCommonSubstring_v4 ('abcdaf', 'zbcdf')"
   ]
  },
  {
   "cell_type": "markdown",
   "metadata": {},
   "source": [
    "##### Extend #2: DP to find <span class=\"girk\">longest common subsequence</span> \n",
    "* https://www.geeksforgeeks.org/longest-common-subsequence/\n",
    "* https://www.youtube.com/watch?v=NnD96abizww"
   ]
  },
  {
   "cell_type": "code",
   "execution_count": 38,
   "metadata": {},
   "outputs": [
    {
     "name": "stdout",
     "output_type": "stream",
     "text": [
      "('bcdf', 4)\n"
     ]
    }
   ],
   "source": [
    "## iterations --------\n",
    "def longestCommonSubsequence (S, T):\n",
    "    \"\"\"\n",
    "    : type S: str\n",
    "    : type T: str\n",
    "    : rtype: str\n",
    "    \"\"\"\n",
    "    n, m   = len(S) + 1, len(T) + 1\n",
    "    maxLen = 0\n",
    "    subSequence = ''\n",
    "    DP = [ [0]*(m)  for i in xrange (n) ]\n",
    "    \n",
    "    for i in xrange (1, n):\n",
    "        for j in xrange (1, m):\n",
    "            \n",
    "            if S[i-1] == T[j-1]:\n",
    "                DP[i][j] = DP[i-1][j-1] + 1                \n",
    "            else:\n",
    "                DP[i][j] = max ( DP[i-1][j], DP[i][j-1] )\n",
    "                \n",
    "            if DP[i][j] > maxLen:\n",
    "                maxLen = DP[i][j]\n",
    "                subSequence += S[i-1]\n",
    "                \n",
    "    return subSequence, maxLen\n",
    "\n",
    "### testing ####################\n",
    "print longestCommonSubsequence ('abcdaf', 'zbcdf')"
   ]
  },
  {
   "cell_type": "code",
   "execution_count": 2,
   "metadata": {},
   "outputs": [
    {
     "name": "stdout",
     "output_type": "stream",
     "text": [
      "('bcdf', 4)\n"
     ]
    }
   ],
   "source": [
    "## Keep only the last and current row of the DP table to save memory \n",
    "# O(min(r,n)) instead of  O(nr)O(nr). \n",
    "def longestCommonSubsequence (S, T):\n",
    "    \"\"\"\n",
    "    : type S: str\n",
    "    : type T: str\n",
    "    : rtype: str\n",
    "    \"\"\"\n",
    "    n, m   = len(S) + 1, len(T) + 1\n",
    "    maxLen = 0\n",
    "    subSequence = ''\n",
    "    DP = [ [0]*m  for i in xrange (2) ]\n",
    "    \n",
    "    for i in xrange (1, n):\n",
    "        for j in xrange (1, m):\n",
    "            \n",
    "            if S[i-1] == T[j-1]:\n",
    "                DP[1][j] = DP[0][j-1] + 1                \n",
    "            else:\n",
    "                DP[1][j] = max ( DP[0][j], DP[1][j-1] )\n",
    "                \n",
    "            if DP[1][j] > maxLen:\n",
    "                maxLen = DP[1][j]\n",
    "                # DP 增加的时候, 才把字母放入 sequence, 保证了 relatively order.\n",
    "                subSequence += S[i-1] \n",
    "                \n",
    "            DP[0][:] = DP[1][:]\n",
    "                \n",
    "    return subSequence, maxLen\n",
    "\n",
    "### testing ####################\n",
    "print longestCommonSubsequence ('abcdaf', 'zbcdf')"
   ]
  },
  {
   "cell_type": "markdown",
   "metadata": {},
   "source": [
    "###### elegent/compact recurisve coding \n",
    "* https://www.geeksforgeeks.org/longest-common-subsequence/\n",
    "* (-) maybe some duplication computation, but not much, so do not care\n",
    "* (-) cannot produce the subsequence characters\n",
    "* (+) not need any extra space "
   ]
  },
  {
   "cell_type": "code",
   "execution_count": 9,
   "metadata": {},
   "outputs": [
    {
     "name": "stdout",
     "output_type": "stream",
     "text": [
      "4\n",
      "0\n"
     ]
    }
   ],
   "source": [
    "## recursive calling --------\n",
    "# longestCommonSubsequence_recur\n",
    "def lcs_recur (X, Y, i, j):\n",
    "    if i == 0 or j == 0:\n",
    "        return 0\n",
    "    \n",
    "    if X[i-1] == Y[j-1]:\n",
    "        return 1 + lcs_recur(X, Y, i-1, j-1)\n",
    "    else:\n",
    "        return max ( lcs_recur(X,Y,i-1,j), lcs_recur(X,Y,i,j-1) )\n",
    "\n",
    "### testing ####################\n",
    "X = 'abcdaf'\n",
    "Y = 'zbcdf'\n",
    "print lcs_recur (X, Y, len(X), len(Y))"
   ]
  },
  {
   "cell_type": "code",
   "execution_count": null,
   "metadata": {
    "collapsed": true
   },
   "outputs": [],
   "source": [
    "# written at 1/18/18 8:56 PM \n",
    "def longestCommonSubsequence_DP (S, T):\n",
    "    \"\"\"\n",
    "    : type S: str\n",
    "    : type T: str\n",
    "    : rtype: str\n",
    "    \"\"\"\n",
    "    m, n = len(S) + 1, len(T) + 1\n",
    "    DP\n",
    "    "
   ]
  },
  {
   "cell_type": "markdown",
   "metadata": {
    "collapsed": true
   },
   "source": [
    "### Alg: (Expand Around Center) [Accepted]\n",
    "##### 分析: https://leetcode.com/problems/longest-palindromic-substring/discuss/2954/\n",
    "* solve it in **$O(n^2)$ time** and using only <span class=\"girk\">constant space</span>.\n",
    "* observe that a palindrome <span class=\"girk\">mirrors around its center</span>. Therefore, a palindrome can be <span class=\"girk\">expanded from its center</span>, and there are only $2n - 1$ such centers. Why not not $n$ centers? Because we have even  (such as \"abba\") and odd (such as ”aba”) cases.\n",
    "\n",
    "\n",
    "##### 适用范围\n",
    "* 只适合单个 string 求最长回文的问题, 对两个 string 可以吗?"
   ]
  },
  {
   "cell_type": "code",
   "execution_count": 23,
   "metadata": {},
   "outputs": [
    {
     "name": "stdout",
     "output_type": "stream",
     "text": [
      "aba\n"
     ]
    }
   ],
   "source": [
    "class Solution_005_4 (object):\n",
    "    def longestPalindrome(self, s):\n",
    "        \"\"\"\n",
    "        :type s: str\n",
    "        :rtype: str\n",
    "        \"\"\"\n",
    "        rst = ''\n",
    "        # nn  = len (s) # no need for this processes \n",
    "        # if not nn:\n",
    "        #     return rst\n",
    "        \n",
    "        for i in xrange (len(s) - 1): ### 到 n 或 nn - 1 都可以的\n",
    "            \n",
    "            # odd case, like \"aba\"\n",
    "            tmp = self.expand2sides (s, i, i)\n",
    "            if len(rst) < len (tmp):\n",
    "                rst = tmp\n",
    "                \n",
    "            # even case, like \"abba\"\n",
    "            tmp = self.expand2sides (s, i, i + 1)\n",
    "            if len (rst) < len(tmp):\n",
    "                rst = tmp\n",
    "                \n",
    "        return rst\n",
    "            \n",
    "    \n",
    "    def expand2sides (self, s, l, r):\n",
    "        while l >= 0 and r < len(s) and s[l] == s[r]:\n",
    "            l -= 1\n",
    "            r += 1\n",
    "        return s[l+1:r] ### 这个边界需要注意\n",
    "        \n",
    "### testing ####################\n",
    "print Solution_005_4().longestPalindrome ('ababc')"
   ]
  },
  {
   "cell_type": "markdown",
   "metadata": {},
   "source": [
    "### 补充知识\n",
    "#### palindrome string or not\n",
    "* Python program to check if a string is palindrome or not\n",
    "https://www.geeksforgeeks.org/python-program-check-string-palindrome-not/`"
   ]
  },
  {
   "cell_type": "code",
   "execution_count": 2,
   "metadata": {},
   "outputs": [
    {
     "name": "stdout",
     "output_type": "stream",
     "text": [
      "True\n",
      "True\n",
      "True\n",
      "True\n"
     ]
    }
   ],
   "source": [
    "###### Method #1 ############\n",
    "# function which return reverse of a string\n",
    "def reverse (s):\n",
    "    return s[::-1]\n",
    "\n",
    "def isPalindrome_1 (s):\n",
    "    rev = reverse(s)\n",
    "    return s == rev\n",
    "\n",
    "###### Method #2 ############\n",
    "def isPalindrome_2 (s):\n",
    "    # Run loop from 0 to len//2 \n",
    "    for i in xrange (len(s)//2): \n",
    "        ## 注意上下标, 分 odd 和 even 情况讨论.\n",
    "        if s[i] != s[len(s)-1-i]:\n",
    "            return False\n",
    "    return True\n",
    "\n",
    "###### Method #3 ####`b########\n",
    "def center2sides (s, l, r):\n",
    "    while l >= 0 and r < len(s):\n",
    "        if not s[l] == s[r]:\n",
    "            return False\n",
    "        return True\n",
    "        \n",
    "def isPalindrome_3 (s):\n",
    "    i =  len(s) // 2\n",
    "    return center2sides(s,i,i) or center2sides(s,i,i-1)\n",
    "   \n",
    "### testing ####################\n",
    "print isPalindrome_1(\"malayalam\")\n",
    "print isPalindrome_2(\"malayalam\")\n",
    "print isPalindrome_3(\"malayalam\")\n",
    "print isPalindrome_5(\"malayalam\")"
   ]
  },
  {
   "cell_type": "markdown",
   "metadata": {},
   "source": [
    "## 266. Palindrome Permutation (easy)\n",
    "##### 题意: https://leetcode.com/problems/palindrome-permutation/description/\n",
    "* Given a string, determine if a permutation of the string could form a palindrome.\n",
    "* For example,\n",
    "\"code\" -> False, \"aab\" -> True, \"carerac\" -> True.\n",
    "##### 分析:\n",
    "* 只要看是不是成双成对出现, 最多只允许一个数字老单"
   ]
  },
  {
   "cell_type": "code",
   "execution_count": 47,
   "metadata": {},
   "outputs": [
    {
     "name": "stdout",
     "output_type": "stream",
     "text": [
      "True\n",
      "False\n",
      "False\n"
     ]
    }
   ],
   "source": [
    "class Solution_266(object):\n",
    "    ####### Method #1 ------------------- two pass loops\n",
    "    def canPermutePalindrome_1 (self, s):\n",
    "        \"\"\"\n",
    "        :type s: str\n",
    "        :rtype: bool\n",
    "        \"\"\"\n",
    "        dic = {}\n",
    "        for x in s:\n",
    "            dic[x] = dic.get(x, 0) + 1\n",
    "            \n",
    "        notgood = 0\n",
    "        for i in dic.values ():\n",
    "            if i % 2:\n",
    "                notgood += 1\n",
    "            if notgood > 1:\n",
    "                return False\n",
    "        return True\n",
    "    \n",
    "    ####### Method #2 ------------------- two pass loops\n",
    "    def canPermutePalindrome_2 (self, s):\n",
    "        \"\"\"\n",
    "        :type s: str\n",
    "        :rtype: bool\n",
    "        \"\"\"\n",
    "        dic = {}\n",
    "        for x in s:\n",
    "            dic[x] = dic.get(x, 0) + 1\n",
    "            \n",
    "        cnt = 0\n",
    "        for i in dic.values ():\n",
    "            cnt += i % 2\n",
    "        return cnt <= 1\n",
    "    \n",
    "    ####### Method #3 -------------------\n",
    "    # singe pass loop, 非常巧妙的想法.\n",
    "    def canPermutePalindrome_3 (self, s):\n",
    "        \"\"\"\n",
    "        :type s: str\n",
    "        :rtype: bool\n",
    "        \"\"\"\n",
    "        dic = {}\n",
    "        cnt = 0\n",
    "        for x in s:\n",
    "            dic[x] = dic.get(x, 0) + 1\n",
    "            \n",
    "            if dic[x] % 2:\n",
    "                cnt += 1\n",
    "            else:\n",
    "                cnt -= 1\n",
    "        return cnt <= 1\n",
    "    \n",
    "### testing ####################      \n",
    "print Solution_266().canPermutePalindrome_1 ('abb')\n",
    "print Solution_266().canPermutePalindrome_2 ('abc')\n",
    "print Solution_266().canPermutePalindrome_3 ('abc')"
   ]
  },
  {
   "cell_type": "markdown",
   "metadata": {},
   "source": [
    "## 409. Longest Palindrome (easy)\n",
    "##### 题意: https://leetcode.com/problems/longest-palindrome/description/\n",
    "* 给定 string, 找出能够构造出的最长回文substring 的长度.\n",
    "\n",
    "##### 分析:\n",
    "* 字母出现是2的倍数,肯定都能计算在内. 对于不能被2整除的, 那只能多算一个数字.\n",
    "* runtime $O(n)$, space $O(1)$ 得益于有限个字母可能, ASCII 码的数量."
   ]
  },
  {
   "cell_type": "code",
   "execution_count": null,
   "metadata": {
    "collapsed": true
   },
   "outputs": [],
   "source": [
    "class Solution(object):\n",
    "    def longestPalindrome(self, s):\n",
    "        \"\"\"\n",
    "        :type s: str\n",
    "        :rtype: int\n",
    "        \"\"\"\n",
    "        cnt = 0\n",
    "        dic = {}\n",
    "        # 构建hash-table, 统计每个字母出现的次数.\n",
    "        for x in s:\n",
    "            dic[x] = dic.get(x, 0) + 1\n",
    "            \n",
    "        # 如果字母出现是  x = 2i (即2的倍数), 它们全部算在内, 计数为 x\n",
    "        # 如果字母出现是 x = 2i + 1, 只能计算 x - 1 次. 当然允许, 单个出现一次.\n",
    "        oddExist = False\n",
    "        for x in dic.values ():\n",
    "            if x % 2: # odd case\n",
    "                cnt += x - 1\n",
    "                oddExist = True\n",
    "            else: # even case \n",
    "                cnt += x\n",
    "                \n",
    "        if oddExist:\n",
    "            cnt += 1\n",
    "        return cnt"
   ]
  },
  {
   "cell_type": "markdown",
   "metadata": {},
   "source": [
    "## 待解决 516. Longest Palindromic Subsequence (Medium)\n",
    "##### 题意 https://leetcode.com/problems/substring-with-concatenation-of-all-words/discuss/13656\n",
    "* Given a string s, find the longest palindromic subsequence's length in s. \n",
    "    * You may assume that the maximum length of s is 1000.\n",
    "    * 例子#1: Input: \"bbbab\". Output: 4.\n",
    "    * 例子#2: Input: \"cbbd\". Output: 2.\n",
    "\n",
    "##### 分析: \n",
    "* 这里是 subsequence, 说明要保持相对顺序, 但不一定 continues.\n",
    "* max length is 1000, 说明可以使用递归, python 的最大递归深度正好是 1000."
   ]
  },
  {
   "cell_type": "code",
   "execution_count": null,
   "metadata": {
    "collapsed": true
   },
   "outputs": [],
   "source": [
    "class Solution(object):\n",
    "    def longestPalindromeSubseq(self, s):\n",
    "        \"\"\"\n",
    "        :type s: str\n",
    "        :rtype: int\n",
    "        \"\"\"\n",
    "        "
   ]
  },
  {
   "cell_type": "markdown",
   "metadata": {},
   "source": [
    "##### 参考答案\n",
    "* 最火 java code https://leetcode.com/problems/longest-palindromic-subsequence/discuss/99101 \n",
    "* 最详细 https://leetcode.com/problems/longest-palindromic-subsequence/discuss/99111\n",
    "* Python 最火 https://leetcode.com/problems/longest-palindromic-subsequence/discuss/99129"
   ]
  },
  {
   "cell_type": "markdown",
   "metadata": {},
   "source": [
    "## 647. Palindromic Substrings (Medium)\n",
    "##### 题意 https://leetcode.com/problems/palindromic-substrings/description/\n",
    "* Given a string s, find the longest palindromic subsequence's length in s. \n",
    "    * You may assume that the maximum length of s is 1000.\n",
    "    * 例子#1: Input: \"bbbab\". Output: 4.\n",
    "    * 例子#2: Input: \"cbbd\". Output: 2.\n",
    "* 分析: \n",
    "    * 这里是 subsequence, 说明要保持相对顺序, 但不一定 continues.\n",
    "    * max length is 1000, 说明可以使用递归, python 的最大递归深度正好是 1000.\n",
    "    * 因为 Palindromic 是关于某个字母左右对称的, 可利用这条信息."
   ]
  },
  {
   "cell_type": "code",
   "execution_count": 2,
   "metadata": {},
   "outputs": [
    {
     "name": "stdout",
     "output_type": "stream",
     "text": [
      "6\n"
     ]
    }
   ],
   "source": [
    "# Here is the our code by using the mirroring information written on 1/17/18 \n",
    "\n",
    "class Solution(object):\n",
    "    def countSubstrings(self, s):\n",
    "        \"\"\"\n",
    "        :type s: str\n",
    "        :rtype: int\n",
    "        \"\"\"\n",
    "        rst = 0 # the output variable \n",
    "        ns  = len (s)\n",
    "        if not ns: return rst\n",
    "        \n",
    "        for i in xrange (ns-1):\n",
    "            # check odd cases \n",
    "            rst += self.expand2sides (s, i, i)\n",
    "            # check even cases \n",
    "            rst += self.expand2sides (s, i, i + 1)\n",
    "            \n",
    "        # by the loop above, we cannot cover the end element in the string\n",
    "        rst += self.expand2sides (s, ns-1, ns-1)\n",
    "            \n",
    "        return rst \n",
    "    \n",
    "    def expand2sides (self, s, l, r):\n",
    "        rst = 0\n",
    "        while l >= 0 and r < len(s) and s[l] == s[r]:\n",
    "            l -= 1\n",
    "            r += 1\n",
    "            rst += 1\n",
    "        return rst \n",
    "    \n",
    "### testing ####################      \n",
    "print Solution().countSubstrings ('aaa')"
   ]
  },
  {
   "cell_type": "markdown",
   "metadata": {},
   "source": [
    "##### Analysis on the complexsity:\n",
    "* runtime $O(n^2)$, space complexit $O(1)$\n",
    "\n",
    "##### 标准答案\n",
    "* 也是使用 Expand Around Center 的方法, 详见 https://leetcode.com/problems/palindromic-substrings/solution/ \n",
    "\n"
   ]
  }
 ],
 "metadata": {
  "kernelspec": {
   "display_name": "Python 2",
   "language": "python",
   "name": "python2"
  },
  "language_info": {
   "codemirror_mode": {
    "name": "ipython",
    "version": 2
   },
   "file_extension": ".py",
   "mimetype": "text/x-python",
   "name": "python",
   "nbconvert_exporter": "python",
   "pygments_lexer": "ipython2",
   "version": "2.7.13"
  },
  "toc": {
   "nav_menu": {},
   "number_sections": true,
   "sideBar": true,
   "skip_h1_title": true,
   "toc_cell": true,
   "toc_position": {
    "height": "642px",
    "left": "0px",
    "right": "886px",
    "top": "67px",
    "width": "175px"
   },
   "toc_section_display": "block",
   "toc_window_display": true
  }
 },
 "nbformat": 4,
 "nbformat_minor": 2
}

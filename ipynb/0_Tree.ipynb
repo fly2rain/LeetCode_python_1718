{
 "cells": [
  {
   "cell_type": "markdown",
   "metadata": {
    "toc": true
   },
   "source": [
    "<h1>Table of Contents<span class=\"tocSkip\"></span></h1>\n",
    "<div class=\"toc\" style=\"margin-top: 1em;\"><ul class=\"toc-item\"><li><span><a href=\"#Resources:\" data-toc-modified-id=\"Resources:-1\"><span class=\"toc-item-num\">1&nbsp;&nbsp;</span>Resources:</a></span></li><li><span><a href=\"#1/29:-Tree\" data-toc-modified-id=\"1/29:-Tree-2\"><span class=\"toc-item-num\">2&nbsp;&nbsp;</span><a href=\"\" target=\"_blank\">1/29: Tree</a></a></span><ul class=\"toc-item\"><li><span><a href=\"#100.easy-Same-Tree\" data-toc-modified-id=\"100.easy-Same-Tree-2.1\"><span class=\"toc-item-num\">2.1&nbsp;&nbsp;</span><a href=\"https://leetcode.com/problems/same-tree/description/\" target=\"_blank\">100.easy-Same Tree</a></a></span></li><li><span><a href=\"#101.easy_Symmetric-Tree\" data-toc-modified-id=\"101.easy_Symmetric-Tree-2.2\"><span class=\"toc-item-num\">2.2&nbsp;&nbsp;</span><a href=\"https://leetcode.com/problems/symmetric-tree/description/\" target=\"_blank\">101.easy_Symmetric Tree</a></a></span></li><li><span><a href=\"#104.easy_Maximum-Depth-of-Binary-Tree\" data-toc-modified-id=\"104.easy_Maximum-Depth-of-Binary-Tree-2.3\"><span class=\"toc-item-num\">2.3&nbsp;&nbsp;</span><a href=\"https://leetcode.com/problems/maximum-depth-of-binary-tree/description/\" target=\"_blank\">104.easy_Maximum Depth of Binary Tree</a></a></span></li><li><span><a href=\"#*108.easy-Convert-Sorted-Array-to-Binary-Search-Tree\" data-toc-modified-id=\"*108.easy-Convert-Sorted-Array-to-Binary-Search-Tree-2.4\"><span class=\"toc-item-num\">2.4&nbsp;&nbsp;</span><a href=\"https://leetcode.com/problems/convert-sorted-array-to-binary-search-tree/description/\" target=\"_blank\">*108.easy-Convert Sorted Array to Binary Search Tree</a></a></span></li><li><span><a href=\"#109.med-Convert-Sorted-List-to-Binary-Search-Tree\" data-toc-modified-id=\"109.med-Convert-Sorted-List-to-Binary-Search-Tree-2.5\"><span class=\"toc-item-num\">2.5&nbsp;&nbsp;</span><a href=\"https://leetcode.com/problems/convert-sorted-list-to-binary-search-tree/description/\" target=\"_blank\">109.med-Convert Sorted List to Binary Search Tree</a></a></span></li><li><span><a href=\"#*111.easy_Minimum-Depth-of-Binary-Tree\" data-toc-modified-id=\"*111.easy_Minimum-Depth-of-Binary-Tree-2.6\"><span class=\"toc-item-num\">2.6&nbsp;&nbsp;</span><a href=\"https://leetcode.com/problems/minimum-depth-of-binary-tree/description/\" target=\"_blank\">*111.easy_Minimum Depth of Binary Tree</a></a></span></li></ul></li><li><span><a href=\"#2/1-Tree\" data-toc-modified-id=\"2/1-Tree-3\"><span class=\"toc-item-num\">3&nbsp;&nbsp;</span>2/1-Tree</a></span><ul class=\"toc-item\"><li><span><a href=\"#110.easy-Balanced-Binary-Tree\" data-toc-modified-id=\"110.easy-Balanced-Binary-Tree-3.1\"><span class=\"toc-item-num\">3.1&nbsp;&nbsp;</span><a href=\"https://leetcode.com/problems/balanced-binary-tree/description/\" target=\"_blank\">110.easy-Balanced Binary Tree</a></a></span></li><li><span><a href=\"#173.med-Binary-Search-Tree-Iterator\" data-toc-modified-id=\"173.med-Binary-Search-Tree-Iterator-3.2\"><span class=\"toc-item-num\">3.2&nbsp;&nbsp;</span><a href=\"https://leetcode.com/problems/binary-search-tree-iterator/description/\" target=\"_blank\">173.med-Binary Search Tree Iterator</a></a></span></li><li><span><a href=\"#230.med-Kth-Smallest-Element-in-a-BST\" data-toc-modified-id=\"230.med-Kth-Smallest-Element-in-a-BST-3.3\"><span class=\"toc-item-num\">3.3&nbsp;&nbsp;</span><a href=\"https://leetcode.com/problems/kth-smallest-element-in-a-bst/description/\" target=\"_blank\">230.med-Kth Smallest Element in a BST</a></a></span></li><li><span><a href=\"#**235.easy-Lowest-Common-Ancestor-of-a-Binary-Search-Tree\" data-toc-modified-id=\"**235.easy-Lowest-Common-Ancestor-of-a-Binary-Search-Tree-3.4\"><span class=\"toc-item-num\">3.4&nbsp;&nbsp;</span><a href=\"https://leetcode.com/problems/lowest-common-ancestor-of-a-binary-search-tree/description/\" target=\"_blank\">**235.easy-Lowest Common Ancestor of a Binary Search Tree</a></a></span></li><li><span><a href=\"#*236.med-Lowest-Common-Ancestor-of-a-Binary-Tree\" data-toc-modified-id=\"*236.med-Lowest-Common-Ancestor-of-a-Binary-Tree-3.5\"><span class=\"toc-item-num\">3.5&nbsp;&nbsp;</span><a href=\"https://leetcode.com/problems/lowest-common-ancestor-of-a-binary-tree/description/\" target=\"_blank\"><em>*</em>236.med-Lowest Common Ancestor of a Binary Tree</a></a></span></li><li><span><a href=\"#❤️501.easy-Find-Mode-in-Binary-Search-Tree\" data-toc-modified-id=\"❤️501.easy-Find-Mode-in-Binary-Search-Tree-3.6\"><span class=\"toc-item-num\">3.6&nbsp;&nbsp;</span><a href=\"https://leetcode.com/problems/find-mode-in-binary-search-tree/description/\" target=\"_blank\">❤️501.easy-Find Mode in Binary Search Tree</a></a></span></li><li><span><a href=\"#530.easy-Minimum-Absolute-Difference-in-BST\" data-toc-modified-id=\"530.easy-Minimum-Absolute-Difference-in-BST-3.7\"><span class=\"toc-item-num\">3.7&nbsp;&nbsp;</span><a href=\"https://leetcode.com/problems/minimum-absolute-difference-in-bst/description/\" target=\"_blank\">530.easy-Minimum Absolute Difference in BST</a></a></span></li><li><span><a href=\"#654.med-Maximum-Binary-Tree\" data-toc-modified-id=\"654.med-Maximum-Binary-Tree-3.8\"><span class=\"toc-item-num\">3.8&nbsp;&nbsp;</span><a href=\"https://leetcode.com/problems/maximum-binary-tree/description/\" target=\"_blank\">654.med-Maximum Binary Tree</a></a></span></li></ul></li><li><span><a href=\"#1/31-Tree-travesal\" data-toc-modified-id=\"1/31-Tree-travesal-4\"><span class=\"toc-item-num\">4&nbsp;&nbsp;</span>1/31-Tree travesal</a></span><ul class=\"toc-item\"><li><span><a href=\"#144.med-Binary-Tree-Preorder-Traversal\" data-toc-modified-id=\"144.med-Binary-Tree-Preorder-Traversal-4.1\"><span class=\"toc-item-num\">4.1&nbsp;&nbsp;</span><a href=\"https://leetcode.com/problems/binary-tree-preorder-traversal/description/\" target=\"_blank\">144.med-Binary Tree Preorder Traversal</a></a></span></li><li><span><a href=\"#94.med-Binary-Tree-Inorder-Traversal\" data-toc-modified-id=\"94.med-Binary-Tree-Inorder-Traversal-4.2\"><span class=\"toc-item-num\">4.2&nbsp;&nbsp;</span><a href=\"https://leetcode.com/problems/binary-tree-inorder-traversal/description/\" target=\"_blank\">94.med-Binary Tree Inorder Traversal</a></a></span></li><li><span><a href=\"#*145.hard-Binary-Tree-Postorder-Traversal\" data-toc-modified-id=\"*145.hard-Binary-Tree-Postorder-Traversal-4.3\"><span class=\"toc-item-num\">4.3&nbsp;&nbsp;</span><a href=\"https://leetcode.com/problems/binary-tree-postorder-traversal/description/\" target=\"_blank\">*145.hard-Binary Tree Postorder Traversal</a></a></span></li><li><span><a href=\"#102.med-Binary-Tree-Level-Order-Traversal\" data-toc-modified-id=\"102.med-Binary-Tree-Level-Order-Traversal-4.4\"><span class=\"toc-item-num\">4.4&nbsp;&nbsp;</span><a href=\"https://leetcode.com/problems/binary-tree-level-order-traversal/description/\" target=\"_blank\">102.med-Binary Tree Level Order Traversal</a></a></span></li><li><span><a href=\"#107.easy-Binary-Tree-Level-Order-Traversal-II\" data-toc-modified-id=\"107.easy-Binary-Tree-Level-Order-Traversal-II-4.5\"><span class=\"toc-item-num\">4.5&nbsp;&nbsp;</span><a href=\"https://leetcode.com/problems/binary-tree-level-order-traversal-ii/description/\" target=\"_blank\">107.easy-Binary Tree Level Order Traversal II</a></a></span></li><li><span><a href=\"#103.med-Binary-Tree-Zigzag-Level-Order-Traversal\" data-toc-modified-id=\"103.med-Binary-Tree-Zigzag-Level-Order-Traversal-4.6\"><span class=\"toc-item-num\">4.6&nbsp;&nbsp;</span><a href=\"https://leetcode.com/problems/binary-tree-zigzag-level-order-traversal/description/\" target=\"_blank\">103.med-Binary Tree Zigzag Level Order Traversal</a></a></span></li><li><span><a href=\"#314.med-Binary-Tree-Vertical-Order-Traversal\" data-toc-modified-id=\"314.med-Binary-Tree-Vertical-Order-Traversal-4.7\"><span class=\"toc-item-num\">4.7&nbsp;&nbsp;</span><a href=\"https://leetcode.com/problems/binary-tree-vertical-order-traversal/description/\" target=\"_blank\">314.med-Binary Tree Vertical Order Traversal</a></a></span></li><li><span><a href=\"#❓Morris-Tree-Traversal\" data-toc-modified-id=\"❓Morris-Tree-Traversal-4.8\"><span class=\"toc-item-num\">4.8&nbsp;&nbsp;</span><a href=\"\" target=\"_blank\">❓Morris Tree Traversal</a></a></span><ul class=\"toc-item\"><li><span><a href=\"#Morris-Inorder-Tree-Traversal\" data-toc-modified-id=\"Morris-Inorder-Tree-Traversal-4.8.1\"><span class=\"toc-item-num\">4.8.1&nbsp;&nbsp;</span><a href=\"https://www.youtube.com/watch?v=wGXB9OWhPTg\" target=\"_blank\">Morris Inorder Tree Traversal</a></a></span></li></ul></li><li><span><a href=\"#637.easy-Average-of-Levels-in-Binary-Tree\" data-toc-modified-id=\"637.easy-Average-of-Levels-in-Binary-Tree-4.9\"><span class=\"toc-item-num\">4.9&nbsp;&nbsp;</span><a href=\"https://leetcode.com/problems/average-of-levels-in-binary-tree/description/\" target=\"_blank\">637.easy-Average of Levels in Binary Tree</a></a></span></li></ul></li><li><span><a href=\"#1/30-Tree-中关于-sum-的所有题\" data-toc-modified-id=\"1/30-Tree-中关于-sum-的所有题-5\"><span class=\"toc-item-num\">5&nbsp;&nbsp;</span>1/30-Tree 中关于 sum 的所有题</a></span><ul class=\"toc-item\"><li><span><a href=\"#*112.easy-Path-Sum\" data-toc-modified-id=\"*112.easy-Path-Sum-5.1\"><span class=\"toc-item-num\">5.1&nbsp;&nbsp;</span><a href=\"https://leetcode.com/problems/path-sum/description/\" target=\"_blank\">*112.easy-Path Sum</a></a></span></li><li><span><a href=\"#113.med-Path-Sum-II\" data-toc-modified-id=\"113.med-Path-Sum-II-5.2\"><span class=\"toc-item-num\">5.2&nbsp;&nbsp;</span><a href=\"https://leetcode.com/problems/path-sum-ii/description/\" target=\"_blank\">113.med-Path Sum II</a></a></span></li><li><span><a href=\"#257.easy-Binary-Tree-Paths\" data-toc-modified-id=\"257.easy-Binary-Tree-Paths-5.3\"><span class=\"toc-item-num\">5.3&nbsp;&nbsp;</span><a href=\"https://leetcode.com/problems/binary-tree-paths/description/\" target=\"_blank\">257.easy-Binary Tree Paths</a></a></span></li><li><span><a href=\"#437.easy-Path-Sum-III\" data-toc-modified-id=\"437.easy-Path-Sum-III-5.4\"><span class=\"toc-item-num\">5.4&nbsp;&nbsp;</span><a href=\"https://leetcode.com/problems/path-sum-iii/description/\" target=\"_blank\">437.easy-Path Sum III</a></a></span></li><li><span><a href=\"#653.easy-Two-Sum-IV---Input-is-a-BST\" data-toc-modified-id=\"653.easy-Two-Sum-IV---Input-is-a-BST-5.5\"><span class=\"toc-item-num\">5.5&nbsp;&nbsp;</span><a href=\"https://leetcode.com/problems/two-sum-iv-input-is-a-bst/description/\" target=\"_blank\">653.easy-Two Sum IV - Input is a BST</a></a></span></li></ul></li><li><span><a href=\"#1/31:-Tree\" data-toc-modified-id=\"1/31:-Tree-6\"><span class=\"toc-item-num\">6&nbsp;&nbsp;</span><a href=\"\" target=\"_blank\">1/31: Tree</a></a></span><ul class=\"toc-item\"><li><span><a href=\"#226.easy_Invert-Binary-Tree\" data-toc-modified-id=\"226.easy_Invert-Binary-Tree-6.1\"><span class=\"toc-item-num\">6.1&nbsp;&nbsp;</span><a href=\"https://leetcode.com/problems/invert-binary-tree/description/\" target=\"_blank\">226.easy_Invert Binary Tree</a></a></span></li><li><span><a href=\"#❤️404.easy-Sum-of-Left-Leaves\" data-toc-modified-id=\"❤️404.easy-Sum-of-Left-Leaves-6.2\"><span class=\"toc-item-num\">6.2&nbsp;&nbsp;</span><a href=\"https://leetcode.com/problems/sum-of-left-leaves/description/\" target=\"_blank\">❤️404.easy-Sum of Left Leaves</a></a></span></li><li><span><a href=\"#*538.easy_Convert-BST-to-Greater-Tree\" data-toc-modified-id=\"*538.easy_Convert-BST-to-Greater-Tree-6.3\"><span class=\"toc-item-num\">6.3&nbsp;&nbsp;</span><a href=\"https://leetcode.com/problems/convert-bst-to-greater-tree/description/\" target=\"_blank\">*538.easy_Convert BST to Greater Tree</a></a></span></li><li><span><a href=\"#563.easy-Binary-Tree-Tilt-倾斜\" data-toc-modified-id=\"563.easy-Binary-Tree-Tilt-倾斜-6.4\"><span class=\"toc-item-num\">6.4&nbsp;&nbsp;</span><a href=\"https://leetcode.com/problems/binary-tree-tilt/description/\" target=\"_blank\">563.easy-Binary Tree Tilt 倾斜</a></a></span></li><li><span><a href=\"#572.easy_Subtree-of-Another-Tree\" data-toc-modified-id=\"572.easy_Subtree-of-Another-Tree-6.5\"><span class=\"toc-item-num\">6.5&nbsp;&nbsp;</span><a href=\"https://leetcode.com/problems/subtree-of-another-tree/description/\" target=\"_blank\">572.easy_Subtree of Another Tree</a></a></span></li><li><span><a href=\"#617.easy_Merge-Two-Binary-Trees\" data-toc-modified-id=\"617.easy_Merge-Two-Binary-Trees-6.6\"><span class=\"toc-item-num\">6.6&nbsp;&nbsp;</span><a href=\"https://leetcode.com/problems/merge-two-binary-trees/description/\" target=\"_blank\">617.easy_Merge Two Binary Trees</a></a></span></li><li><span><a href=\"#671.easy-Second-Minimum-Node-In-a-Binary-Tree\" data-toc-modified-id=\"671.easy-Second-Minimum-Node-In-a-Binary-Tree-6.7\"><span class=\"toc-item-num\">6.7&nbsp;&nbsp;</span><a href=\"https://leetcode.com/problems/second-minimum-node-in-a-binary-tree/description/\" target=\"_blank\">671.easy-Second Minimum Node In a Binary Tree</a></a></span></li><li><span><a href=\"#543.easy-Diameter-of-Binary-Tree\" data-toc-modified-id=\"543.easy-Diameter-of-Binary-Tree-6.8\"><span class=\"toc-item-num\">6.8&nbsp;&nbsp;</span><a href=\"https://leetcode.com/problems/diameter-of-binary-tree/description/\" target=\"_blank\">543.easy-Diameter of Binary Tree</a></a></span></li><li><span><a href=\"#687.easy-Longest-Univalue-Path\" data-toc-modified-id=\"687.easy-Longest-Univalue-Path-6.9\"><span class=\"toc-item-num\">6.9&nbsp;&nbsp;</span><a href=\"https://leetcode.com/problems/longest-univalue-path/description/\" target=\"_blank\">687.easy-Longest Univalue Path</a></a></span></li></ul></li></ul></div>"
   ]
  },
  {
   "cell_type": "markdown",
   "metadata": {},
   "source": [
    "# Tree-1: 主要关于 easy 的题.\n",
    "* 题型: [Top 100 Liked Questions + Tree](https://leetcode.com/problemset/algorithms/?topicSlugs=tree&listId=79h8rn6)\n",
    "* 题型: [Tree](https://leetcode.com/problemset/algorithms/?topicSlugs=tree)\n",
    "* Tree 果然很重要的 topic, 这么多题目"
   ]
  },
  {
   "cell_type": "markdown",
   "metadata": {},
   "source": [
    "## Resources:\n",
    "* **Delete a node** from Binary Search Tree: https://www.youtube.com/watch?v=gcULXE7ViZw&t=2s \n",
    "    * 看起来挺复杂, 看明白之后发现挺简单的. 主要分为**两步**:\n",
    "        * 根据输入值, 找到要delete node. 这里需要 recursive call deletion.\n",
    "        * 找到之后, delete 该 node. \n",
    "    * 关于 Node Deletion 有**三种情况**:\n",
    "        * **node 没有 children**. 直接将该 node 设成 None, 并释放它占用的内存.\n",
    "        * **node 只有一个 children**. 总体而言, 跳过当前 node, 指向 children 赋值. 操作起来有点不同, 是通过赋值和替代完成.\n",
    "        * **node 有两个 children**. 不能直接删除 node, 而是找到 ***right 这边的 minimum node*** 或者 ***left 这边的 maximum node***. 将其中一个 node 的值赋给当前 node, 然后递归调用 delete **删除 min or max node**.\n",
    "    * 评价: 这是一个非常精彩的 recursion 和 R & D 的算法. 估计, 基本不可能写成 iteration."
   ]
  },
  {
   "cell_type": "markdown",
   "metadata": {},
   "source": [
    "## [1/29: Tree]()"
   ]
  },
  {
   "cell_type": "markdown",
   "metadata": {},
   "source": [
    "### [100.easy-Same Tree](https://leetcode.com/problems/same-tree/description/)\n",
    "##### 题意: check 两棵 binary tree 是否相同, 指的是含有相同数量, 相同位置, 相同数值的 node.\n",
    "\n",
    "##### 分析: 应该比 101. symmetric tree 简单.\n",
    "* 该题指涉及两棵树 对应节点的对比, 比较简单. 逐一相互对比就可以了.\n",
    "\n",
    "##### 树的节点之间的几种关系:\n",
    "* 两棵树对应节点之间的对比, 一对一, 不涉及相邻节点之间的对比.\n",
    "* node 和 它的children的关系.\n",
    "* node 和 它的 children 及其子树的关系.\n",
    "* node 和 parent 之间的关系.\n",
    "* (非常复杂了) 同时存在node 和它的 parent 以及 node 和它的 children 子树的关系. "
   ]
  },
  {
   "cell_type": "code",
   "execution_count": null,
   "metadata": {
    "collapsed": true
   },
   "outputs": [],
   "source": [
    "from collections import deque\n",
    "\n",
    "class Solution(object):\n",
    "    def isSameTree(self, p, q):\n",
    "        \"\"\"\n",
    "        :type p: TreeNode\n",
    "        :type q: TreeNode\n",
    "        :rtype: bool\n",
    "        \"\"\"\n",
    "        # return self.DFS_preorder(p, q)\n",
    "        # return self.DFS_inorder(p, q)\n",
    "        # return self.DFS_postorder(p, q)\n",
    "        # return self.DFS_iter(p, q)\n",
    "        return self.BFS_iter(p, q)\n",
    "        \n",
    "    ## 方法1 -----------------------------------\n",
    "    def DFS_preorder(self, x, y):\n",
    "        if not x and not y: return True\n",
    "        if not x or not y:  return False\n",
    "        \n",
    "        return (\n",
    "            x.val == y.val and \n",
    "            self.DFS_preorder(x.left, y.left) and\n",
    "            self.DFS_preorder(x.right, y.right)\n",
    "        )\n",
    "        \n",
    "    ## 方法2 -----------------------------------\n",
    "    def DFS_inorder(self, x, y):\n",
    "        if not x and not y: return True\n",
    "        if not x or not y:  return False\n",
    "        \n",
    "        return (\n",
    "            self.DFS_inorder(x.left, y.left) and \n",
    "            x.val == y.val and\n",
    "            self.DFS_inorder(x.right, y.right)\n",
    "        )\n",
    "        \n",
    "    ## 方法3 -----------------------------------\n",
    "    def DFS_postorder(self, x, y):\n",
    "        if not x and not y: return True\n",
    "        if not x or not y: return False\n",
    "        \n",
    "        return (\n",
    "            self.DFS_postorder(x.left, y.left) and\n",
    "            self.DFS_postorder(x.right, y.right) and\n",
    "            x.val == y.val\n",
    "        )\n",
    "        \n",
    "    ## 方法4 -----------------------------------\n",
    "    ### ❤️❤️❤️ 这种方式只能实现 root->right->left 或 root->left->right 两种顺序.\n",
    "    ### ❤️❤️ 借鉴 538 iter 中的方法, 实现 right->root->left 的顺序. 类似的也可以实现 left->root->right 的顺序.\n",
    "    def DFS_iter(self, x, y): # preorder DFS vis stack\n",
    "        stack = [(x, y)]\n",
    "        while stack:\n",
    "            x, y = stack.pop()\n",
    "\n",
    "            if not x and not y: continue\n",
    "            if not x or not y: return False\n",
    "            \n",
    "            if x.val != y.val: return False\n",
    "\n",
    "            stack.append((x.left, y.left))\n",
    "            stack.append((x.right, y.right))\n",
    "            \n",
    "        return True\n",
    "        \n",
    "    ## 方法5 -----------------------------------\n",
    "    def BFS_iter(self, x, y):\n",
    "        # queue = deque([(x, y)])  # deque❎❤️ 注意 deque 中有一个 [], 也就是 deque 可以用 list 初始化\n",
    "        queue = deque()  # deque❎❤️: 或者定义生成, 然后再里面 append 元素\n",
    "        queue.append((x, y))\n",
    "        while queue:\n",
    "            x, y = queue.popleft()\n",
    "            if not x and not y: continue\n",
    "            if not x or not y: return False\n",
    "            \n",
    "            if x.val != y.val: return False\n",
    "            queue.append((x.left, y.left))\n",
    "            queue.append((x.right, y.right))\n",
    "            \n",
    "        return True"
   ]
  },
  {
   "cell_type": "markdown",
   "metadata": {
    "collapsed": true
   },
   "source": [
    "### [101.easy_Symmetric Tree](https://leetcode.com/problems/symmetric-tree/description/)\n",
    "##### 题意: 判断 binary tree 是否 symmetric, 即关于根节点对称. 有两种实现方法: recurision 和 iteration."
   ]
  },
  {
   "cell_type": "code",
   "execution_count": null,
   "metadata": {
    "collapsed": true
   },
   "outputs": [],
   "source": [
    "# Definition for a binary tree node.\n",
    "# class TreeNode(object):\n",
    "#     def __init__(self, x):\n",
    "#         self.val = x\n",
    "#         self.left = None\n",
    "#         self.right = None"
   ]
  },
  {
   "cell_type": "markdown",
   "metadata": {},
   "source": [
    "##### 方法1: recursive 的算法\n",
    "* The tree structure is recursive, so the recursive solution is easy to write. \n",
    "* https://leetcode.com/problems/symmetric-tree/discuss/33050\n",
    "* https://leetcode.com/problems/symmetric-tree/solution/"
   ]
  },
  {
   "cell_type": "code",
   "execution_count": null,
   "metadata": {
    "collapsed": true
   },
   "outputs": [],
   "source": [
    "\"\"\" 方法1: recursive 的算法\n",
    "总结❤️❤️  -------------\n",
    "  * ❤️ TC: O(n)   # because we traverse the entire input tree once, where n is the total \n",
    "                    number of nodes in the tree\n",
    "  * ❤️ SC: O(n)   # In the worst case, the tree is linear and the height is in O(n). \n",
    "                  # Therefore, space complexity due to recursive calls on the stack is\n",
    "                    O(n) in the worst case.\n",
    "---------------------\n",
    "\"\"\" \n",
    "\n",
    "class Solution(object):\n",
    "    def isSymmetric(self, root):\n",
    "        \"\"\"\n",
    "        :type root: TreeNode\n",
    "        :rtype: bool\n",
    "        \"\"\"\n",
    "        if root is None:  # ❤️ 这种写法更明确易读, 其实也可以写成 if not root\n",
    "            return True   # 有点类似于 linked-list \n",
    "        \n",
    "        return self.isMirror(root.left, root.right)\n",
    "       \n",
    "    # 方法1: 详细易懂\n",
    "    def isMirror(self, left, right):\n",
    "        if left is None and right is None: # ❤️ 同时为空\n",
    "            return True\n",
    "        if left is None or right is None: # ❤️ 有且只有一个位空, 另一个不为空\n",
    "            return False\n",
    "        \n",
    "        if left.val == right.val: # ❤️ 这样的结构更加容易读懂, 不求最短, 但求易懂\n",
    "            outPair = self.isMirror(left.left, right.right) #❤️ 靠以下两句实现前半部分顺序, 后半部分逆序.\n",
    "            inPair  = self.isMirror(left.right, right.left)\n",
    "            return outPair and inPair\n",
    "        else:\n",
    "            return False \n",
    "        \n",
    "    # 方法2: 简洁, 和其他题风格一致. 熟悉之后, 这个更容易懂. 和方法1 相比, 效率完全一样.\n",
    "    def isMirror_2(self, x, y):  # ❤️ 该风格更接近于 100. same tree\n",
    "        if not x and not y: return True\n",
    "        if not x or not y:  return False\n",
    "        \n",
    "        return (\n",
    "            x.val == y.val and \n",
    "            self.isMirror_2(x.left, y.right) and \n",
    "            self.isMirror_2(x.right, y.left)\n",
    "        )"
   ]
  },
  {
   "cell_type": "markdown",
   "metadata": {},
   "source": [
    "##### 方法2: iterative 算法: the essence of recursion is Stack, 所以借助 stack 实现 recursive 的算法.\n",
    "* https://leetcode.com/problems/symmetric-tree/discuss/33050"
   ]
  },
  {
   "cell_type": "code",
   "execution_count": null,
   "metadata": {
    "collapsed": true
   },
   "outputs": [],
   "source": [
    "\"\"\" 方法1: iteration 算法. symmetric 表示所有的 node 左右子节点是对称的. \n",
    "总结❤️❤️  -------------\n",
    "  * ❤️ TC: O(n)   # because we traverse the entire input tree once, where n is the total number of nodes in the tree\n",
    "  * ❤️ SC: O(n)   # In the worst case, the tree is linear and the height is in O(n). \n",
    "                  # Therefore, space complexity due to recursive calls on the stack is O(n) in the worst case.\n",
    "仔细对比 itertion 和 recursive 的区别.\n",
    "---------------------\n",
    "\"\"\" \n",
    "### 总结: 利用 stack 实现 DFS 的核心有两条: 1) FILO, 2) pop 一次一般 push 两次, 因此保证到 left node 之前 \n",
    "###      stack 一直不是空的.\n",
    "class Solution(object):\n",
    "    def isSymmetric(self, root):\n",
    "        \"\"\"\n",
    "        :type root: TreeNode\n",
    "        :rtype: bool\n",
    "        \"\"\"\n",
    "        if root is None:  # ❤️ 这种写法更明确易读, 其实也可以写成 if not root\n",
    "            return True   # 有点类似于 linked-list \n",
    "        \n",
    "        stack = [ (root.left, root.right) ]  # stack = [ (root, root) ] 也没问题.\n",
    "        while stack:\n",
    "            left, right = stack.pop() # tuple 的性质, 不需要 () 即可表示 tuple\n",
    "            if not left and not right:\n",
    "                continue      # ❤️ ❎ 不需要 return True, 因为还没有完成所有的对比.\n",
    "            if not left or not right:\n",
    "                return False\n",
    "            \n",
    "            if left.val != right.val: \n",
    "                return False\n",
    "            stack.append ( (left.left, right.right) )\n",
    "            stack.append ( (left.right, right.left) )\n",
    "            \n",
    "        return True # ❎❤️ 忘记这句了."
   ]
  },
  {
   "cell_type": "markdown",
   "metadata": {},
   "source": [
    "### [104.easy_Maximum Depth of Binary Tree](https://leetcode.com/problems/maximum-depth-of-binary-tree/description/)\n",
    "##### 题意如标题所示, maximum depth 指的是 <span class=\"burk\">the number of nodes</span> along the longest path from the root node down to the farthest leaf node. \n",
    "\n",
    "##### 分析\n",
    "##### 总结"
   ]
  },
  {
   "cell_type": "code",
   "execution_count": 1,
   "metadata": {
    "collapsed": true
   },
   "outputs": [],
   "source": [
    "# 方法1: 标准答案 https://leetcode.com/problems/maximum-depth-of-binary-tree/discuss/34216\n",
    "# 非常简单的代码.\n",
    "class Solution(object):\n",
    "    def maxDepth(self, root):\n",
    "        \"\"\"\n",
    "        :type root: TreeNode\n",
    "        :rtype: int\n",
    "        \"\"\"\n",
    "        if not root:\n",
    "            return 0\n",
    "        else:\n",
    "            return  1 + max(self.maxDepth(root.left), self.maxDepth(root.right))"
   ]
  },
  {
   "cell_type": "code",
   "execution_count": null,
   "metadata": {
    "collapsed": true
   },
   "outputs": [],
   "source": [
    "# 方法2: itertion. 更快一点.\n",
    "from collections import deque\n",
    "class Solution(object):\n",
    "    def maxDepth(self, root):\n",
    "        \"\"\"\n",
    "        :type root: TreeNode\n",
    "        :rtype: int\n",
    "        \"\"\"\n",
    "        if not root: return 0\n",
    "        \n",
    "        depth = 0\n",
    "        q = deque([root])\n",
    "        while q:\n",
    "            depth += 1\n",
    "            n = len(q)\n",
    "            for i in xrange(n):\n",
    "                node = q.popleft()\n",
    "                \n",
    "                if node.left: q.append(node.left)\n",
    "                if node.right: q.append(node.right)\n",
    "        return depth"
   ]
  },
  {
   "cell_type": "markdown",
   "metadata": {},
   "source": [
    "### [*108.easy-Convert Sorted Array to Binary Search Tree](https://leetcode.com/problems/convert-sorted-array-to-binary-search-tree/description/)\n",
    "##### 给定排序 list (in ascending), 将它转化成 a height balanced BST.\n",
    "* Defintion: a height-balanced binary tree is defined as a binary tree in which the depth of the two subtrees of every node never differ by more than 1.\n",
    "\n",
    "##### 分析\n",
    "* 每次挑选 node 是保持 height-balanced 的关键. 所以永远找 median 作为接下来的 children, 以此 "
   ]
  },
  {
   "cell_type": "code",
   "execution_count": null,
   "metadata": {
    "collapsed": true
   },
   "outputs": [],
   "source": [
    "# Definition for a binary tree node.\n",
    "# class TreeNode(object):\n",
    "#     def __init__(self, x):\n",
    "#         self.val = x\n",
    "#         self.left = None\n",
    "#         self.right = None"
   ]
  },
  {
   "cell_type": "code",
   "execution_count": null,
   "metadata": {
    "collapsed": true
   },
   "outputs": [],
   "source": [
    "# Leetcode 答案:\n",
    "# https://leetcode.com/problems/convert-sorted-array-to-binary-search-tree/discuss/35220/\n",
    "# ❤️❤️ 普通的 tree 需要 inorder 和 preorder (或 postorder) 的结果才能恢复 binary tree 结果.\n",
    "# ❤️❤️ 而对于 BST, 只需要 inorder (肯定是 sorted list) 就能恢复 BST 结构.\n",
    "class Solution(object):\n",
    "    def sortedArrayToBST(self, nums):\n",
    "        if not nums: return None\n",
    "        \n",
    "        root = self.sortedArrToBST_recur(nums, 0, len(nums)-1)\n",
    "        return root #❎ 虽然第一次写得时候, 正确, 但是在写得时候, 这句拉了, 导致错误\n",
    "        \n",
    "    def sortedArrToBST_recur(self, nums, l, r):\n",
    "        if l > r:  return None\n",
    "        \n",
    "        m = l + (r - l) / 2\n",
    "        node = TreeNode(nums[m])\n",
    "        \n",
    "        node.left  = self.sortedArrToBST_recur(nums, l, m - 1)\n",
    "        node.right = self.sortedArrToBST_recur(nums, m + 1, r)\n",
    "        \n",
    "        return node"
   ]
  },
  {
   "cell_type": "code",
   "execution_count": null,
   "metadata": {
    "collapsed": true
   },
   "outputs": [],
   "source": [
    "# ❤️❤️❤️❤️❤️❤️❤️❤️❤️❤️❤️❤️❤️❤️❤️❤️ iteration 答案, 待研究 ❤️❤️❤️❤️❤️❤️❤️❤️❤️❤️❤️❤️❤️❤️❤️❤️❤️❤️❤️❤️\n",
    "# https://leetcode.com/problems/convert-sorted-array-to-binary-search-tree/discuss/35218"
   ]
  },
  {
   "cell_type": "code",
   "execution_count": null,
   "metadata": {
    "collapsed": true
   },
   "outputs": [],
   "source": [
    "# 总结: 一次性 bug-free, 我写的, 1/27/18 09:19 AM \n",
    "# 然后, 还有美中不足的地方\n",
    "class Solution(object):\n",
    "    def sortedArrayToBST(self, nums):\n",
    "        \"\"\"\n",
    "        :type nums: List[int]\n",
    "        :rtype: TreeNode\n",
    "        \"\"\"\n",
    "        if not nums: return None\n",
    "        root = TreeNode(None)  # ❤️ 这一句其实没啥必要的.\n",
    "        root = self.sortedArrayToBST_recur(root, nums, 0, len(nums) -1)\n",
    "        return root\n",
    "    \n",
    "    def sortedArrayToBST_recur(self, root, nums, l, r): # ❤️ 这里输入的 root 其实没啥作用.\n",
    "        # 1 the basic cases \n",
    "        if l > r:   return None\n",
    "        \n",
    "        # 2 find the next element to add into the tree\n",
    "        m = l + (r - l) / 2\n",
    "        root = TreeNode(nums[m])\n",
    "        \n",
    "        root.left  = self.sortedArrayToBST_recur(root.left, nums, l, m - 1)\n",
    "        root.right = self.sortedArrayToBST_recur(root.right, nums, m + 1, r)\n",
    "        return root"
   ]
  },
  {
   "cell_type": "markdown",
   "metadata": {},
   "source": [
    "### [109.med-Convert Sorted List to Binary Search Tree](https://leetcode.com/problems/convert-sorted-list-to-binary-search-tree/description/)\n",
    "##### 题意: Given a singly linked list where elements are sorted in ascending order, convert it to a height balanced BST."
   ]
  },
  {
   "cell_type": "code",
   "execution_count": null,
   "metadata": {
    "collapsed": true
   },
   "outputs": [],
   "source": [
    "# Definition for singly-linked list.\n",
    "# class ListNode(object):\n",
    "#     def __init__(self, x):\n",
    "#         self.val = x\n",
    "#         self.next = None\n",
    "\n",
    "# Definition for a binary tree node.\n",
    "# class TreeNode(object):\n",
    "#     def __init__(self, x):\n",
    "#         self.val = x\n",
    "#         self.left = None\n",
    "#         self.right = None\n",
    "\n",
    "class Solution(object):\n",
    "    def sortedListToBST(self, head):\n",
    "        \"\"\"\n",
    "        :type head: ListNode\n",
    "        :rtype: TreeNode\n",
    "        \"\"\"\n",
    "        if not head: return None\n",
    "        \n",
    "        return self.dfs(head)\n",
    "        \n",
    "    def dfs(self, head):\n",
    "        if not head: return None\n",
    "        if not head.next: \n",
    "            return TreeNode(head.val)\n",
    "    \n",
    "        slow = head\n",
    "        fast = head.next.next # ❤️❤️👍👍 这个是非常独特的写法, ❤️正好是 mid 的前一个元素❤️\n",
    "        while fast and fast.next:\n",
    "            fast = fast.next.next\n",
    "            slow = slow.next\n",
    "        mid, slow.next = slow.next, None\n",
    "        \n",
    "        node = TreeNode(mid.val)\n",
    "        node.left = self.dfs(head)\n",
    "        node.right = self.dfs(mid.next)\n",
    "        \n",
    "        return node"
   ]
  },
  {
   "cell_type": "markdown",
   "metadata": {},
   "source": [
    "### [*111.easy_Minimum Depth of Binary Tree](https://leetcode.com/problems/minimum-depth-of-binary-tree/description/)\n",
    "##### 题意: 和 104 类似, 只是找 minimum depth\n",
    "\n",
    "##### 总结: https://www.youtube.com/watch?v=Knj-ViB96JM"
   ]
  },
  {
   "cell_type": "code",
   "execution_count": null,
   "metadata": {
    "collapsed": true
   },
   "outputs": [],
   "source": [
    "# 答案和分析: https://www.youtube.com/watch?v=Knj-ViB96JM\n",
    "# ❤️❤️ 总结 tree 题的通用方法❤️❤️: 站在一个节点, 假设递归方程已经写好, 能够得到左右节点的解. 对于当前节点, 重点考虑\n",
    "#     需要什么样的逻辑 combine 两个子节点的解. tree 问题即是 recursion 问题, 也是 D & C 问题.\n",
    "# 总结 2/5: 需要对比 node 和 two children 之间的关系, 往往需要 postorder 顺序了; 只需要对比 node \n",
    "#           和其中一个 node 之间的关系, 则需要 preorder 或 inorder 的关系. \n",
    "class Solution(object):\n",
    "    def minDepth(self, root):\n",
    "        \"\"\"\n",
    "        :type root: TreeNode\n",
    "        :rtype: int\n",
    "        \"\"\"\n",
    "        if not root: return 0 # ❤️ depth 计算的是经历的 node 个数. 终止条件就是 node 为 None.\n",
    "        \n",
    "        if not root.left: #❤️ 站在 root, 如果 root.left 为空, 则只看 right sub-tree\n",
    "            return 1 + self.minDepth(root.right)\n",
    "        if not root.right: # 如果 root.right 为空, 则只看 left sub-tree\n",
    "            return 1 + self.minDepth(root.left)\n",
    "        \n",
    "        return 1 + min(self.minDepth(root.left), self.minDepth(root.right))\n",
    "    \n",
    "    def minDepth_2(self, root): #❤️这样的代码更鲁棒一些❤️ 其实和方法1 是一样的, 只是写得更繁琐一些.\n",
    "        if not root: return 0\n",
    "        left = self.minDepth(root.left)\n",
    "        right = self.minDepth(root.right)\n",
    "        \n",
    "        if not root.left: \n",
    "            return 1 + right\n",
    "        if not root.right:\n",
    "            return 1 + left\n",
    "        return 1 + min(left, right)"
   ]
  },
  {
   "cell_type": "markdown",
   "metadata": {},
   "source": [
    "## 2/1-Tree"
   ]
  },
  {
   "cell_type": "markdown",
   "metadata": {},
   "source": [
    "### [110.easy-Balanced Binary Tree](https://leetcode.com/problems/balanced-binary-tree/description/)\n",
    "##### 题意: 给定 binay tree, 判断是否是 height-balanced?\n",
    "* 什么叫 height-balanced? 即左右子树的 depth 差别 no more than 1.\n",
    "\n",
    "##### 分析\n",
    "* 简单, travesal 每个 node, 判断左右 children 的长度是否\n",
    "\n",
    "##### 参考\n",
    "* 花花: https://www.youtube.com/watch?v=C75oWiy0bWM 给出两种答案.\n",
    "* leetcode 参考: https://discuss.leetcode.com/topic/7798/the-bottom-up-o-n-solution-would-be-better 各处两种答案."
   ]
  },
  {
   "cell_type": "code",
   "execution_count": null,
   "metadata": {
    "collapsed": true
   },
   "outputs": [],
   "source": [
    "# 方法1: bottom up, dfs, 从最leaf 节点判断来是否是平衡二叉树. 只需要遍历一次即可, TC,SC: O(n)\n",
    "# 总结: 难点是 self.dfs 不能传出两个参数: depth + balancedOrNot. 所以这里需要定义一个成员变量,\n",
    "# 遍历所有的解. 但其实, 可以用两个递归函数搞定的.\n",
    "# postorder: left -> right -> root.\n",
    "class Solution(object):\n",
    "    def __init__(self):\n",
    "        self.balanced = True\n",
    "        \n",
    "    def isBalanced(self, root):\n",
    "        \"\"\"\n",
    "        :type root: TreeNode\n",
    "        :rtype: bool\n",
    "        \"\"\"\n",
    "        if not root: return True\n",
    "        \n",
    "        self.dfs(root)\n",
    "        return self.balanced\n",
    "        \n",
    "    def dfs(self, node):\n",
    "        # 1 basic case\n",
    "        if not node: return 0\n",
    "        \n",
    "        # 2 count the depth of left and right subtrees\n",
    "        left = self.dfs(node.left)\n",
    "        right = self.dfs(node.right)\n",
    "        \n",
    "        # compare them: 一个 False 全部 false. \n",
    "        self.balanced = self.balanced and abs(left - right) < 2\n",
    "        \n",
    "        return 1 + max(left, right)"
   ]
  },
  {
   "cell_type": "code",
   "execution_count": null,
   "metadata": {
    "collapsed": true
   },
   "outputs": [],
   "source": [
    "# 方法2: top down. 需要两层递归. 判断每棵子树是否是平衡. 从上往下.\n",
    "# 虽然代码漂亮, 但复杂度远比方法1大:\n",
    "#         average TC & SC: O(nlogn)\n",
    "#         worst case TC & SC: O(n^2)\n",
    "class Solution(object):        \n",
    "    def isBalanced(self, root):\n",
    "        \"\"\"\n",
    "        :type root: TreeNode\n",
    "        :rtype: bool\n",
    "        \"\"\"\n",
    "        if not root: return True\n",
    "        \n",
    "        return (\n",
    "            abs(self.depth(root.left) - self.depth(root.right)) <= 1 and\n",
    "            self.isBalanced(root.left) and \n",
    "            self.isBalanced(root.right)\n",
    "        )\n",
    "        \n",
    "    def depth(self, node):\n",
    "        if not node: return 0\n",
    "        return 1 + max(self.depth(node.left), self.depth(node.right))"
   ]
  },
  {
   "cell_type": "markdown",
   "metadata": {},
   "source": [
    "### [173.med-Binary Search Tree Iterator](https://leetcode.com/problems/binary-search-tree-iterator/description/)\n",
    "##### 题意: 给定 BST, 实现两个功能 .<span class=\"girk\"><span class=\"girk\">next()</span></span> 和 .hasnext()\n",
    "* <span class=\"girk\">next()</span> will return the next smallest number in the BST.\n",
    "* Note: <span class=\"girk\">next()</span> and <span class=\"girk\">hasNext()</span> should run in average <span class=\"girk\">O(1) time</span>  and uses <span class=\"girk\">O(h) memory</span>, where h is the height of the tree."
   ]
  },
  {
   "cell_type": "code",
   "execution_count": null,
   "metadata": {
    "collapsed": true
   },
   "outputs": [],
   "source": [
    "# 评价: 将 inorder 的 iteration 分别写到两个函数中:\n",
    "#     hasnext() 实现了 压入左子树的过程, 并判断 stack 是否为空\n",
    "#     next() 实现了, pop 取出当前节点, 并把self.node 掰到 right sub-tree 上.\n",
    "class BSTIterator(object):\n",
    "    def __init__(self, root):\n",
    "        \"\"\"\n",
    "        :type root: TreeNode\n",
    "        \"\"\"\n",
    "        self.node = root\n",
    "        self.stack = []\n",
    "\n",
    "    def hasNext(self):\n",
    "        \"\"\"\n",
    "        :rtype: bool\n",
    "        \"\"\"\n",
    "        node = self.node\n",
    "        # if not self.stack:  # ❎❎❎ 不能等着 stack 空了, 再压入 right sub-tree, 不然会丢失很多右子树.\n",
    "        while node: # build the stack\n",
    "            self.stack.append(node)\n",
    "            node = node.left\n",
    "        return len(self.stack) > 0\n",
    "\n",
    "    def next(self):\n",
    "        \"\"\"\n",
    "        :rtype: int\n",
    "        \"\"\"\n",
    "        node = self.stack.pop()\n",
    "        rst = node.val\n",
    "        self.node = node.right\n",
    "        return rst      \n",
    "\n",
    "# Your BSTIterator will be called like this:\n",
    "# i, v = BSTIterator(root), []\n",
    "# while i.hasNext(): v.append(i.next())"
   ]
  },
  {
   "cell_type": "markdown",
   "metadata": {},
   "source": [
    "### [230.med-Kth Smallest Element in a BST](https://leetcode.com/problems/kth-smallest-element-in-a-bst/description/)\n",
    "\n",
    "##### 题意: 给定 BST, 找到第 k 最小的元素\n",
    "* Note that: you may assume k is always valid, 1 ≤ k ≤ BST's total elements.\n",
    "* Follow up:\n",
    "    * BST is modified (insert/delete operations) often and you need to find the kth smallest frequently? How would you optimize the kthSmallest routine?\n",
    "    * <span class=\"mark\">分析</span>: Follow up 是为了避免直接对 BST 遍历, 将 BST 转化成 sorted list, 然后对 sorted list取第 k 个元素的<span class=\"mark\">思路</span>. 这种算法显然对多变的 BST 是不好的."
   ]
  },
  {
   "cell_type": "code",
   "execution_count": null,
   "metadata": {
    "collapsed": true
   },
   "outputs": [],
   "source": [
    "# 方法1: iteration \n",
    "class Solution(object):\n",
    "    def kthSmallest(self, root, k):\n",
    "        \"\"\"\n",
    "        :type root: TreeNode\n",
    "        :type k: int\n",
    "        :rtype: int\n",
    "        \"\"\"\n",
    "        if not root: return -1\n",
    "        \n",
    "        stack, node = [], root\n",
    "        while stack or node:\n",
    "            while node:\n",
    "                stack.append(node)\n",
    "                node = node.left\n",
    "            node = stack.pop()\n",
    "            k -= 1\n",
    "            if k == 0: return node.val\n",
    "            node = node.right\n",
    "            \n",
    "        return -1"
   ]
  },
  {
   "cell_type": "code",
   "execution_count": 1,
   "metadata": {
    "collapsed": true
   },
   "outputs": [],
   "source": [
    "# 方法2: recursion\n",
    "class Solution(object):\n",
    "    def __init__(self):\n",
    "        self.kth = -1 #❎❎❎❎ 必须赋值, 否则 python 不认识这个变量 👍👍👍👍👍👍\n",
    "        self.k = 0\n",
    "        \n",
    "    def kthSmallest(self, root, k):\n",
    "        \"\"\"\n",
    "        :type root: TreeNode\n",
    "        :type k: int\n",
    "        :rtype: int\n",
    "        \"\"\"\n",
    "        self.k = k\n",
    "        self.dfs(root)\n",
    "        return self.kth\n",
    "        \n",
    "    def dfs(self, node):\n",
    "        if not node: return \n",
    "        \n",
    "        self.dfs(node.left)\n",
    "        self.k -= 1\n",
    "        if self.k == 0:\n",
    "            self.kth = node.val\n",
    "        elif self.k < 0: ## 👍👍❤️❤️ 这句是为了避免不必要的递归.\n",
    "            return \n",
    "        self.dfs(node.right)"
   ]
  },
  {
   "cell_type": "markdown",
   "metadata": {},
   "source": [
    "### [**235.easy-Lowest Common Ancestor of a Binary Search Tree](https://leetcode.com/problems/lowest-common-ancestor-of-a-binary-search-tree/description/)\n",
    "##### 题意: 给定 BST 和 two nodes, 找到 lowest common ancestor (LCA).\n",
    "* lowest common ancestor (LCA) 指得是包含着两个 node 的 sub-tree 的 root.\n",
    "* 要不要利用 BST 的性质.\n",
    "* 注意: a node to be a descendant of itself.\n",
    "\n",
    "##### 思路: 对于 BST, 找到第一个 node 符合 <span class=\"girk\"> p <= node <=  q</span>\n",
    "\n",
    "##### 参考资料:\n",
    "* https://www.youtube.com/watch?v=TIoCCStdiFo\n",
    "* https://www.youtube.com/watch?v=DEvAPLMMg2A"
   ]
  },
  {
   "cell_type": "code",
   "execution_count": null,
   "metadata": {
    "collapsed": true
   },
   "outputs": [],
   "source": [
    "# 方法1: recursion\n",
    "class Solution(object):       \n",
    "    def lowestCommonAncestor(self, root, p, q):\n",
    "        \"\"\"\n",
    "        :type root: TreeNode\n",
    "        :type p: TreeNode\n",
    "        :type q: TreeNode\n",
    "        :rtype: TreeNode\n",
    "        \"\"\"\n",
    "        if root.val < min(p.val, q.val): # 不检查以下 p 和 q 的性质吗???\n",
    "            return self.lowestCommonAncestor(root.right, p, q) # ❎❎ 竟然忘记写 return 了\n",
    "        elif root.val > max(p.val, q.val):\n",
    "            return self.lowestCommonAncestor(root.left, p, q) # ❎❎ 竟然忘记写 return 了\n",
    "        else: #❤️❤️❤️ 正好是\"一大一小\"❤️❤️❤️, 否则隔着层的不满足条件.\n",
    "            return root"
   ]
  },
  {
   "cell_type": "code",
   "execution_count": null,
   "metadata": {
    "collapsed": true
   },
   "outputs": [],
   "source": [
    "class Solution(object):       \n",
    "    def lowestCommonAncestor(self, root, p, q):\n",
    "        \"\"\"\n",
    "        :type root: TreeNode\n",
    "        :type p: TreeNode\n",
    "        :type q: TreeNode\n",
    "        :rtype: TreeNode\n",
    "        \"\"\"\n",
    "        if not root: return None\n",
    "        \n",
    "        node = root\n",
    "        while node: # ❤️❤️❤️❤️ 注意条件\n",
    "            if node.val < min(p.val, q.val):\n",
    "                node = node.right\n",
    "            elif node.val > max(p.val, q.val):\n",
    "                node = node.left\n",
    "            else:\n",
    "                return node\n",
    "        return None"
   ]
  },
  {
   "cell_type": "markdown",
   "metadata": {},
   "source": [
    "### [***236.med-Lowest Common Ancestor of a Binary Tree](https://leetcode.com/problems/lowest-common-ancestor-of-a-binary-tree/description/)\n",
    "##### 题意: 给定 binary tree 和 tree 中的两个 node, 找到它们的 Lowest Common Ancestor.\n",
    "* 和 235 不同, 235 给定的是BST, 而这里给定的只是 binary tree.\n",
    "\n",
    "##### 分析\n",
    "* 思路: 利用 D & Q, 利用返回的 node 表明找到与否.\n",
    "* 参考: https://www.youtube.com/watch?v=WqNULaUhPCc"
   ]
  },
  {
   "cell_type": "code",
   "execution_count": null,
   "metadata": {
    "collapsed": true
   },
   "outputs": [],
   "source": [
    "# 思路: 利用 D & Q, 利用返回的 node 表明找到与否. 如果 left 和 right 同时查到, 改变返回的node \n",
    "# 为当前 node. postorder 遍历的方式.\n",
    "class Solution(object):      \n",
    "    def lowestCommonAncestor(self, root, p, q):\n",
    "        \"\"\"\n",
    "        :type root: TreeNode\n",
    "        :type p: TreeNode\n",
    "        :type q: TreeNode\n",
    "        :rtype: TreeNode\n",
    "        \"\"\"\n",
    "        # 1 edge condition \n",
    "        if not root: return None\n",
    "        if root == p or root == q: # 如果有一个相等, 则表明找到一个 p 或 q 了,\n",
    "            return root\n",
    "        \n",
    "        # 2 divide \n",
    "        left = self.lowestCommonAncestor(root.left, p, q)\n",
    "        right = self.lowestCommonAncestor(root.right, p, q)\n",
    "        \n",
    "        # 3 conquer # 👍👍👍 非线性部分. 如果 left 和 right 同时查到, 改变返回的node 为当前 node.\n",
    "        if left and right: #❤️👍❤️ 利用返回 node 表明查到与否, 都查到了, 则返回 root.\n",
    "            return root # 那么其他枝的 sub-tree 就不可能包含 p & q 了.\n",
    "        \n",
    "        # 否则至少一个没查到, 则返回查到的那个, 如果两个都没查到 则返回 None .\n",
    "        # ❤️ 存在一种情况, left 或 right 已经包含 p & q, 则另外的 sub-tree 不可能包含 p & q,\n",
    "        # left or right 返回的还是找到同时包含 p & q 的那个 node.\n",
    "        return left or right      "
   ]
  },
  {
   "cell_type": "code",
   "execution_count": null,
   "metadata": {
    "collapsed": true
   },
   "outputs": [],
   "source": [
    "class Solution(object):\n",
    "    def lowestCommonAncestor(self, root, p, q):\n",
    "        \"\"\"\n",
    "        :type root: TreeNode\n",
    "        :type p: TreeNode\n",
    "        :type q: TreeNode\n",
    "        :rtype: TreeNode\n",
    "        \"\"\"\n",
    "        return self.dfs(root, p, q)\n",
    "        \n",
    "    def dfs(self, root, p, q):\n",
    "        if not root: return None\n",
    "        if root is p or root is q: return root\n",
    "        \n",
    "        left = self.dfs(root.left, p, q)\n",
    "        right = self.dfs(root.right, p, q)\n",
    "        \n",
    "        if left and right:\n",
    "            return root\n",
    "        else:\n",
    "            return left or right"
   ]
  },
  {
   "cell_type": "markdown",
   "metadata": {},
   "source": [
    "### [❤️501.easy-Find Mode in Binary Search Tree](https://leetcode.com/problems/find-mode-in-binary-search-tree/description/)\n",
    "##### 题意: 给定 BST 找到 modes, 关键是 BST, inorder 遍历即是升序遍历.\n",
    "* 什么叫 modes? 就是 the most frequently occurred element.\n",
    "* 如果 mode 出现多次, 就把它们都返回.\n",
    "* **Follow up**: Could you do that without using any extra space? (Assume that the implicit stack space incurred due to recursion does not count)."
   ]
  },
  {
   "cell_type": "code",
   "execution_count": null,
   "metadata": {
    "collapsed": true
   },
   "outputs": [],
   "source": [
    "# 方法1: 不需要额外的空间. ❤️ 对于BST, 总是可以 inorder, 升序处理每个元素. 因为有顺序, 很多问题可以通过\n",
    "# 考察前后两个元素的关系. 如此, 即可使用 prev 和 curr 对比来得到合适的结果.\n",
    "class Solution(object):\n",
    "    def __init__(self):\n",
    "        self.maxcnt = 0\n",
    "        self.cnt = 0\n",
    "        self.prev = None # ❤️ prev 存放值, 不是node, 这样更方便.\n",
    "        \n",
    "    def findMode(self, root):\n",
    "        \"\"\"\n",
    "        :type root: TreeNode\n",
    "        :rtype: List[int]\n",
    "        \"\"\"\n",
    "        rst = []\n",
    "        self.inorder(root, rst)\n",
    "        return rst\n",
    "        \n",
    "    def inorder(self, node, rst): # inorder traversal\n",
    "        if not node: return\n",
    "        \n",
    "        self.inorder(node.left, rst) \n",
    "        # -----------------------------\n",
    "        self.cnt = self.cnt + 1 if self.prev == node.val else 1 #❤️❤️❤️非线性部分.\n",
    "        if self.cnt == self.maxcnt:\n",
    "            rst.append(node.val)\n",
    "        elif self.cnt > self.maxcnt:\n",
    "            self.maxcnt = self.cnt\n",
    "            while rst: rst.pop() # 清空结果.\n",
    "            rst.append(node.val)\n",
    "        # -----------------------------   \n",
    "        self.prev = node.val\n",
    "        self.inorder(node.right, rst)"
   ]
  },
  {
   "cell_type": "code",
   "execution_count": null,
   "metadata": {
    "collapsed": true
   },
   "outputs": [],
   "source": [
    "# 方法2: 需要额外的空间, 利用 hash-table 记录 key 的频.\n",
    "class Solution(object):\n",
    "    def __init__(self):\n",
    "        self.maxcnt = 0\n",
    "        self.dic = {}\n",
    "        \n",
    "    def findMode(self, root):\n",
    "        \"\"\"\n",
    "        :type root: TreeNode\n",
    "        :rtype: List[int]\n",
    "        \"\"\"\n",
    "        self.dfs(root)\n",
    "        rst = []\n",
    "        for key, cnt in self.dic.items():\n",
    "            if cnt == self.maxcnt: rst.append(key)\n",
    "        return rst\n",
    "    \n",
    "    def dfs(self, node):\n",
    "        if not node: return \n",
    "\n",
    "        self.dic[node.val] = self.dic.get(node.val, 0) + 1\n",
    "        self.maxcnt = max(self.maxcnt, self.dic[node.val])\n",
    "        self.dfs(node.left)\n",
    "        self.dfs(node.right)"
   ]
  },
  {
   "cell_type": "code",
   "execution_count": null,
   "metadata": {
    "collapsed": true
   },
   "outputs": [],
   "source": [
    "# 方法3: 和方法2 类似, 只是我们把 maxcnt 也传进去了, 利用传参的方式太麻烦了, python 就没有引用传参, \n",
    "# 只有可变变量和不可变变量的区别, 对传参不是很方便.\n",
    "#   http://blog.csdn.net/u012513525/article/details/69681810\n",
    "\n",
    "class Solution(object):\n",
    "    def findMode(self, root):\n",
    "        \"\"\"\n",
    "        :type root: TreeNode\n",
    "        :rtype: List[int]\n",
    "        \"\"\"\n",
    "        dic, rst, maxcnt = {}, [], 0\n",
    "        maxcnt = self.dfs(root, dic, maxcnt)\n",
    "        for key, cnt in dic.items():\n",
    "            if cnt == maxcnt:\n",
    "                rst.append(key)\n",
    "        return rst\n",
    "    \n",
    "    def dfs(self, node, dic, maxcnt):\n",
    "        if not node: return maxcnt\n",
    "        \n",
    "        dic[node.val] = dic.get(node.val,0) + 1\n",
    "        maxcnt = max(maxcnt, dic[node.val])\n",
    "        maxcnt = self.dfs(node.left, dic, maxcnt)\n",
    "        maxcnt = self.dfs(node.right, dic, maxcnt)\n",
    "        return maxcnt"
   ]
  },
  {
   "cell_type": "markdown",
   "metadata": {},
   "source": [
    "### [530.easy-Minimum Absolute Difference in BST](https://leetcode.com/problems/minimum-absolute-difference-in-bst/description/)\n",
    "##### 给定 BST (每个元素非负), 找到最小 abs 差异 between two nodes.\n",
    "\n",
    "##### 分析:\n",
    "* BST 是有序的, 最小 abs 必然存在 相邻 node 之间, left -> root -> right 的顺序.\n",
    "* 遍历 BST 所有元素.\n",
    "* 难点: 要抽取两个元素的时候, 才能求差异. <span class=\"girk\">利用 prev 记录上一个 node 的值</span>."
   ]
  },
  {
   "cell_type": "code",
   "execution_count": null,
   "metadata": {
    "collapsed": true
   },
   "outputs": [],
   "source": [
    "# 方法1: iteration\n",
    "class Solution(object):\n",
    "    def getMinimumDifference(self, root):\n",
    "        \"\"\"\n",
    "        :type root: TreeNode\n",
    "        :rtype: int\n",
    "        \"\"\"\n",
    "        #1 no need to check edge conidtion since BST has at least two nodes. \n",
    "        stack, node = [], root\n",
    "        cur = None\n",
    "        minDist = prev = float(\"inf\")\n",
    "        \n",
    "        # 2 inorder travesal\n",
    "        while stack or node:\n",
    "            while node: # go to the far left leaf node.\n",
    "                stack.append(node)\n",
    "                node = node.left\n",
    "                \n",
    "            node = stack.pop()\n",
    "            cur = node.val\n",
    "                       \n",
    "            minDist = min(minDist, abs(cur - prev))\n",
    "            prev = cur\n",
    "            \n",
    "            node = node.right\n",
    "        return minDist"
   ]
  },
  {
   "cell_type": "code",
   "execution_count": null,
   "metadata": {
    "collapsed": true
   },
   "outputs": [],
   "source": [
    "# 方法1: recursion\n",
    "class Solution(object):\n",
    "    def __init__(self):\n",
    "        self.prev = float(\"inf\")\n",
    "        self.minDist = float(\"inf\")\n",
    "        \n",
    "    def getMinimumDifference(self, root):\n",
    "        \"\"\"\n",
    "        :type root: TreeNode\n",
    "        :rtype: int\n",
    "        \"\"\"\n",
    "        self.inorder(root)\n",
    "        return self.minDist\n",
    "        \n",
    "    def inorder(self, node):\n",
    "        if not node: return \n",
    "        \n",
    "        self.inorder(node.left)\n",
    "        \n",
    "        # ❤️ 通过初始化 prev = inf, 避免了判断 prev 存在与否 (和上一个 code 的对比)\n",
    "        self.minDist = min(self.minDist, abs(node.val - self.prev))\n",
    "        self.prev = node.val\n",
    "        \n",
    "        self.inorder(node.right)"
   ]
  },
  {
   "cell_type": "markdown",
   "metadata": {},
   "source": [
    "### [654.med-Maximum Binary Tree](https://leetcode.com/problems/maximum-binary-tree/description/)\n",
    "##### 题意: 给定array, 每个元素都不重复, 构建 maximum binary tree. 规则如下:\n",
    "* root 是 array 中最大的值. \n",
    "* left sub-tree 也是 max binary tree, 由左半部分 array 构建.\n",
    "* right sub-tree 也是 max binary tree, 由右半部分 array 构建.\n",
    "\n",
    "##### 分析: 和 108.easy-Convert Sorted Array to Binary Search Tree 很像."
   ]
  },
  {
   "cell_type": "code",
   "execution_count": null,
   "metadata": {
    "collapsed": true
   },
   "outputs": [],
   "source": [
    "class Solution(object):\n",
    "    def constructMaximumBinaryTree(self, nums):\n",
    "        \"\"\"\n",
    "        :type nums: List[int]\n",
    "        :rtype: TreeNode\n",
    "        \"\"\"\n",
    "        if not nums: return None\n",
    "        root = self.dfs(nums, 0, len(nums) - 1)\n",
    "        return root    \n",
    "        \n",
    "    def dfs(self, nums, l, r): #❎❎ 本质上是 preorder.\n",
    "        # 1 edge condition\n",
    "        if l > r: return None\n",
    "        \n",
    "        # 2 find the maxval and ind. \n",
    "        #  maxval is used to construct the current node\n",
    "        #  ind is used to partition the array into two parts to construct the subtrees\n",
    "        maxval, ind = self.findmax(nums, l, r)\n",
    "        node = TreeNode(maxval)\n",
    "        node.left = self.dfs(nums, l, ind - 1)\n",
    "        node.right = self.dfs(nums, ind + 1, r)\n",
    "        return node\n",
    "        \n",
    "    def findmax(self, nums, l, r):\n",
    "        maxval, ind = float(\"-inf\"), None\n",
    "        for i in xrange(l, r + 1):\n",
    "            if nums[i] > maxval:\n",
    "                maxval, ind = nums[i], i\n",
    "        return maxval, ind"
   ]
  },
  {
   "cell_type": "markdown",
   "metadata": {},
   "source": [
    "## 1/31-Tree travesal"
   ]
  },
  {
   "cell_type": "markdown",
   "metadata": {},
   "source": [
    "### [144.med-Binary Tree Preorder Traversal](https://leetcode.com/problems/binary-tree-preorder-traversal/description/)\n",
    "\n",
    "##### 题意: preorder traversal & iteration\n",
    "* preorder: root -> left -> right\n",
    "\n",
    "##### 分析: 貌似挺简单的哦.. 思如如下:\n",
    "利用 stack 模拟 recursion 的过程.\n",
    "* 先处理 root, \n",
    "* 然后 push right node 和 left node. \n",
    "* 此时 left node 是 stack 的 top, pop 处理 left node 并处理它.\n",
    "* 完了之后 push left left node. 就这样沿着 left subtree 这一枝下来."
   ]
  },
  {
   "cell_type": "code",
   "execution_count": null,
   "metadata": {
    "collapsed": true
   },
   "outputs": [],
   "source": [
    "# 方法1: iteration-1: 34ms 👍👍👍👍\n",
    "class Solution(object):\n",
    "    def preorderTraversal(self, root):\n",
    "        \"\"\"\n",
    "        :type root: TreeNode\n",
    "        :rtype: List[int]\n",
    "        \"\"\"\n",
    "        if not root: return []\n",
    "        \n",
    "        rst, stack = [], [root]\n",
    "        while stack:\n",
    "            node = stack.pop()\n",
    "            if not node: continue\n",
    "            rst.append(node.val)\n",
    "            \n",
    "            stack.append(node.right) # ❤️👍 push 先 right 和 left, pop 正好相反.\n",
    "            stack.append(node.left)\n",
    "            \n",
    "        return rst"
   ]
  },
  {
   "cell_type": "code",
   "execution_count": null,
   "metadata": {
    "collapsed": true
   },
   "outputs": [],
   "source": [
    "# 方法2: iteration-2: 36ms\n",
    "class Solution(object):\n",
    "    def preorderTraversal(self, root):\n",
    "        \"\"\"\n",
    "        :type root: TreeNode\n",
    "        :rtype: List[int]\n",
    "        \"\"\"\n",
    "        if not root: return []\n",
    "        \n",
    "        rst, stack = [], [root]\n",
    "        while stack:\n",
    "            node = stack.pop() \n",
    "            rst.append(node.val)  # 不需要检查 node 是否为空\n",
    "            \n",
    "            if node.right: stack.append(node.right) # 因为了这句, 压进去的都是 非空 node.\n",
    "            if node.left: stack.append(node.left)\n",
    "                \n",
    "        return rst"
   ]
  },
  {
   "cell_type": "code",
   "execution_count": null,
   "metadata": {
    "collapsed": true
   },
   "outputs": [],
   "source": [
    "# 方法3: recursion: 37 ms\n",
    "class Solution(object):\n",
    "    def preorderTraversal(self, root):\n",
    "        \"\"\"\n",
    "        :type root: TreeNode\n",
    "        :rtype: List[int]\n",
    "        \"\"\"\n",
    "        if not root: return []\n",
    "        rst = []\n",
    "        self.dfs(root, rst)\n",
    "        return rst # ❎ 忘记 return 了.\n",
    "    \n",
    "    def dfs(self, node, rst):\n",
    "        if not node: return\n",
    "        \n",
    "        rst.append(node.val)\n",
    "        self.dfs(node.left, rst) # ❎ 忘记 rst.\n",
    "        self.dfs(node.right, rst)"
   ]
  },
  {
   "cell_type": "markdown",
   "metadata": {},
   "source": [
    "### [94.med-Binary Tree Inorder Traversal](https://leetcode.com/problems/binary-tree-inorder-traversal/description/)\n",
    "##### 题意: iteration inorder travese binary tree\n",
    "* 重点是需要 iteration 而不是 recursion.\n",
    "* inorder 的顺序是: left -> root -> right\n",
    "\n",
    "##### 思路 (iteration 模拟 recursion 的过程.)\n",
    "* 通过两重 while 循环, 内 while 循环是不断将 left node push 到 stack 中, 直到碰到 None node. \n",
    "* 出了内循环,  将left node 处理了. \n",
    "* 然后, 马上模拟 recursion 操作, 将 node = node.right, 然后又是不断的 push left node."
   ]
  },
  {
   "cell_type": "code",
   "execution_count": null,
   "metadata": {
    "collapsed": true
   },
   "outputs": [],
   "source": [
    "# 方法1: iteration 方法\n",
    "class Solution(object):\n",
    "    def inorderTraversal(self, root):\n",
    "        \"\"\"\n",
    "        :type root: TreeNode\n",
    "        :rtype: List[int]\n",
    "        \"\"\"\n",
    "        if not root: return []\n",
    "        \n",
    "        stack, node, rst = [], root, []\n",
    "        while stack or node: #👍👍👍 条件中放入 node 至关重要, 不然都不能进入 while 循环运行.\n",
    "            # 👍 内 while 循环将 left & right sub-tree 压入栈中. 先压 left, 后压 right\n",
    "            while node: #❤️ 这一句保证 stack 的 node 全是非空的.\n",
    "                stack.append(node)\n",
    "                node = node.left\n",
    "            \n",
    "            node = stack.pop() #❤️ 因此, 以下几句是不需要判断 node 是否为空的.\n",
    "            rst.append(node.val)\n",
    "                \n",
    "            node = node.right #👍👍👍👍👍 点睛之笔.\n",
    "            \n",
    "        return rst"
   ]
  },
  {
   "cell_type": "code",
   "execution_count": null,
   "metadata": {
    "collapsed": true
   },
   "outputs": [],
   "source": [
    "# 方法2: recursion 方法\n",
    "class Solution(object):\n",
    "    def inorderTraversal(self, root):\n",
    "        \"\"\"\n",
    "        :type root: TreeNode\n",
    "        :rtype: List[int]\n",
    "        \"\"\"\n",
    "        if not root: return []\n",
    "        rst = []\n",
    "        self.dfs(root, rst)\n",
    "        return rst\n",
    "    \n",
    "    def dfs(self, node, rst):\n",
    "        if not node: return\n",
    "        \n",
    "        self.dfs(node.left, rst) # ❎ 竟然忘记把 rst 放入输入参数了\n",
    "        rst.append(node.val)\n",
    "        self.dfs(node.right, rst)"
   ]
  },
  {
   "cell_type": "markdown",
   "metadata": {},
   "source": [
    "### [*145.hard-Binary Tree Postorder Traversal](https://leetcode.com/problems/binary-tree-postorder-traversal/description/)\n",
    "##### 题意: recursion 实现 postorder 太简单, 能否使用 iteration 实现 postorder.\n",
    "* 补充: postorder 指的是 left -> right -> root 的顺序.\n",
    "\n",
    "##### 分析:\n",
    "* <span class=\"mark\">思路</span>: 先做 <span class=\"girk\">reverse postorder</span>, 然后逆序即可.\n",
    "* Reverse postorder 和 preorder 比较接近; reverse postorder 和 preorder 正好互为逆序.\n",
    "    * reverse postorder: root -> right -> left. \n",
    "    * preorder: root -> left -> right. 其实postorder 的做法和 iterative preorder 非常相似, 非常简答.\n",
    "    * postorder: left -> right -> root. \n",
    "\n",
    "\n",
    "##### 参考视频:\n",
    "* 花花: https://www.youtube.com/watch?v=A6iCX_5xiU4&t=892s\n",
    "* Edward Shi: https://www.youtube.com/watch?v=76ppmN-9GR4"
   ]
  },
  {
   "cell_type": "code",
   "execution_count": null,
   "metadata": {
    "collapsed": true
   },
   "outputs": [],
   "source": [
    "# 👍👍👍 preorder -> reverse postorder -> postorder\n",
    "class Solution(object):\n",
    "    def postorderTraversal(self, root):\n",
    "        \"\"\"\n",
    "        :type root: TreeNode\n",
    "        :rtype: List[int]\n",
    "        \"\"\"\n",
    "        # 1 basic case\n",
    "        if not root: return []\n",
    "        \n",
    "        # 2 reverse postorder travesal: root -> right -> left \n",
    "        stack, rst = [root], []\n",
    "        while stack:\n",
    "            node = stack.pop()\n",
    "            rst.append(node.val)\n",
    "            \n",
    "            if node.left: stack.append(node.left)\n",
    "            if node.right: stack.append(node.right)\n",
    "        \n",
    "        # 3 reverse postorder -> postorder: left -> right -> root\n",
    "        return rst[::-1]"
   ]
  },
  {
   "cell_type": "markdown",
   "metadata": {},
   "source": [
    "### [102.med-Binary Tree Level Order Traversal](https://leetcode.com/problems/binary-tree-level-order-traversal/description/)\n",
    "\n",
    "##### 题意: 和 107 及其类似, 且简单.  比 107 少了一个条件.\n",
    "* level order travesal\n",
    "* 从左到右"
   ]
  },
  {
   "cell_type": "code",
   "execution_count": null,
   "metadata": {
    "collapsed": true
   },
   "outputs": [],
   "source": [
    "# 方法1: 只需一个 queue 就能处理, 漂亮 👍👍👍👍\n",
    "from collections import deque\n",
    "class Solution(object):\n",
    "    def levelOrder(self, root):\n",
    "        \"\"\"\n",
    "        :type root: TreeNode\n",
    "        :rtype: List[List[int]]\n",
    "        \"\"\"\n",
    "        if not root: return []\n",
    "        \n",
    "        rst = []\n",
    "        queue = deque([root])\n",
    "        while queue:\n",
    "            n = len(queue), [] # ❤️👍 每次都重新定义 nums, 所以不存在公用 list 空间的问题.\n",
    "            for i in xrange(n): #👍 与两个 queue 不同, 这里是计数, 到了计数说明 一个 level 已经结束.\n",
    "                node = queue.popleft()\n",
    "                nums.append(node.val)\n",
    "                \n",
    "                if node.left: queue.append(node.left) # ❤️ 这个一定放在 for 循环里面\n",
    "                if node.right: queue.append(node.right)\n",
    "                    \n",
    "            rst.append(nums) \n",
    "        return rst                "
   ]
  },
  {
   "cell_type": "code",
   "execution_count": null,
   "metadata": {
    "collapsed": true
   },
   "outputs": [],
   "source": [
    "# 方法2: 使用两个 queue 去处理, 太复杂\n",
    "from collections import deque\n",
    "class Solution(object):\n",
    "    def levelOrder(self, root):\n",
    "        \"\"\"\n",
    "        :type root: TreeNode\n",
    "        :rtype: List[List[int]]\n",
    "        \"\"\"\n",
    "        if not root: return []\n",
    "        \n",
    "        queue = deque([root])\n",
    "        rst = []\n",
    "        \n",
    "        while queue:\n",
    "            temp, nums = deque(), []\n",
    "            while queue:\n",
    "                node = queue.popleft()\n",
    "                nums.append(node.val)\n",
    "                \n",
    "                if node.left: temp.append(node.left)\n",
    "                if node.right: temp.append(node.right)\n",
    "                    \n",
    "                    \n",
    "            if nums: rst.append(nums)\n",
    "            queue = temp\n",
    "        return rst"
   ]
  },
  {
   "cell_type": "markdown",
   "metadata": {},
   "source": [
    "### [107.easy-Binary Tree Level Order Traversal II](https://leetcode.com/problems/binary-tree-level-order-traversal-ii/description/)\n",
    "##### 题意, 包含三层意思:\n",
    "* level order traversal.\n",
    "* 先遍历 leaf nodes: from leaf to root.\n",
    "* 从左到右遍历. level by level from left to right.\n",
    "\n",
    "##### 思路: level-order travesal --> 逆序\n",
    "* 先只关心 level order travesal 和 从左到右.\n",
    "* 至于 leaf -> root, 可以对返回的 list 逆序."
   ]
  },
  {
   "cell_type": "code",
   "execution_count": null,
   "metadata": {
    "collapsed": true
   },
   "outputs": [],
   "source": [
    "from collections import deque\n",
    "\n",
    "class Solution(object):\n",
    "    def levelOrderBottom(self, root):\n",
    "        \"\"\"\n",
    "        :type root: TreeNode\n",
    "        :rtype: List[List[int]]\n",
    "        \"\"\"\n",
    "        if not root: return []\n",
    "        queue = deque([root])\n",
    "        rst = []\n",
    "        \n",
    "        while queue:\n",
    "            n, nums = len(queue), []\n",
    "            for i in xrange(n):\n",
    "                node = queue.popleft()\n",
    "                nums.append(node.val)\n",
    "                \n",
    "                if node.left: queue.append(node.left)\n",
    "                if node.right: queue.append(node.right)\n",
    "            \n",
    "            rst.append(nums)\n",
    "            \n",
    "        return rst[::-1]"
   ]
  },
  {
   "cell_type": "code",
   "execution_count": null,
   "metadata": {
    "collapsed": true
   },
   "outputs": [],
   "source": [
    "# 方法2: 两个 queue, 不是很漂亮\n",
    "# 总结: 从左到右, level-order travesal, 或者说 BFS, 只能使用 queue 来记录顺序.\n",
    "# 思路: 先考虑 level-order, \n",
    "from collections import deque\n",
    "\n",
    "class Solution(object):\n",
    "    def levelOrderBottom(self, root):\n",
    "        \"\"\"\n",
    "        :type root: TreeNode\n",
    "        :rtype: List[List[int]]\n",
    "        \"\"\"\n",
    "        # 1 the basic case\n",
    "        if not root: return []\n",
    "        \n",
    "        # 2 travesal: left -> right, level order\n",
    "        rst, stack = [], deque([root]) # ❎ 之前错在使用 stack, 而不是 queue.\n",
    "        while stack:\n",
    "            nums, temp = [], deque() # ❎ 之前错在使用 stack 而不是 queue.\n",
    "            while stack:\n",
    "                node = stack.popleft()\n",
    "                nums.append(node.val)\n",
    "                \n",
    "                # append 右 -> 左, pop 的时候正好相反.\n",
    "                if node.left: temp.append(node.left)\n",
    "                if node.right: temp.append(node.right)\n",
    "            \n",
    "            if nums: rst.append(nums) # 如果 nums 不空, 则放入最终结果中.\n",
    "            stack = temp\n",
    "        \n",
    "        return rst[::-1]                "
   ]
  },
  {
   "cell_type": "markdown",
   "metadata": {},
   "source": [
    "### [103.med-Binary Tree Zigzag Level Order Traversal](https://leetcode.com/problems/binary-tree-zigzag-level-order-traversal/description/)\n",
    "##### 题意: Given a binary tree, return the zigzag level order traversal of its nodes' values. (ie, from left to right, then right to left for the next level and alternate between).\n",
    "\n",
    "##### 分析: 有一个变量标记方向."
   ]
  },
  {
   "cell_type": "code",
   "execution_count": null,
   "metadata": {
    "collapsed": true
   },
   "outputs": [],
   "source": [
    "from collections import deque\n",
    "class Solution(object):\n",
    "    def zigzagLevelOrder(self, root):\n",
    "        \"\"\"\n",
    "        :type root: TreeNode\n",
    "        :rtype: List[List[int]]\n",
    "        \"\"\"\n",
    "        if not root: return []\n",
    "        \n",
    "        rst, k = [], 1\n",
    "        q = deque([root])\n",
    "        while q:\n",
    "            n, nums = len(q), []\n",
    "            for i in xrange(n):\n",
    "                node = q.popleft()\n",
    "                nums.append(node.val)\n",
    "                \n",
    "                if node.left: q.append(node.left)\n",
    "                if node.right: q.append(node.right)\n",
    "                \n",
    "            rst.append(nums[::k]) # ❤️❤️ 亮点\n",
    "            k *= -1 ## ❤️❤️ 亮点\n",
    "        return rst"
   ]
  },
  {
   "cell_type": "markdown",
   "metadata": {},
   "source": [
    "### [314.med-Binary Tree Vertical Order Traversal](https://leetcode.com/problems/binary-tree-vertical-order-traversal/description/)\n",
    "##### 题意: Given a binary tree, return the vertical order traversal of its nodes' values. (ie, from top to bottom, column by column)."
   ]
  },
  {
   "cell_type": "code",
   "execution_count": null,
   "metadata": {
    "collapsed": true
   },
   "outputs": [],
   "source": [
    "\"\"\"\n",
    "# example 1 -----------------------\n",
    "  3\n",
    "  /\\\n",
    " /  \\\n",
    " 9  20\n",
    "    /\\\n",
    "   /  \\\n",
    "  15   7\n",
    "  \n",
    "return its vertical order traversal as: \n",
    "[\n",
    "  [9],\n",
    "  [3,15],\n",
    "  [20],\n",
    "  [7]\n",
    "]\n",
    "\n",
    "# example 2 -----------------------\n",
    "    3\n",
    "    /\\\n",
    "   /  \\\n",
    "   9   8\n",
    "  /\\  /\\\n",
    " /  \\/  \\\n",
    " 4  01   7\n",
    "    /\\\n",
    "   /  \\\n",
    "   5   2\n",
    "   \n",
    "return its vertical order traversal as:\n",
    "[\n",
    "  [4],\n",
    "  [9,5],\n",
    "  [3,0,1],\n",
    "  [8,2],\n",
    "  [7]\n",
    "]\n",
    "\"\"\""
   ]
  },
  {
   "cell_type": "code",
   "execution_count": null,
   "metadata": {
    "collapsed": true
   },
   "outputs": [],
   "source": [
    "# 方法1: iteration method. \n",
    "#  ❤️❤️ 核心想法: 利用 index 标记 column + bucket 存 (index 范围是关键) ❤️❤️ \n",
    "#  time & space: O(n)\n",
    "from collections import deque\n",
    "class Solution(object):\n",
    "    def verticalOrder(self, root):\n",
    "        \"\"\"\n",
    "        :type root: TreeNode\n",
    "        :rtype: List[List[int]]\n",
    "        \"\"\"\n",
    "        # 1 edge condition\n",
    "        if not root: return []\n",
    "        \n",
    "        # 2 travesal along the tree\n",
    "        nums = []\n",
    "        q = deque([(root, 0)])\n",
    "        minIdx, maxIdx = 0, 0\n",
    "        while q:\n",
    "            node, idx = q.popleft() # ❤️\n",
    "            \n",
    "            minIdx = min(minIdx, idx)\n",
    "            maxIdx = max(maxIdx, idx)\n",
    "            nums.append((idx, node.val))\n",
    "            \n",
    "            if node.left: q.append((node.left, idx-1))\n",
    "            if node.right: q.append((node.right, idx+1))\n",
    "        \n",
    "        # 3 summarize the results\n",
    "        bucket = [[]  for i in xrange(minIdx, maxIdx + 1)]\n",
    "        for i, x in nums:\n",
    "            bucket[i-minIdx].append(x) # ❤️❤️ index 范围是关键\n",
    "        return bucket"
   ]
  },
  {
   "cell_type": "markdown",
   "metadata": {},
   "source": [
    "### [❓Morris Tree Traversal]() \n",
    "#### [Morris Inorder Tree Traversal](https://www.youtube.com/watch?v=wGXB9OWhPTg)"
   ]
  },
  {
   "cell_type": "code",
   "execution_count": null,
   "metadata": {
    "collapsed": true
   },
   "outputs": [],
   "source": [
    "def MorrisTraversal(root):\n",
    "    cur = root\n",
    "    rst = []\n",
    "    while cur:\n",
    "        if not cur.left:\n",
    "            rst.append(cur.val)\n",
    "            cur = cur.right\n",
    "        else:\n",
    "            pre = cur.left\n",
    "            while pre.right and pre.right != cur:\n",
    "                pre = pre.right\n",
    "                \n",
    "            if pre.right is None:\n",
    "                pre.right = cur\n",
    "                cur = cur.left\n",
    "            else:\n",
    "                rst.append(cur.val)\n",
    "                cur = pre.right\n",
    "                "
   ]
  },
  {
   "cell_type": "code",
   "execution_count": null,
   "metadata": {
    "collapsed": true
   },
   "outputs": [],
   "source": [
    "# Python program to do inorder traversal without recursion and \n",
    "# without stack Morris inOrder Traversal\n",
    " \n",
    "# A binary tree TreeNode\n",
    "class TreeNode(object):\n",
    "    def __init__(self, val):\n",
    "        self.val = val \n",
    "        self.left = None\n",
    "        self.right = None\n",
    "        \n",
    "# Iterative function for inorder tree traversal\n",
    "def MorrisTraversal(root):\n",
    "    # Set cur to root of binary tree\n",
    "    cur = root \n",
    "    while cur is not None:\n",
    "        if cur.left is None:\n",
    "            print cur.val\n",
    "            cur = cur.right\n",
    "        else:\n",
    "            # Find the inorder predecessor of cur\n",
    "            pre = cur.left\n",
    "            while pre.right is not None and pre.right != cur:\n",
    "                pre = pre.right\n",
    "  \n",
    "            # Make cur as right child of its inorder predecessor\n",
    "            if pre.right is None:\n",
    "                pre.right = cur\n",
    "                cur = cur.left\n",
    "                 \n",
    "            # Revert the changes made in if part to restore the \n",
    "            # original tree i.e., fix the right child of predecssor\n",
    "            else:\n",
    "                pre.right = None\n",
    "                print cur.val\n",
    "                cur = cur.right\n",
    "\n",
    "#### Driver program to test above function\n",
    "\"\"\" \n",
    "Constructed binary tree is\n",
    "            1\n",
    "          /   \\\n",
    "        2      3\n",
    "      /  \\\n",
    "    4     5\n",
    "\"\"\"\n",
    "root = TreeNode(1)\n",
    "root.left = TreeNode(2)\n",
    "root.right = TreeNode(3)\n",
    "root.left.left = TreeNode(4)\n",
    "root.left.right = TreeNode(5)\n",
    " \n",
    "MorrisTraversal(root)\n",
    " \n",
    "# This code is contributed by Naveen Aili"
   ]
  },
  {
   "cell_type": "markdown",
   "metadata": {},
   "source": [
    "### [637.easy-Average of Levels in Binary Tree](https://leetcode.com/problems/average-of-levels-in-binary-tree/description/)\n",
    "##### 题意: 求每个 level 各 node 的数值平均. \n",
    "##### 总结: 没看各种解题思路的时候, 觉得挺难的, 但看了之后还是挺简单.  两种方法: DFS 和 BFS."
   ]
  },
  {
   "cell_type": "code",
   "execution_count": null,
   "metadata": {
    "collapsed": true
   },
   "outputs": [],
   "source": [
    "# 这里只需要一个 queue 就能解决遍历的问题, 下面那种方法需要两个 queue 或 stack.\n",
    "# ❤️❤️❤️❤️ 太漂亮的解了 👍👍👍👍\n",
    "from collections import deque\n",
    "\n",
    "class Solution(object):\n",
    "    def averageOfLevels(self, root):\n",
    "        \"\"\"\n",
    "        :type root: TreeNode\n",
    "        :rtype: List[float]\n",
    "        \"\"\"\n",
    "        if not root: return []\n",
    "        \n",
    "        queue, rst = deque([root]), []\n",
    "        while queue:\n",
    "            n, sum = len(queue), 0.0 # 通过 0.0 自然是 float 型了, 以后所有运算自动 cast 到 float.\n",
    "            for i in xrange(n):      # 👍 连 cnt 都省略掉了, 直接 len.\n",
    "                node = queue.popleft()\n",
    "                sum += node.val\n",
    "                \n",
    "                if node.left: queue.append(node.left) # ❤️ 这两句保证 append 进去的都是非空 node.\n",
    "                if node.right: queue.append(node.right)\n",
    "            rst.append(sum / n)\n",
    "        return rst      "
   ]
  },
  {
   "cell_type": "code",
   "execution_count": null,
   "metadata": {
    "collapsed": true
   },
   "outputs": [],
   "source": [
    "# 总结: 这里的两种方法不够漂亮, 待改善.\n",
    "class Solution(object):\n",
    "    def __init__(self):\n",
    "        self.sum_cnt = []\n",
    "        \n",
    "    def averageOfLevels(self, root):\n",
    "        \"\"\"\n",
    "        :type root: TreeNode\n",
    "        :rtype: List[float]\n",
    "        \"\"\"\n",
    "        # ---- DFS ---------\n",
    "        avg_cnt = [] \n",
    "        self.DFS(root, 0)\n",
    "        avg_cnt = [s/float(c) for s, c in self.sum_cnt] #❤️ 简洁的方法\n",
    "        # for i in xrange(len(self.sum_cnt)):  #❤️ 繁琐的方法\n",
    "        #    avg_cnt.append(float(self.sum_cnt[i][0]) / self.sum_cnt[i][1])\n",
    "        return avg_cnt\n",
    "            \n",
    "        # ---- BFS ---------\n",
    "        # return self.BFS(root)\n",
    "    \n",
    "    # 方法1: 通过一个 list 记录每个 depth 的 sum 和 cnt, 然后求均值. 过程还是挺繁琐的.\n",
    "    def DFS(self, root, depth):\n",
    "        if not root: return \n",
    "        \n",
    "        while len(self.sum_cnt) - 1 < depth: #❤️❎❤️一个是计数, 一个是index, 需要统一.\n",
    "            self.sum_cnt.append([0,0])  #❎ 原来这里使用的是 if, 出错了, 用了 while 循环就好了.\n",
    "        \n",
    "        self.sum_cnt[depth][0] += root.val\n",
    "        self.sum_cnt[depth][1] += 1\n",
    "\n",
    "        self.DFS(root.left, depth + 1)\n",
    "        self.DFS(root.right, depth + 1)\n",
    "\n",
    "    # 方法2 (更自然): 通过两个 stack 之间, 进行 level-wise travesal, 逐个的遍历.\n",
    "    def BFS(self, root):\n",
    "        if not root: return []\n",
    "        \n",
    "        levelAvg = []\n",
    "        stack = [root] #❤️ 因为是 level-order 间交替 stack, 只关心同一 level, 不关心同一 level 的顺序. 所以\n",
    "        while stack:   #   使用 stack 和 queue 都一样, 但是 stack 会更加方便一些.\n",
    "            cnt, tmpsum, temp = 0, float(0), [] #❤️ 临时 stack\n",
    "            while stack:\n",
    "                node = stack.pop()\n",
    "                tmpSum += node.val #❤️❤️ Stack push 进去的肯定不是 None, 因此不需要检查 node.val 存在与否\n",
    "                cnt += 1\n",
    "                if node.left:  temp.append(node.left) # stack 中 push 进去的肯定不是 None\n",
    "                if node.right: temp.append(node.right) \n",
    "            levelAvg.append(tmpSum / cnt)\n",
    "            stack = temp # ❤️\n",
    "        return levelAvg"
   ]
  },
  {
   "cell_type": "markdown",
   "metadata": {},
   "source": [
    "## 1/30-Tree 中关于 sum 的所有题\n",
    "### [*112.easy-Path Sum](https://leetcode.com/problems/path-sum/description/)\n",
    "##### 给定 binary tree, 判断 tree 中<span class=\"girk\">是否存在</span>从 root -> leaf 的 path, 该 path 上 node 之和等于 sum. \n",
    "##### 相似题目:  437.easy-Path Sum III, 感觉该题比 437 简单哦."
   ]
  },
  {
   "cell_type": "code",
   "execution_count": null,
   "metadata": {
    "collapsed": true
   },
   "outputs": [],
   "source": [
    "# 参考答案(非常清晰简洁):\n",
    "#   https://leetcode.com/problems/path-sum/discuss/36378\n",
    "class Solution(object):        \n",
    "    def hasPathSum(self, root, sum):\n",
    "        \"\"\"\n",
    "        :type root: TreeNode\n",
    "        :type sum: int\n",
    "        :rtype: bool\n",
    "        \"\"\"\n",
    "        if not root: return False\n",
    "       \n",
    "        return (\n",
    "            # ❤️❤️ 写得集成度很好, 第一行两个条件是为了保证 root & leaf. 只有这种情况, 才对比第3个条件\n",
    "            (not root.left and not root.right and sum == root.val) or \n",
    "            self.hasPathSum(root.left, sum - root.val) or # ❤️ 递归调用所有的情况\n",
    "            self.hasPathSum(root.right, sum - root.val)   # ❤️       \n",
    "        )"
   ]
  },
  {
   "cell_type": "markdown",
   "metadata": {},
   "source": [
    "### [113.med-Path Sum II](https://leetcode.com/problems/path-sum-ii/description/)\n",
    "##### 题意: 和 112 比较像 , 找出满足条件的 root -> leaf 的 path. Path 上 node 之和等于给定的 target, 请记录所有这样的 node, 并返回到 list中.  <span class=\"burk\">难点在于</span>: 如何存放所有 path, 并存放在 list[list] 中.\n",
    "* http://zxi.mytechroad.com/blog/tree/leetcode-113-path-sum-ii/\n",
    "\n",
    "###### 类型: dfs + backtracking\n",
    "\n",
    "##### 编程总结\n",
    "``` python\n",
    "## string 合并, 总结连接部分可以自选\n",
    "x = ['a', 'b', 'c']\n",
    "'->'.join(x)\n",
    ">> \"a->b->c\"\n",
    "\n",
    "## list 深拷贝\n",
    "x = range(10)\n",
    "y = x     # 浅拷贝\n",
    "z = x[:]  # 深拷贝\n",
    "```"
   ]
  },
  {
   "cell_type": "code",
   "execution_count": null,
   "metadata": {
    "collapsed": true
   },
   "outputs": [],
   "source": [
    "# ❤️ 思路总结❤️: 利用同一块 temp 内存 (名称 cur, 其实是 stack), 寄存从 root->leaf 的 path, \n",
    "# 然后通过对 stack append 和 pop, 从而实现同一块内存服务所有 root->leaf path 的可能性. 该想法非常巧妙.\n",
    "#❎❤️❤️❤️❤️❤️❤️#❎❤️❤️❤️❤️❤️❤️#❎❤️❤️❤️❤️❤️❤️#❎❤️❤️❤️❤️❤️❤️#❎❤️❤️❤️❤️❤️❤️#❎❤️❤️❤️❤️❤️❤️#❎❤️❤️❤️❤️❤️❤️\n",
    "\n",
    "class Solution(object):\n",
    "     def pathSum(self, root, target):\n",
    "        \"\"\"\n",
    "        :type root: TreeNode\n",
    "        :type target: int\n",
    "        :rtype: List[List[int]]\n",
    "        \"\"\"\n",
    "        rst = []\n",
    "        self.dfs(root, target, rst, [])\n",
    "        return rst\n",
    "    \n",
    "    def dfs(self, node, target, rst, cur):\n",
    "        # 1 the basic case \n",
    "        if not node: return\n",
    "        \n",
    "        # 2 check if this path (root -> leaf) is the right path. If yes, add it to the ans\n",
    "        if not node.left and not node.right: #❤️ 判断是否是 leaf node ??\n",
    "            if target == node.val:\n",
    "                # 方法1: 简洁 --------- # 👍👍 编程总结\n",
    "                # rst.append(cur[:])\n",
    "                # rst[-1].append(node.val)\n",
    "                # 方法2: 多语句 -------\n",
    "                cur.append(node.val) #❤️❤️❤️❤️❤️ 注意 python 深拷贝的语法...\n",
    "                rst.append(cur[:]) #❎👍👍❤️❤️❤️ cur[:] 是 deep copy, 否则即使 rst.append(cur) \n",
    "                cur.pop() #❤️ 也只是shallow copy, 别的地方也是可以改变其中的内容的. \n",
    "            return # ❤️❤️❤️❤️❤️❤️❤️❤️ 这里退出非常关键...\n",
    "        \n",
    "        #3 record the path and recursively call self.dfs until the leaf nodes.\n",
    "        cur.append(node.val) ## ❤️❤️  append 和 pop 成双出现是\"点睛之笔\".\n",
    "        new_target = target - node.val\n",
    "        \n",
    "        self.dfs(node.left, new_target, cur, rst)\n",
    "        self.dfs(node.right, new_target, cur, rst)\n",
    "        cur.pop() ## ❤️❤️ 返回意味着 当前 node 将 pop, 不被利用上. "
   ]
  },
  {
   "cell_type": "markdown",
   "metadata": {},
   "source": [
    "### [257.easy-Binary Tree Paths](https://leetcode.com/problems/binary-tree-paths/description/)\n",
    "##### 题意: 返回所有 root->leaf 的 path, 存放在一个 list[string] 中.\n",
    "##### 难点: 存放所有 path 的 list, 并方便的转化成 [\"1->2->5\", \"1->3\"] 格式.\n",
    "##### 思路: 利用 recursion 和 stack (是为了灵活的存结果用的.)"
   ]
  },
  {
   "cell_type": "code",
   "execution_count": null,
   "metadata": {
    "collapsed": true
   },
   "outputs": [],
   "source": [
    "class Solution(object):\n",
    "    def binaryTreePaths(self, root):\n",
    "        \"\"\"\n",
    "        :type root: TreeNode\n",
    "        :rtype: List[str]\n",
    "        \"\"\"\n",
    "        rst = []\n",
    "        self.dfs(root, [], rst)\n",
    "        return rst\n",
    "    \n",
    "    def dfs(self, root, nums, rst):\n",
    "        if not root: return\n",
    "        \n",
    "        if not root.left and not root.right:\n",
    "            nums.append(str(root.val))\n",
    "            #❤️ 结果转化成最终的形式, 其实这里不需要 nums[:], 不存在共享覆盖问题.\n",
    "            tmp = '->'.join(nums) # 🐂🐂🐂 注意这里的编程技巧\n",
    "            rst.append(tmp)\n",
    "            nums.pop()\n",
    "            return\n",
    "            \n",
    "        nums.append(str(root.val))\n",
    "        self.dfs(root.left, nums, rst)\n",
    "        self.dfs(root.right, nums, rst)\n",
    "        nums.pop()"
   ]
  },
  {
   "cell_type": "markdown",
   "metadata": {},
   "source": [
    "### [437.easy-Path Sum III](https://leetcode.com/problems/path-sum-iii/description/)\n",
    "##### 题意: binary tree 中存放的是 interge(有正负), 统计总共有多少条 path, path 上 node 之和等于 target. 注意事项:\n",
    "* path 是有方向的 downwards (traveling only from parent nodes to child nodes). 这样避免方向不同导致的 paht 数量也不一样.\n",
    "* The tree has no more than 1,000 nodes and the values are in the range -1,000,000 to 1,000,000.\n",
    "\n",
    "##### 总结idea: 遍历所有的子树 + check 所有子树是否满足条件"
   ]
  },
  {
   "cell_type": "code",
   "execution_count": null,
   "metadata": {
    "collapsed": true
   },
   "outputs": [],
   "source": [
    "# ❤️❤️❤️ 思路: 双重 recursion, 第一重遍历不同树的可能, 第二重遍历树种的节点. \n",
    "# ❤️❤️ 我的思路是对的, 该思路借鉴于 572.easy_Subtree of Another Tree, 两重 recursion:\n",
    "#     1) 第1重 recursion 尝试所有可能的 tree, 即以当前 node 为 tree root.\n",
    "#     2) 第2重 recursion 是遍历给定 tree, 看它里面的情况.\n",
    "# ❤️ (关于复杂度这块,想不明白) 复杂度分析: TC should be O(N^2) for the worst case and O(NlogN) for balanced binary Tree.\n",
    "#     Overall, the time complexity is: O(n) + height * O(n)\n",
    "#     ❤️❤️❤️ Best case = O(n) + logn * O(n) = O(nlogn)\n",
    "#     ❤️❤️❤️ Worst case = O(n) + n * O(n) = O(n^2)\n",
    "\n",
    "# 这一题ei 云讨厌的地方是: 不可能转化成 list 去解决..\n",
    "\n",
    "class Solution(object):\n",
    "    def __init__(self):\n",
    "        self.npath = 0\n",
    "        \n",
    "    def pathSum(self, root, sum):\n",
    "        \"\"\"\n",
    "        :type root: TreeNode\n",
    "        :type sum: int\n",
    "        :rtype: int\n",
    "        \"\"\"\n",
    "        self.pathSum_subTree(root, sum)\n",
    "        return self.npath\n",
    "    \n",
    "    def pathSum_subTree(self, node, sum): #❤️ 这一块遍历所有 node, TC O(n)\n",
    "        if not node: return \n",
    "        \n",
    "        self.dfs(node, sum)\n",
    "        self.pathSum_subTree(node.left, sum)\n",
    "        self.pathSum_subTree(node.right, sum)\n",
    "    \n",
    "    def dfs(self, node, sum): #❤️ 这一块\n",
    "        if not node: return\n",
    "        if node.val == sum: \n",
    "            self.npath += 1\n",
    "            \n",
    "        self.dfs(node.left, sum - node.val)\n",
    "        self.dfs(node.right, sum - node.val)"
   ]
  },
  {
   "cell_type": "code",
   "execution_count": null,
   "metadata": {
    "collapsed": true
   },
   "outputs": [],
   "source": [
    "# 方法2: 略快一点, 没有 class 级别的 global 变量. \n",
    "class Solution(object):        \n",
    "    def pathSum(self, root, sum):\n",
    "        \"\"\"\n",
    "        :type root: TreeNode\n",
    "        :type sum: int\n",
    "        :rtype: int\n",
    "        \"\"\"\n",
    "        if not root: return 0\n",
    "        \n",
    "        return (\n",
    "            self.dfs(root, sum) + \n",
    "            self.pathSum(root.left, sum) + \n",
    "            self.pathSum(root.right, sum)\n",
    "        )\n",
    "        \n",
    "    def dfs(self, node, sum):\n",
    "        if not node: return 0\n",
    "        \n",
    "        cnt = 0\n",
    "        if cnt == node.val:\n",
    "            cnt += 1\n",
    "        cnt += self.dfs(node.left, sum - node.val)\n",
    "        cnt += self.dfs(node.right, sum - node.val)\n",
    "        return cnt "
   ]
  },
  {
   "cell_type": "markdown",
   "metadata": {},
   "source": [
    "### [653.easy-Two Sum IV - Input is a BST](https://leetcode.com/problems/two-sum-iv-input-is-a-bst/description/)\n",
    "##### 题意: 确认 BST 中是否存在两个数加和等于 target.\n",
    "\n",
    "##### 分析三种方法:\n",
    "* 方法1: 不需要 BST 的性质, 利用 hash-table 查看, 就像 list 那样. TC: $O(n)$, SC: $O(n)$.\n",
    "* 方法2: 将 BST 转化成 nums, 然后使用 2-points 去求解. TC: $O(n)$, SC: $O(n)$.\n",
    "* 方法3: 给定 root.val, 在 BST binary search 是否含有 target - root.val. TC: $O(nlogn)$, SC: O(n)"
   ]
  },
  {
   "cell_type": "code",
   "execution_count": null,
   "metadata": {
    "collapsed": true
   },
   "outputs": [],
   "source": [
    "# 方法1: 不需要 BST 的性质, 利用 hash-table 查看, 就像 list 那样. TC: O(n), SC: O(n).\n",
    "class Solution(object):\n",
    "    def __init__(self):\n",
    "        self.dic = {}\n",
    "        \n",
    "    def findTarget(self, root, k):\n",
    "        \"\"\"\n",
    "        :type root: TreeNode\n",
    "        :type k: int\n",
    "        :rtype: bool\n",
    "        \"\"\"\n",
    "        return self.dfs(root, k)\n",
    "    \n",
    "    def dfs(self, root, k):\n",
    "        if not root: return False\n",
    "        \n",
    "        if k - root.val in self.dic: # ❤️ 检查存在与否 和 创建, 一定要一个是 root.val, 另一个是 k - root.val\n",
    "            return True              # 不可重复\n",
    "        else:\n",
    "            self.dic[root.val] = 1 # ❎ 竟然将 k - root.val 作为 key, 存入 self.dic \n",
    "            return self.dfs(root.left, k) or self.dfs(root.right, k)    "
   ]
  },
  {
   "cell_type": "code",
   "execution_count": null,
   "metadata": {
    "collapsed": true
   },
   "outputs": [],
   "source": [
    "# 方法2: 将 BST 转化成 nums, 然后使用 2-points 去求解. TC:  O(n) , SC:  O(n)\n",
    "class Solution(object):\n",
    "    def __init__(self):\n",
    "        self.nums = []\n",
    "        \n",
    "    def findTarget(self, root, k):\n",
    "        \"\"\"\n",
    "        :type root: TreeNode\n",
    "        :type k: int\n",
    "        :rtype: bool\n",
    "        \"\"\"\n",
    "        self.travese(root)\n",
    "        return self.findTarget_in_list(k)\n",
    "            \n",
    "    def findTarget_in_list(self, target):\n",
    "        if not self.nums: return False\n",
    "        if target < 2*self.nums[0] or target > 2*self.nums[-1]:\n",
    "            return False\n",
    "        \n",
    "        l, r = 0, len(self.nums) - 1\n",
    "        while l < r:\n",
    "            s = self.nums[l] + self.nums[r]\n",
    "            if s < target:\n",
    "                l += 1\n",
    "            elif s > target:\n",
    "                r -= 1\n",
    "            else:\n",
    "                return True\n",
    "        return False\n",
    "        \n",
    "    def travese(self, root):\n",
    "        if not root: return\n",
    "        self.travese(root.left)\n",
    "        self.nums.append(root.val)\n",
    "        self.travese(root.right)"
   ]
  },
  {
   "cell_type": "markdown",
   "metadata": {},
   "source": [
    "## [1/31: Tree]()"
   ]
  },
  {
   "cell_type": "markdown",
   "metadata": {},
   "source": [
    "### [226.easy_Invert Binary Tree](https://leetcode.com/problems/invert-binary-tree/description/)\n",
    "##### 题意看网页很明确, 有点像 101 判断 symmetric.\n",
    "\n",
    "##### 总结"
   ]
  },
  {
   "cell_type": "code",
   "execution_count": null,
   "metadata": {
    "collapsed": true
   },
   "outputs": [],
   "source": [
    "# ❤️❤️ 总结❤️❤️: 站在一颗tree 上, 处理 1 edge (node & father) 的关系, 远比 2 edge (node & children) 容易.\n",
    "# 方法1: recursion. Bug free @ 1/26/18 10:32 AM \n",
    "class Solution(object):\n",
    "    def invertTree_2 (self, root):\n",
    "        if not root: return None\n",
    "        left, right  = root.left, root.right   #❤️ 方法2 (也不错): 亮点在于交换顺序发生在以下两行.\n",
    "        root.left    = self.invertTree(right)       \n",
    "        root.right   = self.invertTree(left)\n",
    "        return root\n",
    "    \n",
    "    def invertTree_1 (self, root):\n",
    "        \"\"\"\n",
    "        :type root: TreeNode\n",
    "        :rtype: TreeNode\n",
    "        \"\"\"\n",
    "        if not root: return None\n",
    "        root.left, root.right = root.right, root.left #❤️ 方法1 (最好🐂): swap the left and right nodes\n",
    "        root.left  = self.invertTree(root.left)       # recursively 调用程序.\n",
    "        root.right = self.invertTree(root.right)\n",
    "        return root\n",
    "    \n",
    "    def invertTree_3 (self, root):\n",
    "        if not root: return None\n",
    "        invert = self.invertTree_3             # ❤️❤️❤️ 竟然函数也可以这么赋值, 重新命名...\n",
    "        left, right  = root.left, root.right   #❤️ 方法3 (也不错): 亮点在于交换顺序发生在以下两行.\n",
    "        root.left    = invert(right)       \n",
    "        root.right   = invert(left)\n",
    "        return root\n",
    "    \n",
    "    def invertTree_4 (self, root):\n",
    "        if not root: return None        \n",
    "        root.left   = self.invertTree(root.right) #❤️ 方法4: ❎ 错误, 因为它改变了 root.left, which is\n",
    "        root.right  = self.invertTree(root.left)  # the input of the following line. 根本错误在于, 耦合\n",
    "        return root                               # 在一起, 纠缠在一起了."
   ]
  },
  {
   "cell_type": "code",
   "execution_count": null,
   "metadata": {
    "collapsed": true
   },
   "outputs": [],
   "source": [
    "# 方法2: iteration\n",
    "class Solution(object):\n",
    "    \n",
    "    # https://leetcode.com/problems/invert-binary-tree/discuss/62714/\n",
    "    def invertTree(self, root):  # ❤️ 这也太简短了吧, 精简.\n",
    "        stack = [root]\n",
    "        while stack:\n",
    "            node = stack.pop ()\n",
    "            if not node: continue # ❎ 尽然写成了 if not stack 了.. # ❤️ 有意思\n",
    "                \n",
    "            node.left, node.right = node.right, node.left # swap 元素.\n",
    "            stack += node.left, node.right  # Python list 额可以 stack, 添加元素非常的方便.\n",
    "        return root\n",
    "    \n",
    "    def invertTree(self, root):\n",
    "        if not root: return None\n",
    "        stack = [root]\n",
    "        \n",
    "        while stack:\n",
    "            node = stack.pop ()\n",
    "            node.left, node.right = node.right, node.left\n",
    "            \n",
    "            if node.left:   stack.append( node.left ) # ❤️ 有意思\n",
    "            if node.right:  stack.append( node.right )\n",
    "            \n",
    "        return root"
   ]
  },
  {
   "cell_type": "markdown",
   "metadata": {},
   "source": [
    "### [❤️404.easy-Sum of Left Leaves](https://leetcode.com/problems/sum-of-left-leaves/description/)\n",
    "##### 题意: 对 tree 的所有 left leaf node 求和.\n",
    "\n",
    "##### 分析\n",
    "* 首先得是 leaf (这个简单), 但如何判断是 left leaf node 呢?\n",
    "* 该题使用 DFS recursion (preorder, inorder, postorder), 或者 DFS iteration, 或者 BFS 都可以."
   ]
  },
  {
   "cell_type": "code",
   "execution_count": null,
   "metadata": {
    "collapsed": true
   },
   "outputs": [],
   "source": [
    "class Solution(object):\n",
    "    def __init__(self):\n",
    "        self.sum = 0\n",
    "        \n",
    "    def sumOfLeftLeaves(self, root):\n",
    "        \"\"\"\n",
    "        :type root: TreeNode\n",
    "        :rtype: int\n",
    "        \"\"\"\n",
    "        self.dfs(root)\n",
    "        return self.sum\n",
    "        \n",
    "    def dfs(self, root):\n",
    "        if not root: return # ❎ 原来多了一句 if not root.left: return, 结果出错了, 会遗失很多\n",
    "        # 例子, 比如: 在枝干节点只是存在 right subtree, 这些也有可能包含left leaves 的\n",
    "        \n",
    "        if root.left and (not root.left.left and not root.left.right):\n",
    "            self.sum += root.left.val # 👍👍👍 学习判断 left leave 的条件, 包括两部分 left & leaf\n",
    "    \n",
    "        self.dfs(root.left)\n",
    "        self.dfs(root.right)"
   ]
  },
  {
   "cell_type": "markdown",
   "metadata": {},
   "source": [
    "### [*538.easy_Convert BST to Greater Tree](https://leetcode.com/problems/convert-bst-to-greater-tree/description/)\n",
    "##### 题意: 将 BST 转化成 great tree.\n",
    "* Every key of the original BST is changed to the original key plus sum of all keys greater than the original key in BST.\n",
    "\n",
    "##### 分析\n",
    "* 先添加一个变量用于记录累计和. 由于BST服从: $left \\leq middle \\leq right$, 因此我们需要 right--> middle --> left 的 Travesal 方式.\n",
    "\n",
    "##### 总结"
   ]
  },
  {
   "cell_type": "code",
   "execution_count": null,
   "metadata": {
    "collapsed": true
   },
   "outputs": [],
   "source": [
    "# Approach #1 Recursion [Accepted]\n",
    "# \n",
    "# 答案:\n",
    "#     https://leetcode.com/problems/convert-bst-to-greater-tree/solution/\n",
    "# \n",
    "# 1) ❤️❤️❤️ reverse in-order traversal❤️❤️❤️: visit nodes in descending order\n",
    "# 2) For the recursive approach, we maintain some minor \"global\" state so each recursive call can \n",
    "# access and modify the current total sum. ❤️❤️ 公用变量\n",
    "# 3) 复杂度分析: \n",
    "#     Time complexity: O(n), called on each node no more than once\n",
    "#     Space complexity: O(n).  convertBST is called a linear number of times. Consider the worst case,\n",
    "#           a tree with only right (or only left) subtrees. The ❤️ call stack will grow until the end\n",
    "#           of the longest path is reached, which in this case includes all n nodes.\n",
    "\n",
    "class Solution(object):\n",
    "    def __init__(self):\n",
    "        self.sum = 0 # ❤️❤️❤️ 没想到成员变量能够起到这么大的作用, 不需要繁琐的输入, 输出变量, 每次递归调用公用这个变量.\n",
    "                     # ❤️❤️ 所有的成员函数或成员变量, 都需要 self. 领头. 另外, 注意python class 的构造函数.\n",
    "    def convertBST(self, root):\n",
    "        \"\"\"\n",
    "        :type root: TreeNode\n",
    "        :rtype: TreeNode\n",
    "        \"\"\"\n",
    "        if not root: return\n",
    "        \n",
    "        self.convertBST(root.right)\n",
    "        root.val = self.sum = root.val + self.sum\n",
    "        self.convertBST(root.left)"
   ]
  },
  {
   "cell_type": "code",
   "execution_count": null,
   "metadata": {
    "collapsed": true
   },
   "outputs": [],
   "source": [
    "# Approach #2 Iteration with a Stack [Accepted]\n",
    "# \n",
    "#    https://leetcode.com/problems/convert-bst-to-greater-tree/solution/\n",
    "# Inutition:\n",
    "#     If we don't want to use recursion, we can also perform a reverse in-order traversal via \n",
    "#     iteration and a stack to emulate the call stack.\n",
    "# 复杂度分析:\n",
    "#     Time complexity: O(n), The key observation is that each node is pushed onto the stack exactly once.\n",
    "#     Space complexity: O(n). Each node is pushed onto the stack exactly once implies that the stack \n",
    "#             can contain (at most) n nodes. \n",
    "#    \n",
    "# ❤️❤️❤️❤️❤️❤️ 非常巧妙的想法, 该思路可以实现 right->root->left 和 left->root->right 的顺序❤️❤️❤️❤️❤️❤️\n",
    "class Solution(object):\n",
    "    def convertBST(self, root):\n",
    "        total = 0\n",
    "        node = root\n",
    "        stack = []\n",
    "        while stack or node: # ❤️❤️❤️ 这个条件是关键\n",
    "            # ❤️❤️ 将右 sub-tree 节点存起来, 一直到end.\n",
    "            while node: # ❤️  等价于 while node is not None:\n",
    "                stack.append(node)\n",
    "                node = node.right\n",
    "            # 实现对当前节点的操作.\n",
    "            node = stack.pop()\n",
    "            total = node.val = node.val + total\n",
    "            \n",
    "            # 由末尾节点, 开始马上左移到 left-subtree\n",
    "            node = node.left\n",
    "        \n",
    "        return root"
   ]
  },
  {
   "cell_type": "code",
   "execution_count": null,
   "metadata": {
    "collapsed": true
   },
   "outputs": [],
   "source": [
    "# 还有一种方法, TC: O(n), SC: O(1). 牛掰.\n",
    "# https://leetcode.com/problems/convert-bst-to-greater-tree/solution/"
   ]
  },
  {
   "cell_type": "markdown",
   "metadata": {},
   "source": [
    "### [563.easy-Binary Tree Tilt 倾斜](https://leetcode.com/problems/binary-tree-tilt/description/)\n",
    "##### 题意: 计算 tree tilt\n",
    "* 关于**node tilt**, 其定义为 the **absolute difference** <span class=\"girk\">between</span> the sum of all left subtree node values <span class=\"girk\">and</span> the sum of all right subtree node values. \n",
    "* Null node has tilt 0.\n",
    "    \n",
    "* The tilt of the whole tree is defined as the sum of all nodes' tilt."
   ]
  },
  {
   "cell_type": "code",
   "execution_count": null,
   "metadata": {
    "collapsed": true
   },
   "outputs": [],
   "source": [
    "# 总结: 几乎一次性bug-free, 一些小细节没有处理好.\n",
    "# 关于演示图, 请查看以下链接. Greeksforgreeks 的演示图趋势做的非常赞👍.\n",
    "#     https://www.geeksforgeeks.org/tilt-binary-tree/\n",
    "\n",
    "class Solution(object):\n",
    "    def __init__(self):  # 可以设成成员变量\n",
    "        self.treeTilt = 0\n",
    "        \n",
    "    def findTilt(self, root):\n",
    "        \"\"\"\n",
    "        :type root: TreeNode\n",
    "        :rtype: int\n",
    "        \"\"\"\n",
    "        self.findTilt_recur(root)\n",
    "        return self.treeTilt\n",
    "      \n",
    "    def traveses(self, root): # ❎❤️ 以前的函数名findTilt_recur 和 findTilt 名字太像, 容易调用混了.\n",
    "        # 1 basic case \n",
    "        if not root: return 0\n",
    "        \n",
    "        # 2 do the job\n",
    "        left  = self.traveses(root.left)\n",
    "        right = self.traveses(root.right)\n",
    "        self.treeTilt += abs(left - right) \n",
    "        \n",
    "        return left + right + root.val"
   ]
  },
  {
   "cell_type": "markdown",
   "metadata": {},
   "source": [
    "### [572.easy_Subtree of Another Tree](https://leetcode.com/problems/subtree-of-another-tree/description/)\n",
    "\n",
    "##### 确定一棵树是否是另外一棵树的子树, 要求完全一样.\n",
    "\n",
    "##### 分析: 该问题分为两个子问题:\n",
    "* 在一棵树中找到另一棵树的子树 root.\n",
    "* 找到之后, 对比两棵子树."
   ]
  },
  {
   "cell_type": "code",
   "execution_count": null,
   "metadata": {
    "collapsed": true
   },
   "outputs": [],
   "source": [
    "# 思路: 逐个遍历每个 node 作为 root 的子树是否和树 t 相等.\n",
    "class Solution(object):\n",
    "    def isSubtree(self, s, t):\n",
    "        \"\"\"\n",
    "        :type s: TreeNode\n",
    "        :type t: TreeNode\n",
    "        :rtype: bool\n",
    "        \"\"\"\n",
    "        if not s: return False\n",
    "    \n",
    "        return (\n",
    "            self.isEqual(s, t) or\n",
    "            self.isSubtree(s.left, t) or \n",
    "            self.isSubtree(s.right, t)  \n",
    "            )\n",
    "    \n",
    "    def isEqual(self, x, y):\n",
    "        if not x and not y: return True # 这两句和 isMirror 完全一致.\n",
    "        if not x or not y:  return False\n",
    "        \n",
    "        return (\n",
    "            x.val == y.val and  # subtree 相等的三个条件....\n",
    "            self.isEqual(x.left, y.left) and ## ❎❤️❤️ 这里 x.left & y.left 和 前面 s.left & t 不一样.\n",
    "            self.isEqual(x.right, y.right)  ## \n",
    "            )       "
   ]
  },
  {
   "cell_type": "markdown",
   "metadata": {},
   "source": [
    "### [617.easy_Merge Two Binary Trees](https://leetcode.com/problems/merge-two-binary-trees/description/)\n",
    "##### 题意: 合并两棵 binary tree, overlap 的 node 相加 sum 起来. "
   ]
  },
  {
   "cell_type": "code",
   "execution_count": null,
   "metadata": {
    "collapsed": true
   },
   "outputs": [],
   "source": [
    "# 方法2 (recursive): 合并到 tree t1 上.\n",
    "class Solution(object):\n",
    "    def mergeTrees(self, t1, t2):\n",
    "        \"\"\"\n",
    "        :type t1: TreeNode\n",
    "        :type t2: TreeNode\n",
    "        :rtype: TreeNode\n",
    "        \"\"\"\n",
    "        if not t1 or not t2: return t1 or t2\n",
    "        \n",
    "        t1.val  += t2.val\n",
    "        t1.left  = self.mergeTrees_recur(t1.left, t2.left)   #❎❤️ 竟然忘记 t1.left = ...\n",
    "        t1.right = self.mergeTrees_recur(t1.right, t2.right) #❎❤️ 竟然忘记 t1.right = ...\n",
    "        return t1"
   ]
  },
  {
   "cell_type": "code",
   "execution_count": null,
   "metadata": {
    "collapsed": true
   },
   "outputs": [],
   "source": [
    "# ❤️❤️❤️ 一次性 bug-free, on 1/29/18 8:58 AM ❤️❤️❤️\n",
    "# ❤️ 思路: 就是逐句检查 tree 每个 node 是否存在, 如果都存在, 相加; 如果只存在一个 node, 直接链接过去.\n",
    "# 方法1 (recursive): 合并到一个新的 tree\n",
    "class Solution(object):\n",
    "    def mergeTrees(self, t1, t2):\n",
    "        \"\"\"\n",
    "        :type t1: TreeNode\n",
    "        :type t2: TreeNode\n",
    "        :rtype: TreeNode\n",
    "        \"\"\"\n",
    "        if not t1 and not t2: return None  # 仔细分析,这句是多余的.\n",
    "        if not t1 or not t2: return t1 or t2\n",
    "        \n",
    "        t = TreeNode(t1.val + t2.val)\n",
    "        t.left  = self.mergeTrees_recur(t1.left, t2.left)\n",
    "        t.right = self.mergeTrees_recur(t1.right, t2.right)\n",
    "        return t"
   ]
  },
  {
   "cell_type": "markdown",
   "metadata": {},
   "source": [
    "### [671.easy-Second Minimum Node In a Binary Tree](https://leetcode.com/problems/second-minimum-node-in-a-binary-tree/description/)\n",
    "##### 题意: 帮特殊 binary tree 找到次小 node 的值. \n",
    "* 该特殊 binary tree, 要么没有 node, 或有两个 node. \n",
    "* 如果有两个sub-node, 则该 node 的值等于**较小 sub-node** 的值.\n",
    "* 如果不存在次小值, 则输出 -1.\n",
    "\n",
    "##### 分析\n",
    "##### 参考\n",
    "* 花花酱 LeetCode 671. Second Minimum Node In a Binary Tree - 刷题找工作 EP34 https://www.youtube.com/watch?v=QXvbRrK1zjY&t=447s\n",
    "* "
   ]
  },
  {
   "cell_type": "code",
   "execution_count": null,
   "metadata": {
    "collapsed": true
   },
   "outputs": [],
   "source": [
    "### 这里我们给出了三种方法: DFS-recur, DFS-iter (最简洁), BFS-iter\n",
    "\n",
    "# 方法1: DFS - recur - 有点 preorder 的感觉\n",
    "    ### Time complexity: O(n)\n",
    "    ### Space complexity:  O(h) = O(N) in the call stack, where h is the height of the tree\n",
    "    \n",
    "class Solution(object):   \n",
    "    def __init__(self):\n",
    "        self.s1, self.s2 = None, float(\"inf\")\n",
    "    def findSecondMinimumValue(self, root):\n",
    "        \"\"\"\n",
    "        :type root: TreeNode\n",
    "        :rtype: int\n",
    "        \"\"\"    \n",
    "        if not root: return -1\n",
    "        self.s1 = root.val   \n",
    "        self.dfs(root)\n",
    "        return self.s2 if self.s2 != float('inf') else -1 # ❎ 最关键的\n",
    "        \n",
    "        # ❤️ python 竟然可以在函数中定义函数, 很牛掰...\n",
    "    def dfs(root): # 函数中的函数调用的时候不需要 self.\n",
    "        if not root: return\n",
    "\n",
    "        if self.s1 < root.val < self.s2:\n",
    "            self.s2 = root.val    # 函数返回值在 s2 上, 所以不需要 return 返回...\n",
    "        elif root.val == self.s1: # 👍👍👍 减少计算量的关键.\n",
    "            dfs(root.left)\n",
    "            dfs(root.right)   "
   ]
  },
  {
   "cell_type": "code",
   "execution_count": null,
   "metadata": {
    "collapsed": true
   },
   "outputs": [],
   "source": [
    "# 方法2: DFS - iter 有点 preorder 的感觉\n",
    "### Time complexity: O(n)\n",
    "### Space complexity:  O(h) = O(N) in the stack, where h is the height of the tree.\n",
    "class Solution(object):        \n",
    "    def findSecondMinimumValue(self, root):\n",
    "        \"\"\"\n",
    "        :type root: TreeNode\n",
    "        :rtype: int\n",
    "        \"\"\"    \n",
    "        return self.DFS_iter(root)\n",
    "    \n",
    "    def DFS_iter(self, root):\n",
    "        if not root: return -1\n",
    "        s1 = root.val\n",
    "        s2 = float(\"inf\")\n",
    "        \n",
    "        stack = [root]\n",
    "        while stack:\n",
    "            node = stack.pop()\n",
    "            if not node: continue # ❤️❤️ 有需要使用你 node.val 都需要检查这句, 基本句式.\n",
    "             \n",
    "            if s1 < node.val < s2: # ❤️❤️ python 还支持这样高级的语法, 牛掰!~~\n",
    "                s2 = node.val\n",
    "            elif node.val == s1: # ❤️❤️ 这个条件.\n",
    "                stack.append(node.left)\n",
    "                stack.append(node.right)\n",
    "                \n",
    "        return s2 if s2 != float(\"inf\") else -1"
   ]
  },
  {
   "cell_type": "code",
   "execution_count": null,
   "metadata": {
    "collapsed": true
   },
   "outputs": [],
   "source": [
    "# 方法3: BFS - Level-order travesal 或者 BFS 原来是使用 queue 这么实现的, 还是很神奇的.\n",
    "### Time complexity: O(n)\n",
    "### Space complexity: O(n)\n",
    "from collections import deque\n",
    "class Solution(object):        \n",
    "    def findSecondMinimumValue(self, root):\n",
    "        \"\"\"\n",
    "        :type root: TreeNode\n",
    "        :rtype: int\n",
    "        \"\"\"    \n",
    "        return self.BFS(root)        \n",
    "        \n",
    "    def BFS(self, root): # ❎ 又错在没有 \":\" 号, 使得\n",
    "        # the basic cases -------------\n",
    "        if not root: return -1\n",
    "        # set the initial parameters --\n",
    "        s1 = root.val\n",
    "        s2 = float('inf')\n",
    "        found = False\n",
    "        \n",
    "        queue = deque([root])\n",
    "        while queue: \n",
    "            node = queue.popleft()\n",
    "            \n",
    "            # 1 the basic case \n",
    "            if not node: continue # ❤️❤️ 有需要使用你 node.val 都需要检查这句, 基本句式.\n",
    "\n",
    "            # 2 keeping updating 2nd smallest value\n",
    "            if s1 < node.val < s2: # ❤️ python 还支持这样高级的语法, 牛掰!~~\n",
    "                s2 = node.val\n",
    "                found = True\n",
    "                continue # ❤️❤️❤️❤️❤️ No need to add it's children into queue\n",
    "                \n",
    "            queue.append(node.left)\n",
    "            queue.append(node.right)\n",
    "            \n",
    "        return s2 if found else -1"
   ]
  },
  {
   "cell_type": "markdown",
   "metadata": {},
   "source": [
    "### [543.easy-Diameter of Binary Tree](https://leetcode.com/problems/diameter-of-binary-tree/description/)\n",
    "##### 找到 tree 的直径, 指的是 the longest path between any two nodes in a tree. \n",
    "* This path may or may not pass through the root.\n",
    "* Note: The length of path between two nodes is represented by the number of edges between them. ❤️❤️ diameter of tree定义和别的地方不一样, https://www.geeksforgeeks.org/diameter-of-a-binary-tree/\n",
    "https://www.youtube.com/watch?v=ey7DYc9OANo"
   ]
  },
  {
   "cell_type": "code",
   "execution_count": null,
   "metadata": {
    "collapsed": true
   },
   "outputs": [],
   "source": [
    "# ❤️❤️❤️ 方法1: 直接计数 edge 数量. 在计数 edge 的时候, 应该考虑 node 和 childen 的关系. 但是在计数 node height \n",
    "# (node 个数) 的时候, 就可以考虑 node 和 parent 的关系, 然后转化成 edge 数量.\n",
    "class Solution(object):\n",
    "    def __init__(self):\n",
    "        self.diameter = 0 # \n",
    "        \n",
    "    def diameterOfBinaryTree(self, root):\n",
    "        \"\"\"\n",
    "        :type root: TreeNode\n",
    "        :rtype: int\n",
    "        \"\"\"\n",
    "        self.dfs(root)\n",
    "        return self.diameter\n",
    "        \n",
    "    def dfs(self, root):\n",
    "        if not root: return 0\n",
    "        \n",
    "        # ❤️❤️ node 和 parent 之间的关系, 只要存在即可 +1, 条件非常弱了.\n",
    "        left = 1 + self.dfs(root.left) if root.left else 0 # ❤️❤️ 这里存在非线性的关系.\n",
    "        right = 1 + self.dfs(root.right) if root.right else 0 # ❤️❤️ 这里存在非线性的关系.\n",
    "        \n",
    "        self.diameter = max(self.diameter, left + right)\n",
    "        \n",
    "        return max(left, right)"
   ]
  },
  {
   "cell_type": "code",
   "execution_count": null,
   "metadata": {
    "collapsed": true
   },
   "outputs": [],
   "source": [
    "### 方法2: 通过计算 node height (node 个数), 然后转化成 edge 个数. 这样的方式比较合适观察 node 和 parent 的关系.\n",
    "\n",
    "class Solution(object):\n",
    "    def __init__(self):\n",
    "        self.diameter = 1 # ❤️❎, 初始是 1, 是为了平衡主函数中 return self.diameter - 1\n",
    "        \n",
    "    def diameterOfBinaryTree(self, root):\n",
    "        \"\"\"\n",
    "        :type root: TreeNode\n",
    "        :rtype: int\n",
    "        \"\"\"\n",
    "        self.depth(root)\n",
    "        return self.diameter - 1 # ❎ ❤️, length of edge 比 length of nodes 只是少了1, 这里操作就好了.\n",
    "        \n",
    "        \n",
    "    def depth(self, root):\n",
    "        if not root:  return 0 \n",
    "        \n",
    "        left = self.depth(root.left)  # length of left-tree\n",
    "        right = self.depth(root.right) # length of right-tree\n",
    "        self.diameter = max(self.diameter, 1 + left + right) # ❤️❤️ 计算当前 sub-tree 的 diameter\n",
    "        \n",
    "        return 1 + max(left, right)"
   ]
  },
  {
   "cell_type": "markdown",
   "metadata": {},
   "source": [
    "### [687.easy-Longest Univalue Path](https://leetcode.com/problems/longest-univalue-path/description/)\n",
    "##### 题意: 找到两个 node 之间最长的相同值串. 该题和 [8  543.easy-Diameter of Binary Tree] 类似. 该题注意事项:\n",
    "* Note: The length of path between two nodes is represented by the number of edges between them.\n",
    "* Note: The given binary tree has not more than 10000 nodes. The height of the tree is not more than 1000. [说明: 可以使用 recursive]\n",
    "\n",
    "##### 分析\n",
    "##### 总结"
   ]
  },
  {
   "cell_type": "code",
   "execution_count": null,
   "metadata": {
    "collapsed": true
   },
   "outputs": [],
   "source": [
    "### ❤️❤️ 该方法最易懂, 本题采用这种方法. \n",
    "# 递归有些方法处理的是 node 和 children 的关系, 有些算法处理的是 node 和 parent 之间的关系. \n",
    "# 尽量只处理上下级关系, 不要出来 上中下三级关系, 那样会变得非常复杂的...\n",
    "# 本质上 postorder 顺序.\n",
    "\n",
    "class Solution(object):\n",
    "    def __init__(self): \n",
    "        self.maxlen = 0 #❤️❤️ 这里只能计数 edge, 计数如果是 node 个数都是不可行的.\n",
    "        \n",
    "    def longestUnivaluePath(self, root):\n",
    "        \"\"\"\n",
    "        :type root: TreeNode\n",
    "        :rtype: int\n",
    "        \"\"\"\n",
    "        self.dfs(root)\n",
    "        return self.maxlen\n",
    "        \n",
    "    def dfs(self, root):\n",
    "        if not root: return 0\n",
    "        \n",
    "        ## ❤️ root 和 children 的关系.\n",
    "        left = self.dfs(root.left) # ❎❎❎👍👍👍 不能将这一块和以下两句合起来写, 那样会遗失很多例子.\n",
    "        right = self.dfs(root.right) # 比如枝干只有一条枝, 合起来写直接就不运行了..\n",
    "        \n",
    "        ## ❤️ 根据 root 和 children 的关系, 计数. 本方法是对比 root 和 children 之间的关系, 计数的.\n",
    "        left = left + 1 if (root.left and root.left.val == root.val) else 0\n",
    "        right = right + 1 if (root.right and root.right.val == root.val) else 0\n",
    "        \n",
    "        self.maxlen = max(self.maxlen, left + right) # 考虑过 children 和 node 之间的关系之后, 统计 node 层次的结果.\n",
    "        return max(left, right) # 返回当前的 node 的结果."
   ]
  },
  {
   "cell_type": "code",
   "execution_count": null,
   "metadata": {
    "collapsed": true
   },
   "outputs": [],
   "source": [
    "# 答案: https://leetcode.com/problems/longest-univalue-path/discuss/108175\n",
    "# 本来对于每个节点, 我们要顾及三条边的关(root 和 father note, root 和 left child, right child 的关系).\n",
    "# 该算法, 巧妙的使用了 DFS 返回的值来避免 root 和 left child/right child 的关系比较, 一切都蕴含在返回值中.\n",
    "\n",
    "class Solution(object):\n",
    "    def __init__(self): \n",
    "        self.maxlen = 0 #❤️❤️ 这里只能计数 edge, 计数如果是 node 个数都是不可行的.\n",
    "        \n",
    "    def longestUnivaluePath(self, root):\n",
    "        \"\"\"\n",
    "        :type root: TreeNode\n",
    "        :rtype: int\n",
    "        \"\"\"\n",
    "        if not root:  return 0\n",
    "        self.DFS(root, None)\n",
    "        return self.maxlen #❤️❤️ 最终关心的 edge 个数, 所以减一.\n",
    "        \n",
    "    def DFS(self, root, val):\n",
    "        # 1 basic case\n",
    "        if not root: return 0\n",
    "        \n",
    "        # 2 root 和 root.left   root.right 的关系蕴含在返回值中, ❤️❤️ 非常巧妙 \n",
    "        left = self.DFS(root.left, root.val)\n",
    "        right = self.DFS(root.right, root.val)\n",
    "        \n",
    "        # ❎ 巧妙,若该句放在if root.val == val 内, 就出错.❤️❤️❤️ 这句管的是当前 node 和 它的 children 之间的关系.\n",
    "        self.maxlen = max(self.maxlen, left + right) \n",
    "        \n",
    "        if root.val == val: # ❤️❤️❤️ 表达了当前 node 和 它的 father node 的关系.\n",
    "            return 1 + max(left, right) # left = 0, 则表明\n",
    "        else:\n",
    "            return 0 # 如果不相等, 则 edge 计数归零."
   ]
  }
 ],
 "metadata": {
  "kernelspec": {
   "display_name": "Python 2",
   "language": "python",
   "name": "python2"
  },
  "language_info": {
   "codemirror_mode": {
    "name": "ipython",
    "version": 2
   },
   "file_extension": ".py",
   "mimetype": "text/x-python",
   "name": "python",
   "nbconvert_exporter": "python",
   "pygments_lexer": "ipython2",
   "version": "2.7.13"
  },
  "toc": {
   "nav_menu": {},
   "number_sections": true,
   "sideBar": true,
   "skip_h1_title": true,
   "toc_cell": true,
   "toc_position": {
    "height": "602px",
    "left": "0px",
    "right": "1084.28px",
    "top": "67px",
    "width": "227px"
   },
   "toc_section_display": "block",
   "toc_window_display": true
  }
 },
 "nbformat": 4,
 "nbformat_minor": 2
}

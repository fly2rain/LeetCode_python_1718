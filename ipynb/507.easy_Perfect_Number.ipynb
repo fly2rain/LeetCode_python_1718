{
 "cells": [
  {
   "cell_type": "markdown",
   "metadata": {},
   "source": [
    "# 507.Perfect_Number_easy\n",
    "### 链接\n",
    "\n",
    "* 题目：https://leetcode.com/problems/perfect-number/description/\n",
    "\n",
    "### 题意\n",
    "对于给定整数，确定它是否是 perfect number。定义：a positive integer that is equal to the sum of all its positive divisors except itself.\n",
    "\n",
    "### 分析\n",
    "* 整除是成对的(一大一小)，最平衡的数是x\\*x = val。所以，搜索上届是 sqrt (val) \n",
    "* 刨除被自己整除，和开平方的两个数\n",
    "\n",
    "### 编程经验\n",
    "\n",
    "```python\n",
    "```"
   ]
  },
  {
   "cell_type": "markdown",
   "metadata": {},
   "source": [
    "# Method # 1 --- 直观编程 (42 ms)"
   ]
  },
  {
   "cell_type": "code",
   "execution_count": 8,
   "metadata": {
    "collapsed": true
   },
   "outputs": [],
   "source": [
    "class Solution(object):\n",
    "    def checkPerfectNumber(self, num):\n",
    "        \"\"\"\n",
    "        :type num: int\n",
    "        :rtype: bool\n",
    "        \"\"\"\n",
    "        if num <= 0: \n",
    "            return False\n",
    "        \n",
    "        MAX = int (num**0.5)\n",
    "        if MAX * MAX == num:\n",
    "            rst = -MAX\n",
    "        else:\n",
    "            rst = 0\n",
    "            \n",
    "        for i in xrange (1, MAX + 1):\n",
    "            if num % i: # 不整除，则跳过。\n",
    "                continue\n",
    "            # rst = rst + i + (num/i)\n",
    "            rst += i + (num/i)\n",
    "            \n",
    "        return rst == 2*num"
   ]
  },
  {
   "cell_type": "code",
   "execution_count": 9,
   "metadata": {},
   "outputs": [
    {
     "name": "stdout",
     "output_type": "stream",
     "text": [
      "True\n"
     ]
    }
   ],
   "source": [
    "if __name__ == '__main__':\n",
    "    print Solution().checkPerfectNumber (28)"
   ]
  },
  {
   "cell_type": "markdown",
   "metadata": {},
   "source": [
    "# Method # 2 --- 紧凑编程 (69 ms)"
   ]
  },
  {
   "cell_type": "code",
   "execution_count": 17,
   "metadata": {
    "collapsed": true
   },
   "outputs": [],
   "source": [
    "class Solution_2 (object):\n",
    "    def checkPerfectNumber (self, num):\n",
    "        \"\"\"\n",
    "        :type num: int\n",
    "        :rtype: bool\n",
    "        \"\"\"\n",
    "        if num <= 0:\n",
    "            return False\n",
    "        \n",
    "        MAX = int (num ** 0.5) \n",
    "        \n",
    "        rst = sum ([ i + (num/i) for i in xrange (1,MAX+1) if not num % i ])\n",
    "        \n",
    "        if MAX * MAX == num:\n",
    "            rst -= MAX\n",
    "        \n",
    "        return rst == 2*num"
   ]
  },
  {
   "cell_type": "code",
   "execution_count": 16,
   "metadata": {},
   "outputs": [
    {
     "name": "stdout",
     "output_type": "stream",
     "text": [
      "True\n"
     ]
    }
   ],
   "source": [
    "if __name__ == '__main__':\n",
    "    print Solution().checkPerfectNumber (28)"
   ]
  }
 ],
 "metadata": {
  "kernelspec": {
   "display_name": "Python 2",
   "language": "python",
   "name": "python2"
  },
  "language_info": {
   "codemirror_mode": {
    "name": "ipython",
    "version": 2
   },
   "file_extension": ".py",
   "mimetype": "text/x-python",
   "name": "python",
   "nbconvert_exporter": "python",
   "pygments_lexer": "ipython2",
   "version": "2.7.13"
  }
 },
 "nbformat": 4,
 "nbformat_minor": 2
}

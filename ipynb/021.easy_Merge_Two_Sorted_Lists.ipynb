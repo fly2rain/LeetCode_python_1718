{
 "cells": [
  {
   "cell_type": "markdown",
   "metadata": {},
   "source": [
    "# 021.easy_Merge_Two_Sorted_Lists\n",
    "### 链接\n",
    "\n",
    "* 题目：https://leetcode.com/problems/merge-two-sorted-lists/description/\n",
    "* 解题思路 & 分析： https://leetcode.com/problems/merge-two-sorted-lists/solution/\n",
    "\n",
    "### 题意\n",
    "* 合并两个 sorted linked lists into one\n",
    "\n",
    "### 分析\n",
    "* 合并完，应该需要保持 sorted 顺序，然后返回 new linked list\n",
    "\n",
    "### 编程经验\n",
    "\n",
    "```python\n",
    "```"
   ]
  },
  {
   "cell_type": "markdown",
   "metadata": {},
   "source": [
    "# Method #1"
   ]
  },
  {
   "cell_type": "code",
   "execution_count": null,
   "metadata": {
    "collapsed": true
   },
   "outputs": [],
   "source": [
    "# Definition for singly-linked list.\n",
    "# class ListNode(object):\n",
    "#     def __init__(self, x):\n",
    "#         self.val = x\n",
    "#         self.next = None\n",
    "\n",
    "class Solution(object):\n",
    "    def mergeTwoLists(self, l1, l2):\n",
    "        \"\"\"\n",
    "        :type l1: ListNode\n",
    "        :type l2: ListNode\n",
    "        :rtype: ListNode\n",
    "        \"\"\"\n",
    "        # one node to record the head node, 感觉 leetcode 中没有专门设定的 head node\n",
    "        #（该 node 的 val 是 None，不存在存放意义，只存在指向意义）\n",
    "        prehead = curr = ListNode (-1) # prehead 是指向真实 node 的前一个node\n",
    "        \n",
    "        while l1 and r2:\n",
    "            if l1.val < l2.val:\n",
    "                curr.next = l1\n",
    "                l1 = l1.next\n",
    "            else:\n",
    "                curr.next = l2\n",
    "                l2 = l2.next\n",
    "            curr = curr.next # 这一句容易漏掉，curr 也需要更新到下一个位置。\n",
    "        # when a list is null the other is not null, we set the curr direction to\n",
    "        curr.next = l1 or l2\n",
    "    return prehead.next\n",
    "            \n",
    "            "
   ]
  },
  {
   "cell_type": "code",
   "execution_count": null,
   "metadata": {
    "collapsed": true
   },
   "outputs": [],
   "source": [
    "# Definition for singly-linked list.\n",
    "# class ListNode(object):\n",
    "#     def __init__(self, x):\n",
    "#         self.val = x\n",
    "#         self.next = None\n",
    "class Solution(object):\n",
    "    def mergeTwoLists(self, l1, l2):\n",
    "        \"\"\"\n",
    "        :type l1: ListNode\n",
    "        :type l2: ListNode\n",
    "        :rtype\n",
    "        \"\"\"\n",
    "        # dummy (假的) 正好描述了假的 node，它只有指向意义，没有存储data 的意义。\n",
    "        # 为什么 dummy 和 curr 指向前一个呢？原因：1. 为了在 while 外面统一赋值， \n",
    "        dummy = curr = ListNode (0)\n",
    "        \n",
    "        while l1 and l2:\n",
    "            if l1.val < l2.val:\n",
    "                curr.next = l1\n",
    "                l1 = l1.next\n",
    "            else:\n",
    "                curr.next = l2\n",
    "                l2 = l2.next\n",
    "            curr = curr.next\n",
    "        # 如果一个 list 到结尾，把另一个 list 接到 curr 上。\n",
    "        curr.next = l1 or l2\n",
    "        \n",
    "        return dummy.next"
   ]
  }
 ],
 "metadata": {
  "kernelspec": {
   "display_name": "Python 2",
   "language": "python",
   "name": "python2"
  },
  "language_info": {
   "codemirror_mode": {
    "name": "ipython",
    "version": 2
   },
   "file_extension": ".py",
   "mimetype": "text/x-python",
   "name": "python",
   "nbconvert_exporter": "python",
   "pygments_lexer": "ipython2",
   "version": "2.7.13"
  }
 },
 "nbformat": 4,
 "nbformat_minor": 2
}

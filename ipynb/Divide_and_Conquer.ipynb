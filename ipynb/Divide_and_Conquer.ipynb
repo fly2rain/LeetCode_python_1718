{
 "cells": [
  {
   "cell_type": "markdown",
   "metadata": {
    "toc": true
   },
   "source": [
    "<h1>Table of Contents<span class=\"tocSkip\"></span></h1>\n",
    "<div class=\"toc\" style=\"margin-top: 1em;\"><ul class=\"toc-item\"><li><span><a href=\"#4.hard_Median-of-Two-Sorted-Arrays\" data-toc-modified-id=\"4.hard_Median-of-Two-Sorted-Arrays-1\"><span class=\"toc-item-num\">1&nbsp;&nbsp;</span><a href=\"https://leetcode.com/problems/median-of-two-sorted-arrays/description/\" target=\"_blank\">4.hard_Median of Two Sorted Arrays</a></a></span></li><li><span><a href=\"#23.hard_Merge-k-Sorted-Lists\" data-toc-modified-id=\"23.hard_Merge-k-Sorted-Lists-2\"><span class=\"toc-item-num\">2&nbsp;&nbsp;</span><a href=\"https://leetcode.com/problems/merge-k-sorted-lists/description/\" target=\"_blank\">23.hard_Merge k Sorted Lists</a></a></span></li><li><span><a href=\"#53.easy_Maximum-Subarray\" data-toc-modified-id=\"53.easy_Maximum-Subarray-3\"><span class=\"toc-item-num\">3&nbsp;&nbsp;</span><a href=\"https://leetcode.com/problems/maximum-subarray/description/\" target=\"_blank\">53.easy_Maximum Subarray</a></a></span></li><li><span><a href=\"#系列:-best-time-to-buy-and-sell-stock-(最后几题挺难的)\" data-toc-modified-id=\"系列:-best-time-to-buy-and-sell-stock-(最后几题挺难的)-4\"><span class=\"toc-item-num\">4&nbsp;&nbsp;</span>系列: best time to buy and sell stock (最后几题挺难的)</a></span><ul class=\"toc-item\"><li><span><a href=\"#121.easy_Best-Time-to-Buy-and-Sell-Stock\" data-toc-modified-id=\"121.easy_Best-Time-to-Buy-and-Sell-Stock-4.1\"><span class=\"toc-item-num\">4.1&nbsp;&nbsp;</span><a href=\"https://leetcode.com/problems/best-time-to-buy-and-sell-stock/description/\" target=\"_blank\">121.easy_Best Time to Buy and Sell Stock</a></a></span></li><li><span><a href=\"#122.easy_Best-Time-to-Buy-and-Sell-Stock-II---Greedy-方法\" data-toc-modified-id=\"122.easy_Best-Time-to-Buy-and-Sell-Stock-II---Greedy-方法-4.2\"><span class=\"toc-item-num\">4.2&nbsp;&nbsp;</span><a href=\"https://leetcode.com/problems/best-time-to-buy-and-sell-stock-ii/description/\" target=\"_blank\">122.easy_Best Time to Buy and Sell Stock II - Greedy 方法</a></a></span></li><li><span><a href=\"#123.hard_Best-Time-to-Buy-and-Sell-Stock-III\" data-toc-modified-id=\"123.hard_Best-Time-to-Buy-and-Sell-Stock-III-4.3\"><span class=\"toc-item-num\">4.3&nbsp;&nbsp;</span><a href=\"https://leetcode.com/problems/best-time-to-buy-and-sell-stock-iii/description/\" target=\"_blank\">123.hard_Best Time to Buy and Sell Stock III</a></a></span></li><li><span><a href=\"#188.-Best-Time-to-Buy-and-Sell-Stock-IV\" data-toc-modified-id=\"188.-Best-Time-to-Buy-and-Sell-Stock-IV-4.4\"><span class=\"toc-item-num\">4.4&nbsp;&nbsp;</span><a href=\"https://leetcode.com/problems/best-time-to-buy-and-sell-stock-iv/description/\" target=\"_blank\">188. Best Time to Buy and Sell Stock IV</a></a></span></li><li><span><a href=\"#309.medium_Best-Time-to-Buy-and-Sell-Stock-with-Cooldownk\" data-toc-modified-id=\"309.medium_Best-Time-to-Buy-and-Sell-Stock-with-Cooldownk-4.5\"><span class=\"toc-item-num\">4.5&nbsp;&nbsp;</span><a href=\"https://leetcode.com/problems/best-time-to-buy-and-sell-stock-with-cooldown/description/\" target=\"_blank\">309.medium_Best Time to Buy and Sell Stock with Cooldownk</a></a></span></li></ul></li><li><span><a href=\"#169.easy_Majority-Element\" data-toc-modified-id=\"169.easy_Majority-Element-5\"><span class=\"toc-item-num\">5&nbsp;&nbsp;</span><a href=\"https://leetcode.com/problems/majority-element/description/\" target=\"_blank\">169.easy_Majority Element</a></a></span></li><li><span><a href=\"#215.medium_Kth-Largest-Element-in-an-Array\" data-toc-modified-id=\"215.medium_Kth-Largest-Element-in-an-Array-6\"><span class=\"toc-item-num\">6&nbsp;&nbsp;</span><a href=\"https://leetcode.com/problems/kth-largest-element-in-an-array/description/\" target=\"_blank\">215.medium_Kth Largest Element in an Array</a></a></span></li><li><span><a href=\"#218.hard_The-Skyline-Problem\" data-toc-modified-id=\"218.hard_The-Skyline-Problem-7\"><span class=\"toc-item-num\">7&nbsp;&nbsp;</span><a href=\"https://leetcode.com/problems/the-skyline-problem/description/\" target=\"_blank\">218.hard_The Skyline Problem</a></a></span></li><li><span><a href=\"#240.medium_Search-a-2D-Matrix-II\" data-toc-modified-id=\"240.medium_Search-a-2D-Matrix-II-8\"><span class=\"toc-item-num\">8&nbsp;&nbsp;</span><a href=\"https://leetcode.com/problems/search-a-2d-matrix-ii/description/\" target=\"_blank\">240.medium_Search a 2D Matrix II</a></a></span></li><li><span><a href=\"#312.hard_Burst-Balloons\" data-toc-modified-id=\"312.hard_Burst-Balloons-9\"><span class=\"toc-item-num\">9&nbsp;&nbsp;</span><a href=\"https://leetcode.com/problems/burst-balloons/description/\" target=\"_blank\">312.hard_Burst Balloons</a></a></span></li><li><span><a href=\"#315.hard_Count-of-Smaller-Numbers-After-Self\" data-toc-modified-id=\"315.hard_Count-of-Smaller-Numbers-After-Self-10\"><span class=\"toc-item-num\">10&nbsp;&nbsp;</span><a href=\"https://leetcode.com/problems/count-of-smaller-numbers-after-self/description/\" target=\"_blank\">315.hard_Count of Smaller Numbers After Self</a></a></span></li></ul></div>"
   ]
  },
  {
   "cell_type": "markdown",
   "metadata": {},
   "source": [
    "# Divide and Conquer\n",
    "* 题型: [Top 100 Liked Questions + Divide and Conquer](https://leetcode.com/problemset/algorithms/?listId=79h8rn6&topicSlugs=divide-and-conquer)\n",
    "* 这个问题应该挺难的, 9 道题中, 2道 easy, 2道 medium, 5 道 hard."
   ]
  },
  {
   "cell_type": "markdown",
   "metadata": {
    "collapsed": true
   },
   "source": [
    "## [4.hard_Median of Two Sorted Arrays](https://leetcode.com/problems/median-of-two-sorted-arrays/description/)\n",
    "\n",
    "##### 题意\n",
    "\n",
    "##### 分析\n",
    "\n",
    "##### 总结"
   ]
  },
  {
   "cell_type": "markdown",
   "metadata": {},
   "source": [
    "## [23.hard_Merge k Sorted Lists](https://leetcode.com/problems/merge-k-sorted-lists/description/)\n",
    "\n",
    "##### 题意\n",
    "\n",
    "##### 分析\n",
    "\n",
    "##### 总结"
   ]
  },
  {
   "cell_type": "markdown",
   "metadata": {},
   "source": [
    "## [53.easy_Maximum Subarray](https://leetcode.com/problems/maximum-subarray/description/)\n",
    "\n",
    "##### 题意\n",
    "* 给定 list, 求所有continuous subarry 中求和最大的那个 subarray 的和. \n",
    "\n",
    "##### 分析\n",
    "* 假定在 node A, 每个 node A 之前的 sum 如果小于等于0, 则 node A 之前的 sum 都是没有正面作用的, 应视为 0 作用.\n",
    "* 没想到该题和 DP 以及 divid & conquer 都有关系. \n",
    "\n",
    "##### 总结\n",
    "* 知道该题的解法, 但是还未领会 D & C 的内部规律?"
   ]
  },
  {
   "cell_type": "code",
   "execution_count": null,
   "metadata": {
    "collapsed": true
   },
   "outputs": [],
   "source": [
    "class Solution(object):\n",
    "    def maxSubArray(self, nums):\n",
    "        \"\"\"\n",
    "        :type nums: List[int]\n",
    "        :rtype: int\n",
    "        \"\"\"\n",
    "        if not nums:\n",
    "            return 0\n",
    "        \n",
    "        nn = len (nums)\n",
    "        dp = [0] * nn\n",
    "        dp[0] = maxRst = nums[0]\n",
    "        \n",
    "        for i in xrange (1, nn):\n",
    "            dp[i]  = max(dp[i-1], 0) + nums[i]\n",
    "            maxRst = max(maxRst, dp[i])\n",
    "            \n",
    "        return maxRst\n",
    "    \n",
    "    def maxSubArray_constantSpace (self, nums):\n",
    "        if not nums: return 0\n",
    "        \n",
    "        nn = len (nums)\n",
    "        dp1 = dp2 = maxRst = nums[0]\n",
    "        \n",
    "        for i in xrange (1, nn):\n",
    "            dp2    = max(dp1, 0) + nums[i]\n",
    "            maxRst = max(maxRst, dp2) \n",
    "            dp1    = dp2\n",
    "            \n",
    "        return maxRst"
   ]
  },
  {
   "cell_type": "code",
   "execution_count": null,
   "metadata": {
    "collapsed": true
   },
   "outputs": [],
   "source": []
  },
  {
   "cell_type": "code",
   "execution_count": null,
   "metadata": {
    "collapsed": true
   },
   "outputs": [],
   "source": [
    "class Solution(object):\n",
    "    def maxSubArray(self, nums):\n",
    "        \"\"\"\n",
    "        :type nums: List[int]\n",
    "        :rtype: int\n",
    "        \"\"\"\n",
    "        "
   ]
  },
  {
   "cell_type": "markdown",
   "metadata": {},
   "source": [
    "## 系列: best time to buy and sell stock (最后几题挺难的)\n",
    "### [121.easy_Best Time to Buy and Sell Stock](https://leetcode.com/problems/best-time-to-buy-and-sell-stock/description/)\n",
    "##### 题意\n",
    "* 给定一个 list, 第 i 个元素表示 第 i 天的股价. 只允许买一次卖一次, 设计算法, 能够得到最大利润.\n",
    "\n",
    "##### 分析\n",
    "* 本质上求两个元素的最大差问题. 即求最小值, 然后求证当前值和最小值之间的差异是否是最大???\n",
    "\n",
    "##### 总结"
   ]
  },
  {
   "cell_type": "code",
   "execution_count": null,
   "metadata": {
    "collapsed": true
   },
   "outputs": [],
   "source": [
    "class Solution(object):\n",
    "    def maxProfit(self, prices):\n",
    "        \"\"\"\n",
    "        :type prices: List[int]\n",
    "        :rtype: int\n",
    "        \"\"\"\n",
    "        # 1 basic case \n",
    "        if not prices:\n",
    "            return 0\n",
    "        \n",
    "        # 2 怎么照顾到顺序的问题呢?\n",
    "        min_price = prices[0]\n",
    "        max_profit = 0\n",
    "        for i in xrange (1, len(prices) ):\n",
    "            min_price = min (min_price, prices[i]) # 到目前为止最低的股价, 这一句放在 for 循环中最后一个也没啥关系\n",
    "            max_profit = max(price[i] - min_price, max_profit)\n",
    "            \n",
    "        return max_profit"
   ]
  },
  {
   "cell_type": "code",
   "execution_count": null,
   "metadata": {
    "collapsed": true
   },
   "outputs": [],
   "source": [
    "class Solution(object):\n",
    "    def maxProfit(self, prices):\n",
    "        \"\"\"\n",
    "        :type prices: List[int]\n",
    "        :rtype: int\n",
    "        \"\"\"\n",
    "        "
   ]
  },
  {
   "cell_type": "markdown",
   "metadata": {},
   "source": [
    "### [122.easy_Best Time to Buy and Sell Stock II - Greedy 方法](https://leetcode.com/problems/best-time-to-buy-and-sell-stock-ii/description/)\n",
    "##### 题意: max profits, non-overlaping, multiple.\n",
    "\n",
    "##### 分析\n",
    "* 方法1: 找到所有 increasing pairs, 把它们计算入 profits.\n",
    "* 方法3 (自己写的): 找 peak 和 valley 的思路, 计算 profits = peak - valley\n",
    "\n",
    "##### 方法1: 找到所有 increasing pairs, 把它们计算入 profits. https://www.youtube.com/watch?v=Taq95cvRom8\n",
    "* runtime $O(n)$, space complexity $O(1)$"
   ]
  },
  {
   "cell_type": "code",
   "execution_count": null,
   "metadata": {
    "collapsed": true
   },
   "outputs": [],
   "source": [
    "class Solution(object):\n",
    "    def maxProfit(self, prices):\n",
    "        \"\"\"\n",
    "        :type prices: List[int]\n",
    "        :rtype: int\n",
    "        \"\"\"\n",
    "        if not prices: return 0 \n",
    "        \n",
    "        profits = 0\n",
    "        for i in xrange (1, len(prices)):\n",
    "            profits += max( prices[i] - prices[i-1], 0 )\n",
    "        return profits"
   ]
  },
  {
   "cell_type": "markdown",
   "metadata": {},
   "source": [
    "##### 方法3: 自己写的方法, 找 peak 和 valley 的思路. 评价: 代码太复杂了.\n",
    "* runtime $O(n)$, space complexity $O(1)$"
   ]
  },
  {
   "cell_type": "code",
   "execution_count": null,
   "metadata": {
    "collapsed": true
   },
   "outputs": [],
   "source": [
    "class Solution(object):\n",
    "    def maxProfit(self, prices):\n",
    "        \"\"\"\n",
    "        :type prices: List[int]\n",
    "        :rtype: int\n",
    "        \"\"\"\n",
    "        # 1 basic case\n",
    "        if not prices: return 0\n",
    "        \n",
    "        # 2 algorithm\n",
    "        profit = 0\n",
    "        cur = pre = bought = prices[0]\n",
    "        hasStock = False # whether or not has stock \n",
    "        for i in xrange (1, len(prices)):\n",
    "            cur = prices[i] # current price\n",
    "            \n",
    "            if cur < pre and hasStock: # sell \n",
    "                profit += pre - bought\n",
    "                hasStock = False\n",
    "                \n",
    "            elif cur >= pre and not hasStock: # buy\n",
    "                bought = pre\n",
    "                hasStock = True\n",
    "            pre = cur\n",
    "        \n",
    "        if hasStock: # 错: 没有这句\n",
    "                profit += pre - bought\n",
    "            \n",
    "        return profit # 错: profit 写成 totalPrice 了"
   ]
  },
  {
   "cell_type": "markdown",
   "metadata": {},
   "source": [
    "### [123.hard_Best Time to Buy and Sell Stock III](https://leetcode.com/problems/best-time-to-buy-and-sell-stock-iii/description/)\n",
    "##### 题意\n",
    "\n",
    "\n",
    "##### 分析\n",
    "\n",
    "\n",
    "##### 总结"
   ]
  },
  {
   "cell_type": "markdown",
   "metadata": {},
   "source": [
    "### [188. Best Time to Buy and Sell Stock IV](https://leetcode.com/problems/best-time-to-buy-and-sell-stock-iv/description/)\n",
    "##### 题意\n",
    "* \n",
    "\n",
    "##### 分析\n",
    "* \n",
    "\n",
    "##### 总结"
   ]
  },
  {
   "cell_type": "markdown",
   "metadata": {},
   "source": [
    "### [309.medium_Best Time to Buy and Sell Stock with Cooldownk](https://leetcode.com/problems/best-time-to-buy-and-sell-stock-with-cooldown/description/)\n",
    "##### 题意\n",
    "* \n",
    "\n",
    "##### 分析\n",
    "* \n",
    "\n",
    "##### 总结"
   ]
  },
  {
   "cell_type": "markdown",
   "metadata": {},
   "source": [
    "## [169.easy_Majority Element](https://leetcode.com/problems/majority-element/description/)\n",
    "##### 题意\n",
    "\n",
    "##### 分析\n",
    "\n",
    "##### 总结"
   ]
  },
  {
   "cell_type": "markdown",
   "metadata": {},
   "source": [
    "## [215.medium_Kth Largest Element in an Array](https://leetcode.com/problems/kth-largest-element-in-an-array/description/)\n",
    "\n",
    "##### 题意\n",
    "\n",
    "##### 分析\n",
    "\n",
    "##### 总结"
   ]
  },
  {
   "cell_type": "markdown",
   "metadata": {},
   "source": [
    "## [218.hard_The Skyline Problem](https://leetcode.com/problems/the-skyline-problem/description/)\n",
    "\n",
    "##### 题意\n",
    "\n",
    "##### 分析\n",
    "\n",
    "##### 总结"
   ]
  },
  {
   "cell_type": "markdown",
   "metadata": {},
   "source": [
    "## [240.medium_Search a 2D Matrix II](https://leetcode.com/problems/search-a-2d-matrix-ii/description/)\n",
    "\n",
    "##### 题意\n",
    "\n",
    "##### 分析\n",
    "\n",
    "##### 总结"
   ]
  },
  {
   "cell_type": "markdown",
   "metadata": {},
   "source": [
    "## [312.hard_Burst Balloons](https://leetcode.com/problems/burst-balloons/description/)\n",
    "\n",
    "##### 题意\n",
    "\n",
    "##### 分析\n",
    "\n",
    "##### 总结"
   ]
  },
  {
   "cell_type": "markdown",
   "metadata": {},
   "source": [
    "## [315.hard_Count of Smaller Numbers After Self](https://leetcode.com/problems/count-of-smaller-numbers-after-self/description/)\n",
    "\n",
    "##### 题意\n",
    "\n",
    "##### 分析\n",
    "\n",
    "##### 总结"
   ]
  },
  {
   "cell_type": "markdown",
   "metadata": {},
   "source": [
    "## "
   ]
  },
  {
   "cell_type": "markdown",
   "metadata": {},
   "source": [
    "## "
   ]
  }
 ],
 "metadata": {
  "kernelspec": {
   "display_name": "Python 2",
   "language": "python",
   "name": "python2"
  },
  "language_info": {
   "codemirror_mode": {
    "name": "ipython",
    "version": 2
   },
   "file_extension": ".py",
   "mimetype": "text/x-python",
   "name": "python",
   "nbconvert_exporter": "python",
   "pygments_lexer": "ipython2",
   "version": "2.7.13"
  },
  "toc": {
   "nav_menu": {},
   "number_sections": true,
   "sideBar": true,
   "skip_h1_title": true,
   "toc_cell": true,
   "toc_position": {
    "height": "601px",
    "left": "0px",
    "right": "1056.28px",
    "top": "108px",
    "width": "145px"
   },
   "toc_section_display": "block",
   "toc_window_display": true
  }
 },
 "nbformat": 4,
 "nbformat_minor": 2
}

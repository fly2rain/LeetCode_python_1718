{
 "cells": [
  {
   "cell_type": "markdown",
   "metadata": {},
   "source": [
    "# 056.medium_Merge_Intervals \n",
    "\n",
    "### 题意\n",
    "* 题目：https://leetcode.com/problems/merge-intervals/description/\n",
    "* 如链接所示，题意比较清楚\n",
    "\n",
    "### 分析\n",
    "* 确实 sorted 完之后比较好处理，少了一重循环。\n",
    "* 只要对比上一个 intervals.end 是否大于当前 interval.start 从而决定如何处理\n",
    "\n",
    "### 编程经验\n",
    "\n",
    "```python\n",
    "```"
   ]
  },
  {
   "cell_type": "markdown",
   "metadata": {},
   "source": [
    "# Method #1:"
   ]
  },
  {
   "cell_type": "code",
   "execution_count": null,
   "metadata": {
    "collapsed": true
   },
   "outputs": [],
   "source": [
    "# Definition for an interval.\n",
    "# class Interval(object):\n",
    "#     def __init__(self, s=0, e=0):\n",
    "#         self.start = s\n",
    "#         self.end = e\n",
    "\n",
    "class Solution(object):\n",
    "    def merge(self, intervals):\n",
    "        \"\"\"\n",
    "        :type intervals: List[Interval]\n",
    "        :rtype: List[Interval]\n",
    "        \"\"\"\n",
    "        rst = []\n",
    "        sortedIntervals = sorted (intervals, key=lambda i: i.start)\n",
    "        for x in sortedIntervals:\n",
    "            if rst and rst[-1].end >= x.start:\n",
    "                rst[-1].end = max (rst[-1].end, x.end)\n",
    "            else:\n",
    "                rst.append (x)\n",
    "        return rst "
   ]
  },
  {
   "cell_type": "code",
   "execution_count": null,
   "metadata": {
    "collapsed": true
   },
   "outputs": [],
   "source": [
    "# -------------------------------------------------------------------------\n",
    "# There is another way of creating functions, using the lambda operator\n",
    "# Notice that unlike function defination, lambda does not need a return\n",
    " # The body of the lambda is a single expression.\n",
    "# The lambda operator becomes handy when writing small functions to be passed\n",
    "# as arguments etc. We will see more of it as we get into solving more serious problems.\n",
    "cube = lambda x: x ** 3\n",
    "print fxy (cube, 2, 3)\n",
    "print fxy (lambda x: x ** 3, 2, 3 )"
   ]
  },
  {
   "cell_type": "markdown",
   "metadata": {},
   "source": [
    "# Method #2:"
   ]
  },
  {
   "cell_type": "code",
   "execution_count": null,
   "metadata": {
    "collapsed": true
   },
   "outputs": [],
   "source": []
  }
 ],
 "metadata": {
  "kernelspec": {
   "display_name": "Python 2",
   "language": "python",
   "name": "python2"
  },
  "language_info": {
   "codemirror_mode": {
    "name": "ipython",
    "version": 2
   },
   "file_extension": ".py",
   "mimetype": "text/x-python",
   "name": "python",
   "nbconvert_exporter": "python",
   "pygments_lexer": "ipython2",
   "version": "2.7.13"
  }
 },
 "nbformat": 4,
 "nbformat_minor": 2
}

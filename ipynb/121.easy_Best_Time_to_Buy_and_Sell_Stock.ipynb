{
 "cells": [
  {
   "cell_type": "markdown",
   "metadata": {},
   "source": [
    "# 121.easy_Best_Time_to_Buy_and_Sell_Stock\n",
    "\n",
    "### 链接\n",
    "* [**Tags: Top 100 Liked Questions + Dynamic Programming**](https://leetcode.com/problemset/algorithms/?listId=79h8rn6&topicSlugs=dynamic-programming)\n",
    "* 题目：https://leetcode.com/problems/best-time-to-buy-and-sell-stock/description/\n",
    "\n",
    "### 题意\n",
    "* Say you have an array for which the $i$-th element is the price of a given stock on day $i$.\n",
    "* If you were only permitted to complete at most one transaction (ie, buy one and sell one share of the stock), design an algorithm to find the maximum profit.\n",
    "\n",
    "### 分析\n",
    "* 看解答，还蛮清晰的 https://discuss.leetcode.com/topic/33241/easy-o-n-python-solution\n",
    "\n",
    "### 编程经验\n",
    "\n",
    "```python\n",
    "```"
   ]
  },
  {
   "cell_type": "markdown",
   "metadata": {},
   "source": [
    "# Method #1"
   ]
  },
  {
   "cell_type": "code",
   "execution_count": null,
   "metadata": {
    "collapsed": true
   },
   "outputs": [],
   "source": [
    "class Solution(object):\n",
    "    def maxProfit(self, prices):\n",
    "        \"\"\"\n",
    "        :type prices: List[int]\n",
    "        :rtype: int\n",
    "        \"\"\"\n",
    "        min_price  = float ('inf')\n",
    "        max_profit = 0\n",
    "        if not prices:\n",
    "            return maxp\n",
    "        \n",
    "        for x in prices:\n",
    "            min_price  = min (x, min_price)\n",
    "            max_profit = max (max_profit, x - min_price)\n",
    "            \n",
    "        return max_profit"
   ]
  },
  {
   "cell_type": "code",
   "execution_count": null,
   "metadata": {
    "collapsed": true
   },
   "outputs": [],
   "source": [
    "if __name__ == '__main__'\n",
    "print Solution ()."
   ]
  },
  {
   "cell_type": "markdown",
   "metadata": {},
   "source": [
    "# Method #2"
   ]
  }
 ],
 "metadata": {
  "kernelspec": {
   "display_name": "Python 2",
   "language": "python",
   "name": "python2"
  },
  "language_info": {
   "codemirror_mode": {
    "name": "ipython",
    "version": 2
   },
   "file_extension": ".py",
   "mimetype": "text/x-python",
   "name": "python",
   "nbconvert_exporter": "python",
   "pygments_lexer": "ipython2",
   "version": "2.7.13"
  }
 },
 "nbformat": 4,
 "nbformat_minor": 2
}

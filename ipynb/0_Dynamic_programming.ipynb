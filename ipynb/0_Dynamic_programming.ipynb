{
 "cells": [
  {
   "cell_type": "markdown",
   "metadata": {
    "toc": true
   },
   "source": [
    "<h1>Table of Contents<span class=\"tocSkip\"></span></h1>\n",
    "<div class=\"toc\" style=\"margin-top: 1em;\"><ul class=\"toc-item\"><li><span><a href=\"#基础知识\" data-toc-modified-id=\"基础知识-1\"><span class=\"toc-item-num\">1&nbsp;&nbsp;</span>基础知识</a></span><ul class=\"toc-item\"><li><span><a href=\"#Dynamic-programming-&amp;-Divide-and-conquer\" data-toc-modified-id=\"Dynamic-programming-&amp;-Divide-and-conquer-1.1\"><span class=\"toc-item-num\">1.1&nbsp;&nbsp;</span>Dynamic programming &amp; Divide and conquer</a></span></li></ul></li><li><span><a href=\"#2/26\" data-toc-modified-id=\"2/26-2\"><span class=\"toc-item-num\">2&nbsp;&nbsp;</span><a href=\"\" target=\"_blank\">2/26</a></a></span><ul class=\"toc-item\"><li><span><a href=\"#121.easy-Best-Time-to-Buy-and-Sell-Stock\" data-toc-modified-id=\"121.easy-Best-Time-to-Buy-and-Sell-Stock-2.1\"><span class=\"toc-item-num\">2.1&nbsp;&nbsp;</span><a href=\"https://leetcode.com/problems/best-time-to-buy-and-sell-stock/description/\" target=\"_blank\">121.easy-Best Time to Buy and Sell Stock</a></a></span></li><li><span><a href=\"#122.easy-Best-Time-to-Buy-and-Sell-Stock-II\" data-toc-modified-id=\"122.easy-Best-Time-to-Buy-and-Sell-Stock-II-2.2\"><span class=\"toc-item-num\">2.2&nbsp;&nbsp;</span><a href=\"https://leetcode.com/problems/best-time-to-buy-and-sell-stock-ii/description/\" target=\"_blank\">122.easy-Best Time to Buy and Sell Stock II</a></a></span></li><li><span><a href=\"#309.med-Best-Time-to-Buy-and-Sell-Stock-with-Cooldown\" data-toc-modified-id=\"309.med-Best-Time-to-Buy-and-Sell-Stock-with-Cooldown-2.3\"><span class=\"toc-item-num\">2.3&nbsp;&nbsp;</span><a href=\"https://leetcode.com/problems/best-time-to-buy-and-sell-stock-with-cooldown/description/\" target=\"_blank\">309.med-Best Time to Buy and Sell Stock with Cooldown</a></a></span></li><li><span><a href=\"#714.med-Best-Time-to-Buy-and-Sell-Stock-with-Transaction-Fee\" data-toc-modified-id=\"714.med-Best-Time-to-Buy-and-Sell-Stock-with-Transaction-Fee-2.4\"><span class=\"toc-item-num\">2.4&nbsp;&nbsp;</span><a href=\"https://leetcode.com/problems/best-time-to-buy-and-sell-stock-with-transaction-fee/description/\" target=\"_blank\">714.med-Best Time to Buy and Sell Stock with Transaction Fee</a></a></span></li><li><span><a href=\"#❓123.hard-Best-Time-to-Buy-and-Sell-Stock-III\" data-toc-modified-id=\"❓123.hard-Best-Time-to-Buy-and-Sell-Stock-III-2.5\"><span class=\"toc-item-num\">2.5&nbsp;&nbsp;</span><a href=\"https://leetcode.com/problems/best-time-to-buy-and-sell-stock-iii/description/\" target=\"_blank\">❓123.hard-Best Time to Buy and Sell Stock III</a></a></span></li><li><span><a href=\"#❓188.hard-Best-Time-to-Buy-and-Sell-Stock-IV\" data-toc-modified-id=\"❓188.hard-Best-Time-to-Buy-and-Sell-Stock-IV-2.6\"><span class=\"toc-item-num\">2.6&nbsp;&nbsp;</span><a href=\"https://leetcode.com/problems/best-time-to-buy-and-sell-stock-iv/description/\" target=\"_blank\">❓188.hard-Best Time to Buy and Sell Stock IV</a></a></span></li><li><span><a href=\"#53.easy-Maximum-Subarray\" data-toc-modified-id=\"53.easy-Maximum-Subarray-2.7\"><span class=\"toc-item-num\">2.7&nbsp;&nbsp;</span><a href=\"https://leetcode.com/problems/maximum-subarray/description/\" target=\"_blank\">53.easy-Maximum Subarray</a></a></span></li><li><span><a href=\"#152.med-Maximum-Product-Subarray\" data-toc-modified-id=\"152.med-Maximum-Product-Subarray-2.8\"><span class=\"toc-item-num\">2.8&nbsp;&nbsp;</span><a href=\"https://leetcode.com/problems/maximum-product-subarray/description/\" target=\"_blank\">152.med-Maximum Product Subarray</a></a></span></li><li><span><a href=\"#70.easy-Climbing-Stairs\" data-toc-modified-id=\"70.easy-Climbing-Stairs-2.9\"><span class=\"toc-item-num\">2.9&nbsp;&nbsp;</span><a href=\"https://leetcode.com/problems/climbing-stairs/description/\" target=\"_blank\">70.easy-Climbing Stairs</a></a></span></li><li><span><a href=\"#❤️746.easy-Min-Cost-Climbing-Stairs\" data-toc-modified-id=\"❤️746.easy-Min-Cost-Climbing-Stairs-2.10\"><span class=\"toc-item-num\">2.10&nbsp;&nbsp;</span><a href=\"https://leetcode.com/problems/min-cost-climbing-stairs/description/\" target=\"_blank\">❤️746.easy-Min Cost Climbing Stairs</a></a></span></li><li><span><a href=\"#338.medium-Counting-Bits\" data-toc-modified-id=\"338.medium-Counting-Bits-2.11\"><span class=\"toc-item-num\">2.11&nbsp;&nbsp;</span><a href=\"https://leetcode.com/problems/counting-bits/description/\" target=\"_blank\">338.medium-Counting Bits</a></a></span></li></ul></li><li><span><a href=\"#3/2:-house-robber\" data-toc-modified-id=\"3/2:-house-robber-3\"><span class=\"toc-item-num\">3&nbsp;&nbsp;</span><a href=\"\" target=\"_blank\">3/2: house robber</a></a></span><ul class=\"toc-item\"><li><span><a href=\"#115.easy-House-Robber\" data-toc-modified-id=\"115.easy-House-Robber-3.1\"><span class=\"toc-item-num\">3.1&nbsp;&nbsp;</span><a href=\"https://leetcode.com/problems/house-robber/description/\" target=\"_blank\">115.easy-House Robber</a></a></span></li><li><span><a href=\"#213.med-House-Robber-II\" data-toc-modified-id=\"213.med-House-Robber-II-3.2\"><span class=\"toc-item-num\">3.2&nbsp;&nbsp;</span><a href=\"https://leetcode.com/problems/house-robber-ii/description/\" target=\"_blank\">213.med-House Robber II</a></a></span></li><li><span><a href=\"#337.med-House-Robber-III\" data-toc-modified-id=\"337.med-House-Robber-III-3.3\"><span class=\"toc-item-num\">3.3&nbsp;&nbsp;</span><a href=\"https://leetcode.com/problems/house-robber-iii/description/\" target=\"_blank\">337.med-House Robber III</a></a></span></li></ul></li><li><span><a href=\"#3/3:-Dynamic-programming\" data-toc-modified-id=\"3/3:-Dynamic-programming-4\"><span class=\"toc-item-num\">4&nbsp;&nbsp;</span><a href=\"\" target=\"_blank\">3/3: Dynamic programming</a></a></span><ul class=\"toc-item\"><li><span><a href=\"#303.easy-Range-Sum-Query---Immutable\" data-toc-modified-id=\"303.easy-Range-Sum-Query---Immutable-4.1\"><span class=\"toc-item-num\">4.1&nbsp;&nbsp;</span><a href=\"https://leetcode.com/problems/range-sum-query-immutable/description/\" target=\"_blank\">303.easy-Range Sum Query - Immutable</a></a></span></li><li><span><a href=\"#120.med-Triangle\" data-toc-modified-id=\"120.med-Triangle-4.2\"><span class=\"toc-item-num\">4.2&nbsp;&nbsp;</span><a href=\"https://leetcode.com/problems/triangle/description/\" target=\"_blank\">120.med-Triangle</a></a></span></li><li><span><a href=\"#❤️516.med-Longest-Palindromic-Subsequence\" data-toc-modified-id=\"❤️516.med-Longest-Palindromic-Subsequence-4.3\"><span class=\"toc-item-num\">4.3&nbsp;&nbsp;</span><a href=\"https://leetcode.com/problems/longest-palindromic-subsequence/description/\" target=\"_blank\">❤️516.med-Longest Palindromic Subsequence</a></a></span></li><li><span><a href=\"#❤️❤️❤️300.-Longest-Increasing-Subsequence\" data-toc-modified-id=\"❤️❤️❤️300.-Longest-Increasing-Subsequence-4.4\"><span class=\"toc-item-num\">4.4&nbsp;&nbsp;</span><a href=\"https://leetcode.com/problems/longest-increasing-subsequence/description/\" target=\"_blank\">❤️❤️❤️300. Longest Increasing Subsequence</a></a></span></li><li><span><a href=\"#❓673.med-Number-of-Longest-Increasing-Subsequence-搞不定,-不搞了\" data-toc-modified-id=\"❓673.med-Number-of-Longest-Increasing-Subsequence-搞不定,-不搞了-4.5\"><span class=\"toc-item-num\">4.5&nbsp;&nbsp;</span><a href=\"https://leetcode.com/problems/number-of-longest-increasing-subsequence/description/\" target=\"_blank\">❓673.med-Number of Longest Increasing Subsequence 搞不定, 不搞了</a></a></span></li><li><span><a href=\"#674.easy-Longest-Continuous-Increasing-Subsequence\" data-toc-modified-id=\"674.easy-Longest-Continuous-Increasing-Subsequence-4.6\"><span class=\"toc-item-num\">4.6&nbsp;&nbsp;</span><a href=\"https://leetcode.com/problems/longest-continuous-increasing-subsequence/description/\" target=\"_blank\">674.easy-Longest Continuous Increasing Subsequence</a></a></span></li><li><span><a href=\"#279.med-Perfect-Squares\" data-toc-modified-id=\"279.med-Perfect-Squares-4.7\"><span class=\"toc-item-num\">4.7&nbsp;&nbsp;</span><a href=\"https://leetcode.com/problems/perfect-squares/description/\" target=\"_blank\">279.med Perfect Squares</a></a></span></li><li><span><a href=\"#322.med-Coin-Change\" data-toc-modified-id=\"322.med-Coin-Change-4.8\"><span class=\"toc-item-num\">4.8&nbsp;&nbsp;</span><a href=\"https://leetcode.com/problems/coin-change/description/\" target=\"_blank\">322.med-Coin Change</a></a></span></li><li><span><a href=\"#518.med-Coin-Change-2\" data-toc-modified-id=\"518.med-Coin-Change-2-4.9\"><span class=\"toc-item-num\">4.9&nbsp;&nbsp;</span><a href=\"https://leetcode.com/problems/coin-change-2/description/\" target=\"_blank\">518.med-Coin Change 2</a></a></span></li><li><span><a href=\"#62.med-Unique-Paths\" data-toc-modified-id=\"62.med-Unique-Paths-4.10\"><span class=\"toc-item-num\">4.10&nbsp;&nbsp;</span><a href=\"https://leetcode.com/problems/unique-paths/description/\" target=\"_blank\">62.med-Unique Paths</a></a></span></li><li><span><a href=\"#63.med-Unique-Paths-II\" data-toc-modified-id=\"63.med-Unique-Paths-II-4.11\"><span class=\"toc-item-num\">4.11&nbsp;&nbsp;</span><a href=\"https://leetcode.com/problems/unique-paths-ii/description/\" target=\"_blank\">63.med-Unique Paths II</a></a></span></li><li><span><a href=\"#64.med-Minimum-Path-Sum\" data-toc-modified-id=\"64.med-Minimum-Path-Sum-4.12\"><span class=\"toc-item-num\">4.12&nbsp;&nbsp;</span><a href=\"https://leetcode.com/problems/minimum-path-sum/description/\" target=\"_blank\">64.med-Minimum Path Sum</a></a></span></li><li><span><a href=\"#221.med-Maximal-Square\" data-toc-modified-id=\"221.med-Maximal-Square-4.13\"><span class=\"toc-item-num\">4.13&nbsp;&nbsp;</span><a href=\"https://leetcode.com/problems/maximal-square/description/\" target=\"_blank\">221.med-Maximal Square</a></a></span></li><li><span><a href=\"#85.hard-Maximal-Rectangle\" data-toc-modified-id=\"85.hard-Maximal-Rectangle-4.14\"><span class=\"toc-item-num\">4.14&nbsp;&nbsp;</span><a href=\"https://leetcode.com/problems/maximal-rectangle/description/\" target=\"_blank\">85.hard-Maximal Rectangle</a></a></span></li><li><span><a href=\"#547.med-Friend-Circles\" data-toc-modified-id=\"547.med-Friend-Circles-4.15\"><span class=\"toc-item-num\">4.15&nbsp;&nbsp;</span><a href=\"https://leetcode.com/problems/friend-circles/description/\" target=\"_blank\">547.med-Friend Circles</a></a></span></li><li><span><a href=\"#560.med-Subarray-Sum-Equals-K\" data-toc-modified-id=\"560.med-Subarray-Sum-Equals-K-4.16\"><span class=\"toc-item-num\">4.16&nbsp;&nbsp;</span><a href=\"https://leetcode.com/problems/subarray-sum-equals-k/description/\" target=\"_blank\">560.med-Subarray Sum Equals K</a></a></span></li><li><span><a href=\"#❤️96.med-Unique-Binary-Search-Trees\" data-toc-modified-id=\"❤️96.med-Unique-Binary-Search-Trees-4.17\"><span class=\"toc-item-num\">4.17&nbsp;&nbsp;</span><a href=\"https://leetcode.com/problems/unique-binary-search-trees/description/\" target=\"_blank\">❤️96.med-Unique Binary Search Trees</a></a></span></li></ul></li></ul></div>"
   ]
  },
  {
   "cell_type": "markdown",
   "metadata": {},
   "source": [
    "# Dynamic & Programming\n",
    "* 题型: [Top 100 Liked Questions + Dynamic & Programming](https://leetcode.com/problemset/algorithms/?topicSlugs=dynamic-programming&listId=79h8rn6)\n",
    "* 题型: [Dynamic & Programming](https://leetcode.com/problemset/algorithms/?topicSlugs=dynamic-programming)"
   ]
  },
  {
   "cell_type": "markdown",
   "metadata": {},
   "source": [
    "## 基础知识\n",
    "### Dynamic programming & Divide and conquer\n",
    "* 两个方法都是把大的 (复杂的) 问题分解成子 (简单的) 问题, 通过对子问题的求解, 合并, 求解出原问题.\n",
    "* 区别在于:\n",
    "    * <span class=\"girk\">divide & conquer</span> 适合于子问题没有重合的情况, 子问题相互独立, 不存在<span class=\"girk\">大量的重复计算</span>问题.\n",
    "    * <span class=\"girk\">dynamic programming</span> 适合于子问题存在严重重合的情况. 通过数据记录<span class=\"girk\">存储子问题的解</span>, 调出子问题的解, 从而避免重复计算子问题的缺陷. 感觉 recursion + memoerization 非常类似, 有什么区别呢?"
   ]
  },
  {
   "cell_type": "markdown",
   "metadata": {},
   "source": [
    "## [2/26]()"
   ]
  },
  {
   "cell_type": "markdown",
   "metadata": {},
   "source": [
    "### [121.easy-Best Time to Buy and Sell Stock](https://leetcode.com/problems/best-time-to-buy-and-sell-stock/description/)\n",
    "##### 题意: Say you have an array for which the ith element is the price of a given stock on day i.\n",
    "* If you were only permitted to complete <span class=\"girk\">at most one transaction</span> (ie, buy one and sell one share of the stock), design an algorithm to find the maximum profit.\n",
    "* 举例#1:\n",
    "   ```\n",
    "   Input: [7, 1, 5, 3, 6, 4]\n",
    "   Output: 5\n",
    "\n",
    "   max. difference = 6-1 = 5 (not 7-1 = 6, as selling price needs to be larger than buying price)\n",
    "   ```\n",
    "* 举例#2:\n",
    "    ```\n",
    "    Input: [7, 6, 4, 3, 1]\n",
    "    Output: 0\n",
    "\n",
    "    In this case, no transaction is done, i.e. max profit = 0.\n",
    "    ```\n",
    "   \n",
    "##### 分析: 1d 动态规划题, 两种方法. \n",
    "* 本质上求两个元素的最大差问题. 即求最小值, 然后求证当前值和最小值之间的差异是否是最大???\n",
    "\n",
    "##### 总结: https://www.youtube.com/watch?v=8pVhUpF1INw"
   ]
  },
  {
   "cell_type": "code",
   "execution_count": null,
   "metadata": {
    "collapsed": true
   },
   "outputs": [],
   "source": [
    "class Solution(object):\n",
    "    def maxProfit(self, prices):\n",
    "        \"\"\"\n",
    "        :type prices: List[int]\n",
    "        :rtype: int\n",
    "        \"\"\"\n",
    "        if not prices: return 0\n",
    "        \n",
    "        minPrice, maxProfit = prices[0], 0\n",
    "        for x in prices:\n",
    "            minPrice = min(x, minPrice) # ❤️ minPrice 本身是动态规划的一个变量 \n",
    "            maxProfit = max(maxProfit, x - minPrice)\n",
    "            \n",
    "        return maxProfit"
   ]
  },
  {
   "cell_type": "markdown",
   "metadata": {},
   "source": [
    "### [122.easy-Best Time to Buy and Sell Stock II](https://leetcode.com/problems/best-time-to-buy-and-sell-stock-ii/description/)\n",
    "##### 允许多次买卖, 但是一天不能进行多次操作.  和 121的区别仅仅在于, 一天多次交易."
   ]
  },
  {
   "cell_type": "code",
   "execution_count": null,
   "metadata": {
    "collapsed": true
   },
   "outputs": [],
   "source": [
    "class Solution(object):\n",
    "    def maxProfit(self, prices):\n",
    "        \"\"\"\n",
    "        :type prices: List[int]\n",
    "        :rtype: int\n",
    "        \"\"\"\n",
    "        if not prices: return 0\n",
    "        \n",
    "        rst = 0\n",
    "        for i in xrange(1, len(prices)):\n",
    "            rst += max(0, prices[i]-prices[i-1])\n",
    "        return rst"
   ]
  },
  {
   "cell_type": "markdown",
   "metadata": {},
   "source": [
    "### [309.med-Best Time to Buy and Sell Stock with Cooldown](https://leetcode.com/problems/best-time-to-buy-and-sell-stock-with-cooldown/description/)\n",
    "##### 题意: Say you have an array for which the ith element is the price of a given stock on day i.\n",
    "* 设计算法获得最大利润, 但是需要满足以下条件:\n",
    "    * 可以<span class=\"girk\">完成多起交易</span>, 但需要先买入后卖出, 之后才能进行下一次交易.\n",
    "    * 买入卖出 到 下一次买入卖出间需要 cooldown 1 day. 必须相隔 1 天.\n",
    "* Example:\n",
    "```\n",
    "prices = [1, 2, 3, 0, 2]\n",
    "maxProfit = 3\n",
    "transactions = [buy, sell, cooldown, buy, sell]\n",
    "```\n",
    "\n",
    "\n",
    "##### 分析\n",
    "##### 总结: https://www.youtube.com/watch?v=oL6mRyTn56M"
   ]
  },
  {
   "cell_type": "code",
   "execution_count": null,
   "metadata": {
    "collapsed": true
   },
   "outputs": [],
   "source": [
    "class Solution(object):\n",
    "    def maxProfit(self, prices): # space: O(1)\n",
    "        if not prices: return 0\n",
    "        \n",
    "        pre_hold = float(\"-inf\")\n",
    "        pre_sold = pre_rest = 0\n",
    "        for price in prices:\n",
    "            sold = pre_hold + price\n",
    "            hold = max(pre_hold, pre_rest - price)\n",
    "            rest = max(pre_rest, pre_sold)\n",
    "            \n",
    "            # update the old variables \n",
    "            pre_sold, pre_hold, pre_rest = sold, hold, rest           \n",
    "            \n",
    "        return max(rest, sold)"
   ]
  },
  {
   "cell_type": "code",
   "execution_count": null,
   "metadata": {
    "collapsed": true
   },
   "outputs": [],
   "source": [
    "# ❤️❤️ 解决动态规划问题的标准范式 ❤️❤️ ------------------\n",
    "# 0 状态: sold, hold, rest.\n",
    "# 1 状态转移方程 # ❤️ 因为第 i 项之和 i-1 项有关, 所以可以减少 space 开销的.\n",
    "#     sold[i] = hold[i-1] + prices[i]\n",
    "#     hold[i] = max(hold[i-1], rest[i-1] - prices[i])\n",
    "#     rest[i] = max(rest[i-1], sold[i-1])\n",
    "# 2 状态初始化\n",
    "#     sold[0] = rest[0] = 0,  hold[0] = -inf\n",
    "# 3 最终输出\n",
    "#     max(sold[i], rest[i])\n",
    "# 4 complexity analysis\n",
    "#     time: O(n),  space: O(n) -> O(1)\n",
    "\n",
    "class Solution(object):\n",
    "    def maxProfit(self, prices): # space: O(n)\n",
    "        \"\"\"\n",
    "        :type prices: List[int]\n",
    "        :rtype: int\n",
    "        \"\"\"\n",
    "        if not prices: return 0\n",
    "        \n",
    "        n = len(prices)\n",
    "        sold = [0] * (n + 1)\n",
    "        hold = [0] * (n + 1)\n",
    "        rest = [0] * (n + 1)\n",
    "        sold[0] = rest[0] = 0\n",
    "        hold[0] = float(\"-inf\")\n",
    "        \n",
    "        for i in xrange(1, n + 1):\n",
    "            sold[i] = hold[i-1] + prices[i-1] # ❤️  prices[i-1] because the index shift in the prices\n",
    "            hold[i] = max(hold[i-1], rest[i-1] - prices[i-1])\n",
    "            rest[i] = max(rest[i-1], sold[i-1])\n",
    "        return max(sold[i], rest[i])   "
   ]
  },
  {
   "cell_type": "markdown",
   "metadata": {},
   "source": [
    "### [714.med-Best Time to Buy and Sell Stock with Transaction Fee](https://leetcode.com/problems/best-time-to-buy-and-sell-stock-with-transaction-fee/description/)\n",
    "##### 题意: Your are given an array of <span class=\"girk\">integers prices</span>, for which the $i$-th element is the price of a given stock on day $i$; and a <span class=\"girk\">non-negative integer fee</span> representing a transaction fee.\n",
    "* You may <span class=\"girk\">complete as many transactions as you like</span>, but you need to pay the transaction fee for each transaction.\n",
    "* You may not buy more than 1 share of a stock at a time (ie. you must sell the stock share before you buy again.)\n",
    "* Return the maximum profit you can make.\n",
    "\n",
    "##### 举例"
   ]
  },
  {
   "cell_type": "code",
   "execution_count": null,
   "metadata": {
    "collapsed": true
   },
   "outputs": [],
   "source": [
    "\"\"\"\n",
    "Input: prices = [1, 3, 2, 8, 4, 9], fee = 2\n",
    "Output: 8\n",
    "Explanation: The maximum profit can be achieved by:\n",
    "Buying at prices[0] = 1\n",
    "Selling at prices[3] = 8\n",
    "Buying at prices[4] = 4\n",
    "Selling at prices[5] = 9\n",
    "The total profit is ((8 - 1) - 2) + ((9 - 4) - 2) = 8.\n",
    "\"\"\""
   ]
  },
  {
   "cell_type": "code",
   "execution_count": null,
   "metadata": {
    "collapsed": true
   },
   "outputs": [],
   "source": [
    "class Solution(object):\n",
    "    def maxProfit(self, prices, fee):\n",
    "        \"\"\"\n",
    "        :type prices: List[int]\n",
    "        :type fee: int\n",
    "        :rtype: int\n",
    "        \"\"\"\n",
    "        if not prices: return 0\n",
    "        \n",
    "        pre_rest = pre_sold = 0\n",
    "        pre_hold = float(\"-inf\")\n",
    "        for x in prices:\n",
    "            sold = pre_hold + x - fee\n",
    "            hold = max(pre_hold, max(pre_rest-x, pre_sold-x))\n",
    "            rest = max(pre_rest, pre_sold)\n",
    "                       \n",
    "            pre_rest, pre_sold, pre_hold = rest, sold, hold\n",
    "                       \n",
    "        return max(rest, sold)"
   ]
  },
  {
   "cell_type": "code",
   "execution_count": null,
   "metadata": {
    "collapsed": true
   },
   "outputs": [],
   "source": [
    "# 1 状态转移方程 # ❤️ 因为第 i 项之和 i-1 项有关, 所以可以减少 space 开销的.\n",
    "#     sold[i] = hold[i-1] + prices[i] - fee\n",
    "#     hold[i] = max(hold[i-1], max(rest[i-1]-prices[i], sold[i-1]-price[i]))\n",
    "#     rest[i] = max(rest[i-1], sold[i-1])\n",
    "# 2 状态初始化\n",
    "#     sold[0] = rest[0] = 0,  hold[0] = -inf\n",
    "# 3 最终输出\n",
    "#     max(sold[i], rest[i])\n",
    "# 4 complexity analysis\n",
    "#     time: O(n),  space: O(n) -> O(1)\n",
    "class Solution(object):\n",
    "    def maxProfit(self, prices, fee):\n",
    "        \"\"\"\n",
    "        :type prices: List[int]\n",
    "        :type fee: int\n",
    "        :rtype: int\n",
    "        \"\"\"\n",
    "        if not prices: return 0\n",
    "        \n",
    "        n = len(prices)\n",
    "        sold = [0] * (n + 1)\n",
    "        hold = [0] * (n + 1)\n",
    "        rest = [0] * (n + 1)\n",
    "        \n",
    "        sold[0] = rest[0] = 0\n",
    "        hold[0] = float(\"-inf\")\n",
    "        \n",
    "        for i in xrange(1, n + 1):\n",
    "            sold[i] = hold[i-1] + prices[i-1] - fee # because the trans. fees\n",
    "            hold[i] = max( hold[i-1], max(rest[i-1]-prices[i-1], sold[i-1]-prices[i-1]) )\n",
    "            rest[i] = max(rest[i-1], sold[i-1])\n",
    "            \n",
    "        return max(rest[n], sold[n])"
   ]
  },
  {
   "cell_type": "markdown",
   "metadata": {},
   "source": [
    "### [❓123.hard-Best Time to Buy and Sell Stock III](https://leetcode.com/problems/best-time-to-buy-and-sell-stock-iii/description/)\n",
    "##### 题意: Say you have an array for which the $i$th element is the price of a given stock on day $i$.\n",
    "* Design an algorithm to find the maximum profit. You may <span class=\"girk\">complete at most two transactions</span>.\n",
    "* Note: you may not engage in multiple transactions at the same time (ie, you must sell the stock before you buy again)."
   ]
  },
  {
   "cell_type": "markdown",
   "metadata": {},
   "source": [
    "### [❓188.hard-Best Time to Buy and Sell Stock IV](https://leetcode.com/problems/best-time-to-buy-and-sell-stock-iv/description/)\n",
    "##### 题意: "
   ]
  },
  {
   "cell_type": "markdown",
   "metadata": {},
   "source": [
    "### [53.easy-Maximum Subarray](https://leetcode.com/problems/maximum-subarray/description/)\n",
    "##### 题意: Find the <span class=\"girk\">contiguous subarray within an array</span> (containing at least one number) which has the <span class=\"girk\">largest sum</span>\n",
    "* For example, \n",
    "``` given the array [-2,1,-3,4,-1,2,1,-5,4], the contiguous subarray [4,-1,2,1] has the largest sum = 6. ```\n",
    "\n",
    "##### 分析: 每一步, 分析加上之前的有好处呢? 还是重新开始有好处?"
   ]
  },
  {
   "cell_type": "code",
   "execution_count": null,
   "metadata": {
    "collapsed": true
   },
   "outputs": [],
   "source": [
    "# dynamic programming 的简便写法. time O(n), space O(1)\n",
    "class Solution(object):\n",
    "    def maxSubArray(self, nums):\n",
    "        \"\"\"\n",
    "        :type nums: List[int]\n",
    "        :rtype: int\n",
    "        \"\"\"\n",
    "        if not nums: return -1\n",
    "        \n",
    "        n, rst, maxRst = len(nums), nums[0], nums[0]  # ❎ 初始化要非常非常小心.\n",
    "        for i in xrange(1, n): # ❤️❤️ 从 1 开始.\n",
    "            rst = max(0, rst) + nums[i] # ❤️ 1) 分析现有结果是正数还是负数, 2) 如果是负数贡献为负, 不如归零.\n",
    "            maxRst = max(rst, maxRst)\n",
    "        return maxRst            "
   ]
  },
  {
   "cell_type": "code",
   "execution_count": null,
   "metadata": {
    "collapsed": true
   },
   "outputs": [],
   "source": [
    "# 严格 dynamic programming 的写法. time O(n), space O(n)\n",
    "class Solution(object):\n",
    "    # nums = [-2, 1, -3, 4, -1, 2, 1, -5, 4]\n",
    "    # f    = [-2, 1, -2, 4,  3, 5, 6,  1, 5]\n",
    "    # 状态转移方程: \n",
    "    #    f[i] = max(f[i-1], 0) + nums[i] # 发现状态转移方程 i 只和 i - 1 有关, 所以减少空间.\n",
    "    def maxSubArray(self, nums):\n",
    "        if not nums: return -1\n",
    "        \n",
    "        n = len(nums)\n",
    "        f = [0] * n\n",
    "        f[0] = maxRst = nums[0]\n",
    "        for i in xrange(1, n):\n",
    "            f[i] = max(f[i-1], 0) + nums[i]\n",
    "            maxRst = max(maxRst, f[i])\n",
    "        return maxRst"
   ]
  },
  {
   "cell_type": "markdown",
   "metadata": {},
   "source": [
    "### [152.med-Maximum Product Subarray](https://leetcode.com/problems/maximum-product-subarray/description/)\n",
    "##### 题意: Find the contiguous subarray within an array (containing at least one number) which has the largest product.\n",
    "* For example, given the array [2,3,-2,4],\n",
    "* the contiguous subarray [2,3] has the largest product = 6.\n",
    "\n",
    "##### 教程 (Edward Shi): https://www.youtube.com/watch?v=0KGesmEtA5o"
   ]
  },
  {
   "cell_type": "code",
   "execution_count": null,
   "metadata": {
    "collapsed": true
   },
   "outputs": [],
   "source": [
    "# 维持 max, min, rst 三个值. time O(n), space O(1)\n",
    "# 4/4/2018\n",
    "class Solution(object):\n",
    "    def maxProduct(self, nums):\n",
    "        \"\"\"\n",
    "        :type nums: List[int]\n",
    "        :rtype: int\n",
    "        \"\"\"\n",
    "        if not nums: return 0\n",
    "        \n",
    "        prev_max = prev_min = rst = nums[0]\n",
    "        for i in xrange(1, len(nums)):\n",
    "            x = nums[i]\n",
    "            maxv = max(max(prev_max*x, prev_min*x), x)\n",
    "            minv = min(min(prev_max*x, prev_min*x), x)\n",
    "            prev_max, prev_min = maxv, minv\n",
    "            rst = max(rst, maxv)\n",
    "        return rst"
   ]
  },
  {
   "cell_type": "markdown",
   "metadata": {},
   "source": [
    "### [70.easy-Climbing Stairs](https://leetcode.com/problems/climbing-stairs/description/)\n",
    "##### 题意: You are climbing a stair case. It takes n steps to reach to the top.\n",
    "* Each time you can either climb 1 or 2 steps. In how many distinct ways can you climb to the top?\n",
    "* Note: Given n will be a positive integer.\n",
    "\n",
    "* 举例#1:\n",
    "    ```\n",
    "    Input: 2\n",
    "    Output:  2\n",
    "    Explanation:  There are two ways to climb to the top.\n",
    "\n",
    "    1. 1 step + 1 step\n",
    "    2. 2 steps\n",
    "    ```\n",
    "* 举例#2: \n",
    "    ```\n",
    "    Input: 3\n",
    "    Output:  3\n",
    "    Explanation:  There are three ways to climb to the top.\n",
    "\n",
    "    1. 1 step + 1 step + 1 step\n",
    "    2. 1 step + 2 steps\n",
    "    3. 2 steps + 1 step\n",
    "    ```\n",
    "    \n",
    "##### 动态规划: 计数问题."
   ]
  },
  {
   "cell_type": "code",
   "execution_count": null,
   "metadata": {
    "collapsed": true
   },
   "outputs": [],
   "source": [
    "# 方法2: 简化的 dynamic programming, ❤️ time O(n), space O(1) ❤️ \n",
    "# 状态转移方程是: f(n) = f(n-1) + f(n-2), 当前项只和前两项相关, 所以简化 space 消耗.\n",
    "class Solution(object):\n",
    "    def climbStairs(self, n):\n",
    "        if n < 3: return n # ❤️ n=1时, 返回 1; n=2时, 返回2.\n",
    "        \n",
    "        first, second = 1, 2 \n",
    "        for i in xrange(2, n):\n",
    "            third = first + second\n",
    "            second, first = third, second\n",
    "        return third"
   ]
  },
  {
   "cell_type": "code",
   "execution_count": null,
   "metadata": {
    "collapsed": true
   },
   "outputs": [],
   "source": [
    "# 方法1: 严格意义的 dynamic programming, ❤️ time O(n), space O(n) ❤️\n",
    "class Solution(object):\n",
    "    # 状态方程是: f(n) = f(n-1) + f(n-2)\n",
    "    def climbStairs(self, n):\n",
    "        \"\"\"\n",
    "        :type n: int\n",
    "        :rtype: int\n",
    "        \"\"\"\n",
    "        if n < 3: return n\n",
    "        \n",
    "        f = [0] * n\n",
    "        f[0], f[1] = 1, 2\n",
    "        for i in xrange(2, n):\n",
    "            f[i] = f[i-1] + f[i-2]\n",
    "        return f[n-1]"
   ]
  },
  {
   "cell_type": "code",
   "execution_count": null,
   "metadata": {
    "collapsed": true
   },
   "outputs": [],
   "source": [
    "# 方法3: recursion + memorization, ❤️ time O(n), space O(n) ❤️\n",
    "class Solution(object):\n",
    "    def climbStairs(self, n):\n",
    "        rst = [0] * (n + 1)\n",
    "        return self.helper(n, rst)\n",
    "        \n",
    "    def helper(self, n, rst):\n",
    "        if n < 3: return n\n",
    "        \n",
    "        if rst[n] > 0: return rst[n] # ❤️ > 0 \n",
    "        \n",
    "        rst[n] = self.helper(n-1, rst) + self.helper(n-2, rst)\n",
    "        return rst [n]    "
   ]
  },
  {
   "cell_type": "markdown",
   "metadata": {},
   "source": [
    "### [❤️746.easy-Min Cost Climbing Stairs](https://leetcode.com/problems/min-cost-climbing-stairs/description/)\n",
    "##### 题意: 每次可以爬 1 或 2个 step, 但是每次都需要交过路费, 问最少交多少过路费, 就能爬到 顶部. 可以选择从 0 或 1 step 开始爬.\n",
    "\n",
    "##### 视频教程: https://www.youtube.com/watch?v=v3WqNLmmBdk"
   ]
  },
  {
   "cell_type": "code",
   "execution_count": null,
   "metadata": {
    "collapsed": true
   },
   "outputs": [],
   "source": [
    "# (方法1) dp[n]: the min cost to climb to the n-th step\n",
    "# 状态转移方程:\n",
    "#     dp[n] = min(dp[n-1] + cost[n-1], dp[n-2] + cost[n-2])\n",
    "class Solution(object):\n",
    "    def minCostClimbingStairs(self, cost):\n",
    "        \"\"\"\n",
    "        :type cost: List[int]\n",
    "        :rtype: int\n",
    "        \"\"\"\n",
    "        if not cost: return 0\n",
    "        \n",
    "        n = len(cost) # ❎❤️ 不能将 O(n) 的 space 复杂度, 降低到 O(1)\n",
    "        dp = [0] * (n + 1)\n",
    "        for i in xrange(2, n+1):\n",
    "            dp[i] = min(dp[i-1]+cost[i-1], dp[i-2]+cost[i-2])\n",
    "        return dp[n]"
   ]
  },
  {
   "cell_type": "code",
   "execution_count": null,
   "metadata": {
    "collapsed": true
   },
   "outputs": [],
   "source": [
    "# (方法2) dp[n]: the min cost before leaving the n-th step\n",
    "# 状态转移方程:\n",
    "#     dp[n] = min(dp[n-1], dp[n-2]) + cost[n]\n",
    "class Solution(object):\n",
    "    def minCostClimbingStairs(self, cost):\n",
    "        \"\"\"\n",
    "        :type cost: List[int]\n",
    "        :rtype: int\n",
    "        \"\"\"\n",
    "        if not cost: return 0\n",
    "        \n",
    "        n = len(cost)\n",
    "        if n < 2: return cost[0]\n",
    "        \n",
    "        dp = [0] * n\n",
    "        dp[0] = cost[0]\n",
    "        dp[1] = cost[1]\n",
    "        for i in xrange(2, n):\n",
    "            dp[i] = min(dp[i-1], dp[i-2]) + cost[i]\n",
    "        return min(dp[n-1], dp[n-2])"
   ]
  },
  {
   "cell_type": "markdown",
   "metadata": {},
   "source": [
    "### [338.medium-Counting Bits](https://leetcode.com/problems/counting-bits/description/)\n",
    "##### 题意: 给定非负整数  $n$, 对于所有数值 $0\\leq i \\leq n$, 计算其中的 1's 数量, 然后返回到 array 中.\n",
    "* 举例: For num = 5 you should return [0,1,1,2,1,2].\n",
    "* <span class=\"burk\">Follow ups</span>:\n",
    "    * It is very easy to come up with a solution with run time **O(n*sizeof(integer))**. But can you do it in **linear time O(n)**/possibly in a **single pass**?\n",
    "    * **Space complexity should be O(n)**."
   ]
  },
  {
   "cell_type": "code",
   "execution_count": null,
   "metadata": {
    "collapsed": true
   },
   "outputs": [],
   "source": [
    "class Solution(object):\n",
    "    def countBits(self, n):\n",
    "        \"\"\"\n",
    "        :type n: int\n",
    "        :rtype: List[int]\n",
    "        \"\"\"\n",
    "        rst = [0] * (n + 1) # ❤️ n + 1 是因为 0 <= i <= n\n",
    "        for i in xrange(1, n + 1): # ❤️ 从 1 开始是因为下一行的 i - 1.\n",
    "            rst[i] = rst[i&(i-1)] + 1\n",
    "        return rst"
   ]
  },
  {
   "cell_type": "markdown",
   "metadata": {},
   "source": [
    "## [3/2: house robber]()"
   ]
  },
  {
   "cell_type": "markdown",
   "metadata": {},
   "source": [
    "### [115.easy-House Robber](https://leetcode.com/problems/house-robber/description/)\n",
    "##### 题意: 给定 list 模拟各house的钱, 小偷只能隔着偷 (不能偷相连的 house), 问小偷最多能偷多少钱?\n",
    "\n",
    "##### 总结:\n",
    "* 典型的 dynamic programming 问题, <span class=\"girk\">搞清楚四个要素</span>: 1) 状态, 2) 初始化, 3) 转移方程, 4) 结果.\n",
    "* House robber 问题在下述视频 https://www.youtube.com/watch?v=-i2BFAU25Zk&t=22s 中, 阐述的非常清楚."
   ]
  },
  {
   "cell_type": "code",
   "execution_count": 3,
   "metadata": {},
   "outputs": [
    {
     "name": "stdout",
     "output_type": "stream",
     "text": [
      "4\n"
     ]
    }
   ],
   "source": [
    "# \"Dynamic programming\" 最重要的是: 状态转移方程 + 初始化(边界条件)\n",
    "# ❤️❤️❤️❤️ 本题的状态转移方程式: ❤️❤️❤️❤️\n",
    "#      r[i]  = nr[i-1] + nums[i]\n",
    "#      nr[i] = max(r[i-1], nr[i-1]) # nr[i], 前一个时刻, 可偷也可不偷, 随意最佳策略是找最大值.\n",
    "\n",
    "class Solution(object):\n",
    "    def rob(self, nums):\n",
    "        \"\"\"\n",
    "        :type nums: List[int]\n",
    "        :rtype: int\n",
    "        \"\"\"\n",
    "        if not nums: return 0\n",
    "        \n",
    "        # r is rob, u is not rob, pre_r: the preious rob\n",
    "        pre_r = pre_u = 0\n",
    "        for x in nums:\n",
    "            r = pre_u + x\n",
    "            u = max(pre_u, pre_r)\n",
    "            \n",
    "            pre_r, pre_u = r, u\n",
    "            \n",
    "        return max(r, u)\n",
    "    \n",
    "print Solution().rob([1, 4, 2])"
   ]
  },
  {
   "cell_type": "code",
   "execution_count": 2,
   "metadata": {},
   "outputs": [
    {
     "name": "stdout",
     "output_type": "stream",
     "text": [
      "4\n"
     ]
    }
   ],
   "source": [
    "class Solution(object):\n",
    "    def rob(self, nums):\n",
    "        \"\"\"\n",
    "        :type nums: List[int]\n",
    "        :rtype: int\n",
    "        \"\"\"\n",
    "        if not nums: return 0\n",
    "        \n",
    "        # r is rob, u is not rob, r_prev: the previous rob\n",
    "        r = u = prev = 0\n",
    "        for x in nums: # ❤️❤️ 减少一个变量\n",
    "            prev = max(r, u)\n",
    "            r = u + x\n",
    "            u = prev\n",
    "            \n",
    "        return max(r, u)\n",
    "    \n",
    "print Solution().rob([1, 4, 2])"
   ]
  },
  {
   "cell_type": "markdown",
   "metadata": {},
   "source": [
    "### [213.med-House Robber II](https://leetcode.com/problems/house-robber-ii/description/)\n",
    "##### 题意: 假设给定 array <span class=\"girk\">首尾元素</span>是相邻的 (即是 circle 的), 小偷不能连续偷相邻的元素, 请问最多能偷多少?\n",
    "\n",
    "##### 分析: 多了一个 circle 的设定, 转移方程如何处理, 应该多了一些 constraints 吧?\n",
    "\n",
    "##### 教程: https://www.youtube.com/watch?v=-i2BFAU25Zk&t=22s"
   ]
  },
  {
   "cell_type": "code",
   "execution_count": null,
   "metadata": {
    "collapsed": true
   },
   "outputs": [],
   "source": [
    "# 基本的状态转移方程仍旧是 \n",
    "#      r[i] = nr[i-1] + nums[i]\n",
    "#     nr[i] = max(nr[i-1], r[i-1])\n",
    "# 核心内容:\n",
    "#     * 有两套上述转移公式, 然后最终融合对比.\n",
    "#     * 只有一栋的时候, \n",
    "class Solution(object):\n",
    "    def rob(self, nums):\n",
    "        \"\"\"\n",
    "        :type nums: List[int]\n",
    "        :rtype: int\n",
    "        \"\"\"\n",
    "        if not nums: return 0\n",
    "        if len(nums) == 1: return nums[0] # ❎❎ 只有一栋房子, 则返回它里面的值.\n",
    "        \n",
    "        no_1_rob = [0, 0] # ❤️ 不从第一栋开始. 0 表示不偷当前, 1 表示偷当前\n",
    "        rob = [0, nums[0]] # ❤️ 从第一栋开始. 0 表示不偷当前, 1 表示偷当前\n",
    "        \n",
    "        for i in xrange(1, len(nums)):\n",
    "            prev = max(no_1_rob)\n",
    "            no_1_rob[1] = no_1_rob[0] + nums[i]\n",
    "            no_1_rob[0] = prev\n",
    "            \n",
    "            prev = max(rob)\n",
    "            rob[1] = rob[0] + nums[i]\n",
    "            rob[0] = prev\n",
    "            \n",
    "        return max(rob[0], max(no_1_rob))"
   ]
  },
  {
   "cell_type": "markdown",
   "metadata": {},
   "source": [
    "### [337.med-House Robber III](https://leetcode.com/problems/house-robber-iii/description/)\n",
    "##### 题意: 假设给定 binary tree 结构的 house 排列, 小偷仍旧不能偷相邻的房子, 请问最多能偷多少?\n",
    "\n",
    "##### 分析: \n",
    "* 规则依旧, 数据结构变了.\n",
    "\n",
    "##### 教程: https://www.youtube.com/watch?v=-i2BFAU25Zk&t=22s"
   ]
  },
  {
   "cell_type": "code",
   "execution_count": null,
   "metadata": {
    "collapsed": true
   },
   "outputs": [],
   "source": [
    "# 状态转移方程: 对于节点 root\n",
    "#     nrob = max(left) + max(right)\n",
    "#     rob  = left[0] + right[0] + root.val\n",
    "\n",
    "# ❤️ 总结: tree 的题多用递归, 站在一个 node 的角度, 考虑左子树和右子树的返回, 融合到当前节点的问题.\n",
    "class Solution(object):\n",
    "    def rob(self, root):\n",
    "        \"\"\"\n",
    "        :type root: TreeNode\n",
    "        :rtype: int\n",
    "        \"\"\"\n",
    "        if not root: return 0\n",
    "        \n",
    "        rst = self.helper(root)\n",
    "        return max(rst)\n",
    "        \n",
    "    def helper(self, root):\n",
    "        if not root: return (0, 0)\n",
    "        \n",
    "        left = self.helper(root.left)\n",
    "        right = self.helper(root.right)\n",
    "        \n",
    "        nrob = max(left) + max(right) # ❤️❤️ \n",
    "        rob = left[0] + right[0] + root.val # ❤️❤️\n",
    "        return (nrob, rob)"
   ]
  },
  {
   "cell_type": "markdown",
   "metadata": {},
   "source": [
    "## [3/3: Dynamic programming]()"
   ]
  },
  {
   "cell_type": "markdown",
   "metadata": {},
   "source": [
    "### [303.easy-Range Sum Query - Immutable](https://leetcode.com/problems/range-sum-query-immutable/description/)\n",
    "##### 题意: 给定包含整数的 array, 找到介于 $i$ 到  $j$ 元素之和 ($i$ 和 $j$ 是包含的).\n",
    "* Note:\n",
    "    * You may assume that the array does not change.\n",
    "    * There are <span class=\"girk\">many calls to sumRange function</span>.\n",
    "    \n",
    "##### 分析: 把累加和算好, 然后直接把对应位置的累加和 相减 就可以得到结果."
   ]
  },
  {
   "cell_type": "code",
   "execution_count": null,
   "metadata": {
    "collapsed": true
   },
   "outputs": [],
   "source": [
    "\"\"\" Example:\n",
    "Given nums = [-2, 0, 3, -5, 2, -1]\n",
    "\n",
    "sumRange(0, 2) -> 1\n",
    "sumRange(2, 5) -> -1\n",
    "sumRange(0, 5) -> -3\n",
    "\"\"\""
   ]
  },
  {
   "cell_type": "code",
   "execution_count": null,
   "metadata": {
    "collapsed": true
   },
   "outputs": [],
   "source": [
    "# ❤️❤️ 因为需要 call the sumRange many times, 所以计算并存储好 cumSum 非常重要. ❤️❤️ \n",
    "class NumArray(object):\n",
    "    def __init__(self, nums):\n",
    "        \"\"\"\n",
    "        :type nums: List[int]\n",
    "        \"\"\"\n",
    "        n = len(nums) \n",
    "        cumSum = [0] * (n + 1) # ❤️❤️ 因为 i 和 j 都是 sum 的范围.\n",
    "        for i in xrange(1, n+1):\n",
    "            cumSum[i] = nums[i-1] + cumSum[i-1]\n",
    "        self.cumSum = cumSum\n",
    "        \n",
    "        \n",
    "    def sumRange(self, i, j):\n",
    "        \"\"\"\n",
    "        :type i: int\n",
    "        :type j: int\n",
    "        :rtype: int\n",
    "        \"\"\"\n",
    "        if i > j or j > len(self.cumSum)-2: # 和下题的 j+1 是相关的.\n",
    "            return -1 # invalid inputs\n",
    "        \n",
    "        return self.cumSum[j+1] - self.cumSum[i] # ❤️ 因为 i 和 j 都是 sum 的范围.\n",
    "               \n",
    "\n",
    "# Your NumArray object will be instantiated and called as such:\n",
    "# obj = NumArray(nums)\n",
    "# param_1 = obj.sumRange(i,j)"
   ]
  },
  {
   "cell_type": "markdown",
   "metadata": {},
   "source": [
    "### [120.med-Triangle](https://leetcode.com/problems/triangle/description/)\n",
    "##### 题意: Given a triangle, find the minimum path sum from top to bottom. Each step you may move to adjacent numbers on the row below.\n",
    "##### 如果只用 $O(n)$ space, 则有奖励. \n",
    "##### 参考: https://www.youtube.com/watch?v=x1CmmsD7H3E"
   ]
  },
  {
   "cell_type": "code",
   "execution_count": null,
   "metadata": {
    "collapsed": true
   },
   "outputs": [],
   "source": [
    "\"\"\"\n",
    "For example, given the following triangle\n",
    "[\n",
    "     [2],\n",
    "    [3,4],\n",
    "   [6,5,7],\n",
    "  [4,1,8,3]\n",
    "]\n",
    "The minimum path sum from top to bottom is 11 (i.e., 2 + 3 + 5 + 1 = 11).\n",
    "\"\"\""
   ]
  },
  {
   "cell_type": "code",
   "execution_count": null,
   "metadata": {
    "collapsed": true
   },
   "outputs": [],
   "source": [
    "# IDEA: bottom-up, time: O(n^2), space: O(n)\n",
    "# 状态转移方程: dp[i][j] = min(dp[i+1][j], dp[i+1][j+1]) + triangle[i][j]\n",
    "class Solution(object):\n",
    "    def minimumTotal(self, triangle):\n",
    "        \"\"\"\n",
    "        :type triangle: List[List[int]]\n",
    "        :rtype: int\n",
    "        \"\"\"\n",
    "        if not triangle: return 0\n",
    "        \n",
    "        n = len(triangle)\n",
    "        rst = [0] * (n+1)\n",
    "        \n",
    "        for i in xrange(n-1, -1, -1):\n",
    "            for j in xrange(i+1):\n",
    "                rst[j] = min(rst[j], rst[j+1]) + triangle[i][j]\n",
    "        return rst[0]"
   ]
  },
  {
   "cell_type": "markdown",
   "metadata": {},
   "source": [
    "### [❤️516.med-Longest Palindromic Subsequence](https://leetcode.com/problems/longest-palindromic-subsequence/description/)\n",
    "##### 题意: Given a string s, find the longest palindromic subsequence's length in s. \n",
    "* You may assume that the maximum length of s is 1000.\n",
    "* 例子#1: Input: \"bbbab\". Output: 4.\n",
    "* 例子#2: Input: \"cbbd\". Output: 2.\n",
    "\n",
    "##### 分析: \n",
    "* 这里是 subsequence, 说明要保持相对顺序, 但不一定 continues.\n",
    "* max length is 1000, 说明可以使用递归, python 的最大递归深度正好是 1000."
   ]
  },
  {
   "cell_type": "code",
   "execution_count": null,
   "metadata": {
    "collapsed": true
   },
   "outputs": [],
   "source": [
    "# DP: time & space O(n^2)\n",
    "class Solution(object):\n",
    "    def longestPalindromeSubseq(self, s):\n",
    "        \"\"\"\n",
    "        :type s: str\n",
    "        :rtype: int\n",
    "        \"\"\"\n",
    "        if not s: return 0\n",
    "        \n",
    "        n = len(s)\n",
    "        dp = [[0]*n for i in xrange(n)]\n",
    "        for i in xrange(n-1, -1, -1):\n",
    "            dp[i][i] = 1\n",
    "            for j in xrange(i+1, n): # ❤️❤️ 因为 j 必然大于等于 i.\n",
    "                if s[i] == s[j]:\n",
    "                    dp[i][j] = 2 + dp[i+1][j-1]\n",
    "                else:\n",
    "                    dp[i][j] = max(dp[i+1][j], dp[i][j-1])\n",
    "                    \n",
    "        return dp[0][n-1]"
   ]
  },
  {
   "cell_type": "markdown",
   "metadata": {},
   "source": [
    "### [❤️❤️❤️300. Longest Increasing Subsequence](https://leetcode.com/problems/longest-increasing-subsequence/description/)\n",
    "##### 题意: Given an unsorted array of integers, find the length of longest increasing subsequence.\n",
    "##### 教程: Edward Shi: https://www.youtube.com/watch?v=bmzn9PO4I10"
   ]
  },
  {
   "cell_type": "code",
   "execution_count": null,
   "metadata": {
    "collapsed": true
   },
   "outputs": [],
   "source": [
    "\"\"\"\n",
    "For example,\n",
    "Given [10, 9, 2, 5, 3, 7, 101, 18],\n",
    "The longest increasing subsequence is [2, 3, 7, 101], therefore the length is 4.\n",
    "Note that there may be more than one LIS combination, it is only necessary for you to return the length.\n",
    "\"\"\""
   ]
  },
  {
   "cell_type": "code",
   "execution_count": null,
   "metadata": {
    "collapsed": true
   },
   "outputs": [],
   "source": [
    "# ❤️IDEA❤️: 在 rst 中搜索, binary search 找到插入现行数字的位置 (大了就直接加, 小了则替代). \n",
    "# 如果 l 和 cnt 相等, 则 cnt += 1\n",
    "# Time: O(nlogn),   Space: O(n)\n",
    "class Solution(object):\n",
    "    def lengthOfLIS(self, nums):\n",
    "        \"\"\"\n",
    "        :type nums: List[int]\n",
    "        :rtype: int\n",
    "        \"\"\"\n",
    "        if not nums: return 0\n",
    "        \n",
    "        cnt = 0\n",
    "        n = len(nums)\n",
    "        dp = [0] * n\n",
    "        for x in nums:\n",
    "            l, r = 0, cnt\n",
    "            while l != r: # ❤️❤️ 因为 dp ascending lists, 排好了序, 所以可以 binary search.\n",
    "                m = l + ((r-l)>>1)\n",
    "                if dp[m] >= x: # ❤️❤️ 找到 >= 的最小值. ❤️❤️❤️ 如果这里是 >=, 可可考虑相邻元素是相等的, 而不是严格递增的\n",
    "                    r = m\n",
    "                else:\n",
    "                    l = m + 1\n",
    "            dp[l] = x # ❤️❤️ \n",
    "            if l == cnt: cnt += 1 # ❤️❤️\n",
    "        return cnt"
   ]
  },
  {
   "cell_type": "markdown",
   "metadata": {},
   "source": [
    "### [❓673.med-Number of Longest Increasing Subsequence 搞不定, 不搞了](https://leetcode.com/problems/number-of-longest-increasing-subsequence/description/)\n",
    "##### 题意: Given an unsorted array of integers, find the number of longest increasing subsequence."
   ]
  },
  {
   "cell_type": "code",
   "execution_count": null,
   "metadata": {
    "collapsed": true
   },
   "outputs": [],
   "source": [
    "\"\"\"\n",
    "Example 1:\n",
    "Input: [1,3,5,4,7]\n",
    "Output: 2\n",
    "Explanation: The two longest increasing subsequence are [1, 3, 4, 7] and [1, 3, 5, 7].\n",
    "\n",
    "Example 2:\n",
    "Input: [2,2,2,2,2]\n",
    "Output: 5\n",
    "Explanation: The length of longest continuous increasing subsequence is 1, and there are 5 subsequences' \n",
    "length is 1, so output 5.\n",
    "\n",
    "Note: Length of the given array will be not exceed 2000 and the answer is guaranteed to be fit \n",
    "in 32-bit signed int.\n",
    "\"\"\""
   ]
  },
  {
   "cell_type": "code",
   "execution_count": null,
   "metadata": {
    "collapsed": true
   },
   "outputs": [],
   "source": [
    "# Time: O(nlogn), Space: O(n)\n",
    "class Solution(object):\n",
    "    def findNumberOfLIS(self, nums):\n",
    "        \"\"\"\n",
    "        :type nums: List[int]\n",
    "        :rtype: int\n",
    "        \"\"\"\n",
    "        n = len(nums)\n",
    "        rst = 0\n",
    "        max_len = 0\n",
    "        \n",
    "        CNT = [0] * n\n",
    "        LEN = [0] * n\n",
    "        for i in xrange(n):\n",
    "            CNT[i] = LEN[i] = 1\n",
    "            for j in xrange(i):\n",
    "                if nums[i] > nums[j]:\n",
    "                    if LEN[i] == LEN[j]+1: \n",
    "                        CNT[i] += CNT[j]\n",
    "                    if LEN[i] < LEN[j] + 1:\n",
    "                        LEN[i] = LEN[j] + 1\n",
    "                        CNT[i] = CNT[j]\n",
    "                        \n",
    "        if max_len == LEN[i]: rst += CNT[i]\n",
    "        if max_len < LEN[]"
   ]
  },
  {
   "cell_type": "markdown",
   "metadata": {},
   "source": [
    "### [674.easy-Longest Continuous Increasing Subsequence](https://leetcode.com/problems/longest-continuous-increasing-subsequence/description/)\n",
    "##### 题意: Given an unsorted array of integers, find the length of <span class=\"burk\">longest continuous increasing</span> subsequence (subarray)."
   ]
  },
  {
   "cell_type": "code",
   "execution_count": null,
   "metadata": {
    "collapsed": true
   },
   "outputs": [],
   "source": [
    "\"\"\"\n",
    "Example 1:\n",
    "Input: [1,3,5,4,7]\n",
    "Output: 3\n",
    "Explanation: The longest continuous increasing subsequence is [1,3,5], its length is 3. \n",
    "Even though [1,3,5,7] is also an increasing subsequence, it's not a continuous one where 5 and 7 are separated by 4. \n",
    "\n",
    "Example 2:\n",
    "Input: [2,2,2,2,2]\n",
    "Output: 1\n",
    "Explanation: The longest continuous increasing subsequence is [2], its length is 1. \n",
    "\"\"\""
   ]
  },
  {
   "cell_type": "code",
   "execution_count": null,
   "metadata": {
    "collapsed": true
   },
   "outputs": [],
   "source": [
    "# time: O(n), space: O(1)\n",
    "class Solution(object):\n",
    "    def findLengthOfLCIS(self, nums):\n",
    "        \"\"\"\n",
    "        :type nums: List[int]\n",
    "        :rtype: int\n",
    "        \"\"\"\n",
    "        if not nums: return 0\n",
    "        \n",
    "        q = maxLen = 1\n",
    "        for i in xrange(1, len(nums)):\n",
    "            if nums[i] > nums[i-1]:\n",
    "                q = q + 1\n",
    "                maxLen = max(maxLen, q)\n",
    "            else:\n",
    "                q = 1\n",
    "        return maxLen"
   ]
  },
  {
   "cell_type": "code",
   "execution_count": null,
   "metadata": {
    "collapsed": true
   },
   "outputs": [],
   "source": [
    "# time & space: O(n)\n",
    "class Solution(object):\n",
    "    def findLengthOfLCIS(self, nums):\n",
    "        \"\"\"\n",
    "        :type nums: List[int]\n",
    "        :rtype: int\n",
    "        \"\"\"\n",
    "        if not nums: return 0\n",
    "        \n",
    "        n = len(nums)\n",
    "        dp = [1] * n\n",
    "        for i in xrange(1, n):\n",
    "            if nums[i] > nums[i-1]:\n",
    "                dp[i] = dp[i-1] + 1\n",
    "            else:\n",
    "                dp[i] = 1\n",
    "        return max(dp)"
   ]
  },
  {
   "cell_type": "markdown",
   "metadata": {},
   "source": [
    "### [279.med Perfect Squares](https://leetcode.com/problems/perfect-squares/description/)\n",
    "##### 题意: Given a positive integer n, find the least number of perfect square numbers (for example, 1, 4, 9, 16, ...) which sum to n.\n",
    "##### For example, given n = 12, return 3 because 12 = 4 + 4 + 4; given n = 13, return 2 because 13 = 4 + 9.\n",
    "##### 教程: https://www.youtube.com/watch?v=NFFM1G6xEfU"
   ]
  },
  {
   "cell_type": "code",
   "execution_count": null,
   "metadata": {
    "collapsed": true
   },
   "outputs": [],
   "source": [
    "# ❤️IDEA❤️: O(n*sqrt(n)), 有点类似一道做过的题目. DP, BFS.\n",
    "class Solution(object):\n",
    "    def numSquares(self, n):\n",
    "        \"\"\"\n",
    "        :type n: int\n",
    "        :rtype: int\n",
    "        \"\"\"\n",
    "        # 1 define the dp storage \n",
    "        MAX_INT = 1<<32\n",
    "        rst = [MAX_INT] * (n + 1)\n",
    "        rst[0] = 0\n",
    "        \n",
    "        # 2 BFS or dynamic programming to solve the problem\n",
    "        for i in xrange(n + 1):\n",
    "            j = 1\n",
    "            while j*j <= i:\n",
    "                rst[i] = min(rst[i], rst[i-j*j] + 1)\n",
    "                j += 1\n",
    "        return rst[n]"
   ]
  },
  {
   "cell_type": "markdown",
   "metadata": {},
   "source": [
    "### [322.med-Coin Change](https://leetcode.com/problems/coin-change/description/)\n",
    "##### 题意: 给定一堆硬币, 和需要找零的钱数, 问怎么找零所需硬币最少? 如果不能满足条件, 返回 -1."
   ]
  },
  {
   "cell_type": "code",
   "execution_count": null,
   "metadata": {
    "collapsed": true
   },
   "outputs": [],
   "source": [
    "\"\"\"Example 1:\n",
    "coins = [1, 2, 5], amount = 11\n",
    "return 3 (11 = 5 + 5 + 1)\n",
    "\n",
    "Example 2:\n",
    "coins = [2], amount = 3\n",
    "return -1.\n",
    "\"\"\""
   ]
  },
  {
   "cell_type": "code",
   "execution_count": null,
   "metadata": {
    "collapsed": true
   },
   "outputs": [],
   "source": [
    "# dp[i] = min(dp[i], dp[i-x]+1)\n",
    "class Solution(object):\n",
    "    def coinChange(self, coins, amount):\n",
    "        \"\"\"\n",
    "        :type coins: List[int]\n",
    "        :type amount: int\n",
    "        :rtype: int\n",
    "        \"\"\"\n",
    "        if not coins: return -1\n",
    "        \n",
    "        coins.sort() # ❤️❤️ 一定要 sorting, 能够剪掉很多枝.\n",
    "        MAX_INT = (1<<32)\n",
    "        dp = [MAX_INT] * (amount + 1)\n",
    "        dp[0] = 0\n",
    "        for i in xrange(1, amount+1):\n",
    "            for x in coins:\n",
    "                if i-x < 0: break\n",
    "                dp[i] = min(dp[i], dp[i-x] + 1)\n",
    "                \n",
    "        return -1 if dp[amount] == MAX_INT else dp[amount]"
   ]
  },
  {
   "cell_type": "markdown",
   "metadata": {},
   "source": [
    "### [518.med-Coin Change 2](https://leetcode.com/problems/coin-change-2/description/)\n",
    "##### 题意: 给定一定的钱数, 以及一堆硬币, 问有多少种换硬币的方法.\n",
    "\n",
    "##### 计算数量的问题, dynamic programming. "
   ]
  },
  {
   "cell_type": "code",
   "execution_count": null,
   "metadata": {
    "collapsed": true
   },
   "outputs": [],
   "source": [
    "\"\"\" Example 1:\n",
    "Input: amount = 5, coins = [1, 2, 5]\n",
    "Output: 4\n",
    "Explanation: there are four ways to make up the amount:\n",
    "5=5\n",
    "5=2+2+1\n",
    "5=2+1+1+1\n",
    "5=1+1+1+1+1\n",
    "\n",
    "Example 2:\n",
    "Input: amount = 3, coins = [2]\n",
    "Output: 0\n",
    "Explanation: the amount of 3 cannot be made up just with coins of 2.\n",
    "\n",
    "Example 3:\n",
    "Input: amount = 10, coins = [10] \n",
    "Output: 1\n",
    "\"\"\""
   ]
  },
  {
   "cell_type": "code",
   "execution_count": null,
   "metadata": {
    "collapsed": true
   },
   "outputs": [],
   "source": []
  },
  {
   "cell_type": "markdown",
   "metadata": {},
   "source": [
    "### [62.med-Unique Paths](https://leetcode.com/problems/unique-paths/description/)\n",
    "##### 题意: 给定 $m\\times n$ board, 机器人在左上角, 问有多少种 unique path 能够走到右下角?\n",
    "* Note: m and n will be at most 100.\n",
    "\n",
    "##### 类似题目:  [119.easy-Pascal's Triangle II](https://leetcode.com/problems/pascals-triangle-ii/description/)\n",
    "\n",
    "##### 教程: https://www.youtube.com/watch?v=mWV1b9IbosY&t=525s\n",
    "![](https://leetcode.com/static/images/problemset/robot_maze.png)\n",
    "\n",
    "##### <span class=\"burk\">总结: 关于计数的问题, 往往 dynamic programming 问题.</span>"
   ]
  },
  {
   "cell_type": "code",
   "execution_count": null,
   "metadata": {
    "collapsed": true
   },
   "outputs": [],
   "source": [
    "# State Transition Equation:\n",
    "#     dp[r][c] = dp[r-1][c] + dp[r][c-1]"
   ]
  },
  {
   "cell_type": "code",
   "execution_count": null,
   "metadata": {
    "collapsed": true
   },
   "outputs": [],
   "source": [
    "# 方法2: dynamic programming. 优点: 快; 缺点: corner case 复杂.\n",
    "class Solution(object):\n",
    "    def uniquePaths(self, m, n): # ❤️ time O(m*n), space O(min(m, n))\n",
    "        \"\"\"\n",
    "        :type m: int\n",
    "        :type n: int\n",
    "        :rtype: int\n",
    "        \"\"\"\n",
    "        if n > m: return self.uniquePaths(n, m)\n",
    "    \n",
    "        dp = [0] * n\n",
    "        dp[0] = 1    \n",
    "        for i in xrange(m):\n",
    "            for j in xrange(1, n):\n",
    "                dp[j] = dp[j] + dp[j-1]\n",
    "        return dp[n-1]\n",
    "            \n",
    "    def uniquePaths2(self, m, n): # ❤️ time O(m*n), space O(min(m, n))\n",
    "        if m > n:\n",
    "            return self.uniquePaths2(n, m)\n",
    "        \n",
    "        cur = [1] * m # ❤️❤️ current column\n",
    "        pre = [1] * m # ❤️❤️ previous column\n",
    "        for j in xrange(1, n):\n",
    "            for i in xrange(1, m):\n",
    "                cur[i] = cur[i-1] + pre[i]\n",
    "            \n",
    "            cur, pre = pre, cur\n",
    "        return pre[m-1]\n",
    "            \n",
    "    def uniquePaths3 (self, m, n): # ❤️ time O(m*n), space O(m*n)\n",
    "        \"\"\"\n",
    "        :type m: int\n",
    "        :type n: int\n",
    "        :rtype: int\n",
    "        \"\"\"\n",
    "        if m < 0 or n < 0: return 0\n",
    "        if m == 1 and n == 1: return 1\n",
    "        \n",
    "        dp = [[1]*n for i in xrange(m)] # 第一行和第一列, path 的可能都是 1.\n",
    "        for i in xrange(1, m):\n",
    "            for j in xrange(1, n):\n",
    "                    dp[i][j] = dp[i-1][j] + dp[i][j-1]\n",
    "        return dp[m-1][n-1]"
   ]
  },
  {
   "cell_type": "code",
   "execution_count": null,
   "metadata": {
    "collapsed": true
   },
   "outputs": [],
   "source": [
    "# 方法1: recursion + memorization. 优点: 代码容易理解; 缺点: 慢. \n",
    "class Solution(object):\n",
    "    def uniquePaths(self, m, n):\n",
    "        \"\"\"\n",
    "        :type m: int\n",
    "        :type n: int\n",
    "        :rtype: int\n",
    "        \"\"\"\n",
    "        if m < 0 or n < 0: return 0\n",
    "        if m == 1 and n == 1: return 1\n",
    "        \n",
    "        dp = [[0]*(n+1) for i in xrange(m+1)]\n",
    "        return self.uniquePaths_recursive(dp, m, n)\n",
    "        \n",
    "    def uniquePaths_recursive(self, dp, m, n):\n",
    "        if m<0 or n<0: return 0\n",
    "        if m==1 and n==1: return 1\n",
    "        if dp[m][n] > 0: return dp[m][n]\n",
    "        \n",
    "        left = self.uniquePaths_recursive(dp, m, n-1)\n",
    "        top = self.uniquePaths_recursive(dp, m-1, n)\n",
    "        dp[m][n] = cnt = left + top\n",
    "        return cnt"
   ]
  },
  {
   "cell_type": "markdown",
   "metadata": {},
   "source": [
    "### [63.med-Unique Paths II](https://leetcode.com/problems/unique-paths-ii/description/)\n",
    "##### 题意: Follow up for \"Unique Paths\". 给定 grid, 1 表示障碍, 0 表示可以走的路径. 从左上角出发, 问总共有多少种路径到右下角?"
   ]
  },
  {
   "cell_type": "code",
   "execution_count": null,
   "metadata": {
    "collapsed": true
   },
   "outputs": [],
   "source": [
    "\"\"\" For example,\n",
    "There is one obstacle in the middle of a 3x3 grid as illustrated below.\n",
    "\n",
    "[\n",
    "  [0,0,0],\n",
    "  [0,1,0],\n",
    "  [0,0,0]\n",
    "]\n",
    "The total number of unique paths is 2.\n",
    "\n",
    "Note: m and n will be at most 100.\n",
    "\"\"\""
   ]
  },
  {
   "cell_type": "code",
   "execution_count": null,
   "metadata": {
    "collapsed": true
   },
   "outputs": [],
   "source": [
    "# State Transition Equation:\n",
    "#     dp[r][c] = dp[r-1][c] + dp[r][c-1]"
   ]
  },
  {
   "cell_type": "code",
   "execution_count": null,
   "metadata": {
    "collapsed": true
   },
   "outputs": [],
   "source": [
    "class Solution(object):\n",
    "    def uniquePathsWithObstacles(self, grid):\n",
    "        \"\"\"\n",
    "        :type grid: List[List[int]]\n",
    "        :rtype: int\n",
    "        \"\"\"\n",
    "        m, n = len(grid), len(grid[0])\n",
    "        rst = [0] * n\n",
    "        rst[0] = 1 # ❤️❤️❤️\n",
    "        for i in xrange(m):\n",
    "            for j in xrange(n):\n",
    "                if grid[i][j] == 1: # ❤️❤️❤️ \n",
    "                    rst[j] = 0\n",
    "                elif j > 0:\n",
    "                    rst[j] += rst[j-1]\n",
    "        return rst[n-1]"
   ]
  },
  {
   "cell_type": "code",
   "execution_count": null,
   "metadata": {
    "collapsed": true
   },
   "outputs": [],
   "source": [
    "class Solution(object):\n",
    "    def uniquePathsWithObstacles(self, grid):\n",
    "        \"\"\"\n",
    "        :type grid: List[List[int]]\n",
    "        :rtype: int\n",
    "        \"\"\"\n",
    "        m, n = len(grid), len(grid[0])\n",
    "        dp = [[0]*n for i in xrange(m)]\n",
    "        dp[0][0] = 1\n",
    "        for i in xrange(m):\n",
    "            for j in xrange(n):\n",
    "                if grid[i][j] == 1:\n",
    "                    dp[i][j] = 0\n",
    "                elif i > 0 and j > 0:\n",
    "                    dp[i][j] = dp[i-1][j] + dp[i][j-1]\n",
    "                elif i > 0:\n",
    "                    dp[i][j] = dp[i-1][j]\n",
    "                elif j > 0:\n",
    "                    dp[i][j] = dp[i][j-1]\n",
    "        return dp[m-1][n-1]"
   ]
  },
  {
   "cell_type": "markdown",
   "metadata": {},
   "source": [
    "### [64.med-Minimum Path Sum](https://leetcode.com/problems/minimum-path-sum/description/)\n",
    "##### 题意: Given a m x n grid filled with non-negative numbers, find a path from top left to bottom right which minimizes the sum of all numbers along its path.\n",
    "* Note: You can only <span class=\"burk\">move either down or right</span> at any point in time."
   ]
  },
  {
   "cell_type": "code",
   "execution_count": null,
   "metadata": {
    "collapsed": true
   },
   "outputs": [],
   "source": [
    "\"\"\" Example 1:\n",
    "[[1,3,1],\n",
    " [1,5,1],\n",
    " [4,2,1]]\n",
    "Given the above grid map, return 7. Because the path 1→3→1→1→1 minimizes the sum.\n",
    "\"\"\""
   ]
  },
  {
   "cell_type": "code",
   "execution_count": null,
   "metadata": {
    "collapsed": true
   },
   "outputs": [],
   "source": [
    "# In-place \"DP\" \n",
    "class Solution(object):\n",
    "    def minPathSum(self, grid):\n",
    "        \"\"\"\n",
    "        :type grid: List[List[int]]\n",
    "        :rtype: int\n",
    "        \"\"\"\n",
    "        if not grid or (len(grid)==1 and not grid[0]): \n",
    "            return 0\n",
    "        \n",
    "        nr, nc = len(grid), len(grid[0])\n",
    "        for r in xrange(nr):\n",
    "            for c in xrange(nc):\n",
    "                if r==0 and c!=0:\n",
    "                    grid[r][c] += grid[r][c-1]\n",
    "                elif r!=0 and c==0:\n",
    "                    grid[r][c] += grid[r-1][c]\n",
    "                elif r!=0 and c!=0:\n",
    "                    grid[r][c] += min(grid[r-1][c], grid[r][c-1])\n",
    "        return grid[nr-1][nc-1]"
   ]
  },
  {
   "cell_type": "markdown",
   "metadata": {},
   "source": [
    "### [221.med-Maximal Square](https://leetcode.com/problems/maximal-square/description/)\n",
    "##### 题意: 给定 2D binary matrix, 输出最大的由 \"1\" 组成的正方形面积."
   ]
  },
  {
   "cell_type": "code",
   "execution_count": null,
   "metadata": {
    "collapsed": true
   },
   "outputs": [],
   "source": [
    "\"\"\"\n",
    "For example, given the following matrix:\n",
    "\n",
    "1 0 1 0 0\n",
    "1 0 1 1 1\n",
    "1 1 1 1 1\n",
    "1 0 0 1 0\n",
    "Return 4.\n",
    "\"\"\""
   ]
  },
  {
   "cell_type": "code",
   "execution_count": null,
   "metadata": {
    "collapsed": true
   },
   "outputs": [],
   "source": [
    "class Solution(object):\n",
    "    def maximalSquare(self, mat):\n",
    "        \"\"\"\n",
    "        :type mat: List[List[str]]\n",
    "        :rtype: int\n",
    "        \"\"\"\n",
    "        if not mat or (len(mat)==1 and not mat[0]): return 0\n",
    "        \n",
    "        nr, nc = len(mat)+1, len(mat[0])+1\n",
    "        dq = [[0]*nc for i in xrange(nr)]\n",
    "        \n",
    "        rst = 0\n",
    "        for r in xrange(1, nr):\n",
    "            for c in xrange(1, nc):\n",
    "                if mat[r-1][c-1] == \"1\":\n",
    "                    dq[r][c] = 1 + min(min(dq[r-1][c], dq[r][c-1]), dq[r-1][c-1])\n",
    "                    \n",
    "                    rst = max(dq[r][c], rst)\n",
    "        return rst * rst"
   ]
  },
  {
   "cell_type": "markdown",
   "metadata": {},
   "source": [
    "### [85.hard-Maximal Rectangle](https://leetcode.com/problems/maximal-rectangle/description/)\n",
    "##### 题意: Given a 2D binary matrix filled with 0's and 1's, find the largest rectangle containing only 1's and return its area."
   ]
  },
  {
   "cell_type": "code",
   "execution_count": null,
   "metadata": {
    "collapsed": true
   },
   "outputs": [],
   "source": [
    "\"\"\"\n",
    "For example, given the following matrix:\n",
    "1 0 1 0 0\n",
    "1 0 1 1 1\n",
    "1 1 1 1 1\n",
    "1 0 0 1 0\n",
    "\n",
    "Return 6.\n",
    "\"\"\""
   ]
  },
  {
   "cell_type": "code",
   "execution_count": null,
   "metadata": {
    "collapsed": true
   },
   "outputs": [],
   "source": [
    "# Time: O(R*C^2), space: O(C)\n",
    "class Solution(object):\n",
    "    def maximalRectangle(self, mat):\n",
    "        \"\"\"\n",
    "        :type mat: List[List[str]]\n",
    "        :rtype: int\n",
    "        \"\"\"\n",
    "        # 1 edge condition \n",
    "        if not mat or (len(mat) == 1 and not mat[0]): return 0\n",
    "        \n",
    "        # 2 construct the histogram for each row and calculate the largest rectangle area.\n",
    "        nr, nc = len(mat), len(mat[0])\n",
    "        hist = [0] * nc\n",
    "        rst = 0\n",
    "        for r in xrange(nr):\n",
    "            for c in xrange(nc):\n",
    "                hist[c] = 0 if mat[r][c] == \"0\" else hist[c] + 1 # ❎ 错在没有 int()\n",
    "            area = self.largestRectangleArea(hist)\n",
    "            rst = max(rst, area)\n",
    "        return rst\n",
    "            \n",
    "    def largestRectangleArea(self, hist): # 84 题的解\n",
    "        if not hist: return 0\n",
    "        \n",
    "        hist.append(0)\n",
    "        stack, rst = [], 0\n",
    "        for i, x in enumerate(hist):\n",
    "            while stack and x < hist[stack[-1]]:\n",
    "                h = hist[stack.pop()]\n",
    "                w = i if not stack else i-stack[-1]-1\n",
    "                rst = max(rst, w*h)\n",
    "            stack.append(i)\n",
    "        hist.pop() # ❤️ hist 是多行共用的, 开头有append, 结尾就必须有pop, 类似于 backtracking\n",
    "        return rst                                     \n",
    "    \n",
    "######### Testing #######\n",
    "tmp = [[1,0,1,0,0],[1,0,1,1,1],[1,1,1,1,1],[1,0,0,1,0]]\n",
    "print Solution().maximalRectangle(tmp)"
   ]
  },
  {
   "cell_type": "markdown",
   "metadata": {},
   "source": [
    "### [547.med-Friend Circles](https://leetcode.com/problems/friend-circles/description/)\n",
    "##### 题意: N个学生组成朋友圈, 假定朋友的朋友属于朋友, 寻找有多少个朋友圈."
   ]
  },
  {
   "cell_type": "code",
   "execution_count": null,
   "metadata": {
    "collapsed": true
   },
   "outputs": [],
   "source": [
    "\"\"\"\n",
    "Example 1: -------------------------\n",
    "Input: \n",
    "[[1,1,0],\n",
    " [1,1,0],\n",
    " [0,0,1]]\n",
    "Output: 2\n",
    "Explanation:The 0th and 1st students are direct friends, so they are in a friend circle. \n",
    "The 2nd student himself is in a friend circle. So return 2.\n",
    "\n",
    "Example 2: -------------------------\n",
    "Input: \n",
    "[[1,1,0],\n",
    " [1,1,1],\n",
    " [0,1,1]]\n",
    "Output: 1\n",
    "Explanation:The 0th and 1st students are direct friends, the 1st and 2nd students are direct friends, \n",
    "so the 0th and 2nd students are indirect friends. All of them are in the same friend circle, so return 1.\n",
    "\"\"\""
   ]
  },
  {
   "cell_type": "code",
   "execution_count": null,
   "metadata": {
    "collapsed": true
   },
   "outputs": [],
   "source": [
    "class Solution(object):\n",
    "    def findCircleNum(self, M):\n",
    "        \"\"\"\n",
    "        :type M: List[List[int]]\n",
    "        :rtype: int\n",
    "        \"\"\"\n",
    "        if not M: return 0\n",
    "        \n",
    "        n = len(M)\n",
    "        cnt = 0\n",
    "        for i in xrange(n):\n",
    "            if M[i][i] == 0: continue # ❤️❤️ visited.\n",
    "            cnt += 1\n",
    "            self.helper(M, i, n)\n",
    "        return cnt\n",
    "    \n",
    "    def helper(self, M, cur, n):\n",
    "        if M[cur][cur]==0: return \n",
    "        \n",
    "        M[cur][cur] = 0\n",
    "        for i in xrange(n):\n",
    "            if M[cur][i]==1 and M[i][i]==1: # ❤️❤️ M[i][j]==1 表示没有访问过.\n",
    "                self.helper(M, i, n)     "
   ]
  },
  {
   "cell_type": "code",
   "execution_count": null,
   "metadata": {
    "collapsed": true
   },
   "outputs": [],
   "source": [
    "# IDEA: 其实可以通过 M[i][i] 节省 visited 的空间的.\n",
    "class Solution(object):\n",
    "    def findCircleNum(self, M):\n",
    "        \"\"\"\n",
    "        :type M: List[List[int]]\n",
    "        :rtype: int\n",
    "        \"\"\"\n",
    "        if not M: return 0\n",
    "        \n",
    "        n = len(M)\n",
    "        visited = [False] * n\n",
    "        rst = 0\n",
    "        for i in xrange(n):\n",
    "            if visited[i]: continue\n",
    "            rst += 1\n",
    "            self.dfs(visited, i, n, M)\n",
    "        return rst\n",
    "            \n",
    "    def dfs(self, visited, cur, n, M):\n",
    "        if visited[cur]: return \n",
    "        \n",
    "        visited[cur] = True\n",
    "        for i in xrange(n):\n",
    "            if M[cur][i]==1 and visited[i] is False: # 把为访问过的朋友都设为 visited.\n",
    "                self.dfs(visited, i, n, M)"
   ]
  },
  {
   "cell_type": "markdown",
   "metadata": {},
   "source": [
    "### [560.med-Subarray Sum Equals K](https://leetcode.com/problems/subarray-sum-equals-k/description/)\n",
    "##### 题意: Given an array of integers and an integer k, you need to find the total number of <span class=\"burk\">continuous subarrays</span> whose sum equals to k.\n",
    "##### Note that:\n",
    "* The length of the array is in range [1, 20,000].\n",
    "* The range of numbers in the array is [-1000, 1000] and the range of the integer k is [-1e7, 1e7]."
   ]
  },
  {
   "cell_type": "code",
   "execution_count": null,
   "metadata": {
    "collapsed": true
   },
   "outputs": [],
   "source": [
    "\"\"\" Example 1\n",
    "Input:nums = [1,1,1], k = 2\n",
    "Output: 2\n",
    "\"\"\""
   ]
  },
  {
   "cell_type": "code",
   "execution_count": null,
   "metadata": {
    "collapsed": true
   },
   "outputs": [],
   "source": [
    "# 方法1: 利用 hash-table 和 cumSum 得到结果.\n",
    "# Time & Space: O(n)\n",
    "class Solution(object):\n",
    "    def subarraySum(self, nums, k):\n",
    "        \"\"\"\n",
    "        :type nums: List[int]\n",
    "        :type k: int\n",
    "        :rtype: int\n",
    "        \"\"\"\n",
    "        if not nums: return 0\n",
    "    \n",
    "        s = cnt = 0\n",
    "        dic = {0 : 1} # ❤️❤️❤️❤️ 非常重要, k=第一个元素本身的情况, 不需要.\n",
    "        for x in nums:\n",
    "            s += x # ❤️ cumSum\n",
    "            cnt += dic.get(s-k, 0) # ❤️ 看之前有没有出现过.\n",
    "            dic[s] = dic.get(s, 0) + 1 # ❤️ 保存新的结果.\n",
    "        return cnt"
   ]
  },
  {
   "cell_type": "markdown",
   "metadata": {},
   "source": [
    "### [❤️96.med-Unique Binary Search Trees](https://leetcode.com/problems/unique-binary-search-trees/description/)\n",
    "##### 题意: Given n, how many structurally unique BST's (binary search trees) that store values 1...n?\n",
    "* 题意的关键是 BST, 所以极大的限制了树的可能性, 构造的🌲 必须满足 BST 的性质.\n",
    "* Dynamic programming 问题.\n",
    "\n",
    "##### 参考视频\n",
    "* Edward Shi:\n",
    "    * 视频 https://www.youtube.com/watch?v=ZAq5BoTes8o\n",
    "    * code: https://github.com/EdwardShi92/Leetcode-Solution-Code/blob/master/UniqueBinarySearchTrees.java"
   ]
  },
  {
   "cell_type": "code",
   "execution_count": null,
   "metadata": {
    "collapsed": true
   },
   "outputs": [],
   "source": [
    "\"\"\"\n",
    " * 96. Unique Binary Search Trees\n",
    " * Given n, how many structurally unique BST's (binary search trees) that store values 1...n?\n",
    "     For example,\n",
    "     Given n = 3, there are a total of 5 unique BST's.\n",
    "     1         3     3      2      1\n",
    "      \\       /     /      / \\      \\\n",
    "       3     2     1      1   3      2\n",
    "      /     /       \\                 \\\n",
    "     2     1         2                 3\n",
    "     n = 3\n",
    "     root : 1   left : 0 right : 2   f(0) * f(2);\n",
    "     root : 2   left : 1 right : 1   f(1) * f(1);\n",
    "     root : 3   left : 2 right : 0   f(2) * f(0);\n",
    "     f(n) = f(0)*f(n-1) + f(1)*f(n-2) + ... + f(n-2)*f(1) + f(n-1)*f(0) #❤️👍👍 0 和 n -1 表示左右子树的节点个数\n",
    "     time : O(n);\n",
    "     space : O(n);\n",
    " * @param n\n",
    " * @return\n",
    "\"\"\"\n",
    "# 动态规划方程: f(n) = f(0)*f(n-1) + f(1)*f(n-2) + ... + f(n-2)*f(1) + f(n-1)*f(0)\n",
    "# ❤️❤️ 因为 f(n) 和其他所有项都相关, 因此不能做存储方面的简化. ❤️❤️\n",
    "\n",
    "class Solution(object):\n",
    "    def numTrees(self, n):\n",
    "        \"\"\"\n",
    "        :type n: int\n",
    "        :rtype: int\n",
    "        \"\"\"\n",
    "        F = [0] * (n+1) #❤️👍 第 0 - n 个元素. \n",
    "        F[0] = 1 # ❤️❤️❤️ dynamic programming 总是设初始值, 否则结果不能积累.\n",
    "        for i in xrange(1, n+1):\n",
    "            for j in xrange(i):\n",
    "                F[i] += F[j] * F[i-j-1] # ❎ F[i] 不是 F(n)\n",
    "                \n",
    "        return F[n]"
   ]
  }
 ],
 "metadata": {
  "kernelspec": {
   "display_name": "Python 2",
   "language": "python",
   "name": "python2"
  },
  "language_info": {
   "codemirror_mode": {
    "name": "ipython",
    "version": 2
   },
   "file_extension": ".py",
   "mimetype": "text/x-python",
   "name": "python",
   "nbconvert_exporter": "python",
   "pygments_lexer": "ipython2",
   "version": "2.7.13"
  },
  "toc": {
   "nav_menu": {},
   "number_sections": true,
   "sideBar": true,
   "skip_h1_title": true,
   "toc_cell": true,
   "toc_position": {
    "height": "642px",
    "left": "0px",
    "right": "1084.28px",
    "top": "67px",
    "width": "250px"
   },
   "toc_section_display": "block",
   "toc_window_display": true
  }
 },
 "nbformat": 4,
 "nbformat_minor": 2
}

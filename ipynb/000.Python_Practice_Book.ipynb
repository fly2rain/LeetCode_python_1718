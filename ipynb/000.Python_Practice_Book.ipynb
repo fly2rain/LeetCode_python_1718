{
 "cells": [
  {
   "cell_type": "markdown",
   "metadata": {},
   "source": [
    "# 000.Python_Practice_Book\n",
    "* http://anandology.com/python-practice-book/index.html\n",
    "\n",
    "## Section 1. Getting Started on the Python Practice book\n",
    "* http://anandology.com/python-practice-book/getting-started.html"
   ]
  },
  {
   "cell_type": "code",
   "execution_count": 1,
   "metadata": {
    "collapsed": true
   },
   "outputs": [],
   "source": [
    "import os\n",
    "import numpy as np\n",
    "import string"
   ]
  },
  {
   "cell_type": "code",
   "execution_count": 4,
   "metadata": {
    "collapsed": false
   },
   "outputs": [
    {
     "name": "stdout",
     "output_type": "stream",
     "text": [
      "10 10 1 2\n",
      "2 1\n"
     ]
    }
   ],
   "source": [
    "# --------------------------------------------------------------------------\n",
    "# It is possible to do multiple assignments at once.\n",
    "a, b = 1, 2\n",
    "x = y = 10\n",
    "print x, y, a, b\n",
    "\n",
    "a, b = b, a # swap\n",
    "print a, b"
   ]
  },
  {
   "cell_type": "code",
   "execution_count": null,
   "metadata": {
    "collapsed": true
   },
   "outputs": [],
   "source": [
    "# --------------------------------------------------------------------------\n",
    "# Python supports the following operators on numbers.\n",
    "# * multiplication\n",
    "# / division\n",
    "# ** exponent\n",
    "# % remainder\n",
    ">>> 7 + 2\n",
    "9\n",
    ">>> 7 - 2\n",
    "5\n",
    ">>> 7 * 2\n",
    "14\n",
    ">>> 7 / 2\n",
    "3\n",
    ">>> 7 ** 2\n",
    "49\n",
    ">>> 7 % 2\n",
    "1\n",
    ">>> 7 // 2\n",
    "3"
   ]
  },
  {
   "cell_type": "code",
   "execution_count": 7,
   "metadata": {
    "collapsed": false
   },
   "outputs": [
    {
     "ename": "SyntaxError",
     "evalue": "invalid syntax (<ipython-input-7-e7860a7b0e06>, line 4)",
     "output_type": "error",
     "traceback": [
      "\u001b[0;36m  File \u001b[0;32m\"<ipython-input-7-e7860a7b0e06>\"\u001b[0;36m, line \u001b[0;32m4\u001b[0m\n\u001b[0;31m    >>> 7.0 / 2.0\u001b[0m\n\u001b[0m     ^\u001b[0m\n\u001b[0;31mSyntaxError\u001b[0m\u001b[0;31m:\u001b[0m invalid syntax\n"
     ]
    }
   ],
   "source": [
    "# If you notice, the result 7 / 2 is 3 not 3.5. It is because the / operator when\n",
    "# working on integers, produces only an integer. Lets see what happens when we \n",
    "# try it with decimal numbers:\n",
    ">>> 7.0 / 2.0\n",
    "3.5\n",
    ">>> 7.0 / 2\n",
    "3.5\n",
    ">>> 7 / 2.0\n",
    "3.5"
   ]
  },
  {
   "cell_type": "code",
   "execution_count": null,
   "metadata": {
    "collapsed": true
   },
   "outputs": [],
   "source": [
    "# function as an input of another function  -------------------\n",
    "def square (x):\n",
    "    return x * x \n",
    "# function as an input of another function \n",
    "def fxy (f, x, y):\n",
    "    return f(x) + f(y)\n",
    "print fxy(square, 2, 3)"
   ]
  },
  {
   "cell_type": "code",
   "execution_count": null,
   "metadata": {
    "collapsed": true
   },
   "outputs": [],
   "source": [
    "# -------------------------------------------------------------------------\n",
    "# There is another way of creating functions, using the lambda operator\n",
    "# Notice that unlike function defination, lambda does not need a return\n",
    " # The body of the lambda is a single expression.\n",
    "# The lambda operator becomes handy when writing small functions to be passed\n",
    "# as arguments etc. We will see more of it as we get into solving more serious problems.\n",
    "cube = lambda x: x ** 3\n",
    "print fxy (cube, 2, 3)\n",
    "print fxy (lambda x: x ** 3, 2, 3 )"
   ]
  },
  {
   "cell_type": "code",
   "execution_count": 8,
   "metadata": {
    "collapsed": false
   },
   "outputs": [
    {
     "name": "stdout",
     "output_type": "stream",
     "text": [
      "2\n",
      "3\n",
      "11\n",
      "50\n",
      "50\n",
      "5\n",
      "HELLO\n",
      "hello\n"
     ]
    }
   ],
   "source": [
    "# Built-in Functions -------------------------------------------------------------------------\n",
    "print min (2, 3)\n",
    "print max (2, 3)\n",
    "print len (\"hello world\") # The built-in function len computes length of a string\n",
    "print int ('50') # converts string to ingeter \n",
    "print eval ('50')\n",
    "print str (5)\n",
    "\n",
    "# Methods are special kind of functions that work on an object.\n",
    "x = 'hello'\n",
    "print x.upper ()\n",
    "y = x.lower ()\n",
    "print y"
   ]
  },
  {
   "cell_type": "code",
   "execution_count": 9,
   "metadata": {
    "collapsed": false
   },
   "outputs": [
    {
     "name": "stdout",
     "output_type": "stream",
     "text": [
      "Wed Nov 29 10:42:59 2017\n"
     ]
    }
   ],
   "source": [
    "# Modules are libraries in Python. Python ships with many standard library modules. \n",
    "import time\n",
    "print time.asctime () # returns the current time of the system as a string."
   ]
  },
  {
   "cell_type": "markdown",
   "metadata": {},
   "source": [
    "## Section 2. Working with Data \n",
    "* http://anandology.com/python-practice-book/working-with-data.html"
   ]
  },
  {
   "cell_type": "code",
   "execution_count": 11,
   "metadata": {
    "collapsed": true
   },
   "outputs": [],
   "source": [
    "import os\n",
    "import string\n",
    "import numpy as np\n",
    "import sys\n",
    "import time\n",
    "from itertools import *\n",
    "from itertools import product "
   ]
  },
  {
   "cell_type": "code",
   "execution_count": 12,
   "metadata": {
    "collapsed": false
   },
   "outputs": [
    {
     "name": "stdout",
     "output_type": "stream",
     "text": [
      "len of a: 4\n"
     ]
    }
   ],
   "source": [
    "a = [1, 2, 3, 4]\n",
    "print 'len of a: ' +  str(len(a))\n",
    "\n",
    "# * operators work even on lists ******* 牛掰 ***\n",
    ">>> b = [4, 5]\n",
    ">>> b * 3\n",
    "[4, 5, 4, 5, 4, 5]\n",
    "\n",
    "print  a[:2], a[2:], a[:],  a[:-1] # the 1st : represents the beginning,"
   ]
  },
  {
   "cell_type": "code",
   "execution_count": 13,
   "metadata": {
    "collapsed": false
   },
   "outputs": [
    {
     "name": "stdout",
     "output_type": "stream",
     "text": [
      "[0, 2, 4, 6, 8]\n",
      "[9, 8, 7, 6, 5, 4, 3, 2, 1, 0]\n",
      "True False\n"
     ]
    }
   ],
   "source": [
    " x = range(10)\n",
    "# An optional third index can be used to specify the increment, which defaults to 1.\n",
    "print x[0:10:2]\n",
    "# We can reverse a list, just by providing -1 for increment.\n",
    "print x[::-1]\n",
    "# Presence of a key in a list can be tested using in operator.\n",
    "print 2 in x, 10 in x"
   ]
  },
  {
   "cell_type": "code",
   "execution_count": 15,
   "metadata": {
    "collapsed": false
   },
   "outputs": [
    {
     "name": "stdout",
     "output_type": "stream",
     "text": [
      "[('a', 1), ('b', 2), ('c', 3)]\n",
      "aa 11\n",
      "bb 22\n"
     ]
    }
   ],
   "source": [
    "# The built-in function zip takes two lists and returns list of pairs, return a list of tuples\n",
    "print  zip ( ['a','b','c'], [1, 2, 3] ) # creats \n",
    "\n",
    "names  = ['aa',  'bb']\n",
    "values = [11,    22]\n",
    "for nm, val in zip (names, values):\n",
    "    print nm, val"
   ]
  },
  {
   "cell_type": "code",
   "execution_count": 17,
   "metadata": {
    "collapsed": false
   },
   "outputs": [
    {
     "name": "stdout",
     "output_type": "stream",
     "text": [
      "None\n",
      "[2, 3, 4, 7, 10]\n",
      "[2, 3, 4, 7, 10]\n"
     ]
    }
   ],
   "source": [
    "# 2.1.2. The sort method sorts a list in place.  -------------------------------------------------------------------------\n",
    "# The sort method sorts a list in place.\n",
    "aa = [2, 10, 4, 3, 7]\n",
    "print aa.sort () ## return None\n",
    "print aa\n",
    "\n",
    "# The built-in function sorted returns a new sorted list without modifying the source list\n",
    "aa = [2, 10, 4, 3, 7]\n",
    "print sorted (aa)"
   ]
  },
  {
   "cell_type": "code",
   "execution_count": 18,
   "metadata": {
    "collapsed": false
   },
   "outputs": [
    {
     "name": "stdout",
     "output_type": "stream",
     "text": [
      "1 1\n"
     ]
    }
   ],
   "source": [
    "# 2.2. Tuples  -------------------------------------------------------------------------\n",
    "# Tuple is a sequence type just like list, but it is immutable 不可变的.\n",
    "# A tuple consists of a number of values separated by commas.\n",
    "a = (1, 2, 3)\n",
    "# The enclosing braces are optional.\n",
    "b = 1, 2, 3, 4, 5\n",
    "\n",
    "# represented with an additional comma.\n",
    "a = (1)  # used to change calculate order\n",
    "b = (1,) # this is tuple\n",
    "print a, b[0] # error occurs when a[0]"
   ]
  },
  {
   "cell_type": "code",
   "execution_count": 19,
   "metadata": {
    "collapsed": false
   },
   "outputs": [
    {
     "name": "stdout",
     "output_type": "stream",
     "text": [
      "set([1, 2, 3])\n",
      "set([1, 2, 3])\n",
      "set([1, 2, 3, 4])\n",
      "True\n"
     ]
    }
   ],
   "source": [
    "# 2.3. Sets: sets are unordered collection of unique elements.\n",
    "x = set([3, 1, 2, 1])\n",
    "print x  # 'set' object does not support indexing\n",
    "# Python 2.7 introduced a new way of writing sets.\n",
    "print {3, 1, 2, 1}\n",
    "# New elements can be added to a set using the add method.\n",
    "x.add (4)\n",
    "print x\n",
    "# Just like lists, the existance of an element can be checked using the in operator. \n",
    "# However, this operation is faster in sets compared to lists.\n",
    "print 1 in x"
   ]
  },
  {
   "cell_type": "code",
   "execution_count": 20,
   "metadata": {
    "collapsed": false
   },
   "outputs": [
    {
     "ename": "SyntaxError",
     "evalue": "invalid syntax (<ipython-input-20-2d0dbda56cf9>, line 2)",
     "output_type": "error",
     "traceback": [
      "\u001b[0;36m  File \u001b[0;32m\"<ipython-input-20-2d0dbda56cf9>\"\u001b[0;36m, line \u001b[0;32m2\u001b[0m\n\u001b[0;31m    Strings also behave like lists in many ways.\u001b[0m\n\u001b[0m               ^\u001b[0m\n\u001b[0;31mSyntaxError\u001b[0m\u001b[0;31m:\u001b[0m invalid syntax\n"
     ]
    }
   ],
   "source": [
    "# 2.4. Strings  -------------------------------------------------------------------------\n",
    "Strings also behave like lists in many ways.\n",
    ">>> a = \"helloworld\"\n",
    ">>> a[-2]\n",
    "'l'\n",
    ">>> a[1:5]\n",
    "\"ello\"\n",
    ">>> a[:5]\n",
    "\"hello\"\n",
    ">>> a[5:]\n",
    "\"world\"\n",
    ">>> a[-2:]\n",
    "'ld'\n",
    ">>> a[:-2]\n",
    "'hellowor'\n",
    ">>> a[::-1]\n",
    "'dlrowolleh'\n",
    "\n",
    "# The in operator can be used to check if a string is present in another string.\n",
    "print 'hell' in 'hello' # case sensitive\n",
    "\n",
    "# There are many useful methods on strings.\n",
    "print 'hello world'.split () # by defalut split via the delimiter (space marking beggining or ending)\n",
    "print 'a,b,c'.split (',')\n",
    "# The join method joins a list of strings.\n",
    "print \" \".join(['hello', 'world'])\n",
    "print ','.join(['a', 'b', 'c'])\n",
    "\n",
    "# The strip method returns a copy of the given string with leading and trailing \n",
    "# whitespace removed. Optionally a string can be passed as argument to remove \n",
    "# characters from that string instead of whitespace.\n",
    "print ' hello world\\n'.strip()\n",
    "print 'abcdefgh'.strip('abdh')\n",
    "\n",
    "# Python supports formatting values into strings. Although this can include very\n",
    "# complicated expressions, the most basic usage is to insert values into a string\n",
    "# %s placeholder.\n",
    "print '%s %s' % ('hello', 'world')\n",
    "print 'Chapter %d: %s' % (2, 'Data Structures')"
   ]
  },
  {
   "cell_type": "code",
   "execution_count": null,
   "metadata": {
    "collapsed": true
   },
   "outputs": [],
   "source": [
    "# 2.5. Working With Files\n",
    "# Python provides a built-in function open to open a file, which returns a file object.\n",
    "# The second argument to open is optional, which defaults to 'r' when not specified.\n",
    "# f = open('foo.txt', 'r') # open a file in read mode\n",
    "# f = open('foo.txt', 'w') # open a file in write mode\n",
    "# f = open('foo.txt', 'a') # open a file in append mode\n",
    "# Unix does not distinguish binary files from text files but windows does. On windows 'rb',\n",
    "# 'wb', 'ab' should be used to open a binary file in read, write and append mode respectively.\n",
    "\n",
    "# Esiest way to read contents of a file is by using the read method.\n",
    "# read all lines and put each line as an elment in the list\n",
    "print open('foo.txt').readlines()\n",
    "\n",
    "# the following two methods are the same\n",
    "print open('foo.txt').read(), type ( open('foo.txt').read() ) # read all lines\n",
    "f = open('foo.txt')\n",
    "print f.readline(), f.readline(), f.readline() # read one line by another\n",
    "\n",
    "# The write method is used to write data to a file opened in write or append mode.\n",
    "f = open ('foo.txt', 'w') # rewrite\n",
    "f.write ('a\\nb\\nc\\n')\n",
    "f.close ()\n",
    "\n",
    "f = open ('foo.txt', 'a') # add more \n",
    "f.write ('d\\n')\n",
    "f.close ()\n",
    "\n",
    "# The writelines method is convenient to use when the data is available as a list of lines\n",
    "f = open('foo.txt', 'w')\n",
    "f.writelines ( [ 'a\\n', 'b\\n', 'c\\n' ] )\n",
    "f.close ()"
   ]
  },
  {
   "cell_type": "code",
   "execution_count": null,
   "metadata": {
    "collapsed": true
   },
   "outputs": [],
   "source": [
    "\n",
    "# 2.6. List Comprehensions -----------------------------------------------------------------\n",
    "# List Comprehensions provide a concise way of creating lists. \n",
    "# Many times a complex task can be modelled in a single line.\n",
    "print [x*x for x in range(10)]\n",
    "\n",
    "# It is also possible to filter a list using if inside a list comprehension.\n",
    "print [x for x in range (10) if x % 2 == 0] # no needs of commas\n",
    "\n",
    "# It is possible to iterate over multiple lists using the built-in function zip\n",
    "a = [1, 2, 3, 4]\n",
    "b = [2, 3, 5, 7]\n",
    "print [x+y for x, y in zip (a, b)]\n",
    "\n",
    "# we can use multiple for clauses in single list comprehension.\n",
    "print [(x,y) for x in range(5) for y in range(5) if (x+y)%2==0]\n",
    "print [(x,y) for x in range(5) for y in range(5) if (x+y)%2==0 and x!=y]\n",
    "print [(x,y) for x in range(5) for y in range(x) if (x+y)%2==0]\n",
    "\n",
    "# finds all Pythagorean triplets using numbers below 25. (x, y, z) \n",
    "# is a called pythagorean triplet if x*x + y*y == z*z.\n",
    "n = 25\n",
    "print [(x,y,z) for x in range(1,n) for y in range(x,n) for z in range(y,n) if x*x + y*y == z*z]"
   ]
  },
  {
   "cell_type": "code",
   "execution_count": null,
   "metadata": {
    "collapsed": true
   },
   "outputs": [],
   "source": [
    "# 2.7. Dictionaries\n",
    "# Dictionaries are like lists, but they can be indexed with non integer keys also.\n",
    "# Unlike lists, dictionaries are not ordered.\n",
    "a = {'x': 1, 'y':2, 'z':3}\n",
    "print a['x']\n",
    "\n",
    "b = {}\n",
    "b['x'] = 2\n",
    "b[2] = 'foo'\n",
    "b[(1,2)] = 3\n",
    "print b\n",
    "\n",
    "# The del keyword can be used to delete an item from a dictionary.\n",
    "a = {'x': 1, 'y': 2, 'z': 3}\n",
    "del a['x']\n",
    "print a\n",
    "\n",
    "a = {'x': 1, 'y': 2, 'z': 3}\n",
    "print a.keys ()     # return the keys\n",
    "print a.values ()   # return the vaues \n",
    "print a.items ()    # return a list of tuples\n",
    "\n",
    "# The for statement can be used to iterate over a dictionary.\n",
    "for key in a: print key\n",
    "for key, value in a.items(): print key, value\n",
    "\n",
    "# Presence of a key in a dictionary can be tested using in operator or has_key method.\n",
    "print 'x' in a\n",
    "print a.has_key ('x')\n",
    "\n",
    "# Other useful methods on dictionaries are get and setdefault.\n",
    "d = {'x': 1, 'y': 2, 'z': 3}\n",
    "print d.get('x', 5) # if no 'x', return 5\n",
    "print d.setdefault ('p', 11) # similar with get, besides setdefault to the dict\n",
    "\n",
    "# ** Dictionaries can be used in string formatting to specify named parameters.\n",
    "print 'hello %(name)s' % {'name': 'goodbey'}\n",
    "print 'Chapter %(index)d %(name)s' % {'index':2, 'name': 'Data structure'}"
   ]
  },
  {
   "cell_type": "markdown",
   "metadata": {},
   "source": [
    "## Section 3. Models\n",
    "http://anandology.com/python-practice-book/modules.html"
   ]
  },
  {
   "cell_type": "code",
   "execution_count": null,
   "metadata": {
    "collapsed": true
   },
   "outputs": [],
   "source": [
    "# Writing our own modules is very simple. 和 matlab 或 c++中一个包含函数的 file 其实是类似的。\n",
    "# * create a file called num.py with the following content.\n",
    "def square(x):\n",
    "    return x * x\n",
    "\n",
    "def cube(x):\n",
    "    return x * x * x\n",
    "# * Now open Python interterter:\n",
    ">>> import num\n",
    ">>> num.square(3)\n",
    "9\n",
    ">>> num.cube(3)\n",
    "27"
   ]
  },
  {
   "cell_type": "markdown",
   "metadata": {},
   "source": [
    "### Standard Models\n",
    "#### os module\n",
    "The os and os.path modules provides functionality to work with files, directories etc.\n",
    "\n",
    "#### urllib module\n",
    "The urllib module provides functionality to download webpages.\n",
    "\n",
    "#### zipfile module\n",
    "The zipfile module provides interface to read and write zip files.\n",
    "\n",
    "### Installing third-party modules\n",
    "#### \n",
    "\n"
   ]
  },
  {
   "cell_type": "code",
   "execution_count": null,
   "metadata": {
    "collapsed": true
   },
   "outputs": [],
   "source": []
  }
 ],
 "metadata": {
  "kernelspec": {
   "display_name": "Python 2",
   "language": "python",
   "name": "python2"
  },
  "language_info": {
   "codemirror_mode": {
    "name": "ipython",
    "version": 2
   },
   "file_extension": ".py",
   "mimetype": "text/x-python",
   "name": "python",
   "nbconvert_exporter": "python",
   "pygments_lexer": "ipython2",
   "version": "2.7.13"
  }
 },
 "nbformat": 4,
 "nbformat_minor": 2
}

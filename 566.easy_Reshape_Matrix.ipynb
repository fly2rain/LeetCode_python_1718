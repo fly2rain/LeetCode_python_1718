{
 "cells": [
  {
   "cell_type": "markdown",
   "metadata": {},
   "source": [
    "# 566.easy_Reshape_Matrix\n",
    "### 链接\n",
    "\n",
    "* 题目：https://leetcode.com/problems/reshape-the-matrix/description/\n",
    "\n",
    "### 题意\n",
    "* 实现 matlab 中对矩阵的 reshape 功能。\n",
    "* If the 'reshape' operation with given parameters is possible and legal, output the new reshaped matrix; Otherwise, output the original matrix.\n",
    "* Note:【这个提供在这里有什么用呢？】\n",
    "    * The height and width of the given matrix is in range [1, 100].\n",
    "    * The given r and c are all positive.\n",
    "\n",
    "### 分析\n",
    "* 原本以为会很麻烦，其实没有那么麻烦。matrix 本质上线性连续的数据结构，管理好一个 index，然后通过 index/ncol, index%ncol 就可以得到相应的行、列坐标。而且这样的操作，不会破坏数据本来的顺序。\n",
    "* 在 python 中两重 list，需要两个 index, 即[行][列]。顺序是由大到小。该顺序和 matlab 的顺序正好西方相反，matlab 的顺序是由小到大。\n",
    "\n",
    "### 编程经验\n",
    "* 两种方式定义二维 list，网上查到的信息表明第二种方法效果更好，实际一测试，反而发现第一种方法更好。第一种方法比第二种方法快了大概 50 倍。\n",
    "* List 或 二维 list 初始化时，每个元素初始化成 None\n",
    "```python\n",
    "outnums = [ [None] * c ] * r # this is better\n",
    "outnums = [ [None]*c for i in range (r) ] # this is not good\n",
    "```"
   ]
  },
  {
   "cell_type": "markdown",
   "metadata": {},
   "source": [
    "# Method # 1"
   ]
  },
  {
   "cell_type": "code",
   "execution_count": 13,
   "metadata": {},
   "outputs": [],
   "source": [
    "class Solution(object):\n",
    "    def matrixReshape(self, nums, r, c):\n",
    "        \"\"\"\n",
    "        :type nums: List[List[int]]\n",
    "        :type r: int\n",
    "        :type c: int\n",
    "        :rtype: List[List[int]]\n",
    "        \"\"\"\n",
    "        nrow = len (nums)\n",
    "        ncol = len (nums[0])\n",
    "        if r * c != nrow * ncol:\n",
    "            return nums\n",
    "        \n",
    "        # rst = [ [None] * c for i in xrange(r) ] #\n",
    "        rst = [ [ None ] * c ] * r\n",
    "        for i in xrange (r*c):\n",
    "            rst[i/c][i%c] = nums[i/ncol][i%ncol]\n",
    "        \n",
    "        return rst"
   ]
  },
  {
   "cell_type": "code",
   "execution_count": 14,
   "metadata": {},
   "outputs": [
    {
     "name": "stdout",
     "output_type": "stream",
     "text": [
      "[[1, 2, 3, 4]]\n"
     ]
    }
   ],
   "source": [
    "if __name__ == '__main__':\n",
    "    nums = [ [1,2], [3,4] ]\n",
    "    r, c = 1, 4\n",
    "    print Solution ().matrixReshape (nums, r, c) "
   ]
  },
  {
   "cell_type": "code",
   "execution_count": 17,
   "metadata": {},
   "outputs": [
    {
     "name": "stdout",
     "output_type": "stream",
     "text": [
      "3.398e-08\n",
      "1.780472e-06\n"
     ]
    }
   ],
   "source": [
    "# 两种方式定义二维 list，网上查到的信息表明第二种方法效果更好，实际一测试，\n",
    "# 反而发现第一种方法更好。第一种方法比第二种方法快了大概 50 倍。\n",
    "# method#1: outnums = [ [None] * c ] * r # this is not goods\n",
    "# method#2: outnums = [ [None]*c for i in range (r) ] # this is good\n",
    "\n",
    "## 以下代码测试上述两种定义方式，哪一种更好\n",
    "from time import clock\n",
    "nn = 10000\n",
    "r, c = 100, 200\n",
    "\n",
    "start=clock ()\n",
    "for i in xrange(nn):\n",
    "    outnums = [ [None] * c ] * r # this is better, time 3.398e-08\n",
    "finish=clock()\n",
    "print (finish-start)/1000000\n",
    "\n",
    "start=clock ()\n",
    "for i in xrange(nn):\n",
    "    outnums = [ [None]*c for i in range (r) ] # this is not，time 1.780472e-06\n",
    "finish=clock()\n",
    "print (finish-start)/1000000"
   ]
  }
 ],
 "metadata": {
  "kernelspec": {
   "display_name": "Python 2",
   "language": "python",
   "name": "python2"
  },
  "language_info": {
   "codemirror_mode": {
    "name": "ipython",
    "version": 2
   },
   "file_extension": ".py",
   "mimetype": "text/x-python",
   "name": "python",
   "nbconvert_exporter": "python",
   "pygments_lexer": "ipython2",
   "version": "2.7.13"
  }
 },
 "nbformat": 4,
 "nbformat_minor": 2
}

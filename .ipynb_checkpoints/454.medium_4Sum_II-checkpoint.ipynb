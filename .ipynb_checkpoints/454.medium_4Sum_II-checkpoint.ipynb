{
 "cells": [
  {
   "cell_type": "markdown",
   "metadata": {},
   "source": [
    "# 454.medium_4Sum_II\n",
    "### 链接\n",
    "\n",
    "* 题目：https://leetcode.com/problems/4sum-ii/description/\n",
    "\n",
    "### 题意\n",
    "* 给定4个lists A，B，C，D, 找到唯一 tuples (i,j,k,l) 使得 $A[i] + B[j] + C[k] + D[l]=0$.\n",
    "* 简单起见，ABCD含有同样多的的元素，都是 N. 并且，题意中未指出避免重复。\n",
    "\n",
    "### 分析\n",
    "* 最简单的方式，便利。\n",
    "\n",
    "### 编程经验\n",
    "* python 传参，分为 mutable 和 in-mutable。mutable的不能更改\n",
    "\n",
    "```python\n",
    "```"
   ]
  },
  {
   "cell_type": "markdown",
   "metadata": {},
   "source": [
    "# Method #1: brute force\n",
    "* runtime complexity $O(N^4)$"
   ]
  },
  {
   "cell_type": "code",
   "execution_count": 49,
   "metadata": {
    "collapsed": true
   },
   "outputs": [],
   "source": [
    "class Solution(object):\n",
    "    def fourSumCount(self, A, B, C, D):\n",
    "        \"\"\"\n",
    "        :type A: List[int]\n",
    "        :type B: List[int]\n",
    "        :type C: List[int]\n",
    "        :type D: List[int]\n",
    "        :rtype: int\n",
    "        \"\"\"\n",
    "        rst = 0\n",
    "        na, nb, nc, nd = len(A), len(B), len(C), len(D)\n",
    "        if (not na) or (not nb) or (not nc) or (not nd):\n",
    "            return rst      \n",
    "        \n",
    "        for i in xrange (na):\n",
    "            ai = A[i]\n",
    "            for j in xrange (nb):\n",
    "                bj = B[j]\n",
    "                for k in xrange (nc):\n",
    "                    ck = C[k]\n",
    "                    for m in xrange (nd):\n",
    "                        dm = D[m]\n",
    "                        if ai + bj + ck + dm == 0:\n",
    "                            rst += 1\n",
    "        return rst                          "
   ]
  },
  {
   "cell_type": "code",
   "execution_count": 50,
   "metadata": {
    "collapsed": false
   },
   "outputs": [
    {
     "name": "stdout",
     "output_type": "stream",
     "text": [
      "2\n"
     ]
    }
   ],
   "source": [
    "if __name__ == '__main__':\n",
    "    print Solution ().fourSumCount ([1,2], [-2,-1], [-1,2], [0,2])"
   ]
  },
  {
   "cell_type": "markdown",
   "metadata": {},
   "source": [
    "# Method #2: "
   ]
  },
  {
   "cell_type": "code",
   "execution_count": 68,
   "metadata": {
    "collapsed": true
   },
   "outputs": [],
   "source": [
    "class Solution(object):\n",
    "    def fourSumCount (self, A, B, C, D):\n",
    "        \"\"\"\n",
    "        :type A: List[int]\n",
    "        :type B: List[int]\n",
    "        :type C: List[int]\n",
    "        :type D: List[int]\n",
    "        :rtype: int\n",
    "        \"\"\"\n",
    "        rst = [0]\n",
    "        nn  = len (A)\n",
    "        if not nn:\n",
    "            return rst[0]\n",
    "        \n",
    "        A.sort ()\n",
    "        B.sort ()\n",
    "        C.sort ()\n",
    "        D.sort ()\n",
    "        \n",
    "        self._n_SumCount ( [A, B, C, D], 0, rst )\n",
    "        return rst[0]\n",
    "\n",
    "    def _n_SumCount ( self, nums, target, rst):\n",
    "        \n",
    "        nk = len (nums)\n",
    "        nn = len (nums[0])\n",
    "        \n",
    "        tmp1 = tmp2 = 0\n",
    "        for i in xrange (nk):\n",
    "            tmp1 += nums[i][0]\n",
    "            tmp2 += nums[i][-1]        \n",
    "        if tmp1 > target or tmp2 < target:\n",
    "            return \n",
    "        \n",
    "        if nk < 2:\n",
    "            return \n",
    "        elif nk > 2:\n",
    "            for i in xrange (nn):\n",
    "                xa = nums[0][i]\n",
    "                self._n_SumCount ( nums[1:], target-xa, rst )\n",
    "        else:\n",
    "            l, r = 0, nn - 1\n",
    "            while l < nn and r > -1:\n",
    "                s = nums[0][l] + nums[1][r]\n",
    "                if s < target:\n",
    "                    l += 1\n",
    "                elif s > target:\n",
    "                    r -= 1\n",
    "                else:\n",
    "                    rst[0] += 1\n",
    "                    l += 1\n",
    "                    r -= 1  "
   ]
  },
  {
   "cell_type": "code",
   "execution_count": 69,
   "metadata": {
    "collapsed": false
   },
   "outputs": [
    {
     "ename": "TypeError",
     "evalue": "_n_SumCount() takes exactly 4 arguments (3 given)",
     "output_type": "error",
     "traceback": [
      "\u001b[0;31m---------------------------------------------------------------------------\u001b[0m",
      "\u001b[0;31mTypeError\u001b[0m                                 Traceback (most recent call last)",
      "\u001b[0;32m<ipython-input-69-c29affe3cfa0>\u001b[0m in \u001b[0;36m<module>\u001b[0;34m()\u001b[0m\n\u001b[1;32m      5\u001b[0m     \u001b[0mD\u001b[0m \u001b[0;34m=\u001b[0m \u001b[0;34m[\u001b[0m \u001b[0;36m0\u001b[0m\u001b[0;34m,\u001b[0m \u001b[0;36m2\u001b[0m\u001b[0;34m]\u001b[0m\u001b[0;34m\u001b[0m\u001b[0m\n\u001b[1;32m      6\u001b[0m \u001b[0;34m\u001b[0m\u001b[0m\n\u001b[0;32m----> 7\u001b[0;31m     \u001b[0;32mprint\u001b[0m \u001b[0mSolution\u001b[0m\u001b[0;34m(\u001b[0m\u001b[0;34m)\u001b[0m\u001b[0;34m.\u001b[0m\u001b[0mfourSumCount\u001b[0m \u001b[0;34m(\u001b[0m\u001b[0mA\u001b[0m\u001b[0;34m,\u001b[0m \u001b[0mB\u001b[0m\u001b[0;34m,\u001b[0m \u001b[0mC\u001b[0m\u001b[0;34m,\u001b[0m \u001b[0mD\u001b[0m\u001b[0;34m)\u001b[0m\u001b[0;34m\u001b[0m\u001b[0m\n\u001b[0m",
      "\u001b[0;32m<ipython-input-68-3acb38a69af7>\u001b[0m in \u001b[0;36mfourSumCount\u001b[0;34m(self, A, B, C, D)\u001b[0m\n\u001b[1;32m     18\u001b[0m         \u001b[0mD\u001b[0m\u001b[0;34m.\u001b[0m\u001b[0msort\u001b[0m \u001b[0;34m(\u001b[0m\u001b[0;34m)\u001b[0m\u001b[0;34m\u001b[0m\u001b[0m\n\u001b[1;32m     19\u001b[0m \u001b[0;34m\u001b[0m\u001b[0m\n\u001b[0;32m---> 20\u001b[0;31m         \u001b[0mself\u001b[0m\u001b[0;34m.\u001b[0m\u001b[0m_n_SumCount\u001b[0m \u001b[0;34m(\u001b[0m \u001b[0;34m[\u001b[0m\u001b[0mA\u001b[0m\u001b[0;34m,\u001b[0m \u001b[0mB\u001b[0m\u001b[0;34m,\u001b[0m \u001b[0mC\u001b[0m\u001b[0;34m,\u001b[0m \u001b[0mD\u001b[0m\u001b[0;34m]\u001b[0m\u001b[0;34m,\u001b[0m \u001b[0;36m0\u001b[0m \u001b[0;34m)\u001b[0m\u001b[0;34m\u001b[0m\u001b[0m\n\u001b[0m\u001b[1;32m     21\u001b[0m         \u001b[0;32mreturn\u001b[0m \u001b[0mrst\u001b[0m\u001b[0;34m[\u001b[0m\u001b[0;36m0\u001b[0m\u001b[0;34m]\u001b[0m\u001b[0;34m\u001b[0m\u001b[0m\n\u001b[1;32m     22\u001b[0m \u001b[0;34m\u001b[0m\u001b[0m\n",
      "\u001b[0;31mTypeError\u001b[0m: _n_SumCount() takes exactly 4 arguments (3 given)"
     ]
    }
   ],
   "source": [
    "if __name__ == '__main__':\n",
    "    A = [ 1, 2]\n",
    "    B = [-2,-1]\n",
    "    C = [-1, 2]\n",
    "    D = [ 0, 2]\n",
    "\n",
    "    print Solution().fourSumCount (A, B, C, D)"
   ]
  },
  {
   "cell_type": "code",
   "execution_count": 63,
   "metadata": {
    "collapsed": false
   },
   "outputs": [
    {
     "name": "stdout",
     "output_type": "stream",
     "text": [
      "1\n"
     ]
    }
   ],
   "source": [
    "def f (x):\n",
    "    x = 10\n",
    "\n",
    "x = 1\n",
    "f (x)\n",
    "print x"
   ]
  },
  {
   "cell_type": "code",
   "execution_count": null,
   "metadata": {
    "collapsed": true
   },
   "outputs": [],
   "source": []
  }
 ],
 "metadata": {
  "kernelspec": {
   "display_name": "Python 2",
   "language": "python",
   "name": "python2"
  },
  "language_info": {
   "codemirror_mode": {
    "name": "ipython",
    "version": 2
   },
   "file_extension": ".py",
   "mimetype": "text/x-python",
   "name": "python",
   "nbconvert_exporter": "python",
   "pygments_lexer": "ipython2",
   "version": "2.7.13"
  }
 },
 "nbformat": 4,
 "nbformat_minor": 2
}

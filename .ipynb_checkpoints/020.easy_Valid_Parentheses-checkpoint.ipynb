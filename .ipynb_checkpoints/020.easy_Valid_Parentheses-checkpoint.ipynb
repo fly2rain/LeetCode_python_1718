{
 "cells": [
  {
   "cell_type": "markdown",
   "metadata": {},
   "source": [
    "# 020.easy_Valid_Parentheses\n",
    "### 链接\n",
    "\n",
    "* 题目：https://leetcode.com/problems/valid-parentheses/description/\n",
    "\n",
    "### 题意\n",
    "Given a string containing just the characters '(', ')', '{', '}', '[' and ']', determine if the input string is valid.\n",
    "\n",
    "The brackets must close in the correct order, \"()\" and \"()[]{}\" are all valid but \"(]\" and \"([)]\" are not.\n",
    "\n",
    "### 分析\n",
    "* 不知道能够按照 list 的思路，只用相邻两个 element 的关系。可是 '(' 和 ')' 是什么关系呢？应该差相差一个常数距离吧？\n",
    "* 返回是 bool 型。\n",
    "\n",
    "### 编程经验\n",
    "* 完全没有想到事先简历 dict，用 key 和 value 表明它们之间的对应关系。\n",
    "\n",
    "\n",
    "```python\n",
    "if not s: # 如果空的，输出什么结果？\n",
    "    return False\n",
    "```"
   ]
  },
  {
   "cell_type": "markdown",
   "metadata": {},
   "source": [
    "# Method # 1"
   ]
  },
  {
   "cell_type": "code",
   "execution_count": 10,
   "metadata": {
    "collapsed": true
   },
   "outputs": [],
   "source": [
    "class Solution(object):\n",
    "    def isValid(self, s):\n",
    "        \"\"\"\n",
    "        :type s: str\n",
    "        :rtype: bool\n",
    "        \"\"\"\n",
    "        if not s: # 如果空的，输出什么结果？\n",
    "            return False\n",
    "        \n",
    "        ns = len (s)\n",
    "        if ns % 2: # 没有成双成对出现\n",
    "            return False \n",
    "        \n",
    "        dic = { '[':']', '(':')', '{':'}'}\n",
    "        \n",
    "        for i in xrange (0, ns - 1):\n",
    "            x = s[i]\n",
    "            y = s[i+1]\n",
    "            if x in dic and dic[x] == y: #第一次忘记 x in dic 的条件，因为\n",
    "                continue\n",
    "            else:\n",
    "                return False\n",
    "        return True     "
   ]
  },
  {
   "cell_type": "code",
   "execution_count": 13,
   "metadata": {
    "collapsed": false
   },
   "outputs": [
    {
     "name": "stdout",
     "output_type": "stream",
     "text": [
      "True\n",
      "False\n",
      "False\n"
     ]
    }
   ],
   "source": [
    "if __name__ == '__main__':\n",
    "    print Solution ().isValid ('[]')\n",
    "    print Solution ().isValid ('hello')\n",
    "    print Solution ().isValid ('[}')"
   ]
  },
  {
   "cell_type": "markdown",
   "metadata": {},
   "source": [
    "# 标准答案：还没看明白，先放在这里，回头细究\n",
    "* https://discuss.leetcode.com/topic/6534/simple-python-solution-with-stack\n",
    "* https://github.com/illuz/leetcode/blob/master/solutions/020.Valid_Parentheses/AC_stack_dict_n.py\n",
    "\n",
    "### 分析下面 code\n",
    "* 这里构建 dict 有点奇怪，顺序不对 )(。\n",
    "* 对于 s 中任意 char，无非两种情况，一种是 \"左半边\"，一种是 \"右半边\""
   ]
  },
  {
   "cell_type": "code",
   "execution_count": 14,
   "metadata": {
    "collapsed": true
   },
   "outputs": [],
   "source": [
    "class Solution:\n",
    "    # @return a boolean\n",
    "    def isValid(self, s):\n",
    "        mp  = {')': '(', ']': '[', '}': '{'}\n",
    "        stk = [ ]\n",
    "        for ch in s:\n",
    "            if ch in mp.values():\n",
    "                stk.append(ch)               \n",
    "            else: # 如果奇数位遇到非 ([{，则 \n",
    "                if not stk or mp[ch] != stk.pop():\n",
    "                    return False\n",
    "        return not stk\n",
    "    "
   ]
  },
  {
   "cell_type": "code",
   "execution_count": 15,
   "metadata": {
    "collapsed": false
   },
   "outputs": [
    {
     "name": "stdout",
     "output_type": "stream",
     "text": [
      "True\n",
      "False\n",
      "False\n"
     ]
    }
   ],
   "source": [
    "if __name__ == '__main__':\n",
    "    print Solution ().isValid ('[]')\n",
    "    print Solution ().isValid ('hello')\n",
    "    print Solution ().isValid ('[}')"
   ]
  },
  {
   "cell_type": "code",
   "execution_count": 15,
   "metadata": {
    "collapsed": true
   },
   "outputs": [],
   "source": [
    "class Solution(object):\n",
    "    def isValid(self, s):\n",
    "        \"\"\"\n",
    "        :type s: str\n",
    "        :rtype: bool\n",
    "        \"\"\"\n",
    "        dic   = { ')':'(', ']':'[', '}':'{' }\n",
    "        stack = []\n",
    "        \n",
    "        for ch in s:\n",
    "            \n",
    "            if ch in dic.values (): # 以前写成 values，差了 ()\n",
    "                stack.append (ch) \n",
    "                \n",
    "            elif ch in dic.keys (): # 以前写成了 keys，差了 ()\n",
    "                if stack == [] or dic[ch] != stack.pop ():\n",
    "                    return False\n",
    "            else:\n",
    "                return False\n",
    "            \n",
    "        return stack == [] # 这一块也能写成 not stack，但不如这个清晰"
   ]
  },
  {
   "cell_type": "code",
   "execution_count": 16,
   "metadata": {
    "collapsed": false
   },
   "outputs": [
    {
     "name": "stdout",
     "output_type": "stream",
     "text": [
      "True\n"
     ]
    }
   ],
   "source": [
    "if __name__ == '__main__':\n",
    "    print Solution ().isValid ('([]{})')"
   ]
  },
  {
   "cell_type": "code",
   "execution_count": null,
   "metadata": {
    "collapsed": true
   },
   "outputs": [],
   "source": []
  }
 ],
 "metadata": {
  "kernelspec": {
   "display_name": "Python 2",
   "language": "python",
   "name": "python2"
  },
  "language_info": {
   "codemirror_mode": {
    "name": "ipython",
    "version": 2
   },
   "file_extension": ".py",
   "mimetype": "text/x-python",
   "name": "python",
   "nbconvert_exporter": "python",
   "pygments_lexer": "ipython2",
   "version": "2.7.13"
  }
 },
 "nbformat": 4,
 "nbformat_minor": 2
}

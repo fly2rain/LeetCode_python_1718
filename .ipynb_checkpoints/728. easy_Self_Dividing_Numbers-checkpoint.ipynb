{
 "cells": [
  {
   "cell_type": "markdown",
   "metadata": {},
   "source": [
    "# 728. Self_Dividing_Numbers_easy\n",
    "### 链接\n",
    "\n",
    "* 题目：https://leetcode.com/problems/self-dividing-numbers/description/\n",
    "\n",
    "### 题意\n",
    "给定 [left, right], 即 [L, R], 范围内的数组，确定其中的所有 self dividing number，检查两个条件：\n",
    "* 数被自己被每一位整除，比如 128 % 1 == 0, 128 % 2 == 0, and 128 % 8 == 0\n",
    "* 数不能有 0 的位\n",
    "\n",
    "### 分析\n",
    "* 疑问 [L, R] 边界能否小于0，需要保证所有数大于 0 吗？\n",
    "* Time complexity O(D\\*log(R) ), 这里 R 表示 range 的右界，D 表示the number of interger in the range. log 应该是以 10 为底的对数。\n",
    "* Space complexity O(D) the length of the answer \n",
    "\n",
    "### 编程经验\n",
    "\n",
    "```python\n",
    "```"
   ]
  },
  {
   "cell_type": "markdown",
   "metadata": {},
   "source": [
    "# Method # 1 --- hash table"
   ]
  },
  {
   "cell_type": "code",
   "execution_count": 6,
   "metadata": {},
   "outputs": [],
   "source": [
    "class Solution(object):\n",
    "    def selfDividingNumbers(self, left, right):\n",
    "        \"\"\"\n",
    "        :type left: int\n",
    "        :type right: int\n",
    "        :rtype: List[int]\n",
    "        \"\"\"\n",
    "        rst = []\n",
    "        if left > right:\n",
    "            return rst\n",
    "        \n",
    "        for x in xrange (left, right + 1):\n",
    "            conditionVal = True  # set the condition value to be true\n",
    "            tmpx  = x            # the tmp varible to convert val to digits\n",
    "            while tmpx >= 1:     # 注意这里的边界， >= 和 > 都可以，不过 >= 更准确。\n",
    "                digit = tmpx % 10\n",
    "                tmpx  = tmpx / 10\n",
    "                \n",
    "                if (not digit) or x % digit:\n",
    "                    conditionVal = False\n",
    "                    break\n",
    "                    \n",
    "            if conditionVal:\n",
    "                rst.append (x)\n",
    "                \n",
    "        return rst"
   ]
  },
  {
   "cell_type": "code",
   "execution_count": 7,
   "metadata": {},
   "outputs": [
    {
     "name": "stdout",
     "output_type": "stream",
     "text": [
      "[1, 2, 3, 4, 5, 6, 7, 8, 9, 11, 12, 15, 22]\n"
     ]
    }
   ],
   "source": [
    "if __name__ == '__main__':\n",
    "    print Solution ().selfDividingNumbers (1, 22)"
   ]
  },
  {
   "cell_type": "markdown",
   "metadata": {},
   "source": [
    "# Method # 1.1 --- hash table"
   ]
  },
  {
   "cell_type": "code",
   "execution_count": 6,
   "metadata": {
    "collapsed": true
   },
   "outputs": [],
   "source": [
    "# 左右夹逼\n",
    "class Solution_2 (object):\n",
    "    def twoSum(self, nums, target):\n",
    "        \"\"\"\n",
    "        :type nums: List[int]\n",
    "        :type target: int\n",
    "        :rtype: List[int]\n",
    "        \"\"\"\n",
    "        if len(nums) < 2:\n",
    "            return []\n",
    "        \n",
    "        tmp = {}\n",
    "        for i, x in enumerate (nums):\n",
    "            try:\n",
    "                return [ tmp[target-x], i]\n",
    "            except:\n",
    "                tmp[x]  = i "
   ]
  },
  {
   "cell_type": "code",
   "execution_count": 7,
   "metadata": {},
   "outputs": [
    {
     "name": "stdout",
     "output_type": "stream",
     "text": [
      "[0, 1]\n"
     ]
    }
   ],
   "source": [
    "#  Testing ----\n",
    "if __name__ == '__main__':\n",
    "    print Solution_2 ().twoSum ( [2, 7, 11, 15], 9 ) "
   ]
  }
 ],
 "metadata": {
  "kernelspec": {
   "display_name": "Python 2",
   "language": "python",
   "name": "python2"
  },
  "language_info": {
   "codemirror_mode": {
    "name": "ipython",
    "version": 2
   },
   "file_extension": ".py",
   "mimetype": "text/x-python",
   "name": "python",
   "nbconvert_exporter": "python",
   "pygments_lexer": "ipython2",
   "version": "2.7.13"
  }
 },
 "nbformat": 4,
 "nbformat_minor": 2
}

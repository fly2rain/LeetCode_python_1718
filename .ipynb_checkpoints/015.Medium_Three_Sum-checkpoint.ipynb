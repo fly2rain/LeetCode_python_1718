{
 "cells": [
  {
   "cell_type": "markdown",
   "metadata": {},
   "source": [
    "# 015. 3 sum （medium）\n",
    "### 链接\n",
    "\n",
    "* 题目：https://leetcode.com/problems/3sum/description/\n",
    "\n",
    "### 题意\n",
    "\n",
    "找出数组中所有三个数的组合，它们的和为0，**注意唯一**\n",
    "\n",
    "### 分析\n",
    "* 先排序，再左右夹逼。排序的平均复杂度是 O(n\\*n)，左右夹逼的复杂度是 O (n\\*n), 总复杂度是 O(n\\*n)\n",
    "* N-sum 的题目度可以用夹逼来做，复杂度降一维。"
   ]
  },
  {
   "cell_type": "code",
   "execution_count": null,
   "metadata": {
    "collapsed": true
   },
   "outputs": [],
   "source": [
    "# 左右夹逼\n",
    "class Solution(object):\n",
    "    def threeSum(self, nums):\n",
    "        \"\"\"\n",
    "        :type nums: List[int]\n",
    "        :rtype: List[List[int]]\n",
    "        \"\"\"\n",
    "        rst = []\n",
    "        N   = len (nums)\n",
    "        if N < 3:\n",
    "            return rst\n",
    "        \n",
    "        x = nums\n",
    "        x.sort ()\n",
    "        \n",
    "        for i in xrange (N-2):\n",
    "            if i > 0 and x[i] == x[i-1]:\n",
    "                continue\n",
    "                \n",
    "            l, r = i + 1, N - 1\n",
    "            while l < r:\n",
    "                s = x[i] + x[l] + x[r]\n",
    "                if s > 0:\n",
    "                    r -= 1\n",
    "                elif s < 0:\n",
    "                    r += 1\n",
    "                else:\n",
    "                    rst.append ([x[i], x[l], x[r]])\n",
    "                    while l < r and x[l] == x[l+1]:\n",
    "                        l += 1\n",
    "                    while l < r and x[r] == x[r-1]:\n",
    "                        r -= 1\n",
    "                    l +=1; r -= 1;\n",
    "                    \n",
    "        return rst"
   ]
  }
 ],
 "metadata": {
  "kernelspec": {
   "display_name": "Python 2",
   "language": "python",
   "name": "python2"
  },
  "language_info": {
   "codemirror_mode": {
    "name": "ipython",
    "version": 2
   },
   "file_extension": ".py",
   "mimetype": "text/x-python",
   "name": "python",
   "nbconvert_exporter": "python",
   "pygments_lexer": "ipython2",
   "version": "2.7.13"
  }
 },
 "nbformat": 4,
 "nbformat_minor": 2
}

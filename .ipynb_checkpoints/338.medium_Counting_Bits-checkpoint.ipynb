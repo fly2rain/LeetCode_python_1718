{
 "cells": [
  {
   "cell_type": "markdown",
   "metadata": {},
   "source": [
    "# 338.medium_Counting_Bits\n",
    "### 链接\n",
    "\n",
    "* 题目：https://leetcode.com/problems/counting-bits/description/\n",
    "\n",
    "### 题意\n",
    "* 给定非负整数 $n$, 计算所有元素 $0\\leq i \\leq n$ 的二进制表述中有多少个 1.\n",
    "* 举例: $n=5$ 时，输出为 $[0,1,1,2,1,2]$\n",
    "\n",
    "### Follow up\n",
    "* It is very easy to come up with a solution with run time **O(n*sizeof(integer))**. But can you do it in linear time O(n) /possibly in a single pass?\n",
    "* Space complexity should be **O(n)**.\n",
    "* Can you do it like a boss? Do it without using any builtin function like **__builtin_popcount** in c++ or in any other language.\n",
    "\n",
    "### 分析\n",
    "* 直接的思路比较简单，看 Method #1.\n",
    "* 其实可以用 D & P (recursive + memeorization) 的想法. 举个例子 101 和 01 之间的关系，其实就是多了一位高位。怎么去处理呢？\n",
    "    * 可以用 while loop 实现。\n",
    "    * 也可以用 recursive 实现。\n",
    "\n",
    "### 编程经验\n",
    "\n",
    "``` python \n",
    "x / 2 # 等价于 x >> 1\n",
    "x % 2 # 等价于 x & 1\n",
    "```"
   ]
  },
  {
   "cell_type": "markdown",
   "metadata": {},
   "source": [
    "# Method #1\n",
    "* 直观的思路，简单，计算复杂度 和 存储复杂度均是 $O (n)$，存储复杂度没法更低了。"
   ]
  },
  {
   "cell_type": "code",
   "execution_count": 10,
   "metadata": {
    "collapsed": true
   },
   "outputs": [],
   "source": [
    "class Solution(object):\n",
    "    def countBits(self, num):\n",
    "        \"\"\"\n",
    "        :type num: int\n",
    "        :rtype: List[int]\n",
    "        \"\"\"\n",
    "        rst = [ ]\n",
    "        if num < 0:\n",
    "            return rst\n",
    "        \n",
    "        for x in xrange (num + 1):\n",
    "            rst.append ( self.countBits_oneNumber (x) )\n",
    "        return rst \n",
    "            \n",
    "    def countBits_oneNumber (self, x):\n",
    "        if x < 0:\n",
    "            return 0\n",
    "        \n",
    "        cnt = 0\n",
    "        while x:\n",
    "            cnt += x % 2\n",
    "            x /= 2\n",
    "        return cnt"
   ]
  },
  {
   "cell_type": "code",
   "execution_count": 11,
   "metadata": {},
   "outputs": [
    {
     "name": "stdout",
     "output_type": "stream",
     "text": [
      "[0, 1, 1, 2, 1, 2]\n"
     ]
    }
   ],
   "source": [
    "if __name__ == '__main__':\n",
    "    print Solution ().countBits (5)"
   ]
  },
  {
   "cell_type": "markdown",
   "metadata": {},
   "source": [
    "# Method #2: D & P while loop\n",
    "* 刚开始观察到 101 和 1 之间的关系， 11 和 1， 1000 和 1 的关系。\n",
    "*"
   ]
  },
  {
   "cell_type": "code",
   "execution_count": 14,
   "metadata": {
    "collapsed": true
   },
   "outputs": [],
   "source": [
    "class Solution(object):\n",
    "    def countBits_2 (self, num):\n",
    "        \"\"\"\n",
    "        :type num: int\n",
    "        :rtype: List[int]\n",
    "        \"\"\"\n",
    "        rst = []\n",
    "        if num < 0:\n",
    "            return rst\n",
    "        \n",
    "        dic = {}\n",
    "        for x in xrange (num + 1):\n",
    "            rst.append ( self.countBits_recursive (x, dic) )\n",
    "        return rst\n",
    "    \n",
    "    def countBits_recursive (self, x, dic):\n",
    "        # 1 basic case，非常重要，它是 recursive call 的终止条件。一定避开无限 recursive call.\n",
    "        if x <= 0: \n",
    "            return 0\n",
    "        \n",
    "        # 2 memorizations \n",
    "        if x in dic:\n",
    "            cnt = dic[x]\n",
    "        else: \n",
    "        # 3 recursive calls\n",
    "            cnt = x % 2 + self.countBits_recursive (x / 2, dic)\n",
    "        return cnt"
   ]
  },
  {
   "cell_type": "code",
   "execution_count": 15,
   "metadata": {},
   "outputs": [
    {
     "name": "stdout",
     "output_type": "stream",
     "text": [
      "[0, 1, 1, 2, 1, 2]\n"
     ]
    }
   ],
   "source": [
    "if __name__ == '__main__':\n",
    "    print Solution ().countBits_2 (5)"
   ]
  },
  {
   "cell_type": "markdown",
   "metadata": {},
   "source": [
    "# Method #3 (standard)\n",
    "* https://leetcode.com/problems/counting-bits/solution/\n",
    "``` python \n",
    "x / 2 # 等价于 x >> 1\n",
    "x % 2 # 等价于 x & 1\n",
    "```"
   ]
  },
  {
   "cell_type": "code",
   "execution_count": 22,
   "metadata": {
    "collapsed": true
   },
   "outputs": [],
   "source": [
    "class Solution(object):\n",
    "    def countBits_3 (self, num):\n",
    "        \"\"\"\n",
    "        :type num: int\n",
    "        :rtype: List[int]\n",
    "        \"\"\"\n",
    "        rst = []\n",
    "        if num < 0:\n",
    "            return rst\n",
    "        \n",
    "        rst.append (0) # 因为没法初始化数据，只能事先\n",
    "        for x in xrange (1, num + 1):\n",
    "            rst.append ( rst[x>>1] + (x&1) )\n",
    "            \n",
    "        return rst"
   ]
  },
  {
   "cell_type": "code",
   "execution_count": 23,
   "metadata": {},
   "outputs": [
    {
     "name": "stdout",
     "output_type": "stream",
     "text": [
      "[0, 1, 1, 2, 1, 2]\n"
     ]
    }
   ],
   "source": [
    "if __name__ == '__main__':\n",
    "    print Solution ().countBits_3 (5)"
   ]
  },
  {
   "cell_type": "code",
   "execution_count": null,
   "metadata": {
    "collapsed": true
   },
   "outputs": [],
   "source": []
  }
 ],
 "metadata": {
  "kernelspec": {
   "display_name": "Python 2",
   "language": "python",
   "name": "python2"
  },
  "language_info": {
   "codemirror_mode": {
    "name": "ipython",
    "version": 2
   },
   "file_extension": ".py",
   "mimetype": "text/x-python",
   "name": "python",
   "nbconvert_exporter": "python",
   "pygments_lexer": "ipython2",
   "version": "2.7.13"
  }
 },
 "nbformat": 4,
 "nbformat_minor": 2
}

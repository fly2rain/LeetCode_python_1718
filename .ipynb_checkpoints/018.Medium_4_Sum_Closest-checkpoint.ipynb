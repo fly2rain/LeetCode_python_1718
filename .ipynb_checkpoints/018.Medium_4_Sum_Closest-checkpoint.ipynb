{
 "cells": [
  {
   "cell_type": "markdown",
   "metadata": {},
   "source": [
    "# 18. 4Sum（medium）\n",
    "### 链接\n",
    "\n",
    "* 题目：https://leetcode.com/problems/4sum/description/\n",
    "\n",
    "### 题意\n",
    "\n",
    "找出数组中所有四个数之和等于 target，注意不要重复。返回是所有四个数的组合\n",
    "\n",
    "### 分析\n",
    "* 先排序，再左右夹逼。排序的平均复杂度是 O(n\\*n)，左右夹逼的复杂度是 O (n\\*n\\*n), 总复杂度是 O(n\\*n\\*n)\n",
    "* N-sum 的题目度可以用夹逼来做，复杂度降一维。\n",
    "\n",
    "### 编程经验\n",
    "\n",
    "\n",
    "* sorted list的好处，一句简单的规则，提前排除掉大量的例子\n",
    "```python\n",
    "# 因为这一句，运行时间从 1069 ms 锐减到 469ms *****\n",
    "        if 4*x[0] > target or 4*x[N-1] < target:\n",
    "            return rst\n",
    "```"
   ]
  },
  {
   "cell_type": "markdown",
   "metadata": {},
   "source": [
    "# Method # 1 --- One function (969 ms)"
   ]
  },
  {
   "cell_type": "code",
   "execution_count": 6,
   "metadata": {},
   "outputs": [],
   "source": [
    "# 左右夹逼\n",
    "class Solution(object):\n",
    "    def fourSum(self, nums, target):\n",
    "        \"\"\"\n",
    "        :type nums: List[int]\n",
    "        :type target: int\n",
    "        :rtype: List[List[int]]\n",
    "        \"\"\"\n",
    "        rst = []\n",
    "        N   = len (nums)\n",
    "        if N < 4:\n",
    "            return rst\n",
    "        \n",
    "        x = nums\n",
    "        x.sort ()\n",
    "        \n",
    "        # --------------------------------------------\n",
    "        # 因为这一句，运行时间从 1069 ms 锐减到 469ms，sorted list的好处*****\n",
    "        if 4*x[0] > target or 4*x[N-1] < target:\n",
    "            return rst\n",
    "        \n",
    "        for i in xrange (N-3):\n",
    "            if i > 0 and x[i] == x[i-1]:\n",
    "                continue\n",
    "                \n",
    "            # --------------------------------------------\n",
    "            # the most important differences *************  \n",
    "            for j in xrange (i+1, N-2):\n",
    "                if j > i+1 and x[j] == x[j-1]: # 边界很重要\n",
    "                    continue\n",
    "            # --------------------------------------------\n",
    "                l, r = j + 1, N - 1\n",
    "                while l < r:\n",
    "                    s = x[i] + x[j] + x[l] + x[r]\n",
    "                    if s < target:\n",
    "                        l += 1\n",
    "                    elif s > target:\n",
    "                        r -= 1\n",
    "                    else: \n",
    "                        rst.append ([ x[i], x[j], x[l], x[r] ])\n",
    "                        while l < r and x[l] == x[l+1]:\n",
    "                            l += 1\n",
    "                        while l < r and x[r] == x[r-1]:\n",
    "                            r -= 1\n",
    "                        l += 1\n",
    "                        r -= 1\n",
    "        return rst"
   ]
  },
  {
   "cell_type": "code",
   "execution_count": 7,
   "metadata": {},
   "outputs": [
    {
     "name": "stdout",
     "output_type": "stream",
     "text": [
      "[[-2, -1, 1, 2], [-2, 0, 0, 2], [-1, 0, 0, 1]]\n"
     ]
    }
   ],
   "source": [
    "#  Testing ----\n",
    "if __name__ == '__main__':\n",
    "    print Solution().fourSum ( [1, 0, -1, 0, -2, 2], 0 ) "
   ]
  },
  {
   "cell_type": "markdown",
   "metadata": {},
   "source": [
    "# Method #2  --- 4 sum calls 3 sums (1069 ms)"
   ]
  },
  {
   "cell_type": "code",
   "execution_count": 8,
   "metadata": {},
   "outputs": [],
   "source": [
    "class Solution_2 (object):\n",
    "    def fourSum (self, nums, target):\n",
    "        \"\"\"\n",
    "        :type nums: List[int]\n",
    "        :type target: int\n",
    "        :rtype: List[List[int]]\n",
    "        \"\"\"\n",
    "        rst = []\n",
    "        xx  = nums\n",
    "        N   = len (xx)\n",
    "        if N < 4:\n",
    "            return rst\n",
    "        \n",
    "        xx.sort ()\n",
    "        for i in xrange (N - 3):\n",
    "            if i > 0 and xx[i] == xx[i-1]:\n",
    "                continue\n",
    "        \n",
    "            tmp = self.threeSum_4_sortedList (xx[i+1:], xx[i], target)\n",
    "            for j in xrange ( len(tmp) ):\n",
    "                rst.append ( tmp[j] )\n",
    "        return rst\n",
    "    \n",
    "    def threeSum_4_sortedList (self, xx, y, target):\n",
    "        \"\"\"\n",
    "        :type xx: List[int]\n",
    "        :type y: int\n",
    "        :type target: int\n",
    "        :rtype: List[List[int]]\n",
    "        \"\"\"\n",
    "        rst = []\n",
    "        N = len (xx)\n",
    "        if N < 3: \n",
    "            return rst\n",
    "        \n",
    "        for i in xrange (N-2):\n",
    "            if i > 0 and xx[i] == xx[i-1]:\n",
    "                continue\n",
    "            \n",
    "            l, r = i + 1, N - 1\n",
    "            while l < r :\n",
    "                s = y + xx[i] + xx[l] + xx[r]\n",
    "                if s < target:\n",
    "                    l += 1\n",
    "                elif s > target:\n",
    "                    r -= 1\n",
    "                else:\n",
    "                    rst.append ([y, xx[i], xx[l], xx[r]])\n",
    "                    while l < r and xx[l] == xx[l+1]:\n",
    "                        l += 1\n",
    "                    while l < r and xx[r] == xx[r-1]:\n",
    "                        r -= 1\n",
    "                    l += 1\n",
    "                    r -= 1\n",
    "        return rst#  Testing ----"
   ]
  },
  {
   "cell_type": "code",
   "execution_count": 28,
   "metadata": {},
   "outputs": [
    {
     "name": "stdout",
     "output_type": "stream",
     "text": [
      "[[-2, -1, 1, 2], [-2, 0, 0, 2], [-1, 0, 0, 1]]\n"
     ]
    }
   ],
   "source": [
    "#  Testing ----\n",
    "if __name__ == '__main__':\n",
    "    print Solution_2 ().fourSum ( [1, 0, -1, 0, -2, 2], 0 ) "
   ]
  },
  {
   "cell_type": "markdown",
   "metadata": {},
   "source": [
    "# Method #3 (most important）\n",
    "### 问题总结\n",
    "* works for N-sum (N>=2)\n",
    "* Python 140ms beats 100%\n",
    "* recursive reduce N-sum to 2-sum\n",
    "* fast 2-pointer to solve 2-sum\n",
    "* webpage: https://discuss.leetcode.com/topic/22705/python-140ms-beats-100-and-works-for-n-sum-n-2\n",
    "\n",
    "### 经验总结\n",
    "*  N_Sum 函数中的 三个 if (else) 的逻辑比较清晰\n",
    "    * 第1个 if 逻辑，list 中总数少于 n-sum, 则 return\n",
    "    * 第2个 if 逻辑，\n",
    "    * 第3个 if，elif 和 else 的逻辑\n",
    "\n",
    "### 编程技巧\n",
    "* ** 关于取 list 最后一个元素的两种方法 **\n",
    "``` python\n",
    "nums[-1] # list的最后一个元素，类似于 matlab 的 nums[end]\n",
    "nums[len(nums)-1] # 也表示 list 的最后一个元素，显然太复杂了\n",
    "```\n",
    "* 拼接 list\n",
    "```python\n",
    "rst += [ xx[i] ]\n",
    "```\n",
    "* 以下函数 N_Sum 演示了一下，reference 传回结果。该方法类似于 c (cplusplus) 语言中，通过指针和 reference 往回传参。\n",
    "* 递归时，reference 传参注意别串位置了。"
   ]
  },
  {
   "cell_type": "code",
   "execution_count": 31,
   "metadata": {},
   "outputs": [],
   "source": [
    "class Solution_3 (object):\n",
    "    def fourSum (self, nums, target):\n",
    "        \"\"\"\n",
    "        :type nums: List[int]\n",
    "        :type target: int\n",
    "        :rtype: List[List[int]]\n",
    "        \"\"\"\n",
    "        rsts = []\n",
    "        nums.sort ()\n",
    "        self.N_Sum (nums, 4, 0, [], rsts )\n",
    "        return rsts\n",
    "        \n",
    "    def N_Sum (self, nums, ns, target, rst, rsts):\n",
    "        \"\"\"\n",
    "        :type nums: List[int]\n",
    "        :type ns: int\n",
    "        :type target: int\n",
    "        :type rst: List[int]\n",
    "        :type rsts: List[List[int]]\n",
    "        \"\"\"\n",
    "        nn = len (nums)\n",
    "        if nn < ns:\n",
    "            return\n",
    "        \n",
    "        if ns*nums[0] > target or ns*nums[-1] < target:\n",
    "            return     # nums[-1] 等价于 nums[len(nums)-1]\n",
    "        \n",
    "        if ns < 2:\n",
    "            return\n",
    "        \n",
    "        elif ns > 2: # recursively reduce ns\n",
    "            for i in xrange (nn - ns + 1):\n",
    "                if i > 0 and nums[i] == nums[i-1]:\n",
    "                    continue\n",
    "                newTarget = target - nums[i]\n",
    "                newRst    = rst + [nums[i]]\n",
    "                self.N_Sum ( nums[i+1:], ns-1, newTarget, newRst, rsts )\n",
    "                            \n",
    "        else: # two-point to solve the 2-sum problem --\n",
    "            l, r = 0, nn - 1\n",
    "            while l < r:\n",
    "                s = nums[l] + nums[r]\n",
    "                if s < target:\n",
    "                    l += 1\n",
    "                elif s > target:\n",
    "                    r -= 1\n",
    "                else:\n",
    "                    rsts.append ( rst + [ nums[l], nums[r] ] )\n",
    "                    while l < r and nums[l] == nums[l+1]:\n",
    "                        l += 1\n",
    "                    while l < r and nums[r] == nums[r-1]:\n",
    "                        r -= 1\n",
    "                    l += 1\n",
    "                    r -= 1\n",
    "        return # 有无 return 其实无所谓#  Testing ----"
   ]
  },
  {
   "cell_type": "code",
   "execution_count": 32,
   "metadata": {},
   "outputs": [
    {
     "name": "stdout",
     "output_type": "stream",
     "text": [
      "[[-2, -1, 1, 2], [-2, 0, 0, 2], [-1, 0, 0, 1]]\n"
     ]
    }
   ],
   "source": [
    "#  Testing ----\n",
    "if __name__ == \"__main__\":\n",
    "    print Solution_3 ().fourSum ( [1, 0, -1, 0, -2, 2], 0 )"
   ]
  }
 ],
 "metadata": {
  "kernelspec": {
   "display_name": "Python 2",
   "language": "python",
   "name": "python2"
  },
  "language_info": {
   "codemirror_mode": {
    "name": "ipython",
    "version": 2
   },
   "file_extension": ".py",
   "mimetype": "text/x-python",
   "name": "python",
   "nbconvert_exporter": "python",
   "pygments_lexer": "ipython2",
   "version": "2.7.13"
  }
 },
 "nbformat": 4,
 "nbformat_minor": 2
}

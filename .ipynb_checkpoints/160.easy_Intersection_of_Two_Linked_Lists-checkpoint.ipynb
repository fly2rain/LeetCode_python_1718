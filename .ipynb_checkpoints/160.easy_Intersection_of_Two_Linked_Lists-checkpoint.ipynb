{
 "cells": [
  {
   "cell_type": "markdown",
   "metadata": {},
   "source": [
    "# 160.easy_Intersection_of_Two_Linked_Lists\n",
    "### 链接\n",
    "\n",
    "* 题目：https://leetcode.com/problems/intersection-of-two-linked-lists/description/\n",
    "* 三个标准的解题思路：https://leetcode.com/problems/intersection-of-two-linked-lists/solution/\n",
    "    * brute force\n",
    "    * Hash Table\n",
    "    * Two points\n",
    "\n",
    "### 题意\n",
    "* 找到两个 linked list 的 intersection 开始的 node。\n",
    "* 链接中 example 很好地展示了题意。\n",
    "\n",
    "### 分析\n",
    "* linked list 只能逐个游走。brute force 方法是， 逐个检查 linked list A 中每个 node 是否在 linked list B 中。\n",
    "* 疑问1：如何确定连个 linked list A 的 node 是在 B 中呢？【原来python 中可以判断 reference 是否相等的】\n",
    "\n",
    "### 编程经验\n",
    "\n",
    "```python\n",
    "```"
   ]
  },
  {
   "cell_type": "markdown",
   "metadata": {},
   "source": [
    "# Method #1"
   ]
  },
  {
   "cell_type": "code",
   "execution_count": null,
   "metadata": {
    "collapsed": true
   },
   "outputs": [],
   "source": [
    "# Definition for singly-linked list.\n",
    "class ListNode(object):\n",
    "    def __init__(self, x):\n",
    "        self.val = x\n",
    "        self.next = None\n",
    "\n",
    "class Solution(object):\n",
    "    def getIntersectionNode(self, headA, headB):\n",
    "        \"\"\"\n",
    "        :type headA, headB: ListNode\n",
    "        :rtype: ListNode\n",
    "        \"\"\"\n",
    "        curA = headA\n",
    "        curB = headB\n",
    "        \n",
    "        while curA != curB:\n",
    "            if not curA:\n",
    "                curA = headB\n",
    "            else:\n",
    "                curA = curA.next\n",
    "                \n",
    "            if not curB:\n",
    "                curB = headA\n",
    "            else:\n",
    "                curB = curB.next\n",
    "                \n",
    "        return curA\n",
    "# On the second traversal, they either hit or miss. \n",
    "# if they meet, pa or pb would be the node we are looking for, \n",
    "# if they didn't meet, they will hit the end at the same iteration, \n",
    "# pa == pb == None, return either one of them is the same,None                "
   ]
  },
  {
   "cell_type": "code",
   "execution_count": null,
   "metadata": {
    "collapsed": true
   },
   "outputs": [],
   "source": [
    "#  Testing ----\n",
    "if __name__ == '__main__':\n",
    "    print Solution_2 (). "
   ]
  },
  {
   "cell_type": "markdown",
   "metadata": {},
   "source": [
    "# Method #2"
   ]
  },
  {
   "cell_type": "code",
   "execution_count": 6,
   "metadata": {
    "collapsed": true
   },
   "outputs": [],
   "source": []
  },
  {
   "cell_type": "code",
   "execution_count": 7,
   "metadata": {},
   "outputs": [
    {
     "name": "stdout",
     "output_type": "stream",
     "text": [
      "[0, 1]\n"
     ]
    }
   ],
   "source": [
    "#  Testing ----\n",
    "if __name__ == '__main__':\n",
    "    print Solution_2 ()."
   ]
  }
 ],
 "metadata": {
  "kernelspec": {
   "display_name": "Python 2",
   "language": "python",
   "name": "python2"
  },
  "language_info": {
   "codemirror_mode": {
    "name": "ipython",
    "version": 2
   },
   "file_extension": ".py",
   "mimetype": "text/x-python",
   "name": "python",
   "nbconvert_exporter": "python",
   "pygments_lexer": "ipython2",
   "version": "2.7.13"
  }
 },
 "nbformat": 4,
 "nbformat_minor": 2
}

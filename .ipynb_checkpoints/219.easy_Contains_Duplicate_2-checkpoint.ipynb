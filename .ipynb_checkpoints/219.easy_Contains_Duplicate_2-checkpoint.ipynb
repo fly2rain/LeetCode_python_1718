{
 "cells": [
  {
   "cell_type": "markdown",
   "metadata": {},
   "source": [
    "# 219.Contains_Duplicate _2_easy\n",
    "### 链接\n",
    "\n",
    "* 题目：https://leetcode.com/problems/contains-duplicate-ii/description/\n",
    "\n",
    "### 题意\n",
    "对于给定 array，查找是否包含满足以下两个条件的元素组：\n",
    "* two distinct indices i and j in the array such that nums[i] = nums[j]\n",
    "* the absolute difference between i and j is at most k （应该包含 k）吧。\n",
    "\n",
    "### 分析\n",
    "* 因为需要查看 index i 和 j 的距离，所以不能 sort。sort 会打乱 index 顺序，进而影响距离计算。\n",
    "* 涉及到元素值相等的问题，应该还是能够使用 hash 的。这样的 time complexity 是 O (n)\n",
    "\n",
    "### 编程经验\n",
    "* 对于最小距离问题，每一次及时都需要更新 tmp[x], 即使 tmp[x] 已经存在于 tmp 中。每一次更新确保距离更小。\n",
    "\n",
    "```python\n",
    "if not nums: # 不需要这个 if 语句，给定空的 nums，for 不能运行\n",
    "    return False\n",
    "for i, x in enumerate (nums):\n",
    "```"
   ]
  },
  {
   "cell_type": "markdown",
   "metadata": {},
   "source": [
    "# Method # 1"
   ]
  },
  {
   "cell_type": "code",
   "execution_count": null,
   "metadata": {
    "collapsed": true
   },
   "outputs": [],
   "source": [
    "class Solution(object):\n",
    "    def containsNearbyDuplicate(self, nums, k):\n",
    "        \"\"\"\n",
    "        :type nums: List[int]\n",
    "        :type k: int\n",
    "        :rtype: bool\n",
    "        \"\"\"\n",
    "        if not nums: \n",
    "            return False\n",
    "        \n",
    "        tmp = {}\n",
    "        for i, x in enumerate (nums):\n",
    "            if x in tmp:\n",
    "                j = tmp[x]\n",
    "                if j != i and abs (i-j) <= k:\n",
    "                    return True\n",
    "            tmp[x] = i # 注意，每一次及时更新 tmp[x], 即使 tmp[x] 已经存在于 tmp 中。\n",
    "            # 每一次更新确保距离更小。\n",
    "        return False"
   ]
  },
  {
   "cell_type": "code",
   "execution_count": null,
   "metadata": {
    "collapsed": true
   },
   "outputs": [],
   "source": [
    "#  Testing ----\n",
    "if __name__ == '__main__':\n",
    "    print Solution_2 (). "
   ]
  },
  {
   "cell_type": "markdown",
   "metadata": {},
   "source": [
    "# Method # : better looking code "
   ]
  },
  {
   "cell_type": "code",
   "execution_count": 10,
   "metadata": {
    "collapsed": true
   },
   "outputs": [],
   "source": [
    "class Solution_2 (object):\n",
    "    def containsNearbyDuplicate(self, nums, k):\n",
    "        \"\"\"\n",
    "        :type nums: List[int]\n",
    "        :type k: int\n",
    "        :rtype: bool\n",
    "        \"\"\"\n",
    "        if not nums: # 这一句可不要；面对空 list，后面的 for 循环也不会运行，只能 return False\n",
    "            return False\n",
    "        \n",
    "        dic = {}\n",
    "        for i, x in enumerate (nums):\n",
    "            if x in dic and (i-dic[x]) <= k:\n",
    "                return True\n",
    "            dic[x] = i # 注意，每一次及时更新 tmp[x], 即使 tmp[x] 已经存在于 tmp 中。\n",
    "            # 每一次更新确保距离更小。\n",
    "        return False"
   ]
  },
  {
   "cell_type": "code",
   "execution_count": 11,
   "metadata": {},
   "outputs": [
    {
     "name": "stdout",
     "output_type": "stream",
     "text": [
      "True\n"
     ]
    }
   ],
   "source": [
    "#  Testing ----\n",
    "if __name__ == '__main__':\n",
    "    print Solution_2 ().containsNearbyDuplicate ([10,0,1,1], 1)"
   ]
  },
  {
   "cell_type": "code",
   "execution_count": 8,
   "metadata": {},
   "outputs": [
    {
     "name": "stdout",
     "output_type": "stream",
     "text": [
      "False\n"
     ]
    }
   ],
   "source": [
    "# 面对空 list，后面的 for 循环也不会运行，只能 print False \n",
    "nums = []\n",
    "for i, x in enumerate (nums):\n",
    "    print True\n",
    "print False"
   ]
  }
 ],
 "metadata": {
  "kernelspec": {
   "display_name": "Python 2",
   "language": "python",
   "name": "python2"
  },
  "language_info": {
   "codemirror_mode": {
    "name": "ipython",
    "version": 2
   },
   "file_extension": ".py",
   "mimetype": "text/x-python",
   "name": "python",
   "nbconvert_exporter": "python",
   "pygments_lexer": "ipython2",
   "version": "2.7.13"
  }
 },
 "nbformat": 4,
 "nbformat_minor": 2
}

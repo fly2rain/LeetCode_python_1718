{
 "cells": [
  {
   "cell_type": "markdown",
   "metadata": {},
   "source": [
    "# 023.hard_Merge_k_Sorted_Lists\n",
    "### 链接\n",
    "\n",
    "* 题目：https://leetcode.com/problems/merge-k-sorted-lists/description/\n",
    "\n",
    "\n",
    "### 题意\n",
    "* 题意直白，给定ｋ个 **sorted** linked list (他们的 head 存在 python list 中)， 返回 one sorted list\n",
    "* 并分析 complexity \n",
    "\n",
    "### 编程经验\n",
    "* https://leetcode.com/problems/merge-k-sorted-lists/solution/\n",
    "* https://discuss.leetcode.com/topic/45185/concise-solution-o-n-klogn-python-using-minheap-and-dict\n",
    "\n",
    "```python\n",
    "```"
   ]
  },
  {
   "cell_type": "markdown",
   "metadata": {},
   "source": [
    "# Method #1: 先来个简单，考虑 K=2\n",
    "\n",
    "### 分析\n",
    "* k = 2 时貌似已经做过，先写一下练练手，然后锻炼难的。"
   ]
  },
  {
   "cell_type": "code",
   "execution_count": 1,
   "metadata": {
    "collapsed": true
   },
   "outputs": [],
   "source": [
    "# Definition for singly-linked list.\n",
    "# class ListNode(object):\n",
    "#     def __init__(self, x):\n",
    "#         self.val = x\n",
    "#         self.next = None\n",
    "\n",
    "class Solution(object):\n",
    "    def mergeKLists(self, lists):\n",
    "        \"\"\"\n",
    "        :type lists: List[ListNode]\n",
    "        :rtype: ListNode\n",
    "        \"\"\"\n",
    "        dummy = curr = ListNode (None)\n",
    "        \n",
    "        l1, l2 = lists[0], lists[1]\n",
    "        \n",
    "        while l1 and l2:\n",
    "            if l1.val < l2.val:\n",
    "                curr.next = l1\n",
    "                l1 = l1.next\n",
    "            else:\n",
    "                curr.next = l2\n",
    "                l2 = l2.next\n",
    "                \n",
    "            curr = curr.next\n",
    "            \n",
    "        curr.next = l1 or l2\n",
    "        \n",
    "        return dummy.next\n",
    "                \n",
    "                "
   ]
  },
  {
   "cell_type": "markdown",
   "metadata": {},
   "source": [
    "# Method #2: 考虑 k 取任意大于 2 的值\n",
    "\n",
    "### 分析\n",
    "* 如果 k == 1，则返回 lists[0]； 如果 lists 为空，则返回 None\n",
    "* 如果 k > 2，则需要 lists 存放 current linked list 的位置。 \n",
    "* ** 类似与 merge sort, 使用 divide & conquer 的技巧 **"
   ]
  },
  {
   "cell_type": "code",
   "execution_count": 1,
   "metadata": {
    "collapsed": false
   },
   "outputs": [
    {
     "ename": "IndentationError",
     "evalue": "expected an indented block (<ipython-input-1-3c04cbc01284>, line 29)",
     "output_type": "error",
     "traceback": [
      "\u001b[0;36m  File \u001b[0;32m\"<ipython-input-1-3c04cbc01284>\"\u001b[0;36m, line \u001b[0;32m29\u001b[0m\n\u001b[0;31m    def _mergeKLists (self, lists):\u001b[0m\n\u001b[0m    ^\u001b[0m\n\u001b[0;31mIndentationError\u001b[0m\u001b[0;31m:\u001b[0m expected an indented block\n"
     ]
    }
   ],
   "source": [
    "# Definition for singly-linked list.\n",
    "# class ListNode(object):\n",
    "#     def __init__(self, x):\n",
    "#         self.val = x\n",
    "#         self.next = None\n",
    "\n",
    "class Solution(object):\n",
    "    def mergeKLists(self, lists):\n",
    "        \"\"\"\n",
    "        :type lists: List[ListNode]\n",
    "        :rtype: ListNode\n",
    "        \"\"\"\n",
    "        # 一步调用就到位了 ----\n",
    "        rst = self._mergeKLists (lists)\n",
    "        return rst\n",
    "            \n",
    "    def _mergeKLists (self, lists):\n",
    "        \n",
    "        nn = len (lists)\n",
    "        \n",
    "        #1: base cases  \n",
    "        if   nn == 0:\n",
    "            return None\n",
    "        elif nn == 1:\n",
    "            return lists[0]\n",
    "        elif nn > 2:\n",
    "            #2: divide, conquer and combine the complex problem\n",
    "            rst = self.merge2lists ( lists.pop(), lists.pop() )\n",
    "            lists.append ( rst )\n",
    "            \n",
    "    def merge2lists (self, l1, l2):\n",
    "        \n",
    "        dummy = curr = ListNodes (0)\n",
    "        \n",
    "        while l1 and l2:\n",
    "            if l1.val < l2.val:\n",
    "                curr.next = l1\n",
    "                l1        = l1.next\n",
    "            else:\n",
    "                curr.next = l2\n",
    "                l2        = l2.next\n",
    "            curr = curr.next\n",
    "\n",
    "        curr.next = l1 or l2\n",
    "\n",
    "        return dummy.next"
   ]
  },
  {
   "cell_type": "code",
   "execution_count": 7,
   "metadata": {
    "collapsed": false
   },
   "outputs": [
    {
     "name": "stdout",
     "output_type": "stream",
     "text": [
      "[0, 1]\n"
     ]
    }
   ],
   "source": []
  }
 ],
 "metadata": {
  "kernelspec": {
   "display_name": "Python 2",
   "language": "python",
   "name": "python2"
  },
  "language_info": {
   "codemirror_mode": {
    "name": "ipython",
    "version": 2
   },
   "file_extension": ".py",
   "mimetype": "text/x-python",
   "name": "python",
   "nbconvert_exporter": "python",
   "pygments_lexer": "ipython2",
   "version": "2.7.13"
  }
 },
 "nbformat": 4,
 "nbformat_minor": 2
}

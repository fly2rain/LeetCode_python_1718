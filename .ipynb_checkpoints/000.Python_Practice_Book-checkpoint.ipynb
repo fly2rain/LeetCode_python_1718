{
 "cells": [
  {
   "cell_type": "markdown",
   "metadata": {},
   "source": [
    "# 000.Python_Getting_Started\n",
    "### 链接\n",
    "\n",
    "* 题目：ttp://anandology.com/python-practice-book/getting-started.htmldfe\n",
    "\n",
    "## Section 1. Getting Started on the Python Practice book"
   ]
  },
  {
   "cell_type": "code",
   "execution_count": 1,
   "metadata": {
    "collapsed": true
   },
   "outputs": [],
   "source": [
    "import os\n",
    "import numpy as np\n",
    "import string"
   ]
  },
  {
   "cell_type": "code",
   "execution_count": 4,
   "metadata": {},
   "outputs": [
    {
     "name": "stdout",
     "output_type": "stream",
     "text": [
      "10 10 1 2\n",
      "2 1\n"
     ]
    }
   ],
   "source": [
    "# --------------------------------------------------------------------------\n",
    "# It is possible to do multiple assignments at once.\n",
    "a, b = 1, 2\n",
    "x = y = 10\n",
    "print x, y, a, b\n",
    "\n",
    "a, b = b, a # swap\n",
    "print a, b"
   ]
  },
  {
   "cell_type": "code",
   "execution_count": 6,
   "metadata": {},
   "outputs": [
    {
     "ename": "SyntaxError",
     "evalue": "invalid syntax (<ipython-input-6-32b7acdfc4bc>, line 8)",
     "output_type": "error",
     "traceback": [
      "\u001b[0;36m  File \u001b[0;32m\"<ipython-input-6-32b7acdfc4bc>\"\u001b[0;36m, line \u001b[0;32m8\u001b[0m\n\u001b[0;31m    >>> 7 + 2\u001b[0m\n\u001b[0m     ^\u001b[0m\n\u001b[0;31mSyntaxError\u001b[0m\u001b[0;31m:\u001b[0m invalid syntax\n"
     ]
    }
   ],
   "source": [
    "\n",
    "# --------------------------------------------------------------------------\n",
    "# Python supports the following operators on numbers.\n",
    "# * multiplication\n",
    "# / division\n",
    "# ** exponent\n",
    "# % remainder\n",
    ">>> 7 + 2\n",
    "9\n",
    ">>> 7 - 2\n",
    "5\n",
    ">>> 7 * 2\n",
    "14\n",
    ">>> 7 / 2\n",
    "3\n",
    ">>> 7 ** 2\n",
    "49\n",
    ">>> 7 % 2\n",
    "1\n",
    ">>> 7 // 2\n",
    "3"
   ]
  },
  {
   "cell_type": "code",
   "execution_count": 7,
   "metadata": {},
   "outputs": [
    {
     "ename": "SyntaxError",
     "evalue": "invalid syntax (<ipython-input-7-e7860a7b0e06>, line 4)",
     "output_type": "error",
     "traceback": [
      "\u001b[0;36m  File \u001b[0;32m\"<ipython-input-7-e7860a7b0e06>\"\u001b[0;36m, line \u001b[0;32m4\u001b[0m\n\u001b[0;31m    >>> 7.0 / 2.0\u001b[0m\n\u001b[0m     ^\u001b[0m\n\u001b[0;31mSyntaxError\u001b[0m\u001b[0;31m:\u001b[0m invalid syntax\n"
     ]
    }
   ],
   "source": [
    "# If you notice, the result 7 / 2 is 3 not 3.5. It is because the / operator when\n",
    "# working on integers, produces only an integer. Lets see what happens when we \n",
    "# try it with decimal numbers:\n",
    ">>> 7.0 / 2.0\n",
    "3.5\n",
    ">>> 7.0 / 2\n",
    "3.5\n",
    ">>> 7 / 2.0\n",
    "3.5"
   ]
  },
  {
   "cell_type": "code",
   "execution_count": null,
   "metadata": {
    "collapsed": true
   },
   "outputs": [],
   "source": [
    "# function as an input of another function  -------------------\n",
    "def square (x):\n",
    "    return x * x \n",
    "# function as an input of another function \n",
    "def fxy (f, x, y):\n",
    "    return f(x) + f(y)\n",
    "print fxy(square, 2, 3)"
   ]
  },
  {
   "cell_type": "code",
   "execution_count": null,
   "metadata": {
    "collapsed": true
   },
   "outputs": [],
   "source": [
    "# -------------------------------------------------------------------------\n",
    "# There is another way of creating functions, using the lambda operator\n",
    "# Notice that unlike function defination, lambda does not need a return\n",
    " # The body of the lambda is a single expression.\n",
    "# The lambda operator becomes handy when writing small functions to be passed\n",
    "# as arguments etc. We will see more of it as we get into solving more serious problems.\n",
    "cube = lambda x: x ** 3\n",
    "print fxy (cube, 2, 3)\n",
    "print fxy (lambda x: x ** 3, 2, 3 )"
   ]
  }
 ],
 "metadata": {
  "kernelspec": {
   "display_name": "Python 2",
   "language": "python",
   "name": "python2"
  },
  "language_info": {
   "codemirror_mode": {
    "name": "ipython",
    "version": 2
   },
   "file_extension": ".py",
   "mimetype": "text/x-python",
   "name": "python",
   "nbconvert_exporter": "python",
   "pygments_lexer": "ipython2",
   "version": "2.7.13"
  }
 },
 "nbformat": 4,
 "nbformat_minor": 2
}

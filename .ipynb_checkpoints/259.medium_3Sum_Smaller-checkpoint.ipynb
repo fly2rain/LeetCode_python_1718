{
 "cells": [
  {
   "cell_type": "markdown",
   "metadata": {},
   "source": [
    "# 259.medium_3Sum_Smaller\n",
    "### 链接\n",
    "\n",
    "* 题目：https://leetcode.com/problems/3sum-smaller/description/\n",
    "\n",
    "### 题意\n",
    "* 给定含有ｎ个元素的向量nums 和 给定的target，求出所有三元素组合，他们的和小于 target。\n",
    "* **按照题意不能做到避免重复,.不需要重复**，不需要重复是问题的重点。\n",
    "\n",
    "* follow ups:\n",
    "    * 需要计算复杂度小于 $O(n^2)$\n",
    "\n",
    "### 分析\n",
    "* 参照参考答案中的两条思路 https://leetcode.com/problems/3sum-smaller/solution/\n",
    "* 参考上述答案 for complexities。\n",
    "\n",
    "### 编程经验\n",
    "\n",
    "```python\n",
    "```"
   ]
  },
  {
   "cell_type": "markdown",
   "metadata": {},
   "source": [
    "# Method #1: two points"
   ]
  },
  {
   "cell_type": "code",
   "execution_count": 15,
   "metadata": {
    "collapsed": true
   },
   "outputs": [],
   "source": [
    "class Solution(object):\n",
    "    def threeSumSmaller(self, nums, target):\n",
    "        \"\"\"\n",
    "        :type nums: List[int]\n",
    "        :type target: int\n",
    "        :rtype: int\n",
    "        \"\"\"\n",
    "        rst = 0\n",
    "        nn  = len (nums)\n",
    "        if nn < 3:\n",
    "            return rst \n",
    "        \n",
    "        nums.sort ()\n",
    "        for i in xrange (nn - 2):\n",
    "            l, r = i + 1, nn - 1\n",
    "            \n",
    "            while l < r:\n",
    "                s = nums[i] + nums[l] + nums[r]\n",
    "                \n",
    "                if s < target:\n",
    "                    rst += r - l\n",
    "                    l += 1\n",
    "                else:\n",
    "                    r -= 1                 \n",
    "        return rst          "
   ]
  },
  {
   "cell_type": "code",
   "execution_count": 16,
   "metadata": {
    "collapsed": false
   },
   "outputs": [
    {
     "name": "stdout",
     "output_type": "stream",
     "text": [
      "2\n"
     ]
    }
   ],
   "source": [
    "if __name__ == '__main__':\n",
    "    print Solution().threeSumSmaller ( [-2, 0, 1, 3], 2 )"
   ]
  },
  {
   "cell_type": "markdown",
   "metadata": {},
   "source": [
    "# Method #2: binary search\n",
    "* time complexity 并不好，只是可以参借鉴思路 https://leetcode.com/problems/3sum-smaller/solution/"
   ]
  }
 ],
 "metadata": {
  "kernelspec": {
   "display_name": "Python 2",
   "language": "python",
   "name": "python2"
  },
  "language_info": {
   "codemirror_mode": {
    "name": "ipython",
    "version": 2
   },
   "file_extension": ".py",
   "mimetype": "text/x-python",
   "name": "python",
   "nbconvert_exporter": "python",
   "pygments_lexer": "ipython2",
   "version": "2.7.13"
  }
 },
 "nbformat": 4,
 "nbformat_minor": 2
}

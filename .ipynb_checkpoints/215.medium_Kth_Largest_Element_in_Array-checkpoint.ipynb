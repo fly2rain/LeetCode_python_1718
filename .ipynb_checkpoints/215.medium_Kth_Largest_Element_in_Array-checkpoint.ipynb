{
 "cells": [
  {
   "cell_type": "markdown",
   "metadata": {},
   "source": [
    "# 215.medium_Kth_Largest_Element_in_Array\n",
    "### 链接\n",
    "\n",
    "* 题目：https://leetcode.com/problems/kth-largest-element-in-an-array/description/\n",
    "\n",
    "### 题意\n",
    "* 正如题意\n",
    "* 注意：$1 \\leq k \\leq n$，这里 $n$ 表示 array's length.\n",
    "\n",
    "### 分析\n",
    "* 看了解答有很多解法：冒泡，selection sort，quicksort \n",
    "* https://leetcode.com/problems/kth-largest-element-in-an-array/discuss/\n",
    "\n",
    "\n",
    "### 编程经验\n",
    "\n",
    "```python\n",
    "```"
   ]
  },
  {
   "cell_type": "markdown",
   "metadata": {},
   "source": [
    "# Method #1"
   ]
  },
  {
   "cell_type": "code",
   "execution_count": 27,
   "metadata": {
    "collapsed": true
   },
   "outputs": [],
   "source": [
    "class Solution(object):\n",
    "    #     def findKthLargest(self, nums, k):\n",
    "    #         \"\"\"\n",
    "    #         :type nums: List[int]\n",
    "    #         :type k: int\n",
    "    #         :rtype: int\n",
    "    #         \"\"\"\n",
    "    \n",
    "    # Method#1: bubble sort. Runtime complexity: O(nk)\n",
    "    def findKthLargest_1 ( self, nums, k ):\n",
    "        # 十分小心边界\n",
    "        for i in xrange ( k ):\n",
    "            for j in xrange ( len(nums) - i - 1 ): # 想极端例子，k=1时\n",
    "                if nums[j] > nums[j+1]:\n",
    "                    nums[j], nums[j+1] = nums[j+1], nums[j]\n",
    "        return nums[-k]\n",
    "    \n",
    "    # Method#2: selection sort. Runtime complexity: O(nk)\n",
    "    def findKthLargest_2 ( self, nums, k ): \n",
    "        \n",
    "        for i in xrange (k):\n",
    "            tmp = 0\n",
    "            for j in xrange ( len(nums) - i - 1 ):\n",
    "                if nums[tmp] < nums[j]:\n",
    "                    tmp = j\n",
    "                    \n",
    "            nums[tmp], nums[-(i+1)] = nums[-(i+1)], nums[tmp]\n",
    "            \n",
    "        return nums[-k]\n",
    "    \n",
    "    # Method#3: use default sort. Runtime complexity: O(nlogn)\n",
    "    def findKthLargest_3 (self, nums, k):\n",
    "        nums.sort ()\n",
    "        return nums[-k]\n",
    "        "
   ]
  },
  {
   "cell_type": "code",
   "execution_count": 29,
   "metadata": {},
   "outputs": [
    {
     "name": "stdout",
     "output_type": "stream",
     "text": [
      "5\n",
      "5\n",
      "5\n"
     ]
    }
   ],
   "source": [
    "if __name__ == '__main__':\n",
    "    print Solution ().findKthLargest_1 ([3,2,1,5,6,4], 2)\n",
    "    print Solution ().findKthLargest_2 ([3,2,1,5,6,4], 2)\n",
    "    print Solution ().findKthLargest_3 ([3,2,1,5,6,4], 2)"
   ]
  },
  {
   "cell_type": "markdown",
   "metadata": {},
   "source": [
    "# Method #2"
   ]
  },
  {
   "cell_type": "code",
   "execution_count": null,
   "metadata": {
    "collapsed": true
   },
   "outputs": [],
   "source": []
  }
 ],
 "metadata": {
  "kernelspec": {
   "display_name": "Python 2",
   "language": "python",
   "name": "python2"
  },
  "language_info": {
   "codemirror_mode": {
    "name": "ipython",
    "version": 2
   },
   "file_extension": ".py",
   "mimetype": "text/x-python",
   "name": "python",
   "nbconvert_exporter": "python",
   "pygments_lexer": "ipython2",
   "version": "2.7.13"
  }
 },
 "nbformat": 4,
 "nbformat_minor": 2
}

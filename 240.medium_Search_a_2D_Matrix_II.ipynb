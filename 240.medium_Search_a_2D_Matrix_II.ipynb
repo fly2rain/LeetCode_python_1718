{
 "cells": [
  {
   "cell_type": "markdown",
   "metadata": {},
   "source": [
    "# 240.medium_Search_a_2D_Matrix_II\n",
    "### 链接\n",
    "\n",
    "* 题目：https://leetcode.com/problems/search-a-2d-matrix-ii/description/\n",
    "\n",
    "### 题意\n",
    "* 搜索 2D matrix，确定 matrix 中是否存在某个元素？\n",
    "* 矩阵的性质：$m\\times n$, \n",
    "    * Integers in each row are sorted in ascending from left to right.\n",
    "    * Integers in each column are sorted in ascending from top to bottom. \n",
    "    * 理解矩阵性质，网页中的例子非常清晰。\n",
    "\n",
    "### 分析\n",
    "* 题意简单，但是怎么和 D & C 联系起来了呢？简化为 1-D binary search 问题，简单，但是没有充分利用矩阵的性质。\n",
    "\n",
    "### 编程经验\n",
    "\n",
    "1. 关于 mid-point 的例子 \n",
    "```python\n",
    "(l + r) // 2      # 容易溢出\n",
    "l + (r - l) // 2  # 比较好，不易溢出\n",
    "```\n",
    "\n",
    "2. 判断 2D matrix 是否为空\n",
    "\n",
    "```python\n",
    "# 虽然代码麻烦，但是高效。。。。\n",
    "nr = len ( matrix )\n",
    "if nr == 0:  # 判断 [] 的情况，太变态了，尽然输入是 1D array\n",
    "    return False\n",
    "nc = len ( matrix[0] ) \n",
    "if nr == 1 and nc == 0: # 判断 [[ ]] 的情况\n",
    "    return False\n",
    "    \n",
    "# 以下表达更加清晰, 但是费时。。。\n",
    "if not sum (matrix, []): # 这里 sum(, []) 是拼接的意思，类似于 vectorization\n",
    "    return False \n",
    "```"
   ]
  },
  {
   "cell_type": "markdown",
   "metadata": {},
   "source": [
    "# Method #1: （235ms）\n",
    "* "
   ]
  },
  {
   "cell_type": "code",
   "execution_count": 24,
   "metadata": {
    "collapsed": true
   },
   "outputs": [],
   "source": [
    "class Solution(object):\n",
    "    def searchMatrix(self, matrix, target):\n",
    "        \"\"\"\n",
    "        :type matrix: List[List[int]]\n",
    "        :type target: int\n",
    "        :rtype: bool\n",
    "        \"\"\"\n",
    "        # 判断矩阵是否为空矩阵；虽然代码麻烦，但是高效。。。。\n",
    "        nr = len ( matrix )\n",
    "        if nr == 0:  # 判断 [] 的情况，太变态了，尽然输入是 1D array\n",
    "            return False\n",
    "        else:\n",
    "            nc = len ( matrix[0] ) \n",
    "            if nr == 1 and nc == 0: # 判断 [[ ]] 的情况\n",
    "                return False\n",
    "        \n",
    "        for i in xrange (nr):\n",
    "            if self.binarySearch_1d (matrix[i], 0, nc-1, target):\n",
    "                return True\n",
    "            \n",
    "        return False\n",
    "    \n",
    "    \n",
    "    def binarySearch_1d (self, nums, l, r, target):\n",
    "    ## 1D binary search -----    \n",
    "        # --- base case ---\n",
    "        if r < l:\n",
    "            return False\n",
    "        if l == r and nums[l] != target:\n",
    "            return False\n",
    "        \n",
    "        # divide & conquer and combine\n",
    "        m = (r - l) // 2 + l # 两个数直接相加 容易 over-flow \n",
    "        if nums[m] < target:\n",
    "            # --- left half array ---\n",
    "            return self.binarySearch_1d (nums, m + 1, r, target)\n",
    "        elif nums[m] > target:\n",
    "            # --- right half array ---\n",
    "            return self.binarySearch_1d (nums, l, m - 1, target)\n",
    "        else: # --- 如果相等，直接退出 ---\n",
    "            return True"
   ]
  },
  {
   "cell_type": "code",
   "execution_count": 25,
   "metadata": {},
   "outputs": [
    {
     "name": "stdout",
     "output_type": "stream",
     "text": [
      "True\n",
      "False\n",
      "False\n"
     ]
    }
   ],
   "source": [
    "if __name__ == '__main__':\n",
    "    print Solution ().searchMatrix ( [[1,4,7,11,15],[2,5,8,12,19],[3,6,9,16,22],\n",
    "                                  [10,13,14,17,24],[18,21,23,26,30]], 5)\n",
    "    print Solution ().searchMatrix ( [[1,4,7,11,15],[2,5,8,12,19],[3,6,9,16,22],\n",
    "                                  [10,13,14,17,24],[18,21,23,26,30]], 20)\n",
    "    \n",
    "    print Solution ().searchMatrix ( [[]], 20)"
   ]
  },
  {
   "cell_type": "markdown",
   "metadata": {},
   "source": [
    "# Method #2 (optimal)\n",
    "* 分析非常精辟 https://discuss.leetcode.com/topic/19699/6-9-lines-c-python-solutions-with-explanations/2\n",
    "* 值得时时观看，借鉴。"
   ]
  },
  {
   "cell_type": "code",
   "execution_count": null,
   "metadata": {
    "collapsed": true
   },
   "outputs": [],
   "source": [
    "class Solution:\n",
    "    # @param {integer[][]} matrix\n",
    "    # @param {integer} target\n",
    "    # @return {boolean}\n",
    "    def searchMatrix(self, matrix, target):\n",
    "        \n",
    "        # 判断空矩阵，比如 [] 和 [[ ]] 的情况 \n",
    "        m = len (matrix)\n",
    "        if m == 0:\n",
    "            return False\n",
    "        n = len (matrix[0])\n",
    "        if m == 1 and n == 0:\n",
    "            return False\n",
    "        \n",
    "        r, c = 0, n - 1\n",
    "        while r < m and c >= 0:\n",
    "            if matrix[r][c] == target:\n",
    "                return True\n",
    "            if matrix[r][c] > target:\n",
    "                c -= 1\n",
    "            else: \n",
    "                r += 1\n",
    "        return False"
   ]
  },
  {
   "cell_type": "markdown",
   "metadata": {},
   "source": [
    "# 2. Binary Search for a given sorted array in ascending\n",
    "Two methods：\n",
    "* while loop\n",
    "* recursive search\n",
    "\n",
    "### 编程经验\n",
    "``` python \n",
    "m = l + (r - l) // 2  \n",
    "# l, r 表示 nums 中的 index，对于上述分析，有以下分类讨论：\n",
    "# * 如果 r = l, 那么 m = l\n",
    "# * 如果 r = l + 1, 那么 m = l\n",
    "# * 如果 r = l + 2， 那么 m = l + 1\n",
    "# * 如果 r = l + x (x >= 2)， 那么 $m \\in (l, r)$, 开集\n",
    "```"
   ]
  },
  {
   "cell_type": "code",
   "execution_count": 31,
   "metadata": {},
   "outputs": [
    {
     "name": "stdout",
     "output_type": "stream",
     "text": [
      "False\n",
      "True\n"
     ]
    }
   ],
   "source": [
    "# optimial version: 1D binary search via the while loop \n",
    "#  * 同等情况，while loop 额外开销少；因为它不需要总是的入栈出栈操作。\n",
    "#  * 用 while loop，使用 index，不会像有些 recursive 版本，需要 extra space\n",
    "#  * 省去 l == r 的情况，一并在 while 中处理了。\n",
    "# complexity: nlogm\n",
    "def binarySearch_loop (nums, target):\n",
    "    \n",
    "    if not nums:\n",
    "        return False\n",
    "    \n",
    "    l, r = 0, len(nums) - 1\n",
    "    # 多个\"等于\"就完事了，能够把 l == r 的情况也考虑进去\n",
    "    while l <= r: \n",
    "        m = l + (r - l) // 2   \n",
    "        if nums[m] < target:\n",
    "            l = m + 1\n",
    "        elif nums[m] > target:\n",
    "            r = m - 1 # 因为有条件 l <= r, 所以 r = m - 1 即使有时 r = l - 1 也是没有问题的\n",
    "        else:\n",
    "            return True\n",
    "    return False\n",
    "\n",
    "testlist = [0, 1, 2, 8, 13, 17, 19, 32, 42,]\n",
    "print binarySearch_recursive(testlist, 3)\n",
    "print binarySearch_recursive(testlist, 13)"
   ]
  },
  {
   "cell_type": "code",
   "execution_count": 30,
   "metadata": {},
   "outputs": [
    {
     "name": "stdout",
     "output_type": "stream",
     "text": [
      "False\n",
      "True\n"
     ]
    }
   ],
   "source": [
    "# 1D binary search via the while loop \n",
    "# * 多了 if l == r 的讨论，code 冗长了一些。\n",
    "def binarySearch_loop (nums, target):\n",
    "    \n",
    "    if not nums:\n",
    "        return False\n",
    "    \n",
    "    l, r = 0, len(nums) - 1\n",
    "    if l == r and nums[l] != target:\n",
    "        return False\n",
    "    \n",
    "    while l < r: # 多个等于就完事了，不需要\n",
    "        m = l + (r - l) // 2\n",
    "        x = nums[m]\n",
    "        \n",
    "        if x < target:\n",
    "            l = m + 1\n",
    "        elif x > target:\n",
    "            r = m - 1\n",
    "        else:\n",
    "            return True\n",
    "    return False\n",
    "\n",
    "testlist = [0, 1, 2, 8, 13, 17, 19, 32, 42,]\n",
    "print binarySearch_recursive(testlist, 3)\n",
    "print binarySearch_recursive(testlist, 13)"
   ]
  },
  {
   "cell_type": "code",
   "execution_count": 29,
   "metadata": {},
   "outputs": [
    {
     "name": "stdout",
     "output_type": "stream",
     "text": [
      "False\n",
      "True\n"
     ]
    }
   ],
   "source": [
    "# 1D binary search via the recursive functions \n",
    "# 有额外存储开销的方法 ----\n",
    "# 注意 index 界限。\n",
    "# http://interactivepython.org/runestone/static/pythonds/SortSearch/TheBinarySearch.html\n",
    "def binarySearch_recursive (nums, target):\n",
    "    \n",
    "    if len (nums) == 0:\n",
    "        return False\n",
    "    else:\n",
    "        \n",
    "        m = len(nums) // 2\n",
    "        \n",
    "        if nums[m] == target:\n",
    "            return True\n",
    "        elif nums[m] > target:\n",
    "            return binarySearch_recursive (nums[:m], target)\n",
    "        else:\n",
    "            return binarySearch_recursive (nums[m+1:], target)\n",
    "        \n",
    "testlist = [0, 1, 2, 8, 13, 17, 19, 32, 42,]\n",
    "print binarySearch_recursive(testlist, 3)\n",
    "print binarySearch_recursive(testlist, 13)"
   ]
  }
 ],
 "metadata": {
  "kernelspec": {
   "display_name": "Python 2",
   "language": "python",
   "name": "python2"
  },
  "language_info": {
   "codemirror_mode": {
    "name": "ipython",
    "version": 2
   },
   "file_extension": ".py",
   "mimetype": "text/x-python",
   "name": "python",
   "nbconvert_exporter": "python",
   "pygments_lexer": "ipython2",
   "version": "2.7.13"
  }
 },
 "nbformat": 4,
 "nbformat_minor": 2
}

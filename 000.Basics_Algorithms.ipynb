{
 "cells": [
  {
   "cell_type": "markdown",
   "metadata": {},
   "source": [
    "# 1. Sort \n",
    "### 链接\n",
    "\n",
    "* wiki-link: https://en.wikipedia.org/wiki/Sorting_algorithm\n",
    "\n",
    "## Quicksort ()"
   ]
  },
  {
   "cell_type": "code",
   "execution_count": 2,
   "metadata": {},
   "outputs": [
    {
     "name": "stdout",
     "output_type": "stream",
     "text": [
      "[1, 1, 2, 3, 6, 8, 10]\n"
     ]
    }
   ],
   "source": [
    "## 这不是 in-place sorting，不是很好。最后还是要\n",
    "def quicksort(arr):\n",
    "    if len(arr) <= 1:\n",
    "        return arr\n",
    "    # 找到\n",
    "    pivot = arr[len(arr) // 2]\n",
    "    left = [x for x in arr if x < pivot]\n",
    "    middle = [x for x in arr if x == pivot]\n",
    "    right = [x for x in arr if x > pivot]\n",
    "    return quicksort(left) + middle + quicksort(right)\n",
    "\n",
    "print(quicksort([3,6,8,10,1,2,1]))"
   ]
  },
  {
   "cell_type": "code",
   "execution_count": null,
   "metadata": {
    "collapsed": true
   },
   "outputs": [],
   "source": [
    "#=======================================================================\n",
    "#  Author: Isai Damier\n",
    "#  Title: QuickSort\n",
    "#  Project: geekviewpoint\n",
    "#  Package: algorithm.sorting\n",
    "#\n",
    "#  Statement: Given a disordered list of integers (or any other items),\n",
    "#  rearrange the integers in natural order.\n",
    "#\n",
    "#  Sample Input: [8,5,3,1,9,6,0,7,4,2]\n",
    "#\n",
    "#  Sample Output: [0,1,2,3,4,5,6,7,8,9]\n",
    "#\n",
    "#  Time Complexity of Solution:\n",
    "#  Best = Average = O(nlog(n)); Worst = O(n^2).\n",
    "#=======================================================================\n",
    "# http://www.geekviewpoint.com/python/sorting/quicksort\n",
    "import random\n",
    " \n",
    "def quicksort( aList ):\n",
    "    _quicksort( aList, 0, len( aList ) - 1 )\n",
    " \n",
    "def _quicksort( aList, first, last ):\n",
    "    if first < last:\n",
    "      pivot = partition( aList, first, last )\n",
    "      _quicksort( aList, first, pivot - 1 )\n",
    "      _quicksort( aList, pivot + 1, last )\n",
    " \n",
    " \n",
    "def partition( aList, first, last ) :\n",
    "    pivot = first + random.randrange( last - first + 1 )\n",
    "    swap( aList, pivot, last )\n",
    "    for i in range( first, last ):\n",
    "      if aList[i] <= aList[last]:\n",
    "        swap( aList, i, first )\n",
    "        first += 1\n",
    " \n",
    "    swap( aList, first, last )\n",
    "    return first\n",
    " \n",
    " \n",
    "def swap( A, x, y ):\n",
    "  A[x],A[y]=A[y],A[x]"
   ]
  },
  {
   "cell_type": "markdown",
   "metadata": {},
   "source": [
    "# Method # 1"
   ]
  },
  {
   "cell_type": "code",
   "execution_count": null,
   "metadata": {
    "collapsed": true
   },
   "outputs": [],
   "source": []
  },
  {
   "cell_type": "code",
   "execution_count": null,
   "metadata": {
    "collapsed": true
   },
   "outputs": [],
   "source": [
    "#  Testing ----\n",
    "if __name__ == '__main__':\n",
    "    print Solution_2 (). "
   ]
  },
  {
   "cell_type": "markdown",
   "metadata": {},
   "source": [
    "# Method # 2"
   ]
  },
  {
   "cell_type": "code",
   "execution_count": 6,
   "metadata": {
    "collapsed": true
   },
   "outputs": [],
   "source": []
  },
  {
   "cell_type": "code",
   "execution_count": 7,
   "metadata": {},
   "outputs": [
    {
     "name": "stdout",
     "output_type": "stream",
     "text": [
      "[0, 1]\n"
     ]
    }
   ],
   "source": [
    "#  Testing ----\n",
    "if __name__ == '__main__':\n",
    "    print Solution_2 ()."
   ]
  }
 ],
 "metadata": {
  "kernelspec": {
   "display_name": "Python 2",
   "language": "python",
   "name": "python2"
  },
  "language_info": {
   "codemirror_mode": {
    "name": "ipython",
    "version": 2
   },
   "file_extension": ".py",
   "mimetype": "text/x-python",
   "name": "python",
   "nbconvert_exporter": "python",
   "pygments_lexer": "ipython2",
   "version": "2.7.13"
  }
 },
 "nbformat": 4,
 "nbformat_minor": 2
}

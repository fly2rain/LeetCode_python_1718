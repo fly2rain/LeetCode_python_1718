{
 "cells": [
  {
   "cell_type": "markdown",
   "metadata": {},
   "source": [
    "# 448.easy_Find_All_Numbers_Disappeared_Array\n",
    "### 链接\n",
    "\n",
    "* 题目：https://leetcode.com/problems/find-all-numbers-disappeared-in-an-array/description/\n",
    "\n",
    "### 题意\n",
    "* 给定 array，其中所有元素满足 1 ≤ a[i] ≤ n (n = size of array)，因此有些元素出现两次，有些出现一次，有的未出现。现在的问题是找出未出现的元素。\n",
    "* 要求：O(n) runtime, no extra space\n",
    "\n",
    "### 分析\n",
    "* 根据runtime要求，只能只一重 for 循环，不能 sorted，不能用 dict或额外 list等。\n",
    "* 如果能 sort 按该问题非常简单，但是runtime O(nlogn)。\n",
    "* 应该抓住出现“有的元素出现两次，有的出现一次”的信息。\n",
    "\n",
    "### 编程经验\n",
    "\n",
    "```python\n",
    "```"
   ]
  },
  {
   "cell_type": "markdown",
   "metadata": {},
   "source": [
    "# Method # 1：放宽要求，nlogn linear space, no extra space \n",
    "* 总结：逻辑很简单，但还是很容易出现各种错误。\n",
    "* range (x+1,y) # 从下一个到前一个。"
   ]
  },
  {
   "cell_type": "code",
   "execution_count": 43,
   "metadata": {},
   "outputs": [],
   "source": [
    "class Solution(object):\n",
    "    def findDisappearedNumbers(self, nums):\n",
    "        \"\"\"\n",
    "        :type nums: List[int]\n",
    "        :rtype: List[int]\n",
    "        \"\"\"\n",
    "        rst = []\n",
    "        if not nums: return rst\n",
    "        \n",
    "        nums.sort ()\n",
    "        # print nums\n",
    "        for i in xrange(len(nums) - 1):\n",
    "            x = nums[i]\n",
    "            y = nums[i+1]\n",
    "            if x==y or x+1==y:\n",
    "                continue\n",
    "            rst += range (x+1,y) # be extremely careful with the border\n",
    "            \n",
    "        if nums[-1] < len(nums):\n",
    "            print range ( nums[-1]+1, len(nums)+1 )\n",
    "            rst += range ( nums[-1]+1, len(nums)+1 )\n",
    "    \n",
    "        return rst"
   ]
  },
  {
   "cell_type": "code",
   "execution_count": 42,
   "metadata": {},
   "outputs": [
    {
     "name": "stdout",
     "output_type": "stream",
     "text": [
      "[9]\n",
      "[5, 6, 9]\n"
     ]
    }
   ],
   "source": [
    "#  Testing ----\n",
    "if __name__ == '__main__':\n",
    "    print Solution ().findDisappearedNumbers ([4,3,2,7,8,2,3,1,8\n",
    "                                              ])"
   ]
  },
  {
   "cell_type": "markdown",
   "metadata": {},
   "source": [
    "# Method # 2：放宽要求，linear runtime & space\n",
    "* 往往得用上 dict，array 是 unordered 的。"
   ]
  },
  {
   "cell_type": "code",
   "execution_count": 31,
   "metadata": {
    "collapsed": true
   },
   "outputs": [],
   "source": [
    "class Solution2 (object):\n",
    "    def findDisappearedNumbers(self, nums):\n",
    "        \"\"\"\n",
    "        :type nums: List[int]\n",
    "        :rtype: List[int]\n",
    "        \"\"\"\n",
    "        dic = {}\n",
    "        for i in xrange (1, len(nums) + 1):\n",
    "            dic[i] = i \n",
    "        \n",
    "        for x in nums:\n",
    "            if x in dic:\n",
    "                del dic[x]\n",
    "        \n",
    "        rst = dic.keys()\n",
    "        return rst "
   ]
  },
  {
   "cell_type": "code",
   "execution_count": 32,
   "metadata": {},
   "outputs": [
    {
     "name": "stdout",
     "output_type": "stream",
     "text": [
      "[5, 6]\n"
     ]
    }
   ],
   "source": [
    "#  Testing ----\n",
    "if __name__ == '__main__':\n",
    "    print Solution2 ().findDisappearedNumbers ([4,3,2,7,8,2,3,1])"
   ]
  },
  {
   "cell_type": "markdown",
   "metadata": {},
   "source": [
    "# Method # 3：optimal, linear runtime, no extra space\n",
    "* 想法很巧妙：利用 index 是连续的特性，通过判断"
   ]
  },
  {
   "cell_type": "code",
   "execution_count": null,
   "metadata": {
    "collapsed": true
   },
   "outputs": [],
   "source": [
    "class Solution(object):\n",
    "    def findDisappearedNumbers(self, nums):\n",
    "        \"\"\"\n",
    "        :type nums: List[int]\n",
    "        :rtype: List[int]\n",
    "        \"\"\"\n",
    "        # For each number i in nums,\n",
    "        # we mark the number that i points as negative.\n",
    "        # Then we filter the list, get all the indexes\n",
    "        # who points to a positive number\n",
    "        for i in xrange(len(nums)):\n",
    "            index = abs(nums[i]) - 1\n",
    "            nums[index] = - abs(nums[index])\n",
    "\n",
    "        return [i + 1 for i in range(len(nums)) if nums[i] > 0]"
   ]
  }
 ],
 "metadata": {
  "kernelspec": {
   "display_name": "Python 2",
   "language": "python",
   "name": "python2"
  },
  "language_info": {
   "codemirror_mode": {
    "name": "ipython",
    "version": 2
   },
   "file_extension": ".py",
   "mimetype": "text/x-python",
   "name": "python",
   "nbconvert_exporter": "python",
   "pygments_lexer": "ipython2",
   "version": "2.7.13"
  }
 },
 "nbformat": 4,
 "nbformat_minor": 2
}

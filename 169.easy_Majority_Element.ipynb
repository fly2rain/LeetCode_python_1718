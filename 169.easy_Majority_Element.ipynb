{
 "cells": [
  {
   "cell_type": "markdown",
   "metadata": {},
   "source": [
    "# 169.easy_Majority_Element\n",
    "### 链接\n",
    "\n",
    "* 题目：https://leetcode.com/problems/majority-element/description/\n",
    "\n",
    "### 题意\n",
    "* Given an array of size n, find the majority element. The majority element is the element that appears more than ⌊ n/2 ⌋ times.\n",
    "* Assumptions: the array is **non-empty** and the majority element always exist in the array.\n",
    "\n",
    "### 分析\n",
    "* 题意简单，但是怎么和 D & C 联系起来了呢？\n",
    "\n",
    "### 编程经验\n",
    "\n",
    "```python\n",
    "if left_cnt > right_cnt:\n",
    "    return left\n",
    "else:\n",
    "    return right\n",
    "```\n",
    "等价于以下简洁的代码\n",
    "``` python\n",
    "return left if left_cnt > right_cnt else right\n",
    "```"
   ]
  },
  {
   "cell_type": "markdown",
   "metadata": {},
   "source": [
    "# Method #1\n",
    "* 利用 hash 的方法，\n",
    "* space complexity & time complexity 均是 O(n)\n",
    "* 如何和 D & C 结合呢？"
   ]
  },
  {
   "cell_type": "code",
   "execution_count": null,
   "metadata": {
    "collapsed": true
   },
   "outputs": [],
   "source": [
    "class Solution(object):\n",
    "    def majorityElement(self, nums):\n",
    "        \"\"\"\n",
    "        :type nums: List[int]\n",
    "        :rtype: int\n",
    "        \"\"\"\n",
    "        dic = {}\n",
    "        nn  = len (nums)\n",
    "        for x in nums:\n",
    "            if x in dic:\n",
    "                dic[x] += 1\n",
    "            else:\n",
    "                dic[x] = 1\n",
    "                \n",
    "            if dic[x] > nn // 2: # 这层 if 放在 上一个 if 的外面，万一 nums 只存在一个元素\n",
    "                    return x # 因此必定存在 majority element 这样也就够了。"
   ]
  },
  {
   "cell_type": "code",
   "execution_count": null,
   "metadata": {
    "collapsed": true
   },
   "outputs": [],
   "source": [
    "if __name__ == '__main__'\n",
    "print Solution ()."
   ]
  },
  {
   "cell_type": "markdown",
   "metadata": {},
   "source": [
    "# Method #2\n",
    "* python class 中 定义函数时，self 是第一个输入参数，调用时 self.\n",
    "* python class 中定义 recursive 时，有个 self 比较讨厌。\n",
    "\n",
    "## 核心理念：\n",
    "* Note that because actually passing copies of subarrays costs time and space, we instead pass $lo$ and $hi$ indices that describe the **relevant slice** of the overall array. \n",
    "* In this case, the majority element for a length-1 slice is trivially (琐碎地) its only element, so the recursion stops there. \n",
    "* If the current slice is longer than length-1, we must combine the answers for the slice's left and right halves. \n",
    "    * If they agree on the majority element, then the majority element for the overall slice is obviously the same1.\n",
    "    * If they disagree, only one of them can be \"right\", so we need to count the occurrences of the left and right majority elements to determine which subslice's answer is globally correct. \n",
    "* The overall answer for the array is thus the majority element between indices 0 and nn.\n",
    "\n",
    "## 复杂度分析\n",
    "* Time complexity : $O(nlgn)$\n",
    "* Space complexity : $O(lgn)$. Although the divide & conquer does not explicitly allocate any additional memory, it uses a non-constant amount of additional memory in stack frames due to recursion. Because the algorithm \"cuts\" the array in half at each level of recursion, it follows that there can only be $O(lgn)$ \"cuts\" before the base case of 1 is reached. "
   ]
  },
  {
   "cell_type": "code",
   "execution_count": 17,
   "metadata": {
    "collapsed": true
   },
   "outputs": [],
   "source": [
    "class Solution(object):\n",
    "    def majorityElement(self, nums):\n",
    "        \"\"\"\n",
    "        :type nums: List[int]\n",
    "        :rtype: int\n",
    "        \"\"\"\n",
    "        return self.majorityElement_Recur (nums, 0, len(nums) - 1)\n",
    "    \n",
    "    def majorityElement_Recur (self, nums, l, r):\n",
    "        \n",
    "        ## base case of R & D; the only element in an array of size 1 \n",
    "        # is the majority element.\n",
    "        if l == r:\n",
    "            return nums[l]\n",
    "        \n",
    "        ## divide & conquer ---------\n",
    "        mid = l + (r - l) // 2\n",
    "        # recurse on left and right halves of this slice.\n",
    "        left  = self.majorityElement_Recur (nums, l, mid)\n",
    "        right = self.majorityElement_Recur (nums, mid+1, r) \n",
    "        \n",
    "        ## combine ------------------\n",
    "        # if the two halves agree on the majority element, return it.\n",
    "        if left == right:\n",
    "            return left\n",
    "        # otherwise, count each element and return the \"winner\".\n",
    "        left_cnt  = sum (1 for x in xrange(l,r+1) if nums[x] == left)\n",
    "        right_cnt = sum (1 for x in xrange(l,r+1) if nums[x] == right)\n",
    "        \n",
    "        return left if left_cnt > right_cnt else right"
   ]
  },
  {
   "cell_type": "code",
   "execution_count": 12,
   "metadata": {},
   "outputs": [
    {
     "name": "stdout",
     "output_type": "stream",
     "text": [
      "2\n"
     ]
    }
   ],
   "source": [
    "if __name__ == '__main__':\n",
    "    print Solution ().majorityElement ([1,2,2,2, 3, 4])"
   ]
  }
 ],
 "metadata": {
  "kernelspec": {
   "display_name": "Python 2",
   "language": "python",
   "name": "python2"
  },
  "language_info": {
   "codemirror_mode": {
    "name": "ipython",
    "version": 2
   },
   "file_extension": ".py",
   "mimetype": "text/x-python",
   "name": "python",
   "nbconvert_exporter": "python",
   "pygments_lexer": "ipython2",
   "version": "2.7.13"
  }
 },
 "nbformat": 4,
 "nbformat_minor": 2
}

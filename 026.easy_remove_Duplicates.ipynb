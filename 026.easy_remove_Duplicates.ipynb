{
 "cells": [
  {
   "cell_type": "markdown",
   "metadata": {},
   "source": [
    "# 026. Remove Duplicates from Sorted Array_easy\n",
    "### 链接\n",
    "\n",
    "* 题目：https://leetcode.com/problems/remove-duplicates-from-sorted-array/description/\n",
    "\n",
    "给定sorted array，in-places 去重，return new length\n",
    "\n",
    "### 分析\n",
    "* 很简单，不断的和前一个对比就行。一般想法会开一个新的array。但这里其实不用，只需要管理一个\n",
    "\n",
    "### 总结\n",
    "* 别光估着计算新 array的 length，而忘记 in-place 去重操作。\n",
    "* 如果给定的不是 sorted array，貌似非常难 in-place 去重。但是可通过开新的 array 降低复杂度。"
   ]
  },
  {
   "cell_type": "markdown",
   "metadata": {},
   "source": [
    "# Method # 1"
   ]
  },
  {
   "cell_type": "code",
   "execution_count": null,
   "metadata": {
    "collapsed": true
   },
   "outputs": [],
   "source": [
    "class Solution(object):\n",
    "    def removeDuplicates(self, nums):\n",
    "        \"\"\"\n",
    "        :type nums: List[int]\n",
    "        :rtype: int\n",
    "        \"\"\"\n",
    "        rst   = 0\n",
    "        for i in xrange (len(nums)):\n",
    "            if i > 0 and nums[i] == nums[i-1]:\n",
    "                continue\n",
    "            nums[rst] = nums[i]\n",
    "            rst += 1\n",
    "        return rst"
   ]
  },
  {
   "cell_type": "code",
   "execution_count": 7,
   "metadata": {},
   "outputs": [
    {
     "name": "stdout",
     "output_type": "stream",
     "text": [
      "(2, [1, 2, 2])\n"
     ]
    }
   ],
   "source": [
    "#  Testing ----\n",
    "if __name__ == '__main__':\n",
    "    print Solution ().removeDuplicates ( [1,1,2] ) "
   ]
  }
 ],
 "metadata": {
  "kernelspec": {
   "display_name": "Python 2",
   "language": "python",
   "name": "python2"
  },
  "language_info": {
   "codemirror_mode": {
    "name": "ipython",
    "version": 2
   },
   "file_extension": ".py",
   "mimetype": "text/x-python",
   "name": "python",
   "nbconvert_exporter": "python",
   "pygments_lexer": "ipython2",
   "version": "2.7.13"
  }
 },
 "nbformat": 4,
 "nbformat_minor": 2
}

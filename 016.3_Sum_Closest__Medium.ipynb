{
 "cells": [
  {
   "cell_type": "markdown",
   "metadata": {},
   "source": [
    "# 16. 3Sum Closest （medium）\n",
    "### 链接\n",
    "\n",
    "* 题目：https://leetcode.com/problems/3sum-closest/description/\n",
    "\n",
    "### 题意\n",
    "\n",
    "找出数组中所有三个数的组合，它们之和最接近 target，这里已经假设唯一存在。鉴于需要返回最小的和，而不是最小和对应的三个元素，该假设没有影响。\n",
    "\n",
    "### 分析\n",
    "* 因为只输出最小和（而不是最小和的三个元素），因此比 3sum 更简单。\n",
    "* 先排序，再左右夹逼。排序的平均复杂度是 O(n\\*n)，左右夹逼的复杂度是 O (n\\*n), 总复杂度是 O(n\\*n)\n",
    "* N-sum 的题目度可以用夹逼来做，复杂度降一维。\n",
    "\n",
    "### 编程经验\n",
    "**运行前，保留第一个**\n",
    "```python\n",
    "if i > 0 and x[i] == x[i-1]:\n",
    "    continue\n",
    "```\n",
    "\n",
    "** 不能有 **\n",
    "```python\n",
    "x = x.sort () # 错， 这是 in-place sort，不返回值\n",
    "x.sort () # 正确方式\n",
    "x = sorted (x) # 正确方式\n",
    "```"
   ]
  },
  {
   "cell_type": "markdown",
   "metadata": {},
   "source": [
    "# Method # 1 -------------"
   ]
  },
  {
   "cell_type": "code",
   "execution_count": 22,
   "metadata": {},
   "outputs": [],
   "source": [
    "# 左右夹逼\n",
    "class Solution(object):\n",
    "    def threeSumClosest(self, nums, target):\n",
    "        \"\"\"\n",
    "        :type nums: List[int]\n",
    "        :type target: int\n",
    "        :rtype: int\n",
    "        \"\"\" \n",
    "        N   = len (nums)\n",
    "        if N < 3:\n",
    "            return False\n",
    "        \n",
    "        x = nums\n",
    "        x.sort ()\n",
    "        rst = x[0] + x[1] + x[2]\n",
    "        for i in xrange (N-2):\n",
    "            if i > 0 and x[i] == x[i-1]:\n",
    "                continue\n",
    "                \n",
    "            l, r = i + 1, N - 1\n",
    "            while l < r:\n",
    "                s = x[i] + x[l] + x[r]\n",
    "                if s < target:\n",
    "                    l += 1\n",
    "                elif s > target:\n",
    "                    r -= 1\n",
    "                else:\n",
    "                    return s\n",
    "                \n",
    "                if abs (s - target) < abs (rst - target):\n",
    "                    rst = s\n",
    "        return rst"
   ]
  },
  {
   "cell_type": "code",
   "execution_count": 23,
   "metadata": {},
   "outputs": [
    {
     "name": "stdout",
     "output_type": "stream",
     "text": [
      "2\n"
     ]
    }
   ],
   "source": [
    "  #  Testing ----\n",
    "if __name__ == '__main__':\n",
    "    print Solution().threeSumClosest ( [-1, 2, 1, -4], 1 ) "
   ]
  }
 ],
 "metadata": {
  "kernelspec": {
   "display_name": "Python 2",
   "language": "python",
   "name": "python2"
  },
  "language_info": {
   "codemirror_mode": {
    "name": "ipython",
    "version": 2
   },
   "file_extension": ".py",
   "mimetype": "text/x-python",
   "name": "python",
   "nbconvert_exporter": "python",
   "pygments_lexer": "ipython2",
   "version": "2.7.13"
  }
 },
 "nbformat": 4,
 "nbformat_minor": 2
}

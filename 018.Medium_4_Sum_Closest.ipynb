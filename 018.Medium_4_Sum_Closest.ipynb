{
 "cells": [
  {
   "cell_type": "markdown",
   "metadata": {},
   "source": [
    "# 18. 4Sum（medium）\n",
    "### 链接\n",
    "\n",
    "* 题目：https://leetcode.com/problems/4sum/description/\n",
    "\n",
    "### 题意\n",
    "\n",
    "找出数组中所有四个数之和等于 target，注意不要重复。返回是所有四个数的组合\n",
    "\n",
    "### 分析\n",
    "* 先排序，再左右夹逼。排序的平均复杂度是 O(nlog(n))，左右夹逼的复杂度是 O (n\\*n\\*n), 总复杂度是 O(n\\*n\\*n)\n",
    "* N-sum 的题目度可以用夹逼来做，复杂度降一维。\n",
    "\n",
    "### 编程经验\n",
    "\n",
    "\n",
    "* sorted list的好处，一句简单的规则，提前排除掉大量的例子\n",
    "```python\n",
    "# 因为这一句，运行时间从 1069 ms 锐减到 469ms *****\n",
    "        if 4*x[0] > target or 4*x[N-1] < target:\n",
    "            return rst\n",
    "```"
   ]
  },
  {
   "cell_type": "markdown",
   "metadata": {},
   "source": [
    "# Method # 1 --- One function (969 ms)"
   ]
  },
  {
   "cell_type": "code",
   "execution_count": 2,
   "metadata": {},
   "outputs": [
    {
     "ename": "IndentationError",
     "evalue": "expected an indented block (<ipython-input-2-d08b9b9987e9>, line 33)",
     "output_type": "error",
     "traceback": [
      "\u001b[0;36m  File \u001b[0;32m\"<ipython-input-2-d08b9b9987e9>\"\u001b[0;36m, line \u001b[0;32m33\u001b[0m\n\u001b[0;31m    elif s > target:\u001b[0m\n\u001b[0m                    ^\u001b[0m\n\u001b[0;31mIndentationError\u001b[0m\u001b[0;31m:\u001b[0m expected an indented block\n"
     ]
    }
   ],
   "source": [
    "class Solution(object):\n",
    "    def fourSum(self, nums, target):\n",
    "        \"\"\"\n",
    "        :type nums: List[int]\n",
    "        :type target: int\n",
    "        :rtype: List[List[int]]\n",
    "        \"\"\"\n",
    "        rsts = []      \n",
    "        nums.sort ()\n",
    "        self.N_sum ( nums, 0, 4, [], rsts )\n",
    "        return rsts        \n",
    "    \n",
    "    def N_sum (self, nums, target, ns, rst, rsts):\n",
    "        nn = len (nums)\n",
    "        \n",
    "        if nn < ns:\n",
    "            return\n",
    "        if nums[0]*ns > target or nums[-1]*ns < target:\n",
    "            return\n",
    "        \n",
    "        if ns < 2:\n",
    "            return\n",
    "        if ns > 2:\n",
    "            for i in xrange (nn - ns + 1):\n",
    "                if i > 0 and nums[i] == nums[i-1]:\n",
    "                    continue\n",
    "                self.N_sum (nums[i+1:], target-nums[i], rst+[nums[i]], rsts)\n",
    "        else:\n",
    "            l, r = 0, nn - 1\n",
    "            while l < r:\n",
    "                s = nums[l] + nums[r]\n",
    "                if s < target:\n",
    "                    l += 1\n",
    "                elif s > target:\n",
    "                    r -= 1\n",
    "                else:\n",
    "                    rsts.append ( rst + [nums[l], nums[r]] )\n",
    "                    while l < r and nums[l] == nums[l+1]:\n",
    "                        l += 1\n",
    "                    while l < r and nums[r] == nums[r-1]:\n",
    "                        r -= 1\n",
    "                    l += 1\n",
    "                    r -= 1\n",
    "        return"
   ]
  },
  {
   "cell_type": "markdown",
   "metadata": {
    "collapsed": true
   },
   "source": [
    "# 左右夹逼\n",
    "class Solution(object):\n",
    "    def fourSum(self, nums, target):\n",
    "        \"\"\"\n",
    "        :type nums: List[int]\n",
    "        :type target: int\n",
    "        :rtype: List[List[int]]\n",
    "        \"\"\"\n",
    "        rst = []\n",
    "        N   = len (nums)\n",
    "        if N < 4:\n",
    "            return rst\n",
    "        \n",
    "        x = nums\n",
    "        x.sort ()\n",
    "        \n",
    "        # --------------------------------------------\n",
    "        # 因为这一句，运行时间从 1069 ms 锐减到 469ms，sorted list的好处*****\n",
    "        if 4*x[0] > target or 4*x[N-1] < target:\n",
    "            return rst\n",
    "        \n",
    "        for i in xrange (N-3):\n",
    "            if i > 0 and x[i] == x[i-1]:\n",
    "                continue\n",
    "                \n",
    "            # --------------------------------------------\n",
    "            # the most important differences *************  \n",
    "            for j in xrange (i+1, N-2):\n",
    "                if j > i+1 and x[j] == x[j-1]: # 边界很重要\n",
    "                    continue\n",
    "            # --------------------------------------------\n",
    "                l, r = j + 1, N - 1\n",
    "                while l < r:\n",
    "                    s = x[i] + x[j] + x[l] + x[r]\n",
    "                    if s < target:\n",
    "                        l += 1\n",
    "                    elif s > target:\n",
    "                        r -= 1\n",
    "                    else: \n",
    "                        rst.append ([ x[i], x[j], x[l], x[r] ])\n",
    "                        while l < r and x[l] == x[l+1]:\n",
    "                            l += 1\n",
    "                        while l < r and x[r] == x[r-1]:\n",
    "                            r -= 1\n",
    "                        l += 1\n",
    "                        r -= 1\n",
    "        return rst"
   ]
  },
  {
   "cell_type": "code",
   "execution_count": 50,
   "metadata": {},
   "outputs": [
    {
     "name": "stdout",
     "output_type": "stream",
     "text": [
      "[[-2, -1, 1, 2], [-2, 0, 0, 2], [-1, 0, 0, 1]]\n"
     ]
    }
   ],
   "source": [
    "#  Testing ----\n",
    "if __name__ == '__main__':\n",
    "    print Solution().fourSum ( [1, 0, -1, 0, -2, 2], 0 ) "
   ]
  },
  {
   "cell_type": "markdown",
   "metadata": {},
   "source": [
    "# Method #2  --- 4 sum calls 3 sums (1069 ms)"
   ]
  },
  {
   "cell_type": "code",
   "execution_count": 53,
   "metadata": {
    "collapsed": true
   },
   "outputs": [],
   "source": [
    "class Solution_2 (object):\n",
    "    def fourSum (self, nums, target):\n",
    "        \"\"\"\n",
    "        :type nums: List[int]\n",
    "        :type target: int\n",
    "        :rtype: List[List[int]]\n",
    "        \"\"\"\n",
    "        rst = []\n",
    "        N   = len (nums)\n",
    "        if N < 4:\n",
    "            return rst\n",
    "        \n",
    "        nums.sort ()\n",
    "        \n",
    "        if 4*nums[0] > target or 4*nums[-1] < target:\n",
    "            return rst\n",
    "\n",
    "        for i in xrange (N - 3):\n",
    "            if i > 0 and \n",
    "            nums[i] == nums[i-1]:\n",
    "                continue\n",
    "            self.threeSum_4_sortedList (nums[i+1:], nums[i], target, rst)\n",
    "        return rst\n",
    "    \n",
    "    def threeSum_4_sortedList (self, nums, y, target, rst):\n",
    "        \"\"\"\n",
    "        :type nums: List[int]\n",
    "        :type y: int\n",
    "        :type target: int\n",
    "        :rtype: List[List[int]]\n",
    "        \"\"\"\n",
    "        N = len (nums)\n",
    "        if N < 3: \n",
    "            return\n",
    "        \n",
    "        newTarget = target - y\n",
    "        if 3*nums[0] > newTarget or 3*nums[-1] < target:\n",
    "            return\n",
    "        \n",
    "        for i in xrange (N-2):\n",
    "            if i > 0 and nums[i] == nums[i-1]:\n",
    "                continue\n",
    "            \n",
    "            l, r = i + 1, N - 1\n",
    "            while l < r :\n",
    "                s = nums[i] + nums[l] + nums[r]\n",
    "                if s < newTarget:\n",
    "                    l += 1\n",
    "                elif s > target:\n",
    "                    r -= 1\n",
    "                else:\n",
    "                    rst.append ([y, nums[i], nums[l], nums[r]])\n",
    "                    while l < r and nums[l] == nums[l+1]:\n",
    "                        l += 1\n",
    "                    while l < r and nums[r] == nums[r-1]:\n",
    "                        r -= 1\n",
    "                    l += 1\n",
    "                    r -= 1\n",
    "#         return rst#  Testing ----"
   ]
  },
  {
   "cell_type": "code",
   "execution_count": 54,
   "metadata": {},
   "outputs": [
    {
     "name": "stdout",
     "output_type": "stream",
     "text": [
      "[]\n"
     ]
    }
   ],
   "source": [
    "#  Testing ----\n",
    "if __name__ == '__main__':\n",
    "    print Solution_2 ().fourSum ( [1, 0, -1, 0, -2, 2], 0 ) "
   ]
  },
  {
   "cell_type": "markdown",
   "metadata": {},
   "source": [
    "# Method #3 (most important, 105ms）\n",
    "### 问题总结\n",
    "* works for N-sum (N>=2)\n",
    "* Python 105ms beats 100%\n",
    "* recursive reduce N-sum to 2-sum\n",
    "* fast 2-pointer to solve 2-sum\n",
    "* webpage: https://discuss.leetcode.com/topic/22705/python-140ms-beats-100-and-works-for-n-sum-n-2\n",
    "\n",
    "### 经验总结\n",
    "*  N_Sum 函数中的 三个 if (else) 的逻辑比较清晰\n",
    "    * 第1个 if 逻辑，list 中总数少于 n-sum, 则 return\n",
    "    * 第2个 if 逻辑，\n",
    "    * 第3个 if，elif 和 else 的逻辑\n",
    "\n",
    "### 编程技巧\n",
    "* ** 关于取 list 最后一个元素的两种方法 **\n",
    "``` python\n",
    "nums[-1] # list的最后一个元素，类似于 matlab 的 nums[end]\n",
    "nums[len(nums)-1] # 也表示 list 的最后一个元素，显然太复杂了\n",
    "```\n",
    "* 拼接 list\n",
    "```python\n",
    "rst += [ xx[i] ]\n",
    "```\n",
    "* 以下函数 N_Sum 演示了 reference 传参的方法，它类似于 c (cplusplus) 语言中，通过指针和 reference 往回传参。\n",
    "* 递归时，reference 传参注意别串位了。每一次新递归保证能够 restart（reset）"
   ]
  },
  {
   "cell_type": "code",
   "execution_count": 31,
   "metadata": {
    "collapsed": true
   },
   "outputs": [],
   "source": [
    "class Solution_3 (object):\n",
    "    def fourSum (self, nums, target):\n",
    "        \"\"\"\n",
    "        :type nums: List[int]\n",
    "        :type target: int\n",
    "        :rtype: List[List[int]]\n",
    "        \"\"\"\n",
    "        rsts = []\n",
    "        nums.sort ()\n",
    "        self.N_Sum (nums, 4, target, [], rsts )\n",
    "        return rsts\n",
    "        \n",
    "    def N_Sum (self, nums, ns, target, rst, rsts):\n",
    "        \"\"\"\n",
    "        :type nums: List[int]\n",
    "        :type ns: int\n",
    "        :type target: int\n",
    "        :type rst: List[int]\n",
    "        :type rsts: List[List[int]]\n",
    "        \"\"\"\n",
    "        nn = len (nums)\n",
    "        if nn < ns:\n",
    "            return\n",
    "        \n",
    "        if ns*nums[0] > target or ns*nums[-1] < target:\n",
    "            return     # nums[-1] 等价于 nums[len(nums)-1]\n",
    "        \n",
    "        if ns < 2:\n",
    "            return\n",
    "        \n",
    "        elif ns > 2: # recursively reduce ns\n",
    "            for i in xrange (nn - ns + 1):\n",
    "                if i > 0 and nums[i] == nums[i-1]:\n",
    "                    continue\n",
    "                newTarget = target - nums[i]\n",
    "                newRst    = rst + [nums[i]]\n",
    "                self.N_Sum ( nums[i+1:], ns-1, newTarget, newRst, rsts )\n",
    "                            \n",
    "        else: # two-point to solve the 2-sum problem --\n",
    "            l, r = 0, nn - 1\n",
    "            while l < r:\n",
    "                s = nums[l] + nums[r]\n",
    "                if s < target:\n",
    "                    l += 1\n",
    "                elif s > target:\n",
    "                    r -= 1\n",
    "                else:\n",
    "                    rsts.append ( rst + [ nums[l], nums[r] ] )\n",
    "                    while l < r and nums[l] == nums[l+1]:\n",
    "                        l += 1\n",
    "                    while l < r and nums[r] == nums[r-1]:\n",
    "                        r -= 1\n",
    "                    l += 1\n",
    "                    r -= 1\n",
    "        return # 有无 return 其实无所谓#  Testing ----"
   ]
  },
  {
   "cell_type": "code",
   "execution_count": 32,
   "metadata": {},
   "outputs": [
    {
     "name": "stdout",
     "output_type": "stream",
     "text": [
      "[[-2, -1, 1, 2], [-2, 0, 0, 2], [-1, 0, 0, 1]]\n"
     ]
    }
   ],
   "source": [
    "#  Testing ----\n",
    "if __name__ == \"__main__\":\n",
    "    print Solution_3 ().fourSum ( [1, 0, -1, 0, -2, 2], 0 )"
   ]
  }
 ],
 "metadata": {
  "kernelspec": {
   "display_name": "Python 2",
   "language": "python",
   "name": "python2"
  },
  "language_info": {
   "codemirror_mode": {
    "name": "ipython",
    "version": 2
   },
   "file_extension": ".py",
   "mimetype": "text/x-python",
   "name": "python",
   "nbconvert_exporter": "python",
   "pygments_lexer": "ipython2",
   "version": "2.7.13"
  }
 },
 "nbformat": 4,
 "nbformat_minor": 2
}

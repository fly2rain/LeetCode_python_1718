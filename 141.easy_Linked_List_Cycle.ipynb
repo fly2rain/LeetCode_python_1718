{
 "cells": [
  {
   "cell_type": "markdown",
   "metadata": {},
   "source": [
    "# 141.easy_Linked_List_Cycle\n",
    "### 链接\n",
    "\n",
    "* 题目：https://leetcode.com/problems/linked-list-cycle/solution/\n",
    "\n",
    "### 题意\n",
    "* 给定 linked list, 确定它含有 cycle 与否？\n",
    "* Follow up: 不使用 extra space\n",
    "\n",
    "### 分析\n",
    "* 如何确定 linked list 包含有环呢？可通过检查 node 是否已经存在过，可以通过 hash table 的方法：把 linked list 存在 hash table 中，通过逐个检索每个元素是否应存在于 hash table。\n",
    "* 如何不适用 extra space 呢？cycle 应该存在 node，同时被两个 next 指向，如何翻遍地确定呢？参考链接：https://leetcode.com/problems/linked-list-cycle/solution/\n",
    "\n",
    "### 编程经验\n",
    "\n",
    "```python\n",
    "```"
   ]
  },
  {
   "cell_type": "markdown",
   "metadata": {},
   "source": [
    "# Method #1: ever exist before by using hash table"
   ]
  },
  {
   "cell_type": "code",
   "execution_count": null,
   "metadata": {
    "collapsed": true
   },
   "outputs": [],
   "source": [
    "# Definition for singly-linked list.\n",
    "# class ListNode(object):\n",
    "#     def __init__(self, x):\n",
    "#         self.val = x\n",
    "#         self.next = None\n",
    "\n",
    "class Solution(object):\n",
    "    def hasCycle(self, head):\n",
    "        \"\"\"\n",
    "        :type head: ListNode\n",
    "        :rtype: bool\n",
    "        \"\"\"\n",
    "        curr = head\n",
    "        dic  = {}\n",
    "        \n",
    "        while curr:\n",
    "            if curr in dic:\n",
    "                return True\n",
    "            else:\n",
    "                dic[curr] = 0\n",
    "            curr = curr.next \n",
    "        return False"
   ]
  },
  {
   "cell_type": "markdown",
   "metadata": {},
   "source": [
    "# Method #2: two point to race\n",
    "* ref: https://discuss.leetcode.com/topic/47383/in-place-python-code-beats-90\n",
    "* 经验：liked list 当前存在才能指向下一个"
   ]
  },
  {
   "cell_type": "code",
   "execution_count": 6,
   "metadata": {
    "collapsed": true
   },
   "outputs": [],
   "source": [
    "# Definition for singly-linked list.\n",
    "# class ListNode(object):\n",
    "#     def __init__(self, x):\n",
    "#         self.val = x\n",
    "#         self.next = None\n",
    "\n",
    "class Solution(object):\n",
    "    def hasCycle(self, head):\n",
    "        \"\"\"\n",
    "        :type head: ListNode\n",
    "        :rtype: bool\n",
    "        \"\"\"\n",
    "        fast = slow = head\n",
    "        \n",
    "        # while slow and fast and fast.next: # 当前存在才能指向下一个\n",
    "        while fast and fast.next: # fast 永远跑得比 slow 快，判断它就可以\n",
    "            slow = slow.next\n",
    "            fast = fast.next.next\n",
    "            \n",
    "            if slow == fast:\n",
    "                return True\n",
    "            \n",
    "        return Falss"
   ]
  },
  {
   "cell_type": "markdown",
   "metadata": {},
   "source": [
    "* https://discuss.leetcode.com/topic/10255/very-clear-python-solution-where-you-don-t-need-to-worry-about-the-corner-case"
   ]
  },
  {
   "cell_type": "code",
   "execution_count": 7,
   "metadata": {},
   "outputs": [
    {
     "name": "stdout",
     "output_type": "stream",
     "text": [
      "[0, 1]\n"
     ]
    }
   ],
   "source": [
    "# Definition for singly-linked list.\n",
    "# class ListNode(object):\n",
    "#     def __init__(self, x):\n",
    "#         self.val = x\n",
    "#         self.next = None\n",
    "\n",
    "class Solution(object):\n",
    "    def hasCycle(self, head):\n",
    "        \"\"\"\n",
    "        :type head: ListNode\n",
    "        :rtype: bool\n",
    "        \"\"\"\n",
    "        try:\n",
    "            # 如果有指针指向 list 结尾 或 一直不相等，则返回\n",
    "            slow = head\n",
    "            fast = head.next\n",
    "            while slow is not fast:\n",
    "                slow = slow.next\n",
    "                fast = fast.next.next\n",
    "            return True\n",
    "        except:\n",
    "            return False\n",
    "                "
   ]
  }
 ],
 "metadata": {
  "kernelspec": {
   "display_name": "Python 2",
   "language": "python",
   "name": "python2"
  },
  "language_info": {
   "codemirror_mode": {
    "name": "ipython",
    "version": 2
   },
   "file_extension": ".py",
   "mimetype": "text/x-python",
   "name": "python",
   "nbconvert_exporter": "python",
   "pygments_lexer": "ipython2",
   "version": "2.7.13"
  }
 },
 "nbformat": 4,
 "nbformat_minor": 2
}

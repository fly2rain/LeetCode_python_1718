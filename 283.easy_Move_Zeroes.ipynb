{
 "cells": [
  {
   "cell_type": "markdown",
   "metadata": {},
   "source": [
    "# 283.Move_Zeroes_easy\n",
    "### 链接\n",
    "\n",
    "* 题目：https://leetcode.com/problems/move-zeroes/description/\n",
    "\n",
    "### 题意\n",
    "Given an array nums, write a function to move all 0's to the end of it while maintaining the relative order of the non-zero elements.\n",
    "\n",
    "For example, given nums = [0, 1, 0, 3, 12], after calling your function, nums should be [1, 3, 12, 0, 0].\n",
    "\n",
    "### 分析\n",
    "* 题意很明白了吧。其实很简单，维护好一个 index，便利完 array，从这个 index 倒 array 结尾全赋值为 0 即可。因为 0 和 0 之间不存在差异。\n",
    "* 额外要求，in-place 操作。最小化操作数。\n",
    "\n",
    "### 编程经验\n",
    "* Method-1: (Space Optimal, Operation Sub-Optimal) [Accepted]; Methdo-2: (Optimal) [Accepted]. Both methods are constant Space Complexity: O(1). Time Complexity: O(n).\n",
    "cf. https://leetcode.com/problems/move-zeroes/solution/\n",
    "* 目前为止，算法的三种复杂度：**time complexity，space complexity and operation complexity**.\n",
    "\n",
    "```python\n",
    "```"
   ]
  },
  {
   "cell_type": "markdown",
   "metadata": {},
   "source": [
    "# Method # 1：单个 point，操作数 O(n)\n",
    "* Constant Space Complexity: O(1). Time Complexity: O(n).\n",
    "* (Space Optimal, Operation Sub-Optimal) [Accepted]"
   ]
  },
  {
   "cell_type": "code",
   "execution_count": 5,
   "metadata": {
    "collapsed": true
   },
   "outputs": [],
   "source": [
    "class Solution(object):\n",
    "    def moveZeroes(self, nums):\n",
    "        \"\"\"\n",
    "        :type nums: List[int]\n",
    "        :rtype: void Do not return anything, modify nums in-place instead.\n",
    "        \"\"\"\n",
    "        rst = 0\n",
    "        for i, x in enumerate (nums):\n",
    "            if not x:\n",
    "                continue\n",
    "            nums[rst] = x\n",
    "            rst += 1\n",
    "        \n",
    "        nums[rst:] = [0]*(len(nums)-rst) "
   ]
  },
  {
   "cell_type": "code",
   "execution_count": 6,
   "metadata": {},
   "outputs": [
    {
     "name": "stdout",
     "output_type": "stream",
     "text": [
      "[1, 2, 123, 0, 0, 0]\n"
     ]
    }
   ],
   "source": [
    "if __name__ == '__main__':\n",
    "    a = [1,0,2,0,123,0]\n",
    "    Solution_2 ().moveZeroes (a)\n",
    "    print a"
   ]
  },
  {
   "cell_type": "markdown",
   "metadata": {},
   "source": [
    "# Method # 2：two point, 操作数远小于 O(n）\n",
    "* Constant Space Complexity: O(1). Time Complexity: O(n).\n",
    "* (Optimal) [Accepted]\n",
    "分析：\n",
    "* 如果 nums[i] != 0, zero 和 i 都 + 1\n",
    "* 直到碰到 nums[i]==0, zero 固定不动，i 继续增长。找到后续第一个 nums[i]!=0, 交换位置。zero += 1 指向下一个 0 的位置。\n",
    "* 深度分析：这是 2 point 的方法，两个 point 之间（即，从 zero 到 i 之间）是一段 0 sub-list（zero == i 时，表示它们之间没有 0）。"
   ]
  },
  {
   "cell_type": "code",
   "execution_count": 3,
   "metadata": {
    "collapsed": true
   },
   "outputs": [],
   "source": [
    "class Solution_2 (object):\n",
    "    def moveZeroes(self, nums):\n",
    "        \"\"\"\n",
    "        :type nums: List[int]\n",
    "        :rtype: void Do not return anything, modify nums in-place instead.\n",
    "        \"\"\"\n",
    "        zero = 0 # record the position of value zero.\n",
    "        for i, x in enumerate (nums):\n",
    "            if x == 0:\n",
    "                continue\n",
    "            nums[i], nums[zero] = nums[zero], nums[i]\n",
    "            zero += 1"
   ]
  },
  {
   "cell_type": "code",
   "execution_count": 4,
   "metadata": {},
   "outputs": [
    {
     "name": "stdout",
     "output_type": "stream",
     "text": [
      "[1, 2, 123, 0, 0, 0]\n"
     ]
    }
   ],
   "source": [
    "if __name__ == '__main__':\n",
    "    a = [1,0,2,0,123,0]\n",
    "    Solution_2 ().moveZeroes (a)\n",
    "    print a"
   ]
  },
  {
   "cell_type": "code",
   "execution_count": null,
   "metadata": {
    "collapsed": true
   },
   "outputs": [],
   "source": []
  }
 ],
 "metadata": {
  "kernelspec": {
   "display_name": "Python 2",
   "language": "python",
   "name": "python2"
  },
  "language_info": {
   "codemirror_mode": {
    "name": "ipython",
    "version": 2
   },
   "file_extension": ".py",
   "mimetype": "text/x-python",
   "name": "python",
   "nbconvert_exporter": "python",
   "pygments_lexer": "ipython2",
   "version": "2.7.13"
  }
 },
 "nbformat": 4,
 "nbformat_minor": 2
}

{
 "cells": [
  {
   "cell_type": "markdown",
   "metadata": {},
   "source": [
    "\n",
    "# 347.medium_Top_K_Frequent_Elements\n",
    "### 链接\n",
    "\n",
    "* 题目：https://leetcode.com/problems/top-k-frequent-elements/description/\n",
    "\n",
    "### 题意\n",
    "* 给定非空 array，找出头 k 个高频元素\n",
    "* Exp\n",
    "  Given [1,1,1,2,2,3] and k = 2, return [1,2].\n",
    "* 假设 k 是介于1 和 unqiue 元素个数。\n",
    "* 要求：算法复杂度 must be better than O(n log n), where n is the array's size.\n",
    "\n",
    "### 分析\n",
    "* 算法复杂度好于 O(n log n), 说明不能 sort 了。\n",
    "* 估计还是用 dict, 能统计出来每个 unique 元素的频数，至于如何找到 top k 只能对频数 sorted 了。\n",
    "\n",
    "### 编程经验\n",
    "\n",
    "使用 dict 统计频数的两种方法：\n",
    "\n",
    "```python\n",
    "# 方法 #1 ----------------------\n",
    "dic = {}  # 构建dict，统计 unique 元素出现的次数\n",
    "for x in nums:\n",
    "    try:\n",
    "        dic[x] += 1\n",
    "    except:\n",
    "        dic[x]  = 1\n",
    "        \n",
    "# 方法 #2 ----------------------\n",
    "counts = {}\n",
    "for x in nums:\n",
    "    counts[x] = counts.setdefault(x, 0) + 1\n",
    "        \n",
    "```"
   ]
  },
  {
   "cell_type": "markdown",
   "metadata": {},
   "source": [
    "# Method #1"
   ]
  },
  {
   "cell_type": "code",
   "execution_count": null,
   "metadata": {
    "collapsed": true
   },
   "outputs": [],
   "source": [
    "class Solution(object):\n",
    "    def topKFrequent(self, nums, k):\n",
    "        \"\"\"\n",
    "        :type nums: List[int]\n",
    "        :type k: int\n",
    "        :rtype: List[int]\n",
    "        \"\"\"\n",
    "        dic = {}\n",
    "        # 构建dict，统计 unique 元素出现的次数\n",
    "        for x in nums:\n",
    "            try:\n",
    "                dic[x] += 1\n",
    "            except:\n",
    "                dic[x]  = 1\n",
    "                \n",
    "        # 找出 top k 出现频数，这样的方法比较慢，其实可以用 quick select　快速解决\n",
    "        listP = dic.values ()\n",
    "        listP.sort ()\n",
    "        tmp   = listP[-k]\n",
    "        \n",
    "        rst = []\n",
    "        for k, v in dic.items ():\n",
    "            if v < tmp:\n",
    "                continue\n",
    "            rst.append (k)\n",
    "            \n",
    "        return rst                 "
   ]
  },
  {
   "cell_type": "code",
   "execution_count": null,
   "metadata": {
    "collapsed": true
   },
   "outputs": [],
   "source": [
    "#  Testing ----\n",
    "if __name__ == '__main__':\n",
    "    print Solution_2 (). "
   ]
  },
  {
   "cell_type": "markdown",
   "metadata": {},
   "source": [
    "# Method #2\n",
    "\n",
    "* https://discuss.leetcode.com/topic/44313/3-ways-to-solve-this-problem\n",
    "    * 啥是 heap\n",
    "    * 啥事 quick select\n",
    "    "
   ]
  },
  {
   "cell_type": "code",
   "execution_count": 6,
   "metadata": {
    "collapsed": true
   },
   "outputs": [],
   "source": []
  },
  {
   "cell_type": "code",
   "execution_count": 7,
   "metadata": {
    "collapsed": false
   },
   "outputs": [
    {
     "name": "stdout",
     "output_type": "stream",
     "text": [
      "[0, 1]\n"
     ]
    }
   ],
   "source": [
    "#  Testing ----\n",
    "if __name__ == '__main__':\n",
    "    print Solution_2 ()."
   ]
  }
 ],
 "metadata": {
  "kernelspec": {
   "display_name": "Python 2",
   "language": "python",
   "name": "python2"
  },
  "language_info": {
   "codemirror_mode": {
    "name": "ipython",
    "version": 2
   },
   "file_extension": ".py",
   "mimetype": "text/x-python",
   "name": "python",
   "nbconvert_exporter": "python",
   "pygments_lexer": "ipython2",
   "version": "2.7.13"
  }
 },
 "nbformat": 4,
 "nbformat_minor": 2
}

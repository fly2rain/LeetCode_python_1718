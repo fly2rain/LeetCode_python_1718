{
 "cells": [
  {
   "cell_type": "markdown",
   "metadata": {},
   "source": [
    "# 611.medium_Valid_Triangle_Number\n",
    "### 链接\n",
    "\n",
    "* 题目：https://leetcode.com/problems/valid-triangle-number/description/\n",
    "\n",
    "### 题意\n",
    "* 给一堆数据，这堆数据存放在array中，查找有多少个三元组数据能够构成三角形\n",
    "\n",
    "### 分析\n",
    "* https://leetcode.com/problems/valid-triangle-number/solution/\n",
    "\n",
    "### 编程经验\n",
    "\n",
    "```python\n",
    "```"
   ]
  },
  {
   "cell_type": "markdown",
   "metadata": {},
   "source": [
    "# Method #1"
   ]
  },
  {
   "cell_type": "code",
   "execution_count": 8,
   "metadata": {
    "collapsed": true
   },
   "outputs": [],
   "source": [
    "class Solution(object):\n",
    "    def triangleNumber(self, nums):\n",
    "        \"\"\"\n",
    "        :type nums: List[int]\n",
    "        :rtype: int\n",
    "        \"\"\"\n",
    "        rst = 0\n",
    "        nn  = len (nums)\n",
    "        if nn < 3:\n",
    "            return rst\n",
    "        \n",
    "        nums.sort ()\n",
    "        for i in xrange (nn - 2):\n",
    "            \n",
    "            l, r = i + 1, nn - 1\n",
    "            while l < r:\n",
    "                if nums[i] + nums[l] > nums[r]:\n",
    "                    rst += r - l\n",
    "                    r   -= 1\n",
    "                else:\n",
    "                    l   += 1\n",
    "        return rst                    "
   ]
  },
  {
   "cell_type": "code",
   "execution_count": 9,
   "metadata": {
    "collapsed": false
   },
   "outputs": [
    {
     "name": "stdout",
     "output_type": "stream",
     "text": [
      "2\n"
     ]
    }
   ],
   "source": [
    "if __name__ == '__main__':\n",
    "    print Solution ().triangleNumber ( [2,2,3,4] )"
   ]
  },
  {
   "cell_type": "markdown",
   "metadata": {},
   "source": [
    "# Method #2"
   ]
  }
 ],
 "metadata": {
  "kernelspec": {
   "display_name": "Python 2",
   "language": "python",
   "name": "python2"
  },
  "language_info": {
   "codemirror_mode": {
    "name": "ipython",
    "version": 2
   },
   "file_extension": ".py",
   "mimetype": "text/x-python",
   "name": "python",
   "nbconvert_exporter": "python",
   "pygments_lexer": "ipython2",
   "version": "2.7.13"
  }
 },
 "nbformat": 4,
 "nbformat_minor": 2
}
